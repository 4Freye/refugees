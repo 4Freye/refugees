{
 "cells": [
  {
   "cell_type": "code",
   "execution_count": 2,
   "metadata": {},
   "outputs": [],
   "source": [
    "import pandas as pd\n",
    "import numpy as np"
   ]
  },
  {
   "attachments": {},
   "cell_type": "markdown",
   "metadata": {},
   "source": [
    "### Clean the UNHCR dataset\n",
    "To clean the UNHCR data, I:\n",
    "- Drop duplicate rows for Antigua and Barbuda\n",
    "- Replace non contiguous values with contiguous values where necessary\n",
    "- Remove problematic observations based on SuddenREFROCDecreases.xlsx - provided by Geraldine."
   ]
  },
  {
   "cell_type": "code",
   "execution_count": 357,
   "metadata": {},
   "outputs": [],
   "source": [
    "# remove duplicate rows\n",
    "df = pd.read_csv('raw/data.csv',engine='pyarrow').drop_duplicates(['Id','year']).drop('', axis=1)\n",
    "\n",
    "# replace contig values that should be ones but are zeros\n",
    "df.loc[df.Id.isin(['CODUGA','UGACOD','SDNSSD','SSDSDN','SSDETH','ETHSSD','SSDUGA','UGASSD','CODCOG','COGCOD','CAFCOD','CODCAF','CODBDI','BDICOD','SSDKEN','KENSSD','SSDCOD','CODSSD','CODZMB','ZMBCOD',]), 'contig'] = 1\n",
    "\n",
    "# remove problematic observations\n",
    "df.loc[(df.Id == 'CODAGO') & df.year.isin([2017, 2018]), 'newarrival'] = np.nan\n",
    "\n",
    "df.loc[df.Id == 'AFGIRN', 'newarrival']= np.nan\n",
    "\n",
    "df.loc[df.Id == 'AFGPAK', 'newarrival'] = np.nan\n",
    "\n",
    "df.loc[df.Id == 'ERTSDN', 'newarrival']= np.nan\n",
    "\n",
    "df.loc[(df.Id == 'SYRTUR') & (df.year > 2018), 'newarrival']= np.nan\n",
    "\n",
    "# remove anything after 2021\n",
    "df = df[df.year <= 2021]\n",
    "\n",
    "df.to_csv('clean/unhcr.csv', index=False)"
   ]
  },
  {
   "attachments": {},
   "cell_type": "markdown",
   "metadata": {},
   "source": [
    "### Cleaning the Migration data\n",
    "This migration stock data comes from [Our World in Data](https://ourworldindata.org/migration#explore-data-on-where-people-migrate-from-and-to)\n",
    "It is every five years from 1990 to 2020.\n",
    "\n",
    "- I read the data in\n",
    "- Add 2021\n",
    "- Melt it to long format\n",
    "- I forward fill the data because these migration stocks are only released every five years.\n",
    "- Use country converter to convert names to iso 3 codes."
   ]
  },
  {
   "cell_type": "code",
   "execution_count": 435,
   "metadata": {},
   "outputs": [],
   "source": [
    "df = pd.read_csv('raw/migration-flows.csv', engine='pyarrow').rename({'Year':'year'},axis=1)\n",
    "df = df.loc[:,~df.columns.str.contains('_origin|_destination')]\n",
    "df = df[df.year >= 2000]\n",
    "\n",
    "df['year'] = pd.to_datetime(df.year, format='%Y')\n",
    "\n",
    "df_2021 = df[df.year == pd.to_datetime('2020', format='%Y')].copy()\n",
    "\n",
    "# change 2020 to 2021\n",
    "df_2021['year'] += pd.Timedelta(366, unit='d')\n",
    "\n",
    "# concatenate 2021 w/ rest\n",
    "df = pd.concat([df, df_2021], axis=0)"
   ]
  },
  {
   "attachments": {},
   "cell_type": "markdown",
   "metadata": {},
   "source": [
    "I melt the data frame, and fill in missing years."
   ]
  },
  {
   "cell_type": "code",
   "execution_count": 436,
   "metadata": {},
   "outputs": [],
   "source": [
    "# melt df, split Emigrants Immigrants columns, filter out rows with same origin and destination\n",
    "df = df.melt(id_vars=['Country','year'], var_name='Country_d').rename({'Country':'Country_o'}, axis=1).fillna(0)\n",
    "df[['EmigrantsImmigrants', 'Country_d']] =  df.Country_d.str.split(' from | to ', expand=True)\n",
    "df = df[(df.Country_d != df.Country_o)]\n",
    "\n",
    "# for values that say emigrants, switch the origin with destination\n",
    "emigrants_mask = df['EmigrantsImmigrants'] == 'Emigrants'\n",
    "df.loc[emigrants_mask, ['Country_o', 'Country_d']] = df.loc[emigrants_mask, ['Country_d', 'Country_o']].values\n",
    "\n",
    "df = df[['year', 'Country_o', 'EmigrantsImmigrants', 'Country_d', 'value']].drop('EmigrantsImmigrants', axis=1).drop_duplicates(['year','Country_o','Country_d'])\n",
    "df.value = df.value.abs()"
   ]
  },
  {
   "attachments": {},
   "cell_type": "markdown",
   "metadata": {},
   "source": [
    "Country long names get replaced with iso 3 short names using country converter."
   ]
  },
  {
   "cell_type": "code",
   "execution_count": 437,
   "metadata": {},
   "outputs": [
    {
     "name": "stderr",
     "output_type": "stream",
     "text": [
      "Caribbean not found in regex\n",
      "Channel Islands not found in regex\n",
      "Polynesia not found in regex\n"
     ]
    }
   ],
   "source": [
    "# convert the country names to iso3\n",
    "import country_converter as coco\n",
    "iso3_unique = coco.convert(names=df.Country_o.unique(), to='ISO3')\n",
    "iso_3_dict = dict(zip(df.Country_o.unique(), iso3_unique))\n",
    "\n",
    "df[['Country_o','Country_d']] = df[['Country_o','Country_d']].apply(lambda x: x.map(iso_3_dict))\n",
    "df.rename({'Country_o':'iso_o','Country_d':'iso_d', 'value':'migration_stock'}, axis=1,inplace=True)"
   ]
  },
  {
   "cell_type": "code",
   "execution_count": 438,
   "metadata": {},
   "outputs": [],
   "source": [
    "# I convert stock data to the percent of migrants both from the perspective of the origin country and destination country.\n",
    "unhcr_data = pd.read_csv('clean/unhcr.csv', engine='pyarrow')[['iso_o','iso_d','year','pop_o','pop_d']].drop_duplicates(['iso_o','iso_d','year'])"
   ]
  },
  {
   "cell_type": "code",
   "execution_count": 439,
   "metadata": {},
   "outputs": [],
   "source": [
    "df.rename({'year':'Year'}, inplace=True, axis=1)\n",
    "df['year'] = df.Year.dt.year"
   ]
  },
  {
   "cell_type": "code",
   "execution_count": 440,
   "metadata": {},
   "outputs": [],
   "source": [
    "df = unhcr_data.merge(df, on=['iso_o','iso_d','year'], how='left')\n",
    "df[['migration_stock_pct_o','migration_stock_pct_d']] = df[['pop_o','pop_d']].apply(lambda x: df.migration_stock/(x*1000))"
   ]
  },
  {
   "cell_type": "code",
   "execution_count": 442,
   "metadata": {},
   "outputs": [],
   "source": [
    "df = df.drop(['pop_o','pop_d','Year'],axis=1).rename({'Year':'year'},axis=1)"
   ]
  },
  {
   "cell_type": "code",
   "execution_count": 443,
   "metadata": {},
   "outputs": [],
   "source": [
    "# fill in missing years.\n",
    "df = df.set_index(['year','iso_o','iso_d']).groupby(['iso_o', 'iso_d']).fillna(method='ffill')\n",
    "# df['years_since_migration_report'] = df.index.get_level_values('year').year % 5\n",
    "df.reset_index(inplace=True)"
   ]
  },
  {
   "cell_type": "code",
   "execution_count": 446,
   "metadata": {},
   "outputs": [],
   "source": [
    "# write to csv\n",
    "df.to_csv('clean/migration_stocks.csv', index=False)"
   ]
  },
  {
   "attachments": {},
   "cell_type": "markdown",
   "metadata": {},
   "source": [
    "### Cleaning IDP data \n",
    "\n",
    "This IDP data on internally displaced people comes from the IDMC https://www.internal-displacement.org/database/displacement-data.\n",
    "\n",
    "It is yearly from 2008 to 2022, and contains data on both the stock of internally displace peoples and the new amount that year.\n",
    "\n",
    "As a prior, let's say that disaster idp is irrelevant to refugee newarrivals and drop disaster idp data."
   ]
  },
  {
   "cell_type": "code",
   "execution_count": 259,
   "metadata": {},
   "outputs": [],
   "source": [
    "# read in an rename columns\n",
    "idp_df = pd.read_excel('raw/IDMC_Internal_Displacement_Conflict-Violence_Disasters.xlsx').rename({'Year':'year','Name':'Country','ISO3':'iso','Conflict Stock Displacement (Raw)':'conflict_stock_idp', 'Conflict Internal Displacements (Raw)':'conflict_idp',\n",
    "       'Disaster Internal Displacements (Raw)':'disaster_idp',\n",
    "       'Disaster Stock Displacement (Raw)':'disaster_stock_idp'}, axis=1).drop(['Country','Conflict Stock Displacement','Conflict Internal Displacements','Disaster Internal Displacements','Disaster Stock Displacement', \n",
    "       'disaster_stock_idp','disaster_idp'], axis=1)\n",
    "\n",
    "unhcr_data = pd.read_csv('raw/data.csv', engine='pyarrow')[['iso_o','year','pop_o']].drop_duplicates(['iso_o','year'])\n",
    "newarrival_o = pd.read_csv('raw/data.csv', engine='pyarrow').groupby(['iso_o','year']).newarrival.sum().reset_index()\n",
    "unhcr_data = unhcr_data.merge(newarrival_o, on=['iso_o','year'], how='left')"
   ]
  },
  {
   "cell_type": "code",
   "execution_count": 260,
   "metadata": {},
   "outputs": [],
   "source": [
    "merged_idp = unhcr_data.merge(idp_df, how='left', left_on=['iso_o','year'], right_on=['iso','year']).drop('iso',axis=1)\n",
    "#merged_idp['disaster_pct'] = (merged_idp.disaster_idp/merged_idp.pop_o/1000000)"
   ]
  },
  {
   "attachments": {},
   "cell_type": "markdown",
   "metadata": {},
   "source": [
    "There is a significant amount of data that are missing in the idp data:"
   ]
  },
  {
   "cell_type": "code",
   "execution_count": 261,
   "metadata": {},
   "outputs": [
    {
     "name": "stdout",
     "output_type": "stream",
     "text": [
      "proportion missing\n"
     ]
    },
    {
     "data": {
      "text/plain": [
       "iso_o                 0.000000\n",
       "year                  0.000000\n",
       "pop_o                 0.000000\n",
       "newarrival            0.000000\n",
       "conflict_stock_idp    0.852041\n",
       "conflict_idp          0.864694\n",
       "dtype: float64"
      ]
     },
     "execution_count": 261,
     "metadata": {},
     "output_type": "execute_result"
    }
   ],
   "source": [
    "print('proportion missing')\n",
    "merged_idp.isna().sum() / merged_idp.shape[0]"
   ]
  },
  {
   "attachments": {},
   "cell_type": "markdown",
   "metadata": {},
   "source": [
    "Can we assume that this data is missing because the values should be zero?"
   ]
  },
  {
   "cell_type": "code",
   "execution_count": 262,
   "metadata": {},
   "outputs": [
    {
     "data": {
      "text/html": [
       "<div>\n",
       "<style scoped>\n",
       "    .dataframe tbody tr th:only-of-type {\n",
       "        vertical-align: middle;\n",
       "    }\n",
       "\n",
       "    .dataframe tbody tr th {\n",
       "        vertical-align: top;\n",
       "    }\n",
       "\n",
       "    .dataframe thead th {\n",
       "        text-align: right;\n",
       "    }\n",
       "</style>\n",
       "<table border=\"1\" class=\"dataframe\">\n",
       "  <thead>\n",
       "    <tr style=\"text-align: right;\">\n",
       "      <th></th>\n",
       "      <th>iso_o</th>\n",
       "      <th>year</th>\n",
       "      <th>pop_o</th>\n",
       "      <th>newarrival</th>\n",
       "      <th>conflict_stock_idp</th>\n",
       "      <th>conflict_idp</th>\n",
       "    </tr>\n",
       "  </thead>\n",
       "  <tbody>\n",
       "    <tr>\n",
       "      <th>4768</th>\n",
       "      <td>VEN</td>\n",
       "      <td>2018</td>\n",
       "      <td>28.903</td>\n",
       "      <td>2508056.5</td>\n",
       "      <td>NaN</td>\n",
       "      <td>NaN</td>\n",
       "    </tr>\n",
       "    <tr>\n",
       "      <th>4769</th>\n",
       "      <td>VEN</td>\n",
       "      <td>2019</td>\n",
       "      <td>27.817</td>\n",
       "      <td>1524435.0</td>\n",
       "      <td>NaN</td>\n",
       "      <td>NaN</td>\n",
       "    </tr>\n",
       "    <tr>\n",
       "      <th>4771</th>\n",
       "      <td>VEN</td>\n",
       "      <td>2021</td>\n",
       "      <td>27.586</td>\n",
       "      <td>664573.0</td>\n",
       "      <td>NaN</td>\n",
       "      <td>NaN</td>\n",
       "    </tr>\n",
       "    <tr>\n",
       "      <th>4770</th>\n",
       "      <td>VEN</td>\n",
       "      <td>2020</td>\n",
       "      <td>27.951</td>\n",
       "      <td>572356.0</td>\n",
       "      <td>NaN</td>\n",
       "      <td>NaN</td>\n",
       "    </tr>\n",
       "    <tr>\n",
       "      <th>3933</th>\n",
       "      <td>SOM</td>\n",
       "      <td>2008</td>\n",
       "      <td>11.400</td>\n",
       "      <td>150764.0</td>\n",
       "      <td>NaN</td>\n",
       "      <td>NaN</td>\n",
       "    </tr>\n",
       "    <tr>\n",
       "      <th>...</th>\n",
       "      <td>...</td>\n",
       "      <td>...</td>\n",
       "      <td>...</td>\n",
       "      <td>...</td>\n",
       "      <td>...</td>\n",
       "      <td>...</td>\n",
       "    </tr>\n",
       "    <tr>\n",
       "      <th>2965</th>\n",
       "      <td>MOZ</td>\n",
       "      <td>2015</td>\n",
       "      <td>27.042</td>\n",
       "      <td>1005.0</td>\n",
       "      <td>NaN</td>\n",
       "      <td>NaN</td>\n",
       "    </tr>\n",
       "    <tr>\n",
       "      <th>3566</th>\n",
       "      <td>ROU</td>\n",
       "      <td>2016</td>\n",
       "      <td>19.761</td>\n",
       "      <td>1004.0</td>\n",
       "      <td>NaN</td>\n",
       "      <td>NaN</td>\n",
       "    </tr>\n",
       "    <tr>\n",
       "      <th>3011</th>\n",
       "      <td>NAM</td>\n",
       "      <td>2011</td>\n",
       "      <td>2.116</td>\n",
       "      <td>1003.0</td>\n",
       "      <td>NaN</td>\n",
       "      <td>NaN</td>\n",
       "    </tr>\n",
       "    <tr>\n",
       "      <th>4760</th>\n",
       "      <td>VEN</td>\n",
       "      <td>2010</td>\n",
       "      <td>28.524</td>\n",
       "      <td>1002.0</td>\n",
       "      <td>NaN</td>\n",
       "      <td>NaN</td>\n",
       "    </tr>\n",
       "    <tr>\n",
       "      <th>4858</th>\n",
       "      <td>ZMB</td>\n",
       "      <td>2008</td>\n",
       "      <td>13.115</td>\n",
       "      <td>1001.0</td>\n",
       "      <td>NaN</td>\n",
       "      <td>NaN</td>\n",
       "    </tr>\n",
       "  </tbody>\n",
       "</table>\n",
       "<p>559 rows × 6 columns</p>\n",
       "</div>"
      ],
      "text/plain": [
       "     iso_o  year   pop_o  newarrival  conflict_stock_idp  conflict_idp\n",
       "4768   VEN  2018  28.903   2508056.5                 NaN           NaN\n",
       "4769   VEN  2019  27.817   1524435.0                 NaN           NaN\n",
       "4771   VEN  2021  27.586    664573.0                 NaN           NaN\n",
       "4770   VEN  2020  27.951    572356.0                 NaN           NaN\n",
       "3933   SOM  2008  11.400    150764.0                 NaN           NaN\n",
       "...    ...   ...     ...         ...                 ...           ...\n",
       "2965   MOZ  2015  27.042      1005.0                 NaN           NaN\n",
       "3566   ROU  2016  19.761      1004.0                 NaN           NaN\n",
       "3011   NAM  2011   2.116      1003.0                 NaN           NaN\n",
       "4760   VEN  2010  28.524      1002.0                 NaN           NaN\n",
       "4858   ZMB  2008  13.115      1001.0                 NaN           NaN\n",
       "\n",
       "[559 rows x 6 columns]"
      ]
     },
     "execution_count": 262,
     "metadata": {},
     "output_type": "execute_result"
    }
   ],
   "source": [
    "# number of rows where conflict data is missing AND the number of refugees is greater than 10,000 AND the year is greater than equal to 2008\n",
    "merged_idp[merged_idp.conflict_idp.isna() & (merged_idp.newarrival > 1000) & (merged_idp.year >= 2008)].sort_values(by='newarrival', ascending=False)"
   ]
  },
  {
   "cell_type": "code",
   "execution_count": 263,
   "metadata": {},
   "outputs": [
    {
     "data": {
      "text/html": [
       "<div>\n",
       "<style scoped>\n",
       "    .dataframe tbody tr th:only-of-type {\n",
       "        vertical-align: middle;\n",
       "    }\n",
       "\n",
       "    .dataframe tbody tr th {\n",
       "        vertical-align: top;\n",
       "    }\n",
       "\n",
       "    .dataframe thead th {\n",
       "        text-align: right;\n",
       "    }\n",
       "</style>\n",
       "<table border=\"1\" class=\"dataframe\">\n",
       "  <thead>\n",
       "    <tr style=\"text-align: right;\">\n",
       "      <th></th>\n",
       "      <th>iso_o</th>\n",
       "      <th>year</th>\n",
       "      <th>pop_o</th>\n",
       "      <th>newarrival</th>\n",
       "      <th>conflict_stock_idp</th>\n",
       "      <th>conflict_idp</th>\n",
       "    </tr>\n",
       "  </thead>\n",
       "  <tbody>\n",
       "    <tr>\n",
       "      <th>8</th>\n",
       "      <td>AFG</td>\n",
       "      <td>2008</td>\n",
       "      <td>22.997</td>\n",
       "      <td>29698.0</td>\n",
       "      <td>NaN</td>\n",
       "      <td>NaN</td>\n",
       "    </tr>\n",
       "    <tr>\n",
       "      <th>9</th>\n",
       "      <td>AFG</td>\n",
       "      <td>2009</td>\n",
       "      <td>23.596</td>\n",
       "      <td>41719.0</td>\n",
       "      <td>297000.0</td>\n",
       "      <td>0.0</td>\n",
       "    </tr>\n",
       "    <tr>\n",
       "      <th>10</th>\n",
       "      <td>AFG</td>\n",
       "      <td>2010</td>\n",
       "      <td>24.269</td>\n",
       "      <td>38424.0</td>\n",
       "      <td>352000.0</td>\n",
       "      <td>102000.0</td>\n",
       "    </tr>\n",
       "    <tr>\n",
       "      <th>11</th>\n",
       "      <td>AFG</td>\n",
       "      <td>2011</td>\n",
       "      <td>25.031</td>\n",
       "      <td>45420.0</td>\n",
       "      <td>450000.0</td>\n",
       "      <td>186000.0</td>\n",
       "    </tr>\n",
       "    <tr>\n",
       "      <th>12</th>\n",
       "      <td>AFG</td>\n",
       "      <td>2012</td>\n",
       "      <td>25.864</td>\n",
       "      <td>60632.0</td>\n",
       "      <td>492000.0</td>\n",
       "      <td>100400.0</td>\n",
       "    </tr>\n",
       "    <tr>\n",
       "      <th>...</th>\n",
       "      <td>...</td>\n",
       "      <td>...</td>\n",
       "      <td>...</td>\n",
       "      <td>...</td>\n",
       "      <td>...</td>\n",
       "      <td>...</td>\n",
       "    </tr>\n",
       "    <tr>\n",
       "      <th>4891</th>\n",
       "      <td>ZWE</td>\n",
       "      <td>2016</td>\n",
       "      <td>14.228</td>\n",
       "      <td>9435.0</td>\n",
       "      <td>NaN</td>\n",
       "      <td>NaN</td>\n",
       "    </tr>\n",
       "    <tr>\n",
       "      <th>4892</th>\n",
       "      <td>ZWE</td>\n",
       "      <td>2017</td>\n",
       "      <td>14.437</td>\n",
       "      <td>4523.0</td>\n",
       "      <td>NaN</td>\n",
       "      <td>NaN</td>\n",
       "    </tr>\n",
       "    <tr>\n",
       "      <th>4893</th>\n",
       "      <td>ZWE</td>\n",
       "      <td>2018</td>\n",
       "      <td>14.642</td>\n",
       "      <td>1908.0</td>\n",
       "      <td>NaN</td>\n",
       "      <td>NaN</td>\n",
       "    </tr>\n",
       "    <tr>\n",
       "      <th>4894</th>\n",
       "      <td>ZWE</td>\n",
       "      <td>2019</td>\n",
       "      <td>14.905</td>\n",
       "      <td>3371.0</td>\n",
       "      <td>NaN</td>\n",
       "      <td>NaN</td>\n",
       "    </tr>\n",
       "    <tr>\n",
       "      <th>4895</th>\n",
       "      <td>ZWE</td>\n",
       "      <td>2020</td>\n",
       "      <td>15.189</td>\n",
       "      <td>1196.0</td>\n",
       "      <td>NaN</td>\n",
       "      <td>NaN</td>\n",
       "    </tr>\n",
       "  </tbody>\n",
       "</table>\n",
       "<p>1088 rows × 6 columns</p>\n",
       "</div>"
      ],
      "text/plain": [
       "     iso_o  year   pop_o  newarrival  conflict_stock_idp  conflict_idp\n",
       "8      AFG  2008  22.997     29698.0                 NaN           NaN\n",
       "9      AFG  2009  23.596     41719.0            297000.0           0.0\n",
       "10     AFG  2010  24.269     38424.0            352000.0      102000.0\n",
       "11     AFG  2011  25.031     45420.0            450000.0      186000.0\n",
       "12     AFG  2012  25.864     60632.0            492000.0      100400.0\n",
       "...    ...   ...     ...         ...                 ...           ...\n",
       "4891   ZWE  2016  14.228      9435.0                 NaN           NaN\n",
       "4892   ZWE  2017  14.437      4523.0                 NaN           NaN\n",
       "4893   ZWE  2018  14.642      1908.0                 NaN           NaN\n",
       "4894   ZWE  2019  14.905      3371.0                 NaN           NaN\n",
       "4895   ZWE  2020  15.189      1196.0                 NaN           NaN\n",
       "\n",
       "[1088 rows x 6 columns]"
      ]
     },
     "execution_count": 263,
     "metadata": {},
     "output_type": "execute_result"
    }
   ],
   "source": [
    "# number of rows where the number of refugees is greater than 10,000 AND the year is greater than equal to 2008\n",
    "merged_idp[(merged_idp.newarrival > 1000) & (merged_idp.year >= 2008) ]"
   ]
  },
  {
   "attachments": {},
   "cell_type": "markdown",
   "metadata": {},
   "source": [
    "It seems that that half of the 1/2 of the outflows where the total number of outflows is greater than 1,000 are missing. This means that missing data isn't simply zero, and it actually is missing data.\n",
    "\n",
    "We'll need to convert this to some sort of categorical variable if we want to use it.\n",
    "\n",
    "Here is the current approach. Where we do $$log(\\frac{conflict\\_variable}{population \\text{ (in 1000s)}} + .0001)$$\n",
    "\n",
    "The .0001 is to ensure that an error is produced."
   ]
  },
  {
   "cell_type": "code",
   "execution_count": 264,
   "metadata": {},
   "outputs": [],
   "source": [
    "merged_idp[['conflict_stock_idp_pop', 'conflict_idp_pop']] = merged_idp[['conflict_stock_idp', 'conflict_idp']].apply(lambda x: np.log((x/ (merged_idp.pop_o * 1000))+.0001))"
   ]
  },
  {
   "attachments": {},
   "cell_type": "markdown",
   "metadata": {},
   "source": [
    "When we do this, we get a distribution where the values are mostly between -6 and 6. The most common value before was zero, which is what the value to the left of -8 is."
   ]
  },
  {
   "cell_type": "code",
   "execution_count": 266,
   "metadata": {},
   "outputs": [
    {
     "data": {
      "text/plain": [
       "<Axes: >"
      ]
     },
     "execution_count": 266,
     "metadata": {},
     "output_type": "execute_result"
    },
    {
     "data": {
      "image/png": "[encoded data removed]",
      "text/plain": [
       "<Figure size 640x480 with 1 Axes>"
      ]
     },
     "metadata": {},
     "output_type": "display_data"
    }
   ],
   "source": [
    "merged_idp.conflict_idp_pop.hist()"
   ]
  },
  {
   "attachments": {},
   "cell_type": "markdown",
   "metadata": {},
   "source": [
    "To convert to categorical variable, we first convert to a string."
   ]
  },
  {
   "cell_type": "code",
   "execution_count": 268,
   "metadata": {},
   "outputs": [],
   "source": [
    "merged_idp[['conflict_stock_idp_pop', 'conflict_idp_pop']] = merged_idp[['conflict_stock_idp_pop', 'conflict_idp_pop']].apply(lambda x: np.round(x).astype(str))\n",
    "merged_idp.drop(['pop_o','newarrival','conflict_stock_idp','conflict_idp'], axis=1, inplace=True)"
   ]
  },
  {
   "attachments": {},
   "cell_type": "markdown",
   "metadata": {},
   "source": [
    "Then we do binary encoding."
   ]
  },
  {
   "cell_type": "code",
   "execution_count": 274,
   "metadata": {},
   "outputs": [
    {
     "data": {
      "text/html": [
       "<div>\n",
       "<style scoped>\n",
       "    .dataframe tbody tr th:only-of-type {\n",
       "        vertical-align: middle;\n",
       "    }\n",
       "\n",
       "    .dataframe tbody tr th {\n",
       "        vertical-align: top;\n",
       "    }\n",
       "\n",
       "    .dataframe thead th {\n",
       "        text-align: right;\n",
       "    }\n",
       "</style>\n",
       "<table border=\"1\" class=\"dataframe\">\n",
       "  <thead>\n",
       "    <tr style=\"text-align: right;\">\n",
       "      <th></th>\n",
       "      <th>iso_o</th>\n",
       "      <th>year</th>\n",
       "      <th>conflict_stock_idp_pop_0</th>\n",
       "      <th>conflict_stock_idp_pop_1</th>\n",
       "      <th>conflict_stock_idp_pop_2</th>\n",
       "      <th>conflict_stock_idp_pop_3</th>\n",
       "      <th>conflict_stock_idp_pop_4</th>\n",
       "      <th>conflict_idp_pop_0</th>\n",
       "      <th>conflict_idp_pop_1</th>\n",
       "      <th>conflict_idp_pop_2</th>\n",
       "      <th>conflict_idp_pop_3</th>\n",
       "      <th>conflict_idp_pop_4</th>\n",
       "    </tr>\n",
       "  </thead>\n",
       "  <tbody>\n",
       "    <tr>\n",
       "      <th>1412</th>\n",
       "      <td>SWZ</td>\n",
       "      <td>2012</td>\n",
       "      <td>0</td>\n",
       "      <td>0</td>\n",
       "      <td>0</td>\n",
       "      <td>0</td>\n",
       "      <td>1</td>\n",
       "      <td>0</td>\n",
       "      <td>0</td>\n",
       "      <td>0</td>\n",
       "      <td>0</td>\n",
       "      <td>1</td>\n",
       "    </tr>\n",
       "    <tr>\n",
       "      <th>3905</th>\n",
       "      <td>SLB</td>\n",
       "      <td>2005</td>\n",
       "      <td>0</td>\n",
       "      <td>0</td>\n",
       "      <td>0</td>\n",
       "      <td>0</td>\n",
       "      <td>1</td>\n",
       "      <td>0</td>\n",
       "      <td>0</td>\n",
       "      <td>0</td>\n",
       "      <td>0</td>\n",
       "      <td>1</td>\n",
       "    </tr>\n",
       "    <tr>\n",
       "      <th>502</th>\n",
       "      <td>BTN</td>\n",
       "      <td>2002</td>\n",
       "      <td>0</td>\n",
       "      <td>0</td>\n",
       "      <td>0</td>\n",
       "      <td>0</td>\n",
       "      <td>1</td>\n",
       "      <td>0</td>\n",
       "      <td>0</td>\n",
       "      <td>0</td>\n",
       "      <td>0</td>\n",
       "      <td>1</td>\n",
       "    </tr>\n",
       "    <tr>\n",
       "      <th>1714</th>\n",
       "      <td>GTM</td>\n",
       "      <td>2014</td>\n",
       "      <td>0</td>\n",
       "      <td>0</td>\n",
       "      <td>0</td>\n",
       "      <td>1</td>\n",
       "      <td>0</td>\n",
       "      <td>0</td>\n",
       "      <td>1</td>\n",
       "      <td>1</td>\n",
       "      <td>0</td>\n",
       "      <td>1</td>\n",
       "    </tr>\n",
       "    <tr>\n",
       "      <th>1258</th>\n",
       "      <td>ECU</td>\n",
       "      <td>2008</td>\n",
       "      <td>0</td>\n",
       "      <td>0</td>\n",
       "      <td>0</td>\n",
       "      <td>0</td>\n",
       "      <td>1</td>\n",
       "      <td>0</td>\n",
       "      <td>0</td>\n",
       "      <td>0</td>\n",
       "      <td>0</td>\n",
       "      <td>1</td>\n",
       "    </tr>\n",
       "    <tr>\n",
       "      <th>3702</th>\n",
       "      <td>SAU</td>\n",
       "      <td>2002</td>\n",
       "      <td>0</td>\n",
       "      <td>0</td>\n",
       "      <td>0</td>\n",
       "      <td>0</td>\n",
       "      <td>1</td>\n",
       "      <td>0</td>\n",
       "      <td>0</td>\n",
       "      <td>0</td>\n",
       "      <td>0</td>\n",
       "      <td>1</td>\n",
       "    </tr>\n",
       "    <tr>\n",
       "      <th>2993</th>\n",
       "      <td>MMR</td>\n",
       "      <td>2018</td>\n",
       "      <td>0</td>\n",
       "      <td>1</td>\n",
       "      <td>0</td>\n",
       "      <td>1</td>\n",
       "      <td>1</td>\n",
       "      <td>0</td>\n",
       "      <td>0</td>\n",
       "      <td>1</td>\n",
       "      <td>1</td>\n",
       "      <td>0</td>\n",
       "    </tr>\n",
       "    <tr>\n",
       "      <th>1121</th>\n",
       "      <td>CYP</td>\n",
       "      <td>2021</td>\n",
       "      <td>0</td>\n",
       "      <td>1</td>\n",
       "      <td>1</td>\n",
       "      <td>1</td>\n",
       "      <td>0</td>\n",
       "      <td>0</td>\n",
       "      <td>0</td>\n",
       "      <td>0</td>\n",
       "      <td>0</td>\n",
       "      <td>1</td>\n",
       "    </tr>\n",
       "    <tr>\n",
       "      <th>3337</th>\n",
       "      <td>PAN</td>\n",
       "      <td>2012</td>\n",
       "      <td>0</td>\n",
       "      <td>0</td>\n",
       "      <td>0</td>\n",
       "      <td>0</td>\n",
       "      <td>1</td>\n",
       "      <td>0</td>\n",
       "      <td>0</td>\n",
       "      <td>0</td>\n",
       "      <td>0</td>\n",
       "      <td>1</td>\n",
       "    </tr>\n",
       "    <tr>\n",
       "      <th>1241</th>\n",
       "      <td>DOM</td>\n",
       "      <td>2016</td>\n",
       "      <td>0</td>\n",
       "      <td>0</td>\n",
       "      <td>0</td>\n",
       "      <td>0</td>\n",
       "      <td>1</td>\n",
       "      <td>0</td>\n",
       "      <td>0</td>\n",
       "      <td>0</td>\n",
       "      <td>0</td>\n",
       "      <td>1</td>\n",
       "    </tr>\n",
       "  </tbody>\n",
       "</table>\n",
       "</div>"
      ],
      "text/plain": [
       "     iso_o  year  conflict_stock_idp_pop_0  conflict_stock_idp_pop_1   \n",
       "1412   SWZ  2012                         0                         0  \\\n",
       "3905   SLB  2005                         0                         0   \n",
       "502    BTN  2002                         0                         0   \n",
       "1714   GTM  2014                         0                         0   \n",
       "1258   ECU  2008                         0                         0   \n",
       "3702   SAU  2002                         0                         0   \n",
       "2993   MMR  2018                         0                         1   \n",
       "1121   CYP  2021                         0                         1   \n",
       "3337   PAN  2012                         0                         0   \n",
       "1241   DOM  2016                         0                         0   \n",
       "\n",
       "      conflict_stock_idp_pop_2  conflict_stock_idp_pop_3   \n",
       "1412                         0                         0  \\\n",
       "3905                         0                         0   \n",
       "502                          0                         0   \n",
       "1714                         0                         1   \n",
       "1258                         0                         0   \n",
       "3702                         0                         0   \n",
       "2993                         0                         1   \n",
       "1121                         1                         1   \n",
       "3337                         0                         0   \n",
       "1241                         0                         0   \n",
       "\n",
       "      conflict_stock_idp_pop_4  conflict_idp_pop_0  conflict_idp_pop_1   \n",
       "1412                         1                   0                   0  \\\n",
       "3905                         1                   0                   0   \n",
       "502                          1                   0                   0   \n",
       "1714                         0                   0                   1   \n",
       "1258                         1                   0                   0   \n",
       "3702                         1                   0                   0   \n",
       "2993                         1                   0                   0   \n",
       "1121                         0                   0                   0   \n",
       "3337                         1                   0                   0   \n",
       "1241                         1                   0                   0   \n",
       "\n",
       "      conflict_idp_pop_2  conflict_idp_pop_3  conflict_idp_pop_4  \n",
       "1412                   0                   0                   1  \n",
       "3905                   0                   0                   1  \n",
       "502                    0                   0                   1  \n",
       "1714                   1                   0                   1  \n",
       "1258                   0                   0                   1  \n",
       "3702                   0                   0                   1  \n",
       "2993                   1                   1                   0  \n",
       "1121                   0                   0                   1  \n",
       "3337                   0                   0                   1  \n",
       "1241                   0                   0                   1  "
      ]
     },
     "execution_count": 274,
     "metadata": {},
     "output_type": "execute_result"
    }
   ],
   "source": [
    "from category_encoders.binary import BinaryEncoder\n",
    "be = BinaryEncoder()\n",
    "idp_binary = be.fit_transform(merged_idp[['conflict_stock_idp_pop', 'conflict_idp_pop']])\n",
    "idp_binary = pd.concat([merged_idp.drop(['conflict_stock_idp_pop', 'conflict_idp_pop'], axis=1), idp_binary],axis=1)\n",
    "\n",
    "idp_binary.sample(10)"
   ]
  },
  {
   "attachments": {},
   "cell_type": "markdown",
   "metadata": {},
   "source": [
    "The result is 4 columns for each variable, where the values ranging from -8 to 6 or so have been encoded. The missing nan has also been encoded as a unique variable."
   ]
  },
  {
   "cell_type": "code",
   "execution_count": null,
   "metadata": {},
   "outputs": [],
   "source": [
    "idp_binary.to_csv('clean/idp.csv')"
   ]
  },
  {
   "attachments": {},
   "cell_type": "markdown",
   "metadata": {},
   "source": [
    "### Fragile States Index\n",
    "\n",
    "From [here](https://fragilestatesindex.org/)\n",
    "\n",
    "It is yearly from 2006-2022 and contains info on 179 countries."
   ]
  },
  {
   "cell_type": "code",
   "execution_count": 447,
   "metadata": {},
   "outputs": [],
   "source": [
    "# load excel files in\n",
    "import os\n",
    "path = 'raw/fsi 2022-2006/'\n",
    "fsi_files = os.listdir(path)\n",
    "fsi_files = path + pd.Series(fsi_files)\n",
    "fsi_df = pd.concat(fsi_files.apply(lambda x: pd.read_excel(x)).tolist())"
   ]
  },
  {
   "cell_type": "code",
   "execution_count": 448,
   "metadata": {},
   "outputs": [],
   "source": [
    "# rename columns\n",
    "fsi_df = fsi_df.rename({'Year':'year', 'Total':'fsi_overall', 'C1: Security Apparatus':'fsi_security_apparatus',\n",
    "       'C2: Factionalized Elites':'fsi_factionalized_elites', 'C3: Group Grievance':'fsi_group_grievance', 'E1: Economy':'fsi_economy',\n",
    "       'E2: Economic Inequality':'fsi_economic_inequality', 'E3: Human Flight and Brain Drain':'fsi_human_flight_brain_drain',\n",
    "       'P1: State Legitimacy':'fsi_state_legitimacy', 'P2: Public Services':'fsi_public_services', 'P3: Human Rights':'fsi_human_rights',\n",
    "       'S1: Demographic Pressures':'fsi_demographic_pressures', 'S2: Refugees and IDPs':'fsi_refugees_idps',\n",
    "       'X1: External Intervention':'fsi_external_intervention'}, axis=1).drop(['Change from Previous Year','Rank'],axis=1)\n",
    "\n",
    "# Change an error causing country name. Israel and West Bank -> West Bank and Gaza (consistent with the UNHCR naming convention)\n",
    "fsi_df.loc[fsi_df.Country == 'Israel and West Bank', \"Country\"] = 'West Bank and Gaza'"
   ]
  },
  {
   "cell_type": "code",
   "execution_count": 449,
   "metadata": {},
   "outputs": [],
   "source": [
    "# convert country name to iso3\n",
    "import country_converter as coco\n",
    "iso3_unique = coco.convert(names=fsi_df.Country.unique(), to='ISO3')\n",
    "\n",
    "iso_3_dict = dict(zip(fsi_df.Country.unique(), iso3_unique))\n",
    "\n",
    "fsi_df['iso'] = fsi_df['Country'].map(iso_3_dict)"
   ]
  },
  {
   "cell_type": "code",
   "execution_count": 60,
   "metadata": {},
   "outputs": [],
   "source": [
    "fsi_df.drop('Country', axis=1).to_csv('clean/fragility_indices.csv')"
   ]
  },
  {
   "attachments": {},
   "cell_type": "markdown",
   "metadata": {},
   "source": [
    "### LDA modeled Newspaper Text/Conflict Risk"
   ]
  },
  {
   "cell_type": "code",
   "execution_count": 31,
   "metadata": {},
   "outputs": [],
   "source": [
    "# we read in the data, remove nas, and drop the first column for each forecast. \n",
    "ons_armedconf1 = pd.read_csv('raw/ons_armedconf12_f_12_d_50_t_700_depth_7_mins_2_minl_50pctrial_low_pop_og.csv')\n",
    "ons_armedconf1 = ons_armedconf1.loc[~ons_armedconf1.isna().any(axis=1)].iloc[:, 1:ons_armedconf1.shape[1]]\n",
    "\n",
    "ons_armedconf2 = pd.read_csv('raw/ons_armedconf12_f_12_d_50_t_700_depth_7_mins_2_minl_100pctrial_low_pop_og.csv')\n",
    "ons_armedconf2 = ons_armedconf2.loc[~ons_armedconf2.isna().any(axis=1)].iloc[:, 1:ons_armedconf2.shape[1]]\n",
    "\n",
    "ons_armedconf3 = pd.read_csv('raw/lnbest_pc_12_f_12_d_50_t_700_depth_7_mins_2_minl_75intensity_pc_og.csv')\n",
    "ons_armedconf3 = ons_armedconf3.loc[~ons_armedconf3.isna().any(axis=1)].iloc[:, 1:ons_armedconf3.shape[1]]\n",
    "\n",
    "#lda data\n",
    "lda = pd.read_csv('raw/LDA output Mueller and Rauh.csv')\n",
    "lda = lda[lda.year >= 2000]"
   ]
  },
  {
   "cell_type": "code",
   "execution_count": 33,
   "metadata": {},
   "outputs": [],
   "source": [
    "# merge the conflict forecasts together\n",
    "merged_armed_conf = ons_armedconf1.merge(ons_armedconf2, on = ['isocode','year', 'month']).merge(ons_armedconf3, on = ['isocode','year', 'month'])"
   ]
  },
  {
   "cell_type": "code",
   "execution_count": 34,
   "metadata": {},
   "outputs": [],
   "source": [
    "# write to file\n",
    "merged_armed_conf.to_csv('clean/mueller_conflict_forecasts.csv')\n",
    "lda.to_csv('clean/lda.csv')"
   ]
  }
 ],
 "metadata": {
  "kernelspec": {
   "display_name": "refugees",
   "language": "python",
   "name": "python3"
  },
  "language_info": {
   "codemirror_mode": {
    "name": "ipython",
    "version": 3
   },
   "file_extension": ".py",
   "mimetype": "text/x-python",
   "name": "python",
   "nbconvert_exporter": "python",
   "pygments_lexer": "ipython3",
   "version": "3.11.3"
  },
  "orig_nbformat": 4
 },
 "nbformat": 4,
 "nbformat_minor": 2
}
