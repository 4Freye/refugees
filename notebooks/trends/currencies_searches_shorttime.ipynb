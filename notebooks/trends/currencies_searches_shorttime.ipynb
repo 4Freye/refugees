{
 "cells": [
  {
   "cell_type": "code",
   "execution_count": 1,
   "metadata": {},
   "outputs": [],
   "source": [
    "import pandas as pd\n",
    "\n",
    "from country_abbrev import *\n",
    "from country_language import *\n",
    "from pytrends.request import TrendReq\n",
    "\n",
    "import trends_helpers\n",
    "import os\n",
    "import pycountry"
   ]
  },
  {
   "cell_type": "code",
   "execution_count": 2,
   "metadata": {},
   "outputs": [
    {
     "data": {
      "text/plain": [
       "\"g:\\\\Mi unidad\\\\BSE - DSDM\\\\Master's project\\\\refugees\\\\notebooks\\\\trends\""
      ]
     },
     "execution_count": 2,
     "metadata": {},
     "output_type": "execute_result"
    }
   ],
   "source": [
    "os.getcwd()"
   ]
  },
  {
   "cell_type": "code",
   "execution_count": 3,
   "metadata": {},
   "outputs": [],
   "source": [
    "currencies = pd.read_excel(\"countries-codes-and-currencies-(2020).xlsx\")"
   ]
  },
  {
   "cell_type": "code",
   "execution_count": 4,
   "metadata": {},
   "outputs": [
    {
     "data": {
      "text/html": [
       "<div>\n",
       "<style scoped>\n",
       "    .dataframe tbody tr th:only-of-type {\n",
       "        vertical-align: middle;\n",
       "    }\n",
       "\n",
       "    .dataframe tbody tr th {\n",
       "        vertical-align: top;\n",
       "    }\n",
       "\n",
       "    .dataframe thead th {\n",
       "        text-align: right;\n",
       "    }\n",
       "</style>\n",
       "<table border=\"1\" class=\"dataframe\">\n",
       "  <thead>\n",
       "    <tr style=\"text-align: right;\">\n",
       "      <th></th>\n",
       "      <th>Country Code</th>\n",
       "      <th>Country Name</th>\n",
       "      <th>WHO Region</th>\n",
       "      <th>World Bank Income Group (2018)</th>\n",
       "      <th>Currency Name</th>\n",
       "      <th>Currency Code</th>\n",
       "    </tr>\n",
       "  </thead>\n",
       "  <tbody>\n",
       "    <tr>\n",
       "      <th>0</th>\n",
       "      <td>AFG</td>\n",
       "      <td>Afghanistan</td>\n",
       "      <td>EMR</td>\n",
       "      <td>Low</td>\n",
       "      <td>Afghanistan Afghani</td>\n",
       "      <td>AFN</td>\n",
       "    </tr>\n",
       "    <tr>\n",
       "      <th>1</th>\n",
       "      <td>ALB</td>\n",
       "      <td>Albania</td>\n",
       "      <td>EUR</td>\n",
       "      <td>Upper‐middle</td>\n",
       "      <td>Albanian Lek</td>\n",
       "      <td>ALL</td>\n",
       "    </tr>\n",
       "    <tr>\n",
       "      <th>2</th>\n",
       "      <td>DZA</td>\n",
       "      <td>Algeria</td>\n",
       "      <td>AFR</td>\n",
       "      <td>Upper‐middle</td>\n",
       "      <td>Algerian Dinar</td>\n",
       "      <td>DZD</td>\n",
       "    </tr>\n",
       "    <tr>\n",
       "      <th>3</th>\n",
       "      <td>AND</td>\n",
       "      <td>Andorra</td>\n",
       "      <td>EUR</td>\n",
       "      <td>High</td>\n",
       "      <td>Euro</td>\n",
       "      <td>EUR</td>\n",
       "    </tr>\n",
       "    <tr>\n",
       "      <th>4</th>\n",
       "      <td>AGO</td>\n",
       "      <td>Angola</td>\n",
       "      <td>AFR</td>\n",
       "      <td>Lower‐middle</td>\n",
       "      <td>Angolan Kwanza</td>\n",
       "      <td>AON</td>\n",
       "    </tr>\n",
       "  </tbody>\n",
       "</table>\n",
       "</div>"
      ],
      "text/plain": [
       "  Country Code Country Name WHO Region World Bank Income Group (2018)   \n",
       "0          AFG  Afghanistan        EMR                            Low  \\\n",
       "1          ALB      Albania        EUR                   Upper‐middle   \n",
       "2          DZA      Algeria        AFR                   Upper‐middle   \n",
       "3          AND      Andorra        EUR                           High   \n",
       "4          AGO       Angola        AFR                   Lower‐middle   \n",
       "\n",
       "         Currency Name Currency Code  \n",
       "0  Afghanistan Afghani           AFN  \n",
       "1         Albanian Lek           ALL  \n",
       "2       Algerian Dinar           DZD  \n",
       "3                 Euro           EUR  \n",
       "4       Angolan Kwanza           AON  "
      ]
     },
     "execution_count": 4,
     "metadata": {},
     "output_type": "execute_result"
    }
   ],
   "source": [
    "currencies.head()"
   ]
  },
  {
   "cell_type": "code",
   "execution_count": 5,
   "metadata": {},
   "outputs": [
    {
     "name": "stdout",
     "output_type": "stream",
     "text": [
      "<class 'pandas.core.frame.DataFrame'>\n",
      "RangeIndex: 194 entries, 0 to 193\n",
      "Data columns (total 6 columns):\n",
      " #   Column                          Non-Null Count  Dtype \n",
      "---  ------                          --------------  ----- \n",
      " 0   Country Code                    194 non-null    object\n",
      " 1   Country Name                    194 non-null    object\n",
      " 2   WHO Region                      194 non-null    object\n",
      " 3   World Bank Income Group (2018)  194 non-null    object\n",
      " 4   Currency Name                   194 non-null    object\n",
      " 5   Currency Code                   194 non-null    object\n",
      "dtypes: object(6)\n",
      "memory usage: 9.2+ KB\n"
     ]
    }
   ],
   "source": [
    "currencies.info(\n",
    ")"
   ]
  },
  {
   "cell_type": "code",
   "execution_count": 6,
   "metadata": {},
   "outputs": [
    {
     "data": {
      "text/plain": [
       "141"
      ]
     },
     "execution_count": 6,
     "metadata": {},
     "output_type": "execute_result"
    }
   ],
   "source": [
    "keywords_list= list(set(currencies[\"Currency Name\"]))\n",
    "len(keywords_list)\n",
    "\n",
    "# First search as it comes, then we can translate for each origin lang"
   ]
  },
  {
   "cell_type": "code",
   "execution_count": 7,
   "metadata": {},
   "outputs": [],
   "source": [
    "countries_iso3 = currencies[\"Country Code\"]\n",
    "countries = [pycountry.countries.get(alpha_3=code).alpha_2 for code in countries_iso3]"
   ]
  },
  {
   "cell_type": "code",
   "execution_count": 8,
   "metadata": {},
   "outputs": [
    {
     "name": "stdout",
     "output_type": "stream",
     "text": [
      "Searching: Algerian Dinar in AF\n"
     ]
    },
    {
     "ename": "RetryError",
     "evalue": "HTTPSConnectionPool(host='trends.google.com', port=443): Max retries exceeded with url: /trends/api/explore?hl=en-US&tz=360&req=%7B%22comparisonItem%22%3A+%5B%7B%22keyword%22%3A+%22Algerian+Dinar%22%2C+%22time%22%3A+%222008-01-01+2023-04-31%22%2C+%22geo%22%3A+%22AF%22%7D%5D%2C+%22category%22%3A+0%2C+%22property%22%3A+%22%22%7D (Caused by ResponseError('too many 500 error responses'))",
     "output_type": "error",
     "traceback": [
      "\u001b[1;31m---------------------------------------------------------------------------\u001b[0m",
      "\u001b[1;31mMaxRetryError\u001b[0m                             Traceback (most recent call last)",
      "File \u001b[1;32mc:\\Users\\danid\\anaconda3\\envs\\master_thesis\\Lib\\site-packages\\requests\\adapters.py:486\u001b[0m, in \u001b[0;36mHTTPAdapter.send\u001b[1;34m(self, request, stream, timeout, verify, cert, proxies)\u001b[0m\n\u001b[0;32m    485\u001b[0m \u001b[39mtry\u001b[39;00m:\n\u001b[1;32m--> 486\u001b[0m     resp \u001b[39m=\u001b[39m conn\u001b[39m.\u001b[39;49murlopen(\n\u001b[0;32m    487\u001b[0m         method\u001b[39m=\u001b[39;49mrequest\u001b[39m.\u001b[39;49mmethod,\n\u001b[0;32m    488\u001b[0m         url\u001b[39m=\u001b[39;49murl,\n\u001b[0;32m    489\u001b[0m         body\u001b[39m=\u001b[39;49mrequest\u001b[39m.\u001b[39;49mbody,\n\u001b[0;32m    490\u001b[0m         headers\u001b[39m=\u001b[39;49mrequest\u001b[39m.\u001b[39;49mheaders,\n\u001b[0;32m    491\u001b[0m         redirect\u001b[39m=\u001b[39;49m\u001b[39mFalse\u001b[39;49;00m,\n\u001b[0;32m    492\u001b[0m         assert_same_host\u001b[39m=\u001b[39;49m\u001b[39mFalse\u001b[39;49;00m,\n\u001b[0;32m    493\u001b[0m         preload_content\u001b[39m=\u001b[39;49m\u001b[39mFalse\u001b[39;49;00m,\n\u001b[0;32m    494\u001b[0m         decode_content\u001b[39m=\u001b[39;49m\u001b[39mFalse\u001b[39;49;00m,\n\u001b[0;32m    495\u001b[0m         retries\u001b[39m=\u001b[39;49m\u001b[39mself\u001b[39;49m\u001b[39m.\u001b[39;49mmax_retries,\n\u001b[0;32m    496\u001b[0m         timeout\u001b[39m=\u001b[39;49mtimeout,\n\u001b[0;32m    497\u001b[0m         chunked\u001b[39m=\u001b[39;49mchunked,\n\u001b[0;32m    498\u001b[0m     )\n\u001b[0;32m    500\u001b[0m \u001b[39mexcept\u001b[39;00m (ProtocolError, \u001b[39mOSError\u001b[39;00m) \u001b[39mas\u001b[39;00m err:\n",
      "File \u001b[1;32mc:\\Users\\danid\\anaconda3\\envs\\master_thesis\\Lib\\site-packages\\urllib3\\connectionpool.py:878\u001b[0m, in \u001b[0;36mHTTPConnectionPool.urlopen\u001b[1;34m(self, method, url, body, headers, retries, redirect, assert_same_host, timeout, pool_timeout, release_conn, chunked, body_pos, **response_kw)\u001b[0m\n\u001b[0;32m    877\u001b[0m     log\u001b[39m.\u001b[39mdebug(\u001b[39m\"\u001b[39m\u001b[39mRetry: \u001b[39m\u001b[39m%s\u001b[39;00m\u001b[39m\"\u001b[39m, url)\n\u001b[1;32m--> 878\u001b[0m     \u001b[39mreturn\u001b[39;00m \u001b[39mself\u001b[39;49m\u001b[39m.\u001b[39;49murlopen(\n\u001b[0;32m    879\u001b[0m         method,\n\u001b[0;32m    880\u001b[0m         url,\n\u001b[0;32m    881\u001b[0m         body,\n\u001b[0;32m    882\u001b[0m         headers,\n\u001b[0;32m    883\u001b[0m         retries\u001b[39m=\u001b[39;49mretries,\n\u001b[0;32m    884\u001b[0m         redirect\u001b[39m=\u001b[39;49mredirect,\n\u001b[0;32m    885\u001b[0m         assert_same_host\u001b[39m=\u001b[39;49massert_same_host,\n\u001b[0;32m    886\u001b[0m         timeout\u001b[39m=\u001b[39;49mtimeout,\n\u001b[0;32m    887\u001b[0m         pool_timeout\u001b[39m=\u001b[39;49mpool_timeout,\n\u001b[0;32m    888\u001b[0m         release_conn\u001b[39m=\u001b[39;49mrelease_conn,\n\u001b[0;32m    889\u001b[0m         chunked\u001b[39m=\u001b[39;49mchunked,\n\u001b[0;32m    890\u001b[0m         body_pos\u001b[39m=\u001b[39;49mbody_pos,\n\u001b[0;32m    891\u001b[0m         \u001b[39m*\u001b[39;49m\u001b[39m*\u001b[39;49mresponse_kw\n\u001b[0;32m    892\u001b[0m     )\n\u001b[0;32m    894\u001b[0m \u001b[39mreturn\u001b[39;00m response\n",
      "File \u001b[1;32mc:\\Users\\danid\\anaconda3\\envs\\master_thesis\\Lib\\site-packages\\urllib3\\connectionpool.py:878\u001b[0m, in \u001b[0;36mHTTPConnectionPool.urlopen\u001b[1;34m(self, method, url, body, headers, retries, redirect, assert_same_host, timeout, pool_timeout, release_conn, chunked, body_pos, **response_kw)\u001b[0m\n\u001b[0;32m    877\u001b[0m     log\u001b[39m.\u001b[39mdebug(\u001b[39m\"\u001b[39m\u001b[39mRetry: \u001b[39m\u001b[39m%s\u001b[39;00m\u001b[39m\"\u001b[39m, url)\n\u001b[1;32m--> 878\u001b[0m     \u001b[39mreturn\u001b[39;00m \u001b[39mself\u001b[39;49m\u001b[39m.\u001b[39;49murlopen(\n\u001b[0;32m    879\u001b[0m         method,\n\u001b[0;32m    880\u001b[0m         url,\n\u001b[0;32m    881\u001b[0m         body,\n\u001b[0;32m    882\u001b[0m         headers,\n\u001b[0;32m    883\u001b[0m         retries\u001b[39m=\u001b[39;49mretries,\n\u001b[0;32m    884\u001b[0m         redirect\u001b[39m=\u001b[39;49mredirect,\n\u001b[0;32m    885\u001b[0m         assert_same_host\u001b[39m=\u001b[39;49massert_same_host,\n\u001b[0;32m    886\u001b[0m         timeout\u001b[39m=\u001b[39;49mtimeout,\n\u001b[0;32m    887\u001b[0m         pool_timeout\u001b[39m=\u001b[39;49mpool_timeout,\n\u001b[0;32m    888\u001b[0m         release_conn\u001b[39m=\u001b[39;49mrelease_conn,\n\u001b[0;32m    889\u001b[0m         chunked\u001b[39m=\u001b[39;49mchunked,\n\u001b[0;32m    890\u001b[0m         body_pos\u001b[39m=\u001b[39;49mbody_pos,\n\u001b[0;32m    891\u001b[0m         \u001b[39m*\u001b[39;49m\u001b[39m*\u001b[39;49mresponse_kw\n\u001b[0;32m    892\u001b[0m     )\n\u001b[0;32m    894\u001b[0m \u001b[39mreturn\u001b[39;00m response\n",
      "File \u001b[1;32mc:\\Users\\danid\\anaconda3\\envs\\master_thesis\\Lib\\site-packages\\urllib3\\connectionpool.py:868\u001b[0m, in \u001b[0;36mHTTPConnectionPool.urlopen\u001b[1;34m(self, method, url, body, headers, retries, redirect, assert_same_host, timeout, pool_timeout, release_conn, chunked, body_pos, **response_kw)\u001b[0m\n\u001b[0;32m    867\u001b[0m \u001b[39mtry\u001b[39;00m:\n\u001b[1;32m--> 868\u001b[0m     retries \u001b[39m=\u001b[39m retries\u001b[39m.\u001b[39;49mincrement(method, url, response\u001b[39m=\u001b[39;49mresponse, _pool\u001b[39m=\u001b[39;49m\u001b[39mself\u001b[39;49m)\n\u001b[0;32m    869\u001b[0m \u001b[39mexcept\u001b[39;00m MaxRetryError:\n",
      "File \u001b[1;32mc:\\Users\\danid\\anaconda3\\envs\\master_thesis\\Lib\\site-packages\\urllib3\\util\\retry.py:592\u001b[0m, in \u001b[0;36mRetry.increment\u001b[1;34m(self, method, url, response, error, _pool, _stacktrace)\u001b[0m\n\u001b[0;32m    591\u001b[0m \u001b[39mif\u001b[39;00m new_retry\u001b[39m.\u001b[39mis_exhausted():\n\u001b[1;32m--> 592\u001b[0m     \u001b[39mraise\u001b[39;00m MaxRetryError(_pool, url, error \u001b[39mor\u001b[39;00m ResponseError(cause))\n\u001b[0;32m    594\u001b[0m log\u001b[39m.\u001b[39mdebug(\u001b[39m\"\u001b[39m\u001b[39mIncremented Retry for (url=\u001b[39m\u001b[39m'\u001b[39m\u001b[39m%s\u001b[39;00m\u001b[39m'\u001b[39m\u001b[39m): \u001b[39m\u001b[39m%r\u001b[39;00m\u001b[39m\"\u001b[39m, url, new_retry)\n",
      "\u001b[1;31mMaxRetryError\u001b[0m: HTTPSConnectionPool(host='trends.google.com', port=443): Max retries exceeded with url: /trends/api/explore?hl=en-US&tz=360&req=%7B%22comparisonItem%22%3A+%5B%7B%22keyword%22%3A+%22Algerian+Dinar%22%2C+%22time%22%3A+%222008-01-01+2023-04-31%22%2C+%22geo%22%3A+%22AF%22%7D%5D%2C+%22category%22%3A+0%2C+%22property%22%3A+%22%22%7D (Caused by ResponseError('too many 500 error responses'))",
      "\nDuring handling of the above exception, another exception occurred:\n",
      "\u001b[1;31mRetryError\u001b[0m                                Traceback (most recent call last)",
      "Cell \u001b[1;32mIn[8], line 35\u001b[0m\n\u001b[0;32m     32\u001b[0m time\u001b[39m.\u001b[39msleep(\u001b[39m4\u001b[39m)\n\u001b[0;32m     34\u001b[0m \u001b[39m# Build the payload with the selected region, keyword and date range\u001b[39;00m\n\u001b[1;32m---> 35\u001b[0m pytrends\u001b[39m.\u001b[39;49mbuild_payload(kw_list\u001b[39m=\u001b[39;49m[keyword], timeframe\u001b[39m=\u001b[39;49mtime_cut, geo\u001b[39m=\u001b[39;49m\u001b[39mstr\u001b[39;49m(country))\n\u001b[0;32m     36\u001b[0m \u001b[39m# Get the interest over time data for the selected keyword\u001b[39;00m\n\u001b[0;32m     37\u001b[0m interest_over_time_df \u001b[39m=\u001b[39m pytrends\u001b[39m.\u001b[39minterest_over_time()\n",
      "File \u001b[1;32mc:\\Users\\danid\\anaconda3\\envs\\master_thesis\\Lib\\site-packages\\pytrends\\request.py:189\u001b[0m, in \u001b[0;36mTrendReq.build_payload\u001b[1;34m(self, kw_list, cat, timeframe, geo, gprop)\u001b[0m\n\u001b[0;32m    187\u001b[0m \u001b[39mself\u001b[39m\u001b[39m.\u001b[39mtoken_payload[\u001b[39m'\u001b[39m\u001b[39mreq\u001b[39m\u001b[39m'\u001b[39m] \u001b[39m=\u001b[39m json\u001b[39m.\u001b[39mdumps(\u001b[39mself\u001b[39m\u001b[39m.\u001b[39mtoken_payload[\u001b[39m'\u001b[39m\u001b[39mreq\u001b[39m\u001b[39m'\u001b[39m])\n\u001b[0;32m    188\u001b[0m \u001b[39m# get tokens\u001b[39;00m\n\u001b[1;32m--> 189\u001b[0m \u001b[39mself\u001b[39;49m\u001b[39m.\u001b[39;49m_tokens()\n\u001b[0;32m    190\u001b[0m \u001b[39mreturn\u001b[39;00m\n",
      "File \u001b[1;32mc:\\Users\\danid\\anaconda3\\envs\\master_thesis\\Lib\\site-packages\\pytrends\\request.py:195\u001b[0m, in \u001b[0;36mTrendReq._tokens\u001b[1;34m(self)\u001b[0m\n\u001b[0;32m    193\u001b[0m \u001b[39m\u001b[39m\u001b[39m\"\"\"Makes request to Google to get API tokens for interest over time, interest by region and related queries\"\"\"\u001b[39;00m\n\u001b[0;32m    194\u001b[0m \u001b[39m# make the request and parse the returned json\u001b[39;00m\n\u001b[1;32m--> 195\u001b[0m widget_dicts \u001b[39m=\u001b[39m \u001b[39mself\u001b[39;49m\u001b[39m.\u001b[39;49m_get_data(\n\u001b[0;32m    196\u001b[0m     url\u001b[39m=\u001b[39;49mTrendReq\u001b[39m.\u001b[39;49mGENERAL_URL,\n\u001b[0;32m    197\u001b[0m     method\u001b[39m=\u001b[39;49mTrendReq\u001b[39m.\u001b[39;49mPOST_METHOD,\n\u001b[0;32m    198\u001b[0m     params\u001b[39m=\u001b[39;49m\u001b[39mself\u001b[39;49m\u001b[39m.\u001b[39;49mtoken_payload,\n\u001b[0;32m    199\u001b[0m     trim_chars\u001b[39m=\u001b[39;49m\u001b[39m4\u001b[39;49m,\n\u001b[0;32m    200\u001b[0m )[\u001b[39m'\u001b[39m\u001b[39mwidgets\u001b[39m\u001b[39m'\u001b[39m]\n\u001b[0;32m    201\u001b[0m \u001b[39m# order of the json matters...\u001b[39;00m\n\u001b[0;32m    202\u001b[0m first_region_token \u001b[39m=\u001b[39m \u001b[39mTrue\u001b[39;00m\n",
      "File \u001b[1;32mc:\\Users\\danid\\anaconda3\\envs\\master_thesis\\Lib\\site-packages\\pytrends\\request.py:136\u001b[0m, in \u001b[0;36mTrendReq._get_data\u001b[1;34m(self, url, method, trim_chars, **kwargs)\u001b[0m\n\u001b[0;32m    134\u001b[0m     s\u001b[39m.\u001b[39mproxies\u001b[39m.\u001b[39mupdate({\u001b[39m'\u001b[39m\u001b[39mhttps\u001b[39m\u001b[39m'\u001b[39m: \u001b[39mself\u001b[39m\u001b[39m.\u001b[39mproxies[\u001b[39mself\u001b[39m\u001b[39m.\u001b[39mproxy_index]})\n\u001b[0;32m    135\u001b[0m \u001b[39mif\u001b[39;00m method \u001b[39m==\u001b[39m TrendReq\u001b[39m.\u001b[39mPOST_METHOD:\n\u001b[1;32m--> 136\u001b[0m     response \u001b[39m=\u001b[39m s\u001b[39m.\u001b[39;49mpost(url, timeout\u001b[39m=\u001b[39;49m\u001b[39mself\u001b[39;49m\u001b[39m.\u001b[39;49mtimeout,\n\u001b[0;32m    137\u001b[0m                       cookies\u001b[39m=\u001b[39;49m\u001b[39mself\u001b[39;49m\u001b[39m.\u001b[39;49mcookies, \u001b[39m*\u001b[39;49m\u001b[39m*\u001b[39;49mkwargs,\n\u001b[0;32m    138\u001b[0m                       \u001b[39m*\u001b[39;49m\u001b[39m*\u001b[39;49m\u001b[39mself\u001b[39;49m\u001b[39m.\u001b[39;49mrequests_args)  \u001b[39m# DO NOT USE retries or backoff_factor here\u001b[39;00m\n\u001b[0;32m    139\u001b[0m \u001b[39melse\u001b[39;00m:\n\u001b[0;32m    140\u001b[0m     response \u001b[39m=\u001b[39m s\u001b[39m.\u001b[39mget(url, timeout\u001b[39m=\u001b[39m\u001b[39mself\u001b[39m\u001b[39m.\u001b[39mtimeout, cookies\u001b[39m=\u001b[39m\u001b[39mself\u001b[39m\u001b[39m.\u001b[39mcookies,\n\u001b[0;32m    141\u001b[0m                      \u001b[39m*\u001b[39m\u001b[39m*\u001b[39mkwargs, \u001b[39m*\u001b[39m\u001b[39m*\u001b[39m\u001b[39mself\u001b[39m\u001b[39m.\u001b[39mrequests_args)  \u001b[39m# DO NOT USE retries or backoff_factor here\u001b[39;00m\n",
      "File \u001b[1;32mc:\\Users\\danid\\anaconda3\\envs\\master_thesis\\Lib\\site-packages\\requests\\sessions.py:635\u001b[0m, in \u001b[0;36mSession.post\u001b[1;34m(self, url, data, json, **kwargs)\u001b[0m\n\u001b[0;32m    624\u001b[0m \u001b[39mdef\u001b[39;00m \u001b[39mpost\u001b[39m(\u001b[39mself\u001b[39m, url, data\u001b[39m=\u001b[39m\u001b[39mNone\u001b[39;00m, json\u001b[39m=\u001b[39m\u001b[39mNone\u001b[39;00m, \u001b[39m*\u001b[39m\u001b[39m*\u001b[39mkwargs):\n\u001b[0;32m    625\u001b[0m \u001b[39m    \u001b[39m\u001b[39mr\u001b[39m\u001b[39m\"\"\"Sends a POST request. Returns :class:`Response` object.\u001b[39;00m\n\u001b[0;32m    626\u001b[0m \n\u001b[0;32m    627\u001b[0m \u001b[39m    :param url: URL for the new :class:`Request` object.\u001b[39;00m\n\u001b[1;32m   (...)\u001b[0m\n\u001b[0;32m    632\u001b[0m \u001b[39m    :rtype: requests.Response\u001b[39;00m\n\u001b[0;32m    633\u001b[0m \u001b[39m    \"\"\"\u001b[39;00m\n\u001b[1;32m--> 635\u001b[0m     \u001b[39mreturn\u001b[39;00m \u001b[39mself\u001b[39;49m\u001b[39m.\u001b[39;49mrequest(\u001b[39m\"\u001b[39;49m\u001b[39mPOST\u001b[39;49m\u001b[39m\"\u001b[39;49m, url, data\u001b[39m=\u001b[39;49mdata, json\u001b[39m=\u001b[39;49mjson, \u001b[39m*\u001b[39;49m\u001b[39m*\u001b[39;49mkwargs)\n",
      "File \u001b[1;32mc:\\Users\\danid\\anaconda3\\envs\\master_thesis\\Lib\\site-packages\\requests\\sessions.py:587\u001b[0m, in \u001b[0;36mSession.request\u001b[1;34m(self, method, url, params, data, headers, cookies, files, auth, timeout, allow_redirects, proxies, hooks, stream, verify, cert, json)\u001b[0m\n\u001b[0;32m    582\u001b[0m send_kwargs \u001b[39m=\u001b[39m {\n\u001b[0;32m    583\u001b[0m     \u001b[39m\"\u001b[39m\u001b[39mtimeout\u001b[39m\u001b[39m\"\u001b[39m: timeout,\n\u001b[0;32m    584\u001b[0m     \u001b[39m\"\u001b[39m\u001b[39mallow_redirects\u001b[39m\u001b[39m\"\u001b[39m: allow_redirects,\n\u001b[0;32m    585\u001b[0m }\n\u001b[0;32m    586\u001b[0m send_kwargs\u001b[39m.\u001b[39mupdate(settings)\n\u001b[1;32m--> 587\u001b[0m resp \u001b[39m=\u001b[39m \u001b[39mself\u001b[39;49m\u001b[39m.\u001b[39;49msend(prep, \u001b[39m*\u001b[39;49m\u001b[39m*\u001b[39;49msend_kwargs)\n\u001b[0;32m    589\u001b[0m \u001b[39mreturn\u001b[39;00m resp\n",
      "File \u001b[1;32mc:\\Users\\danid\\anaconda3\\envs\\master_thesis\\Lib\\site-packages\\requests\\sessions.py:701\u001b[0m, in \u001b[0;36mSession.send\u001b[1;34m(self, request, **kwargs)\u001b[0m\n\u001b[0;32m    698\u001b[0m start \u001b[39m=\u001b[39m preferred_clock()\n\u001b[0;32m    700\u001b[0m \u001b[39m# Send the request\u001b[39;00m\n\u001b[1;32m--> 701\u001b[0m r \u001b[39m=\u001b[39m adapter\u001b[39m.\u001b[39;49msend(request, \u001b[39m*\u001b[39;49m\u001b[39m*\u001b[39;49mkwargs)\n\u001b[0;32m    703\u001b[0m \u001b[39m# Total elapsed time of the request (approximately)\u001b[39;00m\n\u001b[0;32m    704\u001b[0m elapsed \u001b[39m=\u001b[39m preferred_clock() \u001b[39m-\u001b[39m start\n",
      "File \u001b[1;32mc:\\Users\\danid\\anaconda3\\envs\\master_thesis\\Lib\\site-packages\\requests\\adapters.py:510\u001b[0m, in \u001b[0;36mHTTPAdapter.send\u001b[1;34m(self, request, stream, timeout, verify, cert, proxies)\u001b[0m\n\u001b[0;32m    507\u001b[0m         \u001b[39mraise\u001b[39;00m ConnectTimeout(e, request\u001b[39m=\u001b[39mrequest)\n\u001b[0;32m    509\u001b[0m \u001b[39mif\u001b[39;00m \u001b[39misinstance\u001b[39m(e\u001b[39m.\u001b[39mreason, ResponseError):\n\u001b[1;32m--> 510\u001b[0m     \u001b[39mraise\u001b[39;00m RetryError(e, request\u001b[39m=\u001b[39mrequest)\n\u001b[0;32m    512\u001b[0m \u001b[39mif\u001b[39;00m \u001b[39misinstance\u001b[39m(e\u001b[39m.\u001b[39mreason, _ProxyError):\n\u001b[0;32m    513\u001b[0m     \u001b[39mraise\u001b[39;00m ProxyError(e, request\u001b[39m=\u001b[39mrequest)\n",
      "\u001b[1;31mRetryError\u001b[0m: HTTPSConnectionPool(host='trends.google.com', port=443): Max retries exceeded with url: /trends/api/explore?hl=en-US&tz=360&req=%7B%22comparisonItem%22%3A+%5B%7B%22keyword%22%3A+%22Algerian+Dinar%22%2C+%22time%22%3A+%222008-01-01+2023-04-31%22%2C+%22geo%22%3A+%22AF%22%7D%5D%2C+%22category%22%3A+0%2C+%22property%22%3A+%22%22%7D (Caused by ResponseError('too many 500 error responses'))"
     ]
    }
   ],
   "source": [
    "from pytrends.request import TrendReq\n",
    "import time\n",
    "\n",
    "time_cut = \"2008-01-01 2023-04-31\"\n",
    "\n",
    "# Set up the Google Trends API object\n",
    "# pytrends = TrendReq()\n",
    "# I'll define the object within the loop\n",
    "\n",
    "# Initialize an empty DataFrame to store the results\n",
    "results = pd.DataFrame()\n",
    "\n",
    "\n",
    "# Loop through regions and keywords\n",
    "for keyword in keywords_list:\n",
    "    for i, country in enumerate(countries):    \n",
    "        # pytrends = TrendReq(timeout=(10,25), proxies=proxy_list, retries=2, backoff_factor=0.1,    )\n",
    "\n",
    "        pytrends = TrendReq(tz=360, timeout=(10, 25), retries=2, backoff_factor=0.5, \n",
    "                            requests_args={'headers': {'User-Agent': 'Mozilla/5.0 (Windows NT 10.0; Win64; x64) AppleWebKit/537.36 (KHTML, like Gecko) Chrome/58.0.3029.110 Safari/537.36 Edge/16.16299'}})\n",
    "        \n",
    "# The timeout parameter sets the maximum number of seconds to wait for a response from the API \n",
    "# before raising a timeout error.\n",
    "#The backoff_factor parameter is used for exponential backoff when retrying requests. \n",
    "# It specifies the factor by which the waiting time between retries increases on each retry. \n",
    "# For example, if backoff_factor is set to 0.4, the waiting time between retries will increase by 40% on\n",
    "# each retry.\n",
    "# The retries parameter sets the maximum number of times to retry a request if it fails with a \n",
    "# transient error (such as a connection error or server error). If the maximum number of retries \n",
    "# is exceeded, an exception will be raised.   \n",
    "        print(\"Searching: \" + str(keyword) + \" in \" + str(country))\n",
    "        time.sleep(4)\n",
    "        \n",
    "        # Build the payload with the selected region, keyword and date range\n",
    "        pytrends.build_payload(kw_list=[keyword], timeframe=time_cut, geo=str(country))\n",
    "        # Get the interest over time data for the selected keyword\n",
    "        interest_over_time_df = pytrends.interest_over_time()\n",
    "\n",
    "        # Check if the DataFrame is not empty\n",
    "        if not interest_over_time_df.empty:\n",
    "            interest_over_time_df= interest_over_time_df.reset_index()\n",
    "            interest_over_time_df['trends_index'] = interest_over_time_df.iloc[:, 1] \n",
    "            interest_over_time_df = interest_over_time_df.drop(interest_over_time_df.columns[1], axis=1)\n",
    "\n",
    "            interest_over_time_df = interest_over_time_df.drop(columns=[\"isPartial\"], axis=1)\n",
    "            interest_over_time_df[\"keyword\"]=keyword\n",
    "            interest_over_time_df[\"region\"] = country\n",
    "            \n",
    "            # Append the results to the main dataframe\n",
    "            results = pd.concat([results, interest_over_time_df])\n",
    "\n"
   ]
  },
  {
   "cell_type": "code",
   "execution_count": 10,
   "metadata": {},
   "outputs": [
    {
     "data": {
      "text/html": [
       "<div>\n",
       "<style scoped>\n",
       "    .dataframe tbody tr th:only-of-type {\n",
       "        vertical-align: middle;\n",
       "    }\n",
       "\n",
       "    .dataframe tbody tr th {\n",
       "        vertical-align: top;\n",
       "    }\n",
       "\n",
       "    .dataframe thead th {\n",
       "        text-align: right;\n",
       "    }\n",
       "</style>\n",
       "<table border=\"1\" class=\"dataframe\">\n",
       "  <thead>\n",
       "    <tr style=\"text-align: right;\">\n",
       "      <th></th>\n",
       "      <th>date</th>\n",
       "      <th>trends_index</th>\n",
       "      <th>keyword</th>\n",
       "      <th>region</th>\n",
       "    </tr>\n",
       "  </thead>\n",
       "  <tbody>\n",
       "    <tr>\n",
       "      <th>0</th>\n",
       "      <td>2004-01-01</td>\n",
       "      <td>0</td>\n",
       "      <td>Namibian Dollar</td>\n",
       "      <td>AO</td>\n",
       "    </tr>\n",
       "    <tr>\n",
       "      <th>1</th>\n",
       "      <td>2004-02-01</td>\n",
       "      <td>0</td>\n",
       "      <td>Namibian Dollar</td>\n",
       "      <td>AO</td>\n",
       "    </tr>\n",
       "    <tr>\n",
       "      <th>2</th>\n",
       "      <td>2004-03-01</td>\n",
       "      <td>0</td>\n",
       "      <td>Namibian Dollar</td>\n",
       "      <td>AO</td>\n",
       "    </tr>\n",
       "    <tr>\n",
       "      <th>3</th>\n",
       "      <td>2004-04-01</td>\n",
       "      <td>0</td>\n",
       "      <td>Namibian Dollar</td>\n",
       "      <td>AO</td>\n",
       "    </tr>\n",
       "    <tr>\n",
       "      <th>4</th>\n",
       "      <td>2004-05-01</td>\n",
       "      <td>50</td>\n",
       "      <td>Namibian Dollar</td>\n",
       "      <td>AO</td>\n",
       "    </tr>\n",
       "    <tr>\n",
       "      <th>...</th>\n",
       "      <td>...</td>\n",
       "      <td>...</td>\n",
       "      <td>...</td>\n",
       "      <td>...</td>\n",
       "    </tr>\n",
       "    <tr>\n",
       "      <th>228</th>\n",
       "      <td>2023-01-01</td>\n",
       "      <td>1</td>\n",
       "      <td>Malawian Kwacha</td>\n",
       "      <td>MW</td>\n",
       "    </tr>\n",
       "    <tr>\n",
       "      <th>229</th>\n",
       "      <td>2023-02-01</td>\n",
       "      <td>1</td>\n",
       "      <td>Malawian Kwacha</td>\n",
       "      <td>MW</td>\n",
       "    </tr>\n",
       "    <tr>\n",
       "      <th>230</th>\n",
       "      <td>2023-03-01</td>\n",
       "      <td>1</td>\n",
       "      <td>Malawian Kwacha</td>\n",
       "      <td>MW</td>\n",
       "    </tr>\n",
       "    <tr>\n",
       "      <th>231</th>\n",
       "      <td>2023-04-01</td>\n",
       "      <td>1</td>\n",
       "      <td>Malawian Kwacha</td>\n",
       "      <td>MW</td>\n",
       "    </tr>\n",
       "    <tr>\n",
       "      <th>232</th>\n",
       "      <td>2023-05-01</td>\n",
       "      <td>1</td>\n",
       "      <td>Malawian Kwacha</td>\n",
       "      <td>MW</td>\n",
       "    </tr>\n",
       "  </tbody>\n",
       "</table>\n",
       "<p>23766 rows × 4 columns</p>\n",
       "</div>"
      ],
      "text/plain": [
       "          date  trends_index          keyword region\n",
       "0   2004-01-01             0  Namibian Dollar     AO\n",
       "1   2004-02-01             0  Namibian Dollar     AO\n",
       "2   2004-03-01             0  Namibian Dollar     AO\n",
       "3   2004-04-01             0  Namibian Dollar     AO\n",
       "4   2004-05-01            50  Namibian Dollar     AO\n",
       "..         ...           ...              ...    ...\n",
       "228 2023-01-01             1  Malawian Kwacha     MW\n",
       "229 2023-02-01             1  Malawian Kwacha     MW\n",
       "230 2023-03-01             1  Malawian Kwacha     MW\n",
       "231 2023-04-01             1  Malawian Kwacha     MW\n",
       "232 2023-05-01             1  Malawian Kwacha     MW\n",
       "\n",
       "[23766 rows x 4 columns]"
      ]
     },
     "execution_count": 10,
     "metadata": {},
     "output_type": "execute_result"
    }
   ],
   "source": [
    "results"
   ]
  },
  {
   "cell_type": "code",
   "execution_count": 11,
   "metadata": {},
   "outputs": [],
   "source": [
    "results.to_csv(\"C:/Users/danid/Documents/currency22.csv\") # CHANGE"
   ]
  }
 ],
 "metadata": {
  "kernelspec": {
   "display_name": "master_thesis",
   "language": "python",
   "name": "python3"
  },
  "language_info": {
   "codemirror_mode": {
    "name": "ipython",
    "version": 3
   },
   "file_extension": ".py",
   "mimetype": "text/x-python",
   "name": "python",
   "nbconvert_exporter": "python",
   "pygments_lexer": "ipython3",
   "version": "3.11.3"
  },
  "orig_nbformat": 4
 },
 "nbformat": 4,
 "nbformat_minor": 2
}
