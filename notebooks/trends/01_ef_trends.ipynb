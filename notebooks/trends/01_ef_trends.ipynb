{
 "cells": [
  {
   "attachments": {},
   "cell_type": "markdown",
   "metadata": {},
   "source": [
    "This notebook is used for collecting google trends data.\n",
    "- It takes the countries from the UNHCR refugees dataset\n",
    "- Gets the languages associated  to each country\n",
    "- Gets the two letter language codes associated with each language\n",
    "- Translates words from english to those languages\n",
    "\n",
    "#### Read in relevant dictionaries, dataframes, modules"
   ]
  },
  {
   "cell_type": "code",
   "execution_count": 71,
   "metadata": {},
   "outputs": [],
   "source": [
    "import pytrends\n",
    "from country_abbrev import *\n",
    "from country_language import *\n",
    "from pytrends.request import TrendReq\n",
    "import pandas as pd\n",
    "import itertools\n",
    "import googletrans\n",
    "\n",
    "# get the list of all unique countries:\n",
    "countries = pd.Series(pd.read_csv('../../data/data.csv', engine=\"pyarrow\").Country_o.unique()).to_frame(name='country')\n",
    "\n",
    "# list of all unique languages:\n",
    "unique_languages = pd.Series(list(set(list(itertools.chain(*country_language_dict.values())))), name='language').str.lower()\n",
    "\n",
    "# list of language codes from googletrans\n",
    "langcodes = pd.DataFrame.from_dict(googletrans.LANGCODES, orient='index')"
   ]
  },
  {
   "attachments": {},
   "cell_type": "markdown",
   "metadata": {},
   "source": [
    "Merge list of languages "
   ]
  },
  {
   "cell_type": "code",
   "execution_count": 72,
   "metadata": {},
   "outputs": [],
   "source": [
    "refugee_lang = unique_languages.to_frame().merge(langcodes, left_on='language', right_index=True, how='left')"
   ]
  },
  {
   "attachments": {},
   "cell_type": "markdown",
   "metadata": {},
   "source": [
    "Out of the approximately 190 languages, there are about 110 left that don't have codes associated with the specific names we provide. This could be due to not data cleaning, because appear to be less commonly used languages we will skip this for now."
   ]
  },
  {
   "cell_type": "code",
   "execution_count": 73,
   "metadata": {},
   "outputs": [
    {
     "data": {
      "text/html": [
       "<div>\n",
       "<style scoped>\n",
       "    .dataframe tbody tr th:only-of-type {\n",
       "        vertical-align: middle;\n",
       "    }\n",
       "\n",
       "    .dataframe tbody tr th {\n",
       "        vertical-align: top;\n",
       "    }\n",
       "\n",
       "    .dataframe thead th {\n",
       "        text-align: right;\n",
       "    }\n",
       "</style>\n",
       "<table border=\"1\" class=\"dataframe\">\n",
       "  <thead>\n",
       "    <tr style=\"text-align: right;\">\n",
       "      <th></th>\n",
       "      <th>language</th>\n",
       "      <th>0</th>\n",
       "    </tr>\n",
       "  </thead>\n",
       "  <tbody>\n",
       "    <tr>\n",
       "      <th>75</th>\n",
       "      <td>slovene</td>\n",
       "      <td>NaN</td>\n",
       "    </tr>\n",
       "    <tr>\n",
       "      <th>122</th>\n",
       "      <td>sami</td>\n",
       "      <td>NaN</td>\n",
       "    </tr>\n",
       "    <tr>\n",
       "      <th>162</th>\n",
       "      <td>kirundi</td>\n",
       "      <td>NaN</td>\n",
       "    </tr>\n",
       "    <tr>\n",
       "      <th>45</th>\n",
       "      <td>bassa</td>\n",
       "      <td>NaN</td>\n",
       "    </tr>\n",
       "    <tr>\n",
       "      <th>167</th>\n",
       "      <td>tok pisin</td>\n",
       "      <td>NaN</td>\n",
       "    </tr>\n",
       "    <tr>\n",
       "      <th>182</th>\n",
       "      <td>forro</td>\n",
       "      <td>NaN</td>\n",
       "    </tr>\n",
       "    <tr>\n",
       "      <th>26</th>\n",
       "      <td>tongan</td>\n",
       "      <td>NaN</td>\n",
       "    </tr>\n",
       "    <tr>\n",
       "      <th>146</th>\n",
       "      <td>taiwanese hokkien</td>\n",
       "      <td>NaN</td>\n",
       "    </tr>\n",
       "    <tr>\n",
       "      <th>121</th>\n",
       "      <td>berber</td>\n",
       "      <td>NaN</td>\n",
       "    </tr>\n",
       "    <tr>\n",
       "      <th>61</th>\n",
       "      <td>ndebele</td>\n",
       "      <td>NaN</td>\n",
       "    </tr>\n",
       "  </tbody>\n",
       "</table>\n",
       "</div>"
      ],
      "text/plain": [
       "              language    0\n",
       "75             slovene  NaN\n",
       "122               sami  NaN\n",
       "162            kirundi  NaN\n",
       "45               bassa  NaN\n",
       "167          tok pisin  NaN\n",
       "182              forro  NaN\n",
       "26              tongan  NaN\n",
       "146  taiwanese hokkien  NaN\n",
       "121             berber  NaN\n",
       "61             ndebele  NaN"
      ]
     },
     "execution_count": 73,
     "metadata": {},
     "output_type": "execute_result"
    }
   ],
   "source": [
    "refugee_lang[refugee_lang[0].isna()].sample(10)"
   ]
  },
  {
   "cell_type": "code",
   "execution_count": 74,
   "metadata": {},
   "outputs": [],
   "source": [
    "refugee_lang.dropna(inplace=True)\n"
   ]
  },
  {
   "attachments": {},
   "cell_type": "markdown",
   "metadata": {},
   "source": [
    "Set up translator(s)"
   ]
  },
  {
   "cell_type": "code",
   "execution_count": 122,
   "metadata": {},
   "outputs": [],
   "source": [
    "from deep_translator import GoogleTranslator\n",
    "translator = GoogleTranslator(source='en', target='en') # output -> Weiter so, du bist großartig\n",
    "\n",
    "def translate_keywords_slow(translator, series, lang):\n",
    "    translator.target = lang\n",
    "    series = series.str.split('+').explode()\n",
    "    series_translated = translator.translate_batch(series.values.tolist())\n",
    "    series_translated = pd.Series(index=series.index.tolist(), data=series_translated, name = series.name).to_frame().groupby(series.index)[series.name].agg(list).apply(lambda x: '+'.join(x))\n",
    "    return series_translated"
   ]
  },
  {
   "cell_type": "code",
   "execution_count": 154,
   "metadata": {},
   "outputs": [],
   "source": [
    "import requests\n",
    "\n",
    "def translate_keywords(series, lang):\n",
    "\n",
    "    series = series.str.split('+').explode()\n",
    "    url = \"https://translate.googleapis.com/translate_a/single\"\n",
    "    params = {\n",
    "        \"client\": \"gtx\",\n",
    "        \"sl\": \"auto\",\n",
    "        \"tl\": lang,\n",
    "        \"dt\": \"t\",\n",
    "        \"q\": \"\\n\".join(series.tolist())\n",
    "    }\n",
    "    response = requests.get(url, params=params)\n",
    "    series_translated = [r[0].strip('\\n').lower() for r in response.json()[0]]\n",
    "    series_translated = pd.Series(index=series.index.tolist(), data=series_translated, name = series.name).to_frame().groupby(series.index)[series.name].agg(list).apply(lambda x: '+'.join(x))\n",
    "    return series_translated"
   ]
  },
  {
   "attachments": {},
   "cell_type": "markdown",
   "metadata": {},
   "source": [
    "Read in list of words from the paper:"
   ]
  },
  {
   "cell_type": "code",
   "execution_count": 152,
   "metadata": {},
   "outputs": [],
   "source": [
    "boss_words = pd.read_csv('boss_words.csv')['list']"
   ]
  },
  {
   "cell_type": "code",
   "execution_count": 155,
   "metadata": {},
   "outputs": [
    {
     "data": {
      "text/plain": [
       "0                               asesores+asesores\n",
       "1                                          agente\n",
       "2                                 extraterrestres\n",
       "3      solicitante+solicitantes+solicitud+aplicar\n",
       "4                                            cita\n",
       "                          ...                    \n",
       "187                                     bienestar\n",
       "188                                   aflicciones\n",
       "189                               visa de trabajo\n",
       "190                                        obrero\n",
       "191                                 empeoramiento\n",
       "Name: list, Length: 192, dtype: object"
      ]
     },
     "execution_count": 155,
     "metadata": {},
     "output_type": "execute_result"
    }
   ],
   "source": [
    "translate_keywords_fast(boss_words, 'es')"
   ]
  }
 ],
 "metadata": {
  "kernelspec": {
   "display_name": "refugees",
   "language": "python",
   "name": "python3"
  },
  "language_info": {
   "codemirror_mode": {
    "name": "ipython",
    "version": 3
   },
   "file_extension": ".py",
   "mimetype": "text/x-python",
   "name": "python",
   "nbconvert_exporter": "python",
   "pygments_lexer": "ipython3",
   "version": "3.11.3"
  },
  "orig_nbformat": 4
 },
 "nbformat": 4,
 "nbformat_minor": 2
}
