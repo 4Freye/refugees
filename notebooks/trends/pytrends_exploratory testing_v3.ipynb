{
 "cells": [
  {
   "cell_type": "code",
   "execution_count": 1,
   "metadata": {},
   "outputs": [],
   "source": [
    "import pytrends\n",
    "import pandas as pd\n",
    "import os\n",
    "import pycountry\n",
    "import trends_helpers\n",
    "import seaborn as sns\n",
    "import matplotlib.pyplot as plt\n",
    "import numpy as np\n",
    "import plotly.express as px\n",
    "import ipywidgets as widgets\n",
    "from IPython.display import display, clear_output\n",
    "from ipywidgets.embed import embed_minimal_html\n"
   ]
  },
  {
   "attachments": {},
   "cell_type": "markdown",
   "metadata": {},
   "source": [
    "Looking at keywords downloaded from 2005-2022.\n",
    "- English\n",
    "- Up to 2 origin languages"
   ]
  },
  {
   "cell_type": "code",
   "execution_count": 2,
   "metadata": {},
   "outputs": [
    {
     "name": "stderr",
     "output_type": "stream",
     "text": [
      "C:\\Users\\danid\\AppData\\Local\\Temp\\ipykernel_14824\\24510774.py:3: DtypeWarning: Columns (1) have mixed types. Specify dtype option on import or set low_memory=False.\n",
      "  english_boss = pd.read_csv(\"data/semantic_keywords_boss_trends_EN.csv\").drop_duplicates().drop(columns=[\"Unnamed: 0\"])\n"
     ]
    },
    {
     "name": "stdout",
     "output_type": "stream",
     "text": [
      "(21816, 22)\n",
      "(39096, 22)\n",
      "(41256, 42)\n",
      "(38549, 41)\n"
     ]
    }
   ],
   "source": [
    "english_from_topics = pd.read_csv(\"data/semantic_keywordsfromtopics_trends_EN.csv\").drop(columns=[\"Unnamed: 0\"]).drop_duplicates()\n",
    "ol_from_topics = pd.read_csv(\"data/semantic_keywordsfromtopics_trends_orig_lang.csv\").drop(columns=[\"Unnamed: 0\"]).drop_duplicates()\n",
    "english_boss = pd.read_csv(\"data/semantic_keywords_boss_trends_EN.csv\").drop_duplicates().drop(columns=[\"Unnamed: 0\"])\n",
    "ol_boss = pd.read_csv(\"data/semantic_keywords_boss_trends_OL.csv\").drop_duplicates()\n",
    "print(english_from_topics.shape)\n",
    "print(ol_from_topics.shape)\n",
    "print(english_boss.shape)\n",
    "print(ol_boss.shape)"
   ]
  },
  {
   "cell_type": "code",
   "execution_count": 3,
   "metadata": {},
   "outputs": [
    {
     "name": "stdout",
     "output_type": "stream",
     "text": [
      "<class 'pandas.core.frame.DataFrame'>\n",
      "RangeIndex: 38549 entries, 0 to 38548\n",
      "Data columns (total 41 columns):\n",
      " #   Column                                                         Non-Null Count  Dtype  \n",
      "---  ------                                                         --------------  -----  \n",
      " 0   date                                                           38549 non-null  object \n",
      " 1   asylum                                                         27716 non-null  float64\n",
      " 2   citizenship+citizenships                                       30373 non-null  float64\n",
      " 3   work visa                                                      24586 non-null  float64\n",
      " 4   dual citizenship                                               25785 non-null  float64\n",
      " 5   embassy+embassies                                              12094 non-null  float64\n",
      " 6   nan                                                            37901 non-null  float64\n",
      " 7   immigrate+immigrated                                           29953 non-null  float64\n",
      " 8   recruitment+recruitments                                       19649 non-null  float64\n",
      " 9   nationality+nationalities                                      11448 non-null  float64\n",
      " 10  visa+visas                                                     29962 non-null  float64\n",
      " 11  country                                                        38333 non-null  object \n",
      " 12  deportation+deportations+deported                              25451 non-null  float64\n",
      " 13  devaluation                                                    11232 non-null  float64\n",
      " 14  emigration                                                     25539 non-null  float64\n",
      " 15  legalization+legalisation+legalisations+legalizations          23109 non-null  float64\n",
      " 16  recession+recessions                                           17034 non-null  float64\n",
      " 17  naturalization+naturalisation+naturalisations+naturalizations  23950 non-null  float64\n",
      " 18  political asylum                                               23961 non-null  float64\n",
      " 19  smuggler+smugglers+smuggling                                   18870 non-null  float64\n",
      " 20  undocumented                                                   11448 non-null  float64\n",
      " 21  consulate+consulates                                           18090 non-null  float64\n",
      " 22  crises+crisis                                                  17496 non-null  float64\n",
      " 23  diaspora                                                       11880 non-null  float64\n",
      " 24  dual nationality                                               16607 non-null  float64\n",
      " 25  migration                                                      15119 non-null  float64\n",
      " 26  repatriation                                                   12311 non-null  float64\n",
      " 27  political refugee                                              25453 non-null  float64\n",
      " 28  visa free                                                      13604 non-null  float64\n",
      " 29  citizen                                                        5400 non-null   float64\n",
      " 30  immigrant+immigrants                                           8856 non-null   float64\n",
      " 31  emigrant+emigrants                                             12096 non-null  float64\n",
      " 32  migrate                                                        11423 non-null  float64\n",
      " 33  refugee+refugees                                               14006 non-null  float64\n",
      " 34  emigrate+emigrated                                             21348 non-null  float64\n",
      " 35  bureau of immigration                                          6048 non-null   float64\n",
      " 36  foreigner+foreigners                                           9504 non-null   float64\n",
      " 37  nationalization+nationalisation                                7776 non-null   float64\n",
      " 38  asylum seeker                                                  3888 non-null   float64\n",
      " 39  border controls+border control                                 2592 non-null   float64\n",
      " 40  student visa                                                   637 non-null    float64\n",
      "dtypes: float64(39), object(2)\n",
      "memory usage: 12.1+ MB\n"
     ]
    }
   ],
   "source": [
    "ol_boss.info()"
   ]
  },
  {
   "cell_type": "code",
   "execution_count": 4,
   "metadata": {},
   "outputs": [
    {
     "name": "stdout",
     "output_type": "stream",
     "text": [
      "<class 'pandas.core.frame.DataFrame'>\n",
      "Index: 12096 entries, 0 to 41255\n",
      "Data columns (total 41 columns):\n",
      " #   Column                                                         Non-Null Count  Dtype  \n",
      "---  ------                                                         --------------  -----  \n",
      " 0   date                                                           12096 non-null  object \n",
      " 1   asylum                                                         9720 non-null   float64\n",
      " 2   citizen                                                        11448 non-null  float64\n",
      " 3   citizenship+citizenships                                       8856 non-null   float64\n",
      " 4   consulate+consulates                                           7344 non-null   float64\n",
      " 5   crises+crisis                                                  10368 non-null  float64\n",
      " 6   diaspora                                                       10584 non-null  float64\n",
      " 7   embassy+embassies                                              11232 non-null  float64\n",
      " 8   emigration                                                     7776 non-null   float64\n",
      " 9   foreigner+foreigners                                           9288 non-null   float64\n",
      " 10  immigrant+immigrants                                           8640 non-null   float64\n",
      " 11  migrate                                                        9720 non-null   float64\n",
      " 12  migration                                                      11664 non-null  float64\n",
      " 13  nationality+nationalities                                      9936 non-null   float64\n",
      " 14  recruitment+recruitments                                       9504 non-null   float64\n",
      " 15  refugee+refugees                                               7560 non-null   float64\n",
      " 16  repatriation                                                   7128 non-null   float64\n",
      " 17  Schengen                                                       11016 non-null  float64\n",
      " 18  student visa                                                   7344 non-null   float64\n",
      " 19  visa free                                                      9072 non-null   float64\n",
      " 20  visa+visas                                                     12096 non-null  float64\n",
      " 21  work visa                                                      9504 non-null   float64\n",
      " 22  country                                                        12096 non-null  object \n",
      " 23  emigrant+emigrants                                             2376 non-null   float64\n",
      " 24  devaluation                                                    8424 non-null   float64\n",
      " 25  immigrate+immigrated                                           3024 non-null   float64\n",
      " 26  legalization+legalisation+legalisations+legalizations          3024 non-null   float64\n",
      " 27  naturalization+naturalisation+naturalisations+naturalizations  2592 non-null   float64\n",
      " 28  recession+recessions                                           5184 non-null   float64\n",
      " 29  smuggler+smugglers+smuggling                                   4104 non-null   float64\n",
      " 30  deportation+deportations+deported                              3240 non-null   float64\n",
      " 31  dual citizenship                                               2808 non-null   float64\n",
      " 32  undocumented                                                   3240 non-null   float64\n",
      " 33  asylum seeker                                                  1728 non-null   float64\n",
      " 34  border controls+border control                                 1944 non-null   float64\n",
      " 35  bureau of immigration                                          1080 non-null   float64\n",
      " 36  dual nationality                                               1296 non-null   float64\n",
      " 37  emigrate+emigrated                                             1728 non-null   float64\n",
      " 38  nationalization+nationalisation                                1296 non-null   float64\n",
      " 39  political asylum                                               1296 non-null   float64\n",
      " 40  political refugee                                              864 non-null    float64\n",
      "dtypes: float64(39), object(2)\n",
      "memory usage: 3.9+ MB\n"
     ]
    }
   ],
   "source": [
    "# english_boss.info() # A bunch of missing dates - idk what happened there!\n",
    "\n",
    "# We can't do much without dates so I'm dropping them - will have to check if it's worth re-downloading this \n",
    "\n",
    "english_boss = english_boss[english_boss.date.isnull()==False].drop(columns=[\"index\"])\n",
    "\n",
    "english_boss.info()\n"
   ]
  },
  {
   "cell_type": "code",
   "execution_count": 5,
   "metadata": {},
   "outputs": [
    {
     "name": "stdout",
     "output_type": "stream",
     "text": [
      "<class 'pandas.core.frame.DataFrame'>\n",
      "Index: 39096 entries, 0 to 39311\n",
      "Data columns (total 22 columns):\n",
      " #   Column            Non-Null Count  Dtype  \n",
      "---  ------            --------------  -----  \n",
      " 0   date              39096 non-null  object \n",
      " 1   passport          30456 non-null  float64\n",
      " 2   Immigration       30672 non-null  float64\n",
      " 3   War               38448 non-null  float64\n",
      " 4   Crisis            34992 non-null  float64\n",
      " 5   Civilian          31752 non-null  float64\n",
      " 6   Currency          35856 non-null  float64\n",
      " 7   Lottery           33480 non-null  float64\n",
      " 8   Economy           35424 non-null  float64\n",
      " 9   Coup d’état       18360 non-null  float64\n",
      " 10  Government        36936 non-null  float64\n",
      " 11  country           38880 non-null  object \n",
      " 12  Conflict          32832 non-null  float64\n",
      " 13  Violence          33048 non-null  float64\n",
      " 14  Genocide          22896 non-null  float64\n",
      " 15  Armed Forces      20088 non-null  float64\n",
      " 16  Protest           27432 non-null  float64\n",
      " 17  Travel Visa       11448 non-null  float64\n",
      " 18  Refugee           23544 non-null  float64\n",
      " 19  Militia           23976 non-null  float64\n",
      " 20  Wage              33048 non-null  float64\n",
      " 21  Bureau de change  9504 non-null   float64\n",
      "dtypes: float64(20), object(2)\n",
      "memory usage: 6.9+ MB\n"
     ]
    }
   ],
   "source": [
    "ol_from_topics.info()"
   ]
  },
  {
   "cell_type": "code",
   "execution_count": 6,
   "metadata": {},
   "outputs": [
    {
     "name": "stdout",
     "output_type": "stream",
     "text": [
      "<class 'pandas.core.frame.DataFrame'>\n",
      "Index: 21816 entries, 0 to 21815\n",
      "Data columns (total 22 columns):\n",
      " #   Column            Non-Null Count  Dtype  \n",
      "---  ------            --------------  -----  \n",
      " 0   date              21816 non-null  object \n",
      " 1   passport          20952 non-null  float64\n",
      " 2   Immigration       21168 non-null  float64\n",
      " 3   Travel Visa       16200 non-null  float64\n",
      " 4   Refugee           18360 non-null  float64\n",
      " 5   Conflict          20304 non-null  float64\n",
      " 6   War               21600 non-null  float64\n",
      " 7   Violence          20952 non-null  float64\n",
      " 8   Crisis            20952 non-null  float64\n",
      " 9   Militia           17496 non-null  float64\n",
      " 10  Genocide          19872 non-null  float64\n",
      " 11  Armed Forces      12528 non-null  float64\n",
      " 12  Civilian          14256 non-null  float64\n",
      " 13  Currency          21600 non-null  float64\n",
      " 14  Lottery           21384 non-null  float64\n",
      " 15  Economy           20736 non-null  float64\n",
      " 16  Wage              18792 non-null  float64\n",
      " 17  Protest           19656 non-null  float64\n",
      " 18  Government        21168 non-null  float64\n",
      " 19  country           21816 non-null  object \n",
      " 20  Bureau de change  4752 non-null   float64\n",
      " 21  Coup d’état       1080 non-null   float64\n",
      "dtypes: float64(20), object(2)\n",
      "memory usage: 3.8+ MB\n"
     ]
    }
   ],
   "source": [
    "english_from_topics.info()"
   ]
  },
  {
   "attachments": {},
   "cell_type": "markdown",
   "metadata": {},
   "source": [
    "## Dimensionality reduction\n",
    "\n",
    "### Merging OL"
   ]
  },
  {
   "attachments": {},
   "cell_type": "markdown",
   "metadata": {},
   "source": [
    "I downloaded data for a maximum of two origin languages. This might not be the best approach, but for now, I'm averaging the values when I have more than one OL."
   ]
  },
  {
   "cell_type": "code",
   "execution_count": 7,
   "metadata": {},
   "outputs": [
    {
     "name": "stdout",
     "output_type": "stream",
     "text": [
      "(30240, 22)\n",
      "(27216, 41)\n"
     ]
    }
   ],
   "source": [
    "ol_from_topics_av = ol_from_topics.groupby(['country', 'date']).mean().reset_index()\n",
    "ol_boss_av = ol_boss.groupby(['country', 'date']).mean().reset_index()\n",
    "# Print the transformed dataset\n",
    "print(ol_from_topics_av.shape)\n",
    "print(ol_boss_av.shape)\n"
   ]
  },
  {
   "attachments": {},
   "cell_type": "markdown",
   "metadata": {},
   "source": [
    "### I want a 'big merge' version to contrast against the reducted version"
   ]
  },
  {
   "cell_type": "code",
   "execution_count": 8,
   "metadata": {},
   "outputs": [
    {
     "name": "stdout",
     "output_type": "stream",
     "text": [
      "(24408, 61)\n",
      "(30240, 61)\n"
     ]
    }
   ],
   "source": [
    "# Let's merge first english and OL separately\n",
    "\n",
    "english = pd.merge(english_from_topics, english_boss, on=[\"date\", \"country\"], how=\"outer\")\n",
    "ol = pd.merge(ol_from_topics_av, ol_boss_av, on=[\"date\", \"country\"], how=\"outer\")\n",
    "print(english.shape)\n",
    "print(ol.shape)"
   ]
  },
  {
   "cell_type": "code",
   "execution_count": 9,
   "metadata": {},
   "outputs": [
    {
     "name": "stdout",
     "output_type": "stream",
     "text": [
      "Index(['passport', 'Immigration', 'Travel Visa', 'Refugee', 'Conflict', 'War',\n",
      "       'Violence', 'Crisis', 'Militia', 'Genocide', 'Armed Forces', 'Civilian',\n",
      "       'Currency', 'Lottery', 'Economy', 'Wage', 'Protest', 'Government',\n",
      "       'Bureau de change', 'Coup d’état', 'asylum', 'citizen',\n",
      "       'citizenship+citizenships', 'consulate+consulates', 'crises+crisis',\n",
      "       'diaspora', 'embassy+embassies', 'emigration', 'foreigner+foreigners',\n",
      "       'immigrant+immigrants', 'migrate', 'migration',\n",
      "       'nationality+nationalities', 'recruitment+recruitments',\n",
      "       'refugee+refugees', 'repatriation', 'Schengen', 'student visa',\n",
      "       'visa free', 'visa+visas', 'work visa', 'emigrant+emigrants',\n",
      "       'devaluation', 'immigrate+immigrated',\n",
      "       'legalization+legalisation+legalisations+legalizations',\n",
      "       'naturalization+naturalisation+naturalisations+naturalizations',\n",
      "       'recession+recessions', 'smuggler+smugglers+smuggling',\n",
      "       'deportation+deportations+deported', 'dual citizenship', 'undocumented',\n",
      "       'asylum seeker', 'border controls+border control',\n",
      "       'bureau of immigration', 'dual nationality', 'emigrate+emigrated',\n",
      "       'nationalization+nationalisation', 'political asylum',\n",
      "       'political refugee'],\n",
      "      dtype='object')\n"
     ]
    }
   ],
   "source": [
    "# Get the keywords listed \n",
    "keywords = english.columns[~english.columns.isin(['country', 'date'])]\n",
    "print(keywords)\n"
   ]
  },
  {
   "cell_type": "code",
   "execution_count": 10,
   "metadata": {},
   "outputs": [],
   "source": [
    "# Create a mapping dictionary for renaming the columns\n",
    "rename_dict_ol = {var: f\"{var}_ol\" for var in keywords}\n",
    "rename_dict_en = {var: f\"{var}_en\" for var in keywords}\n",
    "\n",
    "# Rename the columns using the mapping dictionary\n",
    "\n",
    "english_wide = english.copy()\n",
    "ol_wide = ol.copy()\n",
    "\n",
    "english_wide.rename(columns=rename_dict_en, inplace=True)\n",
    "ol_wide.rename(columns=rename_dict_ol, inplace=True)"
   ]
  },
  {
   "cell_type": "code",
   "execution_count": 11,
   "metadata": {},
   "outputs": [
    {
     "name": "stdout",
     "output_type": "stream",
     "text": [
      "(37800, 120)\n",
      "Index(['date', 'passport_en', 'Immigration_en', 'Travel Visa_en', 'Refugee_en',\n",
      "       'Conflict_en', 'War_en', 'Violence_en', 'Crisis_en', 'Militia_en',\n",
      "       ...\n",
      "       'emigrant+emigrants_ol', 'migrate_ol', 'refugee+refugees_ol',\n",
      "       'emigrate+emigrated_ol', 'bureau of immigration_ol',\n",
      "       'foreigner+foreigners_ol', 'nationalization+nationalisation_ol',\n",
      "       'asylum seeker_ol', 'border controls+border control_ol',\n",
      "       'student visa_ol'],\n",
      "      dtype='object', length=120)\n"
     ]
    }
   ],
   "source": [
    "big_merge = pd.merge(english_wide, ol_wide, on=[\"country\", \"date\"], how=\"outer\")\n",
    "print(big_merge.shape)\n",
    "print(big_merge.columns)"
   ]
  },
  {
   "attachments": {},
   "cell_type": "markdown",
   "metadata": {},
   "source": [
    "### Cosine similarity to merge similar keywords and potentially get smoother results"
   ]
  },
  {
   "cell_type": "code",
   "execution_count": 12,
   "metadata": {},
   "outputs": [
    {
     "name": "stdout",
     "output_type": "stream",
     "text": [
      "['Immigration', 'bureau of immigration']\n",
      "['student visa', 'Travel Visa', 'visa+visas', 'work visa', 'visa free']\n",
      "['political asylum', 'Refugee', 'political refugee', 'asylum seeker', 'refugee+refugees', 'asylum']\n",
      "['Crisis', 'crises+crisis']\n",
      "['dual citizenship', 'nationality+nationalities', 'citizenship+citizenships', 'dual nationality']\n"
     ]
    }
   ],
   "source": [
    "import pandas as pd\n",
    "from sklearn.metrics.pairwise import cosine_similarity\n",
    "from sklearn.feature_extraction.text import CountVectorizer\n",
    "\n",
    "# Create a CountVectorizer object\n",
    "vectorizer = CountVectorizer()\n",
    "\n",
    "# Fit and transform the list of words\n",
    "word_vectors = vectorizer.fit_transform(keywords)\n",
    "\n",
    "# Calculate the cosine similarity matrix\n",
    "cosine_similarities = cosine_similarity(word_vectors)\n",
    "\n",
    "# Create an empty list to store the results\n",
    "results = []\n",
    "\n",
    "# Iterate over the words and their cosine similarities\n",
    "for i, word in enumerate(keywords):\n",
    "    for j, other_word in enumerate(keywords):\n",
    "        if i != j:\n",
    "            similarity = cosine_similarities[i, j]\n",
    "            results.append([word, other_word, similarity])\n",
    "\n",
    "# Create a DataFrame from the results list\n",
    "df_similarity = pd.DataFrame(results, columns=['Word 1', 'Word 2', 'Cosine Similarity'])\n",
    "\n",
    "# Set the cosine similarity threshold\n",
    "similarity_threshold = 0.4\n",
    "\n",
    "# Create an empty list to store the column pairs and groups\n",
    "column_pairs = []\n",
    "column_groups = []\n",
    "\n",
    "# Iterate over the rows in df_similarity\n",
    "for _, row in df_similarity.iterrows():\n",
    "    word1 = row['Word 1']\n",
    "    word2 = row['Word 2']\n",
    "    similarity = row['Cosine Similarity']\n",
    "    \n",
    "    if similarity > similarity_threshold:\n",
    "        found = False\n",
    "        for group in column_groups:\n",
    "            if word1 in group or word2 in group:\n",
    "                group.add(word1)\n",
    "                group.add(word2)\n",
    "                found = True\n",
    "                break\n",
    "        if not found:\n",
    "            column_groups.append({word1, word2})\n",
    "\n",
    "# Combine overlapping groups\n",
    "merged_groups = []\n",
    "for group in column_groups:\n",
    "    merged = False\n",
    "    for merged_group in merged_groups:\n",
    "        if len(group.intersection(merged_group)) > 0:\n",
    "            merged_group.update(group)\n",
    "            merged = True\n",
    "            break\n",
    "    if not merged:\n",
    "        merged_groups.append(group)\n",
    "\n",
    "# Convert groups to list\n",
    "column_groups = [list(group) for group in merged_groups]\n",
    "\n",
    "# Print the column groups\n",
    "for group in column_groups:\n",
    "    print(group)\n",
    "\n"
   ]
  },
  {
   "cell_type": "code",
   "execution_count": 13,
   "metadata": {},
   "outputs": [
    {
     "name": "stdout",
     "output_type": "stream",
     "text": [
      "(24408, 7)\n",
      "(30240, 7)\n"
     ]
    }
   ],
   "source": [
    "# Create a new DataFrame to store the averaged columns\n",
    "cos_av_en = english[['country', 'date']].copy()\n",
    "cos_av_ol = ol[['country', 'date']].copy()\n",
    "\n",
    "\n",
    "# Iterate over the column pairs\n",
    "for g in column_groups:\n",
    "    selected_columns = [col for col in english.columns if any(word in col for word in g)]\n",
    "    new_column_name = g[0] + '_related'\n",
    "    cos_av_en[new_column_name] = english[selected_columns].mean(axis=1)\n",
    "    cos_av_ol[new_column_name] = ol[selected_columns].mean(axis=1)\n",
    "\n",
    "print(cos_av_en.shape)\n",
    "print(cos_av_ol.shape)"
   ]
  },
  {
   "cell_type": "code",
   "execution_count": 14,
   "metadata": {},
   "outputs": [
    {
     "data": {
      "text/plain": [
       "Index(['Immigration_related', 'student visa_related',\n",
       "       'political asylum_related', 'Crisis_related',\n",
       "       'dual citizenship_related'],\n",
       "      dtype='object')"
      ]
     },
     "execution_count": 14,
     "metadata": {},
     "output_type": "execute_result"
    }
   ],
   "source": [
    "keywords_reduc = cos_av_en.columns[~cos_av_en.columns.isin(['country', 'date'])]\n",
    "keywords_reduc # This are the final keywords"
   ]
  },
  {
   "attachments": {},
   "cell_type": "markdown",
   "metadata": {},
   "source": [
    "## Merging OL and English"
   ]
  },
  {
   "attachments": {},
   "cell_type": "markdown",
   "metadata": {},
   "source": [
    "Now, I merge everything in the same dataset. I want to keep track of english words vs OL words, to assess performance separately."
   ]
  },
  {
   "cell_type": "code",
   "execution_count": 15,
   "metadata": {},
   "outputs": [],
   "source": [
    "# Create a mapping dictionary for renaming the columns\n",
    "rename_dict_ol = {var: f\"{var}_ol\" for var in keywords_reduc}\n",
    "rename_dict_en = {var: f\"{var}_en\" for var in keywords_reduc}\n",
    "\n",
    "# Rename the columns using the mapping dictionary\n",
    "\n",
    "cos_av_en.rename(columns=rename_dict_en, inplace=True)\n",
    "cos_av_ol.rename(columns=rename_dict_ol, inplace=True)"
   ]
  },
  {
   "cell_type": "code",
   "execution_count": 16,
   "metadata": {},
   "outputs": [
    {
     "name": "stdout",
     "output_type": "stream",
     "text": [
      "(37800, 12)\n",
      "Index(['country', 'date', 'Immigration_related_en', 'student visa_related_en',\n",
      "       'political asylum_related_en', 'Crisis_related_en',\n",
      "       'dual citizenship_related_en', 'Immigration_related_ol',\n",
      "       'student visa_related_ol', 'political asylum_related_ol',\n",
      "       'Crisis_related_ol', 'dual citizenship_related_ol'],\n",
      "      dtype='object')\n"
     ]
    }
   ],
   "source": [
    "combined_wide = pd.merge(cos_av_en, cos_av_ol, on=[\"country\", \"date\"], how=\"outer\")\n",
    "print(combined_wide.shape)\n",
    "print(combined_wide.columns)"
   ]
  },
  {
   "attachments": {},
   "cell_type": "markdown",
   "metadata": {},
   "source": [
    "Visualizing missing values:"
   ]
  },
  {
   "cell_type": "code",
   "execution_count": 17,
   "metadata": {},
   "outputs": [
    {
     "data": {
      "image/png": "[encoded data removed]",
      "text/plain": [
       "<Figure size 1200x600 with 1 Axes>"
      ]
     },
     "metadata": {},
     "output_type": "display_data"
    }
   ],
   "source": [
    "import pandas as pd\n",
    "import matplotlib.pyplot as plt\n",
    "\n",
    "# Assuming your DataFrame is called 'df'\n",
    "\n",
    "# Calculate the percentages of null values per variable\n",
    "null_percentages = combined_wide.isnull().mean() * 100\n",
    "\n",
    "# Sort variables by percentage of null values\n",
    "sorted_null_percentages = null_percentages.sort_values(ascending=False)\n",
    "\n",
    "# Plot the percentages of null values for sorted variables\n",
    "plt.figure(figsize=(12, 6))\n",
    "sorted_null_percentages.plot(kind='bar')\n",
    "plt.xlabel('Variables')\n",
    "plt.ylabel('Percentage of Null Values')\n",
    "plt.title('Percentage of Null Values per Variable (with > 40% missing) - Sorted')\n",
    "plt.xticks(rotation=90)\n",
    "plt.show()\n",
    "\n"
   ]
  },
  {
   "attachments": {},
   "cell_type": "markdown",
   "metadata": {},
   "source": [
    "This missing values matrix is a bit tricky to interpret, as each row at the moment represents a particular date. We actually have to do this analysis per month and country specifically. However, we see that in general english words have more missing values. This mean no word from the group was found."
   ]
  },
  {
   "attachments": {},
   "cell_type": "markdown",
   "metadata": {},
   "source": [
    "### Testing against RF forecasting + gtrends"
   ]
  },
  {
   "cell_type": "code",
   "execution_count": 18,
   "metadata": {},
   "outputs": [],
   "source": [
    "from sklearn.ensemble import RandomForestRegressor\n",
    "from sklearn.model_selection import GridSearchCV\n",
    "from sklearn.metrics import mean_squared_error"
   ]
  },
  {
   "cell_type": "code",
   "execution_count": 19,
   "metadata": {},
   "outputs": [],
   "source": [
    "countries = combined_wide['country'].unique().tolist()"
   ]
  },
  {
   "cell_type": "code",
   "execution_count": 20,
   "metadata": {},
   "outputs": [],
   "source": [
    "import pycountry\n",
    "\n",
    "# Define a function to convert ISO2 to ISO3\n",
    "def convert_iso2_to_iso3(iso2_code):\n",
    "    try:\n",
    "        country = pycountry.countries.get(alpha_2=iso2_code)\n",
    "        return country.alpha_3\n",
    "    except AttributeError:\n",
    "        # ISO2 code not found\n",
    "        return 'N/A'\n",
    "\n",
    "# Convert ISO2 to ISO3\n",
    "iso3_codes = [convert_iso2_to_iso3(code) for code in countries]"
   ]
  },
  {
   "attachments": {},
   "cell_type": "markdown",
   "metadata": {},
   "source": [
    "+ Current baseline RF for outflows, without text data"
   ]
  },
  {
   "cell_type": "code",
   "execution_count": 21,
   "metadata": {},
   "outputs": [],
   "source": [
    "def multi_shift(df, shift_range, columns):\n",
    "    shifted_data = []\n",
    "    for shift_value in range(shift_range.start, shift_range.stop):\n",
    "        shifted = df[columns].shift(shift_value)\n",
    "        shifted_data.append(shifted)\n",
    "    shifted_df = pd.concat(shifted_data, axis=1, keys=[f'Shift_{shift_value}' for shift_value in range(shift_range.start, shift_range.stop)])\n",
    "    shifted_df.columns = [' '.join(col).strip() for col in shifted_df.columns.values]\n",
    "    return pd.concat([df, shifted_df],axis=1).dropna()"
   ]
  },
  {
   "cell_type": "code",
   "execution_count": 22,
   "metadata": {},
   "outputs": [],
   "source": [
    "import operator\n",
    "def filter_multi_date(df,col,val, relate):\n",
    "    ops = {'>': operator.gt,\n",
    "        '<': operator.lt,\n",
    "        '>=': operator.ge,\n",
    "        '<=': operator.le,\n",
    "        '==': operator.eq}\n",
    "    col_index = pd.Series(df.index.names)[(pd.Series(df.index.names) == col)].index.tolist()[0]\n",
    "    return ops[relate](df.index.get_level_values(col_index),  pd.to_datetime(val))"
   ]
  },
  {
   "cell_type": "code",
   "execution_count": 23,
   "metadata": {},
   "outputs": [],
   "source": [
    "data_outflows = pd.read_csv('../../data/data.csv', engine='pyarrow').drop_duplicates(subset=['Id','year'])[['iso_o', 'year', 'pop_o', 'CPI_o', 'GDP_PP_o', 'GDP_PPP_o',\n",
    "       'island_o', 'area_o', 'landlocked_o', 'PR_o', 'CL_o',\n",
    "        'typeOfViolence_o', 'best_est_o', 'Nyear_conflict_o', 'Nyear_log_o',\n",
    "        'dead_log_o', 'Nyear_conf_o', 'dead_o', 'newarrival']]\n",
    "\n",
    "# data_outflows = pd.read_csv('../../data/data.csv', engine='pyarrow').drop_duplicates(subset=['Id','year'])[['iso_o', 'year', 'pop_o', 'CPI_o', 'GDP_PP_o', 'GDP_PPP_o',\n",
    "#       'island_o', 'area_o', 'landlocked_o', 'PR_o', 'CL_o',\n",
    "#       'typeOfViolence_o', 'Nyear_conflict_o', 'Nyear_log_o',\n",
    "#       'dead_log_o', 'Nyear_conf_o', 'dead_o', 'newarrival']]\n",
    "\n",
    "data_outflows = data_outflows[data_outflows[\"iso_o\"].isin(iso3_codes)]\n",
    "\n",
    "# preprocessing\n",
    "data_outflows['year'] = pd.to_datetime(data_outflows['year'], format='%Y')\n",
    "data_outflows = pd.concat([data_outflows.drop('newarrival',axis=1).groupby(['iso_o', 'year']).first(),data_outflows.groupby(['iso_o', 'year']).newarrival.sum()],axis=1)"
   ]
  },
  {
   "cell_type": "code",
   "execution_count": 24,
   "metadata": {},
   "outputs": [],
   "source": [
    "# create lagged dataset\n",
    "lagged_outflows = data_outflows.groupby('iso_o').apply(lambda x: multi_shift(x, range(1,5), ['newarrival','dead_o'])).reset_index(level=1,drop=True)\n",
    "h1_outflows = lagged_outflows.groupby('iso_o').newarrival.shift(-1)"
   ]
  },
  {
   "cell_type": "code",
   "execution_count": 25,
   "metadata": {},
   "outputs": [
    {
     "data": {
      "text/html": [
       "<style>#sk-container-id-1 {color: black;background-color: white;}#sk-container-id-1 pre{padding: 0;}#sk-container-id-1 div.sk-toggleable {background-color: white;}#sk-container-id-1 label.sk-toggleable__label {cursor: pointer;display: block;width: 100%;margin-bottom: 0;padding: 0.3em;box-sizing: border-box;text-align: center;}#sk-container-id-1 label.sk-toggleable__label-arrow:before {content: \"▸\";float: left;margin-right: 0.25em;color: #696969;}#sk-container-id-1 label.sk-toggleable__label-arrow:hover:before {color: black;}#sk-container-id-1 div.sk-estimator:hover label.sk-toggleable__label-arrow:before {color: black;}#sk-container-id-1 div.sk-toggleable__content {max-height: 0;max-width: 0;overflow: hidden;text-align: left;background-color: #f0f8ff;}#sk-container-id-1 div.sk-toggleable__content pre {margin: 0.2em;color: black;border-radius: 0.25em;background-color: #f0f8ff;}#sk-container-id-1 input.sk-toggleable__control:checked~div.sk-toggleable__content {max-height: 200px;max-width: 100%;overflow: auto;}#sk-container-id-1 input.sk-toggleable__control:checked~label.sk-toggleable__label-arrow:before {content: \"▾\";}#sk-container-id-1 div.sk-estimator input.sk-toggleable__control:checked~label.sk-toggleable__label {background-color: #d4ebff;}#sk-container-id-1 div.sk-label input.sk-toggleable__control:checked~label.sk-toggleable__label {background-color: #d4ebff;}#sk-container-id-1 input.sk-hidden--visually {border: 0;clip: rect(1px 1px 1px 1px);clip: rect(1px, 1px, 1px, 1px);height: 1px;margin: -1px;overflow: hidden;padding: 0;position: absolute;width: 1px;}#sk-container-id-1 div.sk-estimator {font-family: monospace;background-color: #f0f8ff;border: 1px dotted black;border-radius: 0.25em;box-sizing: border-box;margin-bottom: 0.5em;}#sk-container-id-1 div.sk-estimator:hover {background-color: #d4ebff;}#sk-container-id-1 div.sk-parallel-item::after {content: \"\";width: 100%;border-bottom: 1px solid gray;flex-grow: 1;}#sk-container-id-1 div.sk-label:hover label.sk-toggleable__label {background-color: #d4ebff;}#sk-container-id-1 div.sk-serial::before {content: \"\";position: absolute;border-left: 1px solid gray;box-sizing: border-box;top: 0;bottom: 0;left: 50%;z-index: 0;}#sk-container-id-1 div.sk-serial {display: flex;flex-direction: column;align-items: center;background-color: white;padding-right: 0.2em;padding-left: 0.2em;position: relative;}#sk-container-id-1 div.sk-item {position: relative;z-index: 1;}#sk-container-id-1 div.sk-parallel {display: flex;align-items: stretch;justify-content: center;background-color: white;position: relative;}#sk-container-id-1 div.sk-item::before, #sk-container-id-1 div.sk-parallel-item::before {content: \"\";position: absolute;border-left: 1px solid gray;box-sizing: border-box;top: 0;bottom: 0;left: 50%;z-index: -1;}#sk-container-id-1 div.sk-parallel-item {display: flex;flex-direction: column;z-index: 1;position: relative;background-color: white;}#sk-container-id-1 div.sk-parallel-item:first-child::after {align-self: flex-end;width: 50%;}#sk-container-id-1 div.sk-parallel-item:last-child::after {align-self: flex-start;width: 50%;}#sk-container-id-1 div.sk-parallel-item:only-child::after {width: 0;}#sk-container-id-1 div.sk-dashed-wrapped {border: 1px dashed gray;margin: 0 0.4em 0.5em 0.4em;box-sizing: border-box;padding-bottom: 0.4em;background-color: white;}#sk-container-id-1 div.sk-label label {font-family: monospace;font-weight: bold;display: inline-block;line-height: 1.2em;}#sk-container-id-1 div.sk-label-container {text-align: center;}#sk-container-id-1 div.sk-container {/* jupyter's `normalize.less` sets `[hidden] { display: none; }` but bootstrap.min.css set `[hidden] { display: none !important; }` so we also need the `!important` here to be able to override the default hidden behavior on the sphinx rendered scikit-learn.org. See: https://github.com/scikit-learn/scikit-learn/issues/21755 */display: inline-block !important;position: relative;}#sk-container-id-1 div.sk-text-repr-fallback {display: none;}</style><div id=\"sk-container-id-1\" class=\"sk-top-container\"><div class=\"sk-text-repr-fallback\"><pre>RandomForestRegressor(n_jobs=-1, random_state=42)</pre><b>In a Jupyter environment, please rerun this cell to show the HTML representation or trust the notebook. <br />On GitHub, the HTML representation is unable to render, please try loading this page with nbviewer.org.</b></div><div class=\"sk-container\" hidden><div class=\"sk-item\"><div class=\"sk-estimator sk-toggleable\"><input class=\"sk-toggleable__control sk-hidden--visually\" id=\"sk-estimator-id-1\" type=\"checkbox\" checked><label for=\"sk-estimator-id-1\" class=\"sk-toggleable__label sk-toggleable__label-arrow\">RandomForestRegressor</label><div class=\"sk-toggleable__content\"><pre>RandomForestRegressor(n_jobs=-1, random_state=42)</pre></div></div></div></div></div>"
      ],
      "text/plain": [
       "RandomForestRegressor(n_jobs=-1, random_state=42)"
      ]
     },
     "execution_count": 25,
     "metadata": {},
     "output_type": "execute_result"
    }
   ],
   "source": [
    "# Implement random forest\n",
    "end_train = '2016-01-01'\n",
    "end_val = '2016-01-01'\n",
    "\n",
    "X_train = lagged_outflows[filter_multi_date(lagged_outflows, 'year',end_train,'<=')]\n",
    "y_train = h1_outflows[filter_multi_date(h1_outflows, 'year',end_train,'<=')].dropna()\n",
    "\n",
    "rf_outflow = RandomForestRegressor(n_jobs = -1, random_state=42)\n",
    "rf_outflow.fit(X_train, y_train)"
   ]
  },
  {
   "cell_type": "code",
   "execution_count": 26,
   "metadata": {},
   "outputs": [],
   "source": [
    "X_test = lagged_outflows[filter_multi_date(lagged_outflows, 'year',end_train,'>')]\n",
    "X_test = X_test[filter_multi_date(X_test, 'year','2021','<')]\n",
    "y_test = h1_outflows[filter_multi_date(h1_outflows,'year',end_train,'>')].dropna()\n",
    "y_test = y_test[filter_multi_date(y_test, 'year','2021','<')]\n"
   ]
  },
  {
   "cell_type": "code",
   "execution_count": 27,
   "metadata": {},
   "outputs": [],
   "source": [
    "y_pred = pd.Series(rf_outflow.predict(X_test), name='pred').to_frame()\n",
    "y_pred.index = X_test.index"
   ]
  },
  {
   "cell_type": "code",
   "execution_count": 28,
   "metadata": {},
   "outputs": [
    {
     "data": {
      "text/plain": [
       "105402.94360772525"
      ]
     },
     "execution_count": 28,
     "metadata": {},
     "output_type": "execute_result"
    }
   ],
   "source": [
    "mean_squared_error(y_true=y_test, y_pred=y_pred.pred, squared=False)"
   ]
  },
  {
   "cell_type": "code",
   "execution_count": 29,
   "metadata": {},
   "outputs": [],
   "source": [
    "def feature_imp(coef, names):\n",
    "    imp = coef\n",
    "    indexes = np.argsort(imp)[-11:]\n",
    "    indexes = list(indexes)\n",
    "    \n",
    "    plt.barh(range(len(indexes)), imp[indexes], align='center')\n",
    "    plt.yticks(range(len(indexes)), [names[i] for i in indexes])\n",
    "    plt.show()\n",
    "    \n",
    "    return indexes"
   ]
  },
  {
   "cell_type": "code",
   "execution_count": 30,
   "metadata": {},
   "outputs": [
    {
     "data": {
      "image/png": "[encoded data removed]",
      "text/plain": [
       "<Figure size 640x480 with 1 Axes>"
      ]
     },
     "metadata": {},
     "output_type": "display_data"
    }
   ],
   "source": [
    "feature_names = X_train.columns\n",
    "feat_indexes = feature_imp(abs(rf_outflow.feature_importances_), feature_names)"
   ]
  },
  {
   "attachments": {},
   "cell_type": "markdown",
   "metadata": {},
   "source": [
    "### GTRENDS data \n",
    "\n",
    "+ REDUCED VERSION"
   ]
  },
  {
   "cell_type": "code",
   "execution_count": 119,
   "metadata": {},
   "outputs": [
    {
     "name": "stdout",
     "output_type": "stream",
     "text": [
      "(3150, 12)\n",
      "(3150, 12)\n",
      "(3150, 12)\n"
     ]
    }
   ],
   "source": [
    "avg_trends = combined_wide.copy()\n",
    "avg_trends[\"iso_o\"] = avg_trends[\"country\"].apply(lambda x: convert_iso2_to_iso3(x))\n",
    "avg_trends.set_index('date', inplace=True)\n",
    "avg_trends.index = pd.DatetimeIndex(avg_trends.index)\n",
    "avg_trends = avg_trends.drop(columns=[\"country\"])\n",
    "\n",
    "# Group by 'iso_o' and resample by YEAR, then mean the values\n",
    "\n",
    "avg_trends_1 = avg_trends.groupby(['iso_o', pd.Grouper(freq='Y')]).mean().reset_index()\n",
    "avg_trends_1['year'] = avg_trends_1['date'].dt.year\n",
    "avg_trends_1 = avg_trends_1.drop(columns=[\"date\"])\n",
    "\n",
    "# Taking max and min values\n",
    "\n",
    "max_trends = avg_trends.groupby(['iso_o', pd.Grouper(freq='Y')]).max().reset_index()\n",
    "max_trends['year'] = max_trends['date'].dt.year\n",
    "max_trends = max_trends.drop(columns=[\"date\"])\n",
    "\n",
    "min_trends = avg_trends.groupby(['iso_o', pd.Grouper(freq='Y')]).min().reset_index()\n",
    "min_trends['year'] = min_trends['date'].dt.year\n",
    "min_trends = min_trends.drop(columns=[\"date\"])\n",
    "\n",
    "\n",
    "print(avg_trends_1.shape)\n",
    "print(max_trends.shape)\n",
    "print(min_trends.shape)"
   ]
  },
  {
   "cell_type": "code",
   "execution_count": 120,
   "metadata": {},
   "outputs": [],
   "source": [
    "keywords_new = avg_trends_1.columns[~avg_trends_1.columns.isin(['iso_o', 'year'])]\n",
    "\n",
    "# Create a mapping dictionary for renaming the columns\n",
    "rename_dict_avg = {var: f\"{var}_avg\" for var in keywords_new}\n",
    "rename_dict_min = {var: f\"{var}_min\" for var in keywords_new}\n",
    "rename_dict_max = {var: f\"{var}_max\" for var in keywords_new}\n",
    "\n",
    "avg_trends_1.rename(columns=rename_dict_avg, inplace=True)\n",
    "max_trends.rename(columns=rename_dict_max, inplace=True)\n",
    "min_trends.rename(columns=rename_dict_min, inplace=True)\n"
   ]
  },
  {
   "cell_type": "code",
   "execution_count": 121,
   "metadata": {},
   "outputs": [],
   "source": [
    "avg_trends_1 = avg_trends_1.set_index([\"iso_o\", \"year\"])\n",
    "max_trends = max_trends.set_index([\"iso_o\", \"year\"])\n",
    "min_trends = min_trends.set_index([\"iso_o\", \"year\"])"
   ]
  },
  {
   "cell_type": "code",
   "execution_count": 122,
   "metadata": {},
   "outputs": [],
   "source": [
    "data_outflows = pd.read_csv('../../data/data.csv', engine='pyarrow').drop_duplicates(subset=['Id','year'])[['iso_o', 'year', 'pop_o', 'CPI_o', 'GDP_PP_o', 'GDP_PPP_o',\n",
    "       'island_o', 'area_o', 'landlocked_o', 'PR_o', 'CL_o',\n",
    "        'typeOfViolence_o', 'best_est_o', 'Nyear_conflict_o', 'Nyear_log_o',\n",
    "        'dead_log_o', 'Nyear_conf_o', 'dead_o', 'newarrival']]\n",
    "\n",
    "# data_outflows = pd.read_csv('../../data/data.csv', engine='pyarrow').drop_duplicates(subset=['Id','year'])[['iso_o', 'year', 'pop_o', 'CPI_o', 'GDP_PP_o', 'GDP_PPP_o',\n",
    "#       'island_o', 'area_o', 'landlocked_o', 'PR_o', 'CL_o',\n",
    "#       'typeOfViolence_o', 'Nyear_conflict_o', 'Nyear_log_o',\n",
    "#       'dead_log_o', 'Nyear_conf_o', 'dead_o', 'newarrival']]\n",
    "\n",
    "data_outflows = data_outflows[data_outflows[\"iso_o\"].isin(iso3_codes)]\n",
    "\n",
    "data_outflows[\"year\"] = pd.to_datetime(data_outflows[\"year\"], format='%Y')\n",
    "data_outflows[\"year\"] = data_outflows[\"year\"].dt.year\n"
   ]
  },
  {
   "cell_type": "code",
   "execution_count": 123,
   "metadata": {},
   "outputs": [],
   "source": [
    "data_outflows = pd.concat([data_outflows.drop('newarrival',axis=1).groupby(['iso_o', 'year']).first(),data_outflows.groupby(['iso_o', 'year']).newarrival.sum()],axis=1)"
   ]
  },
  {
   "cell_type": "code",
   "execution_count": 124,
   "metadata": {},
   "outputs": [
    {
     "name": "stdout",
     "output_type": "stream",
     "text": [
      "(4347, 47)\n"
     ]
    },
    {
     "data": {
      "text/html": [
       "<div>\n",
       "<style scoped>\n",
       "    .dataframe tbody tr th:only-of-type {\n",
       "        vertical-align: middle;\n",
       "    }\n",
       "\n",
       "    .dataframe tbody tr th {\n",
       "        vertical-align: top;\n",
       "    }\n",
       "\n",
       "    .dataframe thead th {\n",
       "        text-align: right;\n",
       "    }\n",
       "</style>\n",
       "<table border=\"1\" class=\"dataframe\">\n",
       "  <thead>\n",
       "    <tr style=\"text-align: right;\">\n",
       "      <th></th>\n",
       "      <th></th>\n",
       "      <th>pop_o</th>\n",
       "      <th>CPI_o</th>\n",
       "      <th>GDP_PP_o</th>\n",
       "      <th>GDP_PPP_o</th>\n",
       "      <th>island_o</th>\n",
       "      <th>area_o</th>\n",
       "      <th>landlocked_o</th>\n",
       "      <th>PR_o</th>\n",
       "      <th>CL_o</th>\n",
       "      <th>typeOfViolence_o</th>\n",
       "      <th>...</th>\n",
       "      <th>Immigration_related_en_min</th>\n",
       "      <th>student visa_related_en_min</th>\n",
       "      <th>political asylum_related_en_min</th>\n",
       "      <th>Crisis_related_en_min</th>\n",
       "      <th>dual citizenship_related_en_min</th>\n",
       "      <th>Immigration_related_ol_min</th>\n",
       "      <th>student visa_related_ol_min</th>\n",
       "      <th>political asylum_related_ol_min</th>\n",
       "      <th>Crisis_related_ol_min</th>\n",
       "      <th>dual citizenship_related_ol_min</th>\n",
       "    </tr>\n",
       "    <tr>\n",
       "      <th>iso_o</th>\n",
       "      <th>year</th>\n",
       "      <th></th>\n",
       "      <th></th>\n",
       "      <th></th>\n",
       "      <th></th>\n",
       "      <th></th>\n",
       "      <th></th>\n",
       "      <th></th>\n",
       "      <th></th>\n",
       "      <th></th>\n",
       "      <th></th>\n",
       "      <th></th>\n",
       "      <th></th>\n",
       "      <th></th>\n",
       "      <th></th>\n",
       "      <th></th>\n",
       "      <th></th>\n",
       "      <th></th>\n",
       "      <th></th>\n",
       "      <th></th>\n",
       "      <th></th>\n",
       "      <th></th>\n",
       "    </tr>\n",
       "  </thead>\n",
       "  <tbody>\n",
       "    <tr>\n",
       "      <th rowspan=\"5\" valign=\"top\">ABW</th>\n",
       "      <th>2000</th>\n",
       "      <td>0.091</td>\n",
       "      <td>3.544</td>\n",
       "      <td>36636.95</td>\n",
       "      <td>0.005</td>\n",
       "      <td>1.0</td>\n",
       "      <td>193.0</td>\n",
       "      <td>0.0</td>\n",
       "      <td>4.0</td>\n",
       "      <td>3.0</td>\n",
       "      <td>0.0</td>\n",
       "      <td>...</td>\n",
       "      <td>NaN</td>\n",
       "      <td>NaN</td>\n",
       "      <td>NaN</td>\n",
       "      <td>NaN</td>\n",
       "      <td>NaN</td>\n",
       "      <td>NaN</td>\n",
       "      <td>NaN</td>\n",
       "      <td>NaN</td>\n",
       "      <td>NaN</td>\n",
       "      <td>NaN</td>\n",
       "    </tr>\n",
       "    <tr>\n",
       "      <th>2001</th>\n",
       "      <td>0.091</td>\n",
       "      <td>2.518</td>\n",
       "      <td>37813.88</td>\n",
       "      <td>0.006</td>\n",
       "      <td>1.0</td>\n",
       "      <td>193.0</td>\n",
       "      <td>0.0</td>\n",
       "      <td>5.0</td>\n",
       "      <td>4.0</td>\n",
       "      <td>0.0</td>\n",
       "      <td>...</td>\n",
       "      <td>NaN</td>\n",
       "      <td>NaN</td>\n",
       "      <td>NaN</td>\n",
       "      <td>NaN</td>\n",
       "      <td>NaN</td>\n",
       "      <td>NaN</td>\n",
       "      <td>NaN</td>\n",
       "      <td>NaN</td>\n",
       "      <td>NaN</td>\n",
       "      <td>NaN</td>\n",
       "    </tr>\n",
       "    <tr>\n",
       "      <th>2002</th>\n",
       "      <td>0.092</td>\n",
       "      <td>4.162</td>\n",
       "      <td>37198.23</td>\n",
       "      <td>0.005</td>\n",
       "      <td>1.0</td>\n",
       "      <td>193.0</td>\n",
       "      <td>0.0</td>\n",
       "      <td>3.0</td>\n",
       "      <td>3.0</td>\n",
       "      <td>0.0</td>\n",
       "      <td>...</td>\n",
       "      <td>NaN</td>\n",
       "      <td>NaN</td>\n",
       "      <td>NaN</td>\n",
       "      <td>NaN</td>\n",
       "      <td>NaN</td>\n",
       "      <td>NaN</td>\n",
       "      <td>NaN</td>\n",
       "      <td>NaN</td>\n",
       "      <td>NaN</td>\n",
       "      <td>NaN</td>\n",
       "    </tr>\n",
       "    <tr>\n",
       "      <th>2003</th>\n",
       "      <td>0.093</td>\n",
       "      <td>2.287</td>\n",
       "      <td>37185.65</td>\n",
       "      <td>0.005</td>\n",
       "      <td>1.0</td>\n",
       "      <td>193.0</td>\n",
       "      <td>0.0</td>\n",
       "      <td>3.0</td>\n",
       "      <td>2.0</td>\n",
       "      <td>0.0</td>\n",
       "      <td>...</td>\n",
       "      <td>NaN</td>\n",
       "      <td>NaN</td>\n",
       "      <td>NaN</td>\n",
       "      <td>NaN</td>\n",
       "      <td>NaN</td>\n",
       "      <td>NaN</td>\n",
       "      <td>NaN</td>\n",
       "      <td>NaN</td>\n",
       "      <td>NaN</td>\n",
       "      <td>NaN</td>\n",
       "    </tr>\n",
       "    <tr>\n",
       "      <th>2004</th>\n",
       "      <td>0.095</td>\n",
       "      <td>2.774</td>\n",
       "      <td>39054.94</td>\n",
       "      <td>0.005</td>\n",
       "      <td>1.0</td>\n",
       "      <td>193.0</td>\n",
       "      <td>0.0</td>\n",
       "      <td>3.0</td>\n",
       "      <td>3.0</td>\n",
       "      <td>0.0</td>\n",
       "      <td>...</td>\n",
       "      <td>NaN</td>\n",
       "      <td>NaN</td>\n",
       "      <td>NaN</td>\n",
       "      <td>NaN</td>\n",
       "      <td>NaN</td>\n",
       "      <td>NaN</td>\n",
       "      <td>NaN</td>\n",
       "      <td>NaN</td>\n",
       "      <td>NaN</td>\n",
       "      <td>NaN</td>\n",
       "    </tr>\n",
       "  </tbody>\n",
       "</table>\n",
       "<p>5 rows × 47 columns</p>\n",
       "</div>"
      ],
      "text/plain": [
       "            pop_o  CPI_o  GDP_PP_o  GDP_PPP_o  island_o  area_o  landlocked_o   \n",
       "iso_o year                                                                      \n",
       "ABW   2000  0.091  3.544  36636.95      0.005       1.0   193.0           0.0  \\\n",
       "      2001  0.091  2.518  37813.88      0.006       1.0   193.0           0.0   \n",
       "      2002  0.092  4.162  37198.23      0.005       1.0   193.0           0.0   \n",
       "      2003  0.093  2.287  37185.65      0.005       1.0   193.0           0.0   \n",
       "      2004  0.095  2.774  39054.94      0.005       1.0   193.0           0.0   \n",
       "\n",
       "            PR_o  CL_o  typeOfViolence_o  ...  Immigration_related_en_min   \n",
       "iso_o year                                ...                               \n",
       "ABW   2000   4.0   3.0               0.0  ...                         NaN  \\\n",
       "      2001   5.0   4.0               0.0  ...                         NaN   \n",
       "      2002   3.0   3.0               0.0  ...                         NaN   \n",
       "      2003   3.0   2.0               0.0  ...                         NaN   \n",
       "      2004   3.0   3.0               0.0  ...                         NaN   \n",
       "\n",
       "            student visa_related_en_min  political asylum_related_en_min   \n",
       "iso_o year                                                                 \n",
       "ABW   2000                          NaN                              NaN  \\\n",
       "      2001                          NaN                              NaN   \n",
       "      2002                          NaN                              NaN   \n",
       "      2003                          NaN                              NaN   \n",
       "      2004                          NaN                              NaN   \n",
       "\n",
       "            Crisis_related_en_min  dual citizenship_related_en_min   \n",
       "iso_o year                                                           \n",
       "ABW   2000                    NaN                              NaN  \\\n",
       "      2001                    NaN                              NaN   \n",
       "      2002                    NaN                              NaN   \n",
       "      2003                    NaN                              NaN   \n",
       "      2004                    NaN                              NaN   \n",
       "\n",
       "            Immigration_related_ol_min  student visa_related_ol_min   \n",
       "iso_o year                                                            \n",
       "ABW   2000                         NaN                          NaN  \\\n",
       "      2001                         NaN                          NaN   \n",
       "      2002                         NaN                          NaN   \n",
       "      2003                         NaN                          NaN   \n",
       "      2004                         NaN                          NaN   \n",
       "\n",
       "            political asylum_related_ol_min  Crisis_related_ol_min   \n",
       "iso_o year                                                           \n",
       "ABW   2000                              NaN                    NaN  \\\n",
       "      2001                              NaN                    NaN   \n",
       "      2002                              NaN                    NaN   \n",
       "      2003                              NaN                    NaN   \n",
       "      2004                              NaN                    NaN   \n",
       "\n",
       "            dual citizenship_related_ol_min  \n",
       "iso_o year                                   \n",
       "ABW   2000                              NaN  \n",
       "      2001                              NaN  \n",
       "      2002                              NaN  \n",
       "      2003                              NaN  \n",
       "      2004                              NaN  \n",
       "\n",
       "[5 rows x 47 columns]"
      ]
     },
     "execution_count": 124,
     "metadata": {},
     "output_type": "execute_result"
    }
   ],
   "source": [
    "# Merging trends with UNHCR data\n",
    "data_merged = pd.merge(data_outflows, avg_trends_1, left_index=True, right_index=True, how='outer')\n",
    "data_merged = pd.merge(data_merged, max_trends, left_index=True, right_index=True, how='outer')\n",
    "data_merged = pd.merge(data_merged, min_trends, left_index=True, right_index=True, how='outer')\n",
    "print(data_merged.shape)\n",
    "data_merged.head()"
   ]
  },
  {
   "cell_type": "code",
   "execution_count": 125,
   "metadata": {},
   "outputs": [
    {
     "data": {
      "text/plain": [
       "Index(['pop_o', 'CPI_o', 'GDP_PP_o', 'GDP_PPP_o', 'island_o', 'area_o',\n",
       "       'landlocked_o', 'PR_o', 'CL_o', 'typeOfViolence_o', 'best_est_o',\n",
       "       'Nyear_conflict_o', 'Nyear_log_o', 'dead_log_o', 'Nyear_conf_o',\n",
       "       'dead_o', 'newarrival', 'Immigration_related_en_avg',\n",
       "       'student visa_related_en_avg', 'political asylum_related_en_avg',\n",
       "       'Crisis_related_en_avg', 'dual citizenship_related_en_avg',\n",
       "       'Immigration_related_ol_avg', 'student visa_related_ol_avg',\n",
       "       'political asylum_related_ol_avg', 'Crisis_related_ol_avg',\n",
       "       'dual citizenship_related_ol_avg', 'Immigration_related_en_max',\n",
       "       'student visa_related_en_max', 'political asylum_related_en_max',\n",
       "       'Crisis_related_en_max', 'dual citizenship_related_en_max',\n",
       "       'Immigration_related_ol_max', 'student visa_related_ol_max',\n",
       "       'political asylum_related_ol_max', 'Crisis_related_ol_max',\n",
       "       'dual citizenship_related_ol_max', 'Immigration_related_en_min',\n",
       "       'student visa_related_en_min', 'political asylum_related_en_min',\n",
       "       'Crisis_related_en_min', 'dual citizenship_related_en_min',\n",
       "       'Immigration_related_ol_min', 'student visa_related_ol_min',\n",
       "       'political asylum_related_ol_min', 'Crisis_related_ol_min',\n",
       "       'dual citizenship_related_ol_min'],\n",
       "      dtype='object')"
      ]
     },
     "execution_count": 125,
     "metadata": {},
     "output_type": "execute_result"
    }
   ],
   "source": [
    "data_merged.columns"
   ]
  },
  {
   "cell_type": "code",
   "execution_count": 126,
   "metadata": {},
   "outputs": [
    {
     "data": {
      "text/plain": [
       "trends_not_available\n",
       "0    3096\n",
       "1    1251\n",
       "Name: count, dtype: int64"
      ]
     },
     "execution_count": 126,
     "metadata": {},
     "output_type": "execute_result"
    }
   ],
   "source": [
    "start_column = 'Immigration_related_en_avg'\n",
    "end_column = 'dual citizenship_related_ol_min'\n",
    "\n",
    "# Check if all variables starting from 'Refugee_related_en_avg' to 'bureau of immigration_related_ol_min' are NaN\n",
    "data_merged['trends_not_available'] = data_merged.loc[:, start_column:end_column].isna().all(axis=1).astype(int)\n",
    "\n",
    "data_merged[\"trends_not_available\"].value_counts()\n"
   ]
  },
  {
   "cell_type": "code",
   "execution_count": 127,
   "metadata": {},
   "outputs": [],
   "source": [
    "# Fill the nans with 0s\n",
    "data_merged = data_merged.fillna(0)"
   ]
  },
  {
   "cell_type": "code",
   "execution_count": 128,
   "metadata": {},
   "outputs": [],
   "source": [
    "lagged_outflows = data_merged.groupby('iso_o').apply(lambda x: multi_shift(x, range(1,5), ['newarrival','dead_o'])).reset_index(level=1,drop=True)\n",
    "h1_outflows = lagged_outflows.groupby('iso_o').newarrival.shift(-1)"
   ]
  },
  {
   "cell_type": "code",
   "execution_count": 129,
   "metadata": {},
   "outputs": [
    {
     "data": {
      "text/plain": [
       "iso_o  year\n",
       "ABW    2004      0.0\n",
       "       2005      0.0\n",
       "       2006      0.0\n",
       "       2007      0.0\n",
       "       2008      0.0\n",
       "               ...  \n",
       "ZWE    2020    640.0\n",
       "       2021      0.0\n",
       "       2022      0.0\n",
       "       2023      0.0\n",
       "       2024      NaN\n",
       "Name: newarrival, Length: 3647, dtype: float64"
      ]
     },
     "execution_count": 129,
     "metadata": {},
     "output_type": "execute_result"
    }
   ],
   "source": [
    "h1_outflows"
   ]
  },
  {
   "cell_type": "code",
   "execution_count": 130,
   "metadata": {},
   "outputs": [
    {
     "data": {
      "text/html": [
       "<style>#sk-container-id-5 {color: black;background-color: white;}#sk-container-id-5 pre{padding: 0;}#sk-container-id-5 div.sk-toggleable {background-color: white;}#sk-container-id-5 label.sk-toggleable__label {cursor: pointer;display: block;width: 100%;margin-bottom: 0;padding: 0.3em;box-sizing: border-box;text-align: center;}#sk-container-id-5 label.sk-toggleable__label-arrow:before {content: \"▸\";float: left;margin-right: 0.25em;color: #696969;}#sk-container-id-5 label.sk-toggleable__label-arrow:hover:before {color: black;}#sk-container-id-5 div.sk-estimator:hover label.sk-toggleable__label-arrow:before {color: black;}#sk-container-id-5 div.sk-toggleable__content {max-height: 0;max-width: 0;overflow: hidden;text-align: left;background-color: #f0f8ff;}#sk-container-id-5 div.sk-toggleable__content pre {margin: 0.2em;color: black;border-radius: 0.25em;background-color: #f0f8ff;}#sk-container-id-5 input.sk-toggleable__control:checked~div.sk-toggleable__content {max-height: 200px;max-width: 100%;overflow: auto;}#sk-container-id-5 input.sk-toggleable__control:checked~label.sk-toggleable__label-arrow:before {content: \"▾\";}#sk-container-id-5 div.sk-estimator input.sk-toggleable__control:checked~label.sk-toggleable__label {background-color: #d4ebff;}#sk-container-id-5 div.sk-label input.sk-toggleable__control:checked~label.sk-toggleable__label {background-color: #d4ebff;}#sk-container-id-5 input.sk-hidden--visually {border: 0;clip: rect(1px 1px 1px 1px);clip: rect(1px, 1px, 1px, 1px);height: 1px;margin: -1px;overflow: hidden;padding: 0;position: absolute;width: 1px;}#sk-container-id-5 div.sk-estimator {font-family: monospace;background-color: #f0f8ff;border: 1px dotted black;border-radius: 0.25em;box-sizing: border-box;margin-bottom: 0.5em;}#sk-container-id-5 div.sk-estimator:hover {background-color: #d4ebff;}#sk-container-id-5 div.sk-parallel-item::after {content: \"\";width: 100%;border-bottom: 1px solid gray;flex-grow: 1;}#sk-container-id-5 div.sk-label:hover label.sk-toggleable__label {background-color: #d4ebff;}#sk-container-id-5 div.sk-serial::before {content: \"\";position: absolute;border-left: 1px solid gray;box-sizing: border-box;top: 0;bottom: 0;left: 50%;z-index: 0;}#sk-container-id-5 div.sk-serial {display: flex;flex-direction: column;align-items: center;background-color: white;padding-right: 0.2em;padding-left: 0.2em;position: relative;}#sk-container-id-5 div.sk-item {position: relative;z-index: 1;}#sk-container-id-5 div.sk-parallel {display: flex;align-items: stretch;justify-content: center;background-color: white;position: relative;}#sk-container-id-5 div.sk-item::before, #sk-container-id-5 div.sk-parallel-item::before {content: \"\";position: absolute;border-left: 1px solid gray;box-sizing: border-box;top: 0;bottom: 0;left: 50%;z-index: -1;}#sk-container-id-5 div.sk-parallel-item {display: flex;flex-direction: column;z-index: 1;position: relative;background-color: white;}#sk-container-id-5 div.sk-parallel-item:first-child::after {align-self: flex-end;width: 50%;}#sk-container-id-5 div.sk-parallel-item:last-child::after {align-self: flex-start;width: 50%;}#sk-container-id-5 div.sk-parallel-item:only-child::after {width: 0;}#sk-container-id-5 div.sk-dashed-wrapped {border: 1px dashed gray;margin: 0 0.4em 0.5em 0.4em;box-sizing: border-box;padding-bottom: 0.4em;background-color: white;}#sk-container-id-5 div.sk-label label {font-family: monospace;font-weight: bold;display: inline-block;line-height: 1.2em;}#sk-container-id-5 div.sk-label-container {text-align: center;}#sk-container-id-5 div.sk-container {/* jupyter's `normalize.less` sets `[hidden] { display: none; }` but bootstrap.min.css set `[hidden] { display: none !important; }` so we also need the `!important` here to be able to override the default hidden behavior on the sphinx rendered scikit-learn.org. See: https://github.com/scikit-learn/scikit-learn/issues/21755 */display: inline-block !important;position: relative;}#sk-container-id-5 div.sk-text-repr-fallback {display: none;}</style><div id=\"sk-container-id-5\" class=\"sk-top-container\"><div class=\"sk-text-repr-fallback\"><pre>RandomForestRegressor(n_jobs=-1, random_state=42)</pre><b>In a Jupyter environment, please rerun this cell to show the HTML representation or trust the notebook. <br />On GitHub, the HTML representation is unable to render, please try loading this page with nbviewer.org.</b></div><div class=\"sk-container\" hidden><div class=\"sk-item\"><div class=\"sk-estimator sk-toggleable\"><input class=\"sk-toggleable__control sk-hidden--visually\" id=\"sk-estimator-id-5\" type=\"checkbox\" checked><label for=\"sk-estimator-id-5\" class=\"sk-toggleable__label sk-toggleable__label-arrow\">RandomForestRegressor</label><div class=\"sk-toggleable__content\"><pre>RandomForestRegressor(n_jobs=-1, random_state=42)</pre></div></div></div></div></div>"
      ],
      "text/plain": [
       "RandomForestRegressor(n_jobs=-1, random_state=42)"
      ]
     },
     "execution_count": 130,
     "metadata": {},
     "output_type": "execute_result"
    }
   ],
   "source": [
    "# Implement random forest\n",
    "\n",
    "X_train = lagged_outflows.loc[lagged_outflows.index.get_level_values(1) <= 2016]\n",
    "y_train = h1_outflows[h1_outflows.index.get_level_values(1) <= 2016].dropna()\n",
    "\n",
    "rf_outflow = RandomForestRegressor(n_jobs = -1, random_state=42)\n",
    "rf_outflow.fit(X_train, y_train)"
   ]
  },
  {
   "cell_type": "code",
   "execution_count": 131,
   "metadata": {},
   "outputs": [],
   "source": [
    "X_test = lagged_outflows.loc[lagged_outflows.index.get_level_values(1) > 2016]\n",
    "X_test = X_test.loc[X_test.index.get_level_values(1) < 2021]\n",
    "y_test = h1_outflows[h1_outflows.index.get_level_values(1) > 2016].dropna()\n",
    "y_test = y_test[y_test.index.get_level_values(1) < 2021].dropna()\n"
   ]
  },
  {
   "cell_type": "code",
   "execution_count": 132,
   "metadata": {},
   "outputs": [
    {
     "data": {
      "text/plain": [
       "103704.92149640739"
      ]
     },
     "execution_count": 132,
     "metadata": {},
     "output_type": "execute_result"
    }
   ],
   "source": [
    "y_pred = pd.Series(rf_outflow.predict(X_test), name='pred').to_frame()\n",
    "y_pred.index = X_test.index\n",
    "\n",
    "mean_squared_error(y_true=y_test, y_pred=y_pred.pred, squared=False)\n"
   ]
  },
  {
   "cell_type": "code",
   "execution_count": 133,
   "metadata": {},
   "outputs": [
    {
     "data": {
      "image/png": "[encoded data removed]",
      "text/plain": [
       "<Figure size 640x480 with 1 Axes>"
      ]
     },
     "metadata": {},
     "output_type": "display_data"
    }
   ],
   "source": [
    "feature_names = X_train.columns\n",
    "feat_indexes = feature_imp(abs(rf_outflow.feature_importances_), feature_names)"
   ]
  },
  {
   "cell_type": "code",
   "execution_count": 134,
   "metadata": {},
   "outputs": [
    {
     "data": {
      "image/png": "[encoded data removed]",
      "text/plain": [
       "<Figure size 640x480 with 1 Axes>"
      ]
     },
     "metadata": {},
     "output_type": "display_data"
    }
   ],
   "source": [
    "def feature_imp_more(coef, names):\n",
    "    imp = coef\n",
    "    indexes = np.argsort(imp)[-21:]\n",
    "    indexes = list(indexes)\n",
    "    \n",
    "    plt.barh(range(len(indexes)), imp[indexes], align='center')\n",
    "    plt.yticks(range(len(indexes)), [names[i] for i in indexes])\n",
    "    plt.show()\n",
    "    \n",
    "    return indexes\n",
    "\n",
    "feature_names = X_train.columns\n",
    "feat_indexes = feature_imp_more(abs(rf_outflow.feature_importances_), feature_names)"
   ]
  },
  {
   "attachments": {},
   "cell_type": "markdown",
   "metadata": {},
   "source": [
    "Trends are not relevant feature"
   ]
  },
  {
   "attachments": {},
   "cell_type": "markdown",
   "metadata": {},
   "source": [
    "Taking just means (best results)"
   ]
  },
  {
   "cell_type": "code",
   "execution_count": 113,
   "metadata": {},
   "outputs": [],
   "source": [
    "# Merging trends with UNHCR data\n",
    "data_merged = pd.merge(data_outflows, avg_trends_1, left_index=True, right_index=True, how='outer')\n"
   ]
  },
  {
   "cell_type": "code",
   "execution_count": 114,
   "metadata": {},
   "outputs": [
    {
     "data": {
      "text/plain": [
       "Index(['pop_o', 'CPI_o', 'GDP_PP_o', 'GDP_PPP_o', 'island_o', 'area_o',\n",
       "       'landlocked_o', 'PR_o', 'CL_o', 'typeOfViolence_o', 'best_est_o',\n",
       "       'Nyear_conflict_o', 'Nyear_log_o', 'dead_log_o', 'Nyear_conf_o',\n",
       "       'dead_o', 'newarrival', 'Immigration_related_en_avg',\n",
       "       'student visa_related_en_avg', 'political asylum_related_en_avg',\n",
       "       'Crisis_related_en_avg', 'dual citizenship_related_en_avg',\n",
       "       'Immigration_related_ol_avg', 'student visa_related_ol_avg',\n",
       "       'political asylum_related_ol_avg', 'Crisis_related_ol_avg',\n",
       "       'dual citizenship_related_ol_avg'],\n",
       "      dtype='object')"
      ]
     },
     "execution_count": 114,
     "metadata": {},
     "output_type": "execute_result"
    }
   ],
   "source": [
    "data_merged.columns"
   ]
  },
  {
   "cell_type": "code",
   "execution_count": 115,
   "metadata": {},
   "outputs": [],
   "source": [
    "start_column = 'Immigration_related_en_avg'\n",
    "end_column = 'dual citizenship_related_ol_avg'\n",
    "\n",
    "# Check if all variables starting from 'Refugee_related_en_avg' to 'bureau of immigration_related_ol_min' are NaN\n",
    "data_merged['trends_not_available'] = data_merged.loc[:, start_column:end_column].isna().all(axis=1).astype(int)\n",
    "\n",
    "data_merged[\"trends_not_available\"].value_counts()\n",
    "\n",
    "# Fill the nans with 0s\n",
    "data_merged = data_merged.fillna(0)\n",
    "\n",
    "lagged_outflows = data_merged.groupby('iso_o').apply(lambda x: multi_shift(x, range(1,5), ['newarrival','dead_o'])).reset_index(level=1,drop=True)\n",
    "h1_outflows = lagged_outflows.groupby('iso_o').newarrival.shift(-1)"
   ]
  },
  {
   "cell_type": "code",
   "execution_count": 116,
   "metadata": {},
   "outputs": [
    {
     "data": {
      "text/plain": [
       "103386.11920369705"
      ]
     },
     "execution_count": 116,
     "metadata": {},
     "output_type": "execute_result"
    }
   ],
   "source": [
    "# Implement random forest\n",
    "\n",
    "X_train = lagged_outflows.loc[lagged_outflows.index.get_level_values(1) <= 2016]\n",
    "y_train = h1_outflows[h1_outflows.index.get_level_values(1) <= 2016].dropna()\n",
    "\n",
    "rf_outflow = RandomForestRegressor(n_jobs = -1, random_state=42)\n",
    "rf_outflow.fit(X_train, y_train)\n",
    "\n",
    "\n",
    "X_test = lagged_outflows.loc[lagged_outflows.index.get_level_values(1) > 2016]\n",
    "X_test = X_test.loc[X_test.index.get_level_values(1) < 2021]\n",
    "y_test = h1_outflows[h1_outflows.index.get_level_values(1) > 2016].dropna()\n",
    "y_test = y_test[y_test.index.get_level_values(1) < 2021].dropna()\n",
    "\n",
    "y_pred = pd.Series(rf_outflow.predict(X_test), name='pred').to_frame()\n",
    "y_pred.index = X_test.index\n",
    "\n",
    "mean_squared_error(y_true=y_test, y_pred=y_pred.pred, squared=False)"
   ]
  },
  {
   "cell_type": "code",
   "execution_count": 117,
   "metadata": {},
   "outputs": [
    {
     "data": {
      "image/png": "[encoded data removed]",
      "text/plain": [
       "<Figure size 640x480 with 1 Axes>"
      ]
     },
     "metadata": {},
     "output_type": "display_data"
    }
   ],
   "source": [
    "feature_names = X_train.columns\n",
    "feat_indexes = feature_imp(abs(rf_outflow.feature_importances_), feature_names)"
   ]
  },
  {
   "cell_type": "code",
   "execution_count": 118,
   "metadata": {},
   "outputs": [
    {
     "data": {
      "image/png": "[encoded data removed]",
      "text/plain": [
       "<Figure size 640x480 with 1 Axes>"
      ]
     },
     "metadata": {},
     "output_type": "display_data"
    }
   ],
   "source": [
    "feat_indexes = feature_imp_more(abs(rf_outflow.feature_importances_), feature_names)"
   ]
  },
  {
   "attachments": {},
   "cell_type": "markdown",
   "metadata": {},
   "source": [
    "Now just working with max values"
   ]
  },
  {
   "cell_type": "code",
   "execution_count": 58,
   "metadata": {},
   "outputs": [],
   "source": [
    "# Merging trends with UNHCR data\n",
    "data_merged = pd.merge(data_outflows, max_trends, left_index=True, right_index=True, how='outer')"
   ]
  },
  {
   "cell_type": "code",
   "execution_count": 59,
   "metadata": {},
   "outputs": [],
   "source": [
    "start_column = 'Immigration_related_en_max'\n",
    "end_column = 'dual citizenship_related_ol_max'\n",
    "\n",
    "# Check if all variables starting from 'Refugee_related_en_avg' to 'bureau of immigration_related_ol_min' are NaN\n",
    "data_merged['trends_not_available'] = data_merged.loc[:, start_column:end_column].isna().all(axis=1).astype(int)\n",
    "\n",
    "data_merged[\"trends_not_available\"].value_counts()\n",
    "\n",
    "# Fill the nans with 0s\n",
    "data_merged = data_merged.fillna(0)\n",
    "\n",
    "lagged_outflows = data_merged.groupby('iso_o').apply(lambda x: multi_shift(x, range(1,5), ['newarrival','dead_o'])).reset_index(level=1,drop=True)\n",
    "h1_outflows = lagged_outflows.groupby('iso_o').newarrival.shift(-1)"
   ]
  },
  {
   "cell_type": "code",
   "execution_count": 60,
   "metadata": {},
   "outputs": [
    {
     "data": {
      "text/plain": [
       "104636.82448041937"
      ]
     },
     "execution_count": 60,
     "metadata": {},
     "output_type": "execute_result"
    }
   ],
   "source": [
    "# Implement random forest\n",
    "\n",
    "X_train = lagged_outflows.loc[lagged_outflows.index.get_level_values(1) <= 2016]\n",
    "y_train = h1_outflows[h1_outflows.index.get_level_values(1) <= 2016].dropna()\n",
    "\n",
    "rf_outflow = RandomForestRegressor(n_jobs = -1, random_state=42)\n",
    "rf_outflow.fit(X_train, y_train)\n",
    "\n",
    "\n",
    "X_test = lagged_outflows.loc[lagged_outflows.index.get_level_values(1) > 2016]\n",
    "X_test = X_test.loc[X_test.index.get_level_values(1) < 2021]\n",
    "y_test = h1_outflows[h1_outflows.index.get_level_values(1) > 2016].dropna()\n",
    "y_test = y_test[y_test.index.get_level_values(1) < 2021].dropna()\n",
    "\n",
    "y_pred = pd.Series(rf_outflow.predict(X_test), name='pred').to_frame()\n",
    "y_pred.index = X_test.index\n",
    "\n",
    "mean_squared_error(y_true=y_test, y_pred=y_pred.pred, squared=False)"
   ]
  },
  {
   "attachments": {},
   "cell_type": "markdown",
   "metadata": {},
   "source": [
    "Mean + max"
   ]
  },
  {
   "cell_type": "code",
   "execution_count": 61,
   "metadata": {},
   "outputs": [
    {
     "data": {
      "text/plain": [
       "trends_not_available\n",
       "0    3096\n",
       "1    1251\n",
       "Name: count, dtype: int64"
      ]
     },
     "execution_count": 61,
     "metadata": {},
     "output_type": "execute_result"
    }
   ],
   "source": [
    "data_merged = pd.merge(data_outflows, avg_trends_1, left_index=True, right_index=True, how='outer')\n",
    "data_merged = pd.merge(data_merged, max_trends, left_index=True, right_index=True, how='outer')\n",
    "\n",
    "start_column = 'Immigration_related_en_avg'\n",
    "end_column = 'dual citizenship_related_ol_max'\n",
    "\n",
    "# Check if all variables starting from 'Refugee_related_en_avg' to 'bureau of immigration_related_ol_min' are NaN\n",
    "data_merged['trends_not_available'] = data_merged.loc[:, start_column:end_column].isna().all(axis=1).astype(int)\n",
    "\n",
    "data_merged[\"trends_not_available\"].value_counts()"
   ]
  },
  {
   "cell_type": "code",
   "execution_count": 62,
   "metadata": {},
   "outputs": [
    {
     "data": {
      "text/plain": [
       "104636.82448041937"
      ]
     },
     "execution_count": 62,
     "metadata": {},
     "output_type": "execute_result"
    }
   ],
   "source": [
    "# Implement random forest\n",
    "\n",
    "X_train = lagged_outflows.loc[lagged_outflows.index.get_level_values(1) <= 2016]\n",
    "y_train = h1_outflows[h1_outflows.index.get_level_values(1) <= 2016].dropna()\n",
    "\n",
    "rf_outflow = RandomForestRegressor(n_jobs = -1, random_state=42)\n",
    "rf_outflow.fit(X_train, y_train)\n",
    "\n",
    "\n",
    "X_test = lagged_outflows.loc[lagged_outflows.index.get_level_values(1) > 2016]\n",
    "X_test = X_test.loc[X_test.index.get_level_values(1) < 2021]\n",
    "y_test = h1_outflows[h1_outflows.index.get_level_values(1) > 2016].dropna()\n",
    "y_test = y_test[y_test.index.get_level_values(1) < 2021].dropna()\n",
    "\n",
    "y_pred = pd.Series(rf_outflow.predict(X_test), name='pred').to_frame()\n",
    "y_pred.index = X_test.index\n",
    "\n",
    "mean_squared_error(y_true=y_test, y_pred=y_pred.pred, squared=False)"
   ]
  },
  {
   "attachments": {},
   "cell_type": "markdown",
   "metadata": {},
   "source": [
    "Best results: just means"
   ]
  },
  {
   "attachments": {},
   "cell_type": "markdown",
   "metadata": {},
   "source": [
    "Next steps: \n",
    "+ Compare using the complex version in the dataframe (no aggregation)\n",
    "+ Different ways to impute nans\n",
    "+ Smooth spikyness (Eric's function)\n",
    "+ Include and process trends variables considering internet penetration / population levels (weights?)"
   ]
  },
  {
   "attachments": {},
   "cell_type": "markdown",
   "metadata": {},
   "source": [
    "+ NO AGGREGATION"
   ]
  },
  {
   "cell_type": "code",
   "execution_count": 63,
   "metadata": {},
   "outputs": [],
   "source": [
    "data_outflows = pd.read_csv('../../data/data.csv', engine='pyarrow').drop_duplicates(subset=['Id','year'])[['iso_o', 'year', 'pop_o', 'CPI_o', 'GDP_PP_o', 'GDP_PPP_o',\n",
    "       'island_o', 'area_o', 'landlocked_o', 'PR_o', 'CL_o',\n",
    "        'typeOfViolence_o', 'best_est_o', 'Nyear_conflict_o', 'Nyear_log_o',\n",
    "        'dead_log_o', 'Nyear_conf_o', 'dead_o', 'newarrival']]\n",
    "\n",
    "# data_outflows = pd.read_csv('../../data/data.csv', engine='pyarrow').drop_duplicates(subset=['Id','year'])[['iso_o', 'year', 'pop_o', 'CPI_o', 'GDP_PP_o', 'GDP_PPP_o',\n",
    "#       'island_o', 'area_o', 'landlocked_o', 'PR_o', 'CL_o',\n",
    "#       'typeOfViolence_o', 'Nyear_conflict_o', 'Nyear_log_o',\n",
    "#       'dead_log_o', 'Nyear_conf_o', 'dead_o', 'newarrival']]\n",
    "\n",
    "data_outflows = data_outflows[data_outflows[\"iso_o\"].isin(iso3_codes)]\n",
    "\n",
    "data_outflows[\"year\"] = pd.to_datetime(data_outflows[\"year\"], format='%Y')\n",
    "data_outflows[\"year\"] = data_outflows[\"year\"].dt.year\n",
    "\n",
    "data_outflows = pd.concat([data_outflows.drop('newarrival',axis=1).groupby(['iso_o', 'year']).first(),data_outflows.groupby(['iso_o', 'year']).newarrival.sum()],axis=1)"
   ]
  },
  {
   "cell_type": "code",
   "execution_count": 64,
   "metadata": {},
   "outputs": [],
   "source": [
    "avg_trends = big_merge.copy()\n",
    "avg_trends[\"iso_o\"] = avg_trends[\"country\"].apply(lambda x: convert_iso2_to_iso3(x))\n",
    "avg_trends.set_index('date', inplace=True)\n",
    "avg_trends.index = pd.DatetimeIndex(avg_trends.index)\n",
    "avg_trends = avg_trends.drop(columns=[\"country\"])\n",
    "\n",
    "# Group by 'iso_o' and resample by YEAR, then mean the values\n",
    "\n",
    "avg_trends_1 = avg_trends.groupby(['iso_o', pd.Grouper(freq='Y')]).mean().reset_index()\n",
    "avg_trends_1['year'] = avg_trends_1['date'].dt.year\n",
    "avg_trends_1 = avg_trends_1.drop(columns=[\"date\"])\n",
    "avg_trends_1 = avg_trends_1.set_index([\"iso_o\", \"year\"])"
   ]
  },
  {
   "cell_type": "code",
   "execution_count": 65,
   "metadata": {},
   "outputs": [
    {
     "name": "stdout",
     "output_type": "stream",
     "text": [
      "(4347, 135)\n"
     ]
    },
    {
     "data": {
      "text/html": [
       "<div>\n",
       "<style scoped>\n",
       "    .dataframe tbody tr th:only-of-type {\n",
       "        vertical-align: middle;\n",
       "    }\n",
       "\n",
       "    .dataframe tbody tr th {\n",
       "        vertical-align: top;\n",
       "    }\n",
       "\n",
       "    .dataframe thead th {\n",
       "        text-align: right;\n",
       "    }\n",
       "</style>\n",
       "<table border=\"1\" class=\"dataframe\">\n",
       "  <thead>\n",
       "    <tr style=\"text-align: right;\">\n",
       "      <th></th>\n",
       "      <th></th>\n",
       "      <th>pop_o</th>\n",
       "      <th>CPI_o</th>\n",
       "      <th>GDP_PP_o</th>\n",
       "      <th>GDP_PPP_o</th>\n",
       "      <th>island_o</th>\n",
       "      <th>area_o</th>\n",
       "      <th>landlocked_o</th>\n",
       "      <th>PR_o</th>\n",
       "      <th>CL_o</th>\n",
       "      <th>typeOfViolence_o</th>\n",
       "      <th>...</th>\n",
       "      <th>emigrant+emigrants_ol</th>\n",
       "      <th>migrate_ol</th>\n",
       "      <th>refugee+refugees_ol</th>\n",
       "      <th>emigrate+emigrated_ol</th>\n",
       "      <th>bureau of immigration_ol</th>\n",
       "      <th>foreigner+foreigners_ol</th>\n",
       "      <th>nationalization+nationalisation_ol</th>\n",
       "      <th>asylum seeker_ol</th>\n",
       "      <th>border controls+border control_ol</th>\n",
       "      <th>student visa_ol</th>\n",
       "    </tr>\n",
       "    <tr>\n",
       "      <th>iso_o</th>\n",
       "      <th>year</th>\n",
       "      <th></th>\n",
       "      <th></th>\n",
       "      <th></th>\n",
       "      <th></th>\n",
       "      <th></th>\n",
       "      <th></th>\n",
       "      <th></th>\n",
       "      <th></th>\n",
       "      <th></th>\n",
       "      <th></th>\n",
       "      <th></th>\n",
       "      <th></th>\n",
       "      <th></th>\n",
       "      <th></th>\n",
       "      <th></th>\n",
       "      <th></th>\n",
       "      <th></th>\n",
       "      <th></th>\n",
       "      <th></th>\n",
       "      <th></th>\n",
       "      <th></th>\n",
       "    </tr>\n",
       "  </thead>\n",
       "  <tbody>\n",
       "    <tr>\n",
       "      <th rowspan=\"5\" valign=\"top\">ABW</th>\n",
       "      <th>2000</th>\n",
       "      <td>0.091</td>\n",
       "      <td>3.544</td>\n",
       "      <td>36636.95</td>\n",
       "      <td>0.005</td>\n",
       "      <td>1.0</td>\n",
       "      <td>193.0</td>\n",
       "      <td>0.0</td>\n",
       "      <td>4.0</td>\n",
       "      <td>3.0</td>\n",
       "      <td>0.0</td>\n",
       "      <td>...</td>\n",
       "      <td>NaN</td>\n",
       "      <td>NaN</td>\n",
       "      <td>NaN</td>\n",
       "      <td>NaN</td>\n",
       "      <td>NaN</td>\n",
       "      <td>NaN</td>\n",
       "      <td>NaN</td>\n",
       "      <td>NaN</td>\n",
       "      <td>NaN</td>\n",
       "      <td>NaN</td>\n",
       "    </tr>\n",
       "    <tr>\n",
       "      <th>2001</th>\n",
       "      <td>0.091</td>\n",
       "      <td>2.518</td>\n",
       "      <td>37813.88</td>\n",
       "      <td>0.006</td>\n",
       "      <td>1.0</td>\n",
       "      <td>193.0</td>\n",
       "      <td>0.0</td>\n",
       "      <td>5.0</td>\n",
       "      <td>4.0</td>\n",
       "      <td>0.0</td>\n",
       "      <td>...</td>\n",
       "      <td>NaN</td>\n",
       "      <td>NaN</td>\n",
       "      <td>NaN</td>\n",
       "      <td>NaN</td>\n",
       "      <td>NaN</td>\n",
       "      <td>NaN</td>\n",
       "      <td>NaN</td>\n",
       "      <td>NaN</td>\n",
       "      <td>NaN</td>\n",
       "      <td>NaN</td>\n",
       "    </tr>\n",
       "    <tr>\n",
       "      <th>2002</th>\n",
       "      <td>0.092</td>\n",
       "      <td>4.162</td>\n",
       "      <td>37198.23</td>\n",
       "      <td>0.005</td>\n",
       "      <td>1.0</td>\n",
       "      <td>193.0</td>\n",
       "      <td>0.0</td>\n",
       "      <td>3.0</td>\n",
       "      <td>3.0</td>\n",
       "      <td>0.0</td>\n",
       "      <td>...</td>\n",
       "      <td>NaN</td>\n",
       "      <td>NaN</td>\n",
       "      <td>NaN</td>\n",
       "      <td>NaN</td>\n",
       "      <td>NaN</td>\n",
       "      <td>NaN</td>\n",
       "      <td>NaN</td>\n",
       "      <td>NaN</td>\n",
       "      <td>NaN</td>\n",
       "      <td>NaN</td>\n",
       "    </tr>\n",
       "    <tr>\n",
       "      <th>2003</th>\n",
       "      <td>0.093</td>\n",
       "      <td>2.287</td>\n",
       "      <td>37185.65</td>\n",
       "      <td>0.005</td>\n",
       "      <td>1.0</td>\n",
       "      <td>193.0</td>\n",
       "      <td>0.0</td>\n",
       "      <td>3.0</td>\n",
       "      <td>2.0</td>\n",
       "      <td>0.0</td>\n",
       "      <td>...</td>\n",
       "      <td>NaN</td>\n",
       "      <td>NaN</td>\n",
       "      <td>NaN</td>\n",
       "      <td>NaN</td>\n",
       "      <td>NaN</td>\n",
       "      <td>NaN</td>\n",
       "      <td>NaN</td>\n",
       "      <td>NaN</td>\n",
       "      <td>NaN</td>\n",
       "      <td>NaN</td>\n",
       "    </tr>\n",
       "    <tr>\n",
       "      <th>2004</th>\n",
       "      <td>0.095</td>\n",
       "      <td>2.774</td>\n",
       "      <td>39054.94</td>\n",
       "      <td>0.005</td>\n",
       "      <td>1.0</td>\n",
       "      <td>193.0</td>\n",
       "      <td>0.0</td>\n",
       "      <td>3.0</td>\n",
       "      <td>3.0</td>\n",
       "      <td>0.0</td>\n",
       "      <td>...</td>\n",
       "      <td>NaN</td>\n",
       "      <td>NaN</td>\n",
       "      <td>NaN</td>\n",
       "      <td>NaN</td>\n",
       "      <td>NaN</td>\n",
       "      <td>NaN</td>\n",
       "      <td>NaN</td>\n",
       "      <td>NaN</td>\n",
       "      <td>NaN</td>\n",
       "      <td>NaN</td>\n",
       "    </tr>\n",
       "  </tbody>\n",
       "</table>\n",
       "<p>5 rows × 135 columns</p>\n",
       "</div>"
      ],
      "text/plain": [
       "            pop_o  CPI_o  GDP_PP_o  GDP_PPP_o  island_o  area_o  landlocked_o   \n",
       "iso_o year                                                                      \n",
       "ABW   2000  0.091  3.544  36636.95      0.005       1.0   193.0           0.0  \\\n",
       "      2001  0.091  2.518  37813.88      0.006       1.0   193.0           0.0   \n",
       "      2002  0.092  4.162  37198.23      0.005       1.0   193.0           0.0   \n",
       "      2003  0.093  2.287  37185.65      0.005       1.0   193.0           0.0   \n",
       "      2004  0.095  2.774  39054.94      0.005       1.0   193.0           0.0   \n",
       "\n",
       "            PR_o  CL_o  typeOfViolence_o  ...  emigrant+emigrants_ol   \n",
       "iso_o year                                ...                          \n",
       "ABW   2000   4.0   3.0               0.0  ...                    NaN  \\\n",
       "      2001   5.0   4.0               0.0  ...                    NaN   \n",
       "      2002   3.0   3.0               0.0  ...                    NaN   \n",
       "      2003   3.0   2.0               0.0  ...                    NaN   \n",
       "      2004   3.0   3.0               0.0  ...                    NaN   \n",
       "\n",
       "            migrate_ol  refugee+refugees_ol  emigrate+emigrated_ol   \n",
       "iso_o year                                                           \n",
       "ABW   2000         NaN                  NaN                    NaN  \\\n",
       "      2001         NaN                  NaN                    NaN   \n",
       "      2002         NaN                  NaN                    NaN   \n",
       "      2003         NaN                  NaN                    NaN   \n",
       "      2004         NaN                  NaN                    NaN   \n",
       "\n",
       "            bureau of immigration_ol  foreigner+foreigners_ol   \n",
       "iso_o year                                                      \n",
       "ABW   2000                       NaN                      NaN  \\\n",
       "      2001                       NaN                      NaN   \n",
       "      2002                       NaN                      NaN   \n",
       "      2003                       NaN                      NaN   \n",
       "      2004                       NaN                      NaN   \n",
       "\n",
       "            nationalization+nationalisation_ol  asylum seeker_ol   \n",
       "iso_o year                                                         \n",
       "ABW   2000                                 NaN               NaN  \\\n",
       "      2001                                 NaN               NaN   \n",
       "      2002                                 NaN               NaN   \n",
       "      2003                                 NaN               NaN   \n",
       "      2004                                 NaN               NaN   \n",
       "\n",
       "            border controls+border control_ol  student visa_ol  \n",
       "iso_o year                                                      \n",
       "ABW   2000                                NaN              NaN  \n",
       "      2001                                NaN              NaN  \n",
       "      2002                                NaN              NaN  \n",
       "      2003                                NaN              NaN  \n",
       "      2004                                NaN              NaN  \n",
       "\n",
       "[5 rows x 135 columns]"
      ]
     },
     "execution_count": 65,
     "metadata": {},
     "output_type": "execute_result"
    }
   ],
   "source": [
    "# Merging trends with UNHCR data\n",
    "data_merged = pd.merge(data_outflows, avg_trends_1, left_index=True, right_index=True, how='outer')\n",
    "print(data_merged.shape)\n",
    "data_merged.head()\n"
   ]
  },
  {
   "cell_type": "code",
   "execution_count": 66,
   "metadata": {},
   "outputs": [
    {
     "data": {
      "text/plain": [
       "Index(['pop_o', 'CPI_o', 'GDP_PP_o', 'GDP_PPP_o', 'island_o', 'area_o',\n",
       "       'landlocked_o', 'PR_o', 'CL_o', 'typeOfViolence_o',\n",
       "       ...\n",
       "       'emigrant+emigrants_ol', 'migrate_ol', 'refugee+refugees_ol',\n",
       "       'emigrate+emigrated_ol', 'bureau of immigration_ol',\n",
       "       'foreigner+foreigners_ol', 'nationalization+nationalisation_ol',\n",
       "       'asylum seeker_ol', 'border controls+border control_ol',\n",
       "       'student visa_ol'],\n",
       "      dtype='object', length=135)"
      ]
     },
     "execution_count": 66,
     "metadata": {},
     "output_type": "execute_result"
    }
   ],
   "source": [
    "data_merged.columns"
   ]
  },
  {
   "cell_type": "code",
   "execution_count": 67,
   "metadata": {},
   "outputs": [
    {
     "data": {
      "text/plain": [
       "trends_not_available\n",
       "0    3150\n",
       "1    1197\n",
       "Name: count, dtype: int64"
      ]
     },
     "execution_count": 67,
     "metadata": {},
     "output_type": "execute_result"
    }
   ],
   "source": [
    "start_column = 'passport_en'\n",
    "end_column = 'student visa_ol'\n",
    "\n",
    "# Check if all variables starting from 'Refugee_related_en_avg' to 'bureau of immigration_related_ol_min' are NaN\n",
    "data_merged['trends_not_available'] = data_merged.loc[:, start_column:end_column].isna().all(axis=1).astype(int)\n",
    "\n",
    "data_merged[\"trends_not_available\"].value_counts()\n",
    "\n"
   ]
  },
  {
   "cell_type": "code",
   "execution_count": 68,
   "metadata": {},
   "outputs": [],
   "source": [
    "# Fill the nans with 0s\n",
    "data_merged = data_merged.fillna(0)\n"
   ]
  },
  {
   "cell_type": "code",
   "execution_count": 70,
   "metadata": {},
   "outputs": [
    {
     "data": {
      "text/plain": [
       "100491.5418004971"
      ]
     },
     "execution_count": 70,
     "metadata": {},
     "output_type": "execute_result"
    }
   ],
   "source": [
    "lagged_outflows = data_merged.groupby('iso_o').apply(lambda x: multi_shift(x, range(1,5), ['newarrival','dead_o'])).reset_index(level=1,drop=True)\n",
    "h1_outflows = lagged_outflows.groupby('iso_o').newarrival.shift(-1)\n",
    "\n",
    "\n",
    "# Implement random forest\n",
    "\n",
    "X_train = lagged_outflows.loc[lagged_outflows.index.get_level_values(1) <= 2016]\n",
    "y_train = h1_outflows[h1_outflows.index.get_level_values(1) <= 2016].dropna()\n",
    "\n",
    "rf_outflow = RandomForestRegressor(n_jobs = -1, random_state=42)\n",
    "rf_outflow.fit(X_train, y_train)\n",
    "\n",
    "\n",
    "X_test = lagged_outflows.loc[lagged_outflows.index.get_level_values(1) > 2016]\n",
    "X_test = X_test.loc[X_test.index.get_level_values(1) < 2021]\n",
    "y_test = h1_outflows[h1_outflows.index.get_level_values(1) > 2016].dropna()\n",
    "y_test = y_test[y_test.index.get_level_values(1) < 2021].dropna()\n",
    "\n",
    "y_pred = pd.Series(rf_outflow.predict(X_test), name='pred').to_frame()\n",
    "y_pred.index = X_test.index\n",
    "\n",
    "mean_squared_error(y_true=y_test, y_pred=y_pred.pred, squared=False)"
   ]
  },
  {
   "cell_type": "code",
   "execution_count": 71,
   "metadata": {},
   "outputs": [
    {
     "data": {
      "image/png": "[encoded data removed]",
      "text/plain": [
       "<Figure size 640x480 with 1 Axes>"
      ]
     },
     "metadata": {},
     "output_type": "display_data"
    }
   ],
   "source": [
    "feature_names = X_train.columns\n",
    "feat_indexes = feature_imp(abs(rf_outflow.feature_importances_), feature_names)"
   ]
  },
  {
   "attachments": {},
   "cell_type": "markdown",
   "metadata": {},
   "source": [
    "Best results: no dimensionality reduction"
   ]
  },
  {
   "cell_type": "code",
   "execution_count": 72,
   "metadata": {},
   "outputs": [],
   "source": [
    "def feature_imp_more(coef, names):\n",
    "    imp = coef\n",
    "    indexes = np.argsort(imp)[-21:]\n",
    "    indexes = list(indexes)\n",
    "    \n",
    "    plt.barh(range(len(indexes)), imp[indexes], align='center')\n",
    "    plt.yticks(range(len(indexes)), [names[i] for i in indexes])\n",
    "    plt.show()\n",
    "    \n",
    "    return indexes"
   ]
  },
  {
   "cell_type": "code",
   "execution_count": 73,
   "metadata": {},
   "outputs": [
    {
     "data": {
      "image/png": "[encoded data removed]",
      "text/plain": [
       "<Figure size 640x480 with 1 Axes>"
      ]
     },
     "metadata": {},
     "output_type": "display_data"
    }
   ],
   "source": [
    "feat_indexes = feature_imp_more(abs(rf_outflow.feature_importances_), feature_names)"
   ]
  }
 ],
 "metadata": {
  "kernelspec": {
   "display_name": "master_thesis",
   "language": "python",
   "name": "python3"
  },
  "language_info": {
   "codemirror_mode": {
    "name": "ipython",
    "version": 3
   },
   "file_extension": ".py",
   "mimetype": "text/x-python",
   "name": "python",
   "nbconvert_exporter": "python",
   "pygments_lexer": "ipython3",
   "version": "3.11.3"
  },
  "orig_nbformat": 4
 },
 "nbformat": 4,
 "nbformat_minor": 2
}
