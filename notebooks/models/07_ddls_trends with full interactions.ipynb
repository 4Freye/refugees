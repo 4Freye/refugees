{
 "cells": [
  {
   "cell_type": "code",
   "execution_count": 1,
   "metadata": {},
   "outputs": [],
   "source": [
    "# Imports\n",
    "import pandas as pd\n",
    "import numpy as np\n",
    "from sklearn.metrics import mean_squared_error\n",
    "from sklearn.ensemble import RandomForestRegressor\n",
    "import os\n",
    "import model_helpers\n",
    "from multiprocesspandas import applyparallel\n",
    "import matplotlib.pyplot as plt\n",
    "\n",
    "\n",
    "from category_encoders import OneHotEncoder\n",
    "from category_encoders import BinaryEncoder\n",
    "from sklearn.preprocessing import RobustScaler\n",
    "from sklearn.experimental import enable_iterative_imputer\n",
    "from sklearn.impute import IterativeImputer\n",
    "from sklearn.ensemble import ExtraTreesRegressor\n",
    "from sklearn.ensemble import RandomForestRegressor\n",
    "from sklearn.pipeline import make_pipeline, Pipeline\n",
    "from sklearn import set_config\n",
    "set_config(display=\"diagram\")\n",
    "from sklearn.compose import ColumnTransformer\n",
    "\n",
    "from sklearn.ensemble import GradientBoostingRegressor, AdaBoostRegressor\n",
    "from xgboost import XGBRegressor\n"
   ]
  },
  {
   "cell_type": "code",
   "execution_count": 2,
   "metadata": {},
   "outputs": [],
   "source": [
    "path = '../../data/clean/'\n",
    "SEED = 12\n",
    "unhcr = pd.read_csv(path + 'unhcr.csv', engine='pyarrow')\n"
   ]
  },
  {
   "cell_type": "code",
   "execution_count": 3,
   "metadata": {},
   "outputs": [],
   "source": [
    "id_var = unhcr.Id.unique().tolist()\n"
   ]
  },
  {
   "cell_type": "code",
   "execution_count": 4,
   "metadata": {},
   "outputs": [],
   "source": [
    "unhcr['year'] = pd.to_datetime(unhcr['year'], format='%Y')\n",
    "unhcr[\"year\"] = unhcr[\"year\"].dt.year"
   ]
  },
  {
   "cell_type": "code",
   "execution_count": 5,
   "metadata": {},
   "outputs": [],
   "source": [
    "# Create train/test split\n",
    "test_time_start = 2018\n",
    "test_time_end = 2021\n",
    "train = unhcr.loc[unhcr.year < test_time_start]\n",
    "test = unhcr.loc[(unhcr.year >= test_time_start) & (unhcr.year <= test_time_end)]"
   ]
  },
  {
   "cell_type": "code",
   "execution_count": 15,
   "metadata": {},
   "outputs": [],
   "source": [
    "#y_naive = model_helpers.apply_naive_prediction(train, test, target=\"newarrival\", \n",
    " #                                             country_var='Id'\n",
    "  #                                            )\n"
   ]
  },
  {
   "cell_type": "code",
   "execution_count": 14,
   "metadata": {},
   "outputs": [
    {
     "name": "stdout",
     "output_type": "stream",
     "text": [
      "Mse Naive RW: 4681.263424950381\n"
     ]
    }
   ],
   "source": [
    "#mse_naive = mean_squared_error(y_pred=y_naive, y_true=test.newarrival, squared=False)\n",
    "#print(\"Mse Naive RW: \" + str(mse_naive))"
   ]
  },
  {
   "cell_type": "code",
   "execution_count": 7,
   "metadata": {},
   "outputs": [],
   "source": [
    "mse_naive = 4681.263424950381"
   ]
  },
  {
   "attachments": {},
   "cell_type": "markdown",
   "metadata": {},
   "source": [
    "Adding gtrends with interactions"
   ]
  },
  {
   "cell_type": "code",
   "execution_count": 8,
   "metadata": {},
   "outputs": [],
   "source": [
    "visatrend = pd.read_csv(\"../trends/trends_downloads/interactions_full/interactions visa.csv\")"
   ]
  },
  {
   "cell_type": "code",
   "execution_count": 9,
   "metadata": {},
   "outputs": [],
   "source": [
    "# Extract country name and convert to ISO-3 code\n",
    "visatrend[\"name\"] = visatrend['keyword_en'].str.split(' ', expand=True)[1]\n",
    "names = visatrend[\"name\"].unique()\n",
    "df = pd.DataFrame(names, columns=[\"name\"])\n",
    "df = df[df[\"name\"].isnull()==False]\n",
    "df[\"iso_d\"] = df[\"name\"].apply(model_helpers.name_to_iso3)\n",
    "visatrend = pd.merge(visatrend, df, on=\"name\", how=\"left\")\n"
   ]
  },
  {
   "cell_type": "code",
   "execution_count": 10,
   "metadata": {},
   "outputs": [],
   "source": [
    "iso_o_list = visatrend.region.unique()\n",
    "df = pd.DataFrame(iso_o_list, columns=[\"region\"])\n",
    "df = df[df[\"region\"].isnull()==False]\n",
    "df[\"iso_o\"] = df[\"region\"].apply(model_helpers.convert_iso2_to_iso3)\n",
    "visatrend = pd.merge(visatrend, df, on=\"region\", how=\"left\")\n"
   ]
  },
  {
   "cell_type": "code",
   "execution_count": 11,
   "metadata": {},
   "outputs": [],
   "source": [
    "visatrend = visatrend.drop(columns=[\"country\", \"language\", \"name\", \"region\", \"keyword_en\", \"keyword\"])\n",
    "visatrend_av = visatrend.groupby(['iso_o', 'iso_d', 'date']).mean().reset_index()\n",
    "visatrend_max = visatrend.groupby(['iso_o', 'iso_d', 'date']).max().reset_index()\n",
    "visatrend_av = visatrend_av.rename(columns={\"trends_index\":\"visa_avg\"})\n",
    "visatrend_max = visatrend_max.rename(columns={\"trends_index\":\"visa_max\"})\n"
   ]
  },
  {
   "cell_type": "code",
   "execution_count": 12,
   "metadata": {},
   "outputs": [
    {
     "name": "stdout",
     "output_type": "stream",
     "text": [
      "(710424, 5)\n"
     ]
    },
    {
     "data": {
      "text/html": [
       "<div>\n",
       "<style scoped>\n",
       "    .dataframe tbody tr th:only-of-type {\n",
       "        vertical-align: middle;\n",
       "    }\n",
       "\n",
       "    .dataframe tbody tr th {\n",
       "        vertical-align: top;\n",
       "    }\n",
       "\n",
       "    .dataframe thead th {\n",
       "        text-align: right;\n",
       "    }\n",
       "</style>\n",
       "<table border=\"1\" class=\"dataframe\">\n",
       "  <thead>\n",
       "    <tr style=\"text-align: right;\">\n",
       "      <th></th>\n",
       "      <th>iso_o</th>\n",
       "      <th>iso_d</th>\n",
       "      <th>date</th>\n",
       "      <th>visa_avg</th>\n",
       "      <th>visa_max</th>\n",
       "    </tr>\n",
       "  </thead>\n",
       "  <tbody>\n",
       "    <tr>\n",
       "      <th>0</th>\n",
       "      <td>AFG</td>\n",
       "      <td>AUS</td>\n",
       "      <td>2005-01-01</td>\n",
       "      <td>0.0</td>\n",
       "      <td>0</td>\n",
       "    </tr>\n",
       "    <tr>\n",
       "      <th>1</th>\n",
       "      <td>AFG</td>\n",
       "      <td>AUS</td>\n",
       "      <td>2005-02-01</td>\n",
       "      <td>0.0</td>\n",
       "      <td>0</td>\n",
       "    </tr>\n",
       "    <tr>\n",
       "      <th>2</th>\n",
       "      <td>AFG</td>\n",
       "      <td>AUS</td>\n",
       "      <td>2005-03-01</td>\n",
       "      <td>0.0</td>\n",
       "      <td>0</td>\n",
       "    </tr>\n",
       "    <tr>\n",
       "      <th>3</th>\n",
       "      <td>AFG</td>\n",
       "      <td>AUS</td>\n",
       "      <td>2005-04-01</td>\n",
       "      <td>0.0</td>\n",
       "      <td>0</td>\n",
       "    </tr>\n",
       "    <tr>\n",
       "      <th>4</th>\n",
       "      <td>AFG</td>\n",
       "      <td>AUS</td>\n",
       "      <td>2005-05-01</td>\n",
       "      <td>0.0</td>\n",
       "      <td>0</td>\n",
       "    </tr>\n",
       "  </tbody>\n",
       "</table>\n",
       "</div>"
      ],
      "text/plain": [
       "  iso_o iso_d        date  visa_avg  visa_max\n",
       "0   AFG   AUS  2005-01-01       0.0         0\n",
       "1   AFG   AUS  2005-02-01       0.0         0\n",
       "2   AFG   AUS  2005-03-01       0.0         0\n",
       "3   AFG   AUS  2005-04-01       0.0         0\n",
       "4   AFG   AUS  2005-05-01       0.0         0"
      ]
     },
     "execution_count": 12,
     "metadata": {},
     "output_type": "execute_result"
    }
   ],
   "source": [
    "visa_final = pd.merge(visatrend_av, visatrend_max, on=[\"iso_o\", \"iso_d\", \"date\"], how=\"left\")\n",
    "print(visa_final.shape)\n",
    "visa_final.head()\n"
   ]
  },
  {
   "cell_type": "code",
   "execution_count": 13,
   "metadata": {},
   "outputs": [],
   "source": [
    "# visa_final.to_csv(\"../../data/clean/visa_full_gtrend.csv\", index=False)"
   ]
  },
  {
   "cell_type": "code",
   "execution_count": 14,
   "metadata": {},
   "outputs": [
    {
     "data": {
      "text/html": [
       "<div>\n",
       "<style scoped>\n",
       "    .dataframe tbody tr th:only-of-type {\n",
       "        vertical-align: middle;\n",
       "    }\n",
       "\n",
       "    .dataframe tbody tr th {\n",
       "        vertical-align: top;\n",
       "    }\n",
       "\n",
       "    .dataframe thead th {\n",
       "        text-align: right;\n",
       "    }\n",
       "</style>\n",
       "<table border=\"1\" class=\"dataframe\">\n",
       "  <thead>\n",
       "    <tr style=\"text-align: right;\">\n",
       "      <th></th>\n",
       "      <th>iso_o</th>\n",
       "      <th>iso_d</th>\n",
       "      <th>date</th>\n",
       "      <th>visa_avg</th>\n",
       "      <th>visa_max</th>\n",
       "    </tr>\n",
       "  </thead>\n",
       "  <tbody>\n",
       "    <tr>\n",
       "      <th>0</th>\n",
       "      <td>AFG</td>\n",
       "      <td>AUS</td>\n",
       "      <td>2005-01-01</td>\n",
       "      <td>0.0</td>\n",
       "      <td>0</td>\n",
       "    </tr>\n",
       "    <tr>\n",
       "      <th>1</th>\n",
       "      <td>AFG</td>\n",
       "      <td>AUS</td>\n",
       "      <td>2005-02-01</td>\n",
       "      <td>0.0</td>\n",
       "      <td>0</td>\n",
       "    </tr>\n",
       "    <tr>\n",
       "      <th>2</th>\n",
       "      <td>AFG</td>\n",
       "      <td>AUS</td>\n",
       "      <td>2005-03-01</td>\n",
       "      <td>0.0</td>\n",
       "      <td>0</td>\n",
       "    </tr>\n",
       "    <tr>\n",
       "      <th>3</th>\n",
       "      <td>AFG</td>\n",
       "      <td>AUS</td>\n",
       "      <td>2005-04-01</td>\n",
       "      <td>0.0</td>\n",
       "      <td>0</td>\n",
       "    </tr>\n",
       "    <tr>\n",
       "      <th>4</th>\n",
       "      <td>AFG</td>\n",
       "      <td>AUS</td>\n",
       "      <td>2005-05-01</td>\n",
       "      <td>0.0</td>\n",
       "      <td>0</td>\n",
       "    </tr>\n",
       "    <tr>\n",
       "      <th>...</th>\n",
       "      <td>...</td>\n",
       "      <td>...</td>\n",
       "      <td>...</td>\n",
       "      <td>...</td>\n",
       "      <td>...</td>\n",
       "    </tr>\n",
       "    <tr>\n",
       "      <th>710419</th>\n",
       "      <td>ZWE</td>\n",
       "      <td>ZWE</td>\n",
       "      <td>2022-08-01</td>\n",
       "      <td>10.0</td>\n",
       "      <td>10</td>\n",
       "    </tr>\n",
       "    <tr>\n",
       "      <th>710420</th>\n",
       "      <td>ZWE</td>\n",
       "      <td>ZWE</td>\n",
       "      <td>2022-09-01</td>\n",
       "      <td>12.0</td>\n",
       "      <td>12</td>\n",
       "    </tr>\n",
       "    <tr>\n",
       "      <th>710421</th>\n",
       "      <td>ZWE</td>\n",
       "      <td>ZWE</td>\n",
       "      <td>2022-10-01</td>\n",
       "      <td>11.0</td>\n",
       "      <td>11</td>\n",
       "    </tr>\n",
       "    <tr>\n",
       "      <th>710422</th>\n",
       "      <td>ZWE</td>\n",
       "      <td>ZWE</td>\n",
       "      <td>2022-11-01</td>\n",
       "      <td>11.0</td>\n",
       "      <td>11</td>\n",
       "    </tr>\n",
       "    <tr>\n",
       "      <th>710423</th>\n",
       "      <td>ZWE</td>\n",
       "      <td>ZWE</td>\n",
       "      <td>2022-12-01</td>\n",
       "      <td>11.0</td>\n",
       "      <td>11</td>\n",
       "    </tr>\n",
       "  </tbody>\n",
       "</table>\n",
       "<p>710424 rows × 5 columns</p>\n",
       "</div>"
      ],
      "text/plain": [
       "       iso_o iso_d        date  visa_avg  visa_max\n",
       "0        AFG   AUS  2005-01-01       0.0         0\n",
       "1        AFG   AUS  2005-02-01       0.0         0\n",
       "2        AFG   AUS  2005-03-01       0.0         0\n",
       "3        AFG   AUS  2005-04-01       0.0         0\n",
       "4        AFG   AUS  2005-05-01       0.0         0\n",
       "...      ...   ...         ...       ...       ...\n",
       "710419   ZWE   ZWE  2022-08-01      10.0        10\n",
       "710420   ZWE   ZWE  2022-09-01      12.0        12\n",
       "710421   ZWE   ZWE  2022-10-01      11.0        11\n",
       "710422   ZWE   ZWE  2022-11-01      11.0        11\n",
       "710423   ZWE   ZWE  2022-12-01      11.0        11\n",
       "\n",
       "[710424 rows x 5 columns]"
      ]
     },
     "execution_count": 14,
     "metadata": {},
     "output_type": "execute_result"
    }
   ],
   "source": [
    "visa_final"
   ]
  },
  {
   "attachments": {},
   "cell_type": "markdown",
   "metadata": {},
   "source": [
    "### Preprocessing visa trends"
   ]
  },
  {
   "cell_type": "code",
   "execution_count": 15,
   "metadata": {},
   "outputs": [],
   "source": [
    "visa_smoothed = visa_final.apply(model_helpers.smooth_spikes_2)\n",
    "visa_smoothed[\"date\"] = pd.to_datetime(visa_smoothed[\"date\"])"
   ]
  },
  {
   "cell_type": "code",
   "execution_count": 16,
   "metadata": {},
   "outputs": [],
   "source": [
    "visa_smoothed['year'] = visa_smoothed['date'].dt.year\n",
    "visa_smoothed['month'] = visa_smoothed['date'].dt.month\n",
    "visa_smoothed = visa_smoothed.drop(columns=[\"date\"])\n"
   ]
  },
  {
   "cell_type": "code",
   "execution_count": 17,
   "metadata": {},
   "outputs": [],
   "source": [
    "final_keywords_list = visa_smoothed.columns[~visa_smoothed.columns.isin(['year', 'month', 'iso_o', 'iso_d'])]"
   ]
  },
  {
   "cell_type": "code",
   "execution_count": 18,
   "metadata": {},
   "outputs": [
    {
     "data": {
      "text/html": [
       "<div>\n",
       "<style scoped>\n",
       "    .dataframe tbody tr th:only-of-type {\n",
       "        vertical-align: middle;\n",
       "    }\n",
       "\n",
       "    .dataframe tbody tr th {\n",
       "        vertical-align: top;\n",
       "    }\n",
       "\n",
       "    .dataframe thead th {\n",
       "        text-align: right;\n",
       "    }\n",
       "</style>\n",
       "<table border=\"1\" class=\"dataframe\">\n",
       "  <thead>\n",
       "    <tr style=\"text-align: right;\">\n",
       "      <th></th>\n",
       "      <th>iso_o</th>\n",
       "      <th>iso_d</th>\n",
       "      <th>visa_avg</th>\n",
       "      <th>visa_max</th>\n",
       "      <th>year</th>\n",
       "      <th>month</th>\n",
       "      <th>rolling_sum_past_3_visa_avg</th>\n",
       "      <th>rolling_sum_past_6_visa_avg</th>\n",
       "      <th>rolling_sum_past_3_visa_max</th>\n",
       "      <th>rolling_sum_past_6_visa_max</th>\n",
       "    </tr>\n",
       "  </thead>\n",
       "  <tbody>\n",
       "    <tr>\n",
       "      <th>0</th>\n",
       "      <td>AFG</td>\n",
       "      <td>AUS</td>\n",
       "      <td>0.0</td>\n",
       "      <td>0.0</td>\n",
       "      <td>2005</td>\n",
       "      <td>1</td>\n",
       "      <td>0.0</td>\n",
       "      <td>0.0</td>\n",
       "      <td>0.0</td>\n",
       "      <td>0.0</td>\n",
       "    </tr>\n",
       "    <tr>\n",
       "      <th>12</th>\n",
       "      <td>AFG</td>\n",
       "      <td>AUS</td>\n",
       "      <td>0.0</td>\n",
       "      <td>0.0</td>\n",
       "      <td>2006</td>\n",
       "      <td>1</td>\n",
       "      <td>0.0</td>\n",
       "      <td>0.0</td>\n",
       "      <td>0.0</td>\n",
       "      <td>0.0</td>\n",
       "    </tr>\n",
       "    <tr>\n",
       "      <th>24</th>\n",
       "      <td>AFG</td>\n",
       "      <td>AUS</td>\n",
       "      <td>0.0</td>\n",
       "      <td>0.0</td>\n",
       "      <td>2007</td>\n",
       "      <td>1</td>\n",
       "      <td>0.0</td>\n",
       "      <td>0.0</td>\n",
       "      <td>0.0</td>\n",
       "      <td>0.0</td>\n",
       "    </tr>\n",
       "    <tr>\n",
       "      <th>36</th>\n",
       "      <td>AFG</td>\n",
       "      <td>AUS</td>\n",
       "      <td>0.0</td>\n",
       "      <td>0.0</td>\n",
       "      <td>2008</td>\n",
       "      <td>1</td>\n",
       "      <td>0.0</td>\n",
       "      <td>0.0</td>\n",
       "      <td>0.0</td>\n",
       "      <td>0.0</td>\n",
       "    </tr>\n",
       "    <tr>\n",
       "      <th>48</th>\n",
       "      <td>AFG</td>\n",
       "      <td>AUS</td>\n",
       "      <td>0.0</td>\n",
       "      <td>0.0</td>\n",
       "      <td>2009</td>\n",
       "      <td>1</td>\n",
       "      <td>0.0</td>\n",
       "      <td>0.0</td>\n",
       "      <td>0.0</td>\n",
       "      <td>0.0</td>\n",
       "    </tr>\n",
       "    <tr>\n",
       "      <th>...</th>\n",
       "      <td>...</td>\n",
       "      <td>...</td>\n",
       "      <td>...</td>\n",
       "      <td>...</td>\n",
       "      <td>...</td>\n",
       "      <td>...</td>\n",
       "      <td>...</td>\n",
       "      <td>...</td>\n",
       "      <td>...</td>\n",
       "      <td>...</td>\n",
       "    </tr>\n",
       "    <tr>\n",
       "      <th>709548</th>\n",
       "      <td>ZWE</td>\n",
       "      <td>IRL</td>\n",
       "      <td>1.0</td>\n",
       "      <td>1.0</td>\n",
       "      <td>2022</td>\n",
       "      <td>1</td>\n",
       "      <td>2.0</td>\n",
       "      <td>4.0</td>\n",
       "      <td>2.0</td>\n",
       "      <td>4.0</td>\n",
       "    </tr>\n",
       "    <tr>\n",
       "      <th>709764</th>\n",
       "      <td>ZWE</td>\n",
       "      <td>ITA</td>\n",
       "      <td>0.0</td>\n",
       "      <td>0.0</td>\n",
       "      <td>2022</td>\n",
       "      <td>1</td>\n",
       "      <td>1.0</td>\n",
       "      <td>4.0</td>\n",
       "      <td>1.0</td>\n",
       "      <td>4.0</td>\n",
       "    </tr>\n",
       "    <tr>\n",
       "      <th>709980</th>\n",
       "      <td>ZWE</td>\n",
       "      <td>NLD</td>\n",
       "      <td>0.0</td>\n",
       "      <td>0.0</td>\n",
       "      <td>2022</td>\n",
       "      <td>1</td>\n",
       "      <td>1.0</td>\n",
       "      <td>3.0</td>\n",
       "      <td>1.0</td>\n",
       "      <td>3.0</td>\n",
       "    </tr>\n",
       "    <tr>\n",
       "      <th>710196</th>\n",
       "      <td>ZWE</td>\n",
       "      <td>ZMB</td>\n",
       "      <td>1.0</td>\n",
       "      <td>1.0</td>\n",
       "      <td>2022</td>\n",
       "      <td>1</td>\n",
       "      <td>2.0</td>\n",
       "      <td>3.0</td>\n",
       "      <td>2.0</td>\n",
       "      <td>3.0</td>\n",
       "    </tr>\n",
       "    <tr>\n",
       "      <th>710412</th>\n",
       "      <td>ZWE</td>\n",
       "      <td>ZWE</td>\n",
       "      <td>8.0</td>\n",
       "      <td>8.0</td>\n",
       "      <td>2022</td>\n",
       "      <td>1</td>\n",
       "      <td>9.0</td>\n",
       "      <td>10.0</td>\n",
       "      <td>9.0</td>\n",
       "      <td>10.0</td>\n",
       "    </tr>\n",
       "  </tbody>\n",
       "</table>\n",
       "<p>59202 rows × 10 columns</p>\n",
       "</div>"
      ],
      "text/plain": [
       "       iso_o iso_d  visa_avg  visa_max  year  month   \n",
       "0        AFG   AUS       0.0       0.0  2005      1  \\\n",
       "12       AFG   AUS       0.0       0.0  2006      1   \n",
       "24       AFG   AUS       0.0       0.0  2007      1   \n",
       "36       AFG   AUS       0.0       0.0  2008      1   \n",
       "48       AFG   AUS       0.0       0.0  2009      1   \n",
       "...      ...   ...       ...       ...   ...    ...   \n",
       "709548   ZWE   IRL       1.0       1.0  2022      1   \n",
       "709764   ZWE   ITA       0.0       0.0  2022      1   \n",
       "709980   ZWE   NLD       0.0       0.0  2022      1   \n",
       "710196   ZWE   ZMB       1.0       1.0  2022      1   \n",
       "710412   ZWE   ZWE       8.0       8.0  2022      1   \n",
       "\n",
       "        rolling_sum_past_3_visa_avg  rolling_sum_past_6_visa_avg   \n",
       "0                               0.0                          0.0  \\\n",
       "12                              0.0                          0.0   \n",
       "24                              0.0                          0.0   \n",
       "36                              0.0                          0.0   \n",
       "48                              0.0                          0.0   \n",
       "...                             ...                          ...   \n",
       "709548                          2.0                          4.0   \n",
       "709764                          1.0                          4.0   \n",
       "709980                          1.0                          3.0   \n",
       "710196                          2.0                          3.0   \n",
       "710412                          9.0                         10.0   \n",
       "\n",
       "        rolling_sum_past_3_visa_max  rolling_sum_past_6_visa_max  \n",
       "0                               0.0                          0.0  \n",
       "12                              0.0                          0.0  \n",
       "24                              0.0                          0.0  \n",
       "36                              0.0                          0.0  \n",
       "48                              0.0                          0.0  \n",
       "...                             ...                          ...  \n",
       "709548                          2.0                          4.0  \n",
       "709764                          1.0                          4.0  \n",
       "709980                          1.0                          3.0  \n",
       "710196                          2.0                          3.0  \n",
       "710412                          9.0                         10.0  \n",
       "\n",
       "[59202 rows x 10 columns]"
      ]
     },
     "execution_count": 18,
     "metadata": {},
     "output_type": "execute_result"
    }
   ],
   "source": [
    "window_sizes = [4, 7] # rolling sums for the last 3 and 6 months\n",
    "group_cols = ['iso_o', 'year']\n",
    "value_cols = final_keywords_list\n",
    "\n",
    "panel_trends = model_helpers.generate_rolling_sum_variables(visa_smoothed, group_cols, value_cols, window_sizes, date_col='month')\n",
    "\n",
    "panel_trends = panel_trends[panel_trends[\"month\"]==1]\n",
    "\n",
    "panel_trends"
   ]
  },
  {
   "cell_type": "code",
   "execution_count": 19,
   "metadata": {},
   "outputs": [],
   "source": [
    "trends_final = panel_trends.fillna(0)"
   ]
  },
  {
   "cell_type": "code",
   "execution_count": 20,
   "metadata": {},
   "outputs": [],
   "source": [
    "internet = pd.read_csv(\"../../data/raw/Internet penetration_WB.csv\").drop(columns=[\"Country Name\", \"Indicator Name\", \"Indicator Code\"])\n",
    "\n",
    "value_vars = internet.columns.difference(['Country Code']).tolist()\n",
    "\n",
    "internet_long = pd.melt(internet, id_vars=['Country Code'], value_vars=value_vars,\n",
    "                  var_name='year', value_name='internet')\n",
    "internet_long[\"year\"] = pd.to_datetime(internet_long[\"year\"])\n",
    "internet_long['year'] = internet_long['year'].dt.year\n",
    "internet_long = internet_long[internet_long[\"year\"]>=2000]\n",
    "\n",
    "# Because this has only weighting purpose, I'll fill nans with 1 in the version to multiply\n",
    "internet_long = internet_long.copy().fillna(1)\n",
    "internet_long = internet_long.rename(columns={\"Country Code\":\"iso_o\"})"
   ]
  },
  {
   "cell_type": "code",
   "execution_count": 21,
   "metadata": {},
   "outputs": [],
   "source": [
    "data_outflows_2005 = unhcr[unhcr[\"year\"]>=2005]\n",
    "data_outflows_2005 = data_outflows_2005[[\"iso_o\", \"iso_d\", \"year\", \"newarrival\", \"pop_o\"]]\n",
    "trends_merged = pd.merge(data_outflows_2005, trends_final, on=[\"iso_o\", \"iso_d\", \"year\"], how=\"left\")\n",
    "\n",
    "trends_merged = pd.merge(trends_merged, internet_long, on=[\"iso_o\", \"year\"], how='left')\n"
   ]
  },
  {
   "cell_type": "code",
   "execution_count": 22,
   "metadata": {},
   "outputs": [
    {
     "data": {
      "text/plain": [
       "(772200, 13)"
      ]
     },
     "execution_count": 22,
     "metadata": {},
     "output_type": "execute_result"
    }
   ],
   "source": [
    "trends_merged.shape"
   ]
  },
  {
   "cell_type": "code",
   "execution_count": 23,
   "metadata": {},
   "outputs": [
    {
     "data": {
      "text/html": [
       "<div>\n",
       "<style scoped>\n",
       "    .dataframe tbody tr th:only-of-type {\n",
       "        vertical-align: middle;\n",
       "    }\n",
       "\n",
       "    .dataframe tbody tr th {\n",
       "        vertical-align: top;\n",
       "    }\n",
       "\n",
       "    .dataframe thead th {\n",
       "        text-align: right;\n",
       "    }\n",
       "</style>\n",
       "<table border=\"1\" class=\"dataframe\">\n",
       "  <thead>\n",
       "    <tr style=\"text-align: right;\">\n",
       "      <th></th>\n",
       "      <th>iso_o</th>\n",
       "      <th>iso_d</th>\n",
       "      <th>year</th>\n",
       "      <th>newarrival</th>\n",
       "      <th>pop_o</th>\n",
       "      <th>visa_avg</th>\n",
       "      <th>visa_max</th>\n",
       "      <th>month</th>\n",
       "      <th>rolling_sum_past_3_visa_avg</th>\n",
       "      <th>rolling_sum_past_6_visa_avg</th>\n",
       "      <th>rolling_sum_past_3_visa_max</th>\n",
       "      <th>rolling_sum_past_6_visa_max</th>\n",
       "      <th>internet</th>\n",
       "    </tr>\n",
       "  </thead>\n",
       "  <tbody>\n",
       "    <tr>\n",
       "      <th>0</th>\n",
       "      <td>AFG</td>\n",
       "      <td>ALB</td>\n",
       "      <td>2005</td>\n",
       "      <td>0</td>\n",
       "      <td>20</td>\n",
       "      <td>0</td>\n",
       "      <td>0</td>\n",
       "      <td>0</td>\n",
       "      <td>0</td>\n",
       "      <td>0</td>\n",
       "      <td>0</td>\n",
       "      <td>0</td>\n",
       "      <td>1</td>\n",
       "    </tr>\n",
       "    <tr>\n",
       "      <th>1</th>\n",
       "      <td>AFG</td>\n",
       "      <td>ALB</td>\n",
       "      <td>2006</td>\n",
       "      <td>0</td>\n",
       "      <td>21</td>\n",
       "      <td>0</td>\n",
       "      <td>0</td>\n",
       "      <td>0</td>\n",
       "      <td>0</td>\n",
       "      <td>0</td>\n",
       "      <td>0</td>\n",
       "      <td>0</td>\n",
       "      <td>2</td>\n",
       "    </tr>\n",
       "    <tr>\n",
       "      <th>2</th>\n",
       "      <td>AFG</td>\n",
       "      <td>ALB</td>\n",
       "      <td>2007</td>\n",
       "      <td>0</td>\n",
       "      <td>22</td>\n",
       "      <td>0</td>\n",
       "      <td>0</td>\n",
       "      <td>0</td>\n",
       "      <td>0</td>\n",
       "      <td>0</td>\n",
       "      <td>0</td>\n",
       "      <td>0</td>\n",
       "      <td>1</td>\n",
       "    </tr>\n",
       "    <tr>\n",
       "      <th>3</th>\n",
       "      <td>AFG</td>\n",
       "      <td>ALB</td>\n",
       "      <td>2008</td>\n",
       "      <td>0</td>\n",
       "      <td>22</td>\n",
       "      <td>0</td>\n",
       "      <td>0</td>\n",
       "      <td>0</td>\n",
       "      <td>0</td>\n",
       "      <td>0</td>\n",
       "      <td>0</td>\n",
       "      <td>0</td>\n",
       "      <td>1</td>\n",
       "    </tr>\n",
       "    <tr>\n",
       "      <th>4</th>\n",
       "      <td>AFG</td>\n",
       "      <td>ALB</td>\n",
       "      <td>2009</td>\n",
       "      <td>0</td>\n",
       "      <td>23</td>\n",
       "      <td>0</td>\n",
       "      <td>0</td>\n",
       "      <td>0</td>\n",
       "      <td>0</td>\n",
       "      <td>0</td>\n",
       "      <td>0</td>\n",
       "      <td>0</td>\n",
       "      <td>3</td>\n",
       "    </tr>\n",
       "  </tbody>\n",
       "</table>\n",
       "</div>"
      ],
      "text/plain": [
       "  iso_o iso_d  year  newarrival  pop_o  visa_avg  visa_max  month   \n",
       "0   AFG   ALB  2005           0     20         0         0      0  \\\n",
       "1   AFG   ALB  2006           0     21         0         0      0   \n",
       "2   AFG   ALB  2007           0     22         0         0      0   \n",
       "3   AFG   ALB  2008           0     22         0         0      0   \n",
       "4   AFG   ALB  2009           0     23         0         0      0   \n",
       "\n",
       "   rolling_sum_past_3_visa_avg  rolling_sum_past_6_visa_avg   \n",
       "0                            0                            0  \\\n",
       "1                            0                            0   \n",
       "2                            0                            0   \n",
       "3                            0                            0   \n",
       "4                            0                            0   \n",
       "\n",
       "   rolling_sum_past_3_visa_max  rolling_sum_past_6_visa_max  internet  \n",
       "0                            0                            0         1  \n",
       "1                            0                            0         2  \n",
       "2                            0                            0         1  \n",
       "3                            0                            0         1  \n",
       "4                            0                            0         3  "
      ]
     },
     "execution_count": 23,
     "metadata": {},
     "output_type": "execute_result"
    }
   ],
   "source": [
    "float_columns = trends_merged.select_dtypes(include=['float64']).columns\n",
    "trends_merged = trends_merged.fillna(0)\n",
    "trends_merged[float_columns] = trends_merged[float_columns].astype(int)\n",
    "\n",
    "\n",
    "# Create a list of variables to weight\n",
    "variables_to_multiply = [col for col in trends_merged.columns if col not in ['iso_o', 'iso_d', 'year', 'pop_o', 'internet', 'newarrival']]\n",
    "\n",
    "# Multiply the variables by 'pop_o' and 'internet'\n",
    "trends_merged[variables_to_multiply] = trends_merged[variables_to_multiply].multiply(trends_merged['pop_o'], axis=0).multiply(trends_merged['internet'], axis=0)\n",
    "\n",
    "# Drop non-multiplied variables, 'pop_o', and 'internet'\n",
    "# columns_to_drop = ['internet', 'pop_o]\n",
    "# trends_merged.drop(columns=columns_to_drop, inplace=True)\n",
    "\n",
    "trends_merged.shape\n",
    "trends_merged.head()"
   ]
  },
  {
   "cell_type": "code",
   "execution_count": 24,
   "metadata": {},
   "outputs": [],
   "source": [
    "trends_merged[\"target\"] = trends_merged.groupby(['iso_o', 'iso_d']).newarrival.shift(-1)\n",
    "trends_merged = trends_merged.drop(columns=[\"newarrival\"])"
   ]
  },
  {
   "attachments": {},
   "cell_type": "markdown",
   "metadata": {},
   "source": [
    "## Testing a simple model: \n",
    "\n",
    "Visa trends + dyad fixed effects (+ controls: internet + pop_o)"
   ]
  },
  {
   "cell_type": "code",
   "execution_count": 25,
   "metadata": {},
   "outputs": [],
   "source": [
    "# ohe = OneHotEncoder()\n",
    "be = BinaryEncoder() # doing be on everything yields better results\n",
    "cont_scaler = RobustScaler()\n",
    "\n",
    "# binary_cols = ['iso_o']\n",
    "# ohe_cols = ['iso_o_continent','typeOfViolence_o']\n",
    "binary_cols = ['iso_o', 'iso_d']\n",
    "\n",
    "# numerical_cols = list(set(unhcr.columns) - set(binary_cols + ohe_cols + ['year', 'ref_outflow']))\n",
    "numerical_cols = list(set(trends_merged.columns) - set(binary_cols  + ['year', 'target']))\n",
    "\n",
    "from sklearn.compose import ColumnTransformer\n",
    "\n",
    "transform_cols = ColumnTransformer(\n",
    "    [\n",
    "        ('cat1', be, binary_cols),\n",
    "   #     ('cat2', ohe, ohe_cols),\n",
    "        ('num', cont_scaler, numerical_cols)\n",
    "    ],\n",
    "    remainder='passthrough'\n",
    ")\n",
    "\n",
    "rf_pipe = Pipeline([('preprocessing', transform_cols),\n",
    "                    ('rf', RandomForestRegressor(random_state=SEED, n_jobs=-1))])"
   ]
  },
  {
   "cell_type": "code",
   "execution_count": 26,
   "metadata": {},
   "outputs": [],
   "source": [
    "X_train, X_test, y_train, y_test = model_helpers.train_test_split(trends_merged, 'target', test_time_start, test_time_end, 'year')"
   ]
  },
  {
   "cell_type": "code",
   "execution_count": 27,
   "metadata": {},
   "outputs": [
    {
     "data": {
      "text/plain": [
       "154440"
      ]
     },
     "execution_count": 27,
     "metadata": {},
     "output_type": "execute_result"
    }
   ],
   "source": [
    "len(y_test)"
   ]
  },
  {
   "cell_type": "code",
   "execution_count": 28,
   "metadata": {},
   "outputs": [
    {
     "name": "stdout",
     "output_type": "stream",
     "text": [
      "RMSE outflows - GTrends only (weighted): 2907.3954353535582\n",
      "Relative RMSE to Naive predictions: 0.6210706750356343\n"
     ]
    }
   ],
   "source": [
    "rf_pipe.fit(X_train, y_train)\n",
    "\n",
    "y_pred = rf_pipe.predict(X_test)\n",
    "y_pred = np.clip(y_pred, 0, None)\n",
    "mse_trends_weighted = mean_squared_error(y_test, y_pred, squared=False)\n",
    "\n",
    "print(\"RMSE outflows - GTrends only (weighted): \" + str(mse_trends_weighted))\n",
    "print(\"Relative RMSE to Naive predictions: \" + str(mse_trends_weighted/mse_naive))"
   ]
  },
  {
   "cell_type": "code",
   "execution_count": 29,
   "metadata": {},
   "outputs": [
    {
     "data": {
      "image/png": "[encoded data removed]",
      "text/plain": [
       "<Figure size 640x480 with 1 Axes>"
      ]
     },
     "metadata": {},
     "output_type": "display_data"
    }
   ],
   "source": [
    "importances = rf_pipe.named_steps['rf'].feature_importances_\n",
    "\n",
    "# Get column names from ColumnTransformer object\n",
    "column_names = list(rf_pipe.named_steps['preprocessing'].transformers_[0][1].get_feature_names_out()) + numerical_cols\n",
    "\n",
    "\n",
    "# Map feature importances to column names\n",
    "feature_importances = dict(zip(column_names, importances))\n",
    "\n",
    "indexes = model_helpers.feature_imp_more(feature_importances)"
   ]
  },
  {
   "attachments": {},
   "cell_type": "markdown",
   "metadata": {},
   "source": [
    "Countries fixed effects are important, also the controls internet and population, but the visa features are working :) !"
   ]
  },
  {
   "attachments": {},
   "cell_type": "markdown",
   "metadata": {},
   "source": [
    "With rw and log transformation:"
   ]
  },
  {
   "cell_type": "code",
   "execution_count": 30,
   "metadata": {},
   "outputs": [],
   "source": [
    "X_train_list, X_test_list, y_train_list, y_test_list = model_helpers.train_test_split_rw(trends_merged, 'target', test_time_start, test_time_end, 'year')"
   ]
  },
  {
   "cell_type": "code",
   "execution_count": 31,
   "metadata": {},
   "outputs": [
    {
     "name": "stdout",
     "output_type": "stream",
     "text": [
      "*********\n",
      "Year: 2018\n",
      "X_train uses data until: 2017\n",
      "RMSE using just gtrends: 3744.046211420125\n",
      "*********\n",
      "Year: 2019\n",
      "X_train uses data until: 2018\n",
      "RMSE using just gtrends: 1477.819499413445\n",
      "*********\n",
      "Year: 2020\n",
      "X_train uses data until: 2019\n",
      "RMSE using just gtrends: 1961.8427539487052\n",
      "*********\n",
      "Year: 2021\n",
      "X_train uses data until: 2020\n",
      "RMSE using just gtrends: 592.9487822427641\n"
     ]
    }
   ],
   "source": [
    "mse_visa_log_dict = {}\n",
    "predictions_list = []\n",
    "\n",
    "# Iterate over the test sets for each year\n",
    "for year, X_train, X_test, y_train, y_test in zip(range(test_time_start, test_time_end + 1), X_train_list, X_test_list, y_train_list, y_test_list):\n",
    "\n",
    "\n",
    "    epsilon = 1e-8\n",
    "    y_train_log = np.log(y_train + epsilon)\n",
    "\n",
    "    rf_pipe.fit(X_train, y_train_log)\n",
    "\n",
    "    # Predict on test set and transform back to original scale\n",
    "    y_pred_log = rf_pipe.predict(X_test)\n",
    "    y_pred = np.exp(y_pred_log) \n",
    "    \n",
    "    mse_visa_log_year = mean_squared_error(y_test, y_pred, squared=False)\n",
    "\n",
    "    mse_visa_log_dict[year] = mse_visa_log_year\n",
    "\n",
    "    print(\"*********\")\n",
    "    print(\"Year: \" + str(year))\n",
    "    print(\"X_train uses data until: \" + str(X_train.year.max()))\n",
    "    print(\"RMSE using just gtrends: \" + str(mse_visa_log_year))\n",
    "\n",
    "    # Store predicted values in DataFrame\n",
    "    predictions_list.append(pd.DataFrame({\"year\": [year] * len(X_test),\n",
    "                                            \"iso_o\": X_test[\"iso_o\"].values,\n",
    "                                            \"y_pred_visa_log_rw\": y_pred}))\n",
    "\n",
    "    # Concatenate DataFrames from the list\n",
    "    predictions_df_visa_log = pd.concat(predictions_list, ignore_index=True)"
   ]
  },
  {
   "cell_type": "code",
   "execution_count": 32,
   "metadata": {},
   "outputs": [],
   "source": [
    "# recuperating y_test for the comparison\n",
    "X_train, X_test, y_train, y_test = model_helpers.train_test_split(trends_merged, 'target', test_time_start, test_time_end, 'year')"
   ]
  },
  {
   "cell_type": "code",
   "execution_count": 33,
   "metadata": {},
   "outputs": [
    {
     "name": "stdout",
     "output_type": "stream",
     "text": [
      "2292.4952024292043\n",
      "0.4897171969025656\n"
     ]
    }
   ],
   "source": [
    "print(mean_squared_error(y_true=y_test, y_pred=predictions_df_visa_log.y_pred_visa_log_rw, squared=False))\n",
    "print(mean_squared_error(y_true=y_test, y_pred=predictions_df_visa_log.y_pred_visa_log_rw, squared=False)/mse_naive)"
   ]
  },
  {
   "attachments": {},
   "cell_type": "markdown",
   "metadata": {},
   "source": [
    "Saving the visa preprocessed features:"
   ]
  },
  {
   "cell_type": "code",
   "execution_count": 35,
   "metadata": {},
   "outputs": [],
   "source": [
    "visa_to_save = trends_merged.drop(columns='target')"
   ]
  },
  {
   "cell_type": "code",
   "execution_count": 37,
   "metadata": {},
   "outputs": [],
   "source": [
    "visa_to_save.to_csv(path + \"visa_interacted_preprocessed.csv\", index=False)"
   ]
  }
 ],
 "metadata": {
  "kernelspec": {
   "display_name": "master_thesis",
   "language": "python",
   "name": "python3"
  },
  "language_info": {
   "codemirror_mode": {
    "name": "ipython",
    "version": 3
   },
   "file_extension": ".py",
   "mimetype": "text/x-python",
   "name": "python",
   "nbconvert_exporter": "python",
   "pygments_lexer": "ipython3",
   "version": "3.11.3"
  },
  "orig_nbformat": 4
 },
 "nbformat": 4,
 "nbformat_minor": 2
}
