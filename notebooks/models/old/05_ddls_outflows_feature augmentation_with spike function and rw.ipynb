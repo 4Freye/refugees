{
 "cells": [
  {
   "attachments": {},
   "cell_type": "markdown",
   "metadata": {},
   "source": [
    "# Optimizing the outflow problem"
   ]
  },
  {
   "cell_type": "code",
   "execution_count": 1,
   "metadata": {},
   "outputs": [],
   "source": [
    "# Imports\n",
    "import pandas as pd\n",
    "import numpy as np\n",
    "from sklearn.metrics import mean_squared_error\n",
    "from sklearn.ensemble import RandomForestRegressor\n",
    "import os\n",
    "import model_helpers\n",
    "from multiprocesspandas import applyparallel\n",
    "import matplotlib.pyplot as plt\n",
    "import seaborn as sns\n",
    "sns.set_style(\"whitegrid\")\n",
    "\n",
    "from category_encoders import OneHotEncoder\n",
    "from category_encoders import BinaryEncoder\n",
    "from sklearn.preprocessing import RobustScaler\n",
    "from sklearn.experimental import enable_iterative_imputer\n",
    "from sklearn.impute import IterativeImputer\n",
    "from sklearn.ensemble import ExtraTreesRegressor\n",
    "from sklearn.ensemble import RandomForestRegressor\n",
    "from sklearn.pipeline import make_pipeline, Pipeline\n",
    "from sklearn import set_config\n",
    "set_config(display=\"diagram\")\n",
    "from sklearn.compose import ColumnTransformer\n",
    "\n",
    "from sklearn.ensemble import GradientBoostingRegressor, AdaBoostRegressor\n",
    "from xgboost import XGBRegressor\n"
   ]
  },
  {
   "cell_type": "code",
   "execution_count": 2,
   "metadata": {},
   "outputs": [],
   "source": [
    "path = '../../data/clean/'\n",
    "SEED = 12\n"
   ]
  },
  {
   "attachments": {},
   "cell_type": "markdown",
   "metadata": {},
   "source": [
    "## Step 0: Naive model (RW)"
   ]
  },
  {
   "attachments": {},
   "cell_type": "markdown",
   "metadata": {},
   "source": [
    "First, let's load our main dataset with UNCHR covariates and consider the list of countries to make outflow predictions on."
   ]
  },
  {
   "cell_type": "code",
   "execution_count": 3,
   "metadata": {},
   "outputs": [],
   "source": [
    "data_outflows = pd.read_csv(path + 'unhcr.csv', engine='pyarrow').drop_duplicates(subset=['Id','year'])[['iso_o', 'year', 'pop_o', 'CPI_o', 'GDP_PP_o', 'GDP_PPP_o',\n",
    "       'island_o', 'area_o', 'landlocked_o', 'PR_o', 'CL_o',\n",
    "        'typeOfViolence_o', 'best_est_o', 'Nyear_conflict_o', 'Nyear_log_o',\n",
    "        'dead_log_o', 'Nyear_conf_o', 'dead_o', 'newarrival']]\n",
    "\n",
    "data_outflows['year'] = pd.to_datetime(data_outflows['year'], format='%Y')\n",
    "data_outflows = pd.concat([data_outflows.drop('newarrival',axis=1).groupby(['iso_o', 'year']).first(),data_outflows.groupby(['iso_o', 'year']).newarrival.sum()],axis=1)\n",
    "data_outflows = data_outflows.reset_index()\n",
    "data_outflows[\"year\"] = data_outflows[\"year\"].dt.year"
   ]
  },
  {
   "cell_type": "code",
   "execution_count": 4,
   "metadata": {},
   "outputs": [
    {
     "data": {
      "text/plain": [
       "(4900, 19)"
      ]
     },
     "execution_count": 4,
     "metadata": {},
     "output_type": "execute_result"
    }
   ],
   "source": [
    "# Rename target column\n",
    "data_outflows = data_outflows.rename(columns={'newarrival': 'ref_outflow'})\n",
    "\n",
    "data_outflows.shape\n"
   ]
  },
  {
   "cell_type": "code",
   "execution_count": 5,
   "metadata": {},
   "outputs": [
    {
     "data": {
      "text/plain": [
       "196"
      ]
     },
     "execution_count": 5,
     "metadata": {},
     "output_type": "execute_result"
    }
   ],
   "source": [
    "# Store the list of countries to predict\n",
    "\n",
    "iso_3 = data_outflows.iso_o.unique().tolist()\n",
    "\n",
    "len(iso_3)"
   ]
  },
  {
   "cell_type": "code",
   "execution_count": 6,
   "metadata": {},
   "outputs": [],
   "source": [
    "# Create train/test split\n",
    "test_time_start = 2019\n",
    "test_time_end = 2021\n",
    "train = data_outflows.loc[data_outflows.year < test_time_start]\n",
    "test = data_outflows.loc[(data_outflows.year >= test_time_start) & (data_outflows.year <= test_time_end)]"
   ]
  },
  {
   "cell_type": "code",
   "execution_count": 7,
   "metadata": {},
   "outputs": [],
   "source": [
    "y_naive = model_helpers.apply_naive_prediction(train, test, target=\"ref_outflow\", lst_countries=iso_3,\n",
    "                                              country_var='iso_o'\n",
    "                                              )\n"
   ]
  },
  {
   "cell_type": "code",
   "execution_count": 8,
   "metadata": {},
   "outputs": [
    {
     "name": "stdout",
     "output_type": "stream",
     "text": [
      "Mse Naive RW: 61448.997839135656\n"
     ]
    }
   ],
   "source": [
    "mse_naive = mean_squared_error(y_pred=y_naive, y_true=test.ref_outflow, squared=False)\n",
    "print(\"Mse Naive RW: \" + str(mse_naive))"
   ]
  },
  {
   "cell_type": "code",
   "execution_count": 9,
   "metadata": {},
   "outputs": [
    {
     "data": {
      "text/html": [
       "<div>\n",
       "<style scoped>\n",
       "    .dataframe tbody tr th:only-of-type {\n",
       "        vertical-align: middle;\n",
       "    }\n",
       "\n",
       "    .dataframe tbody tr th {\n",
       "        vertical-align: top;\n",
       "    }\n",
       "\n",
       "    .dataframe thead th {\n",
       "        text-align: right;\n",
       "    }\n",
       "</style>\n",
       "<table border=\"1\" class=\"dataframe\">\n",
       "  <thead>\n",
       "    <tr style=\"text-align: right;\">\n",
       "      <th></th>\n",
       "      <th>iso_o</th>\n",
       "      <th>year</th>\n",
       "      <th>y_test</th>\n",
       "      <th>y_naive</th>\n",
       "    </tr>\n",
       "  </thead>\n",
       "  <tbody>\n",
       "    <tr>\n",
       "      <th>19</th>\n",
       "      <td>ABW</td>\n",
       "      <td>2019</td>\n",
       "      <td>1.0</td>\n",
       "      <td>0.0</td>\n",
       "    </tr>\n",
       "    <tr>\n",
       "      <th>20</th>\n",
       "      <td>ABW</td>\n",
       "      <td>2020</td>\n",
       "      <td>0.0</td>\n",
       "      <td>1.0</td>\n",
       "    </tr>\n",
       "    <tr>\n",
       "      <th>21</th>\n",
       "      <td>ABW</td>\n",
       "      <td>2021</td>\n",
       "      <td>0.0</td>\n",
       "      <td>0.0</td>\n",
       "    </tr>\n",
       "    <tr>\n",
       "      <th>44</th>\n",
       "      <td>AFG</td>\n",
       "      <td>2019</td>\n",
       "      <td>130489.0</td>\n",
       "      <td>116209.0</td>\n",
       "    </tr>\n",
       "    <tr>\n",
       "      <th>45</th>\n",
       "      <td>AFG</td>\n",
       "      <td>2020</td>\n",
       "      <td>74965.0</td>\n",
       "      <td>130489.0</td>\n",
       "    </tr>\n",
       "    <tr>\n",
       "      <th>...</th>\n",
       "      <td>...</td>\n",
       "      <td>...</td>\n",
       "      <td>...</td>\n",
       "      <td>...</td>\n",
       "    </tr>\n",
       "    <tr>\n",
       "      <th>4870</th>\n",
       "      <td>ZMB</td>\n",
       "      <td>2020</td>\n",
       "      <td>86.0</td>\n",
       "      <td>142.0</td>\n",
       "    </tr>\n",
       "    <tr>\n",
       "      <th>4871</th>\n",
       "      <td>ZMB</td>\n",
       "      <td>2021</td>\n",
       "      <td>73.0</td>\n",
       "      <td>86.0</td>\n",
       "    </tr>\n",
       "    <tr>\n",
       "      <th>4894</th>\n",
       "      <td>ZWE</td>\n",
       "      <td>2019</td>\n",
       "      <td>3371.0</td>\n",
       "      <td>1908.0</td>\n",
       "    </tr>\n",
       "    <tr>\n",
       "      <th>4895</th>\n",
       "      <td>ZWE</td>\n",
       "      <td>2020</td>\n",
       "      <td>1196.0</td>\n",
       "      <td>3371.0</td>\n",
       "    </tr>\n",
       "    <tr>\n",
       "      <th>4896</th>\n",
       "      <td>ZWE</td>\n",
       "      <td>2021</td>\n",
       "      <td>640.0</td>\n",
       "      <td>1196.0</td>\n",
       "    </tr>\n",
       "  </tbody>\n",
       "</table>\n",
       "<p>588 rows × 4 columns</p>\n",
       "</div>"
      ],
      "text/plain": [
       "     iso_o  year    y_test   y_naive\n",
       "19     ABW  2019       1.0       0.0\n",
       "20     ABW  2020       0.0       1.0\n",
       "21     ABW  2021       0.0       0.0\n",
       "44     AFG  2019  130489.0  116209.0\n",
       "45     AFG  2020   74965.0  130489.0\n",
       "...    ...   ...       ...       ...\n",
       "4870   ZMB  2020      86.0     142.0\n",
       "4871   ZMB  2021      73.0      86.0\n",
       "4894   ZWE  2019    3371.0    1908.0\n",
       "4895   ZWE  2020    1196.0    3371.0\n",
       "4896   ZWE  2021     640.0    1196.0\n",
       "\n",
       "[588 rows x 4 columns]"
      ]
     },
     "execution_count": 9,
     "metadata": {},
     "output_type": "execute_result"
    }
   ],
   "source": [
    "data = {\n",
    "    'iso_o': test.iso_o,\n",
    "    'year': test.year,\n",
    "    'y_test': test.ref_outflow,\n",
    "    'y_naive': y_naive\n",
    "}\n",
    "predictions = pd.DataFrame(data)\n",
    "predictions"
   ]
  },
  {
   "cell_type": "code",
   "execution_count": 10,
   "metadata": {},
   "outputs": [
    {
     "name": "stdout",
     "output_type": "stream",
     "text": [
      "MSE Naive RW: 79330.72846959482\n",
      "MSE Naive RW: 69261.51134685859\n",
      "MSE Naive RW: 15408.3280317721\n"
     ]
    }
   ],
   "source": [
    "mse_naive_dict = {}\n",
    "\n",
    "for year in range(2019, 2022):\n",
    "    data_year = predictions.loc[predictions.year == year]\n",
    "    mse = mean_squared_error(y_pred=data_year.y_naive, y_true=data_year.y_test, squared=False)\n",
    "    mse_naive_dict[year] = mse\n",
    "    print(\"MSE Naive RW: \" + str(mse_naive_dict[year]))\n"
   ]
  },
  {
   "cell_type": "code",
   "execution_count": 11,
   "metadata": {},
   "outputs": [
    {
     "data": {
      "image/png": "[encoded data removed]",
      "text/plain": [
       "<Figure size 640x480 with 1 Axes>"
      ]
     },
     "metadata": {},
     "output_type": "display_data"
    }
   ],
   "source": [
    "years = mse_naive_dict.keys()\n",
    "mse_values = mse_naive_dict.values()\n",
    "\n",
    "plt.bar(years, mse_values)\n",
    "plt.xlabel('Year')\n",
    "plt.ylabel('Naive MSE')\n",
    "plt.title('Naive MSE by Year')\n",
    "plt.show()\n"
   ]
  },
  {
   "attachments": {},
   "cell_type": "markdown",
   "metadata": {},
   "source": [
    "## Step 1: Baseline RF using UNCHR covariates and lags for selected features"
   ]
  },
  {
   "attachments": {},
   "cell_type": "markdown",
   "metadata": {},
   "source": [
    "We are adding lags for different columns.\n",
    "\n",
    "Apart from lags, we might want to add rolling sums for:\n",
    "- best estimate for casualties from conflict\n",
    "- refugee outflows"
   ]
  },
  {
   "cell_type": "code",
   "execution_count": 12,
   "metadata": {},
   "outputs": [],
   "source": [
    "shift_cols_2 = ['ref_outflow','dead_o', 'best_est_o', \"dead_log_o\"]\n",
    "shift_cols_1 = [ 'CPI_o', 'GDP_PP_o', 'GDP_PPP_o',  'PR_o', 'CL_o', 'Nyear_conflict_o', 'Nyear_log_o', \"typeOfViolence_o\", \"Nyear_conf_o\"]\n",
    "\n",
    "\n",
    "shifted_df_filled_1 = model_helpers.multi_shift_ffill(data_outflows, shift_cols_1, range(1, 2), 'iso_o', 'year')\n",
    "shifted_df_filled_2 = model_helpers.multi_shift_ffill(data_outflows, shift_cols_2, range(1, 3), 'iso_o', 'year')\n",
    "\n",
    "data_outflows_lags = pd.concat([data_outflows, shifted_df_filled_1.reset_index(drop=True).drop(columns=[\"iso_o\", \"year\"])], axis=1)\n",
    "data_outflows_lags = pd.concat([data_outflows_lags, shifted_df_filled_2.reset_index(drop=True).drop(columns=[\"iso_o\", \"year\"])], axis=1)\n",
    "\n",
    "window_sizes = [4, 6, 11]\n",
    "group_cols = ['iso_o']\n",
    "value_cols = ['ref_outflow', 'best_est_o']\n",
    "\n",
    "panel_data = model_helpers.generate_rolling_sum_variables(data_outflows_lags, group_cols, value_cols, window_sizes, date_col='year')\n",
    "\n",
    "continents = panel_data[['iso_o']].apply(lambda x: model_helpers.mapper(x, model_helpers.country_to_continent)).rename({'iso_o':'iso_o_continent'}, axis=1)\n",
    "unhcr = pd.concat([continents, panel_data], axis=1)\n",
    "\n",
    "\n"
   ]
  },
  {
   "attachments": {},
   "cell_type": "markdown",
   "metadata": {},
   "source": [
    "Because later on we only keep 2005 onwards, let's start training this model with data>=2005: "
   ]
  },
  {
   "cell_type": "code",
   "execution_count": 13,
   "metadata": {},
   "outputs": [],
   "source": [
    "unhcr = unhcr[unhcr[\"year\"]>=2005]"
   ]
  },
  {
   "cell_type": "code",
   "execution_count": 14,
   "metadata": {},
   "outputs": [
    {
     "data": {
      "text/html": [
       "<div>\n",
       "<style scoped>\n",
       "    .dataframe tbody tr th:only-of-type {\n",
       "        vertical-align: middle;\n",
       "    }\n",
       "\n",
       "    .dataframe tbody tr th {\n",
       "        vertical-align: top;\n",
       "    }\n",
       "\n",
       "    .dataframe thead th {\n",
       "        text-align: right;\n",
       "    }\n",
       "</style>\n",
       "<table border=\"1\" class=\"dataframe\">\n",
       "  <thead>\n",
       "    <tr style=\"text-align: right;\">\n",
       "      <th></th>\n",
       "      <th>iso_o_continent</th>\n",
       "      <th>iso_o</th>\n",
       "      <th>year</th>\n",
       "      <th>pop_o</th>\n",
       "      <th>CPI_o</th>\n",
       "      <th>GDP_PP_o</th>\n",
       "      <th>GDP_PPP_o</th>\n",
       "      <th>island_o</th>\n",
       "      <th>area_o</th>\n",
       "      <th>landlocked_o</th>\n",
       "      <th>...</th>\n",
       "      <th>Shift_2_ref_outflow</th>\n",
       "      <th>Shift_2_dead_o</th>\n",
       "      <th>Shift_2_best_est_o</th>\n",
       "      <th>Shift_2_dead_log_o</th>\n",
       "      <th>rolling_sum_past_3_ref_outflow</th>\n",
       "      <th>rolling_sum_past_5_ref_outflow</th>\n",
       "      <th>rolling_sum_past_10_ref_outflow</th>\n",
       "      <th>rolling_sum_past_3_best_est_o</th>\n",
       "      <th>rolling_sum_past_5_best_est_o</th>\n",
       "      <th>rolling_sum_past_10_best_est_o</th>\n",
       "    </tr>\n",
       "  </thead>\n",
       "  <tbody>\n",
       "    <tr>\n",
       "      <th>5</th>\n",
       "      <td>NA</td>\n",
       "      <td>ABW</td>\n",
       "      <td>2005</td>\n",
       "      <td>0.098</td>\n",
       "      <td>3.787</td>\n",
       "      <td>37910.69</td>\n",
       "      <td>0.005</td>\n",
       "      <td>1</td>\n",
       "      <td>193.0</td>\n",
       "      <td>0</td>\n",
       "      <td>...</td>\n",
       "      <td>0.0</td>\n",
       "      <td>0.0</td>\n",
       "      <td>0.0</td>\n",
       "      <td>0.0</td>\n",
       "      <td>0.0</td>\n",
       "      <td>0.0</td>\n",
       "      <td>0.0</td>\n",
       "      <td>0.0</td>\n",
       "      <td>0.0</td>\n",
       "      <td>0.0</td>\n",
       "    </tr>\n",
       "    <tr>\n",
       "      <th>6</th>\n",
       "      <td>NA</td>\n",
       "      <td>ABW</td>\n",
       "      <td>2006</td>\n",
       "      <td>0.099</td>\n",
       "      <td>2.510</td>\n",
       "      <td>37655.07</td>\n",
       "      <td>0.005</td>\n",
       "      <td>1</td>\n",
       "      <td>193.0</td>\n",
       "      <td>0</td>\n",
       "      <td>...</td>\n",
       "      <td>0.0</td>\n",
       "      <td>0.0</td>\n",
       "      <td>0.0</td>\n",
       "      <td>0.0</td>\n",
       "      <td>0.0</td>\n",
       "      <td>0.0</td>\n",
       "      <td>0.0</td>\n",
       "      <td>0.0</td>\n",
       "      <td>0.0</td>\n",
       "      <td>0.0</td>\n",
       "    </tr>\n",
       "    <tr>\n",
       "      <th>7</th>\n",
       "      <td>NA</td>\n",
       "      <td>ABW</td>\n",
       "      <td>2007</td>\n",
       "      <td>0.100</td>\n",
       "      <td>9.920</td>\n",
       "      <td>38530.06</td>\n",
       "      <td>0.005</td>\n",
       "      <td>1</td>\n",
       "      <td>193.0</td>\n",
       "      <td>0</td>\n",
       "      <td>...</td>\n",
       "      <td>0.0</td>\n",
       "      <td>0.0</td>\n",
       "      <td>0.0</td>\n",
       "      <td>0.0</td>\n",
       "      <td>0.0</td>\n",
       "      <td>0.0</td>\n",
       "      <td>0.0</td>\n",
       "      <td>0.0</td>\n",
       "      <td>0.0</td>\n",
       "      <td>0.0</td>\n",
       "    </tr>\n",
       "    <tr>\n",
       "      <th>8</th>\n",
       "      <td>NA</td>\n",
       "      <td>ABW</td>\n",
       "      <td>2008</td>\n",
       "      <td>0.101</td>\n",
       "      <td>-1.859</td>\n",
       "      <td>38939.16</td>\n",
       "      <td>0.005</td>\n",
       "      <td>1</td>\n",
       "      <td>193.0</td>\n",
       "      <td>0</td>\n",
       "      <td>...</td>\n",
       "      <td>0.0</td>\n",
       "      <td>0.0</td>\n",
       "      <td>0.0</td>\n",
       "      <td>0.0</td>\n",
       "      <td>0.0</td>\n",
       "      <td>0.0</td>\n",
       "      <td>0.0</td>\n",
       "      <td>0.0</td>\n",
       "      <td>0.0</td>\n",
       "      <td>0.0</td>\n",
       "    </tr>\n",
       "    <tr>\n",
       "      <th>9</th>\n",
       "      <td>NA</td>\n",
       "      <td>ABW</td>\n",
       "      <td>2009</td>\n",
       "      <td>0.102</td>\n",
       "      <td>6.777</td>\n",
       "      <td>34159.06</td>\n",
       "      <td>0.004</td>\n",
       "      <td>1</td>\n",
       "      <td>193.0</td>\n",
       "      <td>0</td>\n",
       "      <td>...</td>\n",
       "      <td>0.0</td>\n",
       "      <td>0.0</td>\n",
       "      <td>0.0</td>\n",
       "      <td>0.0</td>\n",
       "      <td>0.0</td>\n",
       "      <td>0.0</td>\n",
       "      <td>0.0</td>\n",
       "      <td>0.0</td>\n",
       "      <td>0.0</td>\n",
       "      <td>0.0</td>\n",
       "    </tr>\n",
       "  </tbody>\n",
       "</table>\n",
       "<p>5 rows × 43 columns</p>\n",
       "</div>"
      ],
      "text/plain": [
       "  iso_o_continent iso_o  year  pop_o  CPI_o  GDP_PP_o  GDP_PPP_o  island_o   \n",
       "5              NA   ABW  2005  0.098  3.787  37910.69      0.005         1  \\\n",
       "6              NA   ABW  2006  0.099  2.510  37655.07      0.005         1   \n",
       "7              NA   ABW  2007  0.100  9.920  38530.06      0.005         1   \n",
       "8              NA   ABW  2008  0.101 -1.859  38939.16      0.005         1   \n",
       "9              NA   ABW  2009  0.102  6.777  34159.06      0.004         1   \n",
       "\n",
       "   area_o  landlocked_o  ...  Shift_2_ref_outflow  Shift_2_dead_o   \n",
       "5   193.0             0  ...                  0.0             0.0  \\\n",
       "6   193.0             0  ...                  0.0             0.0   \n",
       "7   193.0             0  ...                  0.0             0.0   \n",
       "8   193.0             0  ...                  0.0             0.0   \n",
       "9   193.0             0  ...                  0.0             0.0   \n",
       "\n",
       "   Shift_2_best_est_o  Shift_2_dead_log_o  rolling_sum_past_3_ref_outflow   \n",
       "5                 0.0                 0.0                             0.0  \\\n",
       "6                 0.0                 0.0                             0.0   \n",
       "7                 0.0                 0.0                             0.0   \n",
       "8                 0.0                 0.0                             0.0   \n",
       "9                 0.0                 0.0                             0.0   \n",
       "\n",
       "   rolling_sum_past_5_ref_outflow  rolling_sum_past_10_ref_outflow   \n",
       "5                             0.0                              0.0  \\\n",
       "6                             0.0                              0.0   \n",
       "7                             0.0                              0.0   \n",
       "8                             0.0                              0.0   \n",
       "9                             0.0                              0.0   \n",
       "\n",
       "   rolling_sum_past_3_best_est_o  rolling_sum_past_5_best_est_o   \n",
       "5                            0.0                            0.0  \\\n",
       "6                            0.0                            0.0   \n",
       "7                            0.0                            0.0   \n",
       "8                            0.0                            0.0   \n",
       "9                            0.0                            0.0   \n",
       "\n",
       "   rolling_sum_past_10_best_est_o  \n",
       "5                             0.0  \n",
       "6                             0.0  \n",
       "7                             0.0  \n",
       "8                             0.0  \n",
       "9                             0.0  \n",
       "\n",
       "[5 rows x 43 columns]"
      ]
     },
     "execution_count": 14,
     "metadata": {},
     "output_type": "execute_result"
    }
   ],
   "source": [
    "unhcr.head()"
   ]
  },
  {
   "attachments": {},
   "cell_type": "markdown",
   "metadata": {},
   "source": [
    "Binary encoding and scaling"
   ]
  },
  {
   "cell_type": "code",
   "execution_count": 15,
   "metadata": {},
   "outputs": [
    {
     "data": {
      "text/plain": [
       "Index(['iso_o_continent', 'iso_o', 'year', 'pop_o', 'CPI_o', 'GDP_PP_o',\n",
       "       'GDP_PPP_o', 'island_o', 'area_o', 'landlocked_o', 'PR_o', 'CL_o',\n",
       "       'typeOfViolence_o', 'best_est_o', 'Nyear_conflict_o', 'Nyear_log_o',\n",
       "       'dead_log_o', 'Nyear_conf_o', 'dead_o', 'ref_outflow', 'Shift_1_CPI_o',\n",
       "       'Shift_1_GDP_PP_o', 'Shift_1_GDP_PPP_o', 'Shift_1_PR_o', 'Shift_1_CL_o',\n",
       "       'Shift_1_Nyear_conflict_o', 'Shift_1_Nyear_log_o',\n",
       "       'Shift_1_typeOfViolence_o', 'Shift_1_Nyear_conf_o',\n",
       "       'Shift_1_ref_outflow', 'Shift_1_dead_o', 'Shift_1_best_est_o',\n",
       "       'Shift_1_dead_log_o', 'Shift_2_ref_outflow', 'Shift_2_dead_o',\n",
       "       'Shift_2_best_est_o', 'Shift_2_dead_log_o',\n",
       "       'rolling_sum_past_3_ref_outflow', 'rolling_sum_past_5_ref_outflow',\n",
       "       'rolling_sum_past_10_ref_outflow', 'rolling_sum_past_3_best_est_o',\n",
       "       'rolling_sum_past_5_best_est_o', 'rolling_sum_past_10_best_est_o'],\n",
       "      dtype='object')"
      ]
     },
     "execution_count": 15,
     "metadata": {},
     "output_type": "execute_result"
    }
   ],
   "source": [
    "unhcr.columns"
   ]
  },
  {
   "cell_type": "code",
   "execution_count": 16,
   "metadata": {},
   "outputs": [],
   "source": [
    "# This are the times for X_train, which will predict one year ahead\n",
    "test_time_start = 2018\n",
    "test_time_end = 2020\n",
    "\n",
    "unhcr[\"target\"] = unhcr.groupby('iso_o').ref_outflow.shift(-1)\n"
   ]
  },
  {
   "cell_type": "code",
   "execution_count": 17,
   "metadata": {},
   "outputs": [],
   "source": [
    "binary_cols = ['iso_o', 'iso_o_continent','Shift_1_typeOfViolence_o', 'typeOfViolence_o']\n",
    "\n",
    "rf_pipe = model_helpers.pipeline_tree(model=RandomForestRegressor(random_state=SEED, n_jobs=-1), \n",
    "                                      df=unhcr,\n",
    "                                      binary_cols=binary_cols)"
   ]
  },
  {
   "cell_type": "code",
   "execution_count": 18,
   "metadata": {},
   "outputs": [],
   "source": [
    "X_train, X_test, y_train, y_test = model_helpers.train_test_split(unhcr, 'target', test_time_start, test_time_end, 'year')\n"
   ]
  },
  {
   "cell_type": "code",
   "execution_count": 19,
   "metadata": {},
   "outputs": [
    {
     "data": {
      "text/html": [
       "<style>#sk-container-id-1 {color: black;background-color: white;}#sk-container-id-1 pre{padding: 0;}#sk-container-id-1 div.sk-toggleable {background-color: white;}#sk-container-id-1 label.sk-toggleable__label {cursor: pointer;display: block;width: 100%;margin-bottom: 0;padding: 0.3em;box-sizing: border-box;text-align: center;}#sk-container-id-1 label.sk-toggleable__label-arrow:before {content: \"▸\";float: left;margin-right: 0.25em;color: #696969;}#sk-container-id-1 label.sk-toggleable__label-arrow:hover:before {color: black;}#sk-container-id-1 div.sk-estimator:hover label.sk-toggleable__label-arrow:before {color: black;}#sk-container-id-1 div.sk-toggleable__content {max-height: 0;max-width: 0;overflow: hidden;text-align: left;background-color: #f0f8ff;}#sk-container-id-1 div.sk-toggleable__content pre {margin: 0.2em;color: black;border-radius: 0.25em;background-color: #f0f8ff;}#sk-container-id-1 input.sk-toggleable__control:checked~div.sk-toggleable__content {max-height: 200px;max-width: 100%;overflow: auto;}#sk-container-id-1 input.sk-toggleable__control:checked~label.sk-toggleable__label-arrow:before {content: \"▾\";}#sk-container-id-1 div.sk-estimator input.sk-toggleable__control:checked~label.sk-toggleable__label {background-color: #d4ebff;}#sk-container-id-1 div.sk-label input.sk-toggleable__control:checked~label.sk-toggleable__label {background-color: #d4ebff;}#sk-container-id-1 input.sk-hidden--visually {border: 0;clip: rect(1px 1px 1px 1px);clip: rect(1px, 1px, 1px, 1px);height: 1px;margin: -1px;overflow: hidden;padding: 0;position: absolute;width: 1px;}#sk-container-id-1 div.sk-estimator {font-family: monospace;background-color: #f0f8ff;border: 1px dotted black;border-radius: 0.25em;box-sizing: border-box;margin-bottom: 0.5em;}#sk-container-id-1 div.sk-estimator:hover {background-color: #d4ebff;}#sk-container-id-1 div.sk-parallel-item::after {content: \"\";width: 100%;border-bottom: 1px solid gray;flex-grow: 1;}#sk-container-id-1 div.sk-label:hover label.sk-toggleable__label {background-color: #d4ebff;}#sk-container-id-1 div.sk-serial::before {content: \"\";position: absolute;border-left: 1px solid gray;box-sizing: border-box;top: 0;bottom: 0;left: 50%;z-index: 0;}#sk-container-id-1 div.sk-serial {display: flex;flex-direction: column;align-items: center;background-color: white;padding-right: 0.2em;padding-left: 0.2em;position: relative;}#sk-container-id-1 div.sk-item {position: relative;z-index: 1;}#sk-container-id-1 div.sk-parallel {display: flex;align-items: stretch;justify-content: center;background-color: white;position: relative;}#sk-container-id-1 div.sk-item::before, #sk-container-id-1 div.sk-parallel-item::before {content: \"\";position: absolute;border-left: 1px solid gray;box-sizing: border-box;top: 0;bottom: 0;left: 50%;z-index: -1;}#sk-container-id-1 div.sk-parallel-item {display: flex;flex-direction: column;z-index: 1;position: relative;background-color: white;}#sk-container-id-1 div.sk-parallel-item:first-child::after {align-self: flex-end;width: 50%;}#sk-container-id-1 div.sk-parallel-item:last-child::after {align-self: flex-start;width: 50%;}#sk-container-id-1 div.sk-parallel-item:only-child::after {width: 0;}#sk-container-id-1 div.sk-dashed-wrapped {border: 1px dashed gray;margin: 0 0.4em 0.5em 0.4em;box-sizing: border-box;padding-bottom: 0.4em;background-color: white;}#sk-container-id-1 div.sk-label label {font-family: monospace;font-weight: bold;display: inline-block;line-height: 1.2em;}#sk-container-id-1 div.sk-label-container {text-align: center;}#sk-container-id-1 div.sk-container {/* jupyter's `normalize.less` sets `[hidden] { display: none; }` but bootstrap.min.css set `[hidden] { display: none !important; }` so we also need the `!important` here to be able to override the default hidden behavior on the sphinx rendered scikit-learn.org. See: https://github.com/scikit-learn/scikit-learn/issues/21755 */display: inline-block !important;position: relative;}#sk-container-id-1 div.sk-text-repr-fallback {display: none;}</style><div id=\"sk-container-id-1\" class=\"sk-top-container\"><div class=\"sk-text-repr-fallback\"><pre>Pipeline(steps=[(&#x27;preprocessing&#x27;,\n",
       "                 ColumnTransformer(remainder=&#x27;passthrough&#x27;,\n",
       "                                   transformers=[(&#x27;cat1&#x27;, BinaryEncoder(),\n",
       "                                                  [&#x27;iso_o&#x27;, &#x27;iso_o_continent&#x27;,\n",
       "                                                   &#x27;Shift_1_typeOfViolence_o&#x27;,\n",
       "                                                   &#x27;typeOfViolence_o&#x27;]),\n",
       "                                                 (&#x27;num&#x27;, RobustScaler(),\n",
       "                                                  [&#x27;rolling_sum_past_5_ref_outflow&#x27;,\n",
       "                                                   &#x27;rolling_sum_past_10_best_est_o&#x27;,\n",
       "                                                   &#x27;Shift_1_ref_outflow&#x27;,\n",
       "                                                   &#x27;Shift_1_GDP_PP_o&#x27;, &#x27;CPI_o&#x27;,\n",
       "                                                   &#x27;rolling_sum_past_5_best...\n",
       "                                                   &#x27;Nyear_conf_o&#x27;, &#x27;island_o&#x27;,\n",
       "                                                   &#x27;Shift_1_GDP_PPP_o&#x27;,\n",
       "                                                   &#x27;dead_log_o&#x27;,\n",
       "                                                   &#x27;rolling_sum_past_3_ref_outflow&#x27;,\n",
       "                                                   &#x27;landlocked_o&#x27;,\n",
       "                                                   &#x27;Shift_1_Nyear_conflict_o&#x27;,\n",
       "                                                   &#x27;ref_outflow&#x27;,\n",
       "                                                   &#x27;rolling_sum_past_3_best_est_o&#x27;,\n",
       "                                                   &#x27;Shift_1_Nyear_conf_o&#x27;,\n",
       "                                                   &#x27;Shift_2_best_est_o&#x27;,\n",
       "                                                   &#x27;area_o&#x27;,\n",
       "                                                   &#x27;rolling_sum_past_10_ref_outflow&#x27;,\n",
       "                                                   &#x27;Nyear_conflict_o&#x27;, ...])])),\n",
       "                (&#x27;rf&#x27;, RandomForestRegressor(n_jobs=-1, random_state=12))])</pre><b>In a Jupyter environment, please rerun this cell to show the HTML representation or trust the notebook. <br />On GitHub, the HTML representation is unable to render, please try loading this page with nbviewer.org.</b></div><div class=\"sk-container\" hidden><div class=\"sk-item sk-dashed-wrapped\"><div class=\"sk-label-container\"><div class=\"sk-label sk-toggleable\"><input class=\"sk-toggleable__control sk-hidden--visually\" id=\"sk-estimator-id-1\" type=\"checkbox\" ><label for=\"sk-estimator-id-1\" class=\"sk-toggleable__label sk-toggleable__label-arrow\">Pipeline</label><div class=\"sk-toggleable__content\"><pre>Pipeline(steps=[(&#x27;preprocessing&#x27;,\n",
       "                 ColumnTransformer(remainder=&#x27;passthrough&#x27;,\n",
       "                                   transformers=[(&#x27;cat1&#x27;, BinaryEncoder(),\n",
       "                                                  [&#x27;iso_o&#x27;, &#x27;iso_o_continent&#x27;,\n",
       "                                                   &#x27;Shift_1_typeOfViolence_o&#x27;,\n",
       "                                                   &#x27;typeOfViolence_o&#x27;]),\n",
       "                                                 (&#x27;num&#x27;, RobustScaler(),\n",
       "                                                  [&#x27;rolling_sum_past_5_ref_outflow&#x27;,\n",
       "                                                   &#x27;rolling_sum_past_10_best_est_o&#x27;,\n",
       "                                                   &#x27;Shift_1_ref_outflow&#x27;,\n",
       "                                                   &#x27;Shift_1_GDP_PP_o&#x27;, &#x27;CPI_o&#x27;,\n",
       "                                                   &#x27;rolling_sum_past_5_best...\n",
       "                                                   &#x27;Nyear_conf_o&#x27;, &#x27;island_o&#x27;,\n",
       "                                                   &#x27;Shift_1_GDP_PPP_o&#x27;,\n",
       "                                                   &#x27;dead_log_o&#x27;,\n",
       "                                                   &#x27;rolling_sum_past_3_ref_outflow&#x27;,\n",
       "                                                   &#x27;landlocked_o&#x27;,\n",
       "                                                   &#x27;Shift_1_Nyear_conflict_o&#x27;,\n",
       "                                                   &#x27;ref_outflow&#x27;,\n",
       "                                                   &#x27;rolling_sum_past_3_best_est_o&#x27;,\n",
       "                                                   &#x27;Shift_1_Nyear_conf_o&#x27;,\n",
       "                                                   &#x27;Shift_2_best_est_o&#x27;,\n",
       "                                                   &#x27;area_o&#x27;,\n",
       "                                                   &#x27;rolling_sum_past_10_ref_outflow&#x27;,\n",
       "                                                   &#x27;Nyear_conflict_o&#x27;, ...])])),\n",
       "                (&#x27;rf&#x27;, RandomForestRegressor(n_jobs=-1, random_state=12))])</pre></div></div></div><div class=\"sk-serial\"><div class=\"sk-item sk-dashed-wrapped\"><div class=\"sk-label-container\"><div class=\"sk-label sk-toggleable\"><input class=\"sk-toggleable__control sk-hidden--visually\" id=\"sk-estimator-id-2\" type=\"checkbox\" ><label for=\"sk-estimator-id-2\" class=\"sk-toggleable__label sk-toggleable__label-arrow\">preprocessing: ColumnTransformer</label><div class=\"sk-toggleable__content\"><pre>ColumnTransformer(remainder=&#x27;passthrough&#x27;,\n",
       "                  transformers=[(&#x27;cat1&#x27;, BinaryEncoder(),\n",
       "                                 [&#x27;iso_o&#x27;, &#x27;iso_o_continent&#x27;,\n",
       "                                  &#x27;Shift_1_typeOfViolence_o&#x27;,\n",
       "                                  &#x27;typeOfViolence_o&#x27;]),\n",
       "                                (&#x27;num&#x27;, RobustScaler(),\n",
       "                                 [&#x27;rolling_sum_past_5_ref_outflow&#x27;,\n",
       "                                  &#x27;rolling_sum_past_10_best_est_o&#x27;,\n",
       "                                  &#x27;Shift_1_ref_outflow&#x27;, &#x27;Shift_1_GDP_PP_o&#x27;,\n",
       "                                  &#x27;CPI_o&#x27;, &#x27;rolling_sum_past_5_best_est_o&#x27;,\n",
       "                                  &#x27;Shift_2_dead_o&#x27;, &#x27;PR_o&#x27;, &#x27;...\n",
       "                                  &#x27;Shift_1_dead_log_o&#x27;, &#x27;Shift_1_CPI_o&#x27;,\n",
       "                                  &#x27;Nyear_log_o&#x27;, &#x27;Shift_1_dead_o&#x27;, &#x27;pop_o&#x27;,\n",
       "                                  &#x27;Shift_1_CL_o&#x27;, &#x27;Nyear_conf_o&#x27;, &#x27;island_o&#x27;,\n",
       "                                  &#x27;Shift_1_GDP_PPP_o&#x27;, &#x27;dead_log_o&#x27;,\n",
       "                                  &#x27;rolling_sum_past_3_ref_outflow&#x27;,\n",
       "                                  &#x27;landlocked_o&#x27;, &#x27;Shift_1_Nyear_conflict_o&#x27;,\n",
       "                                  &#x27;ref_outflow&#x27;,\n",
       "                                  &#x27;rolling_sum_past_3_best_est_o&#x27;,\n",
       "                                  &#x27;Shift_1_Nyear_conf_o&#x27;, &#x27;Shift_2_best_est_o&#x27;,\n",
       "                                  &#x27;area_o&#x27;, &#x27;rolling_sum_past_10_ref_outflow&#x27;,\n",
       "                                  &#x27;Nyear_conflict_o&#x27;, ...])])</pre></div></div></div><div class=\"sk-parallel\"><div class=\"sk-parallel-item\"><div class=\"sk-item\"><div class=\"sk-label-container\"><div class=\"sk-label sk-toggleable\"><input class=\"sk-toggleable__control sk-hidden--visually\" id=\"sk-estimator-id-3\" type=\"checkbox\" ><label for=\"sk-estimator-id-3\" class=\"sk-toggleable__label sk-toggleable__label-arrow\">cat1</label><div class=\"sk-toggleable__content\"><pre>[&#x27;iso_o&#x27;, &#x27;iso_o_continent&#x27;, &#x27;Shift_1_typeOfViolence_o&#x27;, &#x27;typeOfViolence_o&#x27;]</pre></div></div></div><div class=\"sk-serial\"><div class=\"sk-item\"><div class=\"sk-estimator sk-toggleable\"><input class=\"sk-toggleable__control sk-hidden--visually\" id=\"sk-estimator-id-4\" type=\"checkbox\" ><label for=\"sk-estimator-id-4\" class=\"sk-toggleable__label sk-toggleable__label-arrow\">BinaryEncoder</label><div class=\"sk-toggleable__content\"><pre>BinaryEncoder()</pre></div></div></div></div></div></div><div class=\"sk-parallel-item\"><div class=\"sk-item\"><div class=\"sk-label-container\"><div class=\"sk-label sk-toggleable\"><input class=\"sk-toggleable__control sk-hidden--visually\" id=\"sk-estimator-id-5\" type=\"checkbox\" ><label for=\"sk-estimator-id-5\" class=\"sk-toggleable__label sk-toggleable__label-arrow\">num</label><div class=\"sk-toggleable__content\"><pre>[&#x27;rolling_sum_past_5_ref_outflow&#x27;, &#x27;rolling_sum_past_10_best_est_o&#x27;, &#x27;Shift_1_ref_outflow&#x27;, &#x27;Shift_1_GDP_PP_o&#x27;, &#x27;CPI_o&#x27;, &#x27;rolling_sum_past_5_best_est_o&#x27;, &#x27;Shift_2_dead_o&#x27;, &#x27;PR_o&#x27;, &#x27;GDP_PPP_o&#x27;, &#x27;CL_o&#x27;, &#x27;Shift_1_dead_log_o&#x27;, &#x27;Shift_1_CPI_o&#x27;, &#x27;Nyear_log_o&#x27;, &#x27;Shift_1_dead_o&#x27;, &#x27;pop_o&#x27;, &#x27;Shift_1_CL_o&#x27;, &#x27;Nyear_conf_o&#x27;, &#x27;island_o&#x27;, &#x27;Shift_1_GDP_PPP_o&#x27;, &#x27;dead_log_o&#x27;, &#x27;rolling_sum_past_3_ref_outflow&#x27;, &#x27;landlocked_o&#x27;, &#x27;Shift_1_Nyear_conflict_o&#x27;, &#x27;ref_outflow&#x27;, &#x27;rolling_sum_past_3_best_est_o&#x27;, &#x27;Shift_1_Nyear_conf_o&#x27;, &#x27;Shift_2_best_est_o&#x27;, &#x27;area_o&#x27;, &#x27;rolling_sum_past_10_ref_outflow&#x27;, &#x27;Nyear_conflict_o&#x27;, &#x27;Shift_1_PR_o&#x27;, &#x27;dead_o&#x27;, &#x27;best_est_o&#x27;, &#x27;Shift_1_best_est_o&#x27;, &#x27;Shift_2_ref_outflow&#x27;, &#x27;GDP_PP_o&#x27;, &#x27;Shift_2_dead_log_o&#x27;, &#x27;Shift_1_Nyear_log_o&#x27;]</pre></div></div></div><div class=\"sk-serial\"><div class=\"sk-item\"><div class=\"sk-estimator sk-toggleable\"><input class=\"sk-toggleable__control sk-hidden--visually\" id=\"sk-estimator-id-6\" type=\"checkbox\" ><label for=\"sk-estimator-id-6\" class=\"sk-toggleable__label sk-toggleable__label-arrow\">RobustScaler</label><div class=\"sk-toggleable__content\"><pre>RobustScaler()</pre></div></div></div></div></div></div><div class=\"sk-parallel-item\"><div class=\"sk-item\"><div class=\"sk-label-container\"><div class=\"sk-label sk-toggleable\"><input class=\"sk-toggleable__control sk-hidden--visually\" id=\"sk-estimator-id-7\" type=\"checkbox\" ><label for=\"sk-estimator-id-7\" class=\"sk-toggleable__label sk-toggleable__label-arrow\">remainder</label><div class=\"sk-toggleable__content\"><pre>[&#x27;year&#x27;]</pre></div></div></div><div class=\"sk-serial\"><div class=\"sk-item\"><div class=\"sk-estimator sk-toggleable\"><input class=\"sk-toggleable__control sk-hidden--visually\" id=\"sk-estimator-id-8\" type=\"checkbox\" ><label for=\"sk-estimator-id-8\" class=\"sk-toggleable__label sk-toggleable__label-arrow\">passthrough</label><div class=\"sk-toggleable__content\"><pre>passthrough</pre></div></div></div></div></div></div></div></div><div class=\"sk-item\"><div class=\"sk-estimator sk-toggleable\"><input class=\"sk-toggleable__control sk-hidden--visually\" id=\"sk-estimator-id-9\" type=\"checkbox\" ><label for=\"sk-estimator-id-9\" class=\"sk-toggleable__label sk-toggleable__label-arrow\">RandomForestRegressor</label><div class=\"sk-toggleable__content\"><pre>RandomForestRegressor(n_jobs=-1, random_state=12)</pre></div></div></div></div></div></div></div>"
      ],
      "text/plain": [
       "Pipeline(steps=[('preprocessing',\n",
       "                 ColumnTransformer(remainder='passthrough',\n",
       "                                   transformers=[('cat1', BinaryEncoder(),\n",
       "                                                  ['iso_o', 'iso_o_continent',\n",
       "                                                   'Shift_1_typeOfViolence_o',\n",
       "                                                   'typeOfViolence_o']),\n",
       "                                                 ('num', RobustScaler(),\n",
       "                                                  ['rolling_sum_past_5_ref_outflow',\n",
       "                                                   'rolling_sum_past_10_best_est_o',\n",
       "                                                   'Shift_1_ref_outflow',\n",
       "                                                   'Shift_1_GDP_PP_o', 'CPI_o',\n",
       "                                                   'rolling_sum_past_5_best...\n",
       "                                                   'Nyear_conf_o', 'island_o',\n",
       "                                                   'Shift_1_GDP_PPP_o',\n",
       "                                                   'dead_log_o',\n",
       "                                                   'rolling_sum_past_3_ref_outflow',\n",
       "                                                   'landlocked_o',\n",
       "                                                   'Shift_1_Nyear_conflict_o',\n",
       "                                                   'ref_outflow',\n",
       "                                                   'rolling_sum_past_3_best_est_o',\n",
       "                                                   'Shift_1_Nyear_conf_o',\n",
       "                                                   'Shift_2_best_est_o',\n",
       "                                                   'area_o',\n",
       "                                                   'rolling_sum_past_10_ref_outflow',\n",
       "                                                   'Nyear_conflict_o', ...])])),\n",
       "                ('rf', RandomForestRegressor(n_jobs=-1, random_state=12))])"
      ]
     },
     "execution_count": 19,
     "metadata": {},
     "output_type": "execute_result"
    }
   ],
   "source": [
    "rf_pipe.fit(X_train, y_train)"
   ]
  },
  {
   "cell_type": "code",
   "execution_count": 20,
   "metadata": {},
   "outputs": [],
   "source": [
    "y_pred = rf_pipe.predict(X_test)\n",
    "\n",
    "y_pred = np.clip(y_pred, 0, None)"
   ]
  },
  {
   "cell_type": "code",
   "execution_count": 21,
   "metadata": {},
   "outputs": [
    {
     "name": "stdout",
     "output_type": "stream",
     "text": [
      "RMSE outflows - UNHCR covariates only: 56998.02495755848\n",
      "Relative RMSE to Naive predictions: 0.9275663877671503\n"
     ]
    }
   ],
   "source": [
    "mse_unhcr = mean_squared_error(y_test, y_pred, squared=False)\n",
    "\n",
    "print(\"RMSE outflows - UNHCR covariates only: \" + str(mse_unhcr))\n",
    "print(\"Relative RMSE to Naive predictions: \" + str(mse_unhcr/mse_naive))"
   ]
  },
  {
   "cell_type": "code",
   "execution_count": 22,
   "metadata": {},
   "outputs": [],
   "source": [
    "predictions[\"y_unhcr\"]=y_pred"
   ]
  },
  {
   "attachments": {},
   "cell_type": "markdown",
   "metadata": {},
   "source": [
    "### Rolling window"
   ]
  },
  {
   "cell_type": "code",
   "execution_count": 23,
   "metadata": {},
   "outputs": [],
   "source": [
    "X_train_list, X_test_list, y_train_list, y_test_list = model_helpers.train_test_split_rw(unhcr, 'target', test_time_start, test_time_end, 'year')"
   ]
  },
  {
   "cell_type": "code",
   "execution_count": 24,
   "metadata": {},
   "outputs": [
    {
     "name": "stdout",
     "output_type": "stream",
     "text": [
      "*********\n",
      "Year: 2019\n",
      "X_train uses data until: 2017\n",
      "X_test uses data from: 2018\n",
      "RMSE outflows - UNHCR covariates: 58785.06774566973\n",
      "Relative RMSE to Naive predictions: 0.741012579610943\n",
      "*********\n",
      "Year: 2020\n",
      "X_train uses data until: 2018\n",
      "X_test uses data from: 2019\n",
      "RMSE outflows - UNHCR covariates: 56691.85686442819\n",
      "Relative RMSE to Naive predictions: 0.8185189113260593\n",
      "*********\n",
      "Year: 2021\n",
      "X_train uses data until: 2019\n",
      "X_test uses data from: 2020\n",
      "RMSE outflows - UNHCR covariates: 29037.804063513697\n",
      "Relative RMSE to Naive predictions: 1.884552561682066\n"
     ]
    }
   ],
   "source": [
    "mse_unhcr_dict = {}\n",
    "predictions_list = []\n",
    "\n",
    "# Iterate over the test sets for each year\n",
    "for year, X_train, X_test, y_train, y_test in zip(range(test_time_start, test_time_end + 1), X_train_list, X_test_list, y_train_list, y_test_list):\n",
    "\n",
    "    rf_pipe.fit(X_train, y_train)\n",
    "\n",
    "    y_pred = rf_pipe.predict(X_test)\n",
    "    y_pred = np.clip(y_pred, 0, None)\n",
    "    mse_unhcr_year = mean_squared_error(y_test, y_pred, squared=False)\n",
    "\n",
    "    mse_unhcr_dict[year+1] = mse_unhcr_year\n",
    "\n",
    "    print(\"*********\")\n",
    "    print(\"Year: \" + str(year+1))\n",
    "    print(\"X_train uses data until: \" + str(X_train.year.max()))\n",
    "    print(\"X_test uses data from: \" + str(X_test.year.max()))\n",
    "    print(\"RMSE outflows - UNHCR covariates: \" + str(mse_unhcr_year))\n",
    "    print(\"Relative RMSE to Naive predictions: \" + str(mse_unhcr_year / mse_naive_dict[year+1]))\n",
    "\n",
    "    # Store predicted values in DataFrame\n",
    "    predictions_list.append(pd.DataFrame({\"year\": [year+1] * len(X_test),\n",
    "                                            \"iso_o\": X_test[\"iso_o\"].values,\n",
    "                                            \"y_pred_unhcr_rw\": y_pred}))\n",
    "\n",
    "    # Concatenate DataFrames from the list\n",
    "    predictions_df = pd.concat(predictions_list, ignore_index=True)"
   ]
  },
  {
   "cell_type": "code",
   "execution_count": 25,
   "metadata": {},
   "outputs": [
    {
     "data": {
      "text/plain": [
       "{2019: 58785.06774566973, 2020: 56691.85686442819, 2021: 29037.804063513697}"
      ]
     },
     "execution_count": 25,
     "metadata": {},
     "output_type": "execute_result"
    }
   ],
   "source": [
    "mse_unhcr_dict"
   ]
  },
  {
   "cell_type": "code",
   "execution_count": 26,
   "metadata": {},
   "outputs": [
    {
     "name": "stdout",
     "output_type": "stream",
     "text": [
      "RMSE outflows - UNHCR covariates only: 119757.37173018977\n",
      "Relative RMSE to Naive predictions: 1.948890558698724\n"
     ]
    }
   ],
   "source": [
    "mse_unhcr_rw = mean_squared_error(y_true=predictions.y_test, y_pred=predictions_df.y_pred_unhcr_rw, squared=False)\n",
    "\n",
    "print(\"RMSE outflows - UNHCR covariates only: \" + str(mse_unhcr_rw))\n",
    "print(\"Relative RMSE to Naive predictions: \" + str(mse_unhcr_rw/mse_naive))"
   ]
  },
  {
   "attachments": {},
   "cell_type": "markdown",
   "metadata": {},
   "source": [
    "## Step 2: Adding Google Trends data\n",
    "\n",
    "+ keywords and topics as downloaded, no dimensionality reduction. \n",
    "+ Avg and max per year \n",
    "+ rolling sum of the last 3 and 6 months\n",
    "+ weighted trends - trends multiplied by population and internet penetration in the country"
   ]
  },
  {
   "cell_type": "code",
   "execution_count": 27,
   "metadata": {},
   "outputs": [
    {
     "name": "stderr",
     "output_type": "stream",
     "text": [
      "C:\\Users\\danid\\AppData\\Local\\Temp\\ipykernel_49580\\31775143.py:3: DtypeWarning: Columns (1) have mixed types. Specify dtype option on import or set low_memory=False.\n",
      "  english_boss = pd.read_csv(\"../trends/data/semantic_keywords_boss_trends_EN.csv\").drop_duplicates().drop(columns=[\"Unnamed: 0\"])\n"
     ]
    },
    {
     "name": "stdout",
     "output_type": "stream",
     "text": [
      "(42098, 8)\n",
      "(21816, 22)\n",
      "(12096, 41)\n",
      "(30240, 22)\n",
      "(27216, 41)\n"
     ]
    }
   ],
   "source": [
    "english_from_topics = pd.read_csv(\"../trends/data/semantic_keywordsfromtopics_trends_EN.csv\").drop(columns=[\"Unnamed: 0\"]).drop_duplicates()\n",
    "ol_from_topics = pd.read_csv(\"../trends/data/semantic_keywordsfromtopics_trends_orig_lang.csv\").drop(columns=[\"Unnamed: 0\"]).drop_duplicates()\n",
    "english_boss = pd.read_csv(\"../trends/data/semantic_keywords_boss_trends_EN.csv\").drop_duplicates().drop(columns=[\"Unnamed: 0\"])\n",
    "ol_boss = pd.read_csv(\"../trends/data/semantic_keywords_boss_trends_OL.csv\").drop_duplicates()\n",
    "\n",
    "topics = pd.read_csv(\"../trends/data/semantic_topic_trends_2005.csv\").drop(columns=[\"Unnamed: 0\"]).drop_duplicates()\n",
    "# topics.info() - nulls in country, dropping those\n",
    "topics = topics[topics.country.isnull()==False]\n",
    "print(topics.shape)\n",
    "\n",
    "print(english_from_topics.shape)\n",
    "# english_boss.info() # A bunch of missing dates - idk what happened there!\n",
    "# We can't do much without dates so I'm dropping them - will have to check if it's worth re-downloading this \n",
    "english_boss = english_boss[english_boss.date.isnull()==False].drop(columns=[\"index\"])\n",
    "print(english_boss.shape)\n",
    "\n",
    "\n",
    "# I downloaded data for a maximum of two origin languages. This might not be the best approach, but for now, I'm averaging the values when I have more than one OL.\n",
    "ol_from_topics_av = ol_from_topics.groupby(['country', 'date']).mean().reset_index()\n",
    "ol_boss_av = ol_boss.groupby(['country', 'date']).mean().reset_index()\n",
    "# Print the transformed dataset\n",
    "print(ol_from_topics_av.shape)\n",
    "print(ol_boss_av.shape)"
   ]
  },
  {
   "attachments": {},
   "cell_type": "markdown",
   "metadata": {},
   "source": [
    "Big merge:"
   ]
  },
  {
   "cell_type": "code",
   "execution_count": 28,
   "metadata": {},
   "outputs": [
    {
     "name": "stdout",
     "output_type": "stream",
     "text": [
      "(24408, 61)\n",
      "(30240, 61)\n",
      "Index(['passport', 'Immigration', 'Travel Visa', 'Refugee', 'Conflict', 'War',\n",
      "       'Violence', 'Crisis', 'Militia', 'Genocide', 'Armed Forces', 'Civilian',\n",
      "       'Currency', 'Lottery', 'Economy', 'Wage', 'Protest', 'Government',\n",
      "       'Bureau de change', 'Coup d’état', 'asylum', 'citizen',\n",
      "       'citizenship+citizenships', 'consulate+consulates', 'crises+crisis',\n",
      "       'diaspora', 'embassy+embassies', 'emigration', 'foreigner+foreigners',\n",
      "       'immigrant+immigrants', 'migrate', 'migration',\n",
      "       'nationality+nationalities', 'recruitment+recruitments',\n",
      "       'refugee+refugees', 'repatriation', 'Schengen', 'student visa',\n",
      "       'visa free', 'visa+visas', 'work visa', 'emigrant+emigrants',\n",
      "       'devaluation', 'immigrate+immigrated',\n",
      "       'legalization+legalisation+legalisations+legalizations',\n",
      "       'naturalization+naturalisation+naturalisations+naturalizations',\n",
      "       'recession+recessions', 'smuggler+smugglers+smuggling',\n",
      "       'deportation+deportations+deported', 'dual citizenship', 'undocumented',\n",
      "       'asylum seeker', 'border controls+border control',\n",
      "       'bureau of immigration', 'dual nationality', 'emigrate+emigrated',\n",
      "       'nationalization+nationalisation', 'political asylum',\n",
      "       'political refugee'],\n",
      "      dtype='object')\n",
      "Index(['passport', 'Immigration', 'Travel Visa', 'Refugee', 'Conflict',\n",
      "       'Economy'],\n",
      "      dtype='object')\n"
     ]
    }
   ],
   "source": [
    "# Let's merge first keywords - english and OL - separately\n",
    "\n",
    "english = pd.merge(english_from_topics, english_boss, on=[\"date\", \"country\"], how=\"outer\")\n",
    "ol = pd.merge(ol_from_topics_av, ol_boss_av, on=[\"date\", \"country\"], how=\"outer\")\n",
    "print(english.shape)\n",
    "print(ol.shape)\n",
    "\n",
    "# Get the keywords listed \n",
    "keywords = english.columns[~english.columns.isin(['country', 'date'])]\n",
    "print(keywords)\n",
    "topics_list = topics.columns[~topics.columns.isin(['country', 'date'])]\n",
    "print(topics_list)"
   ]
  },
  {
   "cell_type": "code",
   "execution_count": 29,
   "metadata": {},
   "outputs": [],
   "source": [
    "# Create a mapping dictionary for renaming the columns\n",
    "rename_dict_ol = {var: f\"{var}_ol\" for var in keywords}\n",
    "rename_dict_en = {var: f\"{var}_en\" for var in keywords}\n",
    "rename_dict_topics = {var: f\"{var}_topic\" for var in topics_list}\n",
    "# Rename the columns using the mapping dictionary\n",
    "\n",
    "english_2 = english.copy()\n",
    "ol_2 = ol.copy()\n",
    "topics_2 = topics.copy()\n",
    "\n",
    "english_2.rename(columns=rename_dict_en, inplace=True)\n",
    "ol_2.rename(columns=rename_dict_ol, inplace=True)\n",
    "topics_2.rename(columns=rename_dict_topics, inplace=True)"
   ]
  },
  {
   "cell_type": "code",
   "execution_count": 30,
   "metadata": {},
   "outputs": [
    {
     "name": "stdout",
     "output_type": "stream",
     "text": [
      "(42530, 126)\n",
      "Index(['date', 'passport_en', 'Immigration_en', 'Travel Visa_en', 'Refugee_en',\n",
      "       'Conflict_en', 'War_en', 'Violence_en', 'Crisis_en', 'Militia_en',\n",
      "       ...\n",
      "       'nationalization+nationalisation_ol', 'asylum seeker_ol',\n",
      "       'border controls+border control_ol', 'student visa_ol',\n",
      "       'passport_topic', 'Immigration_topic', 'Travel Visa_topic',\n",
      "       'Refugee_topic', 'Conflict_topic', 'Economy_topic'],\n",
      "      dtype='object', length=126)\n"
     ]
    }
   ],
   "source": [
    "big_merge = pd.merge(english_2, ol_2, on=[\"country\", \"date\"], how=\"outer\").merge(topics_2, on=[\"country\", \"date\"], how=\"outer\")\n",
    "print(big_merge.shape)\n",
    "print(big_merge.columns)"
   ]
  },
  {
   "attachments": {},
   "cell_type": "markdown",
   "metadata": {},
   "source": [
    "Average and max values in the year:"
   ]
  },
  {
   "cell_type": "code",
   "execution_count": 31,
   "metadata": {},
   "outputs": [
    {
     "name": "stdout",
     "output_type": "stream",
     "text": [
      "(3722, 126)\n",
      "(3722, 126)\n"
     ]
    }
   ],
   "source": [
    "avg_trends = big_merge.copy()\n",
    "avg_trends[\"iso_o\"] = avg_trends[\"country\"].apply(lambda x: model_helpers.convert_iso2_to_iso3(x))\n",
    "avg_trends.set_index('date', inplace=True)\n",
    "avg_trends.index = pd.DatetimeIndex(avg_trends.index)\n",
    "avg_trends = avg_trends.drop(columns=[\"country\"])\n",
    "\n",
    "# Group by 'iso_o' and resample by YEAR, then mean the values\n",
    "\n",
    "avg_trends_1 = avg_trends.groupby(['iso_o', pd.Grouper(freq='Y')]).mean().reset_index()\n",
    "avg_trends_1['year'] = avg_trends_1['date'].dt.year\n",
    "avg_trends_1 = avg_trends_1.drop(columns=[\"date\"])\n",
    "\n",
    "# Taking max \n",
    "\n",
    "max_trends = avg_trends.groupby(['iso_o', pd.Grouper(freq='Y')]).max().reset_index()\n",
    "max_trends['year'] = max_trends['date'].dt.year\n",
    "max_trends = max_trends.drop(columns=[\"date\"])\n",
    "\n",
    "keywords_new = avg_trends_1.columns[~avg_trends_1.columns.isin(['iso_o', 'year'])]\n",
    "\n",
    "# Create a mapping dictionary for renaming the columns\n",
    "rename_dict_avg = {var: f\"{var}_avg\" for var in keywords_new}\n",
    "rename_dict_min = {var: f\"{var}_min\" for var in keywords_new}\n",
    "rename_dict_max = {var: f\"{var}_max\" for var in keywords_new}\n",
    "\n",
    "avg_trends_1.rename(columns=rename_dict_avg, inplace=True)\n",
    "max_trends.rename(columns=rename_dict_max, inplace=True)\n",
    "\n",
    "print(avg_trends_1.shape)\n",
    "print(max_trends.shape)"
   ]
  },
  {
   "cell_type": "code",
   "execution_count": 32,
   "metadata": {},
   "outputs": [],
   "source": [
    "avg_trends_1_smoothed = avg_trends_1.apply(model_helpers.smooth_spikes)\n",
    "max_trends_smoothed = max_trends.apply(model_helpers.smooth_spikes)"
   ]
  },
  {
   "attachments": {},
   "cell_type": "markdown",
   "metadata": {},
   "source": [
    "Rolling sums (all vars)"
   ]
  },
  {
   "cell_type": "code",
   "execution_count": 33,
   "metadata": {},
   "outputs": [
    {
     "data": {
      "text/plain": [
       "(42530, 127)"
      ]
     },
     "execution_count": 33,
     "metadata": {},
     "output_type": "execute_result"
    }
   ],
   "source": [
    "# First: monthly aggregation - the data comes monthly automatically when downloading large periods, \n",
    "# but because we are not controlling that necessarily during download, just in case\n",
    "\n",
    "monthly = avg_trends.groupby(['iso_o', pd.Grouper(freq='M')]).mean().reset_index()\n",
    "monthly['year'] = monthly['date'].dt.year\n",
    "monthly['month'] = monthly['date'].dt.month\n",
    "monthly = monthly.drop(columns=[\"date\"])\n",
    "monthly.shape # it's actually not necessary, same shape"
   ]
  },
  {
   "cell_type": "code",
   "execution_count": 34,
   "metadata": {},
   "outputs": [
    {
     "name": "stdout",
     "output_type": "stream",
     "text": [
      "Index(['passport_en', 'Immigration_en', 'Travel Visa_en', 'Refugee_en',\n",
      "       'Conflict_en', 'War_en', 'Violence_en', 'Crisis_en', 'Militia_en',\n",
      "       'Genocide_en',\n",
      "       ...\n",
      "       'nationalization+nationalisation_ol', 'asylum seeker_ol',\n",
      "       'border controls+border control_ol', 'student visa_ol',\n",
      "       'passport_topic', 'Immigration_topic', 'Travel Visa_topic',\n",
      "       'Refugee_topic', 'Conflict_topic', 'Economy_topic'],\n",
      "      dtype='object', length=124)\n"
     ]
    }
   ],
   "source": [
    "final_keywords_list = monthly.columns[~monthly.columns.isin(['year', 'month', 'iso_o'])]\n",
    "print(final_keywords_list)"
   ]
  },
  {
   "cell_type": "code",
   "execution_count": 35,
   "metadata": {},
   "outputs": [
    {
     "data": {
      "text/html": [
       "<div>\n",
       "<style scoped>\n",
       "    .dataframe tbody tr th:only-of-type {\n",
       "        vertical-align: middle;\n",
       "    }\n",
       "\n",
       "    .dataframe tbody tr th {\n",
       "        vertical-align: top;\n",
       "    }\n",
       "\n",
       "    .dataframe thead th {\n",
       "        text-align: right;\n",
       "    }\n",
       "</style>\n",
       "<table border=\"1\" class=\"dataframe\">\n",
       "  <thead>\n",
       "    <tr style=\"text-align: right;\">\n",
       "      <th></th>\n",
       "      <th>iso_o</th>\n",
       "      <th>passport_en</th>\n",
       "      <th>Immigration_en</th>\n",
       "      <th>Travel Visa_en</th>\n",
       "      <th>Refugee_en</th>\n",
       "      <th>Conflict_en</th>\n",
       "      <th>War_en</th>\n",
       "      <th>Violence_en</th>\n",
       "      <th>Crisis_en</th>\n",
       "      <th>Militia_en</th>\n",
       "      <th>...</th>\n",
       "      <th>rolling_sum_past_3_Immigration_topic</th>\n",
       "      <th>rolling_sum_past_6_Immigration_topic</th>\n",
       "      <th>rolling_sum_past_3_Travel Visa_topic</th>\n",
       "      <th>rolling_sum_past_6_Travel Visa_topic</th>\n",
       "      <th>rolling_sum_past_3_Refugee_topic</th>\n",
       "      <th>rolling_sum_past_6_Refugee_topic</th>\n",
       "      <th>rolling_sum_past_3_Conflict_topic</th>\n",
       "      <th>rolling_sum_past_6_Conflict_topic</th>\n",
       "      <th>rolling_sum_past_3_Economy_topic</th>\n",
       "      <th>rolling_sum_past_6_Economy_topic</th>\n",
       "    </tr>\n",
       "  </thead>\n",
       "  <tbody>\n",
       "    <tr>\n",
       "      <th>0</th>\n",
       "      <td>ABW</td>\n",
       "      <td>0.0</td>\n",
       "      <td>0.0</td>\n",
       "      <td>NaN</td>\n",
       "      <td>0.0</td>\n",
       "      <td>0.0</td>\n",
       "      <td>0.0</td>\n",
       "      <td>0.0</td>\n",
       "      <td>0.0</td>\n",
       "      <td>NaN</td>\n",
       "      <td>...</td>\n",
       "      <td>0.0</td>\n",
       "      <td>0.0</td>\n",
       "      <td>0.0</td>\n",
       "      <td>0.0</td>\n",
       "      <td>0.0</td>\n",
       "      <td>0.0</td>\n",
       "      <td>0.0</td>\n",
       "      <td>0.0</td>\n",
       "      <td>0.0</td>\n",
       "      <td>0.0</td>\n",
       "    </tr>\n",
       "    <tr>\n",
       "      <th>12</th>\n",
       "      <td>ABW</td>\n",
       "      <td>0.0</td>\n",
       "      <td>0.0</td>\n",
       "      <td>NaN</td>\n",
       "      <td>0.0</td>\n",
       "      <td>18.0</td>\n",
       "      <td>0.0</td>\n",
       "      <td>0.0</td>\n",
       "      <td>60.0</td>\n",
       "      <td>NaN</td>\n",
       "      <td>...</td>\n",
       "      <td>33.0</td>\n",
       "      <td>33.0</td>\n",
       "      <td>0.0</td>\n",
       "      <td>0.0</td>\n",
       "      <td>0.0</td>\n",
       "      <td>0.0</td>\n",
       "      <td>0.0</td>\n",
       "      <td>0.0</td>\n",
       "      <td>62.0</td>\n",
       "      <td>62.0</td>\n",
       "    </tr>\n",
       "    <tr>\n",
       "      <th>24</th>\n",
       "      <td>ABW</td>\n",
       "      <td>0.0</td>\n",
       "      <td>27.0</td>\n",
       "      <td>NaN</td>\n",
       "      <td>42.0</td>\n",
       "      <td>0.0</td>\n",
       "      <td>43.0</td>\n",
       "      <td>0.0</td>\n",
       "      <td>0.0</td>\n",
       "      <td>NaN</td>\n",
       "      <td>...</td>\n",
       "      <td>0.0</td>\n",
       "      <td>0.0</td>\n",
       "      <td>0.0</td>\n",
       "      <td>0.0</td>\n",
       "      <td>23.0</td>\n",
       "      <td>23.0</td>\n",
       "      <td>46.0</td>\n",
       "      <td>46.0</td>\n",
       "      <td>0.0</td>\n",
       "      <td>0.0</td>\n",
       "    </tr>\n",
       "    <tr>\n",
       "      <th>36</th>\n",
       "      <td>ABW</td>\n",
       "      <td>0.0</td>\n",
       "      <td>0.0</td>\n",
       "      <td>NaN</td>\n",
       "      <td>0.0</td>\n",
       "      <td>0.0</td>\n",
       "      <td>0.0</td>\n",
       "      <td>0.0</td>\n",
       "      <td>0.0</td>\n",
       "      <td>NaN</td>\n",
       "      <td>...</td>\n",
       "      <td>12.0</td>\n",
       "      <td>12.0</td>\n",
       "      <td>0.0</td>\n",
       "      <td>0.0</td>\n",
       "      <td>22.0</td>\n",
       "      <td>22.0</td>\n",
       "      <td>0.0</td>\n",
       "      <td>0.0</td>\n",
       "      <td>10.0</td>\n",
       "      <td>10.0</td>\n",
       "    </tr>\n",
       "    <tr>\n",
       "      <th>48</th>\n",
       "      <td>ABW</td>\n",
       "      <td>0.0</td>\n",
       "      <td>0.0</td>\n",
       "      <td>NaN</td>\n",
       "      <td>0.0</td>\n",
       "      <td>0.0</td>\n",
       "      <td>8.0</td>\n",
       "      <td>0.0</td>\n",
       "      <td>0.0</td>\n",
       "      <td>NaN</td>\n",
       "      <td>...</td>\n",
       "      <td>0.0</td>\n",
       "      <td>0.0</td>\n",
       "      <td>0.0</td>\n",
       "      <td>0.0</td>\n",
       "      <td>0.0</td>\n",
       "      <td>0.0</td>\n",
       "      <td>9.0</td>\n",
       "      <td>9.0</td>\n",
       "      <td>0.0</td>\n",
       "      <td>0.0</td>\n",
       "    </tr>\n",
       "    <tr>\n",
       "      <th>...</th>\n",
       "      <td>...</td>\n",
       "      <td>...</td>\n",
       "      <td>...</td>\n",
       "      <td>...</td>\n",
       "      <td>...</td>\n",
       "      <td>...</td>\n",
       "      <td>...</td>\n",
       "      <td>...</td>\n",
       "      <td>...</td>\n",
       "      <td>...</td>\n",
       "      <td>...</td>\n",
       "      <td>...</td>\n",
       "      <td>...</td>\n",
       "      <td>...</td>\n",
       "      <td>...</td>\n",
       "      <td>...</td>\n",
       "      <td>...</td>\n",
       "      <td>...</td>\n",
       "      <td>...</td>\n",
       "      <td>...</td>\n",
       "      <td>...</td>\n",
       "    </tr>\n",
       "    <tr>\n",
       "      <th>42481</th>\n",
       "      <td>ZWE</td>\n",
       "      <td>NaN</td>\n",
       "      <td>NaN</td>\n",
       "      <td>NaN</td>\n",
       "      <td>NaN</td>\n",
       "      <td>NaN</td>\n",
       "      <td>NaN</td>\n",
       "      <td>NaN</td>\n",
       "      <td>NaN</td>\n",
       "      <td>NaN</td>\n",
       "      <td>...</td>\n",
       "      <td>7.0</td>\n",
       "      <td>7.0</td>\n",
       "      <td>22.0</td>\n",
       "      <td>22.0</td>\n",
       "      <td>2.0</td>\n",
       "      <td>2.0</td>\n",
       "      <td>8.0</td>\n",
       "      <td>8.0</td>\n",
       "      <td>10.0</td>\n",
       "      <td>10.0</td>\n",
       "    </tr>\n",
       "    <tr>\n",
       "      <th>42493</th>\n",
       "      <td>ZWE</td>\n",
       "      <td>NaN</td>\n",
       "      <td>NaN</td>\n",
       "      <td>NaN</td>\n",
       "      <td>NaN</td>\n",
       "      <td>NaN</td>\n",
       "      <td>NaN</td>\n",
       "      <td>NaN</td>\n",
       "      <td>NaN</td>\n",
       "      <td>NaN</td>\n",
       "      <td>...</td>\n",
       "      <td>5.0</td>\n",
       "      <td>5.0</td>\n",
       "      <td>31.0</td>\n",
       "      <td>31.0</td>\n",
       "      <td>2.0</td>\n",
       "      <td>2.0</td>\n",
       "      <td>8.0</td>\n",
       "      <td>8.0</td>\n",
       "      <td>7.0</td>\n",
       "      <td>7.0</td>\n",
       "    </tr>\n",
       "    <tr>\n",
       "      <th>42505</th>\n",
       "      <td>ZWE</td>\n",
       "      <td>NaN</td>\n",
       "      <td>NaN</td>\n",
       "      <td>NaN</td>\n",
       "      <td>NaN</td>\n",
       "      <td>NaN</td>\n",
       "      <td>NaN</td>\n",
       "      <td>NaN</td>\n",
       "      <td>NaN</td>\n",
       "      <td>NaN</td>\n",
       "      <td>...</td>\n",
       "      <td>4.0</td>\n",
       "      <td>4.0</td>\n",
       "      <td>12.0</td>\n",
       "      <td>12.0</td>\n",
       "      <td>0.0</td>\n",
       "      <td>0.0</td>\n",
       "      <td>11.0</td>\n",
       "      <td>11.0</td>\n",
       "      <td>8.0</td>\n",
       "      <td>8.0</td>\n",
       "    </tr>\n",
       "    <tr>\n",
       "      <th>42517</th>\n",
       "      <td>ZWE</td>\n",
       "      <td>NaN</td>\n",
       "      <td>NaN</td>\n",
       "      <td>NaN</td>\n",
       "      <td>NaN</td>\n",
       "      <td>NaN</td>\n",
       "      <td>NaN</td>\n",
       "      <td>NaN</td>\n",
       "      <td>NaN</td>\n",
       "      <td>NaN</td>\n",
       "      <td>...</td>\n",
       "      <td>4.0</td>\n",
       "      <td>4.0</td>\n",
       "      <td>25.0</td>\n",
       "      <td>25.0</td>\n",
       "      <td>2.0</td>\n",
       "      <td>2.0</td>\n",
       "      <td>13.0</td>\n",
       "      <td>13.0</td>\n",
       "      <td>8.0</td>\n",
       "      <td>8.0</td>\n",
       "    </tr>\n",
       "    <tr>\n",
       "      <th>42529</th>\n",
       "      <td>ZWE</td>\n",
       "      <td>NaN</td>\n",
       "      <td>NaN</td>\n",
       "      <td>NaN</td>\n",
       "      <td>NaN</td>\n",
       "      <td>NaN</td>\n",
       "      <td>NaN</td>\n",
       "      <td>NaN</td>\n",
       "      <td>NaN</td>\n",
       "      <td>NaN</td>\n",
       "      <td>...</td>\n",
       "      <td>7.0</td>\n",
       "      <td>7.0</td>\n",
       "      <td>52.0</td>\n",
       "      <td>52.0</td>\n",
       "      <td>2.0</td>\n",
       "      <td>2.0</td>\n",
       "      <td>11.0</td>\n",
       "      <td>11.0</td>\n",
       "      <td>6.0</td>\n",
       "      <td>6.0</td>\n",
       "    </tr>\n",
       "  </tbody>\n",
       "</table>\n",
       "<p>3722 rows × 375 columns</p>\n",
       "</div>"
      ],
      "text/plain": [
       "      iso_o  passport_en  Immigration_en  Travel Visa_en  Refugee_en   \n",
       "0       ABW          0.0             0.0             NaN         0.0  \\\n",
       "12      ABW          0.0             0.0             NaN         0.0   \n",
       "24      ABW          0.0            27.0             NaN        42.0   \n",
       "36      ABW          0.0             0.0             NaN         0.0   \n",
       "48      ABW          0.0             0.0             NaN         0.0   \n",
       "...     ...          ...             ...             ...         ...   \n",
       "42481   ZWE          NaN             NaN             NaN         NaN   \n",
       "42493   ZWE          NaN             NaN             NaN         NaN   \n",
       "42505   ZWE          NaN             NaN             NaN         NaN   \n",
       "42517   ZWE          NaN             NaN             NaN         NaN   \n",
       "42529   ZWE          NaN             NaN             NaN         NaN   \n",
       "\n",
       "       Conflict_en  War_en  Violence_en  Crisis_en  Militia_en  ...   \n",
       "0              0.0     0.0          0.0        0.0         NaN  ...  \\\n",
       "12            18.0     0.0          0.0       60.0         NaN  ...   \n",
       "24             0.0    43.0          0.0        0.0         NaN  ...   \n",
       "36             0.0     0.0          0.0        0.0         NaN  ...   \n",
       "48             0.0     8.0          0.0        0.0         NaN  ...   \n",
       "...            ...     ...          ...        ...         ...  ...   \n",
       "42481          NaN     NaN          NaN        NaN         NaN  ...   \n",
       "42493          NaN     NaN          NaN        NaN         NaN  ...   \n",
       "42505          NaN     NaN          NaN        NaN         NaN  ...   \n",
       "42517          NaN     NaN          NaN        NaN         NaN  ...   \n",
       "42529          NaN     NaN          NaN        NaN         NaN  ...   \n",
       "\n",
       "       rolling_sum_past_3_Immigration_topic   \n",
       "0                                       0.0  \\\n",
       "12                                     33.0   \n",
       "24                                      0.0   \n",
       "36                                     12.0   \n",
       "48                                      0.0   \n",
       "...                                     ...   \n",
       "42481                                   7.0   \n",
       "42493                                   5.0   \n",
       "42505                                   4.0   \n",
       "42517                                   4.0   \n",
       "42529                                   7.0   \n",
       "\n",
       "       rolling_sum_past_6_Immigration_topic   \n",
       "0                                       0.0  \\\n",
       "12                                     33.0   \n",
       "24                                      0.0   \n",
       "36                                     12.0   \n",
       "48                                      0.0   \n",
       "...                                     ...   \n",
       "42481                                   7.0   \n",
       "42493                                   5.0   \n",
       "42505                                   4.0   \n",
       "42517                                   4.0   \n",
       "42529                                   7.0   \n",
       "\n",
       "       rolling_sum_past_3_Travel Visa_topic   \n",
       "0                                       0.0  \\\n",
       "12                                      0.0   \n",
       "24                                      0.0   \n",
       "36                                      0.0   \n",
       "48                                      0.0   \n",
       "...                                     ...   \n",
       "42481                                  22.0   \n",
       "42493                                  31.0   \n",
       "42505                                  12.0   \n",
       "42517                                  25.0   \n",
       "42529                                  52.0   \n",
       "\n",
       "       rolling_sum_past_6_Travel Visa_topic  rolling_sum_past_3_Refugee_topic   \n",
       "0                                       0.0                               0.0  \\\n",
       "12                                      0.0                               0.0   \n",
       "24                                      0.0                              23.0   \n",
       "36                                      0.0                              22.0   \n",
       "48                                      0.0                               0.0   \n",
       "...                                     ...                               ...   \n",
       "42481                                  22.0                               2.0   \n",
       "42493                                  31.0                               2.0   \n",
       "42505                                  12.0                               0.0   \n",
       "42517                                  25.0                               2.0   \n",
       "42529                                  52.0                               2.0   \n",
       "\n",
       "       rolling_sum_past_6_Refugee_topic  rolling_sum_past_3_Conflict_topic   \n",
       "0                                   0.0                                0.0  \\\n",
       "12                                  0.0                                0.0   \n",
       "24                                 23.0                               46.0   \n",
       "36                                 22.0                                0.0   \n",
       "48                                  0.0                                9.0   \n",
       "...                                 ...                                ...   \n",
       "42481                               2.0                                8.0   \n",
       "42493                               2.0                                8.0   \n",
       "42505                               0.0                               11.0   \n",
       "42517                               2.0                               13.0   \n",
       "42529                               2.0                               11.0   \n",
       "\n",
       "       rolling_sum_past_6_Conflict_topic  rolling_sum_past_3_Economy_topic   \n",
       "0                                    0.0                               0.0  \\\n",
       "12                                   0.0                              62.0   \n",
       "24                                  46.0                               0.0   \n",
       "36                                   0.0                              10.0   \n",
       "48                                   9.0                               0.0   \n",
       "...                                  ...                               ...   \n",
       "42481                                8.0                              10.0   \n",
       "42493                                8.0                               7.0   \n",
       "42505                               11.0                               8.0   \n",
       "42517                               13.0                               8.0   \n",
       "42529                               11.0                               6.0   \n",
       "\n",
       "       rolling_sum_past_6_Economy_topic  \n",
       "0                                   0.0  \n",
       "12                                 62.0  \n",
       "24                                  0.0  \n",
       "36                                 10.0  \n",
       "48                                  0.0  \n",
       "...                                 ...  \n",
       "42481                              10.0  \n",
       "42493                               7.0  \n",
       "42505                               8.0  \n",
       "42517                               8.0  \n",
       "42529                               6.0  \n",
       "\n",
       "[3722 rows x 375 columns]"
      ]
     },
     "execution_count": 35,
     "metadata": {},
     "output_type": "execute_result"
    }
   ],
   "source": [
    "window_sizes = [4, 7] # rolling sums for the last 3 and 6 months\n",
    "group_cols = ['iso_o', 'year']\n",
    "value_cols = final_keywords_list\n",
    "\n",
    "panel_trends = model_helpers.generate_rolling_sum_variables(monthly, group_cols, value_cols, window_sizes, date_col='month')\n",
    "\n",
    "panel_trends = panel_trends[panel_trends[\"month\"]==1]\n",
    "\n",
    "panel_trends"
   ]
  },
  {
   "cell_type": "code",
   "execution_count": 36,
   "metadata": {},
   "outputs": [
    {
     "data": {
      "text/html": [
       "<div>\n",
       "<style scoped>\n",
       "    .dataframe tbody tr th:only-of-type {\n",
       "        vertical-align: middle;\n",
       "    }\n",
       "\n",
       "    .dataframe tbody tr th {\n",
       "        vertical-align: top;\n",
       "    }\n",
       "\n",
       "    .dataframe thead th {\n",
       "        text-align: right;\n",
       "    }\n",
       "</style>\n",
       "<table border=\"1\" class=\"dataframe\">\n",
       "  <thead>\n",
       "    <tr style=\"text-align: right;\">\n",
       "      <th></th>\n",
       "      <th>iso_o</th>\n",
       "      <th>passport_en_avg</th>\n",
       "      <th>Immigration_en_avg</th>\n",
       "      <th>Travel Visa_en_avg</th>\n",
       "      <th>Refugee_en_avg</th>\n",
       "      <th>Conflict_en_avg</th>\n",
       "      <th>War_en_avg</th>\n",
       "      <th>Violence_en_avg</th>\n",
       "      <th>Crisis_en_avg</th>\n",
       "      <th>Militia_en_avg</th>\n",
       "      <th>...</th>\n",
       "      <th>rolling_sum_past_3_Immigration_topic</th>\n",
       "      <th>rolling_sum_past_6_Immigration_topic</th>\n",
       "      <th>rolling_sum_past_3_Travel Visa_topic</th>\n",
       "      <th>rolling_sum_past_6_Travel Visa_topic</th>\n",
       "      <th>rolling_sum_past_3_Refugee_topic</th>\n",
       "      <th>rolling_sum_past_6_Refugee_topic</th>\n",
       "      <th>rolling_sum_past_3_Conflict_topic</th>\n",
       "      <th>rolling_sum_past_6_Conflict_topic</th>\n",
       "      <th>rolling_sum_past_3_Economy_topic</th>\n",
       "      <th>rolling_sum_past_6_Economy_topic</th>\n",
       "    </tr>\n",
       "  </thead>\n",
       "  <tbody>\n",
       "    <tr>\n",
       "      <th>0</th>\n",
       "      <td>ABW</td>\n",
       "      <td>23.833333</td>\n",
       "      <td>12.166667</td>\n",
       "      <td>NaN</td>\n",
       "      <td>24.333333</td>\n",
       "      <td>13.416667</td>\n",
       "      <td>9.416667</td>\n",
       "      <td>8.333333</td>\n",
       "      <td>5.250000</td>\n",
       "      <td>NaN</td>\n",
       "      <td>...</td>\n",
       "      <td>0.0</td>\n",
       "      <td>0.0</td>\n",
       "      <td>0.0</td>\n",
       "      <td>0.0</td>\n",
       "      <td>0.0</td>\n",
       "      <td>0.0</td>\n",
       "      <td>0.0</td>\n",
       "      <td>0.0</td>\n",
       "      <td>0.0</td>\n",
       "      <td>0.0</td>\n",
       "    </tr>\n",
       "    <tr>\n",
       "      <th>1</th>\n",
       "      <td>ABW</td>\n",
       "      <td>0.000000</td>\n",
       "      <td>0.000000</td>\n",
       "      <td>NaN</td>\n",
       "      <td>1.916667</td>\n",
       "      <td>10.583333</td>\n",
       "      <td>23.583333</td>\n",
       "      <td>4.083333</td>\n",
       "      <td>16.583333</td>\n",
       "      <td>NaN</td>\n",
       "      <td>...</td>\n",
       "      <td>33.0</td>\n",
       "      <td>33.0</td>\n",
       "      <td>0.0</td>\n",
       "      <td>0.0</td>\n",
       "      <td>0.0</td>\n",
       "      <td>0.0</td>\n",
       "      <td>0.0</td>\n",
       "      <td>0.0</td>\n",
       "      <td>62.0</td>\n",
       "      <td>62.0</td>\n",
       "    </tr>\n",
       "    <tr>\n",
       "      <th>2</th>\n",
       "      <td>ABW</td>\n",
       "      <td>2.583333</td>\n",
       "      <td>5.833333</td>\n",
       "      <td>NaN</td>\n",
       "      <td>10.666667</td>\n",
       "      <td>3.416667</td>\n",
       "      <td>16.250000</td>\n",
       "      <td>0.000000</td>\n",
       "      <td>10.583333</td>\n",
       "      <td>NaN</td>\n",
       "      <td>...</td>\n",
       "      <td>0.0</td>\n",
       "      <td>0.0</td>\n",
       "      <td>0.0</td>\n",
       "      <td>0.0</td>\n",
       "      <td>23.0</td>\n",
       "      <td>23.0</td>\n",
       "      <td>46.0</td>\n",
       "      <td>46.0</td>\n",
       "      <td>0.0</td>\n",
       "      <td>0.0</td>\n",
       "    </tr>\n",
       "    <tr>\n",
       "      <th>3</th>\n",
       "      <td>ABW</td>\n",
       "      <td>4.333333</td>\n",
       "      <td>3.916667</td>\n",
       "      <td>NaN</td>\n",
       "      <td>5.166667</td>\n",
       "      <td>2.583333</td>\n",
       "      <td>10.666667</td>\n",
       "      <td>4.250000</td>\n",
       "      <td>7.083333</td>\n",
       "      <td>NaN</td>\n",
       "      <td>...</td>\n",
       "      <td>12.0</td>\n",
       "      <td>12.0</td>\n",
       "      <td>0.0</td>\n",
       "      <td>0.0</td>\n",
       "      <td>22.0</td>\n",
       "      <td>22.0</td>\n",
       "      <td>0.0</td>\n",
       "      <td>0.0</td>\n",
       "      <td>10.0</td>\n",
       "      <td>10.0</td>\n",
       "    </tr>\n",
       "    <tr>\n",
       "      <th>4</th>\n",
       "      <td>ABW</td>\n",
       "      <td>2.416667</td>\n",
       "      <td>4.333333</td>\n",
       "      <td>NaN</td>\n",
       "      <td>0.000000</td>\n",
       "      <td>2.666667</td>\n",
       "      <td>10.583333</td>\n",
       "      <td>2.250000</td>\n",
       "      <td>5.416667</td>\n",
       "      <td>NaN</td>\n",
       "      <td>...</td>\n",
       "      <td>0.0</td>\n",
       "      <td>0.0</td>\n",
       "      <td>0.0</td>\n",
       "      <td>0.0</td>\n",
       "      <td>0.0</td>\n",
       "      <td>0.0</td>\n",
       "      <td>9.0</td>\n",
       "      <td>9.0</td>\n",
       "      <td>0.0</td>\n",
       "      <td>0.0</td>\n",
       "    </tr>\n",
       "    <tr>\n",
       "      <th>...</th>\n",
       "      <td>...</td>\n",
       "      <td>...</td>\n",
       "      <td>...</td>\n",
       "      <td>...</td>\n",
       "      <td>...</td>\n",
       "      <td>...</td>\n",
       "      <td>...</td>\n",
       "      <td>...</td>\n",
       "      <td>...</td>\n",
       "      <td>...</td>\n",
       "      <td>...</td>\n",
       "      <td>...</td>\n",
       "      <td>...</td>\n",
       "      <td>...</td>\n",
       "      <td>...</td>\n",
       "      <td>...</td>\n",
       "      <td>...</td>\n",
       "      <td>...</td>\n",
       "      <td>...</td>\n",
       "      <td>...</td>\n",
       "      <td>...</td>\n",
       "    </tr>\n",
       "    <tr>\n",
       "      <th>3717</th>\n",
       "      <td>ZWE</td>\n",
       "      <td>NaN</td>\n",
       "      <td>NaN</td>\n",
       "      <td>NaN</td>\n",
       "      <td>NaN</td>\n",
       "      <td>NaN</td>\n",
       "      <td>NaN</td>\n",
       "      <td>NaN</td>\n",
       "      <td>NaN</td>\n",
       "      <td>NaN</td>\n",
       "      <td>...</td>\n",
       "      <td>7.0</td>\n",
       "      <td>7.0</td>\n",
       "      <td>22.0</td>\n",
       "      <td>22.0</td>\n",
       "      <td>2.0</td>\n",
       "      <td>2.0</td>\n",
       "      <td>8.0</td>\n",
       "      <td>8.0</td>\n",
       "      <td>10.0</td>\n",
       "      <td>10.0</td>\n",
       "    </tr>\n",
       "    <tr>\n",
       "      <th>3718</th>\n",
       "      <td>ZWE</td>\n",
       "      <td>NaN</td>\n",
       "      <td>NaN</td>\n",
       "      <td>NaN</td>\n",
       "      <td>NaN</td>\n",
       "      <td>NaN</td>\n",
       "      <td>NaN</td>\n",
       "      <td>NaN</td>\n",
       "      <td>NaN</td>\n",
       "      <td>NaN</td>\n",
       "      <td>...</td>\n",
       "      <td>5.0</td>\n",
       "      <td>5.0</td>\n",
       "      <td>31.0</td>\n",
       "      <td>31.0</td>\n",
       "      <td>2.0</td>\n",
       "      <td>2.0</td>\n",
       "      <td>8.0</td>\n",
       "      <td>8.0</td>\n",
       "      <td>7.0</td>\n",
       "      <td>7.0</td>\n",
       "    </tr>\n",
       "    <tr>\n",
       "      <th>3719</th>\n",
       "      <td>ZWE</td>\n",
       "      <td>NaN</td>\n",
       "      <td>NaN</td>\n",
       "      <td>NaN</td>\n",
       "      <td>NaN</td>\n",
       "      <td>NaN</td>\n",
       "      <td>NaN</td>\n",
       "      <td>NaN</td>\n",
       "      <td>NaN</td>\n",
       "      <td>NaN</td>\n",
       "      <td>...</td>\n",
       "      <td>4.0</td>\n",
       "      <td>4.0</td>\n",
       "      <td>12.0</td>\n",
       "      <td>12.0</td>\n",
       "      <td>0.0</td>\n",
       "      <td>0.0</td>\n",
       "      <td>11.0</td>\n",
       "      <td>11.0</td>\n",
       "      <td>8.0</td>\n",
       "      <td>8.0</td>\n",
       "    </tr>\n",
       "    <tr>\n",
       "      <th>3720</th>\n",
       "      <td>ZWE</td>\n",
       "      <td>NaN</td>\n",
       "      <td>NaN</td>\n",
       "      <td>NaN</td>\n",
       "      <td>NaN</td>\n",
       "      <td>NaN</td>\n",
       "      <td>NaN</td>\n",
       "      <td>NaN</td>\n",
       "      <td>NaN</td>\n",
       "      <td>NaN</td>\n",
       "      <td>...</td>\n",
       "      <td>4.0</td>\n",
       "      <td>4.0</td>\n",
       "      <td>25.0</td>\n",
       "      <td>25.0</td>\n",
       "      <td>2.0</td>\n",
       "      <td>2.0</td>\n",
       "      <td>13.0</td>\n",
       "      <td>13.0</td>\n",
       "      <td>8.0</td>\n",
       "      <td>8.0</td>\n",
       "    </tr>\n",
       "    <tr>\n",
       "      <th>3721</th>\n",
       "      <td>ZWE</td>\n",
       "      <td>NaN</td>\n",
       "      <td>NaN</td>\n",
       "      <td>NaN</td>\n",
       "      <td>NaN</td>\n",
       "      <td>NaN</td>\n",
       "      <td>NaN</td>\n",
       "      <td>NaN</td>\n",
       "      <td>NaN</td>\n",
       "      <td>NaN</td>\n",
       "      <td>...</td>\n",
       "      <td>7.0</td>\n",
       "      <td>7.0</td>\n",
       "      <td>52.0</td>\n",
       "      <td>52.0</td>\n",
       "      <td>2.0</td>\n",
       "      <td>2.0</td>\n",
       "      <td>11.0</td>\n",
       "      <td>11.0</td>\n",
       "      <td>6.0</td>\n",
       "      <td>6.0</td>\n",
       "    </tr>\n",
       "  </tbody>\n",
       "</table>\n",
       "<p>3722 rows × 622 columns</p>\n",
       "</div>"
      ],
      "text/plain": [
       "     iso_o  passport_en_avg  Immigration_en_avg  Travel Visa_en_avg   \n",
       "0      ABW        23.833333           12.166667                 NaN  \\\n",
       "1      ABW         0.000000            0.000000                 NaN   \n",
       "2      ABW         2.583333            5.833333                 NaN   \n",
       "3      ABW         4.333333            3.916667                 NaN   \n",
       "4      ABW         2.416667            4.333333                 NaN   \n",
       "...    ...              ...                 ...                 ...   \n",
       "3717   ZWE              NaN                 NaN                 NaN   \n",
       "3718   ZWE              NaN                 NaN                 NaN   \n",
       "3719   ZWE              NaN                 NaN                 NaN   \n",
       "3720   ZWE              NaN                 NaN                 NaN   \n",
       "3721   ZWE              NaN                 NaN                 NaN   \n",
       "\n",
       "      Refugee_en_avg  Conflict_en_avg  War_en_avg  Violence_en_avg   \n",
       "0          24.333333        13.416667    9.416667         8.333333  \\\n",
       "1           1.916667        10.583333   23.583333         4.083333   \n",
       "2          10.666667         3.416667   16.250000         0.000000   \n",
       "3           5.166667         2.583333   10.666667         4.250000   \n",
       "4           0.000000         2.666667   10.583333         2.250000   \n",
       "...              ...              ...         ...              ...   \n",
       "3717             NaN              NaN         NaN              NaN   \n",
       "3718             NaN              NaN         NaN              NaN   \n",
       "3719             NaN              NaN         NaN              NaN   \n",
       "3720             NaN              NaN         NaN              NaN   \n",
       "3721             NaN              NaN         NaN              NaN   \n",
       "\n",
       "      Crisis_en_avg  Militia_en_avg  ...   \n",
       "0          5.250000             NaN  ...  \\\n",
       "1         16.583333             NaN  ...   \n",
       "2         10.583333             NaN  ...   \n",
       "3          7.083333             NaN  ...   \n",
       "4          5.416667             NaN  ...   \n",
       "...             ...             ...  ...   \n",
       "3717            NaN             NaN  ...   \n",
       "3718            NaN             NaN  ...   \n",
       "3719            NaN             NaN  ...   \n",
       "3720            NaN             NaN  ...   \n",
       "3721            NaN             NaN  ...   \n",
       "\n",
       "      rolling_sum_past_3_Immigration_topic   \n",
       "0                                      0.0  \\\n",
       "1                                     33.0   \n",
       "2                                      0.0   \n",
       "3                                     12.0   \n",
       "4                                      0.0   \n",
       "...                                    ...   \n",
       "3717                                   7.0   \n",
       "3718                                   5.0   \n",
       "3719                                   4.0   \n",
       "3720                                   4.0   \n",
       "3721                                   7.0   \n",
       "\n",
       "      rolling_sum_past_6_Immigration_topic   \n",
       "0                                      0.0  \\\n",
       "1                                     33.0   \n",
       "2                                      0.0   \n",
       "3                                     12.0   \n",
       "4                                      0.0   \n",
       "...                                    ...   \n",
       "3717                                   7.0   \n",
       "3718                                   5.0   \n",
       "3719                                   4.0   \n",
       "3720                                   4.0   \n",
       "3721                                   7.0   \n",
       "\n",
       "      rolling_sum_past_3_Travel Visa_topic   \n",
       "0                                      0.0  \\\n",
       "1                                      0.0   \n",
       "2                                      0.0   \n",
       "3                                      0.0   \n",
       "4                                      0.0   \n",
       "...                                    ...   \n",
       "3717                                  22.0   \n",
       "3718                                  31.0   \n",
       "3719                                  12.0   \n",
       "3720                                  25.0   \n",
       "3721                                  52.0   \n",
       "\n",
       "      rolling_sum_past_6_Travel Visa_topic  rolling_sum_past_3_Refugee_topic   \n",
       "0                                      0.0                               0.0  \\\n",
       "1                                      0.0                               0.0   \n",
       "2                                      0.0                              23.0   \n",
       "3                                      0.0                              22.0   \n",
       "4                                      0.0                               0.0   \n",
       "...                                    ...                               ...   \n",
       "3717                                  22.0                               2.0   \n",
       "3718                                  31.0                               2.0   \n",
       "3719                                  12.0                               0.0   \n",
       "3720                                  25.0                               2.0   \n",
       "3721                                  52.0                               2.0   \n",
       "\n",
       "      rolling_sum_past_6_Refugee_topic  rolling_sum_past_3_Conflict_topic   \n",
       "0                                  0.0                                0.0  \\\n",
       "1                                  0.0                                0.0   \n",
       "2                                 23.0                               46.0   \n",
       "3                                 22.0                                0.0   \n",
       "4                                  0.0                                9.0   \n",
       "...                                ...                                ...   \n",
       "3717                               2.0                                8.0   \n",
       "3718                               2.0                                8.0   \n",
       "3719                               0.0                               11.0   \n",
       "3720                               2.0                               13.0   \n",
       "3721                               2.0                               11.0   \n",
       "\n",
       "      rolling_sum_past_6_Conflict_topic  rolling_sum_past_3_Economy_topic   \n",
       "0                                   0.0                               0.0  \\\n",
       "1                                   0.0                              62.0   \n",
       "2                                  46.0                               0.0   \n",
       "3                                   0.0                              10.0   \n",
       "4                                   9.0                               0.0   \n",
       "...                                 ...                               ...   \n",
       "3717                                8.0                              10.0   \n",
       "3718                                8.0                               7.0   \n",
       "3719                               11.0                               8.0   \n",
       "3720                               13.0                               8.0   \n",
       "3721                               11.0                               6.0   \n",
       "\n",
       "      rolling_sum_past_6_Economy_topic  \n",
       "0                                  0.0  \n",
       "1                                 62.0  \n",
       "2                                  0.0  \n",
       "3                                 10.0  \n",
       "4                                  0.0  \n",
       "...                                ...  \n",
       "3717                              10.0  \n",
       "3718                               7.0  \n",
       "3719                               8.0  \n",
       "3720                               8.0  \n",
       "3721                               6.0  \n",
       "\n",
       "[3722 rows x 622 columns]"
      ]
     },
     "execution_count": 36,
     "metadata": {},
     "output_type": "execute_result"
    }
   ],
   "source": [
    "trends_final = pd.merge(avg_trends_1_smoothed, max_trends_smoothed, how='outer', on=[\"iso_o\", \"year\"])\n",
    "trends_final = pd.merge(trends_final, panel_trends.drop(columns=[\"month\"]), how='outer', on=[\"iso_o\", \"year\"])\n",
    "trends_final"
   ]
  },
  {
   "attachments": {},
   "cell_type": "markdown",
   "metadata": {},
   "source": [
    "NaN imputation - replace with 0, assuming very low searches/no searches"
   ]
  },
  {
   "cell_type": "code",
   "execution_count": 37,
   "metadata": {},
   "outputs": [],
   "source": [
    "trends_final = trends_final.fillna(0)"
   ]
  },
  {
   "cell_type": "code",
   "execution_count": 38,
   "metadata": {},
   "outputs": [],
   "source": [
    "internet = pd.read_csv(\"../../data/raw/Internet penetration_WB.csv\").drop(columns=[\"Country Name\", \"Indicator Name\", \"Indicator Code\"])"
   ]
  },
  {
   "cell_type": "code",
   "execution_count": 39,
   "metadata": {},
   "outputs": [],
   "source": [
    "value_vars = internet.columns.difference(['Country Code']).tolist()\n",
    "\n",
    "internet_long = pd.melt(internet, id_vars=['Country Code'], value_vars=value_vars,\n",
    "                  var_name='year', value_name='internet')\n",
    "internet_long[\"year\"] = pd.to_datetime(internet_long[\"year\"])\n",
    "internet_long['year'] = internet_long['year'].dt.year\n",
    "internet_long = internet_long[internet_long[\"year\"]>=2000]\n",
    "\n",
    "# Because this has only weighting purpose, I'll fill nans with 1 in the version to multiply\n",
    "internet_long = internet_long.copy().fillna(1)\n",
    "internet_long = internet_long.rename(columns={\"Country Code\":\"iso_o\"})\n"
   ]
  },
  {
   "cell_type": "code",
   "execution_count": 40,
   "metadata": {},
   "outputs": [
    {
     "data": {
      "text/plain": [
       "(3528, 625)"
      ]
     },
     "execution_count": 40,
     "metadata": {},
     "output_type": "execute_result"
    }
   ],
   "source": [
    "data_outflows_2005 = data_outflows[data_outflows[\"year\"]>=2005]\n",
    "data_outflows_2005 = data_outflows_2005[[\"iso_o\", \"year\", \"ref_outflow\", \"pop_o\"]]\n",
    "trends_merged = pd.merge(trends_final, data_outflows_2005, on=[\"iso_o\", \"year\"], how=\"outer\")\n",
    "trends_merged = pd.merge(trends_merged, internet_long, on=[\"iso_o\", \"year\"])\n",
    "\n",
    "# Create a list of variables to weight\n",
    "variables_to_multiply = [col for col in trends_merged.columns if col not in ['iso_o', 'year', 'pop_o', 'internet', 'ref_outflow']]\n",
    "\n",
    "# Multiply the variables by 'pop_o' and 'internet'\n",
    "trends_merged[variables_to_multiply] = trends_merged[variables_to_multiply].multiply(trends_merged['pop_o'], axis=0).multiply(trends_merged['internet'], axis=0)\n",
    "\n",
    "# Drop non-multiplied variables, 'pop_o', and 'internet'\n",
    "# columns_to_drop = ['internet', 'pop_o]\n",
    "# trends_merged.drop(columns=columns_to_drop, inplace=True)\n",
    "\n",
    "trends_merged = trends_merged.fillna(0)\n",
    "trends_merged.shape\n"
   ]
  },
  {
   "cell_type": "code",
   "execution_count": 41,
   "metadata": {},
   "outputs": [
    {
     "name": "stderr",
     "output_type": "stream",
     "text": [
      "C:\\Users\\danid\\AppData\\Local\\Temp\\ipykernel_49580\\2165611857.py:1: PerformanceWarning: DataFrame is highly fragmented.  This is usually the result of calling `frame.insert` many times, which has poor performance.  Consider joining all columns at once using pd.concat(axis=1) instead. To get a de-fragmented frame, use `newframe = frame.copy()`\n",
      "  trends_merged[\"target\"] = trends_merged.groupby('iso_o').ref_outflow.shift(-1)\n"
     ]
    }
   ],
   "source": [
    "trends_merged[\"target\"] = trends_merged.groupby('iso_o').ref_outflow.shift(-1)\n",
    "trends_merged = trends_merged.drop(columns=[\"ref_outflow\"])\n"
   ]
  },
  {
   "cell_type": "code",
   "execution_count": 42,
   "metadata": {},
   "outputs": [],
   "source": [
    "binary_cols=[\"iso_o\"]\n",
    "rf_pipe = model_helpers.pipeline_tree(model=RandomForestRegressor(random_state=SEED, n_jobs=-1),\n",
    "                                      df=trends_merged, \n",
    "                                      binary_cols=binary_cols)"
   ]
  },
  {
   "cell_type": "code",
   "execution_count": 43,
   "metadata": {},
   "outputs": [],
   "source": [
    "X_train, X_test, y_train, y_test = model_helpers.train_test_split(trends_merged, 'target', test_time_start, test_time_end, 'year')"
   ]
  },
  {
   "cell_type": "code",
   "execution_count": 44,
   "metadata": {},
   "outputs": [
    {
     "name": "stdout",
     "output_type": "stream",
     "text": [
      "RMSE outflows - GTrends only: 80245.0184495304\n",
      "Relative RMSE to Naive predictions: 1.3058800187368382\n"
     ]
    }
   ],
   "source": [
    "rf_pipe.fit(X_train, y_train)\n",
    "\n",
    "y_pred = rf_pipe.predict(X_test)\n",
    "y_pred = np.clip(y_pred, 0, None)\n",
    "mse_trends_weighted = mean_squared_error(y_test, y_pred, squared=False)\n",
    "\n",
    "print(\"RMSE outflows - GTrends only: \" + str(mse_trends_weighted))\n",
    "print(\"Relative RMSE to Naive predictions: \" + str(mse_trends_weighted/mse_naive))"
   ]
  },
  {
   "attachments": {},
   "cell_type": "markdown",
   "metadata": {},
   "source": [
    "Google trends on its own holds similar predicting power than knowing the refugee outflows for the last year."
   ]
  },
  {
   "cell_type": "code",
   "execution_count": 45,
   "metadata": {},
   "outputs": [
    {
     "name": "stderr",
     "output_type": "stream",
     "text": [
      "C:\\Users\\danid\\AppData\\Local\\Temp\\ipykernel_49580\\1947740483.py:2: SettingWithCopyWarning: \n",
      "A value is trying to be set on a copy of a slice from a DataFrame.\n",
      "Try using .loc[row_indexer,col_indexer] = value instead\n",
      "\n",
      "See the caveats in the documentation: https://pandas.pydata.org/pandas-docs/stable/user_guide/indexing.html#returning-a-view-versus-a-copy\n",
      "  ind[\"y_pred_tw\"]=y_pred\n"
     ]
    }
   ],
   "source": [
    "ind = X_test[[\"iso_o\", \"year\"]]\n",
    "ind[\"y_pred_tw\"]=y_pred\n",
    "\n",
    "predictions = pd.merge(predictions, ind, on=[\"iso_o\", \"year\"], how=\"left\")\n",
    "\n",
    "# Compute RMSE for each row\n",
    "predictions['naive_error'] = np.sqrt((predictions['y_test'] - predictions['y_naive']) ** 2)\n",
    "predictions['RF_error_trends'] = np.sqrt((predictions['y_test'] - predictions['y_pred_tw']) ** 2)\n"
   ]
  },
  {
   "attachments": {},
   "cell_type": "markdown",
   "metadata": {},
   "source": [
    "### Rolling window"
   ]
  },
  {
   "cell_type": "code",
   "execution_count": 46,
   "metadata": {},
   "outputs": [],
   "source": [
    "X_train_list, X_test_list, y_train_list, y_test_list = model_helpers.train_test_split_rw(trends_merged, 'target', test_time_start, test_time_end, 'year')"
   ]
  },
  {
   "cell_type": "code",
   "execution_count": 47,
   "metadata": {},
   "outputs": [
    {
     "name": "stdout",
     "output_type": "stream",
     "text": [
      "*********\n",
      "Year: 2019\n",
      "X_train uses data until: 2017\n",
      "X_test uses data from: 2018\n",
      "RMSE outflows - gtrends: 112396.25892558073\n",
      "Relative RMSE to Naive predictions: 1.4168060862904968\n",
      "*********\n",
      "Year: 2020\n",
      "X_train uses data until: 2018\n",
      "X_test uses data from: 2019\n",
      "RMSE outflows - gtrends: 29277.079762455796\n",
      "Relative RMSE to Naive predictions: 0.42270344947914107\n",
      "*********\n",
      "Year: 2021\n",
      "X_train uses data until: 2019\n",
      "X_test uses data from: 2020\n",
      "RMSE outflows - gtrends: 37536.57099863263\n",
      "Relative RMSE to Naive predictions: 2.4361222659091832\n"
     ]
    }
   ],
   "source": [
    "mse_gtrends_dict = {}\n",
    "predictions_list = []\n",
    "\n",
    "# Iterate over the test sets for each year\n",
    "for year, X_train, X_test, y_train, y_test in zip(range(test_time_start, test_time_end + 1), X_train_list, X_test_list, y_train_list, y_test_list):\n",
    "\n",
    "    rf_pipe.fit(X_train, y_train)\n",
    "\n",
    "    y_pred = rf_pipe.predict(X_test)\n",
    "    y_pred = np.clip(y_pred, 0, None)\n",
    "    mse_gtrends_year = mean_squared_error(y_test, y_pred, squared=False)\n",
    "\n",
    "    mse_gtrends_dict[year+1] = mse_gtrends_year\n",
    "\n",
    "    print(\"*********\")\n",
    "    print(\"Year: \" + str(year+1))\n",
    "    print(\"X_train uses data until: \" + str(X_train.year.max()))\n",
    "    print(\"X_test uses data from: \" + str(X_test.year.max()))\n",
    "    print(\"RMSE outflows - gtrends: \" + str(mse_gtrends_year))\n",
    "    print(\"Relative RMSE to Naive predictions: \" + str(mse_gtrends_year / mse_naive_dict[year+1]))\n",
    "\n",
    "    # Store predicted values in DataFrame\n",
    "    predictions_list.append(pd.DataFrame({\"year\": [year+1] * len(X_test),\n",
    "                                            \"iso_o\": X_test[\"iso_o\"].values,\n",
    "                                            \"y_pred_gtrends_rw\": y_pred}))\n",
    "\n",
    "    # Concatenate DataFrames from the list\n",
    "    predictions_df_trends = pd.concat(predictions_list, ignore_index=True)"
   ]
  },
  {
   "cell_type": "code",
   "execution_count": 48,
   "metadata": {},
   "outputs": [],
   "source": [
    "predictions_df = pd.merge(predictions_df, predictions_df_trends, on=[\"year\", \"iso_o\"], how=\"outer\")\n"
   ]
  },
  {
   "attachments": {},
   "cell_type": "markdown",
   "metadata": {},
   "source": [
    "## Step 3. Augmented model: UNHCR covariates + Google Trends"
   ]
  },
  {
   "attachments": {},
   "cell_type": "markdown",
   "metadata": {},
   "source": [
    "IMPORTANT NOTE ABOUT THE Y: when I first implemented the UNHCR baseline model, I lagged all of the covariates by 1 and dropped the originals.\n",
    "\n",
    "Here, because I will be merging the UNHCR dataset to the trends dataset, and the trends dataset already has the `target` variable generated considering 1 shift, I will keep the UNHCR covariates as they are (besides considering some lags and rolling sums to add value to the prediction). "
   ]
  },
  {
   "cell_type": "code",
   "execution_count": 49,
   "metadata": {},
   "outputs": [
    {
     "name": "stdout",
     "output_type": "stream",
     "text": [
      "(3528, 625)\n"
     ]
    }
   ],
   "source": [
    "print(trends_merged.shape)"
   ]
  },
  {
   "cell_type": "code",
   "execution_count": 50,
   "metadata": {},
   "outputs": [],
   "source": [
    "trends_merged = trends_merged.drop(columns=[\"pop_o\"])"
   ]
  },
  {
   "cell_type": "code",
   "execution_count": 51,
   "metadata": {},
   "outputs": [],
   "source": [
    "trends_merged = trends_merged.drop(columns=[\"target\"])\n",
    "merged_trends_cov = pd.merge(unhcr, trends_merged, on=[\"iso_o\", \"year\"], how=\"left\")\n",
    "\n",
    "merged_trends_cov = merged_trends_cov[(merged_trends_cov.year<2022) & (merged_trends_cov.year >2004)]\n",
    "\n"
   ]
  },
  {
   "cell_type": "code",
   "execution_count": 52,
   "metadata": {},
   "outputs": [
    {
     "name": "stdout",
     "output_type": "stream",
     "text": [
      "(3332, 665)\n"
     ]
    },
    {
     "data": {
      "text/html": [
       "<div>\n",
       "<style scoped>\n",
       "    .dataframe tbody tr th:only-of-type {\n",
       "        vertical-align: middle;\n",
       "    }\n",
       "\n",
       "    .dataframe tbody tr th {\n",
       "        vertical-align: top;\n",
       "    }\n",
       "\n",
       "    .dataframe thead th {\n",
       "        text-align: right;\n",
       "    }\n",
       "</style>\n",
       "<table border=\"1\" class=\"dataframe\">\n",
       "  <thead>\n",
       "    <tr style=\"text-align: right;\">\n",
       "      <th></th>\n",
       "      <th>iso_o_continent</th>\n",
       "      <th>iso_o</th>\n",
       "      <th>year</th>\n",
       "      <th>pop_o</th>\n",
       "      <th>CPI_o</th>\n",
       "      <th>GDP_PP_o</th>\n",
       "      <th>GDP_PPP_o</th>\n",
       "      <th>island_o</th>\n",
       "      <th>area_o</th>\n",
       "      <th>landlocked_o</th>\n",
       "      <th>...</th>\n",
       "      <th>rolling_sum_past_6_Immigration_topic</th>\n",
       "      <th>rolling_sum_past_3_Travel Visa_topic</th>\n",
       "      <th>rolling_sum_past_6_Travel Visa_topic</th>\n",
       "      <th>rolling_sum_past_3_Refugee_topic</th>\n",
       "      <th>rolling_sum_past_6_Refugee_topic</th>\n",
       "      <th>rolling_sum_past_3_Conflict_topic</th>\n",
       "      <th>rolling_sum_past_6_Conflict_topic</th>\n",
       "      <th>rolling_sum_past_3_Economy_topic</th>\n",
       "      <th>rolling_sum_past_6_Economy_topic</th>\n",
       "      <th>internet</th>\n",
       "    </tr>\n",
       "  </thead>\n",
       "  <tbody>\n",
       "    <tr>\n",
       "      <th>0</th>\n",
       "      <td>NA</td>\n",
       "      <td>ABW</td>\n",
       "      <td>2005</td>\n",
       "      <td>0.098</td>\n",
       "      <td>3.787</td>\n",
       "      <td>37910.69</td>\n",
       "      <td>0.005</td>\n",
       "      <td>1</td>\n",
       "      <td>193.0</td>\n",
       "      <td>0</td>\n",
       "      <td>...</td>\n",
       "      <td>0.000</td>\n",
       "      <td>0.0</td>\n",
       "      <td>0.0</td>\n",
       "      <td>0.000</td>\n",
       "      <td>0.000</td>\n",
       "      <td>0.000</td>\n",
       "      <td>0.000</td>\n",
       "      <td>0.000</td>\n",
       "      <td>0.000</td>\n",
       "      <td>25.4</td>\n",
       "    </tr>\n",
       "    <tr>\n",
       "      <th>1</th>\n",
       "      <td>NA</td>\n",
       "      <td>ABW</td>\n",
       "      <td>2006</td>\n",
       "      <td>0.099</td>\n",
       "      <td>2.510</td>\n",
       "      <td>37655.07</td>\n",
       "      <td>0.005</td>\n",
       "      <td>1</td>\n",
       "      <td>193.0</td>\n",
       "      <td>0</td>\n",
       "      <td>...</td>\n",
       "      <td>91.476</td>\n",
       "      <td>0.0</td>\n",
       "      <td>0.0</td>\n",
       "      <td>0.000</td>\n",
       "      <td>0.000</td>\n",
       "      <td>0.000</td>\n",
       "      <td>0.000</td>\n",
       "      <td>171.864</td>\n",
       "      <td>171.864</td>\n",
       "      <td>28.0</td>\n",
       "    </tr>\n",
       "    <tr>\n",
       "      <th>2</th>\n",
       "      <td>NA</td>\n",
       "      <td>ABW</td>\n",
       "      <td>2007</td>\n",
       "      <td>0.100</td>\n",
       "      <td>9.920</td>\n",
       "      <td>38530.06</td>\n",
       "      <td>0.005</td>\n",
       "      <td>1</td>\n",
       "      <td>193.0</td>\n",
       "      <td>0</td>\n",
       "      <td>...</td>\n",
       "      <td>0.000</td>\n",
       "      <td>0.0</td>\n",
       "      <td>0.0</td>\n",
       "      <td>71.070</td>\n",
       "      <td>71.070</td>\n",
       "      <td>142.140</td>\n",
       "      <td>142.140</td>\n",
       "      <td>0.000</td>\n",
       "      <td>0.000</td>\n",
       "      <td>30.9</td>\n",
       "    </tr>\n",
       "    <tr>\n",
       "      <th>3</th>\n",
       "      <td>NA</td>\n",
       "      <td>ABW</td>\n",
       "      <td>2008</td>\n",
       "      <td>0.101</td>\n",
       "      <td>-1.859</td>\n",
       "      <td>38939.16</td>\n",
       "      <td>0.005</td>\n",
       "      <td>1</td>\n",
       "      <td>193.0</td>\n",
       "      <td>0</td>\n",
       "      <td>...</td>\n",
       "      <td>63.024</td>\n",
       "      <td>0.0</td>\n",
       "      <td>0.0</td>\n",
       "      <td>115.544</td>\n",
       "      <td>115.544</td>\n",
       "      <td>0.000</td>\n",
       "      <td>0.000</td>\n",
       "      <td>52.520</td>\n",
       "      <td>52.520</td>\n",
       "      <td>52.0</td>\n",
       "    </tr>\n",
       "    <tr>\n",
       "      <th>4</th>\n",
       "      <td>NA</td>\n",
       "      <td>ABW</td>\n",
       "      <td>2009</td>\n",
       "      <td>0.102</td>\n",
       "      <td>6.777</td>\n",
       "      <td>34159.06</td>\n",
       "      <td>0.004</td>\n",
       "      <td>1</td>\n",
       "      <td>193.0</td>\n",
       "      <td>0</td>\n",
       "      <td>...</td>\n",
       "      <td>0.000</td>\n",
       "      <td>0.0</td>\n",
       "      <td>0.0</td>\n",
       "      <td>0.000</td>\n",
       "      <td>0.000</td>\n",
       "      <td>53.244</td>\n",
       "      <td>53.244</td>\n",
       "      <td>0.000</td>\n",
       "      <td>0.000</td>\n",
       "      <td>58.0</td>\n",
       "    </tr>\n",
       "  </tbody>\n",
       "</table>\n",
       "<p>5 rows × 665 columns</p>\n",
       "</div>"
      ],
      "text/plain": [
       "  iso_o_continent iso_o  year  pop_o  CPI_o  GDP_PP_o  GDP_PPP_o  island_o   \n",
       "0              NA   ABW  2005  0.098  3.787  37910.69      0.005         1  \\\n",
       "1              NA   ABW  2006  0.099  2.510  37655.07      0.005         1   \n",
       "2              NA   ABW  2007  0.100  9.920  38530.06      0.005         1   \n",
       "3              NA   ABW  2008  0.101 -1.859  38939.16      0.005         1   \n",
       "4              NA   ABW  2009  0.102  6.777  34159.06      0.004         1   \n",
       "\n",
       "   area_o  landlocked_o  ...  rolling_sum_past_6_Immigration_topic   \n",
       "0   193.0             0  ...                                 0.000  \\\n",
       "1   193.0             0  ...                                91.476   \n",
       "2   193.0             0  ...                                 0.000   \n",
       "3   193.0             0  ...                                63.024   \n",
       "4   193.0             0  ...                                 0.000   \n",
       "\n",
       "   rolling_sum_past_3_Travel Visa_topic  rolling_sum_past_6_Travel Visa_topic   \n",
       "0                                   0.0                                   0.0  \\\n",
       "1                                   0.0                                   0.0   \n",
       "2                                   0.0                                   0.0   \n",
       "3                                   0.0                                   0.0   \n",
       "4                                   0.0                                   0.0   \n",
       "\n",
       "   rolling_sum_past_3_Refugee_topic  rolling_sum_past_6_Refugee_topic   \n",
       "0                             0.000                             0.000  \\\n",
       "1                             0.000                             0.000   \n",
       "2                            71.070                            71.070   \n",
       "3                           115.544                           115.544   \n",
       "4                             0.000                             0.000   \n",
       "\n",
       "   rolling_sum_past_3_Conflict_topic  rolling_sum_past_6_Conflict_topic   \n",
       "0                              0.000                              0.000  \\\n",
       "1                              0.000                              0.000   \n",
       "2                            142.140                            142.140   \n",
       "3                              0.000                              0.000   \n",
       "4                             53.244                             53.244   \n",
       "\n",
       "   rolling_sum_past_3_Economy_topic  rolling_sum_past_6_Economy_topic   \n",
       "0                             0.000                             0.000  \\\n",
       "1                           171.864                           171.864   \n",
       "2                             0.000                             0.000   \n",
       "3                            52.520                            52.520   \n",
       "4                             0.000                             0.000   \n",
       "\n",
       "   internet  \n",
       "0      25.4  \n",
       "1      28.0  \n",
       "2      30.9  \n",
       "3      52.0  \n",
       "4      58.0  \n",
       "\n",
       "[5 rows x 665 columns]"
      ]
     },
     "execution_count": 52,
     "metadata": {},
     "output_type": "execute_result"
    }
   ],
   "source": [
    "merged_trends_cov = merged_trends_cov.fillna(0)\n",
    "print(merged_trends_cov.shape)\n",
    "merged_trends_cov.head()"
   ]
  },
  {
   "cell_type": "code",
   "execution_count": 53,
   "metadata": {},
   "outputs": [],
   "source": [
    "#def select_rows_with_nan(data):\n",
    " #  return data[data.isnull().any(axis=1)]\n",
    "\n",
    "#selected_rows = select_rows_with_nan(merged_trends_cov)\n"
   ]
  },
  {
   "cell_type": "code",
   "execution_count": 54,
   "metadata": {},
   "outputs": [],
   "source": [
    "binary_cols = ['iso_o', 'iso_o_continent','Shift_1_typeOfViolence_o', 'typeOfViolence_o']\n",
    "\n",
    "rf_pipe = model_helpers.pipeline_tree(model=RandomForestRegressor(n_jobs=-1,\n",
    "                                                                  random_state=SEED),\n",
    "                                                                  df=merged_trends_cov,\n",
    "                                                                  binary_cols=binary_cols)"
   ]
  },
  {
   "cell_type": "code",
   "execution_count": 55,
   "metadata": {},
   "outputs": [],
   "source": [
    "X_train, X_test, y_train, y_test = model_helpers.train_test_split(merged_trends_cov, 'target', test_time_start, test_time_end, 'year')\n"
   ]
  },
  {
   "cell_type": "code",
   "execution_count": 56,
   "metadata": {},
   "outputs": [
    {
     "name": "stdout",
     "output_type": "stream",
     "text": [
      "RMSE outflows - GTrends + UNHCR covariates: 57232.60109524956\n",
      "Relative RMSE to Naive predictions: 0.9313837997012744\n"
     ]
    }
   ],
   "source": [
    "rf_pipe.fit(X_train, y_train)\n",
    "\n",
    "y_pred = rf_pipe.predict(X_test)\n",
    "y_pred = np.clip(y_pred, 0, None)\n",
    "mse_aug = mean_squared_error(y_test, y_pred, squared=False)\n",
    "\n",
    "print(\"RMSE outflows - GTrends + UNHCR covariates: \" + str(mse_aug))\n",
    "print(\"Relative RMSE to Naive predictions: \" + str(mse_aug/mse_naive))"
   ]
  },
  {
   "cell_type": "code",
   "execution_count": 57,
   "metadata": {},
   "outputs": [
    {
     "name": "stdout",
     "output_type": "stream",
     "text": [
      "RMSE outflows - GTrends + UNHCR covariates: 54577.85360361537\n",
      "Relative RMSE to Naive predictions: 0.88818134587796\n"
     ]
    }
   ],
   "source": [
    "gb_pipe = model_helpers.pipeline_tree(model=GradientBoostingRegressor(random_state=SEED),\n",
    "                                                                  df=merged_trends_cov,\n",
    "                                                                  binary_cols=binary_cols)\n",
    "gb_pipe.fit(X_train, y_train)\n",
    "\n",
    "y_pred = gb_pipe.predict(X_test)\n",
    "y_pred = np.clip(y_pred, 0, None)\n",
    "mse_aug = mean_squared_error(y_test, y_pred, squared=False)\n",
    "\n",
    "print(\"RMSE outflows - GTrends + UNHCR covariates: \" + str(mse_aug))\n",
    "print(\"Relative RMSE to Naive predictions: \" + str(mse_aug/mse_naive))"
   ]
  },
  {
   "cell_type": "code",
   "execution_count": 58,
   "metadata": {},
   "outputs": [
    {
     "name": "stderr",
     "output_type": "stream",
     "text": [
      "C:\\Users\\danid\\AppData\\Local\\Temp\\ipykernel_49580\\1917419157.py:2: SettingWithCopyWarning: \n",
      "A value is trying to be set on a copy of a slice from a DataFrame.\n",
      "Try using .loc[row_indexer,col_indexer] = value instead\n",
      "\n",
      "See the caveats in the documentation: https://pandas.pydata.org/pandas-docs/stable/user_guide/indexing.html#returning-a-view-versus-a-copy\n",
      "  ind[\"y_pred_aug\"]=y_pred\n"
     ]
    }
   ],
   "source": [
    "ind = X_test[[\"iso_o\", \"year\"]]\n",
    "ind[\"y_pred_aug\"]=y_pred\n",
    "\n",
    "predictions = pd.merge(predictions, ind, on=[\"iso_o\", \"year\"], how=\"left\")"
   ]
  },
  {
   "cell_type": "code",
   "execution_count": 59,
   "metadata": {},
   "outputs": [],
   "source": [
    "\n",
    "# Compute RMSE for each row\n",
    "predictions['GB_error_aug'] = np.sqrt((predictions['y_test'] - predictions['y_pred_aug']) ** 2)\n",
    "predictions['RF_error_unhcr'] = np.sqrt((predictions['y_test'] - predictions['y_unhcr']) ** 2)\n",
    "\n",
    "# Define the ranges for grouping the actual values\n",
    "ranges = [0, 10, 100, 1000,10000,100000, 1200000]  # Modify the ranges as per your requirements\n",
    "labels = ['0-10', '10-100', '100-1k', '1k-10k','10k-100k','100k+']  # Labels for the groups\n",
    "# Group the errors based on ranges of actual values\n",
    "predictions['actual_range'] = pd.cut(predictions['y_test'], ranges, labels=labels, include_lowest=True)\n",
    "\n"
   ]
  },
  {
   "cell_type": "code",
   "execution_count": 70,
   "metadata": {},
   "outputs": [
    {
     "data": {
      "image/png": "[encoded data removed]",
      "text/plain": [
       "<Figure size 1200x600 with 2 Axes>"
      ]
     },
     "metadata": {},
     "output_type": "display_data"
    }
   ],
   "source": [
    "fig, axes = plt.subplots(1, 2, figsize=(12, 6))\n",
    "\n",
    "# Plot the first subplot\n",
    "sns.scatterplot(data=predictions, x='y_naive', y='y_test', ax=axes[0])\n",
    "axes[0].set_xlabel('Naive predictions')\n",
    "axes[0].set_ylabel('True values')\n",
    "axes[0].set_title('Naive predictions vs actual values')\n",
    "axes[0].set_xscale('log')\n",
    "axes[0].set_yscale('log')\n",
    "\n",
    "\n",
    "# Plot the second subplot (modify the column names accordingly)\n",
    "sns.scatterplot(data=predictions, x='y_pred_aug', y='y_test', ax=axes[1])\n",
    "axes[1].set_xlabel('GB predictions')\n",
    "axes[1].set_ylabel('')\n",
    "axes[1].set_xscale('log')\n",
    "axes[1].set_yscale('log')\n",
    "axes[1].set_title('GB predictions (augmented) vs actual values')\n",
    "\n",
    "# Get the maximum value from x and y axes\n",
    "max_val = max(predictions['y_test'].max(), predictions['y_pred_aug'].max())\n",
    "\n",
    "# Create the diagonal line coordinates\n",
    "diagonal_line = np.linspace(0, max_val, 100)\n",
    "\n",
    "# Fill the area below the diagonal line in the second subplot\n",
    "axes[1].fill_between(diagonal_line, 0, diagonal_line,\n",
    "                      where=diagonal_line >= 0,\n",
    "                      interpolate=True,\n",
    "                      color='gray', alpha=0.5)\n",
    "axes[1].set_xlim(left=1)\n",
    "axes[1].set_ylim(bottom=1)\n",
    "\n",
    "# Adjust the layout and display the plot\n",
    "plt.tight_layout()\n",
    "plt.show()\n",
    "\n",
    "\n"
   ]
  },
  {
   "attachments": {},
   "cell_type": "markdown",
   "metadata": {},
   "source": [
    "## Rolling window"
   ]
  },
  {
   "cell_type": "code",
   "execution_count": 61,
   "metadata": {},
   "outputs": [],
   "source": [
    "X_train_list, X_test_list, y_train_list, y_test_list = model_helpers.train_test_split_rw(merged_trends_cov, 'target', test_time_start, test_time_end, 'year')\n",
    "\n"
   ]
  },
  {
   "cell_type": "code",
   "execution_count": 76,
   "metadata": {},
   "outputs": [
    {
     "name": "stdout",
     "output_type": "stream",
     "text": [
      "*********\n",
      "Year: 2019\n",
      "X_train uses data until: 2017\n",
      "RMSE outflows - aug covariates: 78786.54028167218\n",
      "Relative RMSE to Naive predictions: 0.9931402597906155\n",
      "*********\n",
      "Year: 2020\n",
      "X_train uses data until: 2018\n",
      "RMSE outflows - aug covariates: 41439.915597292405\n",
      "Relative RMSE to Naive predictions: 0.5983108770145534\n",
      "*********\n",
      "Year: 2021\n",
      "X_train uses data until: 2019\n",
      "RMSE outflows - aug covariates: 32343.16817898461\n",
      "Relative RMSE to Naive predictions: 2.099070587820608\n"
     ]
    }
   ],
   "source": [
    "mse_aug_dict = {}\n",
    "predictions_list = []\n",
    "\n",
    "# Iterate over the test sets for each year\n",
    "for year, X_train, X_test, y_train, y_test in zip(range(test_time_start, test_time_end + 1), X_train_list, X_test_list, y_train_list, y_test_list):\n",
    "\n",
    "    rf_pipe.fit(X_train, y_train)\n",
    "\n",
    "    y_pred = rf_pipe.predict(X_test)\n",
    "    y_pred = np.clip(y_pred, 0, None)\n",
    "    mse_aug_year = mean_squared_error(y_test, y_pred, squared=False)\n",
    "\n",
    "    mse_aug_dict[year+1] = mse_aug_year\n",
    "\n",
    "    print(\"*********\")\n",
    "    print(\"Year: \" + str(year+1))\n",
    "    print(\"X_train uses data until: \" + str(X_train.year.max()))\n",
    "    print(\"RMSE outflows - aug covariates: \" + str(mse_aug_year))\n",
    "    print(\"Relative RMSE to Naive predictions: \" + str(mse_aug_year / mse_naive_dict[year+1]))\n",
    "\n",
    "    # Store predicted values in DataFrame\n",
    "    predictions_list.append(pd.DataFrame({\"year\": [year+1] * len(X_test),\n",
    "                                            \"iso_o\": X_test[\"iso_o\"].values,\n",
    "                                            \"y_pred_aug_rw\": y_pred}))\n",
    "\n",
    "    # Concatenate DataFrames from the list\n",
    "    predictions_df_aug = pd.concat(predictions_list, ignore_index=True)\n"
   ]
  },
  {
   "cell_type": "code",
   "execution_count": 72,
   "metadata": {},
   "outputs": [],
   "source": [
    "predictions_df = pd.merge(predictions_df, predictions_df_aug, on=[\"year\", \"iso_o\"], how=\"outer\")"
   ]
  },
  {
   "cell_type": "code",
   "execution_count": 64,
   "metadata": {},
   "outputs": [
    {
     "data": {
      "text/plain": [
       "{2019: 78786.54028167218, 2020: 41439.915597292405, 2021: 32343.16817898461}"
      ]
     },
     "execution_count": 64,
     "metadata": {},
     "output_type": "execute_result"
    }
   ],
   "source": [
    "mse_aug_dict"
   ]
  },
  {
   "cell_type": "code",
   "execution_count": 73,
   "metadata": {},
   "outputs": [],
   "source": [
    "predictions_merged = pd.merge(predictions, predictions_df, on=[\"iso_o\", \"year\"], how=\"left\")"
   ]
  },
  {
   "cell_type": "code",
   "execution_count": 75,
   "metadata": {},
   "outputs": [
    {
     "data": {
      "text/plain": [
       "0.9924216135900004"
      ]
     },
     "execution_count": 75,
     "metadata": {},
     "output_type": "execute_result"
    }
   ],
   "source": [
    "mean_squared_error(y_true=predictions_merged.y_test, y_pred=predictions_merged.y_pred_aug_rw, squared=False)/mse_naive"
   ]
  },
  {
   "cell_type": "code",
   "execution_count": 67,
   "metadata": {},
   "outputs": [
    {
     "data": {
      "text/html": [
       "<div>\n",
       "<style scoped>\n",
       "    .dataframe tbody tr th:only-of-type {\n",
       "        vertical-align: middle;\n",
       "    }\n",
       "\n",
       "    .dataframe tbody tr th {\n",
       "        vertical-align: top;\n",
       "    }\n",
       "\n",
       "    .dataframe thead th {\n",
       "        text-align: right;\n",
       "    }\n",
       "</style>\n",
       "<table border=\"1\" class=\"dataframe\">\n",
       "  <thead>\n",
       "    <tr style=\"text-align: right;\">\n",
       "      <th></th>\n",
       "      <th>naive_error</th>\n",
       "      <th>RF_error_unhcr</th>\n",
       "      <th>RF_error_trends</th>\n",
       "      <th>GB_error_aug</th>\n",
       "      <th>RF_error_unhcr_rw</th>\n",
       "      <th>RF_error_aug_rw</th>\n",
       "    </tr>\n",
       "    <tr>\n",
       "      <th>actual_range</th>\n",
       "      <th></th>\n",
       "      <th></th>\n",
       "      <th></th>\n",
       "      <th></th>\n",
       "      <th></th>\n",
       "      <th></th>\n",
       "    </tr>\n",
       "  </thead>\n",
       "  <tbody>\n",
       "    <tr>\n",
       "      <th>0-10</th>\n",
       "      <td>11.844444</td>\n",
       "      <td>72.638333</td>\n",
       "      <td>2345.728800</td>\n",
       "      <td>921.497333</td>\n",
       "      <td>18.005333</td>\n",
       "      <td>28.414222</td>\n",
       "    </tr>\n",
       "    <tr>\n",
       "      <th>10-100</th>\n",
       "      <td>27.416000</td>\n",
       "      <td>41.789120</td>\n",
       "      <td>3755.929425</td>\n",
       "      <td>505.531455</td>\n",
       "      <td>37.554240</td>\n",
       "      <td>36.162080</td>\n",
       "    </tr>\n",
       "    <tr>\n",
       "      <th>100-1k</th>\n",
       "      <td>875.694030</td>\n",
       "      <td>2630.681306</td>\n",
       "      <td>17794.536429</td>\n",
       "      <td>641.231021</td>\n",
       "      <td>3223.057500</td>\n",
       "      <td>1691.280821</td>\n",
       "    </tr>\n",
       "    <tr>\n",
       "      <th>1k-10k</th>\n",
       "      <td>1657.674242</td>\n",
       "      <td>5217.008220</td>\n",
       "      <td>17445.226755</td>\n",
       "      <td>4421.915763</td>\n",
       "      <td>4598.538750</td>\n",
       "      <td>4034.468939</td>\n",
       "    </tr>\n",
       "    <tr>\n",
       "      <th>10k-100k</th>\n",
       "      <td>16174.526316</td>\n",
       "      <td>38542.608684</td>\n",
       "      <td>38839.084231</td>\n",
       "      <td>20767.275665</td>\n",
       "      <td>31589.092474</td>\n",
       "      <td>35875.760842</td>\n",
       "    </tr>\n",
       "    <tr>\n",
       "      <th>100k+</th>\n",
       "      <td>180280.727273</td>\n",
       "      <td>210899.619091</td>\n",
       "      <td>167058.930000</td>\n",
       "      <td>143175.554866</td>\n",
       "      <td>169264.908182</td>\n",
       "      <td>160944.796364</td>\n",
       "    </tr>\n",
       "  </tbody>\n",
       "</table>\n",
       "</div>"
      ],
      "text/plain": [
       "                naive_error  RF_error_unhcr  RF_error_trends   GB_error_aug   \n",
       "actual_range                                                                  \n",
       "0-10              11.844444       72.638333      2345.728800     921.497333  \\\n",
       "10-100            27.416000       41.789120      3755.929425     505.531455   \n",
       "100-1k           875.694030     2630.681306     17794.536429     641.231021   \n",
       "1k-10k          1657.674242     5217.008220     17445.226755    4421.915763   \n",
       "10k-100k       16174.526316    38542.608684     38839.084231   20767.275665   \n",
       "100k+         180280.727273   210899.619091    167058.930000  143175.554866   \n",
       "\n",
       "              RF_error_unhcr_rw  RF_error_aug_rw  \n",
       "actual_range                                      \n",
       "0-10                  18.005333        28.414222  \n",
       "10-100                37.554240        36.162080  \n",
       "100-1k              3223.057500      1691.280821  \n",
       "1k-10k              4598.538750      4034.468939  \n",
       "10k-100k           31589.092474     35875.760842  \n",
       "100k+             169264.908182    160944.796364  "
      ]
     },
     "execution_count": 67,
     "metadata": {},
     "output_type": "execute_result"
    }
   ],
   "source": [
    "# Compute mean RMSE for each group\n",
    "\n",
    "predictions_merged['RF_error_trends'] = np.sqrt((predictions_merged['y_test'] - predictions_merged['y_pred_tw']) ** 2)\n",
    "predictions_merged['RF_error_unhcr_rw'] = np.sqrt((predictions_merged['y_test'] - predictions_merged['y_pred_unhcr_rw']) ** 2)\n",
    "predictions_merged['RF_error_aug_rw'] = np.sqrt((predictions_merged['y_test'] - predictions_merged['y_pred_aug_rw']) ** 2)\n",
    "\n",
    "grouped_errors = predictions_merged[['naive_error', 'RF_error_unhcr', 'RF_error_trends', 'GB_error_aug', 'RF_error_unhcr_rw', 'RF_error_aug_rw', 'actual_range']].groupby('actual_range').mean()\n",
    "grouped_errors"
   ]
  },
  {
   "cell_type": "code",
   "execution_count": 68,
   "metadata": {},
   "outputs": [
    {
     "data": {
      "image/png": "[encoded data removed]",
      "text/plain": [
       "<Figure size 1000x600 with 1 Axes>"
      ]
     },
     "metadata": {},
     "output_type": "display_data"
    }
   ],
   "source": [
    "grouped_errors.plot(kind='bar', figsize=(10, 6))\n",
    "plt.xlabel('Actual Value Range')\n",
    "plt.ylabel('Root Mean Squared Error')\n",
    "plt.title('RMSE for Different Models Grouped by Actual Value Ranges')\n",
    "plt.xticks(rotation=0)\n",
    "# plt.yscale('log')\n",
    "plt.legend()\n",
    "plt.show()"
   ]
  },
  {
   "attachments": {},
   "cell_type": "markdown",
   "metadata": {},
   "source": [
    "## Step 4. Augmented model + extra covariates"
   ]
  },
  {
   "attachments": {},
   "cell_type": "markdown",
   "metadata": {},
   "source": [
    "#### MIGRATION\n"
   ]
  },
  {
   "cell_type": "code",
   "execution_count": 77,
   "metadata": {},
   "outputs": [],
   "source": [
    "\n",
    "migration = pd.read_csv(path + 'migration_stocks.csv')\n",
    "\n",
    "migration = migration.groupby(['iso_o', 'year'])['migration_stock'].sum().reset_index()\n",
    "\n",
    "migration['migration_change'] = migration.groupby('iso_o')['migration_stock'].pct_change() * 100\n",
    "\n",
    "migration = migration.fillna(0)\n"
   ]
  },
  {
   "cell_type": "code",
   "execution_count": 78,
   "metadata": {},
   "outputs": [
    {
     "name": "stdout",
     "output_type": "stream",
     "text": [
      "(4900, 4)\n",
      "(3332, 667)\n",
      "(3332, 665)\n"
     ]
    },
    {
     "name": "stderr",
     "output_type": "stream",
     "text": [
      "C:\\Users\\danid\\AppData\\Local\\Temp\\ipykernel_49580\\1238760211.py:5: PerformanceWarning: DataFrame is highly fragmented.  This is usually the result of calling `frame.insert` many times, which has poor performance.  Consider joining all columns at once using pd.concat(axis=1) instead. To get a de-fragmented frame, use `newframe = frame.copy()`\n",
      "  aug_1[\"migration_stock_weighted\"] = aug_1[\"migration_stock\"]/aug_1[\"pop_o\"]\n"
     ]
    }
   ],
   "source": [
    "aug_1 = pd.merge(merged_trends_cov, migration, on=[\"iso_o\", \"year\"], how=\"left\")\n",
    "print(migration.shape)\n",
    "print(aug_1.shape)\n",
    "print(merged_trends_cov.shape)\n",
    "aug_1[\"migration_stock_weighted\"] = aug_1[\"migration_stock\"]/aug_1[\"pop_o\"]"
   ]
  },
  {
   "cell_type": "code",
   "execution_count": 79,
   "metadata": {},
   "outputs": [],
   "source": [
    "X_train, X_test, y_train, y_test = model_helpers.train_test_split(aug_1, 'target', test_time_start, test_time_end, 'year')"
   ]
  },
  {
   "cell_type": "code",
   "execution_count": 80,
   "metadata": {},
   "outputs": [
    {
     "name": "stdout",
     "output_type": "stream",
     "text": [
      "RMSE outflows - GTrends + UNHCR covariates + Migration: 52613.86523218056\n",
      "Relative RMSE to Naive predictions: 0.8562200700150691\n"
     ]
    }
   ],
   "source": [
    "binary_cols = ['iso_o', 'iso_o_continent','Shift_1_typeOfViolence_o', 'typeOfViolence_o']\n",
    "\n",
    "gb_pipe = model_helpers.pipeline_tree(model=GradientBoostingRegressor(random_state=SEED),\n",
    "                                                                  df=aug_1,\n",
    "                                                                  binary_cols=binary_cols)\n",
    "gb_pipe.fit(X_train, y_train)\n",
    "\n",
    "y_pred = gb_pipe.predict(X_test)\n",
    "y_pred = np.clip(y_pred, 0, None)\n",
    "mse_aug = mean_squared_error(y_test, y_pred, squared=False)\n",
    "\n",
    "print(\"RMSE outflows - GTrends + UNHCR covariates + Migration: \" + str(mse_aug))\n",
    "print(\"Relative RMSE to Naive predictions: \" + str(mse_aug/mse_naive))"
   ]
  },
  {
   "attachments": {},
   "cell_type": "markdown",
   "metadata": {},
   "source": [
    "### Rolling window"
   ]
  },
  {
   "cell_type": "code",
   "execution_count": 81,
   "metadata": {},
   "outputs": [],
   "source": [
    "gb_pipe = model_helpers.pipeline_tree(model=GradientBoostingRegressor(random_state=SEED),\n",
    "                                                                  df=aug_1,\n",
    "                                                                  binary_cols=binary_cols)\n",
    "           "
   ]
  },
  {
   "cell_type": "code",
   "execution_count": 82,
   "metadata": {},
   "outputs": [],
   "source": [
    "X_train_list, X_test_list, y_train_list, y_test_list = model_helpers.train_test_split_rw(aug_1, 'target', test_time_start, test_time_end, 'year')"
   ]
  },
  {
   "cell_type": "code",
   "execution_count": 83,
   "metadata": {},
   "outputs": [
    {
     "name": "stdout",
     "output_type": "stream",
     "text": [
      "*********\n",
      "Year: 2018\n",
      "X_train uses data until: 2017\n",
      "RMSE outflows - migration covariates: 64825.68546115624\n",
      "Relative RMSE to Naive predictions: 0.8171573198902624\n",
      "*********\n",
      "Year: 2019\n",
      "X_train uses data until: 2018\n",
      "RMSE outflows - migration covariates: 76588.94806941977\n",
      "Relative RMSE to Naive predictions: 1.1057937746386401\n",
      "*********\n",
      "Year: 2020\n",
      "X_train uses data until: 2019\n",
      "RMSE outflows - migration covariates: 45008.705259335715\n",
      "Relative RMSE to Naive predictions: 2.92106354216547\n"
     ]
    }
   ],
   "source": [
    "mse_mig_dict = {}\n",
    "predictions_list = []\n",
    "\n",
    "# Iterate over the test sets for each year\n",
    "for year, X_train, X_test, y_train, y_test in zip(range(test_time_start, test_time_end + 1), X_train_list, X_test_list, y_train_list, y_test_list):\n",
    "\n",
    "    gb_pipe.fit(X_train, y_train)\n",
    "\n",
    "    y_pred = gb_pipe.predict(X_test)\n",
    "    y_pred = np.clip(y_pred, 0, None)\n",
    "    mse_mig_year = mean_squared_error(y_test, y_pred, squared=False)\n",
    "\n",
    "    mse_mig_dict[year +1] = mse_mig_year\n",
    "\n",
    "    print(\"*********\")\n",
    "    print(\"Year: \" + str(year))\n",
    "    print(\"X_train uses data until: \" + str(X_train.year.max()))\n",
    "    print(\"RMSE outflows - migration covariates: \" + str(mse_mig_year))\n",
    "    print(\"Relative RMSE to Naive predictions: \" + str(mse_mig_year / mse_naive_dict[year+1]))\n",
    "\n",
    "    # Store predicted values in DataFrame\n",
    "    predictions_list.append(pd.DataFrame({\"year\": [year+1] * len(X_test),\n",
    "                                            \"iso_o\": X_test[\"iso_o\"].values,\n",
    "                                            \"y_pred_mig_rw\": y_pred}))\n",
    "\n",
    "    # Concatenate DataFrames from the list\n",
    "    predictions_df_mig = pd.concat(predictions_list, ignore_index=True)"
   ]
  },
  {
   "cell_type": "code",
   "execution_count": 84,
   "metadata": {},
   "outputs": [
    {
     "data": {
      "text/plain": [
       "1.0332606959103117"
      ]
     },
     "execution_count": 84,
     "metadata": {},
     "output_type": "execute_result"
    }
   ],
   "source": [
    "predictions_merged = pd.merge(predictions_merged, predictions_df_mig, on=[\"iso_o\", \"year\"], how=\"left\")\n",
    "mean_squared_error(y_true=predictions_merged.y_test, y_pred=predictions_merged.y_pred_mig_rw, squared=False)/mse_naive\n"
   ]
  },
  {
   "attachments": {},
   "cell_type": "markdown",
   "metadata": {},
   "source": [
    "### Rolling window + log transformation (Y)"
   ]
  },
  {
   "cell_type": "code",
   "execution_count": 85,
   "metadata": {},
   "outputs": [],
   "source": [
    "gb_pipe = model_helpers.pipeline_tree(model=GradientBoostingRegressor(random_state=SEED),\n",
    "                                                                  df=aug_1,\n",
    "                                                                  binary_cols=binary_cols)"
   ]
  },
  {
   "cell_type": "code",
   "execution_count": 86,
   "metadata": {},
   "outputs": [
    {
     "name": "stdout",
     "output_type": "stream",
     "text": [
      "*********\n",
      "Year: 2019\n",
      "X_train uses data until: 2017\n",
      "RMSE outflows - migration covariates: 70604.36566467404\n",
      "Relative RMSE to Naive predictions: 0.8900002184113898\n",
      "*********\n",
      "Year: 2020\n",
      "X_train uses data until: 2018\n",
      "RMSE outflows - migration covariates: 10084.176211080467\n",
      "Relative RMSE to Naive predictions: 0.1455956708853689\n",
      "*********\n",
      "Year: 2021\n",
      "X_train uses data until: 2019\n",
      "RMSE outflows - migration covariates: 40099.24238379379\n",
      "Relative RMSE to Naive predictions: 2.60243955743341\n"
     ]
    }
   ],
   "source": [
    "mse_mig_log_dict = {}\n",
    "predictions_list = []\n",
    "\n",
    "# Iterate over the test sets for each year\n",
    "for year, X_train, X_test, y_train, y_test in zip(range(test_time_start, test_time_end + 1), X_train_list, X_test_list, y_train_list, y_test_list):\n",
    "\n",
    "    epsilon = 1e-8\n",
    "    y_train_log = np.log(y_train + epsilon)\n",
    "\n",
    "    gb_pipe.fit(X_train, y_train_log)\n",
    "\n",
    "    # Predict on test set and transform back to original scale\n",
    "    y_pred_log = gb_pipe.predict(X_test)\n",
    "    y_pred = np.exp(y_pred_log) \n",
    "    \n",
    "    mse_mig_log_year = mean_squared_error(y_test, y_pred, squared=False)\n",
    "\n",
    "    mse_mig_log_dict[year+1] = mse_mig_log_year\n",
    "\n",
    "    print(\"*********\")\n",
    "    print(\"Year: \" + str(year+1))\n",
    "    print(\"X_train uses data until: \" + str(X_train.year.max()))\n",
    "    print(\"RMSE outflows - migration covariates: \" + str(mse_mig_log_year))\n",
    "    print(\"Relative RMSE to Naive predictions: \" + str(mse_mig_log_year / mse_naive_dict[year+1]))\n",
    "\n",
    "    # Store predicted values in DataFrame\n",
    "    predictions_list.append(pd.DataFrame({\"year\": [year+1] * len(X_test),\n",
    "                                            \"iso_o\": X_test[\"iso_o\"].values,\n",
    "                                            \"y_pred_mig_rw_log\": y_pred}))\n",
    "\n",
    "    # Concatenate DataFrames from the list\n",
    "    predictions_df_mig = pd.concat(predictions_list, ignore_index=True)"
   ]
  },
  {
   "cell_type": "code",
   "execution_count": 87,
   "metadata": {},
   "outputs": [
    {
     "data": {
      "text/plain": [
       "0.768754044229935"
      ]
     },
     "execution_count": 87,
     "metadata": {},
     "output_type": "execute_result"
    }
   ],
   "source": [
    "predictions_merged = pd.merge(predictions_merged, predictions_df_mig, on=[\"iso_o\", \"year\"], how=\"left\")\n",
    "mean_squared_error(y_true=predictions_merged.y_test, y_pred=predictions_merged.y_pred_mig_rw_log, squared=False)/mse_naive\n"
   ]
  },
  {
   "attachments": {},
   "cell_type": "markdown",
   "metadata": {},
   "source": [
    "## GDELT"
   ]
  },
  {
   "cell_type": "code",
   "execution_count": 88,
   "metadata": {},
   "outputs": [],
   "source": [
    "def avg_log_diff(series):\n",
    "    val = np.log1p(series).diff().mean()\n",
    "    if np.isnan(val):\n",
    "        return 0\n",
    "    else:\n",
    "        return val\n",
    "\n",
    "# Define the agg_year function\n",
    "def agg_year(series):\n",
    "    # Calculate the statistics using numpy\n",
    "    minimum = np.min(series)\n",
    "    q25 = np.percentile(series, 25)\n",
    "    median = np.median(series)\n",
    "    q75 = np.percentile(series, 75)\n",
    "    maximum = np.max(series)\n",
    "    log_diff = avg_log_diff(series)\n",
    "    \n",
    "    # Return the statistics as a list\n",
    "    return [minimum, q25, median, q75, maximum, log_diff]\n",
    "\n",
    "def agg_year_reduc(series):\n",
    "    # Calculate the statistics using numpy\n",
    "    mean = np.mean(series)\n",
    "    maximum = np.max(series)\n",
    "    log_diff = avg_log_diff(series)\n",
    "    \n",
    "    # Return the statistics as a list\n",
    "    return [mean, maximum, log_diff]\n",
    "\n",
    "def split_nested_list(series):\n",
    "    df = pd.DataFrame(series.apply(pd.Series).values.tolist())\n",
    "    df.columns = series.name + '_' + pd.Series(['min','25th','mean','75th','max', 'log_diff'])\n",
    "    return df\n",
    "\n",
    "def split_nested_list_reduc(series):\n",
    "    df = pd.DataFrame(series.apply(pd.Series).values.tolist())\n",
    "    df.columns = series.name + '_' + pd.Series(['mean','max', 'log_diff'])\n",
    "    return df\n",
    "\n",
    "def split_df(df):\n",
    "    new_df = pd.concat([split_nested_list(df[col]) for col in df.columns], axis=1)\n",
    "    new_df.index = df.index\n",
    "    return new_df\n",
    "\n",
    "def split_df_reduc(df):\n",
    "    new_df = pd.concat([split_nested_list_reduc(df[col]) for col in df.columns], axis=1)\n",
    "    new_df.index = df.index\n",
    "    return new_df"
   ]
  },
  {
   "cell_type": "code",
   "execution_count": 89,
   "metadata": {},
   "outputs": [],
   "source": [
    "gdelt = pd.read_csv(path + 'gdelt.csv', engine='pyarrow')\n",
    "\n",
    "gdelt = gdelt.groupby(['isocode','year'])[['count_events_1',\n",
    "       'count_events_2', 'count_events_3', 'count_events_4', 'count_events_5',\n",
    "       'count_events_6', 'count_events_7', 'count_events_8', 'count_events_9',\n",
    "       'count_events_10', 'count_events_11', 'count_events_12',\n",
    "       'count_events_13', 'count_events_14', 'count_events_15',\n",
    "       'count_events_16', 'count_events_17', 'count_events_18',\n",
    "       'count_events_19', 'count_events_20']].agg(agg_year)\n",
    "gdelt = split_df(gdelt)"
   ]
  },
  {
   "cell_type": "code",
   "execution_count": 90,
   "metadata": {},
   "outputs": [],
   "source": [
    "gdelt = gdelt.reset_index()\n",
    "gdelt = gdelt.rename(columns={'isocode': 'iso_o'})\n",
    "\n"
   ]
  },
  {
   "cell_type": "code",
   "execution_count": 91,
   "metadata": {},
   "outputs": [
    {
     "name": "stdout",
     "output_type": "stream",
     "text": [
      "(3332, 788)\n"
     ]
    },
    {
     "data": {
      "text/html": [
       "<div>\n",
       "<style scoped>\n",
       "    .dataframe tbody tr th:only-of-type {\n",
       "        vertical-align: middle;\n",
       "    }\n",
       "\n",
       "    .dataframe tbody tr th {\n",
       "        vertical-align: top;\n",
       "    }\n",
       "\n",
       "    .dataframe thead th {\n",
       "        text-align: right;\n",
       "    }\n",
       "</style>\n",
       "<table border=\"1\" class=\"dataframe\">\n",
       "  <thead>\n",
       "    <tr style=\"text-align: right;\">\n",
       "      <th></th>\n",
       "      <th>iso_o_continent</th>\n",
       "      <th>iso_o</th>\n",
       "      <th>year</th>\n",
       "      <th>pop_o</th>\n",
       "      <th>CPI_o</th>\n",
       "      <th>GDP_PP_o</th>\n",
       "      <th>GDP_PPP_o</th>\n",
       "      <th>island_o</th>\n",
       "      <th>area_o</th>\n",
       "      <th>landlocked_o</th>\n",
       "      <th>...</th>\n",
       "      <th>count_events_19_mean</th>\n",
       "      <th>count_events_19_75th</th>\n",
       "      <th>count_events_19_max</th>\n",
       "      <th>count_events_19_log_diff</th>\n",
       "      <th>count_events_20_min</th>\n",
       "      <th>count_events_20_25th</th>\n",
       "      <th>count_events_20_mean</th>\n",
       "      <th>count_events_20_75th</th>\n",
       "      <th>count_events_20_max</th>\n",
       "      <th>count_events_20_log_diff</th>\n",
       "    </tr>\n",
       "  </thead>\n",
       "  <tbody>\n",
       "    <tr>\n",
       "      <th>0</th>\n",
       "      <td>NA</td>\n",
       "      <td>ABW</td>\n",
       "      <td>2005</td>\n",
       "      <td>0.098</td>\n",
       "      <td>3.787</td>\n",
       "      <td>37910.69</td>\n",
       "      <td>0.005</td>\n",
       "      <td>1</td>\n",
       "      <td>193.0</td>\n",
       "      <td>0</td>\n",
       "      <td>...</td>\n",
       "      <td>0.000000</td>\n",
       "      <td>0.004950</td>\n",
       "      <td>0.040000</td>\n",
       "      <td>0.000000</td>\n",
       "      <td>0.0</td>\n",
       "      <td>0.0</td>\n",
       "      <td>0.0</td>\n",
       "      <td>0.0</td>\n",
       "      <td>0.0</td>\n",
       "      <td>0.0</td>\n",
       "    </tr>\n",
       "    <tr>\n",
       "      <th>1</th>\n",
       "      <td>NA</td>\n",
       "      <td>ABW</td>\n",
       "      <td>2006</td>\n",
       "      <td>0.099</td>\n",
       "      <td>2.510</td>\n",
       "      <td>37655.07</td>\n",
       "      <td>0.005</td>\n",
       "      <td>1</td>\n",
       "      <td>193.0</td>\n",
       "      <td>0</td>\n",
       "      <td>...</td>\n",
       "      <td>0.000000</td>\n",
       "      <td>0.000000</td>\n",
       "      <td>0.133333</td>\n",
       "      <td>-0.007277</td>\n",
       "      <td>0.0</td>\n",
       "      <td>0.0</td>\n",
       "      <td>0.0</td>\n",
       "      <td>0.0</td>\n",
       "      <td>0.0</td>\n",
       "      <td>0.0</td>\n",
       "    </tr>\n",
       "    <tr>\n",
       "      <th>2</th>\n",
       "      <td>NA</td>\n",
       "      <td>ABW</td>\n",
       "      <td>2007</td>\n",
       "      <td>0.100</td>\n",
       "      <td>9.920</td>\n",
       "      <td>38530.06</td>\n",
       "      <td>0.005</td>\n",
       "      <td>1</td>\n",
       "      <td>193.0</td>\n",
       "      <td>0</td>\n",
       "      <td>...</td>\n",
       "      <td>0.016556</td>\n",
       "      <td>0.037393</td>\n",
       "      <td>0.076923</td>\n",
       "      <td>0.000917</td>\n",
       "      <td>0.0</td>\n",
       "      <td>0.0</td>\n",
       "      <td>0.0</td>\n",
       "      <td>0.0</td>\n",
       "      <td>0.0</td>\n",
       "      <td>0.0</td>\n",
       "    </tr>\n",
       "    <tr>\n",
       "      <th>3</th>\n",
       "      <td>NA</td>\n",
       "      <td>ABW</td>\n",
       "      <td>2008</td>\n",
       "      <td>0.101</td>\n",
       "      <td>-1.859</td>\n",
       "      <td>38939.16</td>\n",
       "      <td>0.005</td>\n",
       "      <td>1</td>\n",
       "      <td>193.0</td>\n",
       "      <td>0</td>\n",
       "      <td>...</td>\n",
       "      <td>0.000000</td>\n",
       "      <td>0.005774</td>\n",
       "      <td>0.200000</td>\n",
       "      <td>0.001388</td>\n",
       "      <td>0.0</td>\n",
       "      <td>0.0</td>\n",
       "      <td>0.0</td>\n",
       "      <td>0.0</td>\n",
       "      <td>0.0</td>\n",
       "      <td>0.0</td>\n",
       "    </tr>\n",
       "    <tr>\n",
       "      <th>4</th>\n",
       "      <td>NA</td>\n",
       "      <td>ABW</td>\n",
       "      <td>2009</td>\n",
       "      <td>0.102</td>\n",
       "      <td>6.777</td>\n",
       "      <td>34159.06</td>\n",
       "      <td>0.004</td>\n",
       "      <td>1</td>\n",
       "      <td>193.0</td>\n",
       "      <td>0</td>\n",
       "      <td>...</td>\n",
       "      <td>0.011753</td>\n",
       "      <td>0.025073</td>\n",
       "      <td>0.173077</td>\n",
       "      <td>0.011851</td>\n",
       "      <td>0.0</td>\n",
       "      <td>0.0</td>\n",
       "      <td>0.0</td>\n",
       "      <td>0.0</td>\n",
       "      <td>0.0</td>\n",
       "      <td>0.0</td>\n",
       "    </tr>\n",
       "  </tbody>\n",
       "</table>\n",
       "<p>5 rows × 788 columns</p>\n",
       "</div>"
      ],
      "text/plain": [
       "  iso_o_continent iso_o  year  pop_o  CPI_o  GDP_PP_o  GDP_PPP_o  island_o   \n",
       "0              NA   ABW  2005  0.098  3.787  37910.69      0.005         1  \\\n",
       "1              NA   ABW  2006  0.099  2.510  37655.07      0.005         1   \n",
       "2              NA   ABW  2007  0.100  9.920  38530.06      0.005         1   \n",
       "3              NA   ABW  2008  0.101 -1.859  38939.16      0.005         1   \n",
       "4              NA   ABW  2009  0.102  6.777  34159.06      0.004         1   \n",
       "\n",
       "   area_o  landlocked_o  ...  count_events_19_mean  count_events_19_75th   \n",
       "0   193.0             0  ...              0.000000              0.004950  \\\n",
       "1   193.0             0  ...              0.000000              0.000000   \n",
       "2   193.0             0  ...              0.016556              0.037393   \n",
       "3   193.0             0  ...              0.000000              0.005774   \n",
       "4   193.0             0  ...              0.011753              0.025073   \n",
       "\n",
       "   count_events_19_max  count_events_19_log_diff  count_events_20_min   \n",
       "0             0.040000                  0.000000                  0.0  \\\n",
       "1             0.133333                 -0.007277                  0.0   \n",
       "2             0.076923                  0.000917                  0.0   \n",
       "3             0.200000                  0.001388                  0.0   \n",
       "4             0.173077                  0.011851                  0.0   \n",
       "\n",
       "   count_events_20_25th  count_events_20_mean  count_events_20_75th   \n",
       "0                   0.0                   0.0                   0.0  \\\n",
       "1                   0.0                   0.0                   0.0   \n",
       "2                   0.0                   0.0                   0.0   \n",
       "3                   0.0                   0.0                   0.0   \n",
       "4                   0.0                   0.0                   0.0   \n",
       "\n",
       "   count_events_20_max  count_events_20_log_diff  \n",
       "0                  0.0                       0.0  \n",
       "1                  0.0                       0.0  \n",
       "2                  0.0                       0.0  \n",
       "3                  0.0                       0.0  \n",
       "4                  0.0                       0.0  \n",
       "\n",
       "[5 rows x 788 columns]"
      ]
     },
     "execution_count": 91,
     "metadata": {},
     "output_type": "execute_result"
    }
   ],
   "source": [
    "aug_gdelt = pd.merge(aug_1, gdelt, on=[\"iso_o\", \"year\"], how=\"left\")\n",
    "print(aug_gdelt.shape)\n",
    "aug_gdelt.head()\n"
   ]
  },
  {
   "cell_type": "code",
   "execution_count": 92,
   "metadata": {},
   "outputs": [],
   "source": [
    "\n",
    "X_train, X_test, y_train, y_test = model_helpers.train_test_split(aug_gdelt, 'target', test_time_start, test_time_end, 'year')\n"
   ]
  },
  {
   "cell_type": "code",
   "execution_count": 93,
   "metadata": {},
   "outputs": [
    {
     "name": "stdout",
     "output_type": "stream",
     "text": [
      "RMSE outflows - GTrends + UNHCR covariates + Migration: 54234.13672437937\n",
      "Relative RMSE to Naive predictions: 0.8825878147981564\n"
     ]
    }
   ],
   "source": [
    "binary_cols = ['iso_o', 'iso_o_continent','Shift_1_typeOfViolence_o', 'typeOfViolence_o']\n",
    "\n",
    "gb_pipe = model_helpers.pipeline_tree(model=GradientBoostingRegressor(random_state=SEED),\n",
    "                                                                  df=aug_gdelt,\n",
    "                                                                  binary_cols=binary_cols)\n",
    "gb_pipe.fit(X_train, y_train)\n",
    "\n",
    "y_pred = gb_pipe.predict(X_test)\n",
    "y_pred = np.clip(y_pred, 0, None)\n",
    "mse_aug = mean_squared_error(y_test, y_pred, squared=False)\n",
    "\n",
    "print(\"RMSE outflows - GTrends + UNHCR covariates + Migration: \" + str(mse_aug))\n",
    "print(\"Relative RMSE to Naive predictions: \" + str(mse_aug/mse_naive))\n"
   ]
  },
  {
   "cell_type": "code",
   "execution_count": 94,
   "metadata": {},
   "outputs": [
    {
     "data": {
      "image/png": "[encoded data removed]",
      "text/plain": [
       "<Figure size 640x480 with 1 Axes>"
      ]
     },
     "metadata": {},
     "output_type": "display_data"
    }
   ],
   "source": [
    "numerical_cols = list(set(aug_gdelt.columns) - set(binary_cols  + ['year', 'target']))\n",
    "\n",
    "importances = gb_pipe.named_steps['rf'].feature_importances_\n",
    "\n",
    "# Get column names from ColumnTransformer object\n",
    "column_names = list(gb_pipe.named_steps['preprocessing'].transformers_[0][1].get_feature_names_out()) + numerical_cols\n",
    "\n",
    "\n",
    "# Map feature importances to column names\n",
    "feature_importances = dict(zip(column_names, importances))\n",
    "\n",
    "indexes = model_helpers.feature_imp_more(feature_importances)\n"
   ]
  },
  {
   "cell_type": "code",
   "execution_count": 95,
   "metadata": {},
   "outputs": [
    {
     "name": "stderr",
     "output_type": "stream",
     "text": [
      "C:\\Users\\danid\\AppData\\Local\\Temp\\ipykernel_49580\\980089077.py:2: SettingWithCopyWarning: \n",
      "A value is trying to be set on a copy of a slice from a DataFrame.\n",
      "Try using .loc[row_indexer,col_indexer] = value instead\n",
      "\n",
      "See the caveats in the documentation: https://pandas.pydata.org/pandas-docs/stable/user_guide/indexing.html#returning-a-view-versus-a-copy\n",
      "  ind[\"y_pred_aug_gdelt\"]=y_pred\n"
     ]
    }
   ],
   "source": [
    "ind = X_test[[\"iso_o\", \"year\"]]\n",
    "ind[\"y_pred_aug_gdelt\"]=y_pred\n",
    "\n",
    "predictions_merged = pd.merge(predictions_merged, ind, on=[\"iso_o\", \"year\"], how=\"left\")\n",
    "\n",
    "\n",
    "# Compute RMSE for each row\n",
    "predictions_merged['GB_error_aug_gdelt'] = np.sqrt((predictions_merged['y_test'] - predictions_merged['y_pred_aug_gdelt']) ** 2)\n",
    "\n"
   ]
  },
  {
   "attachments": {},
   "cell_type": "markdown",
   "metadata": {},
   "source": [
    "### Rolling window GDELT"
   ]
  },
  {
   "cell_type": "code",
   "execution_count": 96,
   "metadata": {},
   "outputs": [],
   "source": [
    "X_train_list, X_test_list, y_train_list, y_test_list = model_helpers.train_test_split_rw(aug_gdelt, 'target', test_time_start, test_time_end, 'year')"
   ]
  },
  {
   "cell_type": "code",
   "execution_count": 97,
   "metadata": {},
   "outputs": [
    {
     "name": "stdout",
     "output_type": "stream",
     "text": [
      "*********\n",
      "Year: 2019\n",
      "X_train uses data until: 2017\n",
      "RMSE outflows - migration covariates: 56053.62627825722\n",
      "Relative RMSE to Naive predictions: 0.706581514623819\n",
      "*********\n",
      "Year: 2020\n",
      "X_train uses data until: 2018\n",
      "RMSE outflows - migration covariates: 74958.18163190245\n",
      "Relative RMSE to Naive predictions: 1.082248714679574\n",
      "*********\n",
      "Year: 2021\n",
      "X_train uses data until: 2019\n",
      "RMSE outflows - migration covariates: 35479.62116852539\n",
      "Relative RMSE to Naive predictions: 2.302626287249734\n"
     ]
    }
   ],
   "source": [
    "mse_gdelt_dict = {}\n",
    "predictions_list = []\n",
    "\n",
    "# Iterate over the test sets for each year\n",
    "for year, X_train, X_test, y_train, y_test in zip(range(test_time_start, test_time_end + 1), X_train_list, X_test_list, y_train_list, y_test_list):\n",
    "\n",
    "    gb_pipe.fit(X_train, y_train)\n",
    "\n",
    "    y_pred = gb_pipe.predict(X_test)\n",
    "    y_pred = np.clip(y_pred, 0, None)\n",
    "    mse_gdelt_year = mean_squared_error(y_test, y_pred, squared=False)\n",
    "\n",
    "    mse_gdelt_dict[year+1] = mse_gdelt_year\n",
    "\n",
    "    print(\"*********\")\n",
    "    print(\"Year: \" + str(year+1))\n",
    "    print(\"X_train uses data until: \" + str(X_train.year.max()))\n",
    "    print(\"RMSE outflows - migration covariates: \" + str(mse_gdelt_year))\n",
    "    print(\"Relative RMSE to Naive predictions: \" + str(mse_gdelt_year / mse_naive_dict[year+1]))\n",
    "\n",
    "    # Store predicted values in DataFrame\n",
    "    predictions_list.append(pd.DataFrame({\"year\": [year+1] * len(X_test),\n",
    "                                            \"iso_o\": X_test[\"iso_o\"].values,\n",
    "                                            \"y_pred_gdelt_rw\": y_pred}))\n",
    "\n",
    "    # Concatenate DataFrames from the list\n",
    "    predictions_df_gdelt = pd.concat(predictions_list, ignore_index=True)"
   ]
  },
  {
   "cell_type": "code",
   "execution_count": 98,
   "metadata": {},
   "outputs": [
    {
     "data": {
      "text/plain": [
       "0.9404776800134409"
      ]
     },
     "execution_count": 98,
     "metadata": {},
     "output_type": "execute_result"
    }
   ],
   "source": [
    "predictions_merged = pd.merge(predictions_merged, predictions_df_gdelt, on=[\"iso_o\", \"year\"], how=\"left\")\n",
    "mean_squared_error(y_true=predictions_merged.y_test, y_pred=predictions_merged.y_pred_gdelt_rw, squared=False)/mse_naive"
   ]
  },
  {
   "attachments": {},
   "cell_type": "markdown",
   "metadata": {},
   "source": [
    "With log transformation of Y:"
   ]
  },
  {
   "cell_type": "code",
   "execution_count": 99,
   "metadata": {},
   "outputs": [
    {
     "name": "stdout",
     "output_type": "stream",
     "text": [
      "RMSE outflows - GTrends + UNHCR covariates + GDELT: 44873.3480110219\n",
      "Relative RMSE to Naive predictions: 0.7302535369005311\n"
     ]
    }
   ],
   "source": [
    "X_train, X_test, y_train, y_test = model_helpers.train_test_split(aug_gdelt, 'target', test_time_start, test_time_end, 'year')\n",
    "\n",
    "# Add a small constant to handle zero values\n",
    "epsilon = 1e-8\n",
    "y_train_log = np.log(y_train + epsilon)\n",
    "\n",
    "gb_pipe.fit(X_train, y_train_log)\n",
    "\n",
    "# Predict on test set and transform back to original scale\n",
    "y_pred_log = gb_pipe.predict(X_test)\n",
    "y_pred = np.exp(y_pred_log) \n",
    "\n",
    "mse_aug_gdelt = mean_squared_error(y_test, y_pred, squared=False)\n",
    "\n",
    "print(\"RMSE outflows - GTrends + UNHCR covariates + GDELT: \" + str(mse_aug_gdelt))\n",
    "print(\"Relative RMSE to Naive predictions: \" + str(mse_aug_gdelt / mse_naive))"
   ]
  },
  {
   "attachments": {},
   "cell_type": "markdown",
   "metadata": {},
   "source": [
    "With rolling window:"
   ]
  },
  {
   "cell_type": "code",
   "execution_count": 100,
   "metadata": {},
   "outputs": [],
   "source": [
    "binary_cols = ['iso_o', 'iso_o_continent','Shift_1_typeOfViolence_o', 'typeOfViolence_o']\n",
    "\n",
    "gb_pipe = model_helpers.pipeline_tree(model=GradientBoostingRegressor(random_state=SEED),\n",
    "                                                                  df=aug_gdelt,\n",
    "                                                                  binary_cols=binary_cols)\n",
    "\n",
    "X_train_list, X_test_list, y_train_list, y_test_list = model_helpers.train_test_split_rw(aug_gdelt, 'target', test_time_start, test_time_end, 'year')"
   ]
  },
  {
   "cell_type": "code",
   "execution_count": 101,
   "metadata": {},
   "outputs": [
    {
     "name": "stdout",
     "output_type": "stream",
     "text": [
      "*********\n",
      "Year: 2019\n",
      "X_train uses data until: 2017\n",
      "RMSE outflows - migration + gdelt covariates: 55180.091622754924\n",
      "Relative RMSE to Naive predictions: 0.6955702120383763\n",
      "*********\n",
      "Year: 2020\n",
      "X_train uses data until: 2018\n",
      "RMSE outflows - migration + gdelt covariates: 29893.674635349456\n",
      "Relative RMSE to Naive predictions: 0.4316058667221865\n",
      "*********\n",
      "Year: 2021\n",
      "X_train uses data until: 2019\n",
      "RMSE outflows - migration + gdelt covariates: 42798.97807668444\n",
      "Relative RMSE to Naive predictions: 2.777652318177066\n"
     ]
    }
   ],
   "source": [
    "mse_gdelt_log_dict = {}\n",
    "predictions_list = []\n",
    "\n",
    "# Iterate over the test sets for each year\n",
    "for year, X_train, X_test, y_train, y_test in zip(range(test_time_start, test_time_end + 1), X_train_list, X_test_list, y_train_list, y_test_list):\n",
    "\n",
    "\n",
    "    epsilon = 1e-8\n",
    "    y_train_log = np.log(y_train + epsilon)\n",
    "\n",
    "    gb_pipe.fit(X_train, y_train_log)\n",
    "\n",
    "    # Predict on test set and transform back to original scale\n",
    "    y_pred_log = gb_pipe.predict(X_test)\n",
    "    y_pred = np.exp(y_pred_log) \n",
    "    \n",
    "    mse_gdelt_log_year = mean_squared_error(y_test, y_pred, squared=False)\n",
    "\n",
    "    mse_gdelt_log_dict[year+1] = mse_gdelt_log_year\n",
    "\n",
    "    print(\"*********\")\n",
    "    print(\"Year: \" + str(year+1))\n",
    "    print(\"X_train uses data until: \" + str(X_train.year.max()))\n",
    "    print(\"RMSE outflows - migration + gdelt covariates: \" + str(mse_gdelt_log_year))\n",
    "    print(\"Relative RMSE to Naive predictions: \" + str(mse_gdelt_log_year / mse_naive_dict[year+1]))\n",
    "\n",
    "    # Store predicted values in DataFrame\n",
    "    predictions_list.append(pd.DataFrame({\"year\": [year+1] * len(X_test),\n",
    "                                            \"iso_o\": X_test[\"iso_o\"].values,\n",
    "                                            \"y_pred_gdelt_log_rw\": y_pred}))\n",
    "\n",
    "    # Concatenate DataFrames from the list\n",
    "    predictions_df_gdelt_log = pd.concat(predictions_list, ignore_index=True)"
   ]
  },
  {
   "cell_type": "code",
   "execution_count": 103,
   "metadata": {},
   "outputs": [
    {
     "data": {
      "text/plain": [
       "0.713708732708016"
      ]
     },
     "execution_count": 103,
     "metadata": {},
     "output_type": "execute_result"
    }
   ],
   "source": [
    "predictions_merged = pd.merge(predictions_merged, predictions_df_gdelt_log, on=[\"iso_o\", \"year\"], how=\"left\")\n",
    "mean_squared_error(y_true=predictions_merged.y_test, y_pred=predictions_merged.y_pred_gdelt_log_rw, squared=False)/mse_naive"
   ]
  },
  {
   "attachments": {},
   "cell_type": "markdown",
   "metadata": {},
   "source": [
    "Adding conflict covariates"
   ]
  },
  {
   "cell_type": "code",
   "execution_count": 104,
   "metadata": {},
   "outputs": [],
   "source": [
    "conflict = pd.read_csv(path + 'mueller_conflict_forecasts.csv')\n",
    "\n",
    "conflict = conflict.drop(columns=['ons_armedconf12_pred_jut_x',\n",
    "       'ons_armedconf12_pred_jut_y', 'lnbest_pc_12_pred_jut'])\n",
    "\n",
    "# apply this to conflict data\n",
    "conflict = conflict.groupby(['isocode', 'year'])[['ons_armedconf12_pred_top_x', 'ons_armedconf12_pred_aug_x', \n",
    "                                                   'ons_armedconf12_pred_top_y', 'ons_armedconf12_pred_aug_y', \n",
    "                                                  'lnbest_pc_12_pred_top', 'lnbest_pc_12_pred_aug']].agg(agg_year)\n",
    "\n",
    "conflict = split_df(conflict)\n",
    "\n",
    "\n",
    "conflict = conflict.reset_index()\n",
    "conflict = conflict.rename(columns={'isocode': 'iso_o'})\n",
    "\n"
   ]
  },
  {
   "cell_type": "code",
   "execution_count": 109,
   "metadata": {},
   "outputs": [
    {
     "name": "stdout",
     "output_type": "stream",
     "text": [
      "(3332, 824)\n"
     ]
    }
   ],
   "source": [
    "aug_conflict = pd.merge(aug_gdelt, conflict, on=[\"iso_o\", \"year\"], how=\"left\")\n",
    "print(aug_conflict.shape)\n",
    "aug_conflict.head()\n",
    "\n",
    "X_train, X_test, y_train, y_test = model_helpers.train_test_split(aug_conflict, 'target', test_time_start, test_time_end, 'year')"
   ]
  },
  {
   "cell_type": "code",
   "execution_count": 110,
   "metadata": {},
   "outputs": [
    {
     "name": "stdout",
     "output_type": "stream",
     "text": [
      "RMSE outflows - GTrends + UNHCR covariates + GDELT + Conflict: 45767.04319869106\n",
      "Relative RMSE to Naive predictions: 0.7447972271004709\n"
     ]
    }
   ],
   "source": [
    "binary_cols = ['iso_o', 'iso_o_continent','Shift_1_typeOfViolence_o', 'typeOfViolence_o']\n",
    "\n",
    "gb_pipe = model_helpers.pipeline_tree(model=GradientBoostingRegressor(random_state=SEED),\n",
    "                                                                  df=aug_conflict,\n",
    "                                                                  binary_cols=binary_cols)\n",
    "gb_pipe.fit(X_train, y_train)\n",
    "\n",
    "y_pred = gb_pipe.predict(X_test)\n",
    "y_pred = np.clip(y_pred, 0, None)\n",
    "mse_aug_conflict = mean_squared_error(y_test, y_pred, squared=False)\n",
    "\n",
    "print(\"RMSE outflows - GTrends + UNHCR covariates + GDELT + Conflict: \" + str(mse_aug_conflict))\n",
    "print(\"Relative RMSE to Naive predictions: \" + str(mse_aug_conflict/mse_naive))\n"
   ]
  },
  {
   "cell_type": "code",
   "execution_count": 123,
   "metadata": {},
   "outputs": [
    {
     "name": "stdout",
     "output_type": "stream",
     "text": [
      "*********\n",
      "Year: 2019\n",
      "X_train uses data until: 2017\n",
      "RMSE outflows + conflict covariates: 50242.60018565801\n",
      "Relative RMSE to Naive predictions: 0.633330881424019\n",
      "*********\n",
      "Year: 2020\n",
      "X_train uses data until: 2018\n",
      "RMSE outflows + conflict covariates: 64988.87702495413\n",
      "Relative RMSE to Naive predictions: 0.9383115638278914\n",
      "*********\n",
      "Year: 2021\n",
      "X_train uses data until: 2019\n",
      "RMSE outflows + conflict covariates: 35850.900389227696\n",
      "Relative RMSE to Naive predictions: 2.3267222968840513\n"
     ]
    }
   ],
   "source": [
    "\n",
    "X_train_list, X_test_list, y_train_list, y_test_list = model_helpers.train_test_split_rw(aug_conflict, 'target', test_time_start, test_time_end, 'year')\n",
    "\n",
    "\n",
    "mse_conflict_dict = {}\n",
    "predictions_list = []\n",
    "\n",
    "# Iterate over the test sets for each year\n",
    "for year, X_train, X_test, y_train, y_test in zip(range(test_time_start, test_time_end + 1), X_train_list, X_test_list, y_train_list, y_test_list):\n",
    "\n",
    "\n",
    "    gb_pipe.fit(X_train, y_train)\n",
    "\n",
    "    y_pred = gb_pipe.predict(X_test)\n",
    "    y_pred = np.clip(y_pred, 0, None)\n",
    "    \n",
    "    mse_conflict_year = mean_squared_error(y_test, y_pred, squared=False)\n",
    "\n",
    "    mse_conflict_dict[year+1] = mse_conflict_year\n",
    "\n",
    "    print(\"*********\")\n",
    "    print(\"Year: \" + str(year+1))\n",
    "    print(\"X_train uses data until: \" + str(X_train.year.max()))\n",
    "    print(\"RMSE outflows + conflict covariates: \" + str(mse_conflict_year))\n",
    "    print(\"Relative RMSE to Naive predictions: \" + str(mse_conflict_year / mse_naive_dict[year+1]))\n",
    "\n",
    "    # Store predicted values in DataFrame\n",
    "    predictions_list.append(pd.DataFrame({\"year\": [year+1] * len(X_test),\n",
    "                                            \"iso_o\": X_test[\"iso_o\"].values,\n",
    "                                            \"y_pred_conflict_rw\": y_pred}))\n",
    "\n",
    "    # Concatenate DataFrames from the list\n",
    "    predictions_df_conflict_log = pd.concat(predictions_list, ignore_index=True)"
   ]
  },
  {
   "cell_type": "code",
   "execution_count": 124,
   "metadata": {},
   "outputs": [
    {
     "data": {
      "text/plain": [
       "0.8421079717762949"
      ]
     },
     "execution_count": 124,
     "metadata": {},
     "output_type": "execute_result"
    }
   ],
   "source": [
    "predictions_merged = pd.merge(predictions_merged, predictions_df_conflict_log, on=[\"iso_o\", \"year\"], how=\"left\")\n",
    "mean_squared_error(y_true=predictions_merged.y_test, y_pred=predictions_merged.y_pred_conflict_rw, squared=False)/mse_naive"
   ]
  },
  {
   "cell_type": "code",
   "execution_count": 111,
   "metadata": {},
   "outputs": [
    {
     "name": "stdout",
     "output_type": "stream",
     "text": [
      "*********\n",
      "Year: 2019\n",
      "X_train uses data until: 2017\n",
      "RMSE outflows - migration + conflict covariates: 40570.143183168824\n",
      "Relative RMSE to Naive predictions: 0.511405151141631\n",
      "*********\n",
      "Year: 2020\n",
      "X_train uses data until: 2018\n",
      "RMSE outflows - migration + conflict covariates: 23064.232017795413\n",
      "Relative RMSE to Naive predictions: 0.3330021475028282\n",
      "*********\n",
      "Year: 2021\n",
      "X_train uses data until: 2019\n",
      "RMSE outflows - migration + conflict covariates: 43768.6848944234\n",
      "Relative RMSE to Naive predictions: 2.8405862598571376\n"
     ]
    }
   ],
   "source": [
    "\n",
    "X_train_list, X_test_list, y_train_list, y_test_list = model_helpers.train_test_split_rw(aug_conflict, 'target', test_time_start, test_time_end, 'year')\n",
    "\n",
    "\n",
    "mse_conflict_log_dict = {}\n",
    "predictions_list = []\n",
    "\n",
    "# Iterate over the test sets for each year\n",
    "for year, X_train, X_test, y_train, y_test in zip(range(test_time_start, test_time_end + 1), X_train_list, X_test_list, y_train_list, y_test_list):\n",
    "\n",
    "\n",
    "    epsilon = 1e-8\n",
    "    y_train_log = np.log(y_train + epsilon)\n",
    "\n",
    "    gb_pipe.fit(X_train, y_train_log)\n",
    "\n",
    "    # Predict on test set and transform back to original scale\n",
    "    y_pred_log = gb_pipe.predict(X_test)\n",
    "    y_pred = np.exp(y_pred_log) \n",
    "    \n",
    "    mse_conflict_log_year = mean_squared_error(y_test, y_pred, squared=False)\n",
    "\n",
    "    mse_conflict_log_dict[year+1] = mse_conflict_log_year\n",
    "\n",
    "    print(\"*********\")\n",
    "    print(\"Year: \" + str(year+1))\n",
    "    print(\"X_train uses data until: \" + str(X_train.year.max()))\n",
    "    print(\"RMSE outflows - migration + conflict covariates: \" + str(mse_conflict_log_year))\n",
    "    print(\"Relative RMSE to Naive predictions: \" + str(mse_conflict_log_year / mse_naive_dict[year+1]))\n",
    "\n",
    "    # Store predicted values in DataFrame\n",
    "    predictions_list.append(pd.DataFrame({\"year\": [year+1] * len(X_test),\n",
    "                                            \"iso_o\": X_test[\"iso_o\"].values,\n",
    "                                            \"y_pred_conflict_log_rw\": y_pred}))\n",
    "\n",
    "    # Concatenate DataFrames from the list\n",
    "    predictions_df_conflict_log = pd.concat(predictions_list, ignore_index=True)"
   ]
  },
  {
   "cell_type": "code",
   "execution_count": 112,
   "metadata": {},
   "outputs": [],
   "source": [
    "predictions_merged = predictions_merged.drop(columns=[\"y_pred_conflict_log_rw\"])"
   ]
  },
  {
   "cell_type": "code",
   "execution_count": 113,
   "metadata": {},
   "outputs": [
    {
     "data": {
      "text/plain": [
       "0.6011417673802302"
      ]
     },
     "execution_count": 113,
     "metadata": {},
     "output_type": "execute_result"
    }
   ],
   "source": [
    "predictions_merged = pd.merge(predictions_merged, predictions_df_conflict_log, on=[\"iso_o\", \"year\"], how=\"left\")\n",
    "mean_squared_error(y_true=predictions_merged.y_test, y_pred=predictions_merged.y_pred_conflict_log_rw, squared=False)/mse_naive"
   ]
  },
  {
   "cell_type": "code",
   "execution_count": 125,
   "metadata": {},
   "outputs": [
    {
     "data": {
      "text/html": [
       "<div>\n",
       "<style scoped>\n",
       "    .dataframe tbody tr th:only-of-type {\n",
       "        vertical-align: middle;\n",
       "    }\n",
       "\n",
       "    .dataframe tbody tr th {\n",
       "        vertical-align: top;\n",
       "    }\n",
       "\n",
       "    .dataframe thead th {\n",
       "        text-align: right;\n",
       "    }\n",
       "</style>\n",
       "<table border=\"1\" class=\"dataframe\">\n",
       "  <thead>\n",
       "    <tr style=\"text-align: right;\">\n",
       "      <th></th>\n",
       "      <th>Naive</th>\n",
       "      <th>UNHCR</th>\n",
       "      <th>GTrends</th>\n",
       "      <th>Augmented: UNHCR+GTrends</th>\n",
       "      <th>Augmented 2: Aug + Migration</th>\n",
       "      <th>Augmented 3: Aug2 + GDELT</th>\n",
       "      <th>Aug2 (log)</th>\n",
       "      <th>Aug3 (log)</th>\n",
       "      <th>Aug4: Aug3 + Conflict</th>\n",
       "      <th>Aug4 (log)</th>\n",
       "    </tr>\n",
       "  </thead>\n",
       "  <tbody>\n",
       "    <tr>\n",
       "      <th>2019</th>\n",
       "      <td>79330.728470</td>\n",
       "      <td>58785.067746</td>\n",
       "      <td>112396.258926</td>\n",
       "      <td>78786.540282</td>\n",
       "      <td>64825.685461</td>\n",
       "      <td>56053.626278</td>\n",
       "      <td>70604.365665</td>\n",
       "      <td>55180.091623</td>\n",
       "      <td>50242.600186</td>\n",
       "      <td>40570.143183</td>\n",
       "    </tr>\n",
       "    <tr>\n",
       "      <th>2020</th>\n",
       "      <td>69261.511347</td>\n",
       "      <td>56691.856864</td>\n",
       "      <td>29277.079762</td>\n",
       "      <td>41439.915597</td>\n",
       "      <td>76588.948069</td>\n",
       "      <td>74958.181632</td>\n",
       "      <td>10084.176211</td>\n",
       "      <td>29893.674635</td>\n",
       "      <td>64988.877025</td>\n",
       "      <td>23064.232018</td>\n",
       "    </tr>\n",
       "    <tr>\n",
       "      <th>2021</th>\n",
       "      <td>15408.328032</td>\n",
       "      <td>29037.804064</td>\n",
       "      <td>37536.570999</td>\n",
       "      <td>32343.168179</td>\n",
       "      <td>45008.705259</td>\n",
       "      <td>35479.621169</td>\n",
       "      <td>40099.242384</td>\n",
       "      <td>42798.978077</td>\n",
       "      <td>35850.900389</td>\n",
       "      <td>43768.684894</td>\n",
       "    </tr>\n",
       "  </tbody>\n",
       "</table>\n",
       "</div>"
      ],
      "text/plain": [
       "             Naive         UNHCR        GTrends  Augmented: UNHCR+GTrends   \n",
       "2019  79330.728470  58785.067746  112396.258926              78786.540282  \\\n",
       "2020  69261.511347  56691.856864   29277.079762              41439.915597   \n",
       "2021  15408.328032  29037.804064   37536.570999              32343.168179   \n",
       "\n",
       "      Augmented 2: Aug + Migration  Augmented 3: Aug2 + GDELT    Aug2 (log)   \n",
       "2019                  64825.685461               56053.626278  70604.365665  \\\n",
       "2020                  76588.948069               74958.181632  10084.176211   \n",
       "2021                  45008.705259               35479.621169  40099.242384   \n",
       "\n",
       "        Aug3 (log)  Aug4: Aug3 + Conflict    Aug4 (log)  \n",
       "2019  55180.091623           50242.600186  40570.143183  \n",
       "2020  29893.674635           64988.877025  23064.232018  \n",
       "2021  42798.978077           35850.900389  43768.684894  "
      ]
     },
     "execution_count": 125,
     "metadata": {},
     "output_type": "execute_result"
    }
   ],
   "source": [
    "# Combine dictionaries into a single dictionary\n",
    "combined_dict = {\n",
    "    'Naive': mse_naive_dict,\n",
    "    'UNHCR': mse_unhcr_dict,\n",
    "    'GTrends': mse_gtrends_dict,\n",
    "    'Augmented: UNHCR+GTrends': mse_aug_dict,\n",
    "    'Augmented 2: Aug + Migration': mse_mig_dict,\n",
    "    'Augmented 3: Aug2 + GDELT': mse_gdelt_dict,\n",
    "    'Aug2 (log)': mse_mig_log_dict,\n",
    "    'Aug3 (log)': mse_gdelt_log_dict,\n",
    "    'Aug4: Aug3 + Conflict': mse_conflict_dict,\n",
    "    'Aug4 (log)': mse_conflict_log_dict\n",
    "}\n",
    "\n",
    "# Create a DataFrame from the combined dictionary\n",
    "mse_df = pd.DataFrame.from_dict(combined_dict)\n",
    "\n",
    "# Print the DataFrame\n",
    "mse_df\n",
    "\n",
    "\n"
   ]
  },
  {
   "cell_type": "code",
   "execution_count": 126,
   "metadata": {},
   "outputs": [
    {
     "data": {
      "image/png": "[encoded data removed]",
      "text/plain": [
       "<Figure size 1000x600 with 1 Axes>"
      ]
     },
     "metadata": {},
     "output_type": "display_data"
    }
   ],
   "source": [
    "# Reset the index\n",
    "mse_df_reset = mse_df.reset_index()\n",
    "\n",
    "# Plotting the bar chart\n",
    "mse_df_reset.plot.bar(x='index', figsize=(10, 6))\n",
    "\n",
    "# Set the labels and title\n",
    "plt.xlabel('Year')\n",
    "plt.ylabel('RMSE')\n",
    "plt.title('RMSE by Year')\n",
    "\n",
    "# Rotate the x-axis labels if needed\n",
    "plt.xticks(rotation=45)\n",
    "\n",
    "# Display the plot\n",
    "plt.show()\n"
   ]
  },
  {
   "cell_type": "code",
   "execution_count": 127,
   "metadata": {},
   "outputs": [],
   "source": [
    "relative_mse = mse_df.div(mse_df['Naive'], axis=0)"
   ]
  },
  {
   "cell_type": "code",
   "execution_count": 128,
   "metadata": {},
   "outputs": [
    {
     "data": {
      "text/html": [
       "<div>\n",
       "<style scoped>\n",
       "    .dataframe tbody tr th:only-of-type {\n",
       "        vertical-align: middle;\n",
       "    }\n",
       "\n",
       "    .dataframe tbody tr th {\n",
       "        vertical-align: top;\n",
       "    }\n",
       "\n",
       "    .dataframe thead th {\n",
       "        text-align: right;\n",
       "    }\n",
       "</style>\n",
       "<table border=\"1\" class=\"dataframe\">\n",
       "  <thead>\n",
       "    <tr style=\"text-align: right;\">\n",
       "      <th></th>\n",
       "      <th>Naive</th>\n",
       "      <th>UNHCR</th>\n",
       "      <th>GTrends</th>\n",
       "      <th>Augmented: UNHCR+GTrends</th>\n",
       "      <th>Augmented 2: Aug + Migration</th>\n",
       "      <th>Augmented 3: Aug2 + GDELT</th>\n",
       "      <th>Aug2 (log)</th>\n",
       "      <th>Aug3 (log)</th>\n",
       "      <th>Aug4: Aug3 + Conflict</th>\n",
       "      <th>Aug4 (log)</th>\n",
       "    </tr>\n",
       "  </thead>\n",
       "  <tbody>\n",
       "    <tr>\n",
       "      <th>2019</th>\n",
       "      <td>1.0</td>\n",
       "      <td>0.741013</td>\n",
       "      <td>1.416806</td>\n",
       "      <td>0.993140</td>\n",
       "      <td>0.817157</td>\n",
       "      <td>0.706582</td>\n",
       "      <td>0.890000</td>\n",
       "      <td>0.695570</td>\n",
       "      <td>0.633331</td>\n",
       "      <td>0.511405</td>\n",
       "    </tr>\n",
       "    <tr>\n",
       "      <th>2020</th>\n",
       "      <td>1.0</td>\n",
       "      <td>0.818519</td>\n",
       "      <td>0.422703</td>\n",
       "      <td>0.598311</td>\n",
       "      <td>1.105794</td>\n",
       "      <td>1.082249</td>\n",
       "      <td>0.145596</td>\n",
       "      <td>0.431606</td>\n",
       "      <td>0.938312</td>\n",
       "      <td>0.333002</td>\n",
       "    </tr>\n",
       "    <tr>\n",
       "      <th>2021</th>\n",
       "      <td>1.0</td>\n",
       "      <td>1.884553</td>\n",
       "      <td>2.436122</td>\n",
       "      <td>2.099071</td>\n",
       "      <td>2.921064</td>\n",
       "      <td>2.302626</td>\n",
       "      <td>2.602440</td>\n",
       "      <td>2.777652</td>\n",
       "      <td>2.326722</td>\n",
       "      <td>2.840586</td>\n",
       "    </tr>\n",
       "  </tbody>\n",
       "</table>\n",
       "</div>"
      ],
      "text/plain": [
       "      Naive     UNHCR   GTrends  Augmented: UNHCR+GTrends   \n",
       "2019    1.0  0.741013  1.416806                  0.993140  \\\n",
       "2020    1.0  0.818519  0.422703                  0.598311   \n",
       "2021    1.0  1.884553  2.436122                  2.099071   \n",
       "\n",
       "      Augmented 2: Aug + Migration  Augmented 3: Aug2 + GDELT  Aug2 (log)   \n",
       "2019                      0.817157                   0.706582    0.890000  \\\n",
       "2020                      1.105794                   1.082249    0.145596   \n",
       "2021                      2.921064                   2.302626    2.602440   \n",
       "\n",
       "      Aug3 (log)  Aug4: Aug3 + Conflict  Aug4 (log)  \n",
       "2019    0.695570               0.633331    0.511405  \n",
       "2020    0.431606               0.938312    0.333002  \n",
       "2021    2.777652               2.326722    2.840586  "
      ]
     },
     "execution_count": 128,
     "metadata": {},
     "output_type": "execute_result"
    }
   ],
   "source": [
    "relative_mse"
   ]
  },
  {
   "cell_type": "code",
   "execution_count": 129,
   "metadata": {},
   "outputs": [
    {
     "data": {
      "image/png": "[encoded data removed]",
      "text/plain": [
       "<Figure size 1000x600 with 1 Axes>"
      ]
     },
     "metadata": {},
     "output_type": "display_data"
    }
   ],
   "source": [
    "# Reset the index\n",
    "relative_mse_reset = relative_mse.reset_index()\n",
    "\n",
    "# Plotting the bar chart\n",
    "relative_mse_reset.plot.bar(x='index', figsize=(10, 6))\n",
    "\n",
    "# Set the labels and title\n",
    "plt.xlabel('Year')\n",
    "plt.ylabel('RMSE')\n",
    "plt.title('Relative RMSE by Year')\n",
    "\n",
    "# Rotate the x-axis labels if needed\n",
    "plt.xticks(rotation=45)\n",
    "\n",
    "# Display the plot\n",
    "plt.show()"
   ]
  },
  {
   "cell_type": "code",
   "execution_count": 130,
   "metadata": {},
   "outputs": [
    {
     "data": {
      "text/plain": [
       "Index(['iso_o', 'year', 'y_test', 'y_naive', 'y_unhcr', 'y_pred_tw',\n",
       "       'naive_error', 'RF_error_trends', 'y_pred_aug', 'GB_error_aug',\n",
       "       'RF_error_unhcr', 'actual_range', 'y_pred_unhcr_rw',\n",
       "       'y_pred_gtrends_rw', 'y_pred_aug_rw_x', 'y_pred_aug_rw_y',\n",
       "       'y_pred_mig_rw', 'y_pred_mig_rw_log', 'y_pred_aug_gdelt',\n",
       "       'GB_error_aug_gdelt', 'y_pred_gdelt_rw', 'y_pred_gdelt_log_rw',\n",
       "       'y_pred_conflict_log_rw', 'Aug3_error_log', 'Aug3_error',\n",
       "       'y_pred_conflict_rw'],\n",
       "      dtype='object')"
      ]
     },
     "execution_count": 130,
     "metadata": {},
     "output_type": "execute_result"
    }
   ],
   "source": [
    "predictions_merged.columns"
   ]
  },
  {
   "attachments": {},
   "cell_type": "markdown",
   "metadata": {},
   "source": [
    "How biased are the estimates? Aug 4 + log"
   ]
  },
  {
   "cell_type": "code",
   "execution_count": 131,
   "metadata": {},
   "outputs": [
    {
     "data": {
      "image/png": "[encoded data removed]",
      "text/plain": [
       "<Figure size 1200x400 with 3 Axes>"
      ]
     },
     "metadata": {},
     "output_type": "display_data"
    }
   ],
   "source": [
    "fig, axes = plt.subplots(1, 3, figsize=(12, 4))\n",
    "\n",
    "years = predictions_merged['year'].unique()\n",
    "\n",
    "for i, year in enumerate(years):\n",
    "    ax = axes.flatten()[i]\n",
    "    data = predictions_merged[predictions_merged['year'] == year]\n",
    "    \n",
    "    # Plot the scatterplot for the current year\n",
    "    sns.scatterplot(data=data, x='y_pred_conflict_log_rw', y='y_test', ax=ax)\n",
    "    ax.set_xlabel('GB predictions')\n",
    "    ax.set_ylabel('True values')\n",
    "    ax.set_title(f'GB predictions (augmented) vs actual values ({year})')\n",
    "    ax.set_xscale('log')\n",
    "    ax.set_yscale('log')\n",
    "\n",
    "    # Set the lower limits of the x and y axes to 1\n",
    "    ax.set_xlim(left=1)\n",
    "    ax.set_ylim(bottom=1)\n",
    "\n",
    "    # Get the maximum value from x and y axes\n",
    "    max_val = max(data['y_test'].max(), data['y_pred_conflict_log_rw'].max())\n",
    "\n",
    "    # Create the diagonal line coordinates\n",
    "    diagonal_line = np.linspace(0, max_val, 100)\n",
    "\n",
    "    # Fill the area below the diagonal line in the current subplot\n",
    "    ax.fill_between(diagonal_line, 0, diagonal_line,\n",
    "                      where=diagonal_line >= 0,\n",
    "                      interpolate=True,\n",
    "                      color='gray', alpha=0.5)\n",
    "\n",
    "# Adjust the layout and display the plot\n",
    "plt.tight_layout()\n",
    "plt.show()\n"
   ]
  },
  {
   "attachments": {},
   "cell_type": "markdown",
   "metadata": {},
   "source": [
    "Comparing aug 3 (levels/logs)"
   ]
  },
  {
   "cell_type": "code",
   "execution_count": 132,
   "metadata": {},
   "outputs": [
    {
     "data": {
      "image/png": "[encoded data removed]",
      "text/plain": [
       "<Figure size 1200x600 with 2 Axes>"
      ]
     },
     "metadata": {},
     "output_type": "display_data"
    }
   ],
   "source": [
    "fig, axes = plt.subplots(1, 2, figsize=(12, 6))\n",
    "\n",
    "# Plot the first subplot\n",
    "sns.scatterplot(data=predictions_merged, x='y_pred_conflict_rw', y='y_test', ax=axes[0])\n",
    "axes[0].set_xlabel('Aug 4 predictions (levels)')\n",
    "axes[0].set_ylabel('True values')\n",
    "axes[0].set_title('Aug 4 predictions (levels) vs actual values')\n",
    "axes[0].set_xscale('log')\n",
    "axes[0].set_yscale('log')\n",
    "\n",
    "# Get the maximum value from x and y axes\n",
    "max_val = max(predictions_merged['y_test'].max(), predictions_merged['y_pred_conflict_rw'].max())\n",
    "\n",
    "# Create the diagonal line coordinates\n",
    "diagonal_line = np.linspace(0, max_val, 100)\n",
    "\n",
    "# Fill the area below the diagonal line in the second subplot\n",
    "axes[0].fill_between(diagonal_line, 0, diagonal_line,\n",
    "                      where=diagonal_line >= 0,\n",
    "                      interpolate=True,\n",
    "                      color='gray', alpha=0.5)\n",
    "axes[0].set_xlim(left=1)\n",
    "axes[0].set_ylim(bottom=1)\n",
    "\n",
    "# Plot the second subplot (modify the column names accordingly)\n",
    "sns.scatterplot(data=predictions_merged, x='y_pred_conflict_log_rw', y='y_test', ax=axes[1])\n",
    "axes[1].set_xlabel('Aug 4 predictions (logs)')\n",
    "axes[1].set_ylabel('')\n",
    "axes[1].set_xscale('log')\n",
    "axes[1].set_yscale('log')\n",
    "axes[1].set_title('Aug4 predictions (logs) vs actual values')\n",
    "\n",
    "# Get the maximum value from x and y axes\n",
    "max_val = max(predictions_merged['y_test'].max(), predictions_merged['y_pred_gdelt_log_rw'].max())\n",
    "\n",
    "# Create the diagonal line coordinates\n",
    "diagonal_line = np.linspace(0, max_val, 100)\n",
    "\n",
    "# Fill the area below the diagonal line in the second subplot\n",
    "axes[1].fill_between(diagonal_line, 0, diagonal_line,\n",
    "                      where=diagonal_line >= 0,\n",
    "                      interpolate=True,\n",
    "                      color='gray', alpha=0.5)\n",
    "axes[1].set_xlim(left=1)\n",
    "axes[1].set_ylim(bottom=1)\n",
    "\n",
    "# Adjust the layout and display the plot\n",
    "plt.tight_layout()\n",
    "plt.show()\n"
   ]
  },
  {
   "cell_type": "code",
   "execution_count": 135,
   "metadata": {},
   "outputs": [],
   "source": [
    "predictions_final = predictions_merged[[\"year\", \"iso_o\", \"y_naive\", \"y_pred_conflict_rw\", \"y_pred_conflict_log_rw\"]]"
   ]
  },
  {
   "cell_type": "code",
   "execution_count": 134,
   "metadata": {},
   "outputs": [],
   "source": [
    "predictions_final.to_csv(\"../../best predictions/outflows_best_rw (3-7).csv\", index=False)"
   ]
  },
  {
   "attachments": {},
   "cell_type": "markdown",
   "metadata": {},
   "source": [
    "### Appendix"
   ]
  },
  {
   "attachments": {},
   "cell_type": "markdown",
   "metadata": {},
   "source": [
    "Adding COVID data (restrictions on international flights)"
   ]
  },
  {
   "cell_type": "code",
   "execution_count": 134,
   "metadata": {},
   "outputs": [
    {
     "data": {
      "text/html": [
       "<div>\n",
       "<style scoped>\n",
       "    .dataframe tbody tr th:only-of-type {\n",
       "        vertical-align: middle;\n",
       "    }\n",
       "\n",
       "    .dataframe tbody tr th {\n",
       "        vertical-align: top;\n",
       "    }\n",
       "\n",
       "    .dataframe thead th {\n",
       "        text-align: right;\n",
       "    }\n",
       "</style>\n",
       "<table border=\"1\" class=\"dataframe\">\n",
       "  <thead>\n",
       "    <tr style=\"text-align: right;\">\n",
       "      <th></th>\n",
       "      <th>iso_o</th>\n",
       "      <th>year</th>\n",
       "      <th>international_travel_controls_min</th>\n",
       "      <th>international_travel_controls_25th</th>\n",
       "      <th>international_travel_controls_mean</th>\n",
       "      <th>international_travel_controls_75th</th>\n",
       "      <th>international_travel_controls_max</th>\n",
       "      <th>international_travel_controls_log_diff</th>\n",
       "    </tr>\n",
       "  </thead>\n",
       "  <tbody>\n",
       "    <tr>\n",
       "      <th>0</th>\n",
       "      <td>ABW</td>\n",
       "      <td>2020</td>\n",
       "      <td>0.0</td>\n",
       "      <td>1.0</td>\n",
       "      <td>3.0</td>\n",
       "      <td>3.0</td>\n",
       "      <td>4.0</td>\n",
       "      <td>0.001899</td>\n",
       "    </tr>\n",
       "    <tr>\n",
       "      <th>1</th>\n",
       "      <td>ABW</td>\n",
       "      <td>2021</td>\n",
       "      <td>1.0</td>\n",
       "      <td>1.0</td>\n",
       "      <td>1.0</td>\n",
       "      <td>3.0</td>\n",
       "      <td>3.0</td>\n",
       "      <td>0.000000</td>\n",
       "    </tr>\n",
       "    <tr>\n",
       "      <th>2</th>\n",
       "      <td>ABW</td>\n",
       "      <td>2022</td>\n",
       "      <td>0.0</td>\n",
       "      <td>0.0</td>\n",
       "      <td>0.0</td>\n",
       "      <td>0.0</td>\n",
       "      <td>1.0</td>\n",
       "      <td>-0.001904</td>\n",
       "    </tr>\n",
       "    <tr>\n",
       "      <th>3</th>\n",
       "      <td>AFG</td>\n",
       "      <td>2020</td>\n",
       "      <td>0.0</td>\n",
       "      <td>1.0</td>\n",
       "      <td>1.0</td>\n",
       "      <td>3.0</td>\n",
       "      <td>3.0</td>\n",
       "      <td>0.001899</td>\n",
       "    </tr>\n",
       "    <tr>\n",
       "      <th>4</th>\n",
       "      <td>AFG</td>\n",
       "      <td>2021</td>\n",
       "      <td>1.0</td>\n",
       "      <td>1.0</td>\n",
       "      <td>2.0</td>\n",
       "      <td>2.0</td>\n",
       "      <td>4.0</td>\n",
       "      <td>0.001114</td>\n",
       "    </tr>\n",
       "  </tbody>\n",
       "</table>\n",
       "</div>"
      ],
      "text/plain": [
       "  iso_o  year  international_travel_controls_min   \n",
       "0   ABW  2020                                0.0  \\\n",
       "1   ABW  2021                                1.0   \n",
       "2   ABW  2022                                0.0   \n",
       "3   AFG  2020                                0.0   \n",
       "4   AFG  2021                                1.0   \n",
       "\n",
       "   international_travel_controls_25th  international_travel_controls_mean   \n",
       "0                                 1.0                                 3.0  \\\n",
       "1                                 1.0                                 1.0   \n",
       "2                                 0.0                                 0.0   \n",
       "3                                 1.0                                 1.0   \n",
       "4                                 1.0                                 2.0   \n",
       "\n",
       "   international_travel_controls_75th  international_travel_controls_max   \n",
       "0                                 3.0                                4.0  \\\n",
       "1                                 3.0                                3.0   \n",
       "2                                 0.0                                1.0   \n",
       "3                                 3.0                                3.0   \n",
       "4                                 2.0                                4.0   \n",
       "\n",
       "   international_travel_controls_log_diff  \n",
       "0                                0.001899  \n",
       "1                                0.000000  \n",
       "2                               -0.001904  \n",
       "3                                0.001899  \n",
       "4                                0.001114  "
      ]
     },
     "execution_count": 134,
     "metadata": {},
     "output_type": "execute_result"
    }
   ],
   "source": [
    "covid = pd.read_csv(path + \"international-travel-covid.csv\").drop(columns=[\"Entity\"]).rename(columns={\"Code\":\"iso_o\"})\n",
    "covid[\"Day\"] = pd.to_datetime(covid[\"Day\"])\n",
    "covid[\"year\"] = covid[\"Day\"].dt.year\n",
    "covid = covid.groupby(['iso_o','year'])[['international_travel_controls']].agg(agg_year)\n",
    "covid = split_df(covid)\n",
    "\n",
    "covid = covid.reset_index()\n",
    "covid.head()"
   ]
  },
  {
   "cell_type": "code",
   "execution_count": 135,
   "metadata": {},
   "outputs": [
    {
     "name": "stdout",
     "output_type": "stream",
     "text": [
      "(3332, 794)\n"
     ]
    },
    {
     "data": {
      "text/html": [
       "<div>\n",
       "<style scoped>\n",
       "    .dataframe tbody tr th:only-of-type {\n",
       "        vertical-align: middle;\n",
       "    }\n",
       "\n",
       "    .dataframe tbody tr th {\n",
       "        vertical-align: top;\n",
       "    }\n",
       "\n",
       "    .dataframe thead th {\n",
       "        text-align: right;\n",
       "    }\n",
       "</style>\n",
       "<table border=\"1\" class=\"dataframe\">\n",
       "  <thead>\n",
       "    <tr style=\"text-align: right;\">\n",
       "      <th></th>\n",
       "      <th>iso_o_continent</th>\n",
       "      <th>iso_o</th>\n",
       "      <th>year</th>\n",
       "      <th>pop_o</th>\n",
       "      <th>CPI_o</th>\n",
       "      <th>GDP_PP_o</th>\n",
       "      <th>GDP_PPP_o</th>\n",
       "      <th>island_o</th>\n",
       "      <th>area_o</th>\n",
       "      <th>landlocked_o</th>\n",
       "      <th>...</th>\n",
       "      <th>count_events_20_mean</th>\n",
       "      <th>count_events_20_75th</th>\n",
       "      <th>count_events_20_max</th>\n",
       "      <th>count_events_20_log_diff</th>\n",
       "      <th>international_travel_controls_min</th>\n",
       "      <th>international_travel_controls_25th</th>\n",
       "      <th>international_travel_controls_mean</th>\n",
       "      <th>international_travel_controls_75th</th>\n",
       "      <th>international_travel_controls_max</th>\n",
       "      <th>international_travel_controls_log_diff</th>\n",
       "    </tr>\n",
       "  </thead>\n",
       "  <tbody>\n",
       "    <tr>\n",
       "      <th>0</th>\n",
       "      <td>NA</td>\n",
       "      <td>ABW</td>\n",
       "      <td>2005</td>\n",
       "      <td>0.098</td>\n",
       "      <td>3.787</td>\n",
       "      <td>37910.69</td>\n",
       "      <td>0.005</td>\n",
       "      <td>1</td>\n",
       "      <td>193.0</td>\n",
       "      <td>0</td>\n",
       "      <td>...</td>\n",
       "      <td>0.0</td>\n",
       "      <td>0.0</td>\n",
       "      <td>0.0</td>\n",
       "      <td>0.0</td>\n",
       "      <td>0.0</td>\n",
       "      <td>0.0</td>\n",
       "      <td>0.0</td>\n",
       "      <td>0.0</td>\n",
       "      <td>0.0</td>\n",
       "      <td>0.0</td>\n",
       "    </tr>\n",
       "    <tr>\n",
       "      <th>1</th>\n",
       "      <td>NA</td>\n",
       "      <td>ABW</td>\n",
       "      <td>2006</td>\n",
       "      <td>0.099</td>\n",
       "      <td>2.510</td>\n",
       "      <td>37655.07</td>\n",
       "      <td>0.005</td>\n",
       "      <td>1</td>\n",
       "      <td>193.0</td>\n",
       "      <td>0</td>\n",
       "      <td>...</td>\n",
       "      <td>0.0</td>\n",
       "      <td>0.0</td>\n",
       "      <td>0.0</td>\n",
       "      <td>0.0</td>\n",
       "      <td>0.0</td>\n",
       "      <td>0.0</td>\n",
       "      <td>0.0</td>\n",
       "      <td>0.0</td>\n",
       "      <td>0.0</td>\n",
       "      <td>0.0</td>\n",
       "    </tr>\n",
       "    <tr>\n",
       "      <th>2</th>\n",
       "      <td>NA</td>\n",
       "      <td>ABW</td>\n",
       "      <td>2007</td>\n",
       "      <td>0.100</td>\n",
       "      <td>9.920</td>\n",
       "      <td>38530.06</td>\n",
       "      <td>0.005</td>\n",
       "      <td>1</td>\n",
       "      <td>193.0</td>\n",
       "      <td>0</td>\n",
       "      <td>...</td>\n",
       "      <td>0.0</td>\n",
       "      <td>0.0</td>\n",
       "      <td>0.0</td>\n",
       "      <td>0.0</td>\n",
       "      <td>0.0</td>\n",
       "      <td>0.0</td>\n",
       "      <td>0.0</td>\n",
       "      <td>0.0</td>\n",
       "      <td>0.0</td>\n",
       "      <td>0.0</td>\n",
       "    </tr>\n",
       "    <tr>\n",
       "      <th>3</th>\n",
       "      <td>NA</td>\n",
       "      <td>ABW</td>\n",
       "      <td>2008</td>\n",
       "      <td>0.101</td>\n",
       "      <td>-1.859</td>\n",
       "      <td>38939.16</td>\n",
       "      <td>0.005</td>\n",
       "      <td>1</td>\n",
       "      <td>193.0</td>\n",
       "      <td>0</td>\n",
       "      <td>...</td>\n",
       "      <td>0.0</td>\n",
       "      <td>0.0</td>\n",
       "      <td>0.0</td>\n",
       "      <td>0.0</td>\n",
       "      <td>0.0</td>\n",
       "      <td>0.0</td>\n",
       "      <td>0.0</td>\n",
       "      <td>0.0</td>\n",
       "      <td>0.0</td>\n",
       "      <td>0.0</td>\n",
       "    </tr>\n",
       "    <tr>\n",
       "      <th>4</th>\n",
       "      <td>NA</td>\n",
       "      <td>ABW</td>\n",
       "      <td>2009</td>\n",
       "      <td>0.102</td>\n",
       "      <td>6.777</td>\n",
       "      <td>34159.06</td>\n",
       "      <td>0.004</td>\n",
       "      <td>1</td>\n",
       "      <td>193.0</td>\n",
       "      <td>0</td>\n",
       "      <td>...</td>\n",
       "      <td>0.0</td>\n",
       "      <td>0.0</td>\n",
       "      <td>0.0</td>\n",
       "      <td>0.0</td>\n",
       "      <td>0.0</td>\n",
       "      <td>0.0</td>\n",
       "      <td>0.0</td>\n",
       "      <td>0.0</td>\n",
       "      <td>0.0</td>\n",
       "      <td>0.0</td>\n",
       "    </tr>\n",
       "  </tbody>\n",
       "</table>\n",
       "<p>5 rows × 794 columns</p>\n",
       "</div>"
      ],
      "text/plain": [
       "  iso_o_continent iso_o  year  pop_o  CPI_o  GDP_PP_o  GDP_PPP_o  island_o   \n",
       "0              NA   ABW  2005  0.098  3.787  37910.69      0.005         1  \\\n",
       "1              NA   ABW  2006  0.099  2.510  37655.07      0.005         1   \n",
       "2              NA   ABW  2007  0.100  9.920  38530.06      0.005         1   \n",
       "3              NA   ABW  2008  0.101 -1.859  38939.16      0.005         1   \n",
       "4              NA   ABW  2009  0.102  6.777  34159.06      0.004         1   \n",
       "\n",
       "   area_o  landlocked_o  ...  count_events_20_mean  count_events_20_75th   \n",
       "0   193.0             0  ...                   0.0                   0.0  \\\n",
       "1   193.0             0  ...                   0.0                   0.0   \n",
       "2   193.0             0  ...                   0.0                   0.0   \n",
       "3   193.0             0  ...                   0.0                   0.0   \n",
       "4   193.0             0  ...                   0.0                   0.0   \n",
       "\n",
       "   count_events_20_max  count_events_20_log_diff   \n",
       "0                  0.0                       0.0  \\\n",
       "1                  0.0                       0.0   \n",
       "2                  0.0                       0.0   \n",
       "3                  0.0                       0.0   \n",
       "4                  0.0                       0.0   \n",
       "\n",
       "   international_travel_controls_min  international_travel_controls_25th   \n",
       "0                                0.0                                 0.0  \\\n",
       "1                                0.0                                 0.0   \n",
       "2                                0.0                                 0.0   \n",
       "3                                0.0                                 0.0   \n",
       "4                                0.0                                 0.0   \n",
       "\n",
       "   international_travel_controls_mean  international_travel_controls_75th   \n",
       "0                                 0.0                                 0.0  \\\n",
       "1                                 0.0                                 0.0   \n",
       "2                                 0.0                                 0.0   \n",
       "3                                 0.0                                 0.0   \n",
       "4                                 0.0                                 0.0   \n",
       "\n",
       "   international_travel_controls_max  international_travel_controls_log_diff  \n",
       "0                                0.0                                     0.0  \n",
       "1                                0.0                                     0.0  \n",
       "2                                0.0                                     0.0  \n",
       "3                                0.0                                     0.0  \n",
       "4                                0.0                                     0.0  \n",
       "\n",
       "[5 rows x 794 columns]"
      ]
     },
     "execution_count": 135,
     "metadata": {},
     "output_type": "execute_result"
    }
   ],
   "source": [
    "aug_covid = pd.merge(aug_gdelt, covid, on=[\"iso_o\", \"year\"], how=\"left\")\n",
    "aug_covid = aug_covid.fillna(0)\n",
    "print(aug_covid.shape)\n",
    "aug_covid.head()"
   ]
  },
  {
   "attachments": {},
   "cell_type": "markdown",
   "metadata": {},
   "source": [
    "Predictions with rolling window + log transformation"
   ]
  },
  {
   "cell_type": "code",
   "execution_count": 136,
   "metadata": {},
   "outputs": [],
   "source": [
    "\n",
    "# ohe = OneHotEncoder()\n",
    "be = BinaryEncoder() # doing be on everything yields better results\n",
    "cont_scaler = RobustScaler()\n",
    "\n",
    "# binary_cols = ['iso_o']\n",
    "# ohe_cols = ['iso_o_continent','typeOfViolence_o']\n",
    "binary_cols = ['iso_o', 'iso_o_continent','Shift_1_typeOfViolence_o', 'typeOfViolence_o']\n",
    "\n",
    "# numerical_cols = list(set(unhcr.columns) - set(binary_cols + ohe_cols + ['year', 'ref_outflow']))\n",
    "numerical_cols = list(set(aug_covid.columns) - set(binary_cols  + ['year', 'target']))\n",
    "\n",
    "transform_cols = ColumnTransformer(\n",
    "    [\n",
    "        ('cat1', be, binary_cols),\n",
    "   #     ('cat2', ohe, ohe_cols),\n",
    "        ('num', cont_scaler, numerical_cols)\n",
    "    ],\n",
    "    remainder='passthrough'\n",
    ")\n",
    "\n",
    "gb_pipe = Pipeline([('preprocessing', transform_cols),\n",
    "                    ('gb', GradientBoostingRegressor(random_state=SEED))])"
   ]
  },
  {
   "cell_type": "code",
   "execution_count": 137,
   "metadata": {},
   "outputs": [],
   "source": [
    "X_train_list, X_test_list, y_train_list, y_test_list = model_helpers.train_test_split_rw(aug_covid, 'target', test_time_start, test_time_end, 'year')"
   ]
  },
  {
   "cell_type": "code",
   "execution_count": 139,
   "metadata": {},
   "outputs": [
    {
     "name": "stdout",
     "output_type": "stream",
     "text": [
      "*********\n",
      "Year: 2019\n",
      "X_train uses data until: 2017\n",
      "RMSE outflows - COVID covariates: 76973.54657103543\n",
      "Relative RMSE to Naive predictions: 0.9702866475068003\n",
      "*********\n",
      "Year: 2020\n",
      "X_train uses data until: 2018\n",
      "RMSE outflows - COVID covariates: 29859.766748602662\n",
      "Relative RMSE to Naive predictions: 0.43111630352774527\n",
      "*********\n",
      "Year: 2021\n",
      "X_train uses data until: 2019\n",
      "RMSE outflows - COVID covariates: 42798.95098871988\n",
      "Relative RMSE to Naive predictions: 2.7776505601690262\n"
     ]
    }
   ],
   "source": [
    "mse_covid_log_dict = {}\n",
    "predictions_list = []\n",
    "\n",
    "# Iterate over the test sets for each year\n",
    "for year, X_train, X_test, y_train, y_test in zip(range(test_time_start, test_time_end + 1), X_train_list, X_test_list, y_train_list, y_test_list):\n",
    "\n",
    "\n",
    "    epsilon = 1e-8\n",
    "    y_train_log = np.log(y_train + epsilon)\n",
    "\n",
    "    gb_pipe.fit(X_train, y_train_log)\n",
    "\n",
    "    # Predict on test set and transform back to original scale\n",
    "    y_pred_log = gb_pipe.predict(X_test)\n",
    "    y_pred = np.exp(y_pred_log) \n",
    "    \n",
    "    mse_covid_log_year = mean_squared_error(y_test, y_pred, squared=False)\n",
    "\n",
    "    mse_covid_log_dict[year+1] = mse_covid_log_year\n",
    "\n",
    "    print(\"*********\")\n",
    "    print(\"Year: \" + str(year+1))\n",
    "    print(\"X_train uses data until: \" + str(X_train.year.max()))\n",
    "    print(\"RMSE outflows - COVID covariates: \" + str(mse_covid_log_year))\n",
    "    print(\"Relative RMSE to Naive predictions: \" + str(mse_covid_log_year / mse_naive_dict[year+1]))\n",
    "\n",
    "    # Store predicted values in DataFrame\n",
    "    predictions_list.append(pd.DataFrame({\"year\": [year+1] * len(X_test),\n",
    "                                            \"iso_o\": X_test[\"iso_o\"].values,\n",
    "                                            \"y_pred_covid_log_rw\": y_pred}))\n",
    "\n",
    "    # Concatenate DataFrames from the list\n",
    "    predictions_df_covid_log = pd.concat(predictions_list, ignore_index=True)"
   ]
  },
  {
   "attachments": {},
   "cell_type": "markdown",
   "metadata": {},
   "source": [
    "COVID data doesn't improve results"
   ]
  },
  {
   "cell_type": "code",
   "execution_count": null,
   "metadata": {},
   "outputs": [],
   "source": []
  }
 ],
 "metadata": {
  "kernelspec": {
   "display_name": "refugees",
   "language": "python",
   "name": "python3"
  },
  "language_info": {
   "codemirror_mode": {
    "name": "ipython",
    "version": 3
   },
   "file_extension": ".py",
   "mimetype": "text/x-python",
   "name": "python",
   "nbconvert_exporter": "python",
   "pygments_lexer": "ipython3",
   "version": "3.11.3"
  },
  "orig_nbformat": 4
 },
 "nbformat": 4,
 "nbformat_minor": 2
}
