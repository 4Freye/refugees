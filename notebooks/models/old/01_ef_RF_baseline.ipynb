{
 "cells": [
  {
   "attachments": {},
   "cell_type": "markdown",
   "metadata": {},
   "source": [
    "### Naive predictions and Random Forest Baseline\n",
    "\n",
    "For a baseline model, this notebook implements:\n",
    "- Naive method of forecasting where it uses the most recent newarrival available\n",
    "- RandomForest method, simply considering the data basically as cross-sectional data."
   ]
  },
  {
   "cell_type": "code",
   "execution_count": 1,
   "metadata": {},
   "outputs": [],
   "source": [
    "import numpy as np\n",
    "import pandas as pd\n",
    "# from tqdm import tqdm\n",
    "# import matplotlib.pyplot as plt\n",
    "# from statsmodels.graphics.tsaplots import plot_acf\n",
    "# from speedy_bois import * \n",
    "\n",
    "# from sklearn.preprocessing import StandardScaler\n",
    "# from sklearn.ensemble import  HistGradientBoostingRegressor\n",
    "\n",
    "# from skforecast.ForecasterAutoregMultiSeries import ForecasterAutoregMultiSeries\n",
    "# from skforecast.ForecasterAutoreg import ForecasterAutoreg\n",
    "# from skforecast.model_selection import backtesting_forecaster\n",
    "# from skforecast.model_selection import grid_search_forecaster\n",
    "# from skforecast.model_selection_multiseries import backtesting_forecaster_multiseries\n",
    "# from skforecast.model_selection_multiseries import grid_search_forecaster_multiseries"
   ]
  },
  {
   "cell_type": "code",
   "execution_count": 2,
   "metadata": {},
   "outputs": [],
   "source": [
    "data = pd.read_csv('../../data/data.csv', engine='pyarrow').drop_duplicates(subset=['Id','year']).drop(['Country_o','Country_d','iso_d','iso_o', ''], axis=1)"
   ]
  },
  {
   "attachments": {},
   "cell_type": "markdown",
   "metadata": {},
   "source": [
    "#### Preprocessing"
   ]
  },
  {
   "cell_type": "code",
   "execution_count": 3,
   "metadata": {},
   "outputs": [],
   "source": [
    "# filter out missing data\n",
    "data = data[data.year < 2022]\n",
    "\n",
    "# all observations must have at least one value greater than c\n",
    "c = 100\n",
    "data = data.groupby('Id', as_index=False).filter(lambda x: x['newarrival'].max() > c)\n",
    "\n",
    "data['year'] = pd.to_datetime(data['year'], format='%Y')\n",
    "data = data.set_index(['year', 'Id'])\n",
    "data.index.levels[1].freq = \"Y\"\n",
    "#data = data['y']\n",
    "data = data.sort_index()"
   ]
  },
  {
   "attachments": {},
   "cell_type": "markdown",
   "metadata": {},
   "source": [
    "Specify train and test sets:"
   ]
  },
  {
   "cell_type": "code",
   "execution_count": 4,
   "metadata": {},
   "outputs": [],
   "source": [
    "end_train = '2016-01-01'\n",
    "end_val = '2016-01-01'\n",
    "\n",
    "data_train = data.loc[:end_train, :].copy()\n",
    "# data_val   = data.loc[end_train:end_val, :].copy()\n",
    "data_test  = data.loc[end_val:, :].copy()"
   ]
  },
  {
   "attachments": {},
   "cell_type": "markdown",
   "metadata": {},
   "source": [
    "#### Naive method- Baseline approach"
   ]
  },
  {
   "cell_type": "code",
   "execution_count": 5,
   "metadata": {},
   "outputs": [],
   "source": [
    "# def filter_multi(df,col,val):\n",
    "#     col_index = pd.Series(data.index.names)[(pd.Series(data.index.names) == col)].index.tolist()[0]\n",
    "#     return np.in1d(df.index.get_level_values(col_index), [val])"
   ]
  },
  {
   "cell_type": "code",
   "execution_count": 6,
   "metadata": {},
   "outputs": [],
   "source": [
    "# naive prediction\n",
    "def naive_prediction(series, h):\n",
    "    last_val = series.iloc[-1]\n",
    "    pred =  np.repeat(last_val, h)\n",
    "    return pred\n",
    "\n",
    "def totuple(a):\n",
    "    try:\n",
    "        return tuple(totuple(i) for i in a)\n",
    "    except TypeError:\n",
    "        return a\n",
    "\n",
    "# rolling window predictions\n",
    "def rolling_rmse(series, window_len, h):\n",
    "    series_len = len(series)\n",
    "    n_of_forecasts = (series_len - (window_len + h) + 1)\n",
    "\n",
    "    if n_of_forecasts < 1:\n",
    "        raise ValueError\n",
    "    \n",
    "    errors = np.array([])\n",
    "    errors.shape = (0, 3)\n",
    "\n",
    "    for i in range(n_of_forecasts):\n",
    "        window = series.iloc[i:(i + window_len)]\n",
    "        forecast = naive_prediction(window, h)\n",
    "        actual = series[(i + window_len):(i + window_len + h)].values\n",
    "        \n",
    "        rmse_error = ((forecast - actual)**2)**.5\n",
    "        errors = np.vstack([errors, rmse_error])\n",
    "\n",
    "    return pd.DataFrame(errors, columns = np.array([*range(3)])+1).melt(var_name='horizon',value_name='naive')"
   ]
  },
  {
   "cell_type": "code",
   "execution_count": 17,
   "metadata": {},
   "outputs": [
    {
     "data": {
      "text/html": [
       "<div>\n",
       "<style scoped>\n",
       "    .dataframe tbody tr th:only-of-type {\n",
       "        vertical-align: middle;\n",
       "    }\n",
       "\n",
       "    .dataframe tbody tr th {\n",
       "        vertical-align: top;\n",
       "    }\n",
       "\n",
       "    .dataframe thead th {\n",
       "        text-align: right;\n",
       "    }\n",
       "</style>\n",
       "<table border=\"1\" class=\"dataframe\">\n",
       "  <thead>\n",
       "    <tr style=\"text-align: right;\">\n",
       "      <th></th>\n",
       "      <th>naive</th>\n",
       "    </tr>\n",
       "    <tr>\n",
       "      <th>horizon</th>\n",
       "      <th></th>\n",
       "    </tr>\n",
       "  </thead>\n",
       "  <tbody>\n",
       "    <tr>\n",
       "      <th>1</th>\n",
       "      <td>1744.203209</td>\n",
       "    </tr>\n",
       "    <tr>\n",
       "      <th>2</th>\n",
       "      <td>2238.553066</td>\n",
       "    </tr>\n",
       "    <tr>\n",
       "      <th>3</th>\n",
       "      <td>2039.282730</td>\n",
       "    </tr>\n",
       "  </tbody>\n",
       "</table>\n",
       "</div>"
      ],
      "text/plain": [
       "               naive\n",
       "horizon             \n",
       "1        1744.203209\n",
       "2        2238.553066\n",
       "3        2039.282730"
      ]
     },
     "execution_count": 17,
     "metadata": {},
     "output_type": "execute_result"
    }
   ],
   "source": [
    "# serial\n",
    "naive_metrics = data_test.newarrival.groupby(level='Id').apply(lambda x:rolling_rmse(x, 1, 3)).groupby('horizon').mean()\n",
    "naive_metrics"
   ]
  },
  {
   "attachments": {},
   "cell_type": "markdown",
   "metadata": {},
   "source": [
    "#### Random Forest Baseline"
   ]
  },
  {
   "cell_type": "code",
   "execution_count": 9,
   "metadata": {},
   "outputs": [],
   "source": [
    "def data_prep(df, h):\n",
    "    new_cols = []\n",
    "    for h_i in range(h):\n",
    "        df[h_i + 1] = df.groupby(level='Id').newarrival.shift(-(h_i + 1))\n",
    "        new_cols.append((h_i+1))\n",
    "    \n",
    "    id_vars = data_train.columns.values[~pd.Series(data_train.columns.values).isin(new_cols)].tolist()\n",
    "    \n",
    "    df = df.melt(id_vars = id_vars, var_name = 'horizon', value_name = 'newarrival_h').dropna()\n",
    "    id_vars.append('horizon')\n",
    "    X = df[id_vars]\n",
    "    y = df['newarrival_h']\n",
    "    return X, y\n",
    "\n",
    "X_train, y_train = data_prep(data_train, 3)\n",
    "X_test, y_test = data_prep(data_test, 3)"
   ]
  },
  {
   "cell_type": "code",
   "execution_count": 10,
   "metadata": {},
   "outputs": [
    {
     "data": {
      "text/html": [
       "<style>#sk-container-id-1 {color: black;background-color: white;}#sk-container-id-1 pre{padding: 0;}#sk-container-id-1 div.sk-toggleable {background-color: white;}#sk-container-id-1 label.sk-toggleable__label {cursor: pointer;display: block;width: 100%;margin-bottom: 0;padding: 0.3em;box-sizing: border-box;text-align: center;}#sk-container-id-1 label.sk-toggleable__label-arrow:before {content: \"▸\";float: left;margin-right: 0.25em;color: #696969;}#sk-container-id-1 label.sk-toggleable__label-arrow:hover:before {color: black;}#sk-container-id-1 div.sk-estimator:hover label.sk-toggleable__label-arrow:before {color: black;}#sk-container-id-1 div.sk-toggleable__content {max-height: 0;max-width: 0;overflow: hidden;text-align: left;background-color: #f0f8ff;}#sk-container-id-1 div.sk-toggleable__content pre {margin: 0.2em;color: black;border-radius: 0.25em;background-color: #f0f8ff;}#sk-container-id-1 input.sk-toggleable__control:checked~div.sk-toggleable__content {max-height: 200px;max-width: 100%;overflow: auto;}#sk-container-id-1 input.sk-toggleable__control:checked~label.sk-toggleable__label-arrow:before {content: \"▾\";}#sk-container-id-1 div.sk-estimator input.sk-toggleable__control:checked~label.sk-toggleable__label {background-color: #d4ebff;}#sk-container-id-1 div.sk-label input.sk-toggleable__control:checked~label.sk-toggleable__label {background-color: #d4ebff;}#sk-container-id-1 input.sk-hidden--visually {border: 0;clip: rect(1px 1px 1px 1px);clip: rect(1px, 1px, 1px, 1px);height: 1px;margin: -1px;overflow: hidden;padding: 0;position: absolute;width: 1px;}#sk-container-id-1 div.sk-estimator {font-family: monospace;background-color: #f0f8ff;border: 1px dotted black;border-radius: 0.25em;box-sizing: border-box;margin-bottom: 0.5em;}#sk-container-id-1 div.sk-estimator:hover {background-color: #d4ebff;}#sk-container-id-1 div.sk-parallel-item::after {content: \"\";width: 100%;border-bottom: 1px solid gray;flex-grow: 1;}#sk-container-id-1 div.sk-label:hover label.sk-toggleable__label {background-color: #d4ebff;}#sk-container-id-1 div.sk-serial::before {content: \"\";position: absolute;border-left: 1px solid gray;box-sizing: border-box;top: 0;bottom: 0;left: 50%;z-index: 0;}#sk-container-id-1 div.sk-serial {display: flex;flex-direction: column;align-items: center;background-color: white;padding-right: 0.2em;padding-left: 0.2em;position: relative;}#sk-container-id-1 div.sk-item {position: relative;z-index: 1;}#sk-container-id-1 div.sk-parallel {display: flex;align-items: stretch;justify-content: center;background-color: white;position: relative;}#sk-container-id-1 div.sk-item::before, #sk-container-id-1 div.sk-parallel-item::before {content: \"\";position: absolute;border-left: 1px solid gray;box-sizing: border-box;top: 0;bottom: 0;left: 50%;z-index: -1;}#sk-container-id-1 div.sk-parallel-item {display: flex;flex-direction: column;z-index: 1;position: relative;background-color: white;}#sk-container-id-1 div.sk-parallel-item:first-child::after {align-self: flex-end;width: 50%;}#sk-container-id-1 div.sk-parallel-item:last-child::after {align-self: flex-start;width: 50%;}#sk-container-id-1 div.sk-parallel-item:only-child::after {width: 0;}#sk-container-id-1 div.sk-dashed-wrapped {border: 1px dashed gray;margin: 0 0.4em 0.5em 0.4em;box-sizing: border-box;padding-bottom: 0.4em;background-color: white;}#sk-container-id-1 div.sk-label label {font-family: monospace;font-weight: bold;display: inline-block;line-height: 1.2em;}#sk-container-id-1 div.sk-label-container {text-align: center;}#sk-container-id-1 div.sk-container {/* jupyter's `normalize.less` sets `[hidden] { display: none; }` but bootstrap.min.css set `[hidden] { display: none !important; }` so we also need the `!important` here to be able to override the default hidden behavior on the sphinx rendered scikit-learn.org. See: https://github.com/scikit-learn/scikit-learn/issues/21755 */display: inline-block !important;position: relative;}#sk-container-id-1 div.sk-text-repr-fallback {display: none;}</style><div id=\"sk-container-id-1\" class=\"sk-top-container\"><div class=\"sk-text-repr-fallback\"><pre>RandomForestRegressor(n_jobs=-1)</pre><b>In a Jupyter environment, please rerun this cell to show the HTML representation or trust the notebook. <br />On GitHub, the HTML representation is unable to render, please try loading this page with nbviewer.org.</b></div><div class=\"sk-container\" hidden><div class=\"sk-item\"><div class=\"sk-estimator sk-toggleable\"><input class=\"sk-toggleable__control sk-hidden--visually\" id=\"sk-estimator-id-1\" type=\"checkbox\" checked><label for=\"sk-estimator-id-1\" class=\"sk-toggleable__label sk-toggleable__label-arrow\">RandomForestRegressor</label><div class=\"sk-toggleable__content\"><pre>RandomForestRegressor(n_jobs=-1)</pre></div></div></div></div></div>"
      ],
      "text/plain": [
       "RandomForestRegressor(n_jobs=-1)"
      ]
     },
     "execution_count": 10,
     "metadata": {},
     "output_type": "execute_result"
    }
   ],
   "source": [
    "from sklearn.ensemble import RandomForestRegressor\n",
    "from sklearn.model_selection import GridSearchCV\n",
    "\n",
    "rf = RandomForestRegressor(n_jobs = -1)\n",
    "rf.fit(X_train, y_train)"
   ]
  },
  {
   "cell_type": "code",
   "execution_count": 19,
   "metadata": {},
   "outputs": [],
   "source": [
    "from sklearn.metrics import mean_squared_error\n",
    "mean_squared_error(y_test, rf.predict(X_test), squared=False)\n",
    "\n",
    "def compute_rmse(model, X_test, y_test):\n",
    "    y_test_pred = rf.predict(X_test)\n",
    "    rmse = ((y_test_pred - y_test)**2)**.5\n",
    "    return pd.concat([rmse, X_test.horizon], axis=1)\n",
    "\n",
    "rf_metrics = compute_rmse(rf, X_test, y_test).groupby('horizon').mean().rename({'newarrival_h':'RandomForest'}, axis=1)"
   ]
  },
  {
   "attachments": {},
   "cell_type": "markdown",
   "metadata": {},
   "source": [
    "The Theil ratio $ (T) $ is as follows:\n",
    "$$ T = \\frac{RMSE_X}{RMSE_{RW}} $$\n",
    "Where $ X $ is the model under investigation "
   ]
  },
  {
   "cell_type": "code",
   "execution_count": 30,
   "metadata": {},
   "outputs": [
    {
     "data": {
      "text/plain": [
       "<Axes: title={'center': 'Theil Index of Baseline RandomForest Model'}, xlabel='horizon'>"
      ]
     },
     "execution_count": 30,
     "metadata": {},
     "output_type": "execute_result"
    },
    {
     "data": {
      "image/png": "[encoded data removed]",
      "text/plain": [
       "<Figure size 640x480 with 1 Axes>"
      ]
     },
     "metadata": {},
     "output_type": "display_data"
    }
   ],
   "source": [
    "def compute_theil(df, naive_col, model_col):\n",
    "    theil = df[model_col]/df[naive_col]\n",
    "    theil.index = theil.index.astype(str)\n",
    "    return theil\n",
    "\n",
    "compute_theil(pd.concat([naive_metrics,rf_metrics],axis=1), 'naive','RandomForest').plot(title='Theil Index of Baseline RandomForest Model', x='horizon')"
   ]
  }
 ],
 "metadata": {
  "kernelspec": {
   "display_name": "refugees",
   "language": "python",
   "name": "python3"
  },
  "language_info": {
   "codemirror_mode": {
    "name": "ipython",
    "version": 3
   },
   "file_extension": ".py",
   "mimetype": "text/x-python",
   "name": "python",
   "nbconvert_exporter": "python",
   "pygments_lexer": "ipython3",
   "version": "3.11.3"
  },
  "orig_nbformat": 4
 },
 "nbformat": 4,
 "nbformat_minor": 2
}
