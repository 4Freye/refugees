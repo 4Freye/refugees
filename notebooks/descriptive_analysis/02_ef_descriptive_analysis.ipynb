{
 "cells": [
  {
   "attachments": {},
   "cell_type": "markdown",
   "metadata": {},
   "source": [
    "Descriptive analysis on the UNHCR data"
   ]
  },
  {
   "cell_type": "code",
   "execution_count": 10,
   "metadata": {},
   "outputs": [],
   "source": [
    "import pandas as pd\n",
    "import igraph as ig\n",
    "import matplotlib.colors as mcolors\n",
    "#from chord import Chord\n",
    "\n",
    "df = pd.read_csv('../../data/data.csv', engine=\"pyarrow\").drop('', axis=1)"
   ]
  },
  {
   "attachments": {},
   "cell_type": "markdown",
   "metadata": {},
   "source": [
    "Interestingly enough there are some duplicates:"
   ]
  },
  {
   "cell_type": "code",
   "execution_count": 11,
   "metadata": {},
   "outputs": [
    {
     "data": {
      "text/html": [
       "<div>\n",
       "<style scoped>\n",
       "    .dataframe tbody tr th:only-of-type {\n",
       "        vertical-align: middle;\n",
       "    }\n",
       "\n",
       "    .dataframe tbody tr th {\n",
       "        vertical-align: top;\n",
       "    }\n",
       "\n",
       "    .dataframe thead th {\n",
       "        text-align: right;\n",
       "    }\n",
       "</style>\n",
       "<table border=\"1\" class=\"dataframe\">\n",
       "  <thead>\n",
       "    <tr style=\"text-align: right;\">\n",
       "      <th></th>\n",
       "      <th></th>\n",
       "      <th></th>\n",
       "      <th>count</th>\n",
       "    </tr>\n",
       "    <tr>\n",
       "      <th>Country_d</th>\n",
       "      <th>Country_o</th>\n",
       "      <th>year</th>\n",
       "      <th></th>\n",
       "    </tr>\n",
       "  </thead>\n",
       "  <tbody>\n",
       "    <tr>\n",
       "      <th rowspan=\"5\" valign=\"top\">Antigua and Barbuda</th>\n",
       "      <th>Taiwan Province of China</th>\n",
       "      <th>2017</th>\n",
       "      <td>2</td>\n",
       "    </tr>\n",
       "    <tr>\n",
       "      <th rowspan=\"4\" valign=\"top\">Dominica</th>\n",
       "      <th>2022</th>\n",
       "      <td>2</td>\n",
       "    </tr>\n",
       "    <tr>\n",
       "      <th>2012</th>\n",
       "      <td>2</td>\n",
       "    </tr>\n",
       "    <tr>\n",
       "      <th>2013</th>\n",
       "      <td>2</td>\n",
       "    </tr>\n",
       "    <tr>\n",
       "      <th>2014</th>\n",
       "      <td>2</td>\n",
       "    </tr>\n",
       "    <tr>\n",
       "      <th>...</th>\n",
       "      <th>...</th>\n",
       "      <th>...</th>\n",
       "      <td>...</td>\n",
       "    </tr>\n",
       "    <tr>\n",
       "      <th rowspan=\"2\" valign=\"top\">Hong Kong SAR</th>\n",
       "      <th rowspan=\"2\" valign=\"top\">Antigua and Barbuda</th>\n",
       "      <th>2023</th>\n",
       "      <td>2</td>\n",
       "    </tr>\n",
       "    <tr>\n",
       "      <th>2024</th>\n",
       "      <td>2</td>\n",
       "    </tr>\n",
       "    <tr>\n",
       "      <th rowspan=\"2\" valign=\"top\">Benin</th>\n",
       "      <th rowspan=\"2\" valign=\"top\">Antigua and Barbuda</th>\n",
       "      <th>2012</th>\n",
       "      <td>2</td>\n",
       "    </tr>\n",
       "    <tr>\n",
       "      <th>2011</th>\n",
       "      <td>2</td>\n",
       "    </tr>\n",
       "    <tr>\n",
       "      <th>Nauru</th>\n",
       "      <th>Antigua and Barbuda</th>\n",
       "      <th>2014</th>\n",
       "      <td>2</td>\n",
       "    </tr>\n",
       "  </tbody>\n",
       "</table>\n",
       "<p>9750 rows × 1 columns</p>\n",
       "</div>"
      ],
      "text/plain": [
       "                                                   count\n",
       "Country_d           Country_o                year       \n",
       "Antigua and Barbuda Taiwan Province of China 2017      2\n",
       "                    Dominica                 2022      2\n",
       "                                             2012      2\n",
       "                                             2013      2\n",
       "                                             2014      2\n",
       "...                                                  ...\n",
       "Hong Kong SAR       Antigua and Barbuda      2023      2\n",
       "                                             2024      2\n",
       "Benin               Antigua and Barbuda      2012      2\n",
       "                                             2011      2\n",
       "Nauru               Antigua and Barbuda      2014      2\n",
       "\n",
       "[9750 rows x 1 columns]"
      ]
     },
     "execution_count": 11,
     "metadata": {},
     "output_type": "execute_result"
    }
   ],
   "source": [
    "counts = df.value_counts(subset=['Country_d','Country_o','year'])\n",
    "counts[counts > 1].to_frame(name='count')"
   ]
  },
  {
   "cell_type": "code",
   "execution_count": 12,
   "metadata": {},
   "outputs": [
    {
     "data": {
      "text/plain": [
       "32984    442.0\n",
       "32985    960.0\n",
       "Name: area_o, dtype: float64"
      ]
     },
     "execution_count": 12,
     "metadata": {},
     "output_type": "execute_result"
    }
   ],
   "source": [
    "df[(df.Country_o == 'Antigua and Barbuda') & (df.Country_d == 'Taiwan Province of China') & (df.year == 2017)].area_o"
   ]
  },
  {
   "attachments": {},
   "cell_type": "markdown",
   "metadata": {},
   "source": [
    "We will have to look into why these are duplicated, it is my understanding that these shouldn't be here."
   ]
  },
  {
   "cell_type": "code",
   "execution_count": 13,
   "metadata": {},
   "outputs": [],
   "source": [
    "df.drop_duplicates(subset=['Country_o','Country_d','year'], inplace=True)"
   ]
  },
  {
   "cell_type": "code",
   "execution_count": 14,
   "metadata": {},
   "outputs": [],
   "source": [
    "import numpy as np\n",
    "def map_to_region(country_column):\n",
    "    africa = ['The Gambia','Côte d\\'Ivoire', 'Algeria', 'Angola', 'Benin', 'Botswana', 'Burkina Faso', 'Burundi', 'Cabo Verde', 'Cameroon', 'Central African Republic', 'Chad', 'Comoros', 'Democratic Republic of the Congo', 'Djibouti', 'Egypt', 'Equatorial Guinea', 'Eritrea', 'Eswatini', 'Ethiopia', 'Gabon', 'Ghana', 'Guinea', 'Guinea-Bissau', 'Kenya', 'Lesotho', 'Liberia', 'Libya', 'Madagascar', 'Malawi', 'Mali', 'Mauritania', 'Mauritius', 'Morocco', 'Mozambique', 'Namibia', 'Niger', 'Nigeria', 'Republic of Congo', 'Rwanda', 'Sao Tome and Principe', 'Senegal', 'Seychelles', 'Sierra Leone', 'Somalia', 'South Africa', 'South Sudan', 'Sudan', 'Tanzania', 'Togo', 'Tunisia', 'Uganda', 'Zambia', 'Zimbabwe']\n",
    "\n",
    "    north_america = ['Canada', 'Mexico', 'United States', 'The Bahamas', 'Puerto Rico']\n",
    "\n",
    "    former_soviet_union = ['Armenia', 'Azerbaijan', 'Belarus', 'Estonia', 'Georgia', 'Kazakhstan', 'Kyrgyz Republic', 'Latvia', 'Lithuania', 'Moldova', 'Russia', 'Tajikistan', 'Turkmenistan', 'Ukraine', 'Uzbekistan']\n",
    "\n",
    "    south_asia = ['Afghanistan', 'Bangladesh', 'Bhutan', 'India', 'Iran', 'Maldives', 'Nepal', 'Pakistan', 'Sri Lanka']\n",
    "\n",
    "    west_asia = ['Bahrain', 'Cyprus', 'Iraq', 'Israel', 'Jordan', 'Kuwait', 'Lebanon', 'Oman', 'Qatar', 'Saudi Arabia', 'Syria', 'United Arab Emirates', 'Yemen', 'Islamic Republic of Iran', 'Türkiye', 'West Bank and Gaza']\n",
    "\n",
    "    southeast_asia = ['Brunei Darussalam', 'Cambodia', 'Indonesia', 'Lao PDR', 'Malaysia', 'Myanmar', 'Philippines', 'Singapore', 'Thailand', 'Timor-Leste', 'Vietnam', 'Lao P.D.R.']\n",
    "\n",
    "    oceania = ['Australia', 'Fiji', 'Kiribati', 'Marshall Islands', 'Micronesia', 'Nauru', 'New Zealand', 'Palau', 'Papua New Guinea', 'Samoa', 'Solomon Islands', 'Tonga', 'Tuvalu', 'Vanuatu']\n",
    "\n",
    "    latin_america = ['St. Lucia', 'St. Vincent and the Grenadines', 'St. Kitts and Nevis', 'São Tomé and Príncipe', 'Aruba', 'Antigua and Barbuda', 'Argentina', 'Barbados', 'Belize', 'Bolivia', 'Brazil', 'Chile', 'Colombia', 'Costa Rica', 'Cuba', 'Dominica', 'Dominican Republic', 'Ecuador', 'El Salvador', 'Grenada', 'Guatemala', 'Guyana', 'Haiti', 'Honduras', 'Jamaica', 'Nicaragua', 'Panama', 'Paraguay', 'Peru', 'Saint Kitts and Nevis', 'Saint Lucia', 'Saint Vincent and the Grenadines', 'Suriname', 'Trinidad and Tobago', 'Uruguay', 'Venezuela']\n",
    "    europe = ['Albania', 'Andorra', 'Austria', 'Belarus', 'Belgium', 'Bosnia and Herzegovina', 'Bulgaria', 'Croatia', 'Cyprus', 'Czech Republic', 'Denmark', 'Estonia', 'Finland', 'France', 'Georgia', 'Germany', 'Greece', 'Hungary', 'Iceland', 'Ireland', 'Italy', 'Kazakhstan', 'Kosovo', 'Latvia', 'Liechtenstein', 'Lithuania', 'Luxembourg', 'Malta', 'Moldova', 'Monaco', 'Montenegro', 'Netherlands', 'North Macedonia', 'Norway', 'Poland', 'Portugal', 'Romania', 'Russia', 'San Marino', 'Serbia', 'Slovak Republic', 'Slovenia', 'Spain', 'Sweden', 'Switzerland', 'Ukraine', 'United Kingdom', 'Uzbekistan']\n",
    "    east_asia = ['China','Hong Kong SAR','Japan','Korea', 'Macao SAR', 'Mongolia', 'Taiwan Province of China']\n",
    "\n",
    "    region_column = []\n",
    "    for country in country_column:\n",
    "        if country in africa:\n",
    "            region_column.append('Africa')\n",
    "        elif country in north_america:\n",
    "            region_column.append('North America')\n",
    "        elif country in former_soviet_union:\n",
    "            region_column.append('Fmr Soviet Union')\n",
    "        elif country in south_asia:\n",
    "            region_column.append('South Asia')\n",
    "        elif country in west_asia:\n",
    "            region_column.append('West Asia')\n",
    "        elif country in southeast_asia:\n",
    "            region_column.append('Southeast Asia')\n",
    "        elif country in oceania:\n",
    "            region_column.append('Oceania')\n",
    "        elif country in latin_america:\n",
    "            region_column.append('Latin America')\n",
    "        elif country in europe:\n",
    "            region_column.append('Europe')\n",
    "        elif country in east_asia:\n",
    "            region_column.append('East Asia')\n",
    "        else:\n",
    "            region_column.append(np.nan)\n",
    "    return region_column\n",
    "\n",
    "df['Region_o'] = map_to_region(df.Country_o)\n",
    "df['Region_d'] = map_to_region(df.Country_d)\n"
   ]
  },
  {
   "attachments": {},
   "cell_type": "markdown",
   "metadata": {},
   "source": [
    "Most emigration in latin america?\n",
    "\n",
    "Venezuela ranks at the top."
   ]
  },
  {
   "cell_type": "code",
   "execution_count": 15,
   "metadata": {},
   "outputs": [
    {
     "data": {
      "text/html": [
       "<div>\n",
       "<style scoped>\n",
       "    .dataframe tbody tr th:only-of-type {\n",
       "        vertical-align: middle;\n",
       "    }\n",
       "\n",
       "    .dataframe tbody tr th {\n",
       "        vertical-align: top;\n",
       "    }\n",
       "\n",
       "    .dataframe thead th {\n",
       "        text-align: right;\n",
       "    }\n",
       "</style>\n",
       "<table border=\"1\" class=\"dataframe\">\n",
       "  <thead>\n",
       "    <tr style=\"text-align: right;\">\n",
       "      <th></th>\n",
       "      <th>iso_o</th>\n",
       "      <th>year</th>\n",
       "      <th>newarrival</th>\n",
       "    </tr>\n",
       "  </thead>\n",
       "  <tbody>\n",
       "    <tr>\n",
       "      <th>793</th>\n",
       "      <td>VEN</td>\n",
       "      <td>2018</td>\n",
       "      <td>2508056.5</td>\n",
       "    </tr>\n",
       "    <tr>\n",
       "      <th>794</th>\n",
       "      <td>VEN</td>\n",
       "      <td>2019</td>\n",
       "      <td>1524435.0</td>\n",
       "    </tr>\n",
       "    <tr>\n",
       "      <th>796</th>\n",
       "      <td>VEN</td>\n",
       "      <td>2021</td>\n",
       "      <td>664573.0</td>\n",
       "    </tr>\n",
       "    <tr>\n",
       "      <th>795</th>\n",
       "      <td>VEN</td>\n",
       "      <td>2020</td>\n",
       "      <td>572356.0</td>\n",
       "    </tr>\n",
       "    <tr>\n",
       "      <th>792</th>\n",
       "      <td>VEN</td>\n",
       "      <td>2017</td>\n",
       "      <td>125916.0</td>\n",
       "    </tr>\n",
       "    <tr>\n",
       "      <th>546</th>\n",
       "      <td>NIC</td>\n",
       "      <td>2021</td>\n",
       "      <td>111562.0</td>\n",
       "    </tr>\n",
       "    <tr>\n",
       "      <th>419</th>\n",
       "      <td>HND</td>\n",
       "      <td>2019</td>\n",
       "      <td>80618.0</td>\n",
       "    </tr>\n",
       "    <tr>\n",
       "      <th>446</th>\n",
       "      <td>HTI</td>\n",
       "      <td>2021</td>\n",
       "      <td>67019.0</td>\n",
       "    </tr>\n",
       "    <tr>\n",
       "      <th>642</th>\n",
       "      <td>SLV</td>\n",
       "      <td>2017</td>\n",
       "      <td>65477.0</td>\n",
       "    </tr>\n",
       "    <tr>\n",
       "      <th>369</th>\n",
       "      <td>GTM</td>\n",
       "      <td>2019</td>\n",
       "      <td>60288.0</td>\n",
       "    </tr>\n",
       "  </tbody>\n",
       "</table>\n",
       "</div>"
      ],
      "text/plain": [
       "    iso_o  year  newarrival\n",
       "793   VEN  2018   2508056.5\n",
       "794   VEN  2019   1524435.0\n",
       "796   VEN  2021    664573.0\n",
       "795   VEN  2020    572356.0\n",
       "792   VEN  2017    125916.0\n",
       "546   NIC  2021    111562.0\n",
       "419   HND  2019     80618.0\n",
       "446   HTI  2021     67019.0\n",
       "642   SLV  2017     65477.0\n",
       "369   GTM  2019     60288.0"
      ]
     },
     "execution_count": 15,
     "metadata": {},
     "output_type": "execute_result"
    }
   ],
   "source": [
    "df[df['Region_o'] == 'Latin America'].groupby(['iso_o','year'], as_index=False).agg({'newarrival':'sum' }).sort_values(by='newarrival', ascending=False).head(10)"
   ]
  },
  {
   "cell_type": "code",
   "execution_count": 16,
   "metadata": {},
   "outputs": [],
   "source": [
    "def assign_colors(s, palette=None):\n",
    "    unique_values = s.unique()\n",
    "    if palette is None:\n",
    "        colors = mcolors.TABLEAU_COLORS\n",
    "        palette = pd.Series(colors).sample(len(unique_values), random_state=42)\n",
    "\n",
    "    color_dict = dict(zip(unique_values, palette))\n",
    "    rgb_dict = {k: mcolors.to_rgb(v) for k, v in color_dict.items()}\n",
    "\n",
    "    # Create color-mapped values and legend plot\n",
    "    color_mapped_values = s.map(rgb_dict).tolist()\n",
    "\n",
    "    return color_mapped_values"
   ]
  },
  {
   "attachments": {},
   "cell_type": "markdown",
   "metadata": {},
   "source": [
    "Visualization"
   ]
  },
  {
   "cell_type": "code",
   "execution_count": 22,
   "metadata": {},
   "outputs": [
    {
     "data": {
      "text/html": [
       "<div>\n",
       "<style scoped>\n",
       "    .dataframe tbody tr th:only-of-type {\n",
       "        vertical-align: middle;\n",
       "    }\n",
       "\n",
       "    .dataframe tbody tr th {\n",
       "        vertical-align: top;\n",
       "    }\n",
       "\n",
       "    .dataframe thead th {\n",
       "        text-align: right;\n",
       "    }\n",
       "</style>\n",
       "<table border=\"1\" class=\"dataframe\">\n",
       "  <thead>\n",
       "    <tr style=\"text-align: right;\">\n",
       "      <th></th>\n",
       "      <th>iso_o</th>\n",
       "      <th>iso_d</th>\n",
       "      <th>newarrival</th>\n",
       "      <th>year</th>\n",
       "    </tr>\n",
       "  </thead>\n",
       "  <tbody>\n",
       "    <tr>\n",
       "      <th>225</th>\n",
       "      <td>AFG</td>\n",
       "      <td>AUS</td>\n",
       "      <td>1326.0</td>\n",
       "      <td>2000</td>\n",
       "    </tr>\n",
       "    <tr>\n",
       "      <th>226</th>\n",
       "      <td>AFG</td>\n",
       "      <td>AUS</td>\n",
       "      <td>2161.0</td>\n",
       "      <td>2001</td>\n",
       "    </tr>\n",
       "    <tr>\n",
       "      <th>229</th>\n",
       "      <td>AFG</td>\n",
       "      <td>AUS</td>\n",
       "      <td>116.0</td>\n",
       "      <td>2004</td>\n",
       "    </tr>\n",
       "    <tr>\n",
       "      <th>234</th>\n",
       "      <td>AFG</td>\n",
       "      <td>AUS</td>\n",
       "      <td>940.0</td>\n",
       "      <td>2009</td>\n",
       "    </tr>\n",
       "    <tr>\n",
       "      <th>235</th>\n",
       "      <td>AFG</td>\n",
       "      <td>AUS</td>\n",
       "      <td>1265.0</td>\n",
       "      <td>2010</td>\n",
       "    </tr>\n",
       "    <tr>\n",
       "      <th>...</th>\n",
       "      <td>...</td>\n",
       "      <td>...</td>\n",
       "      <td>...</td>\n",
       "      <td>...</td>\n",
       "    </tr>\n",
       "    <tr>\n",
       "      <th>965042</th>\n",
       "      <td>ZWE</td>\n",
       "      <td>USA</td>\n",
       "      <td>391.0</td>\n",
       "      <td>2017</td>\n",
       "    </tr>\n",
       "    <tr>\n",
       "      <th>965043</th>\n",
       "      <td>ZWE</td>\n",
       "      <td>USA</td>\n",
       "      <td>207.0</td>\n",
       "      <td>2018</td>\n",
       "    </tr>\n",
       "    <tr>\n",
       "      <th>965044</th>\n",
       "      <td>ZWE</td>\n",
       "      <td>USA</td>\n",
       "      <td>255.0</td>\n",
       "      <td>2019</td>\n",
       "    </tr>\n",
       "    <tr>\n",
       "      <th>965045</th>\n",
       "      <td>ZWE</td>\n",
       "      <td>USA</td>\n",
       "      <td>274.0</td>\n",
       "      <td>2020</td>\n",
       "    </tr>\n",
       "    <tr>\n",
       "      <th>965046</th>\n",
       "      <td>ZWE</td>\n",
       "      <td>USA</td>\n",
       "      <td>105.0</td>\n",
       "      <td>2021</td>\n",
       "    </tr>\n",
       "  </tbody>\n",
       "</table>\n",
       "<p>17048 rows × 4 columns</p>\n",
       "</div>"
      ],
      "text/plain": [
       "       iso_o iso_d  newarrival  year\n",
       "225      AFG   AUS      1326.0  2000\n",
       "226      AFG   AUS      2161.0  2001\n",
       "229      AFG   AUS       116.0  2004\n",
       "234      AFG   AUS       940.0  2009\n",
       "235      AFG   AUS      1265.0  2010\n",
       "...      ...   ...         ...   ...\n",
       "965042   ZWE   USA       391.0  2017\n",
       "965043   ZWE   USA       207.0  2018\n",
       "965044   ZWE   USA       255.0  2019\n",
       "965045   ZWE   USA       274.0  2020\n",
       "965046   ZWE   USA       105.0  2021\n",
       "\n",
       "[17048 rows x 4 columns]"
      ]
     },
     "execution_count": 22,
     "metadata": {},
     "output_type": "execute_result"
    }
   ],
   "source": [
    "df[(df.newarrival > 100)][['iso_o','iso_d','newarrival','year']]"
   ]
  },
  {
   "cell_type": "code",
   "execution_count": 17,
   "metadata": {},
   "outputs": [
    {
     "data": {
      "image/svg+xml": [
       "<?xml version=\"1.0\" encoding=\"UTF-8\"?>\n",
       "<svg xmlns=\"http://www.w3.org/2000/svg\" xmlns:xlink=\"http://www.w3.org/1999/xlink\" width=\"600pt\" height=\"600pt\" viewBox=\"0 0 600 600\" version=\"1.1\">\n",
       "<defs>\n",
       "<g>\n",
       "<symbol overflow=\"visible\" id=\"glyph0-0\">\n",
       "<path style=\"stroke:none;\" d=\"M 0.453125 0 L 0.453125 -10.042969 L 8.421875 -10.042969 L 8.421875 0 Z M 7.164062 -1.257812 L 7.164062 -8.785156 L 1.710938 -8.785156 L 1.710938 -1.257812 Z M 7.164062 -1.257812 \"/>\n",
       "</symbol>\n",
       "<symbol overflow=\"visible\" id=\"glyph0-1\">\n",
       "<path style=\"stroke:none;\" d=\"M 6.21875 -4.117188 L 4.695312 -8.550781 L 3.078125 -4.117188 Z M 3.984375 -10.042969 L 5.523438 -10.042969 L 9.167969 0 L 7.675781 0 L 6.65625 -3.007812 L 2.6875 -3.007812 L 1.601562 0 L 0.203125 0 Z M 3.984375 -10.042969 \"/>\n",
       "</symbol>\n",
       "<symbol overflow=\"visible\" id=\"glyph0-2\">\n",
       "<path style=\"stroke:none;\" d=\"M 1.195312 -10.042969 L 8.164062 -10.042969 L 8.164062 -8.8125 L 2.554688 -8.8125 L 2.554688 -5.761719 L 7.484375 -5.761719 L 7.484375 -4.566406 L 2.554688 -4.566406 L 2.554688 0 L 1.195312 0 Z M 1.195312 -10.042969 \"/>\n",
       "</symbol>\n",
       "<symbol overflow=\"visible\" id=\"glyph0-3\">\n",
       "<path style=\"stroke:none;\" d=\"M 5.40625 -10.300781 C 6.351562 -10.300781 7.167969 -10.121094 7.855469 -9.753906 C 8.851562 -9.230469 9.464844 -8.3125 9.6875 -7 L 8.339844 -7 C 8.175781 -7.734375 7.835938 -8.269531 7.320312 -8.601562 C 6.804688 -8.9375 6.15625 -9.105469 5.375 -9.105469 C 4.445312 -9.105469 3.660156 -8.757812 3.023438 -8.058594 C 2.390625 -7.363281 2.070312 -6.324219 2.070312 -4.941406 C 2.070312 -3.75 2.332031 -2.777344 2.859375 -2.027344 C 3.382812 -1.277344 4.234375 -0.902344 5.421875 -0.902344 C 6.328125 -0.902344 7.078125 -1.164062 7.671875 -1.691406 C 8.265625 -2.21875 8.570312 -3.070312 8.585938 -4.246094 L 5.441406 -4.246094 L 5.441406 -5.375 L 9.851562 -5.375 L 9.851562 0 L 8.976562 0 L 8.648438 -1.292969 C 8.1875 -0.785156 7.78125 -0.433594 7.421875 -0.238281 C 6.828125 0.0976562 6.066406 0.265625 5.148438 0.265625 C 3.957031 0.265625 2.933594 -0.117188 2.078125 -0.890625 C 1.144531 -1.855469 0.675781 -3.179688 0.675781 -4.867188 C 0.675781 -6.546875 1.132812 -7.886719 2.042969 -8.878906 C 2.910156 -9.828125 4.03125 -10.300781 5.40625 -10.300781 Z M 5.40625 -10.300781 \"/>\n",
       "</symbol>\n",
       "<symbol overflow=\"visible\" id=\"glyph0-4\">\n",
       "<path style=\"stroke:none;\" d=\"M 2.542969 -10.042969 L 2.542969 -3.835938 C 2.542969 -3.105469 2.679688 -2.5 2.953125 -2.015625 C 3.359375 -1.289062 4.042969 -0.921875 5.003906 -0.921875 C 6.15625 -0.921875 6.941406 -1.316406 7.355469 -2.105469 C 7.578125 -2.535156 7.691406 -3.109375 7.691406 -3.835938 L 7.691406 -10.042969 L 9.070312 -10.042969 L 9.070312 -4.402344 C 9.070312 -3.167969 8.90625 -2.21875 8.570312 -1.550781 C 7.960938 -0.339844 6.808594 0.265625 5.113281 0.265625 C 3.417969 0.265625 2.265625 -0.339844 1.660156 -1.550781 C 1.328125 -2.21875 1.164062 -3.167969 1.164062 -4.402344 L 1.164062 -10.042969 Z M 2.542969 -10.042969 \"/>\n",
       "</symbol>\n",
       "<symbol overflow=\"visible\" id=\"glyph0-5\">\n",
       "<path style=\"stroke:none;\" d=\"M 8.375 -10.042969 L 8.375 -8.84375 L 4.992188 -8.84375 L 4.992188 0 L 3.609375 0 L 3.609375 -8.84375 L 0.226562 -8.84375 L 0.226562 -10.042969 Z M 8.375 -10.042969 \"/>\n",
       "</symbol>\n",
       "<symbol overflow=\"visible\" id=\"glyph0-6\">\n",
       "<path style=\"stroke:none;\" d=\"M 4.921875 -1.164062 C 5.382812 -1.164062 5.761719 -1.210938 6.054688 -1.304688 C 6.585938 -1.484375 7.019531 -1.824219 7.355469 -2.332031 C 7.625 -2.738281 7.816406 -3.257812 7.9375 -3.890625 C 8.003906 -4.269531 8.039062 -4.617188 8.039062 -4.941406 C 8.039062 -6.1875 7.792969 -7.152344 7.296875 -7.839844 C 6.804688 -8.527344 6.007812 -8.875 4.90625 -8.875 L 2.496094 -8.875 L 2.496094 -1.164062 Z M 1.128906 -10.042969 L 5.195312 -10.042969 C 6.578125 -10.042969 7.648438 -9.550781 8.40625 -8.570312 C 9.085938 -7.6875 9.425781 -6.554688 9.425781 -5.175781 C 9.425781 -4.109375 9.226562 -3.144531 8.824219 -2.28125 C 8.117188 -0.761719 6.90625 0 5.179688 0 L 1.128906 0 Z M 1.128906 -10.042969 \"/>\n",
       "</symbol>\n",
       "<symbol overflow=\"visible\" id=\"glyph0-7\">\n",
       "<path style=\"stroke:none;\" d=\"M 1.195312 -10.042969 L 8.515625 -10.042969 L 8.515625 -8.8125 L 2.523438 -8.8125 L 2.523438 -5.761719 L 8.066406 -5.761719 L 8.066406 -4.601562 L 2.523438 -4.601562 L 2.523438 -1.195312 L 8.621094 -1.195312 L 8.621094 0 L 1.195312 0 Z M 1.195312 -10.042969 \"/>\n",
       "</symbol>\n",
       "<symbol overflow=\"visible\" id=\"glyph0-8\">\n",
       "<path style=\"stroke:none;\" d=\"M 5.734375 -5.441406 C 6.375 -5.441406 6.878906 -5.570312 7.25 -5.824219 C 7.621094 -6.078125 7.804688 -6.539062 7.804688 -7.203125 C 7.804688 -7.921875 7.546875 -8.40625 7.027344 -8.667969 C 6.75 -8.804688 6.378906 -8.875 5.914062 -8.875 L 2.589844 -8.875 L 2.589844 -5.441406 Z M 1.230469 -10.042969 L 5.878906 -10.042969 C 6.644531 -10.042969 7.277344 -9.929688 7.773438 -9.707031 C 8.714844 -9.277344 9.1875 -8.488281 9.1875 -7.335938 C 9.1875 -6.734375 9.0625 -6.242188 8.816406 -5.859375 C 8.566406 -5.476562 8.21875 -5.167969 7.773438 -4.9375 C 8.164062 -4.777344 8.460938 -4.566406 8.65625 -4.304688 C 8.855469 -4.046875 8.964844 -3.625 8.988281 -3.042969 L 9.039062 -1.695312 C 9.050781 -1.3125 9.082031 -1.027344 9.132812 -0.839844 C 9.214844 -0.523438 9.359375 -0.316406 9.570312 -0.226562 L 9.570312 0 L 7.902344 0 C 7.855469 -0.0859375 7.820312 -0.199219 7.792969 -0.335938 C 7.765625 -0.472656 7.742188 -0.734375 7.726562 -1.128906 L 7.640625 -2.804688 C 7.609375 -3.460938 7.367188 -3.898438 6.910156 -4.121094 C 6.652344 -4.246094 6.242188 -4.304688 5.6875 -4.304688 L 2.589844 -4.304688 L 2.589844 0 L 1.230469 0 Z M 1.230469 -10.042969 \"/>\n",
       "</symbol>\n",
       "<symbol overflow=\"visible\" id=\"glyph0-9\">\n",
       "<path style=\"stroke:none;\" d=\"M 5.296875 -10.316406 C 6.570312 -10.316406 7.554688 -9.980469 8.257812 -9.3125 C 8.960938 -8.640625 9.347656 -7.878906 9.425781 -7.027344 L 8.101562 -7.027344 C 7.949219 -7.675781 7.652344 -8.1875 7.203125 -8.566406 C 6.753906 -8.945312 6.121094 -9.132812 5.3125 -9.132812 C 4.324219 -9.132812 3.523438 -8.785156 2.914062 -8.089844 C 2.304688 -7.394531 2.003906 -6.328125 2.003906 -4.894531 C 2.003906 -3.71875 2.277344 -2.765625 2.828125 -2.035156 C 3.375 -1.304688 4.195312 -0.9375 5.285156 -0.9375 C 6.289062 -0.9375 7.050781 -1.320312 7.574219 -2.09375 C 7.851562 -2.5 8.058594 -3.03125 8.195312 -3.691406 L 9.523438 -3.691406 C 9.40625 -2.632812 9.011719 -1.746094 8.347656 -1.03125 C 7.550781 -0.171875 6.472656 0.257812 5.121094 0.257812 C 3.953125 0.257812 2.972656 -0.09375 2.179688 -0.800781 C 1.136719 -1.734375 0.617188 -3.175781 0.617188 -5.125 C 0.617188 -6.609375 1.007812 -7.824219 1.789062 -8.769531 C 2.636719 -9.800781 3.808594 -10.316406 5.296875 -10.316406 Z M 5.296875 -10.316406 \"/>\n",
       "</symbol>\n",
       "<symbol overflow=\"visible\" id=\"glyph0-10\">\n",
       "<path style=\"stroke:none;\" d=\"M 1.101562 -10.042969 L 2.476562 -10.042969 L 2.476562 -5.890625 L 7.695312 -5.890625 L 7.695312 -10.042969 L 9.070312 -10.042969 L 9.070312 0 L 7.695312 0 L 7.695312 -4.695312 L 2.476562 -4.695312 L 2.476562 0 L 1.101562 0 Z M 1.101562 -10.042969 \"/>\n",
       "</symbol>\n",
       "<symbol overflow=\"visible\" id=\"glyph0-11\">\n",
       "<path style=\"stroke:none;\" d=\"M 1.066406 -10.042969 L 2.671875 -10.042969 L 7.746094 -1.90625 L 7.746094 -10.042969 L 9.039062 -10.042969 L 9.039062 0 L 7.511719 0 L 2.367188 -8.128906 L 2.367188 0 L 1.066406 0 Z M 1.066406 -10.042969 \"/>\n",
       "</symbol>\n",
       "<symbol overflow=\"visible\" id=\"glyph0-12\">\n",
       "<path style=\"stroke:none;\" d=\"M 1.375 -10.042969 L 2.75 -10.042969 L 2.75 0 L 1.375 0 Z M 1.375 -10.042969 \"/>\n",
       "</symbol>\n",
       "<symbol overflow=\"visible\" id=\"glyph0-13\">\n",
       "<path style=\"stroke:none;\" d=\"M 1.195312 -10.042969 L 5.714844 -10.042969 C 6.609375 -10.042969 7.328125 -9.789062 7.875 -9.285156 C 8.421875 -8.78125 8.695312 -8.074219 8.695312 -7.164062 C 8.695312 -6.378906 8.453125 -5.699219 7.964844 -5.117188 C 7.476562 -4.535156 6.726562 -4.246094 5.714844 -4.246094 L 2.554688 -4.246094 L 2.554688 0 L 1.195312 0 Z M 7.320312 -7.15625 C 7.320312 -7.894531 7.046875 -8.398438 6.5 -8.660156 C 6.199219 -8.800781 5.789062 -8.875 5.265625 -8.875 L 2.554688 -8.875 L 2.554688 -5.394531 L 5.265625 -5.394531 C 5.875 -5.394531 6.371094 -5.523438 6.75 -5.78125 C 7.132812 -6.042969 7.320312 -6.5 7.320312 -7.15625 Z M 7.320312 -7.15625 \"/>\n",
       "</symbol>\n",
       "<symbol overflow=\"visible\" id=\"glyph0-14\">\n",
       "<path style=\"stroke:none;\" d=\"M 1.066406 -10.042969 L 2.390625 -10.042969 L 2.390625 -5.148438 L 7.289062 -10.042969 L 9.167969 -10.042969 L 4.992188 -5.996094 L 9.28125 0 L 7.511719 0 L 4 -5.039062 L 2.390625 -3.5 L 2.390625 0 L 1.066406 0 Z M 1.066406 -10.042969 \"/>\n",
       "</symbol>\n",
       "<symbol overflow=\"visible\" id=\"glyph0-15\">\n",
       "<path style=\"stroke:none;\" d=\"M 1.953125 -3.242188 C 1.984375 -2.671875 2.121094 -2.207031 2.359375 -1.851562 C 2.808594 -1.1875 3.605469 -0.855469 4.742188 -0.855469 C 5.253906 -0.855469 5.71875 -0.925781 6.140625 -1.074219 C 6.949219 -1.355469 7.355469 -1.863281 7.355469 -2.589844 C 7.355469 -3.136719 7.183594 -3.527344 6.84375 -3.757812 C 6.496094 -3.988281 5.953125 -4.1875 5.214844 -4.355469 L 3.855469 -4.664062 C 2.96875 -4.863281 2.335938 -5.082031 1.96875 -5.324219 C 1.332031 -5.742188 1.011719 -6.371094 1.011719 -7.203125 C 1.011719 -8.105469 1.324219 -8.847656 1.949219 -9.425781 C 2.574219 -10.003906 3.457031 -10.296875 4.601562 -10.296875 C 5.652344 -10.296875 6.546875 -10.039062 7.285156 -9.53125 C 8.019531 -9.023438 8.386719 -8.210938 8.386719 -7.09375 L 7.109375 -7.09375 C 7.039062 -7.632812 6.894531 -8.046875 6.671875 -8.332031 C 6.257812 -8.855469 5.554688 -9.117188 4.558594 -9.117188 C 3.757812 -9.117188 3.179688 -8.949219 2.828125 -8.613281 C 2.476562 -8.277344 2.304688 -7.882812 2.304688 -7.4375 C 2.304688 -6.945312 2.507812 -6.585938 2.917969 -6.359375 C 3.1875 -6.210938 3.796875 -6.03125 4.742188 -5.8125 L 6.152344 -5.488281 C 6.832031 -5.335938 7.355469 -5.121094 7.726562 -4.851562 C 8.363281 -4.382812 8.679688 -3.703125 8.679688 -2.808594 C 8.679688 -1.695312 8.277344 -0.902344 7.46875 -0.421875 C 6.660156 0.0546875 5.71875 0.292969 4.648438 0.292969 C 3.398438 0.292969 2.421875 -0.0234375 1.714844 -0.664062 C 1.007812 -1.296875 0.664062 -2.15625 0.675781 -3.242188 Z M 1.953125 -3.242188 \"/>\n",
       "</symbol>\n",
       "<symbol overflow=\"visible\" id=\"glyph0-16\">\n",
       "<path style=\"stroke:none;\" d=\"M 1.730469 -10.042969 L 3.625 -1.875 L 5.890625 -10.042969 L 7.367188 -10.042969 L 9.640625 -1.875 L 11.53125 -10.042969 L 13.023438 -10.042969 L 10.382812 0 L 8.953125 0 L 6.636719 -8.328125 L 4.304688 0 L 2.878906 0 L 0.253906 -10.042969 Z M 1.730469 -10.042969 \"/>\n",
       "</symbol>\n",
       "<symbol overflow=\"visible\" id=\"glyph0-17\">\n",
       "<path style=\"stroke:none;\" d=\"M 5.996094 -2.992188 C 5.996094 -2.144531 5.871094 -1.488281 5.617188 -1.019531 C 5.152344 -0.164062 4.269531 0.265625 2.96875 0.265625 C 2.214844 0.265625 1.570312 0.0625 1.039062 -0.34375 C 0.507812 -0.753906 0.238281 -1.480469 0.238281 -2.523438 L 0.238281 -3.242188 L 1.515625 -3.242188 L 1.515625 -2.523438 C 1.515625 -1.976562 1.640625 -1.5625 1.882812 -1.289062 C 2.125 -1.011719 2.507812 -0.875 3.023438 -0.875 C 3.746094 -0.875 4.21875 -1.125 4.445312 -1.621094 C 4.582031 -1.925781 4.648438 -2.5 4.648438 -3.351562 L 4.648438 -10.042969 L 5.996094 -10.042969 Z M 5.996094 -2.992188 \"/>\n",
       "</symbol>\n",
       "<symbol overflow=\"visible\" id=\"glyph0-18\">\n",
       "<path style=\"stroke:none;\" d=\"M 0.320312 -1.128906 L 6.480469 -8.84375 L 0.773438 -8.84375 L 0.773438 -10.042969 L 8.230469 -10.042969 L 8.230469 -8.875 L 2.039062 -1.195312 L 8.230469 -1.195312 L 8.230469 0 L 0.320312 0 Z M 0.320312 -1.128906 \"/>\n",
       "</symbol>\n",
       "<symbol overflow=\"visible\" id=\"glyph0-19\">\n",
       "<path style=\"stroke:none;\" d=\"M 4.839844 -5.796875 C 5.414062 -5.796875 5.859375 -5.875 6.179688 -6.035156 C 6.679688 -6.285156 6.929688 -6.738281 6.929688 -7.390625 C 6.929688 -8.046875 6.664062 -8.488281 6.132812 -8.714844 C 5.832031 -8.84375 5.382812 -8.90625 4.792969 -8.90625 L 2.367188 -8.90625 L 2.367188 -5.796875 Z M 5.296875 -1.164062 C 6.132812 -1.164062 6.726562 -1.402344 7.082031 -1.886719 C 7.304688 -2.191406 7.417969 -2.5625 7.417969 -2.992188 C 7.417969 -3.722656 7.089844 -4.21875 6.4375 -4.484375 C 6.09375 -4.625 5.636719 -4.695312 5.066406 -4.695312 L 2.367188 -4.695312 L 2.367188 -1.164062 Z M 1.03125 -10.042969 L 5.34375 -10.042969 C 6.519531 -10.042969 7.359375 -9.691406 7.855469 -8.988281 C 8.148438 -8.574219 8.292969 -8.097656 8.292969 -7.554688 C 8.292969 -6.921875 8.113281 -6.402344 7.75 -5.996094 C 7.5625 -5.78125 7.296875 -5.585938 6.945312 -5.40625 C 7.460938 -5.210938 7.84375 -4.992188 8.101562 -4.742188 C 8.550781 -4.304688 8.777344 -3.703125 8.777344 -2.933594 C 8.777344 -2.285156 8.574219 -1.699219 8.167969 -1.175781 C 7.5625 -0.390625 6.597656 0 5.277344 0 L 1.03125 0 Z M 1.03125 -10.042969 \"/>\n",
       "</symbol>\n",
       "<symbol overflow=\"visible\" id=\"glyph0-20\">\n",
       "<path style=\"stroke:none;\" d=\"M 5.398438 -10.316406 C 7.171875 -10.316406 8.484375 -9.746094 9.335938 -8.605469 C 10.003906 -7.71875 10.335938 -6.582031 10.335938 -5.195312 C 10.335938 -3.695312 9.957031 -2.449219 9.195312 -1.457031 C 8.300781 -0.289062 7.027344 0.292969 5.375 0.292969 C 3.828125 0.292969 2.613281 -0.214844 1.730469 -1.238281 C 0.941406 -2.222656 0.546875 -3.464844 0.546875 -4.96875 C 0.546875 -6.328125 0.882812 -7.488281 1.558594 -8.457031 C 2.425781 -9.695312 3.703125 -10.316406 5.398438 -10.316406 Z M 5.539062 -0.921875 C 6.734375 -0.921875 7.601562 -1.351562 8.136719 -2.210938 C 8.671875 -3.070312 8.941406 -4.058594 8.941406 -5.175781 C 8.941406 -6.355469 8.632812 -7.304688 8.015625 -8.023438 C 7.398438 -8.746094 6.554688 -9.105469 5.484375 -9.105469 C 4.445312 -9.105469 3.59375 -8.75 2.9375 -8.035156 C 2.28125 -7.320312 1.953125 -6.269531 1.953125 -4.882812 C 1.953125 -3.769531 2.238281 -2.832031 2.800781 -2.066406 C 3.363281 -1.304688 4.273438 -0.921875 5.539062 -0.921875 Z M 5.539062 -0.921875 \"/>\n",
       "</symbol>\n",
       "<symbol overflow=\"visible\" id=\"glyph0-21\">\n",
       "<path style=\"stroke:none;\" d=\"M 1.03125 -10.042969 L 2.980469 -10.042969 L 5.867188 -1.550781 L 8.730469 -10.042969 L 10.65625 -10.042969 L 10.65625 0 L 9.367188 0 L 9.367188 -5.925781 C 9.367188 -6.132812 9.371094 -6.472656 9.378906 -6.945312 C 9.386719 -7.417969 9.390625 -7.925781 9.390625 -8.46875 L 6.527344 0 L 5.179688 0 L 2.296875 -8.46875 L 2.296875 -8.164062 C 2.296875 -7.917969 2.300781 -7.542969 2.3125 -7.039062 C 2.324219 -6.535156 2.332031 -6.164062 2.332031 -5.925781 L 2.332031 0 L 1.03125 0 Z M 1.03125 -10.042969 \"/>\n",
       "</symbol>\n",
       "<symbol overflow=\"visible\" id=\"glyph0-22\">\n",
       "<path style=\"stroke:none;\" d=\"M 1.066406 -10.042969 L 2.425781 -10.042969 L 2.425781 -1.195312 L 7.511719 -1.195312 L 7.511719 0 L 1.066406 0 Z M 1.066406 -10.042969 \"/>\n",
       "</symbol>\n",
       "<symbol overflow=\"visible\" id=\"glyph0-23\">\n",
       "<path style=\"stroke:none;\" d=\"M 1.859375 -10.042969 L 4.742188 -1.492188 L 7.59375 -10.042969 L 9.117188 -10.042969 L 5.453125 0 L 4.011719 0 L 0.355469 -10.042969 Z M 1.859375 -10.042969 \"/>\n",
       "</symbol>\n",
       "<symbol overflow=\"visible\" id=\"glyph0-24\">\n",
       "<path style=\"stroke:none;\" d=\"M 1.929688 0 L 0.289062 0 L 3.882812 -5.148438 L 0.511719 -10.042969 L 2.214844 -10.042969 L 4.777344 -6.199219 L 7.320312 -10.042969 L 8.941406 -10.042969 L 5.570312 -5.148438 L 9.105469 0 L 7.417969 0 L 4.710938 -4.128906 Z M 1.929688 0 \"/>\n",
       "</symbol>\n",
       "<symbol overflow=\"visible\" id=\"glyph0-25\">\n",
       "<path style=\"stroke:none;\" d=\"M 0.289062 -10.042969 L 1.875 -10.042969 L 4.757812 -5.214844 L 7.640625 -10.042969 L 9.234375 -10.042969 L 5.441406 -4.046875 L 5.441406 0 L 4.082031 0 L 4.082031 -4.046875 Z M 0.289062 -10.042969 \"/>\n",
       "</symbol>\n",
       "<symbol overflow=\"visible\" id=\"glyph0-26\">\n",
       "<path style=\"stroke:none;\" d=\"M 10.253906 -0.0273438 L 9.570312 0.800781 L 8.019531 -0.382812 C 7.644531 -0.179688 7.242188 -0.015625 6.804688 0.109375 C 6.371094 0.234375 5.894531 0.292969 5.378906 0.292969 C 3.820312 0.292969 2.601562 -0.214844 1.714844 -1.238281 C 0.9375 -2.230469 0.546875 -3.476562 0.546875 -4.96875 C 0.546875 -6.328125 0.882812 -7.488281 1.558594 -8.457031 C 2.425781 -9.695312 3.703125 -10.316406 5.398438 -10.316406 C 7.171875 -10.316406 8.484375 -9.746094 9.335938 -8.605469 C 10.003906 -7.71875 10.335938 -6.582031 10.335938 -5.195312 C 10.335938 -4.546875 10.257812 -3.925781 10.097656 -3.328125 C 9.855469 -2.417969 9.445312 -1.675781 8.875 -1.101562 Z M 5.542969 -0.921875 C 5.828125 -0.921875 6.089844 -0.941406 6.335938 -0.980469 C 6.582031 -1.019531 6.796875 -1.097656 6.980469 -1.210938 L 5.878906 -2.070312 L 6.5625 -2.914062 L 7.875 -1.894531 C 8.289062 -2.367188 8.570312 -2.898438 8.71875 -3.484375 C 8.867188 -4.074219 8.941406 -4.636719 8.941406 -5.175781 C 8.941406 -6.355469 8.632812 -7.304688 8.015625 -8.023438 C 7.398438 -8.746094 6.554688 -9.105469 5.484375 -9.105469 C 4.398438 -9.105469 3.539062 -8.761719 2.90625 -8.070312 C 2.273438 -7.378906 1.953125 -6.316406 1.953125 -4.882812 C 1.953125 -3.671875 2.257812 -2.710938 2.867188 -1.996094 C 3.476562 -1.28125 4.367188 -0.921875 5.542969 -0.921875 Z M 5.542969 -0.921875 \"/>\n",
       "</symbol>\n",
       "</g>\n",
       "</defs>\n",
       "<g id=\"surface2\">\n",
       "<rect x=\"0\" y=\"0\" width=\"600\" height=\"600\" style=\"fill:rgb(100%,100%,100%);fill-opacity:1;stroke:none;\"/>\n",
       "<path style=\"fill:none;stroke-width:1;stroke-linecap:butt;stroke-linejoin:miter;stroke:rgb(26.666667%,26.666667%,26.666667%);stroke-opacity:1;stroke-miterlimit:10;\" d=\"M 512.398438 268.832031 L 524.671875 301.867188 \"/>\n",
       "<path style=\" stroke:none;fill-rule:nonzero;fill:rgb(26.666667%,26.666667%,26.666667%);fill-opacity:1;\" d=\"M 529.640625 315.238281 L 520.328125 303.480469 L 529.015625 300.25 L 529.640625 315.238281 \"/>\n",
       "<path style=\"fill:none;stroke-width:1;stroke-linecap:butt;stroke-linejoin:miter;stroke:rgb(26.666667%,26.666667%,26.666667%);stroke-opacity:1;stroke-miterlimit:10;\" d=\"M 512.398438 268.832031 L 478.035156 291.25 \"/>\n",
       "<path style=\" stroke:none;fill-rule:nonzero;fill:rgb(26.666667%,26.666667%,26.666667%);fill-opacity:1;\" d=\"M 466.085938 299.046875 L 475.503906 287.367188 L 480.566406 295.132812 L 466.085938 299.046875 \"/>\n",
       "<path style=\"fill:none;stroke-width:1;stroke-linecap:butt;stroke-linejoin:miter;stroke:rgb(26.666667%,26.666667%,26.666667%);stroke-opacity:1;stroke-miterlimit:10;\" d=\"M 512.398438 268.832031 L 555.105469 255.832031 \"/>\n",
       "<path style=\" stroke:none;fill-rule:nonzero;fill:rgb(26.666667%,26.666667%,26.666667%);fill-opacity:1;\" d=\"M 568.753906 251.675781 L 556.457031 260.265625 L 553.757812 251.394531 L 568.753906 251.675781 \"/>\n",
       "<path style=\"fill:none;stroke-width:1;stroke-linecap:butt;stroke-linejoin:miter;stroke:rgb(26.666667%,26.666667%,26.666667%);stroke-opacity:1;stroke-miterlimit:10;\" d=\"M 512.398438 268.832031 L 527.414062 320.28125 \"/>\n",
       "<path style=\" stroke:none;fill-rule:nonzero;fill:rgb(26.666667%,26.666667%,26.666667%);fill-opacity:1;\" d=\"M 531.410156 333.976562 L 522.964844 321.582031 L 531.863281 318.984375 L 531.410156 333.976562 \"/>\n",
       "<path style=\"fill:none;stroke-width:1;stroke-linecap:butt;stroke-linejoin:miter;stroke:rgb(26.666667%,26.666667%,26.666667%);stroke-opacity:1;stroke-miterlimit:10;\" d=\"M 512.398438 268.832031 L 496.96875 267.359375 \"/>\n",
       "<path style=\" stroke:none;fill-rule:nonzero;fill:rgb(26.666667%,26.666667%,26.666667%);fill-opacity:1;\" d=\"M 482.765625 266.007812 L 497.410156 262.746094 L 496.527344 271.976562 L 482.765625 266.007812 \"/>\n",
       "<path style=\"fill:none;stroke-width:1;stroke-linecap:butt;stroke-linejoin:miter;stroke:rgb(26.666667%,26.666667%,26.666667%);stroke-opacity:1;stroke-miterlimit:10;\" d=\"M 512.398438 268.832031 L 523.628906 280.15625 \"/>\n",
       "<path style=\" stroke:none;fill-rule:nonzero;fill:rgb(26.666667%,26.666667%,26.666667%);fill-opacity:1;\" d=\"M 533.675781 290.289062 L 520.339844 283.421875 L 526.921875 276.894531 L 533.675781 290.289062 \"/>\n",
       "<path style=\"fill:none;stroke-width:1;stroke-linecap:butt;stroke-linejoin:miter;stroke:rgb(26.666667%,26.666667%,26.666667%);stroke-opacity:1;stroke-miterlimit:10;\" d=\"M 512.398438 268.832031 C 476.011719 244.449219 445.667969 264.789062 407.421875 274.414062 \"/>\n",
       "<path style=\" stroke:none;fill-rule:nonzero;fill:rgb(26.666667%,26.666667%,26.666667%);fill-opacity:1;\" d=\"M 421.257812 270.933594 L 408.554688 278.910156 L 406.292969 269.917969 L 421.257812 270.933594 \"/>\n",
       "<path style=\"fill:none;stroke-width:1;stroke-linecap:butt;stroke-linejoin:miter;stroke:rgb(26.666667%,26.666667%,26.666667%);stroke-opacity:1;stroke-miterlimit:10;\" d=\"M 512.398438 268.832031 L 491.648438 278.550781 \"/>\n",
       "<path style=\" stroke:none;fill-rule:nonzero;fill:rgb(26.666667%,26.666667%,26.666667%);fill-opacity:1;\" d=\"M 478.730469 284.601562 L 489.683594 274.351562 L 493.613281 282.75 L 478.730469 284.601562 \"/>\n",
       "<path style=\"fill:none;stroke-width:1;stroke-linecap:butt;stroke-linejoin:miter;stroke:rgb(26.666667%,26.666667%,26.666667%);stroke-opacity:1;stroke-miterlimit:10;\" d=\"M 512.398438 268.832031 L 558.425781 228.605469 \"/>\n",
       "<path style=\" stroke:none;fill-rule:nonzero;fill:rgb(26.666667%,26.666667%,26.666667%);fill-opacity:1;\" d=\"M 569.167969 219.21875 L 561.476562 232.09375 L 555.375 225.113281 L 569.167969 219.21875 \"/>\n",
       "<path style=\"fill:none;stroke-width:1;stroke-linecap:butt;stroke-linejoin:miter;stroke:rgb(26.666667%,26.666667%,26.666667%);stroke-opacity:1;stroke-miterlimit:10;\" d=\"M 512.398438 268.832031 L 508.53125 286.304688 \"/>\n",
       "<path style=\" stroke:none;fill-rule:nonzero;fill:rgb(26.666667%,26.666667%,26.666667%);fill-opacity:1;\" d=\"M 505.449219 300.234375 L 504.003906 285.304688 L 513.054688 287.308594 L 505.449219 300.234375 \"/>\n",
       "<path style=\"fill:none;stroke-width:1;stroke-linecap:butt;stroke-linejoin:miter;stroke:rgb(26.666667%,26.666667%,26.666667%);stroke-opacity:1;stroke-miterlimit:10;\" d=\"M 512.398438 268.832031 L 534.179688 220.917969 \"/>\n",
       "<path style=\" stroke:none;fill-rule:nonzero;fill:rgb(26.666667%,26.666667%,26.666667%);fill-opacity:1;\" d=\"M 540.082031 207.933594 L 538.398438 222.835938 L 529.960938 219 L 540.082031 207.933594 \"/>\n",
       "<path style=\"fill:none;stroke-width:1;stroke-linecap:butt;stroke-linejoin:miter;stroke:rgb(26.666667%,26.666667%,26.666667%);stroke-opacity:1;stroke-miterlimit:10;\" d=\"M 329.699219 79.910156 C 305.65625 87.632812 294.726562 129.351562 294.65625 129.355469 \"/>\n",
       "<path style=\" stroke:none;fill-rule:nonzero;fill:rgb(26.666667%,26.666667%,26.666667%);fill-opacity:1;\" d=\"M 308.914062 128.929688 L 294.792969 133.988281 L 294.515625 124.722656 L 308.914062 128.929688 \"/>\n",
       "<path style=\"fill:none;stroke-width:1;stroke-linecap:butt;stroke-linejoin:miter;stroke:rgb(26.666667%,26.666667%,26.666667%);stroke-opacity:1;stroke-miterlimit:10;\" d=\"M 329.699219 79.910156 L 324.914062 73.457031 \"/>\n",
       "<path style=\" stroke:none;fill-rule:nonzero;fill:rgb(26.666667%,26.666667%,26.666667%);fill-opacity:1;\" d=\"M 316.414062 62 L 328.636719 70.695312 L 321.191406 76.21875 L 316.414062 62 \"/>\n",
       "<path style=\"fill:none;stroke-width:1;stroke-linecap:butt;stroke-linejoin:miter;stroke:rgb(26.666667%,26.666667%,26.666667%);stroke-opacity:1;stroke-miterlimit:10;\" d=\"M 537.851562 258.234375 L 478.769531 292.445312 \"/>\n",
       "<path style=\" stroke:none;fill-rule:nonzero;fill:rgb(26.666667%,26.666667%,26.666667%);fill-opacity:1;\" d=\"M 466.425781 299.59375 L 476.445312 288.433594 L 481.09375 296.457031 L 466.425781 299.59375 \"/>\n",
       "<path style=\"fill:none;stroke-width:1;stroke-linecap:butt;stroke-linejoin:miter;stroke:rgb(26.666667%,26.666667%,26.666667%);stroke-opacity:1;stroke-miterlimit:10;\" d=\"M 537.851562 258.234375 L 554.683594 254.265625 \"/>\n",
       "<path style=\" stroke:none;fill-rule:nonzero;fill:rgb(26.666667%,26.666667%,26.666667%);fill-opacity:1;\" d=\"M 568.570312 250.988281 L 555.75 258.773438 L 553.621094 249.753906 L 568.570312 250.988281 \"/>\n",
       "<path style=\"fill:none;stroke-width:1;stroke-linecap:butt;stroke-linejoin:miter;stroke:rgb(26.666667%,26.666667%,26.666667%);stroke-opacity:1;stroke-miterlimit:10;\" d=\"M 423.171875 573.167969 L 407.027344 576.496094 \"/>\n",
       "<path style=\" stroke:none;fill-rule:nonzero;fill:rgb(26.666667%,26.666667%,26.666667%);fill-opacity:1;\" d=\"M 393.054688 579.378906 L 406.089844 571.957031 L 407.960938 581.035156 L 393.054688 579.378906 \"/>\n",
       "<path style=\"fill:none;stroke-width:1;stroke-linecap:butt;stroke-linejoin:miter;stroke:rgb(26.666667%,26.666667%,26.666667%);stroke-opacity:1;stroke-miterlimit:10;\" d=\"M 280.84375 118.1875 C 291.847656 121.628906 302.03125 137.914062 297.019531 140.640625 \"/>\n",
       "<path style=\" stroke:none;fill-rule:nonzero;fill:rgb(26.666667%,26.666667%,26.666667%);fill-opacity:1;\" d=\"M 309.550781 133.824219 L 299.234375 144.710938 L 294.804688 136.570312 L 309.550781 133.824219 \"/>\n",
       "<path style=\"fill:none;stroke-width:1;stroke-linecap:butt;stroke-linejoin:miter;stroke:rgb(26.666667%,26.666667%,26.666667%);stroke-opacity:1;stroke-miterlimit:10;\" d=\"M 280.84375 118.1875 C 281.417969 112.757812 277.972656 105.574219 274.128906 106.929688 \"/>\n",
       "<path style=\" stroke:none;fill-rule:nonzero;fill:rgb(26.666667%,26.666667%,26.666667%);fill-opacity:1;\" d=\"M 287.582031 102.183594 L 275.671875 111.300781 L 272.585938 102.558594 L 287.582031 102.183594 \"/>\n",
       "<path style=\"fill:none;stroke-width:1;stroke-linecap:butt;stroke-linejoin:miter;stroke:rgb(26.666667%,26.666667%,26.666667%);stroke-opacity:1;stroke-miterlimit:10;\" d=\"M 280.84375 118.1875 L 275.25 108.726562 \"/>\n",
       "<path style=\" stroke:none;fill-rule:nonzero;fill:rgb(26.666667%,26.666667%,26.666667%);fill-opacity:1;\" d=\"M 267.992188 96.449219 L 279.242188 106.367188 L 271.261719 111.085938 L 267.992188 96.449219 \"/>\n",
       "<path style=\"fill:none;stroke-width:1;stroke-linecap:butt;stroke-linejoin:miter;stroke:rgb(26.666667%,26.666667%,26.666667%);stroke-opacity:1;stroke-miterlimit:10;\" d=\"M 280.84375 118.1875 L 306.425781 139.738281 \"/>\n",
       "<path style=\" stroke:none;fill-rule:nonzero;fill:rgb(26.666667%,26.666667%,26.666667%);fill-opacity:1;\" d=\"M 317.335938 148.929688 L 303.4375 143.285156 L 309.414062 136.195312 L 317.335938 148.929688 \"/>\n",
       "<path style=\"fill:none;stroke-width:1;stroke-linecap:butt;stroke-linejoin:miter;stroke:rgb(26.666667%,26.666667%,26.666667%);stroke-opacity:1;stroke-miterlimit:10;\" d=\"M 197.066406 266.15625 L 285.089844 276.824219 \"/>\n",
       "<path style=\" stroke:none;fill-rule:nonzero;fill:rgb(26.666667%,26.666667%,26.666667%);fill-opacity:1;\" d=\"M 299.25 278.542969 L 284.53125 281.425781 L 285.644531 272.222656 L 299.25 278.542969 \"/>\n",
       "<path style=\"fill:none;stroke-width:1;stroke-linecap:butt;stroke-linejoin:miter;stroke:rgb(26.666667%,26.666667%,26.666667%);stroke-opacity:1;stroke-miterlimit:10;\" d=\"M 301.128906 183.347656 L 299.035156 228.054688 \"/>\n",
       "<path style=\" stroke:none;fill-rule:nonzero;fill:rgb(26.666667%,26.666667%,26.666667%);fill-opacity:1;\" d=\"M 298.367188 242.304688 L 294.40625 227.839844 L 303.664062 228.273438 L 298.367188 242.304688 \"/>\n",
       "<path style=\"fill:none;stroke-width:1;stroke-linecap:butt;stroke-linejoin:miter;stroke:rgb(26.666667%,26.666667%,26.666667%);stroke-opacity:1;stroke-miterlimit:10;\" d=\"M 301.128906 183.347656 C 289.988281 170.195312 285.445312 150.753906 298.683594 142.050781 \"/>\n",
       "<path style=\" stroke:none;fill-rule:nonzero;fill:rgb(26.666667%,26.666667%,26.666667%);fill-opacity:1;\" d=\"M 310.605469 134.214844 L 301.230469 145.925781 L 296.136719 138.175781 L 310.605469 134.214844 \"/>\n",
       "<path style=\"fill:none;stroke-width:1;stroke-linecap:butt;stroke-linejoin:miter;stroke:rgb(26.666667%,26.666667%,26.666667%);stroke-opacity:1;stroke-miterlimit:10;\" d=\"M 301.128906 183.347656 L 269.617188 159.894531 \"/>\n",
       "<path style=\" stroke:none;fill-rule:nonzero;fill:rgb(26.666667%,26.666667%,26.666667%);fill-opacity:1;\" d=\"M 258.171875 151.378906 L 272.382812 156.175781 L 266.851562 163.613281 L 258.171875 151.378906 \"/>\n",
       "<path style=\"fill:none;stroke-width:1;stroke-linecap:butt;stroke-linejoin:miter;stroke:rgb(26.666667%,26.666667%,26.666667%);stroke-opacity:1;stroke-miterlimit:10;\" d=\"M 301.128906 183.347656 L 352.3125 210.191406 \"/>\n",
       "<path style=\" stroke:none;fill-rule:nonzero;fill:rgb(26.666667%,26.666667%,26.666667%);fill-opacity:1;\" d=\"M 364.945312 216.816406 L 350.160156 214.296875 L 354.464844 206.085938 L 364.945312 216.816406 \"/>\n",
       "<path style=\"fill:none;stroke-width:1;stroke-linecap:butt;stroke-linejoin:miter;stroke:rgb(26.666667%,26.666667%,26.666667%);stroke-opacity:1;stroke-miterlimit:10;\" d=\"M 301.128906 183.347656 L 311.316406 207.671875 \"/>\n",
       "<path style=\" stroke:none;fill-rule:nonzero;fill:rgb(26.666667%,26.666667%,26.666667%);fill-opacity:1;\" d=\"M 316.828125 220.828125 L 307.042969 209.460938 L 315.59375 205.878906 L 316.828125 220.828125 \"/>\n",
       "<path style=\"fill:none;stroke-width:1;stroke-linecap:butt;stroke-linejoin:miter;stroke:rgb(26.666667%,26.666667%,26.666667%);stroke-opacity:1;stroke-miterlimit:10;\" d=\"M 56.492188 385.035156 L 59.136719 377.371094 \"/>\n",
       "<path style=\" stroke:none;fill-rule:nonzero;fill:rgb(26.666667%,26.666667%,26.666667%);fill-opacity:1;\" d=\"M 63.785156 363.882812 L 63.519531 378.882812 L 54.753906 375.859375 L 63.785156 363.882812 \"/>\n",
       "<path style=\"fill:none;stroke-width:1;stroke-linecap:butt;stroke-linejoin:miter;stroke:rgb(26.666667%,26.666667%,26.666667%);stroke-opacity:1;stroke-miterlimit:10;\" d=\"M 56.492188 385.035156 L 84.578125 407.324219 \"/>\n",
       "<path style=\" stroke:none;fill-rule:nonzero;fill:rgb(26.666667%,26.666667%,26.666667%);fill-opacity:1;\" d=\"M 95.753906 416.191406 L 81.699219 410.957031 L 87.460938 403.695312 L 95.753906 416.191406 \"/>\n",
       "<path style=\"fill:none;stroke-width:1;stroke-linecap:butt;stroke-linejoin:miter;stroke:rgb(26.666667%,26.666667%,26.666667%);stroke-opacity:1;stroke-miterlimit:10;\" d=\"M 132.167969 81.632812 L 135.800781 70.082031 \"/>\n",
       "<path style=\" stroke:none;fill-rule:nonzero;fill:rgb(26.666667%,26.666667%,26.666667%);fill-opacity:1;\" d=\"M 140.082031 56.472656 L 140.222656 71.472656 L 131.378906 68.691406 L 140.082031 56.472656 \"/>\n",
       "<path style=\"fill:none;stroke-width:1;stroke-linecap:butt;stroke-linejoin:miter;stroke:rgb(26.666667%,26.666667%,26.666667%);stroke-opacity:1;stroke-miterlimit:10;\" d=\"M 132.167969 81.632812 C 118.070312 76.644531 94.953125 84.785156 97.910156 92.359375 \"/>\n",
       "<path style=\" stroke:none;fill-rule:nonzero;fill:rgb(26.666667%,26.666667%,26.666667%);fill-opacity:1;\" d=\"M 103.097656 105.648438 L 93.59375 94.046875 L 102.230469 90.675781 L 103.097656 105.648438 \"/>\n",
       "<path style=\"fill:none;stroke-width:1;stroke-linecap:butt;stroke-linejoin:miter;stroke:rgb(26.666667%,26.666667%,26.666667%);stroke-opacity:1;stroke-miterlimit:10;\" d=\"M 132.167969 81.632812 L 158.605469 60.644531 \"/>\n",
       "<path style=\" stroke:none;fill-rule:nonzero;fill:rgb(26.666667%,26.666667%,26.666667%);fill-opacity:1;\" d=\"M 169.777344 51.773438 L 161.488281 64.273438 L 155.722656 57.015625 L 169.777344 51.773438 \"/>\n",
       "<path style=\"fill:none;stroke-width:1;stroke-linecap:butt;stroke-linejoin:miter;stroke:rgb(26.666667%,26.666667%,26.666667%);stroke-opacity:1;stroke-miterlimit:10;\" d=\"M 298.015625 249.816406 C 287.738281 267.46875 289.46875 298.351562 303.699219 298.511719 \"/>\n",
       "<path style=\" stroke:none;fill-rule:nonzero;fill:rgb(26.666667%,26.666667%,26.666667%);fill-opacity:1;\" d=\"M 317.964844 298.671875 L 303.648438 303.144531 L 303.75 293.875 L 317.964844 298.671875 \"/>\n",
       "<path style=\"fill:none;stroke-width:1;stroke-linecap:butt;stroke-linejoin:miter;stroke:rgb(26.666667%,26.666667%,26.666667%);stroke-opacity:1;stroke-miterlimit:10;\" d=\"M 298.015625 249.816406 C 302.582031 247.003906 301.234375 238.914062 302.734375 237.84375 \"/>\n",
       "<path style=\" stroke:none;fill-rule:nonzero;fill:rgb(26.666667%,26.666667%,26.666667%);fill-opacity:1;\" d=\"M 314.351562 229.566406 L 305.421875 241.621094 L 300.042969 234.070312 L 314.351562 229.566406 \"/>\n",
       "<path style=\"fill:none;stroke-width:1;stroke-linecap:butt;stroke-linejoin:miter;stroke:rgb(26.666667%,26.666667%,26.666667%);stroke-opacity:1;stroke-miterlimit:10;\" d=\"M 319.101562 128.628906 C 325.582031 113.570312 315.4375 87.4375 309.855469 90.382812 \"/>\n",
       "<path style=\" stroke:none;fill-rule:nonzero;fill:rgb(26.666667%,26.666667%,26.666667%);fill-opacity:1;\" d=\"M 322.472656 83.726562 L 312.019531 94.484375 L 307.695312 86.285156 L 322.472656 83.726562 \"/>\n",
       "<path style=\"fill:none;stroke-width:1;stroke-linecap:butt;stroke-linejoin:miter;stroke:rgb(26.666667%,26.666667%,26.666667%);stroke-opacity:1;stroke-miterlimit:10;\" d=\"M 319.101562 128.628906 C 301.707031 142.484375 270.640625 126.300781 265.757812 130.1875 \"/>\n",
       "<path style=\" stroke:none;fill-rule:nonzero;fill:rgb(26.666667%,26.666667%,26.666667%);fill-opacity:1;\" d=\"M 276.921875 121.308594 L 268.640625 133.816406 L 262.871094 126.558594 L 276.921875 121.308594 \"/>\n",
       "<path style=\"fill:none;stroke-width:1;stroke-linecap:butt;stroke-linejoin:miter;stroke:rgb(26.666667%,26.666667%,26.666667%);stroke-opacity:1;stroke-miterlimit:10;\" d=\"M 319.101562 128.628906 C 324.15625 158.28125 311.382812 176.875 286.105469 192.835938 \"/>\n",
       "<path style=\" stroke:none;fill-rule:nonzero;fill:rgb(26.666667%,26.666667%,26.666667%);fill-opacity:1;\" d=\"M 298.167969 185.21875 L 288.582031 196.757812 L 283.632812 188.917969 L 298.167969 185.21875 \"/>\n",
       "<path style=\"fill:none;stroke-width:1;stroke-linecap:butt;stroke-linejoin:miter;stroke:rgb(26.666667%,26.666667%,26.666667%);stroke-opacity:1;stroke-miterlimit:10;\" d=\"M 319.101562 128.628906 L 272.132812 144.25 \"/>\n",
       "<path style=\" stroke:none;fill-rule:nonzero;fill:rgb(26.666667%,26.666667%,26.666667%);fill-opacity:1;\" d=\"M 258.59375 148.75 L 270.667969 139.851562 L 273.59375 148.648438 L 258.59375 148.75 \"/>\n",
       "<path style=\"fill:none;stroke-width:1;stroke-linecap:butt;stroke-linejoin:miter;stroke:rgb(26.666667%,26.666667%,26.666667%);stroke-opacity:1;stroke-miterlimit:10;\" d=\"M 319.101562 128.628906 L 306.246094 114.890625 \"/>\n",
       "<path style=\" stroke:none;fill-rule:nonzero;fill:rgb(26.666667%,26.666667%,26.666667%);fill-opacity:1;\" d=\"M 296.5 104.472656 L 309.628906 111.722656 L 302.859375 118.058594 L 296.5 104.472656 \"/>\n",
       "<path style=\"fill:none;stroke-width:1;stroke-linecap:butt;stroke-linejoin:miter;stroke:rgb(26.666667%,26.666667%,26.666667%);stroke-opacity:1;stroke-miterlimit:10;\" d=\"M 319.101562 128.628906 L 361.324219 200.75 \"/>\n",
       "<path style=\" stroke:none;fill-rule:nonzero;fill:rgb(26.666667%,26.666667%,26.666667%);fill-opacity:1;\" d=\"M 368.53125 213.058594 L 357.324219 203.089844 L 365.324219 198.40625 L 368.53125 213.058594 \"/>\n",
       "<path style=\"fill:none;stroke-width:1;stroke-linecap:butt;stroke-linejoin:miter;stroke:rgb(26.666667%,26.666667%,26.666667%);stroke-opacity:1;stroke-miterlimit:10;\" d=\"M 319.101562 128.628906 L 282.441406 102.167969 \"/>\n",
       "<path style=\" stroke:none;fill-rule:nonzero;fill:rgb(26.666667%,26.666667%,26.666667%);fill-opacity:1;\" d=\"M 270.875 93.816406 L 285.152344 98.410156 L 279.726562 105.925781 L 270.875 93.816406 \"/>\n",
       "<path style=\"fill:none;stroke-width:1;stroke-linecap:butt;stroke-linejoin:miter;stroke:rgb(26.666667%,26.666667%,26.666667%);stroke-opacity:1;stroke-miterlimit:10;\" d=\"M 319.101562 128.628906 L 319.71875 132.027344 \"/>\n",
       "<path style=\" stroke:none;fill-rule:nonzero;fill:rgb(26.666667%,26.666667%,26.666667%);fill-opacity:1;\" d=\"M 322.28125 146.0625 L 315.160156 132.859375 L 324.28125 131.195312 L 322.28125 146.0625 \"/>\n",
       "<path style=\"fill:none;stroke-width:1;stroke-linecap:butt;stroke-linejoin:miter;stroke:rgb(26.666667%,26.666667%,26.666667%);stroke-opacity:1;stroke-miterlimit:10;\" d=\"M 319.101562 128.628906 L 367.082031 112.582031 \"/>\n",
       "<path style=\" stroke:none;fill-rule:nonzero;fill:rgb(26.666667%,26.666667%,26.666667%);fill-opacity:1;\" d=\"M 380.613281 108.058594 L 368.554688 116.980469 L 365.613281 108.1875 L 380.613281 108.058594 \"/>\n",
       "<path style=\"fill:none;stroke-width:1;stroke-linecap:butt;stroke-linejoin:miter;stroke:rgb(26.666667%,26.666667%,26.666667%);stroke-opacity:1;stroke-miterlimit:10;\" d=\"M 319.101562 128.628906 L 314.4375 77.453125 \"/>\n",
       "<path style=\" stroke:none;fill-rule:nonzero;fill:rgb(26.666667%,26.666667%,26.666667%);fill-opacity:1;\" d=\"M 313.144531 63.246094 L 319.054688 77.035156 L 309.824219 77.875 L 313.144531 63.246094 \"/>\n",
       "<path style=\"fill:none;stroke-width:1;stroke-linecap:butt;stroke-linejoin:miter;stroke:rgb(26.666667%,26.666667%,26.666667%);stroke-opacity:1;stroke-miterlimit:10;\" d=\"M 122.863281 481.167969 L 120.382812 493.597656 \"/>\n",
       "<path style=\" stroke:none;fill-rule:nonzero;fill:rgb(26.666667%,26.666667%,26.666667%);fill-opacity:1;\" d=\"M 117.59375 507.585938 L 115.835938 492.691406 L 124.929688 494.503906 L 117.59375 507.585938 \"/>\n",
       "<path style=\"fill:none;stroke-width:1;stroke-linecap:butt;stroke-linejoin:miter;stroke:rgb(26.666667%,26.666667%,26.666667%);stroke-opacity:1;stroke-miterlimit:10;\" d=\"M 122.863281 481.167969 L 129.402344 489.464844 \"/>\n",
       "<path style=\" stroke:none;fill-rule:nonzero;fill:rgb(26.666667%,26.666667%,26.666667%);fill-opacity:1;\" d=\"M 138.230469 500.667969 L 125.761719 492.332031 L 133.042969 486.597656 L 138.230469 500.667969 \"/>\n",
       "<path style=\"fill:none;stroke-width:1;stroke-linecap:butt;stroke-linejoin:miter;stroke:rgb(26.666667%,26.666667%,26.666667%);stroke-opacity:1;stroke-miterlimit:10;\" d=\"M 122.863281 481.167969 L 115.648438 454.519531 \"/>\n",
       "<path style=\" stroke:none;fill-rule:nonzero;fill:rgb(26.666667%,26.666667%,26.666667%);fill-opacity:1;\" d=\"M 111.921875 440.75 L 120.121094 453.308594 L 111.175781 455.730469 L 111.921875 440.75 \"/>\n",
       "<path style=\"fill:none;stroke-width:1;stroke-linecap:butt;stroke-linejoin:miter;stroke:rgb(26.666667%,26.666667%,26.666667%);stroke-opacity:1;stroke-miterlimit:10;\" d=\"M 403.917969 264.757812 L 435.269531 289.375 \"/>\n",
       "<path style=\" stroke:none;fill-rule:nonzero;fill:rgb(26.666667%,26.666667%,26.666667%);fill-opacity:1;\" d=\"M 446.492188 298.1875 L 432.40625 293.023438 L 438.132812 285.730469 L 446.492188 298.1875 \"/>\n",
       "<path style=\"fill:none;stroke-width:1;stroke-linecap:butt;stroke-linejoin:miter;stroke:rgb(26.666667%,26.666667%,26.666667%);stroke-opacity:1;stroke-miterlimit:10;\" d=\"M 403.917969 264.757812 L 390.183594 212.726562 \"/>\n",
       "<path style=\" stroke:none;fill-rule:nonzero;fill:rgb(26.666667%,26.666667%,26.666667%);fill-opacity:1;\" d=\"M 386.542969 198.933594 L 394.664062 211.542969 L 385.703125 213.90625 L 386.542969 198.933594 \"/>\n",
       "<path style=\"fill:none;stroke-width:1;stroke-linecap:butt;stroke-linejoin:miter;stroke:rgb(26.666667%,26.666667%,26.666667%);stroke-opacity:1;stroke-miterlimit:10;\" d=\"M 403.917969 264.757812 L 382.488281 316.289062 \"/>\n",
       "<path style=\" stroke:none;fill-rule:nonzero;fill:rgb(26.666667%,26.666667%,26.666667%);fill-opacity:1;\" d=\"M 377.011719 329.460938 L 378.207031 314.507812 L 386.769531 318.070312 L 377.011719 329.460938 \"/>\n",
       "<path style=\"fill:none;stroke-width:1;stroke-linecap:butt;stroke-linejoin:miter;stroke:rgb(26.666667%,26.666667%,26.666667%);stroke-opacity:1;stroke-miterlimit:10;\" d=\"M 403.917969 264.757812 L 386.917969 240.578125 \"/>\n",
       "<path style=\" stroke:none;fill-rule:nonzero;fill:rgb(26.666667%,26.666667%,26.666667%);fill-opacity:1;\" d=\"M 378.714844 228.90625 L 390.710938 237.910156 L 383.125 243.242188 L 378.714844 228.90625 \"/>\n",
       "<path style=\"fill:none;stroke-width:1;stroke-linecap:butt;stroke-linejoin:miter;stroke:rgb(26.666667%,26.666667%,26.666667%);stroke-opacity:1;stroke-miterlimit:10;\" d=\"M 403.917969 264.757812 L 454.027344 280.921875 \"/>\n",
       "<path style=\" stroke:none;fill-rule:nonzero;fill:rgb(26.666667%,26.666667%,26.666667%);fill-opacity:1;\" d=\"M 467.605469 285.304688 L 452.605469 285.335938 L 455.449219 276.511719 L 467.605469 285.304688 \"/>\n",
       "<path style=\"fill:none;stroke-width:1;stroke-linecap:butt;stroke-linejoin:miter;stroke:rgb(26.666667%,26.666667%,26.666667%);stroke-opacity:1;stroke-miterlimit:10;\" d=\"M 383.636719 187.925781 C 385.066406 210.796875 372.269531 221.851562 353.445312 233.894531 \"/>\n",
       "<path style=\" stroke:none;fill-rule:nonzero;fill:rgb(26.666667%,26.666667%,26.666667%);fill-opacity:1;\" d=\"M 365.460938 226.207031 L 355.941406 237.796875 L 350.945312 229.988281 L 365.460938 226.207031 \"/>\n",
       "<path style=\"fill:none;stroke-width:1;stroke-linecap:butt;stroke-linejoin:miter;stroke:rgb(26.666667%,26.666667%,26.666667%);stroke-opacity:1;stroke-miterlimit:10;\" d=\"M 383.636719 187.925781 C 354.902344 174.214844 326.332031 205.398438 308.722656 202.976562 \"/>\n",
       "<path style=\" stroke:none;fill-rule:nonzero;fill:rgb(26.666667%,26.666667%,26.666667%);fill-opacity:1;\" d=\"M 322.855469 204.921875 L 308.089844 207.566406 L 309.355469 198.382812 L 322.855469 204.921875 \"/>\n",
       "<path style=\"fill:none;stroke-width:1;stroke-linecap:butt;stroke-linejoin:miter;stroke:rgb(26.666667%,26.666667%,26.666667%);stroke-opacity:1;stroke-miterlimit:10;\" d=\"M 383.636719 187.925781 L 388.472656 129.367188 \"/>\n",
       "<path style=\" stroke:none;fill-rule:nonzero;fill:rgb(26.666667%,26.666667%,26.666667%);fill-opacity:1;\" d=\"M 389.648438 115.148438 L 393.09375 129.746094 L 383.855469 128.984375 L 389.648438 115.148438 \"/>\n",
       "<path style=\"fill:none;stroke-width:1;stroke-linecap:butt;stroke-linejoin:miter;stroke:rgb(26.666667%,26.666667%,26.666667%);stroke-opacity:1;stroke-miterlimit:10;\" d=\"M 47.460938 435.996094 L 78.550781 430.753906 \"/>\n",
       "<path style=\" stroke:none;fill-rule:nonzero;fill:rgb(26.666667%,26.666667%,26.666667%);fill-opacity:1;\" d=\"M 92.617188 428.382812 L 79.320312 435.324219 L 77.777344 426.183594 L 92.617188 428.382812 \"/>\n",
       "<path style=\"fill:none;stroke-width:1;stroke-linecap:butt;stroke-linejoin:miter;stroke:rgb(26.666667%,26.666667%,26.666667%);stroke-opacity:1;stroke-miterlimit:10;\" d=\"M 87.902344 416.503906 L 111.996094 433.335938 \"/>\n",
       "<path style=\" stroke:none;fill-rule:nonzero;fill:rgb(26.666667%,26.666667%,26.666667%);fill-opacity:1;\" d=\"M 123.691406 441.507812 L 109.339844 437.136719 L 114.648438 429.535156 L 123.691406 441.507812 \"/>\n",
       "<path style=\"fill:none;stroke-width:1;stroke-linecap:butt;stroke-linejoin:miter;stroke:rgb(26.666667%,26.666667%,26.666667%);stroke-opacity:1;stroke-miterlimit:10;\" d=\"M 87.902344 416.503906 L 80.917969 413.25 \"/>\n",
       "<path style=\" stroke:none;fill-rule:nonzero;fill:rgb(26.666667%,26.666667%,26.666667%);fill-opacity:1;\" d=\"M 93.847656 419.277344 L 78.960938 417.453125 L 82.875 409.050781 L 93.847656 419.277344 \"/>\n",
       "<path style=\"fill:none;stroke-width:1;stroke-linecap:butt;stroke-linejoin:miter;stroke:rgb(26.666667%,26.666667%,26.666667%);stroke-opacity:1;stroke-miterlimit:10;\" d=\"M 157.101562 422.734375 L 169.304688 432.757812 \"/>\n",
       "<path style=\" stroke:none;fill-rule:nonzero;fill:rgb(26.666667%,26.666667%,26.666667%);fill-opacity:1;\" d=\"M 180.328125 441.8125 L 166.363281 436.339844 L 172.246094 429.175781 L 180.328125 441.8125 \"/>\n",
       "<path style=\"fill:none;stroke-width:1;stroke-linecap:butt;stroke-linejoin:miter;stroke:rgb(26.666667%,26.666667%,26.666667%);stroke-opacity:1;stroke-miterlimit:10;\" d=\"M 157.101562 422.734375 L 151.855469 428.636719 \"/>\n",
       "<path style=\" stroke:none;fill-rule:nonzero;fill:rgb(26.666667%,26.666667%,26.666667%);fill-opacity:1;\" d=\"M 142.382812 439.300781 L 148.390625 425.558594 L 155.320312 431.714844 L 142.382812 439.300781 \"/>\n",
       "<path style=\"fill:none;stroke-width:1;stroke-linecap:butt;stroke-linejoin:miter;stroke:rgb(26.666667%,26.666667%,26.666667%);stroke-opacity:1;stroke-miterlimit:10;\" d=\"M 157.101562 422.734375 L 137.558594 423.957031 \"/>\n",
       "<path style=\" stroke:none;fill-rule:nonzero;fill:rgb(26.666667%,26.666667%,26.666667%);fill-opacity:1;\" d=\"M 123.320312 424.847656 L 137.269531 419.328125 L 137.847656 428.582031 L 123.320312 424.847656 \"/>\n",
       "<path style=\"fill:none;stroke-width:1;stroke-linecap:butt;stroke-linejoin:miter;stroke:rgb(26.666667%,26.666667%,26.666667%);stroke-opacity:1;stroke-miterlimit:10;\" d=\"M 27.328125 202.921875 L 42.472656 213.164062 \"/>\n",
       "<path style=\" stroke:none;fill-rule:nonzero;fill:rgb(26.666667%,26.666667%,26.666667%);fill-opacity:1;\" d=\"M 54.292969 221.152344 L 39.878906 217.003906 L 45.070312 209.324219 L 54.292969 221.152344 \"/>\n",
       "<path style=\"fill:none;stroke-width:1;stroke-linecap:butt;stroke-linejoin:miter;stroke:rgb(26.666667%,26.666667%,26.666667%);stroke-opacity:1;stroke-miterlimit:10;\" d=\"M 70.011719 345.832031 L 95.152344 398.929688 \"/>\n",
       "<path style=\" stroke:none;fill-rule:nonzero;fill:rgb(26.666667%,26.666667%,26.666667%);fill-opacity:1;\" d=\"M 101.253906 411.824219 L 90.960938 400.914062 L 99.339844 396.945312 L 101.253906 411.824219 \"/>\n",
       "<path style=\"fill:none;stroke-width:1;stroke-linecap:butt;stroke-linejoin:miter;stroke:rgb(26.666667%,26.666667%,26.666667%);stroke-opacity:1;stroke-miterlimit:10;\" d=\"M 541.691406 298.371094 L 482.21875 303.414062 \"/>\n",
       "<path style=\" stroke:none;fill-rule:nonzero;fill:rgb(26.666667%,26.666667%,26.666667%);fill-opacity:1;\" d=\"M 468.003906 304.621094 L 481.828125 298.796875 L 482.609375 308.03125 L 468.003906 304.621094 \"/>\n",
       "<path style=\"fill:none;stroke-width:1;stroke-linecap:butt;stroke-linejoin:miter;stroke:rgb(26.666667%,26.666667%,26.666667%);stroke-opacity:1;stroke-miterlimit:10;\" d=\"M 541.691406 298.371094 L 561.59375 317.371094 \"/>\n",
       "<path style=\" stroke:none;fill-rule:nonzero;fill:rgb(26.666667%,26.666667%,26.666667%);fill-opacity:1;\" d=\"M 571.914062 327.21875 L 558.394531 320.722656 L 564.796875 314.015625 L 571.914062 327.21875 \"/>\n",
       "<path style=\"fill:none;stroke-width:1;stroke-linecap:butt;stroke-linejoin:miter;stroke:rgb(26.666667%,26.666667%,26.666667%);stroke-opacity:1;stroke-miterlimit:10;\" d=\"M 541.691406 298.371094 L 527.335938 303.203125 \"/>\n",
       "<path style=\" stroke:none;fill-rule:nonzero;fill:rgb(26.666667%,26.666667%,26.666667%);fill-opacity:1;\" d=\"M 513.816406 307.753906 L 525.859375 298.808594 L 528.816406 307.597656 L 513.816406 307.753906 \"/>\n",
       "<path style=\"fill:none;stroke-width:1;stroke-linecap:butt;stroke-linejoin:miter;stroke:rgb(26.666667%,26.666667%,26.666667%);stroke-opacity:1;stroke-miterlimit:10;\" d=\"M 504.363281 340.710938 L 515.558594 332.449219 \"/>\n",
       "<path style=\" stroke:none;fill-rule:nonzero;fill:rgb(26.666667%,26.666667%,26.666667%);fill-opacity:1;\" d=\"M 527.035156 323.976562 L 518.308594 336.175781 L 512.804688 328.71875 L 527.035156 323.976562 \"/>\n",
       "<path style=\"fill:none;stroke-width:1;stroke-linecap:butt;stroke-linejoin:miter;stroke:rgb(26.666667%,26.666667%,26.666667%);stroke-opacity:1;stroke-miterlimit:10;\" d=\"M 504.363281 340.710938 L 477.300781 321.09375 \"/>\n",
       "<path style=\" stroke:none;fill-rule:nonzero;fill:rgb(26.666667%,26.666667%,26.666667%);fill-opacity:1;\" d=\"M 465.75 312.722656 L 480.023438 317.339844 L 474.582031 324.847656 L 465.75 312.722656 \"/>\n",
       "<path style=\"fill:none;stroke-width:1;stroke-linecap:butt;stroke-linejoin:miter;stroke:rgb(26.666667%,26.666667%,26.666667%);stroke-opacity:1;stroke-miterlimit:10;\" d=\"M 504.363281 340.710938 L 449.195312 313.597656 \"/>\n",
       "<path style=\" stroke:none;fill-rule:nonzero;fill:rgb(26.666667%,26.666667%,26.666667%);fill-opacity:1;\" d=\"M 436.394531 307.308594 L 451.242188 309.4375 L 447.152344 317.757812 L 436.394531 307.308594 \"/>\n",
       "<path style=\"fill:none;stroke-width:1;stroke-linecap:butt;stroke-linejoin:miter;stroke:rgb(26.666667%,26.666667%,26.666667%);stroke-opacity:1;stroke-miterlimit:10;\" d=\"M 504.363281 340.710938 L 554.625 378.632812 \"/>\n",
       "<path style=\" stroke:none;fill-rule:nonzero;fill:rgb(26.666667%,26.666667%,26.666667%);fill-opacity:1;\" d=\"M 566.011719 387.222656 L 551.832031 382.332031 L 557.414062 374.929688 L 566.011719 387.222656 \"/>\n",
       "<path style=\"fill:none;stroke-width:1;stroke-linecap:butt;stroke-linejoin:miter;stroke:rgb(26.666667%,26.666667%,26.666667%);stroke-opacity:1;stroke-miterlimit:10;\" d=\"M 504.363281 340.710938 L 554.632812 336.875 \"/>\n",
       "<path style=\" stroke:none;fill-rule:nonzero;fill:rgb(26.666667%,26.666667%,26.666667%);fill-opacity:1;\" d=\"M 568.855469 335.789062 L 554.984375 341.496094 L 554.277344 332.25 L 568.855469 335.789062 \"/>\n",
       "<path style=\"fill:none;stroke-width:1;stroke-linecap:butt;stroke-linejoin:miter;stroke:rgb(26.666667%,26.666667%,26.666667%);stroke-opacity:1;stroke-miterlimit:10;\" d=\"M 504.363281 340.710938 L 512.453125 340.578125 \"/>\n",
       "<path style=\" stroke:none;fill-rule:nonzero;fill:rgb(26.666667%,26.666667%,26.666667%);fill-opacity:1;\" d=\"M 526.71875 340.34375 L 512.53125 345.210938 L 512.378906 335.941406 L 526.71875 340.34375 \"/>\n",
       "<path style=\"fill:none;stroke-width:1;stroke-linecap:butt;stroke-linejoin:miter;stroke:rgb(26.666667%,26.666667%,26.666667%);stroke-opacity:1;stroke-miterlimit:10;\" d=\"M 504.363281 340.710938 L 509.710938 364.53125 \"/>\n",
       "<path style=\" stroke:none;fill-rule:nonzero;fill:rgb(26.666667%,26.666667%,26.666667%);fill-opacity:1;\" d=\"M 512.832031 378.449219 L 505.1875 365.546875 L 514.230469 363.515625 L 512.832031 378.449219 \"/>\n",
       "<path style=\"fill:none;stroke-width:1;stroke-linecap:butt;stroke-linejoin:miter;stroke:rgb(26.666667%,26.666667%,26.666667%);stroke-opacity:1;stroke-miterlimit:10;\" d=\"M 504.363281 340.710938 L 483.464844 304.664062 \"/>\n",
       "<path style=\" stroke:none;fill-rule:nonzero;fill:rgb(26.666667%,26.666667%,26.666667%);fill-opacity:1;\" d=\"M 476.308594 292.324219 L 487.476562 302.339844 L 479.453125 306.992188 L 476.308594 292.324219 \"/>\n",
       "<path style=\"fill:none;stroke-width:1;stroke-linecap:butt;stroke-linejoin:miter;stroke:rgb(26.666667%,26.666667%,26.666667%);stroke-opacity:1;stroke-miterlimit:10;\" d=\"M 504.363281 340.710938 C 483.476562 327.167969 465.015625 342.792969 444.765625 344.785156 \"/>\n",
       "<path style=\" stroke:none;fill-rule:nonzero;fill:rgb(26.666667%,26.666667%,26.666667%);fill-opacity:1;\" d=\"M 458.960938 343.390625 L 445.21875 349.398438 L 444.308594 340.171875 L 458.960938 343.390625 \"/>\n",
       "<path style=\"fill:none;stroke-width:1;stroke-linecap:butt;stroke-linejoin:miter;stroke:rgb(26.666667%,26.666667%,26.666667%);stroke-opacity:1;stroke-miterlimit:10;\" d=\"M 504.363281 340.710938 L 504.191406 337.074219 \"/>\n",
       "<path style=\" stroke:none;fill-rule:nonzero;fill:rgb(26.666667%,26.666667%,26.666667%);fill-opacity:1;\" d=\"M 503.515625 322.824219 L 508.820312 336.855469 L 499.558594 337.292969 L 503.515625 322.824219 \"/>\n",
       "<path style=\"fill:none;stroke-width:1;stroke-linecap:butt;stroke-linejoin:miter;stroke:rgb(26.666667%,26.666667%,26.666667%);stroke-opacity:1;stroke-miterlimit:10;\" d=\"M 402.363281 371.855469 L 386.386719 349.761719 \"/>\n",
       "<path style=\" stroke:none;fill-rule:nonzero;fill:rgb(26.666667%,26.666667%,26.666667%);fill-opacity:1;\" d=\"M 378.027344 338.203125 L 390.144531 347.046875 L 382.628906 352.476562 L 378.027344 338.203125 \"/>\n",
       "<path style=\"fill:none;stroke-width:1;stroke-linecap:butt;stroke-linejoin:miter;stroke:rgb(26.666667%,26.666667%,26.666667%);stroke-opacity:1;stroke-miterlimit:10;\" d=\"M 104.105469 108.226562 C 111.492188 109.550781 116.144531 106.390625 120.195312 100.128906 \"/>\n",
       "<path style=\" stroke:none;fill-rule:nonzero;fill:rgb(26.666667%,26.666667%,26.666667%);fill-opacity:1;\" d=\"M 127.949219 88.152344 L 124.089844 102.648438 L 116.304688 97.609375 L 127.949219 88.152344 \"/>\n",
       "<path style=\"fill:none;stroke-width:1;stroke-linecap:butt;stroke-linejoin:miter;stroke:rgb(26.666667%,26.666667%,26.666667%);stroke-opacity:1;stroke-miterlimit:10;\" d=\"M 104.105469 108.226562 L 85.410156 115.527344 \"/>\n",
       "<path style=\" stroke:none;fill-rule:nonzero;fill:rgb(26.666667%,26.666667%,26.666667%);fill-opacity:1;\" d=\"M 72.121094 120.71875 L 83.722656 111.210938 L 87.097656 119.847656 L 72.121094 120.71875 \"/>\n",
       "<path style=\"fill:none;stroke-width:1;stroke-linecap:butt;stroke-linejoin:miter;stroke:rgb(26.666667%,26.666667%,26.666667%);stroke-opacity:1;stroke-miterlimit:10;\" d=\"M 104.105469 108.226562 L 95.507812 126.988281 \"/>\n",
       "<path style=\" stroke:none;fill-rule:nonzero;fill:rgb(26.666667%,26.666667%,26.666667%);fill-opacity:1;\" d=\"M 89.566406 139.957031 L 91.292969 125.058594 L 99.722656 128.917969 L 89.566406 139.957031 \"/>\n",
       "<path style=\"fill:none;stroke-width:1;stroke-linecap:butt;stroke-linejoin:miter;stroke:rgb(26.666667%,26.666667%,26.666667%);stroke-opacity:1;stroke-miterlimit:10;\" d=\"M 487.339844 442.136719 L 495.300781 479.710938 \"/>\n",
       "<path style=\" stroke:none;fill-rule:nonzero;fill:rgb(26.666667%,26.666667%,26.666667%);fill-opacity:1;\" d=\"M 498.257812 493.664062 L 490.765625 480.671875 L 499.835938 478.75 L 498.257812 493.664062 \"/>\n",
       "<path style=\"fill:none;stroke-width:1;stroke-linecap:butt;stroke-linejoin:miter;stroke:rgb(26.666667%,26.666667%,26.666667%);stroke-opacity:1;stroke-miterlimit:10;\" d=\"M 20 326.425781 L 38.910156 333.765625 \"/>\n",
       "<path style=\" stroke:none;fill-rule:nonzero;fill:rgb(26.666667%,26.666667%,26.666667%);fill-opacity:1;\" d=\"M 52.210938 338.925781 L 37.234375 338.085938 L 40.585938 329.441406 L 52.210938 338.925781 \"/>\n",
       "<path style=\"fill:none;stroke-width:1;stroke-linecap:butt;stroke-linejoin:miter;stroke:rgb(26.666667%,26.666667%,26.666667%);stroke-opacity:1;stroke-miterlimit:10;\" d=\"M 134.015625 448.71875 L 130.242188 445.414062 \"/>\n",
       "<path style=\" stroke:none;fill-rule:nonzero;fill:rgb(26.666667%,26.666667%,26.666667%);fill-opacity:1;\" d=\"M 119.515625 436.011719 L 133.300781 441.925781 L 127.1875 448.898438 L 119.515625 436.011719 \"/>\n",
       "<path style=\"fill:none;stroke-width:1;stroke-linecap:butt;stroke-linejoin:miter;stroke:rgb(26.666667%,26.666667%,26.666667%);stroke-opacity:1;stroke-miterlimit:10;\" d=\"M 508.4375 162.460938 L 491.332031 210.648438 \"/>\n",
       "<path style=\" stroke:none;fill-rule:nonzero;fill:rgb(26.666667%,26.666667%,26.666667%);fill-opacity:1;\" d=\"M 486.558594 224.089844 L 486.964844 209.097656 L 495.699219 212.199219 L 486.558594 224.089844 \"/>\n",
       "<path style=\"fill:none;stroke-width:1;stroke-linecap:butt;stroke-linejoin:miter;stroke:rgb(26.666667%,26.666667%,26.666667%);stroke-opacity:1;stroke-miterlimit:10;\" d=\"M 176.011719 306.890625 L 138.28125 291.996094 \"/>\n",
       "<path style=\" stroke:none;fill-rule:nonzero;fill:rgb(26.666667%,26.666667%,26.666667%);fill-opacity:1;\" d=\"M 125.011719 286.757812 L 139.984375 287.683594 L 136.582031 296.304688 L 125.011719 286.757812 \"/>\n",
       "<path style=\"fill:none;stroke-width:1;stroke-linecap:butt;stroke-linejoin:miter;stroke:rgb(26.666667%,26.666667%,26.666667%);stroke-opacity:1;stroke-miterlimit:10;\" d=\"M 176.011719 306.890625 L 147.335938 310.980469 \"/>\n",
       "<path style=\" stroke:none;fill-rule:nonzero;fill:rgb(26.666667%,26.666667%,26.666667%);fill-opacity:1;\" d=\"M 133.214844 312.996094 L 146.683594 306.394531 L 147.992188 315.570312 L 133.214844 312.996094 \"/>\n",
       "<path style=\"fill:none;stroke-width:1;stroke-linecap:butt;stroke-linejoin:miter;stroke:rgb(26.666667%,26.666667%,26.666667%);stroke-opacity:1;stroke-miterlimit:10;\" d=\"M 176.011719 306.890625 C 195.195312 330.296875 237.148438 315.699219 246.546875 324.210938 \"/>\n",
       "<path style=\" stroke:none;fill-rule:nonzero;fill:rgb(26.666667%,26.666667%,26.666667%);fill-opacity:1;\" d=\"M 235.972656 314.636719 L 249.660156 320.773438 L 243.4375 327.644531 L 235.972656 314.636719 \"/>\n",
       "<path style=\"fill:none;stroke-width:1;stroke-linecap:butt;stroke-linejoin:miter;stroke:rgb(26.666667%,26.666667%,26.666667%);stroke-opacity:1;stroke-miterlimit:10;\" d=\"M 96.589844 270.820312 L 169.53125 267.433594 \"/>\n",
       "<path style=\" stroke:none;fill-rule:nonzero;fill:rgb(26.666667%,26.666667%,26.666667%);fill-opacity:1;\" d=\"M 183.78125 266.773438 L 169.746094 272.0625 L 169.316406 262.804688 L 183.78125 266.773438 \"/>\n",
       "<path style=\"fill:none;stroke-width:1;stroke-linecap:butt;stroke-linejoin:miter;stroke:rgb(26.666667%,26.666667%,26.666667%);stroke-opacity:1;stroke-miterlimit:10;\" d=\"M 96.589844 270.820312 L 81.152344 314.386719 \"/>\n",
       "<path style=\" stroke:none;fill-rule:nonzero;fill:rgb(26.666667%,26.666667%,26.666667%);fill-opacity:1;\" d=\"M 76.390625 327.832031 L 76.785156 312.839844 L 85.523438 315.933594 L 76.390625 327.832031 \"/>\n",
       "<path style=\"fill:none;stroke-width:1;stroke-linecap:butt;stroke-linejoin:miter;stroke:rgb(26.666667%,26.666667%,26.666667%);stroke-opacity:1;stroke-miterlimit:10;\" d=\"M 96.589844 270.820312 L 75.605469 244.042969 \"/>\n",
       "<path style=\" stroke:none;fill-rule:nonzero;fill:rgb(26.666667%,26.666667%,26.666667%);fill-opacity:1;\" d=\"M 66.804688 232.816406 L 79.253906 241.183594 L 71.957031 246.902344 L 66.804688 232.816406 \"/>\n",
       "<path style=\"fill:none;stroke-width:1;stroke-linecap:butt;stroke-linejoin:miter;stroke:rgb(26.666667%,26.666667%,26.666667%);stroke-opacity:1;stroke-miterlimit:10;\" d=\"M 96.589844 270.820312 L 69.121094 266.746094 \"/>\n",
       "<path style=\" stroke:none;fill-rule:nonzero;fill:rgb(26.666667%,26.666667%,26.666667%);fill-opacity:1;\" d=\"M 55.011719 264.65625 L 69.804688 262.164062 L 68.441406 271.332031 L 55.011719 264.65625 \"/>\n",
       "<path style=\"fill:none;stroke-width:1;stroke-linecap:butt;stroke-linejoin:miter;stroke:rgb(26.666667%,26.666667%,26.666667%);stroke-opacity:1;stroke-miterlimit:10;\" d=\"M 467.082031 41.578125 L 454.046875 53.375 \"/>\n",
       "<path style=\" stroke:none;fill-rule:nonzero;fill:rgb(26.666667%,26.666667%,26.666667%);fill-opacity:1;\" d=\"M 443.46875 62.945312 L 450.933594 49.9375 L 457.15625 56.808594 L 443.46875 62.945312 \"/>\n",
       "<path style=\"fill:none;stroke-width:1;stroke-linecap:butt;stroke-linejoin:miter;stroke:rgb(26.666667%,26.666667%,26.666667%);stroke-opacity:1;stroke-miterlimit:10;\" d=\"M 438.402344 67.527344 L 410.007812 89.59375 \"/>\n",
       "<path style=\" stroke:none;fill-rule:nonzero;fill:rgb(26.666667%,26.666667%,26.666667%);fill-opacity:1;\" d=\"M 398.746094 98.347656 L 407.164062 85.933594 L 412.855469 93.253906 L 398.746094 98.347656 \"/>\n",
       "<path style=\"fill:none;stroke-width:1;stroke-linecap:butt;stroke-linejoin:miter;stroke:rgb(26.666667%,26.666667%,26.666667%);stroke-opacity:1;stroke-miterlimit:10;\" d=\"M 234.84375 313.613281 C 225.140625 299.496094 212.1875 295.21875 195.886719 300.476562 \"/>\n",
       "<path style=\" stroke:none;fill-rule:nonzero;fill:rgb(26.666667%,26.666667%,26.666667%);fill-opacity:1;\" d=\"M 182.308594 304.859375 L 194.460938 296.066406 L 197.308594 304.886719 L 182.308594 304.859375 \"/>\n",
       "<path style=\"fill:none;stroke-width:1;stroke-linecap:butt;stroke-linejoin:miter;stroke:rgb(26.666667%,26.666667%,26.666667%);stroke-opacity:1;stroke-miterlimit:10;\" d=\"M 330.789062 298.816406 C 336.804688 282.015625 334.210938 264.347656 318.148438 257.898438 \"/>\n",
       "<path style=\" stroke:none;fill-rule:nonzero;fill:rgb(26.666667%,26.666667%,26.666667%);fill-opacity:1;\" d=\"M 304.910156 252.585938 L 319.875 253.597656 L 316.421875 262.199219 L 304.910156 252.585938 \"/>\n",
       "<path style=\"fill:none;stroke-width:1;stroke-linecap:butt;stroke-linejoin:miter;stroke:rgb(26.666667%,26.666667%,26.666667%);stroke-opacity:1;stroke-miterlimit:10;\" d=\"M 330.789062 298.816406 L 429.6875 304.207031 \"/>\n",
       "<path style=\" stroke:none;fill-rule:nonzero;fill:rgb(26.666667%,26.666667%,26.666667%);fill-opacity:1;\" d=\"M 443.933594 304.980469 L 429.433594 308.832031 L 429.941406 299.578125 L 443.933594 304.980469 \"/>\n",
       "<path style=\"fill:none;stroke-width:1;stroke-linecap:butt;stroke-linejoin:miter;stroke:rgb(26.666667%,26.666667%,26.666667%);stroke-opacity:1;stroke-miterlimit:10;\" d=\"M 330.789062 298.816406 L 328.886719 297.0625 \"/>\n",
       "<path style=\" stroke:none;fill-rule:nonzero;fill:rgb(26.666667%,26.666667%,26.666667%);fill-opacity:1;\" d=\"M 318.402344 287.390625 L 332.03125 293.652344 L 325.746094 300.46875 L 318.402344 287.390625 \"/>\n",
       "<path style=\"fill:none;stroke-width:1;stroke-linecap:butt;stroke-linejoin:miter;stroke:rgb(26.666667%,26.666667%,26.666667%);stroke-opacity:1;stroke-miterlimit:10;\" d=\"M 330.789062 298.816406 L 255.523438 310.425781 \"/>\n",
       "<path style=\" stroke:none;fill-rule:nonzero;fill:rgb(26.666667%,26.666667%,26.666667%);fill-opacity:1;\" d=\"M 241.421875 312.597656 L 254.816406 305.84375 L 256.230469 315.003906 L 241.421875 312.597656 \"/>\n",
       "<path style=\"fill:none;stroke-width:1;stroke-linecap:butt;stroke-linejoin:miter;stroke:rgb(26.666667%,26.666667%,26.666667%);stroke-opacity:1;stroke-miterlimit:10;\" d=\"M 306.402344 562.054688 L 276.054688 544.640625 \"/>\n",
       "<path style=\" stroke:none;fill-rule:nonzero;fill:rgb(26.666667%,26.666667%,26.666667%);fill-opacity:1;\" d=\"M 263.679688 537.539062 L 278.359375 540.617188 L 273.746094 548.660156 L 263.679688 537.539062 \"/>\n",
       "<path style=\"fill:none;stroke-width:1;stroke-linecap:butt;stroke-linejoin:miter;stroke:rgb(26.666667%,26.666667%,26.666667%);stroke-opacity:1;stroke-miterlimit:10;\" d=\"M 432.644531 268.066406 C 450.183594 285.253906 468.179688 283.308594 491.074219 275.8125 \"/>\n",
       "<path style=\" stroke:none;fill-rule:nonzero;fill:rgb(26.666667%,26.666667%,26.666667%);fill-opacity:1;\" d=\"M 504.628906 271.375 L 492.515625 280.21875 L 489.628906 271.410156 L 504.628906 271.375 \"/>\n",
       "<path style=\"fill:none;stroke-width:1;stroke-linecap:butt;stroke-linejoin:miter;stroke:rgb(26.666667%,26.666667%,26.666667%);stroke-opacity:1;stroke-miterlimit:10;\" d=\"M 432.644531 268.066406 L 442.089844 283.269531 \"/>\n",
       "<path style=\" stroke:none;fill-rule:nonzero;fill:rgb(26.666667%,26.666667%,26.666667%);fill-opacity:1;\" d=\"M 449.613281 295.386719 L 438.152344 285.714844 L 446.027344 280.824219 L 449.613281 295.386719 \"/>\n",
       "<path style=\"fill:none;stroke-width:1;stroke-linecap:butt;stroke-linejoin:miter;stroke:rgb(26.666667%,26.666667%,26.666667%);stroke-opacity:1;stroke-miterlimit:10;\" d=\"M 432.644531 268.066406 L 455.820312 266.65625 \"/>\n",
       "<path style=\" stroke:none;fill-rule:nonzero;fill:rgb(26.666667%,26.666667%,26.666667%);fill-opacity:1;\" d=\"M 470.058594 265.789062 L 456.101562 271.28125 L 455.539062 262.03125 L 470.058594 265.789062 \"/>\n",
       "<path style=\"fill:none;stroke-width:1;stroke-linecap:butt;stroke-linejoin:miter;stroke:rgb(26.666667%,26.666667%,26.666667%);stroke-opacity:1;stroke-miterlimit:10;\" d=\"M 432.644531 268.066406 L 335.484375 277.441406 \"/>\n",
       "<path style=\" stroke:none;fill-rule:nonzero;fill:rgb(26.666667%,26.666667%,26.666667%);fill-opacity:1;\" d=\"M 321.285156 278.8125 L 335.042969 272.828125 L 335.929688 282.054688 L 321.285156 278.8125 \"/>\n",
       "<path style=\"fill:none;stroke-width:1;stroke-linecap:butt;stroke-linejoin:miter;stroke:rgb(26.666667%,26.666667%,26.666667%);stroke-opacity:1;stroke-miterlimit:10;\" d=\"M 411.125 413.042969 L 445.832031 329.9375 \"/>\n",
       "<path style=\" stroke:none;fill-rule:nonzero;fill:rgb(26.666667%,26.666667%,26.666667%);fill-opacity:1;\" d=\"M 451.332031 316.773438 L 450.109375 331.722656 L 441.554688 328.152344 L 451.332031 316.773438 \"/>\n",
       "<path style=\"fill:none;stroke-width:1;stroke-linecap:butt;stroke-linejoin:miter;stroke:rgb(26.666667%,26.666667%,26.666667%);stroke-opacity:1;stroke-miterlimit:10;\" d=\"M 411.125 413.042969 L 389.917969 445.421875 \"/>\n",
       "<path style=\" stroke:none;fill-rule:nonzero;fill:rgb(26.666667%,26.666667%,26.666667%);fill-opacity:1;\" d=\"M 382.101562 457.355469 L 386.039062 442.882812 L 393.792969 447.960938 L 382.101562 457.355469 \"/>\n",
       "<path style=\"fill:none;stroke-width:1;stroke-linecap:butt;stroke-linejoin:miter;stroke:rgb(26.666667%,26.666667%,26.666667%);stroke-opacity:1;stroke-miterlimit:10;\" d=\"M 292.675781 100.386719 C 277.414062 99.207031 268.4375 119.421875 261.675781 120.09375 \"/>\n",
       "<path style=\" stroke:none;fill-rule:nonzero;fill:rgb(26.666667%,26.666667%,26.666667%);fill-opacity:1;\" d=\"M 275.871094 118.679688 L 262.132812 124.707031 L 261.214844 115.480469 L 275.871094 118.679688 \"/>\n",
       "<path style=\"fill:none;stroke-width:1;stroke-linecap:butt;stroke-linejoin:miter;stroke:rgb(26.666667%,26.666667%,26.666667%);stroke-opacity:1;stroke-miterlimit:10;\" d=\"M 292.675781 100.386719 L 285.152344 97.292969 \"/>\n",
       "<path style=\" stroke:none;fill-rule:nonzero;fill:rgb(26.666667%,26.666667%,26.666667%);fill-opacity:1;\" d=\"M 271.960938 91.863281 L 286.917969 93.003906 L 283.390625 101.578125 L 271.960938 91.863281 \"/>\n",
       "<path style=\"fill:none;stroke-width:1;stroke-linecap:butt;stroke-linejoin:miter;stroke:rgb(26.666667%,26.666667%,26.666667%);stroke-opacity:1;stroke-miterlimit:10;\" d=\"M 292.675781 100.386719 L 312.453125 134.695312 \"/>\n",
       "<path style=\" stroke:none;fill-rule:nonzero;fill:rgb(26.666667%,26.666667%,26.666667%);fill-opacity:1;\" d=\"M 319.578125 147.054688 L 308.4375 137.011719 L 316.46875 132.378906 L 319.578125 147.054688 \"/>\n",
       "<path style=\"fill:none;stroke-width:1;stroke-linecap:butt;stroke-linejoin:miter;stroke:rgb(26.666667%,26.666667%,26.666667%);stroke-opacity:1;stroke-miterlimit:10;\" d=\"M 373.292969 221.195312 L 412.136719 280.773438 \"/>\n",
       "<path style=\" stroke:none;fill-rule:nonzero;fill:rgb(26.666667%,26.666667%,26.666667%);fill-opacity:1;\" d=\"M 419.929688 292.722656 L 408.253906 283.304688 L 416.019531 278.242188 L 419.929688 292.722656 \"/>\n",
       "<path style=\"fill:none;stroke-width:1;stroke-linecap:butt;stroke-linejoin:miter;stroke:rgb(26.666667%,26.666667%,26.666667%);stroke-opacity:1;stroke-miterlimit:10;\" d=\"M 373.292969 221.195312 C 364.777344 217.59375 357.164062 205.269531 362.125 202.019531 \"/>\n",
       "<path style=\" stroke:none;fill-rule:nonzero;fill:rgb(26.666667%,26.666667%,26.666667%);fill-opacity:1;\" d=\"M 374.058594 194.203125 L 364.664062 205.898438 L 359.582031 198.144531 L 374.058594 194.203125 \"/>\n",
       "<path style=\"fill:none;stroke-width:1;stroke-linecap:butt;stroke-linejoin:miter;stroke:rgb(26.666667%,26.666667%,26.666667%);stroke-opacity:1;stroke-miterlimit:10;\" d=\"M 373.292969 221.195312 L 365.519531 204.390625 \"/>\n",
       "<path style=\" stroke:none;fill-rule:nonzero;fill:rgb(26.666667%,26.666667%,26.666667%);fill-opacity:1;\" d=\"M 359.53125 191.445312 L 369.730469 202.445312 L 361.3125 206.335938 L 359.53125 191.445312 \"/>\n",
       "<path style=\"fill:none;stroke-width:1;stroke-linecap:butt;stroke-linejoin:miter;stroke:rgb(26.666667%,26.666667%,26.666667%);stroke-opacity:1;stroke-miterlimit:10;\" d=\"M 373.292969 221.195312 C 380.539062 196.25 373.203125 162.871094 351.285156 162.871094 \"/>\n",
       "<path style=\" stroke:none;fill-rule:nonzero;fill:rgb(26.666667%,26.666667%,26.666667%);fill-opacity:1;\" d=\"M 365.550781 162.871094 L 351.285156 167.507812 L 351.285156 158.234375 L 365.550781 162.871094 \"/>\n",
       "<path style=\"fill:none;stroke-width:1;stroke-linecap:butt;stroke-linejoin:miter;stroke:rgb(26.666667%,26.666667%,26.666667%);stroke-opacity:1;stroke-miterlimit:10;\" d=\"M 373.292969 221.195312 C 348.214844 203.167969 319.535156 226.277344 299.1875 222.695312 \"/>\n",
       "<path style=\" stroke:none;fill-rule:nonzero;fill:rgb(26.666667%,26.666667%,26.666667%);fill-opacity:1;\" d=\"M 313.238281 225.171875 L 298.382812 227.261719 L 299.992188 218.132812 L 313.238281 225.171875 \"/>\n",
       "<path style=\"fill:none;stroke-width:1;stroke-linecap:butt;stroke-linejoin:miter;stroke:rgb(26.666667%,26.666667%,26.666667%);stroke-opacity:1;stroke-miterlimit:10;\" d=\"M 373.292969 221.195312 L 337.324219 172.636719 \"/>\n",
       "<path style=\" stroke:none;fill-rule:nonzero;fill:rgb(26.666667%,26.666667%,26.666667%);fill-opacity:1;\" d=\"M 328.832031 161.171875 L 341.050781 169.875 L 333.601562 175.394531 L 328.832031 161.171875 \"/>\n",
       "<path style=\"fill:none;stroke-width:1;stroke-linecap:butt;stroke-linejoin:miter;stroke:rgb(26.666667%,26.666667%,26.666667%);stroke-opacity:1;stroke-miterlimit:10;\" d=\"M 87.828125 143.753906 L 81.003906 137.046875 \"/>\n",
       "<path style=\" stroke:none;fill-rule:nonzero;fill:rgb(26.666667%,26.666667%,26.666667%);fill-opacity:1;\" d=\"M 70.824219 127.050781 L 84.25 133.742188 L 77.753906 140.355469 L 70.824219 127.050781 \"/>\n",
       "<path style=\"fill:none;stroke-width:1;stroke-linecap:butt;stroke-linejoin:miter;stroke:rgb(26.666667%,26.666667%,26.666667%);stroke-opacity:1;stroke-miterlimit:10;\" d=\"M 107.949219 380.554688 L 107.921875 396.070312 \"/>\n",
       "<path style=\" stroke:none;fill-rule:nonzero;fill:rgb(26.666667%,26.666667%,26.666667%);fill-opacity:1;\" d=\"M 107.902344 410.335938 L 103.289062 396.0625 L 112.558594 396.078125 L 107.902344 410.335938 \"/>\n",
       "<path style=\"fill:none;stroke-width:1;stroke-linecap:butt;stroke-linejoin:miter;stroke:rgb(26.666667%,26.666667%,26.666667%);stroke-opacity:1;stroke-miterlimit:10;\" d=\"M 329.015625 205.769531 C 341.175781 210.957031 349.046875 202.894531 359.832031 198.226562 \"/>\n",
       "<path style=\" stroke:none;fill-rule:nonzero;fill:rgb(26.666667%,26.666667%,26.666667%);fill-opacity:1;\" d=\"M 372.925781 192.558594 L 361.675781 202.480469 L 357.992188 193.972656 L 372.925781 192.558594 \"/>\n",
       "<path style=\"fill:none;stroke-width:1;stroke-linecap:butt;stroke-linejoin:miter;stroke:rgb(26.666667%,26.666667%,26.666667%);stroke-opacity:1;stroke-miterlimit:10;\" d=\"M 329.015625 205.769531 L 337.734375 198.316406 \"/>\n",
       "<path style=\" stroke:none;fill-rule:nonzero;fill:rgb(26.666667%,26.666667%,26.666667%);fill-opacity:1;\" d=\"M 348.582031 189.050781 L 340.746094 201.839844 L 334.722656 194.792969 L 348.582031 189.050781 \"/>\n",
       "<path style=\"fill:none;stroke-width:1;stroke-linecap:butt;stroke-linejoin:miter;stroke:rgb(26.666667%,26.666667%,26.666667%);stroke-opacity:1;stroke-miterlimit:10;\" d=\"M 329.015625 205.769531 L 326.09375 176.984375 \"/>\n",
       "<path style=\" stroke:none;fill-rule:nonzero;fill:rgb(26.666667%,26.666667%,26.666667%);fill-opacity:1;\" d=\"M 324.65625 162.789062 L 330.707031 176.515625 L 321.484375 177.449219 L 324.65625 162.789062 \"/>\n",
       "<path style=\"fill:none;stroke-width:1;stroke-linecap:butt;stroke-linejoin:miter;stroke:rgb(26.666667%,26.666667%,26.666667%);stroke-opacity:1;stroke-miterlimit:10;\" d=\"M 329.015625 205.769531 L 290.464844 260.242188 \"/>\n",
       "<path style=\" stroke:none;fill-rule:nonzero;fill:rgb(26.666667%,26.666667%,26.666667%);fill-opacity:1;\" d=\"M 282.222656 271.886719 L 286.679688 257.566406 L 294.25 262.921875 L 282.222656 271.886719 \"/>\n",
       "<path style=\"fill:none;stroke-width:1;stroke-linecap:butt;stroke-linejoin:miter;stroke:rgb(26.666667%,26.666667%,26.666667%);stroke-opacity:1;stroke-miterlimit:10;\" d=\"M 484.707031 229.304688 L 465.257812 280.992188 \"/>\n",
       "<path style=\" stroke:none;fill-rule:nonzero;fill:rgb(26.666667%,26.666667%,26.666667%);fill-opacity:1;\" d=\"M 460.230469 294.34375 L 460.917969 279.359375 L 469.59375 282.625 L 460.230469 294.34375 \"/>\n",
       "<path style=\"fill:none;stroke-width:1;stroke-linecap:butt;stroke-linejoin:miter;stroke:rgb(26.666667%,26.666667%,26.666667%);stroke-opacity:1;stroke-miterlimit:10;\" d=\"M 484.707031 229.304688 L 481.039062 245.285156 \"/>\n",
       "<path style=\" stroke:none;fill-rule:nonzero;fill:rgb(26.666667%,26.666667%,26.666667%);fill-opacity:1;\" d=\"M 477.847656 259.1875 L 476.523438 244.246094 L 485.558594 246.320312 L 477.847656 259.1875 \"/>\n",
       "<path style=\"fill:none;stroke-width:1;stroke-linecap:butt;stroke-linejoin:miter;stroke:rgb(26.666667%,26.666667%,26.666667%);stroke-opacity:1;stroke-miterlimit:10;\" d=\"M 484.707031 229.304688 L 477.222656 267.269531 \"/>\n",
       "<path style=\" stroke:none;fill-rule:nonzero;fill:rgb(26.666667%,26.666667%,26.666667%);fill-opacity:1;\" d=\"M 474.464844 281.265625 L 472.675781 266.371094 L 481.769531 268.164062 L 474.464844 281.265625 \"/>\n",
       "<path style=\"fill:none;stroke-width:1;stroke-linecap:butt;stroke-linejoin:miter;stroke:rgb(26.666667%,26.666667%,26.666667%);stroke-opacity:1;stroke-miterlimit:10;\" d=\"M 365.550781 162.871094 L 339.128906 143.394531 \"/>\n",
       "<path style=\" stroke:none;fill-rule:nonzero;fill:rgb(26.666667%,26.666667%,26.666667%);fill-opacity:1;\" d=\"M 327.648438 134.929688 L 341.882812 139.664062 L 336.378906 147.125 L 327.648438 134.929688 \"/>\n",
       "<path style=\"fill:none;stroke-width:1;stroke-linecap:butt;stroke-linejoin:miter;stroke:rgb(26.666667%,26.666667%,26.666667%);stroke-opacity:1;stroke-miterlimit:10;\" d=\"M 365.550781 162.871094 L 368.625 167.128906 \"/>\n",
       "<path style=\" stroke:none;fill-rule:nonzero;fill:rgb(26.666667%,26.666667%,26.666667%);fill-opacity:1;\" d=\"M 376.972656 178.695312 L 364.867188 169.839844 L 372.382812 164.414062 L 376.972656 178.695312 \"/>\n",
       "<path style=\"fill:none;stroke-width:1;stroke-linecap:butt;stroke-linejoin:miter;stroke:rgb(26.666667%,26.666667%,26.666667%);stroke-opacity:1;stroke-miterlimit:10;\" d=\"M 365.550781 162.871094 L 366.03125 161.890625 \"/>\n",
       "<path style=\" stroke:none;fill-rule:nonzero;fill:rgb(26.666667%,26.666667%,26.666667%);fill-opacity:1;\" d=\"M 359.734375 174.691406 L 361.875 159.84375 L 370.191406 163.9375 L 359.734375 174.691406 \"/>\n",
       "<path style=\"fill:none;stroke-width:1;stroke-linecap:butt;stroke-linejoin:miter;stroke:rgb(26.666667%,26.666667%,26.666667%);stroke-opacity:1;stroke-miterlimit:10;\" d=\"M 365.550781 162.871094 C 345.714844 178.550781 340.894531 221.679688 350.042969 221.542969 \"/>\n",
       "<path style=\" stroke:none;fill-rule:nonzero;fill:rgb(26.666667%,26.666667%,26.666667%);fill-opacity:1;\" d=\"M 364.304688 221.328125 L 350.109375 226.175781 L 349.972656 216.90625 L 364.304688 221.328125 \"/>\n",
       "<path style=\"fill:none;stroke-width:1;stroke-linecap:butt;stroke-linejoin:miter;stroke:rgb(26.666667%,26.666667%,26.666667%);stroke-opacity:1;stroke-miterlimit:10;\" d=\"M 365.550781 162.871094 L 346.066406 158.90625 \"/>\n",
       "<path style=\" stroke:none;fill-rule:nonzero;fill:rgb(26.666667%,26.666667%,26.666667%);fill-opacity:1;\" d=\"M 332.085938 156.0625 L 346.988281 154.363281 L 345.140625 163.449219 L 332.085938 156.0625 \"/>\n",
       "<path style=\"fill:none;stroke-width:1;stroke-linecap:butt;stroke-linejoin:miter;stroke:rgb(26.666667%,26.666667%,26.666667%);stroke-opacity:1;stroke-miterlimit:10;\" d=\"M 466.589844 342.640625 L 512.710938 327 \"/>\n",
       "<path style=\" stroke:none;fill-rule:nonzero;fill:rgb(26.666667%,26.666667%,26.666667%);fill-opacity:1;\" d=\"M 526.222656 322.421875 L 514.199219 331.390625 L 511.222656 322.613281 L 526.222656 322.421875 \"/>\n",
       "<path style=\"fill:none;stroke-width:1;stroke-linecap:butt;stroke-linejoin:miter;stroke:rgb(26.666667%,26.666667%,26.666667%);stroke-opacity:1;stroke-miterlimit:10;\" d=\"M 466.589844 342.640625 L 504.160156 396.085938 \"/>\n",
       "<path style=\" stroke:none;fill-rule:nonzero;fill:rgb(26.666667%,26.666667%,26.666667%);fill-opacity:1;\" d=\"M 512.367188 407.757812 L 500.371094 398.75 L 507.953125 393.421875 L 512.367188 407.757812 \"/>\n",
       "<path style=\"fill:none;stroke-width:1;stroke-linecap:butt;stroke-linejoin:miter;stroke:rgb(26.666667%,26.666667%,26.666667%);stroke-opacity:1;stroke-miterlimit:10;\" d=\"M 466.589844 342.640625 L 463.238281 330.953125 \"/>\n",
       "<path style=\" stroke:none;fill-rule:nonzero;fill:rgb(26.666667%,26.666667%,26.666667%);fill-opacity:1;\" d=\"M 459.308594 317.238281 L 467.695312 329.675781 L 458.78125 332.230469 L 459.308594 317.238281 \"/>\n",
       "<path style=\"fill:none;stroke-width:1;stroke-linecap:butt;stroke-linejoin:miter;stroke:rgb(26.666667%,26.666667%,26.666667%);stroke-opacity:1;stroke-miterlimit:10;\" d=\"M 466.589844 342.640625 L 444.324219 320.414062 \"/>\n",
       "<path style=\" stroke:none;fill-rule:nonzero;fill:rgb(26.666667%,26.666667%,26.666667%);fill-opacity:1;\" d=\"M 434.230469 310.335938 L 447.601562 317.132812 L 441.050781 323.695312 L 434.230469 310.335938 \"/>\n",
       "<path style=\"fill:none;stroke-width:1;stroke-linecap:butt;stroke-linejoin:miter;stroke:rgb(26.666667%,26.666667%,26.666667%);stroke-opacity:1;stroke-miterlimit:10;\" d=\"M 466.589844 342.640625 L 512.464844 340.984375 \"/>\n",
       "<path style=\" stroke:none;fill-rule:nonzero;fill:rgb(26.666667%,26.666667%,26.666667%);fill-opacity:1;\" d=\"M 526.722656 340.46875 L 512.632812 345.617188 L 512.296875 336.351562 L 526.722656 340.46875 \"/>\n",
       "<path style=\"fill:none;stroke-width:1;stroke-linecap:butt;stroke-linejoin:miter;stroke:rgb(26.666667%,26.666667%,26.666667%);stroke-opacity:1;stroke-miterlimit:10;\" d=\"M 466.589844 342.640625 L 473.816406 285.878906 \"/>\n",
       "<path style=\" stroke:none;fill-rule:nonzero;fill:rgb(26.666667%,26.666667%,26.666667%);fill-opacity:1;\" d=\"M 475.617188 271.726562 L 478.414062 286.460938 L 469.214844 285.292969 L 475.617188 271.726562 \"/>\n",
       "<path style=\"fill:none;stroke-width:1;stroke-linecap:butt;stroke-linejoin:miter;stroke:rgb(26.666667%,26.666667%,26.666667%);stroke-opacity:1;stroke-miterlimit:10;\" d=\"M 466.589844 342.640625 C 470.683594 348.390625 476.023438 349.976562 482.730469 347.785156 \"/>\n",
       "<path style=\" stroke:none;fill-rule:nonzero;fill:rgb(26.666667%,26.666667%,26.666667%);fill-opacity:1;\" d=\"M 496.289062 343.351562 L 484.171875 352.1875 L 481.289062 343.378906 L 496.289062 343.351562 \"/>\n",
       "<path style=\"fill:none;stroke-width:1;stroke-linecap:butt;stroke-linejoin:miter;stroke:rgb(26.666667%,26.666667%,26.666667%);stroke-opacity:1;stroke-miterlimit:10;\" d=\"M 466.589844 342.640625 L 499.539062 370.675781 \"/>\n",
       "<path style=\" stroke:none;fill-rule:nonzero;fill:rgb(26.666667%,26.666667%,26.666667%);fill-opacity:1;\" d=\"M 510.402344 379.917969 L 496.535156 374.203125 L 502.542969 367.144531 L 510.402344 379.917969 \"/>\n",
       "<path style=\"fill:none;stroke-width:1;stroke-linecap:butt;stroke-linejoin:miter;stroke:rgb(26.666667%,26.666667%,26.666667%);stroke-opacity:1;stroke-miterlimit:10;\" d=\"M 466.589844 342.640625 L 418.707031 364.421875 \"/>\n",
       "<path style=\" stroke:none;fill-rule:nonzero;fill:rgb(26.666667%,26.666667%,26.666667%);fill-opacity:1;\" d=\"M 405.722656 370.328125 L 416.789062 360.203125 L 420.625 368.640625 L 405.722656 370.328125 \"/>\n",
       "<path style=\"fill:none;stroke-width:1;stroke-linecap:butt;stroke-linejoin:miter;stroke:rgb(26.666667%,26.666667%,26.666667%);stroke-opacity:1;stroke-miterlimit:10;\" d=\"M 466.589844 342.640625 L 483.507812 423.753906 \"/>\n",
       "<path style=\" stroke:none;fill-rule:nonzero;fill:rgb(26.666667%,26.666667%,26.666667%);fill-opacity:1;\" d=\"M 486.417969 437.71875 L 478.96875 424.699219 L 488.042969 422.808594 L 486.417969 437.71875 \"/>\n",
       "<path style=\"fill:none;stroke-width:1;stroke-linecap:butt;stroke-linejoin:miter;stroke:rgb(26.666667%,26.666667%,26.666667%);stroke-opacity:1;stroke-miterlimit:10;\" d=\"M 466.589844 342.640625 L 474.105469 388.121094 \"/>\n",
       "<path style=\" stroke:none;fill-rule:nonzero;fill:rgb(26.666667%,26.666667%,26.666667%);fill-opacity:1;\" d=\"M 476.429688 402.195312 L 469.53125 388.878906 L 478.679688 387.367188 L 476.429688 402.195312 \"/>\n",
       "<path style=\"fill:none;stroke-width:1;stroke-linecap:butt;stroke-linejoin:miter;stroke:rgb(26.666667%,26.666667%,26.666667%);stroke-opacity:1;stroke-miterlimit:10;\" d=\"M 466.589844 342.640625 L 451.683594 392.269531 \"/>\n",
       "<path style=\" stroke:none;fill-rule:nonzero;fill:rgb(26.666667%,26.666667%,26.666667%);fill-opacity:1;\" d=\"M 447.578125 405.929688 L 447.242188 390.933594 L 456.121094 393.601562 L 447.578125 405.929688 \"/>\n",
       "<path style=\"fill:none;stroke-width:1;stroke-linecap:butt;stroke-linejoin:miter;stroke:rgb(26.666667%,26.666667%,26.666667%);stroke-opacity:1;stroke-miterlimit:10;\" d=\"M 466.589844 342.640625 L 387.726562 239.984375 \"/>\n",
       "<path style=\" stroke:none;fill-rule:nonzero;fill:rgb(26.666667%,26.666667%,26.666667%);fill-opacity:1;\" d=\"M 379.035156 228.667969 L 391.402344 237.160156 L 384.050781 242.804688 L 379.035156 228.667969 \"/>\n",
       "<path style=\"fill:none;stroke-width:1;stroke-linecap:butt;stroke-linejoin:miter;stroke:rgb(26.666667%,26.666667%,26.666667%);stroke-opacity:1;stroke-miterlimit:10;\" d=\"M 466.589844 342.640625 L 470.871094 307.25 \"/>\n",
       "<path style=\" stroke:none;fill-rule:nonzero;fill:rgb(26.666667%,26.666667%,26.666667%);fill-opacity:1;\" d=\"M 472.585938 293.089844 L 475.472656 307.808594 L 466.269531 306.695312 L 472.585938 293.089844 \"/>\n",
       "<path style=\"fill:none;stroke-width:1;stroke-linecap:butt;stroke-linejoin:miter;stroke:rgb(26.666667%,26.666667%,26.666667%);stroke-opacity:1;stroke-miterlimit:10;\" d=\"M 466.589844 342.640625 L 483.476562 328.144531 \"/>\n",
       "<path style=\" stroke:none;fill-rule:nonzero;fill:rgb(26.666667%,26.666667%,26.666667%);fill-opacity:1;\" d=\"M 494.300781 318.851562 L 486.496094 331.660156 L 480.457031 324.625 L 494.300781 318.851562 \"/>\n",
       "<path style=\"fill:none;stroke-width:1;stroke-linecap:butt;stroke-linejoin:miter;stroke:rgb(26.666667%,26.666667%,26.666667%);stroke-opacity:1;stroke-miterlimit:10;\" d=\"M 319.078125 226.199219 C 300.285156 222.003906 282.296875 246.378906 276.953125 245.207031 \"/>\n",
       "<path style=\" stroke:none;fill-rule:nonzero;fill:rgb(26.666667%,26.666667%,26.666667%);fill-opacity:1;\" d=\"M 290.890625 248.257812 L 275.960938 249.738281 L 277.941406 240.679688 L 290.890625 248.257812 \"/>\n",
       "<path style=\"fill:none;stroke-width:1;stroke-linecap:butt;stroke-linejoin:miter;stroke:rgb(26.666667%,26.666667%,26.666667%);stroke-opacity:1;stroke-miterlimit:10;\" d=\"M 319.078125 226.199219 C 329.078125 235.417969 339.046875 234.277344 351.554688 229.5 \"/>\n",
       "<path style=\" stroke:none;fill-rule:nonzero;fill:rgb(26.666667%,26.666667%,26.666667%);fill-opacity:1;\" d=\"M 364.878906 224.410156 L 353.207031 233.828125 L 349.898438 225.167969 L 364.878906 224.410156 \"/>\n",
       "<path style=\"fill:none;stroke-width:1;stroke-linecap:butt;stroke-linejoin:miter;stroke:rgb(26.666667%,26.666667%,26.666667%);stroke-opacity:1;stroke-miterlimit:10;\" d=\"M 173.203125 49.054688 L 196.101562 31.773438 \"/>\n",
       "<path style=\" stroke:none;fill-rule:nonzero;fill:rgb(26.666667%,26.666667%,26.666667%);fill-opacity:1;\" d=\"M 207.492188 23.183594 L 198.894531 35.476562 L 193.3125 28.074219 L 207.492188 23.183594 \"/>\n",
       "<path style=\"fill:none;stroke-width:1;stroke-linecap:butt;stroke-linejoin:miter;stroke:rgb(26.666667%,26.666667%,26.666667%);stroke-opacity:1;stroke-miterlimit:10;\" d=\"M 173.203125 49.054688 L 164.828125 48.980469 \"/>\n",
       "<path style=\" stroke:none;fill-rule:nonzero;fill:rgb(26.666667%,26.666667%,26.666667%);fill-opacity:1;\" d=\"M 150.5625 48.855469 L 164.867188 44.347656 L 164.785156 53.617188 L 150.5625 48.855469 \"/>\n",
       "<path style=\"fill:none;stroke-width:1;stroke-linecap:butt;stroke-linejoin:miter;stroke:rgb(26.666667%,26.666667%,26.666667%);stroke-opacity:1;stroke-miterlimit:10;\" d=\"M 502.976562 311.402344 L 482.117188 308.84375 \"/>\n",
       "<path style=\" stroke:none;fill-rule:nonzero;fill:rgb(26.666667%,26.666667%,26.666667%);fill-opacity:1;\" d=\"M 467.957031 307.105469 L 482.683594 304.242188 L 481.554688 313.445312 L 467.957031 307.105469 \"/>\n",
       "<path style=\"fill:none;stroke-width:1;stroke-linecap:butt;stroke-linejoin:miter;stroke:rgb(26.666667%,26.666667%,26.666667%);stroke-opacity:1;stroke-miterlimit:10;\" d=\"M 413 479.542969 L 411.914062 440.96875 \"/>\n",
       "<path style=\" stroke:none;fill-rule:nonzero;fill:rgb(26.666667%,26.666667%,26.666667%);fill-opacity:1;\" d=\"M 411.511719 426.710938 L 416.546875 440.839844 L 407.28125 441.101562 L 411.511719 426.710938 \"/>\n",
       "<path style=\"fill:none;stroke-width:1;stroke-linecap:butt;stroke-linejoin:miter;stroke:rgb(26.666667%,26.666667%,26.666667%);stroke-opacity:1;stroke-miterlimit:10;\" d=\"M 179.203125 499.898438 L 208.6875 501.402344 \"/>\n",
       "<path style=\" stroke:none;fill-rule:nonzero;fill:rgb(26.666667%,26.666667%,26.666667%);fill-opacity:1;\" d=\"M 222.933594 502.132812 L 208.449219 506.03125 L 208.925781 496.773438 L 222.933594 502.132812 \"/>\n",
       "<path style=\"fill:none;stroke-width:1;stroke-linecap:butt;stroke-linejoin:miter;stroke:rgb(26.666667%,26.666667%,26.666667%);stroke-opacity:1;stroke-miterlimit:10;\" d=\"M 179.203125 499.898438 L 184.484375 478.382812 \"/>\n",
       "<path style=\" stroke:none;fill-rule:nonzero;fill:rgb(26.666667%,26.666667%,26.666667%);fill-opacity:1;\" d=\"M 187.886719 464.527344 L 188.984375 479.488281 L 179.980469 477.277344 L 187.886719 464.527344 \"/>\n",
       "<path style=\"fill:none;stroke-width:1;stroke-linecap:butt;stroke-linejoin:miter;stroke:rgb(26.666667%,26.666667%,26.666667%);stroke-opacity:1;stroke-miterlimit:10;\" d=\"M 179.203125 499.898438 L 162.066406 530.554688 \"/>\n",
       "<path style=\" stroke:none;fill-rule:nonzero;fill:rgb(26.666667%,26.666667%,26.666667%);fill-opacity:1;\" d=\"M 155.109375 543.007812 L 158.023438 528.292969 L 166.113281 532.816406 L 155.109375 543.007812 \"/>\n",
       "<path style=\"fill:none;stroke-width:1;stroke-linecap:butt;stroke-linejoin:miter;stroke:rgb(26.666667%,26.666667%,26.666667%);stroke-opacity:1;stroke-miterlimit:10;\" d=\"M 179.203125 499.898438 L 145.945312 488.839844 \"/>\n",
       "<path style=\" stroke:none;fill-rule:nonzero;fill:rgb(26.666667%,26.666667%,26.666667%);fill-opacity:1;\" d=\"M 132.40625 484.339844 L 147.40625 484.441406 L 144.480469 493.238281 L 132.40625 484.339844 \"/>\n",
       "<path style=\"fill:none;stroke-width:1;stroke-linecap:butt;stroke-linejoin:miter;stroke:rgb(26.666667%,26.666667%,26.666667%);stroke-opacity:1;stroke-miterlimit:10;\" d=\"M 179.203125 499.898438 L 244.085938 528.480469 \"/>\n",
       "<path style=\" stroke:none;fill-rule:nonzero;fill:rgb(26.666667%,26.666667%,26.666667%);fill-opacity:1;\" d=\"M 257.140625 534.234375 L 242.21875 532.722656 L 245.957031 524.238281 L 257.140625 534.234375 \"/>\n",
       "<path style=\"fill:none;stroke-width:1;stroke-linecap:butt;stroke-linejoin:miter;stroke:rgb(26.666667%,26.666667%,26.666667%);stroke-opacity:1;stroke-miterlimit:10;\" d=\"M 179.203125 499.898438 L 204.082031 543.136719 \"/>\n",
       "<path style=\" stroke:none;fill-rule:nonzero;fill:rgb(26.666667%,26.666667%,26.666667%);fill-opacity:1;\" d=\"M 211.195312 555.503906 L 200.0625 545.449219 L 208.097656 540.824219 L 211.195312 555.503906 \"/>\n",
       "<path style=\"fill:none;stroke-width:1;stroke-linecap:butt;stroke-linejoin:miter;stroke:rgb(26.666667%,26.666667%,26.666667%);stroke-opacity:1;stroke-miterlimit:10;\" d=\"M 179.203125 499.898438 L 136.894531 509.632812 \"/>\n",
       "<path style=\" stroke:none;fill-rule:nonzero;fill:rgb(26.666667%,26.666667%,26.666667%);fill-opacity:1;\" d=\"M 122.992188 512.832031 L 135.855469 505.117188 L 137.933594 514.148438 L 122.992188 512.832031 \"/>\n",
       "<path style=\"fill:none;stroke-width:1;stroke-linecap:butt;stroke-linejoin:miter;stroke:rgb(26.666667%,26.666667%,26.666667%);stroke-opacity:1;stroke-miterlimit:10;\" d=\"M 179.203125 499.898438 L 168.195312 502.671875 \"/>\n",
       "<path style=\" stroke:none;fill-rule:nonzero;fill:rgb(26.666667%,26.666667%,26.666667%);fill-opacity:1;\" d=\"M 154.363281 506.160156 L 167.0625 498.179688 L 169.328125 507.167969 L 154.363281 506.160156 \"/>\n",
       "<path style=\"fill:none;stroke-width:1;stroke-linecap:butt;stroke-linejoin:miter;stroke:rgb(26.666667%,26.666667%,26.666667%);stroke-opacity:1;stroke-miterlimit:10;\" d=\"M 179.203125 499.898438 L 185.714844 567.214844 \"/>\n",
       "<path style=\" stroke:none;fill-rule:nonzero;fill:rgb(26.666667%,26.666667%,26.666667%);fill-opacity:1;\" d=\"M 184.34375 553.015625 L 190.328125 566.769531 L 181.101562 567.660156 L 184.34375 553.015625 \"/>\n",
       "<path style=\"fill:none;stroke-width:1;stroke-linecap:butt;stroke-linejoin:miter;stroke:rgb(26.666667%,26.666667%,26.666667%);stroke-opacity:1;stroke-miterlimit:10;\" d=\"M 179.203125 499.898438 L 151.792969 468.855469 \"/>\n",
       "<path style=\" stroke:none;fill-rule:nonzero;fill:rgb(26.666667%,26.666667%,26.666667%);fill-opacity:1;\" d=\"M 142.351562 458.160156 L 155.269531 465.789062 L 148.320312 471.921875 L 142.351562 458.160156 \"/>\n",
       "<path style=\"fill:none;stroke-width:1;stroke-linecap:butt;stroke-linejoin:miter;stroke:rgb(26.666667%,26.666667%,26.666667%);stroke-opacity:1;stroke-miterlimit:10;\" d=\"M 179.203125 499.898438 L 210.703125 522.636719 \"/>\n",
       "<path style=\" stroke:none;fill-rule:nonzero;fill:rgb(26.666667%,26.666667%,26.666667%);fill-opacity:1;\" d=\"M 222.273438 530.984375 L 207.992188 526.394531 L 213.417969 518.875 L 222.273438 530.984375 \"/>\n",
       "<path style=\"fill:none;stroke-width:1;stroke-linecap:butt;stroke-linejoin:miter;stroke:rgb(26.666667%,26.666667%,26.666667%);stroke-opacity:1;stroke-miterlimit:10;\" d=\"M 179.203125 499.898438 L 213.945312 482.882812 \"/>\n",
       "<path style=\" stroke:none;fill-rule:nonzero;fill:rgb(26.666667%,26.666667%,26.666667%);fill-opacity:1;\" d=\"M 226.757812 476.605469 L 215.984375 487.042969 L 211.90625 478.71875 L 226.757812 476.605469 \"/>\n",
       "<path style=\"fill:none;stroke-width:1;stroke-linecap:butt;stroke-linejoin:miter;stroke:rgb(26.666667%,26.666667%,26.666667%);stroke-opacity:1;stroke-miterlimit:10;\" d=\"M 179.203125 499.898438 L 128.503906 447.238281 \"/>\n",
       "<path style=\" stroke:none;fill-rule:nonzero;fill:rgb(26.666667%,26.666667%,26.666667%);fill-opacity:1;\" d=\"M 118.609375 436.960938 L 131.84375 444.023438 L 125.164062 450.453125 L 118.609375 436.960938 \"/>\n",
       "<path style=\"fill:none;stroke-width:1;stroke-linecap:butt;stroke-linejoin:miter;stroke:rgb(26.666667%,26.666667%,26.666667%);stroke-opacity:1;stroke-miterlimit:10;\" d=\"M 395.40625 48.492188 L 392.648438 80.144531 \"/>\n",
       "<path style=\" stroke:none;fill-rule:nonzero;fill:rgb(26.666667%,26.666667%,26.666667%);fill-opacity:1;\" d=\"M 391.414062 94.355469 L 388.03125 79.742188 L 397.269531 80.546875 L 391.414062 94.355469 \"/>\n",
       "<path style=\"fill-rule:nonzero;fill:rgb(73.72549%,74.117647%,13.333333%);fill-opacity:1;stroke-width:1;stroke-linecap:butt;stroke-linejoin:miter;stroke:rgb(0%,0%,0%);stroke-opacity:1;stroke-miterlimit:10;\" d=\"M 520.546875 268.832031 C 520.546875 273.332031 516.898438 276.976562 512.398438 276.976562 C 507.898438 276.976562 504.253906 273.332031 504.253906 268.832031 C 504.253906 264.332031 507.898438 260.683594 512.398438 260.683594 C 516.898438 260.683594 520.546875 264.332031 520.546875 268.832031 \"/>\n",
       "<path style=\"fill-rule:nonzero;fill:rgb(100%,49.803922%,5.490196%);fill-opacity:1;stroke-width:1;stroke-linecap:butt;stroke-linejoin:miter;stroke:rgb(0%,0%,0%);stroke-opacity:1;stroke-miterlimit:10;\" d=\"M 537.335938 320.585938 C 537.335938 323.738281 534.777344 326.292969 531.628906 326.292969 C 528.476562 326.292969 525.921875 323.738281 525.921875 320.585938 C 525.921875 317.4375 528.476562 314.882812 531.628906 314.882812 C 534.777344 314.882812 537.335938 317.4375 537.335938 320.585938 \"/>\n",
       "<path style=\"fill-rule:nonzero;fill:rgb(100%,49.803922%,5.490196%);fill-opacity:1;stroke-width:1;stroke-linecap:butt;stroke-linejoin:miter;stroke:rgb(0%,0%,0%);stroke-opacity:1;stroke-miterlimit:10;\" d=\"M 468.046875 305.636719 C 468.046875 312.304688 462.644531 317.707031 455.980469 317.707031 C 449.316406 317.707031 443.914062 312.304688 443.914062 305.636719 C 443.914062 298.972656 449.316406 293.570312 455.980469 293.570312 C 462.644531 293.570312 468.046875 298.972656 468.046875 305.636719 \"/>\n",
       "<path style=\"fill-rule:nonzero;fill:rgb(100%,49.803922%,5.490196%);fill-opacity:1;stroke-width:1;stroke-linecap:butt;stroke-linejoin:miter;stroke:rgb(0%,0%,0%);stroke-opacity:1;stroke-miterlimit:10;\" d=\"M 590.621094 248.421875 C 590.621094 254.59375 585.617188 259.597656 579.445312 259.597656 C 573.273438 259.597656 568.269531 254.59375 568.269531 248.421875 C 568.269531 242.25 573.273438 237.246094 579.445312 237.246094 C 585.617188 237.246094 590.621094 242.25 590.621094 248.421875 \"/>\n",
       "<path style=\"fill-rule:nonzero;fill:rgb(100%,49.803922%,5.490196%);fill-opacity:1;stroke-width:1;stroke-linecap:butt;stroke-linejoin:miter;stroke:rgb(0%,0%,0%);stroke-opacity:1;stroke-miterlimit:10;\" d=\"M 539.757812 340.234375 C 539.757812 343.835938 536.835938 346.753906 533.238281 346.753906 C 529.636719 346.753906 526.71875 343.835938 526.71875 340.234375 C 526.71875 336.632812 529.636719 333.714844 533.238281 333.714844 C 536.835938 333.714844 539.757812 336.632812 539.757812 340.234375 \"/>\n",
       "<path style=\"fill-rule:nonzero;fill:rgb(100%,49.803922%,5.490196%);fill-opacity:1;stroke-width:1;stroke-linecap:butt;stroke-linejoin:miter;stroke:rgb(0%,0%,0%);stroke-opacity:1;stroke-miterlimit:10;\" d=\"M 482.796875 265.402344 C 482.796875 268.921875 479.941406 271.777344 476.421875 271.777344 C 472.902344 271.777344 470.046875 268.921875 470.046875 265.402344 C 470.046875 261.882812 472.902344 259.027344 476.421875 259.027344 C 479.941406 259.027344 482.796875 261.882812 482.796875 265.402344 \"/>\n",
       "<path style=\"fill-rule:nonzero;fill:rgb(54.901961%,33.72549%,29.411765%);fill-opacity:1;stroke-width:1;stroke-linecap:butt;stroke-linejoin:miter;stroke:rgb(0%,0%,0%);stroke-opacity:1;stroke-miterlimit:10;\" d=\"M 553.074219 298.371094 C 553.074219 304.660156 547.980469 309.757812 541.691406 309.757812 C 535.402344 309.757812 530.308594 304.660156 530.308594 298.371094 C 530.308594 292.085938 535.402344 286.988281 541.691406 286.988281 C 547.980469 286.988281 553.074219 292.085938 553.074219 298.371094 \"/>\n",
       "<path style=\"fill-rule:nonzero;fill:rgb(73.72549%,74.117647%,13.333333%);fill-opacity:1;stroke-width:1;stroke-linecap:butt;stroke-linejoin:miter;stroke:rgb(0%,0%,0%);stroke-opacity:1;stroke-miterlimit:10;\" d=\"M 446.242188 268.066406 C 446.242188 275.574219 440.15625 281.660156 432.644531 281.660156 C 425.136719 281.660156 419.050781 275.574219 419.050781 268.066406 C 419.050781 260.558594 425.136719 254.472656 432.644531 254.472656 C 440.15625 254.472656 446.242188 260.558594 446.242188 268.066406 \"/>\n",
       "<path style=\"fill-rule:nonzero;fill:rgb(100%,49.803922%,5.490196%);fill-opacity:1;stroke-width:1;stroke-linecap:butt;stroke-linejoin:miter;stroke:rgb(0%,0%,0%);stroke-opacity:1;stroke-miterlimit:10;\" d=\"M 479.292969 287.140625 C 479.292969 290.449219 476.613281 293.132812 473.304688 293.132812 C 469.996094 293.132812 467.316406 290.449219 467.316406 287.140625 C 467.316406 283.835938 469.996094 281.152344 473.304688 281.152344 C 476.613281 281.152344 479.292969 283.835938 479.292969 287.140625 \"/>\n",
       "<path style=\"fill-rule:nonzero;fill:rgb(12.156863%,46.666667%,70.588235%);fill-opacity:1;stroke-width:1;stroke-linecap:butt;stroke-linejoin:miter;stroke:rgb(0%,0%,0%);stroke-opacity:1;stroke-miterlimit:10;\" d=\"M 577.953125 215.921875 C 577.953125 222.601562 567.929688 222.601562 567.929688 215.921875 C 567.929688 209.238281 577.953125 209.238281 577.953125 215.921875 \"/>\n",
       "<path style=\"fill-rule:nonzero;fill:rgb(54.901961%,33.72549%,29.411765%);fill-opacity:1;stroke-width:1;stroke-linecap:butt;stroke-linejoin:miter;stroke:rgb(0%,0%,0%);stroke-opacity:1;stroke-miterlimit:10;\" d=\"M 514.414062 311.402344 C 514.414062 317.71875 509.292969 322.835938 502.976562 322.835938 C 496.660156 322.835938 491.539062 317.71875 491.539062 311.402344 C 491.539062 305.085938 496.660156 299.964844 502.976562 299.964844 C 509.292969 299.964844 514.414062 305.085938 514.414062 311.402344 \"/>\n",
       "<path style=\"fill-rule:nonzero;fill:rgb(12.156863%,46.666667%,70.588235%);fill-opacity:1;stroke-width:1;stroke-linecap:butt;stroke-linejoin:miter;stroke:rgb(0%,0%,0%);stroke-opacity:1;stroke-miterlimit:10;\" d=\"M 552.484375 199.949219 C 552.484375 204.792969 548.558594 208.71875 543.714844 208.71875 C 538.871094 208.71875 534.941406 204.792969 534.941406 199.949219 C 534.941406 195.105469 538.871094 191.175781 543.714844 191.175781 C 548.558594 191.175781 552.484375 195.105469 552.484375 199.949219 \"/>\n",
       "<path style=\"fill-rule:nonzero;fill:rgb(49.803922%,49.803922%,49.803922%);fill-opacity:1;stroke-width:1;stroke-linecap:butt;stroke-linejoin:miter;stroke:rgb(0%,0%,0%);stroke-opacity:1;stroke-miterlimit:10;\" d=\"M 337.488281 79.910156 C 337.488281 84.214844 334.003906 87.703125 329.699219 87.703125 C 325.398438 87.703125 321.910156 84.214844 321.910156 79.910156 C 321.910156 75.609375 325.398438 72.121094 329.699219 72.121094 C 334.003906 72.121094 337.488281 75.609375 337.488281 79.910156 \"/>\n",
       "<path style=\"fill-rule:nonzero;fill:rgb(49.803922%,49.803922%,49.803922%);fill-opacity:1;stroke-width:1;stroke-linecap:butt;stroke-linejoin:miter;stroke:rgb(0%,0%,0%);stroke-opacity:1;stroke-miterlimit:10;\" d=\"M 329.71875 128.628906 C 329.71875 134.492188 324.964844 139.246094 319.101562 139.246094 C 313.234375 139.246094 308.480469 134.492188 308.480469 128.628906 C 308.480469 122.761719 313.234375 118.007812 319.101562 118.007812 C 324.964844 118.007812 329.71875 122.761719 329.71875 128.628906 \"/>\n",
       "<path style=\"fill-rule:nonzero;fill:rgb(49.803922%,49.803922%,49.803922%);fill-opacity:1;stroke-width:1;stroke-linecap:butt;stroke-linejoin:miter;stroke:rgb(0%,0%,0%);stroke-opacity:1;stroke-miterlimit:10;\" d=\"M 319.027344 56.804688 C 319.027344 60.378906 316.132812 63.273438 312.558594 63.273438 C 308.984375 63.273438 306.085938 60.378906 306.085938 56.804688 C 306.085938 53.230469 308.984375 50.332031 312.558594 50.332031 C 316.132812 50.332031 319.027344 53.230469 319.027344 56.804688 \"/>\n",
       "<path style=\"fill-rule:nonzero;fill:rgb(100%,49.803922%,5.490196%);fill-opacity:1;stroke-width:1;stroke-linecap:butt;stroke-linejoin:miter;stroke:rgb(0%,0%,0%);stroke-opacity:1;stroke-miterlimit:10;\" d=\"M 540.945312 258.234375 C 540.945312 262.359375 534.757812 262.359375 534.757812 258.234375 C 534.757812 254.113281 540.945312 254.113281 540.945312 258.234375 \"/>\n",
       "<path style=\"fill-rule:nonzero;fill:rgb(12.156863%,46.666667%,70.588235%);fill-opacity:1;stroke-width:1;stroke-linecap:butt;stroke-linejoin:miter;stroke:rgb(0%,0%,0%);stroke-opacity:1;stroke-miterlimit:10;\" d=\"M 428.886719 573.167969 C 428.886719 576.324219 426.328125 578.878906 423.171875 578.878906 C 420.015625 578.878906 417.457031 576.324219 417.457031 573.167969 C 417.457031 570.011719 420.015625 567.453125 423.171875 567.453125 C 426.328125 567.453125 428.886719 570.011719 428.886719 573.167969 \"/>\n",
       "<path style=\"fill-rule:nonzero;fill:rgb(12.156863%,46.666667%,70.588235%);fill-opacity:1;stroke-width:1;stroke-linecap:butt;stroke-linejoin:miter;stroke:rgb(0%,0%,0%);stroke-opacity:1;stroke-miterlimit:10;\" d=\"M 393.117188 580 C 393.117188 584.113281 386.949219 584.113281 386.949219 580 C 386.949219 575.886719 393.117188 575.886719 393.117188 580 \"/>\n",
       "<path style=\"fill-rule:nonzero;fill:rgb(49.803922%,49.803922%,49.803922%);fill-opacity:1;stroke-width:1;stroke-linecap:butt;stroke-linejoin:miter;stroke:rgb(0%,0%,0%);stroke-opacity:1;stroke-miterlimit:10;\" d=\"M 286.054688 118.1875 C 286.054688 125.132812 275.632812 125.132812 275.632812 118.1875 C 275.632812 111.242188 286.054688 111.242188 286.054688 118.1875 \"/>\n",
       "<path style=\"fill-rule:nonzero;fill:rgb(49.803922%,49.803922%,49.803922%);fill-opacity:1;stroke-width:1;stroke-linecap:butt;stroke-linejoin:miter;stroke:rgb(0%,0%,0%);stroke-opacity:1;stroke-miterlimit:10;\" d=\"M 298.273438 100.386719 C 298.273438 103.476562 295.765625 105.984375 292.675781 105.984375 C 289.582031 105.984375 287.074219 103.476562 287.074219 100.386719 C 287.074219 97.296875 289.582031 94.789062 292.675781 94.789062 C 295.765625 94.789062 298.273438 97.296875 298.273438 100.386719 \"/>\n",
       "<path style=\"fill-rule:nonzero;fill:rgb(49.803922%,49.803922%,49.803922%);fill-opacity:1;stroke-width:1;stroke-linecap:butt;stroke-linejoin:miter;stroke:rgb(0%,0%,0%);stroke-opacity:1;stroke-miterlimit:10;\" d=\"M 272.679688 88.226562 C 272.679688 93.5 268.40625 97.777344 263.128906 97.777344 C 257.855469 97.777344 253.578125 93.5 253.578125 88.226562 C 253.578125 82.953125 257.855469 78.675781 263.128906 78.675781 C 268.40625 78.675781 272.679688 82.953125 272.679688 88.226562 \"/>\n",
       "<path style=\"fill-rule:nonzero;fill:rgb(49.803922%,49.803922%,49.803922%);fill-opacity:1;stroke-width:1;stroke-linecap:butt;stroke-linejoin:miter;stroke:rgb(0%,0%,0%);stroke-opacity:1;stroke-miterlimit:10;\" d=\"M 332.253906 154.378906 C 332.253906 159.046875 328.46875 162.832031 323.800781 162.832031 C 319.132812 162.832031 315.347656 159.046875 315.347656 154.378906 C 315.347656 149.710938 319.132812 145.925781 323.800781 145.925781 C 328.46875 145.925781 332.253906 149.710938 332.253906 154.378906 \"/>\n",
       "<path style=\"fill-rule:nonzero;fill:rgb(73.72549%,74.117647%,13.333333%);fill-opacity:1;stroke-width:1;stroke-linecap:butt;stroke-linejoin:miter;stroke:rgb(0%,0%,0%);stroke-opacity:1;stroke-miterlimit:10;\" d=\"M 210.367188 266.15625 C 210.367188 273.5 204.410156 279.453125 197.066406 279.453125 C 189.722656 279.453125 183.765625 273.5 183.765625 266.15625 C 183.765625 258.808594 189.722656 252.855469 197.066406 252.855469 C 204.410156 252.855469 210.367188 258.808594 210.367188 266.15625 \"/>\n",
       "<path style=\"fill-rule:nonzero;fill:rgb(100%,49.803922%,5.490196%);fill-opacity:1;stroke-width:1;stroke-linecap:butt;stroke-linejoin:miter;stroke:rgb(0%,0%,0%);stroke-opacity:1;stroke-miterlimit:10;\" d=\"M 321.335938 279.875 C 321.335938 285.996094 316.375 290.960938 310.253906 290.960938 C 304.132812 290.960938 299.167969 285.996094 299.167969 279.875 C 299.167969 273.753906 304.132812 268.792969 310.253906 268.792969 C 316.375 268.792969 321.335938 273.753906 321.335938 279.875 \"/>\n",
       "<path style=\"fill-rule:nonzero;fill:rgb(49.803922%,49.803922%,49.803922%);fill-opacity:1;stroke-width:1;stroke-linecap:butt;stroke-linejoin:miter;stroke:rgb(0%,0%,0%);stroke-opacity:1;stroke-miterlimit:10;\" d=\"M 304.671875 183.347656 C 304.671875 188.070312 297.589844 188.070312 297.589844 183.347656 C 297.589844 178.625 304.671875 178.625 304.671875 183.347656 \"/>\n",
       "<path style=\"fill-rule:nonzero;fill:rgb(49.803922%,49.803922%,49.803922%);fill-opacity:1;stroke-width:1;stroke-linecap:butt;stroke-linejoin:miter;stroke:rgb(0%,0%,0%);stroke-opacity:1;stroke-miterlimit:10;\" d=\"M 305.535156 249.816406 C 305.535156 253.96875 302.167969 257.335938 298.015625 257.335938 C 293.863281 257.335938 290.496094 253.96875 290.496094 249.816406 C 290.496094 245.664062 293.863281 242.296875 298.015625 242.296875 C 302.167969 242.296875 305.535156 245.664062 305.535156 249.816406 \"/>\n",
       "<path style=\"fill-rule:nonzero;fill:rgb(49.803922%,49.803922%,49.803922%);fill-opacity:1;stroke-width:1;stroke-linecap:butt;stroke-linejoin:miter;stroke:rgb(0%,0%,0%);stroke-opacity:1;stroke-miterlimit:10;\" d=\"M 258.742188 149.660156 C 258.742188 153.5 252.984375 153.5 252.984375 149.660156 C 252.984375 145.820312 258.742188 145.820312 258.742188 149.660156 \"/>\n",
       "<path style=\"fill-rule:nonzero;fill:rgb(49.803922%,49.803922%,49.803922%);fill-opacity:1;stroke-width:1;stroke-linecap:butt;stroke-linejoin:miter;stroke:rgb(0%,0%,0%);stroke-opacity:1;stroke-miterlimit:10;\" d=\"M 382.71875 221.195312 C 382.71875 226.402344 378.5 230.621094 373.292969 230.621094 C 368.085938 230.621094 363.867188 226.402344 363.867188 221.195312 C 363.867188 215.988281 368.085938 211.769531 373.292969 211.769531 C 378.5 211.769531 382.71875 215.988281 382.71875 221.195312 \"/>\n",
       "<path style=\"fill-rule:nonzero;fill:rgb(49.803922%,49.803922%,49.803922%);fill-opacity:1;stroke-width:1;stroke-linecap:butt;stroke-linejoin:miter;stroke:rgb(0%,0%,0%);stroke-opacity:1;stroke-miterlimit:10;\" d=\"M 324.902344 226.199219 C 324.902344 229.414062 322.292969 232.019531 319.078125 232.019531 C 315.863281 232.019531 313.257812 229.414062 313.257812 226.199219 C 313.257812 222.984375 315.863281 220.375 319.078125 220.375 C 322.292969 220.375 324.902344 222.984375 324.902344 226.199219 \"/>\n",
       "<path style=\"fill-rule:nonzero;fill:rgb(17.254902%,62.745098%,17.254902%);fill-opacity:1;stroke-width:1;stroke-linecap:butt;stroke-linejoin:miter;stroke:rgb(0%,0%,0%);stroke-opacity:1;stroke-miterlimit:10;\" d=\"M 76.085938 385.035156 C 76.085938 395.859375 67.3125 404.628906 56.492188 404.628906 C 45.671875 404.628906 36.898438 395.859375 36.898438 385.035156 C 36.898438 374.214844 45.671875 365.441406 56.492188 365.441406 C 67.3125 365.441406 76.085938 374.214844 76.085938 385.035156 \"/>\n",
       "<path style=\"fill-rule:nonzero;fill:rgb(73.72549%,74.117647%,13.333333%);fill-opacity:1;stroke-width:1;stroke-linecap:butt;stroke-linejoin:miter;stroke:rgb(0%,0%,0%);stroke-opacity:1;stroke-miterlimit:10;\" d=\"M 89.105469 345.832031 C 89.105469 356.378906 80.558594 364.925781 70.011719 364.925781 C 59.464844 364.925781 50.917969 356.378906 50.917969 345.832031 C 50.917969 335.285156 59.464844 326.738281 70.011719 326.738281 C 80.558594 326.738281 89.105469 335.285156 89.105469 345.832031 \"/>\n",
       "<path style=\"fill-rule:nonzero;fill:rgb(9.019608%,74.509804%,81.176471%);fill-opacity:1;stroke-width:1;stroke-linecap:butt;stroke-linejoin:miter;stroke:rgb(0%,0%,0%);stroke-opacity:1;stroke-miterlimit:10;\" d=\"M 123.351562 425.8125 C 123.351562 434.359375 116.421875 441.285156 107.875 441.285156 C 99.328125 441.285156 92.402344 434.359375 92.402344 425.8125 C 92.402344 417.265625 99.328125 410.335938 107.875 410.335938 C 116.421875 410.335938 123.351562 417.265625 123.351562 425.8125 \"/>\n",
       "<path style=\"fill-rule:nonzero;fill:rgb(49.803922%,49.803922%,49.803922%);fill-opacity:1;stroke-width:1;stroke-linecap:butt;stroke-linejoin:miter;stroke:rgb(0%,0%,0%);stroke-opacity:1;stroke-miterlimit:10;\" d=\"M 139.796875 81.632812 C 139.796875 85.847656 136.382812 89.261719 132.167969 89.261719 C 127.957031 89.261719 124.542969 85.847656 124.542969 81.632812 C 124.542969 77.421875 127.957031 74.007812 132.167969 74.007812 C 136.382812 74.007812 139.796875 77.421875 139.796875 81.632812 \"/>\n",
       "<path style=\"fill-rule:nonzero;fill:rgb(49.803922%,49.803922%,49.803922%);fill-opacity:1;stroke-width:1;stroke-linecap:butt;stroke-linejoin:miter;stroke:rgb(0%,0%,0%);stroke-opacity:1;stroke-miterlimit:10;\" d=\"M 150.5625 48.78125 C 150.5625 53.234375 146.953125 56.84375 142.5 56.84375 C 138.046875 56.84375 134.4375 53.234375 134.4375 48.78125 C 134.4375 44.328125 138.046875 40.71875 142.5 40.71875 C 146.953125 40.71875 150.5625 44.328125 150.5625 48.78125 \"/>\n",
       "<path style=\"fill-rule:nonzero;fill:rgb(49.803922%,49.803922%,49.803922%);fill-opacity:1;stroke-width:1;stroke-linecap:butt;stroke-linejoin:miter;stroke:rgb(0%,0%,0%);stroke-opacity:1;stroke-miterlimit:10;\" d=\"M 106.972656 108.226562 C 106.972656 112.054688 101.234375 112.054688 101.234375 108.226562 C 101.234375 104.398438 106.972656 104.398438 106.972656 108.226562 \"/>\n",
       "<path style=\"fill-rule:nonzero;fill:rgb(49.803922%,49.803922%,49.803922%);fill-opacity:1;stroke-width:1;stroke-linecap:butt;stroke-linejoin:miter;stroke:rgb(0%,0%,0%);stroke-opacity:1;stroke-miterlimit:10;\" d=\"M 177.574219 49.054688 C 177.574219 54.882812 168.828125 54.882812 168.828125 49.054688 C 168.828125 43.226562 177.574219 43.226562 177.574219 49.054688 \"/>\n",
       "<path style=\"fill-rule:nonzero;fill:rgb(49.803922%,49.803922%,49.803922%);fill-opacity:1;stroke-width:1;stroke-linecap:butt;stroke-linejoin:miter;stroke:rgb(0%,0%,0%);stroke-opacity:1;stroke-miterlimit:10;\" d=\"M 343.96875 298.816406 C 343.96875 306.09375 338.070312 311.996094 330.789062 311.996094 C 323.511719 311.996094 317.609375 306.09375 317.609375 298.816406 C 317.609375 291.535156 323.511719 285.632812 330.789062 285.632812 C 338.070312 285.632812 343.96875 291.535156 343.96875 298.816406 \"/>\n",
       "<path style=\"fill-rule:nonzero;fill:rgb(49.803922%,49.803922%,49.803922%);fill-opacity:1;stroke-width:1;stroke-linecap:butt;stroke-linejoin:miter;stroke:rgb(0%,0%,0%);stroke-opacity:1;stroke-miterlimit:10;\" d=\"M 400.941406 104.75 C 400.941406 110.511719 396.269531 115.183594 390.507812 115.183594 C 384.746094 115.183594 380.074219 110.511719 380.074219 104.75 C 380.074219 98.988281 384.746094 94.316406 390.507812 94.316406 C 396.269531 94.316406 400.941406 98.988281 400.941406 104.75 \"/>\n",
       "<path style=\"fill-rule:nonzero;fill:rgb(58.039216%,40.392157%,74.117647%);fill-opacity:1;stroke-width:1;stroke-linecap:butt;stroke-linejoin:miter;stroke:rgb(0%,0%,0%);stroke-opacity:1;stroke-miterlimit:10;\" d=\"M 132.917969 481.167969 C 132.917969 486.722656 128.417969 491.222656 122.863281 491.222656 C 117.308594 491.222656 112.804688 486.722656 112.804688 481.167969 C 112.804688 475.613281 117.308594 471.109375 122.863281 471.109375 C 128.417969 471.109375 132.917969 475.613281 132.917969 481.167969 \"/>\n",
       "<path style=\"fill-rule:nonzero;fill:rgb(58.039216%,40.392157%,74.117647%);fill-opacity:1;stroke-width:1;stroke-linecap:butt;stroke-linejoin:miter;stroke:rgb(0%,0%,0%);stroke-opacity:1;stroke-miterlimit:10;\" d=\"M 123.171875 514.386719 C 123.171875 518.214844 120.066406 521.320312 116.238281 521.320312 C 112.40625 521.320312 109.304688 518.214844 109.304688 514.386719 C 109.304688 510.558594 112.40625 507.453125 116.238281 507.453125 C 120.066406 507.453125 123.171875 510.558594 123.171875 514.386719 \"/>\n",
       "<path style=\"fill-rule:nonzero;fill:rgb(100%,49.803922%,5.490196%);fill-opacity:1;stroke-width:1;stroke-linecap:butt;stroke-linejoin:miter;stroke:rgb(0%,0%,0%);stroke-opacity:1;stroke-miterlimit:10;\" d=\"M 154.671875 508.644531 C 154.671875 514.253906 150.125 518.800781 144.515625 518.800781 C 138.910156 518.800781 134.363281 514.253906 134.363281 508.644531 C 134.363281 503.035156 138.910156 498.492188 144.515625 498.492188 C 150.125 498.492188 154.671875 503.035156 154.671875 508.644531 \"/>\n",
       "<path style=\"fill-rule:nonzero;fill:rgb(49.803922%,49.803922%,49.803922%);fill-opacity:1;stroke-width:1;stroke-linecap:butt;stroke-linejoin:miter;stroke:rgb(0%,0%,0%);stroke-opacity:1;stroke-miterlimit:10;\" d=\"M 406.191406 264.757812 C 406.191406 267.789062 401.644531 267.789062 401.644531 264.757812 C 401.644531 261.726562 406.191406 261.726562 406.191406 264.757812 \"/>\n",
       "<path style=\"fill-rule:nonzero;fill:rgb(49.803922%,49.803922%,49.803922%);fill-opacity:1;stroke-width:1;stroke-linecap:butt;stroke-linejoin:miter;stroke:rgb(0%,0%,0%);stroke-opacity:1;stroke-miterlimit:10;\" d=\"M 395.019531 187.925781 C 395.019531 194.210938 389.925781 199.308594 383.636719 199.308594 C 377.351562 199.308594 372.253906 194.210938 372.253906 187.925781 C 372.253906 181.636719 377.351562 176.539062 383.636719 176.539062 C 389.925781 176.539062 395.019531 181.636719 395.019531 187.925781 \"/>\n",
       "<path style=\"fill-rule:nonzero;fill:rgb(54.901961%,33.72549%,29.411765%);fill-opacity:1;stroke-width:1;stroke-linecap:butt;stroke-linejoin:miter;stroke:rgb(0%,0%,0%);stroke-opacity:1;stroke-miterlimit:10;\" d=\"M 380.117188 334.117188 C 380.117188 340.835938 370.03125 340.835938 370.03125 334.117188 C 370.03125 327.394531 380.117188 327.394531 380.117188 334.117188 \"/>\n",
       "<path style=\"fill-rule:nonzero;fill:rgb(49.803922%,49.803922%,49.803922%);fill-opacity:1;stroke-width:1;stroke-linecap:butt;stroke-linejoin:miter;stroke:rgb(0%,0%,0%);stroke-opacity:1;stroke-miterlimit:10;\" d=\"M 335.003906 205.769531 C 335.003906 209.074219 332.324219 211.753906 329.015625 211.753906 C 325.710938 211.753906 323.03125 209.074219 323.03125 205.769531 C 323.03125 202.460938 325.710938 199.78125 329.015625 199.78125 C 332.324219 199.78125 335.003906 202.460938 335.003906 205.769531 \"/>\n",
       "<path style=\"fill-rule:nonzero;fill:rgb(58.039216%,40.392157%,74.117647%);fill-opacity:1;stroke-width:1;stroke-linecap:butt;stroke-linejoin:miter;stroke:rgb(0%,0%,0%);stroke-opacity:1;stroke-miterlimit:10;\" d=\"M 54.195312 435.996094 C 54.195312 439.714844 51.179688 442.726562 47.460938 442.726562 C 43.742188 442.726562 40.730469 439.714844 40.730469 435.996094 C 40.730469 432.273438 43.742188 429.261719 47.460938 429.261719 C 51.179688 429.261719 54.195312 432.273438 54.195312 435.996094 \"/>\n",
       "<path style=\"fill-rule:nonzero;fill:rgb(58.039216%,40.392157%,74.117647%);fill-opacity:1;stroke-width:1;stroke-linecap:butt;stroke-linejoin:miter;stroke:rgb(0%,0%,0%);stroke-opacity:1;stroke-miterlimit:10;\" d=\"M 93.066406 416.503906 C 93.066406 423.390625 82.734375 423.390625 82.734375 416.503906 C 82.734375 409.617188 93.066406 409.617188 93.066406 416.503906 \"/>\n",
       "<path style=\"fill-rule:nonzero;fill:rgb(9.019608%,74.509804%,81.176471%);fill-opacity:1;stroke-width:1;stroke-linecap:butt;stroke-linejoin:miter;stroke:rgb(0%,0%,0%);stroke-opacity:1;stroke-miterlimit:10;\" d=\"M 146.613281 448.71875 C 146.613281 455.675781 140.972656 461.316406 134.015625 461.316406 C 127.058594 461.316406 121.421875 455.675781 121.421875 448.71875 C 121.421875 441.761719 127.058594 436.125 134.015625 436.125 C 140.972656 436.125 146.613281 441.761719 146.613281 448.71875 \"/>\n",
       "<path style=\"fill-rule:nonzero;fill:rgb(58.039216%,40.392157%,74.117647%);fill-opacity:1;stroke-width:1;stroke-linecap:butt;stroke-linejoin:miter;stroke:rgb(0%,0%,0%);stroke-opacity:1;stroke-miterlimit:10;\" d=\"M 162.992188 422.734375 C 162.992188 425.988281 160.355469 428.628906 157.101562 428.628906 C 153.847656 428.628906 151.207031 425.988281 151.207031 422.734375 C 151.207031 419.480469 153.847656 416.839844 157.101562 416.839844 C 160.355469 416.839844 162.992188 419.480469 162.992188 422.734375 \"/>\n",
       "<path style=\"fill-rule:nonzero;fill:rgb(58.039216%,40.392157%,74.117647%);fill-opacity:1;stroke-width:1;stroke-linecap:butt;stroke-linejoin:miter;stroke:rgb(0%,0%,0%);stroke-opacity:1;stroke-miterlimit:10;\" d=\"M 205.402344 450.792969 C 205.402344 458.601562 199.070312 464.9375 191.257812 464.9375 C 183.445312 464.9375 177.113281 458.601562 177.113281 450.792969 C 177.113281 442.980469 183.445312 436.648438 191.257812 436.648438 C 199.070312 436.648438 205.402344 442.980469 205.402344 450.792969 \"/>\n",
       "<path style=\"fill-rule:nonzero;fill:rgb(83.921569%,15.294118%,15.686275%);fill-opacity:1;stroke-width:1;stroke-linecap:butt;stroke-linejoin:miter;stroke:rgb(0%,0%,0%);stroke-opacity:1;stroke-miterlimit:10;\" d=\"M 41.941406 202.921875 C 41.941406 210.992188 35.398438 217.535156 27.328125 217.535156 C 19.257812 217.535156 12.714844 210.992188 12.714844 202.921875 C 12.714844 194.851562 19.257812 188.308594 27.328125 188.308594 C 35.398438 188.308594 41.941406 194.851562 41.941406 202.921875 \"/>\n",
       "<path style=\"fill-rule:nonzero;fill:rgb(83.921569%,15.294118%,15.686275%);fill-opacity:1;stroke-width:1;stroke-linecap:butt;stroke-linejoin:miter;stroke:rgb(0%,0%,0%);stroke-opacity:1;stroke-miterlimit:10;\" d=\"M 70.121094 226.003906 C 70.121094 230.785156 66.246094 234.660156 61.464844 234.660156 C 56.683594 234.660156 52.804688 230.785156 52.804688 226.003906 C 52.804688 221.222656 56.683594 217.34375 61.464844 217.34375 C 66.246094 217.34375 70.121094 221.222656 70.121094 226.003906 \"/>\n",
       "<path style=\"fill-rule:nonzero;fill:rgb(100%,49.803922%,5.490196%);fill-opacity:1;stroke-width:1;stroke-linecap:butt;stroke-linejoin:miter;stroke:rgb(0%,0%,0%);stroke-opacity:1;stroke-miterlimit:10;\" d=\"M 591.175781 334.9375 C 591.175781 341.109375 586.171875 346.113281 580 346.113281 C 573.828125 346.113281 568.824219 341.109375 568.824219 334.9375 C 568.824219 328.765625 573.828125 323.761719 580 323.761719 C 586.171875 323.761719 591.175781 328.765625 591.175781 334.9375 \"/>\n",
       "<path style=\"fill-rule:nonzero;fill:rgb(54.901961%,33.72549%,29.411765%);fill-opacity:1;stroke-width:1;stroke-linecap:butt;stroke-linejoin:miter;stroke:rgb(0%,0%,0%);stroke-opacity:1;stroke-miterlimit:10;\" d=\"M 513.019531 340.710938 C 513.019531 345.492188 509.144531 349.367188 504.363281 349.367188 C 499.582031 349.367188 495.703125 345.492188 495.703125 340.710938 C 495.703125 335.929688 499.582031 332.050781 504.363281 332.050781 C 509.144531 332.050781 513.019531 335.929688 513.019531 340.710938 \"/>\n",
       "<path style=\"fill-rule:nonzero;fill:rgb(49.803922%,49.803922%,49.803922%);fill-opacity:1;stroke-width:1;stroke-linecap:butt;stroke-linejoin:miter;stroke:rgb(0%,0%,0%);stroke-opacity:1;stroke-miterlimit:10;\" d=\"M 437.5625 302.277344 C 437.5625 308.574219 432.457031 313.679688 426.15625 313.679688 C 419.859375 313.679688 414.753906 308.574219 414.753906 302.277344 C 414.753906 295.976562 419.859375 290.871094 426.15625 290.871094 C 432.457031 290.871094 437.5625 295.976562 437.5625 302.277344 \"/>\n",
       "<path style=\"fill-rule:nonzero;fill:rgb(100%,49.803922%,5.490196%);fill-opacity:1;stroke-width:1;stroke-linecap:butt;stroke-linejoin:miter;stroke:rgb(0%,0%,0%);stroke-opacity:1;stroke-miterlimit:10;\" d=\"M 574.117188 389.9375 C 574.117188 395.945312 565.101562 395.945312 565.101562 389.9375 C 565.101562 383.929688 574.117188 383.929688 574.117188 389.9375 \"/>\n",
       "<path style=\"fill-rule:nonzero;fill:rgb(54.901961%,33.72549%,29.411765%);fill-opacity:1;stroke-width:1;stroke-linecap:butt;stroke-linejoin:miter;stroke:rgb(0%,0%,0%);stroke-opacity:1;stroke-miterlimit:10;\" d=\"M 518.292969 382.820312 C 518.292969 388.792969 509.335938 388.792969 509.335938 382.820312 C 509.335938 376.847656 518.292969 376.847656 518.292969 382.820312 \"/>\n",
       "<path style=\"fill-rule:nonzero;fill:rgb(54.901961%,33.72549%,29.411765%);fill-opacity:1;stroke-width:1;stroke-linecap:butt;stroke-linejoin:miter;stroke:rgb(0%,0%,0%);stroke-opacity:1;stroke-miterlimit:10;\" d=\"M 474.277344 342.640625 C 474.277344 346.886719 470.835938 350.328125 466.589844 350.328125 C 462.34375 350.328125 458.898438 346.886719 458.898438 342.640625 C 458.898438 338.394531 462.34375 334.949219 466.589844 334.949219 C 470.835938 334.949219 474.277344 338.394531 474.277344 342.640625 \"/>\n",
       "<path style=\"fill-rule:nonzero;fill:rgb(54.901961%,33.72549%,29.411765%);fill-opacity:1;stroke-width:1;stroke-linecap:butt;stroke-linejoin:miter;stroke:rgb(0%,0%,0%);stroke-opacity:1;stroke-miterlimit:10;\" d=\"M 406.054688 371.855469 C 406.054688 376.777344 398.667969 376.777344 398.667969 371.855469 C 398.667969 366.933594 406.054688 366.933594 406.054688 371.855469 \"/>\n",
       "<path style=\"fill-rule:nonzero;fill:rgb(49.803922%,49.803922%,49.803922%);fill-opacity:1;stroke-width:1;stroke-linecap:butt;stroke-linejoin:miter;stroke:rgb(0%,0%,0%);stroke-opacity:1;stroke-miterlimit:10;\" d=\"M 72.53125 122.882812 C 72.53125 126.167969 69.867188 128.832031 66.582031 128.832031 C 63.296875 128.832031 60.636719 126.167969 60.636719 122.882812 C 60.636719 119.597656 63.296875 116.9375 66.582031 116.9375 C 69.867188 116.9375 72.53125 119.597656 72.53125 122.882812 \"/>\n",
       "<path style=\"fill-rule:nonzero;fill:rgb(49.803922%,49.803922%,49.803922%);fill-opacity:1;stroke-width:1;stroke-linecap:butt;stroke-linejoin:miter;stroke:rgb(0%,0%,0%);stroke-opacity:1;stroke-miterlimit:10;\" d=\"M 92.003906 143.753906 C 92.003906 149.324219 83.652344 149.324219 83.652344 143.753906 C 83.652344 138.1875 92.003906 138.1875 92.003906 143.753906 \"/>\n",
       "<path style=\"fill-rule:nonzero;fill:rgb(49.803922%,49.803922%,49.803922%);fill-opacity:1;stroke-width:1;stroke-linecap:butt;stroke-linejoin:miter;stroke:rgb(0%,0%,0%);stroke-opacity:1;stroke-miterlimit:10;\" d=\"M 491.851562 442.136719 C 491.851562 448.148438 482.828125 448.148438 482.828125 442.136719 C 482.828125 436.121094 491.851562 436.121094 491.851562 442.136719 \"/>\n",
       "<path style=\"fill-rule:nonzero;fill:rgb(49.803922%,49.803922%,49.803922%);fill-opacity:1;stroke-width:1;stroke-linecap:butt;stroke-linejoin:miter;stroke:rgb(0%,0%,0%);stroke-opacity:1;stroke-miterlimit:10;\" d=\"M 505.78125 499.761719 C 505.78125 503.203125 502.992188 505.992188 499.550781 505.992188 C 496.109375 505.992188 493.320312 503.203125 493.320312 499.761719 C 493.320312 496.320312 496.109375 493.53125 499.550781 493.53125 C 502.992188 493.53125 505.78125 496.320312 505.78125 499.761719 \"/>\n",
       "<path style=\"fill-rule:nonzero;fill:rgb(73.72549%,74.117647%,13.333333%);fill-opacity:1;stroke-width:1;stroke-linecap:butt;stroke-linejoin:miter;stroke:rgb(0%,0%,0%);stroke-opacity:1;stroke-miterlimit:10;\" d=\"M 28.042969 326.425781 C 28.042969 330.867188 24.441406 334.46875 20 334.46875 C 15.558594 334.46875 11.957031 330.867188 11.957031 326.425781 C 11.957031 321.984375 15.558594 318.382812 20 318.382812 C 24.441406 318.382812 28.042969 321.984375 28.042969 326.425781 \"/>\n",
       "<path style=\"fill-rule:nonzero;fill:rgb(100%,49.803922%,5.490196%);fill-opacity:1;stroke-width:1;stroke-linecap:butt;stroke-linejoin:miter;stroke:rgb(0%,0%,0%);stroke-opacity:1;stroke-miterlimit:10;\" d=\"M 510.351562 162.460938 C 510.351562 165.015625 506.523438 165.015625 506.523438 162.460938 C 506.523438 159.910156 510.351562 159.910156 510.351562 162.460938 \"/>\n",
       "<path style=\"fill-rule:nonzero;fill:rgb(100%,49.803922%,5.490196%);fill-opacity:1;stroke-width:1;stroke-linecap:butt;stroke-linejoin:miter;stroke:rgb(0%,0%,0%);stroke-opacity:1;stroke-miterlimit:10;\" d=\"M 490.238281 229.304688 C 490.238281 232.359375 487.761719 234.835938 484.707031 234.835938 C 481.652344 234.835938 479.175781 232.359375 479.175781 229.304688 C 479.175781 226.25 481.652344 223.773438 484.707031 223.773438 C 487.761719 223.773438 490.238281 226.25 490.238281 229.304688 \"/>\n",
       "<path style=\"fill-rule:nonzero;fill:rgb(49.803922%,49.803922%,49.803922%);fill-opacity:1;stroke-width:1;stroke-linecap:butt;stroke-linejoin:miter;stroke:rgb(0%,0%,0%);stroke-opacity:1;stroke-miterlimit:10;\" d=\"M 182.574219 306.890625 C 182.574219 310.515625 179.636719 313.453125 176.011719 313.453125 C 172.386719 313.453125 169.449219 310.515625 169.449219 306.890625 C 169.449219 303.265625 172.386719 300.328125 176.011719 300.328125 C 179.636719 300.328125 182.574219 303.265625 182.574219 306.890625 \"/>\n",
       "<path style=\"fill-rule:nonzero;fill:rgb(49.803922%,49.803922%,49.803922%);fill-opacity:1;stroke-width:1;stroke-linecap:butt;stroke-linejoin:miter;stroke:rgb(0%,0%,0%);stroke-opacity:1;stroke-miterlimit:10;\" d=\"M 125.484375 284.289062 C 125.484375 288 122.472656 291.011719 118.757812 291.011719 C 115.046875 291.011719 112.035156 288 112.035156 284.289062 C 112.035156 280.574219 115.046875 277.5625 118.757812 277.5625 C 122.472656 277.5625 125.484375 280.574219 125.484375 284.289062 \"/>\n",
       "<path style=\"fill-rule:nonzero;fill:rgb(49.803922%,49.803922%,49.803922%);fill-opacity:1;stroke-width:1;stroke-linecap:butt;stroke-linejoin:miter;stroke:rgb(0%,0%,0%);stroke-opacity:1;stroke-miterlimit:10;\" d=\"M 133.242188 313.375 C 133.242188 316.929688 127.910156 316.929688 127.910156 313.375 C 127.910156 309.820312 133.242188 309.820312 133.242188 313.375 \"/>\n",
       "<path style=\"fill-rule:nonzero;fill:rgb(49.803922%,49.803922%,49.803922%);fill-opacity:1;stroke-width:1;stroke-linecap:butt;stroke-linejoin:miter;stroke:rgb(0%,0%,0%);stroke-opacity:1;stroke-miterlimit:10;\" d=\"M 241.5 313.613281 C 241.5 317.289062 238.519531 320.269531 234.84375 320.269531 C 231.167969 320.269531 228.1875 317.289062 228.1875 313.613281 C 228.1875 309.9375 231.167969 306.957031 234.84375 306.957031 C 238.519531 306.957031 241.5 309.9375 241.5 313.613281 \"/>\n",
       "<path style=\"fill-rule:nonzero;fill:rgb(83.921569%,15.294118%,15.686275%);fill-opacity:1;stroke-width:1;stroke-linecap:butt;stroke-linejoin:miter;stroke:rgb(0%,0%,0%);stroke-opacity:1;stroke-miterlimit:10;\" d=\"M 107.0625 270.820312 C 107.0625 276.605469 102.375 281.296875 96.589844 281.296875 C 90.804688 281.296875 86.113281 276.605469 86.113281 270.820312 C 86.113281 265.035156 90.804688 260.347656 96.589844 260.347656 C 102.375 260.347656 107.0625 265.035156 107.0625 270.820312 \"/>\n",
       "<path style=\"fill-rule:nonzero;fill:rgb(83.921569%,15.294118%,15.686275%);fill-opacity:1;stroke-width:1;stroke-linecap:butt;stroke-linejoin:miter;stroke:rgb(0%,0%,0%);stroke-opacity:1;stroke-miterlimit:10;\" d=\"M 55.132812 262.988281 C 55.132812 269.261719 50.046875 274.347656 43.773438 274.347656 C 37.5 274.347656 32.414062 269.261719 32.414062 262.988281 C 32.414062 256.714844 37.5 251.628906 43.773438 251.628906 C 50.046875 251.628906 55.132812 256.714844 55.132812 262.988281 \"/>\n",
       "<path style=\"fill-rule:nonzero;fill:rgb(49.803922%,49.803922%,49.803922%);fill-opacity:1;stroke-width:1;stroke-linecap:butt;stroke-linejoin:miter;stroke:rgb(0%,0%,0%);stroke-opacity:1;stroke-miterlimit:10;\" d=\"M 474.964844 41.578125 C 474.964844 45.929688 471.433594 49.460938 467.082031 49.460938 C 462.726562 49.460938 459.199219 45.929688 459.199219 41.578125 C 459.199219 37.222656 462.726562 33.695312 467.082031 33.695312 C 471.433594 33.695312 474.964844 37.222656 474.964844 41.578125 \"/>\n",
       "<path style=\"fill-rule:nonzero;fill:rgb(49.803922%,49.803922%,49.803922%);fill-opacity:1;stroke-width:1;stroke-linecap:butt;stroke-linejoin:miter;stroke:rgb(0%,0%,0%);stroke-opacity:1;stroke-miterlimit:10;\" d=\"M 445.234375 67.527344 C 445.234375 71.300781 442.175781 74.359375 438.402344 74.359375 C 434.628906 74.359375 431.570312 71.300781 431.570312 67.527344 C 431.570312 63.753906 434.628906 60.699219 438.402344 60.699219 C 442.175781 60.699219 445.234375 63.753906 445.234375 67.527344 \"/>\n",
       "<path style=\"fill-rule:nonzero;fill:rgb(58.039216%,40.392157%,74.117647%);fill-opacity:1;stroke-width:1;stroke-linecap:butt;stroke-linejoin:miter;stroke:rgb(0%,0%,0%);stroke-opacity:1;stroke-miterlimit:10;\" d=\"M 310.792969 562.054688 C 310.792969 567.910156 302.011719 567.910156 302.011719 562.054688 C 302.011719 556.203125 310.792969 556.203125 310.792969 562.054688 \"/>\n",
       "<path style=\"fill-rule:nonzero;fill:rgb(58.039216%,40.392157%,74.117647%);fill-opacity:1;stroke-width:1;stroke-linecap:butt;stroke-linejoin:miter;stroke:rgb(0%,0%,0%);stroke-opacity:1;stroke-miterlimit:10;\" d=\"M 264.167969 535.710938 C 264.167969 540.601562 256.832031 540.601562 256.832031 535.710938 C 256.832031 530.820312 264.167969 530.820312 264.167969 535.710938 \"/>\n",
       "<path style=\"fill-rule:nonzero;fill:rgb(12.156863%,46.666667%,70.588235%);fill-opacity:1;stroke-width:1;stroke-linecap:butt;stroke-linejoin:miter;stroke:rgb(0%,0%,0%);stroke-opacity:1;stroke-miterlimit:10;\" d=\"M 424.796875 413.042969 C 424.796875 420.59375 418.675781 426.714844 411.125 426.714844 C 403.574219 426.714844 397.453125 420.59375 397.453125 413.042969 C 397.453125 405.492188 403.574219 399.371094 411.125 399.371094 C 418.675781 399.371094 424.796875 405.492188 424.796875 413.042969 \"/>\n",
       "<path style=\"fill-rule:nonzero;fill:rgb(100%,49.803922%,5.490196%);fill-opacity:1;stroke-width:1;stroke-linecap:butt;stroke-linejoin:miter;stroke:rgb(0%,0%,0%);stroke-opacity:1;stroke-miterlimit:10;\" d=\"M 386.617188 465.714844 C 386.617188 471.238281 382.144531 475.710938 376.625 475.710938 C 371.105469 475.710938 366.628906 471.238281 366.628906 465.714844 C 366.628906 460.195312 371.105469 455.722656 376.625 455.722656 C 382.144531 455.722656 386.617188 460.195312 386.617188 465.714844 \"/>\n",
       "<path style=\"fill-rule:nonzero;fill:rgb(49.803922%,49.803922%,49.803922%);fill-opacity:1;stroke-width:1;stroke-linecap:butt;stroke-linejoin:miter;stroke:rgb(0%,0%,0%);stroke-opacity:1;stroke-miterlimit:10;\" d=\"M 364.917969 183.019531 C 364.917969 188.144531 360.761719 192.300781 355.636719 192.300781 C 350.511719 192.300781 346.355469 188.144531 346.355469 183.019531 C 346.355469 177.894531 350.511719 173.738281 355.636719 173.738281 C 360.761719 173.738281 364.917969 177.894531 364.917969 183.019531 \"/>\n",
       "<path style=\"fill:none;stroke-width:1;stroke-linecap:butt;stroke-linejoin:miter;stroke:rgb(0%,0%,0%);stroke-opacity:1;stroke-miterlimit:10;\" d=\"M 365.550781 162.871094 L 365.550781 162.871094 \"/>\n",
       "<path style=\"fill-rule:nonzero;fill:rgb(58.039216%,40.392157%,74.117647%);fill-opacity:1;stroke-width:1;stroke-linecap:butt;stroke-linejoin:miter;stroke:rgb(0%,0%,0%);stroke-opacity:1;stroke-miterlimit:10;\" d=\"M 112.808594 380.554688 C 112.808594 387.039062 103.085938 387.039062 103.085938 380.554688 C 103.085938 374.074219 112.808594 374.074219 112.808594 380.554688 \"/>\n",
       "<path style=\"fill-rule:nonzero;fill:rgb(54.901961%,33.72549%,29.411765%);fill-opacity:1;stroke-width:1;stroke-linecap:butt;stroke-linejoin:miter;stroke:rgb(0%,0%,0%);stroke-opacity:1;stroke-miterlimit:10;\" d=\"M 285.5625 278.34375 C 285.5625 282.710938 282.023438 286.25 277.65625 286.25 C 273.289062 286.25 269.75 282.710938 269.75 278.34375 C 269.75 273.976562 273.289062 270.433594 277.65625 270.433594 C 282.023438 270.433594 285.5625 273.976562 285.5625 278.34375 \"/>\n",
       "<path style=\"fill-rule:nonzero;fill:rgb(100%,49.803922%,5.490196%);fill-opacity:1;stroke-width:1;stroke-linecap:butt;stroke-linejoin:miter;stroke:rgb(0%,0%,0%);stroke-opacity:1;stroke-miterlimit:10;\" d=\"M 522.414062 412.976562 C 522.414062 416.5 519.558594 419.355469 516.035156 419.355469 C 512.511719 419.355469 509.65625 416.5 509.65625 412.976562 C 509.65625 409.453125 512.511719 406.597656 516.035156 406.597656 C 519.558594 406.597656 522.414062 409.453125 522.414062 412.976562 \"/>\n",
       "<path style=\"fill-rule:nonzero;fill:rgb(100%,49.803922%,5.490196%);fill-opacity:1;stroke-width:1;stroke-linecap:butt;stroke-linejoin:miter;stroke:rgb(0%,0%,0%);stroke-opacity:1;stroke-miterlimit:10;\" d=\"M 485.246094 409.675781 C 485.246094 413.863281 481.851562 417.253906 477.667969 417.253906 C 473.480469 417.253906 470.085938 413.863281 470.085938 409.675781 C 470.085938 405.488281 473.480469 402.09375 477.667969 402.09375 C 481.851562 402.09375 485.246094 405.488281 485.246094 409.675781 \"/>\n",
       "<path style=\"fill-rule:nonzero;fill:rgb(100%,49.803922%,5.490196%);fill-opacity:1;stroke-width:1;stroke-linecap:butt;stroke-linejoin:miter;stroke:rgb(0%,0%,0%);stroke-opacity:1;stroke-miterlimit:10;\" d=\"M 450.515625 409.882812 C 450.515625 415.382812 442.265625 415.382812 442.265625 409.882812 C 442.265625 404.382812 450.515625 404.382812 450.515625 409.882812 \"/>\n",
       "<path style=\"fill-rule:nonzero;fill:rgb(49.803922%,49.803922%,49.803922%);fill-opacity:1;stroke-width:1;stroke-linecap:butt;stroke-linejoin:miter;stroke:rgb(0%,0%,0%);stroke-opacity:1;stroke-miterlimit:10;\" d=\"M 216.992188 20 C 216.992188 27.042969 206.425781 27.042969 206.425781 20 C 206.425781 12.957031 216.992188 12.957031 216.992188 20 \"/>\n",
       "<path style=\"fill-rule:nonzero;fill:rgb(12.156863%,46.666667%,70.588235%);fill-opacity:1;stroke-width:1;stroke-linecap:butt;stroke-linejoin:miter;stroke:rgb(0%,0%,0%);stroke-opacity:1;stroke-miterlimit:10;\" d=\"M 423.65625 479.542969 C 423.65625 485.429688 418.886719 490.199219 413 490.199219 C 407.117188 490.199219 402.347656 485.429688 402.347656 479.542969 C 402.347656 473.660156 407.117188 468.890625 413 468.890625 C 418.886719 468.890625 423.65625 473.660156 423.65625 479.542969 \"/>\n",
       "<path style=\"fill-rule:nonzero;fill:rgb(58.039216%,40.392157%,74.117647%);fill-opacity:1;stroke-width:1;stroke-linecap:butt;stroke-linejoin:miter;stroke:rgb(0%,0%,0%);stroke-opacity:1;stroke-miterlimit:10;\" d=\"M 187.960938 499.898438 C 187.960938 504.734375 184.039062 508.65625 179.203125 508.65625 C 174.363281 508.65625 170.441406 504.734375 170.441406 499.898438 C 170.441406 495.058594 174.363281 491.136719 179.203125 491.136719 C 184.039062 491.136719 187.960938 495.058594 187.960938 499.898438 \"/>\n",
       "<path style=\"fill-rule:nonzero;fill:rgb(58.039216%,40.392157%,74.117647%);fill-opacity:1;stroke-width:1;stroke-linecap:butt;stroke-linejoin:miter;stroke:rgb(0%,0%,0%);stroke-opacity:1;stroke-miterlimit:10;\" d=\"M 242.695312 502.636719 C 242.695312 508.097656 238.269531 512.523438 232.808594 512.523438 C 227.347656 512.523438 222.921875 508.097656 222.921875 502.636719 C 222.921875 497.175781 227.347656 492.75 232.808594 492.75 C 238.269531 492.75 242.695312 497.175781 242.695312 502.636719 \"/>\n",
       "<path style=\"fill-rule:nonzero;fill:rgb(58.039216%,40.392157%,74.117647%);fill-opacity:1;stroke-width:1;stroke-linecap:butt;stroke-linejoin:miter;stroke:rgb(0%,0%,0%);stroke-opacity:1;stroke-miterlimit:10;\" d=\"M 158.941406 549.542969 C 158.941406 553.679688 155.589844 557.03125 151.453125 557.03125 C 147.320312 557.03125 143.964844 553.679688 143.964844 549.542969 C 143.964844 545.40625 147.320312 542.054688 151.453125 542.054688 C 155.589844 542.054688 158.941406 545.40625 158.941406 549.542969 \"/>\n",
       "<path style=\"fill-rule:nonzero;fill:rgb(58.039216%,40.392157%,74.117647%);fill-opacity:1;stroke-width:1;stroke-linecap:butt;stroke-linejoin:miter;stroke:rgb(0%,0%,0%);stroke-opacity:1;stroke-miterlimit:10;\" d=\"M 219.941406 560.558594 C 219.941406 563.785156 217.328125 566.394531 214.105469 566.394531 C 210.882812 566.394531 208.269531 563.785156 208.269531 560.558594 C 208.269531 557.335938 210.882812 554.726562 214.105469 554.726562 C 217.328125 554.726562 219.941406 557.335938 219.941406 560.558594 \"/>\n",
       "<path style=\"fill:none;stroke-width:1;stroke-linecap:butt;stroke-linejoin:miter;stroke:rgb(0%,0%,0%);stroke-opacity:1;stroke-miterlimit:10;\" d=\"M 184.261719 552.203125 L 184.261719 552.203125 \"/>\n",
       "<path style=\"fill-rule:nonzero;fill:rgb(58.039216%,40.392157%,74.117647%);fill-opacity:1;stroke-width:1;stroke-linecap:butt;stroke-linejoin:miter;stroke:rgb(0%,0%,0%);stroke-opacity:1;stroke-miterlimit:10;\" d=\"M 227.796875 532.769531 C 227.796875 536.835938 221.695312 536.835938 221.695312 532.769531 C 221.695312 528.703125 227.796875 528.703125 227.796875 532.769531 \"/>\n",
       "<path style=\"fill-rule:nonzero;fill:rgb(58.039216%,40.392157%,74.117647%);fill-opacity:1;stroke-width:1;stroke-linecap:butt;stroke-linejoin:miter;stroke:rgb(0%,0%,0%);stroke-opacity:1;stroke-miterlimit:10;\" d=\"M 243.710938 472.675781 C 243.710938 477.613281 239.710938 481.609375 234.777344 481.609375 C 229.84375 481.609375 225.84375 477.613281 225.84375 472.675781 C 225.84375 467.742188 229.84375 463.746094 234.777344 463.746094 C 239.710938 463.746094 243.710938 467.742188 243.710938 472.675781 \"/>\n",
       "<path style=\"fill-rule:nonzero;fill:rgb(49.803922%,49.803922%,49.803922%);fill-opacity:1;stroke-width:1;stroke-linecap:butt;stroke-linejoin:miter;stroke:rgb(0%,0%,0%);stroke-opacity:1;stroke-miterlimit:10;\" d=\"M 402.152344 48.492188 C 402.152344 52.214844 399.132812 55.234375 395.40625 55.234375 C 391.683594 55.234375 388.664062 52.214844 388.664062 48.492188 C 388.664062 44.765625 391.683594 41.746094 395.40625 41.746094 C 399.132812 41.746094 402.152344 44.765625 402.152344 48.492188 \"/>\n",
       "<g style=\"fill:rgb(0%,0%,0%);fill-opacity:1;\">\n",
       "  <use xlink:href=\"#glyph0-1\" x=\"498.425781\" y=\"275.597656\"/>\n",
       "  <use xlink:href=\"#glyph0-2\" x=\"507.763672\" y=\"275.597656\"/>\n",
       "  <use xlink:href=\"#glyph0-3\" x=\"516.31543\" y=\"275.597656\"/>\n",
       "</g>\n",
       "<g style=\"fill:rgb(0%,0%,0%);fill-opacity:1;\">\n",
       "  <use xlink:href=\"#glyph0-1\" x=\"517.613281\" y=\"327.21875\"/>\n",
       "  <use xlink:href=\"#glyph0-4\" x=\"526.951172\" y=\"327.21875\"/>\n",
       "  <use xlink:href=\"#glyph0-5\" x=\"537.061523\" y=\"327.21875\"/>\n",
       "</g>\n",
       "<g style=\"fill:rgb(0%,0%,0%);fill-opacity:1;\">\n",
       "  <use xlink:href=\"#glyph0-6\" x=\"441.15625\" y=\"312.269531\"/>\n",
       "  <use xlink:href=\"#glyph0-7\" x=\"451.266602\" y=\"312.269531\"/>\n",
       "  <use xlink:href=\"#glyph0-4\" x=\"460.604492\" y=\"312.269531\"/>\n",
       "</g>\n",
       "<g style=\"fill:rgb(0%,0%,0%);fill-opacity:1;\">\n",
       "  <use xlink:href=\"#glyph0-2\" x=\"564.933594\" y=\"255.050781\"/>\n",
       "  <use xlink:href=\"#glyph0-8\" x=\"573.485352\" y=\"255.050781\"/>\n",
       "  <use xlink:href=\"#glyph0-1\" x=\"583.595703\" y=\"255.050781\"/>\n",
       "</g>\n",
       "<g style=\"fill:rgb(0%,0%,0%);fill-opacity:1;\">\n",
       "  <use xlink:href=\"#glyph0-3\" x=\"517.636719\" y=\"347.003906\"/>\n",
       "  <use xlink:href=\"#glyph0-8\" x=\"528.526367\" y=\"347.003906\"/>\n",
       "  <use xlink:href=\"#glyph0-9\" x=\"538.636719\" y=\"347.003906\"/>\n",
       "</g>\n",
       "<g style=\"fill:rgb(0%,0%,0%);fill-opacity:1;\">\n",
       "  <use xlink:href=\"#glyph0-10\" x=\"461.242188\" y=\"272.03125\"/>\n",
       "  <use xlink:href=\"#glyph0-4\" x=\"471.352539\" y=\"272.03125\"/>\n",
       "  <use xlink:href=\"#glyph0-11\" x=\"481.462891\" y=\"272.03125\"/>\n",
       "</g>\n",
       "<g style=\"fill:rgb(0%,0%,0%);fill-opacity:1;\">\n",
       "  <use xlink:href=\"#glyph0-12\" x=\"529.484375\" y=\"305.003906\"/>\n",
       "  <use xlink:href=\"#glyph0-8\" x=\"533.374023\" y=\"305.003906\"/>\n",
       "  <use xlink:href=\"#glyph0-11\" x=\"543.484375\" y=\"305.003906\"/>\n",
       "</g>\n",
       "<g style=\"fill:rgb(0%,0%,0%);fill-opacity:1;\">\n",
       "  <use xlink:href=\"#glyph0-13\" x=\"418.070312\" y=\"274.699219\"/>\n",
       "  <use xlink:href=\"#glyph0-1\" x=\"427.408203\" y=\"274.699219\"/>\n",
       "  <use xlink:href=\"#glyph0-14\" x=\"436.746094\" y=\"274.699219\"/>\n",
       "</g>\n",
       "<g style=\"fill:rgb(0%,0%,0%);fill-opacity:1;\">\n",
       "  <use xlink:href=\"#glyph0-15\" x=\"457.390625\" y=\"293.910156\"/>\n",
       "  <use xlink:href=\"#glyph0-16\" x=\"466.728516\" y=\"293.910156\"/>\n",
       "  <use xlink:href=\"#glyph0-7\" x=\"479.942383\" y=\"293.910156\"/>\n",
       "</g>\n",
       "<g style=\"fill:rgb(0%,0%,0%);fill-opacity:1;\">\n",
       "  <use xlink:href=\"#glyph0-5\" x=\"560.410156\" y=\"222.550781\"/>\n",
       "  <use xlink:href=\"#glyph0-17\" x=\"568.961914\" y=\"222.550781\"/>\n",
       "  <use xlink:href=\"#glyph0-14\" x=\"575.961914\" y=\"222.550781\"/>\n",
       "</g>\n",
       "<g style=\"fill:rgb(0%,0%,0%);fill-opacity:1;\">\n",
       "  <use xlink:href=\"#glyph0-5\" x=\"488.746094\" y=\"318.03125\"/>\n",
       "  <use xlink:href=\"#glyph0-4\" x=\"497.297852\" y=\"318.03125\"/>\n",
       "  <use xlink:href=\"#glyph0-8\" x=\"507.408203\" y=\"318.03125\"/>\n",
       "</g>\n",
       "<g style=\"fill:rgb(0%,0%,0%);fill-opacity:1;\">\n",
       "  <use xlink:href=\"#glyph0-4\" x=\"529.414062\" y=\"206.578125\"/>\n",
       "  <use xlink:href=\"#glyph0-18\" x=\"539.524414\" y=\"206.578125\"/>\n",
       "  <use xlink:href=\"#glyph0-19\" x=\"548.076172\" y=\"206.578125\"/>\n",
       "</g>\n",
       "<g style=\"fill:rgb(0%,0%,0%);fill-opacity:1;\">\n",
       "  <use xlink:href=\"#glyph0-1\" x=\"314.316406\" y=\"86.679688\"/>\n",
       "  <use xlink:href=\"#glyph0-3\" x=\"323.654297\" y=\"86.679688\"/>\n",
       "  <use xlink:href=\"#glyph0-20\" x=\"334.543945\" y=\"86.679688\"/>\n",
       "</g>\n",
       "<g style=\"fill:rgb(0%,0%,0%);fill-opacity:1;\">\n",
       "  <use xlink:href=\"#glyph0-9\" x=\"303.578125\" y=\"135.394531\"/>\n",
       "  <use xlink:href=\"#glyph0-20\" x=\"313.688477\" y=\"135.394531\"/>\n",
       "  <use xlink:href=\"#glyph0-6\" x=\"324.578125\" y=\"135.394531\"/>\n",
       "</g>\n",
       "<g style=\"fill:rgb(0%,0%,0%);fill-opacity:1;\">\n",
       "  <use xlink:href=\"#glyph0-18\" x=\"297.902344\" y=\"63.433594\"/>\n",
       "  <use xlink:href=\"#glyph0-21\" x=\"306.454102\" y=\"63.433594\"/>\n",
       "  <use xlink:href=\"#glyph0-19\" x=\"318.116211\" y=\"63.433594\"/>\n",
       "</g>\n",
       "<g style=\"fill:rgb(0%,0%,0%);fill-opacity:1;\">\n",
       "  <use xlink:href=\"#glyph0-1\" x=\"524.796875\" y=\"264.867188\"/>\n",
       "  <use xlink:href=\"#glyph0-22\" x=\"534.134766\" y=\"264.867188\"/>\n",
       "  <use xlink:href=\"#glyph0-19\" x=\"541.920898\" y=\"264.867188\"/>\n",
       "</g>\n",
       "<g style=\"fill:rgb(0%,0%,0%);fill-opacity:1;\">\n",
       "  <use xlink:href=\"#glyph0-1\" x=\"409.816406\" y=\"579.796875\"/>\n",
       "  <use xlink:href=\"#glyph0-18\" x=\"419.154297\" y=\"579.796875\"/>\n",
       "  <use xlink:href=\"#glyph0-7\" x=\"427.706055\" y=\"579.796875\"/>\n",
       "</g>\n",
       "<g style=\"fill:rgb(0%,0%,0%);fill-opacity:1;\">\n",
       "  <use xlink:href=\"#glyph0-1\" x=\"374.878906\" y=\"586.632812\"/>\n",
       "  <use xlink:href=\"#glyph0-8\" x=\"384.216797\" y=\"586.632812\"/>\n",
       "  <use xlink:href=\"#glyph0-21\" x=\"394.327148\" y=\"586.632812\"/>\n",
       "</g>\n",
       "<g style=\"fill:rgb(0%,0%,0%);fill-opacity:1;\">\n",
       "  <use xlink:href=\"#glyph0-19\" x=\"269.230469\" y=\"124.816406\"/>\n",
       "  <use xlink:href=\"#glyph0-6\" x=\"278.568359\" y=\"124.816406\"/>\n",
       "  <use xlink:href=\"#glyph0-12\" x=\"288.678711\" y=\"124.816406\"/>\n",
       "</g>\n",
       "<g style=\"fill:rgb(0%,0%,0%);fill-opacity:1;\">\n",
       "  <use xlink:href=\"#glyph0-8\" x=\"275.8125\" y=\"107.019531\"/>\n",
       "  <use xlink:href=\"#glyph0-16\" x=\"285.922852\" y=\"107.019531\"/>\n",
       "  <use xlink:href=\"#glyph0-1\" x=\"299.136719\" y=\"107.019531\"/>\n",
       "</g>\n",
       "<g style=\"fill:rgb(0%,0%,0%);fill-opacity:1;\">\n",
       "  <use xlink:href=\"#glyph0-5\" x=\"249.882812\" y=\"94.859375\"/>\n",
       "  <use xlink:href=\"#glyph0-18\" x=\"258.43457\" y=\"94.859375\"/>\n",
       "  <use xlink:href=\"#glyph0-1\" x=\"266.986328\" y=\"94.859375\"/>\n",
       "</g>\n",
       "<g style=\"fill:rgb(0%,0%,0%);fill-opacity:1;\">\n",
       "  <use xlink:href=\"#glyph0-4\" x=\"308.136719\" y=\"161.144531\"/>\n",
       "  <use xlink:href=\"#glyph0-3\" x=\"318.24707\" y=\"161.144531\"/>\n",
       "  <use xlink:href=\"#glyph0-1\" x=\"329.136719\" y=\"161.144531\"/>\n",
       "</g>\n",
       "<g style=\"fill:rgb(0%,0%,0%);fill-opacity:1;\">\n",
       "  <use xlink:href=\"#glyph0-19\" x=\"181.722656\" y=\"272.921875\"/>\n",
       "  <use xlink:href=\"#glyph0-3\" x=\"191.060547\" y=\"272.921875\"/>\n",
       "  <use xlink:href=\"#glyph0-6\" x=\"201.950195\" y=\"272.921875\"/>\n",
       "</g>\n",
       "<g style=\"fill:rgb(0%,0%,0%);fill-opacity:1;\">\n",
       "  <use xlink:href=\"#glyph0-12\" x=\"298.761719\" y=\"286.507812\"/>\n",
       "  <use xlink:href=\"#glyph0-5\" x=\"302.651367\" y=\"286.507812\"/>\n",
       "  <use xlink:href=\"#glyph0-1\" x=\"311.203125\" y=\"286.507812\"/>\n",
       "</g>\n",
       "<g style=\"fill:rgb(0%,0%,0%);fill-opacity:1;\">\n",
       "  <use xlink:href=\"#glyph0-9\" x=\"287.015625\" y=\"190.117188\"/>\n",
       "  <use xlink:href=\"#glyph0-1\" x=\"297.125977\" y=\"190.117188\"/>\n",
       "  <use xlink:href=\"#glyph0-2\" x=\"306.463867\" y=\"190.117188\"/>\n",
       "</g>\n",
       "<g style=\"fill:rgb(0%,0%,0%);fill-opacity:1;\">\n",
       "  <use xlink:href=\"#glyph0-9\" x=\"282.035156\" y=\"256.582031\"/>\n",
       "  <use xlink:href=\"#glyph0-21\" x=\"292.145508\" y=\"256.582031\"/>\n",
       "  <use xlink:href=\"#glyph0-8\" x=\"303.807617\" y=\"256.582031\"/>\n",
       "</g>\n",
       "<g style=\"fill:rgb(0%,0%,0%);fill-opacity:1;\">\n",
       "  <use xlink:href=\"#glyph0-9\" x=\"240.128906\" y=\"156.425781\"/>\n",
       "  <use xlink:href=\"#glyph0-20\" x=\"250.239258\" y=\"156.425781\"/>\n",
       "  <use xlink:href=\"#glyph0-3\" x=\"261.128906\" y=\"156.425781\"/>\n",
       "</g>\n",
       "<g style=\"fill:rgb(0%,0%,0%);fill-opacity:1;\">\n",
       "  <use xlink:href=\"#glyph0-15\" x=\"358.722656\" y=\"227.960938\"/>\n",
       "  <use xlink:href=\"#glyph0-6\" x=\"368.060547\" y=\"227.960938\"/>\n",
       "  <use xlink:href=\"#glyph0-11\" x=\"378.170898\" y=\"227.960938\"/>\n",
       "</g>\n",
       "<g style=\"fill:rgb(0%,0%,0%);fill-opacity:1;\">\n",
       "  <use xlink:href=\"#glyph0-5\" x=\"304.921875\" y=\"232.964844\"/>\n",
       "  <use xlink:href=\"#glyph0-9\" x=\"313.473633\" y=\"232.964844\"/>\n",
       "  <use xlink:href=\"#glyph0-6\" x=\"323.583984\" y=\"232.964844\"/>\n",
       "</g>\n",
       "<g style=\"fill:rgb(0%,0%,0%);fill-opacity:1;\">\n",
       "  <use xlink:href=\"#glyph0-9\" x=\"41.554688\" y=\"391.804688\"/>\n",
       "  <use xlink:href=\"#glyph0-10\" x=\"51.665039\" y=\"391.804688\"/>\n",
       "  <use xlink:href=\"#glyph0-11\" x=\"61.775391\" y=\"391.804688\"/>\n",
       "</g>\n",
       "<g style=\"fill:rgb(0%,0%,0%);fill-opacity:1;\">\n",
       "  <use xlink:href=\"#glyph0-12\" x=\"57.613281\" y=\"352.464844\"/>\n",
       "  <use xlink:href=\"#glyph0-11\" x=\"61.50293\" y=\"352.464844\"/>\n",
       "  <use xlink:href=\"#glyph0-6\" x=\"71.613281\" y=\"352.464844\"/>\n",
       "</g>\n",
       "<g style=\"fill:rgb(0%,0%,0%);fill-opacity:1;\">\n",
       "  <use xlink:href=\"#glyph0-4\" x=\"92.988281\" y=\"432.578125\"/>\n",
       "  <use xlink:href=\"#glyph0-15\" x=\"103.098633\" y=\"432.578125\"/>\n",
       "  <use xlink:href=\"#glyph0-1\" x=\"112.436523\" y=\"432.578125\"/>\n",
       "</g>\n",
       "<g style=\"fill:rgb(0%,0%,0%);fill-opacity:1;\">\n",
       "  <use xlink:href=\"#glyph0-9\" x=\"120.300781\" y=\"88.402344\"/>\n",
       "  <use xlink:href=\"#glyph0-12\" x=\"130.411133\" y=\"88.402344\"/>\n",
       "  <use xlink:href=\"#glyph0-23\" x=\"134.300781\" y=\"88.402344\"/>\n",
       "</g>\n",
       "<g style=\"fill:rgb(0%,0%,0%);fill-opacity:1;\">\n",
       "  <use xlink:href=\"#glyph0-3\" x=\"127.078125\" y=\"55.550781\"/>\n",
       "  <use xlink:href=\"#glyph0-10\" x=\"137.967773\" y=\"55.550781\"/>\n",
       "  <use xlink:href=\"#glyph0-1\" x=\"148.078125\" y=\"55.550781\"/>\n",
       "</g>\n",
       "<g style=\"fill:rgb(0%,0%,0%);fill-opacity:1;\">\n",
       "  <use xlink:href=\"#glyph0-22\" x=\"90.222656\" y=\"114.855469\"/>\n",
       "  <use xlink:href=\"#glyph0-19\" x=\"98.008789\" y=\"114.855469\"/>\n",
       "  <use xlink:href=\"#glyph0-8\" x=\"107.34668\" y=\"114.855469\"/>\n",
       "</g>\n",
       "<g style=\"fill:rgb(0%,0%,0%);fill-opacity:1;\">\n",
       "  <use xlink:href=\"#glyph0-5\" x=\"158.199219\" y=\"55.824219\"/>\n",
       "  <use xlink:href=\"#glyph0-3\" x=\"166.750977\" y=\"55.824219\"/>\n",
       "  <use xlink:href=\"#glyph0-20\" x=\"177.640625\" y=\"55.824219\"/>\n",
       "</g>\n",
       "<g style=\"fill:rgb(0%,0%,0%);fill-opacity:1;\">\n",
       "  <use xlink:href=\"#glyph0-11\" x=\"315.171875\" y=\"305.582031\"/>\n",
       "  <use xlink:href=\"#glyph0-3\" x=\"325.282227\" y=\"305.582031\"/>\n",
       "  <use xlink:href=\"#glyph0-1\" x=\"336.171875\" y=\"305.582031\"/>\n",
       "</g>\n",
       "<g style=\"fill:rgb(0%,0%,0%);fill-opacity:1;\">\n",
       "  <use xlink:href=\"#glyph0-18\" x=\"377.320312\" y=\"111.382812\"/>\n",
       "  <use xlink:href=\"#glyph0-1\" x=\"385.87207\" y=\"111.382812\"/>\n",
       "  <use xlink:href=\"#glyph0-2\" x=\"395.209961\" y=\"111.382812\"/>\n",
       "</g>\n",
       "<g style=\"fill:rgb(0%,0%,0%);fill-opacity:1;\">\n",
       "  <use xlink:href=\"#glyph0-9\" x=\"108.296875\" y=\"487.933594\"/>\n",
       "  <use xlink:href=\"#glyph0-20\" x=\"118.407227\" y=\"487.933594\"/>\n",
       "  <use xlink:href=\"#glyph0-22\" x=\"129.296875\" y=\"487.933594\"/>\n",
       "</g>\n",
       "<g style=\"fill:rgb(0%,0%,0%);fill-opacity:1;\">\n",
       "  <use xlink:href=\"#glyph0-7\" x=\"101.378906\" y=\"521.15625\"/>\n",
       "  <use xlink:href=\"#glyph0-9\" x=\"110.716797\" y=\"521.15625\"/>\n",
       "  <use xlink:href=\"#glyph0-4\" x=\"120.827148\" y=\"521.15625\"/>\n",
       "</g>\n",
       "<g style=\"fill:rgb(0%,0%,0%);fill-opacity:1;\">\n",
       "  <use xlink:href=\"#glyph0-7\" x=\"130.234375\" y=\"515.414062\"/>\n",
       "  <use xlink:href=\"#glyph0-15\" x=\"139.572266\" y=\"515.414062\"/>\n",
       "  <use xlink:href=\"#glyph0-13\" x=\"148.910156\" y=\"515.414062\"/>\n",
       "</g>\n",
       "<g style=\"fill:rgb(0%,0%,0%);fill-opacity:1;\">\n",
       "  <use xlink:href=\"#glyph0-7\" x=\"392.222656\" y=\"271.386719\"/>\n",
       "  <use xlink:href=\"#glyph0-8\" x=\"401.560547\" y=\"271.386719\"/>\n",
       "  <use xlink:href=\"#glyph0-12\" x=\"411.670898\" y=\"271.386719\"/>\n",
       "</g>\n",
       "<g style=\"fill:rgb(0%,0%,0%);fill-opacity:1;\">\n",
       "  <use xlink:href=\"#glyph0-7\" x=\"369.558594\" y=\"194.554688\"/>\n",
       "  <use xlink:href=\"#glyph0-5\" x=\"378.896484\" y=\"194.554688\"/>\n",
       "  <use xlink:href=\"#glyph0-10\" x=\"387.448242\" y=\"194.554688\"/>\n",
       "</g>\n",
       "<g style=\"fill:rgb(0%,0%,0%);fill-opacity:1;\">\n",
       "  <use xlink:href=\"#glyph0-12\" x=\"362.988281\" y=\"340.882812\"/>\n",
       "  <use xlink:href=\"#glyph0-15\" x=\"366.87793\" y=\"340.882812\"/>\n",
       "  <use xlink:href=\"#glyph0-8\" x=\"376.21582\" y=\"340.882812\"/>\n",
       "</g>\n",
       "<g style=\"fill:rgb(0%,0%,0%);fill-opacity:1;\">\n",
       "  <use xlink:href=\"#glyph0-15\" x=\"313.246094\" y=\"212.535156\"/>\n",
       "  <use xlink:href=\"#glyph0-20\" x=\"322.583984\" y=\"212.535156\"/>\n",
       "  <use xlink:href=\"#glyph0-21\" x=\"333.473633\" y=\"212.535156\"/>\n",
       "</g>\n",
       "<g style=\"fill:rgb(0%,0%,0%);fill-opacity:1;\">\n",
       "  <use xlink:href=\"#glyph0-3\" x=\"32.074219\" y=\"442.761719\"/>\n",
       "  <use xlink:href=\"#glyph0-5\" x=\"42.963867\" y=\"442.761719\"/>\n",
       "  <use xlink:href=\"#glyph0-21\" x=\"51.515625\" y=\"442.761719\"/>\n",
       "</g>\n",
       "<g style=\"fill:rgb(0%,0%,0%);fill-opacity:1;\">\n",
       "  <use xlink:href=\"#glyph0-10\" x=\"72.527344\" y=\"423.136719\"/>\n",
       "  <use xlink:href=\"#glyph0-11\" x=\"82.637695\" y=\"423.136719\"/>\n",
       "  <use xlink:href=\"#glyph0-6\" x=\"92.748047\" y=\"423.136719\"/>\n",
       "</g>\n",
       "<g style=\"fill:rgb(0%,0%,0%);fill-opacity:1;\">\n",
       "  <use xlink:href=\"#glyph0-21\" x=\"118.449219\" y=\"455.351562\"/>\n",
       "  <use xlink:href=\"#glyph0-7\" x=\"130.111328\" y=\"455.351562\"/>\n",
       "  <use xlink:href=\"#glyph0-24\" x=\"139.449219\" y=\"455.351562\"/>\n",
       "</g>\n",
       "<g style=\"fill:rgb(0%,0%,0%);fill-opacity:1;\">\n",
       "  <use xlink:href=\"#glyph0-10\" x=\"145.84375\" y=\"429.363281\"/>\n",
       "  <use xlink:href=\"#glyph0-5\" x=\"155.954102\" y=\"429.363281\"/>\n",
       "  <use xlink:href=\"#glyph0-12\" x=\"164.505859\" y=\"429.363281\"/>\n",
       "</g>\n",
       "<g style=\"fill:rgb(0%,0%,0%);fill-opacity:1;\">\n",
       "  <use xlink:href=\"#glyph0-19\" x=\"176.433594\" y=\"457.421875\"/>\n",
       "  <use xlink:href=\"#glyph0-8\" x=\"185.771484\" y=\"457.421875\"/>\n",
       "  <use xlink:href=\"#glyph0-1\" x=\"195.881836\" y=\"457.421875\"/>\n",
       "</g>\n",
       "<g style=\"fill:rgb(0%,0%,0%);fill-opacity:1;\">\n",
       "  <use xlink:href=\"#glyph0-12\" x=\"15.121094\" y=\"209.550781\"/>\n",
       "  <use xlink:href=\"#glyph0-6\" x=\"19.010742\" y=\"209.550781\"/>\n",
       "  <use xlink:href=\"#glyph0-11\" x=\"29.121094\" y=\"209.550781\"/>\n",
       "</g>\n",
       "<g style=\"fill:rgb(0%,0%,0%);fill-opacity:1;\">\n",
       "  <use xlink:href=\"#glyph0-21\" x=\"46.105469\" y=\"232.769531\"/>\n",
       "  <use xlink:href=\"#glyph0-25\" x=\"57.767578\" y=\"232.769531\"/>\n",
       "  <use xlink:href=\"#glyph0-15\" x=\"67.105469\" y=\"232.769531\"/>\n",
       "</g>\n",
       "<g style=\"fill:rgb(0%,0%,0%);fill-opacity:1;\">\n",
       "  <use xlink:href=\"#glyph0-3\" x=\"564.761719\" y=\"341.703125\"/>\n",
       "  <use xlink:href=\"#glyph0-19\" x=\"575.651367\" y=\"341.703125\"/>\n",
       "  <use xlink:href=\"#glyph0-8\" x=\"584.989258\" y=\"341.703125\"/>\n",
       "</g>\n",
       "<g style=\"fill:rgb(0%,0%,0%);fill-opacity:1;\">\n",
       "  <use xlink:href=\"#glyph0-12\" x=\"491.507812\" y=\"347.476562\"/>\n",
       "  <use xlink:href=\"#glyph0-8\" x=\"495.397461\" y=\"347.476562\"/>\n",
       "  <use xlink:href=\"#glyph0-26\" x=\"505.507812\" y=\"347.476562\"/>\n",
       "</g>\n",
       "<g style=\"fill:rgb(0%,0%,0%);fill-opacity:1;\">\n",
       "  <use xlink:href=\"#glyph0-7\" x=\"410.828125\" y=\"309.042969\"/>\n",
       "  <use xlink:href=\"#glyph0-3\" x=\"420.166016\" y=\"309.042969\"/>\n",
       "  <use xlink:href=\"#glyph0-25\" x=\"431.055664\" y=\"309.042969\"/>\n",
       "</g>\n",
       "<g style=\"fill:rgb(0%,0%,0%);fill-opacity:1;\">\n",
       "  <use xlink:href=\"#glyph0-2\" x=\"558.273438\" y=\"396.566406\"/>\n",
       "  <use xlink:href=\"#glyph0-12\" x=\"566.825195\" y=\"396.566406\"/>\n",
       "  <use xlink:href=\"#glyph0-11\" x=\"570.714844\" y=\"396.566406\"/>\n",
       "</g>\n",
       "<g style=\"fill:rgb(0%,0%,0%);fill-opacity:1;\">\n",
       "  <use xlink:href=\"#glyph0-17\" x=\"499.964844\" y=\"389.589844\"/>\n",
       "  <use xlink:href=\"#glyph0-20\" x=\"506.964844\" y=\"389.589844\"/>\n",
       "  <use xlink:href=\"#glyph0-8\" x=\"517.854492\" y=\"389.589844\"/>\n",
       "</g>\n",
       "<g style=\"fill:rgb(0%,0%,0%);fill-opacity:1;\">\n",
       "  <use xlink:href=\"#glyph0-15\" x=\"452.136719\" y=\"349.40625\"/>\n",
       "  <use xlink:href=\"#glyph0-25\" x=\"461.474609\" y=\"349.40625\"/>\n",
       "  <use xlink:href=\"#glyph0-8\" x=\"470.8125\" y=\"349.40625\"/>\n",
       "</g>\n",
       "<g style=\"fill:rgb(0%,0%,0%);fill-opacity:1;\">\n",
       "  <use xlink:href=\"#glyph0-22\" x=\"388.746094\" y=\"378.488281\"/>\n",
       "  <use xlink:href=\"#glyph0-19\" x=\"396.532227\" y=\"378.488281\"/>\n",
       "  <use xlink:href=\"#glyph0-11\" x=\"405.870117\" y=\"378.488281\"/>\n",
       "</g>\n",
       "<g style=\"fill:rgb(0%,0%,0%);fill-opacity:1;\">\n",
       "  <use xlink:href=\"#glyph0-3\" x=\"54.335938\" y=\"129.652344\"/>\n",
       "  <use xlink:href=\"#glyph0-12\" x=\"65.225586\" y=\"129.652344\"/>\n",
       "  <use xlink:href=\"#glyph0-11\" x=\"69.115234\" y=\"129.652344\"/>\n",
       "</g>\n",
       "<g style=\"fill:rgb(0%,0%,0%);fill-opacity:1;\">\n",
       "  <use xlink:href=\"#glyph0-15\" x=\"74.628906\" y=\"150.523438\"/>\n",
       "  <use xlink:href=\"#glyph0-22\" x=\"83.966797\" y=\"150.523438\"/>\n",
       "  <use xlink:href=\"#glyph0-7\" x=\"91.75293\" y=\"150.523438\"/>\n",
       "</g>\n",
       "<g style=\"fill:rgb(0%,0%,0%);fill-opacity:1;\">\n",
       "  <use xlink:href=\"#glyph0-22\" x=\"473.628906\" y=\"448.765625\"/>\n",
       "  <use xlink:href=\"#glyph0-19\" x=\"481.415039\" y=\"448.765625\"/>\n",
       "  <use xlink:href=\"#glyph0-25\" x=\"490.75293\" y=\"448.765625\"/>\n",
       "</g>\n",
       "<g style=\"fill:rgb(0%,0%,0%);fill-opacity:1;\">\n",
       "  <use xlink:href=\"#glyph0-5\" x=\"485.589844\" y=\"506.390625\"/>\n",
       "  <use xlink:href=\"#glyph0-4\" x=\"494.141602\" y=\"506.390625\"/>\n",
       "  <use xlink:href=\"#glyph0-11\" x=\"504.251953\" y=\"506.390625\"/>\n",
       "</g>\n",
       "<g style=\"fill:rgb(0%,0%,0%);fill-opacity:1;\">\n",
       "  <use xlink:href=\"#glyph0-22\" x=\"6.320312\" y=\"333.058594\"/>\n",
       "  <use xlink:href=\"#glyph0-14\" x=\"14.106445\" y=\"333.058594\"/>\n",
       "  <use xlink:href=\"#glyph0-1\" x=\"23.444336\" y=\"333.058594\"/>\n",
       "</g>\n",
       "<g style=\"fill:rgb(0%,0%,0%);fill-opacity:1;\">\n",
       "  <use xlink:href=\"#glyph0-21\" x=\"492.707031\" y=\"169.09375\"/>\n",
       "  <use xlink:href=\"#glyph0-14\" x=\"504.369141\" y=\"169.09375\"/>\n",
       "  <use xlink:href=\"#glyph0-6\" x=\"513.707031\" y=\"169.09375\"/>\n",
       "</g>\n",
       "<g style=\"fill:rgb(0%,0%,0%);fill-opacity:1;\">\n",
       "  <use xlink:href=\"#glyph0-15\" x=\"470.269531\" y=\"236.070312\"/>\n",
       "  <use xlink:href=\"#glyph0-8\" x=\"479.607422\" y=\"236.070312\"/>\n",
       "  <use xlink:href=\"#glyph0-19\" x=\"489.717773\" y=\"236.070312\"/>\n",
       "</g>\n",
       "<g style=\"fill:rgb(0%,0%,0%);fill-opacity:1;\">\n",
       "  <use xlink:href=\"#glyph0-21\" x=\"164.398438\" y=\"313.519531\"/>\n",
       "  <use xlink:href=\"#glyph0-22\" x=\"176.060547\" y=\"313.519531\"/>\n",
       "  <use xlink:href=\"#glyph0-12\" x=\"183.84668\" y=\"313.519531\"/>\n",
       "</g>\n",
       "<g style=\"fill:rgb(0%,0%,0%);fill-opacity:1;\">\n",
       "  <use xlink:href=\"#glyph0-19\" x=\"104.714844\" y=\"290.917969\"/>\n",
       "  <use xlink:href=\"#glyph0-2\" x=\"114.052734\" y=\"290.917969\"/>\n",
       "  <use xlink:href=\"#glyph0-1\" x=\"122.604492\" y=\"290.917969\"/>\n",
       "</g>\n",
       "<g style=\"fill:rgb(0%,0%,0%);fill-opacity:1;\">\n",
       "  <use xlink:href=\"#glyph0-21\" x=\"114.988281\" y=\"320.003906\"/>\n",
       "  <use xlink:href=\"#glyph0-8\" x=\"126.650391\" y=\"320.003906\"/>\n",
       "  <use xlink:href=\"#glyph0-5\" x=\"136.760742\" y=\"320.003906\"/>\n",
       "</g>\n",
       "<g style=\"fill:rgb(0%,0%,0%);fill-opacity:1;\">\n",
       "  <use xlink:href=\"#glyph0-11\" x=\"219.800781\" y=\"320.246094\"/>\n",
       "  <use xlink:href=\"#glyph0-7\" x=\"229.911133\" y=\"320.246094\"/>\n",
       "  <use xlink:href=\"#glyph0-8\" x=\"239.249023\" y=\"320.246094\"/>\n",
       "</g>\n",
       "<g style=\"fill:rgb(0%,0%,0%);fill-opacity:1;\">\n",
       "  <use xlink:href=\"#glyph0-21\" x=\"79.625\" y=\"277.453125\"/>\n",
       "  <use xlink:href=\"#glyph0-21\" x=\"91.287109\" y=\"277.453125\"/>\n",
       "  <use xlink:href=\"#glyph0-8\" x=\"102.949219\" y=\"277.453125\"/>\n",
       "</g>\n",
       "<g style=\"fill:rgb(0%,0%,0%);fill-opacity:1;\">\n",
       "  <use xlink:href=\"#glyph0-5\" x=\"29.746094\" y=\"269.621094\"/>\n",
       "  <use xlink:href=\"#glyph0-10\" x=\"38.297852\" y=\"269.621094\"/>\n",
       "  <use xlink:href=\"#glyph0-1\" x=\"48.408203\" y=\"269.621094\"/>\n",
       "</g>\n",
       "<g style=\"fill:rgb(0%,0%,0%);fill-opacity:1;\">\n",
       "  <use xlink:href=\"#glyph0-21\" x=\"451.175781\" y=\"48.34375\"/>\n",
       "  <use xlink:href=\"#glyph0-20\" x=\"462.837891\" y=\"48.34375\"/>\n",
       "  <use xlink:href=\"#glyph0-18\" x=\"473.727539\" y=\"48.34375\"/>\n",
       "</g>\n",
       "<g style=\"fill:rgb(0%,0%,0%);fill-opacity:1;\">\n",
       "  <use xlink:href=\"#glyph0-21\" x=\"424.074219\" y=\"74.160156\"/>\n",
       "  <use xlink:href=\"#glyph0-16\" x=\"435.736328\" y=\"74.160156\"/>\n",
       "  <use xlink:href=\"#glyph0-12\" x=\"448.950195\" y=\"74.160156\"/>\n",
       "</g>\n",
       "<g style=\"fill:rgb(0%,0%,0%);fill-opacity:1;\">\n",
       "  <use xlink:href=\"#glyph0-11\" x=\"294.109375\" y=\"568.824219\"/>\n",
       "  <use xlink:href=\"#glyph0-12\" x=\"304.219727\" y=\"568.824219\"/>\n",
       "  <use xlink:href=\"#glyph0-9\" x=\"308.109375\" y=\"568.824219\"/>\n",
       "</g>\n",
       "<g style=\"fill:rgb(0%,0%,0%);fill-opacity:1;\">\n",
       "  <use xlink:href=\"#glyph0-9\" x=\"248.707031\" y=\"542.480469\"/>\n",
       "  <use xlink:href=\"#glyph0-8\" x=\"258.817383\" y=\"542.480469\"/>\n",
       "  <use xlink:href=\"#glyph0-12\" x=\"268.927734\" y=\"542.480469\"/>\n",
       "</g>\n",
       "<g style=\"fill:rgb(0%,0%,0%);fill-opacity:1;\">\n",
       "  <use xlink:href=\"#glyph0-8\" x=\"396.058594\" y=\"419.808594\"/>\n",
       "  <use xlink:href=\"#glyph0-4\" x=\"406.168945\" y=\"419.808594\"/>\n",
       "  <use xlink:href=\"#glyph0-15\" x=\"416.279297\" y=\"419.808594\"/>\n",
       "</g>\n",
       "<g style=\"fill:rgb(0%,0%,0%);fill-opacity:1;\">\n",
       "  <use xlink:href=\"#glyph0-13\" x=\"362.15625\" y=\"472.484375\"/>\n",
       "  <use xlink:href=\"#glyph0-20\" x=\"371.494141\" y=\"472.484375\"/>\n",
       "  <use xlink:href=\"#glyph0-22\" x=\"382.383789\" y=\"472.484375\"/>\n",
       "</g>\n",
       "<g style=\"fill:rgb(0%,0%,0%);fill-opacity:1;\">\n",
       "  <use xlink:href=\"#glyph0-14\" x=\"341.246094\" y=\"189.652344\"/>\n",
       "  <use xlink:href=\"#glyph0-7\" x=\"350.583984\" y=\"189.652344\"/>\n",
       "  <use xlink:href=\"#glyph0-11\" x=\"359.921875\" y=\"189.652344\"/>\n",
       "</g>\n",
       "<g style=\"fill:rgb(0%,0%,0%);fill-opacity:1;\">\n",
       "  <use xlink:href=\"#glyph0-15\" x=\"351.171875\" y=\"169.636719\"/>\n",
       "  <use xlink:href=\"#glyph0-15\" x=\"360.509766\" y=\"169.636719\"/>\n",
       "  <use xlink:href=\"#glyph0-6\" x=\"369.847656\" y=\"169.636719\"/>\n",
       "</g>\n",
       "<g style=\"fill:rgb(0%,0%,0%);fill-opacity:1;\">\n",
       "  <use xlink:href=\"#glyph0-15\" x=\"94.5\" y=\"387.324219\"/>\n",
       "  <use xlink:href=\"#glyph0-22\" x=\"103.837891\" y=\"387.324219\"/>\n",
       "  <use xlink:href=\"#glyph0-23\" x=\"111.624023\" y=\"387.324219\"/>\n",
       "</g>\n",
       "<g style=\"fill:rgb(0%,0%,0%);fill-opacity:1;\">\n",
       "  <use xlink:href=\"#glyph0-25\" x=\"262.847656\" y=\"284.972656\"/>\n",
       "  <use xlink:href=\"#glyph0-7\" x=\"272.185547\" y=\"284.972656\"/>\n",
       "  <use xlink:href=\"#glyph0-21\" x=\"281.523438\" y=\"284.972656\"/>\n",
       "</g>\n",
       "<g style=\"fill:rgb(0%,0%,0%);fill-opacity:1;\">\n",
       "  <use xlink:href=\"#glyph0-19\" x=\"502.425781\" y=\"419.605469\"/>\n",
       "  <use xlink:href=\"#glyph0-7\" x=\"511.763672\" y=\"419.605469\"/>\n",
       "  <use xlink:href=\"#glyph0-22\" x=\"521.101562\" y=\"419.605469\"/>\n",
       "</g>\n",
       "<g style=\"fill:rgb(0%,0%,0%);fill-opacity:1;\">\n",
       "  <use xlink:href=\"#glyph0-11\" x=\"463.472656\" y=\"416.304688\"/>\n",
       "  <use xlink:href=\"#glyph0-22\" x=\"473.583008\" y=\"416.304688\"/>\n",
       "  <use xlink:href=\"#glyph0-6\" x=\"481.369141\" y=\"416.304688\"/>\n",
       "</g>\n",
       "<g style=\"fill:rgb(0%,0%,0%);fill-opacity:1;\">\n",
       "  <use xlink:href=\"#glyph0-11\" x=\"430.574219\" y=\"416.648438\"/>\n",
       "  <use xlink:href=\"#glyph0-20\" x=\"440.68457\" y=\"416.648438\"/>\n",
       "  <use xlink:href=\"#glyph0-8\" x=\"451.574219\" y=\"416.648438\"/>\n",
       "</g>\n",
       "<g style=\"fill:rgb(0%,0%,0%);fill-opacity:1;\">\n",
       "  <use xlink:href=\"#glyph0-19\" x=\"197.335938\" y=\"26.632812\"/>\n",
       "  <use xlink:href=\"#glyph0-7\" x=\"206.673828\" y=\"26.632812\"/>\n",
       "  <use xlink:href=\"#glyph0-11\" x=\"216.011719\" y=\"26.632812\"/>\n",
       "</g>\n",
       "<g style=\"fill:rgb(0%,0%,0%);fill-opacity:1;\">\n",
       "  <use xlink:href=\"#glyph0-4\" x=\"397.910156\" y=\"486.175781\"/>\n",
       "  <use xlink:href=\"#glyph0-14\" x=\"408.020508\" y=\"486.175781\"/>\n",
       "  <use xlink:href=\"#glyph0-8\" x=\"417.358398\" y=\"486.175781\"/>\n",
       "</g>\n",
       "<g style=\"fill:rgb(0%,0%,0%);fill-opacity:1;\">\n",
       "  <use xlink:href=\"#glyph0-23\" x=\"165.167969\" y=\"506.527344\"/>\n",
       "  <use xlink:href=\"#glyph0-7\" x=\"174.505859\" y=\"506.527344\"/>\n",
       "  <use xlink:href=\"#glyph0-11\" x=\"183.84375\" y=\"506.527344\"/>\n",
       "</g>\n",
       "<g style=\"fill:rgb(0%,0%,0%);fill-opacity:1;\">\n",
       "  <use xlink:href=\"#glyph0-1\" x=\"218.054688\" y=\"509.402344\"/>\n",
       "  <use xlink:href=\"#glyph0-8\" x=\"227.392578\" y=\"509.402344\"/>\n",
       "  <use xlink:href=\"#glyph0-3\" x=\"237.50293\" y=\"509.402344\"/>\n",
       "</g>\n",
       "<g style=\"fill:rgb(0%,0%,0%);fill-opacity:1;\">\n",
       "  <use xlink:href=\"#glyph0-9\" x=\"137.28125\" y=\"556.308594\"/>\n",
       "  <use xlink:href=\"#glyph0-10\" x=\"147.391602\" y=\"556.308594\"/>\n",
       "  <use xlink:href=\"#glyph0-22\" x=\"157.501953\" y=\"556.308594\"/>\n",
       "</g>\n",
       "<g style=\"fill:rgb(0%,0%,0%);fill-opacity:1;\">\n",
       "  <use xlink:href=\"#glyph0-6\" x=\"197.714844\" y=\"567.328125\"/>\n",
       "  <use xlink:href=\"#glyph0-20\" x=\"207.825195\" y=\"567.328125\"/>\n",
       "  <use xlink:href=\"#glyph0-21\" x=\"218.714844\" y=\"567.328125\"/>\n",
       "</g>\n",
       "<g style=\"fill:rgb(0%,0%,0%);fill-opacity:1;\">\n",
       "  <use xlink:href=\"#glyph0-3\" x=\"168.808594\" y=\"558.96875\"/>\n",
       "  <use xlink:href=\"#glyph0-4\" x=\"179.698242\" y=\"558.96875\"/>\n",
       "  <use xlink:href=\"#glyph0-25\" x=\"189.808594\" y=\"558.96875\"/>\n",
       "</g>\n",
       "<g style=\"fill:rgb(0%,0%,0%);fill-opacity:1;\">\n",
       "  <use xlink:href=\"#glyph0-13\" x=\"210.289062\" y=\"539.398438\"/>\n",
       "  <use xlink:href=\"#glyph0-1\" x=\"219.626953\" y=\"539.398438\"/>\n",
       "  <use xlink:href=\"#glyph0-11\" x=\"228.964844\" y=\"539.398438\"/>\n",
       "</g>\n",
       "<g style=\"fill:rgb(0%,0%,0%);fill-opacity:1;\">\n",
       "  <use xlink:href=\"#glyph0-13\" x=\"220.058594\" y=\"479.308594\"/>\n",
       "  <use xlink:href=\"#glyph0-7\" x=\"229.396484\" y=\"479.308594\"/>\n",
       "  <use xlink:href=\"#glyph0-8\" x=\"238.734375\" y=\"479.308594\"/>\n",
       "</g>\n",
       "<g style=\"fill:rgb(0%,0%,0%);fill-opacity:1;\">\n",
       "  <use xlink:href=\"#glyph0-18\" x=\"380.054688\" y=\"55.121094\"/>\n",
       "  <use xlink:href=\"#glyph0-16\" x=\"388.606445\" y=\"55.121094\"/>\n",
       "  <use xlink:href=\"#glyph0-7\" x=\"401.820312\" y=\"55.121094\"/>\n",
       "</g>\n",
       "</g>\n",
       "</svg>\n"
      ],
      "text/plain": [
       "<igraph.drawing.cairo.plot.CairoPlot at 0x11c893910>"
      ]
     },
     "execution_count": 17,
     "metadata": {
      "image/svg+xml": {
       "isolated": true
      }
     },
     "output_type": "execute_result"
    }
   ],
   "source": [
    "\n",
    "# graph_df = df[df.contig.astype(bool) & (df.newarrival > 500)].sort_values(by='newarrival', ascending=False).drop_duplicates(subset=['iso_o', 'iso_d'])\n",
    "graph_df = df[(df.newarrival > 10001)].groupby(['iso_o','iso_d'], as_index=False).agg({'newarrival':'max','dist':'first','pop_o':'first'})\n",
    "\n",
    "graph = ig.Graph.TupleList(graph_df[['iso_o','iso_d','dist']].itertuples(index=False), directed=True, edge_attrs=['dist'])\n",
    "\n",
    "graph.vs['color'] = assign_colors(pd.Series(graph.vs()['name']).to_frame().merge(df, how='left', left_on=0, right_on='iso_o').drop_duplicates('iso_o')['Region_o'])\n",
    "graph.vs['label'] = graph.vs['name']\n",
    "\n",
    "vs_size = np.emath.logn(1.2, pd.Series(graph.vs()['name']).to_frame().merge(df, how='left', left_on=0, right_on='iso_o').drop_duplicates('iso_o')['pop_o'])\n",
    "\n",
    "layout = graph.layout(\"kk\")\n",
    "ig.plot(graph, vertex_size = vs_size )"
   ]
  },
  {
   "cell_type": "code",
   "execution_count": 18,
   "metadata": {},
   "outputs": [
    {
     "data": {
      "image/svg+xml": [
       "<?xml version=\"1.0\" encoding=\"UTF-8\"?>\n",
       "<svg xmlns=\"http://www.w3.org/2000/svg\" xmlns:xlink=\"http://www.w3.org/1999/xlink\" width=\"600pt\" height=\"600pt\" viewBox=\"0 0 600 600\" version=\"1.1\">\n",
       "<defs>\n",
       "<g>\n",
       "<symbol overflow=\"visible\" id=\"glyph0-0\">\n",
       "<path style=\"stroke:none;\" d=\"M 0.453125 0 L 0.453125 -10.042969 L 8.421875 -10.042969 L 8.421875 0 Z M 7.164062 -1.257812 L 7.164062 -8.785156 L 1.710938 -8.785156 L 1.710938 -1.257812 Z M 7.164062 -1.257812 \"/>\n",
       "</symbol>\n",
       "<symbol overflow=\"visible\" id=\"glyph0-1\">\n",
       "<path style=\"stroke:none;\" d=\"M 1.859375 -10.042969 L 4.742188 -1.492188 L 7.59375 -10.042969 L 9.117188 -10.042969 L 5.453125 0 L 4.011719 0 L 0.355469 -10.042969 Z M 1.859375 -10.042969 \"/>\n",
       "</symbol>\n",
       "<symbol overflow=\"visible\" id=\"glyph0-2\">\n",
       "<path style=\"stroke:none;\" d=\"M 1.195312 -10.042969 L 8.515625 -10.042969 L 8.515625 -8.8125 L 2.523438 -8.8125 L 2.523438 -5.761719 L 8.066406 -5.761719 L 8.066406 -4.601562 L 2.523438 -4.601562 L 2.523438 -1.195312 L 8.621094 -1.195312 L 8.621094 0 L 1.195312 0 Z M 1.195312 -10.042969 \"/>\n",
       "</symbol>\n",
       "<symbol overflow=\"visible\" id=\"glyph0-3\">\n",
       "<path style=\"stroke:none;\" d=\"M 1.066406 -10.042969 L 2.671875 -10.042969 L 7.746094 -1.90625 L 7.746094 -10.042969 L 9.039062 -10.042969 L 9.039062 0 L 7.511719 0 L 2.367188 -8.128906 L 2.367188 0 L 1.066406 0 Z M 1.066406 -10.042969 \"/>\n",
       "</symbol>\n",
       "<symbol overflow=\"visible\" id=\"glyph0-4\">\n",
       "<path style=\"stroke:none;\" d=\"M 5.296875 -10.316406 C 6.570312 -10.316406 7.554688 -9.980469 8.257812 -9.3125 C 8.960938 -8.640625 9.347656 -7.878906 9.425781 -7.027344 L 8.101562 -7.027344 C 7.949219 -7.675781 7.652344 -8.1875 7.203125 -8.566406 C 6.753906 -8.945312 6.121094 -9.132812 5.3125 -9.132812 C 4.324219 -9.132812 3.523438 -8.785156 2.914062 -8.089844 C 2.304688 -7.394531 2.003906 -6.328125 2.003906 -4.894531 C 2.003906 -3.71875 2.277344 -2.765625 2.828125 -2.035156 C 3.375 -1.304688 4.195312 -0.9375 5.285156 -0.9375 C 6.289062 -0.9375 7.050781 -1.320312 7.574219 -2.09375 C 7.851562 -2.5 8.058594 -3.03125 8.195312 -3.691406 L 9.523438 -3.691406 C 9.40625 -2.632812 9.011719 -1.746094 8.347656 -1.03125 C 7.550781 -0.171875 6.472656 0.257812 5.121094 0.257812 C 3.953125 0.257812 2.972656 -0.09375 2.179688 -0.800781 C 1.136719 -1.734375 0.617188 -3.175781 0.617188 -5.125 C 0.617188 -6.609375 1.007812 -7.824219 1.789062 -8.769531 C 2.636719 -9.800781 3.808594 -10.316406 5.296875 -10.316406 Z M 5.296875 -10.316406 \"/>\n",
       "</symbol>\n",
       "<symbol overflow=\"visible\" id=\"glyph0-5\">\n",
       "<path style=\"stroke:none;\" d=\"M 5.398438 -10.316406 C 7.171875 -10.316406 8.484375 -9.746094 9.335938 -8.605469 C 10.003906 -7.71875 10.335938 -6.582031 10.335938 -5.195312 C 10.335938 -3.695312 9.957031 -2.449219 9.195312 -1.457031 C 8.300781 -0.289062 7.027344 0.292969 5.375 0.292969 C 3.828125 0.292969 2.613281 -0.214844 1.730469 -1.238281 C 0.941406 -2.222656 0.546875 -3.464844 0.546875 -4.96875 C 0.546875 -6.328125 0.882812 -7.488281 1.558594 -8.457031 C 2.425781 -9.695312 3.703125 -10.316406 5.398438 -10.316406 Z M 5.539062 -0.921875 C 6.734375 -0.921875 7.601562 -1.351562 8.136719 -2.210938 C 8.671875 -3.070312 8.941406 -4.058594 8.941406 -5.175781 C 8.941406 -6.355469 8.632812 -7.304688 8.015625 -8.023438 C 7.398438 -8.746094 6.554688 -9.105469 5.484375 -9.105469 C 4.445312 -9.105469 3.59375 -8.75 2.9375 -8.035156 C 2.28125 -7.320312 1.953125 -6.269531 1.953125 -4.882812 C 1.953125 -3.769531 2.238281 -2.832031 2.800781 -2.066406 C 3.363281 -1.304688 4.273438 -0.921875 5.539062 -0.921875 Z M 5.539062 -0.921875 \"/>\n",
       "</symbol>\n",
       "<symbol overflow=\"visible\" id=\"glyph0-6\">\n",
       "<path style=\"stroke:none;\" d=\"M 1.066406 -10.042969 L 2.425781 -10.042969 L 2.425781 -1.195312 L 7.511719 -1.195312 L 7.511719 0 L 1.066406 0 Z M 1.066406 -10.042969 \"/>\n",
       "</symbol>\n",
       "<symbol overflow=\"visible\" id=\"glyph0-7\">\n",
       "<path style=\"stroke:none;\" d=\"M 1.953125 -3.242188 C 1.984375 -2.671875 2.121094 -2.207031 2.359375 -1.851562 C 2.808594 -1.1875 3.605469 -0.855469 4.742188 -0.855469 C 5.253906 -0.855469 5.71875 -0.925781 6.140625 -1.074219 C 6.949219 -1.355469 7.355469 -1.863281 7.355469 -2.589844 C 7.355469 -3.136719 7.183594 -3.527344 6.84375 -3.757812 C 6.496094 -3.988281 5.953125 -4.1875 5.214844 -4.355469 L 3.855469 -4.664062 C 2.96875 -4.863281 2.335938 -5.082031 1.96875 -5.324219 C 1.332031 -5.742188 1.011719 -6.371094 1.011719 -7.203125 C 1.011719 -8.105469 1.324219 -8.847656 1.949219 -9.425781 C 2.574219 -10.003906 3.457031 -10.296875 4.601562 -10.296875 C 5.652344 -10.296875 6.546875 -10.039062 7.285156 -9.53125 C 8.019531 -9.023438 8.386719 -8.210938 8.386719 -7.09375 L 7.109375 -7.09375 C 7.039062 -7.632812 6.894531 -8.046875 6.671875 -8.332031 C 6.257812 -8.855469 5.554688 -9.117188 4.558594 -9.117188 C 3.757812 -9.117188 3.179688 -8.949219 2.828125 -8.613281 C 2.476562 -8.277344 2.304688 -7.882812 2.304688 -7.4375 C 2.304688 -6.945312 2.507812 -6.585938 2.917969 -6.359375 C 3.1875 -6.210938 3.796875 -6.03125 4.742188 -5.8125 L 6.152344 -5.488281 C 6.832031 -5.335938 7.355469 -5.121094 7.726562 -4.851562 C 8.363281 -4.382812 8.679688 -3.703125 8.679688 -2.808594 C 8.679688 -1.695312 8.277344 -0.902344 7.46875 -0.421875 C 6.660156 0.0546875 5.71875 0.292969 4.648438 0.292969 C 3.398438 0.292969 2.421875 -0.0234375 1.714844 -0.664062 C 1.007812 -1.296875 0.664062 -2.15625 0.675781 -3.242188 Z M 1.953125 -3.242188 \"/>\n",
       "</symbol>\n",
       "<symbol overflow=\"visible\" id=\"glyph0-8\">\n",
       "<path style=\"stroke:none;\" d=\"M 0.289062 -10.042969 L 1.875 -10.042969 L 4.757812 -5.214844 L 7.640625 -10.042969 L 9.234375 -10.042969 L 5.441406 -4.046875 L 5.441406 0 L 4.082031 0 L 4.082031 -4.046875 Z M 0.289062 -10.042969 \"/>\n",
       "</symbol>\n",
       "<symbol overflow=\"visible\" id=\"glyph0-9\">\n",
       "<path style=\"stroke:none;\" d=\"M 5.734375 -5.441406 C 6.375 -5.441406 6.878906 -5.570312 7.25 -5.824219 C 7.621094 -6.078125 7.804688 -6.539062 7.804688 -7.203125 C 7.804688 -7.921875 7.546875 -8.40625 7.027344 -8.667969 C 6.75 -8.804688 6.378906 -8.875 5.914062 -8.875 L 2.589844 -8.875 L 2.589844 -5.441406 Z M 1.230469 -10.042969 L 5.878906 -10.042969 C 6.644531 -10.042969 7.277344 -9.929688 7.773438 -9.707031 C 8.714844 -9.277344 9.1875 -8.488281 9.1875 -7.335938 C 9.1875 -6.734375 9.0625 -6.242188 8.816406 -5.859375 C 8.566406 -5.476562 8.21875 -5.167969 7.773438 -4.9375 C 8.164062 -4.777344 8.460938 -4.566406 8.65625 -4.304688 C 8.855469 -4.046875 8.964844 -3.625 8.988281 -3.042969 L 9.039062 -1.695312 C 9.050781 -1.3125 9.082031 -1.027344 9.132812 -0.839844 C 9.214844 -0.523438 9.359375 -0.316406 9.570312 -0.226562 L 9.570312 0 L 7.902344 0 C 7.855469 -0.0859375 7.820312 -0.199219 7.792969 -0.335938 C 7.765625 -0.472656 7.742188 -0.734375 7.726562 -1.128906 L 7.640625 -2.804688 C 7.609375 -3.460938 7.367188 -3.898438 6.910156 -4.121094 C 6.652344 -4.246094 6.242188 -4.304688 5.6875 -4.304688 L 2.589844 -4.304688 L 2.589844 0 L 1.230469 0 Z M 1.230469 -10.042969 \"/>\n",
       "</symbol>\n",
       "<symbol overflow=\"visible\" id=\"glyph0-10\">\n",
       "<path style=\"stroke:none;\" d=\"M 8.375 -10.042969 L 8.375 -8.84375 L 4.992188 -8.84375 L 4.992188 0 L 3.609375 0 L 3.609375 -8.84375 L 0.226562 -8.84375 L 0.226562 -10.042969 Z M 8.375 -10.042969 \"/>\n",
       "</symbol>\n",
       "<symbol overflow=\"visible\" id=\"glyph0-11\">\n",
       "<path style=\"stroke:none;\" d=\"M 2.542969 -10.042969 L 2.542969 -3.835938 C 2.542969 -3.105469 2.679688 -2.5 2.953125 -2.015625 C 3.359375 -1.289062 4.042969 -0.921875 5.003906 -0.921875 C 6.15625 -0.921875 6.941406 -1.316406 7.355469 -2.105469 C 7.578125 -2.535156 7.691406 -3.109375 7.691406 -3.835938 L 7.691406 -10.042969 L 9.070312 -10.042969 L 9.070312 -4.402344 C 9.070312 -3.167969 8.90625 -2.21875 8.570312 -1.550781 C 7.960938 -0.339844 6.808594 0.265625 5.113281 0.265625 C 3.417969 0.265625 2.265625 -0.339844 1.660156 -1.550781 C 1.328125 -2.21875 1.164062 -3.167969 1.164062 -4.402344 L 1.164062 -10.042969 Z M 2.542969 -10.042969 \"/>\n",
       "</symbol>\n",
       "<symbol overflow=\"visible\" id=\"glyph0-12\">\n",
       "<path style=\"stroke:none;\" d=\"M 4.839844 -5.796875 C 5.414062 -5.796875 5.859375 -5.875 6.179688 -6.035156 C 6.679688 -6.285156 6.929688 -6.738281 6.929688 -7.390625 C 6.929688 -8.046875 6.664062 -8.488281 6.132812 -8.714844 C 5.832031 -8.84375 5.382812 -8.90625 4.792969 -8.90625 L 2.367188 -8.90625 L 2.367188 -5.796875 Z M 5.296875 -1.164062 C 6.132812 -1.164062 6.726562 -1.402344 7.082031 -1.886719 C 7.304688 -2.191406 7.417969 -2.5625 7.417969 -2.992188 C 7.417969 -3.722656 7.089844 -4.21875 6.4375 -4.484375 C 6.09375 -4.625 5.636719 -4.695312 5.066406 -4.695312 L 2.367188 -4.695312 L 2.367188 -1.164062 Z M 1.03125 -10.042969 L 5.34375 -10.042969 C 6.519531 -10.042969 7.359375 -9.691406 7.855469 -8.988281 C 8.148438 -8.574219 8.292969 -8.097656 8.292969 -7.554688 C 8.292969 -6.921875 8.113281 -6.402344 7.75 -5.996094 C 7.5625 -5.78125 7.296875 -5.585938 6.945312 -5.40625 C 7.460938 -5.210938 7.84375 -4.992188 8.101562 -4.742188 C 8.550781 -4.304688 8.777344 -3.703125 8.777344 -2.933594 C 8.777344 -2.285156 8.574219 -1.699219 8.167969 -1.175781 C 7.5625 -0.390625 6.597656 0 5.277344 0 L 1.03125 0 Z M 1.03125 -10.042969 \"/>\n",
       "</symbol>\n",
       "<symbol overflow=\"visible\" id=\"glyph0-13\">\n",
       "<path style=\"stroke:none;\" d=\"M 5.996094 -2.992188 C 5.996094 -2.144531 5.871094 -1.488281 5.617188 -1.019531 C 5.152344 -0.164062 4.269531 0.265625 2.96875 0.265625 C 2.214844 0.265625 1.570312 0.0625 1.039062 -0.34375 C 0.507812 -0.753906 0.238281 -1.480469 0.238281 -2.523438 L 0.238281 -3.242188 L 1.515625 -3.242188 L 1.515625 -2.523438 C 1.515625 -1.976562 1.640625 -1.5625 1.882812 -1.289062 C 2.125 -1.011719 2.507812 -0.875 3.023438 -0.875 C 3.746094 -0.875 4.21875 -1.125 4.445312 -1.621094 C 4.582031 -1.925781 4.648438 -2.5 4.648438 -3.351562 L 4.648438 -10.042969 L 5.996094 -10.042969 Z M 5.996094 -2.992188 \"/>\n",
       "</symbol>\n",
       "<symbol overflow=\"visible\" id=\"glyph0-14\">\n",
       "<path style=\"stroke:none;\" d=\"M 1.03125 -10.042969 L 2.980469 -10.042969 L 5.867188 -1.550781 L 8.730469 -10.042969 L 10.65625 -10.042969 L 10.65625 0 L 9.367188 0 L 9.367188 -5.925781 C 9.367188 -6.132812 9.371094 -6.472656 9.378906 -6.945312 C 9.386719 -7.417969 9.390625 -7.925781 9.390625 -8.46875 L 6.527344 0 L 5.179688 0 L 2.296875 -8.46875 L 2.296875 -8.164062 C 2.296875 -7.917969 2.300781 -7.542969 2.3125 -7.039062 C 2.324219 -6.535156 2.332031 -6.164062 2.332031 -5.925781 L 2.332031 0 L 1.03125 0 Z M 1.03125 -10.042969 \"/>\n",
       "</symbol>\n",
       "<symbol overflow=\"visible\" id=\"glyph0-15\">\n",
       "<path style=\"stroke:none;\" d=\"M 5.40625 -10.300781 C 6.351562 -10.300781 7.167969 -10.121094 7.855469 -9.753906 C 8.851562 -9.230469 9.464844 -8.3125 9.6875 -7 L 8.339844 -7 C 8.175781 -7.734375 7.835938 -8.269531 7.320312 -8.601562 C 6.804688 -8.9375 6.15625 -9.105469 5.375 -9.105469 C 4.445312 -9.105469 3.660156 -8.757812 3.023438 -8.058594 C 2.390625 -7.363281 2.070312 -6.324219 2.070312 -4.941406 C 2.070312 -3.75 2.332031 -2.777344 2.859375 -2.027344 C 3.382812 -1.277344 4.234375 -0.902344 5.421875 -0.902344 C 6.328125 -0.902344 7.078125 -1.164062 7.671875 -1.691406 C 8.265625 -2.21875 8.570312 -3.070312 8.585938 -4.246094 L 5.441406 -4.246094 L 5.441406 -5.375 L 9.851562 -5.375 L 9.851562 0 L 8.976562 0 L 8.648438 -1.292969 C 8.1875 -0.785156 7.78125 -0.433594 7.421875 -0.238281 C 6.828125 0.0976562 6.066406 0.265625 5.148438 0.265625 C 3.957031 0.265625 2.933594 -0.117188 2.078125 -0.890625 C 1.144531 -1.855469 0.675781 -3.179688 0.675781 -4.867188 C 0.675781 -6.546875 1.132812 -7.886719 2.042969 -8.878906 C 2.910156 -9.828125 4.03125 -10.300781 5.40625 -10.300781 Z M 5.40625 -10.300781 \"/>\n",
       "</symbol>\n",
       "<symbol overflow=\"visible\" id=\"glyph0-16\">\n",
       "<path style=\"stroke:none;\" d=\"M 4.921875 -1.164062 C 5.382812 -1.164062 5.761719 -1.210938 6.054688 -1.304688 C 6.585938 -1.484375 7.019531 -1.824219 7.355469 -2.332031 C 7.625 -2.738281 7.816406 -3.257812 7.9375 -3.890625 C 8.003906 -4.269531 8.039062 -4.617188 8.039062 -4.941406 C 8.039062 -6.1875 7.792969 -7.152344 7.296875 -7.839844 C 6.804688 -8.527344 6.007812 -8.875 4.90625 -8.875 L 2.496094 -8.875 L 2.496094 -1.164062 Z M 1.128906 -10.042969 L 5.195312 -10.042969 C 6.578125 -10.042969 7.648438 -9.550781 8.40625 -8.570312 C 9.085938 -7.6875 9.425781 -6.554688 9.425781 -5.175781 C 9.425781 -4.109375 9.226562 -3.144531 8.824219 -2.28125 C 8.117188 -0.761719 6.90625 0 5.179688 0 L 1.128906 0 Z M 1.128906 -10.042969 \"/>\n",
       "</symbol>\n",
       "<symbol overflow=\"visible\" id=\"glyph0-17\">\n",
       "<path style=\"stroke:none;\" d=\"M 6.21875 -4.117188 L 4.695312 -8.550781 L 3.078125 -4.117188 Z M 3.984375 -10.042969 L 5.523438 -10.042969 L 9.167969 0 L 7.675781 0 L 6.65625 -3.007812 L 2.6875 -3.007812 L 1.601562 0 L 0.203125 0 Z M 3.984375 -10.042969 \"/>\n",
       "</symbol>\n",
       "<symbol overflow=\"visible\" id=\"glyph0-18\">\n",
       "<path style=\"stroke:none;\" d=\"M 1.195312 -10.042969 L 8.164062 -10.042969 L 8.164062 -8.8125 L 2.554688 -8.8125 L 2.554688 -5.761719 L 7.484375 -5.761719 L 7.484375 -4.566406 L 2.554688 -4.566406 L 2.554688 0 L 1.195312 0 Z M 1.195312 -10.042969 \"/>\n",
       "</symbol>\n",
       "<symbol overflow=\"visible\" id=\"glyph0-19\">\n",
       "<path style=\"stroke:none;\" d=\"M 1.375 -10.042969 L 2.75 -10.042969 L 2.75 0 L 1.375 0 Z M 1.375 -10.042969 \"/>\n",
       "</symbol>\n",
       "<symbol overflow=\"visible\" id=\"glyph0-20\">\n",
       "<path style=\"stroke:none;\" d=\"M 1.195312 -10.042969 L 5.714844 -10.042969 C 6.609375 -10.042969 7.328125 -9.789062 7.875 -9.285156 C 8.421875 -8.78125 8.695312 -8.074219 8.695312 -7.164062 C 8.695312 -6.378906 8.453125 -5.699219 7.964844 -5.117188 C 7.476562 -4.535156 6.726562 -4.246094 5.714844 -4.246094 L 2.554688 -4.246094 L 2.554688 0 L 1.195312 0 Z M 7.320312 -7.15625 C 7.320312 -7.894531 7.046875 -8.398438 6.5 -8.660156 C 6.199219 -8.800781 5.789062 -8.875 5.265625 -8.875 L 2.554688 -8.875 L 2.554688 -5.394531 L 5.265625 -5.394531 C 5.875 -5.394531 6.371094 -5.523438 6.75 -5.78125 C 7.132812 -6.042969 7.320312 -6.5 7.320312 -7.15625 Z M 7.320312 -7.15625 \"/>\n",
       "</symbol>\n",
       "<symbol overflow=\"visible\" id=\"glyph0-21\">\n",
       "<path style=\"stroke:none;\" d=\"M 1.066406 -10.042969 L 2.390625 -10.042969 L 2.390625 -5.148438 L 7.289062 -10.042969 L 9.167969 -10.042969 L 4.992188 -5.996094 L 9.28125 0 L 7.511719 0 L 4 -5.039062 L 2.390625 -3.5 L 2.390625 0 L 1.066406 0 Z M 1.066406 -10.042969 \"/>\n",
       "</symbol>\n",
       "<symbol overflow=\"visible\" id=\"glyph0-22\">\n",
       "<path style=\"stroke:none;\" d=\"M 10.253906 -0.0273438 L 9.570312 0.800781 L 8.019531 -0.382812 C 7.644531 -0.179688 7.242188 -0.015625 6.804688 0.109375 C 6.371094 0.234375 5.894531 0.292969 5.378906 0.292969 C 3.820312 0.292969 2.601562 -0.214844 1.714844 -1.238281 C 0.9375 -2.230469 0.546875 -3.476562 0.546875 -4.96875 C 0.546875 -6.328125 0.882812 -7.488281 1.558594 -8.457031 C 2.425781 -9.695312 3.703125 -10.316406 5.398438 -10.316406 C 7.171875 -10.316406 8.484375 -9.746094 9.335938 -8.605469 C 10.003906 -7.71875 10.335938 -6.582031 10.335938 -5.195312 C 10.335938 -4.546875 10.257812 -3.925781 10.097656 -3.328125 C 9.855469 -2.417969 9.445312 -1.675781 8.875 -1.101562 Z M 5.542969 -0.921875 C 5.828125 -0.921875 6.089844 -0.941406 6.335938 -0.980469 C 6.582031 -1.019531 6.796875 -1.097656 6.980469 -1.210938 L 5.878906 -2.070312 L 6.5625 -2.914062 L 7.875 -1.894531 C 8.289062 -2.367188 8.570312 -2.898438 8.71875 -3.484375 C 8.867188 -4.074219 8.941406 -4.636719 8.941406 -5.175781 C 8.941406 -6.355469 8.632812 -7.304688 8.015625 -8.023438 C 7.398438 -8.746094 6.554688 -9.105469 5.484375 -9.105469 C 4.398438 -9.105469 3.539062 -8.761719 2.90625 -8.070312 C 2.273438 -7.378906 1.953125 -6.316406 1.953125 -4.882812 C 1.953125 -3.671875 2.257812 -2.710938 2.867188 -1.996094 C 3.476562 -1.28125 4.367188 -0.921875 5.542969 -0.921875 Z M 5.542969 -0.921875 \"/>\n",
       "</symbol>\n",
       "<symbol overflow=\"visible\" id=\"glyph0-23\">\n",
       "<path style=\"stroke:none;\" d=\"M 0.320312 -1.128906 L 6.480469 -8.84375 L 0.773438 -8.84375 L 0.773438 -10.042969 L 8.230469 -10.042969 L 8.230469 -8.875 L 2.039062 -1.195312 L 8.230469 -1.195312 L 8.230469 0 L 0.320312 0 Z M 0.320312 -1.128906 \"/>\n",
       "</symbol>\n",
       "<symbol overflow=\"visible\" id=\"glyph0-24\">\n",
       "<path style=\"stroke:none;\" d=\"M 1.730469 -10.042969 L 3.625 -1.875 L 5.890625 -10.042969 L 7.367188 -10.042969 L 9.640625 -1.875 L 11.53125 -10.042969 L 13.023438 -10.042969 L 10.382812 0 L 8.953125 0 L 6.636719 -8.328125 L 4.304688 0 L 2.878906 0 L 0.253906 -10.042969 Z M 1.730469 -10.042969 \"/>\n",
       "</symbol>\n",
       "<symbol overflow=\"visible\" id=\"glyph0-25\">\n",
       "<path style=\"stroke:none;\" d=\"M 1.101562 -10.042969 L 2.476562 -10.042969 L 2.476562 -5.890625 L 7.695312 -5.890625 L 7.695312 -10.042969 L 9.070312 -10.042969 L 9.070312 0 L 7.695312 0 L 7.695312 -4.695312 L 2.476562 -4.695312 L 2.476562 0 L 1.101562 0 Z M 1.101562 -10.042969 \"/>\n",
       "</symbol>\n",
       "<symbol overflow=\"visible\" id=\"glyph0-26\">\n",
       "<path style=\"stroke:none;\" d=\"M 1.929688 0 L 0.289062 0 L 3.882812 -5.148438 L 0.511719 -10.042969 L 2.214844 -10.042969 L 4.777344 -6.199219 L 7.320312 -10.042969 L 8.941406 -10.042969 L 5.570312 -5.148438 L 9.105469 0 L 7.417969 0 L 4.710938 -4.128906 Z M 1.929688 0 \"/>\n",
       "</symbol>\n",
       "</g>\n",
       "</defs>\n",
       "<g id=\"surface8\">\n",
       "<rect x=\"0\" y=\"0\" width=\"600\" height=\"600\" style=\"fill:rgb(100%,100%,100%);fill-opacity:1;stroke:none;\"/>\n",
       "<path style=\"fill:none;stroke-width:1;stroke-linecap:butt;stroke-linejoin:miter;stroke:rgb(26.666667%,26.666667%,26.666667%);stroke-opacity:1;stroke-miterlimit:10;\" d=\"M 413.398438 529.628906 C 409.082031 529.828125 407.773438 535.207031 405.394531 536.226562 \"/>\n",
       "<path style=\" stroke:none;fill-rule:nonzero;fill:rgb(26.666667%,26.666667%,26.666667%);fill-opacity:1;\" d=\"M 392.28125 541.84375 L 403.566406 531.96875 L 407.21875 540.488281 L 392.28125 541.84375 \"/>\n",
       "<path style=\"fill:none;stroke-width:1;stroke-linecap:butt;stroke-linejoin:miter;stroke:rgb(26.666667%,26.666667%,26.666667%);stroke-opacity:1;stroke-miterlimit:10;\" d=\"M 505.890625 397.058594 L 496.777344 383.0625 \"/>\n",
       "<path style=\" stroke:none;fill-rule:nonzero;fill:rgb(26.666667%,26.666667%,26.666667%);fill-opacity:1;\" d=\"M 488.992188 371.109375 L 500.660156 380.535156 L 492.894531 385.59375 L 488.992188 371.109375 \"/>\n",
       "<path style=\"fill:none;stroke-width:1;stroke-linecap:butt;stroke-linejoin:miter;stroke:rgb(26.666667%,26.666667%,26.666667%);stroke-opacity:1;stroke-miterlimit:10;\" d=\"M 505.890625 397.058594 L 507.390625 425.617188 \"/>\n",
       "<path style=\" stroke:none;fill-rule:nonzero;fill:rgb(26.666667%,26.666667%,26.666667%);fill-opacity:1;\" d=\"M 508.140625 439.863281 L 502.761719 425.859375 L 512.019531 425.375 L 508.140625 439.863281 \"/>\n",
       "<path style=\"fill:none;stroke-width:1;stroke-linecap:butt;stroke-linejoin:miter;stroke:rgb(26.666667%,26.666667%,26.666667%);stroke-opacity:1;stroke-miterlimit:10;\" d=\"M 505.890625 397.058594 L 518.246094 395.75 \"/>\n",
       "<path style=\" stroke:none;fill-rule:nonzero;fill:rgb(26.666667%,26.666667%,26.666667%);fill-opacity:1;\" d=\"M 532.433594 394.25 L 518.734375 400.359375 L 517.757812 391.140625 L 532.433594 394.25 \"/>\n",
       "<path style=\"fill:none;stroke-width:1;stroke-linecap:butt;stroke-linejoin:miter;stroke:rgb(26.666667%,26.666667%,26.666667%);stroke-opacity:1;stroke-miterlimit:10;\" d=\"M 450.957031 189.734375 L 445.695312 192.3125 \"/>\n",
       "<path style=\" stroke:none;fill-rule:nonzero;fill:rgb(26.666667%,26.666667%,26.666667%);fill-opacity:1;\" d=\"M 432.882812 198.585938 L 443.65625 188.148438 L 447.734375 196.476562 L 432.882812 198.585938 \"/>\n",
       "<path style=\"fill:none;stroke-width:1;stroke-linecap:butt;stroke-linejoin:miter;stroke:rgb(26.666667%,26.666667%,26.666667%);stroke-opacity:1;stroke-miterlimit:10;\" d=\"M 523.605469 265.628906 L 513.609375 298.820312 \"/>\n",
       "<path style=\" stroke:none;fill-rule:nonzero;fill:rgb(26.666667%,26.666667%,26.666667%);fill-opacity:1;\" d=\"M 509.5 312.480469 L 509.171875 297.484375 L 518.050781 300.15625 L 509.5 312.480469 \"/>\n",
       "<path style=\"fill:none;stroke-width:1;stroke-linecap:butt;stroke-linejoin:miter;stroke:rgb(26.666667%,26.666667%,26.666667%);stroke-opacity:1;stroke-miterlimit:10;\" d=\"M 551.480469 269.300781 C 538.367188 283.976562 513.0625 273.046875 505.167969 278.597656 \"/>\n",
       "<path style=\" stroke:none;fill-rule:nonzero;fill:rgb(26.666667%,26.666667%,26.666667%);fill-opacity:1;\" d=\"M 516.835938 270.390625 L 507.835938 282.390625 L 502.5 274.804688 L 516.835938 270.390625 \"/>\n",
       "<path style=\"fill:none;stroke-width:1;stroke-linecap:butt;stroke-linejoin:miter;stroke:rgb(26.666667%,26.666667%,26.666667%);stroke-opacity:1;stroke-miterlimit:10;\" d=\"M 352.292969 39.007812 L 352.320312 55.972656 \"/>\n",
       "<path style=\" stroke:none;fill-rule:nonzero;fill:rgb(26.666667%,26.666667%,26.666667%);fill-opacity:1;\" d=\"M 352.339844 70.238281 L 347.683594 55.980469 L 356.953125 55.964844 L 352.339844 70.238281 \"/>\n",
       "<path style=\"fill:none;stroke-width:1;stroke-linecap:butt;stroke-linejoin:miter;stroke:rgb(26.666667%,26.666667%,26.666667%);stroke-opacity:1;stroke-miterlimit:10;\" d=\"M 523.605469 265.628906 C 529.328125 270.765625 532.703125 280.460938 527.199219 283.730469 \"/>\n",
       "<path style=\" stroke:none;fill-rule:nonzero;fill:rgb(26.666667%,26.666667%,26.666667%);fill-opacity:1;\" d=\"M 539.460938 276.441406 L 529.570312 287.714844 L 524.832031 279.746094 L 539.460938 276.441406 \"/>\n",
       "<path style=\"fill:none;stroke-width:1;stroke-linecap:butt;stroke-linejoin:miter;stroke:rgb(26.666667%,26.666667%,26.666667%);stroke-opacity:1;stroke-miterlimit:10;\" d=\"M 301.550781 416.078125 C 316.773438 431.378906 332.582031 427.792969 352.8125 423.539062 \"/>\n",
       "<path style=\" stroke:none;fill-rule:nonzero;fill:rgb(26.666667%,26.666667%,26.666667%);fill-opacity:1;\" d=\"M 338.851562 426.476562 L 351.859375 419.003906 L 353.769531 428.074219 L 338.851562 426.476562 \"/>\n",
       "<path style=\"fill:none;stroke-width:1;stroke-linecap:butt;stroke-linejoin:miter;stroke:rgb(26.666667%,26.666667%,26.666667%);stroke-opacity:1;stroke-miterlimit:10;\" d=\"M 505.890625 397.058594 C 506.40625 386.230469 496.648438 371.878906 491.289062 375.53125 \"/>\n",
       "<path style=\" stroke:none;fill-rule:nonzero;fill:rgb(26.666667%,26.666667%,26.666667%);fill-opacity:1;\" d=\"M 503.078125 367.496094 L 493.898438 379.359375 L 488.675781 371.699219 L 503.078125 367.496094 \"/>\n",
       "<path style=\"fill:none;stroke-width:1;stroke-linecap:butt;stroke-linejoin:miter;stroke:rgb(26.666667%,26.666667%,26.666667%);stroke-opacity:1;stroke-miterlimit:10;\" d=\"M 313.917969 237.109375 L 289.070312 242.863281 \"/>\n",
       "<path style=\" stroke:none;fill-rule:nonzero;fill:rgb(26.666667%,26.666667%,26.666667%);fill-opacity:1;\" d=\"M 275.175781 246.082031 L 288.027344 238.347656 L 290.117188 247.378906 L 275.175781 246.082031 \"/>\n",
       "<path style=\"fill:none;stroke-width:1;stroke-linecap:butt;stroke-linejoin:miter;stroke:rgb(26.666667%,26.666667%,26.666667%);stroke-opacity:1;stroke-miterlimit:10;\" d=\"M 209.097656 189.136719 L 204.261719 159.832031 \"/>\n",
       "<path style=\" stroke:none;fill-rule:nonzero;fill:rgb(26.666667%,26.666667%,26.666667%);fill-opacity:1;\" d=\"M 201.941406 145.757812 L 208.835938 159.078125 L 199.6875 160.589844 L 201.941406 145.757812 \"/>\n",
       "<path style=\"fill:none;stroke-width:1;stroke-linecap:butt;stroke-linejoin:miter;stroke:rgb(26.666667%,26.666667%,26.666667%);stroke-opacity:1;stroke-miterlimit:10;\" d=\"M 181.578125 502.414062 L 179.066406 511.007812 \"/>\n",
       "<path style=\" stroke:none;fill-rule:nonzero;fill:rgb(26.666667%,26.666667%,26.666667%);fill-opacity:1;\" d=\"M 175.066406 524.699219 L 174.617188 509.707031 L 183.515625 512.304688 L 175.066406 524.699219 \"/>\n",
       "<path style=\"fill:none;stroke-width:1;stroke-linecap:butt;stroke-linejoin:miter;stroke:rgb(26.666667%,26.666667%,26.666667%);stroke-opacity:1;stroke-miterlimit:10;\" d=\"M 413.398438 529.628906 L 414.078125 524.125 \"/>\n",
       "<path style=\" stroke:none;fill-rule:nonzero;fill:rgb(26.666667%,26.666667%,26.666667%);fill-opacity:1;\" d=\"M 415.824219 509.96875 L 418.679688 524.695312 L 409.476562 523.558594 L 415.824219 509.96875 \"/>\n",
       "<path style=\"fill:none;stroke-width:1;stroke-linecap:butt;stroke-linejoin:miter;stroke:rgb(26.666667%,26.666667%,26.666667%);stroke-opacity:1;stroke-miterlimit:10;\" d=\"M 239.40625 228.3125 C 230.035156 225.484375 223.359375 228.703125 217.339844 236.371094 \"/>\n",
       "<path style=\" stroke:none;fill-rule:nonzero;fill:rgb(26.666667%,26.666667%,26.666667%);fill-opacity:1;\" d=\"M 208.535156 247.597656 L 213.691406 233.511719 L 220.988281 239.234375 L 208.535156 247.597656 \"/>\n",
       "<path style=\"fill:none;stroke-width:1;stroke-linecap:butt;stroke-linejoin:miter;stroke:rgb(26.666667%,26.666667%,26.666667%);stroke-opacity:1;stroke-miterlimit:10;\" d=\"M 189.898438 222.527344 L 183.777344 245.332031 \"/>\n",
       "<path style=\" stroke:none;fill-rule:nonzero;fill:rgb(26.666667%,26.666667%,26.666667%);fill-opacity:1;\" d=\"M 180.082031 259.109375 L 179.300781 244.128906 L 188.253906 246.535156 L 180.082031 259.109375 \"/>\n",
       "<path style=\"fill:none;stroke-width:1;stroke-linecap:butt;stroke-linejoin:miter;stroke:rgb(26.666667%,26.666667%,26.666667%);stroke-opacity:1;stroke-miterlimit:10;\" d=\"M 111.078125 303.351562 L 108.375 298.929688 \"/>\n",
       "<path style=\" stroke:none;fill-rule:nonzero;fill:rgb(26.666667%,26.666667%,26.666667%);fill-opacity:1;\" d=\"M 100.933594 286.757812 L 112.328125 296.511719 L 104.417969 301.347656 L 100.933594 286.757812 \"/>\n",
       "<path style=\"fill:none;stroke-width:1;stroke-linecap:butt;stroke-linejoin:miter;stroke:rgb(26.666667%,26.666667%,26.666667%);stroke-opacity:1;stroke-miterlimit:10;\" d=\"M 510.402344 362.507812 C 492.867188 367.488281 484.257812 397.320312 483.910156 397.324219 \"/>\n",
       "<path style=\" stroke:none;fill-rule:nonzero;fill:rgb(26.666667%,26.666667%,26.666667%);fill-opacity:1;\" d=\"M 498.175781 397.152344 L 483.964844 401.960938 L 483.855469 392.6875 L 498.175781 397.152344 \"/>\n",
       "<path style=\"fill:none;stroke-width:1;stroke-linecap:butt;stroke-linejoin:miter;stroke:rgb(26.666667%,26.666667%,26.666667%);stroke-opacity:1;stroke-miterlimit:10;\" d=\"M 20 312.007812 L 20.492188 323.554688 \"/>\n",
       "<path style=\" stroke:none;fill-rule:nonzero;fill:rgb(26.666667%,26.666667%,26.666667%);fill-opacity:1;\" d=\"M 21.101562 337.808594 L 15.863281 323.75 L 25.125 323.355469 L 21.101562 337.808594 \"/>\n",
       "<path style=\"fill:none;stroke-width:1;stroke-linecap:butt;stroke-linejoin:miter;stroke:rgb(26.666667%,26.666667%,26.666667%);stroke-opacity:1;stroke-miterlimit:10;\" d=\"M 313.917969 237.109375 C 307.097656 235.34375 296.5625 240.492188 298.28125 243.542969 \"/>\n",
       "<path style=\" stroke:none;fill-rule:nonzero;fill:rgb(26.666667%,26.666667%,26.666667%);fill-opacity:1;\" d=\"M 291.269531 231.117188 L 302.316406 241.265625 L 294.246094 245.820312 L 291.269531 231.117188 \"/>\n",
       "<path style=\"fill:none;stroke-width:1;stroke-linecap:butt;stroke-linejoin:miter;stroke:rgb(26.666667%,26.666667%,26.666667%);stroke-opacity:1;stroke-miterlimit:10;\" d=\"M 264.695312 197.242188 C 262.996094 223.890625 238 229.832031 223.058594 245.957031 \"/>\n",
       "<path style=\" stroke:none;fill-rule:nonzero;fill:rgb(26.666667%,26.666667%,26.666667%);fill-opacity:1;\" d=\"M 232.753906 235.492188 L 226.460938 249.109375 L 219.660156 242.808594 L 232.753906 235.492188 \"/>\n",
       "<path style=\"fill:none;stroke-width:1;stroke-linecap:butt;stroke-linejoin:miter;stroke:rgb(26.666667%,26.666667%,26.666667%);stroke-opacity:1;stroke-miterlimit:10;\" d=\"M 409.957031 73.789062 L 435.445312 78.222656 \"/>\n",
       "<path style=\" stroke:none;fill-rule:nonzero;fill:rgb(26.666667%,26.666667%,26.666667%);fill-opacity:1;\" d=\"M 449.5 80.664062 L 434.648438 82.789062 L 436.238281 73.65625 L 449.5 80.664062 \"/>\n",
       "<path style=\"fill:none;stroke-width:1;stroke-linecap:butt;stroke-linejoin:miter;stroke:rgb(26.666667%,26.666667%,26.666667%);stroke-opacity:1;stroke-miterlimit:10;\" d=\"M 111.078125 303.351562 C 132.601562 310.453125 149.292969 286.347656 162.625 285.992188 \"/>\n",
       "<path style=\" stroke:none;fill-rule:nonzero;fill:rgb(26.666667%,26.666667%,26.666667%);fill-opacity:1;\" d=\"M 148.367188 286.371094 L 162.503906 281.355469 L 162.75 290.625 L 148.367188 286.371094 \"/>\n",
       "<path style=\"fill:none;stroke-width:1;stroke-linecap:butt;stroke-linejoin:miter;stroke:rgb(26.666667%,26.666667%,26.666667%);stroke-opacity:1;stroke-miterlimit:10;\" d=\"M 264.695312 197.242188 C 272.714844 209.535156 274.5 226.519531 262.390625 232.394531 \"/>\n",
       "<path style=\" stroke:none;fill-rule:nonzero;fill:rgb(26.666667%,26.666667%,26.666667%);fill-opacity:1;\" d=\"M 275.222656 226.167969 L 264.414062 236.566406 L 260.367188 228.226562 L 275.222656 226.167969 \"/>\n",
       "<path style=\"fill:none;stroke-width:1;stroke-linecap:butt;stroke-linejoin:miter;stroke:rgb(26.666667%,26.666667%,26.666667%);stroke-opacity:1;stroke-miterlimit:10;\" d=\"M 285.628906 221.121094 C 279.503906 241.316406 245.953125 256.015625 244.785156 251.078125 \"/>\n",
       "<path style=\" stroke:none;fill-rule:nonzero;fill:rgb(26.666667%,26.666667%,26.666667%);fill-opacity:1;\" d=\"M 241.503906 237.195312 L 249.296875 250.011719 L 240.273438 252.144531 L 241.503906 237.195312 \"/>\n",
       "<path style=\"fill:none;stroke-width:1;stroke-linecap:butt;stroke-linejoin:miter;stroke:rgb(26.666667%,26.666667%,26.666667%);stroke-opacity:1;stroke-miterlimit:10;\" d=\"M 510.402344 362.507812 C 498.148438 379.632812 471.0625 370.753906 462.214844 377.742188 \"/>\n",
       "<path style=\" stroke:none;fill-rule:nonzero;fill:rgb(26.666667%,26.666667%,26.666667%);fill-opacity:1;\" d=\"M 473.410156 368.902344 L 465.085938 381.382812 L 459.339844 374.105469 L 473.410156 368.902344 \"/>\n",
       "<path style=\"fill:none;stroke-width:1;stroke-linecap:butt;stroke-linejoin:miter;stroke:rgb(26.666667%,26.666667%,26.666667%);stroke-opacity:1;stroke-miterlimit:10;\" d=\"M 250.222656 375.007812 C 242.609375 378.894531 242.933594 392.679688 241.199219 393.4375 \"/>\n",
       "<path style=\" stroke:none;fill-rule:nonzero;fill:rgb(26.666667%,26.666667%,26.666667%);fill-opacity:1;\" d=\"M 228.125 399.140625 L 239.34375 389.1875 L 243.054688 397.683594 L 228.125 399.140625 \"/>\n",
       "<path style=\"fill:none;stroke-width:1;stroke-linecap:butt;stroke-linejoin:miter;stroke:rgb(26.666667%,26.666667%,26.666667%);stroke-opacity:1;stroke-miterlimit:10;\" d=\"M 336.035156 427.070312 L 354.9375 427.535156 \"/>\n",
       "<path style=\" stroke:none;fill-rule:nonzero;fill:rgb(26.666667%,26.666667%,26.666667%);fill-opacity:1;\" d=\"M 369.199219 427.886719 L 354.824219 432.167969 L 355.054688 422.902344 L 369.199219 427.886719 \"/>\n",
       "<path style=\"fill:none;stroke-width:1;stroke-linecap:butt;stroke-linejoin:miter;stroke:rgb(26.666667%,26.666667%,26.666667%);stroke-opacity:1;stroke-miterlimit:10;\" d=\"M 250.222656 375.007812 C 260.113281 356.769531 256.855469 324.992188 242.953125 325.75 \"/>\n",
       "<path style=\" stroke:none;fill-rule:nonzero;fill:rgb(26.666667%,26.666667%,26.666667%);fill-opacity:1;\" d=\"M 228.707031 326.523438 L 242.699219 321.121094 L 243.203125 330.378906 L 228.707031 326.523438 \"/>\n",
       "<path style=\"fill:none;stroke-width:1;stroke-linecap:butt;stroke-linejoin:miter;stroke:rgb(26.666667%,26.666667%,26.666667%);stroke-opacity:1;stroke-miterlimit:10;\" d=\"M 194.730469 300.25 C 212.195312 293.695312 239.03125 311.601562 237.699219 312.816406 \"/>\n",
       "<path style=\" stroke:none;fill-rule:nonzero;fill:rgb(26.666667%,26.666667%,26.666667%);fill-opacity:1;\" d=\"M 227.160156 322.433594 L 234.574219 309.394531 L 240.824219 316.242188 L 227.160156 322.433594 \"/>\n",
       "<path style=\"fill:none;stroke-width:1;stroke-linecap:butt;stroke-linejoin:miter;stroke:rgb(26.666667%,26.666667%,26.666667%);stroke-opacity:1;stroke-miterlimit:10;\" d=\"M 450.957031 189.734375 L 450.09375 209.828125 \"/>\n",
       "<path style=\" stroke:none;fill-rule:nonzero;fill:rgb(26.666667%,26.666667%,26.666667%);fill-opacity:1;\" d=\"M 449.480469 224.078125 L 445.460938 209.628906 L 454.722656 210.027344 L 449.480469 224.078125 \"/>\n",
       "<path style=\"fill:none;stroke-width:1;stroke-linecap:butt;stroke-linejoin:miter;stroke:rgb(26.666667%,26.666667%,26.666667%);stroke-opacity:1;stroke-miterlimit:10;\" d=\"M 336.035156 427.070312 C 335.746094 418.261719 330.269531 408.644531 322.804688 410.578125 \"/>\n",
       "<path style=\" stroke:none;fill-rule:nonzero;fill:rgb(26.666667%,26.666667%,26.666667%);fill-opacity:1;\" d=\"M 308.992188 414.152344 L 321.640625 406.089844 L 323.964844 415.0625 L 308.992188 414.152344 \"/>\n",
       "<path style=\"fill:none;stroke-width:1;stroke-linecap:butt;stroke-linejoin:miter;stroke:rgb(26.666667%,26.666667%,26.666667%);stroke-opacity:1;stroke-miterlimit:10;\" d=\"M 250.222656 375.007812 C 263.121094 389.109375 277.96875 391.570312 295.289062 383.507812 \"/>\n",
       "<path style=\" stroke:none;fill-rule:nonzero;fill:rgb(26.666667%,26.666667%,26.666667%);fill-opacity:1;\" d=\"M 282.355469 389.527344 L 293.332031 379.304688 L 297.242188 387.710938 L 282.355469 389.527344 \"/>\n",
       "<path style=\"fill:none;stroke-width:1;stroke-linecap:butt;stroke-linejoin:miter;stroke:rgb(26.666667%,26.666667%,26.666667%);stroke-opacity:1;stroke-miterlimit:10;\" d=\"M 178.132812 266.371094 C 185.171875 246.730469 209.003906 248.589844 219.933594 238.796875 \"/>\n",
       "<path style=\" stroke:none;fill-rule:nonzero;fill:rgb(26.666667%,26.666667%,26.666667%);fill-opacity:1;\" d=\"M 209.308594 248.316406 L 216.84375 235.34375 L 223.027344 242.25 L 209.308594 248.316406 \"/>\n",
       "<path style=\"fill:none;stroke-width:1;stroke-linecap:butt;stroke-linejoin:miter;stroke:rgb(26.666667%,26.666667%,26.666667%);stroke-opacity:1;stroke-miterlimit:10;\" d=\"M 113.125 404.308594 L 102.203125 393.679688 \"/>\n",
       "<path style=\" stroke:none;fill-rule:nonzero;fill:rgb(26.666667%,26.666667%,26.666667%);fill-opacity:1;\" d=\"M 91.980469 383.730469 L 105.4375 390.355469 L 98.972656 397 L 91.980469 383.730469 \"/>\n",
       "<path style=\"fill:none;stroke-width:1;stroke-linecap:butt;stroke-linejoin:miter;stroke:rgb(26.666667%,26.666667%,26.666667%);stroke-opacity:1;stroke-miterlimit:10;\" d=\"M 50.230469 438.507812 L 54.140625 444.328125 \"/>\n",
       "<path style=\" stroke:none;fill-rule:nonzero;fill:rgb(26.666667%,26.666667%,26.666667%);fill-opacity:1;\" d=\"M 62.09375 456.171875 L 50.292969 446.914062 L 57.988281 441.746094 L 62.09375 456.171875 \"/>\n",
       "<path style=\"fill:none;stroke-width:1;stroke-linecap:butt;stroke-linejoin:miter;stroke:rgb(26.666667%,26.666667%,26.666667%);stroke-opacity:1;stroke-miterlimit:10;\" d=\"M 336.035156 427.070312 C 351.453125 428.046875 362.746094 406.46875 367.046875 406.746094 \"/>\n",
       "<path style=\" stroke:none;fill-rule:nonzero;fill:rgb(26.666667%,26.666667%,26.666667%);fill-opacity:1;\" d=\"M 352.8125 405.828125 L 367.347656 402.121094 L 366.75 411.375 L 352.8125 405.828125 \"/>\n",
       "<path style=\"fill:none;stroke-width:1;stroke-linecap:butt;stroke-linejoin:miter;stroke:rgb(26.666667%,26.666667%,26.666667%);stroke-opacity:1;stroke-miterlimit:10;\" d=\"M 178.132812 266.371094 C 184.796875 275.65625 201.734375 281.46875 204.296875 274.605469 \"/>\n",
       "<path style=\" stroke:none;fill-rule:nonzero;fill:rgb(26.666667%,26.666667%,26.666667%);fill-opacity:1;\" d=\"M 199.308594 287.972656 L 199.953125 272.984375 L 208.636719 276.226562 L 199.308594 287.972656 \"/>\n",
       "<path style=\"fill:none;stroke-width:1;stroke-linecap:butt;stroke-linejoin:miter;stroke:rgb(26.666667%,26.666667%,26.666667%);stroke-opacity:1;stroke-miterlimit:10;\" d=\"M 194.730469 300.25 C 205.234375 289.738281 206.023438 264.523438 199.765625 264.941406 \"/>\n",
       "<path style=\" stroke:none;fill-rule:nonzero;fill:rgb(26.666667%,26.666667%,26.666667%);fill-opacity:1;\" d=\"M 185.53125 265.882812 L 199.457031 260.3125 L 200.070312 269.566406 L 185.53125 265.882812 \"/>\n",
       "<path style=\"fill:none;stroke-width:1;stroke-linecap:butt;stroke-linejoin:miter;stroke:rgb(26.666667%,26.666667%,26.666667%);stroke-opacity:1;stroke-miterlimit:10;\" d=\"M 382.953125 545.839844 L 363.246094 553.25 \"/>\n",
       "<path style=\" stroke:none;fill-rule:nonzero;fill:rgb(26.666667%,26.666667%,26.666667%);fill-opacity:1;\" d=\"M 349.894531 558.269531 L 361.617188 548.910156 L 364.878906 557.585938 L 349.894531 558.269531 \"/>\n",
       "<path style=\"fill:none;stroke-width:1;stroke-linecap:butt;stroke-linejoin:miter;stroke:rgb(26.666667%,26.666667%,26.666667%);stroke-opacity:1;stroke-miterlimit:10;\" d=\"M 288.765625 498.859375 C 306.371094 494.621094 314.21875 465.542969 316.46875 465.367188 \"/>\n",
       "<path style=\" stroke:none;fill-rule:nonzero;fill:rgb(26.666667%,26.666667%,26.666667%);fill-opacity:1;\" d=\"M 302.246094 466.472656 L 316.109375 460.746094 L 316.828125 469.988281 L 302.246094 466.472656 \"/>\n",
       "<path style=\"fill:none;stroke-width:1;stroke-linecap:butt;stroke-linejoin:miter;stroke:rgb(26.666667%,26.666667%,26.666667%);stroke-opacity:1;stroke-miterlimit:10;\" d=\"M 288.765625 498.859375 L 280.886719 511.75 \"/>\n",
       "<path style=\" stroke:none;fill-rule:nonzero;fill:rgb(26.666667%,26.666667%,26.666667%);fill-opacity:1;\" d=\"M 273.445312 523.921875 L 276.929688 509.335938 L 284.839844 514.167969 L 273.445312 523.921875 \"/>\n",
       "<path style=\"fill:none;stroke-width:1;stroke-linecap:butt;stroke-linejoin:miter;stroke:rgb(26.666667%,26.666667%,26.666667%);stroke-opacity:1;stroke-miterlimit:10;\" d=\"M 189.898438 222.527344 C 202.144531 220.433594 219.871094 231.34375 216.425781 236.144531 \"/>\n",
       "<path style=\" stroke:none;fill-rule:nonzero;fill:rgb(26.666667%,26.666667%,26.666667%);fill-opacity:1;\" d=\"M 208.113281 247.738281 L 212.660156 233.445312 L 220.191406 238.847656 L 208.113281 247.738281 \"/>\n",
       "<path style=\"fill:none;stroke-width:1;stroke-linecap:butt;stroke-linejoin:miter;stroke:rgb(26.666667%,26.666667%,26.666667%);stroke-opacity:1;stroke-miterlimit:10;\" d=\"M 404.589844 120.238281 L 415.757812 128.257812 \"/>\n",
       "<path style=\" stroke:none;fill-rule:nonzero;fill:rgb(26.666667%,26.666667%,26.666667%);fill-opacity:1;\" d=\"M 427.347656 136.574219 L 413.054688 132.019531 L 418.460938 124.492188 L 427.347656 136.574219 \"/>\n",
       "<path style=\"fill:none;stroke-width:1;stroke-linecap:butt;stroke-linejoin:miter;stroke:rgb(26.666667%,26.666667%,26.666667%);stroke-opacity:1;stroke-miterlimit:10;\" d=\"M 510.402344 362.507812 L 524.773438 379.472656 \"/>\n",
       "<path style=\" stroke:none;fill-rule:nonzero;fill:rgb(26.666667%,26.666667%,26.666667%);fill-opacity:1;\" d=\"M 533.992188 390.359375 L 521.234375 382.46875 L 528.308594 376.480469 L 533.992188 390.359375 \"/>\n",
       "<path style=\"fill:none;stroke-width:1;stroke-linecap:butt;stroke-linejoin:miter;stroke:rgb(26.666667%,26.666667%,26.666667%);stroke-opacity:1;stroke-miterlimit:10;\" d=\"M 413.398438 529.628906 L 467.121094 528.933594 \"/>\n",
       "<path style=\" stroke:none;fill-rule:nonzero;fill:rgb(26.666667%,26.666667%,26.666667%);fill-opacity:1;\" d=\"M 452.859375 529.117188 L 467.0625 524.296875 L 467.183594 533.566406 L 452.859375 529.117188 \"/>\n",
       "<path style=\"fill:none;stroke-width:1;stroke-linecap:butt;stroke-linejoin:miter;stroke:rgb(26.666667%,26.666667%,26.666667%);stroke-opacity:1;stroke-miterlimit:10;\" d=\"M 204.808594 252.34375 C 214.722656 259.046875 231.035156 260.339844 233.496094 250.9375 \"/>\n",
       "<path style=\" stroke:none;fill-rule:nonzero;fill:rgb(26.666667%,26.666667%,26.666667%);fill-opacity:1;\" d=\"M 237.101562 237.132812 L 237.980469 252.109375 L 229.011719 249.765625 L 237.101562 237.132812 \"/>\n",
       "<path style=\"fill:none;stroke-width:1;stroke-linecap:butt;stroke-linejoin:miter;stroke:rgb(26.666667%,26.666667%,26.666667%);stroke-opacity:1;stroke-miterlimit:10;\" d=\"M 239.40625 228.3125 C 247.226562 223.253906 257.453125 231.414062 261.707031 229.859375 \"/>\n",
       "<path style=\" stroke:none;fill-rule:nonzero;fill:rgb(26.666667%,26.666667%,26.666667%);fill-opacity:1;\" d=\"M 275.109375 224.964844 L 263.300781 234.214844 L 260.117188 225.507812 L 275.109375 224.964844 \"/>\n",
       "<path style=\"fill:none;stroke-width:1;stroke-linecap:butt;stroke-linejoin:miter;stroke:rgb(26.666667%,26.666667%,26.666667%);stroke-opacity:1;stroke-miterlimit:10;\" d=\"M 189.898438 222.527344 C 199.355469 216.894531 207.292969 224.195312 216.160156 225.332031 \"/>\n",
       "<path style=\" stroke:none;fill-rule:nonzero;fill:rgb(26.666667%,26.666667%,26.666667%);fill-opacity:1;\" d=\"M 230.308594 227.148438 L 215.570312 229.929688 L 216.75 220.734375 L 230.308594 227.148438 \"/>\n",
       "<path style=\"fill:none;stroke-width:1;stroke-linecap:butt;stroke-linejoin:miter;stroke:rgb(26.666667%,26.666667%,26.666667%);stroke-opacity:1;stroke-miterlimit:10;\" d=\"M 450.957031 189.734375 L 449.171875 180.46875 \"/>\n",
       "<path style=\" stroke:none;fill-rule:nonzero;fill:rgb(26.666667%,26.666667%,26.666667%);fill-opacity:1;\" d=\"M 446.472656 166.460938 L 453.722656 179.59375 L 444.617188 181.347656 L 446.472656 166.460938 \"/>\n",
       "<path style=\"fill:none;stroke-width:1;stroke-linecap:butt;stroke-linejoin:miter;stroke:rgb(26.666667%,26.666667%,26.666667%);stroke-opacity:1;stroke-miterlimit:10;\" d=\"M 301.550781 416.078125 L 297.34375 445.007812 \"/>\n",
       "<path style=\" stroke:none;fill-rule:nonzero;fill:rgb(26.666667%,26.666667%,26.666667%);fill-opacity:1;\" d=\"M 295.289062 459.125 L 292.757812 444.339844 L 301.929688 445.671875 L 295.289062 459.125 \"/>\n",
       "<path style=\"fill:none;stroke-width:1;stroke-linecap:butt;stroke-linejoin:miter;stroke:rgb(26.666667%,26.666667%,26.666667%);stroke-opacity:1;stroke-miterlimit:10;\" d=\"M 239.40625 228.3125 L 247.234375 234.132812 \"/>\n",
       "<path style=\" stroke:none;fill-rule:nonzero;fill:rgb(26.666667%,26.666667%,26.666667%);fill-opacity:1;\" d=\"M 258.683594 242.640625 L 244.46875 237.851562 L 250 230.410156 L 258.683594 242.640625 \"/>\n",
       "<path style=\"fill:none;stroke-width:1;stroke-linecap:butt;stroke-linejoin:miter;stroke:rgb(26.666667%,26.666667%,26.666667%);stroke-opacity:1;stroke-miterlimit:10;\" d=\"M 142.550781 286.527344 L 119.433594 282.597656 \"/>\n",
       "<path style=\" stroke:none;fill-rule:nonzero;fill:rgb(26.666667%,26.666667%,26.666667%);fill-opacity:1;\" d=\"M 105.367188 280.207031 L 120.210938 278.027344 L 118.65625 287.167969 L 105.367188 280.207031 \"/>\n",
       "<path style=\"fill:none;stroke-width:1;stroke-linecap:butt;stroke-linejoin:miter;stroke:rgb(26.666667%,26.666667%,26.666667%);stroke-opacity:1;stroke-miterlimit:10;\" d=\"M 222.292969 326.875 C 226.644531 344.753906 255.039062 359.347656 256.394531 354.941406 \"/>\n",
       "<path style=\" stroke:none;fill-rule:nonzero;fill:rgb(26.666667%,26.666667%,26.666667%);fill-opacity:1;\" d=\"M 252.199219 368.578125 L 251.960938 353.578125 L 260.824219 356.304688 L 252.199219 368.578125 \"/>\n",
       "<path style=\"fill:none;stroke-width:1;stroke-linecap:butt;stroke-linejoin:miter;stroke:rgb(26.666667%,26.666667%,26.666667%);stroke-opacity:1;stroke-miterlimit:10;\" d=\"M 285.628906 221.121094 C 283.402344 229.902344 287.410156 242.539062 293.996094 241.1875 \"/>\n",
       "<path style=\" stroke:none;fill-rule:nonzero;fill:rgb(26.666667%,26.666667%,26.666667%);fill-opacity:1;\" d=\"M 307.972656 238.324219 L 294.925781 245.730469 L 293.066406 236.648438 L 307.972656 238.324219 \"/>\n",
       "<path style=\"fill:none;stroke-width:1;stroke-linecap:butt;stroke-linejoin:miter;stroke:rgb(26.666667%,26.666667%,26.666667%);stroke-opacity:1;stroke-miterlimit:10;\" d=\"M 373.375 427.992188 L 362.4375 418.617188 \"/>\n",
       "<path style=\" stroke:none;fill-rule:nonzero;fill:rgb(26.666667%,26.666667%,26.666667%);fill-opacity:1;\" d=\"M 351.605469 409.332031 L 365.453125 415.097656 L 359.421875 422.132812 L 351.605469 409.332031 \"/>\n",
       "<path style=\"fill:none;stroke-width:1;stroke-linecap:butt;stroke-linejoin:miter;stroke:rgb(26.666667%,26.666667%,26.666667%);stroke-opacity:1;stroke-miterlimit:10;\" d=\"M 239.40625 228.3125 L 230.917969 247.554688 \"/>\n",
       "<path style=\" stroke:none;fill-rule:nonzero;fill:rgb(26.666667%,26.666667%,26.666667%);fill-opacity:1;\" d=\"M 225.160156 260.605469 L 226.679688 245.683594 L 235.160156 249.425781 L 225.160156 260.605469 \"/>\n",
       "<path style=\"fill:none;stroke-width:1;stroke-linecap:butt;stroke-linejoin:miter;stroke:rgb(26.666667%,26.666667%,26.666667%);stroke-opacity:1;stroke-miterlimit:10;\" d=\"M 523.605469 265.628906 L 518.992188 244.1875 \"/>\n",
       "<path style=\" stroke:none;fill-rule:nonzero;fill:rgb(26.666667%,26.666667%,26.666667%);fill-opacity:1;\" d=\"M 515.992188 230.242188 L 523.523438 243.214844 L 514.460938 245.164062 L 515.992188 230.242188 \"/>\n",
       "<path style=\"fill:none;stroke-width:1;stroke-linecap:butt;stroke-linejoin:miter;stroke:rgb(26.666667%,26.666667%,26.666667%);stroke-opacity:1;stroke-miterlimit:10;\" d=\"M 239.40625 228.3125 L 265.859375 256.980469 \"/>\n",
       "<path style=\" stroke:none;fill-rule:nonzero;fill:rgb(26.666667%,26.666667%,26.666667%);fill-opacity:1;\" d=\"M 275.53125 267.464844 L 262.453125 260.125 L 269.265625 253.835938 L 275.53125 267.464844 \"/>\n",
       "<path style=\"fill:none;stroke-width:1;stroke-linecap:butt;stroke-linejoin:miter;stroke:rgb(26.666667%,26.666667%,26.666667%);stroke-opacity:1;stroke-miterlimit:10;\" d=\"M 506.214844 323.382812 L 496.21875 339.632812 \"/>\n",
       "<path style=\" stroke:none;fill-rule:nonzero;fill:rgb(26.666667%,26.666667%,26.666667%);fill-opacity:1;\" d=\"M 488.742188 351.785156 L 492.269531 337.207031 L 500.167969 342.0625 L 488.742188 351.785156 \"/>\n",
       "<path style=\"fill:none;stroke-width:1;stroke-linecap:butt;stroke-linejoin:miter;stroke:rgb(26.666667%,26.666667%,26.666667%);stroke-opacity:1;stroke-miterlimit:10;\" d=\"M 508.332031 443.550781 L 507.121094 459.269531 \"/>\n",
       "<path style=\" stroke:none;fill-rule:nonzero;fill:rgb(26.666667%,26.666667%,26.666667%);fill-opacity:1;\" d=\"M 506.027344 473.492188 L 502.5 458.910156 L 511.746094 459.625 L 506.027344 473.492188 \"/>\n",
       "<path style=\"fill:none;stroke-width:1;stroke-linecap:butt;stroke-linejoin:miter;stroke:rgb(26.666667%,26.666667%,26.666667%);stroke-opacity:1;stroke-miterlimit:10;\" d=\"M 352.363281 83.910156 L 342.234375 68.851562 \"/>\n",
       "<path style=\" stroke:none;fill-rule:nonzero;fill:rgb(26.666667%,26.666667%,26.666667%);fill-opacity:1;\" d=\"M 334.273438 57.015625 L 346.082031 66.265625 L 338.386719 71.4375 L 334.273438 57.015625 \"/>\n",
       "<path style=\"fill:none;stroke-width:1;stroke-linecap:butt;stroke-linejoin:miter;stroke:rgb(26.666667%,26.666667%,26.666667%);stroke-opacity:1;stroke-miterlimit:10;\" d=\"M 189.898438 222.527344 L 157.648438 196.703125 \"/>\n",
       "<path style=\" stroke:none;fill-rule:nonzero;fill:rgb(26.666667%,26.666667%,26.666667%);fill-opacity:1;\" d=\"M 146.511719 187.785156 L 160.546875 193.085938 L 154.75 200.320312 L 146.511719 187.785156 \"/>\n",
       "<path style=\"fill:none;stroke-width:1;stroke-linecap:butt;stroke-linejoin:miter;stroke:rgb(26.666667%,26.666667%,26.666667%);stroke-opacity:1;stroke-miterlimit:10;\" d=\"M 21.726562 252.0625 L 24.753906 246.046875 \"/>\n",
       "<path style=\" stroke:none;fill-rule:nonzero;fill:rgb(26.666667%,26.666667%,26.666667%);fill-opacity:1;\" d=\"M 31.171875 233.304688 L 28.894531 248.132812 L 20.617188 243.960938 L 31.171875 233.304688 \"/>\n",
       "<path style=\"fill:none;stroke-width:1;stroke-linecap:butt;stroke-linejoin:miter;stroke:rgb(26.666667%,26.666667%,26.666667%);stroke-opacity:1;stroke-miterlimit:10;\" d=\"M 523.605469 265.628906 L 537.003906 240.042969 \"/>\n",
       "<path style=\" stroke:none;fill-rule:nonzero;fill:rgb(26.666667%,26.666667%,26.666667%);fill-opacity:1;\" d=\"M 543.621094 227.40625 L 541.109375 242.191406 L 532.898438 237.894531 L 543.621094 227.40625 \"/>\n",
       "<path style=\"fill:none;stroke-width:1;stroke-linecap:butt;stroke-linejoin:miter;stroke:rgb(26.666667%,26.666667%,26.666667%);stroke-opacity:1;stroke-miterlimit:10;\" d=\"M 142.550781 286.527344 L 199.605469 273.425781 \"/>\n",
       "<path style=\" stroke:none;fill-rule:nonzero;fill:rgb(26.666667%,26.666667%,26.666667%);fill-opacity:1;\" d=\"M 213.507812 270.234375 L 200.640625 277.945312 L 198.566406 268.90625 L 213.507812 270.234375 \"/>\n",
       "<path style=\"fill:none;stroke-width:1;stroke-linecap:butt;stroke-linejoin:miter;stroke:rgb(26.666667%,26.666667%,26.666667%);stroke-opacity:1;stroke-miterlimit:10;\" d=\"M 142.550781 286.527344 C 135.578125 286.527344 133.078125 295.097656 129.164062 296.566406 \"/>\n",
       "<path style=\" stroke:none;fill-rule:nonzero;fill:rgb(26.666667%,26.666667%,26.666667%);fill-opacity:1;\" d=\"M 115.808594 301.578125 L 127.539062 292.226562 L 130.792969 300.90625 L 115.808594 301.578125 \"/>\n",
       "<path style=\"fill:none;stroke-width:1;stroke-linecap:butt;stroke-linejoin:miter;stroke:rgb(26.666667%,26.666667%,26.666667%);stroke-opacity:1;stroke-miterlimit:10;\" d=\"M 204.808594 252.34375 C 203.257812 255.609375 199.683594 255.03125 197.128906 256.375 \"/>\n",
       "<path style=\" stroke:none;fill-rule:nonzero;fill:rgb(26.666667%,26.666667%,26.666667%);fill-opacity:1;\" d=\"M 184.503906 263.019531 L 194.96875 252.273438 L 199.285156 260.476562 L 184.503906 263.019531 \"/>\n",
       "<path style=\"fill:none;stroke-width:1;stroke-linecap:butt;stroke-linejoin:miter;stroke:rgb(26.666667%,26.666667%,26.666667%);stroke-opacity:1;stroke-miterlimit:10;\" d=\"M 205.148438 537.085938 L 215.539062 551.65625 \"/>\n",
       "<path style=\" stroke:none;fill-rule:nonzero;fill:rgb(26.666667%,26.666667%,26.666667%);fill-opacity:1;\" d=\"M 223.824219 563.269531 L 211.765625 554.347656 L 219.3125 548.964844 L 223.824219 563.269531 \"/>\n",
       "<path style=\"fill:none;stroke-width:1;stroke-linecap:butt;stroke-linejoin:miter;stroke:rgb(26.666667%,26.666667%,26.666667%);stroke-opacity:1;stroke-miterlimit:10;\" d=\"M 294.128906 467.101562 C 292 478.238281 299.359375 494.382812 306.074219 491.546875 \"/>\n",
       "<path style=\" stroke:none;fill-rule:nonzero;fill:rgb(26.666667%,26.666667%,26.666667%);fill-opacity:1;\" d=\"M 292.933594 497.101562 L 304.269531 487.277344 L 307.878906 495.816406 L 292.933594 497.101562 \"/>\n",
       "<path style=\"fill:none;stroke-width:1;stroke-linecap:butt;stroke-linejoin:miter;stroke:rgb(26.666667%,26.666667%,26.666667%);stroke-opacity:1;stroke-miterlimit:10;\" d=\"M 113.125 404.308594 L 127.808594 422.046875 \"/>\n",
       "<path style=\" stroke:none;fill-rule:nonzero;fill:rgb(26.666667%,26.666667%,26.666667%);fill-opacity:1;\" d=\"M 136.90625 433.039062 L 124.238281 425.003906 L 131.378906 419.09375 L 136.90625 433.039062 \"/>\n",
       "<path style=\"fill:none;stroke-width:1;stroke-linecap:butt;stroke-linejoin:miter;stroke:rgb(26.666667%,26.666667%,26.666667%);stroke-opacity:1;stroke-miterlimit:10;\" d=\"M 285.628906 221.121094 C 283.871094 244.75 263.71875 250.304688 248.230469 263.957031 \"/>\n",
       "<path style=\" stroke:none;fill-rule:nonzero;fill:rgb(26.666667%,26.666667%,26.666667%);fill-opacity:1;\" d=\"M 258.933594 254.523438 L 251.296875 267.433594 L 245.164062 260.476562 L 258.933594 254.523438 \"/>\n",
       "<path style=\"fill:none;stroke-width:1;stroke-linecap:butt;stroke-linejoin:miter;stroke:rgb(26.666667%,26.666667%,26.666667%);stroke-opacity:1;stroke-miterlimit:10;\" d=\"M 276.164062 392.410156 C 279.804688 383.957031 276.710938 369.824219 270.984375 370.945312 \"/>\n",
       "<path style=\" stroke:none;fill-rule:nonzero;fill:rgb(26.666667%,26.666667%,26.666667%);fill-opacity:1;\" d=\"M 256.984375 373.683594 L 270.09375 366.394531 L 271.875 375.492188 L 256.984375 373.683594 \"/>\n",
       "<path style=\"fill:none;stroke-width:1;stroke-linecap:butt;stroke-linejoin:miter;stroke:rgb(26.666667%,26.666667%,26.666667%);stroke-opacity:1;stroke-miterlimit:10;\" d=\"M 160.519531 71.539062 L 177.722656 63.949219 \"/>\n",
       "<path style=\" stroke:none;fill-rule:nonzero;fill:rgb(26.666667%,26.666667%,26.666667%);fill-opacity:1;\" d=\"M 190.777344 58.191406 L 179.59375 68.191406 L 175.851562 59.707031 L 190.777344 58.191406 \"/>\n",
       "<path style=\"fill:none;stroke-width:1;stroke-linecap:butt;stroke-linejoin:miter;stroke:rgb(26.666667%,26.666667%,26.666667%);stroke-opacity:1;stroke-miterlimit:10;\" d=\"M 301.550781 416.078125 L 327.40625 410.050781 \"/>\n",
       "<path style=\" stroke:none;fill-rule:nonzero;fill:rgb(26.666667%,26.666667%,26.666667%);fill-opacity:1;\" d=\"M 341.296875 406.8125 L 328.457031 414.5625 L 326.351562 405.535156 L 341.296875 406.8125 \"/>\n",
       "<path style=\"fill:none;stroke-width:1;stroke-linecap:butt;stroke-linejoin:miter;stroke:rgb(26.666667%,26.666667%,26.666667%);stroke-opacity:1;stroke-miterlimit:10;\" d=\"M 239.40625 228.3125 L 220.585938 203.988281 \"/>\n",
       "<path style=\" stroke:none;fill-rule:nonzero;fill:rgb(26.666667%,26.666667%,26.666667%);fill-opacity:1;\" d=\"M 211.855469 192.707031 L 224.25 201.152344 L 216.917969 206.824219 L 211.855469 192.707031 \"/>\n",
       "<path style=\"fill:none;stroke-width:1;stroke-linecap:butt;stroke-linejoin:miter;stroke:rgb(26.666667%,26.666667%,26.666667%);stroke-opacity:1;stroke-miterlimit:10;\" d=\"M 160.519531 71.539062 L 143.6875 79.457031 \"/>\n",
       "<path style=\" stroke:none;fill-rule:nonzero;fill:rgb(26.666667%,26.666667%,26.666667%);fill-opacity:1;\" d=\"M 130.78125 85.53125 L 141.714844 75.261719 L 145.664062 83.652344 L 130.78125 85.53125 \"/>\n",
       "<path style=\"fill:none;stroke-width:1;stroke-linecap:butt;stroke-linejoin:miter;stroke:rgb(26.666667%,26.666667%,26.666667%);stroke-opacity:1;stroke-miterlimit:10;\" d=\"M 313.917969 237.109375 L 348.121094 206.097656 \"/>\n",
       "<path style=\" stroke:none;fill-rule:nonzero;fill:rgb(26.666667%,26.666667%,26.666667%);fill-opacity:1;\" d=\"M 337.554688 215.679688 L 345.007812 202.660156 L 351.234375 209.53125 L 337.554688 215.679688 \"/>\n",
       "<path style=\"fill:none;stroke-width:1;stroke-linecap:butt;stroke-linejoin:miter;stroke:rgb(26.666667%,26.666667%,26.666667%);stroke-opacity:1;stroke-miterlimit:10;\" d=\"M 144.265625 185.984375 L 128.609375 167.390625 \"/>\n",
       "<path style=\" stroke:none;fill-rule:nonzero;fill:rgb(26.666667%,26.666667%,26.666667%);fill-opacity:1;\" d=\"M 119.417969 156.476562 L 132.152344 164.402344 L 125.0625 170.375 L 119.417969 156.476562 \"/>\n",
       "<path style=\"fill:none;stroke-width:1;stroke-linecap:butt;stroke-linejoin:miter;stroke:rgb(26.666667%,26.666667%,26.666667%);stroke-opacity:1;stroke-miterlimit:10;\" d=\"M 352.363281 83.910156 L 317.007812 72.941406 \"/>\n",
       "<path style=\" stroke:none;fill-rule:nonzero;fill:rgb(26.666667%,26.666667%,26.666667%);fill-opacity:1;\" d=\"M 303.382812 68.710938 L 318.382812 68.511719 L 315.636719 77.367188 L 303.382812 68.710938 \"/>\n",
       "<path style=\"fill:none;stroke-width:1;stroke-linecap:butt;stroke-linejoin:miter;stroke:rgb(26.666667%,26.666667%,26.666667%);stroke-opacity:1;stroke-miterlimit:10;\" d=\"M 285.628906 221.121094 L 351.988281 214.863281 \"/>\n",
       "<path style=\" stroke:none;fill-rule:nonzero;fill:rgb(26.666667%,26.666667%,26.666667%);fill-opacity:1;\" d=\"M 337.785156 216.203125 L 351.550781 210.25 L 352.421875 219.476562 L 337.785156 216.203125 \"/>\n",
       "<path style=\"fill:none;stroke-width:1;stroke-linecap:butt;stroke-linejoin:miter;stroke:rgb(26.666667%,26.666667%,26.666667%);stroke-opacity:1;stroke-miterlimit:10;\" d=\"M 382.953125 545.839844 L 386.496094 560.71875 \"/>\n",
       "<path style=\" stroke:none;fill-rule:nonzero;fill:rgb(26.666667%,26.666667%,26.666667%);fill-opacity:1;\" d=\"M 389.796875 574.597656 L 381.984375 561.792969 L 391.003906 559.644531 L 389.796875 574.597656 \"/>\n",
       "<path style=\"fill:none;stroke-width:1;stroke-linecap:butt;stroke-linejoin:miter;stroke:rgb(26.666667%,26.666667%,26.666667%);stroke-opacity:1;stroke-miterlimit:10;\" d=\"M 482.75 361.527344 L 463.96875 371.757812 \"/>\n",
       "<path style=\" stroke:none;fill-rule:nonzero;fill:rgb(26.666667%,26.666667%,26.666667%);fill-opacity:1;\" d=\"M 451.445312 378.585938 L 461.753906 367.6875 L 466.1875 375.828125 L 451.445312 378.585938 \"/>\n",
       "<path style=\"fill:none;stroke-width:1;stroke-linecap:butt;stroke-linejoin:miter;stroke:rgb(26.666667%,26.666667%,26.666667%);stroke-opacity:1;stroke-miterlimit:10;\" d=\"M 194.730469 300.25 L 200.671875 272.003906 \"/>\n",
       "<path style=\" stroke:none;fill-rule:nonzero;fill:rgb(26.666667%,26.666667%,26.666667%);fill-opacity:1;\" d=\"M 203.609375 258.042969 L 205.210938 272.957031 L 196.136719 271.046875 L 203.609375 258.042969 \"/>\n",
       "<path style=\"fill:none;stroke-width:1;stroke-linecap:butt;stroke-linejoin:miter;stroke:rgb(26.666667%,26.666667%,26.666667%);stroke-opacity:1;stroke-miterlimit:10;\" d=\"M 33.191406 408.386719 L 37.003906 415.128906 \"/>\n",
       "<path style=\" stroke:none;fill-rule:nonzero;fill:rgb(26.666667%,26.666667%,26.666667%);fill-opacity:1;\" d=\"M 44.027344 427.546875 L 32.96875 417.410156 L 41.039062 412.847656 L 44.027344 427.546875 \"/>\n",
       "<path style=\"fill:none;stroke-width:1;stroke-linecap:butt;stroke-linejoin:miter;stroke:rgb(26.666667%,26.666667%,26.666667%);stroke-opacity:1;stroke-miterlimit:10;\" d=\"M 205.148438 537.085938 L 196.777344 536.484375 \"/>\n",
       "<path style=\" stroke:none;fill-rule:nonzero;fill:rgb(26.666667%,26.666667%,26.666667%);fill-opacity:1;\" d=\"M 182.546875 535.460938 L 197.109375 531.863281 L 196.445312 541.109375 L 182.546875 535.460938 \"/>\n",
       "<path style=\"fill:none;stroke-width:1;stroke-linecap:butt;stroke-linejoin:miter;stroke:rgb(26.666667%,26.666667%,26.666667%);stroke-opacity:1;stroke-miterlimit:10;\" d=\"M 510.402344 362.507812 C 496.003906 360.675781 480.117188 342.023438 485.394531 338.257812 \"/>\n",
       "<path style=\" stroke:none;fill-rule:nonzero;fill:rgb(26.666667%,26.666667%,26.666667%);fill-opacity:1;\" d=\"M 497.003906 329.964844 L 488.089844 342.027344 L 482.699219 334.484375 L 497.003906 329.964844 \"/>\n",
       "<path style=\"fill:none;stroke-width:1;stroke-linecap:butt;stroke-linejoin:miter;stroke:rgb(26.666667%,26.666667%,26.666667%);stroke-opacity:1;stroke-miterlimit:10;\" d=\"M 514.144531 221.667969 L 523.101562 204.839844 \"/>\n",
       "<path style=\" stroke:none;fill-rule:nonzero;fill:rgb(26.666667%,26.666667%,26.666667%);fill-opacity:1;\" d=\"M 529.804688 192.246094 L 527.191406 207.019531 L 519.007812 202.664062 L 529.804688 192.246094 \"/>\n",
       "<path style=\"fill:none;stroke-width:1;stroke-linecap:butt;stroke-linejoin:miter;stroke:rgb(26.666667%,26.666667%,26.666667%);stroke-opacity:1;stroke-miterlimit:10;\" d=\"M 382.953125 545.839844 C 405.003906 553.730469 422.585938 529.472656 436.648438 529.238281 \"/>\n",
       "<path style=\" stroke:none;fill-rule:nonzero;fill:rgb(26.666667%,26.666667%,26.666667%);fill-opacity:1;\" d=\"M 422.382812 529.476562 L 436.570312 524.601562 L 436.726562 533.871094 L 422.382812 529.476562 \"/>\n",
       "<path style=\"fill:none;stroke-width:1;stroke-linecap:butt;stroke-linejoin:miter;stroke:rgb(26.666667%,26.666667%,26.666667%);stroke-opacity:1;stroke-miterlimit:10;\" d=\"M 372.503906 103.523438 C 357.269531 113.167969 332.792969 97.691406 329.367188 100.105469 \"/>\n",
       "<path style=\" stroke:none;fill-rule:nonzero;fill:rgb(26.666667%,26.666667%,26.666667%);fill-opacity:1;\" d=\"M 341.03125 91.890625 L 332.035156 103.894531 L 326.699219 96.3125 L 341.03125 91.890625 \"/>\n",
       "<path style=\"fill:none;stroke-width:1;stroke-linecap:butt;stroke-linejoin:miter;stroke:rgb(26.666667%,26.666667%,26.666667%);stroke-opacity:1;stroke-miterlimit:10;\" d=\"M 506.214844 323.382812 C 513.738281 344.175781 509.660156 362.945312 490.710938 374.140625 \"/>\n",
       "<path style=\" stroke:none;fill-rule:nonzero;fill:rgb(26.666667%,26.666667%,26.666667%);fill-opacity:1;\" d=\"M 502.992188 366.882812 L 493.070312 378.128906 L 488.355469 370.148438 L 502.992188 366.882812 \"/>\n",
       "<path style=\"fill:none;stroke-width:1;stroke-linecap:butt;stroke-linejoin:miter;stroke:rgb(26.666667%,26.666667%,26.666667%);stroke-opacity:1;stroke-miterlimit:10;\" d=\"M 149.679688 557.714844 L 154.882812 552.386719 \"/>\n",
       "<path style=\" stroke:none;fill-rule:nonzero;fill:rgb(26.666667%,26.666667%,26.666667%);fill-opacity:1;\" d=\"M 164.851562 542.179688 L 158.199219 555.625 L 151.566406 549.148438 L 164.851562 542.179688 \"/>\n",
       "<path style=\"fill:none;stroke-width:1;stroke-linecap:butt;stroke-linejoin:miter;stroke:rgb(26.666667%,26.666667%,26.666667%);stroke-opacity:1;stroke-miterlimit:10;\" d=\"M 239.40625 228.3125 C 226.613281 233.363281 214.019531 218.519531 207.570312 219.589844 \"/>\n",
       "<path style=\" stroke:none;fill-rule:nonzero;fill:rgb(26.666667%,26.666667%,26.666667%);fill-opacity:1;\" d=\"M 193.5 221.929688 L 206.8125 215.019531 L 208.332031 224.164062 L 193.5 221.929688 \"/>\n",
       "<path style=\"fill:none;stroke-width:1;stroke-linecap:butt;stroke-linejoin:miter;stroke:rgb(26.666667%,26.666667%,26.666667%);stroke-opacity:1;stroke-miterlimit:10;\" d=\"M 312.835938 580 L 325.476562 572.019531 \"/>\n",
       "<path style=\" stroke:none;fill-rule:nonzero;fill:rgb(26.666667%,26.666667%,26.666667%);fill-opacity:1;\" d=\"M 337.539062 564.40625 L 327.949219 575.941406 L 323 568.101562 L 337.539062 564.40625 \"/>\n",
       "<path style=\"fill:none;stroke-width:1;stroke-linecap:butt;stroke-linejoin:miter;stroke:rgb(26.666667%,26.666667%,26.666667%);stroke-opacity:1;stroke-miterlimit:10;\" d=\"M 438.25 417.734375 L 441.5 402.054688 \"/>\n",
       "<path style=\" stroke:none;fill-rule:nonzero;fill:rgb(26.666667%,26.666667%,26.666667%);fill-opacity:1;\" d=\"M 444.394531 388.085938 L 446.039062 402.996094 L 436.960938 401.117188 L 444.394531 388.085938 \"/>\n",
       "<path style=\"fill:none;stroke-width:1;stroke-linecap:butt;stroke-linejoin:miter;stroke:rgb(26.666667%,26.666667%,26.666667%);stroke-opacity:1;stroke-miterlimit:10;\" d=\"M 204.808594 252.34375 C 196.105469 239.753906 193.78125 220.886719 206.230469 215.636719 \"/>\n",
       "<path style=\" stroke:none;fill-rule:nonzero;fill:rgb(26.666667%,26.666667%,26.666667%);fill-opacity:1;\" d=\"M 193.085938 221.179688 L 204.429688 211.363281 L 208.03125 219.90625 L 193.085938 221.179688 \"/>\n",
       "<path style=\"fill:none;stroke-width:1;stroke-linecap:butt;stroke-linejoin:miter;stroke:rgb(26.666667%,26.666667%,26.666667%);stroke-opacity:1;stroke-miterlimit:10;\" d=\"M 352.363281 83.910156 L 390.277344 77.25 \"/>\n",
       "<path style=\" stroke:none;fill-rule:nonzero;fill:rgb(26.666667%,26.666667%,26.666667%);fill-opacity:1;\" d=\"M 404.328125 74.78125 L 391.082031 81.8125 L 389.476562 72.683594 L 404.328125 74.78125 \"/>\n",
       "<path style=\"fill:none;stroke-width:1;stroke-linecap:butt;stroke-linejoin:miter;stroke:rgb(26.666667%,26.666667%,26.666667%);stroke-opacity:1;stroke-miterlimit:10;\" d=\"M 266.132812 248.179688 C 255.5 242.46875 246.007812 243.96875 237.492188 252.523438 \"/>\n",
       "<path style=\" stroke:none;fill-rule:nonzero;fill:rgb(26.666667%,26.666667%,26.666667%);fill-opacity:1;\" d=\"M 227.429688 262.632812 L 234.207031 249.253906 L 240.777344 255.792969 L 227.429688 262.632812 \"/>\n",
       "<path style=\"fill:none;stroke-width:1;stroke-linecap:butt;stroke-linejoin:miter;stroke:rgb(26.666667%,26.666667%,26.666667%);stroke-opacity:1;stroke-miterlimit:10;\" d=\"M 482.75 361.527344 C 488.371094 363.546875 493.4375 371.933594 490.628906 373.496094 \"/>\n",
       "<path style=\" stroke:none;fill-rule:nonzero;fill:rgb(26.666667%,26.666667%,26.666667%);fill-opacity:1;\" d=\"M 503.097656 366.566406 L 492.878906 377.546875 L 488.375 369.445312 L 503.097656 366.566406 \"/>\n",
       "<path style=\"fill:none;stroke-width:1;stroke-linecap:butt;stroke-linejoin:miter;stroke:rgb(26.666667%,26.666667%,26.666667%);stroke-opacity:1;stroke-miterlimit:10;\" d=\"M 266.132812 248.179688 C 261.738281 244.121094 259.222656 236.59375 263.542969 234.066406 \"/>\n",
       "<path style=\" stroke:none;fill-rule:nonzero;fill:rgb(26.666667%,26.666667%,26.666667%);fill-opacity:1;\" d=\"M 275.847656 226.851562 L 265.886719 238.0625 L 261.199219 230.066406 L 275.847656 226.851562 \"/>\n",
       "<path style=\"fill:none;stroke-width:1;stroke-linecap:butt;stroke-linejoin:miter;stroke:rgb(26.666667%,26.666667%,26.666667%);stroke-opacity:1;stroke-miterlimit:10;\" d=\"M 352.363281 83.910156 C 361.066406 92.433594 365.757812 107.511719 356.796875 112.808594 \"/>\n",
       "<path style=\" stroke:none;fill-rule:nonzero;fill:rgb(26.666667%,26.666667%,26.666667%);fill-opacity:1;\" d=\"M 369.078125 105.550781 L 359.15625 116.796875 L 354.4375 108.816406 L 369.078125 105.550781 \"/>\n",
       "<path style=\"fill:none;stroke-width:1;stroke-linecap:butt;stroke-linejoin:miter;stroke:rgb(26.666667%,26.666667%,26.666667%);stroke-opacity:1;stroke-miterlimit:10;\" d=\"M 221.75 268.339844 C 232.410156 276.207031 246.914062 278.589844 253.550781 268.089844 \"/>\n",
       "<path style=\" stroke:none;fill-rule:nonzero;fill:rgb(26.666667%,26.666667%,26.666667%);fill-opacity:1;\" d=\"M 261.171875 256.03125 L 257.46875 270.566406 L 249.628906 265.613281 L 261.171875 256.03125 \"/>\n",
       "<path style=\"fill:none;stroke-width:1;stroke-linecap:butt;stroke-linejoin:miter;stroke:rgb(26.666667%,26.666667%,26.666667%);stroke-opacity:1;stroke-miterlimit:10;\" d=\"M 225.675781 400.210938 C 247.160156 403.265625 262.496094 375.082031 271.324219 375.136719 \"/>\n",
       "<path style=\" stroke:none;fill-rule:nonzero;fill:rgb(26.666667%,26.666667%,26.666667%);fill-opacity:1;\" d=\"M 257.058594 375.050781 L 271.351562 370.503906 L 271.296875 379.773438 L 257.058594 375.050781 \"/>\n",
       "<path style=\"fill:none;stroke-width:1;stroke-linecap:butt;stroke-linejoin:miter;stroke:rgb(26.666667%,26.666667%,26.666667%);stroke-opacity:1;stroke-miterlimit:10;\" d=\"M 316.1875 20 L 319.007812 26.476562 \"/>\n",
       "<path style=\" stroke:none;fill-rule:nonzero;fill:rgb(26.666667%,26.666667%,26.666667%);fill-opacity:1;\" d=\"M 324.703125 39.558594 L 314.757812 28.328125 L 323.257812 24.628906 L 324.703125 39.558594 \"/>\n",
       "<path style=\"fill:none;stroke-width:1;stroke-linecap:butt;stroke-linejoin:miter;stroke:rgb(26.666667%,26.666667%,26.666667%);stroke-opacity:1;stroke-miterlimit:10;\" d=\"M 276.164062 392.410156 L 285.539062 401.148438 \"/>\n",
       "<path style=\" stroke:none;fill-rule:nonzero;fill:rgb(26.666667%,26.666667%,26.666667%);fill-opacity:1;\" d=\"M 295.972656 410.875 L 282.378906 404.539062 L 288.699219 397.757812 L 295.972656 410.875 \"/>\n",
       "<path style=\"fill:none;stroke-width:1;stroke-linecap:butt;stroke-linejoin:miter;stroke:rgb(26.666667%,26.666667%,26.666667%);stroke-opacity:1;stroke-miterlimit:10;\" d=\"M 352.292969 39.007812 L 351.128906 39.484375 \"/>\n",
       "<path style=\" stroke:none;fill-rule:nonzero;fill:rgb(26.666667%,26.666667%,26.666667%);fill-opacity:1;\" d=\"M 337.9375 44.917969 L 349.363281 35.199219 L 352.894531 43.773438 L 337.9375 44.917969 \"/>\n",
       "<path style=\"fill:none;stroke-width:1;stroke-linecap:butt;stroke-linejoin:miter;stroke:rgb(26.666667%,26.666667%,26.666667%);stroke-opacity:1;stroke-miterlimit:10;\" d=\"M 70.722656 469.019531 L 76.679688 477.371094 \"/>\n",
       "<path style=\" stroke:none;fill-rule:nonzero;fill:rgb(26.666667%,26.666667%,26.666667%);fill-opacity:1;\" d=\"M 84.96875 488.984375 L 72.910156 480.0625 L 80.453125 474.675781 L 84.96875 488.984375 \"/>\n",
       "<path style=\"fill:none;stroke-width:1;stroke-linecap:butt;stroke-linejoin:miter;stroke:rgb(26.666667%,26.666667%,26.666667%);stroke-opacity:1;stroke-miterlimit:10;\" d=\"M 352.363281 83.910156 L 319.105469 91.78125 \"/>\n",
       "<path style=\" stroke:none;fill-rule:nonzero;fill:rgb(26.666667%,26.666667%,26.666667%);fill-opacity:1;\" d=\"M 305.222656 95.066406 L 318.039062 87.269531 L 320.175781 96.292969 L 305.222656 95.066406 \"/>\n",
       "<path style=\"fill:none;stroke-width:1;stroke-linecap:butt;stroke-linejoin:miter;stroke:rgb(26.666667%,26.666667%,26.666667%);stroke-opacity:1;stroke-miterlimit:10;\" d=\"M 301.550781 416.078125 L 266.484375 388.019531 \"/>\n",
       "<path style=\" stroke:none;fill-rule:nonzero;fill:rgb(26.666667%,26.666667%,26.666667%);fill-opacity:1;\" d=\"M 255.347656 379.109375 L 269.382812 384.402344 L 263.589844 391.640625 L 255.347656 379.109375 \"/>\n",
       "<path style=\"fill:none;stroke-width:1;stroke-linecap:butt;stroke-linejoin:miter;stroke:rgb(26.666667%,26.666667%,26.666667%);stroke-opacity:1;stroke-miterlimit:10;\" d=\"M 545.945312 222.964844 L 538.875 205.644531 \"/>\n",
       "<path style=\" stroke:none;fill-rule:nonzero;fill:rgb(26.666667%,26.666667%,26.666667%);fill-opacity:1;\" d=\"M 533.484375 192.433594 L 543.167969 203.890625 L 534.585938 207.394531 L 533.484375 192.433594 \"/>\n",
       "<path style=\"fill:none;stroke-width:1;stroke-linecap:butt;stroke-linejoin:miter;stroke:rgb(26.666667%,26.666667%,26.666667%);stroke-opacity:1;stroke-miterlimit:10;\" d=\"M 137.960938 434.3125 L 151.722656 454.125 \"/>\n",
       "<path style=\" stroke:none;fill-rule:nonzero;fill:rgb(26.666667%,26.666667%,26.666667%);fill-opacity:1;\" d=\"M 159.863281 465.839844 L 147.917969 456.769531 L 155.53125 451.480469 L 159.863281 465.839844 \"/>\n",
       "<path style=\"fill:none;stroke-width:1;stroke-linecap:butt;stroke-linejoin:miter;stroke:rgb(26.666667%,26.666667%,26.666667%);stroke-opacity:1;stroke-miterlimit:10;\" d=\"M 204.808594 252.34375 L 217.515625 306.503906 \"/>\n",
       "<path style=\" stroke:none;fill-rule:nonzero;fill:rgb(26.666667%,26.666667%,26.666667%);fill-opacity:1;\" d=\"M 220.773438 320.390625 L 213 307.5625 L 222.027344 305.445312 L 220.773438 320.390625 \"/>\n",
       "<path style=\"fill:none;stroke-width:1;stroke-linecap:butt;stroke-linejoin:miter;stroke:rgb(26.666667%,26.666667%,26.666667%);stroke-opacity:1;stroke-miterlimit:10;\" d=\"M 222.292969 326.875 C 211.429688 314.734375 206.484375 294.257812 218.914062 287.925781 \"/>\n",
       "<path style=\" stroke:none;fill-rule:nonzero;fill:rgb(26.666667%,26.666667%,26.666667%);fill-opacity:1;\" d=\"M 206.203125 294.402344 L 216.808594 283.796875 L 221.015625 292.054688 L 206.203125 294.402344 \"/>\n",
       "<path style=\"fill:none;stroke-width:1;stroke-linecap:butt;stroke-linejoin:miter;stroke:rgb(26.666667%,26.666667%,26.666667%);stroke-opacity:1;stroke-miterlimit:10;\" d=\"M 285.628906 221.121094 C 271.738281 225.183594 250.875 211.160156 253.105469 208.910156 \"/>\n",
       "<path style=\" stroke:none;fill-rule:nonzero;fill:rgb(26.666667%,26.666667%,26.666667%);fill-opacity:1;\" d=\"M 263.160156 198.789062 L 256.394531 212.179688 L 249.816406 205.644531 L 263.160156 198.789062 \"/>\n",
       "<path style=\"fill:none;stroke-width:1;stroke-linecap:butt;stroke-linejoin:miter;stroke:rgb(26.666667%,26.666667%,26.666667%);stroke-opacity:1;stroke-miterlimit:10;\" d=\"M 65.78125 140.789062 L 61.808594 150.394531 \"/>\n",
       "<path style=\" stroke:none;fill-rule:nonzero;fill:rgb(26.666667%,26.666667%,26.666667%);fill-opacity:1;\" d=\"M 56.351562 163.574219 L 57.523438 148.621094 L 66.089844 152.167969 L 56.351562 163.574219 \"/>\n",
       "<path style=\"fill:none;stroke-width:1;stroke-linecap:butt;stroke-linejoin:miter;stroke:rgb(26.666667%,26.666667%,26.666667%);stroke-opacity:1;stroke-miterlimit:10;\" d=\"M 579.933594 350.859375 L 579.957031 340.65625 \"/>\n",
       "<path style=\" stroke:none;fill-rule:nonzero;fill:rgb(26.666667%,26.666667%,26.666667%);fill-opacity:1;\" d=\"M 579.984375 326.390625 L 584.589844 340.664062 L 575.320312 340.644531 L 579.984375 326.390625 \"/>\n",
       "<path style=\"fill:none;stroke-width:1;stroke-linecap:butt;stroke-linejoin:miter;stroke:rgb(26.666667%,26.666667%,26.666667%);stroke-opacity:1;stroke-miterlimit:10;\" d=\"M 352.292969 39.007812 L 334.398438 29.585938 \"/>\n",
       "<path style=\" stroke:none;fill-rule:nonzero;fill:rgb(26.666667%,26.666667%,26.666667%);fill-opacity:1;\" d=\"M 321.773438 22.941406 L 336.554688 25.484375 L 332.238281 33.6875 L 321.773438 22.941406 \"/>\n",
       "<path style=\"fill:none;stroke-width:1;stroke-linecap:butt;stroke-linejoin:miter;stroke:rgb(26.666667%,26.666667%,26.666667%);stroke-opacity:1;stroke-miterlimit:10;\" d=\"M 404.589844 120.238281 L 375.296875 99.863281 \"/>\n",
       "<path style=\" stroke:none;fill-rule:nonzero;fill:rgb(26.666667%,26.666667%,26.666667%);fill-opacity:1;\" d=\"M 363.585938 91.71875 L 377.945312 96.058594 L 372.652344 103.671875 L 363.585938 91.71875 \"/>\n",
       "<path style=\"fill:none;stroke-width:1;stroke-linecap:butt;stroke-linejoin:miter;stroke:rgb(26.666667%,26.666667%,26.666667%);stroke-opacity:1;stroke-miterlimit:10;\" d=\"M 181.578125 502.414062 L 168.585938 480.414062 \"/>\n",
       "<path style=\" stroke:none;fill-rule:nonzero;fill:rgb(26.666667%,26.666667%,26.666667%);fill-opacity:1;\" d=\"M 161.332031 468.132812 L 172.578125 478.058594 L 164.59375 482.773438 L 161.332031 468.132812 \"/>\n",
       "<path style=\"fill:none;stroke-width:1;stroke-linecap:butt;stroke-linejoin:miter;stroke:rgb(26.666667%,26.666667%,26.666667%);stroke-opacity:1;stroke-miterlimit:10;\" d=\"M 239.40625 228.3125 C 237.058594 217.863281 240.433594 209.78125 249.945312 204.867188 \"/>\n",
       "<path style=\" stroke:none;fill-rule:nonzero;fill:rgb(26.666667%,26.666667%,26.666667%);fill-opacity:1;\" d=\"M 262.617188 198.316406 L 252.070312 208.984375 L 247.816406 200.746094 L 262.617188 198.316406 \"/>\n",
       "<path style=\"fill:none;stroke-width:1;stroke-linecap:butt;stroke-linejoin:miter;stroke:rgb(26.666667%,26.666667%,26.666667%);stroke-opacity:1;stroke-miterlimit:10;\" d=\"M 205.148438 537.085938 L 193.390625 519.789062 \"/>\n",
       "<path style=\" stroke:none;fill-rule:nonzero;fill:rgb(26.666667%,26.666667%,26.666667%);fill-opacity:1;\" d=\"M 185.371094 507.992188 L 197.222656 517.183594 L 189.554688 522.394531 L 185.371094 507.992188 \"/>\n",
       "<path style=\"fill:none;stroke-width:1;stroke-linecap:butt;stroke-linejoin:miter;stroke:rgb(26.666667%,26.666667%,26.666667%);stroke-opacity:1;stroke-miterlimit:10;\" d=\"M 352.363281 83.910156 L 339.78125 103.683594 \"/>\n",
       "<path style=\" stroke:none;fill-rule:nonzero;fill:rgb(26.666667%,26.666667%,26.666667%);fill-opacity:1;\" d=\"M 332.125 115.71875 L 335.871094 101.195312 L 343.695312 106.171875 L 332.125 115.71875 \"/>\n",
       "<path style=\"fill:none;stroke-width:1;stroke-linecap:butt;stroke-linejoin:miter;stroke:rgb(26.666667%,26.666667%,26.666667%);stroke-opacity:1;stroke-miterlimit:10;\" d=\"M 438.554688 273.265625 L 442.175781 260.132812 \"/>\n",
       "<path style=\" stroke:none;fill-rule:nonzero;fill:rgb(26.666667%,26.666667%,26.666667%);fill-opacity:1;\" d=\"M 445.972656 246.378906 L 446.644531 261.367188 L 437.710938 258.898438 L 445.972656 246.378906 \"/>\n",
       "<path style=\"fill:none;stroke-width:1;stroke-linecap:butt;stroke-linejoin:miter;stroke:rgb(26.666667%,26.666667%,26.666667%);stroke-opacity:1;stroke-miterlimit:10;\" d=\"M 347.089844 405.460938 C 345.117188 410.488281 348.964844 418.945312 350.542969 417.953125 \"/>\n",
       "<path style=\" stroke:none;fill-rule:nonzero;fill:rgb(26.666667%,26.666667%,26.666667%);fill-opacity:1;\" d=\"M 338.460938 425.542969 L 348.078125 414.03125 L 353.007812 421.878906 L 338.460938 425.542969 \"/>\n",
       "<path style=\"fill:none;stroke-width:1;stroke-linecap:butt;stroke-linejoin:miter;stroke:rgb(26.666667%,26.666667%,26.666667%);stroke-opacity:1;stroke-miterlimit:10;\" d=\"M 209.097656 189.136719 L 206.167969 232.304688 \"/>\n",
       "<path style=\" stroke:none;fill-rule:nonzero;fill:rgb(26.666667%,26.666667%,26.666667%);fill-opacity:1;\" d=\"M 205.203125 246.535156 L 201.542969 231.988281 L 210.792969 232.617188 L 205.203125 246.535156 \"/>\n",
       "<path style=\"fill-rule:nonzero;fill:rgb(73.72549%,74.117647%,13.333333%);fill-opacity:1;stroke-width:1;stroke-linecap:butt;stroke-linejoin:miter;stroke:rgb(0%,0%,0%);stroke-opacity:1;stroke-miterlimit:10;\" d=\"M 422.15625 529.628906 C 422.15625 534.46875 418.234375 538.390625 413.398438 538.390625 C 408.558594 538.390625 404.636719 534.46875 404.636719 529.628906 C 404.636719 524.789062 408.558594 520.867188 413.398438 520.867188 C 418.234375 520.867188 422.15625 524.789062 422.15625 529.628906 \"/>\n",
       "<path style=\"fill-rule:nonzero;fill:rgb(73.72549%,74.117647%,13.333333%);fill-opacity:1;stroke-width:1;stroke-linecap:butt;stroke-linejoin:miter;stroke:rgb(0%,0%,0%);stroke-opacity:1;stroke-miterlimit:10;\" d=\"M 393.011719 545.839844 C 393.011719 551.394531 388.507812 555.898438 382.953125 555.898438 C 377.398438 555.898438 372.898438 551.394531 372.898438 545.839844 C 372.898438 540.285156 377.398438 535.78125 382.953125 535.78125 C 388.507812 535.78125 393.011719 540.285156 393.011719 545.839844 \"/>\n",
       "<path style=\"fill-rule:nonzero;fill:rgb(100%,49.803922%,5.490196%);fill-opacity:1;stroke-width:1;stroke-linecap:butt;stroke-linejoin:miter;stroke:rgb(0%,0%,0%);stroke-opacity:1;stroke-miterlimit:10;\" d=\"M 513.578125 397.058594 C 513.578125 401.304688 510.136719 404.746094 505.890625 404.746094 C 501.644531 404.746094 498.199219 401.304688 498.199219 397.058594 C 498.199219 392.8125 501.644531 389.367188 505.890625 389.367188 C 510.136719 389.367188 513.578125 392.8125 513.578125 397.058594 \"/>\n",
       "<path style=\"fill-rule:nonzero;fill:rgb(100%,49.803922%,5.490196%);fill-opacity:1;stroke-width:1;stroke-linecap:butt;stroke-linejoin:miter;stroke:rgb(0%,0%,0%);stroke-opacity:1;stroke-miterlimit:10;\" d=\"M 494.1875 361.527344 C 494.1875 367.84375 489.066406 372.960938 482.75 372.960938 C 476.4375 372.960938 471.316406 367.84375 471.316406 361.527344 C 471.316406 355.210938 476.4375 350.089844 482.75 350.089844 C 489.066406 350.089844 494.1875 355.210938 494.1875 361.527344 \"/>\n",
       "<path style=\"fill-rule:nonzero;fill:rgb(100%,49.803922%,5.490196%);fill-opacity:1;stroke-width:1;stroke-linecap:butt;stroke-linejoin:miter;stroke:rgb(0%,0%,0%);stroke-opacity:1;stroke-miterlimit:10;\" d=\"M 512.027344 443.550781 C 512.027344 448.472656 504.640625 448.472656 504.640625 443.550781 C 504.640625 438.628906 512.027344 438.628906 512.027344 443.550781 \"/>\n",
       "<path style=\"fill-rule:nonzero;fill:rgb(100%,49.803922%,5.490196%);fill-opacity:1;stroke-width:1;stroke-linecap:butt;stroke-linejoin:miter;stroke:rgb(0%,0%,0%);stroke-opacity:1;stroke-miterlimit:10;\" d=\"M 541.367188 393.777344 C 541.367188 399.753906 532.40625 399.753906 532.40625 393.777344 C 532.40625 387.804688 541.367188 387.804688 541.367188 393.777344 \"/>\n",
       "<path style=\"fill-rule:nonzero;fill:rgb(54.901961%,33.72549%,29.411765%);fill-opacity:1;stroke-width:1;stroke-linecap:butt;stroke-linejoin:miter;stroke:rgb(0%,0%,0%);stroke-opacity:1;stroke-miterlimit:10;\" d=\"M 461.429688 189.734375 C 461.429688 195.519531 456.742188 200.210938 450.957031 200.210938 C 445.171875 200.210938 440.480469 195.519531 440.480469 189.734375 C 440.480469 183.953125 445.171875 179.261719 450.957031 179.261719 C 456.742188 179.261719 461.429688 183.953125 461.429688 189.734375 \"/>\n",
       "<path style=\"fill-rule:nonzero;fill:rgb(12.156863%,46.666667%,70.588235%);fill-opacity:1;stroke-width:1;stroke-linecap:butt;stroke-linejoin:miter;stroke:rgb(0%,0%,0%);stroke-opacity:1;stroke-miterlimit:10;\" d=\"M 434.238281 204.4375 C 434.238281 211.78125 428.285156 217.734375 420.9375 217.734375 C 413.59375 217.734375 407.640625 211.78125 407.640625 204.4375 C 407.640625 197.09375 413.59375 191.136719 420.9375 191.136719 C 428.285156 191.136719 434.238281 197.09375 434.238281 204.4375 \"/>\n",
       "<path style=\"fill-rule:nonzero;fill:rgb(12.156863%,46.666667%,70.588235%);fill-opacity:1;stroke-width:1;stroke-linecap:butt;stroke-linejoin:miter;stroke:rgb(0%,0%,0%);stroke-opacity:1;stroke-miterlimit:10;\" d=\"M 531.75 265.628906 C 531.75 270.128906 528.105469 273.773438 523.605469 273.773438 C 519.105469 273.773438 515.460938 270.128906 515.460938 265.628906 C 515.460938 261.128906 519.105469 257.484375 523.605469 257.484375 C 528.105469 257.484375 531.75 261.128906 531.75 265.628906 \"/>\n",
       "<path style=\"fill-rule:nonzero;fill:rgb(100%,49.803922%,5.490196%);fill-opacity:1;stroke-width:1;stroke-linecap:butt;stroke-linejoin:miter;stroke:rgb(0%,0%,0%);stroke-opacity:1;stroke-miterlimit:10;\" d=\"M 517.601562 323.382812 C 517.601562 329.667969 512.503906 334.765625 506.214844 334.765625 C 499.929688 334.765625 494.832031 329.667969 494.832031 323.382812 C 494.832031 317.09375 499.929688 311.996094 506.214844 311.996094 C 512.503906 311.996094 517.601562 317.09375 517.601562 323.382812 \"/>\n",
       "<path style=\"fill-rule:nonzero;fill:rgb(12.156863%,46.666667%,70.588235%);fill-opacity:1;stroke-width:1;stroke-linecap:butt;stroke-linejoin:miter;stroke:rgb(0%,0%,0%);stroke-opacity:1;stroke-miterlimit:10;\" d=\"M 565.074219 269.300781 C 565.074219 276.808594 558.988281 282.894531 551.480469 282.894531 C 543.96875 282.894531 537.882812 276.808594 537.882812 269.300781 C 537.882812 261.789062 543.96875 255.703125 551.480469 255.703125 C 558.988281 255.703125 565.074219 261.789062 565.074219 269.300781 \"/>\n",
       "<path style=\"fill-rule:nonzero;fill:rgb(49.803922%,49.803922%,49.803922%);fill-opacity:1;stroke-width:1;stroke-linecap:butt;stroke-linejoin:miter;stroke:rgb(0%,0%,0%);stroke-opacity:1;stroke-miterlimit:10;\" d=\"M 362.949219 39.007812 C 362.949219 44.890625 358.175781 49.660156 352.292969 49.660156 C 346.410156 49.660156 341.640625 44.890625 341.640625 39.007812 C 341.640625 33.121094 346.410156 28.351562 352.292969 28.351562 C 358.175781 28.351562 362.949219 33.121094 362.949219 39.007812 \"/>\n",
       "<path style=\"fill-rule:nonzero;fill:rgb(49.803922%,49.803922%,49.803922%);fill-opacity:1;stroke-width:1;stroke-linecap:butt;stroke-linejoin:miter;stroke:rgb(0%,0%,0%);stroke-opacity:1;stroke-miterlimit:10;\" d=\"M 366.035156 83.910156 C 366.035156 91.460938 359.914062 97.585938 352.363281 97.585938 C 344.8125 97.585938 338.691406 91.460938 338.691406 83.910156 C 338.691406 76.359375 344.8125 70.238281 352.363281 70.238281 C 359.914062 70.238281 366.035156 76.359375 366.035156 83.910156 \"/>\n",
       "<path style=\"fill-rule:nonzero;fill:rgb(17.254902%,62.745098%,17.254902%);fill-opacity:1;stroke-width:1;stroke-linecap:butt;stroke-linejoin:miter;stroke:rgb(0%,0%,0%);stroke-opacity:1;stroke-miterlimit:10;\" d=\"M 309.179688 416.078125 C 309.179688 420.289062 305.761719 423.703125 301.550781 423.703125 C 297.339844 423.703125 293.925781 420.289062 293.925781 416.078125 C 293.925781 411.867188 297.339844 408.449219 301.550781 408.449219 C 305.761719 408.449219 309.179688 411.867188 309.179688 416.078125 \"/>\n",
       "<path style=\"fill-rule:nonzero;fill:rgb(17.254902%,62.745098%,17.254902%);fill-opacity:1;stroke-width:1;stroke-linecap:butt;stroke-linejoin:miter;stroke:rgb(0%,0%,0%);stroke-opacity:1;stroke-miterlimit:10;\" d=\"M 338.90625 427.070312 C 338.90625 430.894531 333.164062 430.894531 333.164062 427.070312 C 333.164062 423.242188 338.90625 423.242188 338.90625 427.070312 \"/>\n",
       "<path style=\"fill-rule:nonzero;fill:rgb(100%,49.803922%,5.490196%);fill-opacity:1;stroke-width:1;stroke-linecap:butt;stroke-linejoin:miter;stroke:rgb(0%,0%,0%);stroke-opacity:1;stroke-miterlimit:10;\" d=\"M 519.058594 362.507812 C 519.058594 367.289062 515.183594 371.164062 510.402344 371.164062 C 505.621094 371.164062 501.742188 367.289062 501.742188 362.507812 C 501.742188 357.726562 505.621094 353.847656 510.402344 353.847656 C 515.183594 353.847656 519.058594 357.726562 519.058594 362.507812 \"/>\n",
       "<path style=\"fill-rule:nonzero;fill:rgb(17.254902%,62.745098%,17.254902%);fill-opacity:1;stroke-width:1;stroke-linecap:butt;stroke-linejoin:miter;stroke:rgb(0%,0%,0%);stroke-opacity:1;stroke-miterlimit:10;\" d=\"M 319.902344 237.109375 C 319.902344 240.414062 317.222656 243.09375 313.917969 243.09375 C 310.609375 243.09375 307.929688 240.414062 307.929688 237.109375 C 307.929688 233.800781 310.609375 231.121094 313.917969 231.121094 C 317.222656 231.121094 319.902344 233.800781 319.902344 237.109375 \"/>\n",
       "<path style=\"fill-rule:nonzero;fill:rgb(17.254902%,62.745098%,17.254902%);fill-opacity:1;stroke-width:1;stroke-linecap:butt;stroke-linejoin:miter;stroke:rgb(0%,0%,0%);stroke-opacity:1;stroke-miterlimit:10;\" d=\"M 275.414062 248.179688 C 275.414062 253.304688 271.257812 257.460938 266.132812 257.460938 C 261.007812 257.460938 256.851562 253.304688 256.851562 248.179688 C 256.851562 243.050781 261.007812 238.898438 266.132812 238.898438 C 271.257812 238.898438 275.414062 243.050781 275.414062 248.179688 \"/>\n",
       "<path style=\"fill-rule:nonzero;fill:rgb(17.254902%,62.745098%,17.254902%);fill-opacity:1;stroke-width:1;stroke-linecap:butt;stroke-linejoin:miter;stroke:rgb(0%,0%,0%);stroke-opacity:1;stroke-miterlimit:10;\" d=\"M 213.605469 189.136719 C 213.605469 195.152344 204.585938 195.152344 204.585938 189.136719 C 204.585938 183.125 213.605469 183.125 213.605469 189.136719 \"/>\n",
       "<path style=\"fill-rule:nonzero;fill:rgb(17.254902%,62.745098%,17.254902%);fill-opacity:1;stroke-width:1;stroke-linecap:butt;stroke-linejoin:miter;stroke:rgb(0%,0%,0%);stroke-opacity:1;stroke-miterlimit:10;\" d=\"M 207.15625 139.609375 C 207.15625 143.050781 204.367188 145.839844 200.925781 145.839844 C 197.484375 145.839844 194.695312 143.050781 194.695312 139.609375 C 194.695312 136.167969 197.484375 133.378906 200.925781 133.378906 C 204.367188 133.378906 207.15625 136.167969 207.15625 139.609375 \"/>\n",
       "<path style=\"fill-rule:nonzero;fill:rgb(17.254902%,62.745098%,17.254902%);fill-opacity:1;stroke-width:1;stroke-linecap:butt;stroke-linejoin:miter;stroke:rgb(0%,0%,0%);stroke-opacity:1;stroke-miterlimit:10;\" d=\"M 188.320312 502.414062 C 188.320312 506.136719 185.304688 509.15625 181.578125 509.15625 C 177.855469 509.15625 174.835938 506.136719 174.835938 502.414062 C 174.835938 498.6875 177.855469 495.671875 181.578125 495.671875 C 185.304688 495.671875 188.320312 498.6875 188.320312 502.414062 \"/>\n",
       "<path style=\"fill-rule:nonzero;fill:rgb(17.254902%,62.745098%,17.254902%);fill-opacity:1;stroke-width:1;stroke-linecap:butt;stroke-linejoin:miter;stroke:rgb(0%,0%,0%);stroke-opacity:1;stroke-miterlimit:10;\" d=\"M 182.574219 534.714844 C 182.574219 540.476562 177.902344 545.148438 172.140625 545.148438 C 166.378906 545.148438 161.707031 540.476562 161.707031 534.714844 C 161.707031 528.953125 166.378906 524.28125 172.140625 524.28125 C 177.902344 524.28125 182.574219 528.953125 182.574219 534.714844 \"/>\n",
       "<path style=\"fill-rule:nonzero;fill:rgb(73.72549%,74.117647%,13.333333%);fill-opacity:1;stroke-width:1;stroke-linecap:butt;stroke-linejoin:miter;stroke:rgb(0%,0%,0%);stroke-opacity:1;stroke-miterlimit:10;\" d=\"M 431.703125 495.929688 C 431.703125 503.742188 425.371094 510.074219 417.558594 510.074219 C 409.746094 510.074219 403.414062 503.742188 403.414062 495.929688 C 403.414062 488.117188 409.746094 481.785156 417.558594 481.785156 C 425.371094 481.785156 431.703125 488.117188 431.703125 495.929688 \"/>\n",
       "<path style=\"fill-rule:nonzero;fill:rgb(17.254902%,62.745098%,17.254902%);fill-opacity:1;stroke-width:1;stroke-linecap:butt;stroke-linejoin:miter;stroke:rgb(0%,0%,0%);stroke-opacity:1;stroke-miterlimit:10;\" d=\"M 248.832031 228.3125 C 248.832031 233.519531 244.613281 237.738281 239.40625 237.738281 C 234.199219 237.738281 229.980469 233.519531 229.980469 228.3125 C 229.980469 223.109375 234.199219 218.886719 239.40625 218.886719 C 244.613281 218.886719 248.832031 223.109375 248.832031 228.3125 \"/>\n",
       "<path style=\"fill-rule:nonzero;fill:rgb(17.254902%,62.745098%,17.254902%);fill-opacity:1;stroke-width:1;stroke-linecap:butt;stroke-linejoin:miter;stroke:rgb(0%,0%,0%);stroke-opacity:1;stroke-miterlimit:10;\" d=\"M 210.632812 252.34375 C 210.632812 255.558594 208.027344 258.167969 204.808594 258.167969 C 201.59375 258.167969 198.988281 255.558594 198.988281 252.34375 C 198.988281 249.128906 201.59375 246.523438 204.808594 246.523438 C 208.027344 246.523438 210.632812 249.128906 210.632812 252.34375 \"/>\n",
       "<path style=\"fill-rule:nonzero;fill:rgb(17.254902%,62.745098%,17.254902%);fill-opacity:1;stroke-width:1;stroke-linecap:butt;stroke-linejoin:miter;stroke:rgb(0%,0%,0%);stroke-opacity:1;stroke-miterlimit:10;\" d=\"M 193.441406 222.527344 C 193.441406 227.25 186.355469 227.25 186.355469 222.527344 C 186.355469 217.804688 193.441406 217.804688 193.441406 222.527344 \"/>\n",
       "<path style=\"fill-rule:nonzero;fill:rgb(17.254902%,62.745098%,17.254902%);fill-opacity:1;stroke-width:1;stroke-linecap:butt;stroke-linejoin:miter;stroke:rgb(0%,0%,0%);stroke-opacity:1;stroke-miterlimit:10;\" d=\"M 185.652344 266.371094 C 185.652344 270.523438 182.285156 273.890625 178.132812 273.890625 C 173.980469 273.890625 170.613281 270.523438 170.613281 266.371094 C 170.613281 262.21875 173.980469 258.855469 178.132812 258.855469 C 182.285156 258.855469 185.652344 262.21875 185.652344 266.371094 \"/>\n",
       "<path style=\"fill-rule:nonzero;fill:rgb(17.254902%,62.745098%,17.254902%);fill-opacity:1;stroke-width:1;stroke-linecap:butt;stroke-linejoin:miter;stroke:rgb(0%,0%,0%);stroke-opacity:1;stroke-miterlimit:10;\" d=\"M 116.289062 303.351562 C 116.289062 310.296875 105.867188 310.296875 105.867188 303.351562 C 105.867188 296.40625 116.289062 296.40625 116.289062 303.351562 \"/>\n",
       "<path style=\"fill-rule:nonzero;fill:rgb(17.254902%,62.745098%,17.254902%);fill-opacity:1;stroke-width:1;stroke-linecap:butt;stroke-linejoin:miter;stroke:rgb(0%,0%,0%);stroke-opacity:1;stroke-miterlimit:10;\" d=\"M 105.503906 278.609375 C 105.503906 283.882812 101.226562 288.160156 95.953125 288.160156 C 90.679688 288.160156 86.402344 283.882812 86.402344 278.609375 C 86.402344 273.332031 90.679688 269.058594 95.953125 269.058594 C 101.226562 269.058594 105.503906 273.332031 105.503906 278.609375 \"/>\n",
       "<path style=\"fill-rule:nonzero;fill:rgb(73.72549%,74.117647%,13.333333%);fill-opacity:1;stroke-width:1;stroke-linecap:butt;stroke-linejoin:miter;stroke:rgb(0%,0%,0%);stroke-opacity:1;stroke-miterlimit:10;\" d=\"M 24.390625 312.007812 C 24.390625 317.863281 15.609375 317.863281 15.609375 312.007812 C 15.609375 306.15625 24.390625 306.15625 24.390625 312.007812 \"/>\n",
       "<path style=\"fill-rule:nonzero;fill:rgb(73.72549%,74.117647%,13.333333%);fill-opacity:1;stroke-width:1;stroke-linecap:butt;stroke-linejoin:miter;stroke:rgb(0%,0%,0%);stroke-opacity:1;stroke-miterlimit:10;\" d=\"M 24.925781 341.472656 C 24.925781 346.363281 17.589844 346.363281 17.589844 341.472656 C 17.589844 336.582031 24.925781 336.582031 24.925781 341.472656 \"/>\n",
       "<path style=\"fill-rule:nonzero;fill:rgb(17.254902%,62.745098%,17.254902%);fill-opacity:1;stroke-width:1;stroke-linecap:butt;stroke-linejoin:miter;stroke:rgb(0%,0%,0%);stroke-opacity:1;stroke-miterlimit:10;\" d=\"M 297.015625 221.121094 C 297.015625 227.40625 291.917969 232.503906 285.628906 232.503906 C 279.34375 232.503906 274.246094 227.40625 274.246094 221.121094 C 274.246094 214.832031 279.34375 209.738281 285.628906 209.738281 C 291.917969 209.738281 297.015625 214.832031 297.015625 221.121094 \"/>\n",
       "<path style=\"fill-rule:nonzero;fill:rgb(17.254902%,62.745098%,17.254902%);fill-opacity:1;stroke-width:1;stroke-linecap:butt;stroke-linejoin:miter;stroke:rgb(0%,0%,0%);stroke-opacity:1;stroke-miterlimit:10;\" d=\"M 266.96875 197.242188 C 266.96875 200.273438 262.421875 200.273438 262.421875 197.242188 C 262.421875 194.210938 266.96875 194.210938 266.96875 197.242188 \"/>\n",
       "<path style=\"fill-rule:nonzero;fill:rgb(49.803922%,49.803922%,49.803922%);fill-opacity:1;stroke-width:1;stroke-linecap:butt;stroke-linejoin:miter;stroke:rgb(0%,0%,0%);stroke-opacity:1;stroke-miterlimit:10;\" d=\"M 415.671875 73.789062 C 415.671875 76.945312 413.113281 79.503906 409.957031 79.503906 C 406.800781 79.503906 404.242188 76.945312 404.242188 73.789062 C 404.242188 70.636719 406.800781 68.078125 409.957031 68.078125 C 413.113281 68.078125 415.671875 70.636719 415.671875 73.789062 \"/>\n",
       "<path style=\"fill-rule:nonzero;fill:rgb(49.803922%,49.803922%,49.803922%);fill-opacity:1;stroke-width:1;stroke-linecap:butt;stroke-linejoin:miter;stroke:rgb(0%,0%,0%);stroke-opacity:1;stroke-miterlimit:10;\" d=\"M 455.625 81.195312 C 455.625 85.308594 449.453125 85.308594 449.453125 81.195312 C 449.453125 77.082031 455.625 77.082031 455.625 81.195312 \"/>\n",
       "<path style=\"fill-rule:nonzero;fill:rgb(17.254902%,62.745098%,17.254902%);fill-opacity:1;stroke-width:1;stroke-linecap:butt;stroke-linejoin:miter;stroke:rgb(0%,0%,0%);stroke-opacity:1;stroke-miterlimit:10;\" d=\"M 148.148438 286.527344 C 148.148438 289.621094 145.640625 292.125 142.550781 292.125 C 139.457031 292.125 136.953125 289.621094 136.953125 286.527344 C 136.953125 283.4375 139.457031 280.929688 142.550781 280.929688 C 145.640625 280.929688 148.148438 283.4375 148.148438 286.527344 \"/>\n",
       "<path style=\"fill-rule:nonzero;fill:rgb(17.254902%,62.745098%,17.254902%);fill-opacity:1;stroke-width:1;stroke-linecap:butt;stroke-linejoin:miter;stroke:rgb(0%,0%,0%);stroke-opacity:1;stroke-miterlimit:10;\" d=\"M 256.785156 375.007812 C 256.785156 378.632812 253.847656 381.570312 250.222656 381.570312 C 246.597656 381.570312 243.660156 378.632812 243.660156 375.007812 C 243.660156 371.382812 246.597656 368.445312 250.222656 368.445312 C 253.847656 368.445312 256.785156 371.382812 256.785156 375.007812 \"/>\n",
       "<path style=\"fill-rule:nonzero;fill:rgb(17.254902%,62.745098%,17.254902%);fill-opacity:1;stroke-width:1;stroke-linecap:butt;stroke-linejoin:miter;stroke:rgb(0%,0%,0%);stroke-opacity:1;stroke-miterlimit:10;\" d=\"M 228.339844 400.210938 C 228.339844 403.765625 223.007812 403.765625 223.007812 400.210938 C 223.007812 396.65625 228.339844 396.65625 228.339844 400.210938 \"/>\n",
       "<path style=\"fill-rule:nonzero;fill:rgb(17.254902%,62.745098%,17.254902%);fill-opacity:1;stroke-width:1;stroke-linecap:butt;stroke-linejoin:miter;stroke:rgb(0%,0%,0%);stroke-opacity:1;stroke-miterlimit:10;\" d=\"M 377.550781 427.992188 C 377.550781 433.558594 369.199219 433.558594 369.199219 427.992188 C 369.199219 422.421875 377.550781 422.421875 377.550781 427.992188 \"/>\n",
       "<path style=\"fill-rule:nonzero;fill:rgb(17.254902%,62.745098%,17.254902%);fill-opacity:1;stroke-width:1;stroke-linecap:butt;stroke-linejoin:miter;stroke:rgb(0%,0%,0%);stroke-opacity:1;stroke-miterlimit:10;\" d=\"M 228.949219 326.875 C 228.949219 330.550781 225.96875 333.53125 222.292969 333.53125 C 218.617188 333.53125 215.636719 330.550781 215.636719 326.875 C 215.636719 323.195312 218.617188 320.214844 222.292969 320.214844 C 225.96875 320.214844 228.949219 323.195312 228.949219 326.875 \"/>\n",
       "<path style=\"fill-rule:nonzero;fill:rgb(17.254902%,62.745098%,17.254902%);fill-opacity:1;stroke-width:1;stroke-linecap:butt;stroke-linejoin:miter;stroke:rgb(0%,0%,0%);stroke-opacity:1;stroke-miterlimit:10;\" d=\"M 207.910156 300.25 C 207.910156 307.527344 202.007812 313.429688 194.730469 313.429688 C 187.449219 313.429688 181.546875 307.527344 181.546875 300.25 C 181.546875 292.96875 187.449219 287.066406 194.730469 287.066406 C 202.007812 287.066406 207.910156 292.96875 207.910156 300.25 \"/>\n",
       "<path style=\"fill-rule:nonzero;fill:rgb(54.901961%,33.72549%,29.411765%);fill-opacity:1;stroke-width:1;stroke-linecap:butt;stroke-linejoin:miter;stroke:rgb(0%,0%,0%);stroke-opacity:1;stroke-miterlimit:10;\" d=\"M 460.351562 235.429688 C 460.351562 241.703125 455.265625 246.789062 448.992188 246.789062 C 442.71875 246.789062 437.632812 241.703125 437.632812 235.429688 C 437.632812 229.15625 442.71875 224.070312 448.992188 224.070312 C 455.265625 224.070312 460.351562 229.15625 460.351562 235.429688 \"/>\n",
       "<path style=\"fill-rule:nonzero;fill:rgb(17.254902%,62.745098%,17.254902%);fill-opacity:1;stroke-width:1;stroke-linecap:butt;stroke-linejoin:miter;stroke:rgb(0%,0%,0%);stroke-opacity:1;stroke-miterlimit:10;\" d=\"M 282.890625 392.410156 C 282.890625 396.121094 279.878906 399.132812 276.164062 399.132812 C 272.453125 399.132812 269.441406 396.121094 269.441406 392.410156 C 269.441406 388.695312 272.453125 385.683594 276.164062 385.683594 C 279.878906 385.683594 282.890625 388.695312 282.890625 392.410156 \"/>\n",
       "<path style=\"fill-rule:nonzero;fill:rgb(17.254902%,62.745098%,17.254902%);fill-opacity:1;stroke-width:1;stroke-linecap:butt;stroke-linejoin:miter;stroke:rgb(0%,0%,0%);stroke-opacity:1;stroke-miterlimit:10;\" d=\"M 120.914062 404.308594 C 120.914062 408.609375 117.429688 412.097656 113.125 412.097656 C 108.824219 412.097656 105.335938 408.609375 105.335938 404.308594 C 105.335938 400.003906 108.824219 396.515625 113.125 396.515625 C 117.429688 396.515625 120.914062 400.003906 120.914062 404.308594 \"/>\n",
       "<path style=\"fill-rule:nonzero;fill:rgb(17.254902%,62.745098%,17.254902%);fill-opacity:1;stroke-width:1;stroke-linecap:butt;stroke-linejoin:miter;stroke:rgb(0%,0%,0%);stroke-opacity:1;stroke-miterlimit:10;\" d=\"M 93.8125 379.214844 C 93.8125 382.789062 90.917969 385.6875 87.34375 385.6875 C 83.769531 385.6875 80.875 382.789062 80.875 379.214844 C 80.875 375.644531 83.769531 372.746094 87.34375 372.746094 C 90.917969 372.746094 93.8125 375.644531 93.8125 379.214844 \"/>\n",
       "<path style=\"fill-rule:nonzero;fill:rgb(9.019608%,74.509804%,81.176471%);fill-opacity:1;stroke-width:1;stroke-linecap:butt;stroke-linejoin:miter;stroke:rgb(0%,0%,0%);stroke-opacity:1;stroke-miterlimit:10;\" d=\"M 62.828125 438.507812 C 62.828125 445.464844 57.1875 451.105469 50.230469 451.105469 C 43.273438 451.105469 37.636719 445.464844 37.636719 438.507812 C 37.636719 431.554688 43.273438 425.914062 50.230469 425.914062 C 57.1875 425.914062 62.828125 431.554688 62.828125 438.507812 \"/>\n",
       "<path style=\"fill-rule:nonzero;fill:rgb(9.019608%,74.509804%,81.176471%);fill-opacity:1;stroke-width:1;stroke-linecap:butt;stroke-linejoin:miter;stroke:rgb(0%,0%,0%);stroke-opacity:1;stroke-miterlimit:10;\" d=\"M 86.199219 469.019531 C 86.199219 477.566406 79.269531 484.492188 70.722656 484.492188 C 62.175781 484.492188 55.246094 477.566406 55.246094 469.019531 C 55.246094 460.472656 62.175781 453.542969 70.722656 453.542969 C 79.269531 453.542969 86.199219 460.472656 86.199219 469.019531 \"/>\n",
       "<path style=\"fill-rule:nonzero;fill:rgb(17.254902%,62.745098%,17.254902%);fill-opacity:1;stroke-width:1;stroke-linecap:butt;stroke-linejoin:miter;stroke:rgb(0%,0%,0%);stroke-opacity:1;stroke-miterlimit:10;\" d=\"M 353.039062 405.460938 C 353.039062 408.746094 350.375 411.40625 347.089844 411.40625 C 343.804688 411.40625 341.144531 408.746094 341.144531 405.460938 C 341.144531 402.175781 343.804688 399.511719 347.089844 399.511719 C 350.375 399.511719 353.039062 402.175781 353.039062 405.460938 \"/>\n",
       "<path style=\"fill-rule:nonzero;fill:rgb(73.72549%,74.117647%,13.333333%);fill-opacity:1;stroke-width:1;stroke-linecap:butt;stroke-linejoin:miter;stroke:rgb(0%,0%,0%);stroke-opacity:1;stroke-miterlimit:10;\" d=\"M 350.335938 560.707031 C 350.335938 564.535156 347.234375 567.640625 343.402344 567.640625 C 339.574219 567.640625 336.46875 564.535156 336.46875 560.707031 C 336.46875 556.878906 339.574219 553.773438 343.402344 553.773438 C 347.234375 553.773438 350.335938 556.878906 350.335938 560.707031 \"/>\n",
       "<path style=\"fill-rule:nonzero;fill:rgb(17.254902%,62.745098%,17.254902%);fill-opacity:1;stroke-width:1;stroke-linecap:butt;stroke-linejoin:miter;stroke:rgb(0%,0%,0%);stroke-opacity:1;stroke-miterlimit:10;\" d=\"M 293.136719 498.859375 C 293.136719 504.691406 284.394531 504.691406 284.394531 498.859375 C 284.394531 493.03125 293.136719 493.03125 293.136719 498.859375 \"/>\n",
       "<path style=\"fill-rule:nonzero;fill:rgb(17.254902%,62.745098%,17.254902%);fill-opacity:1;stroke-width:1;stroke-linecap:butt;stroke-linejoin:miter;stroke:rgb(0%,0%,0%);stroke-opacity:1;stroke-miterlimit:10;\" d=\"M 302.191406 467.101562 C 302.191406 471.554688 298.582031 475.164062 294.128906 475.164062 C 289.675781 475.164062 286.066406 471.554688 286.066406 467.101562 C 286.066406 462.648438 289.675781 459.039062 294.128906 459.039062 C 298.582031 459.039062 302.191406 462.648438 302.191406 467.101562 \"/>\n",
       "<path style=\"fill-rule:nonzero;fill:rgb(17.254902%,62.745098%,17.254902%);fill-opacity:1;stroke-width:1;stroke-linecap:butt;stroke-linejoin:miter;stroke:rgb(0%,0%,0%);stroke-opacity:1;stroke-miterlimit:10;\" d=\"M 275.972656 528.433594 C 275.972656 535.476562 265.40625 535.476562 265.40625 528.433594 C 265.40625 521.386719 275.972656 521.386719 275.972656 528.433594 \"/>\n",
       "<path style=\"fill-rule:nonzero;fill:rgb(58.039216%,40.392157%,74.117647%);fill-opacity:1;stroke-width:1;stroke-linecap:butt;stroke-linejoin:miter;stroke:rgb(0%,0%,0%);stroke-opacity:1;stroke-miterlimit:10;\" d=\"M 424.183594 120.238281 C 424.183594 131.058594 415.410156 139.832031 404.589844 139.832031 C 393.765625 139.832031 384.996094 131.058594 384.996094 120.238281 C 384.996094 109.414062 393.765625 100.644531 404.589844 100.644531 C 415.410156 100.644531 424.183594 109.414062 424.183594 120.238281 \"/>\n",
       "<path style=\"fill-rule:nonzero;fill:rgb(12.156863%,46.666667%,70.588235%);fill-opacity:1;stroke-width:1;stroke-linecap:butt;stroke-linejoin:miter;stroke:rgb(0%,0%,0%);stroke-opacity:1;stroke-miterlimit:10;\" d=\"M 461.953125 147.710938 C 461.953125 158.257812 453.40625 166.804688 442.859375 166.804688 C 432.3125 166.804688 423.765625 158.257812 423.765625 147.710938 C 423.765625 137.164062 432.3125 128.617188 442.859375 128.617188 C 453.40625 128.617188 461.953125 137.164062 461.953125 147.710938 \"/>\n",
       "<path style=\"fill:none;stroke-width:1;stroke-linecap:butt;stroke-linejoin:miter;stroke:rgb(0%,0%,0%);stroke-opacity:1;stroke-miterlimit:10;\" d=\"M 452.039062 529.128906 L 452.039062 529.128906 \"/>\n",
       "<path style=\"fill-rule:nonzero;fill:rgb(17.254902%,62.745098%,17.254902%);fill-opacity:1;stroke-width:1;stroke-linecap:butt;stroke-linejoin:miter;stroke:rgb(0%,0%,0%);stroke-opacity:1;stroke-miterlimit:10;\" d=\"M 230.203125 268.339844 C 230.203125 273.011719 226.417969 276.796875 221.75 276.796875 C 217.078125 276.796875 213.292969 273.011719 213.292969 268.339844 C 213.292969 263.671875 217.078125 259.886719 221.75 259.886719 C 226.417969 259.886719 230.203125 263.671875 230.203125 268.339844 \"/>\n",
       "<path style=\"fill-rule:nonzero;fill:rgb(49.803922%,49.803922%,49.803922%);fill-opacity:1;stroke-width:1;stroke-linecap:butt;stroke-linejoin:miter;stroke:rgb(0%,0%,0%);stroke-opacity:1;stroke-miterlimit:10;\" d=\"M 522.917969 221.667969 C 522.917969 226.511719 518.992188 230.4375 514.144531 230.4375 C 509.300781 230.4375 505.375 226.511719 505.375 221.667969 C 505.375 216.824219 509.300781 212.894531 514.144531 212.894531 C 518.992188 212.894531 522.917969 216.824219 522.917969 221.667969 \"/>\n",
       "<path style=\"fill-rule:nonzero;fill:rgb(17.254902%,62.745098%,17.254902%);fill-opacity:1;stroke-width:1;stroke-linecap:butt;stroke-linejoin:miter;stroke:rgb(0%,0%,0%);stroke-opacity:1;stroke-miterlimit:10;\" d=\"M 294.671875 275.847656 C 294.671875 282.144531 289.566406 287.25 283.265625 287.25 C 276.96875 287.25 271.863281 282.144531 271.863281 275.847656 C 271.863281 269.546875 276.96875 264.441406 283.265625 264.441406 C 289.566406 264.441406 294.671875 269.546875 294.671875 275.847656 \"/>\n",
       "<path style=\"fill-rule:nonzero;fill:rgb(100%,49.803922%,5.490196%);fill-opacity:1;stroke-width:1;stroke-linecap:butt;stroke-linejoin:miter;stroke:rgb(0%,0%,0%);stroke-opacity:1;stroke-miterlimit:10;\" d=\"M 510.679688 478.519531 C 510.679688 485.238281 500.597656 485.238281 500.597656 478.519531 C 500.597656 471.796875 510.679688 471.796875 510.679688 478.519531 \"/>\n",
       "<path style=\"fill-rule:nonzero;fill:rgb(83.921569%,15.294118%,15.686275%);fill-opacity:1;stroke-width:1;stroke-linecap:butt;stroke-linejoin:miter;stroke:rgb(0%,0%,0%);stroke-opacity:1;stroke-miterlimit:10;\" d=\"M 338.6875 48.722656 C 338.6875 54.242188 334.214844 58.714844 328.695312 58.714844 C 323.175781 58.714844 318.699219 54.242188 318.699219 48.722656 C 318.699219 43.199219 323.175781 38.726562 328.695312 38.726562 C 334.214844 38.726562 338.6875 43.199219 338.6875 48.722656 \"/>\n",
       "<path style=\"fill-rule:nonzero;fill:rgb(17.254902%,62.745098%,17.254902%);fill-opacity:1;stroke-width:1;stroke-linecap:butt;stroke-linejoin:miter;stroke:rgb(0%,0%,0%);stroke-opacity:1;stroke-miterlimit:10;\" d=\"M 147.144531 185.984375 C 147.144531 189.824219 141.386719 189.824219 141.386719 185.984375 C 141.386719 182.148438 147.144531 182.148438 147.144531 185.984375 \"/>\n",
       "<path style=\"fill-rule:nonzero;fill:rgb(54.901961%,33.72549%,29.411765%);fill-opacity:1;stroke-width:1;stroke-linecap:butt;stroke-linejoin:miter;stroke:rgb(0%,0%,0%);stroke-opacity:1;stroke-miterlimit:10;\" d=\"M 36.339844 252.0625 C 36.339844 260.132812 29.796875 266.679688 21.726562 266.679688 C 13.652344 266.679688 7.109375 260.132812 7.109375 252.0625 C 7.109375 243.992188 13.652344 237.449219 21.726562 237.449219 C 29.796875 237.449219 36.339844 243.992188 36.339844 252.0625 \"/>\n",
       "<path style=\"fill-rule:nonzero;fill:rgb(54.901961%,33.72549%,29.411765%);fill-opacity:1;stroke-width:1;stroke-linecap:butt;stroke-linejoin:miter;stroke:rgb(0%,0%,0%);stroke-opacity:1;stroke-miterlimit:10;\" d=\"M 43.722656 225.574219 C 43.722656 230.355469 39.847656 234.230469 35.066406 234.230469 C 30.285156 234.230469 26.410156 230.355469 26.410156 225.574219 C 26.410156 220.792969 30.285156 216.917969 35.066406 216.917969 C 39.847656 216.917969 43.722656 220.792969 43.722656 225.574219 \"/>\n",
       "<path style=\"fill-rule:nonzero;fill:rgb(49.803922%,49.803922%,49.803922%);fill-opacity:1;stroke-width:1;stroke-linecap:butt;stroke-linejoin:miter;stroke:rgb(0%,0%,0%);stroke-opacity:1;stroke-miterlimit:10;\" d=\"M 550.957031 222.964844 C 550.957031 229.648438 540.933594 229.648438 540.933594 222.964844 C 540.933594 216.285156 550.957031 216.285156 550.957031 222.964844 \"/>\n",
       "<path style=\"fill-rule:nonzero;fill:rgb(17.254902%,62.745098%,17.254902%);fill-opacity:1;stroke-width:1;stroke-linecap:butt;stroke-linejoin:miter;stroke:rgb(0%,0%,0%);stroke-opacity:1;stroke-miterlimit:10;\" d=\"M 213.03125 537.085938 C 213.03125 541.441406 209.5 544.96875 205.148438 544.96875 C 200.792969 544.96875 197.265625 541.441406 197.265625 537.085938 C 197.265625 532.734375 200.792969 529.203125 205.148438 529.203125 C 209.5 529.203125 213.03125 532.734375 213.03125 537.085938 \"/>\n",
       "<path style=\"fill-rule:nonzero;fill:rgb(17.254902%,62.745098%,17.254902%);fill-opacity:1;stroke-width:1;stroke-linecap:butt;stroke-linejoin:miter;stroke:rgb(0%,0%,0%);stroke-opacity:1;stroke-miterlimit:10;\" d=\"M 234.621094 568.832031 C 234.621094 572.605469 231.5625 575.664062 227.789062 575.664062 C 224.019531 575.664062 220.960938 572.605469 220.960938 568.832031 C 220.960938 565.058594 224.019531 562 227.789062 562 C 231.5625 562 234.621094 565.058594 234.621094 568.832031 \"/>\n",
       "<path style=\"fill-rule:nonzero;fill:rgb(17.254902%,62.745098%,17.254902%);fill-opacity:1;stroke-width:1;stroke-linecap:butt;stroke-linejoin:miter;stroke:rgb(0%,0%,0%);stroke-opacity:1;stroke-miterlimit:10;\" d=\"M 139.617188 434.3125 C 139.617188 436.519531 136.308594 436.519531 136.308594 434.3125 C 136.308594 432.105469 139.617188 432.105469 139.617188 434.3125 \"/>\n",
       "<path style=\"fill-rule:nonzero;fill:rgb(17.254902%,62.745098%,17.254902%);fill-opacity:1;stroke-width:1;stroke-linecap:butt;stroke-linejoin:miter;stroke:rgb(0%,0%,0%);stroke-opacity:1;stroke-miterlimit:10;\" d=\"M 166.78125 71.539062 C 166.78125 74.992188 163.976562 77.796875 160.519531 77.796875 C 157.0625 77.796875 154.261719 74.992188 154.261719 71.539062 C 154.261719 68.082031 157.0625 65.277344 160.519531 65.277344 C 163.976562 65.277344 166.78125 68.082031 166.78125 71.539062 \"/>\n",
       "<path style=\"fill-rule:nonzero;fill:rgb(17.254902%,62.745098%,17.254902%);fill-opacity:1;stroke-width:1;stroke-linecap:butt;stroke-linejoin:miter;stroke:rgb(0%,0%,0%);stroke-opacity:1;stroke-miterlimit:10;\" d=\"M 191.707031 57.996094 C 191.707031 58.644531 190.734375 58.644531 190.734375 57.996094 C 190.734375 57.347656 191.707031 57.347656 191.707031 57.996094 \"/>\n",
       "<path style=\"fill-rule:nonzero;fill:rgb(17.254902%,62.745098%,17.254902%);fill-opacity:1;stroke-width:1;stroke-linecap:butt;stroke-linejoin:miter;stroke:rgb(0%,0%,0%);stroke-opacity:1;stroke-miterlimit:10;\" d=\"M 130.851562 85.851562 C 130.851562 86.863281 129.339844 86.863281 129.339844 85.851562 C 129.339844 84.84375 130.851562 84.84375 130.851562 85.851562 \"/>\n",
       "<path style=\"fill:none;stroke-width:1;stroke-linecap:butt;stroke-linejoin:miter;stroke:rgb(0%,0%,0%);stroke-opacity:1;stroke-miterlimit:10;\" d=\"M 336.878906 216.289062 L 336.878906 216.289062 \"/>\n",
       "<path style=\"fill-rule:nonzero;fill:rgb(17.254902%,62.745098%,17.254902%);fill-opacity:1;stroke-width:1;stroke-linecap:butt;stroke-linejoin:miter;stroke:rgb(0%,0%,0%);stroke-opacity:1;stroke-miterlimit:10;\" d=\"M 119.601562 156.085938 C 119.601562 156.765625 118.578125 156.765625 118.578125 156.085938 C 118.578125 155.402344 119.601562 155.402344 119.601562 156.085938 \"/>\n",
       "<path style=\"fill-rule:nonzero;fill:rgb(49.803922%,49.803922%,49.803922%);fill-opacity:1;stroke-width:1;stroke-linecap:butt;stroke-linejoin:miter;stroke:rgb(0%,0%,0%);stroke-opacity:1;stroke-miterlimit:10;\" d=\"M 303.71875 66.519531 C 303.71875 70.605469 300.402344 73.921875 296.316406 73.921875 C 292.226562 73.921875 288.914062 70.605469 288.914062 66.519531 C 288.914062 62.429688 292.226562 59.117188 296.316406 59.117188 C 300.402344 59.117188 303.71875 62.429688 303.71875 66.519531 \"/>\n",
       "<path style=\"fill-rule:nonzero;fill:rgb(73.72549%,74.117647%,13.333333%);fill-opacity:1;stroke-width:1;stroke-linecap:butt;stroke-linejoin:miter;stroke:rgb(0%,0%,0%);stroke-opacity:1;stroke-miterlimit:10;\" d=\"M 393.554688 577.5625 C 393.554688 581.632812 387.453125 581.632812 387.453125 577.5625 C 387.453125 573.496094 393.554688 573.496094 393.554688 577.5625 \"/>\n",
       "<path style=\"fill-rule:nonzero;fill:rgb(83.921569%,15.294118%,15.686275%);fill-opacity:1;stroke-width:1;stroke-linecap:butt;stroke-linejoin:miter;stroke:rgb(0%,0%,0%);stroke-opacity:1;stroke-miterlimit:10;\" d=\"M 452.238281 381.703125 C 452.238281 385.304688 449.320312 388.222656 445.71875 388.222656 C 442.117188 388.222656 439.199219 385.304688 439.199219 381.703125 C 439.199219 378.101562 442.117188 375.183594 445.71875 375.183594 C 449.320312 375.183594 452.238281 378.101562 452.238281 381.703125 \"/>\n",
       "<path style=\"fill-rule:nonzero;fill:rgb(73.72549%,74.117647%,13.333333%);fill-opacity:1;stroke-width:1;stroke-linecap:butt;stroke-linejoin:miter;stroke:rgb(0%,0%,0%);stroke-opacity:1;stroke-miterlimit:10;\" d=\"M 39.921875 408.386719 C 39.921875 412.105469 36.910156 415.117188 33.191406 415.117188 C 29.46875 415.117188 26.457031 412.105469 26.457031 408.386719 C 26.457031 404.667969 29.46875 401.652344 33.191406 401.652344 C 36.910156 401.652344 39.921875 404.667969 39.921875 408.386719 \"/>\n",
       "<path style=\"fill-rule:nonzero;fill:rgb(49.803922%,49.803922%,49.803922%);fill-opacity:1;stroke-width:1;stroke-linecap:butt;stroke-linejoin:miter;stroke:rgb(0%,0%,0%);stroke-opacity:1;stroke-miterlimit:10;\" d=\"M 536.1875 188.414062 C 536.1875 194.207031 527.5 194.207031 527.5 188.414062 C 527.5 182.621094 536.1875 182.621094 536.1875 188.414062 \"/>\n",
       "<path style=\"fill-rule:nonzero;fill:rgb(49.803922%,49.803922%,49.803922%);fill-opacity:1;stroke-width:1;stroke-linecap:butt;stroke-linejoin:miter;stroke:rgb(0%,0%,0%);stroke-opacity:1;stroke-miterlimit:10;\" d=\"M 376.386719 103.523438 C 376.386719 108.699219 368.625 108.699219 368.625 103.523438 C 368.625 98.351562 376.386719 98.351562 376.386719 103.523438 \"/>\n",
       "<path style=\"fill-rule:nonzero;fill:rgb(17.254902%,62.745098%,17.254902%);fill-opacity:1;stroke-width:1;stroke-linecap:butt;stroke-linejoin:miter;stroke:rgb(0%,0%,0%);stroke-opacity:1;stroke-miterlimit:10;\" d=\"M 151.394531 557.714844 C 151.394531 560 147.96875 560 147.96875 557.714844 C 147.96875 555.429688 151.394531 555.429688 151.394531 557.714844 \"/>\n",
       "<path style=\"fill-rule:nonzero;fill:rgb(73.72549%,74.117647%,13.333333%);fill-opacity:1;stroke-width:1;stroke-linecap:butt;stroke-linejoin:miter;stroke:rgb(0%,0%,0%);stroke-opacity:1;stroke-miterlimit:10;\" d=\"M 321.765625 580 C 321.765625 584.933594 317.769531 588.933594 312.835938 588.933594 C 307.898438 588.933594 303.902344 584.933594 303.902344 580 C 303.902344 575.066406 307.898438 571.066406 312.835938 571.066406 C 317.769531 571.066406 321.765625 575.066406 321.765625 580 \"/>\n",
       "<path style=\"fill-rule:nonzero;fill:rgb(83.921569%,15.294118%,15.686275%);fill-opacity:1;stroke-width:1;stroke-linecap:butt;stroke-linejoin:miter;stroke:rgb(0%,0%,0%);stroke-opacity:1;stroke-miterlimit:10;\" d=\"M 441.34375 417.734375 C 441.34375 421.859375 435.15625 421.859375 435.15625 417.734375 C 435.15625 413.609375 441.34375 413.609375 441.34375 417.734375 \"/>\n",
       "<path style=\"fill-rule:nonzero;fill:rgb(49.803922%,49.803922%,49.803922%);fill-opacity:1;stroke-width:1;stroke-linecap:butt;stroke-linejoin:miter;stroke:rgb(0%,0%,0%);stroke-opacity:1;stroke-miterlimit:10;\" d=\"M 322.5 20 C 322.5 23.484375 319.675781 26.3125 316.1875 26.3125 C 312.703125 26.3125 309.875 23.484375 309.875 20 C 309.875 16.515625 312.703125 13.6875 316.1875 13.6875 C 319.675781 13.6875 322.5 16.515625 322.5 20 \"/>\n",
       "<path style=\"fill-rule:nonzero;fill:rgb(9.019608%,74.509804%,81.176471%);fill-opacity:1;stroke-width:1;stroke-linecap:butt;stroke-linejoin:miter;stroke:rgb(0%,0%,0%);stroke-opacity:1;stroke-miterlimit:10;\" d=\"M 99.804688 496.621094 C 99.804688 501.808594 95.601562 506.007812 90.417969 506.007812 C 85.234375 506.007812 81.035156 501.808594 81.035156 496.621094 C 81.035156 491.4375 85.234375 487.238281 90.417969 487.238281 C 95.601562 487.238281 99.804688 491.4375 99.804688 496.621094 \"/>\n",
       "<path style=\"fill-rule:nonzero;fill:rgb(83.921569%,15.294118%,15.686275%);fill-opacity:1;stroke-width:1;stroke-linecap:butt;stroke-linejoin:miter;stroke:rgb(0%,0%,0%);stroke-opacity:1;stroke-miterlimit:10;\" d=\"M 305.335938 96.019531 C 305.335938 101.519531 297.085938 101.519531 297.085938 96.019531 C 297.085938 90.515625 305.335938 90.515625 305.335938 96.019531 \"/>\n",
       "<path style=\"fill-rule:nonzero;fill:rgb(17.254902%,62.745098%,17.254902%);fill-opacity:1;stroke-width:1;stroke-linecap:butt;stroke-linejoin:miter;stroke:rgb(0%,0%,0%);stroke-opacity:1;stroke-miterlimit:10;\" d=\"M 162 466.957031 C 162 468.773438 159.277344 468.773438 159.277344 466.957031 C 159.277344 465.144531 162 465.144531 162 466.957031 \"/>\n",
       "<path style=\"fill-rule:nonzero;fill:rgb(83.921569%,15.294118%,15.686275%);fill-opacity:1;stroke-width:1;stroke-linecap:butt;stroke-linejoin:miter;stroke:rgb(0%,0%,0%);stroke-opacity:1;stroke-miterlimit:10;\" d=\"M 70.40625 140.789062 C 70.40625 146.953125 61.160156 146.953125 61.160156 140.789062 C 61.160156 134.621094 70.40625 134.621094 70.40625 140.789062 \"/>\n",
       "<path style=\"fill-rule:nonzero;fill:rgb(83.921569%,15.294118%,15.686275%);fill-opacity:1;stroke-width:1;stroke-linecap:butt;stroke-linejoin:miter;stroke:rgb(0%,0%,0%);stroke-opacity:1;stroke-miterlimit:10;\" d=\"M 60.296875 169.480469 C 60.296875 173.007812 57.4375 175.867188 53.90625 175.867188 C 50.378906 175.867188 47.519531 173.007812 47.519531 169.480469 C 47.519531 165.949219 50.378906 163.089844 53.90625 163.089844 C 57.4375 163.089844 60.296875 165.949219 60.296875 169.480469 \"/>\n",
       "<path style=\"fill-rule:nonzero;fill:rgb(54.901961%,33.72549%,29.411765%);fill-opacity:1;stroke-width:1;stroke-linecap:butt;stroke-linejoin:miter;stroke:rgb(0%,0%,0%);stroke-opacity:1;stroke-miterlimit:10;\" d=\"M 591.933594 350.859375 C 591.933594 357.484375 586.5625 362.855469 579.933594 362.855469 C 573.308594 362.855469 567.9375 357.484375 567.9375 350.859375 C 567.9375 344.234375 573.308594 338.863281 579.933594 338.863281 C 586.5625 338.863281 591.933594 344.234375 591.933594 350.859375 \"/>\n",
       "<path style=\"fill-rule:nonzero;fill:rgb(54.901961%,33.72549%,29.411765%);fill-opacity:1;stroke-width:1;stroke-linecap:butt;stroke-linejoin:miter;stroke:rgb(0%,0%,0%);stroke-opacity:1;stroke-miterlimit:10;\" d=\"M 586.863281 319.523438 C 586.863281 323.316406 583.792969 326.390625 580 326.390625 C 576.207031 326.390625 573.136719 323.316406 573.136719 319.523438 C 573.136719 315.734375 576.207031 312.660156 580 312.660156 C 583.792969 312.660156 586.863281 315.734375 586.863281 319.523438 \"/>\n",
       "<path style=\"fill-rule:nonzero;fill:rgb(83.921569%,15.294118%,15.686275%);fill-opacity:1;stroke-width:1;stroke-linecap:butt;stroke-linejoin:miter;stroke:rgb(0%,0%,0%);stroke-opacity:1;stroke-miterlimit:10;\" d=\"M 334.210938 119.519531 C 334.210938 125.527344 325.199219 125.527344 325.199219 119.519531 C 325.199219 113.511719 334.210938 113.511719 334.210938 119.519531 \"/>\n",
       "<path style=\"fill-rule:nonzero;fill:rgb(54.901961%,33.72549%,29.411765%);fill-opacity:1;stroke-width:1;stroke-linecap:butt;stroke-linejoin:miter;stroke:rgb(0%,0%,0%);stroke-opacity:1;stroke-miterlimit:10;\" d=\"M 443.140625 273.265625 C 443.140625 279.378906 433.96875 279.378906 433.96875 273.265625 C 433.96875 267.148438 443.140625 267.148438 443.140625 273.265625 \"/>\n",
       "<g style=\"fill:rgb(0%,0%,0%);fill-opacity:1;\">\n",
       "  <use xlink:href=\"#glyph0-1\" x=\"399.363281\" y=\"536.261719\"/>\n",
       "  <use xlink:href=\"#glyph0-2\" x=\"408.701172\" y=\"536.261719\"/>\n",
       "  <use xlink:href=\"#glyph0-3\" x=\"418.039062\" y=\"536.261719\"/>\n",
       "</g>\n",
       "<g style=\"fill:rgb(0%,0%,0%);fill-opacity:1;\">\n",
       "  <use xlink:href=\"#glyph0-4\" x=\"368.390625\" y=\"552.609375\"/>\n",
       "  <use xlink:href=\"#glyph0-5\" x=\"378.500977\" y=\"552.609375\"/>\n",
       "  <use xlink:href=\"#glyph0-6\" x=\"389.390625\" y=\"552.609375\"/>\n",
       "</g>\n",
       "<g style=\"fill:rgb(0%,0%,0%);fill-opacity:1;\">\n",
       "  <use xlink:href=\"#glyph0-7\" x=\"491.4375\" y=\"403.824219\"/>\n",
       "  <use xlink:href=\"#glyph0-8\" x=\"500.775391\" y=\"403.824219\"/>\n",
       "  <use xlink:href=\"#glyph0-9\" x=\"510.113281\" y=\"403.824219\"/>\n",
       "</g>\n",
       "<g style=\"fill:rgb(0%,0%,0%);fill-opacity:1;\">\n",
       "  <use xlink:href=\"#glyph0-10\" x=\"468.523438\" y=\"368.15625\"/>\n",
       "  <use xlink:href=\"#glyph0-11\" x=\"477.075195\" y=\"368.15625\"/>\n",
       "  <use xlink:href=\"#glyph0-9\" x=\"487.185547\" y=\"368.15625\"/>\n",
       "</g>\n",
       "<g style=\"fill:rgb(0%,0%,0%);fill-opacity:1;\">\n",
       "  <use xlink:href=\"#glyph0-6\" x=\"494.71875\" y=\"450.179688\"/>\n",
       "  <use xlink:href=\"#glyph0-12\" x=\"502.504883\" y=\"450.179688\"/>\n",
       "  <use xlink:href=\"#glyph0-3\" x=\"511.842773\" y=\"450.179688\"/>\n",
       "</g>\n",
       "<g style=\"fill:rgb(0%,0%,0%);fill-opacity:1;\">\n",
       "  <use xlink:href=\"#glyph0-13\" x=\"523.039062\" y=\"400.546875\"/>\n",
       "  <use xlink:href=\"#glyph0-5\" x=\"530.039062\" y=\"400.546875\"/>\n",
       "  <use xlink:href=\"#glyph0-9\" x=\"540.928711\" y=\"400.546875\"/>\n",
       "</g>\n",
       "<g style=\"fill:rgb(0%,0%,0%);fill-opacity:1;\">\n",
       "  <use xlink:href=\"#glyph0-14\" x=\"433.992188\" y=\"196.367188\"/>\n",
       "  <use xlink:href=\"#glyph0-14\" x=\"445.654297\" y=\"196.367188\"/>\n",
       "  <use xlink:href=\"#glyph0-9\" x=\"457.316406\" y=\"196.367188\"/>\n",
       "</g>\n",
       "<g style=\"fill:rgb(0%,0%,0%);fill-opacity:1;\">\n",
       "  <use xlink:href=\"#glyph0-12\" x=\"405.597656\" y=\"211.203125\"/>\n",
       "  <use xlink:href=\"#glyph0-15\" x=\"414.935547\" y=\"211.203125\"/>\n",
       "  <use xlink:href=\"#glyph0-16\" x=\"425.825195\" y=\"211.203125\"/>\n",
       "</g>\n",
       "<g style=\"fill:rgb(0%,0%,0%);fill-opacity:1;\">\n",
       "  <use xlink:href=\"#glyph0-17\" x=\"509.632812\" y=\"272.394531\"/>\n",
       "  <use xlink:href=\"#glyph0-18\" x=\"518.970703\" y=\"272.394531\"/>\n",
       "  <use xlink:href=\"#glyph0-15\" x=\"527.522461\" y=\"272.394531\"/>\n",
       "</g>\n",
       "<g style=\"fill:rgb(0%,0%,0%);fill-opacity:1;\">\n",
       "  <use xlink:href=\"#glyph0-19\" x=\"494.011719\" y=\"330.011719\"/>\n",
       "  <use xlink:href=\"#glyph0-9\" x=\"497.901367\" y=\"330.011719\"/>\n",
       "  <use xlink:href=\"#glyph0-3\" x=\"508.011719\" y=\"330.011719\"/>\n",
       "</g>\n",
       "<g style=\"fill:rgb(0%,0%,0%);fill-opacity:1;\">\n",
       "  <use xlink:href=\"#glyph0-20\" x=\"536.902344\" y=\"275.929688\"/>\n",
       "  <use xlink:href=\"#glyph0-17\" x=\"546.240234\" y=\"275.929688\"/>\n",
       "  <use xlink:href=\"#glyph0-21\" x=\"555.578125\" y=\"275.929688\"/>\n",
       "</g>\n",
       "<g style=\"fill:rgb(0%,0%,0%);fill-opacity:1;\">\n",
       "  <use xlink:href=\"#glyph0-11\" x=\"337.203125\" y=\"45.636719\"/>\n",
       "  <use xlink:href=\"#glyph0-21\" x=\"347.313477\" y=\"45.636719\"/>\n",
       "  <use xlink:href=\"#glyph0-9\" x=\"356.651367\" y=\"45.636719\"/>\n",
       "</g>\n",
       "<g style=\"fill:rgb(0%,0%,0%);fill-opacity:1;\">\n",
       "  <use xlink:href=\"#glyph0-9\" x=\"337.296875\" y=\"90.679688\"/>\n",
       "  <use xlink:href=\"#glyph0-11\" x=\"347.407227\" y=\"90.679688\"/>\n",
       "  <use xlink:href=\"#glyph0-7\" x=\"357.517578\" y=\"90.679688\"/>\n",
       "</g>\n",
       "<g style=\"fill:rgb(0%,0%,0%);fill-opacity:1;\">\n",
       "  <use xlink:href=\"#glyph0-4\" x=\"289.683594\" y=\"422.84375\"/>\n",
       "  <use xlink:href=\"#glyph0-19\" x=\"299.793945\" y=\"422.84375\"/>\n",
       "  <use xlink:href=\"#glyph0-1\" x=\"303.683594\" y=\"422.84375\"/>\n",
       "</g>\n",
       "<g style=\"fill:rgb(0%,0%,0%);fill-opacity:1;\">\n",
       "  <use xlink:href=\"#glyph0-6\" x=\"322.152344\" y=\"433.699219\"/>\n",
       "  <use xlink:href=\"#glyph0-12\" x=\"329.938477\" y=\"433.699219\"/>\n",
       "  <use xlink:href=\"#glyph0-9\" x=\"339.276367\" y=\"433.699219\"/>\n",
       "</g>\n",
       "<g style=\"fill:rgb(0%,0%,0%);fill-opacity:1;\">\n",
       "  <use xlink:href=\"#glyph0-19\" x=\"497.546875\" y=\"369.273438\"/>\n",
       "  <use xlink:href=\"#glyph0-9\" x=\"501.436523\" y=\"369.273438\"/>\n",
       "  <use xlink:href=\"#glyph0-22\" x=\"511.546875\" y=\"369.273438\"/>\n",
       "</g>\n",
       "<g style=\"fill:rgb(0%,0%,0%);fill-opacity:1;\">\n",
       "  <use xlink:href=\"#glyph0-7\" x=\"298.144531\" y=\"243.875\"/>\n",
       "  <use xlink:href=\"#glyph0-5\" x=\"307.482422\" y=\"243.875\"/>\n",
       "  <use xlink:href=\"#glyph0-14\" x=\"318.37207\" y=\"243.875\"/>\n",
       "</g>\n",
       "<g style=\"fill:rgb(0%,0%,0%);fill-opacity:1;\">\n",
       "  <use xlink:href=\"#glyph0-21\" x=\"251.742188\" y=\"254.808594\"/>\n",
       "  <use xlink:href=\"#glyph0-2\" x=\"261.080078\" y=\"254.808594\"/>\n",
       "  <use xlink:href=\"#glyph0-3\" x=\"270.417969\" y=\"254.808594\"/>\n",
       "</g>\n",
       "<g style=\"fill:rgb(0%,0%,0%);fill-opacity:1;\">\n",
       "  <use xlink:href=\"#glyph0-6\" x=\"195.382812\" y=\"195.769531\"/>\n",
       "  <use xlink:href=\"#glyph0-12\" x=\"203.168945\" y=\"195.769531\"/>\n",
       "  <use xlink:href=\"#glyph0-8\" x=\"212.506836\" y=\"195.769531\"/>\n",
       "</g>\n",
       "<g style=\"fill:rgb(0%,0%,0%);fill-opacity:1;\">\n",
       "  <use xlink:href=\"#glyph0-10\" x=\"186.964844\" y=\"146.242188\"/>\n",
       "  <use xlink:href=\"#glyph0-11\" x=\"195.516602\" y=\"146.242188\"/>\n",
       "  <use xlink:href=\"#glyph0-3\" x=\"205.626953\" y=\"146.242188\"/>\n",
       "</g>\n",
       "<g style=\"fill:rgb(0%,0%,0%);fill-opacity:1;\">\n",
       "  <use xlink:href=\"#glyph0-23\" x=\"166.226562\" y=\"509.042969\"/>\n",
       "  <use xlink:href=\"#glyph0-24\" x=\"174.77832\" y=\"509.042969\"/>\n",
       "  <use xlink:href=\"#glyph0-2\" x=\"187.992188\" y=\"509.042969\"/>\n",
       "</g>\n",
       "<g style=\"fill:rgb(0%,0%,0%);fill-opacity:1;\">\n",
       "  <use xlink:href=\"#glyph0-23\" x=\"158.953125\" y=\"541.34375\"/>\n",
       "  <use xlink:href=\"#glyph0-17\" x=\"167.504883\" y=\"541.34375\"/>\n",
       "  <use xlink:href=\"#glyph0-18\" x=\"176.842773\" y=\"541.34375\"/>\n",
       "</g>\n",
       "<g style=\"fill:rgb(0%,0%,0%);fill-opacity:1;\">\n",
       "  <use xlink:href=\"#glyph0-12\" x=\"402.734375\" y=\"502.558594\"/>\n",
       "  <use xlink:href=\"#glyph0-9\" x=\"412.072266\" y=\"502.558594\"/>\n",
       "  <use xlink:href=\"#glyph0-17\" x=\"422.182617\" y=\"502.558594\"/>\n",
       "</g>\n",
       "<g style=\"fill:rgb(0%,0%,0%);fill-opacity:1;\">\n",
       "  <use xlink:href=\"#glyph0-7\" x=\"224.835938\" y=\"235.082031\"/>\n",
       "  <use xlink:href=\"#glyph0-16\" x=\"234.173828\" y=\"235.082031\"/>\n",
       "  <use xlink:href=\"#glyph0-3\" x=\"244.28418\" y=\"235.082031\"/>\n",
       "</g>\n",
       "<g style=\"fill:rgb(0%,0%,0%);fill-opacity:1;\">\n",
       "  <use xlink:href=\"#glyph0-10\" x=\"190.652344\" y=\"259.113281\"/>\n",
       "  <use xlink:href=\"#glyph0-4\" x=\"199.204102\" y=\"259.113281\"/>\n",
       "  <use xlink:href=\"#glyph0-16\" x=\"209.314453\" y=\"259.113281\"/>\n",
       "</g>\n",
       "<g style=\"fill:rgb(0%,0%,0%);fill-opacity:1;\">\n",
       "  <use xlink:href=\"#glyph0-4\" x=\"175.785156\" y=\"229.292969\"/>\n",
       "  <use xlink:href=\"#glyph0-17\" x=\"185.895508\" y=\"229.292969\"/>\n",
       "  <use xlink:href=\"#glyph0-18\" x=\"195.233398\" y=\"229.292969\"/>\n",
       "</g>\n",
       "<g style=\"fill:rgb(0%,0%,0%);fill-opacity:1;\">\n",
       "  <use xlink:href=\"#glyph0-4\" x=\"162.152344\" y=\"273.140625\"/>\n",
       "  <use xlink:href=\"#glyph0-14\" x=\"172.262695\" y=\"273.140625\"/>\n",
       "  <use xlink:href=\"#glyph0-9\" x=\"183.924805\" y=\"273.140625\"/>\n",
       "</g>\n",
       "<g style=\"fill:rgb(0%,0%,0%);fill-opacity:1;\">\n",
       "  <use xlink:href=\"#glyph0-12\" x=\"99.464844\" y=\"309.984375\"/>\n",
       "  <use xlink:href=\"#glyph0-16\" x=\"108.802734\" y=\"309.984375\"/>\n",
       "  <use xlink:href=\"#glyph0-19\" x=\"118.913086\" y=\"309.984375\"/>\n",
       "</g>\n",
       "<g style=\"fill:rgb(0%,0%,0%);fill-opacity:1;\">\n",
       "  <use xlink:href=\"#glyph0-10\" x=\"82.707031\" y=\"285.238281\"/>\n",
       "  <use xlink:href=\"#glyph0-23\" x=\"91.258789\" y=\"285.238281\"/>\n",
       "  <use xlink:href=\"#glyph0-17\" x=\"99.810547\" y=\"285.238281\"/>\n",
       "</g>\n",
       "<g style=\"fill:rgb(0%,0%,0%);fill-opacity:1;\">\n",
       "  <use xlink:href=\"#glyph0-3\" x=\"7.707031\" y=\"318.777344\"/>\n",
       "  <use xlink:href=\"#glyph0-19\" x=\"17.817383\" y=\"318.777344\"/>\n",
       "  <use xlink:href=\"#glyph0-4\" x=\"21.707031\" y=\"318.777344\"/>\n",
       "</g>\n",
       "<g style=\"fill:rgb(0%,0%,0%);fill-opacity:1;\">\n",
       "  <use xlink:href=\"#glyph0-4\" x=\"9.464844\" y=\"348.238281\"/>\n",
       "  <use xlink:href=\"#glyph0-9\" x=\"19.575195\" y=\"348.238281\"/>\n",
       "  <use xlink:href=\"#glyph0-19\" x=\"29.685547\" y=\"348.238281\"/>\n",
       "</g>\n",
       "<g style=\"fill:rgb(0%,0%,0%);fill-opacity:1;\">\n",
       "  <use xlink:href=\"#glyph0-2\" x=\"271.550781\" y=\"227.75\"/>\n",
       "  <use xlink:href=\"#glyph0-10\" x=\"280.888672\" y=\"227.75\"/>\n",
       "  <use xlink:href=\"#glyph0-25\" x=\"289.44043\" y=\"227.75\"/>\n",
       "</g>\n",
       "<g style=\"fill:rgb(0%,0%,0%);fill-opacity:1;\">\n",
       "  <use xlink:href=\"#glyph0-2\" x=\"253\" y=\"203.875\"/>\n",
       "  <use xlink:href=\"#glyph0-9\" x=\"262.337891\" y=\"203.875\"/>\n",
       "  <use xlink:href=\"#glyph0-19\" x=\"272.448242\" y=\"203.875\"/>\n",
       "</g>\n",
       "<g style=\"fill:rgb(0%,0%,0%);fill-opacity:1;\">\n",
       "  <use xlink:href=\"#glyph0-17\" x=\"396.597656\" y=\"80.421875\"/>\n",
       "  <use xlink:href=\"#glyph0-23\" x=\"405.935547\" y=\"80.421875\"/>\n",
       "  <use xlink:href=\"#glyph0-2\" x=\"414.487305\" y=\"80.421875\"/>\n",
       "</g>\n",
       "<g style=\"fill:rgb(0%,0%,0%);fill-opacity:1;\">\n",
       "  <use xlink:href=\"#glyph0-17\" x=\"437.382812\" y=\"87.824219\"/>\n",
       "  <use xlink:href=\"#glyph0-9\" x=\"446.720703\" y=\"87.824219\"/>\n",
       "  <use xlink:href=\"#glyph0-14\" x=\"456.831055\" y=\"87.824219\"/>\n",
       "</g>\n",
       "<g style=\"fill:rgb(0%,0%,0%);fill-opacity:1;\">\n",
       "  <use xlink:href=\"#glyph0-9\" x=\"125.6875\" y=\"293.160156\"/>\n",
       "  <use xlink:href=\"#glyph0-24\" x=\"135.797852\" y=\"293.160156\"/>\n",
       "  <use xlink:href=\"#glyph0-17\" x=\"149.011719\" y=\"293.160156\"/>\n",
       "</g>\n",
       "<g style=\"fill:rgb(0%,0%,0%);fill-opacity:1;\">\n",
       "  <use xlink:href=\"#glyph0-14\" x=\"238.609375\" y=\"381.640625\"/>\n",
       "  <use xlink:href=\"#glyph0-6\" x=\"250.271484\" y=\"381.640625\"/>\n",
       "  <use xlink:href=\"#glyph0-19\" x=\"258.057617\" y=\"381.640625\"/>\n",
       "</g>\n",
       "<g style=\"fill:rgb(0%,0%,0%);fill-opacity:1;\">\n",
       "  <use xlink:href=\"#glyph0-14\" x=\"210.085938\" y=\"406.84375\"/>\n",
       "  <use xlink:href=\"#glyph0-9\" x=\"221.748047\" y=\"406.84375\"/>\n",
       "  <use xlink:href=\"#glyph0-10\" x=\"231.858398\" y=\"406.84375\"/>\n",
       "</g>\n",
       "<g style=\"fill:rgb(0%,0%,0%);fill-opacity:1;\">\n",
       "  <use xlink:href=\"#glyph0-7\" x=\"360.175781\" y=\"434.757812\"/>\n",
       "  <use xlink:href=\"#glyph0-6\" x=\"369.513672\" y=\"434.757812\"/>\n",
       "  <use xlink:href=\"#glyph0-2\" x=\"377.299805\" y=\"434.757812\"/>\n",
       "</g>\n",
       "<g style=\"fill:rgb(0%,0%,0%);fill-opacity:1;\">\n",
       "  <use xlink:href=\"#glyph0-3\" x=\"207.25\" y=\"333.503906\"/>\n",
       "  <use xlink:href=\"#glyph0-2\" x=\"217.360352\" y=\"333.503906\"/>\n",
       "  <use xlink:href=\"#glyph0-9\" x=\"226.698242\" y=\"333.503906\"/>\n",
       "</g>\n",
       "<g style=\"fill:rgb(0%,0%,0%);fill-opacity:1;\">\n",
       "  <use xlink:href=\"#glyph0-3\" x=\"179.113281\" y=\"307.015625\"/>\n",
       "  <use xlink:href=\"#glyph0-15\" x=\"189.223633\" y=\"307.015625\"/>\n",
       "  <use xlink:href=\"#glyph0-17\" x=\"200.113281\" y=\"307.015625\"/>\n",
       "</g>\n",
       "<g style=\"fill:rgb(0%,0%,0%);fill-opacity:1;\">\n",
       "  <use xlink:href=\"#glyph0-10\" x=\"434.964844\" y=\"242.058594\"/>\n",
       "  <use xlink:href=\"#glyph0-25\" x=\"443.516602\" y=\"242.058594\"/>\n",
       "  <use xlink:href=\"#glyph0-17\" x=\"453.626953\" y=\"242.058594\"/>\n",
       "</g>\n",
       "<g style=\"fill:rgb(0%,0%,0%);fill-opacity:1;\">\n",
       "  <use xlink:href=\"#glyph0-12\" x=\"262.121094\" y=\"399.039062\"/>\n",
       "  <use xlink:href=\"#glyph0-18\" x=\"271.458984\" y=\"399.039062\"/>\n",
       "  <use xlink:href=\"#glyph0-17\" x=\"280.010742\" y=\"399.039062\"/>\n",
       "</g>\n",
       "<g style=\"fill:rgb(0%,0%,0%);fill-opacity:1;\">\n",
       "  <use xlink:href=\"#glyph0-17\" x=\"97.742188\" y=\"411.074219\"/>\n",
       "  <use xlink:href=\"#glyph0-15\" x=\"107.080078\" y=\"411.074219\"/>\n",
       "  <use xlink:href=\"#glyph0-5\" x=\"117.969727\" y=\"411.074219\"/>\n",
       "</g>\n",
       "<g style=\"fill:rgb(0%,0%,0%);fill-opacity:1;\">\n",
       "  <use xlink:href=\"#glyph0-23\" x=\"72.6875\" y=\"385.847656\"/>\n",
       "  <use xlink:href=\"#glyph0-14\" x=\"81.239258\" y=\"385.847656\"/>\n",
       "  <use xlink:href=\"#glyph0-12\" x=\"92.901367\" y=\"385.847656\"/>\n",
       "</g>\n",
       "<g style=\"fill:rgb(0%,0%,0%);fill-opacity:1;\">\n",
       "  <use xlink:href=\"#glyph0-14\" x=\"34.660156\" y=\"445.140625\"/>\n",
       "  <use xlink:href=\"#glyph0-2\" x=\"46.322266\" y=\"445.140625\"/>\n",
       "  <use xlink:href=\"#glyph0-26\" x=\"55.660156\" y=\"445.140625\"/>\n",
       "</g>\n",
       "<g style=\"fill:rgb(0%,0%,0%);fill-opacity:1;\">\n",
       "  <use xlink:href=\"#glyph0-11\" x=\"55.832031\" y=\"475.785156\"/>\n",
       "  <use xlink:href=\"#glyph0-7\" x=\"65.942383\" y=\"475.785156\"/>\n",
       "  <use xlink:href=\"#glyph0-17\" x=\"75.280273\" y=\"475.785156\"/>\n",
       "</g>\n",
       "<g style=\"fill:rgb(0%,0%,0%);fill-opacity:1;\">\n",
       "  <use xlink:href=\"#glyph0-15\" x=\"334.84375\" y=\"412.226562\"/>\n",
       "  <use xlink:href=\"#glyph0-19\" x=\"345.733398\" y=\"412.226562\"/>\n",
       "  <use xlink:href=\"#glyph0-3\" x=\"349.623047\" y=\"412.226562\"/>\n",
       "</g>\n",
       "<g style=\"fill:rgb(0%,0%,0%);fill-opacity:1;\">\n",
       "  <use xlink:href=\"#glyph0-2\" x=\"328.546875\" y=\"567.476562\"/>\n",
       "  <use xlink:href=\"#glyph0-4\" x=\"337.884766\" y=\"567.476562\"/>\n",
       "  <use xlink:href=\"#glyph0-11\" x=\"347.995117\" y=\"567.476562\"/>\n",
       "</g>\n",
       "<g style=\"fill:rgb(0%,0%,0%);fill-opacity:1;\">\n",
       "  <use xlink:href=\"#glyph0-10\" x=\"273.761719\" y=\"505.628906\"/>\n",
       "  <use xlink:href=\"#glyph0-15\" x=\"282.313477\" y=\"505.628906\"/>\n",
       "  <use xlink:href=\"#glyph0-5\" x=\"293.203125\" y=\"505.628906\"/>\n",
       "</g>\n",
       "<g style=\"fill:rgb(0%,0%,0%);fill-opacity:1;\">\n",
       "  <use xlink:href=\"#glyph0-15\" x=\"278.707031\" y=\"473.871094\"/>\n",
       "  <use xlink:href=\"#glyph0-25\" x=\"289.59668\" y=\"473.871094\"/>\n",
       "  <use xlink:href=\"#glyph0-17\" x=\"299.707031\" y=\"473.871094\"/>\n",
       "</g>\n",
       "<g style=\"fill:rgb(0%,0%,0%);fill-opacity:1;\">\n",
       "  <use xlink:href=\"#glyph0-12\" x=\"256.316406\" y=\"535.0625\"/>\n",
       "  <use xlink:href=\"#glyph0-2\" x=\"265.654297\" y=\"535.0625\"/>\n",
       "  <use xlink:href=\"#glyph0-3\" x=\"274.992188\" y=\"535.0625\"/>\n",
       "</g>\n",
       "<g style=\"fill:rgb(0%,0%,0%);fill-opacity:1;\">\n",
       "  <use xlink:href=\"#glyph0-4\" x=\"389.652344\" y=\"127.003906\"/>\n",
       "  <use xlink:href=\"#glyph0-25\" x=\"399.762695\" y=\"127.003906\"/>\n",
       "  <use xlink:href=\"#glyph0-3\" x=\"409.873047\" y=\"127.003906\"/>\n",
       "</g>\n",
       "<g style=\"fill:rgb(0%,0%,0%);fill-opacity:1;\">\n",
       "  <use xlink:href=\"#glyph0-19\" x=\"430.457031\" y=\"154.34375\"/>\n",
       "  <use xlink:href=\"#glyph0-3\" x=\"434.34668\" y=\"154.34375\"/>\n",
       "  <use xlink:href=\"#glyph0-16\" x=\"444.457031\" y=\"154.34375\"/>\n",
       "</g>\n",
       "<g style=\"fill:rgb(0%,0%,0%);fill-opacity:1;\">\n",
       "  <use xlink:href=\"#glyph0-15\" x=\"436.582031\" y=\"535.894531\"/>\n",
       "  <use xlink:href=\"#glyph0-11\" x=\"447.47168\" y=\"535.894531\"/>\n",
       "  <use xlink:href=\"#glyph0-8\" x=\"457.582031\" y=\"535.894531\"/>\n",
       "</g>\n",
       "<g style=\"fill:rgb(0%,0%,0%);fill-opacity:1;\">\n",
       "  <use xlink:href=\"#glyph0-11\" x=\"206.085938\" y=\"275.109375\"/>\n",
       "  <use xlink:href=\"#glyph0-15\" x=\"216.196289\" y=\"275.109375\"/>\n",
       "  <use xlink:href=\"#glyph0-17\" x=\"227.085938\" y=\"275.109375\"/>\n",
       "</g>\n",
       "<g style=\"fill:rgb(0%,0%,0%);fill-opacity:1;\">\n",
       "  <use xlink:href=\"#glyph0-11\" x=\"499.84375\" y=\"228.296875\"/>\n",
       "  <use xlink:href=\"#glyph0-23\" x=\"509.954102\" y=\"228.296875\"/>\n",
       "  <use xlink:href=\"#glyph0-12\" x=\"518.505859\" y=\"228.296875\"/>\n",
       "</g>\n",
       "<g style=\"fill:rgb(0%,0%,0%);fill-opacity:1;\">\n",
       "  <use xlink:href=\"#glyph0-2\" x=\"267.9375\" y=\"282.613281\"/>\n",
       "  <use xlink:href=\"#glyph0-15\" x=\"277.275391\" y=\"282.613281\"/>\n",
       "  <use xlink:href=\"#glyph0-8\" x=\"288.165039\" y=\"282.613281\"/>\n",
       "</g>\n",
       "<g style=\"fill:rgb(0%,0%,0%);fill-opacity:1;\">\n",
       "  <use xlink:href=\"#glyph0-19\" x=\"493.554688\" y=\"485.285156\"/>\n",
       "  <use xlink:href=\"#glyph0-7\" x=\"497.444336\" y=\"485.285156\"/>\n",
       "  <use xlink:href=\"#glyph0-9\" x=\"506.782227\" y=\"485.285156\"/>\n",
       "</g>\n",
       "<g style=\"fill:rgb(0%,0%,0%);fill-opacity:1;\">\n",
       "  <use xlink:href=\"#glyph0-20\" x=\"314.226562\" y=\"55.488281\"/>\n",
       "  <use xlink:href=\"#glyph0-5\" x=\"323.564453\" y=\"55.488281\"/>\n",
       "  <use xlink:href=\"#glyph0-6\" x=\"334.454102\" y=\"55.488281\"/>\n",
       "</g>\n",
       "<g style=\"fill:rgb(0%,0%,0%);fill-opacity:1;\">\n",
       "  <use xlink:href=\"#glyph0-4\" x=\"128.53125\" y=\"192.753906\"/>\n",
       "  <use xlink:href=\"#glyph0-5\" x=\"138.641602\" y=\"192.753906\"/>\n",
       "  <use xlink:href=\"#glyph0-15\" x=\"149.53125\" y=\"192.753906\"/>\n",
       "</g>\n",
       "<g style=\"fill:rgb(0%,0%,0%);fill-opacity:1;\">\n",
       "  <use xlink:href=\"#glyph0-19\" x=\"9.519531\" y=\"258.695312\"/>\n",
       "  <use xlink:href=\"#glyph0-16\" x=\"13.40918\" y=\"258.695312\"/>\n",
       "  <use xlink:href=\"#glyph0-3\" x=\"23.519531\" y=\"258.695312\"/>\n",
       "</g>\n",
       "<g style=\"fill:rgb(0%,0%,0%);fill-opacity:1;\">\n",
       "  <use xlink:href=\"#glyph0-14\" x=\"19.710938\" y=\"232.339844\"/>\n",
       "  <use xlink:href=\"#glyph0-8\" x=\"31.373047\" y=\"232.339844\"/>\n",
       "  <use xlink:href=\"#glyph0-7\" x=\"40.710938\" y=\"232.339844\"/>\n",
       "</g>\n",
       "<g style=\"fill:rgb(0%,0%,0%);fill-opacity:1;\">\n",
       "  <use xlink:href=\"#glyph0-10\" x=\"533.414062\" y=\"229.597656\"/>\n",
       "  <use xlink:href=\"#glyph0-13\" x=\"541.96582\" y=\"229.597656\"/>\n",
       "  <use xlink:href=\"#glyph0-21\" x=\"548.96582\" y=\"229.597656\"/>\n",
       "</g>\n",
       "<g style=\"fill:rgb(0%,0%,0%);fill-opacity:1;\">\n",
       "  <use xlink:href=\"#glyph0-14\" x=\"189.238281\" y=\"543.855469\"/>\n",
       "  <use xlink:href=\"#glyph0-5\" x=\"200.900391\" y=\"543.855469\"/>\n",
       "  <use xlink:href=\"#glyph0-23\" x=\"211.790039\" y=\"543.855469\"/>\n",
       "</g>\n",
       "<g style=\"fill:rgb(0%,0%,0%);fill-opacity:1;\">\n",
       "  <use xlink:href=\"#glyph0-14\" x=\"213.460938\" y=\"575.460938\"/>\n",
       "  <use xlink:href=\"#glyph0-24\" x=\"225.123047\" y=\"575.460938\"/>\n",
       "  <use xlink:href=\"#glyph0-19\" x=\"238.336914\" y=\"575.460938\"/>\n",
       "</g>\n",
       "<g style=\"fill:rgb(0%,0%,0%);fill-opacity:1;\">\n",
       "  <use xlink:href=\"#glyph0-3\" x=\"122.375\" y=\"440.945312\"/>\n",
       "  <use xlink:href=\"#glyph0-17\" x=\"132.485352\" y=\"440.945312\"/>\n",
       "  <use xlink:href=\"#glyph0-14\" x=\"141.823242\" y=\"440.945312\"/>\n",
       "</g>\n",
       "<g style=\"fill:rgb(0%,0%,0%);fill-opacity:1;\">\n",
       "  <use xlink:href=\"#glyph0-7\" x=\"146.335938\" y=\"78.304688\"/>\n",
       "  <use xlink:href=\"#glyph0-2\" x=\"155.673828\" y=\"78.304688\"/>\n",
       "  <use xlink:href=\"#glyph0-3\" x=\"165.011719\" y=\"78.304688\"/>\n",
       "</g>\n",
       "<g style=\"fill:rgb(0%,0%,0%);fill-opacity:1;\">\n",
       "  <use xlink:href=\"#glyph0-15\" x=\"175.992188\" y=\"64.765625\"/>\n",
       "  <use xlink:href=\"#glyph0-3\" x=\"186.881836\" y=\"64.765625\"/>\n",
       "  <use xlink:href=\"#glyph0-12\" x=\"196.992188\" y=\"64.765625\"/>\n",
       "</g>\n",
       "<g style=\"fill:rgb(0%,0%,0%);fill-opacity:1;\">\n",
       "  <use xlink:href=\"#glyph0-15\" x=\"114.09375\" y=\"92.621094\"/>\n",
       "  <use xlink:href=\"#glyph0-14\" x=\"124.983398\" y=\"92.621094\"/>\n",
       "  <use xlink:href=\"#glyph0-12\" x=\"136.645508\" y=\"92.621094\"/>\n",
       "</g>\n",
       "<g style=\"fill:rgb(0%,0%,0%);fill-opacity:1;\">\n",
       "  <use xlink:href=\"#glyph0-16\" x=\"326.386719\" y=\"222.917969\"/>\n",
       "  <use xlink:href=\"#glyph0-13\" x=\"336.49707\" y=\"222.917969\"/>\n",
       "  <use xlink:href=\"#glyph0-19\" x=\"343.49707\" y=\"222.917969\"/>\n",
       "</g>\n",
       "<g style=\"fill:rgb(0%,0%,0%);fill-opacity:1;\">\n",
       "  <use xlink:href=\"#glyph0-15\" x=\"104.25\" y=\"162.851562\"/>\n",
       "  <use xlink:href=\"#glyph0-17\" x=\"115.139648\" y=\"162.851562\"/>\n",
       "  <use xlink:href=\"#glyph0-12\" x=\"124.477539\" y=\"162.851562\"/>\n",
       "</g>\n",
       "<g style=\"fill:rgb(0%,0%,0%);fill-opacity:1;\">\n",
       "  <use xlink:href=\"#glyph0-21\" x=\"282.328125\" y=\"73.148438\"/>\n",
       "  <use xlink:href=\"#glyph0-17\" x=\"291.666016\" y=\"73.148438\"/>\n",
       "  <use xlink:href=\"#glyph0-23\" x=\"301.003906\" y=\"73.148438\"/>\n",
       "</g>\n",
       "<g style=\"fill:rgb(0%,0%,0%);fill-opacity:1;\">\n",
       "  <use xlink:href=\"#glyph0-20\" x=\"376.050781\" y=\"584.195312\"/>\n",
       "  <use xlink:href=\"#glyph0-17\" x=\"385.388672\" y=\"584.195312\"/>\n",
       "  <use xlink:href=\"#glyph0-3\" x=\"394.726562\" y=\"584.195312\"/>\n",
       "</g>\n",
       "<g style=\"fill:rgb(0%,0%,0%);fill-opacity:1;\">\n",
       "  <use xlink:href=\"#glyph0-15\" x=\"430.117188\" y=\"388.472656\"/>\n",
       "  <use xlink:href=\"#glyph0-9\" x=\"441.006836\" y=\"388.472656\"/>\n",
       "  <use xlink:href=\"#glyph0-4\" x=\"451.117188\" y=\"388.472656\"/>\n",
       "</g>\n",
       "<g style=\"fill:rgb(0%,0%,0%);fill-opacity:1;\">\n",
       "  <use xlink:href=\"#glyph0-15\" x=\"17.800781\" y=\"415.152344\"/>\n",
       "  <use xlink:href=\"#glyph0-10\" x=\"28.69043\" y=\"415.152344\"/>\n",
       "  <use xlink:href=\"#glyph0-14\" x=\"37.242188\" y=\"415.152344\"/>\n",
       "</g>\n",
       "<g style=\"fill:rgb(0%,0%,0%);fill-opacity:1;\">\n",
       "  <use xlink:href=\"#glyph0-21\" x=\"517.082031\" y=\"195.179688\"/>\n",
       "  <use xlink:href=\"#glyph0-15\" x=\"526.419922\" y=\"195.179688\"/>\n",
       "  <use xlink:href=\"#glyph0-23\" x=\"537.30957\" y=\"195.179688\"/>\n",
       "</g>\n",
       "<g style=\"fill:rgb(0%,0%,0%);fill-opacity:1;\">\n",
       "  <use xlink:href=\"#glyph0-15\" x=\"356.886719\" y=\"110.292969\"/>\n",
       "  <use xlink:href=\"#glyph0-2\" x=\"367.776367\" y=\"110.292969\"/>\n",
       "  <use xlink:href=\"#glyph0-5\" x=\"377.114258\" y=\"110.292969\"/>\n",
       "</g>\n",
       "<g style=\"fill:rgb(0%,0%,0%);fill-opacity:1;\">\n",
       "  <use xlink:href=\"#glyph0-6\" x=\"135.417969\" y=\"564.480469\"/>\n",
       "  <use xlink:href=\"#glyph0-7\" x=\"143.204102\" y=\"564.480469\"/>\n",
       "  <use xlink:href=\"#glyph0-5\" x=\"152.541992\" y=\"564.480469\"/>\n",
       "</g>\n",
       "<g style=\"fill:rgb(0%,0%,0%);fill-opacity:1;\">\n",
       "  <use xlink:href=\"#glyph0-20\" x=\"298.113281\" y=\"586.632812\"/>\n",
       "  <use xlink:href=\"#glyph0-2\" x=\"307.451172\" y=\"586.632812\"/>\n",
       "  <use xlink:href=\"#glyph0-9\" x=\"316.789062\" y=\"586.632812\"/>\n",
       "</g>\n",
       "<g style=\"fill:rgb(0%,0%,0%);fill-opacity:1;\">\n",
       "  <use xlink:href=\"#glyph0-17\" x=\"425.195312\" y=\"424.363281\"/>\n",
       "  <use xlink:href=\"#glyph0-6\" x=\"434.533203\" y=\"424.363281\"/>\n",
       "  <use xlink:href=\"#glyph0-12\" x=\"442.319336\" y=\"424.363281\"/>\n",
       "</g>\n",
       "<g style=\"fill:rgb(0%,0%,0%);fill-opacity:1;\">\n",
       "  <use xlink:href=\"#glyph0-12\" x=\"302.324219\" y=\"26.632812\"/>\n",
       "  <use xlink:href=\"#glyph0-6\" x=\"311.662109\" y=\"26.632812\"/>\n",
       "  <use xlink:href=\"#glyph0-9\" x=\"319.448242\" y=\"26.632812\"/>\n",
       "</g>\n",
       "<g style=\"fill:rgb(0%,0%,0%);fill-opacity:1;\">\n",
       "  <use xlink:href=\"#glyph0-4\" x=\"75.871094\" y=\"503.390625\"/>\n",
       "  <use xlink:href=\"#glyph0-17\" x=\"85.981445\" y=\"503.390625\"/>\n",
       "  <use xlink:href=\"#glyph0-3\" x=\"95.319336\" y=\"503.390625\"/>\n",
       "</g>\n",
       "<g style=\"fill:rgb(0%,0%,0%);fill-opacity:1;\">\n",
       "  <use xlink:href=\"#glyph0-3\" x=\"285.390625\" y=\"102.785156\"/>\n",
       "  <use xlink:href=\"#glyph0-5\" x=\"295.500977\" y=\"102.785156\"/>\n",
       "  <use xlink:href=\"#glyph0-9\" x=\"306.390625\" y=\"102.785156\"/>\n",
       "</g>\n",
       "<g style=\"fill:rgb(0%,0%,0%);fill-opacity:1;\">\n",
       "  <use xlink:href=\"#glyph0-12\" x=\"144.265625\" y=\"473.589844\"/>\n",
       "  <use xlink:href=\"#glyph0-24\" x=\"153.603516\" y=\"473.589844\"/>\n",
       "  <use xlink:href=\"#glyph0-17\" x=\"166.817383\" y=\"473.589844\"/>\n",
       "</g>\n",
       "<g style=\"fill:rgb(0%,0%,0%);fill-opacity:1;\">\n",
       "  <use xlink:href=\"#glyph0-7\" x=\"51.476562\" y=\"147.554688\"/>\n",
       "  <use xlink:href=\"#glyph0-1\" x=\"60.814453\" y=\"147.554688\"/>\n",
       "  <use xlink:href=\"#glyph0-21\" x=\"70.152344\" y=\"147.554688\"/>\n",
       "</g>\n",
       "<g style=\"fill:rgb(0%,0%,0%);fill-opacity:1;\">\n",
       "  <use xlink:href=\"#glyph0-4\" x=\"39.957031\" y=\"176.246094\"/>\n",
       "  <use xlink:href=\"#glyph0-23\" x=\"50.067383\" y=\"176.246094\"/>\n",
       "  <use xlink:href=\"#glyph0-2\" x=\"58.619141\" y=\"176.246094\"/>\n",
       "</g>\n",
       "<g style=\"fill:rgb(0%,0%,0%);fill-opacity:1;\">\n",
       "  <use xlink:href=\"#glyph0-1\" x=\"564.703125\" y=\"357.488281\"/>\n",
       "  <use xlink:href=\"#glyph0-3\" x=\"574.041016\" y=\"357.488281\"/>\n",
       "  <use xlink:href=\"#glyph0-14\" x=\"584.151367\" y=\"357.488281\"/>\n",
       "</g>\n",
       "<g style=\"fill:rgb(0%,0%,0%);fill-opacity:1;\">\n",
       "  <use xlink:href=\"#glyph0-21\" x=\"564.414062\" y=\"326.15625\"/>\n",
       "  <use xlink:href=\"#glyph0-25\" x=\"573.751953\" y=\"326.15625\"/>\n",
       "  <use xlink:href=\"#glyph0-14\" x=\"583.862305\" y=\"326.15625\"/>\n",
       "</g>\n",
       "<g style=\"fill:rgb(0%,0%,0%);fill-opacity:1;\">\n",
       "  <use xlink:href=\"#glyph0-18\" x=\"318.367188\" y=\"126.152344\"/>\n",
       "  <use xlink:href=\"#glyph0-19\" x=\"326.918945\" y=\"126.152344\"/>\n",
       "  <use xlink:href=\"#glyph0-3\" x=\"330.808594\" y=\"126.152344\"/>\n",
       "</g>\n",
       "<g style=\"fill:rgb(0%,0%,0%);fill-opacity:1;\">\n",
       "  <use xlink:href=\"#glyph0-6\" x=\"424.292969\" y=\"280.03125\"/>\n",
       "  <use xlink:href=\"#glyph0-17\" x=\"432.079102\" y=\"280.03125\"/>\n",
       "  <use xlink:href=\"#glyph0-5\" x=\"441.416992\" y=\"280.03125\"/>\n",
       "</g>\n",
       "</g>\n",
       "</svg>\n"
      ],
      "text/plain": [
       "<igraph.drawing.cairo.plot.CairoPlot at 0x11cb28710>"
      ]
     },
     "execution_count": 18,
     "metadata": {
      "image/svg+xml": {
       "isolated": true
      }
     },
     "output_type": "execute_result"
    }
   ],
   "source": [
    "# why does this print of weird labels that make no sense?\n",
    "import igraph as ig\n",
    "graph_df = df[df.contig.astype(bool) & (df.newarrival > 500)].sort_values(by='newarrival', ascending=False).drop_duplicates(subset=['iso_o', 'iso_d'])\n",
    "#graph_df = df[(df.newarrival > 50000) & (df.contig.astype(bool))].groupby(['iso_o','iso_d'], as_index=False).agg({'newarrival':'max','dist':'first','pop_o':'first'})\n",
    "\n",
    "graph = ig.Graph.TupleList(graph_df[['iso_o','iso_d']].itertuples(index=False), directed=True)\n",
    "\n",
    "graph.vs['color'] = assign_colors(pd.Series(graph.vs()['name']).to_frame().merge(df, how='left', left_on=0, right_on='iso_o').drop_duplicates('iso_o')['Region_o'])\n",
    "graph.vs['label'] = graph.vs['name']\n",
    "\n",
    "vs_size = np.emath.logn(1.2, pd.Series(graph.vs()['name']).to_frame().merge(df, how='left', left_on=0, right_on='iso_o').drop_duplicates('iso_o')['pop_o'])\n",
    "\n",
    "layout = graph.layout(\"kk\")\n",
    "ig.plot(graph, vertex_size = vs_size )"
   ]
  },
  {
   "attachments": {},
   "cell_type": "markdown",
   "metadata": {},
   "source": [
    "Plotting country coordinate data:\n",
    "\n",
    "Still have yet to do this."
   ]
  },
  {
   "cell_type": "code",
   "execution_count": 19,
   "metadata": {},
   "outputs": [],
   "source": [
    "country_coordinate_url = \"https://gist.githubusercontent.com/tadast/8827699/raw/f5cac3d42d16b78348610fc4ec301e9234f82821/countries_codes_and_coordinates.csv\"\n",
    "country_coordinate = pd.read_csv(country_coordinate_url).apply(lambda x: x.str.replace('\"',''))\n",
    "country_coordinate[['Latitude (average)', 'Longitude (average)']] = country_coordinate[['Latitude (average)', 'Longitude (average)']].apply(lambda x: x.astype(float))"
   ]
  },
  {
   "cell_type": "code",
   "execution_count": 83,
   "metadata": {},
   "outputs": [
    {
     "data": {
      "text/html": [
       "<div>\n",
       "<style scoped>\n",
       "    .dataframe tbody tr th:only-of-type {\n",
       "        vertical-align: middle;\n",
       "    }\n",
       "\n",
       "    .dataframe tbody tr th {\n",
       "        vertical-align: top;\n",
       "    }\n",
       "\n",
       "    .dataframe thead th {\n",
       "        text-align: right;\n",
       "    }\n",
       "</style>\n",
       "<table border=\"1\" class=\"dataframe\">\n",
       "  <thead>\n",
       "    <tr style=\"text-align: right;\">\n",
       "      <th></th>\n",
       "      <th>iso</th>\n",
       "      <th>newarrival</th>\n",
       "      <th>location</th>\n",
       "    </tr>\n",
       "  </thead>\n",
       "  <tbody>\n",
       "    <tr>\n",
       "      <th>0</th>\n",
       "      <td>ARG</td>\n",
       "      <td>71414.0</td>\n",
       "      <td>destination</td>\n",
       "    </tr>\n",
       "    <tr>\n",
       "      <th>1</th>\n",
       "      <td>BRA</td>\n",
       "      <td>92922.0</td>\n",
       "      <td>destination</td>\n",
       "    </tr>\n",
       "    <tr>\n",
       "      <th>2</th>\n",
       "      <td>CAN</td>\n",
       "      <td>1254.0</td>\n",
       "      <td>destination</td>\n",
       "    </tr>\n",
       "    <tr>\n",
       "      <th>3</th>\n",
       "      <td>CHL</td>\n",
       "      <td>286788.0</td>\n",
       "      <td>destination</td>\n",
       "    </tr>\n",
       "    <tr>\n",
       "      <th>4</th>\n",
       "      <td>COL</td>\n",
       "      <td>1105410.0</td>\n",
       "      <td>destination</td>\n",
       "    </tr>\n",
       "    <tr>\n",
       "      <th>5</th>\n",
       "      <td>CRI</td>\n",
       "      <td>2884.0</td>\n",
       "      <td>destination</td>\n",
       "    </tr>\n",
       "    <tr>\n",
       "      <th>6</th>\n",
       "      <td>ECU</td>\n",
       "      <td>226614.5</td>\n",
       "      <td>destination</td>\n",
       "    </tr>\n",
       "    <tr>\n",
       "      <th>7</th>\n",
       "      <td>ESP</td>\n",
       "      <td>20015.0</td>\n",
       "      <td>destination</td>\n",
       "    </tr>\n",
       "    <tr>\n",
       "      <th>8</th>\n",
       "      <td>GUY</td>\n",
       "      <td>21400.0</td>\n",
       "      <td>destination</td>\n",
       "    </tr>\n",
       "    <tr>\n",
       "      <th>9</th>\n",
       "      <td>MEX</td>\n",
       "      <td>23469.0</td>\n",
       "      <td>destination</td>\n",
       "    </tr>\n",
       "    <tr>\n",
       "      <th>10</th>\n",
       "      <td>PAN</td>\n",
       "      <td>50049.0</td>\n",
       "      <td>destination</td>\n",
       "    </tr>\n",
       "    <tr>\n",
       "      <th>11</th>\n",
       "      <td>PER</td>\n",
       "      <td>548114.0</td>\n",
       "      <td>destination</td>\n",
       "    </tr>\n",
       "    <tr>\n",
       "      <th>12</th>\n",
       "      <td>TTO</td>\n",
       "      <td>7073.0</td>\n",
       "      <td>destination</td>\n",
       "    </tr>\n",
       "    <tr>\n",
       "      <th>13</th>\n",
       "      <td>URY</td>\n",
       "      <td>5488.0</td>\n",
       "      <td>destination</td>\n",
       "    </tr>\n",
       "    <tr>\n",
       "      <th>14</th>\n",
       "      <td>USA</td>\n",
       "      <td>40710.0</td>\n",
       "      <td>destination</td>\n",
       "    </tr>\n",
       "    <tr>\n",
       "      <th>15</th>\n",
       "      <td>VEN</td>\n",
       "      <td>2508056.5</td>\n",
       "      <td>origin</td>\n",
       "    </tr>\n",
       "  </tbody>\n",
       "</table>\n",
       "</div>"
      ],
      "text/plain": [
       "    iso  newarrival     location\n",
       "0   ARG     71414.0  destination\n",
       "1   BRA     92922.0  destination\n",
       "2   CAN      1254.0  destination\n",
       "3   CHL    286788.0  destination\n",
       "4   COL   1105410.0  destination\n",
       "5   CRI      2884.0  destination\n",
       "6   ECU    226614.5  destination\n",
       "7   ESP     20015.0  destination\n",
       "8   GUY     21400.0  destination\n",
       "9   MEX     23469.0  destination\n",
       "10  PAN     50049.0  destination\n",
       "11  PER    548114.0  destination\n",
       "12  TTO      7073.0  destination\n",
       "13  URY      5488.0  destination\n",
       "14  USA     40710.0  destination\n",
       "15  VEN   2508056.5       origin"
      ]
     },
     "execution_count": 83,
     "metadata": {},
     "output_type": "execute_result"
    }
   ],
   "source": [
    "def plot_country_data(df, country, year, min_size = 0):\n",
    "    iso_o = df[df.Country_o == country].iso_o.iloc[0]\n",
    "\n",
    "\n",
    "    o_obs = df[(df.Country_o == country) & (df.year == year)].agg({'newarrival':'sum'}).rename('newarrival')\n",
    "    o_obs.index = [iso_o]\n",
    "    o_obs = o_obs.to_frame()\n",
    "\n",
    "    df1 = df[(df.Country_o == country) & (df.year== year)].groupby('iso_d').agg({'newarrival':'sum'})\n",
    "    df1 = df1[df1.newarrival > min_size]\n",
    "    df1 = pd.concat([df1, o_obs], axis=0) \n",
    "    df1['location'] = ['origin' if country == iso_o else 'destination' for country in df1.index]\n",
    "    df1 = df1.rename_axis('iso').reset_index()\n",
    "\n",
    "    return df1  \n",
    "\n",
    "plot_country_data(df, 'Venezuela', 2018, 1000) "
   ]
  },
  {
   "cell_type": "code",
   "execution_count": 111,
   "metadata": {},
   "outputs": [
    {
     "ename": "ModuleNotFoundError",
     "evalue": "No module named 'basemap'",
     "output_type": "error",
     "traceback": [
      "\u001b[0;31m---------------------------------------------------------------------------\u001b[0m",
      "\u001b[0;31mModuleNotFoundError\u001b[0m                       Traceback (most recent call last)",
      "Cell \u001b[0;32mIn[111], line 2\u001b[0m\n\u001b[1;32m      1\u001b[0m \u001b[39mimport\u001b[39;00m \u001b[39mmpl_toolkits\u001b[39;00m\n\u001b[0;32m----> 2\u001b[0m \u001b[39mimport\u001b[39;00m \u001b[39mbasemap\u001b[39;00m\n",
      "\u001b[0;31mModuleNotFoundError\u001b[0m: No module named 'basemap'"
     ]
    }
   ],
   "source": [
    "import mpl_toolkits\n",
    "import basemap"
   ]
  },
  {
   "cell_type": "code",
   "execution_count": 114,
   "metadata": {},
   "outputs": [
    {
     "name": "stdout",
     "output_type": "stream",
     "text": [
      "Collecting basemap\n",
      "  Using cached basemap-1.3.6.zip (156 kB)\n",
      "  Installing build dependencies ... \u001b[?25l|^C\n",
      "\u001b[?25canceled\n",
      "\u001b[31mERROR: Operation cancelled by user\u001b[0m\u001b[31m\n",
      "\u001b[0m"
     ]
    }
   ],
   "source": [
    "!pip install basemap"
   ]
  },
  {
   "cell_type": "code",
   "execution_count": null,
   "metadata": {},
   "outputs": [],
   "source": [
    "from mpl_toolkits.basemap import Basemap as Basemap\n",
    "import matplotlib.pyplot as plt\n",
    "\n",
    "plt.figure(figsize = (10,9))\n",
    "\n",
    "basemap = Basemap(\n",
    "    projection = 'merc',\n",
    "    llcrnrlon = -180, \n",
    "    urcrnrlon = -50,     \n",
    "    llcrnrlat = -10,  \n",
    "    urcrnrlat = 70,    \n",
    "    lat_ts = 0,\n",
    "    resolution = 'l',\n",
    "    suppress_ticks = True)"
   ]
  },
  {
   "cell_type": "code",
   "execution_count": 93,
   "metadata": {},
   "outputs": [
    {
     "data": {
      "application/vnd.plotly.v1+json": {
       "config": {
        "plotlyServerURL": "https://plot.ly"
       },
       "data": [
        {
         "geo": "geo",
         "hovertemplate": "location=destination<br>newarrival=%{marker.size}<br>iso=%{location}<extra></extra>",
         "legendgroup": "destination",
         "locations": [
          "ARG",
          "BRA",
          "CAN",
          "CHL",
          "COL",
          "CRI",
          "ECU",
          "ESP",
          "GUY",
          "MEX",
          "PAN",
          "PER",
          "TTO",
          "URY",
          "USA"
         ],
         "marker": {
          "color": "#636efa",
          "size": [
           71414,
           92922,
           1254,
           286788,
           1105410,
           2884,
           226614.5,
           20015,
           21400,
           23469,
           50049,
           548114,
           7073,
           5488,
           40710
          ],
          "sizemode": "area",
          "sizeref": 6270.14125,
          "symbol": "circle"
         },
         "mode": "markers",
         "name": "destination",
         "showlegend": true,
         "type": "scattergeo"
        },
        {
         "geo": "geo",
         "hovertemplate": "location=origin<br>newarrival=%{marker.size}<br>iso=%{location}<extra></extra>",
         "legendgroup": "origin",
         "locations": [
          "VEN"
         ],
         "marker": {
          "color": "#EF553B",
          "size": [
           2508056.5
          ],
          "sizemode": "area",
          "sizeref": 6270.14125,
          "symbol": "circle"
         },
         "mode": "markers",
         "name": "origin",
         "showlegend": true,
         "type": "scattergeo"
        }
       ],
       "layout": {
        "geo": {
         "center": {},
         "countrycolor": "RebeccaPurple",
         "domain": {
          "x": [
           0,
           1
          ],
          "y": [
           0,
           1
          ]
         },
         "resolution": 50,
         "showcountries": true,
         "visible": true
        },
        "legend": {
         "itemsizing": "constant",
         "title": {
          "text": "location"
         },
         "tracegroupgap": 0
        },
        "template": {
         "data": {
          "bar": [
           {
            "error_x": {
             "color": "#2a3f5f"
            },
            "error_y": {
             "color": "#2a3f5f"
            },
            "marker": {
             "line": {
              "color": "#E5ECF6",
              "width": 0.5
             },
             "pattern": {
              "fillmode": "overlay",
              "size": 10,
              "solidity": 0.2
             }
            },
            "type": "bar"
           }
          ],
          "barpolar": [
           {
            "marker": {
             "line": {
              "color": "#E5ECF6",
              "width": 0.5
             },
             "pattern": {
              "fillmode": "overlay",
              "size": 10,
              "solidity": 0.2
             }
            },
            "type": "barpolar"
           }
          ],
          "carpet": [
           {
            "aaxis": {
             "endlinecolor": "#2a3f5f",
             "gridcolor": "white",
             "linecolor": "white",
             "minorgridcolor": "white",
             "startlinecolor": "#2a3f5f"
            },
            "baxis": {
             "endlinecolor": "#2a3f5f",
             "gridcolor": "white",
             "linecolor": "white",
             "minorgridcolor": "white",
             "startlinecolor": "#2a3f5f"
            },
            "type": "carpet"
           }
          ],
          "choropleth": [
           {
            "colorbar": {
             "outlinewidth": 0,
             "ticks": ""
            },
            "type": "choropleth"
           }
          ],
          "contour": [
           {
            "colorbar": {
             "outlinewidth": 0,
             "ticks": ""
            },
            "colorscale": [
             [
              0,
              "#0d0887"
             ],
             [
              0.1111111111111111,
              "#46039f"
             ],
             [
              0.2222222222222222,
              "#7201a8"
             ],
             [
              0.3333333333333333,
              "#9c179e"
             ],
             [
              0.4444444444444444,
              "#bd3786"
             ],
             [
              0.5555555555555556,
              "#d8576b"
             ],
             [
              0.6666666666666666,
              "#ed7953"
             ],
             [
              0.7777777777777778,
              "#fb9f3a"
             ],
             [
              0.8888888888888888,
              "#fdca26"
             ],
             [
              1,
              "#f0f921"
             ]
            ],
            "type": "contour"
           }
          ],
          "contourcarpet": [
           {
            "colorbar": {
             "outlinewidth": 0,
             "ticks": ""
            },
            "type": "contourcarpet"
           }
          ],
          "heatmap": [
           {
            "colorbar": {
             "outlinewidth": 0,
             "ticks": ""
            },
            "colorscale": [
             [
              0,
              "#0d0887"
             ],
             [
              0.1111111111111111,
              "#46039f"
             ],
             [
              0.2222222222222222,
              "#7201a8"
             ],
             [
              0.3333333333333333,
              "#9c179e"
             ],
             [
              0.4444444444444444,
              "#bd3786"
             ],
             [
              0.5555555555555556,
              "#d8576b"
             ],
             [
              0.6666666666666666,
              "#ed7953"
             ],
             [
              0.7777777777777778,
              "#fb9f3a"
             ],
             [
              0.8888888888888888,
              "#fdca26"
             ],
             [
              1,
              "#f0f921"
             ]
            ],
            "type": "heatmap"
           }
          ],
          "heatmapgl": [
           {
            "colorbar": {
             "outlinewidth": 0,
             "ticks": ""
            },
            "colorscale": [
             [
              0,
              "#0d0887"
             ],
             [
              0.1111111111111111,
              "#46039f"
             ],
             [
              0.2222222222222222,
              "#7201a8"
             ],
             [
              0.3333333333333333,
              "#9c179e"
             ],
             [
              0.4444444444444444,
              "#bd3786"
             ],
             [
              0.5555555555555556,
              "#d8576b"
             ],
             [
              0.6666666666666666,
              "#ed7953"
             ],
             [
              0.7777777777777778,
              "#fb9f3a"
             ],
             [
              0.8888888888888888,
              "#fdca26"
             ],
             [
              1,
              "#f0f921"
             ]
            ],
            "type": "heatmapgl"
           }
          ],
          "histogram": [
           {
            "marker": {
             "pattern": {
              "fillmode": "overlay",
              "size": 10,
              "solidity": 0.2
             }
            },
            "type": "histogram"
           }
          ],
          "histogram2d": [
           {
            "colorbar": {
             "outlinewidth": 0,
             "ticks": ""
            },
            "colorscale": [
             [
              0,
              "#0d0887"
             ],
             [
              0.1111111111111111,
              "#46039f"
             ],
             [
              0.2222222222222222,
              "#7201a8"
             ],
             [
              0.3333333333333333,
              "#9c179e"
             ],
             [
              0.4444444444444444,
              "#bd3786"
             ],
             [
              0.5555555555555556,
              "#d8576b"
             ],
             [
              0.6666666666666666,
              "#ed7953"
             ],
             [
              0.7777777777777778,
              "#fb9f3a"
             ],
             [
              0.8888888888888888,
              "#fdca26"
             ],
             [
              1,
              "#f0f921"
             ]
            ],
            "type": "histogram2d"
           }
          ],
          "histogram2dcontour": [
           {
            "colorbar": {
             "outlinewidth": 0,
             "ticks": ""
            },
            "colorscale": [
             [
              0,
              "#0d0887"
             ],
             [
              0.1111111111111111,
              "#46039f"
             ],
             [
              0.2222222222222222,
              "#7201a8"
             ],
             [
              0.3333333333333333,
              "#9c179e"
             ],
             [
              0.4444444444444444,
              "#bd3786"
             ],
             [
              0.5555555555555556,
              "#d8576b"
             ],
             [
              0.6666666666666666,
              "#ed7953"
             ],
             [
              0.7777777777777778,
              "#fb9f3a"
             ],
             [
              0.8888888888888888,
              "#fdca26"
             ],
             [
              1,
              "#f0f921"
             ]
            ],
            "type": "histogram2dcontour"
           }
          ],
          "mesh3d": [
           {
            "colorbar": {
             "outlinewidth": 0,
             "ticks": ""
            },
            "type": "mesh3d"
           }
          ],
          "parcoords": [
           {
            "line": {
             "colorbar": {
              "outlinewidth": 0,
              "ticks": ""
             }
            },
            "type": "parcoords"
           }
          ],
          "pie": [
           {
            "automargin": true,
            "type": "pie"
           }
          ],
          "scatter": [
           {
            "fillpattern": {
             "fillmode": "overlay",
             "size": 10,
             "solidity": 0.2
            },
            "type": "scatter"
           }
          ],
          "scatter3d": [
           {
            "line": {
             "colorbar": {
              "outlinewidth": 0,
              "ticks": ""
             }
            },
            "marker": {
             "colorbar": {
              "outlinewidth": 0,
              "ticks": ""
             }
            },
            "type": "scatter3d"
           }
          ],
          "scattercarpet": [
           {
            "marker": {
             "colorbar": {
              "outlinewidth": 0,
              "ticks": ""
             }
            },
            "type": "scattercarpet"
           }
          ],
          "scattergeo": [
           {
            "marker": {
             "colorbar": {
              "outlinewidth": 0,
              "ticks": ""
             }
            },
            "type": "scattergeo"
           }
          ],
          "scattergl": [
           {
            "marker": {
             "colorbar": {
              "outlinewidth": 0,
              "ticks": ""
             }
            },
            "type": "scattergl"
           }
          ],
          "scattermapbox": [
           {
            "marker": {
             "colorbar": {
              "outlinewidth": 0,
              "ticks": ""
             }
            },
            "type": "scattermapbox"
           }
          ],
          "scatterpolar": [
           {
            "marker": {
             "colorbar": {
              "outlinewidth": 0,
              "ticks": ""
             }
            },
            "type": "scatterpolar"
           }
          ],
          "scatterpolargl": [
           {
            "marker": {
             "colorbar": {
              "outlinewidth": 0,
              "ticks": ""
             }
            },
            "type": "scatterpolargl"
           }
          ],
          "scatterternary": [
           {
            "marker": {
             "colorbar": {
              "outlinewidth": 0,
              "ticks": ""
             }
            },
            "type": "scatterternary"
           }
          ],
          "surface": [
           {
            "colorbar": {
             "outlinewidth": 0,
             "ticks": ""
            },
            "colorscale": [
             [
              0,
              "#0d0887"
             ],
             [
              0.1111111111111111,
              "#46039f"
             ],
             [
              0.2222222222222222,
              "#7201a8"
             ],
             [
              0.3333333333333333,
              "#9c179e"
             ],
             [
              0.4444444444444444,
              "#bd3786"
             ],
             [
              0.5555555555555556,
              "#d8576b"
             ],
             [
              0.6666666666666666,
              "#ed7953"
             ],
             [
              0.7777777777777778,
              "#fb9f3a"
             ],
             [
              0.8888888888888888,
              "#fdca26"
             ],
             [
              1,
              "#f0f921"
             ]
            ],
            "type": "surface"
           }
          ],
          "table": [
           {
            "cells": {
             "fill": {
              "color": "#EBF0F8"
             },
             "line": {
              "color": "white"
             }
            },
            "header": {
             "fill": {
              "color": "#C8D4E3"
             },
             "line": {
              "color": "white"
             }
            },
            "type": "table"
           }
          ]
         },
         "layout": {
          "annotationdefaults": {
           "arrowcolor": "#2a3f5f",
           "arrowhead": 0,
           "arrowwidth": 1
          },
          "autotypenumbers": "strict",
          "coloraxis": {
           "colorbar": {
            "outlinewidth": 0,
            "ticks": ""
           }
          },
          "colorscale": {
           "diverging": [
            [
             0,
             "#8e0152"
            ],
            [
             0.1,
             "#c51b7d"
            ],
            [
             0.2,
             "#de77ae"
            ],
            [
             0.3,
             "#f1b6da"
            ],
            [
             0.4,
             "#fde0ef"
            ],
            [
             0.5,
             "#f7f7f7"
            ],
            [
             0.6,
             "#e6f5d0"
            ],
            [
             0.7,
             "#b8e186"
            ],
            [
             0.8,
             "#7fbc41"
            ],
            [
             0.9,
             "#4d9221"
            ],
            [
             1,
             "#276419"
            ]
           ],
           "sequential": [
            [
             0,
             "#0d0887"
            ],
            [
             0.1111111111111111,
             "#46039f"
            ],
            [
             0.2222222222222222,
             "#7201a8"
            ],
            [
             0.3333333333333333,
             "#9c179e"
            ],
            [
             0.4444444444444444,
             "#bd3786"
            ],
            [
             0.5555555555555556,
             "#d8576b"
            ],
            [
             0.6666666666666666,
             "#ed7953"
            ],
            [
             0.7777777777777778,
             "#fb9f3a"
            ],
            [
             0.8888888888888888,
             "#fdca26"
            ],
            [
             1,
             "#f0f921"
            ]
           ],
           "sequentialminus": [
            [
             0,
             "#0d0887"
            ],
            [
             0.1111111111111111,
             "#46039f"
            ],
            [
             0.2222222222222222,
             "#7201a8"
            ],
            [
             0.3333333333333333,
             "#9c179e"
            ],
            [
             0.4444444444444444,
             "#bd3786"
            ],
            [
             0.5555555555555556,
             "#d8576b"
            ],
            [
             0.6666666666666666,
             "#ed7953"
            ],
            [
             0.7777777777777778,
             "#fb9f3a"
            ],
            [
             0.8888888888888888,
             "#fdca26"
            ],
            [
             1,
             "#f0f921"
            ]
           ]
          },
          "colorway": [
           "#636efa",
           "#EF553B",
           "#00cc96",
           "#ab63fa",
           "#FFA15A",
           "#19d3f3",
           "#FF6692",
           "#B6E880",
           "#FF97FF",
           "#FECB52"
          ],
          "font": {
           "color": "#2a3f5f"
          },
          "geo": {
           "bgcolor": "white",
           "lakecolor": "white",
           "landcolor": "#E5ECF6",
           "showlakes": true,
           "showland": true,
           "subunitcolor": "white"
          },
          "hoverlabel": {
           "align": "left"
          },
          "hovermode": "closest",
          "mapbox": {
           "style": "light"
          },
          "paper_bgcolor": "white",
          "plot_bgcolor": "#E5ECF6",
          "polar": {
           "angularaxis": {
            "gridcolor": "white",
            "linecolor": "white",
            "ticks": ""
           },
           "bgcolor": "#E5ECF6",
           "radialaxis": {
            "gridcolor": "white",
            "linecolor": "white",
            "ticks": ""
           }
          },
          "scene": {
           "xaxis": {
            "backgroundcolor": "#E5ECF6",
            "gridcolor": "white",
            "gridwidth": 2,
            "linecolor": "white",
            "showbackground": true,
            "ticks": "",
            "zerolinecolor": "white"
           },
           "yaxis": {
            "backgroundcolor": "#E5ECF6",
            "gridcolor": "white",
            "gridwidth": 2,
            "linecolor": "white",
            "showbackground": true,
            "ticks": "",
            "zerolinecolor": "white"
           },
           "zaxis": {
            "backgroundcolor": "#E5ECF6",
            "gridcolor": "white",
            "gridwidth": 2,
            "linecolor": "white",
            "showbackground": true,
            "ticks": "",
            "zerolinecolor": "white"
           }
          },
          "shapedefaults": {
           "line": {
            "color": "#2a3f5f"
           }
          },
          "ternary": {
           "aaxis": {
            "gridcolor": "white",
            "linecolor": "white",
            "ticks": ""
           },
           "baxis": {
            "gridcolor": "white",
            "linecolor": "white",
            "ticks": ""
           },
           "bgcolor": "#E5ECF6",
           "caxis": {
            "gridcolor": "white",
            "linecolor": "white",
            "ticks": ""
           }
          },
          "title": {
           "x": 0.05
          },
          "xaxis": {
           "automargin": true,
           "gridcolor": "white",
           "linecolor": "white",
           "ticks": "",
           "title": {
            "standoff": 15
           },
           "zerolinecolor": "white",
           "zerolinewidth": 2
          },
          "yaxis": {
           "automargin": true,
           "gridcolor": "white",
           "linecolor": "white",
           "ticks": "",
           "title": {
            "standoff": 15
           },
           "zerolinecolor": "white",
           "zerolinewidth": 2
          }
         }
        },
        "title": {
         "text": "Venezuela in 2018"
        }
       }
      }
     },
     "metadata": {},
     "output_type": "display_data"
    }
   ],
   "source": [
    "import plotly.express as px\n",
    "\n",
    "fig = px.scatter_geo(plot_country_data(df, 'Venezuela', 2018, 1000), locations=\"iso\",\n",
    "                     size=\"newarrival\",\n",
    "                     # projection=\"natural earth\",\n",
    "                     color = 'location',\n",
    "                     title = 'Venezuela in 2018'\n",
    "                     )\n",
    "\n",
    "fig.update_geos(\n",
    "    visible=True, resolution=50,\n",
    "    showcountries=True, countrycolor=\"RebeccaPurple\"\n",
    ")\n",
    "fig.show()"
   ]
  },
  {
   "cell_type": "code",
   "execution_count": 89,
   "metadata": {},
   "outputs": [
    {
     "data": {
      "application/vnd.plotly.v1+json": {
       "config": {
        "plotlyServerURL": "https://plot.ly"
       },
       "data": [
        {
         "geo": "geo",
         "hovertemplate": "location=destination<br>newarrival=%{marker.size}<br>iso=%{location}<extra></extra>",
         "legendgroup": "destination",
         "locations": [
          "CAN",
          "CHL",
          "ECU",
          "ESP",
          "USA"
         ],
         "marker": {
          "color": "#636efa",
          "size": [
           2571,
           1157,
           5264,
           8811,
           3844
          ],
          "sizemode": "area",
          "sizeref": 66.6075,
          "symbol": "circle"
         },
         "mode": "markers",
         "name": "destination",
         "showlegend": true,
         "type": "scattergeo"
        },
        {
         "geo": "geo",
         "hovertemplate": "location=origin<br>newarrival=%{marker.size}<br>iso=%{location}<extra></extra>",
         "legendgroup": "origin",
         "locations": [
          "COL"
         ],
         "marker": {
          "color": "#EF553B",
          "size": [
           26643
          ],
          "sizemode": "area",
          "sizeref": 66.6075,
          "symbol": "circle"
         },
         "mode": "markers",
         "name": "origin",
         "showlegend": true,
         "type": "scattergeo"
        }
       ],
       "layout": {
        "geo": {
         "center": {},
         "countrycolor": "RebeccaPurple",
         "domain": {
          "x": [
           0,
           1
          ],
          "y": [
           0,
           1
          ]
         },
         "resolution": 50,
         "showcountries": true,
         "visible": true
        },
        "legend": {
         "itemsizing": "constant",
         "title": {
          "text": "location"
         },
         "tracegroupgap": 0
        },
        "margin": {
         "t": 60
        },
        "template": {
         "data": {
          "bar": [
           {
            "error_x": {
             "color": "#2a3f5f"
            },
            "error_y": {
             "color": "#2a3f5f"
            },
            "marker": {
             "line": {
              "color": "#E5ECF6",
              "width": 0.5
             },
             "pattern": {
              "fillmode": "overlay",
              "size": 10,
              "solidity": 0.2
             }
            },
            "type": "bar"
           }
          ],
          "barpolar": [
           {
            "marker": {
             "line": {
              "color": "#E5ECF6",
              "width": 0.5
             },
             "pattern": {
              "fillmode": "overlay",
              "size": 10,
              "solidity": 0.2
             }
            },
            "type": "barpolar"
           }
          ],
          "carpet": [
           {
            "aaxis": {
             "endlinecolor": "#2a3f5f",
             "gridcolor": "white",
             "linecolor": "white",
             "minorgridcolor": "white",
             "startlinecolor": "#2a3f5f"
            },
            "baxis": {
             "endlinecolor": "#2a3f5f",
             "gridcolor": "white",
             "linecolor": "white",
             "minorgridcolor": "white",
             "startlinecolor": "#2a3f5f"
            },
            "type": "carpet"
           }
          ],
          "choropleth": [
           {
            "colorbar": {
             "outlinewidth": 0,
             "ticks": ""
            },
            "type": "choropleth"
           }
          ],
          "contour": [
           {
            "colorbar": {
             "outlinewidth": 0,
             "ticks": ""
            },
            "colorscale": [
             [
              0,
              "#0d0887"
             ],
             [
              0.1111111111111111,
              "#46039f"
             ],
             [
              0.2222222222222222,
              "#7201a8"
             ],
             [
              0.3333333333333333,
              "#9c179e"
             ],
             [
              0.4444444444444444,
              "#bd3786"
             ],
             [
              0.5555555555555556,
              "#d8576b"
             ],
             [
              0.6666666666666666,
              "#ed7953"
             ],
             [
              0.7777777777777778,
              "#fb9f3a"
             ],
             [
              0.8888888888888888,
              "#fdca26"
             ],
             [
              1,
              "#f0f921"
             ]
            ],
            "type": "contour"
           }
          ],
          "contourcarpet": [
           {
            "colorbar": {
             "outlinewidth": 0,
             "ticks": ""
            },
            "type": "contourcarpet"
           }
          ],
          "heatmap": [
           {
            "colorbar": {
             "outlinewidth": 0,
             "ticks": ""
            },
            "colorscale": [
             [
              0,
              "#0d0887"
             ],
             [
              0.1111111111111111,
              "#46039f"
             ],
             [
              0.2222222222222222,
              "#7201a8"
             ],
             [
              0.3333333333333333,
              "#9c179e"
             ],
             [
              0.4444444444444444,
              "#bd3786"
             ],
             [
              0.5555555555555556,
              "#d8576b"
             ],
             [
              0.6666666666666666,
              "#ed7953"
             ],
             [
              0.7777777777777778,
              "#fb9f3a"
             ],
             [
              0.8888888888888888,
              "#fdca26"
             ],
             [
              1,
              "#f0f921"
             ]
            ],
            "type": "heatmap"
           }
          ],
          "heatmapgl": [
           {
            "colorbar": {
             "outlinewidth": 0,
             "ticks": ""
            },
            "colorscale": [
             [
              0,
              "#0d0887"
             ],
             [
              0.1111111111111111,
              "#46039f"
             ],
             [
              0.2222222222222222,
              "#7201a8"
             ],
             [
              0.3333333333333333,
              "#9c179e"
             ],
             [
              0.4444444444444444,
              "#bd3786"
             ],
             [
              0.5555555555555556,
              "#d8576b"
             ],
             [
              0.6666666666666666,
              "#ed7953"
             ],
             [
              0.7777777777777778,
              "#fb9f3a"
             ],
             [
              0.8888888888888888,
              "#fdca26"
             ],
             [
              1,
              "#f0f921"
             ]
            ],
            "type": "heatmapgl"
           }
          ],
          "histogram": [
           {
            "marker": {
             "pattern": {
              "fillmode": "overlay",
              "size": 10,
              "solidity": 0.2
             }
            },
            "type": "histogram"
           }
          ],
          "histogram2d": [
           {
            "colorbar": {
             "outlinewidth": 0,
             "ticks": ""
            },
            "colorscale": [
             [
              0,
              "#0d0887"
             ],
             [
              0.1111111111111111,
              "#46039f"
             ],
             [
              0.2222222222222222,
              "#7201a8"
             ],
             [
              0.3333333333333333,
              "#9c179e"
             ],
             [
              0.4444444444444444,
              "#bd3786"
             ],
             [
              0.5555555555555556,
              "#d8576b"
             ],
             [
              0.6666666666666666,
              "#ed7953"
             ],
             [
              0.7777777777777778,
              "#fb9f3a"
             ],
             [
              0.8888888888888888,
              "#fdca26"
             ],
             [
              1,
              "#f0f921"
             ]
            ],
            "type": "histogram2d"
           }
          ],
          "histogram2dcontour": [
           {
            "colorbar": {
             "outlinewidth": 0,
             "ticks": ""
            },
            "colorscale": [
             [
              0,
              "#0d0887"
             ],
             [
              0.1111111111111111,
              "#46039f"
             ],
             [
              0.2222222222222222,
              "#7201a8"
             ],
             [
              0.3333333333333333,
              "#9c179e"
             ],
             [
              0.4444444444444444,
              "#bd3786"
             ],
             [
              0.5555555555555556,
              "#d8576b"
             ],
             [
              0.6666666666666666,
              "#ed7953"
             ],
             [
              0.7777777777777778,
              "#fb9f3a"
             ],
             [
              0.8888888888888888,
              "#fdca26"
             ],
             [
              1,
              "#f0f921"
             ]
            ],
            "type": "histogram2dcontour"
           }
          ],
          "mesh3d": [
           {
            "colorbar": {
             "outlinewidth": 0,
             "ticks": ""
            },
            "type": "mesh3d"
           }
          ],
          "parcoords": [
           {
            "line": {
             "colorbar": {
              "outlinewidth": 0,
              "ticks": ""
             }
            },
            "type": "parcoords"
           }
          ],
          "pie": [
           {
            "automargin": true,
            "type": "pie"
           }
          ],
          "scatter": [
           {
            "fillpattern": {
             "fillmode": "overlay",
             "size": 10,
             "solidity": 0.2
            },
            "type": "scatter"
           }
          ],
          "scatter3d": [
           {
            "line": {
             "colorbar": {
              "outlinewidth": 0,
              "ticks": ""
             }
            },
            "marker": {
             "colorbar": {
              "outlinewidth": 0,
              "ticks": ""
             }
            },
            "type": "scatter3d"
           }
          ],
          "scattercarpet": [
           {
            "marker": {
             "colorbar": {
              "outlinewidth": 0,
              "ticks": ""
             }
            },
            "type": "scattercarpet"
           }
          ],
          "scattergeo": [
           {
            "marker": {
             "colorbar": {
              "outlinewidth": 0,
              "ticks": ""
             }
            },
            "type": "scattergeo"
           }
          ],
          "scattergl": [
           {
            "marker": {
             "colorbar": {
              "outlinewidth": 0,
              "ticks": ""
             }
            },
            "type": "scattergl"
           }
          ],
          "scattermapbox": [
           {
            "marker": {
             "colorbar": {
              "outlinewidth": 0,
              "ticks": ""
             }
            },
            "type": "scattermapbox"
           }
          ],
          "scatterpolar": [
           {
            "marker": {
             "colorbar": {
              "outlinewidth": 0,
              "ticks": ""
             }
            },
            "type": "scatterpolar"
           }
          ],
          "scatterpolargl": [
           {
            "marker": {
             "colorbar": {
              "outlinewidth": 0,
              "ticks": ""
             }
            },
            "type": "scatterpolargl"
           }
          ],
          "scatterternary": [
           {
            "marker": {
             "colorbar": {
              "outlinewidth": 0,
              "ticks": ""
             }
            },
            "type": "scatterternary"
           }
          ],
          "surface": [
           {
            "colorbar": {
             "outlinewidth": 0,
             "ticks": ""
            },
            "colorscale": [
             [
              0,
              "#0d0887"
             ],
             [
              0.1111111111111111,
              "#46039f"
             ],
             [
              0.2222222222222222,
              "#7201a8"
             ],
             [
              0.3333333333333333,
              "#9c179e"
             ],
             [
              0.4444444444444444,
              "#bd3786"
             ],
             [
              0.5555555555555556,
              "#d8576b"
             ],
             [
              0.6666666666666666,
              "#ed7953"
             ],
             [
              0.7777777777777778,
              "#fb9f3a"
             ],
             [
              0.8888888888888888,
              "#fdca26"
             ],
             [
              1,
              "#f0f921"
             ]
            ],
            "type": "surface"
           }
          ],
          "table": [
           {
            "cells": {
             "fill": {
              "color": "#EBF0F8"
             },
             "line": {
              "color": "white"
             }
            },
            "header": {
             "fill": {
              "color": "#C8D4E3"
             },
             "line": {
              "color": "white"
             }
            },
            "type": "table"
           }
          ]
         },
         "layout": {
          "annotationdefaults": {
           "arrowcolor": "#2a3f5f",
           "arrowhead": 0,
           "arrowwidth": 1
          },
          "autotypenumbers": "strict",
          "coloraxis": {
           "colorbar": {
            "outlinewidth": 0,
            "ticks": ""
           }
          },
          "colorscale": {
           "diverging": [
            [
             0,
             "#8e0152"
            ],
            [
             0.1,
             "#c51b7d"
            ],
            [
             0.2,
             "#de77ae"
            ],
            [
             0.3,
             "#f1b6da"
            ],
            [
             0.4,
             "#fde0ef"
            ],
            [
             0.5,
             "#f7f7f7"
            ],
            [
             0.6,
             "#e6f5d0"
            ],
            [
             0.7,
             "#b8e186"
            ],
            [
             0.8,
             "#7fbc41"
            ],
            [
             0.9,
             "#4d9221"
            ],
            [
             1,
             "#276419"
            ]
           ],
           "sequential": [
            [
             0,
             "#0d0887"
            ],
            [
             0.1111111111111111,
             "#46039f"
            ],
            [
             0.2222222222222222,
             "#7201a8"
            ],
            [
             0.3333333333333333,
             "#9c179e"
            ],
            [
             0.4444444444444444,
             "#bd3786"
            ],
            [
             0.5555555555555556,
             "#d8576b"
            ],
            [
             0.6666666666666666,
             "#ed7953"
            ],
            [
             0.7777777777777778,
             "#fb9f3a"
            ],
            [
             0.8888888888888888,
             "#fdca26"
            ],
            [
             1,
             "#f0f921"
            ]
           ],
           "sequentialminus": [
            [
             0,
             "#0d0887"
            ],
            [
             0.1111111111111111,
             "#46039f"
            ],
            [
             0.2222222222222222,
             "#7201a8"
            ],
            [
             0.3333333333333333,
             "#9c179e"
            ],
            [
             0.4444444444444444,
             "#bd3786"
            ],
            [
             0.5555555555555556,
             "#d8576b"
            ],
            [
             0.6666666666666666,
             "#ed7953"
            ],
            [
             0.7777777777777778,
             "#fb9f3a"
            ],
            [
             0.8888888888888888,
             "#fdca26"
            ],
            [
             1,
             "#f0f921"
            ]
           ]
          },
          "colorway": [
           "#636efa",
           "#EF553B",
           "#00cc96",
           "#ab63fa",
           "#FFA15A",
           "#19d3f3",
           "#FF6692",
           "#B6E880",
           "#FF97FF",
           "#FECB52"
          ],
          "font": {
           "color": "#2a3f5f"
          },
          "geo": {
           "bgcolor": "white",
           "lakecolor": "white",
           "landcolor": "#E5ECF6",
           "showlakes": true,
           "showland": true,
           "subunitcolor": "white"
          },
          "hoverlabel": {
           "align": "left"
          },
          "hovermode": "closest",
          "mapbox": {
           "style": "light"
          },
          "paper_bgcolor": "white",
          "plot_bgcolor": "#E5ECF6",
          "polar": {
           "angularaxis": {
            "gridcolor": "white",
            "linecolor": "white",
            "ticks": ""
           },
           "bgcolor": "#E5ECF6",
           "radialaxis": {
            "gridcolor": "white",
            "linecolor": "white",
            "ticks": ""
           }
          },
          "scene": {
           "xaxis": {
            "backgroundcolor": "#E5ECF6",
            "gridcolor": "white",
            "gridwidth": 2,
            "linecolor": "white",
            "showbackground": true,
            "ticks": "",
            "zerolinecolor": "white"
           },
           "yaxis": {
            "backgroundcolor": "#E5ECF6",
            "gridcolor": "white",
            "gridwidth": 2,
            "linecolor": "white",
            "showbackground": true,
            "ticks": "",
            "zerolinecolor": "white"
           },
           "zaxis": {
            "backgroundcolor": "#E5ECF6",
            "gridcolor": "white",
            "gridwidth": 2,
            "linecolor": "white",
            "showbackground": true,
            "ticks": "",
            "zerolinecolor": "white"
           }
          },
          "shapedefaults": {
           "line": {
            "color": "#2a3f5f"
           }
          },
          "ternary": {
           "aaxis": {
            "gridcolor": "white",
            "linecolor": "white",
            "ticks": ""
           },
           "baxis": {
            "gridcolor": "white",
            "linecolor": "white",
            "ticks": ""
           },
           "bgcolor": "#E5ECF6",
           "caxis": {
            "gridcolor": "white",
            "linecolor": "white",
            "ticks": ""
           }
          },
          "title": {
           "x": 0.05
          },
          "xaxis": {
           "automargin": true,
           "gridcolor": "white",
           "linecolor": "white",
           "ticks": "",
           "title": {
            "standoff": 15
           },
           "zerolinecolor": "white",
           "zerolinewidth": 2
          },
          "yaxis": {
           "automargin": true,
           "gridcolor": "white",
           "linecolor": "white",
           "ticks": "",
           "title": {
            "standoff": 15
           },
           "zerolinecolor": "white",
           "zerolinewidth": 2
          }
         }
        }
       }
      }
     },
     "metadata": {},
     "output_type": "display_data"
    }
   ],
   "source": [
    "fig = px.scatter_geo(plot_country_data(df, 'Colombia', 2018, 1000), locations=\"iso\",\n",
    "                     size=\"newarrival\",\n",
    "                     #projection=\"natural earth\",\n",
    "                     color = 'location'\n",
    "                     )\n",
    "\n",
    "fig.update_geos(\n",
    "    visible=True, resolution=50,\n",
    "    showcountries=True, countrycolor=\"RebeccaPurple\")\n",
    "fig.show()"
   ]
  },
  {
   "cell_type": "code",
   "execution_count": 99,
   "metadata": {},
   "outputs": [
    {
     "data": {
      "application/vnd.plotly.v1+json": {
       "config": {
        "plotlyServerURL": "https://plot.ly"
       },
       "data": [
        {
         "geo": "geo",
         "hovertemplate": "location=destination<br>newarrival=%{marker.size}<br>iso=%{location}<extra></extra>",
         "legendgroup": "destination",
         "locations": [
          "CRI",
          "ESP",
          "MEX",
          "USA"
         ],
         "marker": {
          "color": "#636efa",
          "size": [
           101962,
           1260,
           2919,
           4724
          ],
          "sizemode": "area",
          "sizeref": 278.905,
          "symbol": "circle"
         },
         "mode": "markers",
         "name": "destination",
         "showlegend": true,
         "type": "scattergeo"
        },
        {
         "geo": "geo",
         "hovertemplate": "location=origin<br>newarrival=%{marker.size}<br>iso=%{location}<extra></extra>",
         "legendgroup": "origin",
         "locations": [
          "NIC"
         ],
         "marker": {
          "color": "#EF553B",
          "size": [
           111562
          ],
          "sizemode": "area",
          "sizeref": 278.905,
          "symbol": "circle"
         },
         "mode": "markers",
         "name": "origin",
         "showlegend": true,
         "type": "scattergeo"
        }
       ],
       "layout": {
        "geo": {
         "center": {},
         "countrycolor": "RebeccaPurple",
         "domain": {
          "x": [
           0,
           1
          ],
          "y": [
           0,
           1
          ]
         },
         "resolution": 50,
         "showcountries": true,
         "visible": true
        },
        "legend": {
         "itemsizing": "constant",
         "title": {
          "text": "location"
         },
         "tracegroupgap": 0
        },
        "margin": {
         "t": 60
        },
        "template": {
         "data": {
          "bar": [
           {
            "error_x": {
             "color": "#2a3f5f"
            },
            "error_y": {
             "color": "#2a3f5f"
            },
            "marker": {
             "line": {
              "color": "#E5ECF6",
              "width": 0.5
             },
             "pattern": {
              "fillmode": "overlay",
              "size": 10,
              "solidity": 0.2
             }
            },
            "type": "bar"
           }
          ],
          "barpolar": [
           {
            "marker": {
             "line": {
              "color": "#E5ECF6",
              "width": 0.5
             },
             "pattern": {
              "fillmode": "overlay",
              "size": 10,
              "solidity": 0.2
             }
            },
            "type": "barpolar"
           }
          ],
          "carpet": [
           {
            "aaxis": {
             "endlinecolor": "#2a3f5f",
             "gridcolor": "white",
             "linecolor": "white",
             "minorgridcolor": "white",
             "startlinecolor": "#2a3f5f"
            },
            "baxis": {
             "endlinecolor": "#2a3f5f",
             "gridcolor": "white",
             "linecolor": "white",
             "minorgridcolor": "white",
             "startlinecolor": "#2a3f5f"
            },
            "type": "carpet"
           }
          ],
          "choropleth": [
           {
            "colorbar": {
             "outlinewidth": 0,
             "ticks": ""
            },
            "type": "choropleth"
           }
          ],
          "contour": [
           {
            "colorbar": {
             "outlinewidth": 0,
             "ticks": ""
            },
            "colorscale": [
             [
              0,
              "#0d0887"
             ],
             [
              0.1111111111111111,
              "#46039f"
             ],
             [
              0.2222222222222222,
              "#7201a8"
             ],
             [
              0.3333333333333333,
              "#9c179e"
             ],
             [
              0.4444444444444444,
              "#bd3786"
             ],
             [
              0.5555555555555556,
              "#d8576b"
             ],
             [
              0.6666666666666666,
              "#ed7953"
             ],
             [
              0.7777777777777778,
              "#fb9f3a"
             ],
             [
              0.8888888888888888,
              "#fdca26"
             ],
             [
              1,
              "#f0f921"
             ]
            ],
            "type": "contour"
           }
          ],
          "contourcarpet": [
           {
            "colorbar": {
             "outlinewidth": 0,
             "ticks": ""
            },
            "type": "contourcarpet"
           }
          ],
          "heatmap": [
           {
            "colorbar": {
             "outlinewidth": 0,
             "ticks": ""
            },
            "colorscale": [
             [
              0,
              "#0d0887"
             ],
             [
              0.1111111111111111,
              "#46039f"
             ],
             [
              0.2222222222222222,
              "#7201a8"
             ],
             [
              0.3333333333333333,
              "#9c179e"
             ],
             [
              0.4444444444444444,
              "#bd3786"
             ],
             [
              0.5555555555555556,
              "#d8576b"
             ],
             [
              0.6666666666666666,
              "#ed7953"
             ],
             [
              0.7777777777777778,
              "#fb9f3a"
             ],
             [
              0.8888888888888888,
              "#fdca26"
             ],
             [
              1,
              "#f0f921"
             ]
            ],
            "type": "heatmap"
           }
          ],
          "heatmapgl": [
           {
            "colorbar": {
             "outlinewidth": 0,
             "ticks": ""
            },
            "colorscale": [
             [
              0,
              "#0d0887"
             ],
             [
              0.1111111111111111,
              "#46039f"
             ],
             [
              0.2222222222222222,
              "#7201a8"
             ],
             [
              0.3333333333333333,
              "#9c179e"
             ],
             [
              0.4444444444444444,
              "#bd3786"
             ],
             [
              0.5555555555555556,
              "#d8576b"
             ],
             [
              0.6666666666666666,
              "#ed7953"
             ],
             [
              0.7777777777777778,
              "#fb9f3a"
             ],
             [
              0.8888888888888888,
              "#fdca26"
             ],
             [
              1,
              "#f0f921"
             ]
            ],
            "type": "heatmapgl"
           }
          ],
          "histogram": [
           {
            "marker": {
             "pattern": {
              "fillmode": "overlay",
              "size": 10,
              "solidity": 0.2
             }
            },
            "type": "histogram"
           }
          ],
          "histogram2d": [
           {
            "colorbar": {
             "outlinewidth": 0,
             "ticks": ""
            },
            "colorscale": [
             [
              0,
              "#0d0887"
             ],
             [
              0.1111111111111111,
              "#46039f"
             ],
             [
              0.2222222222222222,
              "#7201a8"
             ],
             [
              0.3333333333333333,
              "#9c179e"
             ],
             [
              0.4444444444444444,
              "#bd3786"
             ],
             [
              0.5555555555555556,
              "#d8576b"
             ],
             [
              0.6666666666666666,
              "#ed7953"
             ],
             [
              0.7777777777777778,
              "#fb9f3a"
             ],
             [
              0.8888888888888888,
              "#fdca26"
             ],
             [
              1,
              "#f0f921"
             ]
            ],
            "type": "histogram2d"
           }
          ],
          "histogram2dcontour": [
           {
            "colorbar": {
             "outlinewidth": 0,
             "ticks": ""
            },
            "colorscale": [
             [
              0,
              "#0d0887"
             ],
             [
              0.1111111111111111,
              "#46039f"
             ],
             [
              0.2222222222222222,
              "#7201a8"
             ],
             [
              0.3333333333333333,
              "#9c179e"
             ],
             [
              0.4444444444444444,
              "#bd3786"
             ],
             [
              0.5555555555555556,
              "#d8576b"
             ],
             [
              0.6666666666666666,
              "#ed7953"
             ],
             [
              0.7777777777777778,
              "#fb9f3a"
             ],
             [
              0.8888888888888888,
              "#fdca26"
             ],
             [
              1,
              "#f0f921"
             ]
            ],
            "type": "histogram2dcontour"
           }
          ],
          "mesh3d": [
           {
            "colorbar": {
             "outlinewidth": 0,
             "ticks": ""
            },
            "type": "mesh3d"
           }
          ],
          "parcoords": [
           {
            "line": {
             "colorbar": {
              "outlinewidth": 0,
              "ticks": ""
             }
            },
            "type": "parcoords"
           }
          ],
          "pie": [
           {
            "automargin": true,
            "type": "pie"
           }
          ],
          "scatter": [
           {
            "fillpattern": {
             "fillmode": "overlay",
             "size": 10,
             "solidity": 0.2
            },
            "type": "scatter"
           }
          ],
          "scatter3d": [
           {
            "line": {
             "colorbar": {
              "outlinewidth": 0,
              "ticks": ""
             }
            },
            "marker": {
             "colorbar": {
              "outlinewidth": 0,
              "ticks": ""
             }
            },
            "type": "scatter3d"
           }
          ],
          "scattercarpet": [
           {
            "marker": {
             "colorbar": {
              "outlinewidth": 0,
              "ticks": ""
             }
            },
            "type": "scattercarpet"
           }
          ],
          "scattergeo": [
           {
            "marker": {
             "colorbar": {
              "outlinewidth": 0,
              "ticks": ""
             }
            },
            "type": "scattergeo"
           }
          ],
          "scattergl": [
           {
            "marker": {
             "colorbar": {
              "outlinewidth": 0,
              "ticks": ""
             }
            },
            "type": "scattergl"
           }
          ],
          "scattermapbox": [
           {
            "marker": {
             "colorbar": {
              "outlinewidth": 0,
              "ticks": ""
             }
            },
            "type": "scattermapbox"
           }
          ],
          "scatterpolar": [
           {
            "marker": {
             "colorbar": {
              "outlinewidth": 0,
              "ticks": ""
             }
            },
            "type": "scatterpolar"
           }
          ],
          "scatterpolargl": [
           {
            "marker": {
             "colorbar": {
              "outlinewidth": 0,
              "ticks": ""
             }
            },
            "type": "scatterpolargl"
           }
          ],
          "scatterternary": [
           {
            "marker": {
             "colorbar": {
              "outlinewidth": 0,
              "ticks": ""
             }
            },
            "type": "scatterternary"
           }
          ],
          "surface": [
           {
            "colorbar": {
             "outlinewidth": 0,
             "ticks": ""
            },
            "colorscale": [
             [
              0,
              "#0d0887"
             ],
             [
              0.1111111111111111,
              "#46039f"
             ],
             [
              0.2222222222222222,
              "#7201a8"
             ],
             [
              0.3333333333333333,
              "#9c179e"
             ],
             [
              0.4444444444444444,
              "#bd3786"
             ],
             [
              0.5555555555555556,
              "#d8576b"
             ],
             [
              0.6666666666666666,
              "#ed7953"
             ],
             [
              0.7777777777777778,
              "#fb9f3a"
             ],
             [
              0.8888888888888888,
              "#fdca26"
             ],
             [
              1,
              "#f0f921"
             ]
            ],
            "type": "surface"
           }
          ],
          "table": [
           {
            "cells": {
             "fill": {
              "color": "#EBF0F8"
             },
             "line": {
              "color": "white"
             }
            },
            "header": {
             "fill": {
              "color": "#C8D4E3"
             },
             "line": {
              "color": "white"
             }
            },
            "type": "table"
           }
          ]
         },
         "layout": {
          "annotationdefaults": {
           "arrowcolor": "#2a3f5f",
           "arrowhead": 0,
           "arrowwidth": 1
          },
          "autotypenumbers": "strict",
          "coloraxis": {
           "colorbar": {
            "outlinewidth": 0,
            "ticks": ""
           }
          },
          "colorscale": {
           "diverging": [
            [
             0,
             "#8e0152"
            ],
            [
             0.1,
             "#c51b7d"
            ],
            [
             0.2,
             "#de77ae"
            ],
            [
             0.3,
             "#f1b6da"
            ],
            [
             0.4,
             "#fde0ef"
            ],
            [
             0.5,
             "#f7f7f7"
            ],
            [
             0.6,
             "#e6f5d0"
            ],
            [
             0.7,
             "#b8e186"
            ],
            [
             0.8,
             "#7fbc41"
            ],
            [
             0.9,
             "#4d9221"
            ],
            [
             1,
             "#276419"
            ]
           ],
           "sequential": [
            [
             0,
             "#0d0887"
            ],
            [
             0.1111111111111111,
             "#46039f"
            ],
            [
             0.2222222222222222,
             "#7201a8"
            ],
            [
             0.3333333333333333,
             "#9c179e"
            ],
            [
             0.4444444444444444,
             "#bd3786"
            ],
            [
             0.5555555555555556,
             "#d8576b"
            ],
            [
             0.6666666666666666,
             "#ed7953"
            ],
            [
             0.7777777777777778,
             "#fb9f3a"
            ],
            [
             0.8888888888888888,
             "#fdca26"
            ],
            [
             1,
             "#f0f921"
            ]
           ],
           "sequentialminus": [
            [
             0,
             "#0d0887"
            ],
            [
             0.1111111111111111,
             "#46039f"
            ],
            [
             0.2222222222222222,
             "#7201a8"
            ],
            [
             0.3333333333333333,
             "#9c179e"
            ],
            [
             0.4444444444444444,
             "#bd3786"
            ],
            [
             0.5555555555555556,
             "#d8576b"
            ],
            [
             0.6666666666666666,
             "#ed7953"
            ],
            [
             0.7777777777777778,
             "#fb9f3a"
            ],
            [
             0.8888888888888888,
             "#fdca26"
            ],
            [
             1,
             "#f0f921"
            ]
           ]
          },
          "colorway": [
           "#636efa",
           "#EF553B",
           "#00cc96",
           "#ab63fa",
           "#FFA15A",
           "#19d3f3",
           "#FF6692",
           "#B6E880",
           "#FF97FF",
           "#FECB52"
          ],
          "font": {
           "color": "#2a3f5f"
          },
          "geo": {
           "bgcolor": "white",
           "lakecolor": "white",
           "landcolor": "#E5ECF6",
           "showlakes": true,
           "showland": true,
           "subunitcolor": "white"
          },
          "hoverlabel": {
           "align": "left"
          },
          "hovermode": "closest",
          "mapbox": {
           "style": "light"
          },
          "paper_bgcolor": "white",
          "plot_bgcolor": "#E5ECF6",
          "polar": {
           "angularaxis": {
            "gridcolor": "white",
            "linecolor": "white",
            "ticks": ""
           },
           "bgcolor": "#E5ECF6",
           "radialaxis": {
            "gridcolor": "white",
            "linecolor": "white",
            "ticks": ""
           }
          },
          "scene": {
           "xaxis": {
            "backgroundcolor": "#E5ECF6",
            "gridcolor": "white",
            "gridwidth": 2,
            "linecolor": "white",
            "showbackground": true,
            "ticks": "",
            "zerolinecolor": "white"
           },
           "yaxis": {
            "backgroundcolor": "#E5ECF6",
            "gridcolor": "white",
            "gridwidth": 2,
            "linecolor": "white",
            "showbackground": true,
            "ticks": "",
            "zerolinecolor": "white"
           },
           "zaxis": {
            "backgroundcolor": "#E5ECF6",
            "gridcolor": "white",
            "gridwidth": 2,
            "linecolor": "white",
            "showbackground": true,
            "ticks": "",
            "zerolinecolor": "white"
           }
          },
          "shapedefaults": {
           "line": {
            "color": "#2a3f5f"
           }
          },
          "ternary": {
           "aaxis": {
            "gridcolor": "white",
            "linecolor": "white",
            "ticks": ""
           },
           "baxis": {
            "gridcolor": "white",
            "linecolor": "white",
            "ticks": ""
           },
           "bgcolor": "#E5ECF6",
           "caxis": {
            "gridcolor": "white",
            "linecolor": "white",
            "ticks": ""
           }
          },
          "title": {
           "x": 0.05
          },
          "xaxis": {
           "automargin": true,
           "gridcolor": "white",
           "linecolor": "white",
           "ticks": "",
           "title": {
            "standoff": 15
           },
           "zerolinecolor": "white",
           "zerolinewidth": 2
          },
          "yaxis": {
           "automargin": true,
           "gridcolor": "white",
           "linecolor": "white",
           "ticks": "",
           "title": {
            "standoff": 15
           },
           "zerolinecolor": "white",
           "zerolinewidth": 2
          }
         }
        }
       }
      }
     },
     "metadata": {},
     "output_type": "display_data"
    }
   ],
   "source": [
    "fig = px.scatter_geo(plot_country_data(df, 'Nicaragua', 2021, 1000), locations=\"iso\",\n",
    "                     size=\"newarrival\",\n",
    "                     #projection=\"natural earth\",\n",
    "                     color = 'location'\n",
    "                     )\n",
    "\n",
    "fig.update_geos(\n",
    "    visible=True, resolution=50,\n",
    "    showcountries=True, countrycolor=\"RebeccaPurple\")\n",
    "fig.show()"
   ]
  }
 ],
 "metadata": {
  "kernelspec": {
   "display_name": "base",
   "language": "python",
   "name": "python3"
  },
  "language_info": {
   "codemirror_mode": {
    "name": "ipython",
    "version": 3
   },
   "file_extension": ".py",
   "mimetype": "text/x-python",
   "name": "python",
   "nbconvert_exporter": "python",
   "pygments_lexer": "ipython3",
   "version": "3.11.3"
  },
  "orig_nbformat": 4
 },
 "nbformat": 4,
 "nbformat_minor": 2
}
