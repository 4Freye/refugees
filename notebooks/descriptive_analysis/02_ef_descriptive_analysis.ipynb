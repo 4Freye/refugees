{
 "cells": [
  {
   "attachments": {},
   "cell_type": "markdown",
   "metadata": {},
   "source": [
    "Descriptive analysis on the UNHCR data"
   ]
  },
  {
   "cell_type": "code",
   "execution_count": 133,
   "metadata": {},
   "outputs": [],
   "source": [
    "import pandas as pd\n",
    "import igraph as ig\n",
    "import matplotlib.colors as mcolors\n",
    "#from chord import Chord\n",
    "\n",
    "df = pd.read_csv('../../data/data.csv', engine=\"pyarrow\").drop('', axis=1)"
   ]
  },
  {
   "attachments": {},
   "cell_type": "markdown",
   "metadata": {},
   "source": [
    "Interestingly enough there are some duplicates:"
   ]
  },
  {
   "cell_type": "code",
   "execution_count": 134,
   "metadata": {},
   "outputs": [
    {
     "data": {
      "text/html": [
       "<div>\n",
       "<style scoped>\n",
       "    .dataframe tbody tr th:only-of-type {\n",
       "        vertical-align: middle;\n",
       "    }\n",
       "\n",
       "    .dataframe tbody tr th {\n",
       "        vertical-align: top;\n",
       "    }\n",
       "\n",
       "    .dataframe thead th {\n",
       "        text-align: right;\n",
       "    }\n",
       "</style>\n",
       "<table border=\"1\" class=\"dataframe\">\n",
       "  <thead>\n",
       "    <tr style=\"text-align: right;\">\n",
       "      <th></th>\n",
       "      <th>Country_d</th>\n",
       "      <th>Country_o</th>\n",
       "      <th>year</th>\n",
       "      <th>counts</th>\n",
       "    </tr>\n",
       "  </thead>\n",
       "  <tbody>\n",
       "    <tr>\n",
       "      <th>0</th>\n",
       "      <td>Antigua and Barbuda</td>\n",
       "      <td>Taiwan Province of China</td>\n",
       "      <td>2017</td>\n",
       "      <td>2</td>\n",
       "    </tr>\n",
       "    <tr>\n",
       "      <th>1</th>\n",
       "      <td>Antigua and Barbuda</td>\n",
       "      <td>Dominica</td>\n",
       "      <td>2022</td>\n",
       "      <td>2</td>\n",
       "    </tr>\n",
       "    <tr>\n",
       "      <th>2</th>\n",
       "      <td>Antigua and Barbuda</td>\n",
       "      <td>Dominica</td>\n",
       "      <td>2012</td>\n",
       "      <td>2</td>\n",
       "    </tr>\n",
       "    <tr>\n",
       "      <th>3</th>\n",
       "      <td>Antigua and Barbuda</td>\n",
       "      <td>Dominica</td>\n",
       "      <td>2013</td>\n",
       "      <td>2</td>\n",
       "    </tr>\n",
       "    <tr>\n",
       "      <th>4</th>\n",
       "      <td>Antigua and Barbuda</td>\n",
       "      <td>Dominica</td>\n",
       "      <td>2014</td>\n",
       "      <td>2</td>\n",
       "    </tr>\n",
       "    <tr>\n",
       "      <th>...</th>\n",
       "      <td>...</td>\n",
       "      <td>...</td>\n",
       "      <td>...</td>\n",
       "      <td>...</td>\n",
       "    </tr>\n",
       "    <tr>\n",
       "      <th>9745</th>\n",
       "      <td>Hong Kong SAR</td>\n",
       "      <td>Antigua and Barbuda</td>\n",
       "      <td>2023</td>\n",
       "      <td>2</td>\n",
       "    </tr>\n",
       "    <tr>\n",
       "      <th>9746</th>\n",
       "      <td>Hong Kong SAR</td>\n",
       "      <td>Antigua and Barbuda</td>\n",
       "      <td>2024</td>\n",
       "      <td>2</td>\n",
       "    </tr>\n",
       "    <tr>\n",
       "      <th>9747</th>\n",
       "      <td>Benin</td>\n",
       "      <td>Antigua and Barbuda</td>\n",
       "      <td>2012</td>\n",
       "      <td>2</td>\n",
       "    </tr>\n",
       "    <tr>\n",
       "      <th>9748</th>\n",
       "      <td>Benin</td>\n",
       "      <td>Antigua and Barbuda</td>\n",
       "      <td>2011</td>\n",
       "      <td>2</td>\n",
       "    </tr>\n",
       "    <tr>\n",
       "      <th>9749</th>\n",
       "      <td>Nauru</td>\n",
       "      <td>Antigua and Barbuda</td>\n",
       "      <td>2014</td>\n",
       "      <td>2</td>\n",
       "    </tr>\n",
       "  </tbody>\n",
       "</table>\n",
       "<p>9750 rows × 4 columns</p>\n",
       "</div>"
      ],
      "text/plain": [
       "                Country_d                 Country_o  year  counts\n",
       "0     Antigua and Barbuda  Taiwan Province of China  2017       2\n",
       "1     Antigua and Barbuda                  Dominica  2022       2\n",
       "2     Antigua and Barbuda                  Dominica  2012       2\n",
       "3     Antigua and Barbuda                  Dominica  2013       2\n",
       "4     Antigua and Barbuda                  Dominica  2014       2\n",
       "...                   ...                       ...   ...     ...\n",
       "9745        Hong Kong SAR       Antigua and Barbuda  2023       2\n",
       "9746        Hong Kong SAR       Antigua and Barbuda  2024       2\n",
       "9747                Benin       Antigua and Barbuda  2012       2\n",
       "9748                Benin       Antigua and Barbuda  2011       2\n",
       "9749                Nauru       Antigua and Barbuda  2014       2\n",
       "\n",
       "[9750 rows x 4 columns]"
      ]
     },
     "execution_count": 134,
     "metadata": {},
     "output_type": "execute_result"
    }
   ],
   "source": [
    "counts = df.value_counts(subset=['Country_d','Country_o','year']).to_frame(name='counts')\n",
    "counts = counts[counts.counts > 1].reset_index()\n",
    "counts\n",
    "# counts"
   ]
  },
  {
   "cell_type": "code",
   "execution_count": 135,
   "metadata": {},
   "outputs": [
    {
     "data": {
      "text/plain": [
       "32984    442.0\n",
       "32985    960.0\n",
       "Name: area_o, dtype: float64"
      ]
     },
     "execution_count": 135,
     "metadata": {},
     "output_type": "execute_result"
    }
   ],
   "source": [
    "df[(df.Country_o == 'Antigua and Barbuda') & (df.Country_d == 'Taiwan Province of China') & (df.year == 2017)].area_o"
   ]
  },
  {
   "attachments": {},
   "cell_type": "markdown",
   "metadata": {},
   "source": [
    "We will have to look into why these are duplicated, it is my understanding that these shouldn't be here."
   ]
  },
  {
   "cell_type": "code",
   "execution_count": 136,
   "metadata": {},
   "outputs": [],
   "source": [
    "df.drop_duplicates(subset=['Country_o','Country_d','year'], inplace=True)"
   ]
  },
  {
   "cell_type": "code",
   "execution_count": 152,
   "metadata": {},
   "outputs": [],
   "source": [
    "import numpy as np\n",
    "def map_to_region(country_column):\n",
    "    africa = ['The Gambia','Côte d\\'Ivoire', 'Algeria', 'Angola', 'Benin', 'Botswana', 'Burkina Faso', 'Burundi', 'Cabo Verde', 'Cameroon', 'Central African Republic', 'Chad', 'Comoros', 'Democratic Republic of the Congo', 'Djibouti', 'Egypt', 'Equatorial Guinea', 'Eritrea', 'Eswatini', 'Ethiopia', 'Gabon', 'Ghana', 'Guinea', 'Guinea-Bissau', 'Kenya', 'Lesotho', 'Liberia', 'Libya', 'Madagascar', 'Malawi', 'Mali', 'Mauritania', 'Mauritius', 'Morocco', 'Mozambique', 'Namibia', 'Niger', 'Nigeria', 'Republic of Congo', 'Rwanda', 'Sao Tome and Principe', 'Senegal', 'Seychelles', 'Sierra Leone', 'Somalia', 'South Africa', 'South Sudan', 'Sudan', 'Tanzania', 'Togo', 'Tunisia', 'Uganda', 'Zambia', 'Zimbabwe']\n",
    "\n",
    "    north_america = ['Canada', 'Mexico', 'United States', 'The Bahamas', 'Puerto Rico']\n",
    "\n",
    "    former_soviet_union = ['Armenia', 'Azerbaijan', 'Belarus', 'Estonia', 'Georgia', 'Kazakhstan', 'Kyrgyz Republic', 'Latvia', 'Lithuania', 'Moldova', 'Russia', 'Tajikistan', 'Turkmenistan', 'Ukraine', 'Uzbekistan']\n",
    "\n",
    "    south_asia = ['Afghanistan', 'Bangladesh', 'Bhutan', 'India', 'Iran', 'Maldives', 'Nepal', 'Pakistan', 'Sri Lanka']\n",
    "\n",
    "    west_asia = ['Bahrain', 'Cyprus', 'Iraq', 'Israel', 'Jordan', 'Kuwait', 'Lebanon', 'Oman', 'Qatar', 'Saudi Arabia', 'Syria', 'United Arab Emirates', 'Yemen', 'Islamic Republic of Iran', 'Türkiye', 'West Bank and Gaza']\n",
    "\n",
    "    southeast_asia = ['Brunei Darussalam', 'Cambodia', 'Indonesia', 'Lao PDR', 'Malaysia', 'Myanmar', 'Philippines', 'Singapore', 'Thailand', 'Timor-Leste', 'Vietnam', 'Lao P.D.R.']\n",
    "\n",
    "    oceania = ['Australia', 'Fiji', 'Kiribati', 'Marshall Islands', 'Micronesia', 'Nauru', 'New Zealand', 'Palau', 'Papua New Guinea', 'Samoa', 'Solomon Islands', 'Tonga', 'Tuvalu', 'Vanuatu']\n",
    "\n",
    "    latin_america = ['St. Lucia', 'St. Vincent and the Grenadines', 'St. Kitts and Nevis', 'São Tomé and Príncipe', 'Aruba', 'Antigua and Barbuda', 'Argentina', 'Barbados', 'Belize', 'Bolivia', 'Brazil', 'Chile', 'Colombia', 'Costa Rica', 'Cuba', 'Dominica', 'Dominican Republic', 'Ecuador', 'El Salvador', 'Grenada', 'Guatemala', 'Guyana', 'Haiti', 'Honduras', 'Jamaica', 'Nicaragua', 'Panama', 'Paraguay', 'Peru', 'Saint Kitts and Nevis', 'Saint Lucia', 'Saint Vincent and the Grenadines', 'Suriname', 'Trinidad and Tobago', 'Uruguay', 'Venezuela']\n",
    "    europe = ['Albania', 'Andorra', 'Austria', 'Belarus', 'Belgium', 'Bosnia and Herzegovina', 'Bulgaria', 'Croatia', 'Cyprus', 'Czech Republic', 'Denmark', 'Estonia', 'Finland', 'France', 'Georgia', 'Germany', 'Greece', 'Hungary', 'Iceland', 'Ireland', 'Italy', 'Kazakhstan', 'Kosovo', 'Latvia', 'Liechtenstein', 'Lithuania', 'Luxembourg', 'Malta', 'Moldova', 'Monaco', 'Montenegro', 'Netherlands', 'North Macedonia', 'Norway', 'Poland', 'Portugal', 'Romania', 'Russia', 'San Marino', 'Serbia', 'Slovak Republic', 'Slovenia', 'Spain', 'Sweden', 'Switzerland', 'Ukraine', 'United Kingdom', 'Uzbekistan']\n",
    "    east_asia = ['China','Hong Kong SAR','Japan','Korea', 'Macao SAR', 'Mongolia', 'Taiwan Province of China']\n",
    "\n",
    "    region_column = []\n",
    "    for country in country_column:\n",
    "        if country in africa:\n",
    "            region_column.append('Africa')\n",
    "        elif country in north_america:\n",
    "            region_column.append('North America')\n",
    "        elif country in former_soviet_union:\n",
    "            region_column.append('Fmr Soviet Union')\n",
    "        elif country in south_asia:\n",
    "            region_column.append('South Asia')\n",
    "        elif country in west_asia:\n",
    "            region_column.append('West Asia')\n",
    "        elif country in southeast_asia:\n",
    "            region_column.append('Southeast Asia')\n",
    "        elif country in oceania:\n",
    "            region_column.append('Oceania')\n",
    "        elif country in latin_america:\n",
    "            region_column.append('Latin America')\n",
    "        elif country in europe:\n",
    "            region_column.append('Europe')\n",
    "        elif country in east_asia:\n",
    "            region_column.append('East Asia')\n",
    "        else:\n",
    "            region_column.append(np.nan)\n",
    "    return region_column\n",
    "\n",
    "df['Region_o'] = map_to_region(df.Country_o)\n",
    "df['Region_d'] = map_to_region(df.Country_d)\n"
   ]
  },
  {
   "attachments": {},
   "cell_type": "markdown",
   "metadata": {},
   "source": [
    "Most emigration in latin america?\n",
    "\n",
    "Venezuela ranks at the top."
   ]
  },
  {
   "cell_type": "code",
   "execution_count": 15,
   "metadata": {},
   "outputs": [
    {
     "data": {
      "text/html": [
       "<div>\n",
       "<style scoped>\n",
       "    .dataframe tbody tr th:only-of-type {\n",
       "        vertical-align: middle;\n",
       "    }\n",
       "\n",
       "    .dataframe tbody tr th {\n",
       "        vertical-align: top;\n",
       "    }\n",
       "\n",
       "    .dataframe thead th {\n",
       "        text-align: right;\n",
       "    }\n",
       "</style>\n",
       "<table border=\"1\" class=\"dataframe\">\n",
       "  <thead>\n",
       "    <tr style=\"text-align: right;\">\n",
       "      <th></th>\n",
       "      <th>iso_o</th>\n",
       "      <th>year</th>\n",
       "      <th>newarrival</th>\n",
       "    </tr>\n",
       "  </thead>\n",
       "  <tbody>\n",
       "    <tr>\n",
       "      <th>793</th>\n",
       "      <td>VEN</td>\n",
       "      <td>2018</td>\n",
       "      <td>2508056.5</td>\n",
       "    </tr>\n",
       "    <tr>\n",
       "      <th>794</th>\n",
       "      <td>VEN</td>\n",
       "      <td>2019</td>\n",
       "      <td>1524435.0</td>\n",
       "    </tr>\n",
       "    <tr>\n",
       "      <th>796</th>\n",
       "      <td>VEN</td>\n",
       "      <td>2021</td>\n",
       "      <td>664573.0</td>\n",
       "    </tr>\n",
       "    <tr>\n",
       "      <th>795</th>\n",
       "      <td>VEN</td>\n",
       "      <td>2020</td>\n",
       "      <td>572356.0</td>\n",
       "    </tr>\n",
       "    <tr>\n",
       "      <th>792</th>\n",
       "      <td>VEN</td>\n",
       "      <td>2017</td>\n",
       "      <td>125916.0</td>\n",
       "    </tr>\n",
       "    <tr>\n",
       "      <th>546</th>\n",
       "      <td>NIC</td>\n",
       "      <td>2021</td>\n",
       "      <td>111562.0</td>\n",
       "    </tr>\n",
       "    <tr>\n",
       "      <th>419</th>\n",
       "      <td>HND</td>\n",
       "      <td>2019</td>\n",
       "      <td>80618.0</td>\n",
       "    </tr>\n",
       "    <tr>\n",
       "      <th>446</th>\n",
       "      <td>HTI</td>\n",
       "      <td>2021</td>\n",
       "      <td>67019.0</td>\n",
       "    </tr>\n",
       "    <tr>\n",
       "      <th>642</th>\n",
       "      <td>SLV</td>\n",
       "      <td>2017</td>\n",
       "      <td>65477.0</td>\n",
       "    </tr>\n",
       "    <tr>\n",
       "      <th>369</th>\n",
       "      <td>GTM</td>\n",
       "      <td>2019</td>\n",
       "      <td>60288.0</td>\n",
       "    </tr>\n",
       "  </tbody>\n",
       "</table>\n",
       "</div>"
      ],
      "text/plain": [
       "    iso_o  year  newarrival\n",
       "793   VEN  2018   2508056.5\n",
       "794   VEN  2019   1524435.0\n",
       "796   VEN  2021    664573.0\n",
       "795   VEN  2020    572356.0\n",
       "792   VEN  2017    125916.0\n",
       "546   NIC  2021    111562.0\n",
       "419   HND  2019     80618.0\n",
       "446   HTI  2021     67019.0\n",
       "642   SLV  2017     65477.0\n",
       "369   GTM  2019     60288.0"
      ]
     },
     "execution_count": 15,
     "metadata": {},
     "output_type": "execute_result"
    }
   ],
   "source": [
    "df[df['Region_o'] == 'Latin America'].groupby(['iso_o','year'], as_index=False).agg({'newarrival':'sum' }).sort_values(by='newarrival', ascending=False).head(10)"
   ]
  },
  {
   "cell_type": "code",
   "execution_count": 15,
   "metadata": {},
   "outputs": [],
   "source": [
    "def assign_colors(s, palette=None):\n",
    "    unique_values = s.unique()\n",
    "    if palette is None:\n",
    "        colors = mcolors.TABLEAU_COLORS\n",
    "        palette = pd.Series(colors).sample(len(unique_values), random_state=42)\n",
    "\n",
    "    color_dict = dict(zip(unique_values, palette))\n",
    "    rgb_dict = {k: mcolors.to_rgb(v) for k, v in color_dict.items()}\n",
    "\n",
    "    # Create color-mapped values and legend plot\n",
    "    color_mapped_values = s.map(rgb_dict).tolist()\n",
    "\n",
    "    return color_mapped_values"
   ]
  },
  {
   "attachments": {},
   "cell_type": "markdown",
   "metadata": {},
   "source": [
    "Visualization"
   ]
  },
  {
   "cell_type": "code",
   "execution_count": 44,
   "metadata": {},
   "outputs": [
    {
     "data": {
      "image/svg+xml": [
       "<?xml version=\"1.0\" encoding=\"UTF-8\"?>\n",
       "<svg xmlns=\"http://www.w3.org/2000/svg\" xmlns:xlink=\"http://www.w3.org/1999/xlink\" width=\"600pt\" height=\"600pt\" viewBox=\"0 0 600 600\" version=\"1.1\">\n",
       "<defs>\n",
       "<g>\n",
       "<symbol overflow=\"visible\" id=\"glyph0-0\">\n",
       "<path style=\"stroke:none;\" d=\"M 0.453125 0 L 0.453125 -10.042969 L 8.421875 -10.042969 L 8.421875 0 Z M 7.164062 -1.257812 L 7.164062 -8.785156 L 1.710938 -8.785156 L 1.710938 -1.257812 Z M 7.164062 -1.257812 \"/>\n",
       "</symbol>\n",
       "<symbol overflow=\"visible\" id=\"glyph0-1\">\n",
       "<path style=\"stroke:none;\" d=\"M 6.21875 -4.117188 L 4.695312 -8.550781 L 3.078125 -4.117188 Z M 3.984375 -10.042969 L 5.523438 -10.042969 L 9.167969 0 L 7.675781 0 L 6.65625 -3.007812 L 2.6875 -3.007812 L 1.601562 0 L 0.203125 0 Z M 3.984375 -10.042969 \"/>\n",
       "</symbol>\n",
       "<symbol overflow=\"visible\" id=\"glyph0-2\">\n",
       "<path style=\"stroke:none;\" d=\"M 1.195312 -10.042969 L 8.164062 -10.042969 L 8.164062 -8.8125 L 2.554688 -8.8125 L 2.554688 -5.761719 L 7.484375 -5.761719 L 7.484375 -4.566406 L 2.554688 -4.566406 L 2.554688 0 L 1.195312 0 Z M 1.195312 -10.042969 \"/>\n",
       "</symbol>\n",
       "<symbol overflow=\"visible\" id=\"glyph0-3\">\n",
       "<path style=\"stroke:none;\" d=\"M 5.40625 -10.300781 C 6.351562 -10.300781 7.167969 -10.121094 7.855469 -9.753906 C 8.851562 -9.230469 9.464844 -8.3125 9.6875 -7 L 8.339844 -7 C 8.175781 -7.734375 7.835938 -8.269531 7.320312 -8.601562 C 6.804688 -8.9375 6.15625 -9.105469 5.375 -9.105469 C 4.445312 -9.105469 3.660156 -8.757812 3.023438 -8.058594 C 2.390625 -7.363281 2.070312 -6.324219 2.070312 -4.941406 C 2.070312 -3.75 2.332031 -2.777344 2.859375 -2.027344 C 3.382812 -1.277344 4.234375 -0.902344 5.421875 -0.902344 C 6.328125 -0.902344 7.078125 -1.164062 7.671875 -1.691406 C 8.265625 -2.21875 8.570312 -3.070312 8.585938 -4.246094 L 5.441406 -4.246094 L 5.441406 -5.375 L 9.851562 -5.375 L 9.851562 0 L 8.976562 0 L 8.648438 -1.292969 C 8.1875 -0.785156 7.78125 -0.433594 7.421875 -0.238281 C 6.828125 0.0976562 6.066406 0.265625 5.148438 0.265625 C 3.957031 0.265625 2.933594 -0.117188 2.078125 -0.890625 C 1.144531 -1.855469 0.675781 -3.179688 0.675781 -4.867188 C 0.675781 -6.546875 1.132812 -7.886719 2.042969 -8.878906 C 2.910156 -9.828125 4.03125 -10.300781 5.40625 -10.300781 Z M 5.40625 -10.300781 \"/>\n",
       "</symbol>\n",
       "<symbol overflow=\"visible\" id=\"glyph0-4\">\n",
       "<path style=\"stroke:none;\" d=\"M 2.542969 -10.042969 L 2.542969 -3.835938 C 2.542969 -3.105469 2.679688 -2.5 2.953125 -2.015625 C 3.359375 -1.289062 4.042969 -0.921875 5.003906 -0.921875 C 6.15625 -0.921875 6.941406 -1.316406 7.355469 -2.105469 C 7.578125 -2.535156 7.691406 -3.109375 7.691406 -3.835938 L 7.691406 -10.042969 L 9.070312 -10.042969 L 9.070312 -4.402344 C 9.070312 -3.167969 8.90625 -2.21875 8.570312 -1.550781 C 7.960938 -0.339844 6.808594 0.265625 5.113281 0.265625 C 3.417969 0.265625 2.265625 -0.339844 1.660156 -1.550781 C 1.328125 -2.21875 1.164062 -3.167969 1.164062 -4.402344 L 1.164062 -10.042969 Z M 2.542969 -10.042969 \"/>\n",
       "</symbol>\n",
       "<symbol overflow=\"visible\" id=\"glyph0-5\">\n",
       "<path style=\"stroke:none;\" d=\"M 8.375 -10.042969 L 8.375 -8.84375 L 4.992188 -8.84375 L 4.992188 0 L 3.609375 0 L 3.609375 -8.84375 L 0.226562 -8.84375 L 0.226562 -10.042969 Z M 8.375 -10.042969 \"/>\n",
       "</symbol>\n",
       "<symbol overflow=\"visible\" id=\"glyph0-6\">\n",
       "<path style=\"stroke:none;\" d=\"M 4.921875 -1.164062 C 5.382812 -1.164062 5.761719 -1.210938 6.054688 -1.304688 C 6.585938 -1.484375 7.019531 -1.824219 7.355469 -2.332031 C 7.625 -2.738281 7.816406 -3.257812 7.9375 -3.890625 C 8.003906 -4.269531 8.039062 -4.617188 8.039062 -4.941406 C 8.039062 -6.1875 7.792969 -7.152344 7.296875 -7.839844 C 6.804688 -8.527344 6.007812 -8.875 4.90625 -8.875 L 2.496094 -8.875 L 2.496094 -1.164062 Z M 1.128906 -10.042969 L 5.195312 -10.042969 C 6.578125 -10.042969 7.648438 -9.550781 8.40625 -8.570312 C 9.085938 -7.6875 9.425781 -6.554688 9.425781 -5.175781 C 9.425781 -4.109375 9.226562 -3.144531 8.824219 -2.28125 C 8.117188 -0.761719 6.90625 0 5.179688 0 L 1.128906 0 Z M 1.128906 -10.042969 \"/>\n",
       "</symbol>\n",
       "<symbol overflow=\"visible\" id=\"glyph0-7\">\n",
       "<path style=\"stroke:none;\" d=\"M 1.195312 -10.042969 L 8.515625 -10.042969 L 8.515625 -8.8125 L 2.523438 -8.8125 L 2.523438 -5.761719 L 8.066406 -5.761719 L 8.066406 -4.601562 L 2.523438 -4.601562 L 2.523438 -1.195312 L 8.621094 -1.195312 L 8.621094 0 L 1.195312 0 Z M 1.195312 -10.042969 \"/>\n",
       "</symbol>\n",
       "<symbol overflow=\"visible\" id=\"glyph0-8\">\n",
       "<path style=\"stroke:none;\" d=\"M 5.734375 -5.441406 C 6.375 -5.441406 6.878906 -5.570312 7.25 -5.824219 C 7.621094 -6.078125 7.804688 -6.539062 7.804688 -7.203125 C 7.804688 -7.921875 7.546875 -8.40625 7.027344 -8.667969 C 6.75 -8.804688 6.378906 -8.875 5.914062 -8.875 L 2.589844 -8.875 L 2.589844 -5.441406 Z M 1.230469 -10.042969 L 5.878906 -10.042969 C 6.644531 -10.042969 7.277344 -9.929688 7.773438 -9.707031 C 8.714844 -9.277344 9.1875 -8.488281 9.1875 -7.335938 C 9.1875 -6.734375 9.0625 -6.242188 8.816406 -5.859375 C 8.566406 -5.476562 8.21875 -5.167969 7.773438 -4.9375 C 8.164062 -4.777344 8.460938 -4.566406 8.65625 -4.304688 C 8.855469 -4.046875 8.964844 -3.625 8.988281 -3.042969 L 9.039062 -1.695312 C 9.050781 -1.3125 9.082031 -1.027344 9.132812 -0.839844 C 9.214844 -0.523438 9.359375 -0.316406 9.570312 -0.226562 L 9.570312 0 L 7.902344 0 C 7.855469 -0.0859375 7.820312 -0.199219 7.792969 -0.335938 C 7.765625 -0.472656 7.742188 -0.734375 7.726562 -1.128906 L 7.640625 -2.804688 C 7.609375 -3.460938 7.367188 -3.898438 6.910156 -4.121094 C 6.652344 -4.246094 6.242188 -4.304688 5.6875 -4.304688 L 2.589844 -4.304688 L 2.589844 0 L 1.230469 0 Z M 1.230469 -10.042969 \"/>\n",
       "</symbol>\n",
       "<symbol overflow=\"visible\" id=\"glyph0-9\">\n",
       "<path style=\"stroke:none;\" d=\"M 5.296875 -10.316406 C 6.570312 -10.316406 7.554688 -9.980469 8.257812 -9.3125 C 8.960938 -8.640625 9.347656 -7.878906 9.425781 -7.027344 L 8.101562 -7.027344 C 7.949219 -7.675781 7.652344 -8.1875 7.203125 -8.566406 C 6.753906 -8.945312 6.121094 -9.132812 5.3125 -9.132812 C 4.324219 -9.132812 3.523438 -8.785156 2.914062 -8.089844 C 2.304688 -7.394531 2.003906 -6.328125 2.003906 -4.894531 C 2.003906 -3.71875 2.277344 -2.765625 2.828125 -2.035156 C 3.375 -1.304688 4.195312 -0.9375 5.285156 -0.9375 C 6.289062 -0.9375 7.050781 -1.320312 7.574219 -2.09375 C 7.851562 -2.5 8.058594 -3.03125 8.195312 -3.691406 L 9.523438 -3.691406 C 9.40625 -2.632812 9.011719 -1.746094 8.347656 -1.03125 C 7.550781 -0.171875 6.472656 0.257812 5.121094 0.257812 C 3.953125 0.257812 2.972656 -0.09375 2.179688 -0.800781 C 1.136719 -1.734375 0.617188 -3.175781 0.617188 -5.125 C 0.617188 -6.609375 1.007812 -7.824219 1.789062 -8.769531 C 2.636719 -9.800781 3.808594 -10.316406 5.296875 -10.316406 Z M 5.296875 -10.316406 \"/>\n",
       "</symbol>\n",
       "<symbol overflow=\"visible\" id=\"glyph0-10\">\n",
       "<path style=\"stroke:none;\" d=\"M 1.101562 -10.042969 L 2.476562 -10.042969 L 2.476562 -5.890625 L 7.695312 -5.890625 L 7.695312 -10.042969 L 9.070312 -10.042969 L 9.070312 0 L 7.695312 0 L 7.695312 -4.695312 L 2.476562 -4.695312 L 2.476562 0 L 1.101562 0 Z M 1.101562 -10.042969 \"/>\n",
       "</symbol>\n",
       "<symbol overflow=\"visible\" id=\"glyph0-11\">\n",
       "<path style=\"stroke:none;\" d=\"M 1.066406 -10.042969 L 2.671875 -10.042969 L 7.746094 -1.90625 L 7.746094 -10.042969 L 9.039062 -10.042969 L 9.039062 0 L 7.511719 0 L 2.367188 -8.128906 L 2.367188 0 L 1.066406 0 Z M 1.066406 -10.042969 \"/>\n",
       "</symbol>\n",
       "<symbol overflow=\"visible\" id=\"glyph0-12\">\n",
       "<path style=\"stroke:none;\" d=\"M 1.375 -10.042969 L 2.75 -10.042969 L 2.75 0 L 1.375 0 Z M 1.375 -10.042969 \"/>\n",
       "</symbol>\n",
       "<symbol overflow=\"visible\" id=\"glyph0-13\">\n",
       "<path style=\"stroke:none;\" d=\"M 1.195312 -10.042969 L 5.714844 -10.042969 C 6.609375 -10.042969 7.328125 -9.789062 7.875 -9.285156 C 8.421875 -8.78125 8.695312 -8.074219 8.695312 -7.164062 C 8.695312 -6.378906 8.453125 -5.699219 7.964844 -5.117188 C 7.476562 -4.535156 6.726562 -4.246094 5.714844 -4.246094 L 2.554688 -4.246094 L 2.554688 0 L 1.195312 0 Z M 7.320312 -7.15625 C 7.320312 -7.894531 7.046875 -8.398438 6.5 -8.660156 C 6.199219 -8.800781 5.789062 -8.875 5.265625 -8.875 L 2.554688 -8.875 L 2.554688 -5.394531 L 5.265625 -5.394531 C 5.875 -5.394531 6.371094 -5.523438 6.75 -5.78125 C 7.132812 -6.042969 7.320312 -6.5 7.320312 -7.15625 Z M 7.320312 -7.15625 \"/>\n",
       "</symbol>\n",
       "<symbol overflow=\"visible\" id=\"glyph0-14\">\n",
       "<path style=\"stroke:none;\" d=\"M 1.066406 -10.042969 L 2.390625 -10.042969 L 2.390625 -5.148438 L 7.289062 -10.042969 L 9.167969 -10.042969 L 4.992188 -5.996094 L 9.28125 0 L 7.511719 0 L 4 -5.039062 L 2.390625 -3.5 L 2.390625 0 L 1.066406 0 Z M 1.066406 -10.042969 \"/>\n",
       "</symbol>\n",
       "<symbol overflow=\"visible\" id=\"glyph0-15\">\n",
       "<path style=\"stroke:none;\" d=\"M 1.953125 -3.242188 C 1.984375 -2.671875 2.121094 -2.207031 2.359375 -1.851562 C 2.808594 -1.1875 3.605469 -0.855469 4.742188 -0.855469 C 5.253906 -0.855469 5.71875 -0.925781 6.140625 -1.074219 C 6.949219 -1.355469 7.355469 -1.863281 7.355469 -2.589844 C 7.355469 -3.136719 7.183594 -3.527344 6.84375 -3.757812 C 6.496094 -3.988281 5.953125 -4.1875 5.214844 -4.355469 L 3.855469 -4.664062 C 2.96875 -4.863281 2.335938 -5.082031 1.96875 -5.324219 C 1.332031 -5.742188 1.011719 -6.371094 1.011719 -7.203125 C 1.011719 -8.105469 1.324219 -8.847656 1.949219 -9.425781 C 2.574219 -10.003906 3.457031 -10.296875 4.601562 -10.296875 C 5.652344 -10.296875 6.546875 -10.039062 7.285156 -9.53125 C 8.019531 -9.023438 8.386719 -8.210938 8.386719 -7.09375 L 7.109375 -7.09375 C 7.039062 -7.632812 6.894531 -8.046875 6.671875 -8.332031 C 6.257812 -8.855469 5.554688 -9.117188 4.558594 -9.117188 C 3.757812 -9.117188 3.179688 -8.949219 2.828125 -8.613281 C 2.476562 -8.277344 2.304688 -7.882812 2.304688 -7.4375 C 2.304688 -6.945312 2.507812 -6.585938 2.917969 -6.359375 C 3.1875 -6.210938 3.796875 -6.03125 4.742188 -5.8125 L 6.152344 -5.488281 C 6.832031 -5.335938 7.355469 -5.121094 7.726562 -4.851562 C 8.363281 -4.382812 8.679688 -3.703125 8.679688 -2.808594 C 8.679688 -1.695312 8.277344 -0.902344 7.46875 -0.421875 C 6.660156 0.0546875 5.71875 0.292969 4.648438 0.292969 C 3.398438 0.292969 2.421875 -0.0234375 1.714844 -0.664062 C 1.007812 -1.296875 0.664062 -2.15625 0.675781 -3.242188 Z M 1.953125 -3.242188 \"/>\n",
       "</symbol>\n",
       "<symbol overflow=\"visible\" id=\"glyph0-16\">\n",
       "<path style=\"stroke:none;\" d=\"M 1.730469 -10.042969 L 3.625 -1.875 L 5.890625 -10.042969 L 7.367188 -10.042969 L 9.640625 -1.875 L 11.53125 -10.042969 L 13.023438 -10.042969 L 10.382812 0 L 8.953125 0 L 6.636719 -8.328125 L 4.304688 0 L 2.878906 0 L 0.253906 -10.042969 Z M 1.730469 -10.042969 \"/>\n",
       "</symbol>\n",
       "<symbol overflow=\"visible\" id=\"glyph0-17\">\n",
       "<path style=\"stroke:none;\" d=\"M 5.996094 -2.992188 C 5.996094 -2.144531 5.871094 -1.488281 5.617188 -1.019531 C 5.152344 -0.164062 4.269531 0.265625 2.96875 0.265625 C 2.214844 0.265625 1.570312 0.0625 1.039062 -0.34375 C 0.507812 -0.753906 0.238281 -1.480469 0.238281 -2.523438 L 0.238281 -3.242188 L 1.515625 -3.242188 L 1.515625 -2.523438 C 1.515625 -1.976562 1.640625 -1.5625 1.882812 -1.289062 C 2.125 -1.011719 2.507812 -0.875 3.023438 -0.875 C 3.746094 -0.875 4.21875 -1.125 4.445312 -1.621094 C 4.582031 -1.925781 4.648438 -2.5 4.648438 -3.351562 L 4.648438 -10.042969 L 5.996094 -10.042969 Z M 5.996094 -2.992188 \"/>\n",
       "</symbol>\n",
       "<symbol overflow=\"visible\" id=\"glyph0-18\">\n",
       "<path style=\"stroke:none;\" d=\"M 0.320312 -1.128906 L 6.480469 -8.84375 L 0.773438 -8.84375 L 0.773438 -10.042969 L 8.230469 -10.042969 L 8.230469 -8.875 L 2.039062 -1.195312 L 8.230469 -1.195312 L 8.230469 0 L 0.320312 0 Z M 0.320312 -1.128906 \"/>\n",
       "</symbol>\n",
       "<symbol overflow=\"visible\" id=\"glyph0-19\">\n",
       "<path style=\"stroke:none;\" d=\"M 4.839844 -5.796875 C 5.414062 -5.796875 5.859375 -5.875 6.179688 -6.035156 C 6.679688 -6.285156 6.929688 -6.738281 6.929688 -7.390625 C 6.929688 -8.046875 6.664062 -8.488281 6.132812 -8.714844 C 5.832031 -8.84375 5.382812 -8.90625 4.792969 -8.90625 L 2.367188 -8.90625 L 2.367188 -5.796875 Z M 5.296875 -1.164062 C 6.132812 -1.164062 6.726562 -1.402344 7.082031 -1.886719 C 7.304688 -2.191406 7.417969 -2.5625 7.417969 -2.992188 C 7.417969 -3.722656 7.089844 -4.21875 6.4375 -4.484375 C 6.09375 -4.625 5.636719 -4.695312 5.066406 -4.695312 L 2.367188 -4.695312 L 2.367188 -1.164062 Z M 1.03125 -10.042969 L 5.34375 -10.042969 C 6.519531 -10.042969 7.359375 -9.691406 7.855469 -8.988281 C 8.148438 -8.574219 8.292969 -8.097656 8.292969 -7.554688 C 8.292969 -6.921875 8.113281 -6.402344 7.75 -5.996094 C 7.5625 -5.78125 7.296875 -5.585938 6.945312 -5.40625 C 7.460938 -5.210938 7.84375 -4.992188 8.101562 -4.742188 C 8.550781 -4.304688 8.777344 -3.703125 8.777344 -2.933594 C 8.777344 -2.285156 8.574219 -1.699219 8.167969 -1.175781 C 7.5625 -0.390625 6.597656 0 5.277344 0 L 1.03125 0 Z M 1.03125 -10.042969 \"/>\n",
       "</symbol>\n",
       "<symbol overflow=\"visible\" id=\"glyph0-20\">\n",
       "<path style=\"stroke:none;\" d=\"M 5.398438 -10.316406 C 7.171875 -10.316406 8.484375 -9.746094 9.335938 -8.605469 C 10.003906 -7.71875 10.335938 -6.582031 10.335938 -5.195312 C 10.335938 -3.695312 9.957031 -2.449219 9.195312 -1.457031 C 8.300781 -0.289062 7.027344 0.292969 5.375 0.292969 C 3.828125 0.292969 2.613281 -0.214844 1.730469 -1.238281 C 0.941406 -2.222656 0.546875 -3.464844 0.546875 -4.96875 C 0.546875 -6.328125 0.882812 -7.488281 1.558594 -8.457031 C 2.425781 -9.695312 3.703125 -10.316406 5.398438 -10.316406 Z M 5.539062 -0.921875 C 6.734375 -0.921875 7.601562 -1.351562 8.136719 -2.210938 C 8.671875 -3.070312 8.941406 -4.058594 8.941406 -5.175781 C 8.941406 -6.355469 8.632812 -7.304688 8.015625 -8.023438 C 7.398438 -8.746094 6.554688 -9.105469 5.484375 -9.105469 C 4.445312 -9.105469 3.59375 -8.75 2.9375 -8.035156 C 2.28125 -7.320312 1.953125 -6.269531 1.953125 -4.882812 C 1.953125 -3.769531 2.238281 -2.832031 2.800781 -2.066406 C 3.363281 -1.304688 4.273438 -0.921875 5.539062 -0.921875 Z M 5.539062 -0.921875 \"/>\n",
       "</symbol>\n",
       "<symbol overflow=\"visible\" id=\"glyph0-21\">\n",
       "<path style=\"stroke:none;\" d=\"M 1.03125 -10.042969 L 2.980469 -10.042969 L 5.867188 -1.550781 L 8.730469 -10.042969 L 10.65625 -10.042969 L 10.65625 0 L 9.367188 0 L 9.367188 -5.925781 C 9.367188 -6.132812 9.371094 -6.472656 9.378906 -6.945312 C 9.386719 -7.417969 9.390625 -7.925781 9.390625 -8.46875 L 6.527344 0 L 5.179688 0 L 2.296875 -8.46875 L 2.296875 -8.164062 C 2.296875 -7.917969 2.300781 -7.542969 2.3125 -7.039062 C 2.324219 -6.535156 2.332031 -6.164062 2.332031 -5.925781 L 2.332031 0 L 1.03125 0 Z M 1.03125 -10.042969 \"/>\n",
       "</symbol>\n",
       "<symbol overflow=\"visible\" id=\"glyph0-22\">\n",
       "<path style=\"stroke:none;\" d=\"M 1.066406 -10.042969 L 2.425781 -10.042969 L 2.425781 -1.195312 L 7.511719 -1.195312 L 7.511719 0 L 1.066406 0 Z M 1.066406 -10.042969 \"/>\n",
       "</symbol>\n",
       "<symbol overflow=\"visible\" id=\"glyph0-23\">\n",
       "<path style=\"stroke:none;\" d=\"M 1.859375 -10.042969 L 4.742188 -1.492188 L 7.59375 -10.042969 L 9.117188 -10.042969 L 5.453125 0 L 4.011719 0 L 0.355469 -10.042969 Z M 1.859375 -10.042969 \"/>\n",
       "</symbol>\n",
       "<symbol overflow=\"visible\" id=\"glyph0-24\">\n",
       "<path style=\"stroke:none;\" d=\"M 1.929688 0 L 0.289062 0 L 3.882812 -5.148438 L 0.511719 -10.042969 L 2.214844 -10.042969 L 4.777344 -6.199219 L 7.320312 -10.042969 L 8.941406 -10.042969 L 5.570312 -5.148438 L 9.105469 0 L 7.417969 0 L 4.710938 -4.128906 Z M 1.929688 0 \"/>\n",
       "</symbol>\n",
       "<symbol overflow=\"visible\" id=\"glyph0-25\">\n",
       "<path style=\"stroke:none;\" d=\"M 0.289062 -10.042969 L 1.875 -10.042969 L 4.757812 -5.214844 L 7.640625 -10.042969 L 9.234375 -10.042969 L 5.441406 -4.046875 L 5.441406 0 L 4.082031 0 L 4.082031 -4.046875 Z M 0.289062 -10.042969 \"/>\n",
       "</symbol>\n",
       "<symbol overflow=\"visible\" id=\"glyph0-26\">\n",
       "<path style=\"stroke:none;\" d=\"M 10.253906 -0.0273438 L 9.570312 0.800781 L 8.019531 -0.382812 C 7.644531 -0.179688 7.242188 -0.015625 6.804688 0.109375 C 6.371094 0.234375 5.894531 0.292969 5.378906 0.292969 C 3.820312 0.292969 2.601562 -0.214844 1.714844 -1.238281 C 0.9375 -2.230469 0.546875 -3.476562 0.546875 -4.96875 C 0.546875 -6.328125 0.882812 -7.488281 1.558594 -8.457031 C 2.425781 -9.695312 3.703125 -10.316406 5.398438 -10.316406 C 7.171875 -10.316406 8.484375 -9.746094 9.335938 -8.605469 C 10.003906 -7.71875 10.335938 -6.582031 10.335938 -5.195312 C 10.335938 -4.546875 10.257812 -3.925781 10.097656 -3.328125 C 9.855469 -2.417969 9.445312 -1.675781 8.875 -1.101562 Z M 5.542969 -0.921875 C 5.828125 -0.921875 6.089844 -0.941406 6.335938 -0.980469 C 6.582031 -1.019531 6.796875 -1.097656 6.980469 -1.210938 L 5.878906 -2.070312 L 6.5625 -2.914062 L 7.875 -1.894531 C 8.289062 -2.367188 8.570312 -2.898438 8.71875 -3.484375 C 8.867188 -4.074219 8.941406 -4.636719 8.941406 -5.175781 C 8.941406 -6.355469 8.632812 -7.304688 8.015625 -8.023438 C 7.398438 -8.746094 6.554688 -9.105469 5.484375 -9.105469 C 4.398438 -9.105469 3.539062 -8.761719 2.90625 -8.070312 C 2.273438 -7.378906 1.953125 -6.316406 1.953125 -4.882812 C 1.953125 -3.671875 2.257812 -2.710938 2.867188 -1.996094 C 3.476562 -1.28125 4.367188 -0.921875 5.542969 -0.921875 Z M 5.542969 -0.921875 \"/>\n",
       "</symbol>\n",
       "</g>\n",
       "</defs>\n",
       "<g id=\"surface68\">\n",
       "<rect x=\"0\" y=\"0\" width=\"600\" height=\"600\" style=\"fill:rgb(100%,100%,100%);fill-opacity:1;stroke:none;\"/>\n",
       "<path style=\"fill:none;stroke-width:1;stroke-linecap:butt;stroke-linejoin:miter;stroke:rgb(26.666667%,26.666667%,26.666667%);stroke-opacity:1;stroke-miterlimit:10;\" d=\"M 462.433594 266.449219 L 472.542969 217.925781 \"/>\n",
       "<path style=\" stroke:none;fill-rule:nonzero;fill:rgb(26.666667%,26.666667%,26.666667%);fill-opacity:1;\" d=\"M 475.453125 203.960938 L 477.078125 218.871094 L 468.003906 216.980469 L 475.453125 203.960938 \"/>\n",
       "<path style=\"fill:none;stroke-width:1;stroke-linecap:butt;stroke-linejoin:miter;stroke:rgb(26.666667%,26.666667%,26.666667%);stroke-opacity:1;stroke-miterlimit:10;\" d=\"M 462.433594 266.449219 L 453.472656 262.695312 \"/>\n",
       "<path style=\" stroke:none;fill-rule:nonzero;fill:rgb(26.666667%,26.666667%,26.666667%);fill-opacity:1;\" d=\"M 440.316406 257.179688 L 455.261719 258.417969 L 451.679688 266.96875 L 440.316406 257.179688 \"/>\n",
       "<path style=\"fill:none;stroke-width:1;stroke-linecap:butt;stroke-linejoin:miter;stroke:rgb(26.666667%,26.666667%,26.666667%);stroke-opacity:1;stroke-miterlimit:10;\" d=\"M 462.433594 266.449219 L 504.644531 281.546875 \"/>\n",
       "<path style=\" stroke:none;fill-rule:nonzero;fill:rgb(26.666667%,26.666667%,26.666667%);fill-opacity:1;\" d=\"M 518.074219 286.347656 L 503.082031 285.910156 L 506.203125 277.179688 L 518.074219 286.347656 \"/>\n",
       "<path style=\"fill:none;stroke-width:1;stroke-linecap:butt;stroke-linejoin:miter;stroke:rgb(26.666667%,26.666667%,26.666667%);stroke-opacity:1;stroke-miterlimit:10;\" d=\"M 462.433594 266.449219 L 451.550781 225.300781 \"/>\n",
       "<path style=\" stroke:none;fill-rule:nonzero;fill:rgb(26.666667%,26.666667%,26.666667%);fill-opacity:1;\" d=\"M 447.902344 211.507812 L 456.03125 224.113281 L 447.066406 226.484375 L 447.902344 211.507812 \"/>\n",
       "<path style=\"fill:none;stroke-width:1;stroke-linecap:butt;stroke-linejoin:miter;stroke:rgb(26.666667%,26.666667%,26.666667%);stroke-opacity:1;stroke-miterlimit:10;\" d=\"M 462.433594 266.449219 L 456.28125 259.042969 \"/>\n",
       "<path style=\" stroke:none;fill-rule:nonzero;fill:rgb(26.666667%,26.666667%,26.666667%);fill-opacity:1;\" d=\"M 447.167969 248.066406 L 459.847656 256.082031 L 452.714844 262.003906 L 447.167969 248.066406 \"/>\n",
       "<path style=\"fill:none;stroke-width:1;stroke-linecap:butt;stroke-linejoin:miter;stroke:rgb(26.666667%,26.666667%,26.666667%);stroke-opacity:1;stroke-miterlimit:10;\" d=\"M 462.433594 266.449219 L 483.894531 246.601562 \"/>\n",
       "<path style=\" stroke:none;fill-rule:nonzero;fill:rgb(26.666667%,26.666667%,26.666667%);fill-opacity:1;\" d=\"M 494.367188 236.914062 L 487.039062 250.003906 L 480.746094 243.199219 L 494.367188 236.914062 \"/>\n",
       "<path style=\"fill:none;stroke-width:1;stroke-linecap:butt;stroke-linejoin:miter;stroke:rgb(26.666667%,26.666667%,26.666667%);stroke-opacity:1;stroke-miterlimit:10;\" d=\"M 462.433594 266.449219 C 431.78125 256.046875 403.113281 292.675781 388.601562 290.617188 \"/>\n",
       "<path style=\" stroke:none;fill-rule:nonzero;fill:rgb(26.666667%,26.666667%,26.666667%);fill-opacity:1;\" d=\"M 402.726562 292.621094 L 387.953125 295.203125 L 389.253906 286.027344 L 402.726562 292.621094 \"/>\n",
       "<path style=\"fill:none;stroke-width:1;stroke-linecap:butt;stroke-linejoin:miter;stroke:rgb(26.666667%,26.666667%,26.666667%);stroke-opacity:1;stroke-miterlimit:10;\" d=\"M 462.433594 266.449219 L 436.832031 235.808594 \"/>\n",
       "<path style=\" stroke:none;fill-rule:nonzero;fill:rgb(26.666667%,26.666667%,26.666667%);fill-opacity:1;\" d=\"M 427.683594 224.859375 L 440.386719 232.835938 L 433.273438 238.777344 L 427.683594 224.859375 \"/>\n",
       "<path style=\"fill:none;stroke-width:1;stroke-linecap:butt;stroke-linejoin:miter;stroke:rgb(26.666667%,26.666667%,26.666667%);stroke-opacity:1;stroke-miterlimit:10;\" d=\"M 462.433594 266.449219 L 481.054688 312.214844 \"/>\n",
       "<path style=\" stroke:none;fill-rule:nonzero;fill:rgb(26.666667%,26.666667%,26.666667%);fill-opacity:1;\" d=\"M 486.433594 325.429688 L 476.761719 313.960938 L 485.347656 310.46875 L 486.433594 325.429688 \"/>\n",
       "<path style=\"fill:none;stroke-width:1;stroke-linecap:butt;stroke-linejoin:miter;stroke:rgb(26.666667%,26.666667%,26.666667%);stroke-opacity:1;stroke-miterlimit:10;\" d=\"M 462.433594 266.449219 L 462.8125 241.269531 \"/>\n",
       "<path style=\" stroke:none;fill-rule:nonzero;fill:rgb(26.666667%,26.666667%,26.666667%);fill-opacity:1;\" d=\"M 463.027344 227.003906 L 467.445312 241.339844 L 458.175781 241.199219 L 463.027344 227.003906 \"/>\n",
       "<path style=\"fill:none;stroke-width:1;stroke-linecap:butt;stroke-linejoin:miter;stroke:rgb(26.666667%,26.666667%,26.666667%);stroke-opacity:1;stroke-miterlimit:10;\" d=\"M 462.433594 266.449219 L 458.320312 309.957031 \"/>\n",
       "<path style=\" stroke:none;fill-rule:nonzero;fill:rgb(26.666667%,26.666667%,26.666667%);fill-opacity:1;\" d=\"M 456.976562 324.160156 L 453.703125 309.523438 L 462.933594 310.394531 L 456.976562 324.160156 \"/>\n",
       "<path style=\"fill:none;stroke-width:1;stroke-linecap:butt;stroke-linejoin:miter;stroke:rgb(26.666667%,26.666667%,26.666667%);stroke-opacity:1;stroke-miterlimit:10;\" d=\"M 133.121094 169.984375 C 142.683594 179.195312 155.113281 182.59375 164.75 173.902344 \"/>\n",
       "<path style=\" stroke:none;fill-rule:nonzero;fill:rgb(26.666667%,26.666667%,26.666667%);fill-opacity:1;\" d=\"M 175.34375 164.347656 L 167.855469 177.34375 L 161.644531 170.460938 L 175.34375 164.347656 \"/>\n",
       "<path style=\"fill:none;stroke-width:1;stroke-linecap:butt;stroke-linejoin:miter;stroke:rgb(26.666667%,26.666667%,26.666667%);stroke-opacity:1;stroke-miterlimit:10;\" d=\"M 133.121094 169.984375 L 130.554688 170.0625 \"/>\n",
       "<path style=\" stroke:none;fill-rule:nonzero;fill:rgb(26.666667%,26.666667%,26.666667%);fill-opacity:1;\" d=\"M 116.296875 170.496094 L 130.414062 165.429688 L 130.699219 174.695312 L 116.296875 170.496094 \"/>\n",
       "<path style=\"fill:none;stroke-width:1;stroke-linecap:butt;stroke-linejoin:miter;stroke:rgb(26.666667%,26.666667%,26.666667%);stroke-opacity:1;stroke-miterlimit:10;\" d=\"M 488.558594 295.902344 L 450.585938 267.761719 \"/>\n",
       "<path style=\" stroke:none;fill-rule:nonzero;fill:rgb(26.666667%,26.666667%,26.666667%);fill-opacity:1;\" d=\"M 439.125 259.269531 L 453.347656 264.039062 L 447.828125 271.484375 L 439.125 259.269531 \"/>\n",
       "<path style=\"fill:none;stroke-width:1;stroke-linecap:butt;stroke-linejoin:miter;stroke:rgb(26.666667%,26.666667%,26.666667%);stroke-opacity:1;stroke-miterlimit:10;\" d=\"M 488.558594 295.902344 L 503.527344 293.523438 \"/>\n",
       "<path style=\" stroke:none;fill-rule:nonzero;fill:rgb(26.666667%,26.666667%,26.666667%);fill-opacity:1;\" d=\"M 517.617188 291.285156 L 504.253906 298.101562 L 502.800781 288.945312 L 517.617188 291.285156 \"/>\n",
       "<path style=\"fill:none;stroke-width:1;stroke-linecap:butt;stroke-linejoin:miter;stroke:rgb(26.666667%,26.666667%,26.666667%);stroke-opacity:1;stroke-miterlimit:10;\" d=\"M 25.46875 244.972656 L 25.355469 250.695312 \"/>\n",
       "<path style=\" stroke:none;fill-rule:nonzero;fill:rgb(26.666667%,26.666667%,26.666667%);fill-opacity:1;\" d=\"M 25.070312 264.957031 L 20.71875 250.601562 L 29.988281 250.785156 L 25.070312 264.957031 \"/>\n",
       "<path style=\"fill:none;stroke-width:1;stroke-linecap:butt;stroke-linejoin:miter;stroke:rgb(26.666667%,26.666667%,26.666667%);stroke-opacity:1;stroke-miterlimit:10;\" d=\"M 156.125 133.757812 C 165.09375 143.1875 168.890625 161.992188 159.761719 164.78125 \"/>\n",
       "<path style=\" stroke:none;fill-rule:nonzero;fill:rgb(26.666667%,26.666667%,26.666667%);fill-opacity:1;\" d=\"M 173.40625 160.613281 L 161.117188 169.214844 L 158.410156 160.347656 L 173.40625 160.613281 \"/>\n",
       "<path style=\"fill:none;stroke-width:1;stroke-linecap:butt;stroke-linejoin:miter;stroke:rgb(26.666667%,26.666667%,26.666667%);stroke-opacity:1;stroke-miterlimit:10;\" d=\"M 156.125 133.757812 C 154.300781 133.722656 153.0625 134.5625 152.570312 136.316406 \"/>\n",
       "<path style=\" stroke:none;fill-rule:nonzero;fill:rgb(26.666667%,26.666667%,26.666667%);fill-opacity:1;\" d=\"M 156.40625 122.578125 L 157.035156 137.5625 L 148.105469 135.070312 L 156.40625 122.578125 \"/>\n",
       "<path style=\"fill:none;stroke-width:1;stroke-linecap:butt;stroke-linejoin:miter;stroke:rgb(26.666667%,26.666667%,26.666667%);stroke-opacity:1;stroke-miterlimit:10;\" d=\"M 156.125 133.757812 L 148.914062 131.523438 \"/>\n",
       "<path style=\" stroke:none;fill-rule:nonzero;fill:rgb(26.666667%,26.666667%,26.666667%);fill-opacity:1;\" d=\"M 135.289062 127.300781 L 150.285156 127.09375 L 147.542969 135.949219 L 135.289062 127.300781 \"/>\n",
       "<path style=\"fill:none;stroke-width:1;stroke-linecap:butt;stroke-linejoin:miter;stroke:rgb(26.666667%,26.666667%,26.666667%);stroke-opacity:1;stroke-miterlimit:10;\" d=\"M 156.125 133.757812 L 182.871094 136.421875 \"/>\n",
       "<path style=\" stroke:none;fill-rule:nonzero;fill:rgb(26.666667%,26.666667%,26.666667%);fill-opacity:1;\" d=\"M 197.070312 137.835938 L 182.414062 141.035156 L 183.332031 131.808594 L 197.070312 137.835938 \"/>\n",
       "<path style=\"fill:none;stroke-width:1;stroke-linecap:butt;stroke-linejoin:miter;stroke:rgb(26.666667%,26.666667%,26.666667%);stroke-opacity:1;stroke-miterlimit:10;\" d=\"M 271.992188 389.765625 L 317.589844 353.851562 \"/>\n",
       "<path style=\" stroke:none;fill-rule:nonzero;fill:rgb(26.666667%,26.666667%,26.666667%);fill-opacity:1;\" d=\"M 328.796875 345.023438 L 320.457031 357.492188 L 314.722656 350.210938 L 328.796875 345.023438 \"/>\n",
       "<path style=\"fill:none;stroke-width:1;stroke-linecap:butt;stroke-linejoin:miter;stroke:rgb(26.666667%,26.666667%,26.666667%);stroke-opacity:1;stroke-miterlimit:10;\" d=\"M 221.320312 205.625 L 252.675781 239.699219 \"/>\n",
       "<path style=\" stroke:none;fill-rule:nonzero;fill:rgb(26.666667%,26.666667%,26.666667%);fill-opacity:1;\" d=\"M 262.335938 250.195312 L 249.265625 242.835938 L 256.089844 236.558594 L 262.335938 250.195312 \"/>\n",
       "<path style=\"fill:none;stroke-width:1;stroke-linecap:butt;stroke-linejoin:miter;stroke:rgb(26.666667%,26.666667%,26.666667%);stroke-opacity:1;stroke-miterlimit:10;\" d=\"M 221.320312 205.625 C 206.441406 198.289062 208.367188 173.125 203.316406 170.121094 \"/>\n",
       "<path style=\" stroke:none;fill-rule:nonzero;fill:rgb(26.666667%,26.666667%,26.666667%);fill-opacity:1;\" d=\"M 191.050781 162.832031 L 205.683594 166.136719 L 200.945312 174.105469 L 191.050781 162.832031 \"/>\n",
       "<path style=\"fill:none;stroke-width:1;stroke-linecap:butt;stroke-linejoin:miter;stroke:rgb(26.666667%,26.666667%,26.666667%);stroke-opacity:1;stroke-miterlimit:10;\" d=\"M 221.320312 205.625 L 193.832031 207.613281 \"/>\n",
       "<path style=\" stroke:none;fill-rule:nonzero;fill:rgb(26.666667%,26.666667%,26.666667%);fill-opacity:1;\" d=\"M 179.601562 208.644531 L 193.496094 202.992188 L 194.167969 212.238281 L 179.601562 208.644531 \"/>\n",
       "<path style=\"fill:none;stroke-width:1;stroke-linecap:butt;stroke-linejoin:miter;stroke:rgb(26.666667%,26.666667%,26.666667%);stroke-opacity:1;stroke-miterlimit:10;\" d=\"M 221.320312 205.625 L 262.710938 182.539062 \"/>\n",
       "<path style=\" stroke:none;fill-rule:nonzero;fill:rgb(26.666667%,26.666667%,26.666667%);fill-opacity:1;\" d=\"M 275.167969 175.589844 L 264.96875 186.585938 L 260.453125 178.492188 L 275.167969 175.589844 \"/>\n",
       "<path style=\"fill:none;stroke-width:1;stroke-linecap:butt;stroke-linejoin:miter;stroke:rgb(26.666667%,26.666667%,26.666667%);stroke-opacity:1;stroke-miterlimit:10;\" d=\"M 221.320312 205.625 L 240.515625 211.320312 \"/>\n",
       "<path style=\" stroke:none;fill-rule:nonzero;fill:rgb(26.666667%,26.666667%,26.666667%);fill-opacity:1;\" d=\"M 254.195312 215.382812 L 239.199219 215.765625 L 241.835938 206.878906 L 254.195312 215.382812 \"/>\n",
       "<path style=\"fill:none;stroke-width:1;stroke-linecap:butt;stroke-linejoin:miter;stroke:rgb(26.666667%,26.666667%,26.666667%);stroke-opacity:1;stroke-miterlimit:10;\" d=\"M 268.386719 526.292969 L 260.199219 517.921875 \"/>\n",
       "<path style=\" stroke:none;fill-rule:nonzero;fill:rgb(26.666667%,26.666667%,26.666667%);fill-opacity:1;\" d=\"M 250.226562 507.722656 L 263.515625 514.683594 L 256.886719 521.164062 L 250.226562 507.722656 \"/>\n",
       "<path style=\"fill:none;stroke-width:1;stroke-linecap:butt;stroke-linejoin:miter;stroke:rgb(26.666667%,26.666667%,26.666667%);stroke-opacity:1;stroke-miterlimit:10;\" d=\"M 268.386719 526.292969 L 299.390625 507.066406 \"/>\n",
       "<path style=\" stroke:none;fill-rule:nonzero;fill:rgb(26.666667%,26.666667%,26.666667%);fill-opacity:1;\" d=\"M 311.515625 499.546875 L 301.835938 511.003906 L 296.949219 503.128906 L 311.515625 499.546875 \"/>\n",
       "<path style=\"fill:none;stroke-width:1;stroke-linecap:butt;stroke-linejoin:miter;stroke:rgb(26.666667%,26.666667%,26.666667%);stroke-opacity:1;stroke-miterlimit:10;\" d=\"M 58.804688 423.125 L 57.542969 432.402344 \"/>\n",
       "<path style=\" stroke:none;fill-rule:nonzero;fill:rgb(26.666667%,26.666667%,26.666667%);fill-opacity:1;\" d=\"M 55.621094 446.539062 L 52.953125 431.777344 L 62.136719 433.027344 L 55.621094 446.539062 \"/>\n",
       "<path style=\"fill:none;stroke-width:1;stroke-linecap:butt;stroke-linejoin:miter;stroke:rgb(26.666667%,26.666667%,26.666667%);stroke-opacity:1;stroke-miterlimit:10;\" d=\"M 58.804688 423.125 C 72.453125 413.25 73.976562 384.023438 70.785156 384.507812 \"/>\n",
       "<path style=\" stroke:none;fill-rule:nonzero;fill:rgb(26.666667%,26.666667%,26.666667%);fill-opacity:1;\" d=\"M 56.679688 386.636719 L 70.09375 379.925781 L 71.476562 389.089844 L 56.679688 386.636719 \"/>\n",
       "<path style=\"fill:none;stroke-width:1;stroke-linecap:butt;stroke-linejoin:miter;stroke:rgb(26.666667%,26.666667%,26.666667%);stroke-opacity:1;stroke-miterlimit:10;\" d=\"M 58.804688 423.125 L 70.269531 444.644531 \"/>\n",
       "<path style=\" stroke:none;fill-rule:nonzero;fill:rgb(26.666667%,26.666667%,26.666667%);fill-opacity:1;\" d=\"M 76.976562 457.234375 L 66.179688 446.824219 L 74.359375 442.464844 L 76.976562 457.234375 \"/>\n",
       "<path style=\"fill:none;stroke-width:1;stroke-linecap:butt;stroke-linejoin:miter;stroke:rgb(26.666667%,26.666667%,26.666667%);stroke-opacity:1;stroke-miterlimit:10;\" d=\"M 269.109375 257.554688 C 268.328125 275.53125 277.636719 295.496094 293.5 293.191406 \"/>\n",
       "<path style=\" stroke:none;fill-rule:nonzero;fill:rgb(26.666667%,26.666667%,26.666667%);fill-opacity:1;\" d=\"M 307.617188 291.140625 L 294.167969 297.777344 L 292.832031 288.605469 L 307.617188 291.140625 \"/>\n",
       "<path style=\"fill:none;stroke-width:1;stroke-linecap:butt;stroke-linejoin:miter;stroke:rgb(26.666667%,26.666667%,26.666667%);stroke-opacity:1;stroke-miterlimit:10;\" d=\"M 269.109375 257.554688 C 276.171875 253.144531 280.472656 245.777344 276.316406 238.914062 \"/>\n",
       "<path style=\" stroke:none;fill-rule:nonzero;fill:rgb(26.666667%,26.666667%,26.666667%);fill-opacity:1;\" d=\"M 268.921875 226.714844 L 280.28125 236.511719 L 272.351562 241.316406 L 268.921875 226.714844 \"/>\n",
       "<path style=\"fill:none;stroke-width:1;stroke-linecap:butt;stroke-linejoin:miter;stroke:rgb(26.666667%,26.666667%,26.666667%);stroke-opacity:1;stroke-miterlimit:10;\" d=\"M 182.59375 157.808594 C 173.3125 149.167969 162.132812 146.730469 152.335938 154.582031 \"/>\n",
       "<path style=\" stroke:none;fill-rule:nonzero;fill:rgb(26.666667%,26.666667%,26.666667%);fill-opacity:1;\" d=\"M 141.203125 163.503906 L 149.433594 150.96875 L 155.234375 158.199219 L 141.203125 163.503906 \"/>\n",
       "<path style=\"fill:none;stroke-width:1;stroke-linecap:butt;stroke-linejoin:miter;stroke:rgb(26.666667%,26.666667%,26.666667%);stroke-opacity:1;stroke-miterlimit:10;\" d=\"M 182.59375 157.808594 C 176.476562 161.324219 168.402344 161.726562 165.78125 155.753906 \"/>\n",
       "<path style=\" stroke:none;fill-rule:nonzero;fill:rgb(26.666667%,26.666667%,26.666667%);fill-opacity:1;\" d=\"M 160.046875 142.691406 L 170.023438 153.890625 L 161.535156 157.617188 L 160.046875 142.691406 \"/>\n",
       "<path style=\"fill:none;stroke-width:1;stroke-linecap:butt;stroke-linejoin:miter;stroke:rgb(26.666667%,26.666667%,26.666667%);stroke-opacity:1;stroke-miterlimit:10;\" d=\"M 182.59375 157.808594 C 200.628906 171.679688 209.253906 208.023438 197.246094 210.414062 \"/>\n",
       "<path style=\" stroke:none;fill-rule:nonzero;fill:rgb(26.666667%,26.666667%,26.666667%);fill-opacity:1;\" d=\"M 211.238281 207.628906 L 198.148438 214.960938 L 196.339844 205.867188 L 211.238281 207.628906 \"/>\n",
       "<path style=\"fill:none;stroke-width:1;stroke-linecap:butt;stroke-linejoin:miter;stroke:rgb(26.666667%,26.666667%,26.666667%);stroke-opacity:1;stroke-miterlimit:10;\" d=\"M 182.59375 157.808594 L 175.546875 185.835938 \"/>\n",
       "<path style=\" stroke:none;fill-rule:nonzero;fill:rgb(26.666667%,26.666667%,26.666667%);fill-opacity:1;\" d=\"M 172.066406 199.667969 L 171.050781 184.703125 L 180.042969 186.964844 L 172.066406 199.667969 \"/>\n",
       "<path style=\"fill:none;stroke-width:1;stroke-linecap:butt;stroke-linejoin:miter;stroke:rgb(26.666667%,26.666667%,26.666667%);stroke-opacity:1;stroke-miterlimit:10;\" d=\"M 182.59375 157.808594 L 170.359375 134.503906 \"/>\n",
       "<path style=\" stroke:none;fill-rule:nonzero;fill:rgb(26.666667%,26.666667%,26.666667%);fill-opacity:1;\" d=\"M 163.726562 121.875 L 174.460938 132.347656 L 166.253906 136.660156 L 163.726562 121.875 \"/>\n",
       "<path style=\"fill:none;stroke-width:1;stroke-linecap:butt;stroke-linejoin:miter;stroke:rgb(26.666667%,26.666667%,26.666667%);stroke-opacity:1;stroke-miterlimit:10;\" d=\"M 182.59375 157.808594 L 259.832031 167.652344 \"/>\n",
       "<path style=\" stroke:none;fill-rule:nonzero;fill:rgb(26.666667%,26.666667%,26.666667%);fill-opacity:1;\" d=\"M 273.984375 169.457031 L 259.246094 172.25 L 260.417969 163.054688 L 273.984375 169.457031 \"/>\n",
       "<path style=\"fill:none;stroke-width:1;stroke-linecap:butt;stroke-linejoin:miter;stroke:rgb(26.666667%,26.666667%,26.666667%);stroke-opacity:1;stroke-miterlimit:10;\" d=\"M 182.59375 157.808594 L 146.648438 136.648438 \"/>\n",
       "<path style=\" stroke:none;fill-rule:nonzero;fill:rgb(26.666667%,26.666667%,26.666667%);fill-opacity:1;\" d=\"M 134.355469 129.414062 L 149 132.65625 L 144.296875 140.644531 L 134.355469 129.414062 \"/>\n",
       "<path style=\"fill:none;stroke-width:1;stroke-linecap:butt;stroke-linejoin:miter;stroke:rgb(26.666667%,26.666667%,26.666667%);stroke-opacity:1;stroke-miterlimit:10;\" d=\"M 182.59375 157.808594 L 187.859375 153.714844 \"/>\n",
       "<path style=\" stroke:none;fill-rule:nonzero;fill:rgb(26.666667%,26.666667%,26.666667%);fill-opacity:1;\" d=\"M 199.125 144.960938 L 190.703125 157.375 L 185.015625 150.054688 L 199.125 144.960938 \"/>\n",
       "<path style=\"fill:none;stroke-width:1;stroke-linecap:butt;stroke-linejoin:miter;stroke:rgb(26.666667%,26.666667%,26.666667%);stroke-opacity:1;stroke-miterlimit:10;\" d=\"M 182.59375 157.808594 L 209.054688 117.292969 \"/>\n",
       "<path style=\" stroke:none;fill-rule:nonzero;fill:rgb(26.666667%,26.666667%,26.666667%);fill-opacity:1;\" d=\"M 216.855469 105.347656 L 212.9375 119.828125 L 205.175781 114.757812 L 216.855469 105.347656 \"/>\n",
       "<path style=\"fill:none;stroke-width:1;stroke-linecap:butt;stroke-linejoin:miter;stroke:rgb(26.666667%,26.666667%,26.666667%);stroke-opacity:1;stroke-miterlimit:10;\" d=\"M 182.59375 157.808594 L 130.222656 166.726562 \"/>\n",
       "<path style=\" stroke:none;fill-rule:nonzero;fill:rgb(26.666667%,26.666667%,26.666667%);fill-opacity:1;\" d=\"M 116.160156 169.121094 L 129.445312 162.15625 L 131 171.296875 L 116.160156 169.121094 \"/>\n",
       "<path style=\"fill:none;stroke-width:1;stroke-linecap:butt;stroke-linejoin:miter;stroke:rgb(26.666667%,26.666667%,26.666667%);stroke-opacity:1;stroke-miterlimit:10;\" d=\"M 345.648438 528.453125 L 352.601562 532.566406 \"/>\n",
       "<path style=\" stroke:none;fill-rule:nonzero;fill:rgb(26.666667%,26.666667%,26.666667%);fill-opacity:1;\" d=\"M 364.882812 539.828125 L 350.242188 536.554688 L 354.960938 528.578125 L 364.882812 539.828125 \"/>\n",
       "<path style=\"fill:none;stroke-width:1;stroke-linecap:butt;stroke-linejoin:miter;stroke:rgb(26.666667%,26.666667%,26.666667%);stroke-opacity:1;stroke-miterlimit:10;\" d=\"M 345.648438 528.453125 L 344.691406 532.324219 \"/>\n",
       "<path style=\" stroke:none;fill-rule:nonzero;fill:rgb(26.666667%,26.666667%,26.666667%);fill-opacity:1;\" d=\"M 341.265625 546.171875 L 340.191406 531.210938 L 349.191406 533.4375 L 341.265625 546.171875 \"/>\n",
       "<path style=\"fill:none;stroke-width:1;stroke-linecap:butt;stroke-linejoin:miter;stroke:rgb(26.666667%,26.666667%,26.666667%);stroke-opacity:1;stroke-miterlimit:10;\" d=\"M 345.648438 528.453125 L 334.574219 513.691406 \"/>\n",
       "<path style=\" stroke:none;fill-rule:nonzero;fill:rgb(26.666667%,26.666667%,26.666667%);fill-opacity:1;\" d=\"M 326.015625 502.277344 L 338.28125 510.910156 L 330.867188 516.472656 L 326.015625 502.277344 \"/>\n",
       "<path style=\"fill:none;stroke-width:1;stroke-linecap:butt;stroke-linejoin:miter;stroke:rgb(26.666667%,26.666667%,26.666667%);stroke-opacity:1;stroke-miterlimit:10;\" d=\"M 345.136719 203.578125 L 410.089844 241.160156 \"/>\n",
       "<path style=\" stroke:none;fill-rule:nonzero;fill:rgb(26.666667%,26.666667%,26.666667%);fill-opacity:1;\" d=\"M 422.4375 248.304688 L 407.769531 245.171875 L 412.410156 237.148438 L 422.4375 248.304688 \"/>\n",
       "<path style=\"fill:none;stroke-width:1;stroke-linecap:butt;stroke-linejoin:miter;stroke:rgb(26.666667%,26.666667%,26.666667%);stroke-opacity:1;stroke-miterlimit:10;\" d=\"M 345.136719 203.578125 L 284.351562 169.277344 \"/>\n",
       "<path style=\" stroke:none;fill-rule:nonzero;fill:rgb(26.666667%,26.666667%,26.666667%);fill-opacity:1;\" d=\"M 271.925781 162.265625 L 286.628906 165.238281 L 282.074219 173.3125 L 271.925781 162.265625 \"/>\n",
       "<path style=\"fill:none;stroke-width:1;stroke-linecap:butt;stroke-linejoin:miter;stroke:rgb(26.666667%,26.666667%,26.666667%);stroke-opacity:1;stroke-miterlimit:10;\" d=\"M 345.136719 203.578125 L 344.417969 206.730469 \"/>\n",
       "<path style=\" stroke:none;fill-rule:nonzero;fill:rgb(26.666667%,26.666667%,26.666667%);fill-opacity:1;\" d=\"M 341.253906 220.640625 L 339.898438 205.699219 L 348.9375 207.757812 L 341.253906 220.640625 \"/>\n",
       "<path style=\"fill:none;stroke-width:1;stroke-linecap:butt;stroke-linejoin:miter;stroke:rgb(26.666667%,26.666667%,26.666667%);stroke-opacity:1;stroke-miterlimit:10;\" d=\"M 345.136719 203.578125 L 305.285156 182.195312 \"/>\n",
       "<path style=\" stroke:none;fill-rule:nonzero;fill:rgb(26.666667%,26.666667%,26.666667%);fill-opacity:1;\" d=\"M 292.714844 175.449219 L 307.476562 178.109375 L 303.09375 186.277344 L 292.714844 175.449219 \"/>\n",
       "<path style=\"fill:none;stroke-width:1;stroke-linecap:butt;stroke-linejoin:miter;stroke:rgb(26.666667%,26.666667%,26.666667%);stroke-opacity:1;stroke-miterlimit:10;\" d=\"M 345.136719 203.578125 L 397.386719 212.914062 \"/>\n",
       "<path style=\" stroke:none;fill-rule:nonzero;fill:rgb(26.666667%,26.666667%,26.666667%);fill-opacity:1;\" d=\"M 411.429688 215.425781 L 396.570312 217.480469 L 398.203125 208.351562 L 411.429688 215.425781 \"/>\n",
       "<path style=\"fill:none;stroke-width:1;stroke-linecap:butt;stroke-linejoin:miter;stroke:rgb(26.666667%,26.666667%,26.666667%);stroke-opacity:1;stroke-miterlimit:10;\" d=\"M 263.21875 157.351562 C 269.277344 165.863281 271.027344 177.789062 262.59375 182.417969 \"/>\n",
       "<path style=\" stroke:none;fill-rule:nonzero;fill:rgb(26.666667%,26.666667%,26.666667%);fill-opacity:1;\" d=\"M 275.097656 175.554688 L 264.824219 186.480469 L 260.363281 178.355469 L 275.097656 175.554688 \"/>\n",
       "<path style=\"fill:none;stroke-width:1;stroke-linecap:butt;stroke-linejoin:miter;stroke:rgb(26.666667%,26.666667%,26.666667%);stroke-opacity:1;stroke-miterlimit:10;\" d=\"M 263.21875 157.351562 C 247 144.707031 219.179688 140.589844 213.875 156.425781 \"/>\n",
       "<path style=\" stroke:none;fill-rule:nonzero;fill:rgb(26.666667%,26.666667%,26.666667%);fill-opacity:1;\" d=\"M 209.34375 169.953125 L 209.480469 154.953125 L 218.269531 157.898438 L 209.34375 169.953125 \"/>\n",
       "<path style=\"fill:none;stroke-width:1;stroke-linecap:butt;stroke-linejoin:miter;stroke:rgb(26.666667%,26.666667%,26.666667%);stroke-opacity:1;stroke-miterlimit:10;\" d=\"M 263.21875 157.351562 L 235.933594 117.066406 \"/>\n",
       "<path style=\" stroke:none;fill-rule:nonzero;fill:rgb(26.666667%,26.666667%,26.666667%);fill-opacity:1;\" d=\"M 227.933594 105.257812 L 239.769531 114.46875 L 232.09375 119.667969 L 227.933594 105.257812 \"/>\n",
       "<path style=\"fill:none;stroke-width:1;stroke-linecap:butt;stroke-linejoin:miter;stroke:rgb(26.666667%,26.666667%,26.666667%);stroke-opacity:1;stroke-miterlimit:10;\" d=\"M 276.335938 476.546875 L 297.53125 485.148438 \"/>\n",
       "<path style=\" stroke:none;fill-rule:nonzero;fill:rgb(26.666667%,26.666667%,26.666667%);fill-opacity:1;\" d=\"M 310.75 490.515625 L 295.785156 489.445312 L 299.273438 480.855469 L 310.75 490.515625 \"/>\n",
       "<path style=\"fill:none;stroke-width:1;stroke-linecap:butt;stroke-linejoin:miter;stroke:rgb(26.666667%,26.666667%,26.666667%);stroke-opacity:1;stroke-miterlimit:10;\" d=\"M 341.601562 457.4375 L 349.433594 469.261719 \"/>\n",
       "<path style=\" stroke:none;fill-rule:nonzero;fill:rgb(26.666667%,26.666667%,26.666667%);fill-opacity:1;\" d=\"M 357.3125 481.15625 L 345.570312 471.820312 L 353.296875 466.703125 L 357.3125 481.15625 \"/>\n",
       "<path style=\"fill:none;stroke-width:1;stroke-linecap:butt;stroke-linejoin:miter;stroke:rgb(26.666667%,26.666667%,26.666667%);stroke-opacity:1;stroke-miterlimit:10;\" d=\"M 341.601562 457.4375 L 332.28125 473.34375 \"/>\n",
       "<path style=\" stroke:none;fill-rule:nonzero;fill:rgb(26.666667%,26.666667%,26.666667%);fill-opacity:1;\" d=\"M 325.070312 485.652344 L 328.285156 471 L 336.28125 475.6875 L 325.070312 485.652344 \"/>\n",
       "<path style=\"fill:none;stroke-width:1;stroke-linecap:butt;stroke-linejoin:miter;stroke:rgb(26.666667%,26.666667%,26.666667%);stroke-opacity:1;stroke-miterlimit:10;\" d=\"M 374.75 463.484375 L 391.785156 467.554688 \"/>\n",
       "<path style=\" stroke:none;fill-rule:nonzero;fill:rgb(26.666667%,26.666667%,26.666667%);fill-opacity:1;\" d=\"M 405.660156 470.867188 L 390.707031 472.0625 L 392.859375 463.042969 L 405.660156 470.867188 \"/>\n",
       "<path style=\"fill:none;stroke-width:1;stroke-linecap:butt;stroke-linejoin:miter;stroke:rgb(26.666667%,26.666667%,26.666667%);stroke-opacity:1;stroke-miterlimit:10;\" d=\"M 374.75 463.484375 L 372.941406 467.433594 \"/>\n",
       "<path style=\" stroke:none;fill-rule:nonzero;fill:rgb(26.666667%,26.666667%,26.666667%);fill-opacity:1;\" d=\"M 367 480.402344 L 368.726562 465.503906 L 377.15625 469.367188 L 367 480.402344 \"/>\n",
       "<path style=\"fill:none;stroke-width:1;stroke-linecap:butt;stroke-linejoin:miter;stroke:rgb(26.666667%,26.666667%,26.666667%);stroke-opacity:1;stroke-miterlimit:10;\" d=\"M 374.75 463.484375 L 341.164062 482.382812 \"/>\n",
       "<path style=\" stroke:none;fill-rule:nonzero;fill:rgb(26.666667%,26.666667%,26.666667%);fill-opacity:1;\" d=\"M 328.730469 489.375 L 338.890625 478.339844 L 343.4375 486.421875 L 328.730469 489.375 \"/>\n",
       "<path style=\"fill:none;stroke-width:1;stroke-linecap:butt;stroke-linejoin:miter;stroke:rgb(26.666667%,26.666667%,26.666667%);stroke-opacity:1;stroke-miterlimit:10;\" d=\"M 132.175781 430.585938 L 145.792969 432.40625 \"/>\n",
       "<path style=\" stroke:none;fill-rule:nonzero;fill:rgb(26.666667%,26.666667%,26.666667%);fill-opacity:1;\" d=\"M 159.929688 434.296875 L 145.175781 437 L 146.40625 427.8125 L 159.929688 434.296875 \"/>\n",
       "<path style=\"fill:none;stroke-width:1;stroke-linecap:butt;stroke-linejoin:miter;stroke:rgb(26.666667%,26.666667%,26.666667%);stroke-opacity:1;stroke-miterlimit:10;\" d=\"M 243.234375 500.574219 L 295.828125 496.261719 \"/>\n",
       "<path style=\" stroke:none;fill-rule:nonzero;fill:rgb(26.666667%,26.666667%,26.666667%);fill-opacity:1;\" d=\"M 310.046875 495.09375 L 296.207031 500.882812 L 295.449219 491.640625 L 310.046875 495.09375 \"/>\n",
       "<path style=\"fill:none;stroke-width:1;stroke-linecap:butt;stroke-linejoin:miter;stroke:rgb(26.666667%,26.666667%,26.666667%);stroke-opacity:1;stroke-miterlimit:10;\" d=\"M 501.707031 230.125 L 454.148438 245.742188 \"/>\n",
       "<path style=\" stroke:none;fill-rule:nonzero;fill:rgb(26.666667%,26.666667%,26.666667%);fill-opacity:1;\" d=\"M 440.59375 250.191406 L 452.699219 241.339844 L 455.59375 250.144531 L 440.59375 250.191406 \"/>\n",
       "<path style=\"fill:none;stroke-width:1;stroke-linecap:butt;stroke-linejoin:miter;stroke:rgb(26.666667%,26.666667%,26.666667%);stroke-opacity:1;stroke-miterlimit:10;\" d=\"M 501.707031 230.125 L 514.039062 206.640625 \"/>\n",
       "<path style=\" stroke:none;fill-rule:nonzero;fill:rgb(26.666667%,26.666667%,26.666667%);fill-opacity:1;\" d=\"M 520.671875 194.011719 L 518.144531 208.796875 L 509.9375 204.488281 L 520.671875 194.011719 \"/>\n",
       "<path style=\"fill:none;stroke-width:1;stroke-linecap:butt;stroke-linejoin:miter;stroke:rgb(26.666667%,26.666667%,26.666667%);stroke-opacity:1;stroke-miterlimit:10;\" d=\"M 501.707031 230.125 L 486.148438 224.828125 \"/>\n",
       "<path style=\" stroke:none;fill-rule:nonzero;fill:rgb(26.666667%,26.666667%,26.666667%);fill-opacity:1;\" d=\"M 472.644531 220.230469 L 487.640625 220.4375 L 484.652344 229.214844 L 472.644531 220.230469 \"/>\n",
       "<path style=\"fill:none;stroke-width:1;stroke-linecap:butt;stroke-linejoin:miter;stroke:rgb(26.666667%,26.666667%,26.666667%);stroke-opacity:1;stroke-miterlimit:10;\" d=\"M 452.433594 176.695312 L 457.589844 180.289062 \"/>\n",
       "<path style=\" stroke:none;fill-rule:nonzero;fill:rgb(26.666667%,26.666667%,26.666667%);fill-opacity:1;\" d=\"M 469.289062 188.449219 L 454.9375 184.089844 L 460.242188 176.488281 L 469.289062 188.449219 \"/>\n",
       "<path style=\"fill:none;stroke-width:1;stroke-linecap:butt;stroke-linejoin:miter;stroke:rgb(26.666667%,26.666667%,26.666667%);stroke-opacity:1;stroke-miterlimit:10;\" d=\"M 452.433594 176.695312 L 437.605469 229.9375 \"/>\n",
       "<path style=\" stroke:none;fill-rule:nonzero;fill:rgb(26.666667%,26.666667%,26.666667%);fill-opacity:1;\" d=\"M 433.777344 243.679688 L 433.140625 228.695312 L 442.070312 231.179688 L 433.777344 243.679688 \"/>\n",
       "<path style=\"fill:none;stroke-width:1;stroke-linecap:butt;stroke-linejoin:miter;stroke:rgb(26.666667%,26.666667%,26.666667%);stroke-opacity:1;stroke-miterlimit:10;\" d=\"M 452.433594 176.695312 L 392.457031 161.175781 \"/>\n",
       "<path style=\" stroke:none;fill-rule:nonzero;fill:rgb(26.666667%,26.666667%,26.666667%);fill-opacity:1;\" d=\"M 378.644531 157.601562 L 393.617188 156.6875 L 391.296875 165.664062 L 378.644531 157.601562 \"/>\n",
       "<path style=\"fill:none;stroke-width:1;stroke-linecap:butt;stroke-linejoin:miter;stroke:rgb(26.666667%,26.666667%,26.666667%);stroke-opacity:1;stroke-miterlimit:10;\" d=\"M 452.433594 176.695312 L 494.25 150.398438 \"/>\n",
       "<path style=\" stroke:none;fill-rule:nonzero;fill:rgb(26.666667%,26.666667%,26.666667%);fill-opacity:1;\" d=\"M 506.328125 142.804688 L 496.71875 154.324219 L 491.78125 146.476562 L 506.328125 142.804688 \"/>\n",
       "<path style=\"fill:none;stroke-width:1;stroke-linecap:butt;stroke-linejoin:miter;stroke:rgb(26.666667%,26.666667%,26.666667%);stroke-opacity:1;stroke-miterlimit:10;\" d=\"M 452.433594 176.695312 L 501.21875 182.359375 \"/>\n",
       "<path style=\" stroke:none;fill-rule:nonzero;fill:rgb(26.666667%,26.666667%,26.666667%);fill-opacity:1;\" d=\"M 515.386719 184.003906 L 500.683594 186.964844 L 501.753906 177.753906 L 515.386719 184.003906 \"/>\n",
       "<path style=\"fill:none;stroke-width:1;stroke-linecap:butt;stroke-linejoin:miter;stroke:rgb(26.666667%,26.666667%,26.666667%);stroke-opacity:1;stroke-miterlimit:10;\" d=\"M 452.433594 176.695312 L 451.929688 178.484375 \"/>\n",
       "<path style=\" stroke:none;fill-rule:nonzero;fill:rgb(26.666667%,26.666667%,26.666667%);fill-opacity:1;\" d=\"M 448.058594 192.214844 L 447.46875 177.226562 L 456.390625 179.742188 L 448.058594 192.214844 \"/>\n",
       "<path style=\"fill:none;stroke-width:1;stroke-linecap:butt;stroke-linejoin:miter;stroke:rgb(26.666667%,26.666667%,26.666667%);stroke-opacity:1;stroke-miterlimit:10;\" d=\"M 452.433594 176.695312 L 456.867188 160.097656 \"/>\n",
       "<path style=\" stroke:none;fill-rule:nonzero;fill:rgb(26.666667%,26.666667%,26.666667%);fill-opacity:1;\" d=\"M 460.550781 146.3125 L 461.347656 161.292969 L 452.390625 158.902344 L 460.550781 146.3125 \"/>\n",
       "<path style=\"fill:none;stroke-width:1;stroke-linecap:butt;stroke-linejoin:miter;stroke:rgb(26.666667%,26.666667%,26.666667%);stroke-opacity:1;stroke-miterlimit:10;\" d=\"M 452.433594 176.695312 L 436.074219 197.953125 \"/>\n",
       "<path style=\" stroke:none;fill-rule:nonzero;fill:rgb(26.666667%,26.666667%,26.666667%);fill-opacity:1;\" d=\"M 427.371094 209.261719 L 432.398438 195.128906 L 439.746094 200.78125 L 427.371094 209.261719 \"/>\n",
       "<path style=\"fill:none;stroke-width:1;stroke-linecap:butt;stroke-linejoin:miter;stroke:rgb(26.666667%,26.666667%,26.666667%);stroke-opacity:1;stroke-miterlimit:10;\" d=\"M 452.433594 176.695312 C 432.453125 159.460938 413.328125 167.410156 389.25 172.378906 \"/>\n",
       "<path style=\" stroke:none;fill-rule:nonzero;fill:rgb(26.666667%,26.666667%,26.666667%);fill-opacity:1;\" d=\"M 403.222656 169.496094 L 390.1875 176.917969 L 388.316406 167.839844 L 403.222656 169.496094 \"/>\n",
       "<path style=\"fill:none;stroke-width:1;stroke-linecap:butt;stroke-linejoin:miter;stroke:rgb(26.666667%,26.666667%,26.666667%);stroke-opacity:1;stroke-miterlimit:10;\" d=\"M 452.433594 176.695312 L 456.929688 193.558594 \"/>\n",
       "<path style=\" stroke:none;fill-rule:nonzero;fill:rgb(26.666667%,26.666667%,26.666667%);fill-opacity:1;\" d=\"M 460.601562 207.34375 L 452.449219 194.75 L 461.40625 192.363281 L 460.601562 207.34375 \"/>\n",
       "<path style=\"fill:none;stroke-width:1;stroke-linecap:butt;stroke-linejoin:miter;stroke:rgb(26.666667%,26.666667%,26.666667%);stroke-opacity:1;stroke-miterlimit:10;\" d=\"M 367.539062 188.347656 L 352.652344 210.304688 \"/>\n",
       "<path style=\" stroke:none;fill-rule:nonzero;fill:rgb(26.666667%,26.666667%,26.666667%);fill-opacity:1;\" d=\"M 344.644531 222.113281 L 348.816406 207.703125 L 356.488281 212.90625 L 344.644531 222.113281 \"/>\n",
       "<path style=\"fill:none;stroke-width:1;stroke-linecap:butt;stroke-linejoin:miter;stroke:rgb(26.666667%,26.666667%,26.666667%);stroke-opacity:1;stroke-miterlimit:10;\" d=\"M 46.328125 388.203125 C 51.394531 406.261719 65.144531 421.070312 82.0625 415.585938 \"/>\n",
       "<path style=\" stroke:none;fill-rule:nonzero;fill:rgb(26.666667%,26.666667%,26.666667%);fill-opacity:1;\" d=\"M 68.492188 419.984375 L 80.632812 411.175781 L 83.492188 419.996094 L 68.492188 419.984375 \"/>\n",
       "<path style=\"fill:none;stroke-width:1;stroke-linecap:butt;stroke-linejoin:miter;stroke:rgb(26.666667%,26.666667%,26.666667%);stroke-opacity:1;stroke-miterlimit:10;\" d=\"M 46.328125 388.203125 L 37.648438 380.007812 \"/>\n",
       "<path style=\" stroke:none;fill-rule:nonzero;fill:rgb(26.666667%,26.666667%,26.666667%);fill-opacity:1;\" d=\"M 27.273438 370.214844 L 40.828125 376.636719 L 34.464844 383.378906 L 27.273438 370.214844 \"/>\n",
       "<path style=\"fill:none;stroke-width:1;stroke-linecap:butt;stroke-linejoin:miter;stroke:rgb(26.666667%,26.666667%,26.666667%);stroke-opacity:1;stroke-miterlimit:10;\" d=\"M 46.328125 388.203125 L 45.5625 372.582031 \"/>\n",
       "<path style=\" stroke:none;fill-rule:nonzero;fill:rgb(26.666667%,26.666667%,26.666667%);fill-opacity:1;\" d=\"M 44.863281 358.332031 L 50.191406 372.355469 L 40.933594 372.808594 L 44.863281 358.332031 \"/>\n",
       "<path style=\"fill:none;stroke-width:1;stroke-linecap:butt;stroke-linejoin:miter;stroke:rgb(26.666667%,26.666667%,26.666667%);stroke-opacity:1;stroke-miterlimit:10;\" d=\"M 402.394531 83.757812 L 397.671875 60.457031 \"/>\n",
       "<path style=\" stroke:none;fill-rule:nonzero;fill:rgb(26.666667%,26.666667%,26.666667%);fill-opacity:1;\" d=\"M 394.835938 46.476562 L 402.214844 59.535156 L 393.128906 61.378906 L 394.835938 46.476562 \"/>\n",
       "<path style=\"fill:none;stroke-width:1;stroke-linecap:butt;stroke-linejoin:miter;stroke:rgb(26.666667%,26.666667%,26.666667%);stroke-opacity:1;stroke-miterlimit:10;\" d=\"M 203.378906 535.847656 L 225.0625 516.65625 \"/>\n",
       "<path style=\" stroke:none;fill-rule:nonzero;fill:rgb(26.666667%,26.666667%,26.666667%);fill-opacity:1;\" d=\"M 235.746094 507.203125 L 228.136719 520.128906 L 221.992188 513.1875 L 235.746094 507.203125 \"/>\n",
       "<path style=\"fill:none;stroke-width:1;stroke-linecap:butt;stroke-linejoin:miter;stroke:rgb(26.666667%,26.666667%,26.666667%);stroke-opacity:1;stroke-miterlimit:10;\" d=\"M 362.832031 489.492188 L 344.128906 491.582031 \"/>\n",
       "<path style=\" stroke:none;fill-rule:nonzero;fill:rgb(26.666667%,26.666667%,26.666667%);fill-opacity:1;\" d=\"M 329.953125 493.167969 L 343.613281 486.976562 L 344.644531 496.191406 L 329.953125 493.167969 \"/>\n",
       "<path style=\"fill:none;stroke-width:1;stroke-linecap:butt;stroke-linejoin:miter;stroke:rgb(26.666667%,26.666667%,26.666667%);stroke-opacity:1;stroke-miterlimit:10;\" d=\"M 564.625 252.359375 L 513.917969 250.40625 \"/>\n",
       "<path style=\" stroke:none;fill-rule:nonzero;fill:rgb(26.666667%,26.666667%,26.666667%);fill-opacity:1;\" d=\"M 499.660156 249.855469 L 514.09375 245.773438 L 513.738281 255.035156 L 499.660156 249.855469 \"/>\n",
       "<path style=\"fill:none;stroke-width:1;stroke-linecap:butt;stroke-linejoin:miter;stroke:rgb(26.666667%,26.666667%,26.666667%);stroke-opacity:1;stroke-miterlimit:10;\" d=\"M 178.78125 330.542969 L 150.992188 323.859375 \"/>\n",
       "<path style=\" stroke:none;fill-rule:nonzero;fill:rgb(26.666667%,26.666667%,26.666667%);fill-opacity:1;\" d=\"M 137.121094 320.519531 L 152.074219 319.351562 L 149.90625 328.363281 L 137.121094 320.519531 \"/>\n",
       "<path style=\"fill:none;stroke-width:1;stroke-linecap:butt;stroke-linejoin:miter;stroke:rgb(26.666667%,26.666667%,26.666667%);stroke-opacity:1;stroke-miterlimit:10;\" d=\"M 178.78125 330.542969 L 159.679688 341.632812 \"/>\n",
       "<path style=\" stroke:none;fill-rule:nonzero;fill:rgb(26.666667%,26.666667%,26.666667%);fill-opacity:1;\" d=\"M 147.339844 348.792969 L 157.351562 337.625 L 162.003906 345.640625 L 147.339844 348.792969 \"/>\n",
       "<path style=\"fill:none;stroke-width:1;stroke-linecap:butt;stroke-linejoin:miter;stroke:rgb(26.666667%,26.666667%,26.666667%);stroke-opacity:1;stroke-miterlimit:10;\" d=\"M 178.78125 330.542969 C 205.097656 347.566406 236.273438 320.980469 253.8125 325.332031 \"/>\n",
       "<path style=\" stroke:none;fill-rule:nonzero;fill:rgb(26.666667%,26.666667%,26.666667%);fill-opacity:1;\" d=\"M 239.96875 321.898438 L 254.929688 320.835938 L 252.699219 329.832031 L 239.96875 321.898438 \"/>\n",
       "<path style=\"fill:none;stroke-width:1;stroke-linecap:butt;stroke-linejoin:miter;stroke:rgb(26.666667%,26.666667%,26.666667%);stroke-opacity:1;stroke-miterlimit:10;\" d=\"M 219.035156 444.847656 L 255.175781 407.257812 \"/>\n",
       "<path style=\" stroke:none;fill-rule:nonzero;fill:rgb(26.666667%,26.666667%,26.666667%);fill-opacity:1;\" d=\"M 265.0625 396.972656 L 258.515625 410.472656 L 251.832031 404.046875 L 265.0625 396.972656 \"/>\n",
       "<path style=\"fill:none;stroke-width:1;stroke-linecap:butt;stroke-linejoin:miter;stroke:rgb(26.666667%,26.666667%,26.666667%);stroke-opacity:1;stroke-miterlimit:10;\" d=\"M 219.035156 444.847656 L 233.570312 478.316406 \"/>\n",
       "<path style=\" stroke:none;fill-rule:nonzero;fill:rgb(26.666667%,26.666667%,26.666667%);fill-opacity:1;\" d=\"M 239.25 491.402344 L 229.316406 480.164062 L 237.820312 476.46875 L 239.25 491.402344 \"/>\n",
       "<path style=\"fill:none;stroke-width:1;stroke-linecap:butt;stroke-linejoin:miter;stroke:rgb(26.666667%,26.666667%,26.666667%);stroke-opacity:1;stroke-miterlimit:10;\" d=\"M 219.035156 444.847656 L 193.691406 440.09375 \"/>\n",
       "<path style=\" stroke:none;fill-rule:nonzero;fill:rgb(26.666667%,26.666667%,26.666667%);fill-opacity:1;\" d=\"M 179.671875 437.464844 L 194.546875 435.539062 L 192.839844 444.652344 L 179.671875 437.464844 \"/>\n",
       "<path style=\"fill:none;stroke-width:1;stroke-linecap:butt;stroke-linejoin:miter;stroke:rgb(26.666667%,26.666667%,26.666667%);stroke-opacity:1;stroke-miterlimit:10;\" d=\"M 219.035156 444.847656 L 199.660156 461.863281 \"/>\n",
       "<path style=\" stroke:none;fill-rule:nonzero;fill:rgb(26.666667%,26.666667%,26.666667%);fill-opacity:1;\" d=\"M 188.941406 471.273438 L 196.601562 458.378906 L 202.71875 465.34375 L 188.941406 471.273438 \"/>\n",
       "<path style=\"fill:none;stroke-width:1;stroke-linecap:butt;stroke-linejoin:miter;stroke:rgb(26.666667%,26.666667%,26.666667%);stroke-opacity:1;stroke-miterlimit:10;\" d=\"M 275.191406 20 L 264.539062 30.519531 \"/>\n",
       "<path style=\" stroke:none;fill-rule:nonzero;fill:rgb(26.666667%,26.666667%,26.666667%);fill-opacity:1;\" d=\"M 254.386719 40.542969 L 261.28125 27.222656 L 267.792969 33.820312 L 254.386719 40.542969 \"/>\n",
       "<path style=\"fill:none;stroke-width:1;stroke-linecap:butt;stroke-linejoin:miter;stroke:rgb(26.666667%,26.666667%,26.666667%);stroke-opacity:1;stroke-miterlimit:10;\" d=\"M 247.269531 47.570312 L 233.261719 75.316406 \"/>\n",
       "<path style=\" stroke:none;fill-rule:nonzero;fill:rgb(26.666667%,26.666667%,26.666667%);fill-opacity:1;\" d=\"M 226.832031 88.050781 L 229.125 73.226562 L 237.398438 77.402344 L 226.832031 88.050781 \"/>\n",
       "<path style=\"fill:none;stroke-width:1;stroke-linecap:butt;stroke-linejoin:miter;stroke:rgb(26.666667%,26.666667%,26.666667%);stroke-opacity:1;stroke-miterlimit:10;\" d=\"M 233.253906 320.230469 C 222.449219 312.496094 213.179688 315.925781 201.375 320.941406 \"/>\n",
       "<path style=\" stroke:none;fill-rule:nonzero;fill:rgb(26.666667%,26.666667%,26.666667%);fill-opacity:1;\" d=\"M 188.246094 326.523438 L 199.5625 316.675781 L 203.1875 325.207031 L 188.246094 326.523438 \"/>\n",
       "<path style=\"fill:none;stroke-width:1;stroke-linecap:butt;stroke-linejoin:miter;stroke:rgb(26.666667%,26.666667%,26.666667%);stroke-opacity:1;stroke-miterlimit:10;\" d=\"M 317.851562 289.652344 C 318.09375 272.140625 309.34375 254.425781 293.097656 255.6875 \"/>\n",
       "<path style=\" stroke:none;fill-rule:nonzero;fill:rgb(26.666667%,26.666667%,26.666667%);fill-opacity:1;\" d=\"M 278.875 256.792969 L 292.738281 251.066406 L 293.457031 260.308594 L 278.875 256.792969 \"/>\n",
       "<path style=\"fill:none;stroke-width:1;stroke-linecap:butt;stroke-linejoin:miter;stroke:rgb(26.666667%,26.666667%,26.666667%);stroke-opacity:1;stroke-miterlimit:10;\" d=\"M 317.851562 289.652344 L 407.988281 260.726562 \"/>\n",
       "<path style=\" stroke:none;fill-rule:nonzero;fill:rgb(26.666667%,26.666667%,26.666667%);fill-opacity:1;\" d=\"M 421.570312 256.367188 L 409.402344 265.140625 L 406.570312 256.3125 L 421.570312 256.367188 \"/>\n",
       "<path style=\"fill:none;stroke-width:1;stroke-linecap:butt;stroke-linejoin:miter;stroke:rgb(26.666667%,26.666667%,26.666667%);stroke-opacity:1;stroke-miterlimit:10;\" d=\"M 317.851562 289.652344 L 327.988281 316.171875 \"/>\n",
       "<path style=\" stroke:none;fill-rule:nonzero;fill:rgb(26.666667%,26.666667%,26.666667%);fill-opacity:1;\" d=\"M 333.082031 329.496094 L 323.660156 317.824219 L 332.320312 314.515625 L 333.082031 329.496094 \"/>\n",
       "<path style=\"fill:none;stroke-width:1;stroke-linecap:butt;stroke-linejoin:miter;stroke:rgb(26.666667%,26.666667%,26.666667%);stroke-opacity:1;stroke-miterlimit:10;\" d=\"M 317.851562 289.652344 L 256.078125 311.980469 \"/>\n",
       "<path style=\" stroke:none;fill-rule:nonzero;fill:rgb(26.666667%,26.666667%,26.666667%);fill-opacity:1;\" d=\"M 242.660156 316.832031 L 254.5 307.621094 L 257.652344 316.339844 L 242.660156 316.832031 \"/>\n",
       "<path style=\"fill:none;stroke-width:1;stroke-linecap:butt;stroke-linejoin:miter;stroke:rgb(26.666667%,26.666667%,26.666667%);stroke-opacity:1;stroke-miterlimit:10;\" d=\"M 527.089844 467.921875 L 500.785156 479.234375 \"/>\n",
       "<path style=\" stroke:none;fill-rule:nonzero;fill:rgb(26.666667%,26.666667%,26.666667%);fill-opacity:1;\" d=\"M 487.679688 484.871094 L 498.953125 474.976562 L 502.617188 483.492188 L 487.679688 484.871094 \"/>\n",
       "<path style=\"fill:none;stroke-width:1;stroke-linecap:butt;stroke-linejoin:miter;stroke:rgb(26.666667%,26.666667%,26.666667%);stroke-opacity:1;stroke-miterlimit:10;\" d=\"M 412.496094 294.007812 C 426.242188 295.421875 431.679688 281.4375 440.929688 276.929688 \"/>\n",
       "<path style=\" stroke:none;fill-rule:nonzero;fill:rgb(26.666667%,26.666667%,26.666667%);fill-opacity:1;\" d=\"M 453.753906 270.679688 L 442.960938 281.097656 L 438.898438 272.761719 L 453.753906 270.679688 \"/>\n",
       "<path style=\"fill:none;stroke-width:1;stroke-linecap:butt;stroke-linejoin:miter;stroke:rgb(26.666667%,26.666667%,26.666667%);stroke-opacity:1;stroke-miterlimit:10;\" d=\"M 412.496094 294.007812 L 421.007812 275.382812 \"/>\n",
       "<path style=\" stroke:none;fill-rule:nonzero;fill:rgb(26.666667%,26.666667%,26.666667%);fill-opacity:1;\" d=\"M 426.9375 262.410156 L 425.222656 277.308594 L 416.789062 273.457031 L 426.9375 262.410156 \"/>\n",
       "<path style=\"fill:none;stroke-width:1;stroke-linecap:butt;stroke-linejoin:miter;stroke:rgb(26.666667%,26.666667%,26.666667%);stroke-opacity:1;stroke-miterlimit:10;\" d=\"M 412.496094 294.007812 L 429.460938 261.839844 \"/>\n",
       "<path style=\" stroke:none;fill-rule:nonzero;fill:rgb(26.666667%,26.666667%,26.666667%);fill-opacity:1;\" d=\"M 436.113281 249.21875 L 433.558594 264 L 425.359375 259.675781 L 436.113281 249.21875 \"/>\n",
       "<path style=\"fill:none;stroke-width:1;stroke-linecap:butt;stroke-linejoin:miter;stroke:rgb(26.666667%,26.666667%,26.666667%);stroke-opacity:1;stroke-miterlimit:10;\" d=\"M 412.496094 294.007812 L 357.542969 326.488281 \"/>\n",
       "<path style=\" stroke:none;fill-rule:nonzero;fill:rgb(26.666667%,26.666667%,26.666667%);fill-opacity:1;\" d=\"M 345.261719 333.75 L 355.183594 322.5 L 359.902344 330.480469 L 345.261719 333.75 \"/>\n",
       "<path style=\"fill:none;stroke-width:1;stroke-linecap:butt;stroke-linejoin:miter;stroke:rgb(26.666667%,26.666667%,26.666667%);stroke-opacity:1;stroke-miterlimit:10;\" d=\"M 521.699219 322.546875 L 450.375 268.046875 \"/>\n",
       "<path style=\" stroke:none;fill-rule:nonzero;fill:rgb(26.666667%,26.666667%,26.666667%);fill-opacity:1;\" d=\"M 439.039062 259.382812 L 453.1875 264.363281 L 447.558594 271.730469 L 439.039062 259.382812 \"/>\n",
       "<path style=\"fill:none;stroke-width:1;stroke-linecap:butt;stroke-linejoin:miter;stroke:rgb(26.666667%,26.666667%,26.666667%);stroke-opacity:1;stroke-miterlimit:10;\" d=\"M 521.699219 322.546875 L 542.46875 351.816406 \"/>\n",
       "<path style=\" stroke:none;fill-rule:nonzero;fill:rgb(26.666667%,26.666667%,26.666667%);fill-opacity:1;\" d=\"M 550.726562 363.449219 L 538.691406 354.5 L 546.25 349.132812 L 550.726562 363.449219 \"/>\n",
       "<path style=\"fill:none;stroke-width:1;stroke-linecap:butt;stroke-linejoin:miter;stroke:rgb(26.666667%,26.666667%,26.666667%);stroke-opacity:1;stroke-miterlimit:10;\" d=\"M 159.078125 113.019531 C 145.773438 111.9375 134.785156 130.519531 131.976562 130.09375 \"/>\n",
       "<path style=\" stroke:none;fill-rule:nonzero;fill:rgb(26.666667%,26.666667%,26.666667%);fill-opacity:1;\" d=\"M 146.082031 132.234375 L 131.28125 134.675781 L 132.671875 125.511719 L 146.082031 132.234375 \"/>\n",
       "<path style=\"fill:none;stroke-width:1;stroke-linecap:butt;stroke-linejoin:miter;stroke:rgb(26.666667%,26.666667%,26.666667%);stroke-opacity:1;stroke-miterlimit:10;\" d=\"M 159.078125 113.019531 L 148.714844 116.539062 \"/>\n",
       "<path style=\" stroke:none;fill-rule:nonzero;fill:rgb(26.666667%,26.666667%,26.666667%);fill-opacity:1;\" d=\"M 135.203125 121.125 L 147.222656 112.148438 L 150.203125 120.929688 L 135.203125 121.125 \"/>\n",
       "<path style=\"fill:none;stroke-width:1;stroke-linecap:butt;stroke-linejoin:miter;stroke:rgb(26.666667%,26.666667%,26.666667%);stroke-opacity:1;stroke-miterlimit:10;\" d=\"M 159.078125 113.019531 L 185.652344 127.324219 \"/>\n",
       "<path style=\" stroke:none;fill-rule:nonzero;fill:rgb(26.666667%,26.666667%,26.666667%);fill-opacity:1;\" d=\"M 198.214844 134.085938 L 183.457031 131.40625 L 187.847656 123.242188 L 198.214844 134.085938 \"/>\n",
       "<path style=\"fill:none;stroke-width:1;stroke-linecap:butt;stroke-linejoin:miter;stroke:rgb(26.666667%,26.666667%,26.666667%);stroke-opacity:1;stroke-miterlimit:10;\" d=\"M 283.902344 170.71875 L 345.097656 159.480469 \"/>\n",
       "<path style=\" stroke:none;fill-rule:nonzero;fill:rgb(26.666667%,26.666667%,26.666667%);fill-opacity:1;\" d=\"M 359.128906 156.90625 L 345.933594 164.039062 L 344.261719 154.921875 L 359.128906 156.90625 \"/>\n",
       "<path style=\"fill:none;stroke-width:1;stroke-linecap:butt;stroke-linejoin:miter;stroke:rgb(26.666667%,26.666667%,26.666667%);stroke-opacity:1;stroke-miterlimit:10;\" d=\"M 283.902344 170.71875 C 271.164062 181.402344 247.882812 169.792969 244.066406 172.886719 \"/>\n",
       "<path style=\" stroke:none;fill-rule:nonzero;fill:rgb(26.666667%,26.666667%,26.666667%);fill-opacity:1;\" d=\"M 255.144531 163.898438 L 246.984375 176.488281 L 241.144531 169.289062 L 255.144531 163.898438 \"/>\n",
       "<path style=\"fill:none;stroke-width:1;stroke-linecap:butt;stroke-linejoin:miter;stroke:rgb(26.666667%,26.666667%,26.666667%);stroke-opacity:1;stroke-miterlimit:10;\" d=\"M 283.902344 170.71875 L 264.449219 171.863281 \"/>\n",
       "<path style=\" stroke:none;fill-rule:nonzero;fill:rgb(26.666667%,26.666667%,26.666667%);fill-opacity:1;\" d=\"M 250.207031 172.699219 L 264.175781 167.234375 L 264.71875 176.492188 L 250.207031 172.699219 \"/>\n",
       "<path style=\"fill:none;stroke-width:1;stroke-linecap:butt;stroke-linejoin:miter;stroke:rgb(26.666667%,26.666667%,26.666667%);stroke-opacity:1;stroke-miterlimit:10;\" d=\"M 283.902344 170.71875 C 272.929688 160.625 247.230469 163.472656 248.300781 167.140625 \"/>\n",
       "<path style=\" stroke:none;fill-rule:nonzero;fill:rgb(26.666667%,26.666667%,26.666667%);fill-opacity:1;\" d=\"M 244.300781 153.445312 L 252.75 165.839844 L 243.851562 168.4375 L 244.300781 153.445312 \"/>\n",
       "<path style=\"fill:none;stroke-width:1;stroke-linecap:butt;stroke-linejoin:miter;stroke:rgb(26.666667%,26.666667%,26.666667%);stroke-opacity:1;stroke-miterlimit:10;\" d=\"M 283.902344 170.71875 C 259.296875 173.46875 237.941406 210.640625 240.617188 211.425781 \"/>\n",
       "<path style=\" stroke:none;fill-rule:nonzero;fill:rgb(26.666667%,26.666667%,26.666667%);fill-opacity:1;\" d=\"M 254.304688 215.445312 L 239.3125 215.871094 L 241.925781 206.976562 L 254.304688 215.445312 \"/>\n",
       "<path style=\"fill:none;stroke-width:1;stroke-linecap:butt;stroke-linejoin:miter;stroke:rgb(26.666667%,26.666667%,26.666667%);stroke-opacity:1;stroke-miterlimit:10;\" d=\"M 283.902344 170.71875 L 229.433594 148.125 \"/>\n",
       "<path style=\" stroke:none;fill-rule:nonzero;fill:rgb(26.666667%,26.666667%,26.666667%);fill-opacity:1;\" d=\"M 216.257812 142.65625 L 231.210938 143.84375 L 227.65625 152.40625 L 216.257812 142.65625 \"/>\n",
       "<path style=\"fill:none;stroke-width:1;stroke-linecap:butt;stroke-linejoin:miter;stroke:rgb(26.666667%,26.666667%,26.666667%);stroke-opacity:1;stroke-miterlimit:10;\" d=\"M 44.375 348.34375 L 40.664062 350.628906 \"/>\n",
       "<path style=\" stroke:none;fill-rule:nonzero;fill:rgb(26.666667%,26.666667%,26.666667%);fill-opacity:1;\" d=\"M 28.515625 358.109375 L 38.234375 346.683594 L 43.09375 354.578125 L 28.515625 358.109375 \"/>\n",
       "<path style=\"fill:none;stroke-width:1;stroke-linecap:butt;stroke-linejoin:miter;stroke:rgb(26.666667%,26.666667%,26.666667%);stroke-opacity:1;stroke-miterlimit:10;\" d=\"M 306.667969 444.355469 L 313.746094 470.835938 \"/>\n",
       "<path style=\" stroke:none;fill-rule:nonzero;fill:rgb(26.666667%,26.666667%,26.666667%);fill-opacity:1;\" d=\"M 317.429688 484.617188 L 309.269531 472.03125 L 318.226562 469.640625 L 317.429688 484.617188 \"/>\n",
       "<path style=\"fill:none;stroke-width:1;stroke-linecap:butt;stroke-linejoin:miter;stroke:rgb(26.666667%,26.666667%,26.666667%);stroke-opacity:1;stroke-miterlimit:10;\" d=\"M 206.054688 179.769531 C 220.714844 185.894531 230.347656 178.617188 243.023438 170.417969 \"/>\n",
       "<path style=\" stroke:none;fill-rule:nonzero;fill:rgb(26.666667%,26.666667%,26.666667%);fill-opacity:1;\" d=\"M 255 162.667969 L 245.542969 174.308594 L 240.503906 166.527344 L 255 162.667969 \"/>\n",
       "<path style=\"fill:none;stroke-width:1;stroke-linecap:butt;stroke-linejoin:miter;stroke:rgb(26.666667%,26.666667%,26.666667%);stroke-opacity:1;stroke-miterlimit:10;\" d=\"M 206.054688 179.769531 L 216.382812 177.808594 \"/>\n",
       "<path style=\" stroke:none;fill-rule:nonzero;fill:rgb(26.666667%,26.666667%,26.666667%);fill-opacity:1;\" d=\"M 230.398438 175.152344 L 217.246094 182.363281 L 215.519531 173.253906 L 230.398438 175.152344 \"/>\n",
       "<path style=\"fill:none;stroke-width:1;stroke-linecap:butt;stroke-linejoin:miter;stroke:rgb(26.666667%,26.666667%,26.666667%);stroke-opacity:1;stroke-miterlimit:10;\" d=\"M 206.054688 179.769531 L 206.449219 163.085938 \"/>\n",
       "<path style=\" stroke:none;fill-rule:nonzero;fill:rgb(26.666667%,26.666667%,26.666667%);fill-opacity:1;\" d=\"M 206.785156 148.824219 L 211.082031 163.195312 L 201.816406 162.976562 L 206.785156 148.824219 \"/>\n",
       "<path style=\"fill:none;stroke-width:1;stroke-linecap:butt;stroke-linejoin:miter;stroke:rgb(26.666667%,26.666667%,26.666667%);stroke-opacity:1;stroke-miterlimit:10;\" d=\"M 206.054688 179.769531 L 161.4375 208.96875 \"/>\n",
       "<path style=\" stroke:none;fill-rule:nonzero;fill:rgb(26.666667%,26.666667%,26.666667%);fill-opacity:1;\" d=\"M 149.5 216.777344 L 158.898438 205.089844 L 163.976562 212.847656 L 149.5 216.777344 \"/>\n",
       "<path style=\"fill:none;stroke-width:1;stroke-linecap:butt;stroke-linejoin:miter;stroke:rgb(26.666667%,26.666667%,26.666667%);stroke-opacity:1;stroke-miterlimit:10;\" d=\"M 489.667969 249.472656 L 455.304688 251.726562 \"/>\n",
       "<path style=\" stroke:none;fill-rule:nonzero;fill:rgb(26.666667%,26.666667%,26.666667%);fill-opacity:1;\" d=\"M 441.070312 252.660156 L 455.003906 247.101562 L 455.609375 256.351562 L 441.070312 252.660156 \"/>\n",
       "<path style=\"fill:none;stroke-width:1;stroke-linecap:butt;stroke-linejoin:miter;stroke:rgb(26.666667%,26.666667%,26.666667%);stroke-opacity:1;stroke-miterlimit:10;\" d=\"M 489.667969 249.472656 L 464.636719 244.8125 \"/>\n",
       "<path style=\" stroke:none;fill-rule:nonzero;fill:rgb(26.666667%,26.666667%,26.666667%);fill-opacity:1;\" d=\"M 450.609375 242.203125 L 465.484375 240.257812 L 463.789062 249.371094 L 450.609375 242.203125 \"/>\n",
       "<path style=\"fill:none;stroke-width:1;stroke-linecap:butt;stroke-linejoin:miter;stroke:rgb(26.666667%,26.666667%,26.666667%);stroke-opacity:1;stroke-miterlimit:10;\" d=\"M 489.667969 249.472656 L 443.21875 227.542969 \"/>\n",
       "<path style=\" stroke:none;fill-rule:nonzero;fill:rgb(26.666667%,26.666667%,26.666667%);fill-opacity:1;\" d=\"M 430.316406 221.453125 L 445.195312 223.351562 L 441.238281 231.734375 L 430.316406 221.453125 \"/>\n",
       "<path style=\"fill:none;stroke-width:1;stroke-linecap:butt;stroke-linejoin:miter;stroke:rgb(26.666667%,26.666667%,26.666667%);stroke-opacity:1;stroke-miterlimit:10;\" d=\"M 241.523438 143.945312 L 206.214844 152.25 \"/>\n",
       "<path style=\" stroke:none;fill-rule:nonzero;fill:rgb(26.666667%,26.666667%,26.666667%);fill-opacity:1;\" d=\"M 192.328125 155.515625 L 205.152344 147.738281 L 207.277344 156.761719 L 192.328125 155.515625 \"/>\n",
       "<path style=\"fill:none;stroke-width:1;stroke-linecap:butt;stroke-linejoin:miter;stroke:rgb(26.666667%,26.666667%,26.666667%);stroke-opacity:1;stroke-miterlimit:10;\" d=\"M 241.523438 143.945312 L 242.574219 144.59375 \"/>\n",
       "<path style=\" stroke:none;fill-rule:nonzero;fill:rgb(26.666667%,26.666667%,26.666667%);fill-opacity:1;\" d=\"M 254.710938 152.09375 L 240.136719 148.539062 L 245.011719 140.652344 L 254.710938 152.09375 \"/>\n",
       "<path style=\"fill:none;stroke-width:1;stroke-linecap:butt;stroke-linejoin:miter;stroke:rgb(26.666667%,26.666667%,26.666667%);stroke-opacity:1;stroke-miterlimit:10;\" d=\"M 241.523438 143.945312 L 241.296875 149.042969 \"/>\n",
       "<path style=\" stroke:none;fill-rule:nonzero;fill:rgb(26.666667%,26.666667%,26.666667%);fill-opacity:1;\" d=\"M 240.667969 163.296875 L 236.667969 148.839844 L 245.929688 149.25 L 240.667969 163.296875 \"/>\n",
       "<path style=\"fill:none;stroke-width:1;stroke-linecap:butt;stroke-linejoin:miter;stroke:rgb(26.666667%,26.666667%,26.666667%);stroke-opacity:1;stroke-miterlimit:10;\" d=\"M 241.523438 143.945312 C 239.898438 159.050781 247.6875 177.6875 260.160156 175.289062 \"/>\n",
       "<path style=\" stroke:none;fill-rule:nonzero;fill:rgb(26.666667%,26.666667%,26.666667%);fill-opacity:1;\" d=\"M 274.167969 172.59375 L 261.035156 179.839844 L 259.285156 170.738281 L 274.167969 172.59375 \"/>\n",
       "<path style=\"fill:none;stroke-width:1;stroke-linecap:butt;stroke-linejoin:miter;stroke:rgb(26.666667%,26.666667%,26.666667%);stroke-opacity:1;stroke-miterlimit:10;\" d=\"M 241.523438 143.945312 L 231.023438 142.386719 \"/>\n",
       "<path style=\" stroke:none;fill-rule:nonzero;fill:rgb(26.666667%,26.666667%,26.666667%);fill-opacity:1;\" d=\"M 216.910156 140.292969 L 231.703125 137.800781 L 230.34375 146.972656 L 216.910156 140.292969 \"/>\n",
       "<path style=\"fill:none;stroke-width:1;stroke-linecap:butt;stroke-linejoin:miter;stroke:rgb(26.666667%,26.666667%,26.666667%);stroke-opacity:1;stroke-miterlimit:10;\" d=\"M 412.8125 167.519531 L 455.054688 184.925781 \"/>\n",
       "<path style=\" stroke:none;fill-rule:nonzero;fill:rgb(26.666667%,26.666667%,26.666667%);fill-opacity:1;\" d=\"M 468.246094 190.363281 L 453.289062 189.210938 L 456.820312 180.640625 L 468.246094 190.363281 \"/>\n",
       "<path style=\"fill:none;stroke-width:1;stroke-linecap:butt;stroke-linejoin:miter;stroke:rgb(26.666667%,26.666667%,26.666667%);stroke-opacity:1;stroke-miterlimit:10;\" d=\"M 412.8125 167.519531 L 442.1875 124.765625 \"/>\n",
       "<path style=\" stroke:none;fill-rule:nonzero;fill:rgb(26.666667%,26.666667%,26.666667%);fill-opacity:1;\" d=\"M 450.265625 113.003906 L 446.007812 127.386719 L 438.367188 122.140625 L 450.265625 113.003906 \"/>\n",
       "<path style=\"fill:none;stroke-width:1;stroke-linecap:butt;stroke-linejoin:miter;stroke:rgb(26.666667%,26.666667%,26.666667%);stroke-opacity:1;stroke-miterlimit:10;\" d=\"M 412.8125 167.519531 L 426.035156 229.582031 \"/>\n",
       "<path style=\" stroke:none;fill-rule:nonzero;fill:rgb(26.666667%,26.666667%,26.666667%);fill-opacity:1;\" d=\"M 429.007812 243.53125 L 421.503906 230.546875 L 430.570312 228.613281 L 429.007812 243.53125 \"/>\n",
       "<path style=\"fill:none;stroke-width:1;stroke-linecap:butt;stroke-linejoin:miter;stroke:rgb(26.666667%,26.666667%,26.666667%);stroke-opacity:1;stroke-miterlimit:10;\" d=\"M 412.8125 167.519531 L 392.3125 161.710938 \"/>\n",
       "<path style=\" stroke:none;fill-rule:nonzero;fill:rgb(26.666667%,26.666667%,26.666667%);fill-opacity:1;\" d=\"M 378.585938 157.824219 L 393.574219 157.25 L 391.046875 166.171875 L 378.585938 157.824219 \"/>\n",
       "<path style=\"fill:none;stroke-width:1;stroke-linecap:butt;stroke-linejoin:miter;stroke:rgb(26.666667%,26.666667%,26.666667%);stroke-opacity:1;stroke-miterlimit:10;\" d=\"M 412.8125 167.519531 L 428.652344 184.226562 \"/>\n",
       "<path style=\" stroke:none;fill-rule:nonzero;fill:rgb(26.666667%,26.666667%,26.666667%);fill-opacity:1;\" d=\"M 438.464844 194.582031 L 425.289062 187.417969 L 432.015625 181.039062 L 438.464844 194.582031 \"/>\n",
       "<path style=\"fill:none;stroke-width:1;stroke-linecap:butt;stroke-linejoin:miter;stroke:rgb(26.666667%,26.666667%,26.666667%);stroke-opacity:1;stroke-miterlimit:10;\" d=\"M 412.8125 167.519531 L 432.082031 217.71875 \"/>\n",
       "<path style=\" stroke:none;fill-rule:nonzero;fill:rgb(26.666667%,26.666667%,26.666667%);fill-opacity:1;\" d=\"M 437.195312 231.039062 L 427.753906 219.378906 L 436.410156 216.058594 L 437.195312 231.039062 \"/>\n",
       "<path style=\"fill:none;stroke-width:1;stroke-linecap:butt;stroke-linejoin:miter;stroke:rgb(26.666667%,26.666667%,26.666667%);stroke-opacity:1;stroke-miterlimit:10;\" d=\"M 412.8125 167.519531 C 414.429688 176.554688 420.566406 184.625 428.9375 182.542969 \"/>\n",
       "<path style=\" stroke:none;fill-rule:nonzero;fill:rgb(26.666667%,26.666667%,26.666667%);fill-opacity:1;\" d=\"M 442.78125 179.097656 L 430.054688 187.039062 L 427.816406 178.042969 L 442.78125 179.097656 \"/>\n",
       "<path style=\"fill:none;stroke-width:1;stroke-linecap:butt;stroke-linejoin:miter;stroke:rgb(26.666667%,26.666667%,26.666667%);stroke-opacity:1;stroke-miterlimit:10;\" d=\"M 412.8125 167.519531 L 442.445312 149.339844 \"/>\n",
       "<path style=\" stroke:none;fill-rule:nonzero;fill:rgb(26.666667%,26.666667%,26.666667%);fill-opacity:1;\" d=\"M 454.605469 141.882812 L 444.867188 153.292969 L 440.023438 145.390625 L 454.605469 141.882812 \"/>\n",
       "<path style=\"fill:none;stroke-width:1;stroke-linecap:butt;stroke-linejoin:miter;stroke:rgb(26.666667%,26.666667%,26.666667%);stroke-opacity:1;stroke-miterlimit:10;\" d=\"M 412.8125 167.519531 L 389.582031 178.203125 \"/>\n",
       "<path style=\" stroke:none;fill-rule:nonzero;fill:rgb(26.666667%,26.666667%,26.666667%);fill-opacity:1;\" d=\"M 376.625 184.167969 L 387.644531 173.992188 L 391.519531 182.414062 L 376.625 184.167969 \"/>\n",
       "<path style=\"fill:none;stroke-width:1;stroke-linecap:butt;stroke-linejoin:miter;stroke:rgb(26.666667%,26.666667%,26.666667%);stroke-opacity:1;stroke-miterlimit:10;\" d=\"M 412.8125 167.519531 L 405.390625 107.835938 \"/>\n",
       "<path style=\" stroke:none;fill-rule:nonzero;fill:rgb(26.666667%,26.666667%,26.666667%);fill-opacity:1;\" d=\"M 403.628906 93.679688 L 409.988281 107.265625 L 400.789062 108.410156 L 403.628906 93.679688 \"/>\n",
       "<path style=\"fill:none;stroke-width:1;stroke-linecap:butt;stroke-linejoin:miter;stroke:rgb(26.666667%,26.666667%,26.666667%);stroke-opacity:1;stroke-miterlimit:10;\" d=\"M 412.8125 167.519531 L 419.800781 131.726562 \"/>\n",
       "<path style=\" stroke:none;fill-rule:nonzero;fill:rgb(26.666667%,26.666667%,26.666667%);fill-opacity:1;\" d=\"M 422.535156 117.722656 L 424.351562 132.613281 L 415.253906 130.835938 L 422.535156 117.722656 \"/>\n",
       "<path style=\"fill:none;stroke-width:1;stroke-linecap:butt;stroke-linejoin:miter;stroke:rgb(26.666667%,26.666667%,26.666667%);stroke-opacity:1;stroke-miterlimit:10;\" d=\"M 412.8125 167.519531 L 392.789062 132.328125 \"/>\n",
       "<path style=\" stroke:none;fill-rule:nonzero;fill:rgb(26.666667%,26.666667%,26.666667%);fill-opacity:1;\" d=\"M 385.734375 119.929688 L 396.820312 130.035156 L 388.761719 134.621094 L 385.734375 119.929688 \"/>\n",
       "<path style=\"fill:none;stroke-width:1;stroke-linecap:butt;stroke-linejoin:miter;stroke:rgb(26.666667%,26.666667%,26.666667%);stroke-opacity:1;stroke-miterlimit:10;\" d=\"M 412.8125 167.519531 L 308.160156 170.117188 \"/>\n",
       "<path style=\" stroke:none;fill-rule:nonzero;fill:rgb(26.666667%,26.666667%,26.666667%);fill-opacity:1;\" d=\"M 293.898438 170.472656 L 308.046875 165.484375 L 308.277344 174.75 L 293.898438 170.472656 \"/>\n",
       "<path style=\"fill:none;stroke-width:1;stroke-linecap:butt;stroke-linejoin:miter;stroke:rgb(26.666667%,26.666667%,26.666667%);stroke-opacity:1;stroke-miterlimit:10;\" d=\"M 412.8125 167.519531 L 417.199219 193.265625 \"/>\n",
       "<path style=\" stroke:none;fill-rule:nonzero;fill:rgb(26.666667%,26.666667%,26.666667%);fill-opacity:1;\" d=\"M 419.59375 207.328125 L 412.628906 194.042969 L 421.769531 192.484375 L 419.59375 207.328125 \"/>\n",
       "<path style=\"fill:none;stroke-width:1;stroke-linecap:butt;stroke-linejoin:miter;stroke:rgb(26.666667%,26.666667%,26.666667%);stroke-opacity:1;stroke-miterlimit:10;\" d=\"M 412.8125 167.519531 L 445.867188 200 \"/>\n",
       "<path style=\" stroke:none;fill-rule:nonzero;fill:rgb(26.666667%,26.666667%,26.666667%);fill-opacity:1;\" d=\"M 456.042969 209.996094 L 442.621094 203.304688 L 449.117188 196.691406 L 456.042969 209.996094 \"/>\n",
       "<path style=\"fill:none;stroke-width:1;stroke-linecap:butt;stroke-linejoin:miter;stroke:rgb(26.666667%,26.666667%,26.666667%);stroke-opacity:1;stroke-miterlimit:10;\" d=\"M 263.78125 218.226562 C 249.109375 224.75 239.414062 250.554688 245.007812 251.875 \"/>\n",
       "<path style=\" stroke:none;fill-rule:nonzero;fill:rgb(26.666667%,26.666667%,26.666667%);fill-opacity:1;\" d=\"M 258.890625 255.148438 L 243.945312 256.386719 L 246.070312 247.363281 L 258.890625 255.148438 \"/>\n",
       "<path style=\"fill:none;stroke-width:1;stroke-linecap:butt;stroke-linejoin:miter;stroke:rgb(26.666667%,26.666667%,26.666667%);stroke-opacity:1;stroke-miterlimit:10;\" d=\"M 263.78125 218.226562 C 272.929688 210.585938 266.777344 195.558594 270.34375 190.382812 \"/>\n",
       "<path style=\" stroke:none;fill-rule:nonzero;fill:rgb(26.666667%,26.666667%,26.666667%);fill-opacity:1;\" d=\"M 278.441406 178.640625 L 274.160156 193.015625 L 266.53125 187.753906 L 278.441406 178.640625 \"/>\n",
       "<path style=\"fill:none;stroke-width:1;stroke-linecap:butt;stroke-linejoin:miter;stroke:rgb(26.666667%,26.666667%,26.666667%);stroke-opacity:1;stroke-miterlimit:10;\" d=\"M 81.679688 466.058594 L 90.207031 480.867188 \"/>\n",
       "<path style=\" stroke:none;fill-rule:nonzero;fill:rgb(26.666667%,26.666667%,26.666667%);fill-opacity:1;\" d=\"M 97.328125 493.230469 L 86.191406 483.179688 L 94.222656 478.554688 L 97.328125 493.230469 \"/>\n",
       "<path style=\"fill:none;stroke-width:1;stroke-linecap:butt;stroke-linejoin:miter;stroke:rgb(26.666667%,26.666667%,26.666667%);stroke-opacity:1;stroke-miterlimit:10;\" d=\"M 81.679688 466.058594 L 77.171875 464.480469 \"/>\n",
       "<path style=\" stroke:none;fill-rule:nonzero;fill:rgb(26.666667%,26.666667%,26.666667%);fill-opacity:1;\" d=\"M 63.710938 459.757812 L 78.707031 460.105469 L 75.636719 468.851562 L 63.710938 459.757812 \"/>\n",
       "<path style=\"fill:none;stroke-width:1;stroke-linecap:butt;stroke-linejoin:miter;stroke:rgb(26.666667%,26.666667%,26.666667%);stroke-opacity:1;stroke-miterlimit:10;\" d=\"M 463.175781 217.003906 L 447.160156 235.128906 \"/>\n",
       "<path style=\" stroke:none;fill-rule:nonzero;fill:rgb(26.666667%,26.666667%,26.666667%);fill-opacity:1;\" d=\"M 437.714844 245.820312 L 443.6875 232.058594 L 450.632812 238.199219 L 437.714844 245.820312 \"/>\n",
       "<path style=\"fill:none;stroke-width:1;stroke-linecap:butt;stroke-linejoin:miter;stroke:rgb(26.666667%,26.666667%,26.666667%);stroke-opacity:1;stroke-miterlimit:10;\" d=\"M 580 341.570312 L 544.769531 330.074219 \"/>\n",
       "<path style=\" stroke:none;fill-rule:nonzero;fill:rgb(26.666667%,26.666667%,26.666667%);fill-opacity:1;\" d=\"M 531.207031 325.648438 L 546.207031 325.667969 L 543.332031 334.480469 L 531.207031 325.648438 \"/>\n",
       "<path style=\"fill:none;stroke-width:1;stroke-linecap:butt;stroke-linejoin:miter;stroke:rgb(26.666667%,26.666667%,26.666667%);stroke-opacity:1;stroke-miterlimit:10;\" d=\"M 400.472656 526.105469 L 442.207031 525.878906 \"/>\n",
       "<path style=\" stroke:none;fill-rule:nonzero;fill:rgb(26.666667%,26.666667%,26.666667%);fill-opacity:1;\" d=\"M 456.472656 525.800781 L 442.234375 530.511719 L 442.183594 521.242188 L 456.472656 525.800781 \"/>\n",
       "<path style=\"fill:none;stroke-width:1;stroke-linecap:butt;stroke-linejoin:miter;stroke:rgb(26.666667%,26.666667%,26.666667%);stroke-opacity:1;stroke-miterlimit:10;\" d=\"M 400.472656 526.105469 L 408.804688 496.542969 \"/>\n",
       "<path style=\" stroke:none;fill-rule:nonzero;fill:rgb(26.666667%,26.666667%,26.666667%);fill-opacity:1;\" d=\"M 412.671875 482.8125 L 413.265625 497.800781 L 404.339844 495.289062 L 412.671875 482.8125 \"/>\n",
       "<path style=\"fill:none;stroke-width:1;stroke-linecap:butt;stroke-linejoin:miter;stroke:rgb(26.666667%,26.666667%,26.666667%);stroke-opacity:1;stroke-miterlimit:10;\" d=\"M 400.472656 526.105469 L 413.125 548.5 \"/>\n",
       "<path style=\" stroke:none;fill-rule:nonzero;fill:rgb(26.666667%,26.666667%,26.666667%);fill-opacity:1;\" d=\"M 420.140625 560.921875 L 409.089844 550.78125 L 417.160156 546.222656 L 420.140625 560.921875 \"/>\n",
       "<path style=\"fill:none;stroke-width:1;stroke-linecap:butt;stroke-linejoin:miter;stroke:rgb(26.666667%,26.666667%,26.666667%);stroke-opacity:1;stroke-miterlimit:10;\" d=\"M 400.472656 526.105469 L 369.890625 527.414062 \"/>\n",
       "<path style=\" stroke:none;fill-rule:nonzero;fill:rgb(26.666667%,26.666667%,26.666667%);fill-opacity:1;\" d=\"M 355.640625 528.027344 L 369.695312 522.785156 L 370.089844 532.046875 L 355.640625 528.027344 \"/>\n",
       "<path style=\"fill:none;stroke-width:1;stroke-linecap:butt;stroke-linejoin:miter;stroke:rgb(26.666667%,26.666667%,26.666667%);stroke-opacity:1;stroke-miterlimit:10;\" d=\"M 400.472656 526.105469 L 456.597656 499.285156 \"/>\n",
       "<path style=\" stroke:none;fill-rule:nonzero;fill:rgb(26.666667%,26.666667%,26.666667%);fill-opacity:1;\" d=\"M 469.46875 493.132812 L 458.597656 503.464844 L 454.601562 495.101562 L 469.46875 493.132812 \"/>\n",
       "<path style=\"fill:none;stroke-width:1;stroke-linecap:butt;stroke-linejoin:miter;stroke:rgb(26.666667%,26.666667%,26.666667%);stroke-opacity:1;stroke-miterlimit:10;\" d=\"M 400.472656 526.105469 L 375.117188 560.214844 \"/>\n",
       "<path style=\" stroke:none;fill-rule:nonzero;fill:rgb(26.666667%,26.666667%,26.666667%);fill-opacity:1;\" d=\"M 366.605469 571.667969 L 371.398438 557.453125 L 378.835938 562.980469 L 366.605469 571.667969 \"/>\n",
       "<path style=\"fill:none;stroke-width:1;stroke-linecap:butt;stroke-linejoin:miter;stroke:rgb(26.666667%,26.666667%,26.666667%);stroke-opacity:1;stroke-miterlimit:10;\" d=\"M 400.472656 526.105469 L 393.394531 531.039062 \"/>\n",
       "<path style=\" stroke:none;fill-rule:nonzero;fill:rgb(26.666667%,26.666667%,26.666667%);fill-opacity:1;\" d=\"M 381.691406 539.199219 L 390.742188 527.238281 L 396.046875 534.839844 L 381.691406 539.199219 \"/>\n",
       "<path style=\"fill:none;stroke-width:1;stroke-linecap:butt;stroke-linejoin:miter;stroke:rgb(26.666667%,26.666667%,26.666667%);stroke-opacity:1;stroke-miterlimit:10;\" d=\"M 400.472656 526.105469 L 360.710938 545.320312 \"/>\n",
       "<path style=\" stroke:none;fill-rule:nonzero;fill:rgb(26.666667%,26.666667%,26.666667%);fill-opacity:1;\" d=\"M 347.867188 551.527344 L 358.695312 541.148438 L 362.726562 549.496094 L 347.867188 551.527344 \"/>\n",
       "<path style=\"fill:none;stroke-width:1;stroke-linecap:butt;stroke-linejoin:miter;stroke:rgb(26.666667%,26.666667%,26.666667%);stroke-opacity:1;stroke-miterlimit:10;\" d=\"M 400.472656 526.105469 L 428.082031 539 \"/>\n",
       "<path style=\" stroke:none;fill-rule:nonzero;fill:rgb(26.666667%,26.666667%,26.666667%);fill-opacity:1;\" d=\"M 441.007812 545.039062 L 426.117188 543.203125 L 430.042969 534.800781 L 441.007812 545.039062 \"/>\n",
       "<path style=\"fill:none;stroke-width:1;stroke-linecap:butt;stroke-linejoin:miter;stroke:rgb(26.666667%,26.666667%,26.666667%);stroke-opacity:1;stroke-miterlimit:10;\" d=\"M 400.472656 526.105469 L 380.226562 506.414062 \"/>\n",
       "<path style=\" stroke:none;fill-rule:nonzero;fill:rgb(26.666667%,26.666667%,26.666667%);fill-opacity:1;\" d=\"M 370 496.464844 L 383.457031 503.089844 L 376.996094 509.734375 L 370 496.464844 \"/>\n",
       "<path style=\"fill:none;stroke-width:1;stroke-linecap:butt;stroke-linejoin:miter;stroke:rgb(26.666667%,26.666667%,26.666667%);stroke-opacity:1;stroke-miterlimit:10;\" d=\"M 400.472656 526.105469 L 396.980469 555.898438 \"/>\n",
       "<path style=\" stroke:none;fill-rule:nonzero;fill:rgb(26.666667%,26.666667%,26.666667%);fill-opacity:1;\" d=\"M 395.324219 570.066406 L 392.378906 555.359375 L 401.585938 556.4375 L 395.324219 570.066406 \"/>\n",
       "<path style=\"fill:none;stroke-width:1;stroke-linecap:butt;stroke-linejoin:miter;stroke:rgb(26.666667%,26.666667%,26.666667%);stroke-opacity:1;stroke-miterlimit:10;\" d=\"M 400.472656 526.105469 L 424.792969 510.402344 \"/>\n",
       "<path style=\" stroke:none;fill-rule:nonzero;fill:rgb(26.666667%,26.666667%,26.666667%);fill-opacity:1;\" d=\"M 436.777344 502.667969 L 427.308594 514.296875 L 422.277344 506.507812 L 436.777344 502.667969 \"/>\n",
       "<path style=\"fill:none;stroke-width:1;stroke-linecap:butt;stroke-linejoin:miter;stroke:rgb(26.666667%,26.666667%,26.666667%);stroke-opacity:1;stroke-miterlimit:10;\" d=\"M 400.472656 526.105469 L 342.578125 503.203125 \"/>\n",
       "<path style=\" stroke:none;fill-rule:nonzero;fill:rgb(26.666667%,26.666667%,26.666667%);fill-opacity:1;\" d=\"M 329.3125 497.957031 L 344.285156 498.894531 L 340.875 507.515625 L 329.3125 497.957031 \"/>\n",
       "<path style=\"fill:none;stroke-width:1;stroke-linecap:butt;stroke-linejoin:miter;stroke:rgb(26.666667%,26.666667%,26.666667%);stroke-opacity:1;stroke-miterlimit:10;\" d=\"M 195.082031 53.5 L 209.441406 76.414062 \"/>\n",
       "<path style=\" stroke:none;fill-rule:nonzero;fill:rgb(26.666667%,26.666667%,26.666667%);fill-opacity:1;\" d=\"M 217.015625 88.503906 L 205.511719 78.875 L 213.367188 73.953125 L 217.015625 88.503906 \"/>\n",
       "<path style=\"fill-rule:nonzero;fill:rgb(73.72549%,74.117647%,13.333333%);fill-opacity:1;stroke-width:1;stroke-linecap:butt;stroke-linejoin:miter;stroke:rgb(0%,0%,0%);stroke-opacity:1;stroke-miterlimit:10;\" d=\"M 472.433594 266.449219 C 472.433594 271.972656 467.957031 276.449219 462.433594 276.449219 C 456.910156 276.449219 452.433594 271.972656 452.433594 266.449219 C 452.433594 260.929688 456.910156 256.449219 462.433594 256.449219 C 467.957031 256.449219 472.433594 260.929688 472.433594 266.449219 \"/>\n",
       "<path style=\"fill-rule:nonzero;fill:rgb(100%,49.803922%,5.490196%);fill-opacity:1;stroke-width:1;stroke-linecap:butt;stroke-linejoin:miter;stroke:rgb(0%,0%,0%);stroke-opacity:1;stroke-miterlimit:10;\" d=\"M 487.492188 194.171875 C 487.492188 199.695312 483.015625 204.171875 477.492188 204.171875 C 471.96875 204.171875 467.492188 199.695312 467.492188 194.171875 C 467.492188 188.648438 471.96875 184.171875 477.492188 184.171875 C 483.015625 184.171875 487.492188 188.648438 487.492188 194.171875 \"/>\n",
       "<path style=\"fill-rule:nonzero;fill:rgb(100%,49.803922%,5.490196%);fill-opacity:1;stroke-width:1;stroke-linecap:butt;stroke-linejoin:miter;stroke:rgb(0%,0%,0%);stroke-opacity:1;stroke-miterlimit:10;\" d=\"M 441.09375 253.3125 C 441.09375 258.835938 436.617188 263.3125 431.09375 263.3125 C 425.570312 263.3125 421.09375 258.835938 421.09375 253.3125 C 421.09375 247.789062 425.570312 243.3125 431.09375 243.3125 C 436.617188 243.3125 441.09375 247.789062 441.09375 253.3125 \"/>\n",
       "<path style=\"fill-rule:nonzero;fill:rgb(100%,49.803922%,5.490196%);fill-opacity:1;stroke-width:1;stroke-linecap:butt;stroke-linejoin:miter;stroke:rgb(0%,0%,0%);stroke-opacity:1;stroke-miterlimit:10;\" d=\"M 537.492188 289.714844 C 537.492188 295.238281 533.015625 299.714844 527.492188 299.714844 C 521.96875 299.714844 517.492188 295.238281 517.492188 289.714844 C 517.492188 284.195312 521.96875 279.714844 527.492188 279.714844 C 533.015625 279.714844 537.492188 284.195312 537.492188 289.714844 \"/>\n",
       "<path style=\"fill-rule:nonzero;fill:rgb(100%,49.803922%,5.490196%);fill-opacity:1;stroke-width:1;stroke-linecap:butt;stroke-linejoin:miter;stroke:rgb(0%,0%,0%);stroke-opacity:1;stroke-miterlimit:10;\" d=\"M 455.34375 201.839844 C 455.34375 207.363281 450.867188 211.839844 445.34375 211.839844 C 439.824219 211.839844 435.34375 207.363281 435.34375 201.839844 C 435.34375 196.316406 439.824219 191.839844 445.34375 191.839844 C 450.867188 191.839844 455.34375 196.316406 455.34375 201.839844 \"/>\n",
       "<path style=\"fill-rule:nonzero;fill:rgb(100%,49.803922%,5.490196%);fill-opacity:1;stroke-width:1;stroke-linecap:butt;stroke-linejoin:miter;stroke:rgb(0%,0%,0%);stroke-opacity:1;stroke-miterlimit:10;\" d=\"M 450.777344 240.375 C 450.777344 245.898438 446.300781 250.375 440.777344 250.375 C 435.257812 250.375 430.777344 245.898438 430.777344 240.375 C 430.777344 234.851562 435.257812 230.375 440.777344 230.375 C 446.300781 230.375 450.777344 234.851562 450.777344 240.375 \"/>\n",
       "<path style=\"fill-rule:nonzero;fill:rgb(54.901961%,33.72549%,29.411765%);fill-opacity:1;stroke-width:1;stroke-linecap:butt;stroke-linejoin:miter;stroke:rgb(0%,0%,0%);stroke-opacity:1;stroke-miterlimit:10;\" d=\"M 511.707031 230.125 C 511.707031 235.648438 507.230469 240.125 501.707031 240.125 C 496.183594 240.125 491.707031 235.648438 491.707031 230.125 C 491.707031 224.601562 496.183594 220.125 501.707031 220.125 C 507.230469 220.125 511.707031 224.601562 511.707031 230.125 \"/>\n",
       "<path style=\"fill-rule:nonzero;fill:rgb(73.72549%,74.117647%,13.333333%);fill-opacity:1;stroke-width:1;stroke-linecap:butt;stroke-linejoin:miter;stroke:rgb(0%,0%,0%);stroke-opacity:1;stroke-miterlimit:10;\" d=\"M 422.496094 294.007812 C 422.496094 299.53125 418.019531 304.007812 412.496094 304.007812 C 406.972656 304.007812 402.496094 299.53125 402.496094 294.007812 C 402.496094 288.484375 406.972656 284.007812 412.496094 284.007812 C 418.019531 284.007812 422.496094 288.484375 422.496094 294.007812 \"/>\n",
       "<path style=\"fill-rule:nonzero;fill:rgb(100%,49.803922%,5.490196%);fill-opacity:1;stroke-width:1;stroke-linecap:butt;stroke-linejoin:miter;stroke:rgb(0%,0%,0%);stroke-opacity:1;stroke-miterlimit:10;\" d=\"M 431.273438 217.183594 C 431.273438 222.707031 426.796875 227.183594 421.273438 227.183594 C 415.75 227.183594 411.273438 222.707031 411.273438 217.183594 C 411.273438 211.664062 415.75 207.183594 421.273438 207.183594 C 426.796875 207.183594 431.273438 211.664062 431.273438 217.183594 \"/>\n",
       "<path style=\"fill-rule:nonzero;fill:rgb(12.156863%,46.666667%,70.588235%);fill-opacity:1;stroke-width:1;stroke-linecap:butt;stroke-linejoin:miter;stroke:rgb(0%,0%,0%);stroke-opacity:1;stroke-miterlimit:10;\" d=\"M 500.199219 334.691406 C 500.199219 340.214844 495.722656 344.691406 490.199219 344.691406 C 484.679688 344.691406 480.199219 340.214844 480.199219 334.691406 C 480.199219 329.167969 484.679688 324.691406 490.199219 324.691406 C 495.722656 324.691406 500.199219 329.167969 500.199219 334.691406 \"/>\n",
       "<path style=\"fill-rule:nonzero;fill:rgb(54.901961%,33.72549%,29.411765%);fill-opacity:1;stroke-width:1;stroke-linecap:butt;stroke-linejoin:miter;stroke:rgb(0%,0%,0%);stroke-opacity:1;stroke-miterlimit:10;\" d=\"M 473.175781 217.003906 C 473.175781 222.527344 468.699219 227.003906 463.175781 227.003906 C 457.652344 227.003906 453.175781 222.527344 453.175781 217.003906 C 453.175781 211.484375 457.652344 207.003906 463.175781 207.003906 C 468.699219 207.003906 473.175781 211.484375 473.175781 217.003906 \"/>\n",
       "<path style=\"fill-rule:nonzero;fill:rgb(12.156863%,46.666667%,70.588235%);fill-opacity:1;stroke-width:1;stroke-linecap:butt;stroke-linejoin:miter;stroke:rgb(0%,0%,0%);stroke-opacity:1;stroke-miterlimit:10;\" d=\"M 466.035156 334.117188 C 466.035156 339.640625 461.558594 344.117188 456.035156 344.117188 C 450.511719 344.117188 446.035156 339.640625 446.035156 334.117188 C 446.035156 328.59375 450.511719 324.117188 456.035156 324.117188 C 461.558594 324.117188 466.035156 328.59375 466.035156 334.117188 \"/>\n",
       "<path style=\"fill-rule:nonzero;fill:rgb(49.803922%,49.803922%,49.803922%);fill-opacity:1;stroke-width:1;stroke-linecap:butt;stroke-linejoin:miter;stroke:rgb(0%,0%,0%);stroke-opacity:1;stroke-miterlimit:10;\" d=\"M 143.121094 169.984375 C 143.121094 175.503906 138.644531 179.984375 133.121094 179.984375 C 127.597656 179.984375 123.121094 175.503906 123.121094 169.984375 C 123.121094 164.460938 127.597656 159.984375 133.121094 159.984375 C 138.644531 159.984375 143.121094 164.460938 143.121094 169.984375 \"/>\n",
       "<path style=\"fill-rule:nonzero;fill:rgb(49.803922%,49.803922%,49.803922%);fill-opacity:1;stroke-width:1;stroke-linecap:butt;stroke-linejoin:miter;stroke:rgb(0%,0%,0%);stroke-opacity:1;stroke-miterlimit:10;\" d=\"M 192.59375 157.808594 C 192.59375 163.328125 188.117188 167.808594 182.59375 167.808594 C 177.070312 167.808594 172.59375 163.328125 172.59375 157.808594 C 172.59375 152.285156 177.070312 147.808594 182.59375 147.808594 C 188.117188 147.808594 192.59375 152.285156 192.59375 157.808594 \"/>\n",
       "<path style=\"fill-rule:nonzero;fill:rgb(49.803922%,49.803922%,49.803922%);fill-opacity:1;stroke-width:1;stroke-linecap:butt;stroke-linejoin:miter;stroke:rgb(0%,0%,0%);stroke-opacity:1;stroke-miterlimit:10;\" d=\"M 116.300781 170.800781 C 116.300781 176.324219 111.824219 180.800781 106.300781 180.800781 C 100.777344 180.800781 96.300781 176.324219 96.300781 170.800781 C 96.300781 165.277344 100.777344 160.800781 106.300781 160.800781 C 111.824219 160.800781 116.300781 165.277344 116.300781 170.800781 \"/>\n",
       "<path style=\"fill-rule:nonzero;fill:rgb(100%,49.803922%,5.490196%);fill-opacity:1;stroke-width:1;stroke-linecap:butt;stroke-linejoin:miter;stroke:rgb(0%,0%,0%);stroke-opacity:1;stroke-miterlimit:10;\" d=\"M 498.558594 295.902344 C 498.558594 301.425781 494.078125 305.902344 488.558594 305.902344 C 483.035156 305.902344 478.558594 301.425781 478.558594 295.902344 C 478.558594 290.382812 483.035156 285.902344 488.558594 285.902344 C 494.078125 285.902344 498.558594 290.382812 498.558594 295.902344 \"/>\n",
       "<path style=\"fill-rule:nonzero;fill:rgb(12.156863%,46.666667%,70.588235%);fill-opacity:1;stroke-width:1;stroke-linecap:butt;stroke-linejoin:miter;stroke:rgb(0%,0%,0%);stroke-opacity:1;stroke-miterlimit:10;\" d=\"M 35.46875 244.972656 C 35.46875 250.496094 30.992188 254.972656 25.46875 254.972656 C 19.945312 254.972656 15.46875 250.496094 15.46875 244.972656 C 15.46875 239.449219 19.945312 234.972656 25.46875 234.972656 C 30.992188 234.972656 35.46875 239.449219 35.46875 244.972656 \"/>\n",
       "<path style=\"fill-rule:nonzero;fill:rgb(12.156863%,46.666667%,70.588235%);fill-opacity:1;stroke-width:1;stroke-linecap:butt;stroke-linejoin:miter;stroke:rgb(0%,0%,0%);stroke-opacity:1;stroke-miterlimit:10;\" d=\"M 34.875 274.953125 C 34.875 280.476562 30.398438 284.953125 24.875 284.953125 C 19.351562 284.953125 14.875 280.476562 14.875 274.953125 C 14.875 269.433594 19.351562 264.953125 24.875 264.953125 C 30.398438 264.953125 34.875 269.433594 34.875 274.953125 \"/>\n",
       "<path style=\"fill-rule:nonzero;fill:rgb(49.803922%,49.803922%,49.803922%);fill-opacity:1;stroke-width:1;stroke-linecap:butt;stroke-linejoin:miter;stroke:rgb(0%,0%,0%);stroke-opacity:1;stroke-miterlimit:10;\" d=\"M 166.125 133.757812 C 166.125 139.28125 161.648438 143.757812 156.125 143.757812 C 150.601562 143.757812 146.125 139.28125 146.125 133.757812 C 146.125 128.234375 150.601562 123.757812 156.125 123.757812 C 161.648438 123.757812 166.125 128.234375 166.125 133.757812 \"/>\n",
       "<path style=\"fill-rule:nonzero;fill:rgb(49.803922%,49.803922%,49.803922%);fill-opacity:1;stroke-width:1;stroke-linecap:butt;stroke-linejoin:miter;stroke:rgb(0%,0%,0%);stroke-opacity:1;stroke-miterlimit:10;\" d=\"M 169.078125 113.019531 C 169.078125 118.542969 164.597656 123.019531 159.078125 123.019531 C 153.554688 123.019531 149.078125 118.542969 149.078125 113.019531 C 149.078125 107.496094 153.554688 103.019531 159.078125 103.019531 C 164.597656 103.019531 169.078125 107.496094 169.078125 113.019531 \"/>\n",
       "<path style=\"fill-rule:nonzero;fill:rgb(49.803922%,49.803922%,49.803922%);fill-opacity:1;stroke-width:1;stroke-linecap:butt;stroke-linejoin:miter;stroke:rgb(0%,0%,0%);stroke-opacity:1;stroke-miterlimit:10;\" d=\"M 135.734375 124.339844 C 135.734375 129.863281 131.257812 134.339844 125.734375 134.339844 C 120.214844 134.339844 115.734375 129.863281 115.734375 124.339844 C 115.734375 118.816406 120.214844 114.339844 125.734375 114.339844 C 131.257812 114.339844 135.734375 118.816406 135.734375 124.339844 \"/>\n",
       "<path style=\"fill-rule:nonzero;fill:rgb(49.803922%,49.803922%,49.803922%);fill-opacity:1;stroke-width:1;stroke-linecap:butt;stroke-linejoin:miter;stroke:rgb(0%,0%,0%);stroke-opacity:1;stroke-miterlimit:10;\" d=\"M 217.019531 138.824219 C 217.019531 144.347656 212.542969 148.824219 207.019531 148.824219 C 201.496094 148.824219 197.019531 144.347656 197.019531 138.824219 C 197.019531 133.300781 201.496094 128.824219 207.019531 128.824219 C 212.542969 128.824219 217.019531 133.300781 217.019531 138.824219 \"/>\n",
       "<path style=\"fill-rule:nonzero;fill:rgb(73.72549%,74.117647%,13.333333%);fill-opacity:1;stroke-width:1;stroke-linecap:butt;stroke-linejoin:miter;stroke:rgb(0%,0%,0%);stroke-opacity:1;stroke-miterlimit:10;\" d=\"M 281.992188 389.765625 C 281.992188 395.289062 277.515625 399.765625 271.992188 399.765625 C 266.46875 399.765625 261.992188 395.289062 261.992188 389.765625 C 261.992188 384.242188 266.46875 379.765625 271.992188 379.765625 C 277.515625 379.765625 281.992188 384.242188 281.992188 389.765625 \"/>\n",
       "<path style=\"fill-rule:nonzero;fill:rgb(100%,49.803922%,5.490196%);fill-opacity:1;stroke-width:1;stroke-linecap:butt;stroke-linejoin:miter;stroke:rgb(0%,0%,0%);stroke-opacity:1;stroke-miterlimit:10;\" d=\"M 346.652344 338.835938 C 346.652344 344.359375 342.175781 348.835938 336.652344 348.835938 C 331.128906 348.835938 326.652344 344.359375 326.652344 338.835938 C 326.652344 333.316406 331.128906 328.835938 336.652344 328.835938 C 342.175781 328.835938 346.652344 333.316406 346.652344 338.835938 \"/>\n",
       "<path style=\"fill-rule:nonzero;fill:rgb(49.803922%,49.803922%,49.803922%);fill-opacity:1;stroke-width:1;stroke-linecap:butt;stroke-linejoin:miter;stroke:rgb(0%,0%,0%);stroke-opacity:1;stroke-miterlimit:10;\" d=\"M 231.320312 205.625 C 231.320312 211.144531 226.839844 215.625 221.320312 215.625 C 215.796875 215.625 211.320312 211.144531 211.320312 205.625 C 211.320312 200.101562 215.796875 195.625 221.320312 195.625 C 226.839844 195.625 231.320312 200.101562 231.320312 205.625 \"/>\n",
       "<path style=\"fill-rule:nonzero;fill:rgb(49.803922%,49.803922%,49.803922%);fill-opacity:1;stroke-width:1;stroke-linecap:butt;stroke-linejoin:miter;stroke:rgb(0%,0%,0%);stroke-opacity:1;stroke-miterlimit:10;\" d=\"M 279.109375 257.554688 C 279.109375 263.078125 274.632812 267.554688 269.109375 267.554688 C 263.585938 267.554688 259.109375 263.078125 259.109375 257.554688 C 259.109375 252.03125 263.585938 247.554688 269.109375 247.554688 C 274.632812 247.554688 279.109375 252.03125 279.109375 257.554688 \"/>\n",
       "<path style=\"fill-rule:nonzero;fill:rgb(49.803922%,49.803922%,49.803922%);fill-opacity:1;stroke-width:1;stroke-linecap:butt;stroke-linejoin:miter;stroke:rgb(0%,0%,0%);stroke-opacity:1;stroke-miterlimit:10;\" d=\"M 179.628906 209.367188 C 179.628906 214.890625 175.152344 219.367188 169.628906 219.367188 C 164.105469 219.367188 159.628906 214.890625 159.628906 209.367188 C 159.628906 203.84375 164.105469 199.367188 169.628906 199.367188 C 175.152344 199.367188 179.628906 203.84375 179.628906 209.367188 \"/>\n",
       "<path style=\"fill-rule:nonzero;fill:rgb(49.803922%,49.803922%,49.803922%);fill-opacity:1;stroke-width:1;stroke-linecap:butt;stroke-linejoin:miter;stroke:rgb(0%,0%,0%);stroke-opacity:1;stroke-miterlimit:10;\" d=\"M 293.902344 170.71875 C 293.902344 176.242188 289.425781 180.71875 283.902344 180.71875 C 278.378906 180.71875 273.902344 176.242188 273.902344 170.71875 C 273.902344 165.195312 278.378906 160.71875 283.902344 160.71875 C 289.425781 160.71875 293.902344 165.195312 293.902344 170.71875 \"/>\n",
       "<path style=\"fill-rule:nonzero;fill:rgb(49.803922%,49.803922%,49.803922%);fill-opacity:1;stroke-width:1;stroke-linecap:butt;stroke-linejoin:miter;stroke:rgb(0%,0%,0%);stroke-opacity:1;stroke-miterlimit:10;\" d=\"M 273.78125 218.226562 C 273.78125 223.75 269.304688 228.226562 263.78125 228.226562 C 258.257812 228.226562 253.78125 223.75 253.78125 218.226562 C 253.78125 212.703125 258.257812 208.226562 263.78125 208.226562 C 269.304688 208.226562 273.78125 212.703125 273.78125 218.226562 \"/>\n",
       "<path style=\"fill-rule:nonzero;fill:rgb(17.254902%,62.745098%,17.254902%);fill-opacity:1;stroke-width:1;stroke-linecap:butt;stroke-linejoin:miter;stroke:rgb(0%,0%,0%);stroke-opacity:1;stroke-miterlimit:10;\" d=\"M 278.386719 526.292969 C 278.386719 531.816406 273.910156 536.292969 268.386719 536.292969 C 262.863281 536.292969 258.386719 531.816406 258.386719 526.292969 C 258.386719 520.769531 262.863281 516.292969 268.386719 516.292969 C 273.910156 516.292969 278.386719 520.769531 278.386719 526.292969 \"/>\n",
       "<path style=\"fill-rule:nonzero;fill:rgb(73.72549%,74.117647%,13.333333%);fill-opacity:1;stroke-width:1;stroke-linecap:butt;stroke-linejoin:miter;stroke:rgb(0%,0%,0%);stroke-opacity:1;stroke-miterlimit:10;\" d=\"M 253.234375 500.574219 C 253.234375 506.097656 248.757812 510.574219 243.234375 510.574219 C 237.710938 510.574219 233.234375 506.097656 233.234375 500.574219 C 233.234375 495.050781 237.710938 490.574219 243.234375 490.574219 C 248.757812 490.574219 253.234375 495.050781 253.234375 500.574219 \"/>\n",
       "<path style=\"fill-rule:nonzero;fill:rgb(9.019608%,74.509804%,81.176471%);fill-opacity:1;stroke-width:1;stroke-linecap:butt;stroke-linejoin:miter;stroke:rgb(0%,0%,0%);stroke-opacity:1;stroke-miterlimit:10;\" d=\"M 330.015625 494.277344 C 330.015625 499.800781 325.535156 504.277344 320.015625 504.277344 C 314.492188 504.277344 310.015625 499.800781 310.015625 494.277344 C 310.015625 488.753906 314.492188 484.277344 320.015625 484.277344 C 325.535156 484.277344 330.015625 488.753906 330.015625 494.277344 \"/>\n",
       "<path style=\"fill-rule:nonzero;fill:rgb(49.803922%,49.803922%,49.803922%);fill-opacity:1;stroke-width:1;stroke-linecap:butt;stroke-linejoin:miter;stroke:rgb(0%,0%,0%);stroke-opacity:1;stroke-miterlimit:10;\" d=\"M 68.804688 423.125 C 68.804688 428.648438 64.328125 433.125 58.804688 433.125 C 53.28125 433.125 48.804688 428.648438 48.804688 423.125 C 48.804688 417.605469 53.28125 413.125 58.804688 413.125 C 64.328125 413.125 68.804688 417.605469 68.804688 423.125 \"/>\n",
       "<path style=\"fill-rule:nonzero;fill:rgb(49.803922%,49.803922%,49.803922%);fill-opacity:1;stroke-width:1;stroke-linecap:butt;stroke-linejoin:miter;stroke:rgb(0%,0%,0%);stroke-opacity:1;stroke-miterlimit:10;\" d=\"M 64.273438 456.449219 C 64.273438 461.96875 59.796875 466.449219 54.273438 466.449219 C 48.75 466.449219 44.273438 461.96875 44.273438 456.449219 C 44.273438 450.925781 48.75 446.449219 54.273438 446.449219 C 59.796875 446.449219 64.273438 450.925781 64.273438 456.449219 \"/>\n",
       "<path style=\"fill-rule:nonzero;fill:rgb(49.803922%,49.803922%,49.803922%);fill-opacity:1;stroke-width:1;stroke-linecap:butt;stroke-linejoin:miter;stroke:rgb(0%,0%,0%);stroke-opacity:1;stroke-miterlimit:10;\" d=\"M 56.328125 388.203125 C 56.328125 393.722656 51.851562 398.203125 46.328125 398.203125 C 40.804688 398.203125 36.328125 393.722656 36.328125 388.203125 C 36.328125 382.679688 40.804688 378.203125 46.328125 378.203125 C 51.851562 378.203125 56.328125 382.679688 56.328125 388.203125 \"/>\n",
       "<path style=\"fill-rule:nonzero;fill:rgb(49.803922%,49.803922%,49.803922%);fill-opacity:1;stroke-width:1;stroke-linecap:butt;stroke-linejoin:miter;stroke:rgb(0%,0%,0%);stroke-opacity:1;stroke-miterlimit:10;\" d=\"M 91.679688 466.058594 C 91.679688 471.582031 87.203125 476.058594 81.679688 476.058594 C 76.15625 476.058594 71.679688 471.582031 71.679688 466.058594 C 71.679688 460.535156 76.15625 456.058594 81.679688 456.058594 C 87.203125 456.058594 91.679688 460.535156 91.679688 466.058594 \"/>\n",
       "<path style=\"fill-rule:nonzero;fill:rgb(49.803922%,49.803922%,49.803922%);fill-opacity:1;stroke-width:1;stroke-linecap:butt;stroke-linejoin:miter;stroke:rgb(0%,0%,0%);stroke-opacity:1;stroke-miterlimit:10;\" d=\"M 327.851562 289.652344 C 327.851562 295.175781 323.375 299.652344 317.851562 299.652344 C 312.332031 299.652344 307.851562 295.175781 307.851562 289.652344 C 307.851562 284.128906 312.332031 279.652344 317.851562 279.652344 C 323.375 279.652344 327.851562 284.128906 327.851562 289.652344 \"/>\n",
       "<path style=\"fill-rule:nonzero;fill:rgb(49.803922%,49.803922%,49.803922%);fill-opacity:1;stroke-width:1;stroke-linecap:butt;stroke-linejoin:miter;stroke:rgb(0%,0%,0%);stroke-opacity:1;stroke-miterlimit:10;\" d=\"M 232.324219 96.976562 C 232.324219 102.5 227.847656 106.976562 222.324219 106.976562 C 216.800781 106.976562 212.324219 102.5 212.324219 96.976562 C 212.324219 91.453125 216.800781 86.976562 222.324219 86.976562 C 227.847656 86.976562 232.324219 91.453125 232.324219 96.976562 \"/>\n",
       "<path style=\"fill-rule:nonzero;fill:rgb(58.039216%,40.392157%,74.117647%);fill-opacity:1;stroke-width:1;stroke-linecap:butt;stroke-linejoin:miter;stroke:rgb(0%,0%,0%);stroke-opacity:1;stroke-miterlimit:10;\" d=\"M 355.648438 528.453125 C 355.648438 533.976562 351.171875 538.453125 345.648438 538.453125 C 340.125 538.453125 335.648438 533.976562 335.648438 528.453125 C 335.648438 522.929688 340.125 518.453125 345.648438 518.453125 C 351.171875 518.453125 355.648438 522.929688 355.648438 528.453125 \"/>\n",
       "<path style=\"fill-rule:nonzero;fill:rgb(58.039216%,40.392157%,74.117647%);fill-opacity:1;stroke-width:1;stroke-linecap:butt;stroke-linejoin:miter;stroke:rgb(0%,0%,0%);stroke-opacity:1;stroke-miterlimit:10;\" d=\"M 383.488281 544.917969 C 383.488281 550.441406 379.011719 554.917969 373.488281 554.917969 C 367.964844 554.917969 363.488281 550.441406 363.488281 544.917969 C 363.488281 539.394531 367.964844 534.917969 373.488281 534.917969 C 379.011719 534.917969 383.488281 539.394531 383.488281 544.917969 \"/>\n",
       "<path style=\"fill-rule:nonzero;fill:rgb(100%,49.803922%,5.490196%);fill-opacity:1;stroke-width:1;stroke-linecap:butt;stroke-linejoin:miter;stroke:rgb(0%,0%,0%);stroke-opacity:1;stroke-miterlimit:10;\" d=\"M 348.863281 555.878906 C 348.863281 561.402344 344.386719 565.878906 338.863281 565.878906 C 333.339844 565.878906 328.863281 561.402344 328.863281 555.878906 C 328.863281 550.359375 333.339844 545.878906 338.863281 545.878906 C 344.386719 545.878906 348.863281 550.359375 348.863281 555.878906 \"/>\n",
       "<path style=\"fill-rule:nonzero;fill:rgb(49.803922%,49.803922%,49.803922%);fill-opacity:1;stroke-width:1;stroke-linecap:butt;stroke-linejoin:miter;stroke:rgb(0%,0%,0%);stroke-opacity:1;stroke-miterlimit:10;\" d=\"M 355.136719 203.578125 C 355.136719 209.101562 350.660156 213.578125 345.136719 213.578125 C 339.613281 213.578125 335.136719 209.101562 335.136719 203.578125 C 335.136719 198.054688 339.613281 193.578125 345.136719 193.578125 C 350.660156 193.578125 355.136719 198.054688 355.136719 203.578125 \"/>\n",
       "<path style=\"fill-rule:nonzero;fill:rgb(49.803922%,49.803922%,49.803922%);fill-opacity:1;stroke-width:1;stroke-linecap:butt;stroke-linejoin:miter;stroke:rgb(0%,0%,0%);stroke-opacity:1;stroke-miterlimit:10;\" d=\"M 273.21875 157.351562 C 273.21875 162.875 268.742188 167.351562 263.21875 167.351562 C 257.695312 167.351562 253.21875 162.875 253.21875 157.351562 C 253.21875 151.828125 257.695312 147.351562 263.21875 147.351562 C 268.742188 147.351562 273.21875 151.828125 273.21875 157.351562 \"/>\n",
       "<path style=\"fill-rule:nonzero;fill:rgb(54.901961%,33.72549%,29.411765%);fill-opacity:1;stroke-width:1;stroke-linecap:butt;stroke-linejoin:miter;stroke:rgb(0%,0%,0%);stroke-opacity:1;stroke-miterlimit:10;\" d=\"M 349.035156 230.390625 C 349.035156 235.914062 344.558594 240.390625 339.035156 240.390625 C 333.511719 240.390625 329.035156 235.914062 329.035156 230.390625 C 329.035156 224.867188 333.511719 220.390625 339.035156 220.390625 C 344.558594 220.390625 349.035156 224.867188 349.035156 230.390625 \"/>\n",
       "<path style=\"fill-rule:nonzero;fill:rgb(49.803922%,49.803922%,49.803922%);fill-opacity:1;stroke-width:1;stroke-linecap:butt;stroke-linejoin:miter;stroke:rgb(0%,0%,0%);stroke-opacity:1;stroke-miterlimit:10;\" d=\"M 216.054688 179.769531 C 216.054688 185.292969 211.578125 189.769531 206.054688 189.769531 C 200.535156 189.769531 196.054688 185.292969 196.054688 179.769531 C 196.054688 174.246094 200.535156 169.769531 206.054688 169.769531 C 211.578125 169.769531 216.054688 174.246094 216.054688 179.769531 \"/>\n",
       "<path style=\"fill-rule:nonzero;fill:rgb(58.039216%,40.392157%,74.117647%);fill-opacity:1;stroke-width:1;stroke-linecap:butt;stroke-linejoin:miter;stroke:rgb(0%,0%,0%);stroke-opacity:1;stroke-miterlimit:10;\" d=\"M 286.335938 476.546875 C 286.335938 482.066406 281.859375 486.546875 276.335938 486.546875 C 270.8125 486.546875 266.335938 482.066406 266.335938 476.546875 C 266.335938 471.023438 270.8125 466.546875 276.335938 466.546875 C 281.859375 466.546875 286.335938 471.023438 286.335938 476.546875 \"/>\n",
       "<path style=\"fill-rule:nonzero;fill:rgb(58.039216%,40.392157%,74.117647%);fill-opacity:1;stroke-width:1;stroke-linecap:butt;stroke-linejoin:miter;stroke:rgb(0%,0%,0%);stroke-opacity:1;stroke-miterlimit:10;\" d=\"M 351.601562 457.4375 C 351.601562 462.960938 347.125 467.4375 341.601562 467.4375 C 336.078125 467.4375 331.601562 462.960938 331.601562 457.4375 C 331.601562 451.917969 336.078125 447.4375 341.601562 447.4375 C 347.125 447.4375 351.601562 451.917969 351.601562 457.4375 \"/>\n",
       "<path style=\"fill-rule:nonzero;fill:rgb(9.019608%,74.509804%,81.176471%);fill-opacity:1;stroke-width:1;stroke-linecap:butt;stroke-linejoin:miter;stroke:rgb(0%,0%,0%);stroke-opacity:1;stroke-miterlimit:10;\" d=\"M 372.832031 489.492188 C 372.832031 495.015625 368.355469 499.492188 362.832031 499.492188 C 357.308594 499.492188 352.832031 495.015625 352.832031 489.492188 C 352.832031 483.972656 357.308594 479.492188 362.832031 479.492188 C 368.355469 479.492188 372.832031 483.972656 372.832031 489.492188 \"/>\n",
       "<path style=\"fill-rule:nonzero;fill:rgb(58.039216%,40.392157%,74.117647%);fill-opacity:1;stroke-width:1;stroke-linecap:butt;stroke-linejoin:miter;stroke:rgb(0%,0%,0%);stroke-opacity:1;stroke-miterlimit:10;\" d=\"M 384.75 463.484375 C 384.75 469.007812 380.273438 473.484375 374.75 473.484375 C 369.230469 473.484375 364.75 469.007812 364.75 463.484375 C 364.75 457.964844 369.230469 453.484375 374.75 453.484375 C 380.273438 453.484375 384.75 457.964844 384.75 463.484375 \"/>\n",
       "<path style=\"fill-rule:nonzero;fill:rgb(58.039216%,40.392157%,74.117647%);fill-opacity:1;stroke-width:1;stroke-linecap:butt;stroke-linejoin:miter;stroke:rgb(0%,0%,0%);stroke-opacity:1;stroke-miterlimit:10;\" d=\"M 425.386719 473.1875 C 425.386719 478.710938 420.910156 483.1875 415.386719 483.1875 C 409.863281 483.1875 405.386719 478.710938 405.386719 473.1875 C 405.386719 467.667969 409.863281 463.1875 415.386719 463.1875 C 420.910156 463.1875 425.386719 467.667969 425.386719 473.1875 \"/>\n",
       "<path style=\"fill-rule:nonzero;fill:rgb(83.921569%,15.294118%,15.686275%);fill-opacity:1;stroke-width:1;stroke-linecap:butt;stroke-linejoin:miter;stroke:rgb(0%,0%,0%);stroke-opacity:1;stroke-miterlimit:10;\" d=\"M 142.175781 430.585938 C 142.175781 436.109375 137.699219 440.585938 132.175781 440.585938 C 126.652344 440.585938 122.175781 436.109375 122.175781 430.585938 C 122.175781 425.0625 126.652344 420.585938 132.175781 420.585938 C 137.699219 420.585938 142.175781 425.0625 142.175781 430.585938 \"/>\n",
       "<path style=\"fill-rule:nonzero;fill:rgb(83.921569%,15.294118%,15.686275%);fill-opacity:1;stroke-width:1;stroke-linecap:butt;stroke-linejoin:miter;stroke:rgb(0%,0%,0%);stroke-opacity:1;stroke-miterlimit:10;\" d=\"M 179.84375 435.625 C 179.84375 441.144531 175.367188 445.625 169.84375 445.625 C 164.320312 445.625 159.84375 441.144531 159.84375 435.625 C 159.84375 430.101562 164.320312 425.625 169.84375 425.625 C 175.367188 425.625 179.84375 430.101562 179.84375 435.625 \"/>\n",
       "<path style=\"fill-rule:nonzero;fill:rgb(100%,49.803922%,5.490196%);fill-opacity:1;stroke-width:1;stroke-linecap:butt;stroke-linejoin:miter;stroke:rgb(0%,0%,0%);stroke-opacity:1;stroke-miterlimit:10;\" d=\"M 535.320312 185.160156 C 535.320312 190.679688 530.84375 195.160156 525.320312 195.160156 C 519.800781 195.160156 515.320312 190.679688 515.320312 185.160156 C 515.320312 179.636719 519.800781 175.160156 525.320312 175.160156 C 530.84375 175.160156 535.320312 179.636719 535.320312 185.160156 \"/>\n",
       "<path style=\"fill-rule:nonzero;fill:rgb(54.901961%,33.72549%,29.411765%);fill-opacity:1;stroke-width:1;stroke-linecap:butt;stroke-linejoin:miter;stroke:rgb(0%,0%,0%);stroke-opacity:1;stroke-miterlimit:10;\" d=\"M 462.433594 176.695312 C 462.433594 182.21875 457.957031 186.695312 452.433594 186.695312 C 446.914062 186.695312 442.433594 182.21875 442.433594 176.695312 C 442.433594 171.171875 446.914062 166.695312 452.433594 166.695312 C 457.957031 166.695312 462.433594 171.171875 462.433594 176.695312 \"/>\n",
       "<path style=\"fill-rule:nonzero;fill:rgb(49.803922%,49.803922%,49.803922%);fill-opacity:1;stroke-width:1;stroke-linecap:butt;stroke-linejoin:miter;stroke:rgb(0%,0%,0%);stroke-opacity:1;stroke-miterlimit:10;\" d=\"M 378.964844 155.097656 C 378.964844 160.621094 374.488281 165.097656 368.964844 165.097656 C 363.441406 165.097656 358.964844 160.621094 358.964844 155.097656 C 358.964844 149.574219 363.441406 145.097656 368.964844 145.097656 C 374.488281 145.097656 378.964844 149.574219 378.964844 155.097656 \"/>\n",
       "<path style=\"fill-rule:nonzero;fill:rgb(100%,49.803922%,5.490196%);fill-opacity:1;stroke-width:1;stroke-linecap:butt;stroke-linejoin:miter;stroke:rgb(0%,0%,0%);stroke-opacity:1;stroke-miterlimit:10;\" d=\"M 524.792969 137.480469 C 524.792969 143.003906 520.316406 147.480469 514.792969 147.480469 C 509.269531 147.480469 504.792969 143.003906 504.792969 137.480469 C 504.792969 131.957031 509.269531 127.480469 514.792969 127.480469 C 520.316406 127.480469 524.792969 131.957031 524.792969 137.480469 \"/>\n",
       "<path style=\"fill-rule:nonzero;fill:rgb(54.901961%,33.72549%,29.411765%);fill-opacity:1;stroke-width:1;stroke-linecap:butt;stroke-linejoin:miter;stroke:rgb(0%,0%,0%);stroke-opacity:1;stroke-miterlimit:10;\" d=\"M 473.128906 136.652344 C 473.128906 142.175781 468.652344 146.652344 463.128906 146.652344 C 457.605469 146.652344 453.128906 142.175781 453.128906 136.652344 C 453.128906 131.128906 457.605469 126.652344 463.128906 126.652344 C 468.652344 126.652344 473.128906 131.128906 473.128906 136.652344 \"/>\n",
       "<path style=\"fill-rule:nonzero;fill:rgb(54.901961%,33.72549%,29.411765%);fill-opacity:1;stroke-width:1;stroke-linecap:butt;stroke-linejoin:miter;stroke:rgb(0%,0%,0%);stroke-opacity:1;stroke-miterlimit:10;\" d=\"M 422.8125 167.519531 C 422.8125 173.039062 418.335938 177.519531 412.8125 177.519531 C 407.289062 177.519531 402.8125 173.039062 402.8125 167.519531 C 402.8125 161.996094 407.289062 157.519531 412.8125 157.519531 C 418.335938 157.519531 422.8125 161.996094 422.8125 167.519531 \"/>\n",
       "<path style=\"fill-rule:nonzero;fill:rgb(54.901961%,33.72549%,29.411765%);fill-opacity:1;stroke-width:1;stroke-linecap:butt;stroke-linejoin:miter;stroke:rgb(0%,0%,0%);stroke-opacity:1;stroke-miterlimit:10;\" d=\"M 377.539062 188.347656 C 377.539062 193.867188 373.0625 198.347656 367.539062 198.347656 C 362.015625 198.347656 357.539062 193.867188 357.539062 188.347656 C 357.539062 182.824219 362.015625 178.347656 367.539062 178.347656 C 373.0625 178.347656 377.539062 182.824219 377.539062 188.347656 \"/>\n",
       "<path style=\"fill-rule:nonzero;fill:rgb(49.803922%,49.803922%,49.803922%);fill-opacity:1;stroke-width:1;stroke-linecap:butt;stroke-linejoin:miter;stroke:rgb(0%,0%,0%);stroke-opacity:1;stroke-miterlimit:10;\" d=\"M 30 363.351562 C 30 368.875 25.523438 373.351562 20 373.351562 C 14.476562 373.351562 10 368.875 10 363.351562 C 10 357.828125 14.476562 353.351562 20 353.351562 C 25.523438 353.351562 30 357.828125 30 363.351562 \"/>\n",
       "<path style=\"fill-rule:nonzero;fill:rgb(49.803922%,49.803922%,49.803922%);fill-opacity:1;stroke-width:1;stroke-linecap:butt;stroke-linejoin:miter;stroke:rgb(0%,0%,0%);stroke-opacity:1;stroke-miterlimit:10;\" d=\"M 54.375 348.34375 C 54.375 353.867188 49.898438 358.34375 44.375 358.34375 C 38.851562 358.34375 34.375 353.867188 34.375 348.34375 C 34.375 342.820312 38.851562 338.34375 44.375 338.34375 C 49.898438 338.34375 54.375 342.820312 54.375 348.34375 \"/>\n",
       "<path style=\"fill-rule:nonzero;fill:rgb(49.803922%,49.803922%,49.803922%);fill-opacity:1;stroke-width:1;stroke-linecap:butt;stroke-linejoin:miter;stroke:rgb(0%,0%,0%);stroke-opacity:1;stroke-miterlimit:10;\" d=\"M 412.394531 83.757812 C 412.394531 89.277344 407.917969 93.757812 402.394531 93.757812 C 396.871094 93.757812 392.394531 89.277344 392.394531 83.757812 C 392.394531 78.234375 396.871094 73.757812 402.394531 73.757812 C 407.917969 73.757812 412.394531 78.234375 412.394531 83.757812 \"/>\n",
       "<path style=\"fill-rule:nonzero;fill:rgb(49.803922%,49.803922%,49.803922%);fill-opacity:1;stroke-width:1;stroke-linecap:butt;stroke-linejoin:miter;stroke:rgb(0%,0%,0%);stroke-opacity:1;stroke-miterlimit:10;\" d=\"M 402.847656 36.675781 C 402.847656 42.199219 398.371094 46.675781 392.847656 46.675781 C 387.324219 46.675781 382.847656 42.199219 382.847656 36.675781 C 382.847656 31.152344 387.324219 26.675781 392.847656 26.675781 C 398.371094 26.675781 402.847656 31.152344 402.847656 36.675781 \"/>\n",
       "<path style=\"fill-rule:nonzero;fill:rgb(73.72549%,74.117647%,13.333333%);fill-opacity:1;stroke-width:1;stroke-linecap:butt;stroke-linejoin:miter;stroke:rgb(0%,0%,0%);stroke-opacity:1;stroke-miterlimit:10;\" d=\"M 213.378906 535.847656 C 213.378906 541.371094 208.902344 545.847656 203.378906 545.847656 C 197.855469 545.847656 193.378906 541.371094 193.378906 535.847656 C 193.378906 530.324219 197.855469 525.847656 203.378906 525.847656 C 208.902344 525.847656 213.378906 530.324219 213.378906 535.847656 \"/>\n",
       "<path style=\"fill-rule:nonzero;fill:rgb(100%,49.803922%,5.490196%);fill-opacity:1;stroke-width:1;stroke-linecap:butt;stroke-linejoin:miter;stroke:rgb(0%,0%,0%);stroke-opacity:1;stroke-miterlimit:10;\" d=\"M 574.625 252.359375 C 574.625 257.878906 570.148438 262.359375 564.625 262.359375 C 559.101562 262.359375 554.625 257.878906 554.625 252.359375 C 554.625 246.835938 559.101562 242.359375 564.625 242.359375 C 570.148438 242.359375 574.625 246.835938 574.625 252.359375 \"/>\n",
       "<path style=\"fill-rule:nonzero;fill:rgb(100%,49.803922%,5.490196%);fill-opacity:1;stroke-width:1;stroke-linecap:butt;stroke-linejoin:miter;stroke:rgb(0%,0%,0%);stroke-opacity:1;stroke-miterlimit:10;\" d=\"M 499.667969 249.472656 C 499.667969 254.992188 495.191406 259.472656 489.667969 259.472656 C 484.144531 259.472656 479.667969 254.992188 479.667969 249.472656 C 479.667969 243.949219 484.144531 239.472656 489.667969 239.472656 C 495.191406 239.472656 499.667969 243.949219 499.667969 249.472656 \"/>\n",
       "<path style=\"fill-rule:nonzero;fill:rgb(49.803922%,49.803922%,49.803922%);fill-opacity:1;stroke-width:1;stroke-linecap:butt;stroke-linejoin:miter;stroke:rgb(0%,0%,0%);stroke-opacity:1;stroke-miterlimit:10;\" d=\"M 188.78125 330.542969 C 188.78125 336.066406 184.304688 340.542969 178.78125 340.542969 C 173.261719 340.542969 168.78125 336.066406 168.78125 330.542969 C 168.78125 325.023438 173.261719 320.542969 178.78125 320.542969 C 184.304688 320.542969 188.78125 325.023438 188.78125 330.542969 \"/>\n",
       "<path style=\"fill-rule:nonzero;fill:rgb(49.803922%,49.803922%,49.803922%);fill-opacity:1;stroke-width:1;stroke-linecap:butt;stroke-linejoin:miter;stroke:rgb(0%,0%,0%);stroke-opacity:1;stroke-miterlimit:10;\" d=\"M 137.398438 318.183594 C 137.398438 323.707031 132.921875 328.183594 127.398438 328.183594 C 121.875 328.183594 117.398438 323.707031 117.398438 318.183594 C 117.398438 312.660156 121.875 308.183594 127.398438 308.183594 C 132.921875 308.183594 137.398438 312.660156 137.398438 318.183594 \"/>\n",
       "<path style=\"fill-rule:nonzero;fill:rgb(49.803922%,49.803922%,49.803922%);fill-opacity:1;stroke-width:1;stroke-linecap:butt;stroke-linejoin:miter;stroke:rgb(0%,0%,0%);stroke-opacity:1;stroke-miterlimit:10;\" d=\"M 148.691406 353.8125 C 148.691406 359.335938 144.214844 363.8125 138.691406 363.8125 C 133.167969 363.8125 128.691406 359.335938 128.691406 353.8125 C 128.691406 348.289062 133.167969 343.8125 138.691406 343.8125 C 144.214844 343.8125 148.691406 348.289062 148.691406 353.8125 \"/>\n",
       "<path style=\"fill-rule:nonzero;fill:rgb(49.803922%,49.803922%,49.803922%);fill-opacity:1;stroke-width:1;stroke-linecap:butt;stroke-linejoin:miter;stroke:rgb(0%,0%,0%);stroke-opacity:1;stroke-miterlimit:10;\" d=\"M 243.253906 320.230469 C 243.253906 325.753906 238.777344 330.230469 233.253906 330.230469 C 227.734375 330.230469 223.253906 325.753906 223.253906 320.230469 C 223.253906 314.707031 227.734375 310.230469 233.253906 310.230469 C 238.777344 310.230469 243.253906 314.707031 243.253906 320.230469 \"/>\n",
       "<path style=\"fill-rule:nonzero;fill:rgb(83.921569%,15.294118%,15.686275%);fill-opacity:1;stroke-width:1;stroke-linecap:butt;stroke-linejoin:miter;stroke:rgb(0%,0%,0%);stroke-opacity:1;stroke-miterlimit:10;\" d=\"M 229.035156 444.847656 C 229.035156 450.371094 224.558594 454.847656 219.035156 454.847656 C 213.511719 454.847656 209.035156 450.371094 209.035156 444.847656 C 209.035156 439.324219 213.511719 434.847656 219.035156 434.847656 C 224.558594 434.847656 229.035156 439.324219 229.035156 444.847656 \"/>\n",
       "<path style=\"fill-rule:nonzero;fill:rgb(83.921569%,15.294118%,15.686275%);fill-opacity:1;stroke-width:1;stroke-linecap:butt;stroke-linejoin:miter;stroke:rgb(0%,0%,0%);stroke-opacity:1;stroke-miterlimit:10;\" d=\"M 191.429688 477.875 C 191.429688 483.394531 186.953125 487.875 181.429688 487.875 C 175.90625 487.875 171.429688 483.394531 171.429688 477.875 C 171.429688 472.351562 175.90625 467.875 181.429688 467.875 C 186.953125 467.875 191.429688 472.351562 191.429688 477.875 \"/>\n",
       "<path style=\"fill-rule:nonzero;fill:rgb(49.803922%,49.803922%,49.803922%);fill-opacity:1;stroke-width:1;stroke-linecap:butt;stroke-linejoin:miter;stroke:rgb(0%,0%,0%);stroke-opacity:1;stroke-miterlimit:10;\" d=\"M 285.191406 20 C 285.191406 25.523438 280.714844 30 275.191406 30 C 269.667969 30 265.191406 25.523438 265.191406 20 C 265.191406 14.476562 269.667969 10 275.191406 10 C 280.714844 10 285.191406 14.476562 285.191406 20 \"/>\n",
       "<path style=\"fill-rule:nonzero;fill:rgb(49.803922%,49.803922%,49.803922%);fill-opacity:1;stroke-width:1;stroke-linecap:butt;stroke-linejoin:miter;stroke:rgb(0%,0%,0%);stroke-opacity:1;stroke-miterlimit:10;\" d=\"M 257.269531 47.570312 C 257.269531 53.09375 252.792969 57.570312 247.269531 57.570312 C 241.746094 57.570312 237.269531 53.09375 237.269531 47.570312 C 237.269531 42.046875 241.746094 37.570312 247.269531 37.570312 C 252.792969 37.570312 257.269531 42.046875 257.269531 47.570312 \"/>\n",
       "<path style=\"fill-rule:nonzero;fill:rgb(58.039216%,40.392157%,74.117647%);fill-opacity:1;stroke-width:1;stroke-linecap:butt;stroke-linejoin:miter;stroke:rgb(0%,0%,0%);stroke-opacity:1;stroke-miterlimit:10;\" d=\"M 537.089844 467.921875 C 537.089844 473.445312 532.613281 477.921875 527.089844 477.921875 C 521.566406 477.921875 517.089844 473.445312 517.089844 467.921875 C 517.089844 462.398438 521.566406 457.921875 527.089844 457.921875 C 532.613281 457.921875 537.089844 462.398438 537.089844 467.921875 \"/>\n",
       "<path style=\"fill-rule:nonzero;fill:rgb(58.039216%,40.392157%,74.117647%);fill-opacity:1;stroke-width:1;stroke-linecap:butt;stroke-linejoin:miter;stroke:rgb(0%,0%,0%);stroke-opacity:1;stroke-miterlimit:10;\" d=\"M 488.492188 488.820312 C 488.492188 494.34375 484.015625 498.820312 478.492188 498.820312 C 472.96875 498.820312 468.492188 494.34375 468.492188 488.820312 C 468.492188 483.296875 472.96875 478.820312 478.492188 478.820312 C 484.015625 478.820312 488.492188 483.296875 488.492188 488.820312 \"/>\n",
       "<path style=\"fill-rule:nonzero;fill:rgb(12.156863%,46.666667%,70.588235%);fill-opacity:1;stroke-width:1;stroke-linecap:butt;stroke-linejoin:miter;stroke:rgb(0%,0%,0%);stroke-opacity:1;stroke-miterlimit:10;\" d=\"M 531.699219 322.546875 C 531.699219 328.070312 527.222656 332.546875 521.699219 332.546875 C 516.179688 332.546875 511.699219 328.070312 511.699219 322.546875 C 511.699219 317.023438 516.179688 312.546875 521.699219 312.546875 C 527.222656 312.546875 531.699219 317.023438 531.699219 322.546875 \"/>\n",
       "<path style=\"fill-rule:nonzero;fill:rgb(100%,49.803922%,5.490196%);fill-opacity:1;stroke-width:1;stroke-linecap:butt;stroke-linejoin:miter;stroke:rgb(0%,0%,0%);stroke-opacity:1;stroke-miterlimit:10;\" d=\"M 566.511719 371.605469 C 566.511719 377.128906 562.035156 381.605469 556.511719 381.605469 C 550.988281 381.605469 546.511719 377.128906 546.511719 371.605469 C 546.511719 366.082031 550.988281 361.605469 556.511719 361.605469 C 562.035156 361.605469 566.511719 366.082031 566.511719 371.605469 \"/>\n",
       "<path style=\"fill-rule:nonzero;fill:rgb(49.803922%,49.803922%,49.803922%);fill-opacity:1;stroke-width:1;stroke-linecap:butt;stroke-linejoin:miter;stroke:rgb(0%,0%,0%);stroke-opacity:1;stroke-miterlimit:10;\" d=\"M 250.222656 173.285156 C 250.222656 178.808594 245.746094 183.285156 240.222656 183.285156 C 234.699219 183.285156 230.222656 178.808594 230.222656 173.285156 C 230.222656 167.765625 234.699219 163.285156 240.222656 163.285156 C 245.746094 163.285156 250.222656 167.765625 250.222656 173.285156 \"/>\n",
       "<path style=\"fill-rule:nonzero;fill:rgb(49.803922%,49.803922%,49.803922%);fill-opacity:1;stroke-width:1;stroke-linecap:butt;stroke-linejoin:miter;stroke:rgb(0%,0%,0%);stroke-opacity:1;stroke-miterlimit:10;\" d=\"M 251.523438 143.945312 C 251.523438 149.46875 247.046875 153.945312 241.523438 153.945312 C 236 153.945312 231.523438 149.46875 231.523438 143.945312 C 231.523438 138.421875 236 133.945312 241.523438 133.945312 C 247.046875 133.945312 251.523438 138.421875 251.523438 143.945312 \"/>\n",
       "<path style=\"fill-rule:nonzero;fill:rgb(58.039216%,40.392157%,74.117647%);fill-opacity:1;stroke-width:1;stroke-linecap:butt;stroke-linejoin:miter;stroke:rgb(0%,0%,0%);stroke-opacity:1;stroke-miterlimit:10;\" d=\"M 316.667969 444.355469 C 316.667969 449.878906 312.191406 454.355469 306.667969 454.355469 C 301.144531 454.355469 296.667969 449.878906 296.667969 444.355469 C 296.667969 438.832031 301.144531 434.355469 306.667969 434.355469 C 312.191406 434.355469 316.667969 438.832031 316.667969 444.355469 \"/>\n",
       "<path style=\"fill-rule:nonzero;fill:rgb(54.901961%,33.72549%,29.411765%);fill-opacity:1;stroke-width:1;stroke-linecap:butt;stroke-linejoin:miter;stroke:rgb(0%,0%,0%);stroke-opacity:1;stroke-miterlimit:10;\" d=\"M 151.132812 222.253906 C 151.132812 227.777344 146.65625 232.253906 141.132812 232.253906 C 135.609375 232.253906 131.132812 227.777344 131.132812 222.253906 C 131.132812 216.730469 135.609375 212.253906 141.132812 212.253906 C 146.65625 212.253906 151.132812 216.730469 151.132812 222.253906 \"/>\n",
       "<path style=\"fill-rule:nonzero;fill:rgb(100%,49.803922%,5.490196%);fill-opacity:1;stroke-width:1;stroke-linecap:butt;stroke-linejoin:miter;stroke:rgb(0%,0%,0%);stroke-opacity:1;stroke-miterlimit:10;\" d=\"M 465.925781 104.761719 C 465.925781 110.285156 461.449219 114.761719 455.925781 114.761719 C 450.402344 114.761719 445.925781 110.285156 445.925781 104.761719 C 445.925781 99.242188 450.402344 94.761719 455.925781 94.761719 C 461.449219 94.761719 465.925781 99.242188 465.925781 104.761719 \"/>\n",
       "<path style=\"fill-rule:nonzero;fill:rgb(100%,49.803922%,5.490196%);fill-opacity:1;stroke-width:1;stroke-linecap:butt;stroke-linejoin:miter;stroke:rgb(0%,0%,0%);stroke-opacity:1;stroke-miterlimit:10;\" d=\"M 434.453125 107.910156 C 434.453125 113.433594 429.976562 117.910156 424.453125 117.910156 C 418.929688 117.910156 414.453125 113.433594 414.453125 107.910156 C 414.453125 102.386719 418.929688 97.910156 424.453125 97.910156 C 429.976562 97.910156 434.453125 102.386719 434.453125 107.910156 \"/>\n",
       "<path style=\"fill-rule:nonzero;fill:rgb(100%,49.803922%,5.490196%);fill-opacity:1;stroke-width:1;stroke-linecap:butt;stroke-linejoin:miter;stroke:rgb(0%,0%,0%);stroke-opacity:1;stroke-miterlimit:10;\" d=\"M 390.789062 111.238281 C 390.789062 116.761719 386.3125 121.238281 380.789062 121.238281 C 375.265625 121.238281 370.789062 116.761719 370.789062 111.238281 C 370.789062 105.714844 375.265625 101.238281 380.789062 101.238281 C 386.3125 101.238281 390.789062 105.714844 390.789062 111.238281 \"/>\n",
       "<path style=\"fill-rule:nonzero;fill:rgb(49.803922%,49.803922%,49.803922%);fill-opacity:1;stroke-width:1;stroke-linecap:butt;stroke-linejoin:miter;stroke:rgb(0%,0%,0%);stroke-opacity:1;stroke-miterlimit:10;\" d=\"M 112.316406 501.894531 C 112.316406 507.417969 107.839844 511.894531 102.316406 511.894531 C 96.792969 511.894531 92.316406 507.417969 92.316406 501.894531 C 92.316406 496.371094 96.792969 491.894531 102.316406 491.894531 C 107.839844 491.894531 112.316406 496.371094 112.316406 501.894531 \"/>\n",
       "<path style=\"fill-rule:nonzero;fill:rgb(12.156863%,46.666667%,70.588235%);fill-opacity:1;stroke-width:1;stroke-linecap:butt;stroke-linejoin:miter;stroke:rgb(0%,0%,0%);stroke-opacity:1;stroke-miterlimit:10;\" d=\"M 590 341.570312 C 590 347.09375 585.523438 351.570312 580 351.570312 C 574.476562 351.570312 570 347.09375 570 341.570312 C 570 336.046875 574.476562 331.570312 580 331.570312 C 585.523438 331.570312 590 336.046875 590 341.570312 \"/>\n",
       "<path style=\"fill-rule:nonzero;fill:rgb(58.039216%,40.392157%,74.117647%);fill-opacity:1;stroke-width:1;stroke-linecap:butt;stroke-linejoin:miter;stroke:rgb(0%,0%,0%);stroke-opacity:1;stroke-miterlimit:10;\" d=\"M 410.472656 526.105469 C 410.472656 531.628906 405.996094 536.105469 400.472656 536.105469 C 394.949219 536.105469 390.472656 531.628906 390.472656 526.105469 C 390.472656 520.582031 394.949219 516.105469 400.472656 516.105469 C 405.996094 516.105469 410.472656 520.582031 410.472656 526.105469 \"/>\n",
       "<path style=\"fill-rule:nonzero;fill:rgb(58.039216%,40.392157%,74.117647%);fill-opacity:1;stroke-width:1;stroke-linecap:butt;stroke-linejoin:miter;stroke:rgb(0%,0%,0%);stroke-opacity:1;stroke-miterlimit:10;\" d=\"M 476.472656 525.746094 C 476.472656 531.269531 471.996094 535.746094 466.472656 535.746094 C 460.949219 535.746094 456.472656 531.269531 456.472656 525.746094 C 456.472656 520.222656 460.949219 515.746094 466.472656 515.746094 C 471.996094 515.746094 476.472656 520.222656 476.472656 525.746094 \"/>\n",
       "<path style=\"fill-rule:nonzero;fill:rgb(58.039216%,40.392157%,74.117647%);fill-opacity:1;stroke-width:1;stroke-linecap:butt;stroke-linejoin:miter;stroke:rgb(0%,0%,0%);stroke-opacity:1;stroke-miterlimit:10;\" d=\"M 435.0625 569.628906 C 435.0625 575.152344 430.582031 579.628906 425.0625 579.628906 C 419.539062 579.628906 415.0625 575.152344 415.0625 569.628906 C 415.0625 564.105469 419.539062 559.628906 425.0625 559.628906 C 430.582031 559.628906 435.0625 564.105469 435.0625 569.628906 \"/>\n",
       "<path style=\"fill-rule:nonzero;fill:rgb(58.039216%,40.392157%,74.117647%);fill-opacity:1;stroke-width:1;stroke-linecap:butt;stroke-linejoin:miter;stroke:rgb(0%,0%,0%);stroke-opacity:1;stroke-miterlimit:10;\" d=\"M 370.640625 579.691406 C 370.640625 585.214844 366.164062 589.691406 360.640625 589.691406 C 355.121094 589.691406 350.640625 585.214844 350.640625 579.691406 C 350.640625 574.167969 355.121094 569.691406 360.640625 569.691406 C 366.164062 569.691406 370.640625 574.167969 370.640625 579.691406 \"/>\n",
       "<path style=\"fill-rule:nonzero;fill:rgb(58.039216%,40.392157%,74.117647%);fill-opacity:1;stroke-width:1;stroke-linecap:butt;stroke-linejoin:miter;stroke:rgb(0%,0%,0%);stroke-opacity:1;stroke-miterlimit:10;\" d=\"M 460.066406 549.273438 C 460.066406 554.792969 455.589844 559.273438 450.066406 559.273438 C 444.542969 559.273438 440.066406 554.792969 440.066406 549.273438 C 440.066406 543.75 444.542969 539.273438 450.066406 539.273438 C 455.589844 539.273438 460.066406 543.75 460.066406 549.273438 \"/>\n",
       "<path style=\"fill-rule:nonzero;fill:rgb(58.039216%,40.392157%,74.117647%);fill-opacity:1;stroke-width:1;stroke-linecap:butt;stroke-linejoin:miter;stroke:rgb(0%,0%,0%);stroke-opacity:1;stroke-miterlimit:10;\" d=\"M 404.160156 580 C 404.160156 585.523438 399.683594 590 394.160156 590 C 388.636719 590 384.160156 585.523438 384.160156 580 C 384.160156 574.476562 388.636719 570 394.160156 570 C 399.683594 570 404.160156 574.476562 404.160156 580 \"/>\n",
       "<path style=\"fill-rule:nonzero;fill:rgb(58.039216%,40.392157%,74.117647%);fill-opacity:1;stroke-width:1;stroke-linecap:butt;stroke-linejoin:miter;stroke:rgb(0%,0%,0%);stroke-opacity:1;stroke-miterlimit:10;\" d=\"M 455.179688 497.242188 C 455.179688 502.765625 450.703125 507.242188 445.179688 507.242188 C 439.65625 507.242188 435.179688 502.765625 435.179688 497.242188 C 435.179688 491.71875 439.65625 487.242188 445.179688 487.242188 C 450.703125 487.242188 455.179688 491.71875 455.179688 497.242188 \"/>\n",
       "<path style=\"fill-rule:nonzero;fill:rgb(49.803922%,49.803922%,49.803922%);fill-opacity:1;stroke-width:1;stroke-linecap:butt;stroke-linejoin:miter;stroke:rgb(0%,0%,0%);stroke-opacity:1;stroke-miterlimit:10;\" d=\"M 205.082031 53.5 C 205.082031 59.023438 200.605469 63.5 195.082031 63.5 C 189.558594 63.5 185.082031 59.023438 185.082031 53.5 C 185.082031 47.976562 189.558594 43.5 195.082031 43.5 C 200.605469 43.5 205.082031 47.976562 205.082031 53.5 \"/>\n",
       "<g style=\"fill:rgb(0%,0%,0%);fill-opacity:1;\">\n",
       "  <use xlink:href=\"#glyph0-1\" x=\"448.460938\" y=\"273.21875\"/>\n",
       "  <use xlink:href=\"#glyph0-2\" x=\"457.798828\" y=\"273.21875\"/>\n",
       "  <use xlink:href=\"#glyph0-3\" x=\"466.350586\" y=\"273.21875\"/>\n",
       "</g>\n",
       "<g style=\"fill:rgb(0%,0%,0%);fill-opacity:1;\">\n",
       "  <use xlink:href=\"#glyph0-1\" x=\"463.476562\" y=\"200.800781\"/>\n",
       "  <use xlink:href=\"#glyph0-4\" x=\"472.814453\" y=\"200.800781\"/>\n",
       "  <use xlink:href=\"#glyph0-5\" x=\"482.924805\" y=\"200.800781\"/>\n",
       "</g>\n",
       "<g style=\"fill:rgb(0%,0%,0%);fill-opacity:1;\">\n",
       "  <use xlink:href=\"#glyph0-6\" x=\"416.269531\" y=\"259.945312\"/>\n",
       "  <use xlink:href=\"#glyph0-7\" x=\"426.379883\" y=\"259.945312\"/>\n",
       "  <use xlink:href=\"#glyph0-4\" x=\"435.717773\" y=\"259.945312\"/>\n",
       "</g>\n",
       "<g style=\"fill:rgb(0%,0%,0%);fill-opacity:1;\">\n",
       "  <use xlink:href=\"#glyph0-2\" x=\"512.980469\" y=\"296.347656\"/>\n",
       "  <use xlink:href=\"#glyph0-8\" x=\"521.532227\" y=\"296.347656\"/>\n",
       "  <use xlink:href=\"#glyph0-1\" x=\"531.642578\" y=\"296.347656\"/>\n",
       "</g>\n",
       "<g style=\"fill:rgb(0%,0%,0%);fill-opacity:1;\">\n",
       "  <use xlink:href=\"#glyph0-3\" x=\"429.746094\" y=\"208.605469\"/>\n",
       "  <use xlink:href=\"#glyph0-8\" x=\"440.635742\" y=\"208.605469\"/>\n",
       "  <use xlink:href=\"#glyph0-9\" x=\"450.746094\" y=\"208.605469\"/>\n",
       "</g>\n",
       "<g style=\"fill:rgb(0%,0%,0%);fill-opacity:1;\">\n",
       "  <use xlink:href=\"#glyph0-10\" x=\"425.601562\" y=\"247.003906\"/>\n",
       "  <use xlink:href=\"#glyph0-4\" x=\"435.711914\" y=\"247.003906\"/>\n",
       "  <use xlink:href=\"#glyph0-11\" x=\"445.822266\" y=\"247.003906\"/>\n",
       "</g>\n",
       "<g style=\"fill:rgb(0%,0%,0%);fill-opacity:1;\">\n",
       "  <use xlink:href=\"#glyph0-12\" x=\"489.5\" y=\"236.753906\"/>\n",
       "  <use xlink:href=\"#glyph0-8\" x=\"493.389648\" y=\"236.753906\"/>\n",
       "  <use xlink:href=\"#glyph0-11\" x=\"503.5\" y=\"236.753906\"/>\n",
       "</g>\n",
       "<g style=\"fill:rgb(0%,0%,0%);fill-opacity:1;\">\n",
       "  <use xlink:href=\"#glyph0-13\" x=\"397.917969\" y=\"300.640625\"/>\n",
       "  <use xlink:href=\"#glyph0-1\" x=\"407.255859\" y=\"300.640625\"/>\n",
       "  <use xlink:href=\"#glyph0-14\" x=\"416.59375\" y=\"300.640625\"/>\n",
       "</g>\n",
       "<g style=\"fill:rgb(0%,0%,0%);fill-opacity:1;\">\n",
       "  <use xlink:href=\"#glyph0-15\" x=\"405.359375\" y=\"223.953125\"/>\n",
       "  <use xlink:href=\"#glyph0-16\" x=\"414.697266\" y=\"223.953125\"/>\n",
       "  <use xlink:href=\"#glyph0-7\" x=\"427.911133\" y=\"223.953125\"/>\n",
       "</g>\n",
       "<g style=\"fill:rgb(0%,0%,0%);fill-opacity:1;\">\n",
       "  <use xlink:href=\"#glyph0-5\" x=\"477.671875\" y=\"341.320312\"/>\n",
       "  <use xlink:href=\"#glyph0-17\" x=\"486.223633\" y=\"341.320312\"/>\n",
       "  <use xlink:href=\"#glyph0-14\" x=\"493.223633\" y=\"341.320312\"/>\n",
       "</g>\n",
       "<g style=\"fill:rgb(0%,0%,0%);fill-opacity:1;\">\n",
       "  <use xlink:href=\"#glyph0-5\" x=\"448.949219\" y=\"223.636719\"/>\n",
       "  <use xlink:href=\"#glyph0-4\" x=\"457.500977\" y=\"223.636719\"/>\n",
       "  <use xlink:href=\"#glyph0-8\" x=\"467.611328\" y=\"223.636719\"/>\n",
       "</g>\n",
       "<g style=\"fill:rgb(0%,0%,0%);fill-opacity:1;\">\n",
       "  <use xlink:href=\"#glyph0-4\" x=\"441.734375\" y=\"340.746094\"/>\n",
       "  <use xlink:href=\"#glyph0-18\" x=\"451.844727\" y=\"340.746094\"/>\n",
       "  <use xlink:href=\"#glyph0-19\" x=\"460.396484\" y=\"340.746094\"/>\n",
       "</g>\n",
       "<g style=\"fill:rgb(0%,0%,0%);fill-opacity:1;\">\n",
       "  <use xlink:href=\"#glyph0-1\" x=\"117.738281\" y=\"176.75\"/>\n",
       "  <use xlink:href=\"#glyph0-3\" x=\"127.076172\" y=\"176.75\"/>\n",
       "  <use xlink:href=\"#glyph0-20\" x=\"137.96582\" y=\"176.75\"/>\n",
       "</g>\n",
       "<g style=\"fill:rgb(0%,0%,0%);fill-opacity:1;\">\n",
       "  <use xlink:href=\"#glyph0-9\" x=\"167.074219\" y=\"164.574219\"/>\n",
       "  <use xlink:href=\"#glyph0-20\" x=\"177.18457\" y=\"164.574219\"/>\n",
       "  <use xlink:href=\"#glyph0-6\" x=\"188.074219\" y=\"164.574219\"/>\n",
       "</g>\n",
       "<g style=\"fill:rgb(0%,0%,0%);fill-opacity:1;\">\n",
       "  <use xlink:href=\"#glyph0-18\" x=\"91.644531\" y=\"177.433594\"/>\n",
       "  <use xlink:href=\"#glyph0-21\" x=\"100.196289\" y=\"177.433594\"/>\n",
       "  <use xlink:href=\"#glyph0-19\" x=\"111.858398\" y=\"177.433594\"/>\n",
       "</g>\n",
       "<g style=\"fill:rgb(0%,0%,0%);fill-opacity:1;\">\n",
       "  <use xlink:href=\"#glyph0-1\" x=\"475.503906\" y=\"302.535156\"/>\n",
       "  <use xlink:href=\"#glyph0-22\" x=\"484.841797\" y=\"302.535156\"/>\n",
       "  <use xlink:href=\"#glyph0-19\" x=\"492.62793\" y=\"302.535156\"/>\n",
       "</g>\n",
       "<g style=\"fill:rgb(0%,0%,0%);fill-opacity:1;\">\n",
       "  <use xlink:href=\"#glyph0-1\" x=\"12.109375\" y=\"251.601562\"/>\n",
       "  <use xlink:href=\"#glyph0-18\" x=\"21.447266\" y=\"251.601562\"/>\n",
       "  <use xlink:href=\"#glyph0-7\" x=\"29.999023\" y=\"251.601562\"/>\n",
       "</g>\n",
       "<g style=\"fill:rgb(0%,0%,0%);fill-opacity:1;\">\n",
       "  <use xlink:href=\"#glyph0-1\" x=\"9.71875\" y=\"281.585938\"/>\n",
       "  <use xlink:href=\"#glyph0-8\" x=\"19.056641\" y=\"281.585938\"/>\n",
       "  <use xlink:href=\"#glyph0-21\" x=\"29.166992\" y=\"281.585938\"/>\n",
       "</g>\n",
       "<g style=\"fill:rgb(0%,0%,0%);fill-opacity:1;\">\n",
       "  <use xlink:href=\"#glyph0-19\" x=\"144.511719\" y=\"140.386719\"/>\n",
       "  <use xlink:href=\"#glyph0-6\" x=\"153.849609\" y=\"140.386719\"/>\n",
       "  <use xlink:href=\"#glyph0-12\" x=\"163.959961\" y=\"140.386719\"/>\n",
       "</g>\n",
       "<g style=\"fill:rgb(0%,0%,0%);fill-opacity:1;\">\n",
       "  <use xlink:href=\"#glyph0-8\" x=\"142.214844\" y=\"119.652344\"/>\n",
       "  <use xlink:href=\"#glyph0-16\" x=\"152.325195\" y=\"119.652344\"/>\n",
       "  <use xlink:href=\"#glyph0-1\" x=\"165.539062\" y=\"119.652344\"/>\n",
       "</g>\n",
       "<g style=\"fill:rgb(0%,0%,0%);fill-opacity:1;\">\n",
       "  <use xlink:href=\"#glyph0-5\" x=\"112.488281\" y=\"130.972656\"/>\n",
       "  <use xlink:href=\"#glyph0-18\" x=\"121.040039\" y=\"130.972656\"/>\n",
       "  <use xlink:href=\"#glyph0-1\" x=\"129.591797\" y=\"130.972656\"/>\n",
       "</g>\n",
       "<g style=\"fill:rgb(0%,0%,0%);fill-opacity:1;\">\n",
       "  <use xlink:href=\"#glyph0-4\" x=\"191.355469\" y=\"145.59375\"/>\n",
       "  <use xlink:href=\"#glyph0-3\" x=\"201.46582\" y=\"145.59375\"/>\n",
       "  <use xlink:href=\"#glyph0-1\" x=\"212.355469\" y=\"145.59375\"/>\n",
       "</g>\n",
       "<g style=\"fill:rgb(0%,0%,0%);fill-opacity:1;\">\n",
       "  <use xlink:href=\"#glyph0-19\" x=\"256.648438\" y=\"396.53125\"/>\n",
       "  <use xlink:href=\"#glyph0-3\" x=\"265.986328\" y=\"396.53125\"/>\n",
       "  <use xlink:href=\"#glyph0-6\" x=\"276.875977\" y=\"396.53125\"/>\n",
       "</g>\n",
       "<g style=\"fill:rgb(0%,0%,0%);fill-opacity:1;\">\n",
       "  <use xlink:href=\"#glyph0-12\" x=\"325.160156\" y=\"345.46875\"/>\n",
       "  <use xlink:href=\"#glyph0-5\" x=\"329.049805\" y=\"345.46875\"/>\n",
       "  <use xlink:href=\"#glyph0-1\" x=\"337.601562\" y=\"345.46875\"/>\n",
       "</g>\n",
       "<g style=\"fill:rgb(0%,0%,0%);fill-opacity:1;\">\n",
       "  <use xlink:href=\"#glyph0-9\" x=\"207.207031\" y=\"212.390625\"/>\n",
       "  <use xlink:href=\"#glyph0-1\" x=\"217.317383\" y=\"212.390625\"/>\n",
       "  <use xlink:href=\"#glyph0-2\" x=\"226.655273\" y=\"212.390625\"/>\n",
       "</g>\n",
       "<g style=\"fill:rgb(0%,0%,0%);fill-opacity:1;\">\n",
       "  <use xlink:href=\"#glyph0-9\" x=\"253.128906\" y=\"264.324219\"/>\n",
       "  <use xlink:href=\"#glyph0-21\" x=\"263.239258\" y=\"264.324219\"/>\n",
       "  <use xlink:href=\"#glyph0-8\" x=\"274.901367\" y=\"264.324219\"/>\n",
       "</g>\n",
       "<g style=\"fill:rgb(0%,0%,0%);fill-opacity:1;\">\n",
       "  <use xlink:href=\"#glyph0-9\" x=\"153.894531\" y=\"216.136719\"/>\n",
       "  <use xlink:href=\"#glyph0-20\" x=\"164.004883\" y=\"216.136719\"/>\n",
       "  <use xlink:href=\"#glyph0-3\" x=\"174.894531\" y=\"216.136719\"/>\n",
       "</g>\n",
       "<g style=\"fill:rgb(0%,0%,0%);fill-opacity:1;\">\n",
       "  <use xlink:href=\"#glyph0-15\" x=\"269.332031\" y=\"177.488281\"/>\n",
       "  <use xlink:href=\"#glyph0-6\" x=\"278.669922\" y=\"177.488281\"/>\n",
       "  <use xlink:href=\"#glyph0-11\" x=\"288.780273\" y=\"177.488281\"/>\n",
       "</g>\n",
       "<g style=\"fill:rgb(0%,0%,0%);fill-opacity:1;\">\n",
       "  <use xlink:href=\"#glyph0-5\" x=\"249.621094\" y=\"224.992188\"/>\n",
       "  <use xlink:href=\"#glyph0-9\" x=\"258.172852\" y=\"224.992188\"/>\n",
       "  <use xlink:href=\"#glyph0-6\" x=\"268.283203\" y=\"224.992188\"/>\n",
       "</g>\n",
       "<g style=\"fill:rgb(0%,0%,0%);fill-opacity:1;\">\n",
       "  <use xlink:href=\"#glyph0-9\" x=\"253.449219\" y=\"533.0625\"/>\n",
       "  <use xlink:href=\"#glyph0-10\" x=\"263.55957\" y=\"533.0625\"/>\n",
       "  <use xlink:href=\"#glyph0-11\" x=\"273.669922\" y=\"533.0625\"/>\n",
       "</g>\n",
       "<g style=\"fill:rgb(0%,0%,0%);fill-opacity:1;\">\n",
       "  <use xlink:href=\"#glyph0-12\" x=\"230.835938\" y=\"507.203125\"/>\n",
       "  <use xlink:href=\"#glyph0-11\" x=\"234.725586\" y=\"507.203125\"/>\n",
       "  <use xlink:href=\"#glyph0-6\" x=\"244.835938\" y=\"507.203125\"/>\n",
       "</g>\n",
       "<g style=\"fill:rgb(0%,0%,0%);fill-opacity:1;\">\n",
       "  <use xlink:href=\"#glyph0-4\" x=\"305.125\" y=\"501.046875\"/>\n",
       "  <use xlink:href=\"#glyph0-15\" x=\"315.235352\" y=\"501.046875\"/>\n",
       "  <use xlink:href=\"#glyph0-1\" x=\"324.573242\" y=\"501.046875\"/>\n",
       "</g>\n",
       "<g style=\"fill:rgb(0%,0%,0%);fill-opacity:1;\">\n",
       "  <use xlink:href=\"#glyph0-9\" x=\"46.9375\" y=\"429.894531\"/>\n",
       "  <use xlink:href=\"#glyph0-12\" x=\"57.047852\" y=\"429.894531\"/>\n",
       "  <use xlink:href=\"#glyph0-23\" x=\"60.9375\" y=\"429.894531\"/>\n",
       "</g>\n",
       "<g style=\"fill:rgb(0%,0%,0%);fill-opacity:1;\">\n",
       "  <use xlink:href=\"#glyph0-3\" x=\"38.851562\" y=\"463.214844\"/>\n",
       "  <use xlink:href=\"#glyph0-10\" x=\"49.741211\" y=\"463.214844\"/>\n",
       "  <use xlink:href=\"#glyph0-1\" x=\"59.851562\" y=\"463.214844\"/>\n",
       "</g>\n",
       "<g style=\"fill:rgb(0%,0%,0%);fill-opacity:1;\">\n",
       "  <use xlink:href=\"#glyph0-22\" x=\"32.445312\" y=\"394.832031\"/>\n",
       "  <use xlink:href=\"#glyph0-19\" x=\"40.231445\" y=\"394.832031\"/>\n",
       "  <use xlink:href=\"#glyph0-8\" x=\"49.569336\" y=\"394.832031\"/>\n",
       "</g>\n",
       "<g style=\"fill:rgb(0%,0%,0%);fill-opacity:1;\">\n",
       "  <use xlink:href=\"#glyph0-5\" x=\"66.675781\" y=\"472.828125\"/>\n",
       "  <use xlink:href=\"#glyph0-3\" x=\"75.227539\" y=\"472.828125\"/>\n",
       "  <use xlink:href=\"#glyph0-20\" x=\"86.117188\" y=\"472.828125\"/>\n",
       "</g>\n",
       "<g style=\"fill:rgb(0%,0%,0%);fill-opacity:1;\">\n",
       "  <use xlink:href=\"#glyph0-11\" x=\"302.238281\" y=\"296.421875\"/>\n",
       "  <use xlink:href=\"#glyph0-3\" x=\"312.348633\" y=\"296.421875\"/>\n",
       "  <use xlink:href=\"#glyph0-1\" x=\"323.238281\" y=\"296.421875\"/>\n",
       "</g>\n",
       "<g style=\"fill:rgb(0%,0%,0%);fill-opacity:1;\">\n",
       "  <use xlink:href=\"#glyph0-18\" x=\"209.136719\" y=\"103.605469\"/>\n",
       "  <use xlink:href=\"#glyph0-1\" x=\"217.688477\" y=\"103.605469\"/>\n",
       "  <use xlink:href=\"#glyph0-2\" x=\"227.026367\" y=\"103.605469\"/>\n",
       "</g>\n",
       "<g style=\"fill:rgb(0%,0%,0%);fill-opacity:1;\">\n",
       "  <use xlink:href=\"#glyph0-9\" x=\"331.085938\" y=\"535.222656\"/>\n",
       "  <use xlink:href=\"#glyph0-20\" x=\"341.196289\" y=\"535.222656\"/>\n",
       "  <use xlink:href=\"#glyph0-22\" x=\"352.085938\" y=\"535.222656\"/>\n",
       "</g>\n",
       "<g style=\"fill:rgb(0%,0%,0%);fill-opacity:1;\">\n",
       "  <use xlink:href=\"#glyph0-7\" x=\"358.632812\" y=\"551.683594\"/>\n",
       "  <use xlink:href=\"#glyph0-9\" x=\"367.970703\" y=\"551.683594\"/>\n",
       "  <use xlink:href=\"#glyph0-4\" x=\"378.081055\" y=\"551.683594\"/>\n",
       "</g>\n",
       "<g style=\"fill:rgb(0%,0%,0%);fill-opacity:1;\">\n",
       "  <use xlink:href=\"#glyph0-7\" x=\"324.578125\" y=\"562.648438\"/>\n",
       "  <use xlink:href=\"#glyph0-15\" x=\"333.916016\" y=\"562.648438\"/>\n",
       "  <use xlink:href=\"#glyph0-13\" x=\"343.253906\" y=\"562.648438\"/>\n",
       "</g>\n",
       "<g style=\"fill:rgb(0%,0%,0%);fill-opacity:1;\">\n",
       "  <use xlink:href=\"#glyph0-7\" x=\"333.441406\" y=\"210.207031\"/>\n",
       "  <use xlink:href=\"#glyph0-8\" x=\"342.779297\" y=\"210.207031\"/>\n",
       "  <use xlink:href=\"#glyph0-12\" x=\"352.889648\" y=\"210.207031\"/>\n",
       "</g>\n",
       "<g style=\"fill:rgb(0%,0%,0%);fill-opacity:1;\">\n",
       "  <use xlink:href=\"#glyph0-7\" x=\"249.140625\" y=\"163.980469\"/>\n",
       "  <use xlink:href=\"#glyph0-5\" x=\"258.478516\" y=\"163.980469\"/>\n",
       "  <use xlink:href=\"#glyph0-10\" x=\"267.030273\" y=\"163.980469\"/>\n",
       "</g>\n",
       "<g style=\"fill:rgb(0%,0%,0%);fill-opacity:1;\">\n",
       "  <use xlink:href=\"#glyph0-12\" x=\"326.949219\" y=\"237.15625\"/>\n",
       "  <use xlink:href=\"#glyph0-15\" x=\"330.838867\" y=\"237.15625\"/>\n",
       "  <use xlink:href=\"#glyph0-8\" x=\"340.176758\" y=\"237.15625\"/>\n",
       "</g>\n",
       "<g style=\"fill:rgb(0%,0%,0%);fill-opacity:1;\">\n",
       "  <use xlink:href=\"#glyph0-15\" x=\"190.285156\" y=\"186.535156\"/>\n",
       "  <use xlink:href=\"#glyph0-20\" x=\"199.623047\" y=\"186.535156\"/>\n",
       "  <use xlink:href=\"#glyph0-21\" x=\"210.512695\" y=\"186.535156\"/>\n",
       "</g>\n",
       "<g style=\"fill:rgb(0%,0%,0%);fill-opacity:1;\">\n",
       "  <use xlink:href=\"#glyph0-3\" x=\"260.949219\" y=\"483.3125\"/>\n",
       "  <use xlink:href=\"#glyph0-5\" x=\"271.838867\" y=\"483.3125\"/>\n",
       "  <use xlink:href=\"#glyph0-21\" x=\"280.390625\" y=\"483.3125\"/>\n",
       "</g>\n",
       "<g style=\"fill:rgb(0%,0%,0%);fill-opacity:1;\">\n",
       "  <use xlink:href=\"#glyph0-10\" x=\"326.230469\" y=\"464.070312\"/>\n",
       "  <use xlink:href=\"#glyph0-11\" x=\"336.34082\" y=\"464.070312\"/>\n",
       "  <use xlink:href=\"#glyph0-6\" x=\"346.451172\" y=\"464.070312\"/>\n",
       "</g>\n",
       "<g style=\"fill:rgb(0%,0%,0%);fill-opacity:1;\">\n",
       "  <use xlink:href=\"#glyph0-21\" x=\"347.261719\" y=\"496.125\"/>\n",
       "  <use xlink:href=\"#glyph0-7\" x=\"358.923828\" y=\"496.125\"/>\n",
       "  <use xlink:href=\"#glyph0-24\" x=\"368.261719\" y=\"496.125\"/>\n",
       "</g>\n",
       "<g style=\"fill:rgb(0%,0%,0%);fill-opacity:1;\">\n",
       "  <use xlink:href=\"#glyph0-10\" x=\"363.496094\" y=\"470.117188\"/>\n",
       "  <use xlink:href=\"#glyph0-5\" x=\"373.606445\" y=\"470.117188\"/>\n",
       "  <use xlink:href=\"#glyph0-12\" x=\"382.158203\" y=\"470.117188\"/>\n",
       "</g>\n",
       "<g style=\"fill:rgb(0%,0%,0%);fill-opacity:1;\">\n",
       "  <use xlink:href=\"#glyph0-19\" x=\"400.5625\" y=\"479.820312\"/>\n",
       "  <use xlink:href=\"#glyph0-8\" x=\"409.900391\" y=\"479.820312\"/>\n",
       "  <use xlink:href=\"#glyph0-1\" x=\"420.010742\" y=\"479.820312\"/>\n",
       "</g>\n",
       "<g style=\"fill:rgb(0%,0%,0%);fill-opacity:1;\">\n",
       "  <use xlink:href=\"#glyph0-12\" x=\"119.972656\" y=\"437.21875\"/>\n",
       "  <use xlink:href=\"#glyph0-6\" x=\"123.862305\" y=\"437.21875\"/>\n",
       "  <use xlink:href=\"#glyph0-11\" x=\"133.972656\" y=\"437.21875\"/>\n",
       "</g>\n",
       "<g style=\"fill:rgb(0%,0%,0%);fill-opacity:1;\">\n",
       "  <use xlink:href=\"#glyph0-21\" x=\"154.484375\" y=\"442.390625\"/>\n",
       "  <use xlink:href=\"#glyph0-25\" x=\"166.146484\" y=\"442.390625\"/>\n",
       "  <use xlink:href=\"#glyph0-15\" x=\"175.484375\" y=\"442.390625\"/>\n",
       "</g>\n",
       "<g style=\"fill:rgb(0%,0%,0%);fill-opacity:1;\">\n",
       "  <use xlink:href=\"#glyph0-3\" x=\"510.085938\" y=\"191.925781\"/>\n",
       "  <use xlink:href=\"#glyph0-19\" x=\"520.975586\" y=\"191.925781\"/>\n",
       "  <use xlink:href=\"#glyph0-8\" x=\"530.313477\" y=\"191.925781\"/>\n",
       "</g>\n",
       "<g style=\"fill:rgb(0%,0%,0%);fill-opacity:1;\">\n",
       "  <use xlink:href=\"#glyph0-12\" x=\"439.582031\" y=\"183.464844\"/>\n",
       "  <use xlink:href=\"#glyph0-8\" x=\"443.47168\" y=\"183.464844\"/>\n",
       "  <use xlink:href=\"#glyph0-26\" x=\"453.582031\" y=\"183.464844\"/>\n",
       "</g>\n",
       "<g style=\"fill:rgb(0%,0%,0%);fill-opacity:1;\">\n",
       "  <use xlink:href=\"#glyph0-7\" x=\"353.636719\" y=\"161.867188\"/>\n",
       "  <use xlink:href=\"#glyph0-3\" x=\"362.974609\" y=\"161.867188\"/>\n",
       "  <use xlink:href=\"#glyph0-25\" x=\"373.864258\" y=\"161.867188\"/>\n",
       "</g>\n",
       "<g style=\"fill:rgb(0%,0%,0%);fill-opacity:1;\">\n",
       "  <use xlink:href=\"#glyph0-2\" x=\"503.453125\" y=\"144.113281\"/>\n",
       "  <use xlink:href=\"#glyph0-12\" x=\"512.004883\" y=\"144.113281\"/>\n",
       "  <use xlink:href=\"#glyph0-11\" x=\"515.894531\" y=\"144.113281\"/>\n",
       "</g>\n",
       "<g style=\"fill:rgb(0%,0%,0%);fill-opacity:1;\">\n",
       "  <use xlink:href=\"#glyph0-17\" x=\"449.28125\" y=\"143.421875\"/>\n",
       "  <use xlink:href=\"#glyph0-20\" x=\"456.28125\" y=\"143.421875\"/>\n",
       "  <use xlink:href=\"#glyph0-8\" x=\"467.170898\" y=\"143.421875\"/>\n",
       "</g>\n",
       "<g style=\"fill:rgb(0%,0%,0%);fill-opacity:1;\">\n",
       "  <use xlink:href=\"#glyph0-15\" x=\"398.359375\" y=\"174.285156\"/>\n",
       "  <use xlink:href=\"#glyph0-25\" x=\"407.697266\" y=\"174.285156\"/>\n",
       "  <use xlink:href=\"#glyph0-8\" x=\"417.035156\" y=\"174.285156\"/>\n",
       "</g>\n",
       "<g style=\"fill:rgb(0%,0%,0%);fill-opacity:1;\">\n",
       "  <use xlink:href=\"#glyph0-22\" x=\"353.925781\" y=\"194.976562\"/>\n",
       "  <use xlink:href=\"#glyph0-19\" x=\"361.711914\" y=\"194.976562\"/>\n",
       "  <use xlink:href=\"#glyph0-11\" x=\"371.049805\" y=\"194.976562\"/>\n",
       "</g>\n",
       "<g style=\"fill:rgb(0%,0%,0%);fill-opacity:1;\">\n",
       "  <use xlink:href=\"#glyph0-3\" x=\"7.753906\" y=\"370.121094\"/>\n",
       "  <use xlink:href=\"#glyph0-12\" x=\"18.643555\" y=\"370.121094\"/>\n",
       "  <use xlink:href=\"#glyph0-11\" x=\"22.533203\" y=\"370.121094\"/>\n",
       "</g>\n",
       "<g style=\"fill:rgb(0%,0%,0%);fill-opacity:1;\">\n",
       "  <use xlink:href=\"#glyph0-15\" x=\"31.175781\" y=\"355.113281\"/>\n",
       "  <use xlink:href=\"#glyph0-22\" x=\"40.513672\" y=\"355.113281\"/>\n",
       "  <use xlink:href=\"#glyph0-7\" x=\"48.299805\" y=\"355.113281\"/>\n",
       "</g>\n",
       "<g style=\"fill:rgb(0%,0%,0%);fill-opacity:1;\">\n",
       "  <use xlink:href=\"#glyph0-22\" x=\"388.683594\" y=\"90.386719\"/>\n",
       "  <use xlink:href=\"#glyph0-19\" x=\"396.469727\" y=\"90.386719\"/>\n",
       "  <use xlink:href=\"#glyph0-25\" x=\"405.807617\" y=\"90.386719\"/>\n",
       "</g>\n",
       "<g style=\"fill:rgb(0%,0%,0%);fill-opacity:1;\">\n",
       "  <use xlink:href=\"#glyph0-5\" x=\"378.886719\" y=\"43.304688\"/>\n",
       "  <use xlink:href=\"#glyph0-4\" x=\"387.438477\" y=\"43.304688\"/>\n",
       "  <use xlink:href=\"#glyph0-11\" x=\"397.548828\" y=\"43.304688\"/>\n",
       "</g>\n",
       "<g style=\"fill:rgb(0%,0%,0%);fill-opacity:1;\">\n",
       "  <use xlink:href=\"#glyph0-22\" x=\"189.699219\" y=\"542.480469\"/>\n",
       "  <use xlink:href=\"#glyph0-14\" x=\"197.485352\" y=\"542.480469\"/>\n",
       "  <use xlink:href=\"#glyph0-1\" x=\"206.823242\" y=\"542.480469\"/>\n",
       "</g>\n",
       "<g style=\"fill:rgb(0%,0%,0%);fill-opacity:1;\">\n",
       "  <use xlink:href=\"#glyph0-21\" x=\"548.894531\" y=\"258.988281\"/>\n",
       "  <use xlink:href=\"#glyph0-14\" x=\"560.556641\" y=\"258.988281\"/>\n",
       "  <use xlink:href=\"#glyph0-6\" x=\"569.894531\" y=\"258.988281\"/>\n",
       "</g>\n",
       "<g style=\"fill:rgb(0%,0%,0%);fill-opacity:1;\">\n",
       "  <use xlink:href=\"#glyph0-15\" x=\"475.226562\" y=\"256.238281\"/>\n",
       "  <use xlink:href=\"#glyph0-8\" x=\"484.564453\" y=\"256.238281\"/>\n",
       "  <use xlink:href=\"#glyph0-19\" x=\"494.674805\" y=\"256.238281\"/>\n",
       "</g>\n",
       "<g style=\"fill:rgb(0%,0%,0%);fill-opacity:1;\">\n",
       "  <use xlink:href=\"#glyph0-21\" x=\"167.167969\" y=\"337.175781\"/>\n",
       "  <use xlink:href=\"#glyph0-22\" x=\"178.830078\" y=\"337.175781\"/>\n",
       "  <use xlink:href=\"#glyph0-12\" x=\"186.616211\" y=\"337.175781\"/>\n",
       "</g>\n",
       "<g style=\"fill:rgb(0%,0%,0%);fill-opacity:1;\">\n",
       "  <use xlink:href=\"#glyph0-19\" x=\"113.355469\" y=\"324.8125\"/>\n",
       "  <use xlink:href=\"#glyph0-2\" x=\"122.693359\" y=\"324.8125\"/>\n",
       "  <use xlink:href=\"#glyph0-1\" x=\"131.245117\" y=\"324.8125\"/>\n",
       "</g>\n",
       "<g style=\"fill:rgb(0%,0%,0%);fill-opacity:1;\">\n",
       "  <use xlink:href=\"#glyph0-21\" x=\"123.101562\" y=\"360.445312\"/>\n",
       "  <use xlink:href=\"#glyph0-8\" x=\"134.763672\" y=\"360.445312\"/>\n",
       "  <use xlink:href=\"#glyph0-5\" x=\"144.874023\" y=\"360.445312\"/>\n",
       "</g>\n",
       "<g style=\"fill:rgb(0%,0%,0%);fill-opacity:1;\">\n",
       "  <use xlink:href=\"#glyph0-11\" x=\"218.214844\" y=\"326.863281\"/>\n",
       "  <use xlink:href=\"#glyph0-7\" x=\"228.325195\" y=\"326.863281\"/>\n",
       "  <use xlink:href=\"#glyph0-8\" x=\"237.663086\" y=\"326.863281\"/>\n",
       "</g>\n",
       "<g style=\"fill:rgb(0%,0%,0%);fill-opacity:1;\">\n",
       "  <use xlink:href=\"#glyph0-21\" x=\"202.074219\" y=\"451.476562\"/>\n",
       "  <use xlink:href=\"#glyph0-21\" x=\"213.736328\" y=\"451.476562\"/>\n",
       "  <use xlink:href=\"#glyph0-8\" x=\"225.398438\" y=\"451.476562\"/>\n",
       "</g>\n",
       "<g style=\"fill:rgb(0%,0%,0%);fill-opacity:1;\">\n",
       "  <use xlink:href=\"#glyph0-5\" x=\"167.402344\" y=\"484.503906\"/>\n",
       "  <use xlink:href=\"#glyph0-10\" x=\"175.954102\" y=\"484.503906\"/>\n",
       "  <use xlink:href=\"#glyph0-1\" x=\"186.064453\" y=\"484.503906\"/>\n",
       "</g>\n",
       "<g style=\"fill:rgb(0%,0%,0%);fill-opacity:1;\">\n",
       "  <use xlink:href=\"#glyph0-21\" x=\"259.285156\" y=\"26.765625\"/>\n",
       "  <use xlink:href=\"#glyph0-20\" x=\"270.947266\" y=\"26.765625\"/>\n",
       "  <use xlink:href=\"#glyph0-18\" x=\"281.836914\" y=\"26.765625\"/>\n",
       "</g>\n",
       "<g style=\"fill:rgb(0%,0%,0%);fill-opacity:1;\">\n",
       "  <use xlink:href=\"#glyph0-21\" x=\"232.941406\" y=\"54.203125\"/>\n",
       "  <use xlink:href=\"#glyph0-16\" x=\"244.603516\" y=\"54.203125\"/>\n",
       "  <use xlink:href=\"#glyph0-12\" x=\"257.817383\" y=\"54.203125\"/>\n",
       "</g>\n",
       "<g style=\"fill:rgb(0%,0%,0%);fill-opacity:1;\">\n",
       "  <use xlink:href=\"#glyph0-11\" x=\"514.796875\" y=\"474.691406\"/>\n",
       "  <use xlink:href=\"#glyph0-12\" x=\"524.907227\" y=\"474.691406\"/>\n",
       "  <use xlink:href=\"#glyph0-9\" x=\"528.796875\" y=\"474.691406\"/>\n",
       "</g>\n",
       "<g style=\"fill:rgb(0%,0%,0%);fill-opacity:1;\">\n",
       "  <use xlink:href=\"#glyph0-9\" x=\"466.699219\" y=\"495.589844\"/>\n",
       "  <use xlink:href=\"#glyph0-8\" x=\"476.80957\" y=\"495.589844\"/>\n",
       "  <use xlink:href=\"#glyph0-12\" x=\"486.919922\" y=\"495.589844\"/>\n",
       "</g>\n",
       "<g style=\"fill:rgb(0%,0%,0%);fill-opacity:1;\">\n",
       "  <use xlink:href=\"#glyph0-8\" x=\"506.632812\" y=\"329.3125\"/>\n",
       "  <use xlink:href=\"#glyph0-4\" x=\"516.743164\" y=\"329.3125\"/>\n",
       "  <use xlink:href=\"#glyph0-15\" x=\"526.853516\" y=\"329.3125\"/>\n",
       "</g>\n",
       "<g style=\"fill:rgb(0%,0%,0%);fill-opacity:1;\">\n",
       "  <use xlink:href=\"#glyph0-13\" x=\"542.042969\" y=\"378.375\"/>\n",
       "  <use xlink:href=\"#glyph0-20\" x=\"551.380859\" y=\"378.375\"/>\n",
       "  <use xlink:href=\"#glyph0-22\" x=\"562.270508\" y=\"378.375\"/>\n",
       "</g>\n",
       "<g style=\"fill:rgb(0%,0%,0%);fill-opacity:1;\">\n",
       "  <use xlink:href=\"#glyph0-14\" x=\"225.832031\" y=\"179.917969\"/>\n",
       "  <use xlink:href=\"#glyph0-7\" x=\"235.169922\" y=\"179.917969\"/>\n",
       "  <use xlink:href=\"#glyph0-11\" x=\"244.507812\" y=\"179.917969\"/>\n",
       "</g>\n",
       "<g style=\"fill:rgb(0%,0%,0%);fill-opacity:1;\">\n",
       "  <use xlink:href=\"#glyph0-15\" x=\"227.144531\" y=\"150.710938\"/>\n",
       "  <use xlink:href=\"#glyph0-15\" x=\"236.482422\" y=\"150.710938\"/>\n",
       "  <use xlink:href=\"#glyph0-6\" x=\"245.820312\" y=\"150.710938\"/>\n",
       "</g>\n",
       "<g style=\"fill:rgb(0%,0%,0%);fill-opacity:1;\">\n",
       "  <use xlink:href=\"#glyph0-15\" x=\"293.21875\" y=\"451.125\"/>\n",
       "  <use xlink:href=\"#glyph0-22\" x=\"302.556641\" y=\"451.125\"/>\n",
       "  <use xlink:href=\"#glyph0-23\" x=\"310.342773\" y=\"451.125\"/>\n",
       "</g>\n",
       "<g style=\"fill:rgb(0%,0%,0%);fill-opacity:1;\">\n",
       "  <use xlink:href=\"#glyph0-25\" x=\"126.324219\" y=\"228.886719\"/>\n",
       "  <use xlink:href=\"#glyph0-7\" x=\"135.662109\" y=\"228.886719\"/>\n",
       "  <use xlink:href=\"#glyph0-21\" x=\"145\" y=\"228.886719\"/>\n",
       "</g>\n",
       "<g style=\"fill:rgb(0%,0%,0%);fill-opacity:1;\">\n",
       "  <use xlink:href=\"#glyph0-19\" x=\"442.316406\" y=\"111.394531\"/>\n",
       "  <use xlink:href=\"#glyph0-7\" x=\"451.654297\" y=\"111.394531\"/>\n",
       "  <use xlink:href=\"#glyph0-22\" x=\"460.992188\" y=\"111.394531\"/>\n",
       "</g>\n",
       "<g style=\"fill:rgb(0%,0%,0%);fill-opacity:1;\">\n",
       "  <use xlink:href=\"#glyph0-11\" x=\"410.257812\" y=\"114.539062\"/>\n",
       "  <use xlink:href=\"#glyph0-22\" x=\"420.368164\" y=\"114.539062\"/>\n",
       "  <use xlink:href=\"#glyph0-6\" x=\"428.154297\" y=\"114.539062\"/>\n",
       "</g>\n",
       "<g style=\"fill:rgb(0%,0%,0%);fill-opacity:1;\">\n",
       "  <use xlink:href=\"#glyph0-11\" x=\"364.972656\" y=\"118.003906\"/>\n",
       "  <use xlink:href=\"#glyph0-20\" x=\"375.083008\" y=\"118.003906\"/>\n",
       "  <use xlink:href=\"#glyph0-8\" x=\"385.972656\" y=\"118.003906\"/>\n",
       "</g>\n",
       "<g style=\"fill:rgb(0%,0%,0%);fill-opacity:1;\">\n",
       "  <use xlink:href=\"#glyph0-19\" x=\"87.945312\" y=\"508.527344\"/>\n",
       "  <use xlink:href=\"#glyph0-7\" x=\"97.283203\" y=\"508.527344\"/>\n",
       "  <use xlink:href=\"#glyph0-11\" x=\"106.621094\" y=\"508.527344\"/>\n",
       "</g>\n",
       "<g style=\"fill:rgb(0%,0%,0%);fill-opacity:1;\">\n",
       "  <use xlink:href=\"#glyph0-4\" x=\"564.910156\" y=\"348.199219\"/>\n",
       "  <use xlink:href=\"#glyph0-14\" x=\"575.020508\" y=\"348.199219\"/>\n",
       "  <use xlink:href=\"#glyph0-8\" x=\"584.358398\" y=\"348.199219\"/>\n",
       "</g>\n",
       "<g style=\"fill:rgb(0%,0%,0%);fill-opacity:1;\">\n",
       "  <use xlink:href=\"#glyph0-23\" x=\"386.4375\" y=\"532.734375\"/>\n",
       "  <use xlink:href=\"#glyph0-7\" x=\"395.775391\" y=\"532.734375\"/>\n",
       "  <use xlink:href=\"#glyph0-11\" x=\"405.113281\" y=\"532.734375\"/>\n",
       "</g>\n",
       "<g style=\"fill:rgb(0%,0%,0%);fill-opacity:1;\">\n",
       "  <use xlink:href=\"#glyph0-1\" x=\"451.722656\" y=\"532.511719\"/>\n",
       "  <use xlink:href=\"#glyph0-8\" x=\"461.060547\" y=\"532.511719\"/>\n",
       "  <use xlink:href=\"#glyph0-3\" x=\"471.170898\" y=\"532.511719\"/>\n",
       "</g>\n",
       "<g style=\"fill:rgb(0%,0%,0%);fill-opacity:1;\">\n",
       "  <use xlink:href=\"#glyph0-9\" x=\"410.886719\" y=\"576.394531\"/>\n",
       "  <use xlink:href=\"#glyph0-10\" x=\"420.99707\" y=\"576.394531\"/>\n",
       "  <use xlink:href=\"#glyph0-22\" x=\"431.107422\" y=\"576.394531\"/>\n",
       "</g>\n",
       "<g style=\"fill:rgb(0%,0%,0%);fill-opacity:1;\">\n",
       "  <use xlink:href=\"#glyph0-6\" x=\"344.25\" y=\"586.460938\"/>\n",
       "  <use xlink:href=\"#glyph0-20\" x=\"354.360352\" y=\"586.460938\"/>\n",
       "  <use xlink:href=\"#glyph0-21\" x=\"365.25\" y=\"586.460938\"/>\n",
       "</g>\n",
       "<g style=\"fill:rgb(0%,0%,0%);fill-opacity:1;\">\n",
       "  <use xlink:href=\"#glyph0-3\" x=\"434.609375\" y=\"556.039062\"/>\n",
       "  <use xlink:href=\"#glyph0-4\" x=\"445.499023\" y=\"556.039062\"/>\n",
       "  <use xlink:href=\"#glyph0-25\" x=\"455.609375\" y=\"556.039062\"/>\n",
       "</g>\n",
       "<g style=\"fill:rgb(0%,0%,0%);fill-opacity:1;\">\n",
       "  <use xlink:href=\"#glyph0-13\" x=\"379.707031\" y=\"586.632812\"/>\n",
       "  <use xlink:href=\"#glyph0-1\" x=\"389.044922\" y=\"586.632812\"/>\n",
       "  <use xlink:href=\"#glyph0-11\" x=\"398.382812\" y=\"586.632812\"/>\n",
       "</g>\n",
       "<g style=\"fill:rgb(0%,0%,0%);fill-opacity:1;\">\n",
       "  <use xlink:href=\"#glyph0-13\" x=\"430.460938\" y=\"503.875\"/>\n",
       "  <use xlink:href=\"#glyph0-7\" x=\"439.798828\" y=\"503.875\"/>\n",
       "  <use xlink:href=\"#glyph0-8\" x=\"449.136719\" y=\"503.875\"/>\n",
       "</g>\n",
       "<g style=\"fill:rgb(0%,0%,0%);fill-opacity:1;\">\n",
       "  <use xlink:href=\"#glyph0-18\" x=\"179.726562\" y=\"60.128906\"/>\n",
       "  <use xlink:href=\"#glyph0-16\" x=\"188.27832\" y=\"60.128906\"/>\n",
       "  <use xlink:href=\"#glyph0-7\" x=\"201.492188\" y=\"60.128906\"/>\n",
       "</g>\n",
       "</g>\n",
       "</svg>\n"
      ],
      "text/plain": [
       "<igraph.drawing.cairo.plot.CairoPlot at 0x123d51450>"
      ]
     },
     "execution_count": 44,
     "metadata": {
      "image/svg+xml": {
       "isolated": true
      }
     },
     "output_type": "execute_result"
    }
   ],
   "source": [
    "\n",
    "# graph_df = df[df.contig.astype(bool) & (df.newarrival > 500)].sort_values(by='newarrival', ascending=False).drop_duplicates(subset=['iso_o', 'iso_d'])\n",
    "graph_df = df[(df.newarrival > 10000)].groupby(['iso_o','iso_d'], as_index=False).agg({'newarrival':'max','dist':'first','pop_o':'first'})\n",
    "\n",
    "graph = ig.Graph.TupleList(graph_df[['iso_o','iso_d','dist']].itertuples(index=False), directed=True, edge_attrs=['dist'])\n",
    "\n",
    "graph.vs['color'] = assign_colors(pd.Series(graph.vs()['name']).to_frame().merge(df, how='left', left_on=0, right_on='iso_o').drop_duplicates('iso_o')['Region_o'])\n",
    "graph.vs['label'] = graph.vs['name']\n",
    "\n",
    "vs_size = np.emath.logn(1.2, pd.Series(graph.vs()['name']).to_frame().merge(df, how='left', left_on=0, right_on='iso_o').drop_duplicates('iso_o')['pop_o'])\n",
    "\n",
    "layout = graph.layout(\"kk\")\n",
    "ig.plot(graph)"
   ]
  },
  {
   "attachments": {},
   "cell_type": "markdown",
   "metadata": {},
   "source": [
    "Plotting country coordinate data:\n",
    "\n",
    "Still have yet to do this."
   ]
  },
  {
   "cell_type": "code",
   "execution_count": 19,
   "metadata": {},
   "outputs": [],
   "source": [
    "country_coordinate_url = \"https://gist.githubusercontent.com/tadast/8827699/raw/f5cac3d42d16b78348610fc4ec301e9234f82821/countries_codes_and_coordinates.csv\"\n",
    "country_coordinate = pd.read_csv(country_coordinate_url).apply(lambda x: x.str.replace('\"',''))\n",
    "country_coordinate[['Latitude (average)', 'Longitude (average)']] = country_coordinate[['Latitude (average)', 'Longitude (average)']].apply(lambda x: x.astype(float))"
   ]
  },
  {
   "cell_type": "code",
   "execution_count": 83,
   "metadata": {},
   "outputs": [
    {
     "data": {
      "text/html": [
       "<div>\n",
       "<style scoped>\n",
       "    .dataframe tbody tr th:only-of-type {\n",
       "        vertical-align: middle;\n",
       "    }\n",
       "\n",
       "    .dataframe tbody tr th {\n",
       "        vertical-align: top;\n",
       "    }\n",
       "\n",
       "    .dataframe thead th {\n",
       "        text-align: right;\n",
       "    }\n",
       "</style>\n",
       "<table border=\"1\" class=\"dataframe\">\n",
       "  <thead>\n",
       "    <tr style=\"text-align: right;\">\n",
       "      <th></th>\n",
       "      <th>iso</th>\n",
       "      <th>newarrival</th>\n",
       "      <th>location</th>\n",
       "    </tr>\n",
       "  </thead>\n",
       "  <tbody>\n",
       "    <tr>\n",
       "      <th>0</th>\n",
       "      <td>ARG</td>\n",
       "      <td>71414.0</td>\n",
       "      <td>destination</td>\n",
       "    </tr>\n",
       "    <tr>\n",
       "      <th>1</th>\n",
       "      <td>BRA</td>\n",
       "      <td>92922.0</td>\n",
       "      <td>destination</td>\n",
       "    </tr>\n",
       "    <tr>\n",
       "      <th>2</th>\n",
       "      <td>CAN</td>\n",
       "      <td>1254.0</td>\n",
       "      <td>destination</td>\n",
       "    </tr>\n",
       "    <tr>\n",
       "      <th>3</th>\n",
       "      <td>CHL</td>\n",
       "      <td>286788.0</td>\n",
       "      <td>destination</td>\n",
       "    </tr>\n",
       "    <tr>\n",
       "      <th>4</th>\n",
       "      <td>COL</td>\n",
       "      <td>1105410.0</td>\n",
       "      <td>destination</td>\n",
       "    </tr>\n",
       "    <tr>\n",
       "      <th>5</th>\n",
       "      <td>CRI</td>\n",
       "      <td>2884.0</td>\n",
       "      <td>destination</td>\n",
       "    </tr>\n",
       "    <tr>\n",
       "      <th>6</th>\n",
       "      <td>ECU</td>\n",
       "      <td>226614.5</td>\n",
       "      <td>destination</td>\n",
       "    </tr>\n",
       "    <tr>\n",
       "      <th>7</th>\n",
       "      <td>ESP</td>\n",
       "      <td>20015.0</td>\n",
       "      <td>destination</td>\n",
       "    </tr>\n",
       "    <tr>\n",
       "      <th>8</th>\n",
       "      <td>GUY</td>\n",
       "      <td>21400.0</td>\n",
       "      <td>destination</td>\n",
       "    </tr>\n",
       "    <tr>\n",
       "      <th>9</th>\n",
       "      <td>MEX</td>\n",
       "      <td>23469.0</td>\n",
       "      <td>destination</td>\n",
       "    </tr>\n",
       "    <tr>\n",
       "      <th>10</th>\n",
       "      <td>PAN</td>\n",
       "      <td>50049.0</td>\n",
       "      <td>destination</td>\n",
       "    </tr>\n",
       "    <tr>\n",
       "      <th>11</th>\n",
       "      <td>PER</td>\n",
       "      <td>548114.0</td>\n",
       "      <td>destination</td>\n",
       "    </tr>\n",
       "    <tr>\n",
       "      <th>12</th>\n",
       "      <td>TTO</td>\n",
       "      <td>7073.0</td>\n",
       "      <td>destination</td>\n",
       "    </tr>\n",
       "    <tr>\n",
       "      <th>13</th>\n",
       "      <td>URY</td>\n",
       "      <td>5488.0</td>\n",
       "      <td>destination</td>\n",
       "    </tr>\n",
       "    <tr>\n",
       "      <th>14</th>\n",
       "      <td>USA</td>\n",
       "      <td>40710.0</td>\n",
       "      <td>destination</td>\n",
       "    </tr>\n",
       "    <tr>\n",
       "      <th>15</th>\n",
       "      <td>VEN</td>\n",
       "      <td>2508056.5</td>\n",
       "      <td>origin</td>\n",
       "    </tr>\n",
       "  </tbody>\n",
       "</table>\n",
       "</div>"
      ],
      "text/plain": [
       "    iso  newarrival     location\n",
       "0   ARG     71414.0  destination\n",
       "1   BRA     92922.0  destination\n",
       "2   CAN      1254.0  destination\n",
       "3   CHL    286788.0  destination\n",
       "4   COL   1105410.0  destination\n",
       "5   CRI      2884.0  destination\n",
       "6   ECU    226614.5  destination\n",
       "7   ESP     20015.0  destination\n",
       "8   GUY     21400.0  destination\n",
       "9   MEX     23469.0  destination\n",
       "10  PAN     50049.0  destination\n",
       "11  PER    548114.0  destination\n",
       "12  TTO      7073.0  destination\n",
       "13  URY      5488.0  destination\n",
       "14  USA     40710.0  destination\n",
       "15  VEN   2508056.5       origin"
      ]
     },
     "execution_count": 83,
     "metadata": {},
     "output_type": "execute_result"
    }
   ],
   "source": [
    "def plot_country_data(df, country, year, min_size = 0):\n",
    "    iso_o = df[df.Country_o == country].iso_o.iloc[0]\n",
    "\n",
    "\n",
    "    o_obs = df[(df.Country_o == country) & (df.year == year)].agg({'newarrival':'sum'}).rename('newarrival')\n",
    "    o_obs.index = [iso_o]\n",
    "    o_obs = o_obs.to_frame()\n",
    "\n",
    "    df1 = df[(df.Country_o == country) & (df.year== year)].groupby('iso_d').agg({'newarrival':'sum'})\n",
    "    df1 = df1[df1.newarrival > min_size]\n",
    "    df1 = pd.concat([df1, o_obs], axis=0) \n",
    "    df1['location'] = ['origin' if country == iso_o else 'destination' for country in df1.index]\n",
    "    df1 = df1.rename_axis('iso').reset_index()\n",
    "\n",
    "    return df1  \n",
    "\n",
    "plot_country_data(df, 'Venezuela', 2018, 1000) "
   ]
  },
  {
   "cell_type": "code",
   "execution_count": 111,
   "metadata": {},
   "outputs": [
    {
     "ename": "ModuleNotFoundError",
     "evalue": "No module named 'basemap'",
     "output_type": "error",
     "traceback": [
      "\u001b[0;31m---------------------------------------------------------------------------\u001b[0m",
      "\u001b[0;31mModuleNotFoundError\u001b[0m                       Traceback (most recent call last)",
      "Cell \u001b[0;32mIn[111], line 2\u001b[0m\n\u001b[1;32m      1\u001b[0m \u001b[39mimport\u001b[39;00m \u001b[39mmpl_toolkits\u001b[39;00m\n\u001b[0;32m----> 2\u001b[0m \u001b[39mimport\u001b[39;00m \u001b[39mbasemap\u001b[39;00m\n",
      "\u001b[0;31mModuleNotFoundError\u001b[0m: No module named 'basemap'"
     ]
    }
   ],
   "source": [
    "import mpl_toolkits\n",
    "import basemap"
   ]
  },
  {
   "cell_type": "code",
   "execution_count": 114,
   "metadata": {},
   "outputs": [
    {
     "name": "stdout",
     "output_type": "stream",
     "text": [
      "Collecting basemap\n",
      "  Using cached basemap-1.3.6.zip (156 kB)\n",
      "  Installing build dependencies ... \u001b[?25l|^C\n",
      "\u001b[?25canceled\n",
      "\u001b[31mERROR: Operation cancelled by user\u001b[0m\u001b[31m\n",
      "\u001b[0m"
     ]
    }
   ],
   "source": [
    "!pip install basemap"
   ]
  },
  {
   "cell_type": "code",
   "execution_count": null,
   "metadata": {},
   "outputs": [],
   "source": [
    "from mpl_toolkits.basemap import Basemap as Basemap\n",
    "import matplotlib.pyplot as plt\n",
    "\n",
    "plt.figure(figsize = (10,9))\n",
    "\n",
    "basemap = Basemap(\n",
    "    projection = 'merc',\n",
    "    llcrnrlon = -180, \n",
    "    urcrnrlon = -50,     \n",
    "    llcrnrlat = -10,  \n",
    "    urcrnrlat = 70,    \n",
    "    lat_ts = 0,\n",
    "    resolution = 'l',\n",
    "    suppress_ticks = True)"
   ]
  },
  {
   "cell_type": "code",
   "execution_count": 93,
   "metadata": {},
   "outputs": [
    {
     "data": {
      "application/vnd.plotly.v1+json": {
       "config": {
        "plotlyServerURL": "https://plot.ly"
       },
       "data": [
        {
         "geo": "geo",
         "hovertemplate": "location=destination<br>newarrival=%{marker.size}<br>iso=%{location}<extra></extra>",
         "legendgroup": "destination",
         "locations": [
          "ARG",
          "BRA",
          "CAN",
          "CHL",
          "COL",
          "CRI",
          "ECU",
          "ESP",
          "GUY",
          "MEX",
          "PAN",
          "PER",
          "TTO",
          "URY",
          "USA"
         ],
         "marker": {
          "color": "#636efa",
          "size": [
           71414,
           92922,
           1254,
           286788,
           1105410,
           2884,
           226614.5,
           20015,
           21400,
           23469,
           50049,
           548114,
           7073,
           5488,
           40710
          ],
          "sizemode": "area",
          "sizeref": 6270.14125,
          "symbol": "circle"
         },
         "mode": "markers",
         "name": "destination",
         "showlegend": true,
         "type": "scattergeo"
        },
        {
         "geo": "geo",
         "hovertemplate": "location=origin<br>newarrival=%{marker.size}<br>iso=%{location}<extra></extra>",
         "legendgroup": "origin",
         "locations": [
          "VEN"
         ],
         "marker": {
          "color": "#EF553B",
          "size": [
           2508056.5
          ],
          "sizemode": "area",
          "sizeref": 6270.14125,
          "symbol": "circle"
         },
         "mode": "markers",
         "name": "origin",
         "showlegend": true,
         "type": "scattergeo"
        }
       ],
       "layout": {
        "geo": {
         "center": {},
         "countrycolor": "RebeccaPurple",
         "domain": {
          "x": [
           0,
           1
          ],
          "y": [
           0,
           1
          ]
         },
         "resolution": 50,
         "showcountries": true,
         "visible": true
        },
        "legend": {
         "itemsizing": "constant",
         "title": {
          "text": "location"
         },
         "tracegroupgap": 0
        },
        "template": {
         "data": {
          "bar": [
           {
            "error_x": {
             "color": "#2a3f5f"
            },
            "error_y": {
             "color": "#2a3f5f"
            },
            "marker": {
             "line": {
              "color": "#E5ECF6",
              "width": 0.5
             },
             "pattern": {
              "fillmode": "overlay",
              "size": 10,
              "solidity": 0.2
             }
            },
            "type": "bar"
           }
          ],
          "barpolar": [
           {
            "marker": {
             "line": {
              "color": "#E5ECF6",
              "width": 0.5
             },
             "pattern": {
              "fillmode": "overlay",
              "size": 10,
              "solidity": 0.2
             }
            },
            "type": "barpolar"
           }
          ],
          "carpet": [
           {
            "aaxis": {
             "endlinecolor": "#2a3f5f",
             "gridcolor": "white",
             "linecolor": "white",
             "minorgridcolor": "white",
             "startlinecolor": "#2a3f5f"
            },
            "baxis": {
             "endlinecolor": "#2a3f5f",
             "gridcolor": "white",
             "linecolor": "white",
             "minorgridcolor": "white",
             "startlinecolor": "#2a3f5f"
            },
            "type": "carpet"
           }
          ],
          "choropleth": [
           {
            "colorbar": {
             "outlinewidth": 0,
             "ticks": ""
            },
            "type": "choropleth"
           }
          ],
          "contour": [
           {
            "colorbar": {
             "outlinewidth": 0,
             "ticks": ""
            },
            "colorscale": [
             [
              0,
              "#0d0887"
             ],
             [
              0.1111111111111111,
              "#46039f"
             ],
             [
              0.2222222222222222,
              "#7201a8"
             ],
             [
              0.3333333333333333,
              "#9c179e"
             ],
             [
              0.4444444444444444,
              "#bd3786"
             ],
             [
              0.5555555555555556,
              "#d8576b"
             ],
             [
              0.6666666666666666,
              "#ed7953"
             ],
             [
              0.7777777777777778,
              "#fb9f3a"
             ],
             [
              0.8888888888888888,
              "#fdca26"
             ],
             [
              1,
              "#f0f921"
             ]
            ],
            "type": "contour"
           }
          ],
          "contourcarpet": [
           {
            "colorbar": {
             "outlinewidth": 0,
             "ticks": ""
            },
            "type": "contourcarpet"
           }
          ],
          "heatmap": [
           {
            "colorbar": {
             "outlinewidth": 0,
             "ticks": ""
            },
            "colorscale": [
             [
              0,
              "#0d0887"
             ],
             [
              0.1111111111111111,
              "#46039f"
             ],
             [
              0.2222222222222222,
              "#7201a8"
             ],
             [
              0.3333333333333333,
              "#9c179e"
             ],
             [
              0.4444444444444444,
              "#bd3786"
             ],
             [
              0.5555555555555556,
              "#d8576b"
             ],
             [
              0.6666666666666666,
              "#ed7953"
             ],
             [
              0.7777777777777778,
              "#fb9f3a"
             ],
             [
              0.8888888888888888,
              "#fdca26"
             ],
             [
              1,
              "#f0f921"
             ]
            ],
            "type": "heatmap"
           }
          ],
          "heatmapgl": [
           {
            "colorbar": {
             "outlinewidth": 0,
             "ticks": ""
            },
            "colorscale": [
             [
              0,
              "#0d0887"
             ],
             [
              0.1111111111111111,
              "#46039f"
             ],
             [
              0.2222222222222222,
              "#7201a8"
             ],
             [
              0.3333333333333333,
              "#9c179e"
             ],
             [
              0.4444444444444444,
              "#bd3786"
             ],
             [
              0.5555555555555556,
              "#d8576b"
             ],
             [
              0.6666666666666666,
              "#ed7953"
             ],
             [
              0.7777777777777778,
              "#fb9f3a"
             ],
             [
              0.8888888888888888,
              "#fdca26"
             ],
             [
              1,
              "#f0f921"
             ]
            ],
            "type": "heatmapgl"
           }
          ],
          "histogram": [
           {
            "marker": {
             "pattern": {
              "fillmode": "overlay",
              "size": 10,
              "solidity": 0.2
             }
            },
            "type": "histogram"
           }
          ],
          "histogram2d": [
           {
            "colorbar": {
             "outlinewidth": 0,
             "ticks": ""
            },
            "colorscale": [
             [
              0,
              "#0d0887"
             ],
             [
              0.1111111111111111,
              "#46039f"
             ],
             [
              0.2222222222222222,
              "#7201a8"
             ],
             [
              0.3333333333333333,
              "#9c179e"
             ],
             [
              0.4444444444444444,
              "#bd3786"
             ],
             [
              0.5555555555555556,
              "#d8576b"
             ],
             [
              0.6666666666666666,
              "#ed7953"
             ],
             [
              0.7777777777777778,
              "#fb9f3a"
             ],
             [
              0.8888888888888888,
              "#fdca26"
             ],
             [
              1,
              "#f0f921"
             ]
            ],
            "type": "histogram2d"
           }
          ],
          "histogram2dcontour": [
           {
            "colorbar": {
             "outlinewidth": 0,
             "ticks": ""
            },
            "colorscale": [
             [
              0,
              "#0d0887"
             ],
             [
              0.1111111111111111,
              "#46039f"
             ],
             [
              0.2222222222222222,
              "#7201a8"
             ],
             [
              0.3333333333333333,
              "#9c179e"
             ],
             [
              0.4444444444444444,
              "#bd3786"
             ],
             [
              0.5555555555555556,
              "#d8576b"
             ],
             [
              0.6666666666666666,
              "#ed7953"
             ],
             [
              0.7777777777777778,
              "#fb9f3a"
             ],
             [
              0.8888888888888888,
              "#fdca26"
             ],
             [
              1,
              "#f0f921"
             ]
            ],
            "type": "histogram2dcontour"
           }
          ],
          "mesh3d": [
           {
            "colorbar": {
             "outlinewidth": 0,
             "ticks": ""
            },
            "type": "mesh3d"
           }
          ],
          "parcoords": [
           {
            "line": {
             "colorbar": {
              "outlinewidth": 0,
              "ticks": ""
             }
            },
            "type": "parcoords"
           }
          ],
          "pie": [
           {
            "automargin": true,
            "type": "pie"
           }
          ],
          "scatter": [
           {
            "fillpattern": {
             "fillmode": "overlay",
             "size": 10,
             "solidity": 0.2
            },
            "type": "scatter"
           }
          ],
          "scatter3d": [
           {
            "line": {
             "colorbar": {
              "outlinewidth": 0,
              "ticks": ""
             }
            },
            "marker": {
             "colorbar": {
              "outlinewidth": 0,
              "ticks": ""
             }
            },
            "type": "scatter3d"
           }
          ],
          "scattercarpet": [
           {
            "marker": {
             "colorbar": {
              "outlinewidth": 0,
              "ticks": ""
             }
            },
            "type": "scattercarpet"
           }
          ],
          "scattergeo": [
           {
            "marker": {
             "colorbar": {
              "outlinewidth": 0,
              "ticks": ""
             }
            },
            "type": "scattergeo"
           }
          ],
          "scattergl": [
           {
            "marker": {
             "colorbar": {
              "outlinewidth": 0,
              "ticks": ""
             }
            },
            "type": "scattergl"
           }
          ],
          "scattermapbox": [
           {
            "marker": {
             "colorbar": {
              "outlinewidth": 0,
              "ticks": ""
             }
            },
            "type": "scattermapbox"
           }
          ],
          "scatterpolar": [
           {
            "marker": {
             "colorbar": {
              "outlinewidth": 0,
              "ticks": ""
             }
            },
            "type": "scatterpolar"
           }
          ],
          "scatterpolargl": [
           {
            "marker": {
             "colorbar": {
              "outlinewidth": 0,
              "ticks": ""
             }
            },
            "type": "scatterpolargl"
           }
          ],
          "scatterternary": [
           {
            "marker": {
             "colorbar": {
              "outlinewidth": 0,
              "ticks": ""
             }
            },
            "type": "scatterternary"
           }
          ],
          "surface": [
           {
            "colorbar": {
             "outlinewidth": 0,
             "ticks": ""
            },
            "colorscale": [
             [
              0,
              "#0d0887"
             ],
             [
              0.1111111111111111,
              "#46039f"
             ],
             [
              0.2222222222222222,
              "#7201a8"
             ],
             [
              0.3333333333333333,
              "#9c179e"
             ],
             [
              0.4444444444444444,
              "#bd3786"
             ],
             [
              0.5555555555555556,
              "#d8576b"
             ],
             [
              0.6666666666666666,
              "#ed7953"
             ],
             [
              0.7777777777777778,
              "#fb9f3a"
             ],
             [
              0.8888888888888888,
              "#fdca26"
             ],
             [
              1,
              "#f0f921"
             ]
            ],
            "type": "surface"
           }
          ],
          "table": [
           {
            "cells": {
             "fill": {
              "color": "#EBF0F8"
             },
             "line": {
              "color": "white"
             }
            },
            "header": {
             "fill": {
              "color": "#C8D4E3"
             },
             "line": {
              "color": "white"
             }
            },
            "type": "table"
           }
          ]
         },
         "layout": {
          "annotationdefaults": {
           "arrowcolor": "#2a3f5f",
           "arrowhead": 0,
           "arrowwidth": 1
          },
          "autotypenumbers": "strict",
          "coloraxis": {
           "colorbar": {
            "outlinewidth": 0,
            "ticks": ""
           }
          },
          "colorscale": {
           "diverging": [
            [
             0,
             "#8e0152"
            ],
            [
             0.1,
             "#c51b7d"
            ],
            [
             0.2,
             "#de77ae"
            ],
            [
             0.3,
             "#f1b6da"
            ],
            [
             0.4,
             "#fde0ef"
            ],
            [
             0.5,
             "#f7f7f7"
            ],
            [
             0.6,
             "#e6f5d0"
            ],
            [
             0.7,
             "#b8e186"
            ],
            [
             0.8,
             "#7fbc41"
            ],
            [
             0.9,
             "#4d9221"
            ],
            [
             1,
             "#276419"
            ]
           ],
           "sequential": [
            [
             0,
             "#0d0887"
            ],
            [
             0.1111111111111111,
             "#46039f"
            ],
            [
             0.2222222222222222,
             "#7201a8"
            ],
            [
             0.3333333333333333,
             "#9c179e"
            ],
            [
             0.4444444444444444,
             "#bd3786"
            ],
            [
             0.5555555555555556,
             "#d8576b"
            ],
            [
             0.6666666666666666,
             "#ed7953"
            ],
            [
             0.7777777777777778,
             "#fb9f3a"
            ],
            [
             0.8888888888888888,
             "#fdca26"
            ],
            [
             1,
             "#f0f921"
            ]
           ],
           "sequentialminus": [
            [
             0,
             "#0d0887"
            ],
            [
             0.1111111111111111,
             "#46039f"
            ],
            [
             0.2222222222222222,
             "#7201a8"
            ],
            [
             0.3333333333333333,
             "#9c179e"
            ],
            [
             0.4444444444444444,
             "#bd3786"
            ],
            [
             0.5555555555555556,
             "#d8576b"
            ],
            [
             0.6666666666666666,
             "#ed7953"
            ],
            [
             0.7777777777777778,
             "#fb9f3a"
            ],
            [
             0.8888888888888888,
             "#fdca26"
            ],
            [
             1,
             "#f0f921"
            ]
           ]
          },
          "colorway": [
           "#636efa",
           "#EF553B",
           "#00cc96",
           "#ab63fa",
           "#FFA15A",
           "#19d3f3",
           "#FF6692",
           "#B6E880",
           "#FF97FF",
           "#FECB52"
          ],
          "font": {
           "color": "#2a3f5f"
          },
          "geo": {
           "bgcolor": "white",
           "lakecolor": "white",
           "landcolor": "#E5ECF6",
           "showlakes": true,
           "showland": true,
           "subunitcolor": "white"
          },
          "hoverlabel": {
           "align": "left"
          },
          "hovermode": "closest",
          "mapbox": {
           "style": "light"
          },
          "paper_bgcolor": "white",
          "plot_bgcolor": "#E5ECF6",
          "polar": {
           "angularaxis": {
            "gridcolor": "white",
            "linecolor": "white",
            "ticks": ""
           },
           "bgcolor": "#E5ECF6",
           "radialaxis": {
            "gridcolor": "white",
            "linecolor": "white",
            "ticks": ""
           }
          },
          "scene": {
           "xaxis": {
            "backgroundcolor": "#E5ECF6",
            "gridcolor": "white",
            "gridwidth": 2,
            "linecolor": "white",
            "showbackground": true,
            "ticks": "",
            "zerolinecolor": "white"
           },
           "yaxis": {
            "backgroundcolor": "#E5ECF6",
            "gridcolor": "white",
            "gridwidth": 2,
            "linecolor": "white",
            "showbackground": true,
            "ticks": "",
            "zerolinecolor": "white"
           },
           "zaxis": {
            "backgroundcolor": "#E5ECF6",
            "gridcolor": "white",
            "gridwidth": 2,
            "linecolor": "white",
            "showbackground": true,
            "ticks": "",
            "zerolinecolor": "white"
           }
          },
          "shapedefaults": {
           "line": {
            "color": "#2a3f5f"
           }
          },
          "ternary": {
           "aaxis": {
            "gridcolor": "white",
            "linecolor": "white",
            "ticks": ""
           },
           "baxis": {
            "gridcolor": "white",
            "linecolor": "white",
            "ticks": ""
           },
           "bgcolor": "#E5ECF6",
           "caxis": {
            "gridcolor": "white",
            "linecolor": "white",
            "ticks": ""
           }
          },
          "title": {
           "x": 0.05
          },
          "xaxis": {
           "automargin": true,
           "gridcolor": "white",
           "linecolor": "white",
           "ticks": "",
           "title": {
            "standoff": 15
           },
           "zerolinecolor": "white",
           "zerolinewidth": 2
          },
          "yaxis": {
           "automargin": true,
           "gridcolor": "white",
           "linecolor": "white",
           "ticks": "",
           "title": {
            "standoff": 15
           },
           "zerolinecolor": "white",
           "zerolinewidth": 2
          }
         }
        },
        "title": {
         "text": "Venezuela in 2018"
        }
       }
      }
     },
     "metadata": {},
     "output_type": "display_data"
    }
   ],
   "source": [
    "import plotly.express as px\n",
    "\n",
    "fig = px.scatter_geo(plot_country_data(df, 'Venezuela', 2018, 1000), locations=\"iso\",\n",
    "                     size=\"newarrival\",\n",
    "                     # projection=\"natural earth\",\n",
    "                     color = 'location',\n",
    "                     title = 'Venezuela in 2018'\n",
    "                     )\n",
    "\n",
    "fig.update_geos(\n",
    "    visible=True, resolution=50,\n",
    "    showcountries=True, countrycolor=\"RebeccaPurple\"\n",
    ")\n",
    "fig.show()"
   ]
  },
  {
   "cell_type": "code",
   "execution_count": 89,
   "metadata": {},
   "outputs": [
    {
     "data": {
      "application/vnd.plotly.v1+json": {
       "config": {
        "plotlyServerURL": "https://plot.ly"
       },
       "data": [
        {
         "geo": "geo",
         "hovertemplate": "location=destination<br>newarrival=%{marker.size}<br>iso=%{location}<extra></extra>",
         "legendgroup": "destination",
         "locations": [
          "CAN",
          "CHL",
          "ECU",
          "ESP",
          "USA"
         ],
         "marker": {
          "color": "#636efa",
          "size": [
           2571,
           1157,
           5264,
           8811,
           3844
          ],
          "sizemode": "area",
          "sizeref": 66.6075,
          "symbol": "circle"
         },
         "mode": "markers",
         "name": "destination",
         "showlegend": true,
         "type": "scattergeo"
        },
        {
         "geo": "geo",
         "hovertemplate": "location=origin<br>newarrival=%{marker.size}<br>iso=%{location}<extra></extra>",
         "legendgroup": "origin",
         "locations": [
          "COL"
         ],
         "marker": {
          "color": "#EF553B",
          "size": [
           26643
          ],
          "sizemode": "area",
          "sizeref": 66.6075,
          "symbol": "circle"
         },
         "mode": "markers",
         "name": "origin",
         "showlegend": true,
         "type": "scattergeo"
        }
       ],
       "layout": {
        "geo": {
         "center": {},
         "countrycolor": "RebeccaPurple",
         "domain": {
          "x": [
           0,
           1
          ],
          "y": [
           0,
           1
          ]
         },
         "resolution": 50,
         "showcountries": true,
         "visible": true
        },
        "legend": {
         "itemsizing": "constant",
         "title": {
          "text": "location"
         },
         "tracegroupgap": 0
        },
        "margin": {
         "t": 60
        },
        "template": {
         "data": {
          "bar": [
           {
            "error_x": {
             "color": "#2a3f5f"
            },
            "error_y": {
             "color": "#2a3f5f"
            },
            "marker": {
             "line": {
              "color": "#E5ECF6",
              "width": 0.5
             },
             "pattern": {
              "fillmode": "overlay",
              "size": 10,
              "solidity": 0.2
             }
            },
            "type": "bar"
           }
          ],
          "barpolar": [
           {
            "marker": {
             "line": {
              "color": "#E5ECF6",
              "width": 0.5
             },
             "pattern": {
              "fillmode": "overlay",
              "size": 10,
              "solidity": 0.2
             }
            },
            "type": "barpolar"
           }
          ],
          "carpet": [
           {
            "aaxis": {
             "endlinecolor": "#2a3f5f",
             "gridcolor": "white",
             "linecolor": "white",
             "minorgridcolor": "white",
             "startlinecolor": "#2a3f5f"
            },
            "baxis": {
             "endlinecolor": "#2a3f5f",
             "gridcolor": "white",
             "linecolor": "white",
             "minorgridcolor": "white",
             "startlinecolor": "#2a3f5f"
            },
            "type": "carpet"
           }
          ],
          "choropleth": [
           {
            "colorbar": {
             "outlinewidth": 0,
             "ticks": ""
            },
            "type": "choropleth"
           }
          ],
          "contour": [
           {
            "colorbar": {
             "outlinewidth": 0,
             "ticks": ""
            },
            "colorscale": [
             [
              0,
              "#0d0887"
             ],
             [
              0.1111111111111111,
              "#46039f"
             ],
             [
              0.2222222222222222,
              "#7201a8"
             ],
             [
              0.3333333333333333,
              "#9c179e"
             ],
             [
              0.4444444444444444,
              "#bd3786"
             ],
             [
              0.5555555555555556,
              "#d8576b"
             ],
             [
              0.6666666666666666,
              "#ed7953"
             ],
             [
              0.7777777777777778,
              "#fb9f3a"
             ],
             [
              0.8888888888888888,
              "#fdca26"
             ],
             [
              1,
              "#f0f921"
             ]
            ],
            "type": "contour"
           }
          ],
          "contourcarpet": [
           {
            "colorbar": {
             "outlinewidth": 0,
             "ticks": ""
            },
            "type": "contourcarpet"
           }
          ],
          "heatmap": [
           {
            "colorbar": {
             "outlinewidth": 0,
             "ticks": ""
            },
            "colorscale": [
             [
              0,
              "#0d0887"
             ],
             [
              0.1111111111111111,
              "#46039f"
             ],
             [
              0.2222222222222222,
              "#7201a8"
             ],
             [
              0.3333333333333333,
              "#9c179e"
             ],
             [
              0.4444444444444444,
              "#bd3786"
             ],
             [
              0.5555555555555556,
              "#d8576b"
             ],
             [
              0.6666666666666666,
              "#ed7953"
             ],
             [
              0.7777777777777778,
              "#fb9f3a"
             ],
             [
              0.8888888888888888,
              "#fdca26"
             ],
             [
              1,
              "#f0f921"
             ]
            ],
            "type": "heatmap"
           }
          ],
          "heatmapgl": [
           {
            "colorbar": {
             "outlinewidth": 0,
             "ticks": ""
            },
            "colorscale": [
             [
              0,
              "#0d0887"
             ],
             [
              0.1111111111111111,
              "#46039f"
             ],
             [
              0.2222222222222222,
              "#7201a8"
             ],
             [
              0.3333333333333333,
              "#9c179e"
             ],
             [
              0.4444444444444444,
              "#bd3786"
             ],
             [
              0.5555555555555556,
              "#d8576b"
             ],
             [
              0.6666666666666666,
              "#ed7953"
             ],
             [
              0.7777777777777778,
              "#fb9f3a"
             ],
             [
              0.8888888888888888,
              "#fdca26"
             ],
             [
              1,
              "#f0f921"
             ]
            ],
            "type": "heatmapgl"
           }
          ],
          "histogram": [
           {
            "marker": {
             "pattern": {
              "fillmode": "overlay",
              "size": 10,
              "solidity": 0.2
             }
            },
            "type": "histogram"
           }
          ],
          "histogram2d": [
           {
            "colorbar": {
             "outlinewidth": 0,
             "ticks": ""
            },
            "colorscale": [
             [
              0,
              "#0d0887"
             ],
             [
              0.1111111111111111,
              "#46039f"
             ],
             [
              0.2222222222222222,
              "#7201a8"
             ],
             [
              0.3333333333333333,
              "#9c179e"
             ],
             [
              0.4444444444444444,
              "#bd3786"
             ],
             [
              0.5555555555555556,
              "#d8576b"
             ],
             [
              0.6666666666666666,
              "#ed7953"
             ],
             [
              0.7777777777777778,
              "#fb9f3a"
             ],
             [
              0.8888888888888888,
              "#fdca26"
             ],
             [
              1,
              "#f0f921"
             ]
            ],
            "type": "histogram2d"
           }
          ],
          "histogram2dcontour": [
           {
            "colorbar": {
             "outlinewidth": 0,
             "ticks": ""
            },
            "colorscale": [
             [
              0,
              "#0d0887"
             ],
             [
              0.1111111111111111,
              "#46039f"
             ],
             [
              0.2222222222222222,
              "#7201a8"
             ],
             [
              0.3333333333333333,
              "#9c179e"
             ],
             [
              0.4444444444444444,
              "#bd3786"
             ],
             [
              0.5555555555555556,
              "#d8576b"
             ],
             [
              0.6666666666666666,
              "#ed7953"
             ],
             [
              0.7777777777777778,
              "#fb9f3a"
             ],
             [
              0.8888888888888888,
              "#fdca26"
             ],
             [
              1,
              "#f0f921"
             ]
            ],
            "type": "histogram2dcontour"
           }
          ],
          "mesh3d": [
           {
            "colorbar": {
             "outlinewidth": 0,
             "ticks": ""
            },
            "type": "mesh3d"
           }
          ],
          "parcoords": [
           {
            "line": {
             "colorbar": {
              "outlinewidth": 0,
              "ticks": ""
             }
            },
            "type": "parcoords"
           }
          ],
          "pie": [
           {
            "automargin": true,
            "type": "pie"
           }
          ],
          "scatter": [
           {
            "fillpattern": {
             "fillmode": "overlay",
             "size": 10,
             "solidity": 0.2
            },
            "type": "scatter"
           }
          ],
          "scatter3d": [
           {
            "line": {
             "colorbar": {
              "outlinewidth": 0,
              "ticks": ""
             }
            },
            "marker": {
             "colorbar": {
              "outlinewidth": 0,
              "ticks": ""
             }
            },
            "type": "scatter3d"
           }
          ],
          "scattercarpet": [
           {
            "marker": {
             "colorbar": {
              "outlinewidth": 0,
              "ticks": ""
             }
            },
            "type": "scattercarpet"
           }
          ],
          "scattergeo": [
           {
            "marker": {
             "colorbar": {
              "outlinewidth": 0,
              "ticks": ""
             }
            },
            "type": "scattergeo"
           }
          ],
          "scattergl": [
           {
            "marker": {
             "colorbar": {
              "outlinewidth": 0,
              "ticks": ""
             }
            },
            "type": "scattergl"
           }
          ],
          "scattermapbox": [
           {
            "marker": {
             "colorbar": {
              "outlinewidth": 0,
              "ticks": ""
             }
            },
            "type": "scattermapbox"
           }
          ],
          "scatterpolar": [
           {
            "marker": {
             "colorbar": {
              "outlinewidth": 0,
              "ticks": ""
             }
            },
            "type": "scatterpolar"
           }
          ],
          "scatterpolargl": [
           {
            "marker": {
             "colorbar": {
              "outlinewidth": 0,
              "ticks": ""
             }
            },
            "type": "scatterpolargl"
           }
          ],
          "scatterternary": [
           {
            "marker": {
             "colorbar": {
              "outlinewidth": 0,
              "ticks": ""
             }
            },
            "type": "scatterternary"
           }
          ],
          "surface": [
           {
            "colorbar": {
             "outlinewidth": 0,
             "ticks": ""
            },
            "colorscale": [
             [
              0,
              "#0d0887"
             ],
             [
              0.1111111111111111,
              "#46039f"
             ],
             [
              0.2222222222222222,
              "#7201a8"
             ],
             [
              0.3333333333333333,
              "#9c179e"
             ],
             [
              0.4444444444444444,
              "#bd3786"
             ],
             [
              0.5555555555555556,
              "#d8576b"
             ],
             [
              0.6666666666666666,
              "#ed7953"
             ],
             [
              0.7777777777777778,
              "#fb9f3a"
             ],
             [
              0.8888888888888888,
              "#fdca26"
             ],
             [
              1,
              "#f0f921"
             ]
            ],
            "type": "surface"
           }
          ],
          "table": [
           {
            "cells": {
             "fill": {
              "color": "#EBF0F8"
             },
             "line": {
              "color": "white"
             }
            },
            "header": {
             "fill": {
              "color": "#C8D4E3"
             },
             "line": {
              "color": "white"
             }
            },
            "type": "table"
           }
          ]
         },
         "layout": {
          "annotationdefaults": {
           "arrowcolor": "#2a3f5f",
           "arrowhead": 0,
           "arrowwidth": 1
          },
          "autotypenumbers": "strict",
          "coloraxis": {
           "colorbar": {
            "outlinewidth": 0,
            "ticks": ""
           }
          },
          "colorscale": {
           "diverging": [
            [
             0,
             "#8e0152"
            ],
            [
             0.1,
             "#c51b7d"
            ],
            [
             0.2,
             "#de77ae"
            ],
            [
             0.3,
             "#f1b6da"
            ],
            [
             0.4,
             "#fde0ef"
            ],
            [
             0.5,
             "#f7f7f7"
            ],
            [
             0.6,
             "#e6f5d0"
            ],
            [
             0.7,
             "#b8e186"
            ],
            [
             0.8,
             "#7fbc41"
            ],
            [
             0.9,
             "#4d9221"
            ],
            [
             1,
             "#276419"
            ]
           ],
           "sequential": [
            [
             0,
             "#0d0887"
            ],
            [
             0.1111111111111111,
             "#46039f"
            ],
            [
             0.2222222222222222,
             "#7201a8"
            ],
            [
             0.3333333333333333,
             "#9c179e"
            ],
            [
             0.4444444444444444,
             "#bd3786"
            ],
            [
             0.5555555555555556,
             "#d8576b"
            ],
            [
             0.6666666666666666,
             "#ed7953"
            ],
            [
             0.7777777777777778,
             "#fb9f3a"
            ],
            [
             0.8888888888888888,
             "#fdca26"
            ],
            [
             1,
             "#f0f921"
            ]
           ],
           "sequentialminus": [
            [
             0,
             "#0d0887"
            ],
            [
             0.1111111111111111,
             "#46039f"
            ],
            [
             0.2222222222222222,
             "#7201a8"
            ],
            [
             0.3333333333333333,
             "#9c179e"
            ],
            [
             0.4444444444444444,
             "#bd3786"
            ],
            [
             0.5555555555555556,
             "#d8576b"
            ],
            [
             0.6666666666666666,
             "#ed7953"
            ],
            [
             0.7777777777777778,
             "#fb9f3a"
            ],
            [
             0.8888888888888888,
             "#fdca26"
            ],
            [
             1,
             "#f0f921"
            ]
           ]
          },
          "colorway": [
           "#636efa",
           "#EF553B",
           "#00cc96",
           "#ab63fa",
           "#FFA15A",
           "#19d3f3",
           "#FF6692",
           "#B6E880",
           "#FF97FF",
           "#FECB52"
          ],
          "font": {
           "color": "#2a3f5f"
          },
          "geo": {
           "bgcolor": "white",
           "lakecolor": "white",
           "landcolor": "#E5ECF6",
           "showlakes": true,
           "showland": true,
           "subunitcolor": "white"
          },
          "hoverlabel": {
           "align": "left"
          },
          "hovermode": "closest",
          "mapbox": {
           "style": "light"
          },
          "paper_bgcolor": "white",
          "plot_bgcolor": "#E5ECF6",
          "polar": {
           "angularaxis": {
            "gridcolor": "white",
            "linecolor": "white",
            "ticks": ""
           },
           "bgcolor": "#E5ECF6",
           "radialaxis": {
            "gridcolor": "white",
            "linecolor": "white",
            "ticks": ""
           }
          },
          "scene": {
           "xaxis": {
            "backgroundcolor": "#E5ECF6",
            "gridcolor": "white",
            "gridwidth": 2,
            "linecolor": "white",
            "showbackground": true,
            "ticks": "",
            "zerolinecolor": "white"
           },
           "yaxis": {
            "backgroundcolor": "#E5ECF6",
            "gridcolor": "white",
            "gridwidth": 2,
            "linecolor": "white",
            "showbackground": true,
            "ticks": "",
            "zerolinecolor": "white"
           },
           "zaxis": {
            "backgroundcolor": "#E5ECF6",
            "gridcolor": "white",
            "gridwidth": 2,
            "linecolor": "white",
            "showbackground": true,
            "ticks": "",
            "zerolinecolor": "white"
           }
          },
          "shapedefaults": {
           "line": {
            "color": "#2a3f5f"
           }
          },
          "ternary": {
           "aaxis": {
            "gridcolor": "white",
            "linecolor": "white",
            "ticks": ""
           },
           "baxis": {
            "gridcolor": "white",
            "linecolor": "white",
            "ticks": ""
           },
           "bgcolor": "#E5ECF6",
           "caxis": {
            "gridcolor": "white",
            "linecolor": "white",
            "ticks": ""
           }
          },
          "title": {
           "x": 0.05
          },
          "xaxis": {
           "automargin": true,
           "gridcolor": "white",
           "linecolor": "white",
           "ticks": "",
           "title": {
            "standoff": 15
           },
           "zerolinecolor": "white",
           "zerolinewidth": 2
          },
          "yaxis": {
           "automargin": true,
           "gridcolor": "white",
           "linecolor": "white",
           "ticks": "",
           "title": {
            "standoff": 15
           },
           "zerolinecolor": "white",
           "zerolinewidth": 2
          }
         }
        }
       }
      }
     },
     "metadata": {},
     "output_type": "display_data"
    }
   ],
   "source": [
    "fig = px.scatter_geo(plot_country_data(df, 'Colombia', 2018, 1000), locations=\"iso\",\n",
    "                     size=\"newarrival\",\n",
    "                     #projection=\"natural earth\",\n",
    "                     color = 'location'\n",
    "                     )\n",
    "\n",
    "fig.update_geos(\n",
    "    visible=True, resolution=50,\n",
    "    showcountries=True, countrycolor=\"RebeccaPurple\")\n",
    "fig.show()"
   ]
  },
  {
   "cell_type": "code",
   "execution_count": 99,
   "metadata": {},
   "outputs": [
    {
     "data": {
      "application/vnd.plotly.v1+json": {
       "config": {
        "plotlyServerURL": "https://plot.ly"
       },
       "data": [
        {
         "geo": "geo",
         "hovertemplate": "location=destination<br>newarrival=%{marker.size}<br>iso=%{location}<extra></extra>",
         "legendgroup": "destination",
         "locations": [
          "CRI",
          "ESP",
          "MEX",
          "USA"
         ],
         "marker": {
          "color": "#636efa",
          "size": [
           101962,
           1260,
           2919,
           4724
          ],
          "sizemode": "area",
          "sizeref": 278.905,
          "symbol": "circle"
         },
         "mode": "markers",
         "name": "destination",
         "showlegend": true,
         "type": "scattergeo"
        },
        {
         "geo": "geo",
         "hovertemplate": "location=origin<br>newarrival=%{marker.size}<br>iso=%{location}<extra></extra>",
         "legendgroup": "origin",
         "locations": [
          "NIC"
         ],
         "marker": {
          "color": "#EF553B",
          "size": [
           111562
          ],
          "sizemode": "area",
          "sizeref": 278.905,
          "symbol": "circle"
         },
         "mode": "markers",
         "name": "origin",
         "showlegend": true,
         "type": "scattergeo"
        }
       ],
       "layout": {
        "geo": {
         "center": {},
         "countrycolor": "RebeccaPurple",
         "domain": {
          "x": [
           0,
           1
          ],
          "y": [
           0,
           1
          ]
         },
         "resolution": 50,
         "showcountries": true,
         "visible": true
        },
        "legend": {
         "itemsizing": "constant",
         "title": {
          "text": "location"
         },
         "tracegroupgap": 0
        },
        "margin": {
         "t": 60
        },
        "template": {
         "data": {
          "bar": [
           {
            "error_x": {
             "color": "#2a3f5f"
            },
            "error_y": {
             "color": "#2a3f5f"
            },
            "marker": {
             "line": {
              "color": "#E5ECF6",
              "width": 0.5
             },
             "pattern": {
              "fillmode": "overlay",
              "size": 10,
              "solidity": 0.2
             }
            },
            "type": "bar"
           }
          ],
          "barpolar": [
           {
            "marker": {
             "line": {
              "color": "#E5ECF6",
              "width": 0.5
             },
             "pattern": {
              "fillmode": "overlay",
              "size": 10,
              "solidity": 0.2
             }
            },
            "type": "barpolar"
           }
          ],
          "carpet": [
           {
            "aaxis": {
             "endlinecolor": "#2a3f5f",
             "gridcolor": "white",
             "linecolor": "white",
             "minorgridcolor": "white",
             "startlinecolor": "#2a3f5f"
            },
            "baxis": {
             "endlinecolor": "#2a3f5f",
             "gridcolor": "white",
             "linecolor": "white",
             "minorgridcolor": "white",
             "startlinecolor": "#2a3f5f"
            },
            "type": "carpet"
           }
          ],
          "choropleth": [
           {
            "colorbar": {
             "outlinewidth": 0,
             "ticks": ""
            },
            "type": "choropleth"
           }
          ],
          "contour": [
           {
            "colorbar": {
             "outlinewidth": 0,
             "ticks": ""
            },
            "colorscale": [
             [
              0,
              "#0d0887"
             ],
             [
              0.1111111111111111,
              "#46039f"
             ],
             [
              0.2222222222222222,
              "#7201a8"
             ],
             [
              0.3333333333333333,
              "#9c179e"
             ],
             [
              0.4444444444444444,
              "#bd3786"
             ],
             [
              0.5555555555555556,
              "#d8576b"
             ],
             [
              0.6666666666666666,
              "#ed7953"
             ],
             [
              0.7777777777777778,
              "#fb9f3a"
             ],
             [
              0.8888888888888888,
              "#fdca26"
             ],
             [
              1,
              "#f0f921"
             ]
            ],
            "type": "contour"
           }
          ],
          "contourcarpet": [
           {
            "colorbar": {
             "outlinewidth": 0,
             "ticks": ""
            },
            "type": "contourcarpet"
           }
          ],
          "heatmap": [
           {
            "colorbar": {
             "outlinewidth": 0,
             "ticks": ""
            },
            "colorscale": [
             [
              0,
              "#0d0887"
             ],
             [
              0.1111111111111111,
              "#46039f"
             ],
             [
              0.2222222222222222,
              "#7201a8"
             ],
             [
              0.3333333333333333,
              "#9c179e"
             ],
             [
              0.4444444444444444,
              "#bd3786"
             ],
             [
              0.5555555555555556,
              "#d8576b"
             ],
             [
              0.6666666666666666,
              "#ed7953"
             ],
             [
              0.7777777777777778,
              "#fb9f3a"
             ],
             [
              0.8888888888888888,
              "#fdca26"
             ],
             [
              1,
              "#f0f921"
             ]
            ],
            "type": "heatmap"
           }
          ],
          "heatmapgl": [
           {
            "colorbar": {
             "outlinewidth": 0,
             "ticks": ""
            },
            "colorscale": [
             [
              0,
              "#0d0887"
             ],
             [
              0.1111111111111111,
              "#46039f"
             ],
             [
              0.2222222222222222,
              "#7201a8"
             ],
             [
              0.3333333333333333,
              "#9c179e"
             ],
             [
              0.4444444444444444,
              "#bd3786"
             ],
             [
              0.5555555555555556,
              "#d8576b"
             ],
             [
              0.6666666666666666,
              "#ed7953"
             ],
             [
              0.7777777777777778,
              "#fb9f3a"
             ],
             [
              0.8888888888888888,
              "#fdca26"
             ],
             [
              1,
              "#f0f921"
             ]
            ],
            "type": "heatmapgl"
           }
          ],
          "histogram": [
           {
            "marker": {
             "pattern": {
              "fillmode": "overlay",
              "size": 10,
              "solidity": 0.2
             }
            },
            "type": "histogram"
           }
          ],
          "histogram2d": [
           {
            "colorbar": {
             "outlinewidth": 0,
             "ticks": ""
            },
            "colorscale": [
             [
              0,
              "#0d0887"
             ],
             [
              0.1111111111111111,
              "#46039f"
             ],
             [
              0.2222222222222222,
              "#7201a8"
             ],
             [
              0.3333333333333333,
              "#9c179e"
             ],
             [
              0.4444444444444444,
              "#bd3786"
             ],
             [
              0.5555555555555556,
              "#d8576b"
             ],
             [
              0.6666666666666666,
              "#ed7953"
             ],
             [
              0.7777777777777778,
              "#fb9f3a"
             ],
             [
              0.8888888888888888,
              "#fdca26"
             ],
             [
              1,
              "#f0f921"
             ]
            ],
            "type": "histogram2d"
           }
          ],
          "histogram2dcontour": [
           {
            "colorbar": {
             "outlinewidth": 0,
             "ticks": ""
            },
            "colorscale": [
             [
              0,
              "#0d0887"
             ],
             [
              0.1111111111111111,
              "#46039f"
             ],
             [
              0.2222222222222222,
              "#7201a8"
             ],
             [
              0.3333333333333333,
              "#9c179e"
             ],
             [
              0.4444444444444444,
              "#bd3786"
             ],
             [
              0.5555555555555556,
              "#d8576b"
             ],
             [
              0.6666666666666666,
              "#ed7953"
             ],
             [
              0.7777777777777778,
              "#fb9f3a"
             ],
             [
              0.8888888888888888,
              "#fdca26"
             ],
             [
              1,
              "#f0f921"
             ]
            ],
            "type": "histogram2dcontour"
           }
          ],
          "mesh3d": [
           {
            "colorbar": {
             "outlinewidth": 0,
             "ticks": ""
            },
            "type": "mesh3d"
           }
          ],
          "parcoords": [
           {
            "line": {
             "colorbar": {
              "outlinewidth": 0,
              "ticks": ""
             }
            },
            "type": "parcoords"
           }
          ],
          "pie": [
           {
            "automargin": true,
            "type": "pie"
           }
          ],
          "scatter": [
           {
            "fillpattern": {
             "fillmode": "overlay",
             "size": 10,
             "solidity": 0.2
            },
            "type": "scatter"
           }
          ],
          "scatter3d": [
           {
            "line": {
             "colorbar": {
              "outlinewidth": 0,
              "ticks": ""
             }
            },
            "marker": {
             "colorbar": {
              "outlinewidth": 0,
              "ticks": ""
             }
            },
            "type": "scatter3d"
           }
          ],
          "scattercarpet": [
           {
            "marker": {
             "colorbar": {
              "outlinewidth": 0,
              "ticks": ""
             }
            },
            "type": "scattercarpet"
           }
          ],
          "scattergeo": [
           {
            "marker": {
             "colorbar": {
              "outlinewidth": 0,
              "ticks": ""
             }
            },
            "type": "scattergeo"
           }
          ],
          "scattergl": [
           {
            "marker": {
             "colorbar": {
              "outlinewidth": 0,
              "ticks": ""
             }
            },
            "type": "scattergl"
           }
          ],
          "scattermapbox": [
           {
            "marker": {
             "colorbar": {
              "outlinewidth": 0,
              "ticks": ""
             }
            },
            "type": "scattermapbox"
           }
          ],
          "scatterpolar": [
           {
            "marker": {
             "colorbar": {
              "outlinewidth": 0,
              "ticks": ""
             }
            },
            "type": "scatterpolar"
           }
          ],
          "scatterpolargl": [
           {
            "marker": {
             "colorbar": {
              "outlinewidth": 0,
              "ticks": ""
             }
            },
            "type": "scatterpolargl"
           }
          ],
          "scatterternary": [
           {
            "marker": {
             "colorbar": {
              "outlinewidth": 0,
              "ticks": ""
             }
            },
            "type": "scatterternary"
           }
          ],
          "surface": [
           {
            "colorbar": {
             "outlinewidth": 0,
             "ticks": ""
            },
            "colorscale": [
             [
              0,
              "#0d0887"
             ],
             [
              0.1111111111111111,
              "#46039f"
             ],
             [
              0.2222222222222222,
              "#7201a8"
             ],
             [
              0.3333333333333333,
              "#9c179e"
             ],
             [
              0.4444444444444444,
              "#bd3786"
             ],
             [
              0.5555555555555556,
              "#d8576b"
             ],
             [
              0.6666666666666666,
              "#ed7953"
             ],
             [
              0.7777777777777778,
              "#fb9f3a"
             ],
             [
              0.8888888888888888,
              "#fdca26"
             ],
             [
              1,
              "#f0f921"
             ]
            ],
            "type": "surface"
           }
          ],
          "table": [
           {
            "cells": {
             "fill": {
              "color": "#EBF0F8"
             },
             "line": {
              "color": "white"
             }
            },
            "header": {
             "fill": {
              "color": "#C8D4E3"
             },
             "line": {
              "color": "white"
             }
            },
            "type": "table"
           }
          ]
         },
         "layout": {
          "annotationdefaults": {
           "arrowcolor": "#2a3f5f",
           "arrowhead": 0,
           "arrowwidth": 1
          },
          "autotypenumbers": "strict",
          "coloraxis": {
           "colorbar": {
            "outlinewidth": 0,
            "ticks": ""
           }
          },
          "colorscale": {
           "diverging": [
            [
             0,
             "#8e0152"
            ],
            [
             0.1,
             "#c51b7d"
            ],
            [
             0.2,
             "#de77ae"
            ],
            [
             0.3,
             "#f1b6da"
            ],
            [
             0.4,
             "#fde0ef"
            ],
            [
             0.5,
             "#f7f7f7"
            ],
            [
             0.6,
             "#e6f5d0"
            ],
            [
             0.7,
             "#b8e186"
            ],
            [
             0.8,
             "#7fbc41"
            ],
            [
             0.9,
             "#4d9221"
            ],
            [
             1,
             "#276419"
            ]
           ],
           "sequential": [
            [
             0,
             "#0d0887"
            ],
            [
             0.1111111111111111,
             "#46039f"
            ],
            [
             0.2222222222222222,
             "#7201a8"
            ],
            [
             0.3333333333333333,
             "#9c179e"
            ],
            [
             0.4444444444444444,
             "#bd3786"
            ],
            [
             0.5555555555555556,
             "#d8576b"
            ],
            [
             0.6666666666666666,
             "#ed7953"
            ],
            [
             0.7777777777777778,
             "#fb9f3a"
            ],
            [
             0.8888888888888888,
             "#fdca26"
            ],
            [
             1,
             "#f0f921"
            ]
           ],
           "sequentialminus": [
            [
             0,
             "#0d0887"
            ],
            [
             0.1111111111111111,
             "#46039f"
            ],
            [
             0.2222222222222222,
             "#7201a8"
            ],
            [
             0.3333333333333333,
             "#9c179e"
            ],
            [
             0.4444444444444444,
             "#bd3786"
            ],
            [
             0.5555555555555556,
             "#d8576b"
            ],
            [
             0.6666666666666666,
             "#ed7953"
            ],
            [
             0.7777777777777778,
             "#fb9f3a"
            ],
            [
             0.8888888888888888,
             "#fdca26"
            ],
            [
             1,
             "#f0f921"
            ]
           ]
          },
          "colorway": [
           "#636efa",
           "#EF553B",
           "#00cc96",
           "#ab63fa",
           "#FFA15A",
           "#19d3f3",
           "#FF6692",
           "#B6E880",
           "#FF97FF",
           "#FECB52"
          ],
          "font": {
           "color": "#2a3f5f"
          },
          "geo": {
           "bgcolor": "white",
           "lakecolor": "white",
           "landcolor": "#E5ECF6",
           "showlakes": true,
           "showland": true,
           "subunitcolor": "white"
          },
          "hoverlabel": {
           "align": "left"
          },
          "hovermode": "closest",
          "mapbox": {
           "style": "light"
          },
          "paper_bgcolor": "white",
          "plot_bgcolor": "#E5ECF6",
          "polar": {
           "angularaxis": {
            "gridcolor": "white",
            "linecolor": "white",
            "ticks": ""
           },
           "bgcolor": "#E5ECF6",
           "radialaxis": {
            "gridcolor": "white",
            "linecolor": "white",
            "ticks": ""
           }
          },
          "scene": {
           "xaxis": {
            "backgroundcolor": "#E5ECF6",
            "gridcolor": "white",
            "gridwidth": 2,
            "linecolor": "white",
            "showbackground": true,
            "ticks": "",
            "zerolinecolor": "white"
           },
           "yaxis": {
            "backgroundcolor": "#E5ECF6",
            "gridcolor": "white",
            "gridwidth": 2,
            "linecolor": "white",
            "showbackground": true,
            "ticks": "",
            "zerolinecolor": "white"
           },
           "zaxis": {
            "backgroundcolor": "#E5ECF6",
            "gridcolor": "white",
            "gridwidth": 2,
            "linecolor": "white",
            "showbackground": true,
            "ticks": "",
            "zerolinecolor": "white"
           }
          },
          "shapedefaults": {
           "line": {
            "color": "#2a3f5f"
           }
          },
          "ternary": {
           "aaxis": {
            "gridcolor": "white",
            "linecolor": "white",
            "ticks": ""
           },
           "baxis": {
            "gridcolor": "white",
            "linecolor": "white",
            "ticks": ""
           },
           "bgcolor": "#E5ECF6",
           "caxis": {
            "gridcolor": "white",
            "linecolor": "white",
            "ticks": ""
           }
          },
          "title": {
           "x": 0.05
          },
          "xaxis": {
           "automargin": true,
           "gridcolor": "white",
           "linecolor": "white",
           "ticks": "",
           "title": {
            "standoff": 15
           },
           "zerolinecolor": "white",
           "zerolinewidth": 2
          },
          "yaxis": {
           "automargin": true,
           "gridcolor": "white",
           "linecolor": "white",
           "ticks": "",
           "title": {
            "standoff": 15
           },
           "zerolinecolor": "white",
           "zerolinewidth": 2
          }
         }
        }
       }
      }
     },
     "metadata": {},
     "output_type": "display_data"
    }
   ],
   "source": [
    "fig = px.scatter_geo(plot_country_data(df, 'Nicaragua', 2021, 1000), locations=\"iso\",\n",
    "                     size=\"newarrival\",\n",
    "                     #projection=\"natural earth\",\n",
    "                     color = 'location'\n",
    "                     )\n",
    "\n",
    "fig.update_geos(\n",
    "    visible=True, resolution=50,\n",
    "    showcountries=True, countrycolor=\"RebeccaPurple\")\n",
    "fig.show()"
   ]
  },
  {
   "cell_type": "code",
   "execution_count": 9,
   "metadata": {},
   "outputs": [
    {
     "data": {
      "text/plain": [
       "<Axes: xlabel='contig'>"
      ]
     },
     "execution_count": 9,
     "metadata": {},
     "output_type": "execute_result"
    },
    {
     "data": {
      "image/png": "[encoded data removed]",
      "text/plain": [
       "<Figure size 640x480 with 1 Axes>"
      ]
     },
     "metadata": {},
     "output_type": "display_data"
    }
   ],
   "source": [
    "df.groupby('contig').sum('newarrival').newarrival.plot.bar()"
   ]
  },
  {
   "cell_type": "code",
   "execution_count": 18,
   "metadata": {},
   "outputs": [
    {
     "data": {
      "image/svg+xml": [
       "<?xml version=\"1.0\" encoding=\"UTF-8\"?>\n",
       "<svg xmlns=\"http://www.w3.org/2000/svg\" xmlns:xlink=\"http://www.w3.org/1999/xlink\" width=\"600pt\" height=\"600pt\" viewBox=\"0 0 600 600\" version=\"1.1\">\n",
       "<defs>\n",
       "<g>\n",
       "<symbol overflow=\"visible\" id=\"glyph0-0\">\n",
       "<path style=\"stroke:none;\" d=\"M 0.453125 0 L 0.453125 -10.042969 L 8.421875 -10.042969 L 8.421875 0 Z M 7.164062 -1.257812 L 7.164062 -8.785156 L 1.710938 -8.785156 L 1.710938 -1.257812 Z M 7.164062 -1.257812 \"/>\n",
       "</symbol>\n",
       "<symbol overflow=\"visible\" id=\"glyph0-1\">\n",
       "<path style=\"stroke:none;\" d=\"M 6.21875 -4.117188 L 4.695312 -8.550781 L 3.078125 -4.117188 Z M 3.984375 -10.042969 L 5.523438 -10.042969 L 9.167969 0 L 7.675781 0 L 6.65625 -3.007812 L 2.6875 -3.007812 L 1.601562 0 L 0.203125 0 Z M 3.984375 -10.042969 \"/>\n",
       "</symbol>\n",
       "<symbol overflow=\"visible\" id=\"glyph0-2\">\n",
       "<path style=\"stroke:none;\" d=\"M 1.195312 -10.042969 L 8.164062 -10.042969 L 8.164062 -8.8125 L 2.554688 -8.8125 L 2.554688 -5.761719 L 7.484375 -5.761719 L 7.484375 -4.566406 L 2.554688 -4.566406 L 2.554688 0 L 1.195312 0 Z M 1.195312 -10.042969 \"/>\n",
       "</symbol>\n",
       "<symbol overflow=\"visible\" id=\"glyph0-3\">\n",
       "<path style=\"stroke:none;\" d=\"M 5.40625 -10.300781 C 6.351562 -10.300781 7.167969 -10.121094 7.855469 -9.753906 C 8.851562 -9.230469 9.464844 -8.3125 9.6875 -7 L 8.339844 -7 C 8.175781 -7.734375 7.835938 -8.269531 7.320312 -8.601562 C 6.804688 -8.9375 6.15625 -9.105469 5.375 -9.105469 C 4.445312 -9.105469 3.660156 -8.757812 3.023438 -8.058594 C 2.390625 -7.363281 2.070312 -6.324219 2.070312 -4.941406 C 2.070312 -3.75 2.332031 -2.777344 2.859375 -2.027344 C 3.382812 -1.277344 4.234375 -0.902344 5.421875 -0.902344 C 6.328125 -0.902344 7.078125 -1.164062 7.671875 -1.691406 C 8.265625 -2.21875 8.570312 -3.070312 8.585938 -4.246094 L 5.441406 -4.246094 L 5.441406 -5.375 L 9.851562 -5.375 L 9.851562 0 L 8.976562 0 L 8.648438 -1.292969 C 8.1875 -0.785156 7.78125 -0.433594 7.421875 -0.238281 C 6.828125 0.0976562 6.066406 0.265625 5.148438 0.265625 C 3.957031 0.265625 2.933594 -0.117188 2.078125 -0.890625 C 1.144531 -1.855469 0.675781 -3.179688 0.675781 -4.867188 C 0.675781 -6.546875 1.132812 -7.886719 2.042969 -8.878906 C 2.910156 -9.828125 4.03125 -10.300781 5.40625 -10.300781 Z M 5.40625 -10.300781 \"/>\n",
       "</symbol>\n",
       "<symbol overflow=\"visible\" id=\"glyph0-4\">\n",
       "<path style=\"stroke:none;\" d=\"M 5.296875 -10.316406 C 6.570312 -10.316406 7.554688 -9.980469 8.257812 -9.3125 C 8.960938 -8.640625 9.347656 -7.878906 9.425781 -7.027344 L 8.101562 -7.027344 C 7.949219 -7.675781 7.652344 -8.1875 7.203125 -8.566406 C 6.753906 -8.945312 6.121094 -9.132812 5.3125 -9.132812 C 4.324219 -9.132812 3.523438 -8.785156 2.914062 -8.089844 C 2.304688 -7.394531 2.003906 -6.328125 2.003906 -4.894531 C 2.003906 -3.71875 2.277344 -2.765625 2.828125 -2.035156 C 3.375 -1.304688 4.195312 -0.9375 5.285156 -0.9375 C 6.289062 -0.9375 7.050781 -1.320312 7.574219 -2.09375 C 7.851562 -2.5 8.058594 -3.03125 8.195312 -3.691406 L 9.523438 -3.691406 C 9.40625 -2.632812 9.011719 -1.746094 8.347656 -1.03125 C 7.550781 -0.171875 6.472656 0.257812 5.121094 0.257812 C 3.953125 0.257812 2.972656 -0.09375 2.179688 -0.800781 C 1.136719 -1.734375 0.617188 -3.175781 0.617188 -5.125 C 0.617188 -6.609375 1.007812 -7.824219 1.789062 -8.769531 C 2.636719 -9.800781 3.808594 -10.316406 5.296875 -10.316406 Z M 5.296875 -10.316406 \"/>\n",
       "</symbol>\n",
       "<symbol overflow=\"visible\" id=\"glyph0-5\">\n",
       "<path style=\"stroke:none;\" d=\"M 1.101562 -10.042969 L 2.476562 -10.042969 L 2.476562 -5.890625 L 7.695312 -5.890625 L 7.695312 -10.042969 L 9.070312 -10.042969 L 9.070312 0 L 7.695312 0 L 7.695312 -4.695312 L 2.476562 -4.695312 L 2.476562 0 L 1.101562 0 Z M 1.101562 -10.042969 \"/>\n",
       "</symbol>\n",
       "<symbol overflow=\"visible\" id=\"glyph0-6\">\n",
       "<path style=\"stroke:none;\" d=\"M 1.066406 -10.042969 L 2.671875 -10.042969 L 7.746094 -1.90625 L 7.746094 -10.042969 L 9.039062 -10.042969 L 9.039062 0 L 7.511719 0 L 2.367188 -8.128906 L 2.367188 0 L 1.066406 0 Z M 1.066406 -10.042969 \"/>\n",
       "</symbol>\n",
       "<symbol overflow=\"visible\" id=\"glyph0-7\">\n",
       "<path style=\"stroke:none;\" d=\"M 1.375 -10.042969 L 2.75 -10.042969 L 2.75 0 L 1.375 0 Z M 1.375 -10.042969 \"/>\n",
       "</symbol>\n",
       "<symbol overflow=\"visible\" id=\"glyph0-8\">\n",
       "<path style=\"stroke:none;\" d=\"M 5.734375 -5.441406 C 6.375 -5.441406 6.878906 -5.570312 7.25 -5.824219 C 7.621094 -6.078125 7.804688 -6.539062 7.804688 -7.203125 C 7.804688 -7.921875 7.546875 -8.40625 7.027344 -8.667969 C 6.75 -8.804688 6.378906 -8.875 5.914062 -8.875 L 2.589844 -8.875 L 2.589844 -5.441406 Z M 1.230469 -10.042969 L 5.878906 -10.042969 C 6.644531 -10.042969 7.277344 -9.929688 7.773438 -9.707031 C 8.714844 -9.277344 9.1875 -8.488281 9.1875 -7.335938 C 9.1875 -6.734375 9.0625 -6.242188 8.816406 -5.859375 C 8.566406 -5.476562 8.21875 -5.167969 7.773438 -4.9375 C 8.164062 -4.777344 8.460938 -4.566406 8.65625 -4.304688 C 8.855469 -4.046875 8.964844 -3.625 8.988281 -3.042969 L 9.039062 -1.695312 C 9.050781 -1.3125 9.082031 -1.027344 9.132812 -0.839844 C 9.214844 -0.523438 9.359375 -0.316406 9.570312 -0.226562 L 9.570312 0 L 7.902344 0 C 7.855469 -0.0859375 7.820312 -0.199219 7.792969 -0.335938 C 7.765625 -0.472656 7.742188 -0.734375 7.726562 -1.128906 L 7.640625 -2.804688 C 7.609375 -3.460938 7.367188 -3.898438 6.910156 -4.121094 C 6.652344 -4.246094 6.242188 -4.304688 5.6875 -4.304688 L 2.589844 -4.304688 L 2.589844 0 L 1.230469 0 Z M 1.230469 -10.042969 \"/>\n",
       "</symbol>\n",
       "<symbol overflow=\"visible\" id=\"glyph0-9\">\n",
       "<path style=\"stroke:none;\" d=\"M 1.195312 -10.042969 L 5.714844 -10.042969 C 6.609375 -10.042969 7.328125 -9.789062 7.875 -9.285156 C 8.421875 -8.78125 8.695312 -8.074219 8.695312 -7.164062 C 8.695312 -6.378906 8.453125 -5.699219 7.964844 -5.117188 C 7.476562 -4.535156 6.726562 -4.246094 5.714844 -4.246094 L 2.554688 -4.246094 L 2.554688 0 L 1.195312 0 Z M 7.320312 -7.15625 C 7.320312 -7.894531 7.046875 -8.398438 6.5 -8.660156 C 6.199219 -8.800781 5.789062 -8.875 5.265625 -8.875 L 2.554688 -8.875 L 2.554688 -5.394531 L 5.265625 -5.394531 C 5.875 -5.394531 6.371094 -5.523438 6.75 -5.78125 C 7.132812 -6.042969 7.320312 -6.5 7.320312 -7.15625 Z M 7.320312 -7.15625 \"/>\n",
       "</symbol>\n",
       "<symbol overflow=\"visible\" id=\"glyph0-10\">\n",
       "<path style=\"stroke:none;\" d=\"M 1.066406 -10.042969 L 2.390625 -10.042969 L 2.390625 -5.148438 L 7.289062 -10.042969 L 9.167969 -10.042969 L 4.992188 -5.996094 L 9.28125 0 L 7.511719 0 L 4 -5.039062 L 2.390625 -3.5 L 2.390625 0 L 1.066406 0 Z M 1.066406 -10.042969 \"/>\n",
       "</symbol>\n",
       "<symbol overflow=\"visible\" id=\"glyph0-11\">\n",
       "<path style=\"stroke:none;\" d=\"M 8.375 -10.042969 L 8.375 -8.84375 L 4.992188 -8.84375 L 4.992188 0 L 3.609375 0 L 3.609375 -8.84375 L 0.226562 -8.84375 L 0.226562 -10.042969 Z M 8.375 -10.042969 \"/>\n",
       "</symbol>\n",
       "<symbol overflow=\"visible\" id=\"glyph0-12\">\n",
       "<path style=\"stroke:none;\" d=\"M 5.996094 -2.992188 C 5.996094 -2.144531 5.871094 -1.488281 5.617188 -1.019531 C 5.152344 -0.164062 4.269531 0.265625 2.96875 0.265625 C 2.214844 0.265625 1.570312 0.0625 1.039062 -0.34375 C 0.507812 -0.753906 0.238281 -1.480469 0.238281 -2.523438 L 0.238281 -3.242188 L 1.515625 -3.242188 L 1.515625 -2.523438 C 1.515625 -1.976562 1.640625 -1.5625 1.882812 -1.289062 C 2.125 -1.011719 2.507812 -0.875 3.023438 -0.875 C 3.746094 -0.875 4.21875 -1.125 4.445312 -1.621094 C 4.582031 -1.925781 4.648438 -2.5 4.648438 -3.351562 L 4.648438 -10.042969 L 5.996094 -10.042969 Z M 5.996094 -2.992188 \"/>\n",
       "</symbol>\n",
       "<symbol overflow=\"visible\" id=\"glyph0-13\">\n",
       "<path style=\"stroke:none;\" d=\"M 1.03125 -10.042969 L 2.980469 -10.042969 L 5.867188 -1.550781 L 8.730469 -10.042969 L 10.65625 -10.042969 L 10.65625 0 L 9.367188 0 L 9.367188 -5.925781 C 9.367188 -6.132812 9.371094 -6.472656 9.378906 -6.945312 C 9.386719 -7.417969 9.390625 -7.925781 9.390625 -8.46875 L 6.527344 0 L 5.179688 0 L 2.296875 -8.46875 L 2.296875 -8.164062 C 2.296875 -7.917969 2.300781 -7.542969 2.3125 -7.039062 C 2.324219 -6.535156 2.332031 -6.164062 2.332031 -5.925781 L 2.332031 0 L 1.03125 0 Z M 1.03125 -10.042969 \"/>\n",
       "</symbol>\n",
       "<symbol overflow=\"visible\" id=\"glyph0-14\">\n",
       "<path style=\"stroke:none;\" d=\"M 2.542969 -10.042969 L 2.542969 -3.835938 C 2.542969 -3.105469 2.679688 -2.5 2.953125 -2.015625 C 3.359375 -1.289062 4.042969 -0.921875 5.003906 -0.921875 C 6.15625 -0.921875 6.941406 -1.316406 7.355469 -2.105469 C 7.578125 -2.535156 7.691406 -3.109375 7.691406 -3.835938 L 7.691406 -10.042969 L 9.070312 -10.042969 L 9.070312 -4.402344 C 9.070312 -3.167969 8.90625 -2.21875 8.570312 -1.550781 C 7.960938 -0.339844 6.808594 0.265625 5.113281 0.265625 C 3.417969 0.265625 2.265625 -0.339844 1.660156 -1.550781 C 1.328125 -2.21875 1.164062 -3.167969 1.164062 -4.402344 L 1.164062 -10.042969 Z M 2.542969 -10.042969 \"/>\n",
       "</symbol>\n",
       "<symbol overflow=\"visible\" id=\"glyph0-15\">\n",
       "<path style=\"stroke:none;\" d=\"M 0.320312 -1.128906 L 6.480469 -8.84375 L 0.773438 -8.84375 L 0.773438 -10.042969 L 8.230469 -10.042969 L 8.230469 -8.875 L 2.039062 -1.195312 L 8.230469 -1.195312 L 8.230469 0 L 0.320312 0 Z M 0.320312 -1.128906 \"/>\n",
       "</symbol>\n",
       "<symbol overflow=\"visible\" id=\"glyph0-16\">\n",
       "<path style=\"stroke:none;\" d=\"M 4.839844 -5.796875 C 5.414062 -5.796875 5.859375 -5.875 6.179688 -6.035156 C 6.679688 -6.285156 6.929688 -6.738281 6.929688 -7.390625 C 6.929688 -8.046875 6.664062 -8.488281 6.132812 -8.714844 C 5.832031 -8.84375 5.382812 -8.90625 4.792969 -8.90625 L 2.367188 -8.90625 L 2.367188 -5.796875 Z M 5.296875 -1.164062 C 6.132812 -1.164062 6.726562 -1.402344 7.082031 -1.886719 C 7.304688 -2.191406 7.417969 -2.5625 7.417969 -2.992188 C 7.417969 -3.722656 7.089844 -4.21875 6.4375 -4.484375 C 6.09375 -4.625 5.636719 -4.695312 5.066406 -4.695312 L 2.367188 -4.695312 L 2.367188 -1.164062 Z M 1.03125 -10.042969 L 5.34375 -10.042969 C 6.519531 -10.042969 7.359375 -9.691406 7.855469 -8.988281 C 8.148438 -8.574219 8.292969 -8.097656 8.292969 -7.554688 C 8.292969 -6.921875 8.113281 -6.402344 7.75 -5.996094 C 7.5625 -5.78125 7.296875 -5.585938 6.945312 -5.40625 C 7.460938 -5.210938 7.84375 -4.992188 8.101562 -4.742188 C 8.550781 -4.304688 8.777344 -3.703125 8.777344 -2.933594 C 8.777344 -2.285156 8.574219 -1.699219 8.167969 -1.175781 C 7.5625 -0.390625 6.597656 0 5.277344 0 L 1.03125 0 Z M 1.03125 -10.042969 \"/>\n",
       "</symbol>\n",
       "<symbol overflow=\"visible\" id=\"glyph0-17\">\n",
       "<path style=\"stroke:none;\" d=\"M 1.066406 -10.042969 L 2.425781 -10.042969 L 2.425781 -1.195312 L 7.511719 -1.195312 L 7.511719 0 L 1.066406 0 Z M 1.066406 -10.042969 \"/>\n",
       "</symbol>\n",
       "<symbol overflow=\"visible\" id=\"glyph0-18\">\n",
       "<path style=\"stroke:none;\" d=\"M 4.921875 -1.164062 C 5.382812 -1.164062 5.761719 -1.210938 6.054688 -1.304688 C 6.585938 -1.484375 7.019531 -1.824219 7.355469 -2.332031 C 7.625 -2.738281 7.816406 -3.257812 7.9375 -3.890625 C 8.003906 -4.269531 8.039062 -4.617188 8.039062 -4.941406 C 8.039062 -6.1875 7.792969 -7.152344 7.296875 -7.839844 C 6.804688 -8.527344 6.007812 -8.875 4.90625 -8.875 L 2.496094 -8.875 L 2.496094 -1.164062 Z M 1.128906 -10.042969 L 5.195312 -10.042969 C 6.578125 -10.042969 7.648438 -9.550781 8.40625 -8.570312 C 9.085938 -7.6875 9.425781 -6.554688 9.425781 -5.175781 C 9.425781 -4.109375 9.226562 -3.144531 8.824219 -2.28125 C 8.117188 -0.761719 6.90625 0 5.179688 0 L 1.128906 0 Z M 1.128906 -10.042969 \"/>\n",
       "</symbol>\n",
       "<symbol overflow=\"visible\" id=\"glyph0-19\">\n",
       "<path style=\"stroke:none;\" d=\"M 0.289062 -10.042969 L 1.875 -10.042969 L 4.757812 -5.214844 L 7.640625 -10.042969 L 9.234375 -10.042969 L 5.441406 -4.046875 L 5.441406 0 L 4.082031 0 L 4.082031 -4.046875 Z M 0.289062 -10.042969 \"/>\n",
       "</symbol>\n",
       "<symbol overflow=\"visible\" id=\"glyph0-20\">\n",
       "<path style=\"stroke:none;\" d=\"M 1.195312 -10.042969 L 8.515625 -10.042969 L 8.515625 -8.8125 L 2.523438 -8.8125 L 2.523438 -5.761719 L 8.066406 -5.761719 L 8.066406 -4.601562 L 2.523438 -4.601562 L 2.523438 -1.195312 L 8.621094 -1.195312 L 8.621094 0 L 1.195312 0 Z M 1.195312 -10.042969 \"/>\n",
       "</symbol>\n",
       "<symbol overflow=\"visible\" id=\"glyph0-21\">\n",
       "<path style=\"stroke:none;\" d=\"M 5.398438 -10.316406 C 7.171875 -10.316406 8.484375 -9.746094 9.335938 -8.605469 C 10.003906 -7.71875 10.335938 -6.582031 10.335938 -5.195312 C 10.335938 -3.695312 9.957031 -2.449219 9.195312 -1.457031 C 8.300781 -0.289062 7.027344 0.292969 5.375 0.292969 C 3.828125 0.292969 2.613281 -0.214844 1.730469 -1.238281 C 0.941406 -2.222656 0.546875 -3.464844 0.546875 -4.96875 C 0.546875 -6.328125 0.882812 -7.488281 1.558594 -8.457031 C 2.425781 -9.695312 3.703125 -10.316406 5.398438 -10.316406 Z M 5.539062 -0.921875 C 6.734375 -0.921875 7.601562 -1.351562 8.136719 -2.210938 C 8.671875 -3.070312 8.941406 -4.058594 8.941406 -5.175781 C 8.941406 -6.355469 8.632812 -7.304688 8.015625 -8.023438 C 7.398438 -8.746094 6.554688 -9.105469 5.484375 -9.105469 C 4.445312 -9.105469 3.59375 -8.75 2.9375 -8.035156 C 2.28125 -7.320312 1.953125 -6.269531 1.953125 -4.882812 C 1.953125 -3.769531 2.238281 -2.832031 2.800781 -2.066406 C 3.363281 -1.304688 4.273438 -0.921875 5.539062 -0.921875 Z M 5.539062 -0.921875 \"/>\n",
       "</symbol>\n",
       "<symbol overflow=\"visible\" id=\"glyph0-22\">\n",
       "<path style=\"stroke:none;\" d=\"M 1.953125 -3.242188 C 1.984375 -2.671875 2.121094 -2.207031 2.359375 -1.851562 C 2.808594 -1.1875 3.605469 -0.855469 4.742188 -0.855469 C 5.253906 -0.855469 5.71875 -0.925781 6.140625 -1.074219 C 6.949219 -1.355469 7.355469 -1.863281 7.355469 -2.589844 C 7.355469 -3.136719 7.183594 -3.527344 6.84375 -3.757812 C 6.496094 -3.988281 5.953125 -4.1875 5.214844 -4.355469 L 3.855469 -4.664062 C 2.96875 -4.863281 2.335938 -5.082031 1.96875 -5.324219 C 1.332031 -5.742188 1.011719 -6.371094 1.011719 -7.203125 C 1.011719 -8.105469 1.324219 -8.847656 1.949219 -9.425781 C 2.574219 -10.003906 3.457031 -10.296875 4.601562 -10.296875 C 5.652344 -10.296875 6.546875 -10.039062 7.285156 -9.53125 C 8.019531 -9.023438 8.386719 -8.210938 8.386719 -7.09375 L 7.109375 -7.09375 C 7.039062 -7.632812 6.894531 -8.046875 6.671875 -8.332031 C 6.257812 -8.855469 5.554688 -9.117188 4.558594 -9.117188 C 3.757812 -9.117188 3.179688 -8.949219 2.828125 -8.613281 C 2.476562 -8.277344 2.304688 -7.882812 2.304688 -7.4375 C 2.304688 -6.945312 2.507812 -6.585938 2.917969 -6.359375 C 3.1875 -6.210938 3.796875 -6.03125 4.742188 -5.8125 L 6.152344 -5.488281 C 6.832031 -5.335938 7.355469 -5.121094 7.726562 -4.851562 C 8.363281 -4.382812 8.679688 -3.703125 8.679688 -2.808594 C 8.679688 -1.695312 8.277344 -0.902344 7.46875 -0.421875 C 6.660156 0.0546875 5.71875 0.292969 4.648438 0.292969 C 3.398438 0.292969 2.421875 -0.0234375 1.714844 -0.664062 C 1.007812 -1.296875 0.664062 -2.15625 0.675781 -3.242188 Z M 1.953125 -3.242188 \"/>\n",
       "</symbol>\n",
       "<symbol overflow=\"visible\" id=\"glyph0-23\">\n",
       "<path style=\"stroke:none;\" d=\"M 1.859375 -10.042969 L 4.742188 -1.492188 L 7.59375 -10.042969 L 9.117188 -10.042969 L 5.453125 0 L 4.011719 0 L 0.355469 -10.042969 Z M 1.859375 -10.042969 \"/>\n",
       "</symbol>\n",
       "<symbol overflow=\"visible\" id=\"glyph0-24\">\n",
       "<path style=\"stroke:none;\" d=\"M 1.929688 0 L 0.289062 0 L 3.882812 -5.148438 L 0.511719 -10.042969 L 2.214844 -10.042969 L 4.777344 -6.199219 L 7.320312 -10.042969 L 8.941406 -10.042969 L 5.570312 -5.148438 L 9.105469 0 L 7.417969 0 L 4.710938 -4.128906 Z M 1.929688 0 \"/>\n",
       "</symbol>\n",
       "<symbol overflow=\"visible\" id=\"glyph0-25\">\n",
       "<path style=\"stroke:none;\" d=\"M 1.730469 -10.042969 L 3.625 -1.875 L 5.890625 -10.042969 L 7.367188 -10.042969 L 9.640625 -1.875 L 11.53125 -10.042969 L 13.023438 -10.042969 L 10.382812 0 L 8.953125 0 L 6.636719 -8.328125 L 4.304688 0 L 2.878906 0 L 0.253906 -10.042969 Z M 1.730469 -10.042969 \"/>\n",
       "</symbol>\n",
       "<symbol overflow=\"visible\" id=\"glyph0-26\">\n",
       "<path style=\"stroke:none;\" d=\"M 10.253906 -0.0273438 L 9.570312 0.800781 L 8.019531 -0.382812 C 7.644531 -0.179688 7.242188 -0.015625 6.804688 0.109375 C 6.371094 0.234375 5.894531 0.292969 5.378906 0.292969 C 3.820312 0.292969 2.601562 -0.214844 1.714844 -1.238281 C 0.9375 -2.230469 0.546875 -3.476562 0.546875 -4.96875 C 0.546875 -6.328125 0.882812 -7.488281 1.558594 -8.457031 C 2.425781 -9.695312 3.703125 -10.316406 5.398438 -10.316406 C 7.171875 -10.316406 8.484375 -9.746094 9.335938 -8.605469 C 10.003906 -7.71875 10.335938 -6.582031 10.335938 -5.195312 C 10.335938 -4.546875 10.257812 -3.925781 10.097656 -3.328125 C 9.855469 -2.417969 9.445312 -1.675781 8.875 -1.101562 Z M 5.542969 -0.921875 C 5.828125 -0.921875 6.089844 -0.941406 6.335938 -0.980469 C 6.582031 -1.019531 6.796875 -1.097656 6.980469 -1.210938 L 5.878906 -2.070312 L 6.5625 -2.914062 L 7.875 -1.894531 C 8.289062 -2.367188 8.570312 -2.898438 8.71875 -3.484375 C 8.867188 -4.074219 8.941406 -4.636719 8.941406 -5.175781 C 8.941406 -6.355469 8.632812 -7.304688 8.015625 -8.023438 C 7.398438 -8.746094 6.554688 -9.105469 5.484375 -9.105469 C 4.398438 -9.105469 3.539062 -8.761719 2.90625 -8.070312 C 2.273438 -7.378906 1.953125 -6.316406 1.953125 -4.882812 C 1.953125 -3.671875 2.257812 -2.710938 2.867188 -1.996094 C 3.476562 -1.28125 4.367188 -0.921875 5.542969 -0.921875 Z M 5.542969 -0.921875 \"/>\n",
       "</symbol>\n",
       "</g>\n",
       "</defs>\n",
       "<g id=\"surface14\">\n",
       "<rect x=\"0\" y=\"0\" width=\"600\" height=\"600\" style=\"fill:rgb(100%,100%,100%);fill-opacity:1;stroke:none;\"/>\n",
       "<path style=\"fill:none;stroke-width:1;stroke-linecap:butt;stroke-linejoin:miter;stroke:rgb(26.666667%,26.666667%,26.666667%);stroke-opacity:1;stroke-miterlimit:10;\" d=\"M 307.203125 247.335938 C 328.492188 259.367188 347.894531 256.84375 365.402344 239.773438 \"/>\n",
       "<path style=\"fill:none;stroke-width:1;stroke-linecap:butt;stroke-linejoin:miter;stroke:rgb(26.666667%,26.666667%,26.666667%);stroke-opacity:1;stroke-miterlimit:10;\" d=\"M 307.203125 247.335938 C 295.363281 228.027344 278.515625 221.347656 256.660156 227.308594 \"/>\n",
       "<path style=\"fill:none;stroke-width:1;stroke-linecap:butt;stroke-linejoin:miter;stroke:rgb(26.666667%,26.666667%,26.666667%);stroke-opacity:1;stroke-miterlimit:10;\" d=\"M 307.203125 247.335938 C 315.652344 249.820312 322.253906 247.355469 327.003906 239.9375 \"/>\n",
       "<path style=\"fill:none;stroke-width:1;stroke-linecap:butt;stroke-linejoin:miter;stroke:rgb(26.666667%,26.666667%,26.666667%);stroke-opacity:1;stroke-miterlimit:10;\" d=\"M 307.203125 247.335938 C 313.757812 257.535156 322.847656 260.914062 334.472656 257.476562 \"/>\n",
       "<path style=\"fill:none;stroke-width:1;stroke-linecap:butt;stroke-linejoin:miter;stroke:rgb(26.666667%,26.666667%,26.666667%);stroke-opacity:1;stroke-miterlimit:10;\" d=\"M 307.203125 247.335938 C 304.835938 237.402344 298.550781 232.175781 288.351562 231.667969 \"/>\n",
       "<path style=\"fill:none;stroke-width:1;stroke-linecap:butt;stroke-linejoin:miter;stroke:rgb(26.666667%,26.666667%,26.666667%);stroke-opacity:1;stroke-miterlimit:10;\" d=\"M 307.203125 247.335938 C 312.074219 245.082031 314.109375 241.300781 313.3125 235.992188 \"/>\n",
       "<path style=\"fill:none;stroke-width:1;stroke-linecap:butt;stroke-linejoin:miter;stroke:rgb(26.666667%,26.666667%,26.666667%);stroke-opacity:1;stroke-miterlimit:10;\" d=\"M 155.949219 126.148438 C 159.648438 141.609375 169.4375 149.726562 185.3125 150.5 \"/>\n",
       "<path style=\"fill:none;stroke-width:1;stroke-linecap:butt;stroke-linejoin:miter;stroke:rgb(26.666667%,26.666667%,26.666667%);stroke-opacity:1;stroke-miterlimit:10;\" d=\"M 155.949219 126.148438 C 164.433594 131.058594 172.21875 130.128906 179.308594 123.359375 \"/>\n",
       "<path style=\"fill:none;stroke-width:1;stroke-linecap:butt;stroke-linejoin:miter;stroke:rgb(26.666667%,26.666667%,26.666667%);stroke-opacity:1;stroke-miterlimit:10;\" d=\"M 251.136719 463.238281 C 250.597656 471.289062 254.113281 476.699219 261.691406 479.46875 \"/>\n",
       "<path style=\"fill:none;stroke-width:1;stroke-linecap:butt;stroke-linejoin:miter;stroke:rgb(26.666667%,26.666667%,26.666667%);stroke-opacity:1;stroke-miterlimit:10;\" d=\"M 251.136719 463.238281 C 269.222656 453.398438 276.078125 438.417969 271.691406 418.296875 \"/>\n",
       "<path style=\"fill:none;stroke-width:1;stroke-linecap:butt;stroke-linejoin:miter;stroke:rgb(26.666667%,26.666667%,26.666667%);stroke-opacity:1;stroke-miterlimit:10;\" d=\"M 251.136719 463.238281 C 270.640625 462.089844 282.570312 451.988281 286.929688 432.941406 \"/>\n",
       "<path style=\"fill:none;stroke-width:1;stroke-linecap:butt;stroke-linejoin:miter;stroke:rgb(26.666667%,26.666667%,26.666667%);stroke-opacity:1;stroke-miterlimit:10;\" d=\"M 251.136719 463.238281 C 231.863281 467.707031 221.671875 479.816406 220.5625 499.570312 \"/>\n",
       "<path style=\"fill:none;stroke-width:1;stroke-linecap:butt;stroke-linejoin:miter;stroke:rgb(26.666667%,26.666667%,26.666667%);stroke-opacity:1;stroke-miterlimit:10;\" d=\"M 251.136719 463.238281 C 259.863281 464.292969 265.953125 460.78125 269.410156 452.699219 \"/>\n",
       "<path style=\"fill:none;stroke-width:1;stroke-linecap:butt;stroke-linejoin:miter;stroke:rgb(26.666667%,26.666667%,26.666667%);stroke-opacity:1;stroke-miterlimit:10;\" d=\"M 251.136719 463.238281 C 239.417969 466.738281 233.601562 474.605469 233.679688 486.832031 \"/>\n",
       "<path style=\"fill:none;stroke-width:1;stroke-linecap:butt;stroke-linejoin:miter;stroke:rgb(26.666667%,26.666667%,26.666667%);stroke-opacity:1;stroke-miterlimit:10;\" d=\"M 504.078125 121.785156 C 492.976562 110.875 480.632812 109.222656 467.046875 116.824219 \"/>\n",
       "<path style=\"fill:none;stroke-width:1;stroke-linecap:butt;stroke-linejoin:miter;stroke:rgb(26.666667%,26.666667%,26.666667%);stroke-opacity:1;stroke-miterlimit:10;\" d=\"M 467.011719 557.003906 C 475.261719 551.890625 478.085938 544.660156 475.488281 535.308594 \"/>\n",
       "<path style=\"fill:none;stroke-width:1;stroke-linecap:butt;stroke-linejoin:miter;stroke:rgb(26.666667%,26.666667%,26.666667%);stroke-opacity:1;stroke-miterlimit:10;\" d=\"M 467.011719 557.003906 C 464.125 544.644531 456.347656 538.121094 443.675781 537.429688 \"/>\n",
       "<path style=\"fill:none;stroke-width:1;stroke-linecap:butt;stroke-linejoin:miter;stroke:rgb(26.666667%,26.666667%,26.666667%);stroke-opacity:1;stroke-miterlimit:10;\" d=\"M 131.90625 508.964844 C 133.355469 500.835938 130.378906 494.9375 122.976562 491.273438 \"/>\n",
       "<path style=\"fill:none;stroke-width:1;stroke-linecap:butt;stroke-linejoin:miter;stroke:rgb(26.666667%,26.666667%,26.666667%);stroke-opacity:1;stroke-miterlimit:10;\" d=\"M 131.90625 508.964844 C 125.660156 496.367188 115.617188 491.304688 101.773438 493.773438 \"/>\n",
       "<path style=\"fill:none;stroke-width:1;stroke-linecap:butt;stroke-linejoin:miter;stroke:rgb(26.666667%,26.666667%,26.666667%);stroke-opacity:1;stroke-miterlimit:10;\" d=\"M 131.90625 508.964844 C 140.964844 501.71875 143.285156 492.734375 138.867188 482.011719 \"/>\n",
       "<path style=\"fill:none;stroke-width:1;stroke-linecap:butt;stroke-linejoin:miter;stroke:rgb(26.666667%,26.666667%,26.666667%);stroke-opacity:1;stroke-miterlimit:10;\" d=\"M 131.90625 508.964844 C 124.792969 506.652344 119.132812 508.585938 114.921875 514.769531 \"/>\n",
       "<path style=\"fill:none;stroke-width:1;stroke-linecap:butt;stroke-linejoin:miter;stroke:rgb(26.666667%,26.666667%,26.666667%);stroke-opacity:1;stroke-miterlimit:10;\" d=\"M 131.90625 508.964844 C 123.992188 513.984375 121.339844 520.996094 123.941406 529.996094 \"/>\n",
       "<path style=\"fill:none;stroke-width:1;stroke-linecap:butt;stroke-linejoin:miter;stroke:rgb(26.666667%,26.666667%,26.666667%);stroke-opacity:1;stroke-miterlimit:10;\" d=\"M 233.625 202.515625 C 243.515625 204.945312 251.011719 201.753906 256.109375 192.9375 \"/>\n",
       "<path style=\"fill:none;stroke-width:1;stroke-linecap:butt;stroke-linejoin:miter;stroke:rgb(26.666667%,26.666667%,26.666667%);stroke-opacity:1;stroke-miterlimit:10;\" d=\"M 233.625 202.515625 C 245.515625 198.839844 251.363281 190.78125 251.164062 178.335938 \"/>\n",
       "<path style=\"fill:none;stroke-width:1;stroke-linecap:butt;stroke-linejoin:miter;stroke:rgb(26.666667%,26.666667%,26.666667%);stroke-opacity:1;stroke-miterlimit:10;\" d=\"M 256.660156 227.308594 C 255.179688 213.285156 247.503906 205.019531 233.625 202.515625 \"/>\n",
       "<path style=\"fill:none;stroke-width:1;stroke-linecap:butt;stroke-linejoin:miter;stroke:rgb(26.666667%,26.666667%,26.666667%);stroke-opacity:1;stroke-miterlimit:10;\" d=\"M 233.625 202.515625 C 227.980469 196.492188 221.476562 195.347656 214.113281 199.082031 \"/>\n",
       "<path style=\"fill:none;stroke-width:1;stroke-linecap:butt;stroke-linejoin:miter;stroke:rgb(26.666667%,26.666667%,26.666667%);stroke-opacity:1;stroke-miterlimit:10;\" d=\"M 393.359375 88.714844 C 385.628906 94.90625 383.652344 102.574219 387.425781 111.730469 \"/>\n",
       "<path style=\"fill:none;stroke-width:1;stroke-linecap:butt;stroke-linejoin:miter;stroke:rgb(26.666667%,26.666667%,26.666667%);stroke-opacity:1;stroke-miterlimit:10;\" d=\"M 393.359375 88.714844 C 394.945312 107.109375 404.789062 118.117188 422.886719 121.746094 \"/>\n",
       "<path style=\"fill:none;stroke-width:1;stroke-linecap:butt;stroke-linejoin:miter;stroke:rgb(26.666667%,26.666667%,26.666667%);stroke-opacity:1;stroke-miterlimit:10;\" d=\"M 393.359375 88.714844 C 378.871094 71.921875 361.539062 68.128906 341.359375 77.335938 \"/>\n",
       "<path style=\"fill:none;stroke-width:1;stroke-linecap:butt;stroke-linejoin:miter;stroke:rgb(26.666667%,26.666667%,26.666667%);stroke-opacity:1;stroke-miterlimit:10;\" d=\"M 393.359375 88.714844 C 406.871094 93.789062 417.949219 90.546875 426.601562 78.996094 \"/>\n",
       "<path style=\"fill:none;stroke-width:1;stroke-linecap:butt;stroke-linejoin:miter;stroke:rgb(26.666667%,26.666667%,26.666667%);stroke-opacity:1;stroke-miterlimit:10;\" d=\"M 393.359375 88.714844 C 379.996094 83.027344 368.714844 85.804688 359.511719 97.039062 \"/>\n",
       "<path style=\"fill:none;stroke-width:1;stroke-linecap:butt;stroke-linejoin:miter;stroke:rgb(26.666667%,26.666667%,26.666667%);stroke-opacity:1;stroke-miterlimit:10;\" d=\"M 393.359375 88.714844 C 395.570312 76.675781 391.203125 67.90625 380.261719 62.410156 \"/>\n",
       "<path style=\"fill:none;stroke-width:1;stroke-linecap:butt;stroke-linejoin:miter;stroke:rgb(26.666667%,26.666667%,26.666667%);stroke-opacity:1;stroke-miterlimit:10;\" d=\"M 393.359375 88.714844 C 403.976562 101.695312 417.003906 104.902344 432.4375 98.34375 \"/>\n",
       "<path style=\"fill:none;stroke-width:1;stroke-linecap:butt;stroke-linejoin:miter;stroke:rgb(26.666667%,26.666667%,26.666667%);stroke-opacity:1;stroke-miterlimit:10;\" d=\"M 233.625 202.515625 C 238.726562 193.703125 246.222656 190.507812 256.109375 192.9375 \"/>\n",
       "<path style=\"fill:none;stroke-width:1;stroke-linecap:butt;stroke-linejoin:miter;stroke:rgb(26.666667%,26.666667%,26.666667%);stroke-opacity:1;stroke-miterlimit:10;\" d=\"M 256.109375 192.9375 C 258.113281 186.835938 256.464844 181.96875 251.164062 178.335938 \"/>\n",
       "<path style=\"fill:none;stroke-width:1;stroke-linecap:butt;stroke-linejoin:miter;stroke:rgb(26.666667%,26.666667%,26.666667%);stroke-opacity:1;stroke-miterlimit:10;\" d=\"M 256.660156 227.308594 C 265.070312 215.714844 264.886719 204.257812 256.109375 192.9375 \"/>\n",
       "<path style=\"fill:none;stroke-width:1;stroke-linecap:butt;stroke-linejoin:miter;stroke:rgb(26.666667%,26.666667%,26.666667%);stroke-opacity:1;stroke-miterlimit:10;\" d=\"M 256.109375 192.9375 C 280.53125 197.027344 298.125 187.917969 308.886719 165.621094 \"/>\n",
       "<path style=\"fill:none;stroke-width:1;stroke-linecap:butt;stroke-linejoin:miter;stroke:rgb(26.666667%,26.666667%,26.666667%);stroke-opacity:1;stroke-miterlimit:10;\" d=\"M 256.109375 192.9375 C 240.574219 184.484375 226.574219 186.535156 214.113281 199.082031 \"/>\n",
       "<path style=\"fill:none;stroke-width:1;stroke-linecap:butt;stroke-linejoin:miter;stroke:rgb(26.666667%,26.666667%,26.666667%);stroke-opacity:1;stroke-miterlimit:10;\" d=\"M 434.949219 236.964844 C 418.917969 226.835938 403.792969 228.046875 389.578125 240.601562 \"/>\n",
       "<path style=\"fill:none;stroke-width:1;stroke-linecap:butt;stroke-linejoin:miter;stroke:rgb(26.666667%,26.666667%,26.666667%);stroke-opacity:1;stroke-miterlimit:10;\" d=\"M 434.949219 236.964844 C 426.578125 239.496094 422.4375 245.136719 422.523438 253.878906 \"/>\n",
       "<path style=\"fill:none;stroke-width:1;stroke-linecap:butt;stroke-linejoin:miter;stroke:rgb(26.666667%,26.666667%,26.666667%);stroke-opacity:1;stroke-miterlimit:10;\" d=\"M 324.734375 129.984375 C 316 128.402344 309.648438 131.582031 305.6875 139.523438 \"/>\n",
       "<path style=\"fill:none;stroke-width:1;stroke-linecap:butt;stroke-linejoin:miter;stroke:rgb(26.666667%,26.666667%,26.666667%);stroke-opacity:1;stroke-miterlimit:10;\" d=\"M 324.734375 129.984375 C 323.367188 136.484375 325.613281 141.296875 331.46875 144.425781 \"/>\n",
       "<path style=\"fill:none;stroke-width:1;stroke-linecap:butt;stroke-linejoin:miter;stroke:rgb(26.666667%,26.666667%,26.666667%);stroke-opacity:1;stroke-miterlimit:10;\" d=\"M 324.734375 129.984375 C 336.011719 137.191406 346.691406 136.390625 356.769531 127.582031 \"/>\n",
       "<path style=\"fill:none;stroke-width:1;stroke-linecap:butt;stroke-linejoin:miter;stroke:rgb(26.666667%,26.666667%,26.666667%);stroke-opacity:1;stroke-miterlimit:10;\" d=\"M 308.886719 165.621094 C 323.078125 157.703125 328.359375 145.824219 324.734375 129.984375 \"/>\n",
       "<path style=\"fill:none;stroke-width:1;stroke-linecap:butt;stroke-linejoin:miter;stroke:rgb(26.666667%,26.666667%,26.666667%);stroke-opacity:1;stroke-miterlimit:10;\" d=\"M 324.734375 129.984375 C 329.046875 120.925781 327.460938 113.058594 319.972656 106.382812 \"/>\n",
       "<path style=\"fill:none;stroke-width:1;stroke-linecap:butt;stroke-linejoin:miter;stroke:rgb(26.666667%,26.666667%,26.666667%);stroke-opacity:1;stroke-miterlimit:10;\" d=\"M 467.046875 116.824219 C 460.132812 117.027344 455.804688 120.476562 454.0625 127.171875 \"/>\n",
       "<path style=\"fill:none;stroke-width:1;stroke-linecap:butt;stroke-linejoin:miter;stroke:rgb(26.666667%,26.666667%,26.666667%);stroke-opacity:1;stroke-miterlimit:10;\" d=\"M 422.886719 121.746094 C 431.921875 131.347656 442.3125 133.15625 454.0625 127.171875 \"/>\n",
       "<path style=\"fill:none;stroke-width:1;stroke-linecap:butt;stroke-linejoin:miter;stroke:rgb(26.666667%,26.666667%,26.666667%);stroke-opacity:1;stroke-miterlimit:10;\" d=\"M 454.0625 127.171875 C 453.703125 133.558594 456.535156 137.820312 462.566406 139.953125 \"/>\n",
       "<path style=\"fill:none;stroke-width:1;stroke-linecap:butt;stroke-linejoin:miter;stroke:rgb(26.666667%,26.666667%,26.666667%);stroke-opacity:1;stroke-miterlimit:10;\" d=\"M 454.0625 127.171875 C 459.199219 120.375 459.222656 113.558594 454.132812 106.726562 \"/>\n",
       "<path style=\"fill:none;stroke-width:1;stroke-linecap:butt;stroke-linejoin:miter;stroke:rgb(26.666667%,26.666667%,26.666667%);stroke-opacity:1;stroke-miterlimit:10;\" d=\"M 20 289.804688 C 21.445312 299.488281 27.023438 304.992188 36.726562 306.316406 \"/>\n",
       "<path style=\"fill:none;stroke-width:1;stroke-linecap:butt;stroke-linejoin:miter;stroke:rgb(26.666667%,26.666667%,26.666667%);stroke-opacity:1;stroke-miterlimit:10;\" d=\"M 20 289.804688 C 27.960938 288.503906 32.433594 283.851562 33.417969 275.84375 \"/>\n",
       "<path style=\"fill:none;stroke-width:1;stroke-linecap:butt;stroke-linejoin:miter;stroke:rgb(26.666667%,26.666667%,26.666667%);stroke-opacity:1;stroke-miterlimit:10;\" d=\"M 250.964844 441.875 C 254.332031 431.363281 251.441406 423.019531 242.292969 416.84375 \"/>\n",
       "<path style=\"fill:none;stroke-width:1;stroke-linecap:butt;stroke-linejoin:miter;stroke:rgb(26.666667%,26.666667%,26.666667%);stroke-opacity:1;stroke-miterlimit:10;\" d=\"M 269.410156 452.699219 C 265.96875 444.480469 259.820312 440.871094 250.964844 441.875 \"/>\n",
       "<path style=\"fill:none;stroke-width:1;stroke-linecap:butt;stroke-linejoin:miter;stroke:rgb(26.666667%,26.666667%,26.666667%);stroke-opacity:1;stroke-miterlimit:10;\" d=\"M 250.964844 441.875 C 260.484375 459.828125 275.195312 466.75 295.09375 462.636719 \"/>\n",
       "<path style=\"fill:none;stroke-width:1;stroke-linecap:butt;stroke-linejoin:miter;stroke:rgb(26.666667%,26.666667%,26.666667%);stroke-opacity:1;stroke-miterlimit:10;\" d=\"M 250.964844 441.875 C 244.210938 425.941406 232.238281 418.988281 215.054688 421.011719 \"/>\n",
       "<path style=\"fill:none;stroke-width:1;stroke-linecap:butt;stroke-linejoin:miter;stroke:rgb(26.666667%,26.666667%,26.666667%);stroke-opacity:1;stroke-miterlimit:10;\" d=\"M 365.402344 239.773438 C 381.117188 242.726562 392.589844 237.078125 399.828125 222.820312 \"/>\n",
       "<path style=\"fill:none;stroke-width:1;stroke-linecap:butt;stroke-linejoin:miter;stroke:rgb(26.666667%,26.666667%,26.666667%);stroke-opacity:1;stroke-miterlimit:10;\" d=\"M 389.578125 240.601562 C 397.441406 237.238281 400.855469 231.308594 399.828125 222.820312 \"/>\n",
       "<path style=\"fill:none;stroke-width:1;stroke-linecap:butt;stroke-linejoin:miter;stroke:rgb(26.666667%,26.666667%,26.666667%);stroke-opacity:1;stroke-miterlimit:10;\" d=\"M 131.90625 508.964844 C 124.507812 505.300781 121.53125 499.402344 122.976562 491.273438 \"/>\n",
       "<path style=\"fill:none;stroke-width:1;stroke-linecap:butt;stroke-linejoin:miter;stroke:rgb(26.666667%,26.666667%,26.666667%);stroke-opacity:1;stroke-miterlimit:10;\" d=\"M 122.976562 491.273438 C 115.285156 486.804688 108.214844 487.636719 101.773438 493.773438 \"/>\n",
       "<path style=\"fill:none;stroke-width:1;stroke-linecap:butt;stroke-linejoin:miter;stroke:rgb(26.666667%,26.666667%,26.666667%);stroke-opacity:1;stroke-miterlimit:10;\" d=\"M 122.976562 491.273438 C 130.589844 492.15625 135.886719 489.070312 138.867188 482.011719 \"/>\n",
       "<path style=\"fill:none;stroke-width:1;stroke-linecap:butt;stroke-linejoin:miter;stroke:rgb(26.666667%,26.666667%,26.666667%);stroke-opacity:1;stroke-miterlimit:10;\" d=\"M 122.976562 491.273438 C 114.417969 497.089844 111.734375 504.921875 114.921875 514.769531 \"/>\n",
       "<path style=\"fill:none;stroke-width:1;stroke-linecap:butt;stroke-linejoin:miter;stroke:rgb(26.666667%,26.666667%,26.666667%);stroke-opacity:1;stroke-miterlimit:10;\" d=\"M 122.976562 491.273438 C 126.472656 480.21875 123.402344 471.464844 113.769531 465.015625 \"/>\n",
       "<path style=\"fill:none;stroke-width:1;stroke-linecap:butt;stroke-linejoin:miter;stroke:rgb(26.666667%,26.666667%,26.666667%);stroke-opacity:1;stroke-miterlimit:10;\" d=\"M 324.851562 20 C 326.886719 33.351562 334.597656 40.921875 347.984375 42.707031 \"/>\n",
       "<path style=\"fill:none;stroke-width:1;stroke-linecap:butt;stroke-linejoin:miter;stroke:rgb(26.666667%,26.666667%,26.666667%);stroke-opacity:1;stroke-miterlimit:10;\" d=\"M 475.488281 535.308594 C 479.59375 530.628906 479.976562 525.664062 476.632812 520.410156 \"/>\n",
       "<path style=\"fill:none;stroke-width:1;stroke-linecap:butt;stroke-linejoin:miter;stroke:rgb(26.666667%,26.666667%,26.666667%);stroke-opacity:1;stroke-miterlimit:10;\" d=\"M 476.632812 520.410156 C 480.972656 513.367188 480.371094 506.777344 474.824219 500.640625 \"/>\n",
       "<path style=\"fill:none;stroke-width:1;stroke-linecap:butt;stroke-linejoin:miter;stroke:rgb(26.666667%,26.666667%,26.666667%);stroke-opacity:1;stroke-miterlimit:10;\" d=\"M 443.675781 537.429688 C 458.917969 539.996094 469.902344 534.320312 476.632812 520.410156 \"/>\n",
       "<path style=\"fill:none;stroke-width:1;stroke-linecap:butt;stroke-linejoin:miter;stroke:rgb(26.666667%,26.666667%,26.666667%);stroke-opacity:1;stroke-miterlimit:10;\" d=\"M 476.632812 520.410156 C 472.292969 513.6875 466.285156 511.472656 458.617188 513.757812 \"/>\n",
       "<path style=\"fill:none;stroke-width:1;stroke-linecap:butt;stroke-linejoin:miter;stroke:rgb(26.666667%,26.666667%,26.666667%);stroke-opacity:1;stroke-miterlimit:10;\" d=\"M 131.90625 508.964844 C 118.0625 511.433594 108.019531 506.371094 101.773438 493.773438 \"/>\n",
       "<path style=\"fill:none;stroke-width:1;stroke-linecap:butt;stroke-linejoin:miter;stroke:rgb(26.666667%,26.666667%,26.666667%);stroke-opacity:1;stroke-miterlimit:10;\" d=\"M 122.976562 491.273438 C 116.535156 497.40625 109.464844 498.238281 101.773438 493.773438 \"/>\n",
       "<path style=\"fill:none;stroke-width:1;stroke-linecap:butt;stroke-linejoin:miter;stroke:rgb(26.666667%,26.666667%,26.666667%);stroke-opacity:1;stroke-miterlimit:10;\" d=\"M 101.773438 493.773438 C 107.988281 476.738281 103.789062 462.855469 89.175781 452.121094 \"/>\n",
       "<path style=\"fill:none;stroke-width:1;stroke-linecap:butt;stroke-linejoin:miter;stroke:rgb(26.666667%,26.666667%,26.666667%);stroke-opacity:1;stroke-miterlimit:10;\" d=\"M 101.773438 493.773438 C 92.308594 486.394531 82.710938 486.214844 72.976562 493.238281 \"/>\n",
       "<path style=\"fill:none;stroke-width:1;stroke-linecap:butt;stroke-linejoin:miter;stroke:rgb(26.666667%,26.666667%,26.666667%);stroke-opacity:1;stroke-miterlimit:10;\" d=\"M 101.773438 493.773438 C 100.90625 504.058594 105.289062 511.054688 114.921875 514.769531 \"/>\n",
       "<path style=\"fill:none;stroke-width:1;stroke-linecap:butt;stroke-linejoin:miter;stroke:rgb(26.666667%,26.666667%,26.666667%);stroke-opacity:1;stroke-miterlimit:10;\" d=\"M 101.773438 493.773438 C 112.960938 487.1875 116.960938 477.601562 113.769531 465.015625 \"/>\n",
       "<path style=\"fill:none;stroke-width:1;stroke-linecap:butt;stroke-linejoin:miter;stroke:rgb(26.666667%,26.666667%,26.666667%);stroke-opacity:1;stroke-miterlimit:10;\" d=\"M 101.773438 493.773438 C 89.691406 494.675781 82.390625 501.054688 79.875 512.90625 \"/>\n",
       "<path style=\"fill:none;stroke-width:1;stroke-linecap:butt;stroke-linejoin:miter;stroke:rgb(26.666667%,26.666667%,26.666667%);stroke-opacity:1;stroke-miterlimit:10;\" d=\"M 101.773438 493.773438 C 100.105469 511.390625 107.496094 523.464844 123.941406 529.996094 \"/>\n",
       "<path style=\"fill:none;stroke-width:1;stroke-linecap:butt;stroke-linejoin:miter;stroke:rgb(26.666667%,26.666667%,26.666667%);stroke-opacity:1;stroke-miterlimit:10;\" d=\"M 101.773438 493.773438 C 98.863281 480.445312 90.601562 473.3125 76.992188 472.375 \"/>\n",
       "<path style=\"fill:none;stroke-width:1;stroke-linecap:butt;stroke-linejoin:miter;stroke:rgb(26.666667%,26.666667%,26.666667%);stroke-opacity:1;stroke-miterlimit:10;\" d=\"M 541.570312 273.375 C 528.761719 274.582031 521.148438 281.503906 518.722656 294.132812 \"/>\n",
       "<path style=\"fill:none;stroke-width:1;stroke-linecap:butt;stroke-linejoin:miter;stroke:rgb(26.666667%,26.666667%,26.666667%);stroke-opacity:1;stroke-miterlimit:10;\" d=\"M 185.3125 150.5 C 200.027344 153.710938 210.988281 148.703125 218.191406 135.476562 \"/>\n",
       "<path style=\"fill:none;stroke-width:1;stroke-linecap:butt;stroke-linejoin:miter;stroke:rgb(26.666667%,26.666667%,26.666667%);stroke-opacity:1;stroke-miterlimit:10;\" d=\"M 179.308594 123.359375 C 189.242188 137.117188 202.203125 141.160156 218.191406 135.476562 \"/>\n",
       "<path style=\"fill:none;stroke-width:1;stroke-linecap:butt;stroke-linejoin:miter;stroke:rgb(26.666667%,26.666667%,26.666667%);stroke-opacity:1;stroke-miterlimit:10;\" d=\"M 218.191406 135.476562 C 248.945312 137.640625 269.667969 124.261719 280.351562 95.34375 \"/>\n",
       "<path style=\"fill:none;stroke-width:1;stroke-linecap:butt;stroke-linejoin:miter;stroke:rgb(26.666667%,26.666667%,26.666667%);stroke-opacity:1;stroke-miterlimit:10;\" d=\"M 214.113281 199.082031 C 231.371094 178.902344 232.734375 157.699219 218.191406 135.476562 \"/>\n",
       "<path style=\"fill:none;stroke-width:1;stroke-linecap:butt;stroke-linejoin:miter;stroke:rgb(26.666667%,26.666667%,26.666667%);stroke-opacity:1;stroke-miterlimit:10;\" d=\"M 250.964844 441.875 C 241.816406 435.699219 238.925781 427.355469 242.292969 416.84375 \"/>\n",
       "<path style=\"fill:none;stroke-width:1;stroke-linecap:butt;stroke-linejoin:miter;stroke:rgb(26.666667%,26.666667%,26.666667%);stroke-opacity:1;stroke-miterlimit:10;\" d=\"M 242.292969 416.84375 C 252.289062 410.023438 255.414062 400.859375 251.664062 389.355469 \"/>\n",
       "<path style=\"fill:none;stroke-width:1;stroke-linecap:butt;stroke-linejoin:miter;stroke:rgb(26.666667%,26.666667%,26.666667%);stroke-opacity:1;stroke-miterlimit:10;\" d=\"M 242.292969 416.84375 C 239.527344 403.820312 231.507812 396.8125 218.230469 395.820312 \"/>\n",
       "<path style=\"fill:none;stroke-width:1;stroke-linecap:butt;stroke-linejoin:miter;stroke:rgb(26.666667%,26.666667%,26.666667%);stroke-opacity:1;stroke-miterlimit:10;\" d=\"M 271.691406 418.296875 C 262.257812 410.460938 252.457031 409.976562 242.292969 416.84375 \"/>\n",
       "<path style=\"fill:none;stroke-width:1;stroke-linecap:butt;stroke-linejoin:miter;stroke:rgb(26.666667%,26.666667%,26.666667%);stroke-opacity:1;stroke-miterlimit:10;\" d=\"M 269.410156 452.699219 C 269.335938 433.96875 260.296875 422.015625 242.292969 416.84375 \"/>\n",
       "<path style=\"fill:none;stroke-width:1;stroke-linecap:butt;stroke-linejoin:miter;stroke:rgb(26.666667%,26.666667%,26.666667%);stroke-opacity:1;stroke-miterlimit:10;\" d=\"M 242.292969 416.84375 C 232.171875 411.421875 223.09375 412.8125 215.054688 421.011719 \"/>\n",
       "<path style=\"fill:none;stroke-width:1;stroke-linecap:butt;stroke-linejoin:miter;stroke:rgb(26.666667%,26.666667%,26.666667%);stroke-opacity:1;stroke-miterlimit:10;\" d=\"M 390.691406 575.984375 C 387.445312 567.015625 381.058594 562.832031 371.535156 563.441406 \"/>\n",
       "<path style=\"fill:none;stroke-width:1;stroke-linecap:butt;stroke-linejoin:miter;stroke:rgb(26.666667%,26.666667%,26.666667%);stroke-opacity:1;stroke-miterlimit:10;\" d=\"M 390.691406 575.984375 C 398.769531 565.316406 398.816406 554.609375 390.832031 543.867188 \"/>\n",
       "<path style=\"fill:none;stroke-width:1;stroke-linecap:butt;stroke-linejoin:miter;stroke:rgb(26.666667%,26.666667%,26.666667%);stroke-opacity:1;stroke-miterlimit:10;\" d=\"M 447.632812 293.800781 C 446.382812 280.988281 439.429688 273.386719 426.78125 271 \"/>\n",
       "<path style=\"fill:none;stroke-width:1;stroke-linecap:butt;stroke-linejoin:miter;stroke:rgb(26.666667%,26.666667%,26.666667%);stroke-opacity:1;stroke-miterlimit:10;\" d=\"M 447.632812 293.800781 C 458.007812 294.089844 464.785156 289.292969 467.96875 279.414062 \"/>\n",
       "<path style=\"fill:none;stroke-width:1;stroke-linecap:butt;stroke-linejoin:miter;stroke:rgb(26.666667%,26.666667%,26.666667%);stroke-opacity:1;stroke-miterlimit:10;\" d=\"M 447.632812 293.800781 C 439.1875 280.035156 427.171875 275.277344 411.59375 279.53125 \"/>\n",
       "<path style=\"fill:none;stroke-width:1;stroke-linecap:butt;stroke-linejoin:miter;stroke:rgb(26.666667%,26.666667%,26.666667%);stroke-opacity:1;stroke-miterlimit:10;\" d=\"M 338.003906 475.890625 C 327.226562 480.054688 322.328125 487.898438 323.308594 499.410156 \"/>\n",
       "<path style=\"fill:none;stroke-width:1;stroke-linecap:butt;stroke-linejoin:miter;stroke:rgb(26.666667%,26.666667%,26.666667%);stroke-opacity:1;stroke-miterlimit:10;\" d=\"M 338.003906 475.890625 C 322.714844 468.371094 309.324219 470.898438 297.828125 483.472656 \"/>\n",
       "<path style=\"fill:none;stroke-width:1;stroke-linecap:butt;stroke-linejoin:miter;stroke:rgb(26.666667%,26.666667%,26.666667%);stroke-opacity:1;stroke-miterlimit:10;\" d=\"M 338.003906 475.890625 C 339.0625 486.292969 344.734375 492.441406 355.015625 494.335938 \"/>\n",
       "<path style=\"fill:none;stroke-width:1;stroke-linecap:butt;stroke-linejoin:miter;stroke:rgb(26.666667%,26.666667%,26.666667%);stroke-opacity:1;stroke-miterlimit:10;\" d=\"M 338.003906 475.890625 C 354.398438 480.117188 366.921875 474.953125 375.570312 460.398438 \"/>\n",
       "<path style=\"fill:none;stroke-width:1;stroke-linecap:butt;stroke-linejoin:miter;stroke:rgb(26.666667%,26.666667%,26.666667%);stroke-opacity:1;stroke-miterlimit:10;\" d=\"M 338.003906 475.890625 C 348.730469 485.390625 360.15625 486.320312 372.28125 478.683594 \"/>\n",
       "<path style=\"fill:none;stroke-width:1;stroke-linecap:butt;stroke-linejoin:miter;stroke:rgb(26.666667%,26.666667%,26.666667%);stroke-opacity:1;stroke-miterlimit:10;\" d=\"M 295.09375 462.636719 C 306.085938 477.78125 320.386719 482.199219 338.003906 475.890625 \"/>\n",
       "<path style=\"fill:none;stroke-width:1;stroke-linecap:butt;stroke-linejoin:miter;stroke:rgb(26.666667%,26.666667%,26.666667%);stroke-opacity:1;stroke-miterlimit:10;\" d=\"M 55.339844 254.230469 C 49.988281 247.304688 43.234375 245.441406 35.089844 248.644531 \"/>\n",
       "<path style=\"fill:none;stroke-width:1;stroke-linecap:butt;stroke-linejoin:miter;stroke:rgb(26.666667%,26.666667%,26.666667%);stroke-opacity:1;stroke-miterlimit:10;\" d=\"M 338.003906 475.890625 C 338.984375 487.402344 334.085938 495.242188 323.308594 499.410156 \"/>\n",
       "<path style=\"fill:none;stroke-width:1;stroke-linecap:butt;stroke-linejoin:miter;stroke:rgb(26.666667%,26.666667%,26.666667%);stroke-opacity:1;stroke-miterlimit:10;\" d=\"M 323.308594 499.410156 C 318.800781 487.726562 310.304688 482.414062 297.828125 483.472656 \"/>\n",
       "<path style=\"fill:none;stroke-width:1;stroke-linecap:butt;stroke-linejoin:miter;stroke:rgb(26.666667%,26.666667%,26.666667%);stroke-opacity:1;stroke-miterlimit:10;\" d=\"M 323.308594 499.410156 C 335.148438 505.644531 345.714844 503.953125 355.015625 494.335938 \"/>\n",
       "<path style=\"fill:none;stroke-width:1;stroke-linecap:butt;stroke-linejoin:miter;stroke:rgb(26.666667%,26.666667%,26.666667%);stroke-opacity:1;stroke-miterlimit:10;\" d=\"M 323.308594 499.410156 C 309.777344 494.550781 298.785156 497.9375 290.332031 509.570312 \"/>\n",
       "<path style=\"fill:none;stroke-width:1;stroke-linecap:butt;stroke-linejoin:miter;stroke:rgb(26.666667%,26.666667%,26.666667%);stroke-opacity:1;stroke-miterlimit:10;\" d=\"M 338.003906 475.890625 C 326.507812 488.460938 313.117188 490.988281 297.828125 483.472656 \"/>\n",
       "<path style=\"fill:none;stroke-width:1;stroke-linecap:butt;stroke-linejoin:miter;stroke:rgb(26.666667%,26.666667%,26.666667%);stroke-opacity:1;stroke-miterlimit:10;\" d=\"M 323.308594 499.410156 C 310.832031 500.46875 302.335938 495.15625 297.828125 483.472656 \"/>\n",
       "<path style=\"fill:none;stroke-width:1;stroke-linecap:butt;stroke-linejoin:miter;stroke:rgb(26.666667%,26.666667%,26.666667%);stroke-opacity:1;stroke-miterlimit:10;\" d=\"M 261.691406 479.46875 C 272.734375 489.835938 284.78125 491.171875 297.828125 483.472656 \"/>\n",
       "<path style=\"fill:none;stroke-width:1;stroke-linecap:butt;stroke-linejoin:miter;stroke:rgb(26.666667%,26.666667%,26.666667%);stroke-opacity:1;stroke-miterlimit:10;\" d=\"M 269.410156 452.699219 C 271.1875 470.0625 280.660156 480.320312 297.828125 483.472656 \"/>\n",
       "<path style=\"fill:none;stroke-width:1;stroke-linecap:butt;stroke-linejoin:miter;stroke:rgb(26.666667%,26.666667%,26.666667%);stroke-opacity:1;stroke-miterlimit:10;\" d=\"M 295.09375 462.636719 C 290.796875 470.265625 291.707031 477.210938 297.828125 483.472656 \"/>\n",
       "<path style=\"fill:none;stroke-width:1;stroke-linecap:butt;stroke-linejoin:miter;stroke:rgb(26.666667%,26.666667%,26.666667%);stroke-opacity:1;stroke-miterlimit:10;\" d=\"M 297.828125 483.472656 C 288.804688 490.296875 286.304688 498.996094 290.332031 509.570312 \"/>\n",
       "<path style=\"fill:none;stroke-width:1;stroke-linecap:butt;stroke-linejoin:miter;stroke:rgb(26.666667%,26.666667%,26.666667%);stroke-opacity:1;stroke-miterlimit:10;\" d=\"M 131.90625 508.964844 C 127.488281 498.238281 129.808594 489.253906 138.867188 482.011719 \"/>\n",
       "<path style=\"fill:none;stroke-width:1;stroke-linecap:butt;stroke-linejoin:miter;stroke:rgb(26.666667%,26.666667%,26.666667%);stroke-opacity:1;stroke-miterlimit:10;\" d=\"M 122.976562 491.273438 C 125.957031 484.210938 131.253906 481.125 138.867188 482.011719 \"/>\n",
       "<path style=\"fill:none;stroke-width:1;stroke-linecap:butt;stroke-linejoin:miter;stroke:rgb(26.666667%,26.666667%,26.666667%);stroke-opacity:1;stroke-miterlimit:10;\" d=\"M 138.867188 482.011719 C 134.75 470.070312 126.382812 464.40625 113.769531 465.015625 \"/>\n",
       "<path style=\"fill:none;stroke-width:1;stroke-linecap:butt;stroke-linejoin:miter;stroke:rgb(26.666667%,26.666667%,26.666667%);stroke-opacity:1;stroke-miterlimit:10;\" d=\"M 307.203125 247.335938 C 324.710938 230.265625 344.113281 227.742188 365.402344 239.773438 \"/>\n",
       "<path style=\"fill:none;stroke-width:1;stroke-linecap:butt;stroke-linejoin:miter;stroke:rgb(26.666667%,26.666667%,26.666667%);stroke-opacity:1;stroke-miterlimit:10;\" d=\"M 365.402344 239.773438 C 372.640625 225.515625 384.113281 219.867188 399.828125 222.820312 \"/>\n",
       "<path style=\"fill:none;stroke-width:1;stroke-linecap:butt;stroke-linejoin:miter;stroke:rgb(26.666667%,26.666667%,26.666667%);stroke-opacity:1;stroke-miterlimit:10;\" d=\"M 365.402344 239.773438 C 360.722656 258.660156 366.792969 272.996094 383.613281 282.78125 \"/>\n",
       "<path style=\"fill:none;stroke-width:1;stroke-linecap:butt;stroke-linejoin:miter;stroke:rgb(26.666667%,26.666667%,26.666667%);stroke-opacity:1;stroke-miterlimit:10;\" d=\"M 365.402344 239.773438 C 373.253906 246.09375 381.3125 246.367188 389.578125 240.601562 \"/>\n",
       "<path style=\"fill:none;stroke-width:1;stroke-linecap:butt;stroke-linejoin:miter;stroke:rgb(26.666667%,26.666667%,26.666667%);stroke-opacity:1;stroke-miterlimit:10;\" d=\"M 365.402344 239.773438 C 358.058594 220.484375 344.101562 211.667969 323.53125 213.316406 \"/>\n",
       "<path style=\"fill:none;stroke-width:1;stroke-linecap:butt;stroke-linejoin:miter;stroke:rgb(26.666667%,26.666667%,26.666667%);stroke-opacity:1;stroke-miterlimit:10;\" d=\"M 365.402344 239.773438 C 358.828125 232.34375 351.054688 230.746094 342.082031 234.976562 \"/>\n",
       "<path style=\"fill:none;stroke-width:1;stroke-linecap:butt;stroke-linejoin:miter;stroke:rgb(26.666667%,26.666667%,26.666667%);stroke-opacity:1;stroke-miterlimit:10;\" d=\"M 365.402344 239.773438 C 378.054688 265.527344 398.515625 275.933594 426.78125 271 \"/>\n",
       "<path style=\"fill:none;stroke-width:1;stroke-linecap:butt;stroke-linejoin:miter;stroke:rgb(26.666667%,26.666667%,26.666667%);stroke-opacity:1;stroke-miterlimit:10;\" d=\"M 365.402344 239.773438 C 354.328125 253.976562 354.058594 268.382812 364.59375 282.992188 \"/>\n",
       "<path style=\"fill:none;stroke-width:1;stroke-linecap:butt;stroke-linejoin:miter;stroke:rgb(26.666667%,26.666667%,26.666667%);stroke-opacity:1;stroke-miterlimit:10;\" d=\"M 365.402344 239.773438 C 370.019531 220.070312 363.515625 205.246094 345.894531 195.300781 \"/>\n",
       "<path style=\"fill:none;stroke-width:1;stroke-linecap:butt;stroke-linejoin:miter;stroke:rgb(26.666667%,26.666667%,26.666667%);stroke-opacity:1;stroke-miterlimit:10;\" d=\"M 365.402344 239.773438 C 380.917969 258.753906 399.957031 263.457031 422.523438 253.878906 \"/>\n",
       "<path style=\"fill:none;stroke-width:1;stroke-linecap:butt;stroke-linejoin:miter;stroke:rgb(26.666667%,26.666667%,26.666667%);stroke-opacity:1;stroke-miterlimit:10;\" d=\"M 365.402344 239.773438 C 370.105469 252.992188 379.460938 259.195312 393.46875 258.382812 \"/>\n",
       "<path style=\"fill:none;stroke-width:1;stroke-linecap:butt;stroke-linejoin:miter;stroke:rgb(26.666667%,26.666667%,26.666667%);stroke-opacity:1;stroke-miterlimit:10;\" d=\"M 365.402344 239.773438 C 352.5625 230.226562 339.761719 230.28125 327.003906 239.9375 \"/>\n",
       "<path style=\"fill:none;stroke-width:1;stroke-linecap:butt;stroke-linejoin:miter;stroke:rgb(26.666667%,26.666667%,26.666667%);stroke-opacity:1;stroke-miterlimit:10;\" d=\"M 365.402344 239.773438 C 365.101562 200.925781 346.265625 176.207031 308.886719 165.621094 \"/>\n",
       "<path style=\"fill:none;stroke-width:1;stroke-linecap:butt;stroke-linejoin:miter;stroke:rgb(26.666667%,26.666667%,26.666667%);stroke-opacity:1;stroke-miterlimit:10;\" d=\"M 365.402344 239.773438 C 350.667969 237.941406 340.355469 243.84375 334.472656 257.476562 \"/>\n",
       "<path style=\"fill:none;stroke-width:1;stroke-linecap:butt;stroke-linejoin:miter;stroke:rgb(26.666667%,26.666667%,26.666667%);stroke-opacity:1;stroke-miterlimit:10;\" d=\"M 365.402344 239.773438 C 370.859375 264.570312 386.257812 277.824219 411.59375 279.53125 \"/>\n",
       "<path style=\"fill:none;stroke-width:1;stroke-linecap:butt;stroke-linejoin:miter;stroke:rgb(26.666667%,26.666667%,26.666667%);stroke-opacity:1;stroke-miterlimit:10;\" d=\"M 101.773438 493.773438 C 87.160156 483.039062 82.960938 469.152344 89.175781 452.121094 \"/>\n",
       "<path style=\"fill:none;stroke-width:1;stroke-linecap:butt;stroke-linejoin:miter;stroke:rgb(26.666667%,26.666667%,26.666667%);stroke-opacity:1;stroke-miterlimit:10;\" d=\"M 89.175781 452.121094 C 98.910156 450.441406 104.335938 444.691406 105.449219 434.875 \"/>\n",
       "<path style=\"fill:none;stroke-width:1;stroke-linecap:butt;stroke-linejoin:miter;stroke:rgb(26.666667%,26.666667%,26.666667%);stroke-opacity:1;stroke-miterlimit:10;\" d=\"M 89.175781 452.121094 C 91.535156 435.929688 85.277344 424.433594 70.394531 417.632812 \"/>\n",
       "<path style=\"fill:none;stroke-width:1;stroke-linecap:butt;stroke-linejoin:miter;stroke:rgb(26.666667%,26.666667%,26.666667%);stroke-opacity:1;stroke-miterlimit:10;\" d=\"M 113.769531 465.015625 C 108.796875 454.570312 100.597656 450.269531 89.175781 452.121094 \"/>\n",
       "<path style=\"fill:none;stroke-width:1;stroke-linecap:butt;stroke-linejoin:miter;stroke:rgb(26.666667%,26.666667%,26.666667%);stroke-opacity:1;stroke-miterlimit:10;\" d=\"M 89.175781 452.121094 C 80.050781 455.824219 75.992188 462.578125 76.992188 472.375 \"/>\n",
       "<path style=\"fill:none;stroke-width:1;stroke-linecap:butt;stroke-linejoin:miter;stroke:rgb(26.666667%,26.666667%,26.666667%);stroke-opacity:1;stroke-miterlimit:10;\" d=\"M 338.003906 475.890625 C 348.285156 477.785156 353.957031 483.933594 355.015625 494.335938 \"/>\n",
       "<path style=\"fill:none;stroke-width:1;stroke-linecap:butt;stroke-linejoin:miter;stroke:rgb(26.666667%,26.666667%,26.666667%);stroke-opacity:1;stroke-miterlimit:10;\" d=\"M 323.308594 499.410156 C 332.609375 489.792969 343.179688 488.101562 355.015625 494.335938 \"/>\n",
       "<path style=\"fill:none;stroke-width:1;stroke-linecap:butt;stroke-linejoin:miter;stroke:rgb(26.666667%,26.666667%,26.666667%);stroke-opacity:1;stroke-miterlimit:10;\" d=\"M 355.015625 494.335938 C 364.683594 493.433594 370.441406 488.21875 372.28125 478.683594 \"/>\n",
       "<path style=\"fill:none;stroke-width:1;stroke-linecap:butt;stroke-linejoin:miter;stroke:rgb(26.666667%,26.666667%,26.666667%);stroke-opacity:1;stroke-miterlimit:10;\" d=\"M 59.832031 388.136719 C 64.867188 378.128906 63.289062 369.308594 55.09375 361.667969 \"/>\n",
       "<path style=\"fill:none;stroke-width:1;stroke-linecap:butt;stroke-linejoin:miter;stroke:rgb(26.666667%,26.666667%,26.666667%);stroke-opacity:1;stroke-miterlimit:10;\" d=\"M 70.394531 417.632812 C 74.246094 405.160156 70.726562 395.328125 59.832031 388.136719 \"/>\n",
       "<path style=\"fill:none;stroke-width:1;stroke-linecap:butt;stroke-linejoin:miter;stroke:rgb(26.666667%,26.666667%,26.666667%);stroke-opacity:1;stroke-miterlimit:10;\" d=\"M 242.292969 416.84375 C 238.546875 405.339844 241.667969 396.175781 251.664062 389.355469 \"/>\n",
       "<path style=\"fill:none;stroke-width:1;stroke-linecap:butt;stroke-linejoin:miter;stroke:rgb(26.666667%,26.666667%,26.666667%);stroke-opacity:1;stroke-miterlimit:10;\" d=\"M 251.664062 389.355469 C 238.902344 383.152344 227.757812 385.308594 218.230469 395.820312 \"/>\n",
       "<path style=\"fill:none;stroke-width:1;stroke-linecap:butt;stroke-linejoin:miter;stroke:rgb(26.666667%,26.666667%,26.666667%);stroke-opacity:1;stroke-miterlimit:10;\" d=\"M 251.664062 389.355469 C 264.671875 395.667969 276.027344 393.464844 285.730469 382.746094 \"/>\n",
       "<path style=\"fill:none;stroke-width:1;stroke-linecap:butt;stroke-linejoin:miter;stroke:rgb(26.666667%,26.666667%,26.666667%);stroke-opacity:1;stroke-miterlimit:10;\" d=\"M 251.664062 389.355469 C 262.144531 383.515625 266.046875 374.75 263.378906 363.054688 \"/>\n",
       "<path style=\"fill:none;stroke-width:1;stroke-linecap:butt;stroke-linejoin:miter;stroke:rgb(26.666667%,26.666667%,26.666667%);stroke-opacity:1;stroke-miterlimit:10;\" d=\"M 271.691406 418.296875 C 272.25 403.640625 265.574219 393.996094 251.664062 389.355469 \"/>\n",
       "<path style=\"fill:none;stroke-width:1;stroke-linecap:butt;stroke-linejoin:miter;stroke:rgb(26.666667%,26.666667%,26.666667%);stroke-opacity:1;stroke-miterlimit:10;\" d=\"M 324.851562 20 C 338.242188 21.785156 345.953125 29.355469 347.984375 42.707031 \"/>\n",
       "<path style=\"fill:none;stroke-width:1;stroke-linecap:butt;stroke-linejoin:miter;stroke:rgb(26.666667%,26.666667%,26.666667%);stroke-opacity:1;stroke-miterlimit:10;\" d=\"M 341.359375 77.335938 C 352.226562 67.449219 354.433594 55.90625 347.984375 42.707031 \"/>\n",
       "<path style=\"fill:none;stroke-width:1;stroke-linecap:butt;stroke-linejoin:miter;stroke:rgb(26.666667%,26.666667%,26.666667%);stroke-opacity:1;stroke-miterlimit:10;\" d=\"M 380.261719 62.410156 C 374.429688 47.773438 363.671875 41.207031 347.984375 42.707031 \"/>\n",
       "<path style=\"fill:none;stroke-width:1;stroke-linecap:butt;stroke-linejoin:miter;stroke:rgb(26.666667%,26.666667%,26.666667%);stroke-opacity:1;stroke-miterlimit:10;\" d=\"M 393.359375 88.714844 C 397.132812 97.871094 395.15625 105.542969 387.425781 111.730469 \"/>\n",
       "<path style=\"fill:none;stroke-width:1;stroke-linecap:butt;stroke-linejoin:miter;stroke:rgb(26.666667%,26.666667%,26.666667%);stroke-opacity:1;stroke-miterlimit:10;\" d=\"M 387.425781 111.730469 C 396.742188 123.933594 408.5625 127.269531 422.886719 121.746094 \"/>\n",
       "<path style=\"fill:none;stroke-width:1;stroke-linecap:butt;stroke-linejoin:miter;stroke:rgb(26.666667%,26.666667%,26.666667%);stroke-opacity:1;stroke-miterlimit:10;\" d=\"M 387.425781 111.730469 C 373.246094 109.347656 363.027344 114.632812 356.769531 127.582031 \"/>\n",
       "<path style=\"fill:none;stroke-width:1;stroke-linecap:butt;stroke-linejoin:miter;stroke:rgb(26.666667%,26.666667%,26.666667%);stroke-opacity:1;stroke-miterlimit:10;\" d=\"M 387.425781 111.730469 C 381.792969 99.855469 372.488281 94.957031 359.511719 97.039062 \"/>\n",
       "<path style=\"fill:none;stroke-width:1;stroke-linecap:butt;stroke-linejoin:miter;stroke:rgb(26.666667%,26.666667%,26.666667%);stroke-opacity:1;stroke-miterlimit:10;\" d=\"M 422.886719 121.746094 C 421.125 137.832031 427.71875 148.972656 442.667969 155.167969 \"/>\n",
       "<path style=\"fill:none;stroke-width:1;stroke-linecap:butt;stroke-linejoin:miter;stroke:rgb(26.666667%,26.666667%,26.666667%);stroke-opacity:1;stroke-miterlimit:10;\" d=\"M 281.449219 580 C 286.433594 569.066406 284.371094 559.675781 275.269531 551.832031 \"/>\n",
       "<path style=\"fill:none;stroke-width:1;stroke-linecap:butt;stroke-linejoin:miter;stroke:rgb(26.666667%,26.666667%,26.666667%);stroke-opacity:1;stroke-miterlimit:10;\" d=\"M 281.449219 580 C 292.695312 575.296875 297.636719 566.886719 296.269531 554.773438 \"/>\n",
       "<path style=\"fill:none;stroke-width:1;stroke-linecap:butt;stroke-linejoin:miter;stroke:rgb(26.666667%,26.666667%,26.666667%);stroke-opacity:1;stroke-miterlimit:10;\" d=\"M 281.449219 580 C 290.453125 585.882812 299.039062 585.324219 307.207031 578.328125 \"/>\n",
       "<path style=\"fill:none;stroke-width:1;stroke-linecap:butt;stroke-linejoin:miter;stroke:rgb(26.666667%,26.666667%,26.666667%);stroke-opacity:1;stroke-miterlimit:10;\" d=\"M 534.265625 427.429688 C 537.820312 434.917969 543.691406 438 551.871094 436.683594 \"/>\n",
       "<path style=\"fill:none;stroke-width:1;stroke-linecap:butt;stroke-linejoin:miter;stroke:rgb(26.666667%,26.666667%,26.666667%);stroke-opacity:1;stroke-miterlimit:10;\" d=\"M 89.175781 452.121094 C 90.289062 442.300781 95.714844 436.554688 105.449219 434.875 \"/>\n",
       "<path style=\"fill:none;stroke-width:1;stroke-linecap:butt;stroke-linejoin:miter;stroke:rgb(26.666667%,26.666667%,26.666667%);stroke-opacity:1;stroke-miterlimit:10;\" d=\"M 113.769531 465.015625 C 118.53125 452.890625 115.761719 442.839844 105.449219 434.875 \"/>\n",
       "<path style=\"fill:none;stroke-width:1;stroke-linecap:butt;stroke-linejoin:miter;stroke:rgb(26.666667%,26.666667%,26.666667%);stroke-opacity:1;stroke-miterlimit:10;\" d=\"M 237.894531 432.933594 C 248.699219 391.199219 235.582031 359.308594 198.546875 337.25 \"/>\n",
       "<path style=\"fill:none;stroke-width:1;stroke-linecap:butt;stroke-linejoin:miter;stroke:rgb(26.666667%,26.666667%,26.666667%);stroke-opacity:1;stroke-miterlimit:10;\" d=\"M 261.691406 479.46875 C 265.390625 458.007812 257.460938 442.496094 237.894531 432.933594 \"/>\n",
       "<path style=\"fill:none;stroke-width:1;stroke-linecap:butt;stroke-linejoin:miter;stroke:rgb(26.666667%,26.666667%,26.666667%);stroke-opacity:1;stroke-miterlimit:10;\" d=\"M 290.332031 509.570312 C 292.011719 470.914062 274.53125 445.367188 237.894531 432.933594 \"/>\n",
       "<path style=\"fill:none;stroke-width:1;stroke-linecap:butt;stroke-linejoin:miter;stroke:rgb(26.666667%,26.666667%,26.666667%);stroke-opacity:1;stroke-miterlimit:10;\" d=\"M 36.726562 306.316406 C 28.703125 311.703125 26.152344 319.003906 29.082031 328.214844 \"/>\n",
       "<path style=\"fill:none;stroke-width:1;stroke-linecap:butt;stroke-linejoin:miter;stroke:rgb(26.666667%,26.666667%,26.666667%);stroke-opacity:1;stroke-miterlimit:10;\" d=\"M 29.082031 328.214844 C 33.71875 335.074219 39.976562 337.234375 47.855469 334.703125 \"/>\n",
       "<path style=\"fill:none;stroke-width:1;stroke-linecap:butt;stroke-linejoin:miter;stroke:rgb(26.666667%,26.666667%,26.666667%);stroke-opacity:1;stroke-miterlimit:10;\" d=\"M 338.003906 475.890625 C 346.652344 461.335938 359.175781 456.171875 375.570312 460.398438 \"/>\n",
       "<path style=\"fill:none;stroke-width:1;stroke-linecap:butt;stroke-linejoin:miter;stroke:rgb(26.666667%,26.666667%,26.666667%);stroke-opacity:1;stroke-miterlimit:10;\" d=\"M 375.570312 460.398438 C 369.902344 465.671875 368.804688 471.765625 372.28125 478.683594 \"/>\n",
       "<path style=\"fill:none;stroke-width:1;stroke-linecap:butt;stroke-linejoin:miter;stroke:rgb(26.666667%,26.666667%,26.666667%);stroke-opacity:1;stroke-miterlimit:10;\" d=\"M 281.449219 580 C 272.347656 572.15625 270.289062 562.765625 275.269531 551.832031 \"/>\n",
       "<path style=\"fill:none;stroke-width:1;stroke-linecap:butt;stroke-linejoin:miter;stroke:rgb(26.666667%,26.666667%,26.666667%);stroke-opacity:1;stroke-miterlimit:10;\" d=\"M 275.269531 551.832031 C 281.535156 558.0625 288.535156 559.042969 296.269531 554.773438 \"/>\n",
       "<path style=\"fill:none;stroke-width:1;stroke-linecap:butt;stroke-linejoin:miter;stroke:rgb(26.666667%,26.666667%,26.666667%);stroke-opacity:1;stroke-miterlimit:10;\" d=\"M 290.332031 509.570312 C 274.746094 519.890625 269.726562 533.980469 275.269531 551.832031 \"/>\n",
       "<path style=\"fill:none;stroke-width:1;stroke-linecap:butt;stroke-linejoin:miter;stroke:rgb(26.666667%,26.666667%,26.666667%);stroke-opacity:1;stroke-miterlimit:10;\" d=\"M 305.6875 139.523438 C 296.660156 137.28125 289.808594 140.175781 285.125 148.214844 \"/>\n",
       "<path style=\"fill:none;stroke-width:1;stroke-linecap:butt;stroke-linejoin:miter;stroke:rgb(26.666667%,26.666667%,26.666667%);stroke-opacity:1;stroke-miterlimit:10;\" d=\"M 308.886719 165.621094 C 305.316406 153.878906 297.398438 148.074219 285.125 148.214844 \"/>\n",
       "<path style=\"fill:none;stroke-width:1;stroke-linecap:butt;stroke-linejoin:miter;stroke:rgb(26.666667%,26.666667%,26.666667%);stroke-opacity:1;stroke-miterlimit:10;\" d=\"M 457.363281 484.199219 C 442.34375 489.570312 435.308594 500.21875 436.261719 516.140625 \"/>\n",
       "<path style=\"fill:none;stroke-width:1;stroke-linecap:butt;stroke-linejoin:miter;stroke:rgb(26.666667%,26.666667%,26.666667%);stroke-opacity:1;stroke-miterlimit:10;\" d=\"M 474.824219 500.640625 C 473.117188 490.796875 467.296875 485.316406 457.363281 484.199219 \"/>\n",
       "<path style=\"fill:none;stroke-width:1;stroke-linecap:butt;stroke-linejoin:miter;stroke:rgb(26.666667%,26.666667%,26.666667%);stroke-opacity:1;stroke-miterlimit:10;\" d=\"M 281.449219 580 C 280.082031 567.886719 285.023438 559.476562 296.269531 554.773438 \"/>\n",
       "<path style=\"fill:none;stroke-width:1;stroke-linecap:butt;stroke-linejoin:miter;stroke:rgb(26.666667%,26.666667%,26.666667%);stroke-opacity:1;stroke-miterlimit:10;\" d=\"M 275.269531 551.832031 C 283.003906 547.5625 290.003906 548.542969 296.269531 554.773438 \"/>\n",
       "<path style=\"fill:none;stroke-width:1;stroke-linecap:butt;stroke-linejoin:miter;stroke:rgb(26.666667%,26.666667%,26.666667%);stroke-opacity:1;stroke-miterlimit:10;\" d=\"M 296.269531 554.773438 C 308.8125 560.929688 319.792969 558.847656 329.214844 548.527344 \"/>\n",
       "<path style=\"fill:none;stroke-width:1;stroke-linecap:butt;stroke-linejoin:miter;stroke:rgb(26.666667%,26.666667%,26.666667%);stroke-opacity:1;stroke-miterlimit:10;\" d=\"M 296.269531 554.773438 C 294.023438 565.359375 297.671875 573.210938 307.207031 578.328125 \"/>\n",
       "<path style=\"fill:none;stroke-width:1;stroke-linecap:butt;stroke-linejoin:miter;stroke:rgb(26.666667%,26.666667%,26.666667%);stroke-opacity:1;stroke-miterlimit:10;\" d=\"M 290.332031 509.570312 C 281.007812 526.121094 282.988281 541.191406 296.269531 554.773438 \"/>\n",
       "<path style=\"fill:none;stroke-width:1;stroke-linecap:butt;stroke-linejoin:miter;stroke:rgb(26.666667%,26.666667%,26.666667%);stroke-opacity:1;stroke-miterlimit:10;\" d=\"M 261.414062 134.148438 C 266.746094 132.792969 269.511719 129.371094 269.707031 123.871094 \"/>\n",
       "<path style=\"fill:none;stroke-width:1;stroke-linecap:butt;stroke-linejoin:miter;stroke:rgb(26.666667%,26.666667%,26.666667%);stroke-opacity:1;stroke-miterlimit:10;\" d=\"M 308.886719 165.621094 C 300.929688 143.261719 285.109375 132.769531 261.414062 134.148438 \"/>\n",
       "<path style=\"fill:none;stroke-width:1;stroke-linecap:butt;stroke-linejoin:miter;stroke:rgb(26.666667%,26.666667%,26.666667%);stroke-opacity:1;stroke-miterlimit:10;\" d=\"M 261.414062 134.148438 C 261.980469 118.90625 255.023438 108.878906 240.546875 104.070312 \"/>\n",
       "<path style=\"fill:none;stroke-width:1;stroke-linecap:butt;stroke-linejoin:miter;stroke:rgb(26.666667%,26.666667%,26.666667%);stroke-opacity:1;stroke-miterlimit:10;\" d=\"M 504.078125 121.785156 C 490.496094 129.390625 478.152344 127.738281 467.046875 116.824219 \"/>\n",
       "<path style=\"fill:none;stroke-width:1;stroke-linecap:butt;stroke-linejoin:miter;stroke:rgb(26.666667%,26.666667%,26.666667%);stroke-opacity:1;stroke-miterlimit:10;\" d=\"M 467.046875 116.824219 C 465.304688 123.519531 460.976562 126.96875 454.0625 127.171875 \"/>\n",
       "<path style=\"fill:none;stroke-width:1;stroke-linecap:butt;stroke-linejoin:miter;stroke:rgb(26.666667%,26.666667%,26.666667%);stroke-opacity:1;stroke-miterlimit:10;\" d=\"M 467.046875 116.824219 C 451.097656 107.425781 436.378906 109.066406 422.886719 121.746094 \"/>\n",
       "<path style=\"fill:none;stroke-width:1;stroke-linecap:butt;stroke-linejoin:miter;stroke:rgb(26.666667%,26.666667%,26.666667%);stroke-opacity:1;stroke-miterlimit:10;\" d=\"M 467.046875 116.824219 C 463.023438 94.105469 449.542969 81.496094 426.601562 78.996094 \"/>\n",
       "<path style=\"fill:none;stroke-width:1;stroke-linecap:butt;stroke-linejoin:miter;stroke:rgb(26.666667%,26.666667%,26.666667%);stroke-opacity:1;stroke-miterlimit:10;\" d=\"M 467.046875 116.824219 C 459.773438 123.414062 458.277344 131.125 462.566406 139.953125 \"/>\n",
       "<path style=\"fill:none;stroke-width:1;stroke-linecap:butt;stroke-linejoin:miter;stroke:rgb(26.666667%,26.666667%,26.666667%);stroke-opacity:1;stroke-miterlimit:10;\" d=\"M 467.046875 116.824219 C 471.996094 138.628906 485.632812 150.207031 507.949219 151.5625 \"/>\n",
       "<path style=\"fill:none;stroke-width:1;stroke-linecap:butt;stroke-linejoin:miter;stroke:rgb(26.666667%,26.666667%,26.666667%);stroke-opacity:1;stroke-miterlimit:10;\" d=\"M 467.046875 116.824219 C 460.132812 102.011719 448.59375 95.851562 432.4375 98.34375 \"/>\n",
       "<path style=\"fill:none;stroke-width:1;stroke-linecap:butt;stroke-linejoin:miter;stroke:rgb(26.666667%,26.666667%,26.666667%);stroke-opacity:1;stroke-miterlimit:10;\" d=\"M 338.003906 475.890625 C 350.128906 468.25 361.554688 469.183594 372.28125 478.683594 \"/>\n",
       "<path style=\"fill:none;stroke-width:1;stroke-linecap:butt;stroke-linejoin:miter;stroke:rgb(26.666667%,26.666667%,26.666667%);stroke-opacity:1;stroke-miterlimit:10;\" d=\"M 355.015625 494.335938 C 356.859375 484.804688 362.613281 479.585938 372.28125 478.683594 \"/>\n",
       "<path style=\"fill:none;stroke-width:1;stroke-linecap:butt;stroke-linejoin:miter;stroke:rgb(26.666667%,26.666667%,26.666667%);stroke-opacity:1;stroke-miterlimit:10;\" d=\"M 375.570312 460.398438 C 379.042969 467.316406 377.949219 473.410156 372.28125 478.683594 \"/>\n",
       "<path style=\"fill:none;stroke-width:1;stroke-linecap:butt;stroke-linejoin:miter;stroke:rgb(26.666667%,26.666667%,26.666667%);stroke-opacity:1;stroke-miterlimit:10;\" d=\"M 351.433594 401.496094 C 336.890625 392.324219 323.183594 393.433594 310.304688 404.824219 \"/>\n",
       "<path style=\"fill:none;stroke-width:1;stroke-linecap:butt;stroke-linejoin:miter;stroke:rgb(26.666667%,26.666667%,26.666667%);stroke-opacity:1;stroke-miterlimit:10;\" d=\"M 233.625 202.515625 C 233.425781 190.070312 239.273438 182.011719 251.164062 178.335938 \"/>\n",
       "<path style=\"fill:none;stroke-width:1;stroke-linecap:butt;stroke-linejoin:miter;stroke:rgb(26.666667%,26.666667%,26.666667%);stroke-opacity:1;stroke-miterlimit:10;\" d=\"M 256.109375 192.9375 C 250.8125 189.308594 249.164062 184.441406 251.164062 178.335938 \"/>\n",
       "<path style=\"fill:none;stroke-width:1;stroke-linecap:butt;stroke-linejoin:miter;stroke:rgb(26.666667%,26.666667%,26.666667%);stroke-opacity:1;stroke-miterlimit:10;\" d=\"M 251.164062 178.335938 C 273.585938 188.527344 292.824219 184.289062 308.886719 165.621094 \"/>\n",
       "<path style=\"fill:none;stroke-width:1;stroke-linecap:butt;stroke-linejoin:miter;stroke:rgb(26.666667%,26.666667%,26.666667%);stroke-opacity:1;stroke-miterlimit:10;\" d=\"M 251.164062 178.335938 C 233.628906 175.988281 221.277344 182.902344 214.113281 199.082031 \"/>\n",
       "<path style=\"fill:none;stroke-width:1;stroke-linecap:butt;stroke-linejoin:miter;stroke:rgb(26.666667%,26.666667%,26.666667%);stroke-opacity:1;stroke-miterlimit:10;\" d=\"M 393.359375 88.714844 C 411.457031 92.34375 421.300781 103.351562 422.886719 121.746094 \"/>\n",
       "<path style=\"fill:none;stroke-width:1;stroke-linecap:butt;stroke-linejoin:miter;stroke:rgb(26.666667%,26.666667%,26.666667%);stroke-opacity:1;stroke-miterlimit:10;\" d=\"M 422.886719 121.746094 C 434.636719 115.761719 445.027344 117.570312 454.0625 127.171875 \"/>\n",
       "<path style=\"fill:none;stroke-width:1;stroke-linecap:butt;stroke-linejoin:miter;stroke:rgb(26.666667%,26.666667%,26.666667%);stroke-opacity:1;stroke-miterlimit:10;\" d=\"M 387.425781 111.730469 C 401.75 106.203125 413.570312 109.539062 422.886719 121.746094 \"/>\n",
       "<path style=\"fill:none;stroke-width:1;stroke-linecap:butt;stroke-linejoin:miter;stroke:rgb(26.666667%,26.666667%,26.666667%);stroke-opacity:1;stroke-miterlimit:10;\" d=\"M 422.886719 121.746094 C 437.835938 127.941406 444.429688 139.082031 442.667969 155.167969 \"/>\n",
       "<path style=\"fill:none;stroke-width:1;stroke-linecap:butt;stroke-linejoin:miter;stroke:rgb(26.666667%,26.666667%,26.666667%);stroke-opacity:1;stroke-miterlimit:10;\" d=\"M 467.046875 116.824219 C 453.558594 129.503906 438.835938 131.144531 422.886719 121.746094 \"/>\n",
       "<path style=\"fill:none;stroke-width:1;stroke-linecap:butt;stroke-linejoin:miter;stroke:rgb(26.666667%,26.666667%,26.666667%);stroke-opacity:1;stroke-miterlimit:10;\" d=\"M 422.886719 121.746094 C 431.5625 137.734375 444.789062 143.804688 462.566406 139.953125 \"/>\n",
       "<path style=\"fill:none;stroke-width:1;stroke-linecap:butt;stroke-linejoin:miter;stroke:rgb(26.666667%,26.666667%,26.666667%);stroke-opacity:1;stroke-miterlimit:10;\" d=\"M 422.886719 121.746094 C 437.058594 124.550781 447.472656 119.542969 454.132812 106.726562 \"/>\n",
       "<path style=\"fill:none;stroke-width:1;stroke-linecap:butt;stroke-linejoin:miter;stroke:rgb(26.666667%,26.666667%,26.666667%);stroke-opacity:1;stroke-miterlimit:10;\" d=\"M 422.886719 121.746094 C 399.390625 107.160156 377.351562 109.105469 356.769531 127.582031 \"/>\n",
       "<path style=\"fill:none;stroke-width:1;stroke-linecap:butt;stroke-linejoin:miter;stroke:rgb(26.666667%,26.666667%,26.666667%);stroke-opacity:1;stroke-miterlimit:10;\" d=\"M 422.886719 121.746094 C 431.921875 116.332031 435.101562 108.53125 432.4375 98.34375 \"/>\n",
       "<path style=\"fill:none;stroke-width:1;stroke-linecap:butt;stroke-linejoin:miter;stroke:rgb(26.666667%,26.666667%,26.666667%);stroke-opacity:1;stroke-miterlimit:10;\" d=\"M 242.292969 416.84375 C 229.019531 415.851562 220.996094 408.84375 218.230469 395.820312 \"/>\n",
       "<path style=\"fill:none;stroke-width:1;stroke-linecap:butt;stroke-linejoin:miter;stroke:rgb(26.666667%,26.666667%,26.666667%);stroke-opacity:1;stroke-miterlimit:10;\" d=\"M 251.664062 389.355469 C 242.136719 399.871094 230.992188 402.023438 218.230469 395.820312 \"/>\n",
       "<path style=\"fill:none;stroke-width:1;stroke-linecap:butt;stroke-linejoin:miter;stroke:rgb(26.666667%,26.666667%,26.666667%);stroke-opacity:1;stroke-miterlimit:10;\" d=\"M 215.054688 421.011719 C 222.410156 413.410156 223.46875 405.011719 218.230469 395.820312 \"/>\n",
       "<path style=\"fill:none;stroke-width:1;stroke-linecap:butt;stroke-linejoin:miter;stroke:rgb(26.666667%,26.666667%,26.666667%);stroke-opacity:1;stroke-miterlimit:10;\" d=\"M 155.949219 126.148438 C 171.824219 126.925781 181.613281 135.042969 185.3125 150.5 \"/>\n",
       "<path style=\"fill:none;stroke-width:1;stroke-linecap:butt;stroke-linejoin:miter;stroke:rgb(26.666667%,26.666667%,26.666667%);stroke-opacity:1;stroke-miterlimit:10;\" d=\"M 185.3125 150.5 C 192.519531 137.273438 203.476562 132.265625 218.191406 135.476562 \"/>\n",
       "<path style=\"fill:none;stroke-width:1;stroke-linecap:butt;stroke-linejoin:miter;stroke:rgb(26.666667%,26.666667%,26.666667%);stroke-opacity:1;stroke-miterlimit:10;\" d=\"M 185.3125 150.5 C 190.097656 139.949219 188.097656 130.902344 179.308594 123.359375 \"/>\n",
       "<path style=\"fill:none;stroke-width:1;stroke-linecap:butt;stroke-linejoin:miter;stroke:rgb(26.666667%,26.666667%,26.666667%);stroke-opacity:1;stroke-miterlimit:10;\" d=\"M 185.3125 150.5 C 182.769531 173.894531 192.367188 190.085938 214.113281 199.082031 \"/>\n",
       "<path style=\"fill:none;stroke-width:1;stroke-linecap:butt;stroke-linejoin:miter;stroke:rgb(26.666667%,26.666667%,26.666667%);stroke-opacity:1;stroke-miterlimit:10;\" d=\"M 20 289.804688 C 29.703125 291.125 35.277344 296.628906 36.726562 306.316406 \"/>\n",
       "<path style=\"fill:none;stroke-width:1;stroke-linecap:butt;stroke-linejoin:miter;stroke:rgb(26.666667%,26.666667%,26.666667%);stroke-opacity:1;stroke-miterlimit:10;\" d=\"M 36.726562 306.316406 C 39.652344 315.527344 37.105469 322.828125 29.082031 328.214844 \"/>\n",
       "<path style=\"fill:none;stroke-width:1;stroke-linecap:butt;stroke-linejoin:miter;stroke:rgb(26.666667%,26.666667%,26.666667%);stroke-opacity:1;stroke-miterlimit:10;\" d=\"M 36.726562 306.316406 C 33.339844 318.5625 37.050781 328.023438 47.855469 334.703125 \"/>\n",
       "<path style=\"fill:none;stroke-width:1;stroke-linecap:butt;stroke-linejoin:miter;stroke:rgb(26.666667%,26.666667%,26.666667%);stroke-opacity:1;stroke-miterlimit:10;\" d=\"M 36.726562 306.316406 C 43.242188 295.332031 42.136719 285.171875 33.417969 275.84375 \"/>\n",
       "<path style=\"fill:none;stroke-width:1;stroke-linecap:butt;stroke-linejoin:miter;stroke:rgb(26.666667%,26.666667%,26.666667%);stroke-opacity:1;stroke-miterlimit:10;\" d=\"M 251.664062 389.355469 C 261.367188 378.636719 272.722656 376.433594 285.730469 382.746094 \"/>\n",
       "<path style=\"fill:none;stroke-width:1;stroke-linecap:butt;stroke-linejoin:miter;stroke:rgb(26.666667%,26.666667%,26.666667%);stroke-opacity:1;stroke-miterlimit:10;\" d=\"M 285.730469 382.746094 C 297.4375 390.460938 308.632812 389.78125 319.320312 380.703125 \"/>\n",
       "<path style=\"fill:none;stroke-width:1;stroke-linecap:butt;stroke-linejoin:miter;stroke:rgb(26.666667%,26.666667%,26.666667%);stroke-opacity:1;stroke-miterlimit:10;\" d=\"M 285.730469 382.746094 C 283.203125 370.59375 275.75 364.03125 263.378906 363.054688 \"/>\n",
       "<path style=\"fill:none;stroke-width:1;stroke-linecap:butt;stroke-linejoin:miter;stroke:rgb(26.666667%,26.666667%,26.666667%);stroke-opacity:1;stroke-miterlimit:10;\" d=\"M 271.691406 418.296875 C 285.261719 409.957031 289.9375 398.105469 285.730469 382.746094 \"/>\n",
       "<path style=\"fill:none;stroke-width:1;stroke-linecap:butt;stroke-linejoin:miter;stroke:rgb(26.666667%,26.666667%,26.666667%);stroke-opacity:1;stroke-miterlimit:10;\" d=\"M 285.730469 382.746094 C 288.402344 396.25 296.59375 403.605469 310.304688 404.824219 \"/>\n",
       "<path style=\"fill:none;stroke-width:1;stroke-linecap:butt;stroke-linejoin:miter;stroke:rgb(26.666667%,26.666667%,26.666667%);stroke-opacity:1;stroke-miterlimit:10;\" d=\"M 285.730469 382.746094 C 292.304688 371.789062 291.25 361.621094 282.574219 352.242188 \"/>\n",
       "<path style=\"fill:none;stroke-width:1;stroke-linecap:butt;stroke-linejoin:miter;stroke:rgb(26.666667%,26.666667%,26.666667%);stroke-opacity:1;stroke-miterlimit:10;\" d=\"M 285.730469 382.746094 C 296.417969 373.667969 307.613281 372.988281 319.320312 380.703125 \"/>\n",
       "<path style=\"fill:none;stroke-width:1;stroke-linecap:butt;stroke-linejoin:miter;stroke:rgb(26.666667%,26.666667%,26.666667%);stroke-opacity:1;stroke-miterlimit:10;\" d=\"M 310.304688 404.824219 C 319.339844 399.035156 322.34375 390.996094 319.320312 380.703125 \"/>\n",
       "<path style=\"fill:none;stroke-width:1;stroke-linecap:butt;stroke-linejoin:miter;stroke:rgb(26.666667%,26.666667%,26.666667%);stroke-opacity:1;stroke-miterlimit:10;\" d=\"M 101.773438 493.773438 C 92.039062 500.792969 82.441406 500.613281 72.976562 493.238281 \"/>\n",
       "<path style=\"fill:none;stroke-width:1;stroke-linecap:butt;stroke-linejoin:miter;stroke:rgb(26.666667%,26.666667%,26.666667%);stroke-opacity:1;stroke-miterlimit:10;\" d=\"M 72.976562 493.238281 C 70.359375 501.519531 72.65625 508.074219 79.875 512.90625 \"/>\n",
       "<path style=\"fill:none;stroke-width:1;stroke-linecap:butt;stroke-linejoin:miter;stroke:rgb(26.666667%,26.666667%,26.666667%);stroke-opacity:1;stroke-miterlimit:10;\" d=\"M 72.976562 493.238281 C 79.53125 487.285156 80.871094 480.332031 76.992188 472.375 \"/>\n",
       "<path style=\"fill:none;stroke-width:1;stroke-linecap:butt;stroke-linejoin:miter;stroke:rgb(26.666667%,26.666667%,26.666667%);stroke-opacity:1;stroke-miterlimit:10;\" d=\"M 534.265625 427.429688 C 542.449219 426.113281 548.316406 429.199219 551.871094 436.683594 \"/>\n",
       "<path style=\"fill:none;stroke-width:1;stroke-linecap:butt;stroke-linejoin:miter;stroke:rgb(26.666667%,26.666667%,26.666667%);stroke-opacity:1;stroke-miterlimit:10;\" d=\"M 29.082031 328.214844 C 36.960938 325.683594 43.21875 327.847656 47.855469 334.703125 \"/>\n",
       "<path style=\"fill:none;stroke-width:1;stroke-linecap:butt;stroke-linejoin:miter;stroke:rgb(26.666667%,26.666667%,26.666667%);stroke-opacity:1;stroke-miterlimit:10;\" d=\"M 36.726562 306.316406 C 47.53125 312.996094 51.242188 322.457031 47.855469 334.703125 \"/>\n",
       "<path style=\"fill:none;stroke-width:1;stroke-linecap:butt;stroke-linejoin:miter;stroke:rgb(26.666667%,26.666667%,26.666667%);stroke-opacity:1;stroke-miterlimit:10;\" d=\"M 55.09375 361.667969 C 59.421875 350.871094 57.011719 341.882812 47.855469 334.703125 \"/>\n",
       "<path style=\"fill:none;stroke-width:1;stroke-linecap:butt;stroke-linejoin:miter;stroke:rgb(26.666667%,26.666667%,26.666667%);stroke-opacity:1;stroke-miterlimit:10;\" d=\"M 365.402344 239.773438 C 382.226562 249.554688 388.296875 263.890625 383.613281 282.78125 \"/>\n",
       "<path style=\"fill:none;stroke-width:1;stroke-linecap:butt;stroke-linejoin:miter;stroke:rgb(26.666667%,26.666667%,26.666667%);stroke-opacity:1;stroke-miterlimit:10;\" d=\"M 393.359375 88.714844 C 373.179688 97.921875 355.847656 94.128906 341.359375 77.335938 \"/>\n",
       "<path style=\"fill:none;stroke-width:1;stroke-linecap:butt;stroke-linejoin:miter;stroke:rgb(26.666667%,26.666667%,26.666667%);stroke-opacity:1;stroke-miterlimit:10;\" d=\"M 341.359375 77.335938 C 334.914062 64.136719 337.121094 52.59375 347.984375 42.707031 \"/>\n",
       "<path style=\"fill:none;stroke-width:1;stroke-linecap:butt;stroke-linejoin:miter;stroke:rgb(26.666667%,26.666667%,26.666667%);stroke-opacity:1;stroke-miterlimit:10;\" d=\"M 341.359375 77.335938 C 316.523438 68.085938 296.1875 74.089844 280.351562 95.34375 \"/>\n",
       "<path style=\"fill:none;stroke-width:1;stroke-linecap:butt;stroke-linejoin:miter;stroke:rgb(26.666667%,26.666667%,26.666667%);stroke-opacity:1;stroke-miterlimit:10;\" d=\"M 341.359375 77.335938 C 342.484375 88.441406 348.535156 95.007812 359.511719 97.039062 \"/>\n",
       "<path style=\"fill:none;stroke-width:1;stroke-linecap:butt;stroke-linejoin:miter;stroke:rgb(26.666667%,26.666667%,26.666667%);stroke-opacity:1;stroke-miterlimit:10;\" d=\"M 341.359375 77.335938 C 358.058594 82.085938 371.027344 77.113281 380.261719 62.410156 \"/>\n",
       "<path style=\"fill:none;stroke-width:1;stroke-linecap:butt;stroke-linejoin:miter;stroke:rgb(26.666667%,26.666667%,26.666667%);stroke-opacity:1;stroke-miterlimit:10;\" d=\"M 341.359375 77.335938 C 326.96875 81.671875 319.839844 91.351562 319.972656 106.382812 \"/>\n",
       "<path style=\"fill:none;stroke-width:1;stroke-linecap:butt;stroke-linejoin:miter;stroke:rgb(26.666667%,26.666667%,26.666667%);stroke-opacity:1;stroke-miterlimit:10;\" d=\"M 434.949219 236.964844 C 420.734375 249.519531 405.613281 250.730469 389.578125 240.601562 \"/>\n",
       "<path style=\"fill:none;stroke-width:1;stroke-linecap:butt;stroke-linejoin:miter;stroke:rgb(26.666667%,26.666667%,26.666667%);stroke-opacity:1;stroke-miterlimit:10;\" d=\"M 389.578125 240.601562 C 388.550781 232.113281 391.964844 226.1875 399.828125 222.820312 \"/>\n",
       "<path style=\"fill:none;stroke-width:1;stroke-linecap:butt;stroke-linejoin:miter;stroke:rgb(26.666667%,26.666667%,26.666667%);stroke-opacity:1;stroke-miterlimit:10;\" d=\"M 365.402344 239.773438 C 373.671875 234.003906 381.726562 234.28125 389.578125 240.601562 \"/>\n",
       "<path style=\"fill:none;stroke-width:1;stroke-linecap:butt;stroke-linejoin:miter;stroke:rgb(26.666667%,26.666667%,26.666667%);stroke-opacity:1;stroke-miterlimit:10;\" d=\"M 389.578125 240.601562 C 397.242188 253.265625 408.222656 257.691406 422.523438 253.878906 \"/>\n",
       "<path style=\"fill:none;stroke-width:1;stroke-linecap:butt;stroke-linejoin:miter;stroke:rgb(26.666667%,26.666667%,26.666667%);stroke-opacity:1;stroke-miterlimit:10;\" d=\"M 389.578125 240.601562 C 386.429688 247.5 387.726562 253.425781 393.46875 258.382812 \"/>\n",
       "<path style=\"fill:none;stroke-width:1;stroke-linecap:butt;stroke-linejoin:miter;stroke:rgb(26.666667%,26.666667%,26.666667%);stroke-opacity:1;stroke-miterlimit:10;\" d=\"M 327.003906 239.9375 C 347.695312 255.800781 368.554688 256.023438 389.578125 240.601562 \"/>\n",
       "<path style=\"fill:none;stroke-width:1;stroke-linecap:butt;stroke-linejoin:miter;stroke:rgb(26.666667%,26.666667%,26.666667%);stroke-opacity:1;stroke-miterlimit:10;\" d=\"M 518.722656 294.132812 C 518.722656 309.9375 526.304688 320.050781 541.472656 324.476562 \"/>\n",
       "<path style=\"fill:none;stroke-width:1;stroke-linecap:butt;stroke-linejoin:miter;stroke:rgb(26.666667%,26.666667%,26.666667%);stroke-opacity:1;stroke-miterlimit:10;\" d=\"M 541.472656 324.476562 C 549.21875 332.957031 558.25 334.667969 568.5625 329.605469 \"/>\n",
       "<path style=\"fill:none;stroke-width:1;stroke-linecap:butt;stroke-linejoin:miter;stroke:rgb(26.666667%,26.666667%,26.666667%);stroke-opacity:1;stroke-miterlimit:10;\" d=\"M 541.472656 324.476562 C 534.109375 332.582031 533.285156 341.300781 539.003906 350.640625 \"/>\n",
       "<path style=\"fill:none;stroke-width:1;stroke-linecap:butt;stroke-linejoin:miter;stroke:rgb(26.666667%,26.666667%,26.666667%);stroke-opacity:1;stroke-miterlimit:10;\" d=\"M 307.203125 247.335938 C 285.347656 253.296875 268.5 246.617188 256.660156 227.308594 \"/>\n",
       "<path style=\"fill:none;stroke-width:1;stroke-linecap:butt;stroke-linejoin:miter;stroke:rgb(26.666667%,26.666667%,26.666667%);stroke-opacity:1;stroke-miterlimit:10;\" d=\"M 256.660156 227.308594 C 242.785156 224.800781 235.105469 216.539062 233.625 202.515625 \"/>\n",
       "<path style=\"fill:none;stroke-width:1;stroke-linecap:butt;stroke-linejoin:miter;stroke:rgb(26.666667%,26.666667%,26.666667%);stroke-opacity:1;stroke-miterlimit:10;\" d=\"M 256.660156 227.308594 C 247.886719 215.988281 247.703125 204.53125 256.109375 192.9375 \"/>\n",
       "<path style=\"fill:none;stroke-width:1;stroke-linecap:butt;stroke-linejoin:miter;stroke:rgb(26.666667%,26.666667%,26.666667%);stroke-opacity:1;stroke-miterlimit:10;\" d=\"M 256.660156 227.308594 C 232.105469 213.113281 209.578125 215.8125 189.078125 235.410156 \"/>\n",
       "<path style=\"fill:none;stroke-width:1;stroke-linecap:butt;stroke-linejoin:miter;stroke:rgb(26.666667%,26.666667%,26.666667%);stroke-opacity:1;stroke-miterlimit:10;\" d=\"M 256.660156 227.308594 C 276.953125 249.101562 300.398438 253.3125 327.003906 239.9375 \"/>\n",
       "<path style=\"fill:none;stroke-width:1;stroke-linecap:butt;stroke-linejoin:miter;stroke:rgb(26.666667%,26.666667%,26.666667%);stroke-opacity:1;stroke-miterlimit:10;\" d=\"M 256.660156 227.308594 C 249.535156 207.261719 235.351562 197.851562 214.113281 199.082031 \"/>\n",
       "<path style=\"fill:none;stroke-width:1;stroke-linecap:butt;stroke-linejoin:miter;stroke:rgb(26.666667%,26.666667%,26.666667%);stroke-opacity:1;stroke-miterlimit:10;\" d=\"M 256.660156 227.308594 C 266.132812 236.683594 276.695312 238.136719 288.351562 231.667969 \"/>\n",
       "<path style=\"fill:none;stroke-width:1;stroke-linecap:butt;stroke-linejoin:miter;stroke:rgb(26.666667%,26.666667%,26.666667%);stroke-opacity:1;stroke-miterlimit:10;\" d=\"M 256.660156 227.308594 C 236.160156 246.90625 213.632812 249.605469 189.078125 235.410156 \"/>\n",
       "<path style=\"fill:none;stroke-width:1;stroke-linecap:butt;stroke-linejoin:miter;stroke:rgb(26.666667%,26.666667%,26.666667%);stroke-opacity:1;stroke-miterlimit:10;\" d=\"M 189.078125 235.410156 C 172.605469 243.933594 166.152344 257.296875 169.722656 275.5 \"/>\n",
       "<path style=\"fill:none;stroke-width:1;stroke-linecap:butt;stroke-linejoin:miter;stroke:rgb(26.666667%,26.666667%,26.666667%);stroke-opacity:1;stroke-miterlimit:10;\" d=\"M 189.078125 235.410156 C 180.734375 223.589844 169.71875 220.027344 156.035156 224.730469 \"/>\n",
       "<path style=\"fill:none;stroke-width:1;stroke-linecap:butt;stroke-linejoin:miter;stroke:rgb(26.666667%,26.666667%,26.666667%);stroke-opacity:1;stroke-miterlimit:10;\" d=\"M 189.078125 235.410156 C 172.402344 220.617188 154.628906 219.148438 135.757812 231.015625 \"/>\n",
       "<path style=\"fill:none;stroke-width:1;stroke-linecap:butt;stroke-linejoin:miter;stroke:rgb(26.666667%,26.666667%,26.666667%);stroke-opacity:1;stroke-miterlimit:10;\" d=\"M 189.078125 235.410156 C 181.996094 247.996094 183.503906 259.453125 193.605469 269.773438 \"/>\n",
       "<path style=\"fill:none;stroke-width:1;stroke-linecap:butt;stroke-linejoin:miter;stroke:rgb(26.666667%,26.666667%,26.666667%);stroke-opacity:1;stroke-miterlimit:10;\" d=\"M 214.113281 199.082031 C 196.683594 204.933594 188.339844 217.042969 189.078125 235.410156 \"/>\n",
       "<path style=\"fill:none;stroke-width:1;stroke-linecap:butt;stroke-linejoin:miter;stroke:rgb(26.666667%,26.666667%,26.666667%);stroke-opacity:1;stroke-miterlimit:10;\" d=\"M 580 386.148438 C 572.214844 383.710938 566.058594 385.886719 561.535156 392.679688 \"/>\n",
       "<path style=\"fill:none;stroke-width:1;stroke-linecap:butt;stroke-linejoin:miter;stroke:rgb(26.666667%,26.666667%,26.666667%);stroke-opacity:1;stroke-miterlimit:10;\" d=\"M 237.894531 432.933594 C 200.859375 410.875 187.742188 378.980469 198.546875 337.25 \"/>\n",
       "<path style=\"fill:none;stroke-width:1;stroke-linecap:butt;stroke-linejoin:miter;stroke:rgb(26.666667%,26.666667%,26.666667%);stroke-opacity:1;stroke-miterlimit:10;\" d=\"M 198.546875 337.25 C 204.378906 309.460938 194.769531 288.875 169.722656 275.5 \"/>\n",
       "<path style=\"fill:none;stroke-width:1;stroke-linecap:butt;stroke-linejoin:miter;stroke:rgb(26.666667%,26.666667%,26.666667%);stroke-opacity:1;stroke-miterlimit:10;\" d=\"M 198.546875 337.25 C 200.140625 322.632812 194.148438 312.515625 180.5625 306.890625 \"/>\n",
       "<path style=\"fill:none;stroke-width:1;stroke-linecap:butt;stroke-linejoin:miter;stroke:rgb(26.666667%,26.666667%,26.666667%);stroke-opacity:1;stroke-miterlimit:10;\" d=\"M 198.546875 337.25 C 213.769531 313.523438 212.121094 291.03125 193.605469 269.773438 \"/>\n",
       "<path style=\"fill:none;stroke-width:1;stroke-linecap:butt;stroke-linejoin:miter;stroke:rgb(26.666667%,26.666667%,26.666667%);stroke-opacity:1;stroke-miterlimit:10;\" d=\"M 393.359375 88.714844 C 402.007812 77.164062 413.089844 73.925781 426.601562 78.996094 \"/>\n",
       "<path style=\"fill:none;stroke-width:1;stroke-linecap:butt;stroke-linejoin:miter;stroke:rgb(26.666667%,26.666667%,26.666667%);stroke-opacity:1;stroke-miterlimit:10;\" d=\"M 467.046875 116.824219 C 444.109375 114.328125 430.625 101.71875 426.601562 78.996094 \"/>\n",
       "<path style=\"fill:none;stroke-width:1;stroke-linecap:butt;stroke-linejoin:miter;stroke:rgb(26.666667%,26.666667%,26.666667%);stroke-opacity:1;stroke-miterlimit:10;\" d=\"M 426.601562 78.996094 C 439.277344 76.019531 445.964844 68.03125 446.65625 55.027344 \"/>\n",
       "<path style=\"fill:none;stroke-width:1;stroke-linecap:butt;stroke-linejoin:miter;stroke:rgb(26.666667%,26.666667%,26.666667%);stroke-opacity:1;stroke-miterlimit:10;\" d=\"M 426.601562 78.996094 C 415.300781 61.882812 399.855469 56.355469 380.261719 62.410156 \"/>\n",
       "<path style=\"fill:none;stroke-width:1;stroke-linecap:butt;stroke-linejoin:miter;stroke:rgb(26.666667%,26.666667%,26.666667%);stroke-opacity:1;stroke-miterlimit:10;\" d=\"M 426.601562 78.996094 C 423.710938 86.902344 425.652344 93.351562 432.4375 98.34375 \"/>\n",
       "<path style=\"fill:none;stroke-width:1;stroke-linecap:butt;stroke-linejoin:miter;stroke:rgb(26.666667%,26.666667%,26.666667%);stroke-opacity:1;stroke-miterlimit:10;\" d=\"M 189.078125 235.410156 C 192.648438 253.613281 186.195312 266.972656 169.722656 275.5 \"/>\n",
       "<path style=\"fill:none;stroke-width:1;stroke-linecap:butt;stroke-linejoin:miter;stroke:rgb(26.666667%,26.666667%,26.666667%);stroke-opacity:1;stroke-miterlimit:10;\" d=\"M 198.546875 337.25 C 173.5 323.871094 163.894531 303.289062 169.722656 275.5 \"/>\n",
       "<path style=\"fill:none;stroke-width:1;stroke-linecap:butt;stroke-linejoin:miter;stroke:rgb(26.666667%,26.666667%,26.666667%);stroke-opacity:1;stroke-miterlimit:10;\" d=\"M 169.722656 275.5 C 169.523438 252.179688 158.203125 237.351562 135.757812 231.015625 \"/>\n",
       "<path style=\"fill:none;stroke-width:1;stroke-linecap:butt;stroke-linejoin:miter;stroke:rgb(26.666667%,26.666667%,26.666667%);stroke-opacity:1;stroke-miterlimit:10;\" d=\"M 169.722656 275.5 C 179.113281 279.5625 187.074219 277.652344 193.605469 269.773438 \"/>\n",
       "<path style=\"fill:none;stroke-width:1;stroke-linecap:butt;stroke-linejoin:miter;stroke:rgb(26.666667%,26.666667%,26.666667%);stroke-opacity:1;stroke-miterlimit:10;\" d=\"M 365.402344 239.773438 C 344.832031 241.421875 330.875 232.605469 323.53125 213.316406 \"/>\n",
       "<path style=\"fill:none;stroke-width:1;stroke-linecap:butt;stroke-linejoin:miter;stroke:rgb(26.666667%,26.666667%,26.666667%);stroke-opacity:1;stroke-miterlimit:10;\" d=\"M 323.53125 213.316406 C 324.300781 225.175781 330.484375 232.394531 342.082031 234.976562 \"/>\n",
       "<path style=\"fill:none;stroke-width:1;stroke-linecap:butt;stroke-linejoin:miter;stroke:rgb(26.666667%,26.666667%,26.666667%);stroke-opacity:1;stroke-miterlimit:10;\" d=\"M 308.886719 165.621094 C 301.84375 185.179688 306.726562 201.078125 323.53125 213.316406 \"/>\n",
       "<path style=\"fill:none;stroke-width:1;stroke-linecap:butt;stroke-linejoin:miter;stroke:rgb(26.666667%,26.666667%,26.666667%);stroke-opacity:1;stroke-miterlimit:10;\" d=\"M 288.351562 231.667969 C 304.664062 234.347656 316.390625 228.230469 323.53125 213.316406 \"/>\n",
       "<path style=\"fill:none;stroke-width:1;stroke-linecap:butt;stroke-linejoin:miter;stroke:rgb(26.666667%,26.666667%,26.666667%);stroke-opacity:1;stroke-miterlimit:10;\" d=\"M 313.3125 235.992188 C 322.386719 230.988281 325.792969 223.429688 323.53125 213.316406 \"/>\n",
       "<path style=\"fill:none;stroke-width:1;stroke-linecap:butt;stroke-linejoin:miter;stroke:rgb(26.666667%,26.666667%,26.666667%);stroke-opacity:1;stroke-miterlimit:10;\" d=\"M 296.269531 554.773438 C 305.691406 544.453125 316.671875 542.375 329.214844 548.527344 \"/>\n",
       "<path style=\"fill:none;stroke-width:1;stroke-linecap:butt;stroke-linejoin:miter;stroke:rgb(26.666667%,26.666667%,26.666667%);stroke-opacity:1;stroke-miterlimit:10;\" d=\"M 307.207031 578.328125 C 321.992188 573.898438 329.328125 563.964844 329.214844 548.527344 \"/>\n",
       "<path style=\"fill:none;stroke-width:1;stroke-linecap:butt;stroke-linejoin:miter;stroke:rgb(26.666667%,26.666667%,26.666667%);stroke-opacity:1;stroke-miterlimit:10;\" d=\"M 290.332031 509.570312 C 293.554688 532.277344 306.515625 545.261719 329.214844 548.527344 \"/>\n",
       "<path style=\"fill:none;stroke-width:1;stroke-linecap:butt;stroke-linejoin:miter;stroke:rgb(26.666667%,26.666667%,26.666667%);stroke-opacity:1;stroke-miterlimit:10;\" d=\"M 390.832031 543.867188 C 369.128906 530.015625 348.589844 531.570312 329.214844 548.527344 \"/>\n",
       "<path style=\"fill:none;stroke-width:1;stroke-linecap:butt;stroke-linejoin:miter;stroke:rgb(26.666667%,26.666667%,26.666667%);stroke-opacity:1;stroke-miterlimit:10;\" d=\"M 329.214844 548.527344 C 336.710938 549.617188 342.03125 546.714844 345.175781 539.820312 \"/>\n",
       "<path style=\"fill:none;stroke-width:1;stroke-linecap:butt;stroke-linejoin:miter;stroke:rgb(26.666667%,26.666667%,26.666667%);stroke-opacity:1;stroke-miterlimit:10;\" d=\"M 189.078125 235.410156 C 175.390625 240.109375 164.378906 236.550781 156.035156 224.730469 \"/>\n",
       "<path style=\"fill:none;stroke-width:1;stroke-linecap:butt;stroke-linejoin:miter;stroke:rgb(26.666667%,26.666667%,26.666667%);stroke-opacity:1;stroke-miterlimit:10;\" d=\"M 156.035156 224.730469 C 147.703125 221.753906 140.945312 223.851562 135.757812 231.015625 \"/>\n",
       "<path style=\"fill:none;stroke-width:1;stroke-linecap:butt;stroke-linejoin:miter;stroke:rgb(26.666667%,26.666667%,26.666667%);stroke-opacity:1;stroke-miterlimit:10;\" d=\"M 365.402344 239.773438 C 356.429688 244.003906 348.65625 242.40625 342.082031 234.976562 \"/>\n",
       "<path style=\"fill:none;stroke-width:1;stroke-linecap:butt;stroke-linejoin:miter;stroke:rgb(26.666667%,26.666667%,26.666667%);stroke-opacity:1;stroke-miterlimit:10;\" d=\"M 323.53125 213.316406 C 335.128906 215.902344 341.3125 223.121094 342.082031 234.976562 \"/>\n",
       "<path style=\"fill:none;stroke-width:1;stroke-linecap:butt;stroke-linejoin:miter;stroke:rgb(26.666667%,26.666667%,26.666667%);stroke-opacity:1;stroke-miterlimit:10;\" d=\"M 334.472656 257.476562 C 342.632812 251.878906 345.167969 244.378906 342.082031 234.976562 \"/>\n",
       "<path style=\"fill:none;stroke-width:1;stroke-linecap:butt;stroke-linejoin:miter;stroke:rgb(26.666667%,26.666667%,26.666667%);stroke-opacity:1;stroke-miterlimit:10;\" d=\"M 313.3125 235.992188 C 323.15625 242.847656 332.746094 242.507812 342.082031 234.976562 \"/>\n",
       "<path style=\"fill:none;stroke-width:1;stroke-linecap:butt;stroke-linejoin:miter;stroke:rgb(26.666667%,26.666667%,26.666667%);stroke-opacity:1;stroke-miterlimit:10;\" d=\"M 447.632812 293.800781 C 434.980469 291.414062 428.03125 283.8125 426.78125 271 \"/>\n",
       "<path style=\"fill:none;stroke-width:1;stroke-linecap:butt;stroke-linejoin:miter;stroke:rgb(26.666667%,26.666667%,26.666667%);stroke-opacity:1;stroke-miterlimit:10;\" d=\"M 365.402344 239.773438 C 393.671875 234.835938 414.128906 245.246094 426.78125 271 \"/>\n",
       "<path style=\"fill:none;stroke-width:1;stroke-linecap:butt;stroke-linejoin:miter;stroke:rgb(26.666667%,26.666667%,26.666667%);stroke-opacity:1;stroke-miterlimit:10;\" d=\"M 422.523438 253.878906 C 419.664062 260.652344 421.082031 266.359375 426.78125 271 \"/>\n",
       "<path style=\"fill:none;stroke-width:1;stroke-linecap:butt;stroke-linejoin:miter;stroke:rgb(26.666667%,26.666667%,26.666667%);stroke-opacity:1;stroke-miterlimit:10;\" d=\"M 426.78125 271 C 438.40625 284.101562 452.132812 286.90625 467.96875 279.414062 \"/>\n",
       "<path style=\"fill:none;stroke-width:1;stroke-linecap:butt;stroke-linejoin:miter;stroke:rgb(26.666667%,26.666667%,26.666667%);stroke-opacity:1;stroke-miterlimit:10;\" d=\"M 426.78125 271 C 419.585938 270.046875 414.523438 272.890625 411.59375 279.53125 \"/>\n",
       "<path style=\"fill:none;stroke-width:1;stroke-linecap:butt;stroke-linejoin:miter;stroke:rgb(26.666667%,26.666667%,26.666667%);stroke-opacity:1;stroke-miterlimit:10;\" d=\"M 324.734375 129.984375 C 320.769531 137.925781 314.421875 141.105469 305.6875 139.523438 \"/>\n",
       "<path style=\"fill:none;stroke-width:1;stroke-linecap:butt;stroke-linejoin:miter;stroke:rgb(26.666667%,26.666667%,26.666667%);stroke-opacity:1;stroke-miterlimit:10;\" d=\"M 305.6875 139.523438 C 301.003906 147.5625 294.152344 150.457031 285.125 148.214844 \"/>\n",
       "<path style=\"fill:none;stroke-width:1;stroke-linecap:butt;stroke-linejoin:miter;stroke:rgb(26.666667%,26.666667%,26.666667%);stroke-opacity:1;stroke-miterlimit:10;\" d=\"M 305.6875 139.523438 C 313.054688 147.605469 321.648438 149.238281 331.46875 144.425781 \"/>\n",
       "<path style=\"fill:none;stroke-width:1;stroke-linecap:butt;stroke-linejoin:miter;stroke:rgb(26.666667%,26.666667%,26.666667%);stroke-opacity:1;stroke-miterlimit:10;\" d=\"M 308.886719 165.621094 C 314.34375 156.121094 313.277344 147.421875 305.6875 139.523438 \"/>\n",
       "<path style=\"fill:none;stroke-width:1;stroke-linecap:butt;stroke-linejoin:miter;stroke:rgb(26.666667%,26.666667%,26.666667%);stroke-opacity:1;stroke-miterlimit:10;\" d=\"M 198.546875 337.25 C 184.964844 331.625 178.96875 321.507812 180.5625 306.890625 \"/>\n",
       "<path style=\"fill:none;stroke-width:1;stroke-linecap:butt;stroke-linejoin:miter;stroke:rgb(26.666667%,26.666667%,26.666667%);stroke-opacity:1;stroke-miterlimit:10;\" d=\"M 193.605469 269.773438 C 179.976562 278.886719 175.628906 291.257812 180.5625 306.890625 \"/>\n",
       "<path style=\"fill:none;stroke-width:1;stroke-linecap:butt;stroke-linejoin:miter;stroke:rgb(26.666667%,26.666667%,26.666667%);stroke-opacity:1;stroke-miterlimit:10;\" d=\"M 474.824219 500.640625 C 489.539062 499.734375 498.519531 492.089844 501.765625 477.710938 \"/>\n",
       "<path style=\"fill:none;stroke-width:1;stroke-linecap:butt;stroke-linejoin:miter;stroke:rgb(26.666667%,26.666667%,26.666667%);stroke-opacity:1;stroke-miterlimit:10;\" d=\"M 251.664062 389.355469 C 248.992188 377.660156 252.898438 368.894531 263.378906 363.054688 \"/>\n",
       "<path style=\"fill:none;stroke-width:1;stroke-linecap:butt;stroke-linejoin:miter;stroke:rgb(26.666667%,26.666667%,26.666667%);stroke-opacity:1;stroke-miterlimit:10;\" d=\"M 285.730469 382.746094 C 273.355469 381.769531 265.90625 375.207031 263.378906 363.054688 \"/>\n",
       "<path style=\"fill:none;stroke-width:1;stroke-linecap:butt;stroke-linejoin:miter;stroke:rgb(26.666667%,26.666667%,26.666667%);stroke-opacity:1;stroke-miterlimit:10;\" d=\"M 263.378906 363.054688 C 272.480469 364.25 278.875 360.644531 282.574219 352.242188 \"/>\n",
       "<path style=\"fill:none;stroke-width:1;stroke-linecap:butt;stroke-linejoin:miter;stroke:rgb(26.666667%,26.666667%,26.666667%);stroke-opacity:1;stroke-miterlimit:10;\" d=\"M 251.136719 463.238281 C 258.710938 466.011719 262.230469 471.421875 261.691406 479.46875 \"/>\n",
       "<path style=\"fill:none;stroke-width:1;stroke-linecap:butt;stroke-linejoin:miter;stroke:rgb(26.666667%,26.666667%,26.666667%);stroke-opacity:1;stroke-miterlimit:10;\" d=\"M 261.691406 479.46875 C 274.738281 471.769531 286.78125 473.101562 297.828125 483.472656 \"/>\n",
       "<path style=\"fill:none;stroke-width:1;stroke-linecap:butt;stroke-linejoin:miter;stroke:rgb(26.666667%,26.666667%,26.666667%);stroke-opacity:1;stroke-miterlimit:10;\" d=\"M 261.691406 479.46875 C 242.125 469.90625 234.191406 454.394531 237.894531 432.933594 \"/>\n",
       "<path style=\"fill:none;stroke-width:1;stroke-linecap:butt;stroke-linejoin:miter;stroke:rgb(26.666667%,26.666667%,26.666667%);stroke-opacity:1;stroke-miterlimit:10;\" d=\"M 261.691406 479.46875 C 270.957031 472.476562 273.527344 463.550781 269.410156 452.699219 \"/>\n",
       "<path style=\"fill:none;stroke-width:1;stroke-linecap:butt;stroke-linejoin:miter;stroke:rgb(26.666667%,26.666667%,26.666667%);stroke-opacity:1;stroke-miterlimit:10;\" d=\"M 261.691406 479.46875 C 263.710938 496.664062 273.257812 506.695312 290.332031 509.570312 \"/>\n",
       "<path style=\"fill:none;stroke-width:1;stroke-linecap:butt;stroke-linejoin:miter;stroke:rgb(26.666667%,26.666667%,26.666667%);stroke-opacity:1;stroke-miterlimit:10;\" d=\"M 261.691406 479.46875 C 250.511719 474.921875 241.175781 477.375 233.679688 486.832031 \"/>\n",
       "<path style=\"fill:none;stroke-width:1;stroke-linecap:butt;stroke-linejoin:miter;stroke:rgb(26.666667%,26.666667%,26.666667%);stroke-opacity:1;stroke-miterlimit:10;\" d=\"M 324.734375 129.984375 C 330.589844 133.113281 332.835938 137.929688 331.46875 144.425781 \"/>\n",
       "<path style=\"fill:none;stroke-width:1;stroke-linecap:butt;stroke-linejoin:miter;stroke:rgb(26.666667%,26.666667%,26.666667%);stroke-opacity:1;stroke-miterlimit:10;\" d=\"M 305.6875 139.523438 C 315.507812 134.714844 324.101562 136.347656 331.46875 144.425781 \"/>\n",
       "<path style=\"fill:none;stroke-width:1;stroke-linecap:butt;stroke-linejoin:miter;stroke:rgb(26.666667%,26.666667%,26.666667%);stroke-opacity:1;stroke-miterlimit:10;\" d=\"M 331.46875 144.425781 C 344.117188 145.136719 352.546875 139.519531 356.769531 127.582031 \"/>\n",
       "<path style=\"fill:none;stroke-width:1;stroke-linecap:butt;stroke-linejoin:miter;stroke:rgb(26.666667%,26.666667%,26.666667%);stroke-opacity:1;stroke-miterlimit:10;\" d=\"M 308.886719 165.621094 C 321.714844 164.203125 329.242188 157.136719 331.46875 144.425781 \"/>\n",
       "<path style=\"fill:none;stroke-width:1;stroke-linecap:butt;stroke-linejoin:miter;stroke:rgb(26.666667%,26.666667%,26.666667%);stroke-opacity:1;stroke-miterlimit:10;\" d=\"M 454.0625 127.171875 C 460.09375 129.308594 462.925781 133.566406 462.566406 139.953125 \"/>\n",
       "<path style=\"fill:none;stroke-width:1;stroke-linecap:butt;stroke-linejoin:miter;stroke:rgb(26.666667%,26.666667%,26.666667%);stroke-opacity:1;stroke-miterlimit:10;\" d=\"M 467.046875 116.824219 C 471.335938 125.65625 469.84375 133.363281 462.566406 139.953125 \"/>\n",
       "<path style=\"fill:none;stroke-width:1;stroke-linecap:butt;stroke-linejoin:miter;stroke:rgb(26.666667%,26.666667%,26.666667%);stroke-opacity:1;stroke-miterlimit:10;\" d=\"M 422.886719 121.746094 C 440.667969 117.894531 453.894531 123.964844 462.566406 139.953125 \"/>\n",
       "<path style=\"fill:none;stroke-width:1;stroke-linecap:butt;stroke-linejoin:miter;stroke:rgb(26.666667%,26.666667%,26.666667%);stroke-opacity:1;stroke-miterlimit:10;\" d=\"M 365.402344 239.773438 C 375.9375 254.382812 375.667969 268.789062 364.59375 282.992188 \"/>\n",
       "<path style=\"fill:none;stroke-width:1;stroke-linecap:butt;stroke-linejoin:miter;stroke:rgb(26.666667%,26.666667%,26.666667%);stroke-opacity:1;stroke-miterlimit:10;\" d=\"M 436.261719 516.140625 C 425.105469 520.089844 419.863281 527.972656 420.53125 539.785156 \"/>\n",
       "<path style=\"fill:none;stroke-width:1;stroke-linecap:butt;stroke-linejoin:miter;stroke:rgb(26.666667%,26.666667%,26.666667%);stroke-opacity:1;stroke-miterlimit:10;\" d=\"M 390.832031 543.867188 C 401.753906 549.933594 411.652344 548.570312 420.53125 539.785156 \"/>\n",
       "<path style=\"fill:none;stroke-width:1;stroke-linecap:butt;stroke-linejoin:miter;stroke:rgb(26.666667%,26.666667%,26.666667%);stroke-opacity:1;stroke-miterlimit:10;\" d=\"M 443.675781 537.429688 C 435.371094 532.429688 427.65625 533.214844 420.53125 539.785156 \"/>\n",
       "<path style=\"fill:none;stroke-width:1;stroke-linecap:butt;stroke-linejoin:miter;stroke:rgb(26.666667%,26.666667%,26.666667%);stroke-opacity:1;stroke-miterlimit:10;\" d=\"M 541.570312 273.375 C 539.144531 286.003906 531.53125 292.925781 518.722656 294.132812 \"/>\n",
       "<path style=\"fill:none;stroke-width:1;stroke-linecap:butt;stroke-linejoin:miter;stroke:rgb(26.666667%,26.666667%,26.666667%);stroke-opacity:1;stroke-miterlimit:10;\" d=\"M 518.722656 294.132812 C 533.894531 298.5625 541.476562 308.675781 541.472656 324.476562 \"/>\n",
       "<path style=\"fill:none;stroke-width:1;stroke-linecap:butt;stroke-linejoin:miter;stroke:rgb(26.666667%,26.666667%,26.666667%);stroke-opacity:1;stroke-miterlimit:10;\" d=\"M 518.722656 294.132812 C 528.480469 301.804688 538.40625 302.03125 548.5 294.8125 \"/>\n",
       "<path style=\"fill:none;stroke-width:1;stroke-linecap:butt;stroke-linejoin:miter;stroke:rgb(26.666667%,26.666667%,26.666667%);stroke-opacity:1;stroke-miterlimit:10;\" d=\"M 518.722656 294.132812 C 505.484375 276.539062 488.566406 271.632812 467.96875 279.414062 \"/>\n",
       "<path style=\"fill:none;stroke-width:1;stroke-linecap:butt;stroke-linejoin:miter;stroke:rgb(26.666667%,26.666667%,26.666667%);stroke-opacity:1;stroke-miterlimit:10;\" d=\"M 251.136719 463.238281 C 246.753906 443.121094 253.605469 428.136719 271.691406 418.296875 \"/>\n",
       "<path style=\"fill:none;stroke-width:1;stroke-linecap:butt;stroke-linejoin:miter;stroke:rgb(26.666667%,26.666667%,26.666667%);stroke-opacity:1;stroke-miterlimit:10;\" d=\"M 271.691406 418.296875 C 261.53125 425.160156 251.730469 424.675781 242.292969 416.84375 \"/>\n",
       "<path style=\"fill:none;stroke-width:1;stroke-linecap:butt;stroke-linejoin:miter;stroke:rgb(26.666667%,26.666667%,26.666667%);stroke-opacity:1;stroke-miterlimit:10;\" d=\"M 271.691406 418.296875 C 257.78125 413.65625 251.105469 404.011719 251.664062 389.355469 \"/>\n",
       "<path style=\"fill:none;stroke-width:1;stroke-linecap:butt;stroke-linejoin:miter;stroke:rgb(26.666667%,26.666667%,26.666667%);stroke-opacity:1;stroke-miterlimit:10;\" d=\"M 271.691406 418.296875 C 267.484375 402.9375 272.164062 391.085938 285.730469 382.746094 \"/>\n",
       "<path style=\"fill:none;stroke-width:1;stroke-linecap:butt;stroke-linejoin:miter;stroke:rgb(26.666667%,26.666667%,26.666667%);stroke-opacity:1;stroke-miterlimit:10;\" d=\"M 271.691406 418.296875 C 273.109375 426.988281 278.1875 431.867188 286.929688 432.941406 \"/>\n",
       "<path style=\"fill:none;stroke-width:1;stroke-linecap:butt;stroke-linejoin:miter;stroke:rgb(26.666667%,26.666667%,26.666667%);stroke-opacity:1;stroke-miterlimit:10;\" d=\"M 271.691406 418.296875 C 262.332031 429.195312 261.570312 440.660156 269.410156 452.699219 \"/>\n",
       "<path style=\"fill:none;stroke-width:1;stroke-linecap:butt;stroke-linejoin:miter;stroke:rgb(26.666667%,26.666667%,26.666667%);stroke-opacity:1;stroke-miterlimit:10;\" d=\"M 271.691406 418.296875 C 287.933594 423.457031 300.800781 418.96875 310.304688 404.824219 \"/>\n",
       "<path style=\"fill:none;stroke-width:1;stroke-linecap:butt;stroke-linejoin:miter;stroke:rgb(26.666667%,26.666667%,26.666667%);stroke-opacity:1;stroke-miterlimit:10;\" d=\"M 251.136719 463.238281 C 255.492188 444.191406 267.421875 434.09375 286.929688 432.941406 \"/>\n",
       "<path style=\"fill:none;stroke-width:1;stroke-linecap:butt;stroke-linejoin:miter;stroke:rgb(26.666667%,26.666667%,26.666667%);stroke-opacity:1;stroke-miterlimit:10;\" d=\"M 271.691406 418.296875 C 280.433594 419.371094 285.511719 424.25 286.929688 432.941406 \"/>\n",
       "<path style=\"fill:none;stroke-width:1;stroke-linecap:butt;stroke-linejoin:miter;stroke:rgb(26.666667%,26.666667%,26.666667%);stroke-opacity:1;stroke-miterlimit:10;\" d=\"M 286.929688 432.941406 C 301.75 429.414062 309.542969 420.039062 310.304688 404.824219 \"/>\n",
       "<path style=\"fill:none;stroke-width:1;stroke-linecap:butt;stroke-linejoin:miter;stroke:rgb(26.666667%,26.666667%,26.666667%);stroke-opacity:1;stroke-miterlimit:10;\" d=\"M 20 289.804688 C 20.980469 281.796875 25.453125 277.140625 33.417969 275.84375 \"/>\n",
       "<path style=\"fill:none;stroke-width:1;stroke-linecap:butt;stroke-linejoin:miter;stroke:rgb(26.666667%,26.666667%,26.666667%);stroke-opacity:1;stroke-miterlimit:10;\" d=\"M 36.726562 306.316406 C 28.003906 296.984375 26.902344 286.828125 33.417969 275.84375 \"/>\n",
       "<path style=\"fill:none;stroke-width:1;stroke-linecap:butt;stroke-linejoin:miter;stroke:rgb(26.666667%,26.666667%,26.666667%);stroke-opacity:1;stroke-miterlimit:10;\" d=\"M 33.417969 275.84375 C 40.773438 267.195312 41.332031 258.128906 35.089844 248.644531 \"/>\n",
       "<path style=\"fill:none;stroke-width:1;stroke-linecap:butt;stroke-linejoin:miter;stroke:rgb(26.666667%,26.666667%,26.666667%);stroke-opacity:1;stroke-miterlimit:10;\" d=\"M 280.351562 95.34375 C 289.433594 90.769531 293.046875 83.488281 291.203125 73.492188 \"/>\n",
       "<path style=\"fill:none;stroke-width:1;stroke-linecap:butt;stroke-linejoin:miter;stroke:rgb(26.666667%,26.666667%,26.666667%);stroke-opacity:1;stroke-miterlimit:10;\" d=\"M 319.972656 106.382812 C 318.605469 88.226562 309.015625 77.261719 291.203125 73.492188 \"/>\n",
       "<path style=\"fill:none;stroke-width:1;stroke-linecap:butt;stroke-linejoin:miter;stroke:rgb(26.666667%,26.666667%,26.666667%);stroke-opacity:1;stroke-miterlimit:10;\" d=\"M 365.402344 239.773438 C 347.78125 229.824219 341.28125 215 345.894531 195.300781 \"/>\n",
       "<path style=\"fill:none;stroke-width:1;stroke-linecap:butt;stroke-linejoin:miter;stroke:rgb(26.666667%,26.666667%,26.666667%);stroke-opacity:1;stroke-miterlimit:10;\" d=\"M 308.886719 165.621094 C 313.804688 184.765625 326.140625 194.65625 345.894531 195.300781 \"/>\n",
       "<path style=\"fill:none;stroke-width:1;stroke-linecap:butt;stroke-linejoin:miter;stroke:rgb(26.666667%,26.666667%,26.666667%);stroke-opacity:1;stroke-miterlimit:10;\" d=\"M 251.136719 463.238281 C 250.027344 482.992188 239.835938 495.101562 220.5625 499.570312 \"/>\n",
       "<path style=\"fill:none;stroke-width:1;stroke-linecap:butt;stroke-linejoin:miter;stroke:rgb(26.666667%,26.666667%,26.666667%);stroke-opacity:1;stroke-miterlimit:10;\" d=\"M 457.363281 484.199219 C 458.316406 500.121094 451.28125 510.769531 436.261719 516.140625 \"/>\n",
       "<path style=\"fill:none;stroke-width:1;stroke-linecap:butt;stroke-linejoin:miter;stroke:rgb(26.666667%,26.666667%,26.666667%);stroke-opacity:1;stroke-miterlimit:10;\" d=\"M 436.261719 516.140625 C 436.929688 527.957031 431.6875 535.835938 420.53125 539.785156 \"/>\n",
       "<path style=\"fill:none;stroke-width:1;stroke-linecap:butt;stroke-linejoin:miter;stroke:rgb(26.666667%,26.666667%,26.666667%);stroke-opacity:1;stroke-miterlimit:10;\" d=\"M 474.824219 500.640625 C 458.097656 496.167969 445.242188 501.332031 436.261719 516.140625 \"/>\n",
       "<path style=\"fill:none;stroke-width:1;stroke-linecap:butt;stroke-linejoin:miter;stroke:rgb(26.666667%,26.666667%,26.666667%);stroke-opacity:1;stroke-miterlimit:10;\" d=\"M 390.832031 543.867188 C 412.90625 545.984375 428.050781 536.742188 436.261719 516.140625 \"/>\n",
       "<path style=\"fill:none;stroke-width:1;stroke-linecap:butt;stroke-linejoin:miter;stroke:rgb(26.666667%,26.666667%,26.666667%);stroke-opacity:1;stroke-miterlimit:10;\" d=\"M 443.675781 537.429688 C 446.527344 528.480469 444.054688 521.382812 436.261719 516.140625 \"/>\n",
       "<path style=\"fill:none;stroke-width:1;stroke-linecap:butt;stroke-linejoin:miter;stroke:rgb(26.666667%,26.666667%,26.666667%);stroke-opacity:1;stroke-miterlimit:10;\" d=\"M 458.617188 513.757812 C 450.570312 508.964844 443.117188 509.757812 436.261719 516.140625 \"/>\n",
       "<path style=\"fill:none;stroke-width:1;stroke-linecap:butt;stroke-linejoin:miter;stroke:rgb(26.666667%,26.666667%,26.666667%);stroke-opacity:1;stroke-miterlimit:10;\" d=\"M 434.949219 236.964844 C 435.035156 245.710938 430.894531 251.347656 422.523438 253.878906 \"/>\n",
       "<path style=\"fill:none;stroke-width:1;stroke-linecap:butt;stroke-linejoin:miter;stroke:rgb(26.666667%,26.666667%,26.666667%);stroke-opacity:1;stroke-miterlimit:10;\" d=\"M 365.402344 239.773438 C 387.972656 230.195312 407.011719 234.898438 422.523438 253.878906 \"/>\n",
       "<path style=\"fill:none;stroke-width:1;stroke-linecap:butt;stroke-linejoin:miter;stroke:rgb(26.666667%,26.666667%,26.666667%);stroke-opacity:1;stroke-miterlimit:10;\" d=\"M 389.578125 240.601562 C 403.882812 236.792969 414.863281 241.21875 422.523438 253.878906 \"/>\n",
       "<path style=\"fill:none;stroke-width:1;stroke-linecap:butt;stroke-linejoin:miter;stroke:rgb(26.666667%,26.666667%,26.666667%);stroke-opacity:1;stroke-miterlimit:10;\" d=\"M 422.523438 253.878906 C 428.222656 258.523438 429.640625 264.230469 426.78125 271 \"/>\n",
       "<path style=\"fill:none;stroke-width:1;stroke-linecap:butt;stroke-linejoin:miter;stroke:rgb(26.666667%,26.666667%,26.666667%);stroke-opacity:1;stroke-miterlimit:10;\" d=\"M 422.523438 253.878906 C 431.289062 273.753906 446.4375 282.265625 467.96875 279.414062 \"/>\n",
       "<path style=\"fill:none;stroke-width:1;stroke-linecap:butt;stroke-linejoin:miter;stroke:rgb(26.666667%,26.666667%,26.666667%);stroke-opacity:1;stroke-miterlimit:10;\" d=\"M 467.011719 557.003906 C 464.414062 547.652344 467.238281 540.421875 475.488281 535.308594 \"/>\n",
       "<path style=\"fill:none;stroke-width:1;stroke-linecap:butt;stroke-linejoin:miter;stroke:rgb(26.666667%,26.666667%,26.666667%);stroke-opacity:1;stroke-miterlimit:10;\" d=\"M 475.488281 535.308594 C 472.144531 530.054688 472.527344 525.089844 476.632812 520.410156 \"/>\n",
       "<path style=\"fill:none;stroke-width:1;stroke-linecap:butt;stroke-linejoin:miter;stroke:rgb(26.666667%,26.666667%,26.666667%);stroke-opacity:1;stroke-miterlimit:10;\" d=\"M 475.488281 535.308594 C 483.933594 523.585938 483.714844 512.03125 474.824219 500.640625 \"/>\n",
       "<path style=\"fill:none;stroke-width:1;stroke-linecap:butt;stroke-linejoin:miter;stroke:rgb(26.666667%,26.666667%,26.666667%);stroke-opacity:1;stroke-miterlimit:10;\" d=\"M 475.488281 535.308594 C 464.355469 528.0625 453.75 528.769531 443.675781 537.429688 \"/>\n",
       "<path style=\"fill:none;stroke-width:1;stroke-linecap:butt;stroke-linejoin:miter;stroke:rgb(26.666667%,26.666667%,26.666667%);stroke-opacity:1;stroke-miterlimit:10;\" d=\"M 365.402344 239.773438 C 379.410156 238.960938 388.765625 245.164062 393.46875 258.382812 \"/>\n",
       "<path style=\"fill:none;stroke-width:1;stroke-linecap:butt;stroke-linejoin:miter;stroke:rgb(26.666667%,26.666667%,26.666667%);stroke-opacity:1;stroke-miterlimit:10;\" d=\"M 389.578125 240.601562 C 395.320312 245.554688 396.617188 251.484375 393.46875 258.382812 \"/>\n",
       "<path style=\"fill:none;stroke-width:1;stroke-linecap:butt;stroke-linejoin:miter;stroke:rgb(26.666667%,26.666667%,26.666667%);stroke-opacity:1;stroke-miterlimit:10;\" d=\"M 454.0625 127.171875 C 448.972656 120.339844 448.996094 113.523438 454.132812 106.726562 \"/>\n",
       "<path style=\"fill:none;stroke-width:1;stroke-linecap:butt;stroke-linejoin:miter;stroke:rgb(26.666667%,26.666667%,26.666667%);stroke-opacity:1;stroke-miterlimit:10;\" d=\"M 422.886719 121.746094 C 429.546875 108.925781 439.960938 103.921875 454.132812 106.726562 \"/>\n",
       "<path style=\"fill:none;stroke-width:1;stroke-linecap:butt;stroke-linejoin:miter;stroke:rgb(26.666667%,26.666667%,26.666667%);stroke-opacity:1;stroke-miterlimit:10;\" d=\"M 59.832031 388.136719 C 51.636719 380.496094 50.058594 371.675781 55.09375 361.667969 \"/>\n",
       "<path style=\"fill:none;stroke-width:1;stroke-linecap:butt;stroke-linejoin:miter;stroke:rgb(26.666667%,26.666667%,26.666667%);stroke-opacity:1;stroke-miterlimit:10;\" d=\"M 55.09375 361.667969 C 45.941406 354.492188 43.527344 345.5 47.855469 334.703125 \"/>\n",
       "<path style=\"fill:none;stroke-width:1;stroke-linecap:butt;stroke-linejoin:miter;stroke:rgb(26.666667%,26.666667%,26.666667%);stroke-opacity:1;stroke-miterlimit:10;\" d=\"M 251.136719 463.238281 C 254.589844 455.15625 260.683594 451.644531 269.410156 452.699219 \"/>\n",
       "<path style=\"fill:none;stroke-width:1;stroke-linecap:butt;stroke-linejoin:miter;stroke:rgb(26.666667%,26.666667%,26.666667%);stroke-opacity:1;stroke-miterlimit:10;\" d=\"M 269.410156 452.699219 C 260.554688 453.703125 254.40625 450.09375 250.964844 441.875 \"/>\n",
       "<path style=\"fill:none;stroke-width:1;stroke-linecap:butt;stroke-linejoin:miter;stroke:rgb(26.666667%,26.666667%,26.666667%);stroke-opacity:1;stroke-miterlimit:10;\" d=\"M 269.410156 452.699219 C 251.40625 447.527344 242.367188 435.574219 242.292969 416.84375 \"/>\n",
       "<path style=\"fill:none;stroke-width:1;stroke-linecap:butt;stroke-linejoin:miter;stroke:rgb(26.666667%,26.666667%,26.666667%);stroke-opacity:1;stroke-miterlimit:10;\" d=\"M 269.410156 452.699219 C 286.574219 455.851562 296.046875 466.109375 297.828125 483.472656 \"/>\n",
       "<path style=\"fill:none;stroke-width:1;stroke-linecap:butt;stroke-linejoin:miter;stroke:rgb(26.666667%,26.666667%,26.666667%);stroke-opacity:1;stroke-miterlimit:10;\" d=\"M 261.691406 479.46875 C 257.570312 468.617188 260.144531 459.691406 269.410156 452.699219 \"/>\n",
       "<path style=\"fill:none;stroke-width:1;stroke-linecap:butt;stroke-linejoin:miter;stroke:rgb(26.666667%,26.666667%,26.666667%);stroke-opacity:1;stroke-miterlimit:10;\" d=\"M 271.691406 418.296875 C 279.53125 430.335938 278.769531 441.804688 269.410156 452.699219 \"/>\n",
       "<path style=\"fill:none;stroke-width:1;stroke-linecap:butt;stroke-linejoin:miter;stroke:rgb(26.666667%,26.666667%,26.666667%);stroke-opacity:1;stroke-miterlimit:10;\" d=\"M 269.410156 452.699219 C 275.484375 462.433594 284.046875 465.746094 295.09375 462.636719 \"/>\n",
       "<path style=\"fill:none;stroke-width:1;stroke-linecap:butt;stroke-linejoin:miter;stroke:rgb(26.666667%,26.666667%,26.666667%);stroke-opacity:1;stroke-miterlimit:10;\" d=\"M 250.964844 441.875 C 270.867188 437.761719 285.574219 444.683594 295.09375 462.636719 \"/>\n",
       "<path style=\"fill:none;stroke-width:1;stroke-linecap:butt;stroke-linejoin:miter;stroke:rgb(26.666667%,26.666667%,26.666667%);stroke-opacity:1;stroke-miterlimit:10;\" d=\"M 295.09375 462.636719 C 312.710938 456.328125 327.011719 460.746094 338.003906 475.890625 \"/>\n",
       "<path style=\"fill:none;stroke-width:1;stroke-linecap:butt;stroke-linejoin:miter;stroke:rgb(26.666667%,26.666667%,26.666667%);stroke-opacity:1;stroke-miterlimit:10;\" d=\"M 295.09375 462.636719 C 301.214844 468.898438 302.125 475.84375 297.828125 483.472656 \"/>\n",
       "<path style=\"fill:none;stroke-width:1;stroke-linecap:butt;stroke-linejoin:miter;stroke:rgb(26.666667%,26.666667%,26.666667%);stroke-opacity:1;stroke-miterlimit:10;\" d=\"M 269.410156 452.699219 C 280.457031 449.589844 289.015625 452.902344 295.09375 462.636719 \"/>\n",
       "<path style=\"fill:none;stroke-width:1;stroke-linecap:butt;stroke-linejoin:miter;stroke:rgb(26.666667%,26.666667%,26.666667%);stroke-opacity:1;stroke-miterlimit:10;\" d=\"M 155.949219 126.148438 C 163.035156 119.378906 170.824219 118.449219 179.308594 123.359375 \"/>\n",
       "<path style=\"fill:none;stroke-width:1;stroke-linecap:butt;stroke-linejoin:miter;stroke:rgb(26.666667%,26.666667%,26.666667%);stroke-opacity:1;stroke-miterlimit:10;\" d=\"M 179.308594 123.359375 C 195.300781 117.675781 208.261719 121.71875 218.191406 135.476562 \"/>\n",
       "<path style=\"fill:none;stroke-width:1;stroke-linecap:butt;stroke-linejoin:miter;stroke:rgb(26.666667%,26.666667%,26.666667%);stroke-opacity:1;stroke-miterlimit:10;\" d=\"M 185.3125 150.5 C 176.527344 142.953125 174.527344 133.90625 179.308594 123.359375 \"/>\n",
       "<path style=\"fill:none;stroke-width:1;stroke-linecap:butt;stroke-linejoin:miter;stroke:rgb(26.666667%,26.666667%,26.666667%);stroke-opacity:1;stroke-miterlimit:10;\" d=\"M 261.414062 134.148438 C 261.609375 128.648438 264.375 125.222656 269.707031 123.871094 \"/>\n",
       "<path style=\"fill:none;stroke-width:1;stroke-linecap:butt;stroke-linejoin:miter;stroke:rgb(26.666667%,26.666667%,26.666667%);stroke-opacity:1;stroke-miterlimit:10;\" d=\"M 308.886719 165.621094 C 306.261719 141.910156 293.203125 127.992188 269.707031 123.871094 \"/>\n",
       "<path style=\"fill:none;stroke-width:1;stroke-linecap:butt;stroke-linejoin:miter;stroke:rgb(26.666667%,26.666667%,26.666667%);stroke-opacity:1;stroke-miterlimit:10;\" d=\"M 269.707031 123.871094 C 264.9375 109.980469 255.21875 103.382812 240.546875 104.070312 \"/>\n",
       "<path style=\"fill:none;stroke-width:1;stroke-linecap:butt;stroke-linejoin:miter;stroke:rgb(26.666667%,26.666667%,26.666667%);stroke-opacity:1;stroke-miterlimit:10;\" d=\"M 135.757812 231.015625 C 131.96875 214.484375 121.609375 205.722656 104.679688 204.730469 \"/>\n",
       "<path style=\"fill:none;stroke-width:1;stroke-linecap:butt;stroke-linejoin:miter;stroke:rgb(26.666667%,26.666667%,26.666667%);stroke-opacity:1;stroke-miterlimit:10;\" d=\"M 104.679688 204.730469 C 99.277344 209.667969 98.191406 215.425781 101.421875 221.996094 \"/>\n",
       "<path style=\"fill:none;stroke-width:1;stroke-linecap:butt;stroke-linejoin:miter;stroke:rgb(26.666667%,26.666667%,26.666667%);stroke-opacity:1;stroke-miterlimit:10;\" d=\"M 104.679688 204.730469 C 111.4375 204.777344 115.785156 201.566406 117.722656 195.09375 \"/>\n",
       "<path style=\"fill:none;stroke-width:1;stroke-linecap:butt;stroke-linejoin:miter;stroke:rgb(26.666667%,26.666667%,26.666667%);stroke-opacity:1;stroke-miterlimit:10;\" d=\"M 307.203125 247.335938 C 311.953125 239.917969 318.554688 237.453125 327.003906 239.9375 \"/>\n",
       "<path style=\"fill:none;stroke-width:1;stroke-linecap:butt;stroke-linejoin:miter;stroke:rgb(26.666667%,26.666667%,26.666667%);stroke-opacity:1;stroke-miterlimit:10;\" d=\"M 365.402344 239.773438 C 352.644531 249.425781 339.847656 249.480469 327.003906 239.9375 \"/>\n",
       "<path style=\"fill:none;stroke-width:1;stroke-linecap:butt;stroke-linejoin:miter;stroke:rgb(26.666667%,26.666667%,26.666667%);stroke-opacity:1;stroke-miterlimit:10;\" d=\"M 327.003906 239.9375 C 348.03125 224.515625 368.886719 224.738281 389.578125 240.601562 \"/>\n",
       "<path style=\"fill:none;stroke-width:1;stroke-linecap:butt;stroke-linejoin:miter;stroke:rgb(26.666667%,26.666667%,26.666667%);stroke-opacity:1;stroke-miterlimit:10;\" d=\"M 256.660156 227.308594 C 283.265625 213.929688 306.714844 218.140625 327.003906 239.9375 \"/>\n",
       "<path style=\"fill:none;stroke-width:1;stroke-linecap:butt;stroke-linejoin:miter;stroke:rgb(26.666667%,26.666667%,26.666667%);stroke-opacity:1;stroke-miterlimit:10;\" d=\"M 89.175781 452.121094 C 74.292969 445.320312 68.03125 433.824219 70.394531 417.632812 \"/>\n",
       "<path style=\"fill:none;stroke-width:1;stroke-linecap:butt;stroke-linejoin:miter;stroke:rgb(26.666667%,26.666667%,26.666667%);stroke-opacity:1;stroke-miterlimit:10;\" d=\"M 70.394531 417.632812 C 59.5 410.441406 55.976562 400.609375 59.832031 388.136719 \"/>\n",
       "<path style=\"fill:none;stroke-width:1;stroke-linecap:butt;stroke-linejoin:miter;stroke:rgb(26.666667%,26.666667%,26.666667%);stroke-opacity:1;stroke-miterlimit:10;\" d=\"M 541.472656 324.476562 C 551.785156 319.414062 560.816406 321.125 568.5625 329.605469 \"/>\n",
       "<path style=\"fill:none;stroke-width:1;stroke-linecap:butt;stroke-linejoin:miter;stroke:rgb(26.666667%,26.666667%,26.666667%);stroke-opacity:1;stroke-miterlimit:10;\" d=\"M 131.90625 508.964844 C 127.695312 515.144531 122.035156 517.078125 114.921875 514.769531 \"/>\n",
       "<path style=\"fill:none;stroke-width:1;stroke-linecap:butt;stroke-linejoin:miter;stroke:rgb(26.666667%,26.666667%,26.666667%);stroke-opacity:1;stroke-miterlimit:10;\" d=\"M 122.976562 491.273438 C 126.167969 501.117188 123.480469 508.949219 114.921875 514.769531 \"/>\n",
       "<path style=\"fill:none;stroke-width:1;stroke-linecap:butt;stroke-linejoin:miter;stroke:rgb(26.666667%,26.666667%,26.666667%);stroke-opacity:1;stroke-miterlimit:10;\" d=\"M 101.773438 493.773438 C 111.40625 497.484375 115.789062 504.480469 114.921875 514.769531 \"/>\n",
       "<path style=\"fill:none;stroke-width:1;stroke-linecap:butt;stroke-linejoin:miter;stroke:rgb(26.666667%,26.666667%,26.666667%);stroke-opacity:1;stroke-miterlimit:10;\" d=\"M 122.976562 491.273438 C 113.34375 484.820312 110.277344 476.070312 113.769531 465.015625 \"/>\n",
       "<path style=\"fill:none;stroke-width:1;stroke-linecap:butt;stroke-linejoin:miter;stroke:rgb(26.666667%,26.666667%,26.666667%);stroke-opacity:1;stroke-miterlimit:10;\" d=\"M 101.773438 493.773438 C 98.582031 481.1875 102.582031 471.601562 113.769531 465.015625 \"/>\n",
       "<path style=\"fill:none;stroke-width:1;stroke-linecap:butt;stroke-linejoin:miter;stroke:rgb(26.666667%,26.666667%,26.666667%);stroke-opacity:1;stroke-miterlimit:10;\" d=\"M 138.867188 482.011719 C 126.253906 482.621094 117.886719 476.953125 113.769531 465.015625 \"/>\n",
       "<path style=\"fill:none;stroke-width:1;stroke-linecap:butt;stroke-linejoin:miter;stroke:rgb(26.666667%,26.666667%,26.666667%);stroke-opacity:1;stroke-miterlimit:10;\" d=\"M 113.769531 465.015625 C 102.347656 466.867188 94.148438 462.566406 89.175781 452.121094 \"/>\n",
       "<path style=\"fill:none;stroke-width:1;stroke-linecap:butt;stroke-linejoin:miter;stroke:rgb(26.666667%,26.666667%,26.666667%);stroke-opacity:1;stroke-miterlimit:10;\" d=\"M 113.769531 465.015625 C 103.460938 457.050781 100.6875 447 105.449219 434.875 \"/>\n",
       "<path style=\"fill:none;stroke-width:1;stroke-linecap:butt;stroke-linejoin:miter;stroke:rgb(26.666667%,26.666667%,26.666667%);stroke-opacity:1;stroke-miterlimit:10;\" d=\"M 324.734375 129.984375 C 334.8125 121.171875 345.488281 120.371094 356.769531 127.582031 \"/>\n",
       "<path style=\"fill:none;stroke-width:1;stroke-linecap:butt;stroke-linejoin:miter;stroke:rgb(26.666667%,26.666667%,26.666667%);stroke-opacity:1;stroke-miterlimit:10;\" d=\"M 387.425781 111.730469 C 381.171875 124.675781 370.953125 129.960938 356.769531 127.582031 \"/>\n",
       "<path style=\"fill:none;stroke-width:1;stroke-linecap:butt;stroke-linejoin:miter;stroke:rgb(26.666667%,26.666667%,26.666667%);stroke-opacity:1;stroke-miterlimit:10;\" d=\"M 422.886719 121.746094 C 402.308594 140.21875 380.269531 142.164062 356.769531 127.582031 \"/>\n",
       "<path style=\"fill:none;stroke-width:1;stroke-linecap:butt;stroke-linejoin:miter;stroke:rgb(26.666667%,26.666667%,26.666667%);stroke-opacity:1;stroke-miterlimit:10;\" d=\"M 331.46875 144.425781 C 335.691406 132.488281 344.125 126.871094 356.769531 127.582031 \"/>\n",
       "<path style=\"fill:none;stroke-width:1;stroke-linecap:butt;stroke-linejoin:miter;stroke:rgb(26.666667%,26.666667%,26.666667%);stroke-opacity:1;stroke-miterlimit:10;\" d=\"M 308.886719 165.621094 C 334.359375 164.910156 350.320312 152.230469 356.769531 127.582031 \"/>\n",
       "<path style=\"fill:none;stroke-width:1;stroke-linecap:butt;stroke-linejoin:miter;stroke:rgb(26.666667%,26.666667%,26.666667%);stroke-opacity:1;stroke-miterlimit:10;\" d=\"M 359.511719 97.039062 C 350.960938 106.535156 350.046875 116.714844 356.769531 127.582031 \"/>\n",
       "<path style=\"fill:none;stroke-width:1;stroke-linecap:butt;stroke-linejoin:miter;stroke:rgb(26.666667%,26.666667%,26.666667%);stroke-opacity:1;stroke-miterlimit:10;\" d=\"M 356.769531 127.582031 C 349.804688 111.316406 337.539062 104.25 319.972656 106.382812 \"/>\n",
       "<path style=\"fill:none;stroke-width:1;stroke-linecap:butt;stroke-linejoin:miter;stroke:rgb(26.666667%,26.666667%,26.666667%);stroke-opacity:1;stroke-miterlimit:10;\" d=\"M 507.949219 151.5625 C 510.230469 166.585938 518.898438 175.109375 533.960938 177.128906 \"/>\n",
       "<path style=\"fill:none;stroke-width:1;stroke-linecap:butt;stroke-linejoin:miter;stroke:rgb(26.666667%,26.666667%,26.666667%);stroke-opacity:1;stroke-miterlimit:10;\" d=\"M 135.757812 231.015625 C 123.253906 226.324219 113 229.328125 104.996094 240.019531 \"/>\n",
       "<path style=\"fill:none;stroke-width:1;stroke-linecap:butt;stroke-linejoin:miter;stroke:rgb(26.666667%,26.666667%,26.666667%);stroke-opacity:1;stroke-miterlimit:10;\" d=\"M 101.421875 221.996094 C 98.105469 228.898438 99.300781 234.90625 104.996094 240.019531 \"/>\n",
       "<path style=\"fill:none;stroke-width:1;stroke-linecap:butt;stroke-linejoin:miter;stroke:rgb(26.666667%,26.666667%,26.666667%);stroke-opacity:1;stroke-miterlimit:10;\" d=\"M 218.191406 135.476562 C 228.878906 106.558594 249.597656 93.179688 280.351562 95.34375 \"/>\n",
       "<path style=\"fill:none;stroke-width:1;stroke-linecap:butt;stroke-linejoin:miter;stroke:rgb(26.666667%,26.666667%,26.666667%);stroke-opacity:1;stroke-miterlimit:10;\" d=\"M 341.359375 77.335938 C 325.527344 98.589844 305.191406 104.59375 280.351562 95.34375 \"/>\n",
       "<path style=\"fill:none;stroke-width:1;stroke-linecap:butt;stroke-linejoin:miter;stroke:rgb(26.666667%,26.666667%,26.666667%);stroke-opacity:1;stroke-miterlimit:10;\" d=\"M 280.351562 95.34375 C 278.507812 85.347656 282.121094 78.0625 291.203125 73.492188 \"/>\n",
       "<path style=\"fill:none;stroke-width:1;stroke-linecap:butt;stroke-linejoin:miter;stroke:rgb(26.666667%,26.666667%,26.666667%);stroke-opacity:1;stroke-miterlimit:10;\" d=\"M 319.972656 106.382812 C 309.527344 92.796875 296.320312 89.117188 280.351562 95.34375 \"/>\n",
       "<path style=\"fill:none;stroke-width:1;stroke-linecap:butt;stroke-linejoin:miter;stroke:rgb(26.666667%,26.666667%,26.666667%);stroke-opacity:1;stroke-miterlimit:10;\" d=\"M 256.109375 192.9375 C 266.875 170.636719 284.464844 161.53125 308.886719 165.621094 \"/>\n",
       "<path style=\"fill:none;stroke-width:1;stroke-linecap:butt;stroke-linejoin:miter;stroke:rgb(26.666667%,26.666667%,26.666667%);stroke-opacity:1;stroke-miterlimit:10;\" d=\"M 308.886719 165.621094 C 305.261719 149.78125 310.542969 137.902344 324.734375 129.984375 \"/>\n",
       "<path style=\"fill:none;stroke-width:1;stroke-linecap:butt;stroke-linejoin:miter;stroke:rgb(26.666667%,26.666667%,26.666667%);stroke-opacity:1;stroke-miterlimit:10;\" d=\"M 365.402344 239.773438 C 328.027344 229.183594 309.1875 204.464844 308.886719 165.621094 \"/>\n",
       "<path style=\"fill:none;stroke-width:1;stroke-linecap:butt;stroke-linejoin:miter;stroke:rgb(26.666667%,26.666667%,26.666667%);stroke-opacity:1;stroke-miterlimit:10;\" d=\"M 308.886719 165.621094 C 296.613281 165.757812 288.695312 159.957031 285.125 148.214844 \"/>\n",
       "<path style=\"fill:none;stroke-width:1;stroke-linecap:butt;stroke-linejoin:miter;stroke:rgb(26.666667%,26.666667%,26.666667%);stroke-opacity:1;stroke-miterlimit:10;\" d=\"M 308.886719 165.621094 C 285.195312 166.996094 269.371094 156.503906 261.414062 134.148438 \"/>\n",
       "<path style=\"fill:none;stroke-width:1;stroke-linecap:butt;stroke-linejoin:miter;stroke:rgb(26.666667%,26.666667%,26.666667%);stroke-opacity:1;stroke-miterlimit:10;\" d=\"M 251.164062 178.335938 C 267.226562 159.667969 286.46875 155.429688 308.886719 165.621094 \"/>\n",
       "<path style=\"fill:none;stroke-width:1;stroke-linecap:butt;stroke-linejoin:miter;stroke:rgb(26.666667%,26.666667%,26.666667%);stroke-opacity:1;stroke-miterlimit:10;\" d=\"M 308.886719 165.621094 C 325.691406 177.859375 330.574219 193.757812 323.53125 213.316406 \"/>\n",
       "<path style=\"fill:none;stroke-width:1;stroke-linecap:butt;stroke-linejoin:miter;stroke:rgb(26.666667%,26.666667%,26.666667%);stroke-opacity:1;stroke-miterlimit:10;\" d=\"M 308.886719 165.621094 C 301.296875 157.722656 300.230469 149.023438 305.6875 139.523438 \"/>\n",
       "<path style=\"fill:none;stroke-width:1;stroke-linecap:butt;stroke-linejoin:miter;stroke:rgb(26.666667%,26.666667%,26.666667%);stroke-opacity:1;stroke-miterlimit:10;\" d=\"M 308.886719 165.621094 C 311.117188 152.910156 318.644531 145.84375 331.46875 144.425781 \"/>\n",
       "<path style=\"fill:none;stroke-width:1;stroke-linecap:butt;stroke-linejoin:miter;stroke:rgb(26.666667%,26.666667%,26.666667%);stroke-opacity:1;stroke-miterlimit:10;\" d=\"M 308.886719 165.621094 C 328.644531 166.261719 340.980469 176.152344 345.894531 195.300781 \"/>\n",
       "<path style=\"fill:none;stroke-width:1;stroke-linecap:butt;stroke-linejoin:miter;stroke:rgb(26.666667%,26.666667%,26.666667%);stroke-opacity:1;stroke-miterlimit:10;\" d=\"M 308.886719 165.621094 C 285.390625 161.5 272.328125 147.582031 269.707031 123.871094 \"/>\n",
       "<path style=\"fill:none;stroke-width:1;stroke-linecap:butt;stroke-linejoin:miter;stroke:rgb(26.666667%,26.666667%,26.666667%);stroke-opacity:1;stroke-miterlimit:10;\" d=\"M 308.886719 165.621094 C 315.339844 140.96875 331.300781 128.289062 356.769531 127.582031 \"/>\n",
       "<path style=\"fill:none;stroke-width:1;stroke-linecap:butt;stroke-linejoin:miter;stroke:rgb(26.666667%,26.666667%,26.666667%);stroke-opacity:1;stroke-miterlimit:10;\" d=\"M 308.886719 165.621094 C 327.390625 148.644531 331.085938 128.898438 319.972656 106.382812 \"/>\n",
       "<path style=\"fill:none;stroke-width:1;stroke-linecap:butt;stroke-linejoin:miter;stroke:rgb(26.666667%,26.666667%,26.666667%);stroke-opacity:1;stroke-miterlimit:10;\" d=\"M 390.691406 575.984375 C 381.171875 576.59375 374.785156 572.410156 371.535156 563.441406 \"/>\n",
       "<path style=\"fill:none;stroke-width:1;stroke-linecap:butt;stroke-linejoin:miter;stroke:rgb(26.666667%,26.666667%,26.666667%);stroke-opacity:1;stroke-miterlimit:10;\" d=\"M 371.535156 563.441406 C 382.863281 561.742188 389.292969 555.214844 390.832031 543.867188 \"/>\n",
       "<path style=\"fill:none;stroke-width:1;stroke-linecap:butt;stroke-linejoin:miter;stroke:rgb(26.666667%,26.666667%,26.666667%);stroke-opacity:1;stroke-miterlimit:10;\" d=\"M 371.535156 563.441406 C 368.652344 548.976562 359.867188 541.105469 345.175781 539.820312 \"/>\n",
       "<path style=\"fill:none;stroke-width:1;stroke-linecap:butt;stroke-linejoin:miter;stroke:rgb(26.666667%,26.666667%,26.666667%);stroke-opacity:1;stroke-miterlimit:10;\" d=\"M 426.601562 78.996094 C 427.292969 65.992188 433.980469 58.003906 446.65625 55.027344 \"/>\n",
       "<path style=\"fill:none;stroke-width:1;stroke-linecap:butt;stroke-linejoin:miter;stroke:rgb(26.666667%,26.666667%,26.666667%);stroke-opacity:1;stroke-miterlimit:10;\" d=\"M 189.078125 235.410156 C 170.203125 247.273438 152.433594 245.808594 135.757812 231.015625 \"/>\n",
       "<path style=\"fill:none;stroke-width:1;stroke-linecap:butt;stroke-linejoin:miter;stroke:rgb(26.666667%,26.666667%,26.666667%);stroke-opacity:1;stroke-miterlimit:10;\" d=\"M 169.722656 275.5 C 147.28125 269.160156 135.960938 254.332031 135.757812 231.015625 \"/>\n",
       "<path style=\"fill:none;stroke-width:1;stroke-linecap:butt;stroke-linejoin:miter;stroke:rgb(26.666667%,26.666667%,26.666667%);stroke-opacity:1;stroke-miterlimit:10;\" d=\"M 156.035156 224.730469 C 150.847656 231.894531 144.089844 233.988281 135.757812 231.015625 \"/>\n",
       "<path style=\"fill:none;stroke-width:1;stroke-linecap:butt;stroke-linejoin:miter;stroke:rgb(26.666667%,26.666667%,26.666667%);stroke-opacity:1;stroke-miterlimit:10;\" d=\"M 135.757812 231.015625 C 118.828125 230.023438 108.46875 221.261719 104.679688 204.730469 \"/>\n",
       "<path style=\"fill:none;stroke-width:1;stroke-linecap:butt;stroke-linejoin:miter;stroke:rgb(26.666667%,26.666667%,26.666667%);stroke-opacity:1;stroke-miterlimit:10;\" d=\"M 135.757812 231.015625 C 127.757812 241.707031 117.503906 244.707031 104.996094 240.019531 \"/>\n",
       "<path style=\"fill:none;stroke-width:1;stroke-linecap:butt;stroke-linejoin:miter;stroke:rgb(26.666667%,26.666667%,26.666667%);stroke-opacity:1;stroke-miterlimit:10;\" d=\"M 135.757812 231.015625 C 126.566406 219.421875 115.121094 216.417969 101.421875 221.996094 \"/>\n",
       "<path style=\"fill:none;stroke-width:1;stroke-linecap:butt;stroke-linejoin:miter;stroke:rgb(26.666667%,26.666667%,26.666667%);stroke-opacity:1;stroke-miterlimit:10;\" d=\"M 135.757812 231.015625 C 138.726562 214.53125 132.714844 202.558594 117.722656 195.09375 \"/>\n",
       "<path style=\"fill:none;stroke-width:1;stroke-linecap:butt;stroke-linejoin:miter;stroke:rgb(26.666667%,26.666667%,26.666667%);stroke-opacity:1;stroke-miterlimit:10;\" d=\"M 351.433594 401.496094 C 338.554688 412.886719 324.84375 413.996094 310.304688 404.824219 \"/>\n",
       "<path style=\"fill:none;stroke-width:1;stroke-linecap:butt;stroke-linejoin:miter;stroke:rgb(26.666667%,26.666667%,26.666667%);stroke-opacity:1;stroke-miterlimit:10;\" d=\"M 285.730469 382.746094 C 299.441406 383.960938 307.632812 391.320312 310.304688 404.824219 \"/>\n",
       "<path style=\"fill:none;stroke-width:1;stroke-linecap:butt;stroke-linejoin:miter;stroke:rgb(26.666667%,26.666667%,26.666667%);stroke-opacity:1;stroke-miterlimit:10;\" d=\"M 310.304688 404.824219 C 307.28125 394.53125 310.285156 386.488281 319.320312 380.703125 \"/>\n",
       "<path style=\"fill:none;stroke-width:1;stroke-linecap:butt;stroke-linejoin:miter;stroke:rgb(26.666667%,26.666667%,26.666667%);stroke-opacity:1;stroke-miterlimit:10;\" d=\"M 271.691406 418.296875 C 281.195312 404.152344 294.066406 399.660156 310.304688 404.824219 \"/>\n",
       "<path style=\"fill:none;stroke-width:1;stroke-linecap:butt;stroke-linejoin:miter;stroke:rgb(26.666667%,26.666667%,26.666667%);stroke-opacity:1;stroke-miterlimit:10;\" d=\"M 286.929688 432.941406 C 287.691406 417.726562 295.484375 408.351562 310.304688 404.824219 \"/>\n",
       "<path style=\"fill:none;stroke-width:1;stroke-linecap:butt;stroke-linejoin:miter;stroke:rgb(26.666667%,26.666667%,26.666667%);stroke-opacity:1;stroke-miterlimit:10;\" d=\"M 285.730469 382.746094 C 277.050781 373.367188 276 363.199219 282.574219 352.242188 \"/>\n",
       "<path style=\"fill:none;stroke-width:1;stroke-linecap:butt;stroke-linejoin:miter;stroke:rgb(26.666667%,26.666667%,26.666667%);stroke-opacity:1;stroke-miterlimit:10;\" d=\"M 263.378906 363.054688 C 267.074219 354.652344 273.472656 351.046875 282.574219 352.242188 \"/>\n",
       "<path style=\"fill:none;stroke-width:1;stroke-linecap:butt;stroke-linejoin:miter;stroke:rgb(26.666667%,26.666667%,26.666667%);stroke-opacity:1;stroke-miterlimit:10;\" d=\"M 518.722656 294.132812 C 528.820312 286.914062 538.742188 287.140625 548.5 294.8125 \"/>\n",
       "<path style=\"fill:none;stroke-width:1;stroke-linecap:butt;stroke-linejoin:miter;stroke:rgb(26.666667%,26.666667%,26.666667%);stroke-opacity:1;stroke-miterlimit:10;\" d=\"M 393.359375 88.714844 C 384.15625 99.953125 372.875 102.726562 359.511719 97.039062 \"/>\n",
       "<path style=\"fill:none;stroke-width:1;stroke-linecap:butt;stroke-linejoin:miter;stroke:rgb(26.666667%,26.666667%,26.666667%);stroke-opacity:1;stroke-miterlimit:10;\" d=\"M 387.425781 111.730469 C 374.449219 113.8125 365.144531 108.914062 359.511719 97.039062 \"/>\n",
       "<path style=\"fill:none;stroke-width:1;stroke-linecap:butt;stroke-linejoin:miter;stroke:rgb(26.666667%,26.666667%,26.666667%);stroke-opacity:1;stroke-miterlimit:10;\" d=\"M 341.359375 77.335938 C 352.335938 79.367188 358.386719 85.933594 359.511719 97.039062 \"/>\n",
       "<path style=\"fill:none;stroke-width:1;stroke-linecap:butt;stroke-linejoin:miter;stroke:rgb(26.666667%,26.666667%,26.666667%);stroke-opacity:1;stroke-miterlimit:10;\" d=\"M 359.511719 97.039062 C 366.234375 107.90625 365.320312 118.085938 356.769531 127.582031 \"/>\n",
       "<path style=\"fill:none;stroke-width:1;stroke-linecap:butt;stroke-linejoin:miter;stroke:rgb(26.666667%,26.666667%,26.666667%);stroke-opacity:1;stroke-miterlimit:10;\" d=\"M 359.511719 97.039062 C 343.996094 90.269531 330.816406 93.382812 319.972656 106.382812 \"/>\n",
       "<path style=\"fill:none;stroke-width:1;stroke-linecap:butt;stroke-linejoin:miter;stroke:rgb(26.666667%,26.666667%,26.666667%);stroke-opacity:1;stroke-miterlimit:10;\" d=\"M 393.359375 88.714844 C 382.417969 83.222656 378.050781 74.453125 380.261719 62.410156 \"/>\n",
       "<path style=\"fill:none;stroke-width:1;stroke-linecap:butt;stroke-linejoin:miter;stroke:rgb(26.666667%,26.666667%,26.666667%);stroke-opacity:1;stroke-miterlimit:10;\" d=\"M 380.261719 62.410156 C 364.578125 63.914062 353.820312 57.347656 347.984375 42.707031 \"/>\n",
       "<path style=\"fill:none;stroke-width:1;stroke-linecap:butt;stroke-linejoin:miter;stroke:rgb(26.666667%,26.666667%,26.666667%);stroke-opacity:1;stroke-miterlimit:10;\" d=\"M 341.359375 77.335938 C 350.597656 62.636719 363.566406 57.660156 380.261719 62.410156 \"/>\n",
       "<path style=\"fill:none;stroke-width:1;stroke-linecap:butt;stroke-linejoin:miter;stroke:rgb(26.666667%,26.666667%,26.666667%);stroke-opacity:1;stroke-miterlimit:10;\" d=\"M 426.601562 78.996094 C 407.007812 85.050781 391.5625 79.523438 380.261719 62.410156 \"/>\n",
       "<path style=\"fill:none;stroke-width:1;stroke-linecap:butt;stroke-linejoin:miter;stroke:rgb(26.666667%,26.666667%,26.666667%);stroke-opacity:1;stroke-miterlimit:10;\" d=\"M 281.449219 580 C 289.617188 573.003906 298.203125 572.449219 307.207031 578.328125 \"/>\n",
       "<path style=\"fill:none;stroke-width:1;stroke-linecap:butt;stroke-linejoin:miter;stroke:rgb(26.666667%,26.666667%,26.666667%);stroke-opacity:1;stroke-miterlimit:10;\" d=\"M 296.269531 554.773438 C 305.804688 559.890625 309.449219 567.742188 307.207031 578.328125 \"/>\n",
       "<path style=\"fill:none;stroke-width:1;stroke-linecap:butt;stroke-linejoin:miter;stroke:rgb(26.666667%,26.666667%,26.666667%);stroke-opacity:1;stroke-miterlimit:10;\" d=\"M 307.207031 578.328125 C 307.09375 562.894531 314.429688 552.960938 329.214844 548.527344 \"/>\n",
       "<path style=\"fill:none;stroke-width:1;stroke-linecap:butt;stroke-linejoin:miter;stroke:rgb(26.666667%,26.666667%,26.666667%);stroke-opacity:1;stroke-miterlimit:10;\" d=\"M 476.632812 520.410156 C 471.089844 514.273438 470.488281 507.683594 474.824219 500.640625 \"/>\n",
       "<path style=\"fill:none;stroke-width:1;stroke-linecap:butt;stroke-linejoin:miter;stroke:rgb(26.666667%,26.666667%,26.666667%);stroke-opacity:1;stroke-miterlimit:10;\" d=\"M 474.824219 500.640625 C 464.894531 499.527344 459.074219 494.046875 457.363281 484.199219 \"/>\n",
       "<path style=\"fill:none;stroke-width:1;stroke-linecap:butt;stroke-linejoin:miter;stroke:rgb(26.666667%,26.666667%,26.666667%);stroke-opacity:1;stroke-miterlimit:10;\" d=\"M 474.824219 500.640625 C 478.074219 486.261719 487.050781 478.617188 501.765625 477.710938 \"/>\n",
       "<path style=\"fill:none;stroke-width:1;stroke-linecap:butt;stroke-linejoin:miter;stroke:rgb(26.666667%,26.666667%,26.666667%);stroke-opacity:1;stroke-miterlimit:10;\" d=\"M 474.824219 500.640625 C 465.847656 515.449219 452.992188 520.617188 436.261719 516.140625 \"/>\n",
       "<path style=\"fill:none;stroke-width:1;stroke-linecap:butt;stroke-linejoin:miter;stroke:rgb(26.666667%,26.666667%,26.666667%);stroke-opacity:1;stroke-miterlimit:10;\" d=\"M 475.488281 535.308594 C 466.601562 523.917969 466.378906 512.363281 474.824219 500.640625 \"/>\n",
       "<path style=\"fill:none;stroke-width:1;stroke-linecap:butt;stroke-linejoin:miter;stroke:rgb(26.666667%,26.666667%,26.666667%);stroke-opacity:1;stroke-miterlimit:10;\" d=\"M 474.824219 500.640625 C 466.144531 500.960938 460.742188 505.335938 458.617188 513.757812 \"/>\n",
       "<path style=\"fill:none;stroke-width:1;stroke-linecap:butt;stroke-linejoin:miter;stroke:rgb(26.666667%,26.666667%,26.666667%);stroke-opacity:1;stroke-miterlimit:10;\" d=\"M 467.046875 116.824219 C 489.367188 118.179688 503 129.757812 507.949219 151.5625 \"/>\n",
       "<path style=\"fill:none;stroke-width:1;stroke-linecap:butt;stroke-linejoin:miter;stroke:rgb(26.666667%,26.666667%,26.666667%);stroke-opacity:1;stroke-miterlimit:10;\" d=\"M 507.949219 151.5625 C 523.011719 153.582031 531.683594 162.101562 533.960938 177.128906 \"/>\n",
       "<path style=\"fill:none;stroke-width:1;stroke-linecap:butt;stroke-linejoin:miter;stroke:rgb(26.666667%,26.666667%,26.666667%);stroke-opacity:1;stroke-miterlimit:10;\" d=\"M 323.308594 499.410156 C 314.855469 511.042969 303.863281 514.429688 290.332031 509.570312 \"/>\n",
       "<path style=\"fill:none;stroke-width:1;stroke-linecap:butt;stroke-linejoin:miter;stroke:rgb(26.666667%,26.666667%,26.666667%);stroke-opacity:1;stroke-miterlimit:10;\" d=\"M 297.828125 483.472656 C 301.851562 494.046875 299.355469 502.746094 290.332031 509.570312 \"/>\n",
       "<path style=\"fill:none;stroke-width:1;stroke-linecap:butt;stroke-linejoin:miter;stroke:rgb(26.666667%,26.666667%,26.666667%);stroke-opacity:1;stroke-miterlimit:10;\" d=\"M 290.332031 509.570312 C 253.691406 497.132812 236.214844 471.585938 237.894531 432.933594 \"/>\n",
       "<path style=\"fill:none;stroke-width:1;stroke-linecap:butt;stroke-linejoin:miter;stroke:rgb(26.666667%,26.666667%,26.666667%);stroke-opacity:1;stroke-miterlimit:10;\" d=\"M 290.332031 509.570312 C 295.878906 527.421875 290.855469 541.511719 275.269531 551.832031 \"/>\n",
       "<path style=\"fill:none;stroke-width:1;stroke-linecap:butt;stroke-linejoin:miter;stroke:rgb(26.666667%,26.666667%,26.666667%);stroke-opacity:1;stroke-miterlimit:10;\" d=\"M 290.332031 509.570312 C 303.609375 523.152344 305.589844 538.222656 296.269531 554.773438 \"/>\n",
       "<path style=\"fill:none;stroke-width:1;stroke-linecap:butt;stroke-linejoin:miter;stroke:rgb(26.666667%,26.666667%,26.666667%);stroke-opacity:1;stroke-miterlimit:10;\" d=\"M 290.332031 509.570312 C 313.03125 512.835938 325.992188 525.820312 329.214844 548.527344 \"/>\n",
       "<path style=\"fill:none;stroke-width:1;stroke-linecap:butt;stroke-linejoin:miter;stroke:rgb(26.666667%,26.666667%,26.666667%);stroke-opacity:1;stroke-miterlimit:10;\" d=\"M 261.691406 479.46875 C 278.761719 482.34375 288.308594 492.375 290.332031 509.570312 \"/>\n",
       "<path style=\"fill:none;stroke-width:1;stroke-linecap:butt;stroke-linejoin:miter;stroke:rgb(26.666667%,26.666667%,26.666667%);stroke-opacity:1;stroke-miterlimit:10;\" d=\"M 290.332031 509.570312 C 301.050781 533.363281 319.328125 543.449219 345.175781 539.820312 \"/>\n",
       "<path style=\"fill:none;stroke-width:1;stroke-linecap:butt;stroke-linejoin:miter;stroke:rgb(26.666667%,26.666667%,26.666667%);stroke-opacity:1;stroke-miterlimit:10;\" d=\"M 101.773438 493.773438 C 99.257812 505.625 91.957031 512.003906 79.875 512.90625 \"/>\n",
       "<path style=\"fill:none;stroke-width:1;stroke-linecap:butt;stroke-linejoin:miter;stroke:rgb(26.666667%,26.666667%,26.666667%);stroke-opacity:1;stroke-miterlimit:10;\" d=\"M 72.976562 493.238281 C 80.191406 498.070312 82.492188 504.625 79.875 512.90625 \"/>\n",
       "<path style=\"fill:none;stroke-width:1;stroke-linecap:butt;stroke-linejoin:miter;stroke:rgb(26.666667%,26.666667%,26.666667%);stroke-opacity:1;stroke-miterlimit:10;\" d=\"M 261.414062 134.148438 C 246.941406 129.339844 239.984375 119.3125 240.546875 104.070312 \"/>\n",
       "<path style=\"fill:none;stroke-width:1;stroke-linecap:butt;stroke-linejoin:miter;stroke:rgb(26.666667%,26.666667%,26.666667%);stroke-opacity:1;stroke-miterlimit:10;\" d=\"M 269.707031 123.871094 C 255.035156 124.5625 245.316406 117.960938 240.546875 104.070312 \"/>\n",
       "<path style=\"fill:none;stroke-width:1;stroke-linecap:butt;stroke-linejoin:miter;stroke:rgb(26.666667%,26.666667%,26.666667%);stroke-opacity:1;stroke-miterlimit:10;\" d=\"M 393.359375 88.714844 C 408.789062 82.15625 421.816406 85.367188 432.4375 98.34375 \"/>\n",
       "<path style=\"fill:none;stroke-width:1;stroke-linecap:butt;stroke-linejoin:miter;stroke:rgb(26.666667%,26.666667%,26.666667%);stroke-opacity:1;stroke-miterlimit:10;\" d=\"M 467.046875 116.824219 C 450.890625 119.316406 439.351562 113.15625 432.4375 98.34375 \"/>\n",
       "<path style=\"fill:none;stroke-width:1;stroke-linecap:butt;stroke-linejoin:miter;stroke:rgb(26.666667%,26.666667%,26.666667%);stroke-opacity:1;stroke-miterlimit:10;\" d=\"M 422.886719 121.746094 C 420.21875 111.558594 423.402344 103.757812 432.4375 98.34375 \"/>\n",
       "<path style=\"fill:none;stroke-width:1;stroke-linecap:butt;stroke-linejoin:miter;stroke:rgb(26.666667%,26.666667%,26.666667%);stroke-opacity:1;stroke-miterlimit:10;\" d=\"M 426.601562 78.996094 C 433.382812 83.988281 435.328125 90.4375 432.4375 98.34375 \"/>\n",
       "<path style=\"fill:none;stroke-width:1;stroke-linecap:butt;stroke-linejoin:miter;stroke:rgb(26.666667%,26.666667%,26.666667%);stroke-opacity:1;stroke-miterlimit:10;\" d=\"M 189.078125 235.410156 C 199.175781 245.734375 200.6875 257.1875 193.605469 269.773438 \"/>\n",
       "<path style=\"fill:none;stroke-width:1;stroke-linecap:butt;stroke-linejoin:miter;stroke:rgb(26.666667%,26.666667%,26.666667%);stroke-opacity:1;stroke-miterlimit:10;\" d=\"M 198.546875 337.25 C 180.03125 315.992188 178.382812 293.503906 193.605469 269.773438 \"/>\n",
       "<path style=\"fill:none;stroke-width:1;stroke-linecap:butt;stroke-linejoin:miter;stroke:rgb(26.666667%,26.666667%,26.666667%);stroke-opacity:1;stroke-miterlimit:10;\" d=\"M 169.722656 275.5 C 176.253906 267.621094 184.214844 265.710938 193.605469 269.773438 \"/>\n",
       "<path style=\"fill:none;stroke-width:1;stroke-linecap:butt;stroke-linejoin:miter;stroke:rgb(26.666667%,26.666667%,26.666667%);stroke-opacity:1;stroke-miterlimit:10;\" d=\"M 193.605469 269.773438 C 198.535156 285.40625 194.1875 297.78125 180.5625 306.890625 \"/>\n",
       "<path style=\"fill:none;stroke-width:1;stroke-linecap:butt;stroke-linejoin:miter;stroke:rgb(26.666667%,26.666667%,26.666667%);stroke-opacity:1;stroke-miterlimit:10;\" d=\"M 214.113281 199.082031 C 189.601562 217.519531 182.765625 241.085938 193.605469 269.773438 \"/>\n",
       "<path style=\"fill:none;stroke-width:1;stroke-linecap:butt;stroke-linejoin:miter;stroke:rgb(26.666667%,26.666667%,26.666667%);stroke-opacity:1;stroke-miterlimit:10;\" d=\"M 307.203125 247.335938 C 318.828125 243.898438 327.917969 247.277344 334.472656 257.476562 \"/>\n",
       "<path style=\"fill:none;stroke-width:1;stroke-linecap:butt;stroke-linejoin:miter;stroke:rgb(26.666667%,26.666667%,26.666667%);stroke-opacity:1;stroke-miterlimit:10;\" d=\"M 365.402344 239.773438 C 359.519531 253.40625 349.210938 259.308594 334.472656 257.476562 \"/>\n",
       "<path style=\"fill:none;stroke-width:1;stroke-linecap:butt;stroke-linejoin:miter;stroke:rgb(26.666667%,26.666667%,26.666667%);stroke-opacity:1;stroke-miterlimit:10;\" d=\"M 334.472656 257.476562 C 331.382812 248.074219 333.917969 240.574219 342.082031 234.976562 \"/>\n",
       "<path style=\"fill:none;stroke-width:1;stroke-linecap:butt;stroke-linejoin:miter;stroke:rgb(26.666667%,26.666667%,26.666667%);stroke-opacity:1;stroke-miterlimit:10;\" d=\"M 334.472656 257.476562 C 332.789062 245.023438 325.734375 237.863281 313.3125 235.992188 \"/>\n",
       "<path style=\"fill:none;stroke-width:1;stroke-linecap:butt;stroke-linejoin:miter;stroke:rgb(26.666667%,26.666667%,26.666667%);stroke-opacity:1;stroke-miterlimit:10;\" d=\"M 390.691406 575.984375 C 382.710938 565.246094 382.757812 554.539062 390.832031 543.867188 \"/>\n",
       "<path style=\"fill:none;stroke-width:1;stroke-linecap:butt;stroke-linejoin:miter;stroke:rgb(26.666667%,26.666667%,26.666667%);stroke-opacity:1;stroke-miterlimit:10;\" d=\"M 390.832031 543.867188 C 371.457031 560.824219 350.917969 562.378906 329.214844 548.527344 \"/>\n",
       "<path style=\"fill:none;stroke-width:1;stroke-linecap:butt;stroke-linejoin:miter;stroke:rgb(26.666667%,26.666667%,26.666667%);stroke-opacity:1;stroke-miterlimit:10;\" d=\"M 390.832031 543.867188 C 399.710938 535.082031 409.609375 533.722656 420.53125 539.785156 \"/>\n",
       "<path style=\"fill:none;stroke-width:1;stroke-linecap:butt;stroke-linejoin:miter;stroke:rgb(26.666667%,26.666667%,26.666667%);stroke-opacity:1;stroke-miterlimit:10;\" d=\"M 390.832031 543.867188 C 399.042969 523.269531 414.1875 514.027344 436.261719 516.140625 \"/>\n",
       "<path style=\"fill:none;stroke-width:1;stroke-linecap:butt;stroke-linejoin:miter;stroke:rgb(26.666667%,26.666667%,26.666667%);stroke-opacity:1;stroke-miterlimit:10;\" d=\"M 371.535156 563.441406 C 373.074219 552.09375 379.507812 545.570312 390.832031 543.867188 \"/>\n",
       "<path style=\"fill:none;stroke-width:1;stroke-linecap:butt;stroke-linejoin:miter;stroke:rgb(26.666667%,26.666667%,26.666667%);stroke-opacity:1;stroke-miterlimit:10;\" d=\"M 390.832031 543.867188 C 376.625 531.105469 361.40625 529.757812 345.175781 539.820312 \"/>\n",
       "<path style=\"fill:none;stroke-width:1;stroke-linecap:butt;stroke-linejoin:miter;stroke:rgb(26.666667%,26.666667%,26.666667%);stroke-opacity:1;stroke-miterlimit:10;\" d=\"M 443.675781 537.429688 C 424.453125 526.363281 406.835938 528.511719 390.832031 543.867188 \"/>\n",
       "<path style=\"fill:none;stroke-width:1;stroke-linecap:butt;stroke-linejoin:miter;stroke:rgb(26.666667%,26.666667%,26.666667%);stroke-opacity:1;stroke-miterlimit:10;\" d=\"M 447.632812 293.800781 C 450.8125 283.921875 457.59375 279.125 467.96875 279.414062 \"/>\n",
       "<path style=\"fill:none;stroke-width:1;stroke-linecap:butt;stroke-linejoin:miter;stroke:rgb(26.666667%,26.666667%,26.666667%);stroke-opacity:1;stroke-miterlimit:10;\" d=\"M 426.78125 271 C 442.613281 263.507812 456.34375 266.3125 467.96875 279.414062 \"/>\n",
       "<path style=\"fill:none;stroke-width:1;stroke-linecap:butt;stroke-linejoin:miter;stroke:rgb(26.666667%,26.666667%,26.666667%);stroke-opacity:1;stroke-miterlimit:10;\" d=\"M 518.722656 294.132812 C 498.125 301.917969 481.207031 297.011719 467.96875 279.414062 \"/>\n",
       "<path style=\"fill:none;stroke-width:1;stroke-linecap:butt;stroke-linejoin:miter;stroke:rgb(26.666667%,26.666667%,26.666667%);stroke-opacity:1;stroke-miterlimit:10;\" d=\"M 422.523438 253.878906 C 444.054688 251.03125 459.203125 259.542969 467.96875 279.414062 \"/>\n",
       "<path style=\"fill:none;stroke-width:1;stroke-linecap:butt;stroke-linejoin:miter;stroke:rgb(26.666667%,26.666667%,26.666667%);stroke-opacity:1;stroke-miterlimit:10;\" d=\"M 541.472656 324.476562 C 547.191406 333.816406 546.367188 342.539062 539.003906 350.640625 \"/>\n",
       "<path style=\"fill:none;stroke-width:1;stroke-linecap:butt;stroke-linejoin:miter;stroke:rgb(26.666667%,26.666667%,26.666667%);stroke-opacity:1;stroke-miterlimit:10;\" d=\"M 250.964844 441.875 C 233.78125 443.898438 221.808594 436.945312 215.054688 421.011719 \"/>\n",
       "<path style=\"fill:none;stroke-width:1;stroke-linecap:butt;stroke-linejoin:miter;stroke:rgb(26.666667%,26.666667%,26.666667%);stroke-opacity:1;stroke-miterlimit:10;\" d=\"M 242.292969 416.84375 C 234.257812 425.042969 225.175781 426.433594 215.054688 421.011719 \"/>\n",
       "<path style=\"fill:none;stroke-width:1;stroke-linecap:butt;stroke-linejoin:miter;stroke:rgb(26.666667%,26.666667%,26.666667%);stroke-opacity:1;stroke-miterlimit:10;\" d=\"M 215.054688 421.011719 C 209.816406 411.820312 210.875 403.425781 218.230469 395.820312 \"/>\n",
       "<path style=\"fill:none;stroke-width:1;stroke-linecap:butt;stroke-linejoin:miter;stroke:rgb(26.666667%,26.666667%,26.666667%);stroke-opacity:1;stroke-miterlimit:10;\" d=\"M 251.136719 463.238281 C 251.214844 475.46875 245.398438 483.332031 233.679688 486.832031 \"/>\n",
       "<path style=\"fill:none;stroke-width:1;stroke-linecap:butt;stroke-linejoin:miter;stroke:rgb(26.666667%,26.666667%,26.666667%);stroke-opacity:1;stroke-miterlimit:10;\" d=\"M 261.691406 479.46875 C 254.195312 488.925781 244.859375 491.378906 233.679688 486.832031 \"/>\n",
       "<path style=\"fill:none;stroke-width:1;stroke-linecap:butt;stroke-linejoin:miter;stroke:rgb(26.666667%,26.666667%,26.666667%);stroke-opacity:1;stroke-miterlimit:10;\" d=\"M 233.625 202.515625 C 226.261719 206.25 219.757812 205.105469 214.113281 199.082031 \"/>\n",
       "<path style=\"fill:none;stroke-width:1;stroke-linecap:butt;stroke-linejoin:miter;stroke:rgb(26.666667%,26.666667%,26.666667%);stroke-opacity:1;stroke-miterlimit:10;\" d=\"M 256.109375 192.9375 C 243.648438 205.484375 229.648438 207.535156 214.113281 199.082031 \"/>\n",
       "<path style=\"fill:none;stroke-width:1;stroke-linecap:butt;stroke-linejoin:miter;stroke:rgb(26.666667%,26.666667%,26.666667%);stroke-opacity:1;stroke-miterlimit:10;\" d=\"M 214.113281 199.082031 C 199.570312 176.859375 200.929688 155.660156 218.191406 135.476562 \"/>\n",
       "<path style=\"fill:none;stroke-width:1;stroke-linecap:butt;stroke-linejoin:miter;stroke:rgb(26.666667%,26.666667%,26.666667%);stroke-opacity:1;stroke-miterlimit:10;\" d=\"M 251.164062 178.335938 C 244 194.515625 231.648438 201.429688 214.113281 199.082031 \"/>\n",
       "<path style=\"fill:none;stroke-width:1;stroke-linecap:butt;stroke-linejoin:miter;stroke:rgb(26.666667%,26.666667%,26.666667%);stroke-opacity:1;stroke-miterlimit:10;\" d=\"M 185.3125 150.5 C 207.058594 159.496094 216.65625 175.6875 214.113281 199.082031 \"/>\n",
       "<path style=\"fill:none;stroke-width:1;stroke-linecap:butt;stroke-linejoin:miter;stroke:rgb(26.666667%,26.666667%,26.666667%);stroke-opacity:1;stroke-miterlimit:10;\" d=\"M 256.660156 227.308594 C 235.421875 228.535156 221.238281 219.128906 214.113281 199.082031 \"/>\n",
       "<path style=\"fill:none;stroke-width:1;stroke-linecap:butt;stroke-linejoin:miter;stroke:rgb(26.666667%,26.666667%,26.666667%);stroke-opacity:1;stroke-miterlimit:10;\" d=\"M 214.113281 199.082031 C 214.847656 217.449219 206.503906 229.558594 189.078125 235.410156 \"/>\n",
       "<path style=\"fill:none;stroke-width:1;stroke-linecap:butt;stroke-linejoin:miter;stroke:rgb(26.666667%,26.666667%,26.666667%);stroke-opacity:1;stroke-miterlimit:10;\" d=\"M 214.113281 199.082031 C 224.949219 227.773438 218.113281 251.335938 193.605469 269.773438 \"/>\n",
       "<path style=\"fill:none;stroke-width:1;stroke-linecap:butt;stroke-linejoin:miter;stroke:rgb(26.666667%,26.666667%,26.666667%);stroke-opacity:1;stroke-miterlimit:10;\" d=\"M 307.203125 247.335938 C 297 246.828125 290.714844 241.601562 288.351562 231.667969 \"/>\n",
       "<path style=\"fill:none;stroke-width:1;stroke-linecap:butt;stroke-linejoin:miter;stroke:rgb(26.666667%,26.666667%,26.666667%);stroke-opacity:1;stroke-miterlimit:10;\" d=\"M 256.660156 227.308594 C 268.3125 220.839844 278.875 222.292969 288.351562 231.667969 \"/>\n",
       "<path style=\"fill:none;stroke-width:1;stroke-linecap:butt;stroke-linejoin:miter;stroke:rgb(26.666667%,26.666667%,26.666667%);stroke-opacity:1;stroke-miterlimit:10;\" d=\"M 288.351562 231.667969 C 295.488281 216.753906 307.21875 210.640625 323.53125 213.316406 \"/>\n",
       "<path style=\"fill:none;stroke-width:1;stroke-linecap:butt;stroke-linejoin:miter;stroke:rgb(26.666667%,26.666667%,26.666667%);stroke-opacity:1;stroke-miterlimit:10;\" d=\"M 288.351562 231.667969 C 295.589844 239.347656 303.910156 240.792969 313.3125 235.992188 \"/>\n",
       "<path style=\"fill:none;stroke-width:1;stroke-linecap:butt;stroke-linejoin:miter;stroke:rgb(26.666667%,26.666667%,26.666667%);stroke-opacity:1;stroke-miterlimit:10;\" d=\"M 329.214844 548.527344 C 332.359375 541.636719 337.679688 538.734375 345.175781 539.820312 \"/>\n",
       "<path style=\"fill:none;stroke-width:1;stroke-linecap:butt;stroke-linejoin:miter;stroke:rgb(26.666667%,26.666667%,26.666667%);stroke-opacity:1;stroke-miterlimit:10;\" d=\"M 371.535156 563.441406 C 356.84375 562.160156 348.058594 554.285156 345.175781 539.820312 \"/>\n",
       "<path style=\"fill:none;stroke-width:1;stroke-linecap:butt;stroke-linejoin:miter;stroke:rgb(26.666667%,26.666667%,26.666667%);stroke-opacity:1;stroke-miterlimit:10;\" d=\"M 290.332031 509.570312 C 316.175781 505.941406 334.457031 516.027344 345.175781 539.820312 \"/>\n",
       "<path style=\"fill:none;stroke-width:1;stroke-linecap:butt;stroke-linejoin:miter;stroke:rgb(26.666667%,26.666667%,26.666667%);stroke-opacity:1;stroke-miterlimit:10;\" d=\"M 390.832031 543.867188 C 374.601562 553.933594 359.382812 552.585938 345.175781 539.820312 \"/>\n",
       "<path style=\"fill:none;stroke-width:1;stroke-linecap:butt;stroke-linejoin:miter;stroke:rgb(26.666667%,26.666667%,26.666667%);stroke-opacity:1;stroke-miterlimit:10;\" d=\"M 324.734375 129.984375 C 317.246094 123.304688 315.660156 115.4375 319.972656 106.382812 \"/>\n",
       "<path style=\"fill:none;stroke-width:1;stroke-linecap:butt;stroke-linejoin:miter;stroke:rgb(26.666667%,26.666667%,26.666667%);stroke-opacity:1;stroke-miterlimit:10;\" d=\"M 341.359375 77.335938 C 341.492188 92.363281 334.363281 102.046875 319.972656 106.382812 \"/>\n",
       "<path style=\"fill:none;stroke-width:1;stroke-linecap:butt;stroke-linejoin:miter;stroke:rgb(26.666667%,26.666667%,26.666667%);stroke-opacity:1;stroke-miterlimit:10;\" d=\"M 319.972656 106.382812 C 302.160156 102.609375 292.570312 91.648438 291.203125 73.492188 \"/>\n",
       "<path style=\"fill:none;stroke-width:1;stroke-linecap:butt;stroke-linejoin:miter;stroke:rgb(26.666667%,26.666667%,26.666667%);stroke-opacity:1;stroke-miterlimit:10;\" d=\"M 356.769531 127.582031 C 339.203125 129.714844 326.9375 122.648438 319.972656 106.382812 \"/>\n",
       "<path style=\"fill:none;stroke-width:1;stroke-linecap:butt;stroke-linejoin:miter;stroke:rgb(26.666667%,26.666667%,26.666667%);stroke-opacity:1;stroke-miterlimit:10;\" d=\"M 319.972656 106.382812 C 304.007812 112.605469 290.800781 108.925781 280.351562 95.34375 \"/>\n",
       "<path style=\"fill:none;stroke-width:1;stroke-linecap:butt;stroke-linejoin:miter;stroke:rgb(26.666667%,26.666667%,26.666667%);stroke-opacity:1;stroke-miterlimit:10;\" d=\"M 308.886719 165.621094 C 297.773438 143.101562 301.46875 123.355469 319.972656 106.382812 \"/>\n",
       "<path style=\"fill:none;stroke-width:1;stroke-linecap:butt;stroke-linejoin:miter;stroke:rgb(26.666667%,26.666667%,26.666667%);stroke-opacity:1;stroke-miterlimit:10;\" d=\"M 359.511719 97.039062 C 348.667969 110.039062 335.488281 113.152344 319.972656 106.382812 \"/>\n",
       "<path style=\"fill:none;stroke-width:1;stroke-linecap:butt;stroke-linejoin:miter;stroke:rgb(26.666667%,26.666667%,26.666667%);stroke-opacity:1;stroke-miterlimit:10;\" d=\"M 104.679688 204.730469 C 107.910156 211.296875 106.824219 217.054688 101.421875 221.996094 \"/>\n",
       "<path style=\"fill:none;stroke-width:1;stroke-linecap:butt;stroke-linejoin:miter;stroke:rgb(26.666667%,26.666667%,26.666667%);stroke-opacity:1;stroke-miterlimit:10;\" d=\"M 101.421875 221.996094 C 107.121094 227.109375 108.3125 233.117188 104.996094 240.019531 \"/>\n",
       "<path style=\"fill:none;stroke-width:1;stroke-linecap:butt;stroke-linejoin:miter;stroke:rgb(26.666667%,26.666667%,26.666667%);stroke-opacity:1;stroke-miterlimit:10;\" d=\"M 135.757812 231.015625 C 122.058594 236.59375 110.613281 233.585938 101.421875 221.996094 \"/>\n",
       "<path style=\"fill:none;stroke-width:1;stroke-linecap:butt;stroke-linejoin:miter;stroke:rgb(26.666667%,26.666667%,26.666667%);stroke-opacity:1;stroke-miterlimit:10;\" d=\"M 580 386.148438 C 575.476562 392.941406 569.324219 395.117188 561.535156 392.679688 \"/>\n",
       "<path style=\"fill:none;stroke-width:1;stroke-linecap:butt;stroke-linejoin:miter;stroke:rgb(26.666667%,26.666667%,26.666667%);stroke-opacity:1;stroke-miterlimit:10;\" d=\"M 55.339844 254.230469 C 47.195312 257.429688 40.441406 255.570312 35.089844 248.644531 \"/>\n",
       "<path style=\"fill:none;stroke-width:1;stroke-linecap:butt;stroke-linejoin:miter;stroke:rgb(26.666667%,26.666667%,26.666667%);stroke-opacity:1;stroke-miterlimit:10;\" d=\"M 33.417969 275.84375 C 27.175781 266.359375 27.730469 257.292969 35.089844 248.644531 \"/>\n",
       "<path style=\"fill:none;stroke-width:1;stroke-linecap:butt;stroke-linejoin:miter;stroke:rgb(26.666667%,26.666667%,26.666667%);stroke-opacity:1;stroke-miterlimit:10;\" d=\"M 131.90625 508.964844 C 134.511719 517.964844 131.855469 524.976562 123.941406 529.996094 \"/>\n",
       "<path style=\"fill:none;stroke-width:1;stroke-linecap:butt;stroke-linejoin:miter;stroke:rgb(26.666667%,26.666667%,26.666667%);stroke-opacity:1;stroke-miterlimit:10;\" d=\"M 101.773438 493.773438 C 118.21875 500.304688 125.609375 512.378906 123.941406 529.996094 \"/>\n",
       "<path style=\"fill:none;stroke-width:1;stroke-linecap:butt;stroke-linejoin:miter;stroke:rgb(26.666667%,26.666667%,26.666667%);stroke-opacity:1;stroke-miterlimit:10;\" d=\"M 307.203125 247.335938 C 306.402344 242.027344 308.4375 238.246094 313.3125 235.992188 \"/>\n",
       "<path style=\"fill:none;stroke-width:1;stroke-linecap:butt;stroke-linejoin:miter;stroke:rgb(26.666667%,26.666667%,26.666667%);stroke-opacity:1;stroke-miterlimit:10;\" d=\"M 313.3125 235.992188 C 311.050781 225.878906 314.457031 218.320312 323.53125 213.316406 \"/>\n",
       "<path style=\"fill:none;stroke-width:1;stroke-linecap:butt;stroke-linejoin:miter;stroke:rgb(26.666667%,26.666667%,26.666667%);stroke-opacity:1;stroke-miterlimit:10;\" d=\"M 313.3125 235.992188 C 322.648438 228.460938 332.238281 228.125 342.082031 234.976562 \"/>\n",
       "<path style=\"fill:none;stroke-width:1;stroke-linecap:butt;stroke-linejoin:miter;stroke:rgb(26.666667%,26.666667%,26.666667%);stroke-opacity:1;stroke-miterlimit:10;\" d=\"M 334.472656 257.476562 C 322.046875 255.605469 314.996094 248.445312 313.3125 235.992188 \"/>\n",
       "<path style=\"fill:none;stroke-width:1;stroke-linecap:butt;stroke-linejoin:miter;stroke:rgb(26.666667%,26.666667%,26.666667%);stroke-opacity:1;stroke-miterlimit:10;\" d=\"M 288.351562 231.667969 C 297.753906 226.867188 306.074219 228.3125 313.3125 235.992188 \"/>\n",
       "<path style=\"fill:none;stroke-width:1;stroke-linecap:butt;stroke-linejoin:miter;stroke:rgb(26.666667%,26.666667%,26.666667%);stroke-opacity:1;stroke-miterlimit:10;\" d=\"M 101.773438 493.773438 C 88.164062 492.835938 79.902344 485.699219 76.992188 472.375 \"/>\n",
       "<path style=\"fill:none;stroke-width:1;stroke-linecap:butt;stroke-linejoin:miter;stroke:rgb(26.666667%,26.666667%,26.666667%);stroke-opacity:1;stroke-miterlimit:10;\" d=\"M 89.175781 452.121094 C 90.175781 461.917969 86.117188 468.667969 76.992188 472.375 \"/>\n",
       "<path style=\"fill:none;stroke-width:1;stroke-linecap:butt;stroke-linejoin:miter;stroke:rgb(26.666667%,26.666667%,26.666667%);stroke-opacity:1;stroke-miterlimit:10;\" d=\"M 72.976562 493.238281 C 69.097656 485.277344 70.4375 478.324219 76.992188 472.375 \"/>\n",
       "<path style=\"fill:none;stroke-width:1;stroke-linecap:butt;stroke-linejoin:miter;stroke:rgb(26.666667%,26.666667%,26.666667%);stroke-opacity:1;stroke-miterlimit:10;\" d=\"M 447.632812 293.800781 C 432.050781 298.054688 420.039062 293.296875 411.59375 279.53125 \"/>\n",
       "<path style=\"fill:none;stroke-width:1;stroke-linecap:butt;stroke-linejoin:miter;stroke:rgb(26.666667%,26.666667%,26.666667%);stroke-opacity:1;stroke-miterlimit:10;\" d=\"M 365.402344 239.773438 C 390.738281 241.476562 406.136719 254.730469 411.59375 279.53125 \"/>\n",
       "<path style=\"fill:none;stroke-width:1;stroke-linecap:butt;stroke-linejoin:miter;stroke:rgb(26.666667%,26.666667%,26.666667%);stroke-opacity:1;stroke-miterlimit:10;\" d=\"M 426.78125 271 C 423.851562 277.640625 418.789062 280.484375 411.59375 279.53125 \"/>\n",
       "<path style=\"fill:none;stroke-width:1;stroke-linecap:butt;stroke-linejoin:miter;stroke:rgb(26.666667%,26.666667%,26.666667%);stroke-opacity:1;stroke-miterlimit:10;\" d=\"M 104.679688 204.730469 C 106.617188 198.257812 110.964844 195.042969 117.722656 195.09375 \"/>\n",
       "<path style=\"fill:none;stroke-width:1;stroke-linecap:butt;stroke-linejoin:miter;stroke:rgb(26.666667%,26.666667%,26.666667%);stroke-opacity:1;stroke-miterlimit:10;\" d=\"M 135.757812 231.015625 C 120.765625 223.550781 114.753906 211.574219 117.722656 195.09375 \"/>\n",
       "<path style=\"fill:none;stroke-width:1;stroke-linecap:butt;stroke-linejoin:miter;stroke:rgb(26.666667%,26.666667%,26.666667%);stroke-opacity:1;stroke-miterlimit:10;\" d=\"M 467.011719 557.003906 C 454.339844 556.3125 446.558594 549.785156 443.675781 537.429688 \"/>\n",
       "<path style=\"fill:none;stroke-width:1;stroke-linecap:butt;stroke-linejoin:miter;stroke:rgb(26.666667%,26.666667%,26.666667%);stroke-opacity:1;stroke-miterlimit:10;\" d=\"M 443.675781 537.429688 C 450.40625 523.515625 461.394531 517.84375 476.632812 520.410156 \"/>\n",
       "<path style=\"fill:none;stroke-width:1;stroke-linecap:butt;stroke-linejoin:miter;stroke:rgb(26.666667%,26.666667%,26.666667%);stroke-opacity:1;stroke-miterlimit:10;\" d=\"M 443.675781 537.429688 C 436.550781 544 428.835938 544.785156 420.53125 539.785156 \"/>\n",
       "<path style=\"fill:none;stroke-width:1;stroke-linecap:butt;stroke-linejoin:miter;stroke:rgb(26.666667%,26.666667%,26.666667%);stroke-opacity:1;stroke-miterlimit:10;\" d=\"M 443.675781 537.429688 C 435.882812 532.1875 433.410156 525.089844 436.261719 516.140625 \"/>\n",
       "<path style=\"fill:none;stroke-width:1;stroke-linecap:butt;stroke-linejoin:miter;stroke:rgb(26.666667%,26.666667%,26.666667%);stroke-opacity:1;stroke-miterlimit:10;\" d=\"M 475.488281 535.308594 C 465.414062 543.96875 454.808594 544.675781 443.675781 537.429688 \"/>\n",
       "<path style=\"fill:none;stroke-width:1;stroke-linecap:butt;stroke-linejoin:miter;stroke:rgb(26.666667%,26.666667%,26.666667%);stroke-opacity:1;stroke-miterlimit:10;\" d=\"M 443.675781 537.429688 C 427.671875 552.785156 410.054688 554.933594 390.832031 543.867188 \"/>\n",
       "<path style=\"fill:none;stroke-width:1;stroke-linecap:butt;stroke-linejoin:miter;stroke:rgb(26.666667%,26.666667%,26.666667%);stroke-opacity:1;stroke-miterlimit:10;\" d=\"M 443.675781 537.429688 C 454.574219 533.273438 459.554688 525.382812 458.617188 513.757812 \"/>\n",
       "<path style=\"fill:none;stroke-width:1;stroke-linecap:butt;stroke-linejoin:miter;stroke:rgb(26.666667%,26.666667%,26.666667%);stroke-opacity:1;stroke-miterlimit:10;\" d=\"M 476.632812 520.410156 C 468.964844 522.695312 462.960938 520.480469 458.617188 513.757812 \"/>\n",
       "<path style=\"fill:none;stroke-width:1;stroke-linecap:butt;stroke-linejoin:miter;stroke:rgb(26.666667%,26.666667%,26.666667%);stroke-opacity:1;stroke-miterlimit:10;\" d=\"M 458.617188 513.757812 C 451.761719 520.140625 444.308594 520.9375 436.261719 516.140625 \"/>\n",
       "<path style=\"fill:none;stroke-width:1;stroke-linecap:butt;stroke-linejoin:miter;stroke:rgb(26.666667%,26.666667%,26.666667%);stroke-opacity:1;stroke-miterlimit:10;\" d=\"M 474.824219 500.640625 C 472.703125 509.066406 467.300781 513.4375 458.617188 513.757812 \"/>\n",
       "<path style=\"fill:none;stroke-width:1;stroke-linecap:butt;stroke-linejoin:miter;stroke:rgb(26.666667%,26.666667%,26.666667%);stroke-opacity:1;stroke-miterlimit:10;\" d=\"M 443.675781 537.429688 C 442.738281 525.804688 447.71875 517.914062 458.617188 513.757812 \"/>\n",
       "<path style=\"fill-rule:nonzero;fill:rgb(73.72549%,74.117647%,13.333333%);fill-opacity:1;stroke-width:1;stroke-linecap:butt;stroke-linejoin:miter;stroke:rgb(0%,0%,0%);stroke-opacity:1;stroke-miterlimit:10;\" d=\"M 317.203125 247.335938 C 317.203125 252.859375 312.722656 257.335938 307.203125 257.335938 C 301.679688 257.335938 297.203125 252.859375 297.203125 247.335938 C 297.203125 241.8125 301.679688 237.335938 307.203125 237.335938 C 312.722656 237.335938 317.203125 241.8125 317.203125 247.335938 \"/>\n",
       "<path style=\"fill-rule:nonzero;fill:rgb(100%,49.803922%,5.490196%);fill-opacity:1;stroke-width:1;stroke-linecap:butt;stroke-linejoin:miter;stroke:rgb(0%,0%,0%);stroke-opacity:1;stroke-miterlimit:10;\" d=\"M 375.402344 239.773438 C 375.402344 245.292969 370.925781 249.773438 365.402344 249.773438 C 359.882812 249.773438 355.402344 245.292969 355.402344 239.773438 C 355.402344 234.25 359.882812 229.773438 365.402344 229.773438 C 370.925781 229.773438 375.402344 234.25 375.402344 239.773438 \"/>\n",
       "<path style=\"fill-rule:nonzero;fill:rgb(54.901961%,33.72549%,29.411765%);fill-opacity:1;stroke-width:1;stroke-linecap:butt;stroke-linejoin:miter;stroke:rgb(0%,0%,0%);stroke-opacity:1;stroke-miterlimit:10;\" d=\"M 266.660156 227.308594 C 266.660156 232.828125 262.183594 237.308594 256.660156 237.308594 C 251.136719 237.308594 246.660156 232.828125 246.660156 227.308594 C 246.660156 221.785156 251.136719 217.308594 256.660156 217.308594 C 262.183594 217.308594 266.660156 221.785156 266.660156 227.308594 \"/>\n",
       "<path style=\"fill-rule:nonzero;fill:rgb(73.72549%,74.117647%,13.333333%);fill-opacity:1;stroke-width:1;stroke-linecap:butt;stroke-linejoin:miter;stroke:rgb(0%,0%,0%);stroke-opacity:1;stroke-miterlimit:10;\" d=\"M 337.003906 239.9375 C 337.003906 245.460938 332.527344 249.9375 327.003906 249.9375 C 321.480469 249.9375 317.003906 245.460938 317.003906 239.9375 C 317.003906 234.414062 321.480469 229.9375 327.003906 229.9375 C 332.527344 229.9375 337.003906 234.414062 337.003906 239.9375 \"/>\n",
       "<path style=\"fill-rule:nonzero;fill:rgb(12.156863%,46.666667%,70.588235%);fill-opacity:1;stroke-width:1;stroke-linecap:butt;stroke-linejoin:miter;stroke:rgb(0%,0%,0%);stroke-opacity:1;stroke-miterlimit:10;\" d=\"M 344.472656 257.476562 C 344.472656 263 339.996094 267.476562 334.472656 267.476562 C 328.949219 267.476562 324.472656 263 324.472656 257.476562 C 324.472656 251.953125 328.949219 247.476562 334.472656 247.476562 C 339.996094 247.476562 344.472656 251.953125 344.472656 257.476562 \"/>\n",
       "<path style=\"fill-rule:nonzero;fill:rgb(12.156863%,46.666667%,70.588235%);fill-opacity:1;stroke-width:1;stroke-linecap:butt;stroke-linejoin:miter;stroke:rgb(0%,0%,0%);stroke-opacity:1;stroke-miterlimit:10;\" d=\"M 298.351562 231.667969 C 298.351562 237.191406 293.871094 241.667969 288.351562 241.667969 C 282.828125 241.667969 278.351562 237.191406 278.351562 231.667969 C 278.351562 226.144531 282.828125 221.667969 288.351562 221.667969 C 293.871094 221.667969 298.351562 226.144531 298.351562 231.667969 \"/>\n",
       "<path style=\"fill-rule:nonzero;fill:rgb(12.156863%,46.666667%,70.588235%);fill-opacity:1;stroke-width:1;stroke-linecap:butt;stroke-linejoin:miter;stroke:rgb(0%,0%,0%);stroke-opacity:1;stroke-miterlimit:10;\" d=\"M 323.3125 235.992188 C 323.3125 241.515625 318.835938 245.992188 313.3125 245.992188 C 307.789062 245.992188 303.3125 241.515625 303.3125 235.992188 C 303.3125 230.46875 307.789062 225.992188 313.3125 225.992188 C 318.835938 225.992188 323.3125 230.46875 323.3125 235.992188 \"/>\n",
       "<path style=\"fill-rule:nonzero;fill:rgb(49.803922%,49.803922%,49.803922%);fill-opacity:1;stroke-width:1;stroke-linecap:butt;stroke-linejoin:miter;stroke:rgb(0%,0%,0%);stroke-opacity:1;stroke-miterlimit:10;\" d=\"M 165.949219 126.148438 C 165.949219 131.671875 161.46875 136.148438 155.949219 136.148438 C 150.425781 136.148438 145.949219 131.671875 145.949219 126.148438 C 145.949219 120.628906 150.425781 116.148438 155.949219 116.148438 C 161.46875 116.148438 165.949219 120.628906 165.949219 126.148438 \"/>\n",
       "<path style=\"fill-rule:nonzero;fill:rgb(49.803922%,49.803922%,49.803922%);fill-opacity:1;stroke-width:1;stroke-linecap:butt;stroke-linejoin:miter;stroke:rgb(0%,0%,0%);stroke-opacity:1;stroke-miterlimit:10;\" d=\"M 195.3125 150.5 C 195.3125 156.023438 190.835938 160.5 185.3125 160.5 C 179.792969 160.5 175.3125 156.023438 175.3125 150.5 C 175.3125 144.976562 179.792969 140.5 185.3125 140.5 C 190.835938 140.5 195.3125 144.976562 195.3125 150.5 \"/>\n",
       "<path style=\"fill-rule:nonzero;fill:rgb(49.803922%,49.803922%,49.803922%);fill-opacity:1;stroke-width:1;stroke-linecap:butt;stroke-linejoin:miter;stroke:rgb(0%,0%,0%);stroke-opacity:1;stroke-miterlimit:10;\" d=\"M 189.308594 123.359375 C 189.308594 128.878906 184.832031 133.359375 179.308594 133.359375 C 173.785156 133.359375 169.308594 128.878906 169.308594 123.359375 C 169.308594 117.835938 173.785156 113.359375 179.308594 113.359375 C 184.832031 113.359375 189.308594 117.835938 189.308594 123.359375 \"/>\n",
       "<path style=\"fill-rule:nonzero;fill:rgb(17.254902%,62.745098%,17.254902%);fill-opacity:1;stroke-width:1;stroke-linecap:butt;stroke-linejoin:miter;stroke:rgb(0%,0%,0%);stroke-opacity:1;stroke-miterlimit:10;\" d=\"M 261.136719 463.238281 C 261.136719 468.761719 256.660156 473.238281 251.136719 473.238281 C 245.613281 473.238281 241.136719 468.761719 241.136719 463.238281 C 241.136719 457.71875 245.613281 453.238281 251.136719 453.238281 C 256.660156 453.238281 261.136719 457.71875 261.136719 463.238281 \"/>\n",
       "<path style=\"fill-rule:nonzero;fill:rgb(17.254902%,62.745098%,17.254902%);fill-opacity:1;stroke-width:1;stroke-linecap:butt;stroke-linejoin:miter;stroke:rgb(0%,0%,0%);stroke-opacity:1;stroke-miterlimit:10;\" d=\"M 271.691406 479.46875 C 271.691406 484.992188 267.214844 489.46875 261.691406 489.46875 C 256.167969 489.46875 251.691406 484.992188 251.691406 479.46875 C 251.691406 473.945312 256.167969 469.46875 261.691406 469.46875 C 267.214844 469.46875 271.691406 473.945312 271.691406 479.46875 \"/>\n",
       "<path style=\"fill-rule:nonzero;fill:rgb(17.254902%,62.745098%,17.254902%);fill-opacity:1;stroke-width:1;stroke-linecap:butt;stroke-linejoin:miter;stroke:rgb(0%,0%,0%);stroke-opacity:1;stroke-miterlimit:10;\" d=\"M 281.691406 418.296875 C 281.691406 423.820312 277.214844 428.296875 271.691406 428.296875 C 266.171875 428.296875 261.691406 423.820312 261.691406 418.296875 C 261.691406 412.773438 266.171875 408.296875 271.691406 408.296875 C 277.214844 408.296875 281.691406 412.773438 281.691406 418.296875 \"/>\n",
       "<path style=\"fill-rule:nonzero;fill:rgb(17.254902%,62.745098%,17.254902%);fill-opacity:1;stroke-width:1;stroke-linecap:butt;stroke-linejoin:miter;stroke:rgb(0%,0%,0%);stroke-opacity:1;stroke-miterlimit:10;\" d=\"M 296.929688 432.941406 C 296.929688 438.464844 292.449219 442.941406 286.929688 442.941406 C 281.40625 442.941406 276.929688 438.464844 276.929688 432.941406 C 276.929688 427.417969 281.40625 422.941406 286.929688 422.941406 C 292.449219 422.941406 296.929688 427.417969 296.929688 432.941406 \"/>\n",
       "<path style=\"fill-rule:nonzero;fill:rgb(17.254902%,62.745098%,17.254902%);fill-opacity:1;stroke-width:1;stroke-linecap:butt;stroke-linejoin:miter;stroke:rgb(0%,0%,0%);stroke-opacity:1;stroke-miterlimit:10;\" d=\"M 230.5625 499.570312 C 230.5625 505.09375 226.085938 509.570312 220.5625 509.570312 C 215.042969 509.570312 210.5625 505.09375 210.5625 499.570312 C 210.5625 494.046875 215.042969 489.570312 220.5625 489.570312 C 226.085938 489.570312 230.5625 494.046875 230.5625 499.570312 \"/>\n",
       "<path style=\"fill-rule:nonzero;fill:rgb(17.254902%,62.745098%,17.254902%);fill-opacity:1;stroke-width:1;stroke-linecap:butt;stroke-linejoin:miter;stroke:rgb(0%,0%,0%);stroke-opacity:1;stroke-miterlimit:10;\" d=\"M 279.410156 452.699219 C 279.410156 458.222656 274.929688 462.699219 269.410156 462.699219 C 263.886719 462.699219 259.410156 458.222656 259.410156 452.699219 C 259.410156 447.175781 263.886719 442.699219 269.410156 442.699219 C 274.929688 442.699219 279.410156 447.175781 279.410156 452.699219 \"/>\n",
       "<path style=\"fill-rule:nonzero;fill:rgb(17.254902%,62.745098%,17.254902%);fill-opacity:1;stroke-width:1;stroke-linecap:butt;stroke-linejoin:miter;stroke:rgb(0%,0%,0%);stroke-opacity:1;stroke-miterlimit:10;\" d=\"M 243.679688 486.832031 C 243.679688 492.355469 239.203125 496.832031 233.679688 496.832031 C 228.160156 496.832031 223.679688 492.355469 223.679688 486.832031 C 223.679688 481.308594 228.160156 476.832031 233.679688 476.832031 C 239.203125 476.832031 243.679688 481.308594 243.679688 486.832031 \"/>\n",
       "<path style=\"fill-rule:nonzero;fill:rgb(49.803922%,49.803922%,49.803922%);fill-opacity:1;stroke-width:1;stroke-linecap:butt;stroke-linejoin:miter;stroke:rgb(0%,0%,0%);stroke-opacity:1;stroke-miterlimit:10;\" d=\"M 514.078125 121.785156 C 514.078125 127.308594 509.601562 131.785156 504.078125 131.785156 C 498.554688 131.785156 494.078125 127.308594 494.078125 121.785156 C 494.078125 116.265625 498.554688 111.785156 504.078125 111.785156 C 509.601562 111.785156 514.078125 116.265625 514.078125 121.785156 \"/>\n",
       "<path style=\"fill-rule:nonzero;fill:rgb(49.803922%,49.803922%,49.803922%);fill-opacity:1;stroke-width:1;stroke-linecap:butt;stroke-linejoin:miter;stroke:rgb(0%,0%,0%);stroke-opacity:1;stroke-miterlimit:10;\" d=\"M 477.046875 116.824219 C 477.046875 122.347656 472.570312 126.824219 467.046875 126.824219 C 461.523438 126.824219 457.046875 122.347656 457.046875 116.824219 C 457.046875 111.304688 461.523438 106.824219 467.046875 106.824219 C 472.570312 106.824219 477.046875 111.304688 477.046875 116.824219 \"/>\n",
       "<path style=\"fill-rule:nonzero;fill:rgb(17.254902%,62.745098%,17.254902%);fill-opacity:1;stroke-width:1;stroke-linecap:butt;stroke-linejoin:miter;stroke:rgb(0%,0%,0%);stroke-opacity:1;stroke-miterlimit:10;\" d=\"M 477.011719 557.003906 C 477.011719 562.527344 472.53125 567.003906 467.011719 567.003906 C 461.488281 567.003906 457.011719 562.527344 457.011719 557.003906 C 457.011719 551.480469 461.488281 547.003906 467.011719 547.003906 C 472.53125 547.003906 477.011719 551.480469 477.011719 557.003906 \"/>\n",
       "<path style=\"fill-rule:nonzero;fill:rgb(17.254902%,62.745098%,17.254902%);fill-opacity:1;stroke-width:1;stroke-linecap:butt;stroke-linejoin:miter;stroke:rgb(0%,0%,0%);stroke-opacity:1;stroke-miterlimit:10;\" d=\"M 485.488281 535.308594 C 485.488281 540.832031 481.011719 545.308594 475.488281 545.308594 C 469.964844 545.308594 465.488281 540.832031 465.488281 535.308594 C 465.488281 529.785156 469.964844 525.308594 475.488281 525.308594 C 481.011719 525.308594 485.488281 529.785156 485.488281 535.308594 \"/>\n",
       "<path style=\"fill-rule:nonzero;fill:rgb(17.254902%,62.745098%,17.254902%);fill-opacity:1;stroke-width:1;stroke-linecap:butt;stroke-linejoin:miter;stroke:rgb(0%,0%,0%);stroke-opacity:1;stroke-miterlimit:10;\" d=\"M 453.675781 537.429688 C 453.675781 542.953125 449.199219 547.429688 443.675781 547.429688 C 438.152344 547.429688 433.675781 542.953125 433.675781 537.429688 C 433.675781 531.90625 438.152344 527.429688 443.675781 527.429688 C 449.199219 527.429688 453.675781 531.90625 453.675781 537.429688 \"/>\n",
       "<path style=\"fill-rule:nonzero;fill:rgb(9.019608%,74.509804%,81.176471%);fill-opacity:1;stroke-width:1;stroke-linecap:butt;stroke-linejoin:miter;stroke:rgb(0%,0%,0%);stroke-opacity:1;stroke-miterlimit:10;\" d=\"M 141.90625 508.964844 C 141.90625 514.488281 137.429688 518.964844 131.90625 518.964844 C 126.382812 518.964844 121.90625 514.488281 121.90625 508.964844 C 121.90625 503.441406 126.382812 498.964844 131.90625 498.964844 C 137.429688 498.964844 141.90625 503.441406 141.90625 508.964844 \"/>\n",
       "<path style=\"fill-rule:nonzero;fill:rgb(9.019608%,74.509804%,81.176471%);fill-opacity:1;stroke-width:1;stroke-linecap:butt;stroke-linejoin:miter;stroke:rgb(0%,0%,0%);stroke-opacity:1;stroke-miterlimit:10;\" d=\"M 132.976562 491.273438 C 132.976562 496.792969 128.5 501.273438 122.976562 501.273438 C 117.457031 501.273438 112.976562 496.792969 112.976562 491.273438 C 112.976562 485.75 117.457031 481.273438 122.976562 481.273438 C 128.5 481.273438 132.976562 485.75 132.976562 491.273438 \"/>\n",
       "<path style=\"fill-rule:nonzero;fill:rgb(9.019608%,74.509804%,81.176471%);fill-opacity:1;stroke-width:1;stroke-linecap:butt;stroke-linejoin:miter;stroke:rgb(0%,0%,0%);stroke-opacity:1;stroke-miterlimit:10;\" d=\"M 111.773438 493.773438 C 111.773438 499.296875 107.296875 503.773438 101.773438 503.773438 C 96.25 503.773438 91.773438 499.296875 91.773438 493.773438 C 91.773438 488.25 96.25 483.773438 101.773438 483.773438 C 107.296875 483.773438 111.773438 488.25 111.773438 493.773438 \"/>\n",
       "<path style=\"fill-rule:nonzero;fill:rgb(9.019608%,74.509804%,81.176471%);fill-opacity:1;stroke-width:1;stroke-linecap:butt;stroke-linejoin:miter;stroke:rgb(0%,0%,0%);stroke-opacity:1;stroke-miterlimit:10;\" d=\"M 148.867188 482.011719 C 148.867188 487.53125 144.386719 492.011719 138.867188 492.011719 C 133.34375 492.011719 128.867188 487.53125 128.867188 482.011719 C 128.867188 476.488281 133.34375 472.011719 138.867188 472.011719 C 144.386719 472.011719 148.867188 476.488281 148.867188 482.011719 \"/>\n",
       "<path style=\"fill-rule:nonzero;fill:rgb(9.019608%,74.509804%,81.176471%);fill-opacity:1;stroke-width:1;stroke-linecap:butt;stroke-linejoin:miter;stroke:rgb(0%,0%,0%);stroke-opacity:1;stroke-miterlimit:10;\" d=\"M 124.921875 514.769531 C 124.921875 520.289062 120.445312 524.769531 114.921875 524.769531 C 109.398438 524.769531 104.921875 520.289062 104.921875 514.769531 C 104.921875 509.246094 109.398438 504.769531 114.921875 504.769531 C 120.445312 504.769531 124.921875 509.246094 124.921875 514.769531 \"/>\n",
       "<path style=\"fill-rule:nonzero;fill:rgb(9.019608%,74.509804%,81.176471%);fill-opacity:1;stroke-width:1;stroke-linecap:butt;stroke-linejoin:miter;stroke:rgb(0%,0%,0%);stroke-opacity:1;stroke-miterlimit:10;\" d=\"M 133.941406 529.996094 C 133.941406 535.519531 129.464844 539.996094 123.941406 539.996094 C 118.417969 539.996094 113.941406 535.519531 113.941406 529.996094 C 113.941406 524.472656 118.417969 519.996094 123.941406 519.996094 C 129.464844 519.996094 133.941406 524.472656 133.941406 529.996094 \"/>\n",
       "<path style=\"fill-rule:nonzero;fill:rgb(12.156863%,46.666667%,70.588235%);fill-opacity:1;stroke-width:1;stroke-linecap:butt;stroke-linejoin:miter;stroke:rgb(0%,0%,0%);stroke-opacity:1;stroke-miterlimit:10;\" d=\"M 243.625 202.515625 C 243.625 208.039062 239.148438 212.515625 233.625 212.515625 C 228.101562 212.515625 223.625 208.039062 223.625 202.515625 C 223.625 196.992188 228.101562 192.515625 233.625 192.515625 C 239.148438 192.515625 243.625 196.992188 243.625 202.515625 \"/>\n",
       "<path style=\"fill-rule:nonzero;fill:rgb(12.156863%,46.666667%,70.588235%);fill-opacity:1;stroke-width:1;stroke-linecap:butt;stroke-linejoin:miter;stroke:rgb(0%,0%,0%);stroke-opacity:1;stroke-miterlimit:10;\" d=\"M 266.109375 192.9375 C 266.109375 198.460938 261.632812 202.9375 256.109375 202.9375 C 250.589844 202.9375 246.109375 198.460938 246.109375 192.9375 C 246.109375 187.414062 250.589844 182.9375 256.109375 182.9375 C 261.632812 182.9375 266.109375 187.414062 266.109375 192.9375 \"/>\n",
       "<path style=\"fill-rule:nonzero;fill:rgb(12.156863%,46.666667%,70.588235%);fill-opacity:1;stroke-width:1;stroke-linecap:butt;stroke-linejoin:miter;stroke:rgb(0%,0%,0%);stroke-opacity:1;stroke-miterlimit:10;\" d=\"M 261.164062 178.335938 C 261.164062 183.859375 256.6875 188.335938 251.164062 188.335938 C 245.640625 188.335938 241.164062 183.859375 241.164062 178.335938 C 241.164062 172.8125 245.640625 168.335938 251.164062 168.335938 C 256.6875 168.335938 261.164062 172.8125 261.164062 178.335938 \"/>\n",
       "<path style=\"fill-rule:nonzero;fill:rgb(54.901961%,33.72549%,29.411765%);fill-opacity:1;stroke-width:1;stroke-linecap:butt;stroke-linejoin:miter;stroke:rgb(0%,0%,0%);stroke-opacity:1;stroke-miterlimit:10;\" d=\"M 224.113281 199.082031 C 224.113281 204.605469 219.632812 209.082031 214.113281 209.082031 C 208.589844 209.082031 204.113281 204.605469 204.113281 199.082031 C 204.113281 193.558594 208.589844 189.082031 214.113281 189.082031 C 219.632812 189.082031 224.113281 193.558594 224.113281 199.082031 \"/>\n",
       "<path style=\"fill-rule:nonzero;fill:rgb(49.803922%,49.803922%,49.803922%);fill-opacity:1;stroke-width:1;stroke-linecap:butt;stroke-linejoin:miter;stroke:rgb(0%,0%,0%);stroke-opacity:1;stroke-miterlimit:10;\" d=\"M 403.359375 88.714844 C 403.359375 94.238281 398.882812 98.714844 393.359375 98.714844 C 387.835938 98.714844 383.359375 94.238281 383.359375 88.714844 C 383.359375 83.195312 387.835938 78.714844 393.359375 78.714844 C 398.882812 78.714844 403.359375 83.195312 403.359375 88.714844 \"/>\n",
       "<path style=\"fill-rule:nonzero;fill:rgb(49.803922%,49.803922%,49.803922%);fill-opacity:1;stroke-width:1;stroke-linecap:butt;stroke-linejoin:miter;stroke:rgb(0%,0%,0%);stroke-opacity:1;stroke-miterlimit:10;\" d=\"M 397.425781 111.730469 C 397.425781 117.253906 392.949219 121.730469 387.425781 121.730469 C 381.902344 121.730469 377.425781 117.253906 377.425781 111.730469 C 377.425781 106.207031 381.902344 101.730469 387.425781 101.730469 C 392.949219 101.730469 397.425781 106.207031 397.425781 111.730469 \"/>\n",
       "<path style=\"fill-rule:nonzero;fill:rgb(49.803922%,49.803922%,49.803922%);fill-opacity:1;stroke-width:1;stroke-linecap:butt;stroke-linejoin:miter;stroke:rgb(0%,0%,0%);stroke-opacity:1;stroke-miterlimit:10;\" d=\"M 432.886719 121.746094 C 432.886719 127.265625 428.410156 131.746094 422.886719 131.746094 C 417.363281 131.746094 412.886719 127.265625 412.886719 121.746094 C 412.886719 116.222656 417.363281 111.746094 422.886719 111.746094 C 428.410156 111.746094 432.886719 116.222656 432.886719 121.746094 \"/>\n",
       "<path style=\"fill-rule:nonzero;fill:rgb(49.803922%,49.803922%,49.803922%);fill-opacity:1;stroke-width:1;stroke-linecap:butt;stroke-linejoin:miter;stroke:rgb(0%,0%,0%);stroke-opacity:1;stroke-miterlimit:10;\" d=\"M 351.359375 77.335938 C 351.359375 82.859375 346.882812 87.335938 341.359375 87.335938 C 335.839844 87.335938 331.359375 82.859375 331.359375 77.335938 C 331.359375 71.8125 335.839844 67.335938 341.359375 67.335938 C 346.882812 67.335938 351.359375 71.8125 351.359375 77.335938 \"/>\n",
       "<path style=\"fill-rule:nonzero;fill:rgb(49.803922%,49.803922%,49.803922%);fill-opacity:1;stroke-width:1;stroke-linecap:butt;stroke-linejoin:miter;stroke:rgb(0%,0%,0%);stroke-opacity:1;stroke-miterlimit:10;\" d=\"M 436.601562 78.996094 C 436.601562 84.519531 432.125 88.996094 426.601562 88.996094 C 421.078125 88.996094 416.601562 84.519531 416.601562 78.996094 C 416.601562 73.472656 421.078125 68.996094 426.601562 68.996094 C 432.125 68.996094 436.601562 73.472656 436.601562 78.996094 \"/>\n",
       "<path style=\"fill-rule:nonzero;fill:rgb(49.803922%,49.803922%,49.803922%);fill-opacity:1;stroke-width:1;stroke-linecap:butt;stroke-linejoin:miter;stroke:rgb(0%,0%,0%);stroke-opacity:1;stroke-miterlimit:10;\" d=\"M 369.511719 97.039062 C 369.511719 102.5625 365.035156 107.039062 359.511719 107.039062 C 353.988281 107.039062 349.511719 102.5625 349.511719 97.039062 C 349.511719 91.515625 353.988281 87.039062 359.511719 87.039062 C 365.035156 87.039062 369.511719 91.515625 369.511719 97.039062 \"/>\n",
       "<path style=\"fill-rule:nonzero;fill:rgb(49.803922%,49.803922%,49.803922%);fill-opacity:1;stroke-width:1;stroke-linecap:butt;stroke-linejoin:miter;stroke:rgb(0%,0%,0%);stroke-opacity:1;stroke-miterlimit:10;\" d=\"M 390.261719 62.410156 C 390.261719 67.933594 385.785156 72.410156 380.261719 72.410156 C 374.742188 72.410156 370.261719 67.933594 370.261719 62.410156 C 370.261719 56.890625 374.742188 52.410156 380.261719 52.410156 C 385.785156 52.410156 390.261719 56.890625 390.261719 62.410156 \"/>\n",
       "<path style=\"fill-rule:nonzero;fill:rgb(49.803922%,49.803922%,49.803922%);fill-opacity:1;stroke-width:1;stroke-linecap:butt;stroke-linejoin:miter;stroke:rgb(0%,0%,0%);stroke-opacity:1;stroke-miterlimit:10;\" d=\"M 442.4375 98.34375 C 442.4375 103.867188 437.957031 108.34375 432.4375 108.34375 C 426.914062 108.34375 422.4375 103.867188 422.4375 98.34375 C 422.4375 92.820312 426.914062 88.34375 432.4375 88.34375 C 437.957031 88.34375 442.4375 92.820312 442.4375 98.34375 \"/>\n",
       "<path style=\"fill-rule:nonzero;fill:rgb(12.156863%,46.666667%,70.588235%);fill-opacity:1;stroke-width:1;stroke-linecap:butt;stroke-linejoin:miter;stroke:rgb(0%,0%,0%);stroke-opacity:1;stroke-miterlimit:10;\" d=\"M 318.886719 165.621094 C 318.886719 171.140625 314.410156 175.621094 308.886719 175.621094 C 303.363281 175.621094 298.886719 171.140625 298.886719 165.621094 C 298.886719 160.097656 303.363281 155.621094 308.886719 155.621094 C 314.410156 155.621094 318.886719 160.097656 318.886719 165.621094 \"/>\n",
       "<path style=\"fill-rule:nonzero;fill:rgb(73.72549%,74.117647%,13.333333%);fill-opacity:1;stroke-width:1;stroke-linecap:butt;stroke-linejoin:miter;stroke:rgb(0%,0%,0%);stroke-opacity:1;stroke-miterlimit:10;\" d=\"M 444.949219 236.964844 C 444.949219 242.488281 440.472656 246.964844 434.949219 246.964844 C 429.425781 246.964844 424.949219 242.488281 424.949219 236.964844 C 424.949219 231.441406 429.425781 226.964844 434.949219 226.964844 C 440.472656 226.964844 444.949219 231.441406 444.949219 236.964844 \"/>\n",
       "<path style=\"fill-rule:nonzero;fill:rgb(73.72549%,74.117647%,13.333333%);fill-opacity:1;stroke-width:1;stroke-linecap:butt;stroke-linejoin:miter;stroke:rgb(0%,0%,0%);stroke-opacity:1;stroke-miterlimit:10;\" d=\"M 399.578125 240.601562 C 399.578125 246.125 395.101562 250.601562 389.578125 250.601562 C 384.058594 250.601562 379.578125 246.125 379.578125 240.601562 C 379.578125 235.078125 384.058594 230.601562 389.578125 230.601562 C 395.101562 230.601562 399.578125 235.078125 399.578125 240.601562 \"/>\n",
       "<path style=\"fill-rule:nonzero;fill:rgb(58.039216%,40.392157%,74.117647%);fill-opacity:1;stroke-width:1;stroke-linecap:butt;stroke-linejoin:miter;stroke:rgb(0%,0%,0%);stroke-opacity:1;stroke-miterlimit:10;\" d=\"M 432.523438 253.878906 C 432.523438 259.402344 428.046875 263.878906 422.523438 263.878906 C 417 263.878906 412.523438 259.402344 412.523438 253.878906 C 412.523438 248.359375 417 243.878906 422.523438 243.878906 C 428.046875 243.878906 432.523438 248.359375 432.523438 253.878906 \"/>\n",
       "<path style=\"fill-rule:nonzero;fill:rgb(12.156863%,46.666667%,70.588235%);fill-opacity:1;stroke-width:1;stroke-linecap:butt;stroke-linejoin:miter;stroke:rgb(0%,0%,0%);stroke-opacity:1;stroke-miterlimit:10;\" d=\"M 334.734375 129.984375 C 334.734375 135.507812 330.253906 139.984375 324.734375 139.984375 C 319.210938 139.984375 314.734375 135.507812 314.734375 129.984375 C 314.734375 124.460938 319.210938 119.984375 324.734375 119.984375 C 330.253906 119.984375 334.734375 124.460938 334.734375 129.984375 \"/>\n",
       "<path style=\"fill-rule:nonzero;fill:rgb(12.156863%,46.666667%,70.588235%);fill-opacity:1;stroke-width:1;stroke-linecap:butt;stroke-linejoin:miter;stroke:rgb(0%,0%,0%);stroke-opacity:1;stroke-miterlimit:10;\" d=\"M 315.6875 139.523438 C 315.6875 145.046875 311.210938 149.523438 305.6875 149.523438 C 300.164062 149.523438 295.6875 145.046875 295.6875 139.523438 C 295.6875 134.003906 300.164062 129.523438 305.6875 129.523438 C 311.210938 129.523438 315.6875 134.003906 315.6875 139.523438 \"/>\n",
       "<path style=\"fill-rule:nonzero;fill:rgb(12.156863%,46.666667%,70.588235%);fill-opacity:1;stroke-width:1;stroke-linecap:butt;stroke-linejoin:miter;stroke:rgb(0%,0%,0%);stroke-opacity:1;stroke-miterlimit:10;\" d=\"M 341.46875 144.425781 C 341.46875 149.949219 336.992188 154.425781 331.46875 154.425781 C 325.949219 154.425781 321.46875 149.949219 321.46875 144.425781 C 321.46875 138.90625 325.949219 134.425781 331.46875 134.425781 C 336.992188 134.425781 341.46875 138.90625 341.46875 144.425781 \"/>\n",
       "<path style=\"fill-rule:nonzero;fill:rgb(49.803922%,49.803922%,49.803922%);fill-opacity:1;stroke-width:1;stroke-linecap:butt;stroke-linejoin:miter;stroke:rgb(0%,0%,0%);stroke-opacity:1;stroke-miterlimit:10;\" d=\"M 366.769531 127.582031 C 366.769531 133.101562 362.292969 137.582031 356.769531 137.582031 C 351.246094 137.582031 346.769531 133.101562 346.769531 127.582031 C 346.769531 122.058594 351.246094 117.582031 356.769531 117.582031 C 362.292969 117.582031 366.769531 122.058594 366.769531 127.582031 \"/>\n",
       "<path style=\"fill-rule:nonzero;fill:rgb(12.156863%,46.666667%,70.588235%);fill-opacity:1;stroke-width:1;stroke-linecap:butt;stroke-linejoin:miter;stroke:rgb(0%,0%,0%);stroke-opacity:1;stroke-miterlimit:10;\" d=\"M 329.972656 106.382812 C 329.972656 111.90625 325.496094 116.382812 319.972656 116.382812 C 314.449219 116.382812 309.972656 111.90625 309.972656 106.382812 C 309.972656 100.859375 314.449219 96.382812 319.972656 96.382812 C 325.496094 96.382812 329.972656 100.859375 329.972656 106.382812 \"/>\n",
       "<path style=\"fill-rule:nonzero;fill:rgb(49.803922%,49.803922%,49.803922%);fill-opacity:1;stroke-width:1;stroke-linecap:butt;stroke-linejoin:miter;stroke:rgb(0%,0%,0%);stroke-opacity:1;stroke-miterlimit:10;\" d=\"M 464.0625 127.171875 C 464.0625 132.695312 459.585938 137.171875 454.0625 137.171875 C 448.539062 137.171875 444.0625 132.695312 444.0625 127.171875 C 444.0625 121.652344 448.539062 117.171875 454.0625 117.171875 C 459.585938 117.171875 464.0625 121.652344 464.0625 127.171875 \"/>\n",
       "<path style=\"fill-rule:nonzero;fill:rgb(49.803922%,49.803922%,49.803922%);fill-opacity:1;stroke-width:1;stroke-linecap:butt;stroke-linejoin:miter;stroke:rgb(0%,0%,0%);stroke-opacity:1;stroke-miterlimit:10;\" d=\"M 472.566406 139.953125 C 472.566406 145.476562 468.089844 149.953125 462.566406 149.953125 C 457.042969 149.953125 452.566406 145.476562 452.566406 139.953125 C 452.566406 134.429688 457.042969 129.953125 462.566406 129.953125 C 468.089844 129.953125 472.566406 134.429688 472.566406 139.953125 \"/>\n",
       "<path style=\"fill-rule:nonzero;fill:rgb(49.803922%,49.803922%,49.803922%);fill-opacity:1;stroke-width:1;stroke-linecap:butt;stroke-linejoin:miter;stroke:rgb(0%,0%,0%);stroke-opacity:1;stroke-miterlimit:10;\" d=\"M 464.132812 106.726562 C 464.132812 112.246094 459.65625 116.726562 454.132812 116.726562 C 448.609375 116.726562 444.132812 112.246094 444.132812 106.726562 C 444.132812 101.203125 448.609375 96.726562 454.132812 96.726562 C 459.65625 96.726562 464.132812 101.203125 464.132812 106.726562 \"/>\n",
       "<path style=\"fill-rule:nonzero;fill:rgb(9.019608%,74.509804%,81.176471%);fill-opacity:1;stroke-width:1;stroke-linecap:butt;stroke-linejoin:miter;stroke:rgb(0%,0%,0%);stroke-opacity:1;stroke-miterlimit:10;\" d=\"M 30 289.804688 C 30 295.328125 25.523438 299.804688 20 299.804688 C 14.476562 299.804688 10 295.328125 10 289.804688 C 10 284.28125 14.476562 279.804688 20 279.804688 C 25.523438 279.804688 30 284.28125 30 289.804688 \"/>\n",
       "<path style=\"fill-rule:nonzero;fill:rgb(9.019608%,74.509804%,81.176471%);fill-opacity:1;stroke-width:1;stroke-linecap:butt;stroke-linejoin:miter;stroke:rgb(0%,0%,0%);stroke-opacity:1;stroke-miterlimit:10;\" d=\"M 46.726562 306.316406 C 46.726562 311.839844 42.25 316.316406 36.726562 316.316406 C 31.203125 316.316406 26.726562 311.839844 26.726562 306.316406 C 26.726562 300.792969 31.203125 296.316406 36.726562 296.316406 C 42.25 296.316406 46.726562 300.792969 46.726562 306.316406 \"/>\n",
       "<path style=\"fill-rule:nonzero;fill:rgb(83.921569%,15.294118%,15.686275%);fill-opacity:1;stroke-width:1;stroke-linecap:butt;stroke-linejoin:miter;stroke:rgb(0%,0%,0%);stroke-opacity:1;stroke-miterlimit:10;\" d=\"M 43.417969 275.84375 C 43.417969 281.367188 38.941406 285.84375 33.417969 285.84375 C 27.894531 285.84375 23.417969 281.367188 23.417969 275.84375 C 23.417969 270.320312 27.894531 265.84375 33.417969 265.84375 C 38.941406 265.84375 43.417969 270.320312 43.417969 275.84375 \"/>\n",
       "<path style=\"fill-rule:nonzero;fill:rgb(17.254902%,62.745098%,17.254902%);fill-opacity:1;stroke-width:1;stroke-linecap:butt;stroke-linejoin:miter;stroke:rgb(0%,0%,0%);stroke-opacity:1;stroke-miterlimit:10;\" d=\"M 260.964844 441.875 C 260.964844 447.394531 256.488281 451.875 250.964844 451.875 C 245.441406 451.875 240.964844 447.394531 240.964844 441.875 C 240.964844 436.351562 245.441406 431.875 250.964844 431.875 C 256.488281 431.875 260.964844 436.351562 260.964844 441.875 \"/>\n",
       "<path style=\"fill-rule:nonzero;fill:rgb(17.254902%,62.745098%,17.254902%);fill-opacity:1;stroke-width:1;stroke-linecap:butt;stroke-linejoin:miter;stroke:rgb(0%,0%,0%);stroke-opacity:1;stroke-miterlimit:10;\" d=\"M 252.292969 416.84375 C 252.292969 422.367188 247.816406 426.84375 242.292969 426.84375 C 236.773438 426.84375 232.292969 422.367188 232.292969 416.84375 C 232.292969 411.320312 236.773438 406.84375 242.292969 406.84375 C 247.816406 406.84375 252.292969 411.320312 252.292969 416.84375 \"/>\n",
       "<path style=\"fill-rule:nonzero;fill:rgb(17.254902%,62.745098%,17.254902%);fill-opacity:1;stroke-width:1;stroke-linecap:butt;stroke-linejoin:miter;stroke:rgb(0%,0%,0%);stroke-opacity:1;stroke-miterlimit:10;\" d=\"M 305.09375 462.636719 C 305.09375 468.160156 300.617188 472.636719 295.09375 472.636719 C 289.570312 472.636719 285.09375 468.160156 285.09375 462.636719 C 285.09375 457.117188 289.570312 452.636719 295.09375 452.636719 C 300.617188 452.636719 305.09375 457.117188 305.09375 462.636719 \"/>\n",
       "<path style=\"fill-rule:nonzero;fill:rgb(17.254902%,62.745098%,17.254902%);fill-opacity:1;stroke-width:1;stroke-linecap:butt;stroke-linejoin:miter;stroke:rgb(0%,0%,0%);stroke-opacity:1;stroke-miterlimit:10;\" d=\"M 225.054688 421.011719 C 225.054688 426.535156 220.578125 431.011719 215.054688 431.011719 C 209.53125 431.011719 205.054688 426.535156 205.054688 421.011719 C 205.054688 415.492188 209.53125 411.011719 215.054688 411.011719 C 220.578125 411.011719 225.054688 415.492188 225.054688 421.011719 \"/>\n",
       "<path style=\"fill-rule:nonzero;fill:rgb(73.72549%,74.117647%,13.333333%);fill-opacity:1;stroke-width:1;stroke-linecap:butt;stroke-linejoin:miter;stroke:rgb(0%,0%,0%);stroke-opacity:1;stroke-miterlimit:10;\" d=\"M 409.828125 222.820312 C 409.828125 228.34375 405.351562 232.820312 399.828125 232.820312 C 394.304688 232.820312 389.828125 228.34375 389.828125 222.820312 C 389.828125 217.296875 394.304688 212.820312 399.828125 212.820312 C 405.351562 212.820312 409.828125 217.296875 409.828125 222.820312 \"/>\n",
       "<path style=\"fill-rule:nonzero;fill:rgb(9.019608%,74.509804%,81.176471%);fill-opacity:1;stroke-width:1;stroke-linecap:butt;stroke-linejoin:miter;stroke:rgb(0%,0%,0%);stroke-opacity:1;stroke-miterlimit:10;\" d=\"M 123.769531 465.015625 C 123.769531 470.539062 119.292969 475.015625 113.769531 475.015625 C 108.246094 475.015625 103.769531 470.539062 103.769531 465.015625 C 103.769531 459.492188 108.246094 455.015625 113.769531 455.015625 C 119.292969 455.015625 123.769531 459.492188 123.769531 465.015625 \"/>\n",
       "<path style=\"fill-rule:nonzero;fill:rgb(49.803922%,49.803922%,49.803922%);fill-opacity:1;stroke-width:1;stroke-linecap:butt;stroke-linejoin:miter;stroke:rgb(0%,0%,0%);stroke-opacity:1;stroke-miterlimit:10;\" d=\"M 334.851562 20 C 334.851562 25.523438 330.375 30 324.851562 30 C 319.328125 30 314.851562 25.523438 314.851562 20 C 314.851562 14.476562 319.328125 10 324.851562 10 C 330.375 10 334.851562 14.476562 334.851562 20 \"/>\n",
       "<path style=\"fill-rule:nonzero;fill:rgb(49.803922%,49.803922%,49.803922%);fill-opacity:1;stroke-width:1;stroke-linecap:butt;stroke-linejoin:miter;stroke:rgb(0%,0%,0%);stroke-opacity:1;stroke-miterlimit:10;\" d=\"M 357.984375 42.707031 C 357.984375 48.230469 353.507812 52.707031 347.984375 52.707031 C 342.460938 52.707031 337.984375 48.230469 337.984375 42.707031 C 337.984375 37.1875 342.460938 32.707031 347.984375 32.707031 C 353.507812 32.707031 357.984375 37.1875 357.984375 42.707031 \"/>\n",
       "<path style=\"fill-rule:nonzero;fill:rgb(17.254902%,62.745098%,17.254902%);fill-opacity:1;stroke-width:1;stroke-linecap:butt;stroke-linejoin:miter;stroke:rgb(0%,0%,0%);stroke-opacity:1;stroke-miterlimit:10;\" d=\"M 486.632812 520.410156 C 486.632812 525.933594 482.15625 530.410156 476.632812 530.410156 C 471.109375 530.410156 466.632812 525.933594 466.632812 520.410156 C 466.632812 514.886719 471.109375 510.410156 476.632812 510.410156 C 482.15625 510.410156 486.632812 514.886719 486.632812 520.410156 \"/>\n",
       "<path style=\"fill-rule:nonzero;fill:rgb(17.254902%,62.745098%,17.254902%);fill-opacity:1;stroke-width:1;stroke-linecap:butt;stroke-linejoin:miter;stroke:rgb(0%,0%,0%);stroke-opacity:1;stroke-miterlimit:10;\" d=\"M 484.824219 500.640625 C 484.824219 506.164062 480.347656 510.640625 474.824219 510.640625 C 469.304688 510.640625 464.824219 506.164062 464.824219 500.640625 C 464.824219 495.117188 469.304688 490.640625 474.824219 490.640625 C 480.347656 490.640625 484.824219 495.117188 484.824219 500.640625 \"/>\n",
       "<path style=\"fill-rule:nonzero;fill:rgb(17.254902%,62.745098%,17.254902%);fill-opacity:1;stroke-width:1;stroke-linecap:butt;stroke-linejoin:miter;stroke:rgb(0%,0%,0%);stroke-opacity:1;stroke-miterlimit:10;\" d=\"M 468.617188 513.757812 C 468.617188 519.28125 464.140625 523.757812 458.617188 523.757812 C 453.09375 523.757812 448.617188 519.28125 448.617188 513.757812 C 448.617188 508.238281 453.09375 503.757812 458.617188 503.757812 C 464.140625 503.757812 468.617188 508.238281 468.617188 513.757812 \"/>\n",
       "<path style=\"fill-rule:nonzero;fill:rgb(9.019608%,74.509804%,81.176471%);fill-opacity:1;stroke-width:1;stroke-linecap:butt;stroke-linejoin:miter;stroke:rgb(0%,0%,0%);stroke-opacity:1;stroke-miterlimit:10;\" d=\"M 99.175781 452.121094 C 99.175781 457.644531 94.699219 462.121094 89.175781 462.121094 C 83.652344 462.121094 79.175781 457.644531 79.175781 452.121094 C 79.175781 446.597656 83.652344 442.121094 89.175781 442.121094 C 94.699219 442.121094 99.175781 446.597656 99.175781 452.121094 \"/>\n",
       "<path style=\"fill-rule:nonzero;fill:rgb(9.019608%,74.509804%,81.176471%);fill-opacity:1;stroke-width:1;stroke-linecap:butt;stroke-linejoin:miter;stroke:rgb(0%,0%,0%);stroke-opacity:1;stroke-miterlimit:10;\" d=\"M 82.976562 493.238281 C 82.976562 498.761719 78.5 503.238281 72.976562 503.238281 C 67.453125 503.238281 62.976562 498.761719 62.976562 493.238281 C 62.976562 487.714844 67.453125 483.238281 72.976562 483.238281 C 78.5 483.238281 82.976562 487.714844 82.976562 493.238281 \"/>\n",
       "<path style=\"fill-rule:nonzero;fill:rgb(9.019608%,74.509804%,81.176471%);fill-opacity:1;stroke-width:1;stroke-linecap:butt;stroke-linejoin:miter;stroke:rgb(0%,0%,0%);stroke-opacity:1;stroke-miterlimit:10;\" d=\"M 89.875 512.90625 C 89.875 518.429688 85.394531 522.90625 79.875 522.90625 C 74.351562 522.90625 69.875 518.429688 69.875 512.90625 C 69.875 507.382812 74.351562 502.90625 79.875 502.90625 C 85.394531 502.90625 89.875 507.382812 89.875 512.90625 \"/>\n",
       "<path style=\"fill-rule:nonzero;fill:rgb(9.019608%,74.509804%,81.176471%);fill-opacity:1;stroke-width:1;stroke-linecap:butt;stroke-linejoin:miter;stroke:rgb(0%,0%,0%);stroke-opacity:1;stroke-miterlimit:10;\" d=\"M 86.992188 472.375 C 86.992188 477.894531 82.515625 482.375 76.992188 482.375 C 71.46875 482.375 66.992188 477.894531 66.992188 472.375 C 66.992188 466.851562 71.46875 462.375 76.992188 462.375 C 82.515625 462.375 86.992188 466.851562 86.992188 472.375 \"/>\n",
       "<path style=\"fill-rule:nonzero;fill:rgb(58.039216%,40.392157%,74.117647%);fill-opacity:1;stroke-width:1;stroke-linecap:butt;stroke-linejoin:miter;stroke:rgb(0%,0%,0%);stroke-opacity:1;stroke-miterlimit:10;\" d=\"M 551.570312 273.375 C 551.570312 278.894531 547.089844 283.375 541.570312 283.375 C 536.046875 283.375 531.570312 278.894531 531.570312 273.375 C 531.570312 267.851562 536.046875 263.375 541.570312 263.375 C 547.089844 263.375 551.570312 267.851562 551.570312 273.375 \"/>\n",
       "<path style=\"fill-rule:nonzero;fill:rgb(58.039216%,40.392157%,74.117647%);fill-opacity:1;stroke-width:1;stroke-linecap:butt;stroke-linejoin:miter;stroke:rgb(0%,0%,0%);stroke-opacity:1;stroke-miterlimit:10;\" d=\"M 528.722656 294.132812 C 528.722656 299.65625 524.246094 304.132812 518.722656 304.132812 C 513.203125 304.132812 508.722656 299.65625 508.722656 294.132812 C 508.722656 288.613281 513.203125 284.132812 518.722656 284.132812 C 524.246094 284.132812 528.722656 288.613281 528.722656 294.132812 \"/>\n",
       "<path style=\"fill-rule:nonzero;fill:rgb(49.803922%,49.803922%,49.803922%);fill-opacity:1;stroke-width:1;stroke-linecap:butt;stroke-linejoin:miter;stroke:rgb(0%,0%,0%);stroke-opacity:1;stroke-miterlimit:10;\" d=\"M 228.191406 135.476562 C 228.191406 141 223.714844 145.476562 218.191406 145.476562 C 212.667969 145.476562 208.191406 141 208.191406 135.476562 C 208.191406 129.953125 212.667969 125.476562 218.191406 125.476562 C 223.714844 125.476562 228.191406 129.953125 228.191406 135.476562 \"/>\n",
       "<path style=\"fill-rule:nonzero;fill:rgb(49.803922%,49.803922%,49.803922%);fill-opacity:1;stroke-width:1;stroke-linecap:butt;stroke-linejoin:miter;stroke:rgb(0%,0%,0%);stroke-opacity:1;stroke-miterlimit:10;\" d=\"M 290.351562 95.34375 C 290.351562 100.867188 285.875 105.34375 280.351562 105.34375 C 274.828125 105.34375 270.351562 100.867188 270.351562 95.34375 C 270.351562 89.820312 274.828125 85.34375 280.351562 85.34375 C 285.875 85.34375 290.351562 89.820312 290.351562 95.34375 \"/>\n",
       "<path style=\"fill-rule:nonzero;fill:rgb(17.254902%,62.745098%,17.254902%);fill-opacity:1;stroke-width:1;stroke-linecap:butt;stroke-linejoin:miter;stroke:rgb(0%,0%,0%);stroke-opacity:1;stroke-miterlimit:10;\" d=\"M 261.664062 389.355469 C 261.664062 394.878906 257.1875 399.355469 251.664062 399.355469 C 246.140625 399.355469 241.664062 394.878906 241.664062 389.355469 C 241.664062 383.832031 246.140625 379.355469 251.664062 379.355469 C 257.1875 379.355469 261.664062 383.832031 261.664062 389.355469 \"/>\n",
       "<path style=\"fill-rule:nonzero;fill:rgb(17.254902%,62.745098%,17.254902%);fill-opacity:1;stroke-width:1;stroke-linecap:butt;stroke-linejoin:miter;stroke:rgb(0%,0%,0%);stroke-opacity:1;stroke-miterlimit:10;\" d=\"M 228.230469 395.820312 C 228.230469 401.34375 223.753906 405.820312 218.230469 405.820312 C 212.707031 405.820312 208.230469 401.34375 208.230469 395.820312 C 208.230469 390.296875 212.707031 385.820312 218.230469 385.820312 C 223.753906 385.820312 228.230469 390.296875 228.230469 395.820312 \"/>\n",
       "<path style=\"fill-rule:nonzero;fill:rgb(17.254902%,62.745098%,17.254902%);fill-opacity:1;stroke-width:1;stroke-linecap:butt;stroke-linejoin:miter;stroke:rgb(0%,0%,0%);stroke-opacity:1;stroke-miterlimit:10;\" d=\"M 400.691406 575.984375 C 400.691406 581.507812 396.214844 585.984375 390.691406 585.984375 C 385.171875 585.984375 380.691406 581.507812 380.691406 575.984375 C 380.691406 570.464844 385.171875 565.984375 390.691406 565.984375 C 396.214844 565.984375 400.691406 570.464844 400.691406 575.984375 \"/>\n",
       "<path style=\"fill-rule:nonzero;fill:rgb(17.254902%,62.745098%,17.254902%);fill-opacity:1;stroke-width:1;stroke-linecap:butt;stroke-linejoin:miter;stroke:rgb(0%,0%,0%);stroke-opacity:1;stroke-miterlimit:10;\" d=\"M 381.535156 563.441406 C 381.535156 568.964844 377.058594 573.441406 371.535156 573.441406 C 366.015625 573.441406 361.535156 568.964844 361.535156 563.441406 C 361.535156 557.917969 366.015625 553.441406 371.535156 553.441406 C 377.058594 553.441406 381.535156 557.917969 381.535156 563.441406 \"/>\n",
       "<path style=\"fill-rule:nonzero;fill:rgb(17.254902%,62.745098%,17.254902%);fill-opacity:1;stroke-width:1;stroke-linecap:butt;stroke-linejoin:miter;stroke:rgb(0%,0%,0%);stroke-opacity:1;stroke-miterlimit:10;\" d=\"M 400.832031 543.867188 C 400.832031 549.390625 396.355469 553.867188 390.832031 553.867188 C 385.308594 553.867188 380.832031 549.390625 380.832031 543.867188 C 380.832031 538.34375 385.308594 533.867188 390.832031 533.867188 C 396.355469 533.867188 400.832031 538.34375 400.832031 543.867188 \"/>\n",
       "<path style=\"fill-rule:nonzero;fill:rgb(58.039216%,40.392157%,74.117647%);fill-opacity:1;stroke-width:1;stroke-linecap:butt;stroke-linejoin:miter;stroke:rgb(0%,0%,0%);stroke-opacity:1;stroke-miterlimit:10;\" d=\"M 457.632812 293.800781 C 457.632812 299.324219 453.152344 303.800781 447.632812 303.800781 C 442.109375 303.800781 437.632812 299.324219 437.632812 293.800781 C 437.632812 288.277344 442.109375 283.800781 447.632812 283.800781 C 453.152344 283.800781 457.632812 288.277344 457.632812 293.800781 \"/>\n",
       "<path style=\"fill-rule:nonzero;fill:rgb(58.039216%,40.392157%,74.117647%);fill-opacity:1;stroke-width:1;stroke-linecap:butt;stroke-linejoin:miter;stroke:rgb(0%,0%,0%);stroke-opacity:1;stroke-miterlimit:10;\" d=\"M 436.78125 271 C 436.78125 276.523438 432.304688 281 426.78125 281 C 421.257812 281 416.78125 276.523438 416.78125 271 C 416.78125 265.476562 421.257812 261 426.78125 261 C 432.304688 261 436.78125 265.476562 436.78125 271 \"/>\n",
       "<path style=\"fill-rule:nonzero;fill:rgb(58.039216%,40.392157%,74.117647%);fill-opacity:1;stroke-width:1;stroke-linecap:butt;stroke-linejoin:miter;stroke:rgb(0%,0%,0%);stroke-opacity:1;stroke-miterlimit:10;\" d=\"M 477.96875 279.414062 C 477.96875 284.9375 473.488281 289.414062 467.96875 289.414062 C 462.445312 289.414062 457.96875 284.9375 457.96875 279.414062 C 457.96875 273.890625 462.445312 269.414062 467.96875 269.414062 C 473.488281 269.414062 477.96875 273.890625 477.96875 279.414062 \"/>\n",
       "<path style=\"fill-rule:nonzero;fill:rgb(58.039216%,40.392157%,74.117647%);fill-opacity:1;stroke-width:1;stroke-linecap:butt;stroke-linejoin:miter;stroke:rgb(0%,0%,0%);stroke-opacity:1;stroke-miterlimit:10;\" d=\"M 421.59375 279.53125 C 421.59375 285.050781 417.117188 289.53125 411.59375 289.53125 C 406.070312 289.53125 401.59375 285.050781 401.59375 279.53125 C 401.59375 274.007812 406.070312 269.53125 411.59375 269.53125 C 417.117188 269.53125 421.59375 274.007812 421.59375 279.53125 \"/>\n",
       "<path style=\"fill-rule:nonzero;fill:rgb(17.254902%,62.745098%,17.254902%);fill-opacity:1;stroke-width:1;stroke-linecap:butt;stroke-linejoin:miter;stroke:rgb(0%,0%,0%);stroke-opacity:1;stroke-miterlimit:10;\" d=\"M 348.003906 475.890625 C 348.003906 481.410156 343.527344 485.890625 338.003906 485.890625 C 332.480469 485.890625 328.003906 481.410156 328.003906 475.890625 C 328.003906 470.367188 332.480469 465.890625 338.003906 465.890625 C 343.527344 465.890625 348.003906 470.367188 348.003906 475.890625 \"/>\n",
       "<path style=\"fill-rule:nonzero;fill:rgb(17.254902%,62.745098%,17.254902%);fill-opacity:1;stroke-width:1;stroke-linecap:butt;stroke-linejoin:miter;stroke:rgb(0%,0%,0%);stroke-opacity:1;stroke-miterlimit:10;\" d=\"M 333.308594 499.410156 C 333.308594 504.933594 328.832031 509.410156 323.308594 509.410156 C 317.785156 509.410156 313.308594 504.933594 313.308594 499.410156 C 313.308594 493.886719 317.785156 489.410156 323.308594 489.410156 C 328.832031 489.410156 333.308594 493.886719 333.308594 499.410156 \"/>\n",
       "<path style=\"fill-rule:nonzero;fill:rgb(17.254902%,62.745098%,17.254902%);fill-opacity:1;stroke-width:1;stroke-linecap:butt;stroke-linejoin:miter;stroke:rgb(0%,0%,0%);stroke-opacity:1;stroke-miterlimit:10;\" d=\"M 307.828125 483.472656 C 307.828125 488.996094 303.351562 493.472656 297.828125 493.472656 C 292.304688 493.472656 287.828125 488.996094 287.828125 483.472656 C 287.828125 477.949219 292.304688 473.472656 297.828125 473.472656 C 303.351562 473.472656 307.828125 477.949219 307.828125 483.472656 \"/>\n",
       "<path style=\"fill-rule:nonzero;fill:rgb(17.254902%,62.745098%,17.254902%);fill-opacity:1;stroke-width:1;stroke-linecap:butt;stroke-linejoin:miter;stroke:rgb(0%,0%,0%);stroke-opacity:1;stroke-miterlimit:10;\" d=\"M 365.015625 494.335938 C 365.015625 499.859375 360.539062 504.335938 355.015625 504.335938 C 349.492188 504.335938 345.015625 499.859375 345.015625 494.335938 C 345.015625 488.8125 349.492188 484.335938 355.015625 484.335938 C 360.539062 484.335938 365.015625 488.8125 365.015625 494.335938 \"/>\n",
       "<path style=\"fill-rule:nonzero;fill:rgb(17.254902%,62.745098%,17.254902%);fill-opacity:1;stroke-width:1;stroke-linecap:butt;stroke-linejoin:miter;stroke:rgb(0%,0%,0%);stroke-opacity:1;stroke-miterlimit:10;\" d=\"M 385.570312 460.398438 C 385.570312 465.921875 381.089844 470.398438 375.570312 470.398438 C 370.046875 470.398438 365.570312 465.921875 365.570312 460.398438 C 365.570312 454.875 370.046875 450.398438 375.570312 450.398438 C 381.089844 450.398438 385.570312 454.875 385.570312 460.398438 \"/>\n",
       "<path style=\"fill-rule:nonzero;fill:rgb(17.254902%,62.745098%,17.254902%);fill-opacity:1;stroke-width:1;stroke-linecap:butt;stroke-linejoin:miter;stroke:rgb(0%,0%,0%);stroke-opacity:1;stroke-miterlimit:10;\" d=\"M 382.28125 478.683594 C 382.28125 484.207031 377.804688 488.683594 372.28125 488.683594 C 366.757812 488.683594 362.28125 484.207031 362.28125 478.683594 C 362.28125 473.160156 366.757812 468.683594 372.28125 468.683594 C 377.804688 468.683594 382.28125 473.160156 382.28125 478.683594 \"/>\n",
       "<path style=\"fill-rule:nonzero;fill:rgb(83.921569%,15.294118%,15.686275%);fill-opacity:1;stroke-width:1;stroke-linecap:butt;stroke-linejoin:miter;stroke:rgb(0%,0%,0%);stroke-opacity:1;stroke-miterlimit:10;\" d=\"M 65.339844 254.230469 C 65.339844 259.753906 60.863281 264.230469 55.339844 264.230469 C 49.816406 264.230469 45.339844 259.753906 45.339844 254.230469 C 45.339844 248.707031 49.816406 244.230469 55.339844 244.230469 C 60.863281 244.230469 65.339844 248.707031 65.339844 254.230469 \"/>\n",
       "<path style=\"fill-rule:nonzero;fill:rgb(83.921569%,15.294118%,15.686275%);fill-opacity:1;stroke-width:1;stroke-linecap:butt;stroke-linejoin:miter;stroke:rgb(0%,0%,0%);stroke-opacity:1;stroke-miterlimit:10;\" d=\"M 45.089844 248.644531 C 45.089844 254.167969 40.613281 258.644531 35.089844 258.644531 C 29.566406 258.644531 25.089844 254.167969 25.089844 248.644531 C 25.089844 243.121094 29.566406 238.644531 35.089844 238.644531 C 40.613281 238.644531 45.089844 243.121094 45.089844 248.644531 \"/>\n",
       "<path style=\"fill-rule:nonzero;fill:rgb(17.254902%,62.745098%,17.254902%);fill-opacity:1;stroke-width:1;stroke-linecap:butt;stroke-linejoin:miter;stroke:rgb(0%,0%,0%);stroke-opacity:1;stroke-miterlimit:10;\" d=\"M 300.332031 509.570312 C 300.332031 515.09375 295.855469 519.570312 290.332031 519.570312 C 284.808594 519.570312 280.332031 515.09375 280.332031 509.570312 C 280.332031 504.046875 284.808594 499.570312 290.332031 499.570312 C 295.855469 499.570312 300.332031 504.046875 300.332031 509.570312 \"/>\n",
       "<path style=\"fill-rule:nonzero;fill:rgb(100%,49.803922%,5.490196%);fill-opacity:1;stroke-width:1;stroke-linecap:butt;stroke-linejoin:miter;stroke:rgb(0%,0%,0%);stroke-opacity:1;stroke-miterlimit:10;\" d=\"M 393.613281 282.78125 C 393.613281 288.304688 389.136719 292.78125 383.613281 292.78125 C 378.089844 292.78125 373.613281 288.304688 373.613281 282.78125 C 373.613281 277.257812 378.089844 272.78125 383.613281 272.78125 C 389.136719 272.78125 393.613281 277.257812 393.613281 282.78125 \"/>\n",
       "<path style=\"fill-rule:nonzero;fill:rgb(12.156863%,46.666667%,70.588235%);fill-opacity:1;stroke-width:1;stroke-linecap:butt;stroke-linejoin:miter;stroke:rgb(0%,0%,0%);stroke-opacity:1;stroke-miterlimit:10;\" d=\"M 333.53125 213.316406 C 333.53125 218.839844 329.054688 223.316406 323.53125 223.316406 C 318.007812 223.316406 313.53125 218.839844 313.53125 213.316406 C 313.53125 207.796875 318.007812 203.316406 323.53125 203.316406 C 329.054688 203.316406 333.53125 207.796875 333.53125 213.316406 \"/>\n",
       "<path style=\"fill-rule:nonzero;fill:rgb(12.156863%,46.666667%,70.588235%);fill-opacity:1;stroke-width:1;stroke-linecap:butt;stroke-linejoin:miter;stroke:rgb(0%,0%,0%);stroke-opacity:1;stroke-miterlimit:10;\" d=\"M 352.082031 234.976562 C 352.082031 240.5 347.601562 244.976562 342.082031 244.976562 C 336.558594 244.976562 332.082031 240.5 332.082031 234.976562 C 332.082031 229.453125 336.558594 224.976562 342.082031 224.976562 C 347.601562 224.976562 352.082031 229.453125 352.082031 234.976562 \"/>\n",
       "<path style=\"fill-rule:nonzero;fill:rgb(100%,49.803922%,5.490196%);fill-opacity:1;stroke-width:1;stroke-linecap:butt;stroke-linejoin:miter;stroke:rgb(0%,0%,0%);stroke-opacity:1;stroke-miterlimit:10;\" d=\"M 374.59375 282.992188 C 374.59375 288.515625 370.117188 292.992188 364.59375 292.992188 C 359.070312 292.992188 354.59375 288.515625 354.59375 282.992188 C 354.59375 277.46875 359.070312 272.992188 364.59375 272.992188 C 370.117188 272.992188 374.59375 277.46875 374.59375 282.992188 \"/>\n",
       "<path style=\"fill-rule:nonzero;fill:rgb(100%,49.803922%,5.490196%);fill-opacity:1;stroke-width:1;stroke-linecap:butt;stroke-linejoin:miter;stroke:rgb(0%,0%,0%);stroke-opacity:1;stroke-miterlimit:10;\" d=\"M 355.894531 195.300781 C 355.894531 200.820312 351.417969 205.300781 345.894531 205.300781 C 340.371094 205.300781 335.894531 200.820312 335.894531 195.300781 C 335.894531 189.777344 340.371094 185.300781 345.894531 185.300781 C 351.417969 185.300781 355.894531 189.777344 355.894531 195.300781 \"/>\n",
       "<path style=\"fill-rule:nonzero;fill:rgb(73.72549%,74.117647%,13.333333%);fill-opacity:1;stroke-width:1;stroke-linecap:butt;stroke-linejoin:miter;stroke:rgb(0%,0%,0%);stroke-opacity:1;stroke-miterlimit:10;\" d=\"M 403.46875 258.382812 C 403.46875 263.90625 398.988281 268.382812 393.46875 268.382812 C 387.945312 268.382812 383.46875 263.90625 383.46875 258.382812 C 383.46875 252.859375 387.945312 248.382812 393.46875 248.382812 C 398.988281 248.382812 403.46875 252.859375 403.46875 258.382812 \"/>\n",
       "<path style=\"fill-rule:nonzero;fill:rgb(9.019608%,74.509804%,81.176471%);fill-opacity:1;stroke-width:1;stroke-linecap:butt;stroke-linejoin:miter;stroke:rgb(0%,0%,0%);stroke-opacity:1;stroke-miterlimit:10;\" d=\"M 115.449219 434.875 C 115.449219 440.394531 110.972656 444.875 105.449219 444.875 C 99.929688 444.875 95.449219 440.394531 95.449219 434.875 C 95.449219 429.351562 99.929688 424.875 105.449219 424.875 C 110.972656 424.875 115.449219 429.351562 115.449219 434.875 \"/>\n",
       "<path style=\"fill-rule:nonzero;fill:rgb(9.019608%,74.509804%,81.176471%);fill-opacity:1;stroke-width:1;stroke-linecap:butt;stroke-linejoin:miter;stroke:rgb(0%,0%,0%);stroke-opacity:1;stroke-miterlimit:10;\" d=\"M 80.394531 417.632812 C 80.394531 423.15625 75.917969 427.632812 70.394531 427.632812 C 64.871094 427.632812 60.394531 423.15625 60.394531 417.632812 C 60.394531 412.109375 64.871094 407.632812 70.394531 407.632812 C 75.917969 407.632812 80.394531 412.109375 80.394531 417.632812 \"/>\n",
       "<path style=\"fill-rule:nonzero;fill:rgb(9.019608%,74.509804%,81.176471%);fill-opacity:1;stroke-width:1;stroke-linecap:butt;stroke-linejoin:miter;stroke:rgb(0%,0%,0%);stroke-opacity:1;stroke-miterlimit:10;\" d=\"M 69.832031 388.136719 C 69.832031 393.65625 65.351562 398.136719 59.832031 398.136719 C 54.308594 398.136719 49.832031 393.65625 49.832031 388.136719 C 49.832031 382.613281 54.308594 378.136719 59.832031 378.136719 C 65.351562 378.136719 69.832031 382.613281 69.832031 388.136719 \"/>\n",
       "<path style=\"fill-rule:nonzero;fill:rgb(9.019608%,74.509804%,81.176471%);fill-opacity:1;stroke-width:1;stroke-linecap:butt;stroke-linejoin:miter;stroke:rgb(0%,0%,0%);stroke-opacity:1;stroke-miterlimit:10;\" d=\"M 65.09375 361.667969 C 65.09375 367.191406 60.617188 371.667969 55.09375 371.667969 C 49.570312 371.667969 45.09375 367.191406 45.09375 361.667969 C 45.09375 356.148438 49.570312 351.667969 55.09375 351.667969 C 60.617188 351.667969 65.09375 356.148438 65.09375 361.667969 \"/>\n",
       "<path style=\"fill-rule:nonzero;fill:rgb(17.254902%,62.745098%,17.254902%);fill-opacity:1;stroke-width:1;stroke-linecap:butt;stroke-linejoin:miter;stroke:rgb(0%,0%,0%);stroke-opacity:1;stroke-miterlimit:10;\" d=\"M 295.730469 382.746094 C 295.730469 388.269531 291.253906 392.746094 285.730469 392.746094 C 280.207031 392.746094 275.730469 388.269531 275.730469 382.746094 C 275.730469 377.222656 280.207031 372.746094 285.730469 372.746094 C 291.253906 372.746094 295.730469 377.222656 295.730469 382.746094 \"/>\n",
       "<path style=\"fill-rule:nonzero;fill:rgb(17.254902%,62.745098%,17.254902%);fill-opacity:1;stroke-width:1;stroke-linecap:butt;stroke-linejoin:miter;stroke:rgb(0%,0%,0%);stroke-opacity:1;stroke-miterlimit:10;\" d=\"M 273.378906 363.054688 C 273.378906 368.578125 268.902344 373.054688 263.378906 373.054688 C 257.855469 373.054688 253.378906 368.578125 253.378906 363.054688 C 253.378906 357.53125 257.855469 353.054688 263.378906 353.054688 C 268.902344 353.054688 273.378906 357.53125 273.378906 363.054688 \"/>\n",
       "<path style=\"fill-rule:nonzero;fill:rgb(49.803922%,49.803922%,49.803922%);fill-opacity:1;stroke-width:1;stroke-linecap:butt;stroke-linejoin:miter;stroke:rgb(0%,0%,0%);stroke-opacity:1;stroke-miterlimit:10;\" d=\"M 452.667969 155.167969 C 452.667969 160.691406 448.191406 165.167969 442.667969 165.167969 C 437.144531 165.167969 432.667969 160.691406 432.667969 155.167969 C 432.667969 149.644531 437.144531 145.167969 442.667969 145.167969 C 448.191406 145.167969 452.667969 149.644531 452.667969 155.167969 \"/>\n",
       "<path style=\"fill-rule:nonzero;fill:rgb(17.254902%,62.745098%,17.254902%);fill-opacity:1;stroke-width:1;stroke-linecap:butt;stroke-linejoin:miter;stroke:rgb(0%,0%,0%);stroke-opacity:1;stroke-miterlimit:10;\" d=\"M 291.449219 580 C 291.449219 585.523438 286.972656 590 281.449219 590 C 275.929688 590 271.449219 585.523438 271.449219 580 C 271.449219 574.476562 275.929688 570 281.449219 570 C 286.972656 570 291.449219 574.476562 291.449219 580 \"/>\n",
       "<path style=\"fill-rule:nonzero;fill:rgb(17.254902%,62.745098%,17.254902%);fill-opacity:1;stroke-width:1;stroke-linecap:butt;stroke-linejoin:miter;stroke:rgb(0%,0%,0%);stroke-opacity:1;stroke-miterlimit:10;\" d=\"M 285.269531 551.832031 C 285.269531 557.355469 280.792969 561.832031 275.269531 561.832031 C 269.75 561.832031 265.269531 557.355469 265.269531 551.832031 C 265.269531 546.3125 269.75 541.832031 275.269531 541.832031 C 280.792969 541.832031 285.269531 546.3125 285.269531 551.832031 \"/>\n",
       "<path style=\"fill-rule:nonzero;fill:rgb(17.254902%,62.745098%,17.254902%);fill-opacity:1;stroke-width:1;stroke-linecap:butt;stroke-linejoin:miter;stroke:rgb(0%,0%,0%);stroke-opacity:1;stroke-miterlimit:10;\" d=\"M 306.269531 554.773438 C 306.269531 560.296875 301.792969 564.773438 296.269531 564.773438 C 290.746094 564.773438 286.269531 560.296875 286.269531 554.773438 C 286.269531 549.25 290.746094 544.773438 296.269531 544.773438 C 301.792969 544.773438 306.269531 549.25 306.269531 554.773438 \"/>\n",
       "<path style=\"fill-rule:nonzero;fill:rgb(17.254902%,62.745098%,17.254902%);fill-opacity:1;stroke-width:1;stroke-linecap:butt;stroke-linejoin:miter;stroke:rgb(0%,0%,0%);stroke-opacity:1;stroke-miterlimit:10;\" d=\"M 317.207031 578.328125 C 317.207031 583.851562 312.726562 588.328125 307.207031 588.328125 C 301.683594 588.328125 297.207031 583.851562 297.207031 578.328125 C 297.207031 572.804688 301.683594 568.328125 307.207031 568.328125 C 312.726562 568.328125 317.207031 572.804688 317.207031 578.328125 \"/>\n",
       "<path style=\"fill-rule:nonzero;fill:rgb(9.019608%,74.509804%,81.176471%);fill-opacity:1;stroke-width:1;stroke-linecap:butt;stroke-linejoin:miter;stroke:rgb(0%,0%,0%);stroke-opacity:1;stroke-miterlimit:10;\" d=\"M 544.265625 427.429688 C 544.265625 432.953125 539.789062 437.429688 534.265625 437.429688 C 528.742188 437.429688 524.265625 432.953125 524.265625 427.429688 C 524.265625 421.90625 528.742188 417.429688 534.265625 417.429688 C 539.789062 417.429688 544.265625 421.90625 544.265625 427.429688 \"/>\n",
       "<path style=\"fill-rule:nonzero;fill:rgb(9.019608%,74.509804%,81.176471%);fill-opacity:1;stroke-width:1;stroke-linecap:butt;stroke-linejoin:miter;stroke:rgb(0%,0%,0%);stroke-opacity:1;stroke-miterlimit:10;\" d=\"M 561.871094 436.683594 C 561.871094 442.207031 557.394531 446.683594 551.871094 446.683594 C 546.351562 446.683594 541.871094 442.207031 541.871094 436.683594 C 541.871094 431.164062 546.351562 426.683594 551.871094 426.683594 C 557.394531 426.683594 561.871094 431.164062 561.871094 436.683594 \"/>\n",
       "<path style=\"fill-rule:nonzero;fill:rgb(17.254902%,62.745098%,17.254902%);fill-opacity:1;stroke-width:1;stroke-linecap:butt;stroke-linejoin:miter;stroke:rgb(0%,0%,0%);stroke-opacity:1;stroke-miterlimit:10;\" d=\"M 247.894531 432.933594 C 247.894531 438.453125 243.417969 442.933594 237.894531 442.933594 C 232.371094 442.933594 227.894531 438.453125 227.894531 432.933594 C 227.894531 427.410156 232.371094 422.933594 237.894531 422.933594 C 243.417969 422.933594 247.894531 427.410156 247.894531 432.933594 \"/>\n",
       "<path style=\"fill-rule:nonzero;fill:rgb(54.901961%,33.72549%,29.411765%);fill-opacity:1;stroke-width:1;stroke-linecap:butt;stroke-linejoin:miter;stroke:rgb(0%,0%,0%);stroke-opacity:1;stroke-miterlimit:10;\" d=\"M 208.546875 337.25 C 208.546875 342.773438 204.070312 347.25 198.546875 347.25 C 193.023438 347.25 188.546875 342.773438 188.546875 337.25 C 188.546875 331.726562 193.023438 327.25 198.546875 327.25 C 204.070312 327.25 208.546875 331.726562 208.546875 337.25 \"/>\n",
       "<path style=\"fill-rule:nonzero;fill:rgb(9.019608%,74.509804%,81.176471%);fill-opacity:1;stroke-width:1;stroke-linecap:butt;stroke-linejoin:miter;stroke:rgb(0%,0%,0%);stroke-opacity:1;stroke-miterlimit:10;\" d=\"M 39.082031 328.214844 C 39.082031 333.738281 34.601562 338.214844 29.082031 338.214844 C 23.558594 338.214844 19.082031 333.738281 19.082031 328.214844 C 19.082031 322.691406 23.558594 318.214844 29.082031 318.214844 C 34.601562 318.214844 39.082031 322.691406 39.082031 328.214844 \"/>\n",
       "<path style=\"fill-rule:nonzero;fill:rgb(9.019608%,74.509804%,81.176471%);fill-opacity:1;stroke-width:1;stroke-linecap:butt;stroke-linejoin:miter;stroke:rgb(0%,0%,0%);stroke-opacity:1;stroke-miterlimit:10;\" d=\"M 57.855469 334.703125 C 57.855469 340.226562 53.378906 344.703125 47.855469 344.703125 C 42.335938 344.703125 37.855469 340.226562 37.855469 334.703125 C 37.855469 329.179688 42.335938 324.703125 47.855469 324.703125 C 53.378906 324.703125 57.855469 329.179688 57.855469 334.703125 \"/>\n",
       "<path style=\"fill-rule:nonzero;fill:rgb(12.156863%,46.666667%,70.588235%);fill-opacity:1;stroke-width:1;stroke-linecap:butt;stroke-linejoin:miter;stroke:rgb(0%,0%,0%);stroke-opacity:1;stroke-miterlimit:10;\" d=\"M 295.125 148.214844 C 295.125 153.734375 290.648438 158.214844 285.125 158.214844 C 279.601562 158.214844 275.125 153.734375 275.125 148.214844 C 275.125 142.691406 279.601562 138.214844 285.125 138.214844 C 290.648438 138.214844 295.125 142.691406 295.125 148.214844 \"/>\n",
       "<path style=\"fill-rule:nonzero;fill:rgb(17.254902%,62.745098%,17.254902%);fill-opacity:1;stroke-width:1;stroke-linecap:butt;stroke-linejoin:miter;stroke:rgb(0%,0%,0%);stroke-opacity:1;stroke-miterlimit:10;\" d=\"M 467.363281 484.199219 C 467.363281 489.722656 462.886719 494.199219 457.363281 494.199219 C 451.839844 494.199219 447.363281 489.722656 447.363281 484.199219 C 447.363281 478.675781 451.839844 474.199219 457.363281 474.199219 C 462.886719 474.199219 467.363281 478.675781 467.363281 484.199219 \"/>\n",
       "<path style=\"fill-rule:nonzero;fill:rgb(17.254902%,62.745098%,17.254902%);fill-opacity:1;stroke-width:1;stroke-linecap:butt;stroke-linejoin:miter;stroke:rgb(0%,0%,0%);stroke-opacity:1;stroke-miterlimit:10;\" d=\"M 446.261719 516.140625 C 446.261719 521.664062 441.785156 526.140625 436.261719 526.140625 C 430.738281 526.140625 426.261719 521.664062 426.261719 516.140625 C 426.261719 510.617188 430.738281 506.140625 436.261719 506.140625 C 441.785156 506.140625 446.261719 510.617188 446.261719 516.140625 \"/>\n",
       "<path style=\"fill-rule:nonzero;fill:rgb(17.254902%,62.745098%,17.254902%);fill-opacity:1;stroke-width:1;stroke-linecap:butt;stroke-linejoin:miter;stroke:rgb(0%,0%,0%);stroke-opacity:1;stroke-miterlimit:10;\" d=\"M 339.214844 548.527344 C 339.214844 554.050781 334.738281 558.527344 329.214844 558.527344 C 323.691406 558.527344 319.214844 554.050781 319.214844 548.527344 C 319.214844 543.003906 323.691406 538.527344 329.214844 538.527344 C 334.738281 538.527344 339.214844 543.003906 339.214844 548.527344 \"/>\n",
       "<path style=\"fill-rule:nonzero;fill:rgb(49.803922%,49.803922%,49.803922%);fill-opacity:1;stroke-width:1;stroke-linecap:butt;stroke-linejoin:miter;stroke:rgb(0%,0%,0%);stroke-opacity:1;stroke-miterlimit:10;\" d=\"M 271.414062 134.148438 C 271.414062 139.667969 266.9375 144.148438 261.414062 144.148438 C 255.890625 144.148438 251.414062 139.667969 251.414062 134.148438 C 251.414062 128.625 255.890625 124.148438 261.414062 124.148438 C 266.9375 124.148438 271.414062 128.625 271.414062 134.148438 \"/>\n",
       "<path style=\"fill-rule:nonzero;fill:rgb(49.803922%,49.803922%,49.803922%);fill-opacity:1;stroke-width:1;stroke-linecap:butt;stroke-linejoin:miter;stroke:rgb(0%,0%,0%);stroke-opacity:1;stroke-miterlimit:10;\" d=\"M 279.707031 123.871094 C 279.707031 129.394531 275.226562 133.871094 269.707031 133.871094 C 264.183594 133.871094 259.707031 129.394531 259.707031 123.871094 C 259.707031 118.347656 264.183594 113.871094 269.707031 113.871094 C 275.226562 113.871094 279.707031 118.347656 279.707031 123.871094 \"/>\n",
       "<path style=\"fill-rule:nonzero;fill:rgb(49.803922%,49.803922%,49.803922%);fill-opacity:1;stroke-width:1;stroke-linecap:butt;stroke-linejoin:miter;stroke:rgb(0%,0%,0%);stroke-opacity:1;stroke-miterlimit:10;\" d=\"M 250.546875 104.070312 C 250.546875 109.59375 246.070312 114.070312 240.546875 114.070312 C 235.023438 114.070312 230.546875 109.59375 230.546875 104.070312 C 230.546875 98.546875 235.023438 94.070312 240.546875 94.070312 C 246.070312 94.070312 250.546875 98.546875 250.546875 104.070312 \"/>\n",
       "<path style=\"fill-rule:nonzero;fill:rgb(49.803922%,49.803922%,49.803922%);fill-opacity:1;stroke-width:1;stroke-linecap:butt;stroke-linejoin:miter;stroke:rgb(0%,0%,0%);stroke-opacity:1;stroke-miterlimit:10;\" d=\"M 517.949219 151.5625 C 517.949219 157.085938 513.472656 161.5625 507.949219 161.5625 C 502.425781 161.5625 497.949219 157.085938 497.949219 151.5625 C 497.949219 146.039062 502.425781 141.5625 507.949219 141.5625 C 513.472656 141.5625 517.949219 146.039062 517.949219 151.5625 \"/>\n",
       "<path style=\"fill-rule:nonzero;fill:rgb(17.254902%,62.745098%,17.254902%);fill-opacity:1;stroke-width:1;stroke-linecap:butt;stroke-linejoin:miter;stroke:rgb(0%,0%,0%);stroke-opacity:1;stroke-miterlimit:10;\" d=\"M 361.433594 401.496094 C 361.433594 407.019531 356.957031 411.496094 351.433594 411.496094 C 345.910156 411.496094 341.433594 407.019531 341.433594 401.496094 C 341.433594 395.972656 345.910156 391.496094 351.433594 391.496094 C 356.957031 391.496094 361.433594 395.972656 361.433594 401.496094 \"/>\n",
       "<path style=\"fill-rule:nonzero;fill:rgb(17.254902%,62.745098%,17.254902%);fill-opacity:1;stroke-width:1;stroke-linecap:butt;stroke-linejoin:miter;stroke:rgb(0%,0%,0%);stroke-opacity:1;stroke-miterlimit:10;\" d=\"M 320.304688 404.824219 C 320.304688 410.34375 315.828125 414.824219 310.304688 414.824219 C 304.78125 414.824219 300.304688 410.34375 300.304688 404.824219 C 300.304688 399.300781 304.78125 394.824219 310.304688 394.824219 C 315.828125 394.824219 320.304688 399.300781 320.304688 404.824219 \"/>\n",
       "<path style=\"fill-rule:nonzero;fill:rgb(17.254902%,62.745098%,17.254902%);fill-opacity:1;stroke-width:1;stroke-linecap:butt;stroke-linejoin:miter;stroke:rgb(0%,0%,0%);stroke-opacity:1;stroke-miterlimit:10;\" d=\"M 329.320312 380.703125 C 329.320312 386.226562 324.84375 390.703125 319.320312 390.703125 C 313.796875 390.703125 309.320312 386.226562 309.320312 380.703125 C 309.320312 375.179688 313.796875 370.703125 319.320312 370.703125 C 324.84375 370.703125 329.320312 375.179688 329.320312 380.703125 \"/>\n",
       "<path style=\"fill-rule:nonzero;fill:rgb(17.254902%,62.745098%,17.254902%);fill-opacity:1;stroke-width:1;stroke-linecap:butt;stroke-linejoin:miter;stroke:rgb(0%,0%,0%);stroke-opacity:1;stroke-miterlimit:10;\" d=\"M 292.574219 352.242188 C 292.574219 357.765625 288.09375 362.242188 282.574219 362.242188 C 277.050781 362.242188 272.574219 357.765625 272.574219 352.242188 C 272.574219 346.71875 277.050781 342.242188 282.574219 342.242188 C 288.09375 342.242188 292.574219 346.71875 292.574219 352.242188 \"/>\n",
       "<path style=\"fill-rule:nonzero;fill:rgb(58.039216%,40.392157%,74.117647%);fill-opacity:1;stroke-width:1;stroke-linecap:butt;stroke-linejoin:miter;stroke:rgb(0%,0%,0%);stroke-opacity:1;stroke-miterlimit:10;\" d=\"M 551.472656 324.476562 C 551.472656 330 546.996094 334.476562 541.472656 334.476562 C 535.953125 334.476562 531.472656 330 531.472656 324.476562 C 531.472656 318.953125 535.953125 314.476562 541.472656 314.476562 C 546.996094 314.476562 551.472656 318.953125 551.472656 324.476562 \"/>\n",
       "<path style=\"fill-rule:nonzero;fill:rgb(89.019608%,46.666667%,76.078431%);fill-opacity:1;stroke-width:1;stroke-linecap:butt;stroke-linejoin:miter;stroke:rgb(0%,0%,0%);stroke-opacity:1;stroke-miterlimit:10;\" d=\"M 578.5625 329.605469 C 578.5625 335.128906 574.082031 339.605469 568.5625 339.605469 C 563.039062 339.605469 558.5625 335.128906 558.5625 329.605469 C 558.5625 324.082031 563.039062 319.605469 568.5625 319.605469 C 574.082031 319.605469 578.5625 324.082031 578.5625 329.605469 \"/>\n",
       "<path style=\"fill-rule:nonzero;fill:rgb(58.039216%,40.392157%,74.117647%);fill-opacity:1;stroke-width:1;stroke-linecap:butt;stroke-linejoin:miter;stroke:rgb(0%,0%,0%);stroke-opacity:1;stroke-miterlimit:10;\" d=\"M 549.003906 350.640625 C 549.003906 356.164062 544.527344 360.640625 539.003906 360.640625 C 533.480469 360.640625 529.003906 356.164062 529.003906 350.640625 C 529.003906 345.117188 533.480469 340.640625 539.003906 340.640625 C 544.527344 340.640625 549.003906 345.117188 549.003906 350.640625 \"/>\n",
       "<path style=\"fill-rule:nonzero;fill:rgb(54.901961%,33.72549%,29.411765%);fill-opacity:1;stroke-width:1;stroke-linecap:butt;stroke-linejoin:miter;stroke:rgb(0%,0%,0%);stroke-opacity:1;stroke-miterlimit:10;\" d=\"M 199.078125 235.410156 C 199.078125 240.933594 194.601562 245.410156 189.078125 245.410156 C 183.554688 245.410156 179.078125 240.933594 179.078125 235.410156 C 179.078125 229.886719 183.554688 225.410156 189.078125 225.410156 C 194.601562 225.410156 199.078125 229.886719 199.078125 235.410156 \"/>\n",
       "<path style=\"fill-rule:nonzero;fill:rgb(54.901961%,33.72549%,29.411765%);fill-opacity:1;stroke-width:1;stroke-linecap:butt;stroke-linejoin:miter;stroke:rgb(0%,0%,0%);stroke-opacity:1;stroke-miterlimit:10;\" d=\"M 179.722656 275.5 C 179.722656 281.023438 175.246094 285.5 169.722656 285.5 C 164.199219 285.5 159.722656 281.023438 159.722656 275.5 C 159.722656 269.976562 164.199219 265.5 169.722656 265.5 C 175.246094 265.5 179.722656 269.976562 179.722656 275.5 \"/>\n",
       "<path style=\"fill-rule:nonzero;fill:rgb(54.901961%,33.72549%,29.411765%);fill-opacity:1;stroke-width:1;stroke-linecap:butt;stroke-linejoin:miter;stroke:rgb(0%,0%,0%);stroke-opacity:1;stroke-miterlimit:10;\" d=\"M 166.035156 224.730469 C 166.035156 230.25 161.558594 234.730469 156.035156 234.730469 C 150.511719 234.730469 146.035156 230.25 146.035156 224.730469 C 146.035156 219.207031 150.511719 214.730469 156.035156 214.730469 C 161.558594 214.730469 166.035156 219.207031 166.035156 224.730469 \"/>\n",
       "<path style=\"fill-rule:nonzero;fill:rgb(54.901961%,33.72549%,29.411765%);fill-opacity:1;stroke-width:1;stroke-linecap:butt;stroke-linejoin:miter;stroke:rgb(0%,0%,0%);stroke-opacity:1;stroke-miterlimit:10;\" d=\"M 145.757812 231.015625 C 145.757812 236.535156 141.28125 241.015625 135.757812 241.015625 C 130.234375 241.015625 125.757812 236.535156 125.757812 231.015625 C 125.757812 225.492188 130.234375 221.015625 135.757812 221.015625 C 141.28125 221.015625 145.757812 225.492188 145.757812 231.015625 \"/>\n",
       "<path style=\"fill-rule:nonzero;fill:rgb(54.901961%,33.72549%,29.411765%);fill-opacity:1;stroke-width:1;stroke-linecap:butt;stroke-linejoin:miter;stroke:rgb(0%,0%,0%);stroke-opacity:1;stroke-miterlimit:10;\" d=\"M 203.605469 269.773438 C 203.605469 275.296875 199.128906 279.773438 193.605469 279.773438 C 188.082031 279.773438 183.605469 275.296875 183.605469 269.773438 C 183.605469 264.253906 188.082031 259.773438 193.605469 259.773438 C 199.128906 259.773438 203.605469 264.253906 203.605469 269.773438 \"/>\n",
       "<path style=\"fill-rule:nonzero;fill:rgb(49.803922%,49.803922%,49.803922%);fill-opacity:1;stroke-width:1;stroke-linecap:butt;stroke-linejoin:miter;stroke:rgb(0%,0%,0%);stroke-opacity:1;stroke-miterlimit:10;\" d=\"M 590 386.148438 C 590 391.671875 585.523438 396.148438 580 396.148438 C 574.476562 396.148438 570 391.671875 570 386.148438 C 570 380.625 574.476562 376.148438 580 376.148438 C 585.523438 376.148438 590 380.625 590 386.148438 \"/>\n",
       "<path style=\"fill-rule:nonzero;fill:rgb(49.803922%,49.803922%,49.803922%);fill-opacity:1;stroke-width:1;stroke-linecap:butt;stroke-linejoin:miter;stroke:rgb(0%,0%,0%);stroke-opacity:1;stroke-miterlimit:10;\" d=\"M 571.535156 392.679688 C 571.535156 398.199219 567.058594 402.679688 561.535156 402.679688 C 556.015625 402.679688 551.535156 398.199219 551.535156 392.679688 C 551.535156 387.15625 556.015625 382.679688 561.535156 382.679688 C 567.058594 382.679688 571.535156 387.15625 571.535156 392.679688 \"/>\n",
       "<path style=\"fill-rule:nonzero;fill:rgb(54.901961%,33.72549%,29.411765%);fill-opacity:1;stroke-width:1;stroke-linecap:butt;stroke-linejoin:miter;stroke:rgb(0%,0%,0%);stroke-opacity:1;stroke-miterlimit:10;\" d=\"M 190.5625 306.890625 C 190.5625 312.414062 186.085938 316.890625 180.5625 316.890625 C 175.039062 316.890625 170.5625 312.414062 170.5625 306.890625 C 170.5625 301.371094 175.039062 296.890625 180.5625 296.890625 C 186.085938 296.890625 190.5625 301.371094 190.5625 306.890625 \"/>\n",
       "<path style=\"fill-rule:nonzero;fill:rgb(49.803922%,49.803922%,49.803922%);fill-opacity:1;stroke-width:1;stroke-linecap:butt;stroke-linejoin:miter;stroke:rgb(0%,0%,0%);stroke-opacity:1;stroke-miterlimit:10;\" d=\"M 456.65625 55.027344 C 456.65625 60.550781 452.179688 65.027344 446.65625 65.027344 C 441.132812 65.027344 436.65625 60.550781 436.65625 55.027344 C 436.65625 49.503906 441.132812 45.027344 446.65625 45.027344 C 452.179688 45.027344 456.65625 49.503906 456.65625 55.027344 \"/>\n",
       "<path style=\"fill-rule:nonzero;fill:rgb(17.254902%,62.745098%,17.254902%);fill-opacity:1;stroke-width:1;stroke-linecap:butt;stroke-linejoin:miter;stroke:rgb(0%,0%,0%);stroke-opacity:1;stroke-miterlimit:10;\" d=\"M 355.175781 539.820312 C 355.175781 545.34375 350.695312 549.820312 345.175781 549.820312 C 339.652344 549.820312 335.175781 545.34375 335.175781 539.820312 C 335.175781 534.296875 339.652344 529.820312 345.175781 529.820312 C 350.695312 529.820312 355.175781 534.296875 355.175781 539.820312 \"/>\n",
       "<path style=\"fill-rule:nonzero;fill:rgb(17.254902%,62.745098%,17.254902%);fill-opacity:1;stroke-width:1;stroke-linecap:butt;stroke-linejoin:miter;stroke:rgb(0%,0%,0%);stroke-opacity:1;stroke-miterlimit:10;\" d=\"M 511.765625 477.710938 C 511.765625 483.234375 507.289062 487.710938 501.765625 487.710938 C 496.242188 487.710938 491.765625 483.234375 491.765625 477.710938 C 491.765625 472.1875 496.242188 467.710938 501.765625 467.710938 C 507.289062 467.710938 511.765625 472.1875 511.765625 477.710938 \"/>\n",
       "<path style=\"fill-rule:nonzero;fill:rgb(17.254902%,62.745098%,17.254902%);fill-opacity:1;stroke-width:1;stroke-linecap:butt;stroke-linejoin:miter;stroke:rgb(0%,0%,0%);stroke-opacity:1;stroke-miterlimit:10;\" d=\"M 430.53125 539.785156 C 430.53125 545.308594 426.054688 549.785156 420.53125 549.785156 C 415.007812 549.785156 410.53125 545.308594 410.53125 539.785156 C 410.53125 534.261719 415.007812 529.785156 420.53125 529.785156 C 426.054688 529.785156 430.53125 534.261719 430.53125 539.785156 \"/>\n",
       "<path style=\"fill-rule:nonzero;fill:rgb(58.039216%,40.392157%,74.117647%);fill-opacity:1;stroke-width:1;stroke-linecap:butt;stroke-linejoin:miter;stroke:rgb(0%,0%,0%);stroke-opacity:1;stroke-miterlimit:10;\" d=\"M 558.5 294.8125 C 558.5 300.332031 554.023438 304.8125 548.5 304.8125 C 542.976562 304.8125 538.5 300.332031 538.5 294.8125 C 538.5 289.289062 542.976562 284.8125 548.5 284.8125 C 554.023438 284.8125 558.5 289.289062 558.5 294.8125 \"/>\n",
       "<path style=\"fill-rule:nonzero;fill:rgb(12.156863%,46.666667%,70.588235%);fill-opacity:1;stroke-width:1;stroke-linecap:butt;stroke-linejoin:miter;stroke:rgb(0%,0%,0%);stroke-opacity:1;stroke-miterlimit:10;\" d=\"M 301.203125 73.492188 C 301.203125 79.015625 296.722656 83.492188 291.203125 83.492188 C 285.679688 83.492188 281.203125 79.015625 281.203125 73.492188 C 281.203125 67.96875 285.679688 63.492188 291.203125 63.492188 C 296.722656 63.492188 301.203125 67.96875 301.203125 73.492188 \"/>\n",
       "<path style=\"fill-rule:nonzero;fill:rgb(54.901961%,33.72549%,29.411765%);fill-opacity:1;stroke-width:1;stroke-linecap:butt;stroke-linejoin:miter;stroke:rgb(0%,0%,0%);stroke-opacity:1;stroke-miterlimit:10;\" d=\"M 114.679688 204.730469 C 114.679688 210.253906 110.203125 214.730469 104.679688 214.730469 C 99.15625 214.730469 94.679688 210.253906 94.679688 204.730469 C 94.679688 199.207031 99.15625 194.730469 104.679688 194.730469 C 110.203125 194.730469 114.679688 199.207031 114.679688 204.730469 \"/>\n",
       "<path style=\"fill-rule:nonzero;fill:rgb(54.901961%,33.72549%,29.411765%);fill-opacity:1;stroke-width:1;stroke-linecap:butt;stroke-linejoin:miter;stroke:rgb(0%,0%,0%);stroke-opacity:1;stroke-miterlimit:10;\" d=\"M 111.421875 221.996094 C 111.421875 227.515625 106.945312 231.996094 101.421875 231.996094 C 95.898438 231.996094 91.421875 227.515625 91.421875 221.996094 C 91.421875 216.472656 95.898438 211.996094 101.421875 211.996094 C 106.945312 211.996094 111.421875 216.472656 111.421875 221.996094 \"/>\n",
       "<path style=\"fill-rule:nonzero;fill:rgb(54.901961%,33.72549%,29.411765%);fill-opacity:1;stroke-width:1;stroke-linecap:butt;stroke-linejoin:miter;stroke:rgb(0%,0%,0%);stroke-opacity:1;stroke-miterlimit:10;\" d=\"M 127.722656 195.09375 C 127.722656 200.613281 123.246094 205.09375 117.722656 205.09375 C 112.199219 205.09375 107.722656 200.613281 107.722656 195.09375 C 107.722656 189.570312 112.199219 185.09375 117.722656 185.09375 C 123.246094 185.09375 127.722656 189.570312 127.722656 195.09375 \"/>\n",
       "<path style=\"fill-rule:nonzero;fill:rgb(49.803922%,49.803922%,49.803922%);fill-opacity:1;stroke-width:1;stroke-linecap:butt;stroke-linejoin:miter;stroke:rgb(0%,0%,0%);stroke-opacity:1;stroke-miterlimit:10;\" d=\"M 543.960938 177.128906 C 543.960938 182.652344 539.484375 187.128906 533.960938 187.128906 C 528.4375 187.128906 523.960938 182.652344 523.960938 177.128906 C 523.960938 171.605469 528.4375 167.128906 533.960938 167.128906 C 539.484375 167.128906 543.960938 171.605469 543.960938 177.128906 \"/>\n",
       "<path style=\"fill-rule:nonzero;fill:rgb(54.901961%,33.72549%,29.411765%);fill-opacity:1;stroke-width:1;stroke-linecap:butt;stroke-linejoin:miter;stroke:rgb(0%,0%,0%);stroke-opacity:1;stroke-miterlimit:10;\" d=\"M 114.996094 240.019531 C 114.996094 245.542969 110.519531 250.019531 104.996094 250.019531 C 99.476562 250.019531 94.996094 245.542969 94.996094 240.019531 C 94.996094 234.496094 99.476562 230.019531 104.996094 230.019531 C 110.519531 230.019531 114.996094 234.496094 114.996094 240.019531 \"/>\n",
       "<g style=\"fill:rgb(0%,0%,0%);fill-opacity:1;\">\n",
       "  <use xlink:href=\"#glyph0-1\" x=\"293.230469\" y=\"254.105469\"/>\n",
       "  <use xlink:href=\"#glyph0-2\" x=\"302.568359\" y=\"254.105469\"/>\n",
       "  <use xlink:href=\"#glyph0-3\" x=\"311.120117\" y=\"254.105469\"/>\n",
       "</g>\n",
       "<g style=\"fill:rgb(0%,0%,0%);fill-opacity:1;\">\n",
       "  <use xlink:href=\"#glyph0-4\" x=\"350.46875\" y=\"246.539062\"/>\n",
       "  <use xlink:href=\"#glyph0-5\" x=\"360.579102\" y=\"246.539062\"/>\n",
       "  <use xlink:href=\"#glyph0-6\" x=\"370.689453\" y=\"246.539062\"/>\n",
       "</g>\n",
       "<g style=\"fill:rgb(0%,0%,0%);fill-opacity:1;\">\n",
       "  <use xlink:href=\"#glyph0-7\" x=\"244.457031\" y=\"233.9375\"/>\n",
       "  <use xlink:href=\"#glyph0-8\" x=\"248.34668\" y=\"233.9375\"/>\n",
       "  <use xlink:href=\"#glyph0-6\" x=\"258.457031\" y=\"233.9375\"/>\n",
       "</g>\n",
       "<g style=\"fill:rgb(0%,0%,0%);fill-opacity:1;\">\n",
       "  <use xlink:href=\"#glyph0-9\" x=\"312.425781\" y=\"246.566406\"/>\n",
       "  <use xlink:href=\"#glyph0-1\" x=\"321.763672\" y=\"246.566406\"/>\n",
       "  <use xlink:href=\"#glyph0-10\" x=\"331.101562\" y=\"246.566406\"/>\n",
       "</g>\n",
       "<g style=\"fill:rgb(0%,0%,0%);fill-opacity:1;\">\n",
       "  <use xlink:href=\"#glyph0-11\" x=\"321.941406\" y=\"264.105469\"/>\n",
       "  <use xlink:href=\"#glyph0-12\" x=\"330.493164\" y=\"264.105469\"/>\n",
       "  <use xlink:href=\"#glyph0-10\" x=\"337.493164\" y=\"264.105469\"/>\n",
       "</g>\n",
       "<g style=\"fill:rgb(0%,0%,0%);fill-opacity:1;\">\n",
       "  <use xlink:href=\"#glyph0-11\" x=\"273.964844\" y=\"238.296875\"/>\n",
       "  <use xlink:href=\"#glyph0-10\" x=\"282.516602\" y=\"238.296875\"/>\n",
       "  <use xlink:href=\"#glyph0-13\" x=\"291.854492\" y=\"238.296875\"/>\n",
       "</g>\n",
       "<g style=\"fill:rgb(0%,0%,0%);fill-opacity:1;\">\n",
       "  <use xlink:href=\"#glyph0-14\" x=\"299.011719\" y=\"242.625\"/>\n",
       "  <use xlink:href=\"#glyph0-15\" x=\"309.12207\" y=\"242.625\"/>\n",
       "  <use xlink:href=\"#glyph0-16\" x=\"317.673828\" y=\"242.625\"/>\n",
       "</g>\n",
       "<g style=\"fill:rgb(0%,0%,0%);fill-opacity:1;\">\n",
       "  <use xlink:href=\"#glyph0-1\" x=\"142.894531\" y=\"132.78125\"/>\n",
       "  <use xlink:href=\"#glyph0-17\" x=\"152.232422\" y=\"132.78125\"/>\n",
       "  <use xlink:href=\"#glyph0-16\" x=\"160.018555\" y=\"132.78125\"/>\n",
       "</g>\n",
       "<g style=\"fill:rgb(0%,0%,0%);fill-opacity:1;\">\n",
       "  <use xlink:href=\"#glyph0-3\" x=\"169.714844\" y=\"157.265625\"/>\n",
       "  <use xlink:href=\"#glyph0-8\" x=\"180.604492\" y=\"157.265625\"/>\n",
       "  <use xlink:href=\"#glyph0-4\" x=\"190.714844\" y=\"157.265625\"/>\n",
       "</g>\n",
       "<g style=\"fill:rgb(0%,0%,0%);fill-opacity:1;\">\n",
       "  <use xlink:href=\"#glyph0-13\" x=\"163.582031\" y=\"129.988281\"/>\n",
       "  <use xlink:href=\"#glyph0-10\" x=\"175.244141\" y=\"129.988281\"/>\n",
       "  <use xlink:href=\"#glyph0-18\" x=\"184.582031\" y=\"129.988281\"/>\n",
       "</g>\n",
       "<g style=\"fill:rgb(0%,0%,0%);fill-opacity:1;\">\n",
       "  <use xlink:href=\"#glyph0-18\" x=\"236.65625\" y=\"469.871094\"/>\n",
       "  <use xlink:href=\"#glyph0-15\" x=\"246.766602\" y=\"469.871094\"/>\n",
       "  <use xlink:href=\"#glyph0-1\" x=\"255.318359\" y=\"469.871094\"/>\n",
       "</g>\n",
       "<g style=\"fill:rgb(0%,0%,0%);fill-opacity:1;\">\n",
       "  <use xlink:href=\"#glyph0-17\" x=\"247.976562\" y=\"486.097656\"/>\n",
       "  <use xlink:href=\"#glyph0-16\" x=\"255.762695\" y=\"486.097656\"/>\n",
       "  <use xlink:href=\"#glyph0-19\" x=\"265.100586\" y=\"486.097656\"/>\n",
       "</g>\n",
       "<g style=\"fill:rgb(0%,0%,0%);fill-opacity:1;\">\n",
       "  <use xlink:href=\"#glyph0-13\" x=\"260.078125\" y=\"424.929688\"/>\n",
       "  <use xlink:href=\"#glyph0-17\" x=\"271.740234\" y=\"424.929688\"/>\n",
       "  <use xlink:href=\"#glyph0-7\" x=\"279.526367\" y=\"424.929688\"/>\n",
       "</g>\n",
       "<g style=\"fill:rgb(0%,0%,0%);fill-opacity:1;\">\n",
       "  <use xlink:href=\"#glyph0-13\" x=\"271.339844\" y=\"439.574219\"/>\n",
       "  <use xlink:href=\"#glyph0-8\" x=\"283.001953\" y=\"439.574219\"/>\n",
       "  <use xlink:href=\"#glyph0-11\" x=\"293.112305\" y=\"439.574219\"/>\n",
       "</g>\n",
       "<g style=\"fill:rgb(0%,0%,0%);fill-opacity:1;\">\n",
       "  <use xlink:href=\"#glyph0-13\" x=\"204.761719\" y=\"506.203125\"/>\n",
       "  <use xlink:href=\"#glyph0-1\" x=\"216.423828\" y=\"506.203125\"/>\n",
       "  <use xlink:href=\"#glyph0-8\" x=\"225.761719\" y=\"506.203125\"/>\n",
       "</g>\n",
       "<g style=\"fill:rgb(0%,0%,0%);fill-opacity:1;\">\n",
       "  <use xlink:href=\"#glyph0-6\" x=\"254.367188\" y=\"459.332031\"/>\n",
       "  <use xlink:href=\"#glyph0-20\" x=\"264.477539\" y=\"459.332031\"/>\n",
       "  <use xlink:href=\"#glyph0-8\" x=\"273.81543\" y=\"459.332031\"/>\n",
       "</g>\n",
       "<g style=\"fill:rgb(0%,0%,0%);fill-opacity:1;\">\n",
       "  <use xlink:href=\"#glyph0-11\" x=\"219.71875\" y=\"493.460938\"/>\n",
       "  <use xlink:href=\"#glyph0-14\" x=\"228.270508\" y=\"493.460938\"/>\n",
       "  <use xlink:href=\"#glyph0-6\" x=\"238.380859\" y=\"493.460938\"/>\n",
       "</g>\n",
       "<g style=\"fill:rgb(0%,0%,0%);fill-opacity:1;\">\n",
       "  <use xlink:href=\"#glyph0-1\" x=\"489.539062\" y=\"128.417969\"/>\n",
       "  <use xlink:href=\"#glyph0-6\" x=\"498.876953\" y=\"128.417969\"/>\n",
       "  <use xlink:href=\"#glyph0-18\" x=\"508.987305\" y=\"128.417969\"/>\n",
       "</g>\n",
       "<g style=\"fill:rgb(0%,0%,0%);fill-opacity:1;\">\n",
       "  <use xlink:href=\"#glyph0-2\" x=\"452.535156\" y=\"123.457031\"/>\n",
       "  <use xlink:href=\"#glyph0-8\" x=\"461.086914\" y=\"123.457031\"/>\n",
       "  <use xlink:href=\"#glyph0-1\" x=\"471.197266\" y=\"123.457031\"/>\n",
       "</g>\n",
       "<g style=\"fill:rgb(0%,0%,0%);fill-opacity:1;\">\n",
       "  <use xlink:href=\"#glyph0-1\" x=\"451.625\" y=\"563.769531\"/>\n",
       "  <use xlink:href=\"#glyph0-3\" x=\"460.962891\" y=\"563.769531\"/>\n",
       "  <use xlink:href=\"#glyph0-21\" x=\"471.852539\" y=\"563.769531\"/>\n",
       "</g>\n",
       "<g style=\"fill:rgb(0%,0%,0%);fill-opacity:1;\">\n",
       "  <use xlink:href=\"#glyph0-6\" x=\"459.902344\" y=\"541.941406\"/>\n",
       "  <use xlink:href=\"#glyph0-1\" x=\"470.012695\" y=\"541.941406\"/>\n",
       "  <use xlink:href=\"#glyph0-13\" x=\"479.350586\" y=\"541.941406\"/>\n",
       "</g>\n",
       "<g style=\"fill:rgb(0%,0%,0%);fill-opacity:1;\">\n",
       "  <use xlink:href=\"#glyph0-15\" x=\"429.019531\" y=\"544.058594\"/>\n",
       "  <use xlink:href=\"#glyph0-13\" x=\"437.571289\" y=\"544.058594\"/>\n",
       "  <use xlink:href=\"#glyph0-16\" x=\"449.233398\" y=\"544.058594\"/>\n",
       "</g>\n",
       "<g style=\"fill:rgb(0%,0%,0%);fill-opacity:1;\">\n",
       "  <use xlink:href=\"#glyph0-1\" x=\"117.15625\" y=\"515.730469\"/>\n",
       "  <use xlink:href=\"#glyph0-8\" x=\"126.494141\" y=\"515.730469\"/>\n",
       "  <use xlink:href=\"#glyph0-3\" x=\"136.604492\" y=\"515.730469\"/>\n",
       "</g>\n",
       "<g style=\"fill:rgb(0%,0%,0%);fill-opacity:1;\">\n",
       "  <use xlink:href=\"#glyph0-16\" x=\"108.59375\" y=\"498.039062\"/>\n",
       "  <use xlink:href=\"#glyph0-21\" x=\"117.931641\" y=\"498.039062\"/>\n",
       "  <use xlink:href=\"#glyph0-17\" x=\"128.821289\" y=\"498.039062\"/>\n",
       "</g>\n",
       "<g style=\"fill:rgb(0%,0%,0%);fill-opacity:1;\">\n",
       "  <use xlink:href=\"#glyph0-16\" x=\"86.949219\" y=\"500.402344\"/>\n",
       "  <use xlink:href=\"#glyph0-8\" x=\"96.287109\" y=\"500.402344\"/>\n",
       "  <use xlink:href=\"#glyph0-1\" x=\"106.397461\" y=\"500.402344\"/>\n",
       "</g>\n",
       "<g style=\"fill:rgb(0%,0%,0%);fill-opacity:1;\">\n",
       "  <use xlink:href=\"#glyph0-4\" x=\"124.691406\" y=\"488.777344\"/>\n",
       "  <use xlink:href=\"#glyph0-5\" x=\"134.801758\" y=\"488.777344\"/>\n",
       "  <use xlink:href=\"#glyph0-17\" x=\"144.912109\" y=\"488.777344\"/>\n",
       "</g>\n",
       "<g style=\"fill:rgb(0%,0%,0%);fill-opacity:1;\">\n",
       "  <use xlink:href=\"#glyph0-9\" x=\"99.980469\" y=\"521.398438\"/>\n",
       "  <use xlink:href=\"#glyph0-8\" x=\"109.318359\" y=\"521.398438\"/>\n",
       "  <use xlink:href=\"#glyph0-19\" x=\"119.428711\" y=\"521.398438\"/>\n",
       "</g>\n",
       "<g style=\"fill:rgb(0%,0%,0%);fill-opacity:1;\">\n",
       "  <use xlink:href=\"#glyph0-14\" x=\"108.632812\" y=\"536.625\"/>\n",
       "  <use xlink:href=\"#glyph0-8\" x=\"118.743164\" y=\"536.625\"/>\n",
       "  <use xlink:href=\"#glyph0-19\" x=\"128.853516\" y=\"536.625\"/>\n",
       "</g>\n",
       "<g style=\"fill:rgb(0%,0%,0%);fill-opacity:1;\">\n",
       "  <use xlink:href=\"#glyph0-1\" x=\"218.46875\" y=\"209.148438\"/>\n",
       "  <use xlink:href=\"#glyph0-8\" x=\"227.806641\" y=\"209.148438\"/>\n",
       "  <use xlink:href=\"#glyph0-13\" x=\"237.916992\" y=\"209.148438\"/>\n",
       "</g>\n",
       "<g style=\"fill:rgb(0%,0%,0%);fill-opacity:1;\">\n",
       "  <use xlink:href=\"#glyph0-1\" x=\"242.753906\" y=\"199.570312\"/>\n",
       "  <use xlink:href=\"#glyph0-15\" x=\"252.091797\" y=\"199.570312\"/>\n",
       "  <use xlink:href=\"#glyph0-20\" x=\"260.643555\" y=\"199.570312\"/>\n",
       "</g>\n",
       "<g style=\"fill:rgb(0%,0%,0%);fill-opacity:1;\">\n",
       "  <use xlink:href=\"#glyph0-3\" x=\"235.542969\" y=\"185.105469\"/>\n",
       "  <use xlink:href=\"#glyph0-20\" x=\"246.432617\" y=\"185.105469\"/>\n",
       "  <use xlink:href=\"#glyph0-21\" x=\"255.770508\" y=\"185.105469\"/>\n",
       "</g>\n",
       "<g style=\"fill:rgb(0%,0%,0%);fill-opacity:1;\">\n",
       "  <use xlink:href=\"#glyph0-11\" x=\"199.882812\" y=\"205.714844\"/>\n",
       "  <use xlink:href=\"#glyph0-14\" x=\"208.43457\" y=\"205.714844\"/>\n",
       "  <use xlink:href=\"#glyph0-8\" x=\"218.544922\" y=\"205.714844\"/>\n",
       "</g>\n",
       "<g style=\"fill:rgb(0%,0%,0%);fill-opacity:1;\">\n",
       "  <use xlink:href=\"#glyph0-1\" x=\"379.34375\" y=\"95.347656\"/>\n",
       "  <use xlink:href=\"#glyph0-14\" x=\"388.681641\" y=\"95.347656\"/>\n",
       "  <use xlink:href=\"#glyph0-11\" x=\"398.791992\" y=\"95.347656\"/>\n",
       "</g>\n",
       "<g style=\"fill:rgb(0%,0%,0%);fill-opacity:1;\">\n",
       "  <use xlink:href=\"#glyph0-4\" x=\"373.476562\" y=\"118.496094\"/>\n",
       "  <use xlink:href=\"#glyph0-15\" x=\"383.586914\" y=\"118.496094\"/>\n",
       "  <use xlink:href=\"#glyph0-20\" x=\"392.138672\" y=\"118.496094\"/>\n",
       "</g>\n",
       "<g style=\"fill:rgb(0%,0%,0%);fill-opacity:1;\">\n",
       "  <use xlink:href=\"#glyph0-18\" x=\"408.0625\" y=\"128.375\"/>\n",
       "  <use xlink:href=\"#glyph0-20\" x=\"418.172852\" y=\"128.375\"/>\n",
       "  <use xlink:href=\"#glyph0-14\" x=\"427.510742\" y=\"128.375\"/>\n",
       "</g>\n",
       "<g style=\"fill:rgb(0%,0%,0%);fill-opacity:1;\">\n",
       "  <use xlink:href=\"#glyph0-5\" x=\"326.183594\" y=\"83.964844\"/>\n",
       "  <use xlink:href=\"#glyph0-14\" x=\"336.293945\" y=\"83.964844\"/>\n",
       "  <use xlink:href=\"#glyph0-6\" x=\"346.404297\" y=\"83.964844\"/>\n",
       "</g>\n",
       "<g style=\"fill:rgb(0%,0%,0%);fill-opacity:1;\">\n",
       "  <use xlink:href=\"#glyph0-7\" x=\"415.109375\" y=\"85.625\"/>\n",
       "  <use xlink:href=\"#glyph0-11\" x=\"418.999023\" y=\"85.625\"/>\n",
       "  <use xlink:href=\"#glyph0-1\" x=\"427.550781\" y=\"85.625\"/>\n",
       "</g>\n",
       "<g style=\"fill:rgb(0%,0%,0%);fill-opacity:1;\">\n",
       "  <use xlink:href=\"#glyph0-22\" x=\"345.203125\" y=\"103.804688\"/>\n",
       "  <use xlink:href=\"#glyph0-23\" x=\"354.541016\" y=\"103.804688\"/>\n",
       "  <use xlink:href=\"#glyph0-10\" x=\"363.878906\" y=\"103.804688\"/>\n",
       "</g>\n",
       "<g style=\"fill:rgb(0%,0%,0%);fill-opacity:1;\">\n",
       "  <use xlink:href=\"#glyph0-22\" x=\"366.078125\" y=\"69.179688\"/>\n",
       "  <use xlink:href=\"#glyph0-23\" x=\"375.416016\" y=\"69.179688\"/>\n",
       "  <use xlink:href=\"#glyph0-6\" x=\"384.753906\" y=\"69.179688\"/>\n",
       "</g>\n",
       "<g style=\"fill:rgb(0%,0%,0%);fill-opacity:1;\">\n",
       "  <use xlink:href=\"#glyph0-4\" x=\"417.707031\" y=\"105.113281\"/>\n",
       "  <use xlink:href=\"#glyph0-5\" x=\"427.817383\" y=\"105.113281\"/>\n",
       "  <use xlink:href=\"#glyph0-20\" x=\"437.927734\" y=\"105.113281\"/>\n",
       "</g>\n",
       "<g style=\"fill:rgb(0%,0%,0%);fill-opacity:1;\">\n",
       "  <use xlink:href=\"#glyph0-8\" x=\"293.820312\" y=\"172.386719\"/>\n",
       "  <use xlink:href=\"#glyph0-14\" x=\"303.930664\" y=\"172.386719\"/>\n",
       "  <use xlink:href=\"#glyph0-22\" x=\"314.041016\" y=\"172.386719\"/>\n",
       "</g>\n",
       "<g style=\"fill:rgb(0%,0%,0%);fill-opacity:1;\">\n",
       "  <use xlink:href=\"#glyph0-16\" x=\"419.605469\" y=\"243.734375\"/>\n",
       "  <use xlink:href=\"#glyph0-3\" x=\"428.943359\" y=\"243.734375\"/>\n",
       "  <use xlink:href=\"#glyph0-18\" x=\"439.833008\" y=\"243.734375\"/>\n",
       "</g>\n",
       "<g style=\"fill:rgb(0%,0%,0%);fill-opacity:1;\">\n",
       "  <use xlink:href=\"#glyph0-7\" x=\"377.179688\" y=\"247.230469\"/>\n",
       "  <use xlink:href=\"#glyph0-6\" x=\"381.069336\" y=\"247.230469\"/>\n",
       "  <use xlink:href=\"#glyph0-18\" x=\"391.179688\" y=\"247.230469\"/>\n",
       "</g>\n",
       "<g style=\"fill:rgb(0%,0%,0%);fill-opacity:1;\">\n",
       "  <use xlink:href=\"#glyph0-13\" x=\"405.5625\" y=\"260.511719\"/>\n",
       "  <use xlink:href=\"#glyph0-13\" x=\"417.224609\" y=\"260.511719\"/>\n",
       "  <use xlink:href=\"#glyph0-8\" x=\"428.886719\" y=\"260.511719\"/>\n",
       "</g>\n",
       "<g style=\"fill:rgb(0%,0%,0%);fill-opacity:1;\">\n",
       "  <use xlink:href=\"#glyph0-16\" x=\"310.871094\" y=\"136.613281\"/>\n",
       "  <use xlink:href=\"#glyph0-17\" x=\"320.208984\" y=\"136.613281\"/>\n",
       "  <use xlink:href=\"#glyph0-8\" x=\"327.995117\" y=\"136.613281\"/>\n",
       "</g>\n",
       "<g style=\"fill:rgb(0%,0%,0%);fill-opacity:1;\">\n",
       "  <use xlink:href=\"#glyph0-17\" x=\"292.007812\" y=\"146.15625\"/>\n",
       "  <use xlink:href=\"#glyph0-23\" x=\"299.793945\" y=\"146.15625\"/>\n",
       "  <use xlink:href=\"#glyph0-1\" x=\"309.131836\" y=\"146.15625\"/>\n",
       "</g>\n",
       "<g style=\"fill:rgb(0%,0%,0%);fill-opacity:1;\">\n",
       "  <use xlink:href=\"#glyph0-17\" x=\"318.234375\" y=\"151.058594\"/>\n",
       "  <use xlink:href=\"#glyph0-11\" x=\"326.020508\" y=\"151.058594\"/>\n",
       "  <use xlink:href=\"#glyph0-14\" x=\"334.572266\" y=\"151.058594\"/>\n",
       "</g>\n",
       "<g style=\"fill:rgb(0%,0%,0%);fill-opacity:1;\">\n",
       "  <use xlink:href=\"#glyph0-9\" x=\"342.300781\" y=\"134.347656\"/>\n",
       "  <use xlink:href=\"#glyph0-21\" x=\"351.638672\" y=\"134.347656\"/>\n",
       "  <use xlink:href=\"#glyph0-17\" x=\"362.52832\" y=\"134.347656\"/>\n",
       "</g>\n",
       "<g style=\"fill:rgb(0%,0%,0%);fill-opacity:1;\">\n",
       "  <use xlink:href=\"#glyph0-14\" x=\"304.882812\" y=\"113.011719\"/>\n",
       "  <use xlink:href=\"#glyph0-10\" x=\"314.993164\" y=\"113.011719\"/>\n",
       "  <use xlink:href=\"#glyph0-8\" x=\"324.331055\" y=\"113.011719\"/>\n",
       "</g>\n",
       "<g style=\"fill:rgb(0%,0%,0%);fill-opacity:1;\">\n",
       "  <use xlink:href=\"#glyph0-16\" x=\"440.453125\" y=\"133.804688\"/>\n",
       "  <use xlink:href=\"#glyph0-20\" x=\"449.791016\" y=\"133.804688\"/>\n",
       "  <use xlink:href=\"#glyph0-17\" x=\"459.128906\" y=\"133.804688\"/>\n",
       "</g>\n",
       "<g style=\"fill:rgb(0%,0%,0%);fill-opacity:1;\">\n",
       "  <use xlink:href=\"#glyph0-17\" x=\"448.53125\" y=\"146.585938\"/>\n",
       "  <use xlink:href=\"#glyph0-14\" x=\"456.317383\" y=\"146.585938\"/>\n",
       "  <use xlink:href=\"#glyph0-24\" x=\"466.427734\" y=\"146.585938\"/>\n",
       "</g>\n",
       "<g style=\"fill:rgb(0%,0%,0%);fill-opacity:1;\">\n",
       "  <use xlink:href=\"#glyph0-6\" x=\"439.9375\" y=\"113.355469\"/>\n",
       "  <use xlink:href=\"#glyph0-17\" x=\"450.047852\" y=\"113.355469\"/>\n",
       "  <use xlink:href=\"#glyph0-18\" x=\"457.833984\" y=\"113.355469\"/>\n",
       "</g>\n",
       "<g style=\"fill:rgb(0%,0%,0%);fill-opacity:1;\">\n",
       "  <use xlink:href=\"#glyph0-16\" x=\"6.804688\" y=\"296.433594\"/>\n",
       "  <use xlink:href=\"#glyph0-17\" x=\"16.142578\" y=\"296.433594\"/>\n",
       "  <use xlink:href=\"#glyph0-15\" x=\"23.928711\" y=\"296.433594\"/>\n",
       "</g>\n",
       "<g style=\"fill:rgb(0%,0%,0%);fill-opacity:1;\">\n",
       "  <use xlink:href=\"#glyph0-3\" x=\"21.339844\" y=\"313.082031\"/>\n",
       "  <use xlink:href=\"#glyph0-11\" x=\"32.229492\" y=\"313.082031\"/>\n",
       "  <use xlink:href=\"#glyph0-13\" x=\"40.78125\" y=\"313.082031\"/>\n",
       "</g>\n",
       "<g style=\"fill:rgb(0%,0%,0%);fill-opacity:1;\">\n",
       "  <use xlink:href=\"#glyph0-13\" x=\"17.847656\" y=\"282.472656\"/>\n",
       "  <use xlink:href=\"#glyph0-20\" x=\"29.509766\" y=\"282.472656\"/>\n",
       "  <use xlink:href=\"#glyph0-24\" x=\"38.847656\" y=\"282.472656\"/>\n",
       "</g>\n",
       "<g style=\"fill:rgb(0%,0%,0%);fill-opacity:1;\">\n",
       "  <use xlink:href=\"#glyph0-16\" x=\"236.59375\" y=\"448.503906\"/>\n",
       "  <use xlink:href=\"#glyph0-20\" x=\"245.931641\" y=\"448.503906\"/>\n",
       "  <use xlink:href=\"#glyph0-6\" x=\"255.269531\" y=\"448.503906\"/>\n",
       "</g>\n",
       "<g style=\"fill:rgb(0%,0%,0%);fill-opacity:1;\">\n",
       "  <use xlink:href=\"#glyph0-16\" x=\"228.25\" y=\"423.472656\"/>\n",
       "  <use xlink:href=\"#glyph0-2\" x=\"237.587891\" y=\"423.472656\"/>\n",
       "  <use xlink:href=\"#glyph0-1\" x=\"246.139648\" y=\"423.472656\"/>\n",
       "</g>\n",
       "<g style=\"fill:rgb(0%,0%,0%);fill-opacity:1;\">\n",
       "  <use xlink:href=\"#glyph0-6\" x=\"279.476562\" y=\"469.40625\"/>\n",
       "  <use xlink:href=\"#glyph0-3\" x=\"289.586914\" y=\"469.40625\"/>\n",
       "  <use xlink:href=\"#glyph0-1\" x=\"300.476562\" y=\"469.40625\"/>\n",
       "</g>\n",
       "<g style=\"fill:rgb(0%,0%,0%);fill-opacity:1;\">\n",
       "  <use xlink:href=\"#glyph0-11\" x=\"200.054688\" y=\"427.78125\"/>\n",
       "  <use xlink:href=\"#glyph0-3\" x=\"208.606445\" y=\"427.78125\"/>\n",
       "  <use xlink:href=\"#glyph0-21\" x=\"219.496094\" y=\"427.78125\"/>\n",
       "</g>\n",
       "<g style=\"fill:rgb(0%,0%,0%);fill-opacity:1;\">\n",
       "  <use xlink:href=\"#glyph0-16\" x=\"385.847656\" y=\"229.453125\"/>\n",
       "  <use xlink:href=\"#glyph0-11\" x=\"395.185547\" y=\"229.453125\"/>\n",
       "  <use xlink:href=\"#glyph0-6\" x=\"403.737305\" y=\"229.453125\"/>\n",
       "</g>\n",
       "<g style=\"fill:rgb(0%,0%,0%);fill-opacity:1;\">\n",
       "  <use xlink:href=\"#glyph0-9\" x=\"99.050781\" y=\"471.648438\"/>\n",
       "  <use xlink:href=\"#glyph0-20\" x=\"108.388672\" y=\"471.648438\"/>\n",
       "  <use xlink:href=\"#glyph0-8\" x=\"117.726562\" y=\"471.648438\"/>\n",
       "</g>\n",
       "<g style=\"fill:rgb(0%,0%,0%);fill-opacity:1;\">\n",
       "  <use xlink:href=\"#glyph0-16\" x=\"313.1875\" y=\"26.632812\"/>\n",
       "  <use xlink:href=\"#glyph0-7\" x=\"322.525391\" y=\"26.632812\"/>\n",
       "  <use xlink:href=\"#glyph0-5\" x=\"326.415039\" y=\"26.632812\"/>\n",
       "</g>\n",
       "<g style=\"fill:rgb(0%,0%,0%);fill-opacity:1;\">\n",
       "  <use xlink:href=\"#glyph0-5\" x=\"332.765625\" y=\"49.339844\"/>\n",
       "  <use xlink:href=\"#glyph0-8\" x=\"342.875977\" y=\"49.339844\"/>\n",
       "  <use xlink:href=\"#glyph0-23\" x=\"352.986328\" y=\"49.339844\"/>\n",
       "</g>\n",
       "<g style=\"fill:rgb(0%,0%,0%);fill-opacity:1;\">\n",
       "  <use xlink:href=\"#glyph0-16\" x=\"460.257812\" y=\"527.039062\"/>\n",
       "  <use xlink:href=\"#glyph0-25\" x=\"469.595703\" y=\"527.039062\"/>\n",
       "  <use xlink:href=\"#glyph0-1\" x=\"482.80957\" y=\"527.039062\"/>\n",
       "</g>\n",
       "<g style=\"fill:rgb(0%,0%,0%);fill-opacity:1;\">\n",
       "  <use xlink:href=\"#glyph0-15\" x=\"461.640625\" y=\"507.273438\"/>\n",
       "  <use xlink:href=\"#glyph0-1\" x=\"470.192383\" y=\"507.273438\"/>\n",
       "  <use xlink:href=\"#glyph0-2\" x=\"479.530273\" y=\"507.273438\"/>\n",
       "</g>\n",
       "<g style=\"fill:rgb(0%,0%,0%);fill-opacity:1;\">\n",
       "  <use xlink:href=\"#glyph0-15\" x=\"443.265625\" y=\"520.390625\"/>\n",
       "  <use xlink:href=\"#glyph0-25\" x=\"451.817383\" y=\"520.390625\"/>\n",
       "  <use xlink:href=\"#glyph0-20\" x=\"465.03125\" y=\"520.390625\"/>\n",
       "</g>\n",
       "<g style=\"fill:rgb(0%,0%,0%);fill-opacity:1;\">\n",
       "  <use xlink:href=\"#glyph0-4\" x=\"74.609375\" y=\"458.886719\"/>\n",
       "  <use xlink:href=\"#glyph0-21\" x=\"84.719727\" y=\"458.886719\"/>\n",
       "  <use xlink:href=\"#glyph0-17\" x=\"95.609375\" y=\"458.886719\"/>\n",
       "</g>\n",
       "<g style=\"fill:rgb(0%,0%,0%);fill-opacity:1;\">\n",
       "  <use xlink:href=\"#glyph0-3\" x=\"57.519531\" y=\"500.003906\"/>\n",
       "  <use xlink:href=\"#glyph0-14\" x=\"68.40918\" y=\"500.003906\"/>\n",
       "  <use xlink:href=\"#glyph0-19\" x=\"78.519531\" y=\"500.003906\"/>\n",
       "</g>\n",
       "<g style=\"fill:rgb(0%,0%,0%);fill-opacity:1;\">\n",
       "  <use xlink:href=\"#glyph0-22\" x=\"65.035156\" y=\"519.675781\"/>\n",
       "  <use xlink:href=\"#glyph0-14\" x=\"74.373047\" y=\"519.675781\"/>\n",
       "  <use xlink:href=\"#glyph0-8\" x=\"84.483398\" y=\"519.675781\"/>\n",
       "</g>\n",
       "<g style=\"fill:rgb(0%,0%,0%);fill-opacity:1;\">\n",
       "  <use xlink:href=\"#glyph0-23\" x=\"62.960938\" y=\"479.003906\"/>\n",
       "  <use xlink:href=\"#glyph0-20\" x=\"72.298828\" y=\"479.003906\"/>\n",
       "  <use xlink:href=\"#glyph0-6\" x=\"81.636719\" y=\"479.003906\"/>\n",
       "</g>\n",
       "<g style=\"fill:rgb(0%,0%,0%);fill-opacity:1;\">\n",
       "  <use xlink:href=\"#glyph0-16\" x=\"526.808594\" y=\"280.003906\"/>\n",
       "  <use xlink:href=\"#glyph0-8\" x=\"536.146484\" y=\"280.003906\"/>\n",
       "  <use xlink:href=\"#glyph0-6\" x=\"546.256836\" y=\"280.003906\"/>\n",
       "</g>\n",
       "<g style=\"fill:rgb(0%,0%,0%);fill-opacity:1;\">\n",
       "  <use xlink:href=\"#glyph0-13\" x=\"503.367188\" y=\"300.902344\"/>\n",
       "  <use xlink:href=\"#glyph0-19\" x=\"515.029297\" y=\"300.902344\"/>\n",
       "  <use xlink:href=\"#glyph0-22\" x=\"524.367188\" y=\"300.902344\"/>\n",
       "</g>\n",
       "<g style=\"fill:rgb(0%,0%,0%);fill-opacity:1;\">\n",
       "  <use xlink:href=\"#glyph0-16\" x=\"202.777344\" y=\"142.246094\"/>\n",
       "  <use xlink:href=\"#glyph0-3\" x=\"212.115234\" y=\"142.246094\"/>\n",
       "  <use xlink:href=\"#glyph0-8\" x=\"223.004883\" y=\"142.246094\"/>\n",
       "</g>\n",
       "<g style=\"fill:rgb(0%,0%,0%);fill-opacity:1;\">\n",
       "  <use xlink:href=\"#glyph0-8\" x=\"264.703125\" y=\"102.109375\"/>\n",
       "  <use xlink:href=\"#glyph0-21\" x=\"274.813477\" y=\"102.109375\"/>\n",
       "  <use xlink:href=\"#glyph0-14\" x=\"285.703125\" y=\"102.109375\"/>\n",
       "</g>\n",
       "<g style=\"fill:rgb(0%,0%,0%);fill-opacity:1;\">\n",
       "  <use xlink:href=\"#glyph0-4\" x=\"239.796875\" y=\"396.125\"/>\n",
       "  <use xlink:href=\"#glyph0-7\" x=\"249.907227\" y=\"396.125\"/>\n",
       "  <use xlink:href=\"#glyph0-23\" x=\"253.796875\" y=\"396.125\"/>\n",
       "</g>\n",
       "<g style=\"fill:rgb(0%,0%,0%);fill-opacity:1;\">\n",
       "  <use xlink:href=\"#glyph0-3\" x=\"202.808594\" y=\"402.589844\"/>\n",
       "  <use xlink:href=\"#glyph0-5\" x=\"213.698242\" y=\"402.589844\"/>\n",
       "  <use xlink:href=\"#glyph0-1\" x=\"223.808594\" y=\"402.589844\"/>\n",
       "</g>\n",
       "<g style=\"fill:rgb(0%,0%,0%);fill-opacity:1;\">\n",
       "  <use xlink:href=\"#glyph0-16\" x=\"379.078125\" y=\"582.617188\"/>\n",
       "  <use xlink:href=\"#glyph0-18\" x=\"388.416016\" y=\"582.617188\"/>\n",
       "  <use xlink:href=\"#glyph0-7\" x=\"398.526367\" y=\"582.617188\"/>\n",
       "</g>\n",
       "<g style=\"fill:rgb(0%,0%,0%);fill-opacity:1;\">\n",
       "  <use xlink:href=\"#glyph0-8\" x=\"354.675781\" y=\"570.070312\"/>\n",
       "  <use xlink:href=\"#glyph0-25\" x=\"364.786133\" y=\"570.070312\"/>\n",
       "  <use xlink:href=\"#glyph0-1\" x=\"378\" y=\"570.070312\"/>\n",
       "</g>\n",
       "<g style=\"fill:rgb(0%,0%,0%);fill-opacity:1;\">\n",
       "  <use xlink:href=\"#glyph0-11\" x=\"377.582031\" y=\"550.5\"/>\n",
       "  <use xlink:href=\"#glyph0-15\" x=\"386.133789\" y=\"550.5\"/>\n",
       "  <use xlink:href=\"#glyph0-1\" x=\"394.685547\" y=\"550.5\"/>\n",
       "</g>\n",
       "<g style=\"fill:rgb(0%,0%,0%);fill-opacity:1;\">\n",
       "  <use xlink:href=\"#glyph0-10\" x=\"432.046875\" y=\"300.433594\"/>\n",
       "  <use xlink:href=\"#glyph0-5\" x=\"441.384766\" y=\"300.433594\"/>\n",
       "  <use xlink:href=\"#glyph0-13\" x=\"451.495117\" y=\"300.433594\"/>\n",
       "</g>\n",
       "<g style=\"fill:rgb(0%,0%,0%);fill-opacity:1;\">\n",
       "  <use xlink:href=\"#glyph0-17\" x=\"412.515625\" y=\"277.769531\"/>\n",
       "  <use xlink:href=\"#glyph0-1\" x=\"420.301758\" y=\"277.769531\"/>\n",
       "  <use xlink:href=\"#glyph0-21\" x=\"429.639648\" y=\"277.769531\"/>\n",
       "</g>\n",
       "<g style=\"fill:rgb(0%,0%,0%);fill-opacity:1;\">\n",
       "  <use xlink:href=\"#glyph0-11\" x=\"453.941406\" y=\"286.046875\"/>\n",
       "  <use xlink:href=\"#glyph0-5\" x=\"462.493164\" y=\"286.046875\"/>\n",
       "  <use xlink:href=\"#glyph0-1\" x=\"472.603516\" y=\"286.046875\"/>\n",
       "</g>\n",
       "<g style=\"fill:rgb(0%,0%,0%);fill-opacity:1;\">\n",
       "  <use xlink:href=\"#glyph0-23\" x=\"396.363281\" y=\"286.160156\"/>\n",
       "  <use xlink:href=\"#glyph0-6\" x=\"405.701172\" y=\"286.160156\"/>\n",
       "  <use xlink:href=\"#glyph0-13\" x=\"415.811523\" y=\"286.160156\"/>\n",
       "</g>\n",
       "<g style=\"fill:rgb(0%,0%,0%);fill-opacity:1;\">\n",
       "  <use xlink:href=\"#glyph0-4\" x=\"322.023438\" y=\"482.65625\"/>\n",
       "  <use xlink:href=\"#glyph0-13\" x=\"332.133789\" y=\"482.65625\"/>\n",
       "  <use xlink:href=\"#glyph0-8\" x=\"343.795898\" y=\"482.65625\"/>\n",
       "</g>\n",
       "<g style=\"fill:rgb(0%,0%,0%);fill-opacity:1;\">\n",
       "  <use xlink:href=\"#glyph0-4\" x=\"309.195312\" y=\"506.179688\"/>\n",
       "  <use xlink:href=\"#glyph0-1\" x=\"319.305664\" y=\"506.179688\"/>\n",
       "  <use xlink:href=\"#glyph0-2\" x=\"328.643555\" y=\"506.179688\"/>\n",
       "</g>\n",
       "<g style=\"fill:rgb(0%,0%,0%);fill-opacity:1;\">\n",
       "  <use xlink:href=\"#glyph0-11\" x=\"283.671875\" y=\"490.238281\"/>\n",
       "  <use xlink:href=\"#glyph0-4\" x=\"292.223633\" y=\"490.238281\"/>\n",
       "  <use xlink:href=\"#glyph0-18\" x=\"302.333984\" y=\"490.238281\"/>\n",
       "</g>\n",
       "<g style=\"fill:rgb(0%,0%,0%);fill-opacity:1;\">\n",
       "  <use xlink:href=\"#glyph0-4\" x=\"339.28125\" y=\"501.105469\"/>\n",
       "  <use xlink:href=\"#glyph0-21\" x=\"349.391602\" y=\"501.105469\"/>\n",
       "  <use xlink:href=\"#glyph0-3\" x=\"360.28125\" y=\"501.105469\"/>\n",
       "</g>\n",
       "<g style=\"fill:rgb(0%,0%,0%);fill-opacity:1;\">\n",
       "  <use xlink:href=\"#glyph0-3\" x=\"359.5625\" y=\"467.164062\"/>\n",
       "  <use xlink:href=\"#glyph0-6\" x=\"370.452148\" y=\"467.164062\"/>\n",
       "  <use xlink:href=\"#glyph0-26\" x=\"380.5625\" y=\"467.164062\"/>\n",
       "</g>\n",
       "<g style=\"fill:rgb(0%,0%,0%);fill-opacity:1;\">\n",
       "  <use xlink:href=\"#glyph0-3\" x=\"357.441406\" y=\"485.449219\"/>\n",
       "  <use xlink:href=\"#glyph0-1\" x=\"368.331055\" y=\"485.449219\"/>\n",
       "  <use xlink:href=\"#glyph0-16\" x=\"377.668945\" y=\"485.449219\"/>\n",
       "</g>\n",
       "<g style=\"fill:rgb(0%,0%,0%);fill-opacity:1;\">\n",
       "  <use xlink:href=\"#glyph0-4\" x=\"40.789062\" y=\"260.996094\"/>\n",
       "  <use xlink:href=\"#glyph0-1\" x=\"50.899414\" y=\"260.996094\"/>\n",
       "  <use xlink:href=\"#glyph0-6\" x=\"60.237305\" y=\"260.996094\"/>\n",
       "</g>\n",
       "<g style=\"fill:rgb(0%,0%,0%);fill-opacity:1;\">\n",
       "  <use xlink:href=\"#glyph0-14\" x=\"20.199219\" y=\"255.410156\"/>\n",
       "  <use xlink:href=\"#glyph0-22\" x=\"30.30957\" y=\"255.410156\"/>\n",
       "  <use xlink:href=\"#glyph0-1\" x=\"39.647461\" y=\"255.410156\"/>\n",
       "</g>\n",
       "<g style=\"fill:rgb(0%,0%,0%);fill-opacity:1;\">\n",
       "  <use xlink:href=\"#glyph0-22\" x=\"275.761719\" y=\"516.335938\"/>\n",
       "  <use xlink:href=\"#glyph0-18\" x=\"285.099609\" y=\"516.335938\"/>\n",
       "  <use xlink:href=\"#glyph0-6\" x=\"295.209961\" y=\"516.335938\"/>\n",
       "</g>\n",
       "<g style=\"fill:rgb(0%,0%,0%);fill-opacity:1;\">\n",
       "  <use xlink:href=\"#glyph0-5\" x=\"368.414062\" y=\"289.546875\"/>\n",
       "  <use xlink:href=\"#glyph0-10\" x=\"378.524414\" y=\"289.546875\"/>\n",
       "  <use xlink:href=\"#glyph0-3\" x=\"387.862305\" y=\"289.546875\"/>\n",
       "</g>\n",
       "<g style=\"fill:rgb(0%,0%,0%);fill-opacity:1;\">\n",
       "  <use xlink:href=\"#glyph0-10\" x=\"309.546875\" y=\"219.949219\"/>\n",
       "  <use xlink:href=\"#glyph0-1\" x=\"318.884766\" y=\"219.949219\"/>\n",
       "  <use xlink:href=\"#glyph0-15\" x=\"328.222656\" y=\"219.949219\"/>\n",
       "</g>\n",
       "<g style=\"fill:rgb(0%,0%,0%);fill-opacity:1;\">\n",
       "  <use xlink:href=\"#glyph0-10\" x=\"327.316406\" y=\"241.746094\"/>\n",
       "  <use xlink:href=\"#glyph0-3\" x=\"336.654297\" y=\"241.746094\"/>\n",
       "  <use xlink:href=\"#glyph0-15\" x=\"347.543945\" y=\"241.746094\"/>\n",
       "</g>\n",
       "<g style=\"fill:rgb(0%,0%,0%);fill-opacity:1;\">\n",
       "  <use xlink:href=\"#glyph0-13\" x=\"348.816406\" y=\"289.757812\"/>\n",
       "  <use xlink:href=\"#glyph0-1\" x=\"360.478516\" y=\"289.757812\"/>\n",
       "  <use xlink:href=\"#glyph0-4\" x=\"369.816406\" y=\"289.757812\"/>\n",
       "</g>\n",
       "<g style=\"fill:rgb(0%,0%,0%);fill-opacity:1;\">\n",
       "  <use xlink:href=\"#glyph0-13\" x=\"329.566406\" y=\"202.066406\"/>\n",
       "  <use xlink:href=\"#glyph0-6\" x=\"341.228516\" y=\"202.066406\"/>\n",
       "  <use xlink:href=\"#glyph0-3\" x=\"351.338867\" y=\"202.066406\"/>\n",
       "</g>\n",
       "<g style=\"fill:rgb(0%,0%,0%);fill-opacity:1;\">\n",
       "  <use xlink:href=\"#glyph0-6\" x=\"379.453125\" y=\"265.011719\"/>\n",
       "  <use xlink:href=\"#glyph0-9\" x=\"389.563477\" y=\"265.011719\"/>\n",
       "  <use xlink:href=\"#glyph0-17\" x=\"398.901367\" y=\"265.011719\"/>\n",
       "</g>\n",
       "<g style=\"fill:rgb(0%,0%,0%);fill-opacity:1;\">\n",
       "  <use xlink:href=\"#glyph0-20\" x=\"90.59375\" y=\"441.640625\"/>\n",
       "  <use xlink:href=\"#glyph0-4\" x=\"99.931641\" y=\"441.640625\"/>\n",
       "  <use xlink:href=\"#glyph0-14\" x=\"110.041992\" y=\"441.640625\"/>\n",
       "</g>\n",
       "<g style=\"fill:rgb(0%,0%,0%);fill-opacity:1;\">\n",
       "  <use xlink:href=\"#glyph0-9\" x=\"55.941406\" y=\"424.261719\"/>\n",
       "  <use xlink:href=\"#glyph0-1\" x=\"65.279297\" y=\"424.261719\"/>\n",
       "  <use xlink:href=\"#glyph0-6\" x=\"74.617188\" y=\"424.261719\"/>\n",
       "</g>\n",
       "<g style=\"fill:rgb(0%,0%,0%);fill-opacity:1;\">\n",
       "  <use xlink:href=\"#glyph0-4\" x=\"48.039062\" y=\"394.902344\"/>\n",
       "  <use xlink:href=\"#glyph0-8\" x=\"58.149414\" y=\"394.902344\"/>\n",
       "  <use xlink:href=\"#glyph0-7\" x=\"68.259766\" y=\"394.902344\"/>\n",
       "</g>\n",
       "<g style=\"fill:rgb(0%,0%,0%);fill-opacity:1;\">\n",
       "  <use xlink:href=\"#glyph0-6\" x=\"42.800781\" y=\"368.4375\"/>\n",
       "  <use xlink:href=\"#glyph0-7\" x=\"52.911133\" y=\"368.4375\"/>\n",
       "  <use xlink:href=\"#glyph0-4\" x=\"56.800781\" y=\"368.4375\"/>\n",
       "</g>\n",
       "<g style=\"fill:rgb(0%,0%,0%);fill-opacity:1;\">\n",
       "  <use xlink:href=\"#glyph0-3\" x=\"273.484375\" y=\"389.511719\"/>\n",
       "  <use xlink:href=\"#glyph0-7\" x=\"284.374023\" y=\"389.511719\"/>\n",
       "  <use xlink:href=\"#glyph0-6\" x=\"288.263672\" y=\"389.511719\"/>\n",
       "</g>\n",
       "<g style=\"fill:rgb(0%,0%,0%);fill-opacity:1;\">\n",
       "  <use xlink:href=\"#glyph0-17\" x=\"249.496094\" y=\"369.683594\"/>\n",
       "  <use xlink:href=\"#glyph0-16\" x=\"257.282227\" y=\"369.683594\"/>\n",
       "  <use xlink:href=\"#glyph0-8\" x=\"266.620117\" y=\"369.683594\"/>\n",
       "</g>\n",
       "<g style=\"fill:rgb(0%,0%,0%);fill-opacity:1;\">\n",
       "  <use xlink:href=\"#glyph0-18\" x=\"427.351562\" y=\"161.796875\"/>\n",
       "  <use xlink:href=\"#glyph0-6\" x=\"437.461914\" y=\"161.796875\"/>\n",
       "  <use xlink:href=\"#glyph0-10\" x=\"447.572266\" y=\"161.796875\"/>\n",
       "</g>\n",
       "<g style=\"fill:rgb(0%,0%,0%);fill-opacity:1;\">\n",
       "  <use xlink:href=\"#glyph0-18\" x=\"270.957031\" y=\"586.632812\"/>\n",
       "  <use xlink:href=\"#glyph0-12\" x=\"281.067383\" y=\"586.632812\"/>\n",
       "  <use xlink:href=\"#glyph0-7\" x=\"288.067383\" y=\"586.632812\"/>\n",
       "</g>\n",
       "<g style=\"fill:rgb(0%,0%,0%);fill-opacity:1;\">\n",
       "  <use xlink:href=\"#glyph0-20\" x=\"263.574219\" y=\"558.464844\"/>\n",
       "  <use xlink:href=\"#glyph0-8\" x=\"272.912109\" y=\"558.464844\"/>\n",
       "  <use xlink:href=\"#glyph0-7\" x=\"283.022461\" y=\"558.464844\"/>\n",
       "</g>\n",
       "<g style=\"fill:rgb(0%,0%,0%);fill-opacity:1;\">\n",
       "  <use xlink:href=\"#glyph0-20\" x=\"282.191406\" y=\"561.40625\"/>\n",
       "  <use xlink:href=\"#glyph0-11\" x=\"291.529297\" y=\"561.40625\"/>\n",
       "  <use xlink:href=\"#glyph0-5\" x=\"300.081055\" y=\"561.40625\"/>\n",
       "</g>\n",
       "<g style=\"fill:rgb(0%,0%,0%);fill-opacity:1;\">\n",
       "  <use xlink:href=\"#glyph0-22\" x=\"291.433594\" y=\"585.097656\"/>\n",
       "  <use xlink:href=\"#glyph0-21\" x=\"300.771484\" y=\"585.097656\"/>\n",
       "  <use xlink:href=\"#glyph0-13\" x=\"311.661133\" y=\"585.097656\"/>\n",
       "</g>\n",
       "<g style=\"fill:rgb(0%,0%,0%);fill-opacity:1;\">\n",
       "  <use xlink:href=\"#glyph0-18\" x=\"517.875\" y=\"434.195312\"/>\n",
       "  <use xlink:href=\"#glyph0-21\" x=\"527.985352\" y=\"434.195312\"/>\n",
       "  <use xlink:href=\"#glyph0-13\" x=\"538.875\" y=\"434.195312\"/>\n",
       "</g>\n",
       "<g style=\"fill:rgb(0%,0%,0%);fill-opacity:1;\">\n",
       "  <use xlink:href=\"#glyph0-5\" x=\"540.617188\" y=\"443.316406\"/>\n",
       "  <use xlink:href=\"#glyph0-11\" x=\"550.727539\" y=\"443.316406\"/>\n",
       "  <use xlink:href=\"#glyph0-7\" x=\"559.279297\" y=\"443.316406\"/>\n",
       "</g>\n",
       "<g style=\"fill:rgb(0%,0%,0%);fill-opacity:1;\">\n",
       "  <use xlink:href=\"#glyph0-20\" x=\"222.566406\" y=\"439.699219\"/>\n",
       "  <use xlink:href=\"#glyph0-3\" x=\"231.904297\" y=\"439.699219\"/>\n",
       "  <use xlink:href=\"#glyph0-19\" x=\"242.793945\" y=\"439.699219\"/>\n",
       "</g>\n",
       "<g style=\"fill:rgb(0%,0%,0%);fill-opacity:1;\">\n",
       "  <use xlink:href=\"#glyph0-7\" x=\"186.460938\" y=\"344.015625\"/>\n",
       "  <use xlink:href=\"#glyph0-22\" x=\"190.350586\" y=\"344.015625\"/>\n",
       "  <use xlink:href=\"#glyph0-8\" x=\"199.688477\" y=\"344.015625\"/>\n",
       "</g>\n",
       "<g style=\"fill:rgb(0%,0%,0%);fill-opacity:1;\">\n",
       "  <use xlink:href=\"#glyph0-22\" x=\"15.628906\" y=\"334.984375\"/>\n",
       "  <use xlink:href=\"#glyph0-17\" x=\"24.966797\" y=\"334.984375\"/>\n",
       "  <use xlink:href=\"#glyph0-23\" x=\"32.75293\" y=\"334.984375\"/>\n",
       "</g>\n",
       "<g style=\"fill:rgb(0%,0%,0%);fill-opacity:1;\">\n",
       "  <use xlink:href=\"#glyph0-5\" x=\"32.484375\" y=\"341.335938\"/>\n",
       "  <use xlink:href=\"#glyph0-6\" x=\"42.594727\" y=\"341.335938\"/>\n",
       "  <use xlink:href=\"#glyph0-18\" x=\"52.705078\" y=\"341.335938\"/>\n",
       "</g>\n",
       "<g style=\"fill:rgb(0%,0%,0%);fill-opacity:1;\">\n",
       "  <use xlink:href=\"#glyph0-20\" x=\"271.003906\" y=\"154.980469\"/>\n",
       "  <use xlink:href=\"#glyph0-22\" x=\"280.341797\" y=\"154.980469\"/>\n",
       "  <use xlink:href=\"#glyph0-11\" x=\"289.679688\" y=\"154.980469\"/>\n",
       "</g>\n",
       "<g style=\"fill:rgb(0%,0%,0%);fill-opacity:1;\">\n",
       "  <use xlink:href=\"#glyph0-22\" x=\"441.644531\" y=\"490.96875\"/>\n",
       "  <use xlink:href=\"#glyph0-25\" x=\"450.982422\" y=\"490.96875\"/>\n",
       "  <use xlink:href=\"#glyph0-15\" x=\"464.196289\" y=\"490.96875\"/>\n",
       "</g>\n",
       "<g style=\"fill:rgb(0%,0%,0%);fill-opacity:1;\">\n",
       "  <use xlink:href=\"#glyph0-13\" x=\"420.355469\" y=\"522.910156\"/>\n",
       "  <use xlink:href=\"#glyph0-21\" x=\"432.017578\" y=\"522.910156\"/>\n",
       "  <use xlink:href=\"#glyph0-15\" x=\"442.907227\" y=\"522.910156\"/>\n",
       "</g>\n",
       "<g style=\"fill:rgb(0%,0%,0%);fill-opacity:1;\">\n",
       "  <use xlink:href=\"#glyph0-10\" x=\"314.828125\" y=\"555.160156\"/>\n",
       "  <use xlink:href=\"#glyph0-20\" x=\"324.166016\" y=\"555.160156\"/>\n",
       "  <use xlink:href=\"#glyph0-6\" x=\"333.503906\" y=\"555.160156\"/>\n",
       "</g>\n",
       "<g style=\"fill:rgb(0%,0%,0%);fill-opacity:1;\">\n",
       "  <use xlink:href=\"#glyph0-2\" x=\"250.078125\" y=\"140.777344\"/>\n",
       "  <use xlink:href=\"#glyph0-7\" x=\"258.629883\" y=\"140.777344\"/>\n",
       "  <use xlink:href=\"#glyph0-6\" x=\"262.519531\" y=\"140.777344\"/>\n",
       "</g>\n",
       "<g style=\"fill:rgb(0%,0%,0%);fill-opacity:1;\">\n",
       "  <use xlink:href=\"#glyph0-6\" x=\"253.886719\" y=\"130.640625\"/>\n",
       "  <use xlink:href=\"#glyph0-21\" x=\"263.99707\" y=\"130.640625\"/>\n",
       "  <use xlink:href=\"#glyph0-8\" x=\"274.886719\" y=\"130.640625\"/>\n",
       "</g>\n",
       "<g style=\"fill:rgb(0%,0%,0%);fill-opacity:1;\">\n",
       "  <use xlink:href=\"#glyph0-22\" x=\"224.632812\" y=\"110.835938\"/>\n",
       "  <use xlink:href=\"#glyph0-25\" x=\"233.970703\" y=\"110.835938\"/>\n",
       "  <use xlink:href=\"#glyph0-20\" x=\"247.18457\" y=\"110.835938\"/>\n",
       "</g>\n",
       "<g style=\"fill:rgb(0%,0%,0%);fill-opacity:1;\">\n",
       "  <use xlink:href=\"#glyph0-20\" x=\"493.667969\" y=\"158.328125\"/>\n",
       "  <use xlink:href=\"#glyph0-22\" x=\"503.005859\" y=\"158.328125\"/>\n",
       "  <use xlink:href=\"#glyph0-9\" x=\"512.34375\" y=\"158.328125\"/>\n",
       "</g>\n",
       "<g style=\"fill:rgb(0%,0%,0%);fill-opacity:1;\">\n",
       "  <use xlink:href=\"#glyph0-3\" x=\"335.429688\" y=\"408.261719\"/>\n",
       "  <use xlink:href=\"#glyph0-13\" x=\"346.319336\" y=\"408.261719\"/>\n",
       "  <use xlink:href=\"#glyph0-16\" x=\"357.981445\" y=\"408.261719\"/>\n",
       "</g>\n",
       "<g style=\"fill:rgb(0%,0%,0%);fill-opacity:1;\">\n",
       "  <use xlink:href=\"#glyph0-22\" x=\"296.121094\" y=\"411.589844\"/>\n",
       "  <use xlink:href=\"#glyph0-20\" x=\"305.458984\" y=\"411.589844\"/>\n",
       "  <use xlink:href=\"#glyph0-6\" x=\"314.796875\" y=\"411.589844\"/>\n",
       "</g>\n",
       "<g style=\"fill:rgb(0%,0%,0%);fill-opacity:1;\">\n",
       "  <use xlink:href=\"#glyph0-3\" x=\"304.09375\" y=\"387.472656\"/>\n",
       "  <use xlink:href=\"#glyph0-6\" x=\"314.983398\" y=\"387.472656\"/>\n",
       "  <use xlink:href=\"#glyph0-16\" x=\"325.09375\" y=\"387.472656\"/>\n",
       "</g>\n",
       "<g style=\"fill:rgb(0%,0%,0%);fill-opacity:1;\">\n",
       "  <use xlink:href=\"#glyph0-22\" x=\"269.371094\" y=\"359.011719\"/>\n",
       "  <use xlink:href=\"#glyph0-17\" x=\"278.708984\" y=\"359.011719\"/>\n",
       "  <use xlink:href=\"#glyph0-20\" x=\"286.495117\" y=\"359.011719\"/>\n",
       "</g>\n",
       "<g style=\"fill:rgb(0%,0%,0%);fill-opacity:1;\">\n",
       "  <use xlink:href=\"#glyph0-7\" x=\"529.269531\" y=\"331.109375\"/>\n",
       "  <use xlink:href=\"#glyph0-18\" x=\"533.15918\" y=\"331.109375\"/>\n",
       "  <use xlink:href=\"#glyph0-6\" x=\"543.269531\" y=\"331.109375\"/>\n",
       "</g>\n",
       "<g style=\"fill:rgb(0%,0%,0%);fill-opacity:1;\">\n",
       "  <use xlink:href=\"#glyph0-9\" x=\"553.3125\" y=\"336.375\"/>\n",
       "  <use xlink:href=\"#glyph0-6\" x=\"562.650391\" y=\"336.375\"/>\n",
       "  <use xlink:href=\"#glyph0-3\" x=\"572.760742\" y=\"336.375\"/>\n",
       "</g>\n",
       "<g style=\"fill:rgb(0%,0%,0%);fill-opacity:1;\">\n",
       "  <use xlink:href=\"#glyph0-11\" x=\"526.378906\" y=\"357.410156\"/>\n",
       "  <use xlink:href=\"#glyph0-17\" x=\"534.930664\" y=\"357.410156\"/>\n",
       "  <use xlink:href=\"#glyph0-22\" x=\"542.716797\" y=\"357.410156\"/>\n",
       "</g>\n",
       "<g style=\"fill:rgb(0%,0%,0%);fill-opacity:1;\">\n",
       "  <use xlink:href=\"#glyph0-7\" x=\"176.222656\" y=\"242.179688\"/>\n",
       "  <use xlink:href=\"#glyph0-8\" x=\"180.112305\" y=\"242.179688\"/>\n",
       "  <use xlink:href=\"#glyph0-26\" x=\"190.222656\" y=\"242.179688\"/>\n",
       "</g>\n",
       "<g style=\"fill:rgb(0%,0%,0%);fill-opacity:1;\">\n",
       "  <use xlink:href=\"#glyph0-12\" x=\"155.875\" y=\"282.265625\"/>\n",
       "  <use xlink:href=\"#glyph0-21\" x=\"162.875\" y=\"282.265625\"/>\n",
       "  <use xlink:href=\"#glyph0-8\" x=\"173.764648\" y=\"282.265625\"/>\n",
       "</g>\n",
       "<g style=\"fill:rgb(0%,0%,0%);fill-opacity:1;\">\n",
       "  <use xlink:href=\"#glyph0-10\" x=\"140.039062\" y=\"231.359375\"/>\n",
       "  <use xlink:href=\"#glyph0-25\" x=\"149.376953\" y=\"231.359375\"/>\n",
       "  <use xlink:href=\"#glyph0-11\" x=\"162.59082\" y=\"231.359375\"/>\n",
       "</g>\n",
       "<g style=\"fill:rgb(0%,0%,0%);fill-opacity:1;\">\n",
       "  <use xlink:href=\"#glyph0-22\" x=\"121.558594\" y=\"237.78125\"/>\n",
       "  <use xlink:href=\"#glyph0-1\" x=\"130.896484\" y=\"237.78125\"/>\n",
       "  <use xlink:href=\"#glyph0-14\" x=\"140.234375\" y=\"237.78125\"/>\n",
       "</g>\n",
       "<g style=\"fill:rgb(0%,0%,0%);fill-opacity:1;\">\n",
       "  <use xlink:href=\"#glyph0-22\" x=\"179.152344\" y=\"276.542969\"/>\n",
       "  <use xlink:href=\"#glyph0-19\" x=\"188.490234\" y=\"276.542969\"/>\n",
       "  <use xlink:href=\"#glyph0-8\" x=\"197.828125\" y=\"276.542969\"/>\n",
       "</g>\n",
       "<g style=\"fill:rgb(0%,0%,0%);fill-opacity:1;\">\n",
       "  <use xlink:href=\"#glyph0-7\" x=\"568.554688\" y=\"392.78125\"/>\n",
       "  <use xlink:href=\"#glyph0-8\" x=\"572.444336\" y=\"392.78125\"/>\n",
       "  <use xlink:href=\"#glyph0-17\" x=\"582.554688\" y=\"392.78125\"/>\n",
       "</g>\n",
       "<g style=\"fill:rgb(0%,0%,0%);fill-opacity:1;\">\n",
       "  <use xlink:href=\"#glyph0-3\" x=\"546.300781\" y=\"399.445312\"/>\n",
       "  <use xlink:href=\"#glyph0-16\" x=\"557.19043\" y=\"399.445312\"/>\n",
       "  <use xlink:href=\"#glyph0-8\" x=\"566.52832\" y=\"399.445312\"/>\n",
       "</g>\n",
       "<g style=\"fill:rgb(0%,0%,0%);fill-opacity:1;\">\n",
       "  <use xlink:href=\"#glyph0-17\" x=\"166.949219\" y=\"313.523438\"/>\n",
       "  <use xlink:href=\"#glyph0-16\" x=\"174.735352\" y=\"313.523438\"/>\n",
       "  <use xlink:href=\"#glyph0-6\" x=\"184.073242\" y=\"313.523438\"/>\n",
       "</g>\n",
       "<g style=\"fill:rgb(0%,0%,0%);fill-opacity:1;\">\n",
       "  <use xlink:href=\"#glyph0-22\" x=\"431.042969\" y=\"61.792969\"/>\n",
       "  <use xlink:href=\"#glyph0-13\" x=\"440.380859\" y=\"61.792969\"/>\n",
       "  <use xlink:href=\"#glyph0-8\" x=\"452.042969\" y=\"61.792969\"/>\n",
       "</g>\n",
       "<g style=\"fill:rgb(0%,0%,0%);fill-opacity:1;\">\n",
       "  <use xlink:href=\"#glyph0-14\" x=\"329.507812\" y=\"546.589844\"/>\n",
       "  <use xlink:href=\"#glyph0-3\" x=\"339.618164\" y=\"546.589844\"/>\n",
       "  <use xlink:href=\"#glyph0-1\" x=\"350.507812\" y=\"546.589844\"/>\n",
       "</g>\n",
       "<g style=\"fill:rgb(0%,0%,0%);fill-opacity:1;\">\n",
       "  <use xlink:href=\"#glyph0-17\" x=\"487.5\" y=\"484.476562\"/>\n",
       "  <use xlink:href=\"#glyph0-22\" x=\"495.286133\" y=\"484.476562\"/>\n",
       "  <use xlink:href=\"#glyph0-21\" x=\"504.624023\" y=\"484.476562\"/>\n",
       "</g>\n",
       "<g style=\"fill:rgb(0%,0%,0%);fill-opacity:1;\">\n",
       "  <use xlink:href=\"#glyph0-13\" x=\"406.203125\" y=\"546.417969\"/>\n",
       "  <use xlink:href=\"#glyph0-25\" x=\"417.865234\" y=\"546.417969\"/>\n",
       "  <use xlink:href=\"#glyph0-7\" x=\"431.079102\" y=\"546.417969\"/>\n",
       "</g>\n",
       "<g style=\"fill:rgb(0%,0%,0%);fill-opacity:1;\">\n",
       "  <use xlink:href=\"#glyph0-22\" x=\"533.710938\" y=\"301.578125\"/>\n",
       "  <use xlink:href=\"#glyph0-3\" x=\"543.048828\" y=\"301.578125\"/>\n",
       "  <use xlink:href=\"#glyph0-9\" x=\"553.938477\" y=\"301.578125\"/>\n",
       "</g>\n",
       "<g style=\"fill:rgb(0%,0%,0%);fill-opacity:1;\">\n",
       "  <use xlink:href=\"#glyph0-13\" x=\"275.214844\" y=\"80.121094\"/>\n",
       "  <use xlink:href=\"#glyph0-18\" x=\"286.876953\" y=\"80.121094\"/>\n",
       "  <use xlink:href=\"#glyph0-1\" x=\"296.987305\" y=\"80.121094\"/>\n",
       "</g>\n",
       "<g style=\"fill:rgb(0%,0%,0%);fill-opacity:1;\">\n",
       "  <use xlink:href=\"#glyph0-21\" x=\"88.609375\" y=\"211.496094\"/>\n",
       "  <use xlink:href=\"#glyph0-13\" x=\"99.499023\" y=\"211.496094\"/>\n",
       "  <use xlink:href=\"#glyph0-6\" x=\"111.161133\" y=\"211.496094\"/>\n",
       "</g>\n",
       "<g style=\"fill:rgb(0%,0%,0%);fill-opacity:1;\">\n",
       "  <use xlink:href=\"#glyph0-1\" x=\"87.285156\" y=\"228.625\"/>\n",
       "  <use xlink:href=\"#glyph0-8\" x=\"96.623047\" y=\"228.625\"/>\n",
       "  <use xlink:href=\"#glyph0-20\" x=\"106.733398\" y=\"228.625\"/>\n",
       "</g>\n",
       "<g style=\"fill:rgb(0%,0%,0%);fill-opacity:1;\">\n",
       "  <use xlink:href=\"#glyph0-19\" x=\"102.910156\" y=\"201.722656\"/>\n",
       "  <use xlink:href=\"#glyph0-20\" x=\"112.248047\" y=\"201.722656\"/>\n",
       "  <use xlink:href=\"#glyph0-13\" x=\"121.585938\" y=\"201.722656\"/>\n",
       "</g>\n",
       "<g style=\"fill:rgb(0%,0%,0%);fill-opacity:1;\">\n",
       "  <use xlink:href=\"#glyph0-9\" x=\"519.453125\" y=\"183.757812\"/>\n",
       "  <use xlink:href=\"#glyph0-8\" x=\"528.791016\" y=\"183.757812\"/>\n",
       "  <use xlink:href=\"#glyph0-11\" x=\"538.901367\" y=\"183.757812\"/>\n",
       "</g>\n",
       "<g style=\"fill:rgb(0%,0%,0%);fill-opacity:1;\">\n",
       "  <use xlink:href=\"#glyph0-26\" x=\"90.421875\" y=\"246.785156\"/>\n",
       "  <use xlink:href=\"#glyph0-1\" x=\"101.311523\" y=\"246.785156\"/>\n",
       "  <use xlink:href=\"#glyph0-11\" x=\"110.649414\" y=\"246.785156\"/>\n",
       "</g>\n",
       "</g>\n",
       "</svg>\n"
      ],
      "text/plain": [
       "<igraph.drawing.cairo.plot.CairoPlot at 0x12af41f10>"
      ]
     },
     "execution_count": 18,
     "metadata": {
      "image/svg+xml": {
       "isolated": true
      }
     },
     "output_type": "execute_result"
    }
   ],
   "source": [
    "df_network = df.drop_duplicates(['iso_o','iso_d','contig'])\n",
    "df_network = df_network[df_network.contig == 1]\n",
    "\n",
    "graph2 = ig.Graph.TupleList(df_network[['iso_o','iso_d']].itertuples(index=False), directed=False)\n",
    "\n",
    "graph2.vs['color'] = assign_colors(pd.Series(graph2.vs()['name']).to_frame().merge(df, how='left', left_on=0, right_on='iso_o').drop_duplicates('iso_o')['Region_o'])\n",
    "graph2.vs['label'] = graph2.vs['name']\n",
    "\n",
    "# vs_size = np.emath.logn(1.2, pd.Series(graph.vs()['name']).to_frame().merge(df, how='left', left_on=0, right_on='iso_o').drop_duplicates('iso_o')['pop_o'])\n",
    "ig.plot(graph2)"
   ]
  },
  {
   "cell_type": "code",
   "execution_count": 26,
   "metadata": {},
   "outputs": [
    {
     "ename": "TypeError",
     "evalue": "only non-negative integers, strings or igraph.Vertex objects can be converted to vertex IDs",
     "output_type": "error",
     "traceback": [
      "\u001b[0;31m---------------------------------------------------------------------------\u001b[0m",
      "\u001b[0;31mTypeError\u001b[0m                                 Traceback (most recent call last)",
      "Cell \u001b[0;32mIn[26], line 1\u001b[0m\n\u001b[0;32m----> 1\u001b[0m graph2\u001b[39m.\u001b[39;49mneighbors([\u001b[39m1\u001b[39;49m,\u001b[39m2\u001b[39;49m])\n",
      "\u001b[0;31mTypeError\u001b[0m: only non-negative integers, strings or igraph.Vertex objects can be converted to vertex IDs"
     ]
    }
   ],
   "source": [
    "def get_degree_of_sep(graph, name1, name2):\n",
    "    a_series = pd.Series(graph.vs['name'])\n",
    "    an_index = a_series[a_series == 'AFG'].index.tolist()[0]\n"
   ]
  },
  {
   "cell_type": "code",
   "execution_count": 81,
   "metadata": {},
   "outputs": [
    {
     "name": "stderr",
     "output_type": "stream",
     "text": [
      "/var/folders/hs/1r2tlf751_l1nl8n9l2_wtpw0000gn/T/ipykernel_7981/1375436143.py:21: RuntimeWarning: Couldn't reach some vertices at src/paths/unweighted.c:440\n",
      "  shortest_path = graph.get_shortest_paths(source_idx, to=target_idx, output=\"vpath\")[0]\n"
     ]
    },
    {
     "ename": "KeyboardInterrupt",
     "evalue": "",
     "output_type": "error",
     "traceback": [
      "\u001b[0;31m---------------------------------------------------------------------------\u001b[0m",
      "\u001b[0;31mKeyboardInterrupt\u001b[0m                         Traceback (most recent call last)",
      "Cell \u001b[0;32mIn[81], line 26\u001b[0m\n\u001b[1;32m     23\u001b[0m     \u001b[39mexcept\u001b[39;00m \u001b[39mValueError\u001b[39;00m:\n\u001b[1;32m     24\u001b[0m         \u001b[39mreturn\u001b[39;00m \u001b[39m-\u001b[39m\u001b[39m1\u001b[39m\n\u001b[0;32m---> 26\u001b[0m df\u001b[39m.\u001b[39;49mapply(\u001b[39mlambda\u001b[39;49;00m x: degrees_of_separation(graph2, x\u001b[39m.\u001b[39;49miso_o, x\u001b[39m.\u001b[39;49miso_d), axis\u001b[39m=\u001b[39;49m\u001b[39m1\u001b[39;49m)\n",
      "File \u001b[0;32m~/opt/anaconda3/envs/refugees/lib/python3.11/site-packages/pandas/core/frame.py:9568\u001b[0m, in \u001b[0;36mDataFrame.apply\u001b[0;34m(self, func, axis, raw, result_type, args, **kwargs)\u001b[0m\n\u001b[1;32m   9557\u001b[0m \u001b[39mfrom\u001b[39;00m \u001b[39mpandas\u001b[39;00m\u001b[39m.\u001b[39;00m\u001b[39mcore\u001b[39;00m\u001b[39m.\u001b[39;00m\u001b[39mapply\u001b[39;00m \u001b[39mimport\u001b[39;00m frame_apply\n\u001b[1;32m   9559\u001b[0m op \u001b[39m=\u001b[39m frame_apply(\n\u001b[1;32m   9560\u001b[0m     \u001b[39mself\u001b[39m,\n\u001b[1;32m   9561\u001b[0m     func\u001b[39m=\u001b[39mfunc,\n\u001b[0;32m   (...)\u001b[0m\n\u001b[1;32m   9566\u001b[0m     kwargs\u001b[39m=\u001b[39mkwargs,\n\u001b[1;32m   9567\u001b[0m )\n\u001b[0;32m-> 9568\u001b[0m \u001b[39mreturn\u001b[39;00m op\u001b[39m.\u001b[39;49mapply()\u001b[39m.\u001b[39m__finalize__(\u001b[39mself\u001b[39m, method\u001b[39m=\u001b[39m\u001b[39m\"\u001b[39m\u001b[39mapply\u001b[39m\u001b[39m\"\u001b[39m)\n",
      "File \u001b[0;32m~/opt/anaconda3/envs/refugees/lib/python3.11/site-packages/pandas/core/apply.py:764\u001b[0m, in \u001b[0;36mFrameApply.apply\u001b[0;34m(self)\u001b[0m\n\u001b[1;32m    761\u001b[0m \u001b[39melif\u001b[39;00m \u001b[39mself\u001b[39m\u001b[39m.\u001b[39mraw:\n\u001b[1;32m    762\u001b[0m     \u001b[39mreturn\u001b[39;00m \u001b[39mself\u001b[39m\u001b[39m.\u001b[39mapply_raw()\n\u001b[0;32m--> 764\u001b[0m \u001b[39mreturn\u001b[39;00m \u001b[39mself\u001b[39;49m\u001b[39m.\u001b[39;49mapply_standard()\n",
      "File \u001b[0;32m~/opt/anaconda3/envs/refugees/lib/python3.11/site-packages/pandas/core/apply.py:891\u001b[0m, in \u001b[0;36mFrameApply.apply_standard\u001b[0;34m(self)\u001b[0m\n\u001b[1;32m    890\u001b[0m \u001b[39mdef\u001b[39;00m \u001b[39mapply_standard\u001b[39m(\u001b[39mself\u001b[39m):\n\u001b[0;32m--> 891\u001b[0m     results, res_index \u001b[39m=\u001b[39m \u001b[39mself\u001b[39;49m\u001b[39m.\u001b[39;49mapply_series_generator()\n\u001b[1;32m    893\u001b[0m     \u001b[39m# wrap results\u001b[39;00m\n\u001b[1;32m    894\u001b[0m     \u001b[39mreturn\u001b[39;00m \u001b[39mself\u001b[39m\u001b[39m.\u001b[39mwrap_results(results, res_index)\n",
      "File \u001b[0;32m~/opt/anaconda3/envs/refugees/lib/python3.11/site-packages/pandas/core/apply.py:907\u001b[0m, in \u001b[0;36mFrameApply.apply_series_generator\u001b[0;34m(self)\u001b[0m\n\u001b[1;32m    904\u001b[0m \u001b[39mwith\u001b[39;00m option_context(\u001b[39m\"\u001b[39m\u001b[39mmode.chained_assignment\u001b[39m\u001b[39m\"\u001b[39m, \u001b[39mNone\u001b[39;00m):\n\u001b[1;32m    905\u001b[0m     \u001b[39mfor\u001b[39;00m i, v \u001b[39min\u001b[39;00m \u001b[39menumerate\u001b[39m(series_gen):\n\u001b[1;32m    906\u001b[0m         \u001b[39m# ignore SettingWithCopy here in case the user mutates\u001b[39;00m\n\u001b[0;32m--> 907\u001b[0m         results[i] \u001b[39m=\u001b[39m \u001b[39mself\u001b[39;49m\u001b[39m.\u001b[39;49mf(v)\n\u001b[1;32m    908\u001b[0m         \u001b[39mif\u001b[39;00m \u001b[39misinstance\u001b[39m(results[i], ABCSeries):\n\u001b[1;32m    909\u001b[0m             \u001b[39m# If we have a view on v, we need to make a copy because\u001b[39;00m\n\u001b[1;32m    910\u001b[0m             \u001b[39m#  series_generator will swap out the underlying data\u001b[39;00m\n\u001b[1;32m    911\u001b[0m             results[i] \u001b[39m=\u001b[39m results[i]\u001b[39m.\u001b[39mcopy(deep\u001b[39m=\u001b[39m\u001b[39mFalse\u001b[39;00m)\n",
      "Cell \u001b[0;32mIn[81], line 26\u001b[0m, in \u001b[0;36m<lambda>\u001b[0;34m(x)\u001b[0m\n\u001b[1;32m     23\u001b[0m     \u001b[39mexcept\u001b[39;00m \u001b[39mValueError\u001b[39;00m:\n\u001b[1;32m     24\u001b[0m         \u001b[39mreturn\u001b[39;00m \u001b[39m-\u001b[39m\u001b[39m1\u001b[39m\n\u001b[0;32m---> 26\u001b[0m df\u001b[39m.\u001b[39mapply(\u001b[39mlambda\u001b[39;00m x: degrees_of_separation(graph2, x\u001b[39m.\u001b[39;49miso_o, x\u001b[39m.\u001b[39;49miso_d), axis\u001b[39m=\u001b[39m\u001b[39m1\u001b[39m)\n",
      "Cell \u001b[0;32mIn[81], line 5\u001b[0m, in \u001b[0;36mdegrees_of_separation\u001b[0;34m(graph, source_name, target_name)\u001b[0m\n\u001b[1;32m      1\u001b[0m a_series \u001b[39m=\u001b[39m pd\u001b[39m.\u001b[39mSeries(graph2\u001b[39m.\u001b[39mvs[\u001b[39m'\u001b[39m\u001b[39mname\u001b[39m\u001b[39m'\u001b[39m])\n\u001b[1;32m      2\u001b[0m an_index \u001b[39m=\u001b[39m a_series[a_series \u001b[39m==\u001b[39m \u001b[39m'\u001b[39m\u001b[39mAFG\u001b[39m\u001b[39m'\u001b[39m]\u001b[39m.\u001b[39mindex\u001b[39m.\u001b[39mtolist()[\u001b[39m0\u001b[39m]\n\u001b[0;32m----> 5\u001b[0m \u001b[39mdef\u001b[39;00m \u001b[39mdegrees_of_separation\u001b[39m(graph, source_name, target_name):\n\u001b[1;32m      6\u001b[0m \u001b[39m    \u001b[39m\u001b[39m\"\"\"\u001b[39;00m\n\u001b[1;32m      7\u001b[0m \u001b[39m    Returns the number of degrees of separation between two nodes in a graph.\u001b[39;00m\n\u001b[1;32m      8\u001b[0m \u001b[39m    \u001b[39;00m\n\u001b[0;32m   (...)\u001b[0m\n\u001b[1;32m     16\u001b[0m \u001b[39m          Returns None if the nodes are not connected.\u001b[39;00m\n\u001b[1;32m     17\u001b[0m \u001b[39m    \"\"\"\u001b[39;00m\n\u001b[1;32m     18\u001b[0m     \u001b[39mtry\u001b[39;00m:\n",
      "\u001b[0;31mKeyboardInterrupt\u001b[0m: "
     ]
    }
   ],
   "source": [
    "a_series = pd.Series(graph2.vs['name'])\n",
    "an_index = a_series[a_series == 'AFG'].index.tolist()[0]\n",
    "\n",
    "\n",
    "def degrees_of_separation(graph, source_name, target_name):\n",
    "    \"\"\"\n",
    "    Returns the number of degrees of separation between two nodes in a graph.\n",
    "    \n",
    "    Parameters:\n",
    "    graph (igraph.Graph): The graph to compute the degrees of separation in.\n",
    "    source_name (str): The name of the source node.\n",
    "    target_name (str): The name of the target node.\n",
    "    \n",
    "    Returns:\n",
    "    int: The number of degrees of separation between the source and target nodes.\n",
    "          Returns None if the nodes are not connected.\n",
    "    \"\"\"\n",
    "    try:\n",
    "        source_idx = graph.vs.find(name=source_name).index\n",
    "        target_idx = graph.vs.find(name=target_name).index\n",
    "        shortest_path = graph.get_shortest_paths(source_idx, to=target_idx, output=\"vpath\")[0]\n",
    "        return len(shortest_path) - 1\n",
    "    except ValueError:\n",
    "        return -1\n",
    "    \n",
    "df.apply(lambda x: degrees_of_separation(graph2, x.iso_o, x.iso_d), axis=1)"
   ]
  },
  {
   "cell_type": "code",
   "execution_count": 82,
   "metadata": {},
   "outputs": [
    {
     "name": "stderr",
     "output_type": "stream",
     "text": [
      " 12%|█▏        | 4777/38220 [00:01<00:11, 2957.04it/s]/var/folders/hs/1r2tlf751_l1nl8n9l2_wtpw0000gn/T/ipykernel_7981/1375436143.py:21: RuntimeWarning: Couldn't reach some vertices at src/paths/unweighted.c:440\n",
      "  shortest_path = graph.get_shortest_paths(source_idx, to=target_idx, output=\"vpath\")[0]\n",
      " 25%|██▍       | 9554/38220 [00:03<00:11, 2596.13it/s]/var/folders/hs/1r2tlf751_l1nl8n9l2_wtpw0000gn/T/ipykernel_7981/1375436143.py:21: RuntimeWarning: Couldn't reach some vertices at src/paths/unweighted.c:440\n",
      "  shortest_path = graph.get_shortest_paths(source_idx, to=target_idx, output=\"vpath\")[0]\n",
      " 37%|███▋      | 14331/38220 [00:05<00:09, 2637.64it/s]/var/folders/hs/1r2tlf751_l1nl8n9l2_wtpw0000gn/T/ipykernel_7981/1375436143.py:21: RuntimeWarning: Couldn't reach some vertices at src/paths/unweighted.c:440\n",
      "  shortest_path = graph.get_shortest_paths(source_idx, to=target_idx, output=\"vpath\")[0]\n",
      " 50%|████▉     | 19108/38220 [00:07<00:07, 2619.57it/s]/var/folders/hs/1r2tlf751_l1nl8n9l2_wtpw0000gn/T/ipykernel_7981/1375436143.py:21: RuntimeWarning: Couldn't reach some vertices at src/paths/unweighted.c:440\n",
      "  shortest_path = graph.get_shortest_paths(source_idx, to=target_idx, output=\"vpath\")[0]\n",
      " 62%|██████▏   | 23885/38220 [00:09<00:05, 2572.53it/s]/var/folders/hs/1r2tlf751_l1nl8n9l2_wtpw0000gn/T/ipykernel_7981/1375436143.py:21: RuntimeWarning: Couldn't reach some vertices at src/paths/unweighted.c:440\n",
      "  shortest_path = graph.get_shortest_paths(source_idx, to=target_idx, output=\"vpath\")[0]\n",
      " 75%|███████▍  | 28662/38220 [00:11<00:03, 2529.82it/s]/var/folders/hs/1r2tlf751_l1nl8n9l2_wtpw0000gn/T/ipykernel_7981/1375436143.py:21: RuntimeWarning: Couldn't reach some vertices at src/paths/unweighted.c:440\n",
      "  shortest_path = graph.get_shortest_paths(source_idx, to=target_idx, output=\"vpath\")[0]\n",
      " 87%|████████▋ | 33439/38220 [00:12<00:01, 2544.11it/s]/var/folders/hs/1r2tlf751_l1nl8n9l2_wtpw0000gn/T/ipykernel_7981/1375436143.py:21: RuntimeWarning: Couldn't reach some vertices at src/paths/unweighted.c:440\n",
      "  shortest_path = graph.get_shortest_paths(source_idx, to=target_idx, output=\"vpath\")[0]\n",
      "100%|██████████| 38220/38220 [00:14<00:00, 2589.26it/s]\n",
      "/var/folders/hs/1r2tlf751_l1nl8n9l2_wtpw0000gn/T/ipykernel_7981/1375436143.py:21: RuntimeWarning: Couldn't reach some vertices at src/paths/unweighted.c:440\n",
      "  shortest_path = graph.get_shortest_paths(source_idx, to=target_idx, output=\"vpath\")[0]\n"
     ]
    }
   ],
   "source": [
    "from multiprocesspandas import applyparallel\n",
    "\n",
    "df_vis = df.groupby(['iso_o','iso_d'], as_index=False).agg({'newarrival':'sum'})\n",
    "df_vis['degrees_of_separation'] = df.groupby(['iso_o','iso_d'], as_index=False).agg({'newarrival':'sum'}).apply_parallel(lambda x: degrees_of_separation(graph2, x.iso_o, x.iso_d), axis=0)"
   ]
  },
  {
   "cell_type": "code",
   "execution_count": 87,
   "metadata": {},
   "outputs": [
    {
     "name": "stderr",
     "output_type": "stream",
     "text": [
      "/var/folders/hs/1r2tlf751_l1nl8n9l2_wtpw0000gn/T/ipykernel_7981/2499168912.py:1: FutureWarning: The default value of numeric_only in DataFrameGroupBy.sum is deprecated. In a future version, numeric_only will default to False. Either specify numeric_only or select only columns which should be valid for the function.\n",
      "  df_vis.groupby('degrees_of_separation').sum().plot.bar()\n"
     ]
    },
    {
     "data": {
      "text/plain": [
       "<Axes: xlabel='degrees_of_separation'>"
      ]
     },
     "execution_count": 87,
     "metadata": {},
     "output_type": "execute_result"
    },
    {
     "data": {
      "image/png": "[encoded data removed]",
      "text/plain": [
       "<Figure size 640x480 with 1 Axes>"
      ]
     },
     "metadata": {},
     "output_type": "display_data"
    }
   ],
   "source": [
    "df_vis.groupby('degrees_of_separation').sum().plot.bar()"
   ]
  },
  {
   "cell_type": "code",
   "execution_count": 111,
   "metadata": {},
   "outputs": [
    {
     "data": {
      "text/html": [
       "<div>\n",
       "<style scoped>\n",
       "    .dataframe tbody tr th:only-of-type {\n",
       "        vertical-align: middle;\n",
       "    }\n",
       "\n",
       "    .dataframe tbody tr th {\n",
       "        vertical-align: top;\n",
       "    }\n",
       "\n",
       "    .dataframe thead th {\n",
       "        text-align: right;\n",
       "    }\n",
       "</style>\n",
       "<table border=\"1\" class=\"dataframe\">\n",
       "  <thead>\n",
       "    <tr style=\"text-align: right;\">\n",
       "      <th></th>\n",
       "      <th>Country_o</th>\n",
       "      <th>Country_d</th>\n",
       "      <th>contig</th>\n",
       "    </tr>\n",
       "  </thead>\n",
       "  <tbody>\n",
       "    <tr>\n",
       "      <th>196950</th>\n",
       "      <td>Democratic Republic of the Congo</td>\n",
       "      <td>Republic of Congo</td>\n",
       "      <td>0</td>\n",
       "    </tr>\n",
       "    <tr>\n",
       "      <th>200500</th>\n",
       "      <td>Democratic Republic of the Congo</td>\n",
       "      <td>Uganda</td>\n",
       "      <td>0</td>\n",
       "    </tr>\n",
       "    <tr>\n",
       "      <th>785400</th>\n",
       "      <td>South Sudan</td>\n",
       "      <td>Ethiopia</td>\n",
       "      <td>0</td>\n",
       "    </tr>\n",
       "    <tr>\n",
       "      <th>788500</th>\n",
       "      <td>South Sudan</td>\n",
       "      <td>Uganda</td>\n",
       "      <td>0</td>\n",
       "    </tr>\n",
       "    <tr>\n",
       "      <th>817350</th>\n",
       "      <td>Sudan</td>\n",
       "      <td>South Sudan</td>\n",
       "      <td>0</td>\n",
       "    </tr>\n",
       "  </tbody>\n",
       "</table>\n",
       "</div>"
      ],
      "text/plain": [
       "                               Country_o          Country_d  contig\n",
       "196950  Democratic Republic of the Congo  Republic of Congo       0\n",
       "200500  Democratic Republic of the Congo             Uganda       0\n",
       "785400                       South Sudan           Ethiopia       0\n",
       "788500                       South Sudan             Uganda       0\n",
       "817350                             Sudan        South Sudan       0"
      ]
     },
     "execution_count": 111,
     "metadata": {},
     "output_type": "execute_result"
    }
   ],
   "source": [
    "df[df.Id.isin(['CODUGA','SDNSSD', 'SSDETH', 'SSDUGA', 'CODCOG'])].drop_duplicates('Id')[['Country_o','Country_d','contig']]"
   ]
  },
  {
   "cell_type": "code",
   "execution_count": 116,
   "metadata": {},
   "outputs": [
    {
     "data": {
      "text/html": [
       "<div>\n",
       "<style scoped>\n",
       "    .dataframe tbody tr th:only-of-type {\n",
       "        vertical-align: middle;\n",
       "    }\n",
       "\n",
       "    .dataframe tbody tr th {\n",
       "        vertical-align: top;\n",
       "    }\n",
       "\n",
       "    .dataframe thead th {\n",
       "        text-align: right;\n",
       "    }\n",
       "</style>\n",
       "<table border=\"1\" class=\"dataframe\">\n",
       "  <thead>\n",
       "    <tr style=\"text-align: right;\">\n",
       "      <th></th>\n",
       "      <th>iso_o</th>\n",
       "      <th>iso_d</th>\n",
       "      <th>newarrival</th>\n",
       "      <th>degrees_of_separation</th>\n",
       "    </tr>\n",
       "  </thead>\n",
       "  <tbody>\n",
       "    <tr>\n",
       "      <th>5690</th>\n",
       "      <td>CAF</td>\n",
       "      <td>COD</td>\n",
       "      <td>275622.0</td>\n",
       "      <td>-1</td>\n",
       "    </tr>\n",
       "    <tr>\n",
       "      <th>6617</th>\n",
       "      <td>CHN</td>\n",
       "      <td>USA</td>\n",
       "      <td>346410.0</td>\n",
       "      <td>-1</td>\n",
       "    </tr>\n",
       "    <tr>\n",
       "      <th>7056</th>\n",
       "      <td>COD</td>\n",
       "      <td>COG</td>\n",
       "      <td>222132.0</td>\n",
       "      <td>-1</td>\n",
       "    </tr>\n",
       "    <tr>\n",
       "      <th>7199</th>\n",
       "      <td>COD</td>\n",
       "      <td>UGA</td>\n",
       "      <td>592157.0</td>\n",
       "      <td>-1</td>\n",
       "    </tr>\n",
       "    <tr>\n",
       "      <th>29212</th>\n",
       "      <td>SDN</td>\n",
       "      <td>SSD</td>\n",
       "      <td>281274.0</td>\n",
       "      <td>-1</td>\n",
       "    </tr>\n",
       "    <tr>\n",
       "      <th>30865</th>\n",
       "      <td>SSD</td>\n",
       "      <td>ETH</td>\n",
       "      <td>454812.0</td>\n",
       "      <td>-1</td>\n",
       "    </tr>\n",
       "    <tr>\n",
       "      <th>30959</th>\n",
       "      <td>SSD</td>\n",
       "      <td>SDN</td>\n",
       "      <td>1001279.0</td>\n",
       "      <td>-1</td>\n",
       "    </tr>\n",
       "    <tr>\n",
       "      <th>30989</th>\n",
       "      <td>SSD</td>\n",
       "      <td>UGA</td>\n",
       "      <td>1205472.0</td>\n",
       "      <td>-1</td>\n",
       "    </tr>\n",
       "  </tbody>\n",
       "</table>\n",
       "</div>"
      ],
      "text/plain": [
       "      iso_o iso_d  newarrival  degrees_of_separation\n",
       "5690    CAF   COD    275622.0                     -1\n",
       "6617    CHN   USA    346410.0                     -1\n",
       "7056    COD   COG    222132.0                     -1\n",
       "7199    COD   UGA    592157.0                     -1\n",
       "29212   SDN   SSD    281274.0                     -1\n",
       "30865   SSD   ETH    454812.0                     -1\n",
       "30959   SSD   SDN   1001279.0                     -1\n",
       "30989   SSD   UGA   1205472.0                     -1"
      ]
     },
     "execution_count": 116,
     "metadata": {},
     "output_type": "execute_result"
    }
   ],
   "source": [
    "df_vis[(df_vis.degrees_of_separation == -1) & (df_vis.newarrival > 200000)]"
   ]
  },
  {
   "cell_type": "code",
   "execution_count": 94,
   "metadata": {},
   "outputs": [
    {
     "data": {
      "text/plain": [
       "-1"
      ]
     },
     "execution_count": 94,
     "metadata": {},
     "output_type": "execute_result"
    }
   ],
   "source": [
    "degrees_of_separation(graph2, 'SSD','SDN')"
   ]
  },
  {
   "cell_type": "code",
   "execution_count": 107,
   "metadata": {},
   "outputs": [
    {
     "data": {
      "text/html": [
       "<div>\n",
       "<style scoped>\n",
       "    .dataframe tbody tr th:only-of-type {\n",
       "        vertical-align: middle;\n",
       "    }\n",
       "\n",
       "    .dataframe tbody tr th {\n",
       "        vertical-align: top;\n",
       "    }\n",
       "\n",
       "    .dataframe thead th {\n",
       "        text-align: right;\n",
       "    }\n",
       "</style>\n",
       "<table border=\"1\" class=\"dataframe\">\n",
       "  <thead>\n",
       "    <tr style=\"text-align: right;\">\n",
       "      <th></th>\n",
       "      <th>iso_o</th>\n",
       "      <th>iso_d</th>\n",
       "      <th>contig</th>\n",
       "    </tr>\n",
       "  </thead>\n",
       "  <tbody>\n",
       "    <tr>\n",
       "      <th>788075</th>\n",
       "      <td>SSD</td>\n",
       "      <td>SDN</td>\n",
       "      <td>0</td>\n",
       "    </tr>\n",
       "  </tbody>\n",
       "</table>\n",
       "</div>"
      ],
      "text/plain": [
       "       iso_o iso_d  contig\n",
       "788075   SSD   SDN       0"
      ]
     },
     "execution_count": 107,
     "metadata": {},
     "output_type": "execute_result"
    }
   ],
   "source": [
    "df[df.Id == 'SSDSDN'].drop_duplicates(['iso_o','iso_d'])[['iso_o','iso_d','contig']]"
   ]
  },
  {
   "cell_type": "code",
   "execution_count": 95,
   "metadata": {},
   "outputs": [
    {
     "ename": "ValueError",
     "evalue": "no such vertex: 'SSD'",
     "output_type": "error",
     "traceback": [
      "\u001b[0;31m---------------------------------------------------------------------------\u001b[0m",
      "\u001b[0;31mValueError\u001b[0m                                Traceback (most recent call last)",
      "Cell \u001b[0;32mIn[95], line 1\u001b[0m\n\u001b[0;32m----> 1\u001b[0m source_idx \u001b[39m=\u001b[39m graph2\u001b[39m.\u001b[39;49mvs\u001b[39m.\u001b[39;49mfind(name\u001b[39m=\u001b[39;49m\u001b[39m'\u001b[39;49m\u001b[39mSSD\u001b[39;49m\u001b[39m'\u001b[39;49m)\u001b[39m.\u001b[39mindex\n\u001b[1;32m      2\u001b[0m target_idx \u001b[39m=\u001b[39m graph2\u001b[39m.\u001b[39mvs\u001b[39m.\u001b[39mfind(name\u001b[39m=\u001b[39m\u001b[39m'\u001b[39m\u001b[39mSDN\u001b[39m\u001b[39m'\u001b[39m)\u001b[39m.\u001b[39mindex\n\u001b[1;32m      3\u001b[0m shortest_path \u001b[39m=\u001b[39m graph2\u001b[39m.\u001b[39mget_shortest_paths(source_idx, to\u001b[39m=\u001b[39mtarget_idx, output\u001b[39m=\u001b[39m\u001b[39m\"\u001b[39m\u001b[39mvpath\u001b[39m\u001b[39m\"\u001b[39m)[\u001b[39m0\u001b[39m]\n",
      "File \u001b[0;32m~/opt/anaconda3/envs/refugees/lib/python3.11/site-packages/igraph/seq.py:119\u001b[0m, in \u001b[0;36mVertexSeq.find\u001b[0;34m(self, *args, **kwds)\u001b[0m\n\u001b[1;32m    114\u001b[0m             kwds[\u001b[39m\"\u001b[39m\u001b[39mname\u001b[39m\u001b[39m\"\u001b[39m] \u001b[39m=\u001b[39m name\n\u001b[1;32m    116\u001b[0m \u001b[39mif\u001b[39;00m args:\n\u001b[1;32m    117\u001b[0m     \u001b[39m# Selecting first based on positional arguments, then checking\u001b[39;00m\n\u001b[1;32m    118\u001b[0m     \u001b[39m# the criteria specified by the (remaining) keyword arguments\u001b[39;00m\n\u001b[0;32m--> 119\u001b[0m     vertex \u001b[39m=\u001b[39m _VertexSeq\u001b[39m.\u001b[39;49mfind(\u001b[39mself\u001b[39;49m, \u001b[39m*\u001b[39;49margs)\n\u001b[1;32m    120\u001b[0m     \u001b[39mif\u001b[39;00m \u001b[39mnot\u001b[39;00m kwds:\n\u001b[1;32m    121\u001b[0m         \u001b[39mreturn\u001b[39;00m vertex\n",
      "\u001b[0;31mValueError\u001b[0m: no such vertex: 'SSD'"
     ]
    }
   ],
   "source": [
    "source_idx = graph2.vs.find(name='SSD').index\n",
    "target_idx = graph2.vs.find(name='SDN').index\n",
    "shortest_path = graph2.get_shortest_paths(source_idx, to=target_idx, output=\"vpath\")[0]"
   ]
  },
  {
   "cell_type": "code",
   "execution_count": 42,
   "metadata": {},
   "outputs": [
    {
     "data": {
      "text/plain": [
       "Index(['ABW', 'ABW', 'ABW', 'ABW', 'ABW', 'ABW', 'ABW', 'ABW', 'ABW', 'ABW',\n",
       "       ...\n",
       "       'ZWE', 'ZWE', 'ZWE', 'ZWE', 'ZWE', 'ZWE', 'ZWE', 'ZWE', 'ZWE', 'ZWE'],\n",
       "      dtype='object', name='iso_o', length=4900)"
      ]
     },
     "execution_count": 42,
     "metadata": {},
     "output_type": "execute_result"
    }
   ],
   "source": [
    "multi.index.get_level_values(0)"
   ]
  },
  {
   "cell_type": "code",
   "execution_count": 36,
   "metadata": {},
   "outputs": [
    {
     "data": {
      "text/plain": [
       "0      False\n",
       "1      False\n",
       "2      False\n",
       "3      False\n",
       "4      False\n",
       "       ...  \n",
       "191    False\n",
       "192    False\n",
       "193    False\n",
       "194    False\n",
       "195    False\n",
       "Name: iso_o, Length: 196, dtype: bool"
      ]
     },
     "execution_count": 36,
     "metadata": {},
     "output_type": "execute_result"
    }
   ],
   "source": [
    "multi = df.groupby(['iso_o','year']).agg({'newarrival':'sum'})\n",
    "pd.Series(multi.index.get[0]) == 'VEN'"
   ]
  },
  {
   "cell_type": "code",
   "execution_count": 45,
   "metadata": {},
   "outputs": [
    {
     "name": "stdout",
     "output_type": "stream",
     "text": [
      "0\n"
     ]
    },
    {
     "data": {
      "text/html": [
       "<div>\n",
       "<style scoped>\n",
       "    .dataframe tbody tr th:only-of-type {\n",
       "        vertical-align: middle;\n",
       "    }\n",
       "\n",
       "    .dataframe tbody tr th {\n",
       "        vertical-align: top;\n",
       "    }\n",
       "\n",
       "    .dataframe thead th {\n",
       "        text-align: right;\n",
       "    }\n",
       "</style>\n",
       "<table border=\"1\" class=\"dataframe\">\n",
       "  <thead>\n",
       "    <tr style=\"text-align: right;\">\n",
       "      <th></th>\n",
       "      <th></th>\n",
       "      <th>newarrival</th>\n",
       "    </tr>\n",
       "    <tr>\n",
       "      <th>iso_o</th>\n",
       "      <th>year</th>\n",
       "      <th></th>\n",
       "    </tr>\n",
       "  </thead>\n",
       "  <tbody>\n",
       "    <tr>\n",
       "      <th rowspan=\"25\" valign=\"top\">VEN</th>\n",
       "      <th>2000</th>\n",
       "      <td>172.0</td>\n",
       "    </tr>\n",
       "    <tr>\n",
       "      <th>2001</th>\n",
       "      <td>406.0</td>\n",
       "    </tr>\n",
       "    <tr>\n",
       "      <th>2002</th>\n",
       "      <td>937.0</td>\n",
       "    </tr>\n",
       "    <tr>\n",
       "      <th>2003</th>\n",
       "      <td>2651.0</td>\n",
       "    </tr>\n",
       "    <tr>\n",
       "      <th>2004</th>\n",
       "      <td>2482.0</td>\n",
       "    </tr>\n",
       "    <tr>\n",
       "      <th>2005</th>\n",
       "      <td>1880.0</td>\n",
       "    </tr>\n",
       "    <tr>\n",
       "      <th>2006</th>\n",
       "      <td>1482.0</td>\n",
       "    </tr>\n",
       "    <tr>\n",
       "      <th>2007</th>\n",
       "      <td>1209.0</td>\n",
       "    </tr>\n",
       "    <tr>\n",
       "      <th>2008</th>\n",
       "      <td>1282.0</td>\n",
       "    </tr>\n",
       "    <tr>\n",
       "      <th>2009</th>\n",
       "      <td>903.0</td>\n",
       "    </tr>\n",
       "    <tr>\n",
       "      <th>2010</th>\n",
       "      <td>1002.0</td>\n",
       "    </tr>\n",
       "    <tr>\n",
       "      <th>2011</th>\n",
       "      <td>1222.0</td>\n",
       "    </tr>\n",
       "    <tr>\n",
       "      <th>2012</th>\n",
       "      <td>912.0</td>\n",
       "    </tr>\n",
       "    <tr>\n",
       "      <th>2013</th>\n",
       "      <td>1435.0</td>\n",
       "    </tr>\n",
       "    <tr>\n",
       "      <th>2014</th>\n",
       "      <td>5304.0</td>\n",
       "    </tr>\n",
       "    <tr>\n",
       "      <th>2015</th>\n",
       "      <td>13201.0</td>\n",
       "    </tr>\n",
       "    <tr>\n",
       "      <th>2016</th>\n",
       "      <td>42492.0</td>\n",
       "    </tr>\n",
       "    <tr>\n",
       "      <th>2017</th>\n",
       "      <td>125916.0</td>\n",
       "    </tr>\n",
       "    <tr>\n",
       "      <th>2018</th>\n",
       "      <td>2508056.5</td>\n",
       "    </tr>\n",
       "    <tr>\n",
       "      <th>2019</th>\n",
       "      <td>1524435.0</td>\n",
       "    </tr>\n",
       "    <tr>\n",
       "      <th>2020</th>\n",
       "      <td>572356.0</td>\n",
       "    </tr>\n",
       "    <tr>\n",
       "      <th>2021</th>\n",
       "      <td>664573.0</td>\n",
       "    </tr>\n",
       "    <tr>\n",
       "      <th>2022</th>\n",
       "      <td>0.0</td>\n",
       "    </tr>\n",
       "    <tr>\n",
       "      <th>2023</th>\n",
       "      <td>0.0</td>\n",
       "    </tr>\n",
       "    <tr>\n",
       "      <th>2024</th>\n",
       "      <td>0.0</td>\n",
       "    </tr>\n",
       "  </tbody>\n",
       "</table>\n",
       "</div>"
      ],
      "text/plain": [
       "            newarrival\n",
       "iso_o year            \n",
       "VEN   2000       172.0\n",
       "      2001       406.0\n",
       "      2002       937.0\n",
       "      2003      2651.0\n",
       "      2004      2482.0\n",
       "      2005      1880.0\n",
       "      2006      1482.0\n",
       "      2007      1209.0\n",
       "      2008      1282.0\n",
       "      2009       903.0\n",
       "      2010      1002.0\n",
       "      2011      1222.0\n",
       "      2012       912.0\n",
       "      2013      1435.0\n",
       "      2014      5304.0\n",
       "      2015     13201.0\n",
       "      2016     42492.0\n",
       "      2017    125916.0\n",
       "      2018   2508056.5\n",
       "      2019   1524435.0\n",
       "      2020    572356.0\n",
       "      2021    664573.0\n",
       "      2022         0.0\n",
       "      2023         0.0\n",
       "      2024         0.0"
      ]
     },
     "execution_count": 45,
     "metadata": {},
     "output_type": "execute_result"
    }
   ],
   "source": [
    "def multilevel_filter(df, col, val):\n",
    "    col_index= pd.Series(multi.index.names)[pd.Series(multi.index.names) == col].index[0]\n",
    "    bool_series = df.index.get_level_values(col_index) == val\n",
    "    return df[bool_series]\n",
    "\n",
    "\n",
    "multilevel_filter(multi, 'iso_o','VEN')"
   ]
  },
  {
   "cell_type": "code",
   "execution_count": 132,
   "metadata": {},
   "outputs": [
    {
     "data": {
      "text/plain": [
       "<Axes: xlabel='year'>"
      ]
     },
     "execution_count": 132,
     "metadata": {},
     "output_type": "execute_result"
    },
    {
     "data": {
      "image/png": "[encoded data removed]",
      "text/plain": [
       "<Figure size 640x480 with 1 Axes>"
      ]
     },
     "metadata": {},
     "output_type": "display_data"
    }
   ],
   "source": [
    "df[(df.Country_o=='Syria') & (df.Country_d == 'Türkiye')].groupby('year').agg({'newarrival':'sum'}).plot.bar()"
   ]
  },
  {
   "cell_type": "code",
   "execution_count": 89,
   "metadata": {},
   "outputs": [
    {
     "data": {
      "text/plain": [
       "<Axes: xlabel='year,Country_d'>"
      ]
     },
     "execution_count": 89,
     "metadata": {},
     "output_type": "execute_result"
    },
    {
     "data": {
      "image/png": "[encoded data removed]",
      "text/plain": [
       "<Figure size 640x480 with 1 Axes>"
      ]
     },
     "metadata": {},
     "output_type": "display_data"
    }
   ],
   "source": [
    "df[(df.Country_o=='Myanmar')  & (df.newarrival > 50000)].groupby(['year','Country_d']).agg({'newarrival':'sum'}).plot.bar()"
   ]
  },
  {
   "cell_type": "code",
   "execution_count": 119,
   "metadata": {},
   "outputs": [
    {
     "data": {
      "text/html": [
       "<div>\n",
       "<style scoped>\n",
       "    .dataframe tbody tr th:only-of-type {\n",
       "        vertical-align: middle;\n",
       "    }\n",
       "\n",
       "    .dataframe tbody tr th {\n",
       "        vertical-align: top;\n",
       "    }\n",
       "\n",
       "    .dataframe thead th {\n",
       "        text-align: right;\n",
       "    }\n",
       "</style>\n",
       "<table border=\"1\" class=\"dataframe\">\n",
       "  <thead>\n",
       "    <tr style=\"text-align: right;\">\n",
       "      <th></th>\n",
       "      <th>iso_o</th>\n",
       "      <th>iso_d</th>\n",
       "      <th>year</th>\n",
       "      <th>newarrival</th>\n",
       "    </tr>\n",
       "  </thead>\n",
       "  <tbody>\n",
       "    <tr>\n",
       "      <th>16</th>\n",
       "      <td>AFG</td>\n",
       "      <td>ALB</td>\n",
       "      <td>2016</td>\n",
       "      <td>64.0</td>\n",
       "    </tr>\n",
       "    <tr>\n",
       "      <th>17</th>\n",
       "      <td>AFG</td>\n",
       "      <td>ALB</td>\n",
       "      <td>2017</td>\n",
       "      <td>29.0</td>\n",
       "    </tr>\n",
       "    <tr>\n",
       "      <th>18</th>\n",
       "      <td>AFG</td>\n",
       "      <td>ALB</td>\n",
       "      <td>2018</td>\n",
       "      <td>36.0</td>\n",
       "    </tr>\n",
       "    <tr>\n",
       "      <th>225</th>\n",
       "      <td>AFG</td>\n",
       "      <td>AUS</td>\n",
       "      <td>2000</td>\n",
       "      <td>1326.0</td>\n",
       "    </tr>\n",
       "    <tr>\n",
       "      <th>226</th>\n",
       "      <td>AFG</td>\n",
       "      <td>AUS</td>\n",
       "      <td>2001</td>\n",
       "      <td>2161.0</td>\n",
       "    </tr>\n",
       "    <tr>\n",
       "      <th>...</th>\n",
       "      <td>...</td>\n",
       "      <td>...</td>\n",
       "      <td>...</td>\n",
       "      <td>...</td>\n",
       "    </tr>\n",
       "    <tr>\n",
       "      <th>960617</th>\n",
       "      <td>ZWE</td>\n",
       "      <td>AUS</td>\n",
       "      <td>2017</td>\n",
       "      <td>51.0</td>\n",
       "    </tr>\n",
       "    <tr>\n",
       "      <th>960618</th>\n",
       "      <td>ZWE</td>\n",
       "      <td>AUS</td>\n",
       "      <td>2018</td>\n",
       "      <td>24.0</td>\n",
       "    </tr>\n",
       "    <tr>\n",
       "      <th>960619</th>\n",
       "      <td>ZWE</td>\n",
       "      <td>AUS</td>\n",
       "      <td>2019</td>\n",
       "      <td>55.0</td>\n",
       "    </tr>\n",
       "    <tr>\n",
       "      <th>960620</th>\n",
       "      <td>ZWE</td>\n",
       "      <td>AUS</td>\n",
       "      <td>2020</td>\n",
       "      <td>36.0</td>\n",
       "    </tr>\n",
       "    <tr>\n",
       "      <th>960971</th>\n",
       "      <td>ZWE</td>\n",
       "      <td>BWA</td>\n",
       "      <td>2021</td>\n",
       "      <td>177.0</td>\n",
       "    </tr>\n",
       "  </tbody>\n",
       "</table>\n",
       "<p>3313 rows × 4 columns</p>\n",
       "</div>"
      ],
      "text/plain": [
       "       iso_o iso_d  year  newarrival\n",
       "16       AFG   ALB  2016        64.0\n",
       "17       AFG   ALB  2017        29.0\n",
       "18       AFG   ALB  2018        36.0\n",
       "225      AFG   AUS  2000      1326.0\n",
       "226      AFG   AUS  2001      2161.0\n",
       "...      ...   ...   ...         ...\n",
       "960617   ZWE   AUS  2017        51.0\n",
       "960618   ZWE   AUS  2018        24.0\n",
       "960619   ZWE   AUS  2019        55.0\n",
       "960620   ZWE   AUS  2020        36.0\n",
       "960971   ZWE   BWA  2021       177.0\n",
       "\n",
       "[3313 rows x 4 columns]"
      ]
     },
     "execution_count": 119,
     "metadata": {},
     "output_type": "execute_result"
    }
   ],
   "source": [
    "df[df.newarrival > 10].drop_duplicates(subset=['Country_o','year'])[['iso_o',\t'iso_d',\t'year', 'newarrival']]"
   ]
  },
  {
   "cell_type": "code",
   "execution_count": 145,
   "metadata": {},
   "outputs": [
    {
     "data": {
      "text/html": [
       "<div>\n",
       "<style scoped>\n",
       "    .dataframe tbody tr th:only-of-type {\n",
       "        vertical-align: middle;\n",
       "    }\n",
       "\n",
       "    .dataframe tbody tr th {\n",
       "        vertical-align: top;\n",
       "    }\n",
       "\n",
       "    .dataframe thead th {\n",
       "        text-align: right;\n",
       "    }\n",
       "</style>\n",
       "<table border=\"1\" class=\"dataframe\">\n",
       "  <thead>\n",
       "    <tr style=\"text-align: right;\">\n",
       "      <th></th>\n",
       "      <th>iso_o</th>\n",
       "      <th>iso_d</th>\n",
       "      <th>year</th>\n",
       "      <th>pop_o</th>\n",
       "      <th>CPI_o</th>\n",
       "      <th>GDP_PP_o</th>\n",
       "      <th>Country_o</th>\n",
       "      <th>GDP_PPP_o</th>\n",
       "      <th>island_o</th>\n",
       "      <th>area_o</th>\n",
       "      <th>...</th>\n",
       "      <th>index0asylum</th>\n",
       "      <th>Id</th>\n",
       "      <th>contig</th>\n",
       "      <th>comlang_off</th>\n",
       "      <th>comlang_ethno</th>\n",
       "      <th>colony</th>\n",
       "      <th>comcol</th>\n",
       "      <th>col45</th>\n",
       "      <th>smctry</th>\n",
       "      <th>dist</th>\n",
       "    </tr>\n",
       "  </thead>\n",
       "  <tbody>\n",
       "    <tr>\n",
       "      <th>629266</th>\n",
       "      <td>NGA</td>\n",
       "      <td>ITA</td>\n",
       "      <td>2016</td>\n",
       "      <td>185.960</td>\n",
       "      <td>18.546</td>\n",
       "      <td>5284.90</td>\n",
       "      <td>Nigeria</td>\n",
       "      <td>0.838</td>\n",
       "      <td>0</td>\n",
       "      <td>923768.0</td>\n",
       "      <td>...</td>\n",
       "      <td>0</td>\n",
       "      <td>NGAITA</td>\n",
       "      <td>0</td>\n",
       "      <td>0</td>\n",
       "      <td>0</td>\n",
       "      <td>0</td>\n",
       "      <td>0</td>\n",
       "      <td>0</td>\n",
       "      <td>0</td>\n",
       "      <td>4043.532959</td>\n",
       "    </tr>\n",
       "    <tr>\n",
       "      <th>629267</th>\n",
       "      <td>NGA</td>\n",
       "      <td>ITA</td>\n",
       "      <td>2017</td>\n",
       "      <td>190.873</td>\n",
       "      <td>15.368</td>\n",
       "      <td>5190.36</td>\n",
       "      <td>Nigeria</td>\n",
       "      <td>0.810</td>\n",
       "      <td>0</td>\n",
       "      <td>923768.0</td>\n",
       "      <td>...</td>\n",
       "      <td>0</td>\n",
       "      <td>NGAITA</td>\n",
       "      <td>0</td>\n",
       "      <td>0</td>\n",
       "      <td>0</td>\n",
       "      <td>0</td>\n",
       "      <td>0</td>\n",
       "      <td>0</td>\n",
       "      <td>0</td>\n",
       "      <td>4043.532959</td>\n",
       "    </tr>\n",
       "    <tr>\n",
       "      <th>629265</th>\n",
       "      <td>NGA</td>\n",
       "      <td>ITA</td>\n",
       "      <td>2015</td>\n",
       "      <td>181.137</td>\n",
       "      <td>9.554</td>\n",
       "      <td>5514.78</td>\n",
       "      <td>Nigeria</td>\n",
       "      <td>0.879</td>\n",
       "      <td>0</td>\n",
       "      <td>923768.0</td>\n",
       "      <td>...</td>\n",
       "      <td>0</td>\n",
       "      <td>NGAITA</td>\n",
       "      <td>0</td>\n",
       "      <td>0</td>\n",
       "      <td>0</td>\n",
       "      <td>0</td>\n",
       "      <td>0</td>\n",
       "      <td>0</td>\n",
       "      <td>0</td>\n",
       "      <td>4043.532959</td>\n",
       "    </tr>\n",
       "    <tr>\n",
       "      <th>648866</th>\n",
       "      <td>PAK</td>\n",
       "      <td>ITA</td>\n",
       "      <td>2016</td>\n",
       "      <td>200.190</td>\n",
       "      <td>3.191</td>\n",
       "      <td>5054.38</td>\n",
       "      <td>Pakistan</td>\n",
       "      <td>0.870</td>\n",
       "      <td>0</td>\n",
       "      <td>882872.0</td>\n",
       "      <td>...</td>\n",
       "      <td>0</td>\n",
       "      <td>PAKITA</td>\n",
       "      <td>0</td>\n",
       "      <td>0</td>\n",
       "      <td>0</td>\n",
       "      <td>0</td>\n",
       "      <td>0</td>\n",
       "      <td>0</td>\n",
       "      <td>0</td>\n",
       "      <td>5300.738281</td>\n",
       "    </tr>\n",
       "    <tr>\n",
       "      <th>75542</th>\n",
       "      <td>BGD</td>\n",
       "      <td>ITA</td>\n",
       "      <td>2017</td>\n",
       "      <td>159.671</td>\n",
       "      <td>5.944</td>\n",
       "      <td>5226.65</td>\n",
       "      <td>Bangladesh</td>\n",
       "      <td>0.682</td>\n",
       "      <td>0</td>\n",
       "      <td>143998.0</td>\n",
       "      <td>...</td>\n",
       "      <td>0</td>\n",
       "      <td>BGDITA</td>\n",
       "      <td>0</td>\n",
       "      <td>0</td>\n",
       "      <td>0</td>\n",
       "      <td>0</td>\n",
       "      <td>0</td>\n",
       "      <td>0</td>\n",
       "      <td>0</td>\n",
       "      <td>7311.513672</td>\n",
       "    </tr>\n",
       "    <tr>\n",
       "      <th>...</th>\n",
       "      <td>...</td>\n",
       "      <td>...</td>\n",
       "      <td>...</td>\n",
       "      <td>...</td>\n",
       "      <td>...</td>\n",
       "      <td>...</td>\n",
       "      <td>...</td>\n",
       "      <td>...</td>\n",
       "      <td>...</td>\n",
       "      <td>...</td>\n",
       "      <td>...</td>\n",
       "      <td>...</td>\n",
       "      <td>...</td>\n",
       "      <td>...</td>\n",
       "      <td>...</td>\n",
       "      <td>...</td>\n",
       "      <td>...</td>\n",
       "      <td>...</td>\n",
       "      <td>...</td>\n",
       "      <td>...</td>\n",
       "      <td>...</td>\n",
       "    </tr>\n",
       "    <tr>\n",
       "      <th>496969</th>\n",
       "      <td>LTU</td>\n",
       "      <td>ITA</td>\n",
       "      <td>2019</td>\n",
       "      <td>2.794</td>\n",
       "      <td>2.730</td>\n",
       "      <td>37237.46</td>\n",
       "      <td>Lithuania</td>\n",
       "      <td>0.080</td>\n",
       "      <td>0</td>\n",
       "      <td>65300.0</td>\n",
       "      <td>...</td>\n",
       "      <td>0</td>\n",
       "      <td>LTUITA</td>\n",
       "      <td>0</td>\n",
       "      <td>0</td>\n",
       "      <td>0</td>\n",
       "      <td>0</td>\n",
       "      <td>0</td>\n",
       "      <td>0</td>\n",
       "      <td>0</td>\n",
       "      <td>1706.050537</td>\n",
       "    </tr>\n",
       "    <tr>\n",
       "      <th>496970</th>\n",
       "      <td>LTU</td>\n",
       "      <td>ITA</td>\n",
       "      <td>2020</td>\n",
       "      <td>2.795</td>\n",
       "      <td>-0.072</td>\n",
       "      <td>37178.19</td>\n",
       "      <td>Lithuania</td>\n",
       "      <td>0.082</td>\n",
       "      <td>0</td>\n",
       "      <td>65300.0</td>\n",
       "      <td>...</td>\n",
       "      <td>0</td>\n",
       "      <td>LTUITA</td>\n",
       "      <td>0</td>\n",
       "      <td>0</td>\n",
       "      <td>0</td>\n",
       "      <td>0</td>\n",
       "      <td>0</td>\n",
       "      <td>0</td>\n",
       "      <td>0</td>\n",
       "      <td>1706.050537</td>\n",
       "    </tr>\n",
       "    <tr>\n",
       "      <th>496971</th>\n",
       "      <td>LTU</td>\n",
       "      <td>ITA</td>\n",
       "      <td>2021</td>\n",
       "      <td>2.803</td>\n",
       "      <td>10.702</td>\n",
       "      <td>38927.30</td>\n",
       "      <td>Lithuania</td>\n",
       "      <td>0.082</td>\n",
       "      <td>0</td>\n",
       "      <td>65300.0</td>\n",
       "      <td>...</td>\n",
       "      <td>0</td>\n",
       "      <td>LTUITA</td>\n",
       "      <td>0</td>\n",
       "      <td>0</td>\n",
       "      <td>0</td>\n",
       "      <td>0</td>\n",
       "      <td>0</td>\n",
       "      <td>0</td>\n",
       "      <td>0</td>\n",
       "      <td>1706.050537</td>\n",
       "    </tr>\n",
       "    <tr>\n",
       "      <th>496972</th>\n",
       "      <td>LTU</td>\n",
       "      <td>ITA</td>\n",
       "      <td>2022</td>\n",
       "      <td>2.831</td>\n",
       "      <td>16.479</td>\n",
       "      <td>39227.17</td>\n",
       "      <td>Lithuania</td>\n",
       "      <td>0.081</td>\n",
       "      <td>0</td>\n",
       "      <td>65300.0</td>\n",
       "      <td>...</td>\n",
       "      <td>0</td>\n",
       "      <td>LTUITA</td>\n",
       "      <td>0</td>\n",
       "      <td>0</td>\n",
       "      <td>0</td>\n",
       "      <td>0</td>\n",
       "      <td>0</td>\n",
       "      <td>0</td>\n",
       "      <td>0</td>\n",
       "      <td>1706.050537</td>\n",
       "    </tr>\n",
       "    <tr>\n",
       "      <th>962474</th>\n",
       "      <td>ZWE</td>\n",
       "      <td>ITA</td>\n",
       "      <td>2024</td>\n",
       "      <td>16.481</td>\n",
       "      <td>50.000</td>\n",
       "      <td>2204.86</td>\n",
       "      <td>Zimbabwe</td>\n",
       "      <td>0.025</td>\n",
       "      <td>0</td>\n",
       "      <td>390759.0</td>\n",
       "      <td>...</td>\n",
       "      <td>0</td>\n",
       "      <td>ZWEITA</td>\n",
       "      <td>0</td>\n",
       "      <td>0</td>\n",
       "      <td>0</td>\n",
       "      <td>0</td>\n",
       "      <td>0</td>\n",
       "      <td>0</td>\n",
       "      <td>0</td>\n",
       "      <td>6915.104004</td>\n",
       "    </tr>\n",
       "  </tbody>\n",
       "</table>\n",
       "<p>4875 rows × 48 columns</p>\n",
       "</div>"
      ],
      "text/plain": [
       "       iso_o iso_d  year    pop_o   CPI_o  GDP_PP_o   Country_o  GDP_PPP_o  \\\n",
       "629266   NGA   ITA  2016  185.960  18.546   5284.90     Nigeria      0.838   \n",
       "629267   NGA   ITA  2017  190.873  15.368   5190.36     Nigeria      0.810   \n",
       "629265   NGA   ITA  2015  181.137   9.554   5514.78     Nigeria      0.879   \n",
       "648866   PAK   ITA  2016  200.190   3.191   5054.38    Pakistan      0.870   \n",
       "75542    BGD   ITA  2017  159.671   5.944   5226.65  Bangladesh      0.682   \n",
       "...      ...   ...   ...      ...     ...       ...         ...        ...   \n",
       "496969   LTU   ITA  2019    2.794   2.730  37237.46   Lithuania      0.080   \n",
       "496970   LTU   ITA  2020    2.795  -0.072  37178.19   Lithuania      0.082   \n",
       "496971   LTU   ITA  2021    2.803  10.702  38927.30   Lithuania      0.082   \n",
       "496972   LTU   ITA  2022    2.831  16.479  39227.17   Lithuania      0.081   \n",
       "962474   ZWE   ITA  2024   16.481  50.000   2204.86    Zimbabwe      0.025   \n",
       "\n",
       "        island_o    area_o  ...  index0asylum      Id  contig  comlang_off  \\\n",
       "629266         0  923768.0  ...             0  NGAITA       0            0   \n",
       "629267         0  923768.0  ...             0  NGAITA       0            0   \n",
       "629265         0  923768.0  ...             0  NGAITA       0            0   \n",
       "648866         0  882872.0  ...             0  PAKITA       0            0   \n",
       "75542          0  143998.0  ...             0  BGDITA       0            0   \n",
       "...          ...       ...  ...           ...     ...     ...          ...   \n",
       "496969         0   65300.0  ...             0  LTUITA       0            0   \n",
       "496970         0   65300.0  ...             0  LTUITA       0            0   \n",
       "496971         0   65300.0  ...             0  LTUITA       0            0   \n",
       "496972         0   65300.0  ...             0  LTUITA       0            0   \n",
       "962474         0  390759.0  ...             0  ZWEITA       0            0   \n",
       "\n",
       "        comlang_ethno  colony  comcol  col45  smctry         dist  \n",
       "629266              0       0       0      0       0  4043.532959  \n",
       "629267              0       0       0      0       0  4043.532959  \n",
       "629265              0       0       0      0       0  4043.532959  \n",
       "648866              0       0       0      0       0  5300.738281  \n",
       "75542               0       0       0      0       0  7311.513672  \n",
       "...               ...     ...     ...    ...     ...          ...  \n",
       "496969              0       0       0      0       0  1706.050537  \n",
       "496970              0       0       0      0       0  1706.050537  \n",
       "496971              0       0       0      0       0  1706.050537  \n",
       "496972              0       0       0      0       0  1706.050537  \n",
       "962474              0       0       0      0       0  6915.104004  \n",
       "\n",
       "[4875 rows x 48 columns]"
      ]
     },
     "execution_count": 145,
     "metadata": {},
     "output_type": "execute_result"
    }
   ],
   "source": [
    "df[df.Country_d == 'Italy'].sort_values(by='newarrival', ascending=False)"
   ]
  },
  {
   "cell_type": "code",
   "execution_count": 144,
   "metadata": {},
   "outputs": [
    {
     "data": {
      "text/plain": [
       "<Axes: xlabel='year'>"
      ]
     },
     "execution_count": 144,
     "metadata": {},
     "output_type": "execute_result"
    },
    {
     "data": {
      "image/png": "[encoded data removed]",
      "text/plain": [
       "<Figure size 640x480 with 1 Axes>"
      ]
     },
     "metadata": {},
     "output_type": "display_data"
    }
   ],
   "source": [
    "df[df.Id  == 'NGAITA'][['year','newarrival']].set_index('year').plot.line()"
   ]
  },
  {
   "cell_type": "code",
   "execution_count": 150,
   "metadata": {},
   "outputs": [
    {
     "data": {
      "text/plain": [
       "630345       Niger\n",
       "630344       Niger\n",
       "630340       Niger\n",
       "630341       Niger\n",
       "627964    Cameroon\n",
       "            ...   \n",
       "629181        Iraq\n",
       "629182        Iraq\n",
       "629183        Iraq\n",
       "629184        Iraq\n",
       "632049    Zimbabwe\n",
       "Name: Country_d, Length: 4875, dtype: object"
      ]
     },
     "execution_count": 150,
     "metadata": {},
     "output_type": "execute_result"
    }
   ],
   "source": [
    "df[df.Country_o == 'Nigeria'].sort_values(by='newarrival', ascending=False).Country_d"
   ]
  },
  {
   "cell_type": "code",
   "execution_count": 151,
   "metadata": {},
   "outputs": [
    {
     "data": {
      "text/html": [
       "<div>\n",
       "<style scoped>\n",
       "    .dataframe tbody tr th:only-of-type {\n",
       "        vertical-align: middle;\n",
       "    }\n",
       "\n",
       "    .dataframe tbody tr th {\n",
       "        vertical-align: top;\n",
       "    }\n",
       "\n",
       "    .dataframe thead th {\n",
       "        text-align: right;\n",
       "    }\n",
       "</style>\n",
       "<table border=\"1\" class=\"dataframe\">\n",
       "  <thead>\n",
       "    <tr style=\"text-align: right;\">\n",
       "      <th></th>\n",
       "      <th>newarrival</th>\n",
       "    </tr>\n",
       "    <tr>\n",
       "      <th>year</th>\n",
       "      <th></th>\n",
       "    </tr>\n",
       "  </thead>\n",
       "  <tbody>\n",
       "    <tr>\n",
       "      <th>2000</th>\n",
       "      <td>0.0</td>\n",
       "    </tr>\n",
       "    <tr>\n",
       "      <th>2001</th>\n",
       "      <td>0.0</td>\n",
       "    </tr>\n",
       "    <tr>\n",
       "      <th>2002</th>\n",
       "      <td>0.0</td>\n",
       "    </tr>\n",
       "    <tr>\n",
       "      <th>2003</th>\n",
       "      <td>0.0</td>\n",
       "    </tr>\n",
       "    <tr>\n",
       "      <th>2004</th>\n",
       "      <td>0.0</td>\n",
       "    </tr>\n",
       "    <tr>\n",
       "      <th>2005</th>\n",
       "      <td>0.0</td>\n",
       "    </tr>\n",
       "    <tr>\n",
       "      <th>2006</th>\n",
       "      <td>0.0</td>\n",
       "    </tr>\n",
       "    <tr>\n",
       "      <th>2007</th>\n",
       "      <td>0.0</td>\n",
       "    </tr>\n",
       "    <tr>\n",
       "      <th>2008</th>\n",
       "      <td>0.0</td>\n",
       "    </tr>\n",
       "    <tr>\n",
       "      <th>2009</th>\n",
       "      <td>0.0</td>\n",
       "    </tr>\n",
       "    <tr>\n",
       "      <th>2010</th>\n",
       "      <td>0.0</td>\n",
       "    </tr>\n",
       "    <tr>\n",
       "      <th>2011</th>\n",
       "      <td>0.0</td>\n",
       "    </tr>\n",
       "    <tr>\n",
       "      <th>2012</th>\n",
       "      <td>0.0</td>\n",
       "    </tr>\n",
       "    <tr>\n",
       "      <th>2013</th>\n",
       "      <td>8385.0</td>\n",
       "    </tr>\n",
       "    <tr>\n",
       "      <th>2014</th>\n",
       "      <td>1.0</td>\n",
       "    </tr>\n",
       "    <tr>\n",
       "      <th>2015</th>\n",
       "      <td>38331.0</td>\n",
       "    </tr>\n",
       "    <tr>\n",
       "      <th>2016</th>\n",
       "      <td>37180.0</td>\n",
       "    </tr>\n",
       "    <tr>\n",
       "      <th>2017</th>\n",
       "      <td>7585.0</td>\n",
       "    </tr>\n",
       "    <tr>\n",
       "      <th>2018</th>\n",
       "      <td>9047.0</td>\n",
       "    </tr>\n",
       "    <tr>\n",
       "      <th>2019</th>\n",
       "      <td>43394.0</td>\n",
       "    </tr>\n",
       "    <tr>\n",
       "      <th>2020</th>\n",
       "      <td>48530.0</td>\n",
       "    </tr>\n",
       "    <tr>\n",
       "      <th>2021</th>\n",
       "      <td>26309.0</td>\n",
       "    </tr>\n",
       "    <tr>\n",
       "      <th>2022</th>\n",
       "      <td>0.0</td>\n",
       "    </tr>\n",
       "    <tr>\n",
       "      <th>2023</th>\n",
       "      <td>0.0</td>\n",
       "    </tr>\n",
       "    <tr>\n",
       "      <th>2024</th>\n",
       "      <td>0.0</td>\n",
       "    </tr>\n",
       "  </tbody>\n",
       "</table>\n",
       "</div>"
      ],
      "text/plain": [
       "      newarrival\n",
       "year            \n",
       "2000         0.0\n",
       "2001         0.0\n",
       "2002         0.0\n",
       "2003         0.0\n",
       "2004         0.0\n",
       "2005         0.0\n",
       "2006         0.0\n",
       "2007         0.0\n",
       "2008         0.0\n",
       "2009         0.0\n",
       "2010         0.0\n",
       "2011         0.0\n",
       "2012         0.0\n",
       "2013      8385.0\n",
       "2014         1.0\n",
       "2015     38331.0\n",
       "2016     37180.0\n",
       "2017      7585.0\n",
       "2018      9047.0\n",
       "2019     43394.0\n",
       "2020     48530.0\n",
       "2021     26309.0\n",
       "2022         0.0\n",
       "2023         0.0\n",
       "2024         0.0"
      ]
     },
     "execution_count": 151,
     "metadata": {},
     "output_type": "execute_result"
    }
   ],
   "source": [
    "df[df.Id == 'NGANER'][['year','newarrival']].set_index('year')"
   ]
  },
  {
   "cell_type": "code",
   "execution_count": 154,
   "metadata": {},
   "outputs": [
    {
     "data": {
      "text/html": [
       "<div>\n",
       "<style scoped>\n",
       "    .dataframe tbody tr th:only-of-type {\n",
       "        vertical-align: middle;\n",
       "    }\n",
       "\n",
       "    .dataframe tbody tr th {\n",
       "        vertical-align: top;\n",
       "    }\n",
       "\n",
       "    .dataframe thead th {\n",
       "        text-align: right;\n",
       "    }\n",
       "</style>\n",
       "<table border=\"1\" class=\"dataframe\">\n",
       "  <thead>\n",
       "    <tr style=\"text-align: right;\">\n",
       "      <th></th>\n",
       "      <th>iso_o</th>\n",
       "      <th>iso_d</th>\n",
       "      <th>year</th>\n",
       "      <th>pop_o</th>\n",
       "      <th>CPI_o</th>\n",
       "      <th>GDP_PP_o</th>\n",
       "      <th>Country_o</th>\n",
       "      <th>GDP_PPP_o</th>\n",
       "      <th>island_o</th>\n",
       "      <th>area_o</th>\n",
       "      <th>...</th>\n",
       "      <th>contig</th>\n",
       "      <th>comlang_off</th>\n",
       "      <th>comlang_ethno</th>\n",
       "      <th>colony</th>\n",
       "      <th>comcol</th>\n",
       "      <th>col45</th>\n",
       "      <th>smctry</th>\n",
       "      <th>dist</th>\n",
       "      <th>Region_o</th>\n",
       "      <th>Region_d</th>\n",
       "    </tr>\n",
       "  </thead>\n",
       "  <tbody>\n",
       "    <tr>\n",
       "      <th>788516</th>\n",
       "      <td>SSD</td>\n",
       "      <td>UGA</td>\n",
       "      <td>2016</td>\n",
       "      <td>12.231</td>\n",
       "      <td>401.732</td>\n",
       "      <td>970.717</td>\n",
       "      <td>South Sudan</td>\n",
       "      <td>0.011</td>\n",
       "      <td>0</td>\n",
       "      <td>644329.0</td>\n",
       "      <td>...</td>\n",
       "      <td>0</td>\n",
       "      <td>0</td>\n",
       "      <td>0</td>\n",
       "      <td>0</td>\n",
       "      <td>0</td>\n",
       "      <td>0</td>\n",
       "      <td>0</td>\n",
       "      <td>8068.000000</td>\n",
       "      <td>Africa</td>\n",
       "      <td>Africa</td>\n",
       "    </tr>\n",
       "    <tr>\n",
       "      <th>788092</th>\n",
       "      <td>SSD</td>\n",
       "      <td>SDN</td>\n",
       "      <td>2017</td>\n",
       "      <td>12.585</td>\n",
       "      <td>153.424</td>\n",
       "      <td>888.762</td>\n",
       "      <td>South Sudan</td>\n",
       "      <td>0.009</td>\n",
       "      <td>0</td>\n",
       "      <td>644329.0</td>\n",
       "      <td>...</td>\n",
       "      <td>0</td>\n",
       "      <td>0</td>\n",
       "      <td>0</td>\n",
       "      <td>0</td>\n",
       "      <td>0</td>\n",
       "      <td>0</td>\n",
       "      <td>0</td>\n",
       "      <td>8068.000000</td>\n",
       "      <td>Africa</td>\n",
       "      <td>Africa</td>\n",
       "    </tr>\n",
       "    <tr>\n",
       "      <th>788517</th>\n",
       "      <td>SSD</td>\n",
       "      <td>UGA</td>\n",
       "      <td>2017</td>\n",
       "      <td>12.585</td>\n",
       "      <td>153.424</td>\n",
       "      <td>888.762</td>\n",
       "      <td>South Sudan</td>\n",
       "      <td>0.009</td>\n",
       "      <td>0</td>\n",
       "      <td>644329.0</td>\n",
       "      <td>...</td>\n",
       "      <td>0</td>\n",
       "      <td>0</td>\n",
       "      <td>0</td>\n",
       "      <td>0</td>\n",
       "      <td>0</td>\n",
       "      <td>0</td>\n",
       "      <td>0</td>\n",
       "      <td>8068.000000</td>\n",
       "      <td>Africa</td>\n",
       "      <td>Africa</td>\n",
       "    </tr>\n",
       "    <tr>\n",
       "      <th>213111</th>\n",
       "      <td>CIV</td>\n",
       "      <td>LBR</td>\n",
       "      <td>2011</td>\n",
       "      <td>21.397</td>\n",
       "      <td>1.967</td>\n",
       "      <td>3342.140</td>\n",
       "      <td>Côte d'Ivoire</td>\n",
       "      <td>0.074</td>\n",
       "      <td>0</td>\n",
       "      <td>322463.0</td>\n",
       "      <td>...</td>\n",
       "      <td>1</td>\n",
       "      <td>0</td>\n",
       "      <td>0</td>\n",
       "      <td>0</td>\n",
       "      <td>0</td>\n",
       "      <td>0</td>\n",
       "      <td>0</td>\n",
       "      <td>755.893066</td>\n",
       "      <td>Africa</td>\n",
       "      <td>Africa</td>\n",
       "    </tr>\n",
       "    <tr>\n",
       "      <th>785414</th>\n",
       "      <td>SSD</td>\n",
       "      <td>ETH</td>\n",
       "      <td>2014</td>\n",
       "      <td>11.531</td>\n",
       "      <td>9.880</td>\n",
       "      <td>1190.670</td>\n",
       "      <td>South Sudan</td>\n",
       "      <td>0.016</td>\n",
       "      <td>0</td>\n",
       "      <td>644329.0</td>\n",
       "      <td>...</td>\n",
       "      <td>0</td>\n",
       "      <td>0</td>\n",
       "      <td>0</td>\n",
       "      <td>0</td>\n",
       "      <td>0</td>\n",
       "      <td>0</td>\n",
       "      <td>0</td>\n",
       "      <td>8068.000000</td>\n",
       "      <td>Africa</td>\n",
       "      <td>Africa</td>\n",
       "    </tr>\n",
       "    <tr>\n",
       "      <th>...</th>\n",
       "      <td>...</td>\n",
       "      <td>...</td>\n",
       "      <td>...</td>\n",
       "      <td>...</td>\n",
       "      <td>...</td>\n",
       "      <td>...</td>\n",
       "      <td>...</td>\n",
       "      <td>...</td>\n",
       "      <td>...</td>\n",
       "      <td>...</td>\n",
       "      <td>...</td>\n",
       "      <td>...</td>\n",
       "      <td>...</td>\n",
       "      <td>...</td>\n",
       "      <td>...</td>\n",
       "      <td>...</td>\n",
       "      <td>...</td>\n",
       "      <td>...</td>\n",
       "      <td>...</td>\n",
       "      <td>...</td>\n",
       "      <td>...</td>\n",
       "    </tr>\n",
       "    <tr>\n",
       "      <th>285720</th>\n",
       "      <td>ETH</td>\n",
       "      <td>GMB</td>\n",
       "      <td>2020</td>\n",
       "      <td>97.175</td>\n",
       "      <td>18.169</td>\n",
       "      <td>2756.870</td>\n",
       "      <td>Ethiopia</td>\n",
       "      <td>0.213</td>\n",
       "      <td>0</td>\n",
       "      <td>1127127.0</td>\n",
       "      <td>...</td>\n",
       "      <td>0</td>\n",
       "      <td>1</td>\n",
       "      <td>0</td>\n",
       "      <td>0</td>\n",
       "      <td>0</td>\n",
       "      <td>0</td>\n",
       "      <td>0</td>\n",
       "      <td>6064.751953</td>\n",
       "      <td>Africa</td>\n",
       "      <td>Africa</td>\n",
       "    </tr>\n",
       "    <tr>\n",
       "      <th>285721</th>\n",
       "      <td>ETH</td>\n",
       "      <td>GMB</td>\n",
       "      <td>2021</td>\n",
       "      <td>99.701</td>\n",
       "      <td>35.090</td>\n",
       "      <td>2855.350</td>\n",
       "      <td>Ethiopia</td>\n",
       "      <td>0.213</td>\n",
       "      <td>0</td>\n",
       "      <td>1127127.0</td>\n",
       "      <td>...</td>\n",
       "      <td>0</td>\n",
       "      <td>1</td>\n",
       "      <td>0</td>\n",
       "      <td>0</td>\n",
       "      <td>0</td>\n",
       "      <td>0</td>\n",
       "      <td>0</td>\n",
       "      <td>6064.751953</td>\n",
       "      <td>Africa</td>\n",
       "      <td>Africa</td>\n",
       "    </tr>\n",
       "    <tr>\n",
       "      <th>285722</th>\n",
       "      <td>ETH</td>\n",
       "      <td>GMB</td>\n",
       "      <td>2022</td>\n",
       "      <td>101.296</td>\n",
       "      <td>32.486</td>\n",
       "      <td>2918.290</td>\n",
       "      <td>Ethiopia</td>\n",
       "      <td>0.215</td>\n",
       "      <td>0</td>\n",
       "      <td>1127127.0</td>\n",
       "      <td>...</td>\n",
       "      <td>0</td>\n",
       "      <td>1</td>\n",
       "      <td>0</td>\n",
       "      <td>0</td>\n",
       "      <td>0</td>\n",
       "      <td>0</td>\n",
       "      <td>0</td>\n",
       "      <td>6064.751953</td>\n",
       "      <td>Africa</td>\n",
       "      <td>Africa</td>\n",
       "    </tr>\n",
       "    <tr>\n",
       "      <th>285723</th>\n",
       "      <td>ETH</td>\n",
       "      <td>GMB</td>\n",
       "      <td>2023</td>\n",
       "      <td>102.917</td>\n",
       "      <td>26.044</td>\n",
       "      <td>3024.280</td>\n",
       "      <td>Ethiopia</td>\n",
       "      <td>0.221</td>\n",
       "      <td>0</td>\n",
       "      <td>1127127.0</td>\n",
       "      <td>...</td>\n",
       "      <td>0</td>\n",
       "      <td>1</td>\n",
       "      <td>0</td>\n",
       "      <td>0</td>\n",
       "      <td>0</td>\n",
       "      <td>0</td>\n",
       "      <td>0</td>\n",
       "      <td>6064.751953</td>\n",
       "      <td>Africa</td>\n",
       "      <td>Africa</td>\n",
       "    </tr>\n",
       "    <tr>\n",
       "      <th>965249</th>\n",
       "      <td>ZWE</td>\n",
       "      <td>ZMB</td>\n",
       "      <td>2024</td>\n",
       "      <td>16.481</td>\n",
       "      <td>50.000</td>\n",
       "      <td>2204.860</td>\n",
       "      <td>Zimbabwe</td>\n",
       "      <td>0.025</td>\n",
       "      <td>0</td>\n",
       "      <td>390759.0</td>\n",
       "      <td>...</td>\n",
       "      <td>1</td>\n",
       "      <td>1</td>\n",
       "      <td>1</td>\n",
       "      <td>0</td>\n",
       "      <td>1</td>\n",
       "      <td>0</td>\n",
       "      <td>0</td>\n",
       "      <td>396.804077</td>\n",
       "      <td>Africa</td>\n",
       "      <td>Africa</td>\n",
       "    </tr>\n",
       "  </tbody>\n",
       "</table>\n",
       "<p>258375 rows × 50 columns</p>\n",
       "</div>"
      ],
      "text/plain": [
       "       iso_o iso_d  year    pop_o    CPI_o  GDP_PP_o      Country_o  \\\n",
       "788516   SSD   UGA  2016   12.231  401.732   970.717    South Sudan   \n",
       "788092   SSD   SDN  2017   12.585  153.424   888.762    South Sudan   \n",
       "788517   SSD   UGA  2017   12.585  153.424   888.762    South Sudan   \n",
       "213111   CIV   LBR  2011   21.397    1.967  3342.140  Côte d'Ivoire   \n",
       "785414   SSD   ETH  2014   11.531    9.880  1190.670    South Sudan   \n",
       "...      ...   ...   ...      ...      ...       ...            ...   \n",
       "285720   ETH   GMB  2020   97.175   18.169  2756.870       Ethiopia   \n",
       "285721   ETH   GMB  2021   99.701   35.090  2855.350       Ethiopia   \n",
       "285722   ETH   GMB  2022  101.296   32.486  2918.290       Ethiopia   \n",
       "285723   ETH   GMB  2023  102.917   26.044  3024.280       Ethiopia   \n",
       "965249   ZWE   ZMB  2024   16.481   50.000  2204.860       Zimbabwe   \n",
       "\n",
       "        GDP_PPP_o  island_o     area_o  ...  contig  comlang_off  \\\n",
       "788516      0.011         0   644329.0  ...       0            0   \n",
       "788092      0.009         0   644329.0  ...       0            0   \n",
       "788517      0.009         0   644329.0  ...       0            0   \n",
       "213111      0.074         0   322463.0  ...       1            0   \n",
       "785414      0.016         0   644329.0  ...       0            0   \n",
       "...           ...       ...        ...  ...     ...          ...   \n",
       "285720      0.213         0  1127127.0  ...       0            1   \n",
       "285721      0.213         0  1127127.0  ...       0            1   \n",
       "285722      0.215         0  1127127.0  ...       0            1   \n",
       "285723      0.221         0  1127127.0  ...       0            1   \n",
       "965249      0.025         0   390759.0  ...       1            1   \n",
       "\n",
       "        comlang_ethno  colony  comcol  col45  smctry         dist  Region_o  \\\n",
       "788516              0       0       0      0       0  8068.000000    Africa   \n",
       "788092              0       0       0      0       0  8068.000000    Africa   \n",
       "788517              0       0       0      0       0  8068.000000    Africa   \n",
       "213111              0       0       0      0       0   755.893066    Africa   \n",
       "785414              0       0       0      0       0  8068.000000    Africa   \n",
       "...               ...     ...     ...    ...     ...          ...       ...   \n",
       "285720              0       0       0      0       0  6064.751953    Africa   \n",
       "285721              0       0       0      0       0  6064.751953    Africa   \n",
       "285722              0       0       0      0       0  6064.751953    Africa   \n",
       "285723              0       0       0      0       0  6064.751953    Africa   \n",
       "965249              1       0       1      0       0   396.804077    Africa   \n",
       "\n",
       "        Region_d  \n",
       "788516    Africa  \n",
       "788092    Africa  \n",
       "788517    Africa  \n",
       "213111    Africa  \n",
       "785414    Africa  \n",
       "...          ...  \n",
       "285720    Africa  \n",
       "285721    Africa  \n",
       "285722    Africa  \n",
       "285723    Africa  \n",
       "965249    Africa  \n",
       "\n",
       "[258375 rows x 50 columns]"
      ]
     },
     "execution_count": 154,
     "metadata": {},
     "output_type": "execute_result"
    }
   ],
   "source": [
    "df[df.Region_o == 'Africa'].sort_values('newarrival',ascending=False)"
   ]
  },
  {
   "cell_type": "code",
   "execution_count": null,
   "metadata": {},
   "outputs": [],
   "source": []
  }
 ],
 "metadata": {
  "kernelspec": {
   "display_name": "base",
   "language": "python",
   "name": "python3"
  },
  "language_info": {
   "codemirror_mode": {
    "name": "ipython",
    "version": 3
   },
   "file_extension": ".py",
   "mimetype": "text/x-python",
   "name": "python",
   "nbconvert_exporter": "python",
   "pygments_lexer": "ipython3",
   "version": "3.11.3"
  },
  "orig_nbformat": 4
 },
 "nbformat": 4,
 "nbformat_minor": 2
}
