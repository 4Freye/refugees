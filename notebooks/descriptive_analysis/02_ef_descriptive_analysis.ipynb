{
 "cells": [
  {
   "attachments": {},
   "cell_type": "markdown",
   "metadata": {},
   "source": [
    "Descriptive analysis on the UNHCR data"
   ]
  },
  {
   "cell_type": "code",
   "execution_count": 10,
   "metadata": {},
   "outputs": [],
   "source": [
    "import pandas as pd\n",
    "import igraph as ig\n",
    "import matplotlib.colors as mcolors\n",
    "#from chord import Chord\n",
    "\n",
    "df = pd.read_csv('../../data/data.csv', engine=\"pyarrow\").drop('', axis=1)"
   ]
  },
  {
   "attachments": {},
   "cell_type": "markdown",
   "metadata": {},
   "source": [
    "Interestingly enough there are some duplicates:"
   ]
  },
  {
   "cell_type": "code",
   "execution_count": 11,
   "metadata": {},
   "outputs": [
    {
     "data": {
      "text/html": [
       "<div>\n",
       "<style scoped>\n",
       "    .dataframe tbody tr th:only-of-type {\n",
       "        vertical-align: middle;\n",
       "    }\n",
       "\n",
       "    .dataframe tbody tr th {\n",
       "        vertical-align: top;\n",
       "    }\n",
       "\n",
       "    .dataframe thead th {\n",
       "        text-align: right;\n",
       "    }\n",
       "</style>\n",
       "<table border=\"1\" class=\"dataframe\">\n",
       "  <thead>\n",
       "    <tr style=\"text-align: right;\">\n",
       "      <th></th>\n",
       "      <th></th>\n",
       "      <th></th>\n",
       "      <th>count</th>\n",
       "    </tr>\n",
       "    <tr>\n",
       "      <th>Country_d</th>\n",
       "      <th>Country_o</th>\n",
       "      <th>year</th>\n",
       "      <th></th>\n",
       "    </tr>\n",
       "  </thead>\n",
       "  <tbody>\n",
       "    <tr>\n",
       "      <th rowspan=\"5\" valign=\"top\">Antigua and Barbuda</th>\n",
       "      <th>Taiwan Province of China</th>\n",
       "      <th>2017</th>\n",
       "      <td>2</td>\n",
       "    </tr>\n",
       "    <tr>\n",
       "      <th rowspan=\"4\" valign=\"top\">Dominica</th>\n",
       "      <th>2022</th>\n",
       "      <td>2</td>\n",
       "    </tr>\n",
       "    <tr>\n",
       "      <th>2012</th>\n",
       "      <td>2</td>\n",
       "    </tr>\n",
       "    <tr>\n",
       "      <th>2013</th>\n",
       "      <td>2</td>\n",
       "    </tr>\n",
       "    <tr>\n",
       "      <th>2014</th>\n",
       "      <td>2</td>\n",
       "    </tr>\n",
       "    <tr>\n",
       "      <th>...</th>\n",
       "      <th>...</th>\n",
       "      <th>...</th>\n",
       "      <td>...</td>\n",
       "    </tr>\n",
       "    <tr>\n",
       "      <th rowspan=\"2\" valign=\"top\">Hong Kong SAR</th>\n",
       "      <th rowspan=\"2\" valign=\"top\">Antigua and Barbuda</th>\n",
       "      <th>2023</th>\n",
       "      <td>2</td>\n",
       "    </tr>\n",
       "    <tr>\n",
       "      <th>2024</th>\n",
       "      <td>2</td>\n",
       "    </tr>\n",
       "    <tr>\n",
       "      <th rowspan=\"2\" valign=\"top\">Benin</th>\n",
       "      <th rowspan=\"2\" valign=\"top\">Antigua and Barbuda</th>\n",
       "      <th>2012</th>\n",
       "      <td>2</td>\n",
       "    </tr>\n",
       "    <tr>\n",
       "      <th>2011</th>\n",
       "      <td>2</td>\n",
       "    </tr>\n",
       "    <tr>\n",
       "      <th>Nauru</th>\n",
       "      <th>Antigua and Barbuda</th>\n",
       "      <th>2014</th>\n",
       "      <td>2</td>\n",
       "    </tr>\n",
       "  </tbody>\n",
       "</table>\n",
       "<p>9750 rows × 1 columns</p>\n",
       "</div>"
      ],
      "text/plain": [
       "                                                   count\n",
       "Country_d           Country_o                year       \n",
       "Antigua and Barbuda Taiwan Province of China 2017      2\n",
       "                    Dominica                 2022      2\n",
       "                                             2012      2\n",
       "                                             2013      2\n",
       "                                             2014      2\n",
       "...                                                  ...\n",
       "Hong Kong SAR       Antigua and Barbuda      2023      2\n",
       "                                             2024      2\n",
       "Benin               Antigua and Barbuda      2012      2\n",
       "                                             2011      2\n",
       "Nauru               Antigua and Barbuda      2014      2\n",
       "\n",
       "[9750 rows x 1 columns]"
      ]
     },
     "execution_count": 11,
     "metadata": {},
     "output_type": "execute_result"
    }
   ],
   "source": [
    "counts = df.value_counts(subset=['Country_d','Country_o','year'])\n",
    "counts[counts > 1].to_frame(name='count')"
   ]
  },
  {
   "cell_type": "code",
   "execution_count": 12,
   "metadata": {},
   "outputs": [
    {
     "data": {
      "text/plain": [
       "32984    442.0\n",
       "32985    960.0\n",
       "Name: area_o, dtype: float64"
      ]
     },
     "execution_count": 12,
     "metadata": {},
     "output_type": "execute_result"
    }
   ],
   "source": [
    "df[(df.Country_o == 'Antigua and Barbuda') & (df.Country_d == 'Taiwan Province of China') & (df.year == 2017)].area_o"
   ]
  },
  {
   "attachments": {},
   "cell_type": "markdown",
   "metadata": {},
   "source": [
    "We will have to look into why these are duplicated, it is my understanding that these shouldn't be here."
   ]
  },
  {
   "cell_type": "code",
   "execution_count": 13,
   "metadata": {},
   "outputs": [],
   "source": [
    "df.drop_duplicates(subset=['Country_o','Country_d','year'], inplace=True)"
   ]
  },
  {
   "cell_type": "code",
   "execution_count": 14,
   "metadata": {},
   "outputs": [],
   "source": [
    "import numpy as np\n",
    "def map_to_region(country_column):\n",
    "    africa = ['The Gambia','Côte d\\'Ivoire', 'Algeria', 'Angola', 'Benin', 'Botswana', 'Burkina Faso', 'Burundi', 'Cabo Verde', 'Cameroon', 'Central African Republic', 'Chad', 'Comoros', 'Democratic Republic of the Congo', 'Djibouti', 'Egypt', 'Equatorial Guinea', 'Eritrea', 'Eswatini', 'Ethiopia', 'Gabon', 'Ghana', 'Guinea', 'Guinea-Bissau', 'Kenya', 'Lesotho', 'Liberia', 'Libya', 'Madagascar', 'Malawi', 'Mali', 'Mauritania', 'Mauritius', 'Morocco', 'Mozambique', 'Namibia', 'Niger', 'Nigeria', 'Republic of Congo', 'Rwanda', 'Sao Tome and Principe', 'Senegal', 'Seychelles', 'Sierra Leone', 'Somalia', 'South Africa', 'South Sudan', 'Sudan', 'Tanzania', 'Togo', 'Tunisia', 'Uganda', 'Zambia', 'Zimbabwe']\n",
    "\n",
    "    north_america = ['Canada', 'Mexico', 'United States', 'The Bahamas', 'Puerto Rico']\n",
    "\n",
    "    former_soviet_union = ['Armenia', 'Azerbaijan', 'Belarus', 'Estonia', 'Georgia', 'Kazakhstan', 'Kyrgyz Republic', 'Latvia', 'Lithuania', 'Moldova', 'Russia', 'Tajikistan', 'Turkmenistan', 'Ukraine', 'Uzbekistan']\n",
    "\n",
    "    south_asia = ['Afghanistan', 'Bangladesh', 'Bhutan', 'India', 'Iran', 'Maldives', 'Nepal', 'Pakistan', 'Sri Lanka']\n",
    "\n",
    "    west_asia = ['Bahrain', 'Cyprus', 'Iraq', 'Israel', 'Jordan', 'Kuwait', 'Lebanon', 'Oman', 'Qatar', 'Saudi Arabia', 'Syria', 'United Arab Emirates', 'Yemen', 'Islamic Republic of Iran', 'Türkiye', 'West Bank and Gaza']\n",
    "\n",
    "    southeast_asia = ['Brunei Darussalam', 'Cambodia', 'Indonesia', 'Lao PDR', 'Malaysia', 'Myanmar', 'Philippines', 'Singapore', 'Thailand', 'Timor-Leste', 'Vietnam', 'Lao P.D.R.']\n",
    "\n",
    "    oceania = ['Australia', 'Fiji', 'Kiribati', 'Marshall Islands', 'Micronesia', 'Nauru', 'New Zealand', 'Palau', 'Papua New Guinea', 'Samoa', 'Solomon Islands', 'Tonga', 'Tuvalu', 'Vanuatu']\n",
    "\n",
    "    latin_america = ['St. Lucia', 'St. Vincent and the Grenadines', 'St. Kitts and Nevis', 'São Tomé and Príncipe', 'Aruba', 'Antigua and Barbuda', 'Argentina', 'Barbados', 'Belize', 'Bolivia', 'Brazil', 'Chile', 'Colombia', 'Costa Rica', 'Cuba', 'Dominica', 'Dominican Republic', 'Ecuador', 'El Salvador', 'Grenada', 'Guatemala', 'Guyana', 'Haiti', 'Honduras', 'Jamaica', 'Nicaragua', 'Panama', 'Paraguay', 'Peru', 'Saint Kitts and Nevis', 'Saint Lucia', 'Saint Vincent and the Grenadines', 'Suriname', 'Trinidad and Tobago', 'Uruguay', 'Venezuela']\n",
    "    europe = ['Albania', 'Andorra', 'Austria', 'Belarus', 'Belgium', 'Bosnia and Herzegovina', 'Bulgaria', 'Croatia', 'Cyprus', 'Czech Republic', 'Denmark', 'Estonia', 'Finland', 'France', 'Georgia', 'Germany', 'Greece', 'Hungary', 'Iceland', 'Ireland', 'Italy', 'Kazakhstan', 'Kosovo', 'Latvia', 'Liechtenstein', 'Lithuania', 'Luxembourg', 'Malta', 'Moldova', 'Monaco', 'Montenegro', 'Netherlands', 'North Macedonia', 'Norway', 'Poland', 'Portugal', 'Romania', 'Russia', 'San Marino', 'Serbia', 'Slovak Republic', 'Slovenia', 'Spain', 'Sweden', 'Switzerland', 'Ukraine', 'United Kingdom', 'Uzbekistan']\n",
    "    east_asia = ['China','Hong Kong SAR','Japan','Korea', 'Macao SAR', 'Mongolia', 'Taiwan Province of China']\n",
    "\n",
    "    region_column = []\n",
    "    for country in country_column:\n",
    "        if country in africa:\n",
    "            region_column.append('Africa')\n",
    "        elif country in north_america:\n",
    "            region_column.append('North America')\n",
    "        elif country in former_soviet_union:\n",
    "            region_column.append('Fmr Soviet Union')\n",
    "        elif country in south_asia:\n",
    "            region_column.append('South Asia')\n",
    "        elif country in west_asia:\n",
    "            region_column.append('West Asia')\n",
    "        elif country in southeast_asia:\n",
    "            region_column.append('Southeast Asia')\n",
    "        elif country in oceania:\n",
    "            region_column.append('Oceania')\n",
    "        elif country in latin_america:\n",
    "            region_column.append('Latin America')\n",
    "        elif country in europe:\n",
    "            region_column.append('Europe')\n",
    "        elif country in east_asia:\n",
    "            region_column.append('East Asia')\n",
    "        else:\n",
    "            region_column.append(np.nan)\n",
    "    return region_column\n",
    "\n",
    "df['Region_o'] = map_to_region(df.Country_o)\n",
    "df['Region_d'] = map_to_region(df.Country_d)\n"
   ]
  },
  {
   "attachments": {},
   "cell_type": "markdown",
   "metadata": {},
   "source": [
    "Most emigration in latin america?\n",
    "\n",
    "Venezuela ranks at the top."
   ]
  },
  {
   "cell_type": "code",
   "execution_count": 15,
   "metadata": {},
   "outputs": [
    {
     "data": {
      "text/html": [
       "<div>\n",
       "<style scoped>\n",
       "    .dataframe tbody tr th:only-of-type {\n",
       "        vertical-align: middle;\n",
       "    }\n",
       "\n",
       "    .dataframe tbody tr th {\n",
       "        vertical-align: top;\n",
       "    }\n",
       "\n",
       "    .dataframe thead th {\n",
       "        text-align: right;\n",
       "    }\n",
       "</style>\n",
       "<table border=\"1\" class=\"dataframe\">\n",
       "  <thead>\n",
       "    <tr style=\"text-align: right;\">\n",
       "      <th></th>\n",
       "      <th>iso_o</th>\n",
       "      <th>year</th>\n",
       "      <th>newarrival</th>\n",
       "    </tr>\n",
       "  </thead>\n",
       "  <tbody>\n",
       "    <tr>\n",
       "      <th>793</th>\n",
       "      <td>VEN</td>\n",
       "      <td>2018</td>\n",
       "      <td>2508056.5</td>\n",
       "    </tr>\n",
       "    <tr>\n",
       "      <th>794</th>\n",
       "      <td>VEN</td>\n",
       "      <td>2019</td>\n",
       "      <td>1524435.0</td>\n",
       "    </tr>\n",
       "    <tr>\n",
       "      <th>796</th>\n",
       "      <td>VEN</td>\n",
       "      <td>2021</td>\n",
       "      <td>664573.0</td>\n",
       "    </tr>\n",
       "    <tr>\n",
       "      <th>795</th>\n",
       "      <td>VEN</td>\n",
       "      <td>2020</td>\n",
       "      <td>572356.0</td>\n",
       "    </tr>\n",
       "    <tr>\n",
       "      <th>792</th>\n",
       "      <td>VEN</td>\n",
       "      <td>2017</td>\n",
       "      <td>125916.0</td>\n",
       "    </tr>\n",
       "    <tr>\n",
       "      <th>546</th>\n",
       "      <td>NIC</td>\n",
       "      <td>2021</td>\n",
       "      <td>111562.0</td>\n",
       "    </tr>\n",
       "    <tr>\n",
       "      <th>419</th>\n",
       "      <td>HND</td>\n",
       "      <td>2019</td>\n",
       "      <td>80618.0</td>\n",
       "    </tr>\n",
       "    <tr>\n",
       "      <th>446</th>\n",
       "      <td>HTI</td>\n",
       "      <td>2021</td>\n",
       "      <td>67019.0</td>\n",
       "    </tr>\n",
       "    <tr>\n",
       "      <th>642</th>\n",
       "      <td>SLV</td>\n",
       "      <td>2017</td>\n",
       "      <td>65477.0</td>\n",
       "    </tr>\n",
       "    <tr>\n",
       "      <th>369</th>\n",
       "      <td>GTM</td>\n",
       "      <td>2019</td>\n",
       "      <td>60288.0</td>\n",
       "    </tr>\n",
       "  </tbody>\n",
       "</table>\n",
       "</div>"
      ],
      "text/plain": [
       "    iso_o  year  newarrival\n",
       "793   VEN  2018   2508056.5\n",
       "794   VEN  2019   1524435.0\n",
       "796   VEN  2021    664573.0\n",
       "795   VEN  2020    572356.0\n",
       "792   VEN  2017    125916.0\n",
       "546   NIC  2021    111562.0\n",
       "419   HND  2019     80618.0\n",
       "446   HTI  2021     67019.0\n",
       "642   SLV  2017     65477.0\n",
       "369   GTM  2019     60288.0"
      ]
     },
     "execution_count": 15,
     "metadata": {},
     "output_type": "execute_result"
    }
   ],
   "source": [
    "df[df['Region_o'] == 'Latin America'].groupby(['iso_o','year'], as_index=False).agg({'newarrival':'sum' }).sort_values(by='newarrival', ascending=False).head(10)"
   ]
  },
  {
   "cell_type": "code",
   "execution_count": 16,
   "metadata": {},
   "outputs": [],
   "source": [
    "def assign_colors(s, palette=None):\n",
    "    unique_values = s.unique()\n",
    "    if palette is None:\n",
    "        colors = mcolors.TABLEAU_COLORS\n",
    "        palette = pd.Series(colors).sample(len(unique_values), random_state=42)\n",
    "\n",
    "    color_dict = dict(zip(unique_values, palette))\n",
    "    rgb_dict = {k: mcolors.to_rgb(v) for k, v in color_dict.items()}\n",
    "\n",
    "    # Create color-mapped values and legend plot\n",
    "    color_mapped_values = s.map(rgb_dict).tolist()\n",
    "\n",
    "    return color_mapped_values"
   ]
  },
  {
   "attachments": {},
   "cell_type": "markdown",
   "metadata": {},
   "source": [
    "Visualization"
   ]
  },
  {
   "cell_type": "code",
   "execution_count": 36,
   "metadata": {},
   "outputs": [
    {
     "data": {
      "text/html": [
       "<div>\n",
       "<style scoped>\n",
       "    .dataframe tbody tr th:only-of-type {\n",
       "        vertical-align: middle;\n",
       "    }\n",
       "\n",
       "    .dataframe tbody tr th {\n",
       "        vertical-align: top;\n",
       "    }\n",
       "\n",
       "    .dataframe thead th {\n",
       "        text-align: right;\n",
       "    }\n",
       "</style>\n",
       "<table border=\"1\" class=\"dataframe\">\n",
       "  <thead>\n",
       "    <tr style=\"text-align: right;\">\n",
       "      <th></th>\n",
       "      <th>Country_o</th>\n",
       "      <th>Country_d</th>\n",
       "      <th>year</th>\n",
       "      <th>newarrival</th>\n",
       "    </tr>\n",
       "  </thead>\n",
       "  <tbody>\n",
       "    <tr>\n",
       "      <th>629266</th>\n",
       "      <td>Nigeria</td>\n",
       "      <td>Italy</td>\n",
       "      <td>2016</td>\n",
       "      <td>27088.0</td>\n",
       "    </tr>\n",
       "    <tr>\n",
       "      <th>648866</th>\n",
       "      <td>Pakistan</td>\n",
       "      <td>Italy</td>\n",
       "      <td>2016</td>\n",
       "      <td>13637.0</td>\n",
       "    </tr>\n",
       "    <tr>\n",
       "      <th>75542</th>\n",
       "      <td>Bangladesh</td>\n",
       "      <td>Italy</td>\n",
       "      <td>2017</td>\n",
       "      <td>12183.0</td>\n",
       "    </tr>\n",
       "  </tbody>\n",
       "</table>\n",
       "</div>"
      ],
      "text/plain": [
       "         Country_o Country_d  year  newarrival\n",
       "629266     Nigeria     Italy  2016     27088.0\n",
       "648866    Pakistan     Italy  2016     13637.0\n",
       "75542   Bangladesh     Italy  2017     12183.0"
      ]
     },
     "execution_count": 36,
     "metadata": {},
     "output_type": "execute_result"
    }
   ],
   "source": [
    "df[(df.Country_d == 'Italy') & (df.newarrival > 10000)].sort_values(by='newarrival',ascending=False).drop_duplicates(subset='iso_o')[['Country_o','Country_d','year','newarrival']]"
   ]
  },
  {
   "cell_type": "code",
   "execution_count": null,
   "metadata": {},
   "outputs": [],
   "source": [
    "df.groupby(['Country_d', 'year']).agg({'newarrival':'sum'}) > 10000"
   ]
  },
  {
   "cell_type": "code",
   "execution_count": 22,
   "metadata": {},
   "outputs": [
    {
     "data": {
      "text/html": [
       "<div>\n",
       "<style scoped>\n",
       "    .dataframe tbody tr th:only-of-type {\n",
       "        vertical-align: middle;\n",
       "    }\n",
       "\n",
       "    .dataframe tbody tr th {\n",
       "        vertical-align: top;\n",
       "    }\n",
       "\n",
       "    .dataframe thead th {\n",
       "        text-align: right;\n",
       "    }\n",
       "</style>\n",
       "<table border=\"1\" class=\"dataframe\">\n",
       "  <thead>\n",
       "    <tr style=\"text-align: right;\">\n",
       "      <th></th>\n",
       "      <th>iso_o</th>\n",
       "      <th>iso_d</th>\n",
       "      <th>newarrival</th>\n",
       "      <th>year</th>\n",
       "    </tr>\n",
       "  </thead>\n",
       "  <tbody>\n",
       "    <tr>\n",
       "      <th>225</th>\n",
       "      <td>AFG</td>\n",
       "      <td>AUS</td>\n",
       "      <td>1326.0</td>\n",
       "      <td>2000</td>\n",
       "    </tr>\n",
       "    <tr>\n",
       "      <th>226</th>\n",
       "      <td>AFG</td>\n",
       "      <td>AUS</td>\n",
       "      <td>2161.0</td>\n",
       "      <td>2001</td>\n",
       "    </tr>\n",
       "    <tr>\n",
       "      <th>229</th>\n",
       "      <td>AFG</td>\n",
       "      <td>AUS</td>\n",
       "      <td>116.0</td>\n",
       "      <td>2004</td>\n",
       "    </tr>\n",
       "    <tr>\n",
       "      <th>234</th>\n",
       "      <td>AFG</td>\n",
       "      <td>AUS</td>\n",
       "      <td>940.0</td>\n",
       "      <td>2009</td>\n",
       "    </tr>\n",
       "    <tr>\n",
       "      <th>235</th>\n",
       "      <td>AFG</td>\n",
       "      <td>AUS</td>\n",
       "      <td>1265.0</td>\n",
       "      <td>2010</td>\n",
       "    </tr>\n",
       "    <tr>\n",
       "      <th>...</th>\n",
       "      <td>...</td>\n",
       "      <td>...</td>\n",
       "      <td>...</td>\n",
       "      <td>...</td>\n",
       "    </tr>\n",
       "    <tr>\n",
       "      <th>965042</th>\n",
       "      <td>ZWE</td>\n",
       "      <td>USA</td>\n",
       "      <td>391.0</td>\n",
       "      <td>2017</td>\n",
       "    </tr>\n",
       "    <tr>\n",
       "      <th>965043</th>\n",
       "      <td>ZWE</td>\n",
       "      <td>USA</td>\n",
       "      <td>207.0</td>\n",
       "      <td>2018</td>\n",
       "    </tr>\n",
       "    <tr>\n",
       "      <th>965044</th>\n",
       "      <td>ZWE</td>\n",
       "      <td>USA</td>\n",
       "      <td>255.0</td>\n",
       "      <td>2019</td>\n",
       "    </tr>\n",
       "    <tr>\n",
       "      <th>965045</th>\n",
       "      <td>ZWE</td>\n",
       "      <td>USA</td>\n",
       "      <td>274.0</td>\n",
       "      <td>2020</td>\n",
       "    </tr>\n",
       "    <tr>\n",
       "      <th>965046</th>\n",
       "      <td>ZWE</td>\n",
       "      <td>USA</td>\n",
       "      <td>105.0</td>\n",
       "      <td>2021</td>\n",
       "    </tr>\n",
       "  </tbody>\n",
       "</table>\n",
       "<p>17048 rows × 4 columns</p>\n",
       "</div>"
      ],
      "text/plain": [
       "       iso_o iso_d  newarrival  year\n",
       "225      AFG   AUS      1326.0  2000\n",
       "226      AFG   AUS      2161.0  2001\n",
       "229      AFG   AUS       116.0  2004\n",
       "234      AFG   AUS       940.0  2009\n",
       "235      AFG   AUS      1265.0  2010\n",
       "...      ...   ...         ...   ...\n",
       "965042   ZWE   USA       391.0  2017\n",
       "965043   ZWE   USA       207.0  2018\n",
       "965044   ZWE   USA       255.0  2019\n",
       "965045   ZWE   USA       274.0  2020\n",
       "965046   ZWE   USA       105.0  2021\n",
       "\n",
       "[17048 rows x 4 columns]"
      ]
     },
     "execution_count": 22,
     "metadata": {},
     "output_type": "execute_result"
    }
   ],
   "source": [
    "df[(df.newarrival > 100)][['iso_o','iso_d','newarrival','year']]"
   ]
  },
  {
   "cell_type": "code",
   "execution_count": 44,
   "metadata": {},
   "outputs": [
    {
     "data": {
      "image/svg+xml": [
       "<?xml version=\"1.0\" encoding=\"UTF-8\"?>\n",
       "<svg xmlns=\"http://www.w3.org/2000/svg\" xmlns:xlink=\"http://www.w3.org/1999/xlink\" width=\"600pt\" height=\"600pt\" viewBox=\"0 0 600 600\" version=\"1.1\">\n",
       "<defs>\n",
       "<g>\n",
       "<symbol overflow=\"visible\" id=\"glyph0-0\">\n",
       "<path style=\"stroke:none;\" d=\"M 0.453125 0 L 0.453125 -10.042969 L 8.421875 -10.042969 L 8.421875 0 Z M 7.164062 -1.257812 L 7.164062 -8.785156 L 1.710938 -8.785156 L 1.710938 -1.257812 Z M 7.164062 -1.257812 \"/>\n",
       "</symbol>\n",
       "<symbol overflow=\"visible\" id=\"glyph0-1\">\n",
       "<path style=\"stroke:none;\" d=\"M 6.21875 -4.117188 L 4.695312 -8.550781 L 3.078125 -4.117188 Z M 3.984375 -10.042969 L 5.523438 -10.042969 L 9.167969 0 L 7.675781 0 L 6.65625 -3.007812 L 2.6875 -3.007812 L 1.601562 0 L 0.203125 0 Z M 3.984375 -10.042969 \"/>\n",
       "</symbol>\n",
       "<symbol overflow=\"visible\" id=\"glyph0-2\">\n",
       "<path style=\"stroke:none;\" d=\"M 1.195312 -10.042969 L 8.164062 -10.042969 L 8.164062 -8.8125 L 2.554688 -8.8125 L 2.554688 -5.761719 L 7.484375 -5.761719 L 7.484375 -4.566406 L 2.554688 -4.566406 L 2.554688 0 L 1.195312 0 Z M 1.195312 -10.042969 \"/>\n",
       "</symbol>\n",
       "<symbol overflow=\"visible\" id=\"glyph0-3\">\n",
       "<path style=\"stroke:none;\" d=\"M 5.40625 -10.300781 C 6.351562 -10.300781 7.167969 -10.121094 7.855469 -9.753906 C 8.851562 -9.230469 9.464844 -8.3125 9.6875 -7 L 8.339844 -7 C 8.175781 -7.734375 7.835938 -8.269531 7.320312 -8.601562 C 6.804688 -8.9375 6.15625 -9.105469 5.375 -9.105469 C 4.445312 -9.105469 3.660156 -8.757812 3.023438 -8.058594 C 2.390625 -7.363281 2.070312 -6.324219 2.070312 -4.941406 C 2.070312 -3.75 2.332031 -2.777344 2.859375 -2.027344 C 3.382812 -1.277344 4.234375 -0.902344 5.421875 -0.902344 C 6.328125 -0.902344 7.078125 -1.164062 7.671875 -1.691406 C 8.265625 -2.21875 8.570312 -3.070312 8.585938 -4.246094 L 5.441406 -4.246094 L 5.441406 -5.375 L 9.851562 -5.375 L 9.851562 0 L 8.976562 0 L 8.648438 -1.292969 C 8.1875 -0.785156 7.78125 -0.433594 7.421875 -0.238281 C 6.828125 0.0976562 6.066406 0.265625 5.148438 0.265625 C 3.957031 0.265625 2.933594 -0.117188 2.078125 -0.890625 C 1.144531 -1.855469 0.675781 -3.179688 0.675781 -4.867188 C 0.675781 -6.546875 1.132812 -7.886719 2.042969 -8.878906 C 2.910156 -9.828125 4.03125 -10.300781 5.40625 -10.300781 Z M 5.40625 -10.300781 \"/>\n",
       "</symbol>\n",
       "<symbol overflow=\"visible\" id=\"glyph0-4\">\n",
       "<path style=\"stroke:none;\" d=\"M 2.542969 -10.042969 L 2.542969 -3.835938 C 2.542969 -3.105469 2.679688 -2.5 2.953125 -2.015625 C 3.359375 -1.289062 4.042969 -0.921875 5.003906 -0.921875 C 6.15625 -0.921875 6.941406 -1.316406 7.355469 -2.105469 C 7.578125 -2.535156 7.691406 -3.109375 7.691406 -3.835938 L 7.691406 -10.042969 L 9.070312 -10.042969 L 9.070312 -4.402344 C 9.070312 -3.167969 8.90625 -2.21875 8.570312 -1.550781 C 7.960938 -0.339844 6.808594 0.265625 5.113281 0.265625 C 3.417969 0.265625 2.265625 -0.339844 1.660156 -1.550781 C 1.328125 -2.21875 1.164062 -3.167969 1.164062 -4.402344 L 1.164062 -10.042969 Z M 2.542969 -10.042969 \"/>\n",
       "</symbol>\n",
       "<symbol overflow=\"visible\" id=\"glyph0-5\">\n",
       "<path style=\"stroke:none;\" d=\"M 8.375 -10.042969 L 8.375 -8.84375 L 4.992188 -8.84375 L 4.992188 0 L 3.609375 0 L 3.609375 -8.84375 L 0.226562 -8.84375 L 0.226562 -10.042969 Z M 8.375 -10.042969 \"/>\n",
       "</symbol>\n",
       "<symbol overflow=\"visible\" id=\"glyph0-6\">\n",
       "<path style=\"stroke:none;\" d=\"M 4.921875 -1.164062 C 5.382812 -1.164062 5.761719 -1.210938 6.054688 -1.304688 C 6.585938 -1.484375 7.019531 -1.824219 7.355469 -2.332031 C 7.625 -2.738281 7.816406 -3.257812 7.9375 -3.890625 C 8.003906 -4.269531 8.039062 -4.617188 8.039062 -4.941406 C 8.039062 -6.1875 7.792969 -7.152344 7.296875 -7.839844 C 6.804688 -8.527344 6.007812 -8.875 4.90625 -8.875 L 2.496094 -8.875 L 2.496094 -1.164062 Z M 1.128906 -10.042969 L 5.195312 -10.042969 C 6.578125 -10.042969 7.648438 -9.550781 8.40625 -8.570312 C 9.085938 -7.6875 9.425781 -6.554688 9.425781 -5.175781 C 9.425781 -4.109375 9.226562 -3.144531 8.824219 -2.28125 C 8.117188 -0.761719 6.90625 0 5.179688 0 L 1.128906 0 Z M 1.128906 -10.042969 \"/>\n",
       "</symbol>\n",
       "<symbol overflow=\"visible\" id=\"glyph0-7\">\n",
       "<path style=\"stroke:none;\" d=\"M 1.195312 -10.042969 L 8.515625 -10.042969 L 8.515625 -8.8125 L 2.523438 -8.8125 L 2.523438 -5.761719 L 8.066406 -5.761719 L 8.066406 -4.601562 L 2.523438 -4.601562 L 2.523438 -1.195312 L 8.621094 -1.195312 L 8.621094 0 L 1.195312 0 Z M 1.195312 -10.042969 \"/>\n",
       "</symbol>\n",
       "<symbol overflow=\"visible\" id=\"glyph0-8\">\n",
       "<path style=\"stroke:none;\" d=\"M 5.734375 -5.441406 C 6.375 -5.441406 6.878906 -5.570312 7.25 -5.824219 C 7.621094 -6.078125 7.804688 -6.539062 7.804688 -7.203125 C 7.804688 -7.921875 7.546875 -8.40625 7.027344 -8.667969 C 6.75 -8.804688 6.378906 -8.875 5.914062 -8.875 L 2.589844 -8.875 L 2.589844 -5.441406 Z M 1.230469 -10.042969 L 5.878906 -10.042969 C 6.644531 -10.042969 7.277344 -9.929688 7.773438 -9.707031 C 8.714844 -9.277344 9.1875 -8.488281 9.1875 -7.335938 C 9.1875 -6.734375 9.0625 -6.242188 8.816406 -5.859375 C 8.566406 -5.476562 8.21875 -5.167969 7.773438 -4.9375 C 8.164062 -4.777344 8.460938 -4.566406 8.65625 -4.304688 C 8.855469 -4.046875 8.964844 -3.625 8.988281 -3.042969 L 9.039062 -1.695312 C 9.050781 -1.3125 9.082031 -1.027344 9.132812 -0.839844 C 9.214844 -0.523438 9.359375 -0.316406 9.570312 -0.226562 L 9.570312 0 L 7.902344 0 C 7.855469 -0.0859375 7.820312 -0.199219 7.792969 -0.335938 C 7.765625 -0.472656 7.742188 -0.734375 7.726562 -1.128906 L 7.640625 -2.804688 C 7.609375 -3.460938 7.367188 -3.898438 6.910156 -4.121094 C 6.652344 -4.246094 6.242188 -4.304688 5.6875 -4.304688 L 2.589844 -4.304688 L 2.589844 0 L 1.230469 0 Z M 1.230469 -10.042969 \"/>\n",
       "</symbol>\n",
       "<symbol overflow=\"visible\" id=\"glyph0-9\">\n",
       "<path style=\"stroke:none;\" d=\"M 5.296875 -10.316406 C 6.570312 -10.316406 7.554688 -9.980469 8.257812 -9.3125 C 8.960938 -8.640625 9.347656 -7.878906 9.425781 -7.027344 L 8.101562 -7.027344 C 7.949219 -7.675781 7.652344 -8.1875 7.203125 -8.566406 C 6.753906 -8.945312 6.121094 -9.132812 5.3125 -9.132812 C 4.324219 -9.132812 3.523438 -8.785156 2.914062 -8.089844 C 2.304688 -7.394531 2.003906 -6.328125 2.003906 -4.894531 C 2.003906 -3.71875 2.277344 -2.765625 2.828125 -2.035156 C 3.375 -1.304688 4.195312 -0.9375 5.285156 -0.9375 C 6.289062 -0.9375 7.050781 -1.320312 7.574219 -2.09375 C 7.851562 -2.5 8.058594 -3.03125 8.195312 -3.691406 L 9.523438 -3.691406 C 9.40625 -2.632812 9.011719 -1.746094 8.347656 -1.03125 C 7.550781 -0.171875 6.472656 0.257812 5.121094 0.257812 C 3.953125 0.257812 2.972656 -0.09375 2.179688 -0.800781 C 1.136719 -1.734375 0.617188 -3.175781 0.617188 -5.125 C 0.617188 -6.609375 1.007812 -7.824219 1.789062 -8.769531 C 2.636719 -9.800781 3.808594 -10.316406 5.296875 -10.316406 Z M 5.296875 -10.316406 \"/>\n",
       "</symbol>\n",
       "<symbol overflow=\"visible\" id=\"glyph0-10\">\n",
       "<path style=\"stroke:none;\" d=\"M 1.101562 -10.042969 L 2.476562 -10.042969 L 2.476562 -5.890625 L 7.695312 -5.890625 L 7.695312 -10.042969 L 9.070312 -10.042969 L 9.070312 0 L 7.695312 0 L 7.695312 -4.695312 L 2.476562 -4.695312 L 2.476562 0 L 1.101562 0 Z M 1.101562 -10.042969 \"/>\n",
       "</symbol>\n",
       "<symbol overflow=\"visible\" id=\"glyph0-11\">\n",
       "<path style=\"stroke:none;\" d=\"M 1.066406 -10.042969 L 2.671875 -10.042969 L 7.746094 -1.90625 L 7.746094 -10.042969 L 9.039062 -10.042969 L 9.039062 0 L 7.511719 0 L 2.367188 -8.128906 L 2.367188 0 L 1.066406 0 Z M 1.066406 -10.042969 \"/>\n",
       "</symbol>\n",
       "<symbol overflow=\"visible\" id=\"glyph0-12\">\n",
       "<path style=\"stroke:none;\" d=\"M 1.375 -10.042969 L 2.75 -10.042969 L 2.75 0 L 1.375 0 Z M 1.375 -10.042969 \"/>\n",
       "</symbol>\n",
       "<symbol overflow=\"visible\" id=\"glyph0-13\">\n",
       "<path style=\"stroke:none;\" d=\"M 1.195312 -10.042969 L 5.714844 -10.042969 C 6.609375 -10.042969 7.328125 -9.789062 7.875 -9.285156 C 8.421875 -8.78125 8.695312 -8.074219 8.695312 -7.164062 C 8.695312 -6.378906 8.453125 -5.699219 7.964844 -5.117188 C 7.476562 -4.535156 6.726562 -4.246094 5.714844 -4.246094 L 2.554688 -4.246094 L 2.554688 0 L 1.195312 0 Z M 7.320312 -7.15625 C 7.320312 -7.894531 7.046875 -8.398438 6.5 -8.660156 C 6.199219 -8.800781 5.789062 -8.875 5.265625 -8.875 L 2.554688 -8.875 L 2.554688 -5.394531 L 5.265625 -5.394531 C 5.875 -5.394531 6.371094 -5.523438 6.75 -5.78125 C 7.132812 -6.042969 7.320312 -6.5 7.320312 -7.15625 Z M 7.320312 -7.15625 \"/>\n",
       "</symbol>\n",
       "<symbol overflow=\"visible\" id=\"glyph0-14\">\n",
       "<path style=\"stroke:none;\" d=\"M 1.066406 -10.042969 L 2.390625 -10.042969 L 2.390625 -5.148438 L 7.289062 -10.042969 L 9.167969 -10.042969 L 4.992188 -5.996094 L 9.28125 0 L 7.511719 0 L 4 -5.039062 L 2.390625 -3.5 L 2.390625 0 L 1.066406 0 Z M 1.066406 -10.042969 \"/>\n",
       "</symbol>\n",
       "<symbol overflow=\"visible\" id=\"glyph0-15\">\n",
       "<path style=\"stroke:none;\" d=\"M 1.953125 -3.242188 C 1.984375 -2.671875 2.121094 -2.207031 2.359375 -1.851562 C 2.808594 -1.1875 3.605469 -0.855469 4.742188 -0.855469 C 5.253906 -0.855469 5.71875 -0.925781 6.140625 -1.074219 C 6.949219 -1.355469 7.355469 -1.863281 7.355469 -2.589844 C 7.355469 -3.136719 7.183594 -3.527344 6.84375 -3.757812 C 6.496094 -3.988281 5.953125 -4.1875 5.214844 -4.355469 L 3.855469 -4.664062 C 2.96875 -4.863281 2.335938 -5.082031 1.96875 -5.324219 C 1.332031 -5.742188 1.011719 -6.371094 1.011719 -7.203125 C 1.011719 -8.105469 1.324219 -8.847656 1.949219 -9.425781 C 2.574219 -10.003906 3.457031 -10.296875 4.601562 -10.296875 C 5.652344 -10.296875 6.546875 -10.039062 7.285156 -9.53125 C 8.019531 -9.023438 8.386719 -8.210938 8.386719 -7.09375 L 7.109375 -7.09375 C 7.039062 -7.632812 6.894531 -8.046875 6.671875 -8.332031 C 6.257812 -8.855469 5.554688 -9.117188 4.558594 -9.117188 C 3.757812 -9.117188 3.179688 -8.949219 2.828125 -8.613281 C 2.476562 -8.277344 2.304688 -7.882812 2.304688 -7.4375 C 2.304688 -6.945312 2.507812 -6.585938 2.917969 -6.359375 C 3.1875 -6.210938 3.796875 -6.03125 4.742188 -5.8125 L 6.152344 -5.488281 C 6.832031 -5.335938 7.355469 -5.121094 7.726562 -4.851562 C 8.363281 -4.382812 8.679688 -3.703125 8.679688 -2.808594 C 8.679688 -1.695312 8.277344 -0.902344 7.46875 -0.421875 C 6.660156 0.0546875 5.71875 0.292969 4.648438 0.292969 C 3.398438 0.292969 2.421875 -0.0234375 1.714844 -0.664062 C 1.007812 -1.296875 0.664062 -2.15625 0.675781 -3.242188 Z M 1.953125 -3.242188 \"/>\n",
       "</symbol>\n",
       "<symbol overflow=\"visible\" id=\"glyph0-16\">\n",
       "<path style=\"stroke:none;\" d=\"M 1.730469 -10.042969 L 3.625 -1.875 L 5.890625 -10.042969 L 7.367188 -10.042969 L 9.640625 -1.875 L 11.53125 -10.042969 L 13.023438 -10.042969 L 10.382812 0 L 8.953125 0 L 6.636719 -8.328125 L 4.304688 0 L 2.878906 0 L 0.253906 -10.042969 Z M 1.730469 -10.042969 \"/>\n",
       "</symbol>\n",
       "<symbol overflow=\"visible\" id=\"glyph0-17\">\n",
       "<path style=\"stroke:none;\" d=\"M 5.996094 -2.992188 C 5.996094 -2.144531 5.871094 -1.488281 5.617188 -1.019531 C 5.152344 -0.164062 4.269531 0.265625 2.96875 0.265625 C 2.214844 0.265625 1.570312 0.0625 1.039062 -0.34375 C 0.507812 -0.753906 0.238281 -1.480469 0.238281 -2.523438 L 0.238281 -3.242188 L 1.515625 -3.242188 L 1.515625 -2.523438 C 1.515625 -1.976562 1.640625 -1.5625 1.882812 -1.289062 C 2.125 -1.011719 2.507812 -0.875 3.023438 -0.875 C 3.746094 -0.875 4.21875 -1.125 4.445312 -1.621094 C 4.582031 -1.925781 4.648438 -2.5 4.648438 -3.351562 L 4.648438 -10.042969 L 5.996094 -10.042969 Z M 5.996094 -2.992188 \"/>\n",
       "</symbol>\n",
       "<symbol overflow=\"visible\" id=\"glyph0-18\">\n",
       "<path style=\"stroke:none;\" d=\"M 0.320312 -1.128906 L 6.480469 -8.84375 L 0.773438 -8.84375 L 0.773438 -10.042969 L 8.230469 -10.042969 L 8.230469 -8.875 L 2.039062 -1.195312 L 8.230469 -1.195312 L 8.230469 0 L 0.320312 0 Z M 0.320312 -1.128906 \"/>\n",
       "</symbol>\n",
       "<symbol overflow=\"visible\" id=\"glyph0-19\">\n",
       "<path style=\"stroke:none;\" d=\"M 4.839844 -5.796875 C 5.414062 -5.796875 5.859375 -5.875 6.179688 -6.035156 C 6.679688 -6.285156 6.929688 -6.738281 6.929688 -7.390625 C 6.929688 -8.046875 6.664062 -8.488281 6.132812 -8.714844 C 5.832031 -8.84375 5.382812 -8.90625 4.792969 -8.90625 L 2.367188 -8.90625 L 2.367188 -5.796875 Z M 5.296875 -1.164062 C 6.132812 -1.164062 6.726562 -1.402344 7.082031 -1.886719 C 7.304688 -2.191406 7.417969 -2.5625 7.417969 -2.992188 C 7.417969 -3.722656 7.089844 -4.21875 6.4375 -4.484375 C 6.09375 -4.625 5.636719 -4.695312 5.066406 -4.695312 L 2.367188 -4.695312 L 2.367188 -1.164062 Z M 1.03125 -10.042969 L 5.34375 -10.042969 C 6.519531 -10.042969 7.359375 -9.691406 7.855469 -8.988281 C 8.148438 -8.574219 8.292969 -8.097656 8.292969 -7.554688 C 8.292969 -6.921875 8.113281 -6.402344 7.75 -5.996094 C 7.5625 -5.78125 7.296875 -5.585938 6.945312 -5.40625 C 7.460938 -5.210938 7.84375 -4.992188 8.101562 -4.742188 C 8.550781 -4.304688 8.777344 -3.703125 8.777344 -2.933594 C 8.777344 -2.285156 8.574219 -1.699219 8.167969 -1.175781 C 7.5625 -0.390625 6.597656 0 5.277344 0 L 1.03125 0 Z M 1.03125 -10.042969 \"/>\n",
       "</symbol>\n",
       "<symbol overflow=\"visible\" id=\"glyph0-20\">\n",
       "<path style=\"stroke:none;\" d=\"M 5.398438 -10.316406 C 7.171875 -10.316406 8.484375 -9.746094 9.335938 -8.605469 C 10.003906 -7.71875 10.335938 -6.582031 10.335938 -5.195312 C 10.335938 -3.695312 9.957031 -2.449219 9.195312 -1.457031 C 8.300781 -0.289062 7.027344 0.292969 5.375 0.292969 C 3.828125 0.292969 2.613281 -0.214844 1.730469 -1.238281 C 0.941406 -2.222656 0.546875 -3.464844 0.546875 -4.96875 C 0.546875 -6.328125 0.882812 -7.488281 1.558594 -8.457031 C 2.425781 -9.695312 3.703125 -10.316406 5.398438 -10.316406 Z M 5.539062 -0.921875 C 6.734375 -0.921875 7.601562 -1.351562 8.136719 -2.210938 C 8.671875 -3.070312 8.941406 -4.058594 8.941406 -5.175781 C 8.941406 -6.355469 8.632812 -7.304688 8.015625 -8.023438 C 7.398438 -8.746094 6.554688 -9.105469 5.484375 -9.105469 C 4.445312 -9.105469 3.59375 -8.75 2.9375 -8.035156 C 2.28125 -7.320312 1.953125 -6.269531 1.953125 -4.882812 C 1.953125 -3.769531 2.238281 -2.832031 2.800781 -2.066406 C 3.363281 -1.304688 4.273438 -0.921875 5.539062 -0.921875 Z M 5.539062 -0.921875 \"/>\n",
       "</symbol>\n",
       "<symbol overflow=\"visible\" id=\"glyph0-21\">\n",
       "<path style=\"stroke:none;\" d=\"M 1.03125 -10.042969 L 2.980469 -10.042969 L 5.867188 -1.550781 L 8.730469 -10.042969 L 10.65625 -10.042969 L 10.65625 0 L 9.367188 0 L 9.367188 -5.925781 C 9.367188 -6.132812 9.371094 -6.472656 9.378906 -6.945312 C 9.386719 -7.417969 9.390625 -7.925781 9.390625 -8.46875 L 6.527344 0 L 5.179688 0 L 2.296875 -8.46875 L 2.296875 -8.164062 C 2.296875 -7.917969 2.300781 -7.542969 2.3125 -7.039062 C 2.324219 -6.535156 2.332031 -6.164062 2.332031 -5.925781 L 2.332031 0 L 1.03125 0 Z M 1.03125 -10.042969 \"/>\n",
       "</symbol>\n",
       "<symbol overflow=\"visible\" id=\"glyph0-22\">\n",
       "<path style=\"stroke:none;\" d=\"M 1.066406 -10.042969 L 2.425781 -10.042969 L 2.425781 -1.195312 L 7.511719 -1.195312 L 7.511719 0 L 1.066406 0 Z M 1.066406 -10.042969 \"/>\n",
       "</symbol>\n",
       "<symbol overflow=\"visible\" id=\"glyph0-23\">\n",
       "<path style=\"stroke:none;\" d=\"M 1.859375 -10.042969 L 4.742188 -1.492188 L 7.59375 -10.042969 L 9.117188 -10.042969 L 5.453125 0 L 4.011719 0 L 0.355469 -10.042969 Z M 1.859375 -10.042969 \"/>\n",
       "</symbol>\n",
       "<symbol overflow=\"visible\" id=\"glyph0-24\">\n",
       "<path style=\"stroke:none;\" d=\"M 1.929688 0 L 0.289062 0 L 3.882812 -5.148438 L 0.511719 -10.042969 L 2.214844 -10.042969 L 4.777344 -6.199219 L 7.320312 -10.042969 L 8.941406 -10.042969 L 5.570312 -5.148438 L 9.105469 0 L 7.417969 0 L 4.710938 -4.128906 Z M 1.929688 0 \"/>\n",
       "</symbol>\n",
       "<symbol overflow=\"visible\" id=\"glyph0-25\">\n",
       "<path style=\"stroke:none;\" d=\"M 0.289062 -10.042969 L 1.875 -10.042969 L 4.757812 -5.214844 L 7.640625 -10.042969 L 9.234375 -10.042969 L 5.441406 -4.046875 L 5.441406 0 L 4.082031 0 L 4.082031 -4.046875 Z M 0.289062 -10.042969 \"/>\n",
       "</symbol>\n",
       "<symbol overflow=\"visible\" id=\"glyph0-26\">\n",
       "<path style=\"stroke:none;\" d=\"M 10.253906 -0.0273438 L 9.570312 0.800781 L 8.019531 -0.382812 C 7.644531 -0.179688 7.242188 -0.015625 6.804688 0.109375 C 6.371094 0.234375 5.894531 0.292969 5.378906 0.292969 C 3.820312 0.292969 2.601562 -0.214844 1.714844 -1.238281 C 0.9375 -2.230469 0.546875 -3.476562 0.546875 -4.96875 C 0.546875 -6.328125 0.882812 -7.488281 1.558594 -8.457031 C 2.425781 -9.695312 3.703125 -10.316406 5.398438 -10.316406 C 7.171875 -10.316406 8.484375 -9.746094 9.335938 -8.605469 C 10.003906 -7.71875 10.335938 -6.582031 10.335938 -5.195312 C 10.335938 -4.546875 10.257812 -3.925781 10.097656 -3.328125 C 9.855469 -2.417969 9.445312 -1.675781 8.875 -1.101562 Z M 5.542969 -0.921875 C 5.828125 -0.921875 6.089844 -0.941406 6.335938 -0.980469 C 6.582031 -1.019531 6.796875 -1.097656 6.980469 -1.210938 L 5.878906 -2.070312 L 6.5625 -2.914062 L 7.875 -1.894531 C 8.289062 -2.367188 8.570312 -2.898438 8.71875 -3.484375 C 8.867188 -4.074219 8.941406 -4.636719 8.941406 -5.175781 C 8.941406 -6.355469 8.632812 -7.304688 8.015625 -8.023438 C 7.398438 -8.746094 6.554688 -9.105469 5.484375 -9.105469 C 4.398438 -9.105469 3.539062 -8.761719 2.90625 -8.070312 C 2.273438 -7.378906 1.953125 -6.316406 1.953125 -4.882812 C 1.953125 -3.671875 2.257812 -2.710938 2.867188 -1.996094 C 3.476562 -1.28125 4.367188 -0.921875 5.542969 -0.921875 Z M 5.542969 -0.921875 \"/>\n",
       "</symbol>\n",
       "</g>\n",
       "</defs>\n",
       "<g id=\"surface68\">\n",
       "<rect x=\"0\" y=\"0\" width=\"600\" height=\"600\" style=\"fill:rgb(100%,100%,100%);fill-opacity:1;stroke:none;\"/>\n",
       "<path style=\"fill:none;stroke-width:1;stroke-linecap:butt;stroke-linejoin:miter;stroke:rgb(26.666667%,26.666667%,26.666667%);stroke-opacity:1;stroke-miterlimit:10;\" d=\"M 462.433594 266.449219 L 472.542969 217.925781 \"/>\n",
       "<path style=\" stroke:none;fill-rule:nonzero;fill:rgb(26.666667%,26.666667%,26.666667%);fill-opacity:1;\" d=\"M 475.453125 203.960938 L 477.078125 218.871094 L 468.003906 216.980469 L 475.453125 203.960938 \"/>\n",
       "<path style=\"fill:none;stroke-width:1;stroke-linecap:butt;stroke-linejoin:miter;stroke:rgb(26.666667%,26.666667%,26.666667%);stroke-opacity:1;stroke-miterlimit:10;\" d=\"M 462.433594 266.449219 L 453.472656 262.695312 \"/>\n",
       "<path style=\" stroke:none;fill-rule:nonzero;fill:rgb(26.666667%,26.666667%,26.666667%);fill-opacity:1;\" d=\"M 440.316406 257.179688 L 455.261719 258.417969 L 451.679688 266.96875 L 440.316406 257.179688 \"/>\n",
       "<path style=\"fill:none;stroke-width:1;stroke-linecap:butt;stroke-linejoin:miter;stroke:rgb(26.666667%,26.666667%,26.666667%);stroke-opacity:1;stroke-miterlimit:10;\" d=\"M 462.433594 266.449219 L 504.644531 281.546875 \"/>\n",
       "<path style=\" stroke:none;fill-rule:nonzero;fill:rgb(26.666667%,26.666667%,26.666667%);fill-opacity:1;\" d=\"M 518.074219 286.347656 L 503.082031 285.910156 L 506.203125 277.179688 L 518.074219 286.347656 \"/>\n",
       "<path style=\"fill:none;stroke-width:1;stroke-linecap:butt;stroke-linejoin:miter;stroke:rgb(26.666667%,26.666667%,26.666667%);stroke-opacity:1;stroke-miterlimit:10;\" d=\"M 462.433594 266.449219 L 451.550781 225.300781 \"/>\n",
       "<path style=\" stroke:none;fill-rule:nonzero;fill:rgb(26.666667%,26.666667%,26.666667%);fill-opacity:1;\" d=\"M 447.902344 211.507812 L 456.03125 224.113281 L 447.066406 226.484375 L 447.902344 211.507812 \"/>\n",
       "<path style=\"fill:none;stroke-width:1;stroke-linecap:butt;stroke-linejoin:miter;stroke:rgb(26.666667%,26.666667%,26.666667%);stroke-opacity:1;stroke-miterlimit:10;\" d=\"M 462.433594 266.449219 L 456.28125 259.042969 \"/>\n",
       "<path style=\" stroke:none;fill-rule:nonzero;fill:rgb(26.666667%,26.666667%,26.666667%);fill-opacity:1;\" d=\"M 447.167969 248.066406 L 459.847656 256.082031 L 452.714844 262.003906 L 447.167969 248.066406 \"/>\n",
       "<path style=\"fill:none;stroke-width:1;stroke-linecap:butt;stroke-linejoin:miter;stroke:rgb(26.666667%,26.666667%,26.666667%);stroke-opacity:1;stroke-miterlimit:10;\" d=\"M 462.433594 266.449219 L 483.894531 246.601562 \"/>\n",
       "<path style=\" stroke:none;fill-rule:nonzero;fill:rgb(26.666667%,26.666667%,26.666667%);fill-opacity:1;\" d=\"M 494.367188 236.914062 L 487.039062 250.003906 L 480.746094 243.199219 L 494.367188 236.914062 \"/>\n",
       "<path style=\"fill:none;stroke-width:1;stroke-linecap:butt;stroke-linejoin:miter;stroke:rgb(26.666667%,26.666667%,26.666667%);stroke-opacity:1;stroke-miterlimit:10;\" d=\"M 462.433594 266.449219 C 431.78125 256.046875 403.113281 292.675781 388.601562 290.617188 \"/>\n",
       "<path style=\" stroke:none;fill-rule:nonzero;fill:rgb(26.666667%,26.666667%,26.666667%);fill-opacity:1;\" d=\"M 402.726562 292.621094 L 387.953125 295.203125 L 389.253906 286.027344 L 402.726562 292.621094 \"/>\n",
       "<path style=\"fill:none;stroke-width:1;stroke-linecap:butt;stroke-linejoin:miter;stroke:rgb(26.666667%,26.666667%,26.666667%);stroke-opacity:1;stroke-miterlimit:10;\" d=\"M 462.433594 266.449219 L 436.832031 235.808594 \"/>\n",
       "<path style=\" stroke:none;fill-rule:nonzero;fill:rgb(26.666667%,26.666667%,26.666667%);fill-opacity:1;\" d=\"M 427.683594 224.859375 L 440.386719 232.835938 L 433.273438 238.777344 L 427.683594 224.859375 \"/>\n",
       "<path style=\"fill:none;stroke-width:1;stroke-linecap:butt;stroke-linejoin:miter;stroke:rgb(26.666667%,26.666667%,26.666667%);stroke-opacity:1;stroke-miterlimit:10;\" d=\"M 462.433594 266.449219 L 481.054688 312.214844 \"/>\n",
       "<path style=\" stroke:none;fill-rule:nonzero;fill:rgb(26.666667%,26.666667%,26.666667%);fill-opacity:1;\" d=\"M 486.433594 325.429688 L 476.761719 313.960938 L 485.347656 310.46875 L 486.433594 325.429688 \"/>\n",
       "<path style=\"fill:none;stroke-width:1;stroke-linecap:butt;stroke-linejoin:miter;stroke:rgb(26.666667%,26.666667%,26.666667%);stroke-opacity:1;stroke-miterlimit:10;\" d=\"M 462.433594 266.449219 L 462.8125 241.269531 \"/>\n",
       "<path style=\" stroke:none;fill-rule:nonzero;fill:rgb(26.666667%,26.666667%,26.666667%);fill-opacity:1;\" d=\"M 463.027344 227.003906 L 467.445312 241.339844 L 458.175781 241.199219 L 463.027344 227.003906 \"/>\n",
       "<path style=\"fill:none;stroke-width:1;stroke-linecap:butt;stroke-linejoin:miter;stroke:rgb(26.666667%,26.666667%,26.666667%);stroke-opacity:1;stroke-miterlimit:10;\" d=\"M 462.433594 266.449219 L 458.320312 309.957031 \"/>\n",
       "<path style=\" stroke:none;fill-rule:nonzero;fill:rgb(26.666667%,26.666667%,26.666667%);fill-opacity:1;\" d=\"M 456.976562 324.160156 L 453.703125 309.523438 L 462.933594 310.394531 L 456.976562 324.160156 \"/>\n",
       "<path style=\"fill:none;stroke-width:1;stroke-linecap:butt;stroke-linejoin:miter;stroke:rgb(26.666667%,26.666667%,26.666667%);stroke-opacity:1;stroke-miterlimit:10;\" d=\"M 133.121094 169.984375 C 142.683594 179.195312 155.113281 182.59375 164.75 173.902344 \"/>\n",
       "<path style=\" stroke:none;fill-rule:nonzero;fill:rgb(26.666667%,26.666667%,26.666667%);fill-opacity:1;\" d=\"M 175.34375 164.347656 L 167.855469 177.34375 L 161.644531 170.460938 L 175.34375 164.347656 \"/>\n",
       "<path style=\"fill:none;stroke-width:1;stroke-linecap:butt;stroke-linejoin:miter;stroke:rgb(26.666667%,26.666667%,26.666667%);stroke-opacity:1;stroke-miterlimit:10;\" d=\"M 133.121094 169.984375 L 130.554688 170.0625 \"/>\n",
       "<path style=\" stroke:none;fill-rule:nonzero;fill:rgb(26.666667%,26.666667%,26.666667%);fill-opacity:1;\" d=\"M 116.296875 170.496094 L 130.414062 165.429688 L 130.699219 174.695312 L 116.296875 170.496094 \"/>\n",
       "<path style=\"fill:none;stroke-width:1;stroke-linecap:butt;stroke-linejoin:miter;stroke:rgb(26.666667%,26.666667%,26.666667%);stroke-opacity:1;stroke-miterlimit:10;\" d=\"M 488.558594 295.902344 L 450.585938 267.761719 \"/>\n",
       "<path style=\" stroke:none;fill-rule:nonzero;fill:rgb(26.666667%,26.666667%,26.666667%);fill-opacity:1;\" d=\"M 439.125 259.269531 L 453.347656 264.039062 L 447.828125 271.484375 L 439.125 259.269531 \"/>\n",
       "<path style=\"fill:none;stroke-width:1;stroke-linecap:butt;stroke-linejoin:miter;stroke:rgb(26.666667%,26.666667%,26.666667%);stroke-opacity:1;stroke-miterlimit:10;\" d=\"M 488.558594 295.902344 L 503.527344 293.523438 \"/>\n",
       "<path style=\" stroke:none;fill-rule:nonzero;fill:rgb(26.666667%,26.666667%,26.666667%);fill-opacity:1;\" d=\"M 517.617188 291.285156 L 504.253906 298.101562 L 502.800781 288.945312 L 517.617188 291.285156 \"/>\n",
       "<path style=\"fill:none;stroke-width:1;stroke-linecap:butt;stroke-linejoin:miter;stroke:rgb(26.666667%,26.666667%,26.666667%);stroke-opacity:1;stroke-miterlimit:10;\" d=\"M 25.46875 244.972656 L 25.355469 250.695312 \"/>\n",
       "<path style=\" stroke:none;fill-rule:nonzero;fill:rgb(26.666667%,26.666667%,26.666667%);fill-opacity:1;\" d=\"M 25.070312 264.957031 L 20.71875 250.601562 L 29.988281 250.785156 L 25.070312 264.957031 \"/>\n",
       "<path style=\"fill:none;stroke-width:1;stroke-linecap:butt;stroke-linejoin:miter;stroke:rgb(26.666667%,26.666667%,26.666667%);stroke-opacity:1;stroke-miterlimit:10;\" d=\"M 156.125 133.757812 C 165.09375 143.1875 168.890625 161.992188 159.761719 164.78125 \"/>\n",
       "<path style=\" stroke:none;fill-rule:nonzero;fill:rgb(26.666667%,26.666667%,26.666667%);fill-opacity:1;\" d=\"M 173.40625 160.613281 L 161.117188 169.214844 L 158.410156 160.347656 L 173.40625 160.613281 \"/>\n",
       "<path style=\"fill:none;stroke-width:1;stroke-linecap:butt;stroke-linejoin:miter;stroke:rgb(26.666667%,26.666667%,26.666667%);stroke-opacity:1;stroke-miterlimit:10;\" d=\"M 156.125 133.757812 C 154.300781 133.722656 153.0625 134.5625 152.570312 136.316406 \"/>\n",
       "<path style=\" stroke:none;fill-rule:nonzero;fill:rgb(26.666667%,26.666667%,26.666667%);fill-opacity:1;\" d=\"M 156.40625 122.578125 L 157.035156 137.5625 L 148.105469 135.070312 L 156.40625 122.578125 \"/>\n",
       "<path style=\"fill:none;stroke-width:1;stroke-linecap:butt;stroke-linejoin:miter;stroke:rgb(26.666667%,26.666667%,26.666667%);stroke-opacity:1;stroke-miterlimit:10;\" d=\"M 156.125 133.757812 L 148.914062 131.523438 \"/>\n",
       "<path style=\" stroke:none;fill-rule:nonzero;fill:rgb(26.666667%,26.666667%,26.666667%);fill-opacity:1;\" d=\"M 135.289062 127.300781 L 150.285156 127.09375 L 147.542969 135.949219 L 135.289062 127.300781 \"/>\n",
       "<path style=\"fill:none;stroke-width:1;stroke-linecap:butt;stroke-linejoin:miter;stroke:rgb(26.666667%,26.666667%,26.666667%);stroke-opacity:1;stroke-miterlimit:10;\" d=\"M 156.125 133.757812 L 182.871094 136.421875 \"/>\n",
       "<path style=\" stroke:none;fill-rule:nonzero;fill:rgb(26.666667%,26.666667%,26.666667%);fill-opacity:1;\" d=\"M 197.070312 137.835938 L 182.414062 141.035156 L 183.332031 131.808594 L 197.070312 137.835938 \"/>\n",
       "<path style=\"fill:none;stroke-width:1;stroke-linecap:butt;stroke-linejoin:miter;stroke:rgb(26.666667%,26.666667%,26.666667%);stroke-opacity:1;stroke-miterlimit:10;\" d=\"M 271.992188 389.765625 L 317.589844 353.851562 \"/>\n",
       "<path style=\" stroke:none;fill-rule:nonzero;fill:rgb(26.666667%,26.666667%,26.666667%);fill-opacity:1;\" d=\"M 328.796875 345.023438 L 320.457031 357.492188 L 314.722656 350.210938 L 328.796875 345.023438 \"/>\n",
       "<path style=\"fill:none;stroke-width:1;stroke-linecap:butt;stroke-linejoin:miter;stroke:rgb(26.666667%,26.666667%,26.666667%);stroke-opacity:1;stroke-miterlimit:10;\" d=\"M 221.320312 205.625 L 252.675781 239.699219 \"/>\n",
       "<path style=\" stroke:none;fill-rule:nonzero;fill:rgb(26.666667%,26.666667%,26.666667%);fill-opacity:1;\" d=\"M 262.335938 250.195312 L 249.265625 242.835938 L 256.089844 236.558594 L 262.335938 250.195312 \"/>\n",
       "<path style=\"fill:none;stroke-width:1;stroke-linecap:butt;stroke-linejoin:miter;stroke:rgb(26.666667%,26.666667%,26.666667%);stroke-opacity:1;stroke-miterlimit:10;\" d=\"M 221.320312 205.625 C 206.441406 198.289062 208.367188 173.125 203.316406 170.121094 \"/>\n",
       "<path style=\" stroke:none;fill-rule:nonzero;fill:rgb(26.666667%,26.666667%,26.666667%);fill-opacity:1;\" d=\"M 191.050781 162.832031 L 205.683594 166.136719 L 200.945312 174.105469 L 191.050781 162.832031 \"/>\n",
       "<path style=\"fill:none;stroke-width:1;stroke-linecap:butt;stroke-linejoin:miter;stroke:rgb(26.666667%,26.666667%,26.666667%);stroke-opacity:1;stroke-miterlimit:10;\" d=\"M 221.320312 205.625 L 193.832031 207.613281 \"/>\n",
       "<path style=\" stroke:none;fill-rule:nonzero;fill:rgb(26.666667%,26.666667%,26.666667%);fill-opacity:1;\" d=\"M 179.601562 208.644531 L 193.496094 202.992188 L 194.167969 212.238281 L 179.601562 208.644531 \"/>\n",
       "<path style=\"fill:none;stroke-width:1;stroke-linecap:butt;stroke-linejoin:miter;stroke:rgb(26.666667%,26.666667%,26.666667%);stroke-opacity:1;stroke-miterlimit:10;\" d=\"M 221.320312 205.625 L 262.710938 182.539062 \"/>\n",
       "<path style=\" stroke:none;fill-rule:nonzero;fill:rgb(26.666667%,26.666667%,26.666667%);fill-opacity:1;\" d=\"M 275.167969 175.589844 L 264.96875 186.585938 L 260.453125 178.492188 L 275.167969 175.589844 \"/>\n",
       "<path style=\"fill:none;stroke-width:1;stroke-linecap:butt;stroke-linejoin:miter;stroke:rgb(26.666667%,26.666667%,26.666667%);stroke-opacity:1;stroke-miterlimit:10;\" d=\"M 221.320312 205.625 L 240.515625 211.320312 \"/>\n",
       "<path style=\" stroke:none;fill-rule:nonzero;fill:rgb(26.666667%,26.666667%,26.666667%);fill-opacity:1;\" d=\"M 254.195312 215.382812 L 239.199219 215.765625 L 241.835938 206.878906 L 254.195312 215.382812 \"/>\n",
       "<path style=\"fill:none;stroke-width:1;stroke-linecap:butt;stroke-linejoin:miter;stroke:rgb(26.666667%,26.666667%,26.666667%);stroke-opacity:1;stroke-miterlimit:10;\" d=\"M 268.386719 526.292969 L 260.199219 517.921875 \"/>\n",
       "<path style=\" stroke:none;fill-rule:nonzero;fill:rgb(26.666667%,26.666667%,26.666667%);fill-opacity:1;\" d=\"M 250.226562 507.722656 L 263.515625 514.683594 L 256.886719 521.164062 L 250.226562 507.722656 \"/>\n",
       "<path style=\"fill:none;stroke-width:1;stroke-linecap:butt;stroke-linejoin:miter;stroke:rgb(26.666667%,26.666667%,26.666667%);stroke-opacity:1;stroke-miterlimit:10;\" d=\"M 268.386719 526.292969 L 299.390625 507.066406 \"/>\n",
       "<path style=\" stroke:none;fill-rule:nonzero;fill:rgb(26.666667%,26.666667%,26.666667%);fill-opacity:1;\" d=\"M 311.515625 499.546875 L 301.835938 511.003906 L 296.949219 503.128906 L 311.515625 499.546875 \"/>\n",
       "<path style=\"fill:none;stroke-width:1;stroke-linecap:butt;stroke-linejoin:miter;stroke:rgb(26.666667%,26.666667%,26.666667%);stroke-opacity:1;stroke-miterlimit:10;\" d=\"M 58.804688 423.125 L 57.542969 432.402344 \"/>\n",
       "<path style=\" stroke:none;fill-rule:nonzero;fill:rgb(26.666667%,26.666667%,26.666667%);fill-opacity:1;\" d=\"M 55.621094 446.539062 L 52.953125 431.777344 L 62.136719 433.027344 L 55.621094 446.539062 \"/>\n",
       "<path style=\"fill:none;stroke-width:1;stroke-linecap:butt;stroke-linejoin:miter;stroke:rgb(26.666667%,26.666667%,26.666667%);stroke-opacity:1;stroke-miterlimit:10;\" d=\"M 58.804688 423.125 C 72.453125 413.25 73.976562 384.023438 70.785156 384.507812 \"/>\n",
       "<path style=\" stroke:none;fill-rule:nonzero;fill:rgb(26.666667%,26.666667%,26.666667%);fill-opacity:1;\" d=\"M 56.679688 386.636719 L 70.09375 379.925781 L 71.476562 389.089844 L 56.679688 386.636719 \"/>\n",
       "<path style=\"fill:none;stroke-width:1;stroke-linecap:butt;stroke-linejoin:miter;stroke:rgb(26.666667%,26.666667%,26.666667%);stroke-opacity:1;stroke-miterlimit:10;\" d=\"M 58.804688 423.125 L 70.269531 444.644531 \"/>\n",
       "<path style=\" stroke:none;fill-rule:nonzero;fill:rgb(26.666667%,26.666667%,26.666667%);fill-opacity:1;\" d=\"M 76.976562 457.234375 L 66.179688 446.824219 L 74.359375 442.464844 L 76.976562 457.234375 \"/>\n",
       "<path style=\"fill:none;stroke-width:1;stroke-linecap:butt;stroke-linejoin:miter;stroke:rgb(26.666667%,26.666667%,26.666667%);stroke-opacity:1;stroke-miterlimit:10;\" d=\"M 269.109375 257.554688 C 268.328125 275.53125 277.636719 295.496094 293.5 293.191406 \"/>\n",
       "<path style=\" stroke:none;fill-rule:nonzero;fill:rgb(26.666667%,26.666667%,26.666667%);fill-opacity:1;\" d=\"M 307.617188 291.140625 L 294.167969 297.777344 L 292.832031 288.605469 L 307.617188 291.140625 \"/>\n",
       "<path style=\"fill:none;stroke-width:1;stroke-linecap:butt;stroke-linejoin:miter;stroke:rgb(26.666667%,26.666667%,26.666667%);stroke-opacity:1;stroke-miterlimit:10;\" d=\"M 269.109375 257.554688 C 276.171875 253.144531 280.472656 245.777344 276.316406 238.914062 \"/>\n",
       "<path style=\" stroke:none;fill-rule:nonzero;fill:rgb(26.666667%,26.666667%,26.666667%);fill-opacity:1;\" d=\"M 268.921875 226.714844 L 280.28125 236.511719 L 272.351562 241.316406 L 268.921875 226.714844 \"/>\n",
       "<path style=\"fill:none;stroke-width:1;stroke-linecap:butt;stroke-linejoin:miter;stroke:rgb(26.666667%,26.666667%,26.666667%);stroke-opacity:1;stroke-miterlimit:10;\" d=\"M 182.59375 157.808594 C 173.3125 149.167969 162.132812 146.730469 152.335938 154.582031 \"/>\n",
       "<path style=\" stroke:none;fill-rule:nonzero;fill:rgb(26.666667%,26.666667%,26.666667%);fill-opacity:1;\" d=\"M 141.203125 163.503906 L 149.433594 150.96875 L 155.234375 158.199219 L 141.203125 163.503906 \"/>\n",
       "<path style=\"fill:none;stroke-width:1;stroke-linecap:butt;stroke-linejoin:miter;stroke:rgb(26.666667%,26.666667%,26.666667%);stroke-opacity:1;stroke-miterlimit:10;\" d=\"M 182.59375 157.808594 C 176.476562 161.324219 168.402344 161.726562 165.78125 155.753906 \"/>\n",
       "<path style=\" stroke:none;fill-rule:nonzero;fill:rgb(26.666667%,26.666667%,26.666667%);fill-opacity:1;\" d=\"M 160.046875 142.691406 L 170.023438 153.890625 L 161.535156 157.617188 L 160.046875 142.691406 \"/>\n",
       "<path style=\"fill:none;stroke-width:1;stroke-linecap:butt;stroke-linejoin:miter;stroke:rgb(26.666667%,26.666667%,26.666667%);stroke-opacity:1;stroke-miterlimit:10;\" d=\"M 182.59375 157.808594 C 200.628906 171.679688 209.253906 208.023438 197.246094 210.414062 \"/>\n",
       "<path style=\" stroke:none;fill-rule:nonzero;fill:rgb(26.666667%,26.666667%,26.666667%);fill-opacity:1;\" d=\"M 211.238281 207.628906 L 198.148438 214.960938 L 196.339844 205.867188 L 211.238281 207.628906 \"/>\n",
       "<path style=\"fill:none;stroke-width:1;stroke-linecap:butt;stroke-linejoin:miter;stroke:rgb(26.666667%,26.666667%,26.666667%);stroke-opacity:1;stroke-miterlimit:10;\" d=\"M 182.59375 157.808594 L 175.546875 185.835938 \"/>\n",
       "<path style=\" stroke:none;fill-rule:nonzero;fill:rgb(26.666667%,26.666667%,26.666667%);fill-opacity:1;\" d=\"M 172.066406 199.667969 L 171.050781 184.703125 L 180.042969 186.964844 L 172.066406 199.667969 \"/>\n",
       "<path style=\"fill:none;stroke-width:1;stroke-linecap:butt;stroke-linejoin:miter;stroke:rgb(26.666667%,26.666667%,26.666667%);stroke-opacity:1;stroke-miterlimit:10;\" d=\"M 182.59375 157.808594 L 170.359375 134.503906 \"/>\n",
       "<path style=\" stroke:none;fill-rule:nonzero;fill:rgb(26.666667%,26.666667%,26.666667%);fill-opacity:1;\" d=\"M 163.726562 121.875 L 174.460938 132.347656 L 166.253906 136.660156 L 163.726562 121.875 \"/>\n",
       "<path style=\"fill:none;stroke-width:1;stroke-linecap:butt;stroke-linejoin:miter;stroke:rgb(26.666667%,26.666667%,26.666667%);stroke-opacity:1;stroke-miterlimit:10;\" d=\"M 182.59375 157.808594 L 259.832031 167.652344 \"/>\n",
       "<path style=\" stroke:none;fill-rule:nonzero;fill:rgb(26.666667%,26.666667%,26.666667%);fill-opacity:1;\" d=\"M 273.984375 169.457031 L 259.246094 172.25 L 260.417969 163.054688 L 273.984375 169.457031 \"/>\n",
       "<path style=\"fill:none;stroke-width:1;stroke-linecap:butt;stroke-linejoin:miter;stroke:rgb(26.666667%,26.666667%,26.666667%);stroke-opacity:1;stroke-miterlimit:10;\" d=\"M 182.59375 157.808594 L 146.648438 136.648438 \"/>\n",
       "<path style=\" stroke:none;fill-rule:nonzero;fill:rgb(26.666667%,26.666667%,26.666667%);fill-opacity:1;\" d=\"M 134.355469 129.414062 L 149 132.65625 L 144.296875 140.644531 L 134.355469 129.414062 \"/>\n",
       "<path style=\"fill:none;stroke-width:1;stroke-linecap:butt;stroke-linejoin:miter;stroke:rgb(26.666667%,26.666667%,26.666667%);stroke-opacity:1;stroke-miterlimit:10;\" d=\"M 182.59375 157.808594 L 187.859375 153.714844 \"/>\n",
       "<path style=\" stroke:none;fill-rule:nonzero;fill:rgb(26.666667%,26.666667%,26.666667%);fill-opacity:1;\" d=\"M 199.125 144.960938 L 190.703125 157.375 L 185.015625 150.054688 L 199.125 144.960938 \"/>\n",
       "<path style=\"fill:none;stroke-width:1;stroke-linecap:butt;stroke-linejoin:miter;stroke:rgb(26.666667%,26.666667%,26.666667%);stroke-opacity:1;stroke-miterlimit:10;\" d=\"M 182.59375 157.808594 L 209.054688 117.292969 \"/>\n",
       "<path style=\" stroke:none;fill-rule:nonzero;fill:rgb(26.666667%,26.666667%,26.666667%);fill-opacity:1;\" d=\"M 216.855469 105.347656 L 212.9375 119.828125 L 205.175781 114.757812 L 216.855469 105.347656 \"/>\n",
       "<path style=\"fill:none;stroke-width:1;stroke-linecap:butt;stroke-linejoin:miter;stroke:rgb(26.666667%,26.666667%,26.666667%);stroke-opacity:1;stroke-miterlimit:10;\" d=\"M 182.59375 157.808594 L 130.222656 166.726562 \"/>\n",
       "<path style=\" stroke:none;fill-rule:nonzero;fill:rgb(26.666667%,26.666667%,26.666667%);fill-opacity:1;\" d=\"M 116.160156 169.121094 L 129.445312 162.15625 L 131 171.296875 L 116.160156 169.121094 \"/>\n",
       "<path style=\"fill:none;stroke-width:1;stroke-linecap:butt;stroke-linejoin:miter;stroke:rgb(26.666667%,26.666667%,26.666667%);stroke-opacity:1;stroke-miterlimit:10;\" d=\"M 345.648438 528.453125 L 352.601562 532.566406 \"/>\n",
       "<path style=\" stroke:none;fill-rule:nonzero;fill:rgb(26.666667%,26.666667%,26.666667%);fill-opacity:1;\" d=\"M 364.882812 539.828125 L 350.242188 536.554688 L 354.960938 528.578125 L 364.882812 539.828125 \"/>\n",
       "<path style=\"fill:none;stroke-width:1;stroke-linecap:butt;stroke-linejoin:miter;stroke:rgb(26.666667%,26.666667%,26.666667%);stroke-opacity:1;stroke-miterlimit:10;\" d=\"M 345.648438 528.453125 L 344.691406 532.324219 \"/>\n",
       "<path style=\" stroke:none;fill-rule:nonzero;fill:rgb(26.666667%,26.666667%,26.666667%);fill-opacity:1;\" d=\"M 341.265625 546.171875 L 340.191406 531.210938 L 349.191406 533.4375 L 341.265625 546.171875 \"/>\n",
       "<path style=\"fill:none;stroke-width:1;stroke-linecap:butt;stroke-linejoin:miter;stroke:rgb(26.666667%,26.666667%,26.666667%);stroke-opacity:1;stroke-miterlimit:10;\" d=\"M 345.648438 528.453125 L 334.574219 513.691406 \"/>\n",
       "<path style=\" stroke:none;fill-rule:nonzero;fill:rgb(26.666667%,26.666667%,26.666667%);fill-opacity:1;\" d=\"M 326.015625 502.277344 L 338.28125 510.910156 L 330.867188 516.472656 L 326.015625 502.277344 \"/>\n",
       "<path style=\"fill:none;stroke-width:1;stroke-linecap:butt;stroke-linejoin:miter;stroke:rgb(26.666667%,26.666667%,26.666667%);stroke-opacity:1;stroke-miterlimit:10;\" d=\"M 345.136719 203.578125 L 410.089844 241.160156 \"/>\n",
       "<path style=\" stroke:none;fill-rule:nonzero;fill:rgb(26.666667%,26.666667%,26.666667%);fill-opacity:1;\" d=\"M 422.4375 248.304688 L 407.769531 245.171875 L 412.410156 237.148438 L 422.4375 248.304688 \"/>\n",
       "<path style=\"fill:none;stroke-width:1;stroke-linecap:butt;stroke-linejoin:miter;stroke:rgb(26.666667%,26.666667%,26.666667%);stroke-opacity:1;stroke-miterlimit:10;\" d=\"M 345.136719 203.578125 L 284.351562 169.277344 \"/>\n",
       "<path style=\" stroke:none;fill-rule:nonzero;fill:rgb(26.666667%,26.666667%,26.666667%);fill-opacity:1;\" d=\"M 271.925781 162.265625 L 286.628906 165.238281 L 282.074219 173.3125 L 271.925781 162.265625 \"/>\n",
       "<path style=\"fill:none;stroke-width:1;stroke-linecap:butt;stroke-linejoin:miter;stroke:rgb(26.666667%,26.666667%,26.666667%);stroke-opacity:1;stroke-miterlimit:10;\" d=\"M 345.136719 203.578125 L 344.417969 206.730469 \"/>\n",
       "<path style=\" stroke:none;fill-rule:nonzero;fill:rgb(26.666667%,26.666667%,26.666667%);fill-opacity:1;\" d=\"M 341.253906 220.640625 L 339.898438 205.699219 L 348.9375 207.757812 L 341.253906 220.640625 \"/>\n",
       "<path style=\"fill:none;stroke-width:1;stroke-linecap:butt;stroke-linejoin:miter;stroke:rgb(26.666667%,26.666667%,26.666667%);stroke-opacity:1;stroke-miterlimit:10;\" d=\"M 345.136719 203.578125 L 305.285156 182.195312 \"/>\n",
       "<path style=\" stroke:none;fill-rule:nonzero;fill:rgb(26.666667%,26.666667%,26.666667%);fill-opacity:1;\" d=\"M 292.714844 175.449219 L 307.476562 178.109375 L 303.09375 186.277344 L 292.714844 175.449219 \"/>\n",
       "<path style=\"fill:none;stroke-width:1;stroke-linecap:butt;stroke-linejoin:miter;stroke:rgb(26.666667%,26.666667%,26.666667%);stroke-opacity:1;stroke-miterlimit:10;\" d=\"M 345.136719 203.578125 L 397.386719 212.914062 \"/>\n",
       "<path style=\" stroke:none;fill-rule:nonzero;fill:rgb(26.666667%,26.666667%,26.666667%);fill-opacity:1;\" d=\"M 411.429688 215.425781 L 396.570312 217.480469 L 398.203125 208.351562 L 411.429688 215.425781 \"/>\n",
       "<path style=\"fill:none;stroke-width:1;stroke-linecap:butt;stroke-linejoin:miter;stroke:rgb(26.666667%,26.666667%,26.666667%);stroke-opacity:1;stroke-miterlimit:10;\" d=\"M 263.21875 157.351562 C 269.277344 165.863281 271.027344 177.789062 262.59375 182.417969 \"/>\n",
       "<path style=\" stroke:none;fill-rule:nonzero;fill:rgb(26.666667%,26.666667%,26.666667%);fill-opacity:1;\" d=\"M 275.097656 175.554688 L 264.824219 186.480469 L 260.363281 178.355469 L 275.097656 175.554688 \"/>\n",
       "<path style=\"fill:none;stroke-width:1;stroke-linecap:butt;stroke-linejoin:miter;stroke:rgb(26.666667%,26.666667%,26.666667%);stroke-opacity:1;stroke-miterlimit:10;\" d=\"M 263.21875 157.351562 C 247 144.707031 219.179688 140.589844 213.875 156.425781 \"/>\n",
       "<path style=\" stroke:none;fill-rule:nonzero;fill:rgb(26.666667%,26.666667%,26.666667%);fill-opacity:1;\" d=\"M 209.34375 169.953125 L 209.480469 154.953125 L 218.269531 157.898438 L 209.34375 169.953125 \"/>\n",
       "<path style=\"fill:none;stroke-width:1;stroke-linecap:butt;stroke-linejoin:miter;stroke:rgb(26.666667%,26.666667%,26.666667%);stroke-opacity:1;stroke-miterlimit:10;\" d=\"M 263.21875 157.351562 L 235.933594 117.066406 \"/>\n",
       "<path style=\" stroke:none;fill-rule:nonzero;fill:rgb(26.666667%,26.666667%,26.666667%);fill-opacity:1;\" d=\"M 227.933594 105.257812 L 239.769531 114.46875 L 232.09375 119.667969 L 227.933594 105.257812 \"/>\n",
       "<path style=\"fill:none;stroke-width:1;stroke-linecap:butt;stroke-linejoin:miter;stroke:rgb(26.666667%,26.666667%,26.666667%);stroke-opacity:1;stroke-miterlimit:10;\" d=\"M 276.335938 476.546875 L 297.53125 485.148438 \"/>\n",
       "<path style=\" stroke:none;fill-rule:nonzero;fill:rgb(26.666667%,26.666667%,26.666667%);fill-opacity:1;\" d=\"M 310.75 490.515625 L 295.785156 489.445312 L 299.273438 480.855469 L 310.75 490.515625 \"/>\n",
       "<path style=\"fill:none;stroke-width:1;stroke-linecap:butt;stroke-linejoin:miter;stroke:rgb(26.666667%,26.666667%,26.666667%);stroke-opacity:1;stroke-miterlimit:10;\" d=\"M 341.601562 457.4375 L 349.433594 469.261719 \"/>\n",
       "<path style=\" stroke:none;fill-rule:nonzero;fill:rgb(26.666667%,26.666667%,26.666667%);fill-opacity:1;\" d=\"M 357.3125 481.15625 L 345.570312 471.820312 L 353.296875 466.703125 L 357.3125 481.15625 \"/>\n",
       "<path style=\"fill:none;stroke-width:1;stroke-linecap:butt;stroke-linejoin:miter;stroke:rgb(26.666667%,26.666667%,26.666667%);stroke-opacity:1;stroke-miterlimit:10;\" d=\"M 341.601562 457.4375 L 332.28125 473.34375 \"/>\n",
       "<path style=\" stroke:none;fill-rule:nonzero;fill:rgb(26.666667%,26.666667%,26.666667%);fill-opacity:1;\" d=\"M 325.070312 485.652344 L 328.285156 471 L 336.28125 475.6875 L 325.070312 485.652344 \"/>\n",
       "<path style=\"fill:none;stroke-width:1;stroke-linecap:butt;stroke-linejoin:miter;stroke:rgb(26.666667%,26.666667%,26.666667%);stroke-opacity:1;stroke-miterlimit:10;\" d=\"M 374.75 463.484375 L 391.785156 467.554688 \"/>\n",
       "<path style=\" stroke:none;fill-rule:nonzero;fill:rgb(26.666667%,26.666667%,26.666667%);fill-opacity:1;\" d=\"M 405.660156 470.867188 L 390.707031 472.0625 L 392.859375 463.042969 L 405.660156 470.867188 \"/>\n",
       "<path style=\"fill:none;stroke-width:1;stroke-linecap:butt;stroke-linejoin:miter;stroke:rgb(26.666667%,26.666667%,26.666667%);stroke-opacity:1;stroke-miterlimit:10;\" d=\"M 374.75 463.484375 L 372.941406 467.433594 \"/>\n",
       "<path style=\" stroke:none;fill-rule:nonzero;fill:rgb(26.666667%,26.666667%,26.666667%);fill-opacity:1;\" d=\"M 367 480.402344 L 368.726562 465.503906 L 377.15625 469.367188 L 367 480.402344 \"/>\n",
       "<path style=\"fill:none;stroke-width:1;stroke-linecap:butt;stroke-linejoin:miter;stroke:rgb(26.666667%,26.666667%,26.666667%);stroke-opacity:1;stroke-miterlimit:10;\" d=\"M 374.75 463.484375 L 341.164062 482.382812 \"/>\n",
       "<path style=\" stroke:none;fill-rule:nonzero;fill:rgb(26.666667%,26.666667%,26.666667%);fill-opacity:1;\" d=\"M 328.730469 489.375 L 338.890625 478.339844 L 343.4375 486.421875 L 328.730469 489.375 \"/>\n",
       "<path style=\"fill:none;stroke-width:1;stroke-linecap:butt;stroke-linejoin:miter;stroke:rgb(26.666667%,26.666667%,26.666667%);stroke-opacity:1;stroke-miterlimit:10;\" d=\"M 132.175781 430.585938 L 145.792969 432.40625 \"/>\n",
       "<path style=\" stroke:none;fill-rule:nonzero;fill:rgb(26.666667%,26.666667%,26.666667%);fill-opacity:1;\" d=\"M 159.929688 434.296875 L 145.175781 437 L 146.40625 427.8125 L 159.929688 434.296875 \"/>\n",
       "<path style=\"fill:none;stroke-width:1;stroke-linecap:butt;stroke-linejoin:miter;stroke:rgb(26.666667%,26.666667%,26.666667%);stroke-opacity:1;stroke-miterlimit:10;\" d=\"M 243.234375 500.574219 L 295.828125 496.261719 \"/>\n",
       "<path style=\" stroke:none;fill-rule:nonzero;fill:rgb(26.666667%,26.666667%,26.666667%);fill-opacity:1;\" d=\"M 310.046875 495.09375 L 296.207031 500.882812 L 295.449219 491.640625 L 310.046875 495.09375 \"/>\n",
       "<path style=\"fill:none;stroke-width:1;stroke-linecap:butt;stroke-linejoin:miter;stroke:rgb(26.666667%,26.666667%,26.666667%);stroke-opacity:1;stroke-miterlimit:10;\" d=\"M 501.707031 230.125 L 454.148438 245.742188 \"/>\n",
       "<path style=\" stroke:none;fill-rule:nonzero;fill:rgb(26.666667%,26.666667%,26.666667%);fill-opacity:1;\" d=\"M 440.59375 250.191406 L 452.699219 241.339844 L 455.59375 250.144531 L 440.59375 250.191406 \"/>\n",
       "<path style=\"fill:none;stroke-width:1;stroke-linecap:butt;stroke-linejoin:miter;stroke:rgb(26.666667%,26.666667%,26.666667%);stroke-opacity:1;stroke-miterlimit:10;\" d=\"M 501.707031 230.125 L 514.039062 206.640625 \"/>\n",
       "<path style=\" stroke:none;fill-rule:nonzero;fill:rgb(26.666667%,26.666667%,26.666667%);fill-opacity:1;\" d=\"M 520.671875 194.011719 L 518.144531 208.796875 L 509.9375 204.488281 L 520.671875 194.011719 \"/>\n",
       "<path style=\"fill:none;stroke-width:1;stroke-linecap:butt;stroke-linejoin:miter;stroke:rgb(26.666667%,26.666667%,26.666667%);stroke-opacity:1;stroke-miterlimit:10;\" d=\"M 501.707031 230.125 L 486.148438 224.828125 \"/>\n",
       "<path style=\" stroke:none;fill-rule:nonzero;fill:rgb(26.666667%,26.666667%,26.666667%);fill-opacity:1;\" d=\"M 472.644531 220.230469 L 487.640625 220.4375 L 484.652344 229.214844 L 472.644531 220.230469 \"/>\n",
       "<path style=\"fill:none;stroke-width:1;stroke-linecap:butt;stroke-linejoin:miter;stroke:rgb(26.666667%,26.666667%,26.666667%);stroke-opacity:1;stroke-miterlimit:10;\" d=\"M 452.433594 176.695312 L 457.589844 180.289062 \"/>\n",
       "<path style=\" stroke:none;fill-rule:nonzero;fill:rgb(26.666667%,26.666667%,26.666667%);fill-opacity:1;\" d=\"M 469.289062 188.449219 L 454.9375 184.089844 L 460.242188 176.488281 L 469.289062 188.449219 \"/>\n",
       "<path style=\"fill:none;stroke-width:1;stroke-linecap:butt;stroke-linejoin:miter;stroke:rgb(26.666667%,26.666667%,26.666667%);stroke-opacity:1;stroke-miterlimit:10;\" d=\"M 452.433594 176.695312 L 437.605469 229.9375 \"/>\n",
       "<path style=\" stroke:none;fill-rule:nonzero;fill:rgb(26.666667%,26.666667%,26.666667%);fill-opacity:1;\" d=\"M 433.777344 243.679688 L 433.140625 228.695312 L 442.070312 231.179688 L 433.777344 243.679688 \"/>\n",
       "<path style=\"fill:none;stroke-width:1;stroke-linecap:butt;stroke-linejoin:miter;stroke:rgb(26.666667%,26.666667%,26.666667%);stroke-opacity:1;stroke-miterlimit:10;\" d=\"M 452.433594 176.695312 L 392.457031 161.175781 \"/>\n",
       "<path style=\" stroke:none;fill-rule:nonzero;fill:rgb(26.666667%,26.666667%,26.666667%);fill-opacity:1;\" d=\"M 378.644531 157.601562 L 393.617188 156.6875 L 391.296875 165.664062 L 378.644531 157.601562 \"/>\n",
       "<path style=\"fill:none;stroke-width:1;stroke-linecap:butt;stroke-linejoin:miter;stroke:rgb(26.666667%,26.666667%,26.666667%);stroke-opacity:1;stroke-miterlimit:10;\" d=\"M 452.433594 176.695312 L 494.25 150.398438 \"/>\n",
       "<path style=\" stroke:none;fill-rule:nonzero;fill:rgb(26.666667%,26.666667%,26.666667%);fill-opacity:1;\" d=\"M 506.328125 142.804688 L 496.71875 154.324219 L 491.78125 146.476562 L 506.328125 142.804688 \"/>\n",
       "<path style=\"fill:none;stroke-width:1;stroke-linecap:butt;stroke-linejoin:miter;stroke:rgb(26.666667%,26.666667%,26.666667%);stroke-opacity:1;stroke-miterlimit:10;\" d=\"M 452.433594 176.695312 L 501.21875 182.359375 \"/>\n",
       "<path style=\" stroke:none;fill-rule:nonzero;fill:rgb(26.666667%,26.666667%,26.666667%);fill-opacity:1;\" d=\"M 515.386719 184.003906 L 500.683594 186.964844 L 501.753906 177.753906 L 515.386719 184.003906 \"/>\n",
       "<path style=\"fill:none;stroke-width:1;stroke-linecap:butt;stroke-linejoin:miter;stroke:rgb(26.666667%,26.666667%,26.666667%);stroke-opacity:1;stroke-miterlimit:10;\" d=\"M 452.433594 176.695312 L 451.929688 178.484375 \"/>\n",
       "<path style=\" stroke:none;fill-rule:nonzero;fill:rgb(26.666667%,26.666667%,26.666667%);fill-opacity:1;\" d=\"M 448.058594 192.214844 L 447.46875 177.226562 L 456.390625 179.742188 L 448.058594 192.214844 \"/>\n",
       "<path style=\"fill:none;stroke-width:1;stroke-linecap:butt;stroke-linejoin:miter;stroke:rgb(26.666667%,26.666667%,26.666667%);stroke-opacity:1;stroke-miterlimit:10;\" d=\"M 452.433594 176.695312 L 456.867188 160.097656 \"/>\n",
       "<path style=\" stroke:none;fill-rule:nonzero;fill:rgb(26.666667%,26.666667%,26.666667%);fill-opacity:1;\" d=\"M 460.550781 146.3125 L 461.347656 161.292969 L 452.390625 158.902344 L 460.550781 146.3125 \"/>\n",
       "<path style=\"fill:none;stroke-width:1;stroke-linecap:butt;stroke-linejoin:miter;stroke:rgb(26.666667%,26.666667%,26.666667%);stroke-opacity:1;stroke-miterlimit:10;\" d=\"M 452.433594 176.695312 L 436.074219 197.953125 \"/>\n",
       "<path style=\" stroke:none;fill-rule:nonzero;fill:rgb(26.666667%,26.666667%,26.666667%);fill-opacity:1;\" d=\"M 427.371094 209.261719 L 432.398438 195.128906 L 439.746094 200.78125 L 427.371094 209.261719 \"/>\n",
       "<path style=\"fill:none;stroke-width:1;stroke-linecap:butt;stroke-linejoin:miter;stroke:rgb(26.666667%,26.666667%,26.666667%);stroke-opacity:1;stroke-miterlimit:10;\" d=\"M 452.433594 176.695312 C 432.453125 159.460938 413.328125 167.410156 389.25 172.378906 \"/>\n",
       "<path style=\" stroke:none;fill-rule:nonzero;fill:rgb(26.666667%,26.666667%,26.666667%);fill-opacity:1;\" d=\"M 403.222656 169.496094 L 390.1875 176.917969 L 388.316406 167.839844 L 403.222656 169.496094 \"/>\n",
       "<path style=\"fill:none;stroke-width:1;stroke-linecap:butt;stroke-linejoin:miter;stroke:rgb(26.666667%,26.666667%,26.666667%);stroke-opacity:1;stroke-miterlimit:10;\" d=\"M 452.433594 176.695312 L 456.929688 193.558594 \"/>\n",
       "<path style=\" stroke:none;fill-rule:nonzero;fill:rgb(26.666667%,26.666667%,26.666667%);fill-opacity:1;\" d=\"M 460.601562 207.34375 L 452.449219 194.75 L 461.40625 192.363281 L 460.601562 207.34375 \"/>\n",
       "<path style=\"fill:none;stroke-width:1;stroke-linecap:butt;stroke-linejoin:miter;stroke:rgb(26.666667%,26.666667%,26.666667%);stroke-opacity:1;stroke-miterlimit:10;\" d=\"M 367.539062 188.347656 L 352.652344 210.304688 \"/>\n",
       "<path style=\" stroke:none;fill-rule:nonzero;fill:rgb(26.666667%,26.666667%,26.666667%);fill-opacity:1;\" d=\"M 344.644531 222.113281 L 348.816406 207.703125 L 356.488281 212.90625 L 344.644531 222.113281 \"/>\n",
       "<path style=\"fill:none;stroke-width:1;stroke-linecap:butt;stroke-linejoin:miter;stroke:rgb(26.666667%,26.666667%,26.666667%);stroke-opacity:1;stroke-miterlimit:10;\" d=\"M 46.328125 388.203125 C 51.394531 406.261719 65.144531 421.070312 82.0625 415.585938 \"/>\n",
       "<path style=\" stroke:none;fill-rule:nonzero;fill:rgb(26.666667%,26.666667%,26.666667%);fill-opacity:1;\" d=\"M 68.492188 419.984375 L 80.632812 411.175781 L 83.492188 419.996094 L 68.492188 419.984375 \"/>\n",
       "<path style=\"fill:none;stroke-width:1;stroke-linecap:butt;stroke-linejoin:miter;stroke:rgb(26.666667%,26.666667%,26.666667%);stroke-opacity:1;stroke-miterlimit:10;\" d=\"M 46.328125 388.203125 L 37.648438 380.007812 \"/>\n",
       "<path style=\" stroke:none;fill-rule:nonzero;fill:rgb(26.666667%,26.666667%,26.666667%);fill-opacity:1;\" d=\"M 27.273438 370.214844 L 40.828125 376.636719 L 34.464844 383.378906 L 27.273438 370.214844 \"/>\n",
       "<path style=\"fill:none;stroke-width:1;stroke-linecap:butt;stroke-linejoin:miter;stroke:rgb(26.666667%,26.666667%,26.666667%);stroke-opacity:1;stroke-miterlimit:10;\" d=\"M 46.328125 388.203125 L 45.5625 372.582031 \"/>\n",
       "<path style=\" stroke:none;fill-rule:nonzero;fill:rgb(26.666667%,26.666667%,26.666667%);fill-opacity:1;\" d=\"M 44.863281 358.332031 L 50.191406 372.355469 L 40.933594 372.808594 L 44.863281 358.332031 \"/>\n",
       "<path style=\"fill:none;stroke-width:1;stroke-linecap:butt;stroke-linejoin:miter;stroke:rgb(26.666667%,26.666667%,26.666667%);stroke-opacity:1;stroke-miterlimit:10;\" d=\"M 402.394531 83.757812 L 397.671875 60.457031 \"/>\n",
       "<path style=\" stroke:none;fill-rule:nonzero;fill:rgb(26.666667%,26.666667%,26.666667%);fill-opacity:1;\" d=\"M 394.835938 46.476562 L 402.214844 59.535156 L 393.128906 61.378906 L 394.835938 46.476562 \"/>\n",
       "<path style=\"fill:none;stroke-width:1;stroke-linecap:butt;stroke-linejoin:miter;stroke:rgb(26.666667%,26.666667%,26.666667%);stroke-opacity:1;stroke-miterlimit:10;\" d=\"M 203.378906 535.847656 L 225.0625 516.65625 \"/>\n",
       "<path style=\" stroke:none;fill-rule:nonzero;fill:rgb(26.666667%,26.666667%,26.666667%);fill-opacity:1;\" d=\"M 235.746094 507.203125 L 228.136719 520.128906 L 221.992188 513.1875 L 235.746094 507.203125 \"/>\n",
       "<path style=\"fill:none;stroke-width:1;stroke-linecap:butt;stroke-linejoin:miter;stroke:rgb(26.666667%,26.666667%,26.666667%);stroke-opacity:1;stroke-miterlimit:10;\" d=\"M 362.832031 489.492188 L 344.128906 491.582031 \"/>\n",
       "<path style=\" stroke:none;fill-rule:nonzero;fill:rgb(26.666667%,26.666667%,26.666667%);fill-opacity:1;\" d=\"M 329.953125 493.167969 L 343.613281 486.976562 L 344.644531 496.191406 L 329.953125 493.167969 \"/>\n",
       "<path style=\"fill:none;stroke-width:1;stroke-linecap:butt;stroke-linejoin:miter;stroke:rgb(26.666667%,26.666667%,26.666667%);stroke-opacity:1;stroke-miterlimit:10;\" d=\"M 564.625 252.359375 L 513.917969 250.40625 \"/>\n",
       "<path style=\" stroke:none;fill-rule:nonzero;fill:rgb(26.666667%,26.666667%,26.666667%);fill-opacity:1;\" d=\"M 499.660156 249.855469 L 514.09375 245.773438 L 513.738281 255.035156 L 499.660156 249.855469 \"/>\n",
       "<path style=\"fill:none;stroke-width:1;stroke-linecap:butt;stroke-linejoin:miter;stroke:rgb(26.666667%,26.666667%,26.666667%);stroke-opacity:1;stroke-miterlimit:10;\" d=\"M 178.78125 330.542969 L 150.992188 323.859375 \"/>\n",
       "<path style=\" stroke:none;fill-rule:nonzero;fill:rgb(26.666667%,26.666667%,26.666667%);fill-opacity:1;\" d=\"M 137.121094 320.519531 L 152.074219 319.351562 L 149.90625 328.363281 L 137.121094 320.519531 \"/>\n",
       "<path style=\"fill:none;stroke-width:1;stroke-linecap:butt;stroke-linejoin:miter;stroke:rgb(26.666667%,26.666667%,26.666667%);stroke-opacity:1;stroke-miterlimit:10;\" d=\"M 178.78125 330.542969 L 159.679688 341.632812 \"/>\n",
       "<path style=\" stroke:none;fill-rule:nonzero;fill:rgb(26.666667%,26.666667%,26.666667%);fill-opacity:1;\" d=\"M 147.339844 348.792969 L 157.351562 337.625 L 162.003906 345.640625 L 147.339844 348.792969 \"/>\n",
       "<path style=\"fill:none;stroke-width:1;stroke-linecap:butt;stroke-linejoin:miter;stroke:rgb(26.666667%,26.666667%,26.666667%);stroke-opacity:1;stroke-miterlimit:10;\" d=\"M 178.78125 330.542969 C 205.097656 347.566406 236.273438 320.980469 253.8125 325.332031 \"/>\n",
       "<path style=\" stroke:none;fill-rule:nonzero;fill:rgb(26.666667%,26.666667%,26.666667%);fill-opacity:1;\" d=\"M 239.96875 321.898438 L 254.929688 320.835938 L 252.699219 329.832031 L 239.96875 321.898438 \"/>\n",
       "<path style=\"fill:none;stroke-width:1;stroke-linecap:butt;stroke-linejoin:miter;stroke:rgb(26.666667%,26.666667%,26.666667%);stroke-opacity:1;stroke-miterlimit:10;\" d=\"M 219.035156 444.847656 L 255.175781 407.257812 \"/>\n",
       "<path style=\" stroke:none;fill-rule:nonzero;fill:rgb(26.666667%,26.666667%,26.666667%);fill-opacity:1;\" d=\"M 265.0625 396.972656 L 258.515625 410.472656 L 251.832031 404.046875 L 265.0625 396.972656 \"/>\n",
       "<path style=\"fill:none;stroke-width:1;stroke-linecap:butt;stroke-linejoin:miter;stroke:rgb(26.666667%,26.666667%,26.666667%);stroke-opacity:1;stroke-miterlimit:10;\" d=\"M 219.035156 444.847656 L 233.570312 478.316406 \"/>\n",
       "<path style=\" stroke:none;fill-rule:nonzero;fill:rgb(26.666667%,26.666667%,26.666667%);fill-opacity:1;\" d=\"M 239.25 491.402344 L 229.316406 480.164062 L 237.820312 476.46875 L 239.25 491.402344 \"/>\n",
       "<path style=\"fill:none;stroke-width:1;stroke-linecap:butt;stroke-linejoin:miter;stroke:rgb(26.666667%,26.666667%,26.666667%);stroke-opacity:1;stroke-miterlimit:10;\" d=\"M 219.035156 444.847656 L 193.691406 440.09375 \"/>\n",
       "<path style=\" stroke:none;fill-rule:nonzero;fill:rgb(26.666667%,26.666667%,26.666667%);fill-opacity:1;\" d=\"M 179.671875 437.464844 L 194.546875 435.539062 L 192.839844 444.652344 L 179.671875 437.464844 \"/>\n",
       "<path style=\"fill:none;stroke-width:1;stroke-linecap:butt;stroke-linejoin:miter;stroke:rgb(26.666667%,26.666667%,26.666667%);stroke-opacity:1;stroke-miterlimit:10;\" d=\"M 219.035156 444.847656 L 199.660156 461.863281 \"/>\n",
       "<path style=\" stroke:none;fill-rule:nonzero;fill:rgb(26.666667%,26.666667%,26.666667%);fill-opacity:1;\" d=\"M 188.941406 471.273438 L 196.601562 458.378906 L 202.71875 465.34375 L 188.941406 471.273438 \"/>\n",
       "<path style=\"fill:none;stroke-width:1;stroke-linecap:butt;stroke-linejoin:miter;stroke:rgb(26.666667%,26.666667%,26.666667%);stroke-opacity:1;stroke-miterlimit:10;\" d=\"M 275.191406 20 L 264.539062 30.519531 \"/>\n",
       "<path style=\" stroke:none;fill-rule:nonzero;fill:rgb(26.666667%,26.666667%,26.666667%);fill-opacity:1;\" d=\"M 254.386719 40.542969 L 261.28125 27.222656 L 267.792969 33.820312 L 254.386719 40.542969 \"/>\n",
       "<path style=\"fill:none;stroke-width:1;stroke-linecap:butt;stroke-linejoin:miter;stroke:rgb(26.666667%,26.666667%,26.666667%);stroke-opacity:1;stroke-miterlimit:10;\" d=\"M 247.269531 47.570312 L 233.261719 75.316406 \"/>\n",
       "<path style=\" stroke:none;fill-rule:nonzero;fill:rgb(26.666667%,26.666667%,26.666667%);fill-opacity:1;\" d=\"M 226.832031 88.050781 L 229.125 73.226562 L 237.398438 77.402344 L 226.832031 88.050781 \"/>\n",
       "<path style=\"fill:none;stroke-width:1;stroke-linecap:butt;stroke-linejoin:miter;stroke:rgb(26.666667%,26.666667%,26.666667%);stroke-opacity:1;stroke-miterlimit:10;\" d=\"M 233.253906 320.230469 C 222.449219 312.496094 213.179688 315.925781 201.375 320.941406 \"/>\n",
       "<path style=\" stroke:none;fill-rule:nonzero;fill:rgb(26.666667%,26.666667%,26.666667%);fill-opacity:1;\" d=\"M 188.246094 326.523438 L 199.5625 316.675781 L 203.1875 325.207031 L 188.246094 326.523438 \"/>\n",
       "<path style=\"fill:none;stroke-width:1;stroke-linecap:butt;stroke-linejoin:miter;stroke:rgb(26.666667%,26.666667%,26.666667%);stroke-opacity:1;stroke-miterlimit:10;\" d=\"M 317.851562 289.652344 C 318.09375 272.140625 309.34375 254.425781 293.097656 255.6875 \"/>\n",
       "<path style=\" stroke:none;fill-rule:nonzero;fill:rgb(26.666667%,26.666667%,26.666667%);fill-opacity:1;\" d=\"M 278.875 256.792969 L 292.738281 251.066406 L 293.457031 260.308594 L 278.875 256.792969 \"/>\n",
       "<path style=\"fill:none;stroke-width:1;stroke-linecap:butt;stroke-linejoin:miter;stroke:rgb(26.666667%,26.666667%,26.666667%);stroke-opacity:1;stroke-miterlimit:10;\" d=\"M 317.851562 289.652344 L 407.988281 260.726562 \"/>\n",
       "<path style=\" stroke:none;fill-rule:nonzero;fill:rgb(26.666667%,26.666667%,26.666667%);fill-opacity:1;\" d=\"M 421.570312 256.367188 L 409.402344 265.140625 L 406.570312 256.3125 L 421.570312 256.367188 \"/>\n",
       "<path style=\"fill:none;stroke-width:1;stroke-linecap:butt;stroke-linejoin:miter;stroke:rgb(26.666667%,26.666667%,26.666667%);stroke-opacity:1;stroke-miterlimit:10;\" d=\"M 317.851562 289.652344 L 327.988281 316.171875 \"/>\n",
       "<path style=\" stroke:none;fill-rule:nonzero;fill:rgb(26.666667%,26.666667%,26.666667%);fill-opacity:1;\" d=\"M 333.082031 329.496094 L 323.660156 317.824219 L 332.320312 314.515625 L 333.082031 329.496094 \"/>\n",
       "<path style=\"fill:none;stroke-width:1;stroke-linecap:butt;stroke-linejoin:miter;stroke:rgb(26.666667%,26.666667%,26.666667%);stroke-opacity:1;stroke-miterlimit:10;\" d=\"M 317.851562 289.652344 L 256.078125 311.980469 \"/>\n",
       "<path style=\" stroke:none;fill-rule:nonzero;fill:rgb(26.666667%,26.666667%,26.666667%);fill-opacity:1;\" d=\"M 242.660156 316.832031 L 254.5 307.621094 L 257.652344 316.339844 L 242.660156 316.832031 \"/>\n",
       "<path style=\"fill:none;stroke-width:1;stroke-linecap:butt;stroke-linejoin:miter;stroke:rgb(26.666667%,26.666667%,26.666667%);stroke-opacity:1;stroke-miterlimit:10;\" d=\"M 527.089844 467.921875 L 500.785156 479.234375 \"/>\n",
       "<path style=\" stroke:none;fill-rule:nonzero;fill:rgb(26.666667%,26.666667%,26.666667%);fill-opacity:1;\" d=\"M 487.679688 484.871094 L 498.953125 474.976562 L 502.617188 483.492188 L 487.679688 484.871094 \"/>\n",
       "<path style=\"fill:none;stroke-width:1;stroke-linecap:butt;stroke-linejoin:miter;stroke:rgb(26.666667%,26.666667%,26.666667%);stroke-opacity:1;stroke-miterlimit:10;\" d=\"M 412.496094 294.007812 C 426.242188 295.421875 431.679688 281.4375 440.929688 276.929688 \"/>\n",
       "<path style=\" stroke:none;fill-rule:nonzero;fill:rgb(26.666667%,26.666667%,26.666667%);fill-opacity:1;\" d=\"M 453.753906 270.679688 L 442.960938 281.097656 L 438.898438 272.761719 L 453.753906 270.679688 \"/>\n",
       "<path style=\"fill:none;stroke-width:1;stroke-linecap:butt;stroke-linejoin:miter;stroke:rgb(26.666667%,26.666667%,26.666667%);stroke-opacity:1;stroke-miterlimit:10;\" d=\"M 412.496094 294.007812 L 421.007812 275.382812 \"/>\n",
       "<path style=\" stroke:none;fill-rule:nonzero;fill:rgb(26.666667%,26.666667%,26.666667%);fill-opacity:1;\" d=\"M 426.9375 262.410156 L 425.222656 277.308594 L 416.789062 273.457031 L 426.9375 262.410156 \"/>\n",
       "<path style=\"fill:none;stroke-width:1;stroke-linecap:butt;stroke-linejoin:miter;stroke:rgb(26.666667%,26.666667%,26.666667%);stroke-opacity:1;stroke-miterlimit:10;\" d=\"M 412.496094 294.007812 L 429.460938 261.839844 \"/>\n",
       "<path style=\" stroke:none;fill-rule:nonzero;fill:rgb(26.666667%,26.666667%,26.666667%);fill-opacity:1;\" d=\"M 436.113281 249.21875 L 433.558594 264 L 425.359375 259.675781 L 436.113281 249.21875 \"/>\n",
       "<path style=\"fill:none;stroke-width:1;stroke-linecap:butt;stroke-linejoin:miter;stroke:rgb(26.666667%,26.666667%,26.666667%);stroke-opacity:1;stroke-miterlimit:10;\" d=\"M 412.496094 294.007812 L 357.542969 326.488281 \"/>\n",
       "<path style=\" stroke:none;fill-rule:nonzero;fill:rgb(26.666667%,26.666667%,26.666667%);fill-opacity:1;\" d=\"M 345.261719 333.75 L 355.183594 322.5 L 359.902344 330.480469 L 345.261719 333.75 \"/>\n",
       "<path style=\"fill:none;stroke-width:1;stroke-linecap:butt;stroke-linejoin:miter;stroke:rgb(26.666667%,26.666667%,26.666667%);stroke-opacity:1;stroke-miterlimit:10;\" d=\"M 521.699219 322.546875 L 450.375 268.046875 \"/>\n",
       "<path style=\" stroke:none;fill-rule:nonzero;fill:rgb(26.666667%,26.666667%,26.666667%);fill-opacity:1;\" d=\"M 439.039062 259.382812 L 453.1875 264.363281 L 447.558594 271.730469 L 439.039062 259.382812 \"/>\n",
       "<path style=\"fill:none;stroke-width:1;stroke-linecap:butt;stroke-linejoin:miter;stroke:rgb(26.666667%,26.666667%,26.666667%);stroke-opacity:1;stroke-miterlimit:10;\" d=\"M 521.699219 322.546875 L 542.46875 351.816406 \"/>\n",
       "<path style=\" stroke:none;fill-rule:nonzero;fill:rgb(26.666667%,26.666667%,26.666667%);fill-opacity:1;\" d=\"M 550.726562 363.449219 L 538.691406 354.5 L 546.25 349.132812 L 550.726562 363.449219 \"/>\n",
       "<path style=\"fill:none;stroke-width:1;stroke-linecap:butt;stroke-linejoin:miter;stroke:rgb(26.666667%,26.666667%,26.666667%);stroke-opacity:1;stroke-miterlimit:10;\" d=\"M 159.078125 113.019531 C 145.773438 111.9375 134.785156 130.519531 131.976562 130.09375 \"/>\n",
       "<path style=\" stroke:none;fill-rule:nonzero;fill:rgb(26.666667%,26.666667%,26.666667%);fill-opacity:1;\" d=\"M 146.082031 132.234375 L 131.28125 134.675781 L 132.671875 125.511719 L 146.082031 132.234375 \"/>\n",
       "<path style=\"fill:none;stroke-width:1;stroke-linecap:butt;stroke-linejoin:miter;stroke:rgb(26.666667%,26.666667%,26.666667%);stroke-opacity:1;stroke-miterlimit:10;\" d=\"M 159.078125 113.019531 L 148.714844 116.539062 \"/>\n",
       "<path style=\" stroke:none;fill-rule:nonzero;fill:rgb(26.666667%,26.666667%,26.666667%);fill-opacity:1;\" d=\"M 135.203125 121.125 L 147.222656 112.148438 L 150.203125 120.929688 L 135.203125 121.125 \"/>\n",
       "<path style=\"fill:none;stroke-width:1;stroke-linecap:butt;stroke-linejoin:miter;stroke:rgb(26.666667%,26.666667%,26.666667%);stroke-opacity:1;stroke-miterlimit:10;\" d=\"M 159.078125 113.019531 L 185.652344 127.324219 \"/>\n",
       "<path style=\" stroke:none;fill-rule:nonzero;fill:rgb(26.666667%,26.666667%,26.666667%);fill-opacity:1;\" d=\"M 198.214844 134.085938 L 183.457031 131.40625 L 187.847656 123.242188 L 198.214844 134.085938 \"/>\n",
       "<path style=\"fill:none;stroke-width:1;stroke-linecap:butt;stroke-linejoin:miter;stroke:rgb(26.666667%,26.666667%,26.666667%);stroke-opacity:1;stroke-miterlimit:10;\" d=\"M 283.902344 170.71875 L 345.097656 159.480469 \"/>\n",
       "<path style=\" stroke:none;fill-rule:nonzero;fill:rgb(26.666667%,26.666667%,26.666667%);fill-opacity:1;\" d=\"M 359.128906 156.90625 L 345.933594 164.039062 L 344.261719 154.921875 L 359.128906 156.90625 \"/>\n",
       "<path style=\"fill:none;stroke-width:1;stroke-linecap:butt;stroke-linejoin:miter;stroke:rgb(26.666667%,26.666667%,26.666667%);stroke-opacity:1;stroke-miterlimit:10;\" d=\"M 283.902344 170.71875 C 271.164062 181.402344 247.882812 169.792969 244.066406 172.886719 \"/>\n",
       "<path style=\" stroke:none;fill-rule:nonzero;fill:rgb(26.666667%,26.666667%,26.666667%);fill-opacity:1;\" d=\"M 255.144531 163.898438 L 246.984375 176.488281 L 241.144531 169.289062 L 255.144531 163.898438 \"/>\n",
       "<path style=\"fill:none;stroke-width:1;stroke-linecap:butt;stroke-linejoin:miter;stroke:rgb(26.666667%,26.666667%,26.666667%);stroke-opacity:1;stroke-miterlimit:10;\" d=\"M 283.902344 170.71875 L 264.449219 171.863281 \"/>\n",
       "<path style=\" stroke:none;fill-rule:nonzero;fill:rgb(26.666667%,26.666667%,26.666667%);fill-opacity:1;\" d=\"M 250.207031 172.699219 L 264.175781 167.234375 L 264.71875 176.492188 L 250.207031 172.699219 \"/>\n",
       "<path style=\"fill:none;stroke-width:1;stroke-linecap:butt;stroke-linejoin:miter;stroke:rgb(26.666667%,26.666667%,26.666667%);stroke-opacity:1;stroke-miterlimit:10;\" d=\"M 283.902344 170.71875 C 272.929688 160.625 247.230469 163.472656 248.300781 167.140625 \"/>\n",
       "<path style=\" stroke:none;fill-rule:nonzero;fill:rgb(26.666667%,26.666667%,26.666667%);fill-opacity:1;\" d=\"M 244.300781 153.445312 L 252.75 165.839844 L 243.851562 168.4375 L 244.300781 153.445312 \"/>\n",
       "<path style=\"fill:none;stroke-width:1;stroke-linecap:butt;stroke-linejoin:miter;stroke:rgb(26.666667%,26.666667%,26.666667%);stroke-opacity:1;stroke-miterlimit:10;\" d=\"M 283.902344 170.71875 C 259.296875 173.46875 237.941406 210.640625 240.617188 211.425781 \"/>\n",
       "<path style=\" stroke:none;fill-rule:nonzero;fill:rgb(26.666667%,26.666667%,26.666667%);fill-opacity:1;\" d=\"M 254.304688 215.445312 L 239.3125 215.871094 L 241.925781 206.976562 L 254.304688 215.445312 \"/>\n",
       "<path style=\"fill:none;stroke-width:1;stroke-linecap:butt;stroke-linejoin:miter;stroke:rgb(26.666667%,26.666667%,26.666667%);stroke-opacity:1;stroke-miterlimit:10;\" d=\"M 283.902344 170.71875 L 229.433594 148.125 \"/>\n",
       "<path style=\" stroke:none;fill-rule:nonzero;fill:rgb(26.666667%,26.666667%,26.666667%);fill-opacity:1;\" d=\"M 216.257812 142.65625 L 231.210938 143.84375 L 227.65625 152.40625 L 216.257812 142.65625 \"/>\n",
       "<path style=\"fill:none;stroke-width:1;stroke-linecap:butt;stroke-linejoin:miter;stroke:rgb(26.666667%,26.666667%,26.666667%);stroke-opacity:1;stroke-miterlimit:10;\" d=\"M 44.375 348.34375 L 40.664062 350.628906 \"/>\n",
       "<path style=\" stroke:none;fill-rule:nonzero;fill:rgb(26.666667%,26.666667%,26.666667%);fill-opacity:1;\" d=\"M 28.515625 358.109375 L 38.234375 346.683594 L 43.09375 354.578125 L 28.515625 358.109375 \"/>\n",
       "<path style=\"fill:none;stroke-width:1;stroke-linecap:butt;stroke-linejoin:miter;stroke:rgb(26.666667%,26.666667%,26.666667%);stroke-opacity:1;stroke-miterlimit:10;\" d=\"M 306.667969 444.355469 L 313.746094 470.835938 \"/>\n",
       "<path style=\" stroke:none;fill-rule:nonzero;fill:rgb(26.666667%,26.666667%,26.666667%);fill-opacity:1;\" d=\"M 317.429688 484.617188 L 309.269531 472.03125 L 318.226562 469.640625 L 317.429688 484.617188 \"/>\n",
       "<path style=\"fill:none;stroke-width:1;stroke-linecap:butt;stroke-linejoin:miter;stroke:rgb(26.666667%,26.666667%,26.666667%);stroke-opacity:1;stroke-miterlimit:10;\" d=\"M 206.054688 179.769531 C 220.714844 185.894531 230.347656 178.617188 243.023438 170.417969 \"/>\n",
       "<path style=\" stroke:none;fill-rule:nonzero;fill:rgb(26.666667%,26.666667%,26.666667%);fill-opacity:1;\" d=\"M 255 162.667969 L 245.542969 174.308594 L 240.503906 166.527344 L 255 162.667969 \"/>\n",
       "<path style=\"fill:none;stroke-width:1;stroke-linecap:butt;stroke-linejoin:miter;stroke:rgb(26.666667%,26.666667%,26.666667%);stroke-opacity:1;stroke-miterlimit:10;\" d=\"M 206.054688 179.769531 L 216.382812 177.808594 \"/>\n",
       "<path style=\" stroke:none;fill-rule:nonzero;fill:rgb(26.666667%,26.666667%,26.666667%);fill-opacity:1;\" d=\"M 230.398438 175.152344 L 217.246094 182.363281 L 215.519531 173.253906 L 230.398438 175.152344 \"/>\n",
       "<path style=\"fill:none;stroke-width:1;stroke-linecap:butt;stroke-linejoin:miter;stroke:rgb(26.666667%,26.666667%,26.666667%);stroke-opacity:1;stroke-miterlimit:10;\" d=\"M 206.054688 179.769531 L 206.449219 163.085938 \"/>\n",
       "<path style=\" stroke:none;fill-rule:nonzero;fill:rgb(26.666667%,26.666667%,26.666667%);fill-opacity:1;\" d=\"M 206.785156 148.824219 L 211.082031 163.195312 L 201.816406 162.976562 L 206.785156 148.824219 \"/>\n",
       "<path style=\"fill:none;stroke-width:1;stroke-linecap:butt;stroke-linejoin:miter;stroke:rgb(26.666667%,26.666667%,26.666667%);stroke-opacity:1;stroke-miterlimit:10;\" d=\"M 206.054688 179.769531 L 161.4375 208.96875 \"/>\n",
       "<path style=\" stroke:none;fill-rule:nonzero;fill:rgb(26.666667%,26.666667%,26.666667%);fill-opacity:1;\" d=\"M 149.5 216.777344 L 158.898438 205.089844 L 163.976562 212.847656 L 149.5 216.777344 \"/>\n",
       "<path style=\"fill:none;stroke-width:1;stroke-linecap:butt;stroke-linejoin:miter;stroke:rgb(26.666667%,26.666667%,26.666667%);stroke-opacity:1;stroke-miterlimit:10;\" d=\"M 489.667969 249.472656 L 455.304688 251.726562 \"/>\n",
       "<path style=\" stroke:none;fill-rule:nonzero;fill:rgb(26.666667%,26.666667%,26.666667%);fill-opacity:1;\" d=\"M 441.070312 252.660156 L 455.003906 247.101562 L 455.609375 256.351562 L 441.070312 252.660156 \"/>\n",
       "<path style=\"fill:none;stroke-width:1;stroke-linecap:butt;stroke-linejoin:miter;stroke:rgb(26.666667%,26.666667%,26.666667%);stroke-opacity:1;stroke-miterlimit:10;\" d=\"M 489.667969 249.472656 L 464.636719 244.8125 \"/>\n",
       "<path style=\" stroke:none;fill-rule:nonzero;fill:rgb(26.666667%,26.666667%,26.666667%);fill-opacity:1;\" d=\"M 450.609375 242.203125 L 465.484375 240.257812 L 463.789062 249.371094 L 450.609375 242.203125 \"/>\n",
       "<path style=\"fill:none;stroke-width:1;stroke-linecap:butt;stroke-linejoin:miter;stroke:rgb(26.666667%,26.666667%,26.666667%);stroke-opacity:1;stroke-miterlimit:10;\" d=\"M 489.667969 249.472656 L 443.21875 227.542969 \"/>\n",
       "<path style=\" stroke:none;fill-rule:nonzero;fill:rgb(26.666667%,26.666667%,26.666667%);fill-opacity:1;\" d=\"M 430.316406 221.453125 L 445.195312 223.351562 L 441.238281 231.734375 L 430.316406 221.453125 \"/>\n",
       "<path style=\"fill:none;stroke-width:1;stroke-linecap:butt;stroke-linejoin:miter;stroke:rgb(26.666667%,26.666667%,26.666667%);stroke-opacity:1;stroke-miterlimit:10;\" d=\"M 241.523438 143.945312 L 206.214844 152.25 \"/>\n",
       "<path style=\" stroke:none;fill-rule:nonzero;fill:rgb(26.666667%,26.666667%,26.666667%);fill-opacity:1;\" d=\"M 192.328125 155.515625 L 205.152344 147.738281 L 207.277344 156.761719 L 192.328125 155.515625 \"/>\n",
       "<path style=\"fill:none;stroke-width:1;stroke-linecap:butt;stroke-linejoin:miter;stroke:rgb(26.666667%,26.666667%,26.666667%);stroke-opacity:1;stroke-miterlimit:10;\" d=\"M 241.523438 143.945312 L 242.574219 144.59375 \"/>\n",
       "<path style=\" stroke:none;fill-rule:nonzero;fill:rgb(26.666667%,26.666667%,26.666667%);fill-opacity:1;\" d=\"M 254.710938 152.09375 L 240.136719 148.539062 L 245.011719 140.652344 L 254.710938 152.09375 \"/>\n",
       "<path style=\"fill:none;stroke-width:1;stroke-linecap:butt;stroke-linejoin:miter;stroke:rgb(26.666667%,26.666667%,26.666667%);stroke-opacity:1;stroke-miterlimit:10;\" d=\"M 241.523438 143.945312 L 241.296875 149.042969 \"/>\n",
       "<path style=\" stroke:none;fill-rule:nonzero;fill:rgb(26.666667%,26.666667%,26.666667%);fill-opacity:1;\" d=\"M 240.667969 163.296875 L 236.667969 148.839844 L 245.929688 149.25 L 240.667969 163.296875 \"/>\n",
       "<path style=\"fill:none;stroke-width:1;stroke-linecap:butt;stroke-linejoin:miter;stroke:rgb(26.666667%,26.666667%,26.666667%);stroke-opacity:1;stroke-miterlimit:10;\" d=\"M 241.523438 143.945312 C 239.898438 159.050781 247.6875 177.6875 260.160156 175.289062 \"/>\n",
       "<path style=\" stroke:none;fill-rule:nonzero;fill:rgb(26.666667%,26.666667%,26.666667%);fill-opacity:1;\" d=\"M 274.167969 172.59375 L 261.035156 179.839844 L 259.285156 170.738281 L 274.167969 172.59375 \"/>\n",
       "<path style=\"fill:none;stroke-width:1;stroke-linecap:butt;stroke-linejoin:miter;stroke:rgb(26.666667%,26.666667%,26.666667%);stroke-opacity:1;stroke-miterlimit:10;\" d=\"M 241.523438 143.945312 L 231.023438 142.386719 \"/>\n",
       "<path style=\" stroke:none;fill-rule:nonzero;fill:rgb(26.666667%,26.666667%,26.666667%);fill-opacity:1;\" d=\"M 216.910156 140.292969 L 231.703125 137.800781 L 230.34375 146.972656 L 216.910156 140.292969 \"/>\n",
       "<path style=\"fill:none;stroke-width:1;stroke-linecap:butt;stroke-linejoin:miter;stroke:rgb(26.666667%,26.666667%,26.666667%);stroke-opacity:1;stroke-miterlimit:10;\" d=\"M 412.8125 167.519531 L 455.054688 184.925781 \"/>\n",
       "<path style=\" stroke:none;fill-rule:nonzero;fill:rgb(26.666667%,26.666667%,26.666667%);fill-opacity:1;\" d=\"M 468.246094 190.363281 L 453.289062 189.210938 L 456.820312 180.640625 L 468.246094 190.363281 \"/>\n",
       "<path style=\"fill:none;stroke-width:1;stroke-linecap:butt;stroke-linejoin:miter;stroke:rgb(26.666667%,26.666667%,26.666667%);stroke-opacity:1;stroke-miterlimit:10;\" d=\"M 412.8125 167.519531 L 442.1875 124.765625 \"/>\n",
       "<path style=\" stroke:none;fill-rule:nonzero;fill:rgb(26.666667%,26.666667%,26.666667%);fill-opacity:1;\" d=\"M 450.265625 113.003906 L 446.007812 127.386719 L 438.367188 122.140625 L 450.265625 113.003906 \"/>\n",
       "<path style=\"fill:none;stroke-width:1;stroke-linecap:butt;stroke-linejoin:miter;stroke:rgb(26.666667%,26.666667%,26.666667%);stroke-opacity:1;stroke-miterlimit:10;\" d=\"M 412.8125 167.519531 L 426.035156 229.582031 \"/>\n",
       "<path style=\" stroke:none;fill-rule:nonzero;fill:rgb(26.666667%,26.666667%,26.666667%);fill-opacity:1;\" d=\"M 429.007812 243.53125 L 421.503906 230.546875 L 430.570312 228.613281 L 429.007812 243.53125 \"/>\n",
       "<path style=\"fill:none;stroke-width:1;stroke-linecap:butt;stroke-linejoin:miter;stroke:rgb(26.666667%,26.666667%,26.666667%);stroke-opacity:1;stroke-miterlimit:10;\" d=\"M 412.8125 167.519531 L 392.3125 161.710938 \"/>\n",
       "<path style=\" stroke:none;fill-rule:nonzero;fill:rgb(26.666667%,26.666667%,26.666667%);fill-opacity:1;\" d=\"M 378.585938 157.824219 L 393.574219 157.25 L 391.046875 166.171875 L 378.585938 157.824219 \"/>\n",
       "<path style=\"fill:none;stroke-width:1;stroke-linecap:butt;stroke-linejoin:miter;stroke:rgb(26.666667%,26.666667%,26.666667%);stroke-opacity:1;stroke-miterlimit:10;\" d=\"M 412.8125 167.519531 L 428.652344 184.226562 \"/>\n",
       "<path style=\" stroke:none;fill-rule:nonzero;fill:rgb(26.666667%,26.666667%,26.666667%);fill-opacity:1;\" d=\"M 438.464844 194.582031 L 425.289062 187.417969 L 432.015625 181.039062 L 438.464844 194.582031 \"/>\n",
       "<path style=\"fill:none;stroke-width:1;stroke-linecap:butt;stroke-linejoin:miter;stroke:rgb(26.666667%,26.666667%,26.666667%);stroke-opacity:1;stroke-miterlimit:10;\" d=\"M 412.8125 167.519531 L 432.082031 217.71875 \"/>\n",
       "<path style=\" stroke:none;fill-rule:nonzero;fill:rgb(26.666667%,26.666667%,26.666667%);fill-opacity:1;\" d=\"M 437.195312 231.039062 L 427.753906 219.378906 L 436.410156 216.058594 L 437.195312 231.039062 \"/>\n",
       "<path style=\"fill:none;stroke-width:1;stroke-linecap:butt;stroke-linejoin:miter;stroke:rgb(26.666667%,26.666667%,26.666667%);stroke-opacity:1;stroke-miterlimit:10;\" d=\"M 412.8125 167.519531 C 414.429688 176.554688 420.566406 184.625 428.9375 182.542969 \"/>\n",
       "<path style=\" stroke:none;fill-rule:nonzero;fill:rgb(26.666667%,26.666667%,26.666667%);fill-opacity:1;\" d=\"M 442.78125 179.097656 L 430.054688 187.039062 L 427.816406 178.042969 L 442.78125 179.097656 \"/>\n",
       "<path style=\"fill:none;stroke-width:1;stroke-linecap:butt;stroke-linejoin:miter;stroke:rgb(26.666667%,26.666667%,26.666667%);stroke-opacity:1;stroke-miterlimit:10;\" d=\"M 412.8125 167.519531 L 442.445312 149.339844 \"/>\n",
       "<path style=\" stroke:none;fill-rule:nonzero;fill:rgb(26.666667%,26.666667%,26.666667%);fill-opacity:1;\" d=\"M 454.605469 141.882812 L 444.867188 153.292969 L 440.023438 145.390625 L 454.605469 141.882812 \"/>\n",
       "<path style=\"fill:none;stroke-width:1;stroke-linecap:butt;stroke-linejoin:miter;stroke:rgb(26.666667%,26.666667%,26.666667%);stroke-opacity:1;stroke-miterlimit:10;\" d=\"M 412.8125 167.519531 L 389.582031 178.203125 \"/>\n",
       "<path style=\" stroke:none;fill-rule:nonzero;fill:rgb(26.666667%,26.666667%,26.666667%);fill-opacity:1;\" d=\"M 376.625 184.167969 L 387.644531 173.992188 L 391.519531 182.414062 L 376.625 184.167969 \"/>\n",
       "<path style=\"fill:none;stroke-width:1;stroke-linecap:butt;stroke-linejoin:miter;stroke:rgb(26.666667%,26.666667%,26.666667%);stroke-opacity:1;stroke-miterlimit:10;\" d=\"M 412.8125 167.519531 L 405.390625 107.835938 \"/>\n",
       "<path style=\" stroke:none;fill-rule:nonzero;fill:rgb(26.666667%,26.666667%,26.666667%);fill-opacity:1;\" d=\"M 403.628906 93.679688 L 409.988281 107.265625 L 400.789062 108.410156 L 403.628906 93.679688 \"/>\n",
       "<path style=\"fill:none;stroke-width:1;stroke-linecap:butt;stroke-linejoin:miter;stroke:rgb(26.666667%,26.666667%,26.666667%);stroke-opacity:1;stroke-miterlimit:10;\" d=\"M 412.8125 167.519531 L 419.800781 131.726562 \"/>\n",
       "<path style=\" stroke:none;fill-rule:nonzero;fill:rgb(26.666667%,26.666667%,26.666667%);fill-opacity:1;\" d=\"M 422.535156 117.722656 L 424.351562 132.613281 L 415.253906 130.835938 L 422.535156 117.722656 \"/>\n",
       "<path style=\"fill:none;stroke-width:1;stroke-linecap:butt;stroke-linejoin:miter;stroke:rgb(26.666667%,26.666667%,26.666667%);stroke-opacity:1;stroke-miterlimit:10;\" d=\"M 412.8125 167.519531 L 392.789062 132.328125 \"/>\n",
       "<path style=\" stroke:none;fill-rule:nonzero;fill:rgb(26.666667%,26.666667%,26.666667%);fill-opacity:1;\" d=\"M 385.734375 119.929688 L 396.820312 130.035156 L 388.761719 134.621094 L 385.734375 119.929688 \"/>\n",
       "<path style=\"fill:none;stroke-width:1;stroke-linecap:butt;stroke-linejoin:miter;stroke:rgb(26.666667%,26.666667%,26.666667%);stroke-opacity:1;stroke-miterlimit:10;\" d=\"M 412.8125 167.519531 L 308.160156 170.117188 \"/>\n",
       "<path style=\" stroke:none;fill-rule:nonzero;fill:rgb(26.666667%,26.666667%,26.666667%);fill-opacity:1;\" d=\"M 293.898438 170.472656 L 308.046875 165.484375 L 308.277344 174.75 L 293.898438 170.472656 \"/>\n",
       "<path style=\"fill:none;stroke-width:1;stroke-linecap:butt;stroke-linejoin:miter;stroke:rgb(26.666667%,26.666667%,26.666667%);stroke-opacity:1;stroke-miterlimit:10;\" d=\"M 412.8125 167.519531 L 417.199219 193.265625 \"/>\n",
       "<path style=\" stroke:none;fill-rule:nonzero;fill:rgb(26.666667%,26.666667%,26.666667%);fill-opacity:1;\" d=\"M 419.59375 207.328125 L 412.628906 194.042969 L 421.769531 192.484375 L 419.59375 207.328125 \"/>\n",
       "<path style=\"fill:none;stroke-width:1;stroke-linecap:butt;stroke-linejoin:miter;stroke:rgb(26.666667%,26.666667%,26.666667%);stroke-opacity:1;stroke-miterlimit:10;\" d=\"M 412.8125 167.519531 L 445.867188 200 \"/>\n",
       "<path style=\" stroke:none;fill-rule:nonzero;fill:rgb(26.666667%,26.666667%,26.666667%);fill-opacity:1;\" d=\"M 456.042969 209.996094 L 442.621094 203.304688 L 449.117188 196.691406 L 456.042969 209.996094 \"/>\n",
       "<path style=\"fill:none;stroke-width:1;stroke-linecap:butt;stroke-linejoin:miter;stroke:rgb(26.666667%,26.666667%,26.666667%);stroke-opacity:1;stroke-miterlimit:10;\" d=\"M 263.78125 218.226562 C 249.109375 224.75 239.414062 250.554688 245.007812 251.875 \"/>\n",
       "<path style=\" stroke:none;fill-rule:nonzero;fill:rgb(26.666667%,26.666667%,26.666667%);fill-opacity:1;\" d=\"M 258.890625 255.148438 L 243.945312 256.386719 L 246.070312 247.363281 L 258.890625 255.148438 \"/>\n",
       "<path style=\"fill:none;stroke-width:1;stroke-linecap:butt;stroke-linejoin:miter;stroke:rgb(26.666667%,26.666667%,26.666667%);stroke-opacity:1;stroke-miterlimit:10;\" d=\"M 263.78125 218.226562 C 272.929688 210.585938 266.777344 195.558594 270.34375 190.382812 \"/>\n",
       "<path style=\" stroke:none;fill-rule:nonzero;fill:rgb(26.666667%,26.666667%,26.666667%);fill-opacity:1;\" d=\"M 278.441406 178.640625 L 274.160156 193.015625 L 266.53125 187.753906 L 278.441406 178.640625 \"/>\n",
       "<path style=\"fill:none;stroke-width:1;stroke-linecap:butt;stroke-linejoin:miter;stroke:rgb(26.666667%,26.666667%,26.666667%);stroke-opacity:1;stroke-miterlimit:10;\" d=\"M 81.679688 466.058594 L 90.207031 480.867188 \"/>\n",
       "<path style=\" stroke:none;fill-rule:nonzero;fill:rgb(26.666667%,26.666667%,26.666667%);fill-opacity:1;\" d=\"M 97.328125 493.230469 L 86.191406 483.179688 L 94.222656 478.554688 L 97.328125 493.230469 \"/>\n",
       "<path style=\"fill:none;stroke-width:1;stroke-linecap:butt;stroke-linejoin:miter;stroke:rgb(26.666667%,26.666667%,26.666667%);stroke-opacity:1;stroke-miterlimit:10;\" d=\"M 81.679688 466.058594 L 77.171875 464.480469 \"/>\n",
       "<path style=\" stroke:none;fill-rule:nonzero;fill:rgb(26.666667%,26.666667%,26.666667%);fill-opacity:1;\" d=\"M 63.710938 459.757812 L 78.707031 460.105469 L 75.636719 468.851562 L 63.710938 459.757812 \"/>\n",
       "<path style=\"fill:none;stroke-width:1;stroke-linecap:butt;stroke-linejoin:miter;stroke:rgb(26.666667%,26.666667%,26.666667%);stroke-opacity:1;stroke-miterlimit:10;\" d=\"M 463.175781 217.003906 L 447.160156 235.128906 \"/>\n",
       "<path style=\" stroke:none;fill-rule:nonzero;fill:rgb(26.666667%,26.666667%,26.666667%);fill-opacity:1;\" d=\"M 437.714844 245.820312 L 443.6875 232.058594 L 450.632812 238.199219 L 437.714844 245.820312 \"/>\n",
       "<path style=\"fill:none;stroke-width:1;stroke-linecap:butt;stroke-linejoin:miter;stroke:rgb(26.666667%,26.666667%,26.666667%);stroke-opacity:1;stroke-miterlimit:10;\" d=\"M 580 341.570312 L 544.769531 330.074219 \"/>\n",
       "<path style=\" stroke:none;fill-rule:nonzero;fill:rgb(26.666667%,26.666667%,26.666667%);fill-opacity:1;\" d=\"M 531.207031 325.648438 L 546.207031 325.667969 L 543.332031 334.480469 L 531.207031 325.648438 \"/>\n",
       "<path style=\"fill:none;stroke-width:1;stroke-linecap:butt;stroke-linejoin:miter;stroke:rgb(26.666667%,26.666667%,26.666667%);stroke-opacity:1;stroke-miterlimit:10;\" d=\"M 400.472656 526.105469 L 442.207031 525.878906 \"/>\n",
       "<path style=\" stroke:none;fill-rule:nonzero;fill:rgb(26.666667%,26.666667%,26.666667%);fill-opacity:1;\" d=\"M 456.472656 525.800781 L 442.234375 530.511719 L 442.183594 521.242188 L 456.472656 525.800781 \"/>\n",
       "<path style=\"fill:none;stroke-width:1;stroke-linecap:butt;stroke-linejoin:miter;stroke:rgb(26.666667%,26.666667%,26.666667%);stroke-opacity:1;stroke-miterlimit:10;\" d=\"M 400.472656 526.105469 L 408.804688 496.542969 \"/>\n",
       "<path style=\" stroke:none;fill-rule:nonzero;fill:rgb(26.666667%,26.666667%,26.666667%);fill-opacity:1;\" d=\"M 412.671875 482.8125 L 413.265625 497.800781 L 404.339844 495.289062 L 412.671875 482.8125 \"/>\n",
       "<path style=\"fill:none;stroke-width:1;stroke-linecap:butt;stroke-linejoin:miter;stroke:rgb(26.666667%,26.666667%,26.666667%);stroke-opacity:1;stroke-miterlimit:10;\" d=\"M 400.472656 526.105469 L 413.125 548.5 \"/>\n",
       "<path style=\" stroke:none;fill-rule:nonzero;fill:rgb(26.666667%,26.666667%,26.666667%);fill-opacity:1;\" d=\"M 420.140625 560.921875 L 409.089844 550.78125 L 417.160156 546.222656 L 420.140625 560.921875 \"/>\n",
       "<path style=\"fill:none;stroke-width:1;stroke-linecap:butt;stroke-linejoin:miter;stroke:rgb(26.666667%,26.666667%,26.666667%);stroke-opacity:1;stroke-miterlimit:10;\" d=\"M 400.472656 526.105469 L 369.890625 527.414062 \"/>\n",
       "<path style=\" stroke:none;fill-rule:nonzero;fill:rgb(26.666667%,26.666667%,26.666667%);fill-opacity:1;\" d=\"M 355.640625 528.027344 L 369.695312 522.785156 L 370.089844 532.046875 L 355.640625 528.027344 \"/>\n",
       "<path style=\"fill:none;stroke-width:1;stroke-linecap:butt;stroke-linejoin:miter;stroke:rgb(26.666667%,26.666667%,26.666667%);stroke-opacity:1;stroke-miterlimit:10;\" d=\"M 400.472656 526.105469 L 456.597656 499.285156 \"/>\n",
       "<path style=\" stroke:none;fill-rule:nonzero;fill:rgb(26.666667%,26.666667%,26.666667%);fill-opacity:1;\" d=\"M 469.46875 493.132812 L 458.597656 503.464844 L 454.601562 495.101562 L 469.46875 493.132812 \"/>\n",
       "<path style=\"fill:none;stroke-width:1;stroke-linecap:butt;stroke-linejoin:miter;stroke:rgb(26.666667%,26.666667%,26.666667%);stroke-opacity:1;stroke-miterlimit:10;\" d=\"M 400.472656 526.105469 L 375.117188 560.214844 \"/>\n",
       "<path style=\" stroke:none;fill-rule:nonzero;fill:rgb(26.666667%,26.666667%,26.666667%);fill-opacity:1;\" d=\"M 366.605469 571.667969 L 371.398438 557.453125 L 378.835938 562.980469 L 366.605469 571.667969 \"/>\n",
       "<path style=\"fill:none;stroke-width:1;stroke-linecap:butt;stroke-linejoin:miter;stroke:rgb(26.666667%,26.666667%,26.666667%);stroke-opacity:1;stroke-miterlimit:10;\" d=\"M 400.472656 526.105469 L 393.394531 531.039062 \"/>\n",
       "<path style=\" stroke:none;fill-rule:nonzero;fill:rgb(26.666667%,26.666667%,26.666667%);fill-opacity:1;\" d=\"M 381.691406 539.199219 L 390.742188 527.238281 L 396.046875 534.839844 L 381.691406 539.199219 \"/>\n",
       "<path style=\"fill:none;stroke-width:1;stroke-linecap:butt;stroke-linejoin:miter;stroke:rgb(26.666667%,26.666667%,26.666667%);stroke-opacity:1;stroke-miterlimit:10;\" d=\"M 400.472656 526.105469 L 360.710938 545.320312 \"/>\n",
       "<path style=\" stroke:none;fill-rule:nonzero;fill:rgb(26.666667%,26.666667%,26.666667%);fill-opacity:1;\" d=\"M 347.867188 551.527344 L 358.695312 541.148438 L 362.726562 549.496094 L 347.867188 551.527344 \"/>\n",
       "<path style=\"fill:none;stroke-width:1;stroke-linecap:butt;stroke-linejoin:miter;stroke:rgb(26.666667%,26.666667%,26.666667%);stroke-opacity:1;stroke-miterlimit:10;\" d=\"M 400.472656 526.105469 L 428.082031 539 \"/>\n",
       "<path style=\" stroke:none;fill-rule:nonzero;fill:rgb(26.666667%,26.666667%,26.666667%);fill-opacity:1;\" d=\"M 441.007812 545.039062 L 426.117188 543.203125 L 430.042969 534.800781 L 441.007812 545.039062 \"/>\n",
       "<path style=\"fill:none;stroke-width:1;stroke-linecap:butt;stroke-linejoin:miter;stroke:rgb(26.666667%,26.666667%,26.666667%);stroke-opacity:1;stroke-miterlimit:10;\" d=\"M 400.472656 526.105469 L 380.226562 506.414062 \"/>\n",
       "<path style=\" stroke:none;fill-rule:nonzero;fill:rgb(26.666667%,26.666667%,26.666667%);fill-opacity:1;\" d=\"M 370 496.464844 L 383.457031 503.089844 L 376.996094 509.734375 L 370 496.464844 \"/>\n",
       "<path style=\"fill:none;stroke-width:1;stroke-linecap:butt;stroke-linejoin:miter;stroke:rgb(26.666667%,26.666667%,26.666667%);stroke-opacity:1;stroke-miterlimit:10;\" d=\"M 400.472656 526.105469 L 396.980469 555.898438 \"/>\n",
       "<path style=\" stroke:none;fill-rule:nonzero;fill:rgb(26.666667%,26.666667%,26.666667%);fill-opacity:1;\" d=\"M 395.324219 570.066406 L 392.378906 555.359375 L 401.585938 556.4375 L 395.324219 570.066406 \"/>\n",
       "<path style=\"fill:none;stroke-width:1;stroke-linecap:butt;stroke-linejoin:miter;stroke:rgb(26.666667%,26.666667%,26.666667%);stroke-opacity:1;stroke-miterlimit:10;\" d=\"M 400.472656 526.105469 L 424.792969 510.402344 \"/>\n",
       "<path style=\" stroke:none;fill-rule:nonzero;fill:rgb(26.666667%,26.666667%,26.666667%);fill-opacity:1;\" d=\"M 436.777344 502.667969 L 427.308594 514.296875 L 422.277344 506.507812 L 436.777344 502.667969 \"/>\n",
       "<path style=\"fill:none;stroke-width:1;stroke-linecap:butt;stroke-linejoin:miter;stroke:rgb(26.666667%,26.666667%,26.666667%);stroke-opacity:1;stroke-miterlimit:10;\" d=\"M 400.472656 526.105469 L 342.578125 503.203125 \"/>\n",
       "<path style=\" stroke:none;fill-rule:nonzero;fill:rgb(26.666667%,26.666667%,26.666667%);fill-opacity:1;\" d=\"M 329.3125 497.957031 L 344.285156 498.894531 L 340.875 507.515625 L 329.3125 497.957031 \"/>\n",
       "<path style=\"fill:none;stroke-width:1;stroke-linecap:butt;stroke-linejoin:miter;stroke:rgb(26.666667%,26.666667%,26.666667%);stroke-opacity:1;stroke-miterlimit:10;\" d=\"M 195.082031 53.5 L 209.441406 76.414062 \"/>\n",
       "<path style=\" stroke:none;fill-rule:nonzero;fill:rgb(26.666667%,26.666667%,26.666667%);fill-opacity:1;\" d=\"M 217.015625 88.503906 L 205.511719 78.875 L 213.367188 73.953125 L 217.015625 88.503906 \"/>\n",
       "<path style=\"fill-rule:nonzero;fill:rgb(73.72549%,74.117647%,13.333333%);fill-opacity:1;stroke-width:1;stroke-linecap:butt;stroke-linejoin:miter;stroke:rgb(0%,0%,0%);stroke-opacity:1;stroke-miterlimit:10;\" d=\"M 472.433594 266.449219 C 472.433594 271.972656 467.957031 276.449219 462.433594 276.449219 C 456.910156 276.449219 452.433594 271.972656 452.433594 266.449219 C 452.433594 260.929688 456.910156 256.449219 462.433594 256.449219 C 467.957031 256.449219 472.433594 260.929688 472.433594 266.449219 \"/>\n",
       "<path style=\"fill-rule:nonzero;fill:rgb(100%,49.803922%,5.490196%);fill-opacity:1;stroke-width:1;stroke-linecap:butt;stroke-linejoin:miter;stroke:rgb(0%,0%,0%);stroke-opacity:1;stroke-miterlimit:10;\" d=\"M 487.492188 194.171875 C 487.492188 199.695312 483.015625 204.171875 477.492188 204.171875 C 471.96875 204.171875 467.492188 199.695312 467.492188 194.171875 C 467.492188 188.648438 471.96875 184.171875 477.492188 184.171875 C 483.015625 184.171875 487.492188 188.648438 487.492188 194.171875 \"/>\n",
       "<path style=\"fill-rule:nonzero;fill:rgb(100%,49.803922%,5.490196%);fill-opacity:1;stroke-width:1;stroke-linecap:butt;stroke-linejoin:miter;stroke:rgb(0%,0%,0%);stroke-opacity:1;stroke-miterlimit:10;\" d=\"M 441.09375 253.3125 C 441.09375 258.835938 436.617188 263.3125 431.09375 263.3125 C 425.570312 263.3125 421.09375 258.835938 421.09375 253.3125 C 421.09375 247.789062 425.570312 243.3125 431.09375 243.3125 C 436.617188 243.3125 441.09375 247.789062 441.09375 253.3125 \"/>\n",
       "<path style=\"fill-rule:nonzero;fill:rgb(100%,49.803922%,5.490196%);fill-opacity:1;stroke-width:1;stroke-linecap:butt;stroke-linejoin:miter;stroke:rgb(0%,0%,0%);stroke-opacity:1;stroke-miterlimit:10;\" d=\"M 537.492188 289.714844 C 537.492188 295.238281 533.015625 299.714844 527.492188 299.714844 C 521.96875 299.714844 517.492188 295.238281 517.492188 289.714844 C 517.492188 284.195312 521.96875 279.714844 527.492188 279.714844 C 533.015625 279.714844 537.492188 284.195312 537.492188 289.714844 \"/>\n",
       "<path style=\"fill-rule:nonzero;fill:rgb(100%,49.803922%,5.490196%);fill-opacity:1;stroke-width:1;stroke-linecap:butt;stroke-linejoin:miter;stroke:rgb(0%,0%,0%);stroke-opacity:1;stroke-miterlimit:10;\" d=\"M 455.34375 201.839844 C 455.34375 207.363281 450.867188 211.839844 445.34375 211.839844 C 439.824219 211.839844 435.34375 207.363281 435.34375 201.839844 C 435.34375 196.316406 439.824219 191.839844 445.34375 191.839844 C 450.867188 191.839844 455.34375 196.316406 455.34375 201.839844 \"/>\n",
       "<path style=\"fill-rule:nonzero;fill:rgb(100%,49.803922%,5.490196%);fill-opacity:1;stroke-width:1;stroke-linecap:butt;stroke-linejoin:miter;stroke:rgb(0%,0%,0%);stroke-opacity:1;stroke-miterlimit:10;\" d=\"M 450.777344 240.375 C 450.777344 245.898438 446.300781 250.375 440.777344 250.375 C 435.257812 250.375 430.777344 245.898438 430.777344 240.375 C 430.777344 234.851562 435.257812 230.375 440.777344 230.375 C 446.300781 230.375 450.777344 234.851562 450.777344 240.375 \"/>\n",
       "<path style=\"fill-rule:nonzero;fill:rgb(54.901961%,33.72549%,29.411765%);fill-opacity:1;stroke-width:1;stroke-linecap:butt;stroke-linejoin:miter;stroke:rgb(0%,0%,0%);stroke-opacity:1;stroke-miterlimit:10;\" d=\"M 511.707031 230.125 C 511.707031 235.648438 507.230469 240.125 501.707031 240.125 C 496.183594 240.125 491.707031 235.648438 491.707031 230.125 C 491.707031 224.601562 496.183594 220.125 501.707031 220.125 C 507.230469 220.125 511.707031 224.601562 511.707031 230.125 \"/>\n",
       "<path style=\"fill-rule:nonzero;fill:rgb(73.72549%,74.117647%,13.333333%);fill-opacity:1;stroke-width:1;stroke-linecap:butt;stroke-linejoin:miter;stroke:rgb(0%,0%,0%);stroke-opacity:1;stroke-miterlimit:10;\" d=\"M 422.496094 294.007812 C 422.496094 299.53125 418.019531 304.007812 412.496094 304.007812 C 406.972656 304.007812 402.496094 299.53125 402.496094 294.007812 C 402.496094 288.484375 406.972656 284.007812 412.496094 284.007812 C 418.019531 284.007812 422.496094 288.484375 422.496094 294.007812 \"/>\n",
       "<path style=\"fill-rule:nonzero;fill:rgb(100%,49.803922%,5.490196%);fill-opacity:1;stroke-width:1;stroke-linecap:butt;stroke-linejoin:miter;stroke:rgb(0%,0%,0%);stroke-opacity:1;stroke-miterlimit:10;\" d=\"M 431.273438 217.183594 C 431.273438 222.707031 426.796875 227.183594 421.273438 227.183594 C 415.75 227.183594 411.273438 222.707031 411.273438 217.183594 C 411.273438 211.664062 415.75 207.183594 421.273438 207.183594 C 426.796875 207.183594 431.273438 211.664062 431.273438 217.183594 \"/>\n",
       "<path style=\"fill-rule:nonzero;fill:rgb(12.156863%,46.666667%,70.588235%);fill-opacity:1;stroke-width:1;stroke-linecap:butt;stroke-linejoin:miter;stroke:rgb(0%,0%,0%);stroke-opacity:1;stroke-miterlimit:10;\" d=\"M 500.199219 334.691406 C 500.199219 340.214844 495.722656 344.691406 490.199219 344.691406 C 484.679688 344.691406 480.199219 340.214844 480.199219 334.691406 C 480.199219 329.167969 484.679688 324.691406 490.199219 324.691406 C 495.722656 324.691406 500.199219 329.167969 500.199219 334.691406 \"/>\n",
       "<path style=\"fill-rule:nonzero;fill:rgb(54.901961%,33.72549%,29.411765%);fill-opacity:1;stroke-width:1;stroke-linecap:butt;stroke-linejoin:miter;stroke:rgb(0%,0%,0%);stroke-opacity:1;stroke-miterlimit:10;\" d=\"M 473.175781 217.003906 C 473.175781 222.527344 468.699219 227.003906 463.175781 227.003906 C 457.652344 227.003906 453.175781 222.527344 453.175781 217.003906 C 453.175781 211.484375 457.652344 207.003906 463.175781 207.003906 C 468.699219 207.003906 473.175781 211.484375 473.175781 217.003906 \"/>\n",
       "<path style=\"fill-rule:nonzero;fill:rgb(12.156863%,46.666667%,70.588235%);fill-opacity:1;stroke-width:1;stroke-linecap:butt;stroke-linejoin:miter;stroke:rgb(0%,0%,0%);stroke-opacity:1;stroke-miterlimit:10;\" d=\"M 466.035156 334.117188 C 466.035156 339.640625 461.558594 344.117188 456.035156 344.117188 C 450.511719 344.117188 446.035156 339.640625 446.035156 334.117188 C 446.035156 328.59375 450.511719 324.117188 456.035156 324.117188 C 461.558594 324.117188 466.035156 328.59375 466.035156 334.117188 \"/>\n",
       "<path style=\"fill-rule:nonzero;fill:rgb(49.803922%,49.803922%,49.803922%);fill-opacity:1;stroke-width:1;stroke-linecap:butt;stroke-linejoin:miter;stroke:rgb(0%,0%,0%);stroke-opacity:1;stroke-miterlimit:10;\" d=\"M 143.121094 169.984375 C 143.121094 175.503906 138.644531 179.984375 133.121094 179.984375 C 127.597656 179.984375 123.121094 175.503906 123.121094 169.984375 C 123.121094 164.460938 127.597656 159.984375 133.121094 159.984375 C 138.644531 159.984375 143.121094 164.460938 143.121094 169.984375 \"/>\n",
       "<path style=\"fill-rule:nonzero;fill:rgb(49.803922%,49.803922%,49.803922%);fill-opacity:1;stroke-width:1;stroke-linecap:butt;stroke-linejoin:miter;stroke:rgb(0%,0%,0%);stroke-opacity:1;stroke-miterlimit:10;\" d=\"M 192.59375 157.808594 C 192.59375 163.328125 188.117188 167.808594 182.59375 167.808594 C 177.070312 167.808594 172.59375 163.328125 172.59375 157.808594 C 172.59375 152.285156 177.070312 147.808594 182.59375 147.808594 C 188.117188 147.808594 192.59375 152.285156 192.59375 157.808594 \"/>\n",
       "<path style=\"fill-rule:nonzero;fill:rgb(49.803922%,49.803922%,49.803922%);fill-opacity:1;stroke-width:1;stroke-linecap:butt;stroke-linejoin:miter;stroke:rgb(0%,0%,0%);stroke-opacity:1;stroke-miterlimit:10;\" d=\"M 116.300781 170.800781 C 116.300781 176.324219 111.824219 180.800781 106.300781 180.800781 C 100.777344 180.800781 96.300781 176.324219 96.300781 170.800781 C 96.300781 165.277344 100.777344 160.800781 106.300781 160.800781 C 111.824219 160.800781 116.300781 165.277344 116.300781 170.800781 \"/>\n",
       "<path style=\"fill-rule:nonzero;fill:rgb(100%,49.803922%,5.490196%);fill-opacity:1;stroke-width:1;stroke-linecap:butt;stroke-linejoin:miter;stroke:rgb(0%,0%,0%);stroke-opacity:1;stroke-miterlimit:10;\" d=\"M 498.558594 295.902344 C 498.558594 301.425781 494.078125 305.902344 488.558594 305.902344 C 483.035156 305.902344 478.558594 301.425781 478.558594 295.902344 C 478.558594 290.382812 483.035156 285.902344 488.558594 285.902344 C 494.078125 285.902344 498.558594 290.382812 498.558594 295.902344 \"/>\n",
       "<path style=\"fill-rule:nonzero;fill:rgb(12.156863%,46.666667%,70.588235%);fill-opacity:1;stroke-width:1;stroke-linecap:butt;stroke-linejoin:miter;stroke:rgb(0%,0%,0%);stroke-opacity:1;stroke-miterlimit:10;\" d=\"M 35.46875 244.972656 C 35.46875 250.496094 30.992188 254.972656 25.46875 254.972656 C 19.945312 254.972656 15.46875 250.496094 15.46875 244.972656 C 15.46875 239.449219 19.945312 234.972656 25.46875 234.972656 C 30.992188 234.972656 35.46875 239.449219 35.46875 244.972656 \"/>\n",
       "<path style=\"fill-rule:nonzero;fill:rgb(12.156863%,46.666667%,70.588235%);fill-opacity:1;stroke-width:1;stroke-linecap:butt;stroke-linejoin:miter;stroke:rgb(0%,0%,0%);stroke-opacity:1;stroke-miterlimit:10;\" d=\"M 34.875 274.953125 C 34.875 280.476562 30.398438 284.953125 24.875 284.953125 C 19.351562 284.953125 14.875 280.476562 14.875 274.953125 C 14.875 269.433594 19.351562 264.953125 24.875 264.953125 C 30.398438 264.953125 34.875 269.433594 34.875 274.953125 \"/>\n",
       "<path style=\"fill-rule:nonzero;fill:rgb(49.803922%,49.803922%,49.803922%);fill-opacity:1;stroke-width:1;stroke-linecap:butt;stroke-linejoin:miter;stroke:rgb(0%,0%,0%);stroke-opacity:1;stroke-miterlimit:10;\" d=\"M 166.125 133.757812 C 166.125 139.28125 161.648438 143.757812 156.125 143.757812 C 150.601562 143.757812 146.125 139.28125 146.125 133.757812 C 146.125 128.234375 150.601562 123.757812 156.125 123.757812 C 161.648438 123.757812 166.125 128.234375 166.125 133.757812 \"/>\n",
       "<path style=\"fill-rule:nonzero;fill:rgb(49.803922%,49.803922%,49.803922%);fill-opacity:1;stroke-width:1;stroke-linecap:butt;stroke-linejoin:miter;stroke:rgb(0%,0%,0%);stroke-opacity:1;stroke-miterlimit:10;\" d=\"M 169.078125 113.019531 C 169.078125 118.542969 164.597656 123.019531 159.078125 123.019531 C 153.554688 123.019531 149.078125 118.542969 149.078125 113.019531 C 149.078125 107.496094 153.554688 103.019531 159.078125 103.019531 C 164.597656 103.019531 169.078125 107.496094 169.078125 113.019531 \"/>\n",
       "<path style=\"fill-rule:nonzero;fill:rgb(49.803922%,49.803922%,49.803922%);fill-opacity:1;stroke-width:1;stroke-linecap:butt;stroke-linejoin:miter;stroke:rgb(0%,0%,0%);stroke-opacity:1;stroke-miterlimit:10;\" d=\"M 135.734375 124.339844 C 135.734375 129.863281 131.257812 134.339844 125.734375 134.339844 C 120.214844 134.339844 115.734375 129.863281 115.734375 124.339844 C 115.734375 118.816406 120.214844 114.339844 125.734375 114.339844 C 131.257812 114.339844 135.734375 118.816406 135.734375 124.339844 \"/>\n",
       "<path style=\"fill-rule:nonzero;fill:rgb(49.803922%,49.803922%,49.803922%);fill-opacity:1;stroke-width:1;stroke-linecap:butt;stroke-linejoin:miter;stroke:rgb(0%,0%,0%);stroke-opacity:1;stroke-miterlimit:10;\" d=\"M 217.019531 138.824219 C 217.019531 144.347656 212.542969 148.824219 207.019531 148.824219 C 201.496094 148.824219 197.019531 144.347656 197.019531 138.824219 C 197.019531 133.300781 201.496094 128.824219 207.019531 128.824219 C 212.542969 128.824219 217.019531 133.300781 217.019531 138.824219 \"/>\n",
       "<path style=\"fill-rule:nonzero;fill:rgb(73.72549%,74.117647%,13.333333%);fill-opacity:1;stroke-width:1;stroke-linecap:butt;stroke-linejoin:miter;stroke:rgb(0%,0%,0%);stroke-opacity:1;stroke-miterlimit:10;\" d=\"M 281.992188 389.765625 C 281.992188 395.289062 277.515625 399.765625 271.992188 399.765625 C 266.46875 399.765625 261.992188 395.289062 261.992188 389.765625 C 261.992188 384.242188 266.46875 379.765625 271.992188 379.765625 C 277.515625 379.765625 281.992188 384.242188 281.992188 389.765625 \"/>\n",
       "<path style=\"fill-rule:nonzero;fill:rgb(100%,49.803922%,5.490196%);fill-opacity:1;stroke-width:1;stroke-linecap:butt;stroke-linejoin:miter;stroke:rgb(0%,0%,0%);stroke-opacity:1;stroke-miterlimit:10;\" d=\"M 346.652344 338.835938 C 346.652344 344.359375 342.175781 348.835938 336.652344 348.835938 C 331.128906 348.835938 326.652344 344.359375 326.652344 338.835938 C 326.652344 333.316406 331.128906 328.835938 336.652344 328.835938 C 342.175781 328.835938 346.652344 333.316406 346.652344 338.835938 \"/>\n",
       "<path style=\"fill-rule:nonzero;fill:rgb(49.803922%,49.803922%,49.803922%);fill-opacity:1;stroke-width:1;stroke-linecap:butt;stroke-linejoin:miter;stroke:rgb(0%,0%,0%);stroke-opacity:1;stroke-miterlimit:10;\" d=\"M 231.320312 205.625 C 231.320312 211.144531 226.839844 215.625 221.320312 215.625 C 215.796875 215.625 211.320312 211.144531 211.320312 205.625 C 211.320312 200.101562 215.796875 195.625 221.320312 195.625 C 226.839844 195.625 231.320312 200.101562 231.320312 205.625 \"/>\n",
       "<path style=\"fill-rule:nonzero;fill:rgb(49.803922%,49.803922%,49.803922%);fill-opacity:1;stroke-width:1;stroke-linecap:butt;stroke-linejoin:miter;stroke:rgb(0%,0%,0%);stroke-opacity:1;stroke-miterlimit:10;\" d=\"M 279.109375 257.554688 C 279.109375 263.078125 274.632812 267.554688 269.109375 267.554688 C 263.585938 267.554688 259.109375 263.078125 259.109375 257.554688 C 259.109375 252.03125 263.585938 247.554688 269.109375 247.554688 C 274.632812 247.554688 279.109375 252.03125 279.109375 257.554688 \"/>\n",
       "<path style=\"fill-rule:nonzero;fill:rgb(49.803922%,49.803922%,49.803922%);fill-opacity:1;stroke-width:1;stroke-linecap:butt;stroke-linejoin:miter;stroke:rgb(0%,0%,0%);stroke-opacity:1;stroke-miterlimit:10;\" d=\"M 179.628906 209.367188 C 179.628906 214.890625 175.152344 219.367188 169.628906 219.367188 C 164.105469 219.367188 159.628906 214.890625 159.628906 209.367188 C 159.628906 203.84375 164.105469 199.367188 169.628906 199.367188 C 175.152344 199.367188 179.628906 203.84375 179.628906 209.367188 \"/>\n",
       "<path style=\"fill-rule:nonzero;fill:rgb(49.803922%,49.803922%,49.803922%);fill-opacity:1;stroke-width:1;stroke-linecap:butt;stroke-linejoin:miter;stroke:rgb(0%,0%,0%);stroke-opacity:1;stroke-miterlimit:10;\" d=\"M 293.902344 170.71875 C 293.902344 176.242188 289.425781 180.71875 283.902344 180.71875 C 278.378906 180.71875 273.902344 176.242188 273.902344 170.71875 C 273.902344 165.195312 278.378906 160.71875 283.902344 160.71875 C 289.425781 160.71875 293.902344 165.195312 293.902344 170.71875 \"/>\n",
       "<path style=\"fill-rule:nonzero;fill:rgb(49.803922%,49.803922%,49.803922%);fill-opacity:1;stroke-width:1;stroke-linecap:butt;stroke-linejoin:miter;stroke:rgb(0%,0%,0%);stroke-opacity:1;stroke-miterlimit:10;\" d=\"M 273.78125 218.226562 C 273.78125 223.75 269.304688 228.226562 263.78125 228.226562 C 258.257812 228.226562 253.78125 223.75 253.78125 218.226562 C 253.78125 212.703125 258.257812 208.226562 263.78125 208.226562 C 269.304688 208.226562 273.78125 212.703125 273.78125 218.226562 \"/>\n",
       "<path style=\"fill-rule:nonzero;fill:rgb(17.254902%,62.745098%,17.254902%);fill-opacity:1;stroke-width:1;stroke-linecap:butt;stroke-linejoin:miter;stroke:rgb(0%,0%,0%);stroke-opacity:1;stroke-miterlimit:10;\" d=\"M 278.386719 526.292969 C 278.386719 531.816406 273.910156 536.292969 268.386719 536.292969 C 262.863281 536.292969 258.386719 531.816406 258.386719 526.292969 C 258.386719 520.769531 262.863281 516.292969 268.386719 516.292969 C 273.910156 516.292969 278.386719 520.769531 278.386719 526.292969 \"/>\n",
       "<path style=\"fill-rule:nonzero;fill:rgb(73.72549%,74.117647%,13.333333%);fill-opacity:1;stroke-width:1;stroke-linecap:butt;stroke-linejoin:miter;stroke:rgb(0%,0%,0%);stroke-opacity:1;stroke-miterlimit:10;\" d=\"M 253.234375 500.574219 C 253.234375 506.097656 248.757812 510.574219 243.234375 510.574219 C 237.710938 510.574219 233.234375 506.097656 233.234375 500.574219 C 233.234375 495.050781 237.710938 490.574219 243.234375 490.574219 C 248.757812 490.574219 253.234375 495.050781 253.234375 500.574219 \"/>\n",
       "<path style=\"fill-rule:nonzero;fill:rgb(9.019608%,74.509804%,81.176471%);fill-opacity:1;stroke-width:1;stroke-linecap:butt;stroke-linejoin:miter;stroke:rgb(0%,0%,0%);stroke-opacity:1;stroke-miterlimit:10;\" d=\"M 330.015625 494.277344 C 330.015625 499.800781 325.535156 504.277344 320.015625 504.277344 C 314.492188 504.277344 310.015625 499.800781 310.015625 494.277344 C 310.015625 488.753906 314.492188 484.277344 320.015625 484.277344 C 325.535156 484.277344 330.015625 488.753906 330.015625 494.277344 \"/>\n",
       "<path style=\"fill-rule:nonzero;fill:rgb(49.803922%,49.803922%,49.803922%);fill-opacity:1;stroke-width:1;stroke-linecap:butt;stroke-linejoin:miter;stroke:rgb(0%,0%,0%);stroke-opacity:1;stroke-miterlimit:10;\" d=\"M 68.804688 423.125 C 68.804688 428.648438 64.328125 433.125 58.804688 433.125 C 53.28125 433.125 48.804688 428.648438 48.804688 423.125 C 48.804688 417.605469 53.28125 413.125 58.804688 413.125 C 64.328125 413.125 68.804688 417.605469 68.804688 423.125 \"/>\n",
       "<path style=\"fill-rule:nonzero;fill:rgb(49.803922%,49.803922%,49.803922%);fill-opacity:1;stroke-width:1;stroke-linecap:butt;stroke-linejoin:miter;stroke:rgb(0%,0%,0%);stroke-opacity:1;stroke-miterlimit:10;\" d=\"M 64.273438 456.449219 C 64.273438 461.96875 59.796875 466.449219 54.273438 466.449219 C 48.75 466.449219 44.273438 461.96875 44.273438 456.449219 C 44.273438 450.925781 48.75 446.449219 54.273438 446.449219 C 59.796875 446.449219 64.273438 450.925781 64.273438 456.449219 \"/>\n",
       "<path style=\"fill-rule:nonzero;fill:rgb(49.803922%,49.803922%,49.803922%);fill-opacity:1;stroke-width:1;stroke-linecap:butt;stroke-linejoin:miter;stroke:rgb(0%,0%,0%);stroke-opacity:1;stroke-miterlimit:10;\" d=\"M 56.328125 388.203125 C 56.328125 393.722656 51.851562 398.203125 46.328125 398.203125 C 40.804688 398.203125 36.328125 393.722656 36.328125 388.203125 C 36.328125 382.679688 40.804688 378.203125 46.328125 378.203125 C 51.851562 378.203125 56.328125 382.679688 56.328125 388.203125 \"/>\n",
       "<path style=\"fill-rule:nonzero;fill:rgb(49.803922%,49.803922%,49.803922%);fill-opacity:1;stroke-width:1;stroke-linecap:butt;stroke-linejoin:miter;stroke:rgb(0%,0%,0%);stroke-opacity:1;stroke-miterlimit:10;\" d=\"M 91.679688 466.058594 C 91.679688 471.582031 87.203125 476.058594 81.679688 476.058594 C 76.15625 476.058594 71.679688 471.582031 71.679688 466.058594 C 71.679688 460.535156 76.15625 456.058594 81.679688 456.058594 C 87.203125 456.058594 91.679688 460.535156 91.679688 466.058594 \"/>\n",
       "<path style=\"fill-rule:nonzero;fill:rgb(49.803922%,49.803922%,49.803922%);fill-opacity:1;stroke-width:1;stroke-linecap:butt;stroke-linejoin:miter;stroke:rgb(0%,0%,0%);stroke-opacity:1;stroke-miterlimit:10;\" d=\"M 327.851562 289.652344 C 327.851562 295.175781 323.375 299.652344 317.851562 299.652344 C 312.332031 299.652344 307.851562 295.175781 307.851562 289.652344 C 307.851562 284.128906 312.332031 279.652344 317.851562 279.652344 C 323.375 279.652344 327.851562 284.128906 327.851562 289.652344 \"/>\n",
       "<path style=\"fill-rule:nonzero;fill:rgb(49.803922%,49.803922%,49.803922%);fill-opacity:1;stroke-width:1;stroke-linecap:butt;stroke-linejoin:miter;stroke:rgb(0%,0%,0%);stroke-opacity:1;stroke-miterlimit:10;\" d=\"M 232.324219 96.976562 C 232.324219 102.5 227.847656 106.976562 222.324219 106.976562 C 216.800781 106.976562 212.324219 102.5 212.324219 96.976562 C 212.324219 91.453125 216.800781 86.976562 222.324219 86.976562 C 227.847656 86.976562 232.324219 91.453125 232.324219 96.976562 \"/>\n",
       "<path style=\"fill-rule:nonzero;fill:rgb(58.039216%,40.392157%,74.117647%);fill-opacity:1;stroke-width:1;stroke-linecap:butt;stroke-linejoin:miter;stroke:rgb(0%,0%,0%);stroke-opacity:1;stroke-miterlimit:10;\" d=\"M 355.648438 528.453125 C 355.648438 533.976562 351.171875 538.453125 345.648438 538.453125 C 340.125 538.453125 335.648438 533.976562 335.648438 528.453125 C 335.648438 522.929688 340.125 518.453125 345.648438 518.453125 C 351.171875 518.453125 355.648438 522.929688 355.648438 528.453125 \"/>\n",
       "<path style=\"fill-rule:nonzero;fill:rgb(58.039216%,40.392157%,74.117647%);fill-opacity:1;stroke-width:1;stroke-linecap:butt;stroke-linejoin:miter;stroke:rgb(0%,0%,0%);stroke-opacity:1;stroke-miterlimit:10;\" d=\"M 383.488281 544.917969 C 383.488281 550.441406 379.011719 554.917969 373.488281 554.917969 C 367.964844 554.917969 363.488281 550.441406 363.488281 544.917969 C 363.488281 539.394531 367.964844 534.917969 373.488281 534.917969 C 379.011719 534.917969 383.488281 539.394531 383.488281 544.917969 \"/>\n",
       "<path style=\"fill-rule:nonzero;fill:rgb(100%,49.803922%,5.490196%);fill-opacity:1;stroke-width:1;stroke-linecap:butt;stroke-linejoin:miter;stroke:rgb(0%,0%,0%);stroke-opacity:1;stroke-miterlimit:10;\" d=\"M 348.863281 555.878906 C 348.863281 561.402344 344.386719 565.878906 338.863281 565.878906 C 333.339844 565.878906 328.863281 561.402344 328.863281 555.878906 C 328.863281 550.359375 333.339844 545.878906 338.863281 545.878906 C 344.386719 545.878906 348.863281 550.359375 348.863281 555.878906 \"/>\n",
       "<path style=\"fill-rule:nonzero;fill:rgb(49.803922%,49.803922%,49.803922%);fill-opacity:1;stroke-width:1;stroke-linecap:butt;stroke-linejoin:miter;stroke:rgb(0%,0%,0%);stroke-opacity:1;stroke-miterlimit:10;\" d=\"M 355.136719 203.578125 C 355.136719 209.101562 350.660156 213.578125 345.136719 213.578125 C 339.613281 213.578125 335.136719 209.101562 335.136719 203.578125 C 335.136719 198.054688 339.613281 193.578125 345.136719 193.578125 C 350.660156 193.578125 355.136719 198.054688 355.136719 203.578125 \"/>\n",
       "<path style=\"fill-rule:nonzero;fill:rgb(49.803922%,49.803922%,49.803922%);fill-opacity:1;stroke-width:1;stroke-linecap:butt;stroke-linejoin:miter;stroke:rgb(0%,0%,0%);stroke-opacity:1;stroke-miterlimit:10;\" d=\"M 273.21875 157.351562 C 273.21875 162.875 268.742188 167.351562 263.21875 167.351562 C 257.695312 167.351562 253.21875 162.875 253.21875 157.351562 C 253.21875 151.828125 257.695312 147.351562 263.21875 147.351562 C 268.742188 147.351562 273.21875 151.828125 273.21875 157.351562 \"/>\n",
       "<path style=\"fill-rule:nonzero;fill:rgb(54.901961%,33.72549%,29.411765%);fill-opacity:1;stroke-width:1;stroke-linecap:butt;stroke-linejoin:miter;stroke:rgb(0%,0%,0%);stroke-opacity:1;stroke-miterlimit:10;\" d=\"M 349.035156 230.390625 C 349.035156 235.914062 344.558594 240.390625 339.035156 240.390625 C 333.511719 240.390625 329.035156 235.914062 329.035156 230.390625 C 329.035156 224.867188 333.511719 220.390625 339.035156 220.390625 C 344.558594 220.390625 349.035156 224.867188 349.035156 230.390625 \"/>\n",
       "<path style=\"fill-rule:nonzero;fill:rgb(49.803922%,49.803922%,49.803922%);fill-opacity:1;stroke-width:1;stroke-linecap:butt;stroke-linejoin:miter;stroke:rgb(0%,0%,0%);stroke-opacity:1;stroke-miterlimit:10;\" d=\"M 216.054688 179.769531 C 216.054688 185.292969 211.578125 189.769531 206.054688 189.769531 C 200.535156 189.769531 196.054688 185.292969 196.054688 179.769531 C 196.054688 174.246094 200.535156 169.769531 206.054688 169.769531 C 211.578125 169.769531 216.054688 174.246094 216.054688 179.769531 \"/>\n",
       "<path style=\"fill-rule:nonzero;fill:rgb(58.039216%,40.392157%,74.117647%);fill-opacity:1;stroke-width:1;stroke-linecap:butt;stroke-linejoin:miter;stroke:rgb(0%,0%,0%);stroke-opacity:1;stroke-miterlimit:10;\" d=\"M 286.335938 476.546875 C 286.335938 482.066406 281.859375 486.546875 276.335938 486.546875 C 270.8125 486.546875 266.335938 482.066406 266.335938 476.546875 C 266.335938 471.023438 270.8125 466.546875 276.335938 466.546875 C 281.859375 466.546875 286.335938 471.023438 286.335938 476.546875 \"/>\n",
       "<path style=\"fill-rule:nonzero;fill:rgb(58.039216%,40.392157%,74.117647%);fill-opacity:1;stroke-width:1;stroke-linecap:butt;stroke-linejoin:miter;stroke:rgb(0%,0%,0%);stroke-opacity:1;stroke-miterlimit:10;\" d=\"M 351.601562 457.4375 C 351.601562 462.960938 347.125 467.4375 341.601562 467.4375 C 336.078125 467.4375 331.601562 462.960938 331.601562 457.4375 C 331.601562 451.917969 336.078125 447.4375 341.601562 447.4375 C 347.125 447.4375 351.601562 451.917969 351.601562 457.4375 \"/>\n",
       "<path style=\"fill-rule:nonzero;fill:rgb(9.019608%,74.509804%,81.176471%);fill-opacity:1;stroke-width:1;stroke-linecap:butt;stroke-linejoin:miter;stroke:rgb(0%,0%,0%);stroke-opacity:1;stroke-miterlimit:10;\" d=\"M 372.832031 489.492188 C 372.832031 495.015625 368.355469 499.492188 362.832031 499.492188 C 357.308594 499.492188 352.832031 495.015625 352.832031 489.492188 C 352.832031 483.972656 357.308594 479.492188 362.832031 479.492188 C 368.355469 479.492188 372.832031 483.972656 372.832031 489.492188 \"/>\n",
       "<path style=\"fill-rule:nonzero;fill:rgb(58.039216%,40.392157%,74.117647%);fill-opacity:1;stroke-width:1;stroke-linecap:butt;stroke-linejoin:miter;stroke:rgb(0%,0%,0%);stroke-opacity:1;stroke-miterlimit:10;\" d=\"M 384.75 463.484375 C 384.75 469.007812 380.273438 473.484375 374.75 473.484375 C 369.230469 473.484375 364.75 469.007812 364.75 463.484375 C 364.75 457.964844 369.230469 453.484375 374.75 453.484375 C 380.273438 453.484375 384.75 457.964844 384.75 463.484375 \"/>\n",
       "<path style=\"fill-rule:nonzero;fill:rgb(58.039216%,40.392157%,74.117647%);fill-opacity:1;stroke-width:1;stroke-linecap:butt;stroke-linejoin:miter;stroke:rgb(0%,0%,0%);stroke-opacity:1;stroke-miterlimit:10;\" d=\"M 425.386719 473.1875 C 425.386719 478.710938 420.910156 483.1875 415.386719 483.1875 C 409.863281 483.1875 405.386719 478.710938 405.386719 473.1875 C 405.386719 467.667969 409.863281 463.1875 415.386719 463.1875 C 420.910156 463.1875 425.386719 467.667969 425.386719 473.1875 \"/>\n",
       "<path style=\"fill-rule:nonzero;fill:rgb(83.921569%,15.294118%,15.686275%);fill-opacity:1;stroke-width:1;stroke-linecap:butt;stroke-linejoin:miter;stroke:rgb(0%,0%,0%);stroke-opacity:1;stroke-miterlimit:10;\" d=\"M 142.175781 430.585938 C 142.175781 436.109375 137.699219 440.585938 132.175781 440.585938 C 126.652344 440.585938 122.175781 436.109375 122.175781 430.585938 C 122.175781 425.0625 126.652344 420.585938 132.175781 420.585938 C 137.699219 420.585938 142.175781 425.0625 142.175781 430.585938 \"/>\n",
       "<path style=\"fill-rule:nonzero;fill:rgb(83.921569%,15.294118%,15.686275%);fill-opacity:1;stroke-width:1;stroke-linecap:butt;stroke-linejoin:miter;stroke:rgb(0%,0%,0%);stroke-opacity:1;stroke-miterlimit:10;\" d=\"M 179.84375 435.625 C 179.84375 441.144531 175.367188 445.625 169.84375 445.625 C 164.320312 445.625 159.84375 441.144531 159.84375 435.625 C 159.84375 430.101562 164.320312 425.625 169.84375 425.625 C 175.367188 425.625 179.84375 430.101562 179.84375 435.625 \"/>\n",
       "<path style=\"fill-rule:nonzero;fill:rgb(100%,49.803922%,5.490196%);fill-opacity:1;stroke-width:1;stroke-linecap:butt;stroke-linejoin:miter;stroke:rgb(0%,0%,0%);stroke-opacity:1;stroke-miterlimit:10;\" d=\"M 535.320312 185.160156 C 535.320312 190.679688 530.84375 195.160156 525.320312 195.160156 C 519.800781 195.160156 515.320312 190.679688 515.320312 185.160156 C 515.320312 179.636719 519.800781 175.160156 525.320312 175.160156 C 530.84375 175.160156 535.320312 179.636719 535.320312 185.160156 \"/>\n",
       "<path style=\"fill-rule:nonzero;fill:rgb(54.901961%,33.72549%,29.411765%);fill-opacity:1;stroke-width:1;stroke-linecap:butt;stroke-linejoin:miter;stroke:rgb(0%,0%,0%);stroke-opacity:1;stroke-miterlimit:10;\" d=\"M 462.433594 176.695312 C 462.433594 182.21875 457.957031 186.695312 452.433594 186.695312 C 446.914062 186.695312 442.433594 182.21875 442.433594 176.695312 C 442.433594 171.171875 446.914062 166.695312 452.433594 166.695312 C 457.957031 166.695312 462.433594 171.171875 462.433594 176.695312 \"/>\n",
       "<path style=\"fill-rule:nonzero;fill:rgb(49.803922%,49.803922%,49.803922%);fill-opacity:1;stroke-width:1;stroke-linecap:butt;stroke-linejoin:miter;stroke:rgb(0%,0%,0%);stroke-opacity:1;stroke-miterlimit:10;\" d=\"M 378.964844 155.097656 C 378.964844 160.621094 374.488281 165.097656 368.964844 165.097656 C 363.441406 165.097656 358.964844 160.621094 358.964844 155.097656 C 358.964844 149.574219 363.441406 145.097656 368.964844 145.097656 C 374.488281 145.097656 378.964844 149.574219 378.964844 155.097656 \"/>\n",
       "<path style=\"fill-rule:nonzero;fill:rgb(100%,49.803922%,5.490196%);fill-opacity:1;stroke-width:1;stroke-linecap:butt;stroke-linejoin:miter;stroke:rgb(0%,0%,0%);stroke-opacity:1;stroke-miterlimit:10;\" d=\"M 524.792969 137.480469 C 524.792969 143.003906 520.316406 147.480469 514.792969 147.480469 C 509.269531 147.480469 504.792969 143.003906 504.792969 137.480469 C 504.792969 131.957031 509.269531 127.480469 514.792969 127.480469 C 520.316406 127.480469 524.792969 131.957031 524.792969 137.480469 \"/>\n",
       "<path style=\"fill-rule:nonzero;fill:rgb(54.901961%,33.72549%,29.411765%);fill-opacity:1;stroke-width:1;stroke-linecap:butt;stroke-linejoin:miter;stroke:rgb(0%,0%,0%);stroke-opacity:1;stroke-miterlimit:10;\" d=\"M 473.128906 136.652344 C 473.128906 142.175781 468.652344 146.652344 463.128906 146.652344 C 457.605469 146.652344 453.128906 142.175781 453.128906 136.652344 C 453.128906 131.128906 457.605469 126.652344 463.128906 126.652344 C 468.652344 126.652344 473.128906 131.128906 473.128906 136.652344 \"/>\n",
       "<path style=\"fill-rule:nonzero;fill:rgb(54.901961%,33.72549%,29.411765%);fill-opacity:1;stroke-width:1;stroke-linecap:butt;stroke-linejoin:miter;stroke:rgb(0%,0%,0%);stroke-opacity:1;stroke-miterlimit:10;\" d=\"M 422.8125 167.519531 C 422.8125 173.039062 418.335938 177.519531 412.8125 177.519531 C 407.289062 177.519531 402.8125 173.039062 402.8125 167.519531 C 402.8125 161.996094 407.289062 157.519531 412.8125 157.519531 C 418.335938 157.519531 422.8125 161.996094 422.8125 167.519531 \"/>\n",
       "<path style=\"fill-rule:nonzero;fill:rgb(54.901961%,33.72549%,29.411765%);fill-opacity:1;stroke-width:1;stroke-linecap:butt;stroke-linejoin:miter;stroke:rgb(0%,0%,0%);stroke-opacity:1;stroke-miterlimit:10;\" d=\"M 377.539062 188.347656 C 377.539062 193.867188 373.0625 198.347656 367.539062 198.347656 C 362.015625 198.347656 357.539062 193.867188 357.539062 188.347656 C 357.539062 182.824219 362.015625 178.347656 367.539062 178.347656 C 373.0625 178.347656 377.539062 182.824219 377.539062 188.347656 \"/>\n",
       "<path style=\"fill-rule:nonzero;fill:rgb(49.803922%,49.803922%,49.803922%);fill-opacity:1;stroke-width:1;stroke-linecap:butt;stroke-linejoin:miter;stroke:rgb(0%,0%,0%);stroke-opacity:1;stroke-miterlimit:10;\" d=\"M 30 363.351562 C 30 368.875 25.523438 373.351562 20 373.351562 C 14.476562 373.351562 10 368.875 10 363.351562 C 10 357.828125 14.476562 353.351562 20 353.351562 C 25.523438 353.351562 30 357.828125 30 363.351562 \"/>\n",
       "<path style=\"fill-rule:nonzero;fill:rgb(49.803922%,49.803922%,49.803922%);fill-opacity:1;stroke-width:1;stroke-linecap:butt;stroke-linejoin:miter;stroke:rgb(0%,0%,0%);stroke-opacity:1;stroke-miterlimit:10;\" d=\"M 54.375 348.34375 C 54.375 353.867188 49.898438 358.34375 44.375 358.34375 C 38.851562 358.34375 34.375 353.867188 34.375 348.34375 C 34.375 342.820312 38.851562 338.34375 44.375 338.34375 C 49.898438 338.34375 54.375 342.820312 54.375 348.34375 \"/>\n",
       "<path style=\"fill-rule:nonzero;fill:rgb(49.803922%,49.803922%,49.803922%);fill-opacity:1;stroke-width:1;stroke-linecap:butt;stroke-linejoin:miter;stroke:rgb(0%,0%,0%);stroke-opacity:1;stroke-miterlimit:10;\" d=\"M 412.394531 83.757812 C 412.394531 89.277344 407.917969 93.757812 402.394531 93.757812 C 396.871094 93.757812 392.394531 89.277344 392.394531 83.757812 C 392.394531 78.234375 396.871094 73.757812 402.394531 73.757812 C 407.917969 73.757812 412.394531 78.234375 412.394531 83.757812 \"/>\n",
       "<path style=\"fill-rule:nonzero;fill:rgb(49.803922%,49.803922%,49.803922%);fill-opacity:1;stroke-width:1;stroke-linecap:butt;stroke-linejoin:miter;stroke:rgb(0%,0%,0%);stroke-opacity:1;stroke-miterlimit:10;\" d=\"M 402.847656 36.675781 C 402.847656 42.199219 398.371094 46.675781 392.847656 46.675781 C 387.324219 46.675781 382.847656 42.199219 382.847656 36.675781 C 382.847656 31.152344 387.324219 26.675781 392.847656 26.675781 C 398.371094 26.675781 402.847656 31.152344 402.847656 36.675781 \"/>\n",
       "<path style=\"fill-rule:nonzero;fill:rgb(73.72549%,74.117647%,13.333333%);fill-opacity:1;stroke-width:1;stroke-linecap:butt;stroke-linejoin:miter;stroke:rgb(0%,0%,0%);stroke-opacity:1;stroke-miterlimit:10;\" d=\"M 213.378906 535.847656 C 213.378906 541.371094 208.902344 545.847656 203.378906 545.847656 C 197.855469 545.847656 193.378906 541.371094 193.378906 535.847656 C 193.378906 530.324219 197.855469 525.847656 203.378906 525.847656 C 208.902344 525.847656 213.378906 530.324219 213.378906 535.847656 \"/>\n",
       "<path style=\"fill-rule:nonzero;fill:rgb(100%,49.803922%,5.490196%);fill-opacity:1;stroke-width:1;stroke-linecap:butt;stroke-linejoin:miter;stroke:rgb(0%,0%,0%);stroke-opacity:1;stroke-miterlimit:10;\" d=\"M 574.625 252.359375 C 574.625 257.878906 570.148438 262.359375 564.625 262.359375 C 559.101562 262.359375 554.625 257.878906 554.625 252.359375 C 554.625 246.835938 559.101562 242.359375 564.625 242.359375 C 570.148438 242.359375 574.625 246.835938 574.625 252.359375 \"/>\n",
       "<path style=\"fill-rule:nonzero;fill:rgb(100%,49.803922%,5.490196%);fill-opacity:1;stroke-width:1;stroke-linecap:butt;stroke-linejoin:miter;stroke:rgb(0%,0%,0%);stroke-opacity:1;stroke-miterlimit:10;\" d=\"M 499.667969 249.472656 C 499.667969 254.992188 495.191406 259.472656 489.667969 259.472656 C 484.144531 259.472656 479.667969 254.992188 479.667969 249.472656 C 479.667969 243.949219 484.144531 239.472656 489.667969 239.472656 C 495.191406 239.472656 499.667969 243.949219 499.667969 249.472656 \"/>\n",
       "<path style=\"fill-rule:nonzero;fill:rgb(49.803922%,49.803922%,49.803922%);fill-opacity:1;stroke-width:1;stroke-linecap:butt;stroke-linejoin:miter;stroke:rgb(0%,0%,0%);stroke-opacity:1;stroke-miterlimit:10;\" d=\"M 188.78125 330.542969 C 188.78125 336.066406 184.304688 340.542969 178.78125 340.542969 C 173.261719 340.542969 168.78125 336.066406 168.78125 330.542969 C 168.78125 325.023438 173.261719 320.542969 178.78125 320.542969 C 184.304688 320.542969 188.78125 325.023438 188.78125 330.542969 \"/>\n",
       "<path style=\"fill-rule:nonzero;fill:rgb(49.803922%,49.803922%,49.803922%);fill-opacity:1;stroke-width:1;stroke-linecap:butt;stroke-linejoin:miter;stroke:rgb(0%,0%,0%);stroke-opacity:1;stroke-miterlimit:10;\" d=\"M 137.398438 318.183594 C 137.398438 323.707031 132.921875 328.183594 127.398438 328.183594 C 121.875 328.183594 117.398438 323.707031 117.398438 318.183594 C 117.398438 312.660156 121.875 308.183594 127.398438 308.183594 C 132.921875 308.183594 137.398438 312.660156 137.398438 318.183594 \"/>\n",
       "<path style=\"fill-rule:nonzero;fill:rgb(49.803922%,49.803922%,49.803922%);fill-opacity:1;stroke-width:1;stroke-linecap:butt;stroke-linejoin:miter;stroke:rgb(0%,0%,0%);stroke-opacity:1;stroke-miterlimit:10;\" d=\"M 148.691406 353.8125 C 148.691406 359.335938 144.214844 363.8125 138.691406 363.8125 C 133.167969 363.8125 128.691406 359.335938 128.691406 353.8125 C 128.691406 348.289062 133.167969 343.8125 138.691406 343.8125 C 144.214844 343.8125 148.691406 348.289062 148.691406 353.8125 \"/>\n",
       "<path style=\"fill-rule:nonzero;fill:rgb(49.803922%,49.803922%,49.803922%);fill-opacity:1;stroke-width:1;stroke-linecap:butt;stroke-linejoin:miter;stroke:rgb(0%,0%,0%);stroke-opacity:1;stroke-miterlimit:10;\" d=\"M 243.253906 320.230469 C 243.253906 325.753906 238.777344 330.230469 233.253906 330.230469 C 227.734375 330.230469 223.253906 325.753906 223.253906 320.230469 C 223.253906 314.707031 227.734375 310.230469 233.253906 310.230469 C 238.777344 310.230469 243.253906 314.707031 243.253906 320.230469 \"/>\n",
       "<path style=\"fill-rule:nonzero;fill:rgb(83.921569%,15.294118%,15.686275%);fill-opacity:1;stroke-width:1;stroke-linecap:butt;stroke-linejoin:miter;stroke:rgb(0%,0%,0%);stroke-opacity:1;stroke-miterlimit:10;\" d=\"M 229.035156 444.847656 C 229.035156 450.371094 224.558594 454.847656 219.035156 454.847656 C 213.511719 454.847656 209.035156 450.371094 209.035156 444.847656 C 209.035156 439.324219 213.511719 434.847656 219.035156 434.847656 C 224.558594 434.847656 229.035156 439.324219 229.035156 444.847656 \"/>\n",
       "<path style=\"fill-rule:nonzero;fill:rgb(83.921569%,15.294118%,15.686275%);fill-opacity:1;stroke-width:1;stroke-linecap:butt;stroke-linejoin:miter;stroke:rgb(0%,0%,0%);stroke-opacity:1;stroke-miterlimit:10;\" d=\"M 191.429688 477.875 C 191.429688 483.394531 186.953125 487.875 181.429688 487.875 C 175.90625 487.875 171.429688 483.394531 171.429688 477.875 C 171.429688 472.351562 175.90625 467.875 181.429688 467.875 C 186.953125 467.875 191.429688 472.351562 191.429688 477.875 \"/>\n",
       "<path style=\"fill-rule:nonzero;fill:rgb(49.803922%,49.803922%,49.803922%);fill-opacity:1;stroke-width:1;stroke-linecap:butt;stroke-linejoin:miter;stroke:rgb(0%,0%,0%);stroke-opacity:1;stroke-miterlimit:10;\" d=\"M 285.191406 20 C 285.191406 25.523438 280.714844 30 275.191406 30 C 269.667969 30 265.191406 25.523438 265.191406 20 C 265.191406 14.476562 269.667969 10 275.191406 10 C 280.714844 10 285.191406 14.476562 285.191406 20 \"/>\n",
       "<path style=\"fill-rule:nonzero;fill:rgb(49.803922%,49.803922%,49.803922%);fill-opacity:1;stroke-width:1;stroke-linecap:butt;stroke-linejoin:miter;stroke:rgb(0%,0%,0%);stroke-opacity:1;stroke-miterlimit:10;\" d=\"M 257.269531 47.570312 C 257.269531 53.09375 252.792969 57.570312 247.269531 57.570312 C 241.746094 57.570312 237.269531 53.09375 237.269531 47.570312 C 237.269531 42.046875 241.746094 37.570312 247.269531 37.570312 C 252.792969 37.570312 257.269531 42.046875 257.269531 47.570312 \"/>\n",
       "<path style=\"fill-rule:nonzero;fill:rgb(58.039216%,40.392157%,74.117647%);fill-opacity:1;stroke-width:1;stroke-linecap:butt;stroke-linejoin:miter;stroke:rgb(0%,0%,0%);stroke-opacity:1;stroke-miterlimit:10;\" d=\"M 537.089844 467.921875 C 537.089844 473.445312 532.613281 477.921875 527.089844 477.921875 C 521.566406 477.921875 517.089844 473.445312 517.089844 467.921875 C 517.089844 462.398438 521.566406 457.921875 527.089844 457.921875 C 532.613281 457.921875 537.089844 462.398438 537.089844 467.921875 \"/>\n",
       "<path style=\"fill-rule:nonzero;fill:rgb(58.039216%,40.392157%,74.117647%);fill-opacity:1;stroke-width:1;stroke-linecap:butt;stroke-linejoin:miter;stroke:rgb(0%,0%,0%);stroke-opacity:1;stroke-miterlimit:10;\" d=\"M 488.492188 488.820312 C 488.492188 494.34375 484.015625 498.820312 478.492188 498.820312 C 472.96875 498.820312 468.492188 494.34375 468.492188 488.820312 C 468.492188 483.296875 472.96875 478.820312 478.492188 478.820312 C 484.015625 478.820312 488.492188 483.296875 488.492188 488.820312 \"/>\n",
       "<path style=\"fill-rule:nonzero;fill:rgb(12.156863%,46.666667%,70.588235%);fill-opacity:1;stroke-width:1;stroke-linecap:butt;stroke-linejoin:miter;stroke:rgb(0%,0%,0%);stroke-opacity:1;stroke-miterlimit:10;\" d=\"M 531.699219 322.546875 C 531.699219 328.070312 527.222656 332.546875 521.699219 332.546875 C 516.179688 332.546875 511.699219 328.070312 511.699219 322.546875 C 511.699219 317.023438 516.179688 312.546875 521.699219 312.546875 C 527.222656 312.546875 531.699219 317.023438 531.699219 322.546875 \"/>\n",
       "<path style=\"fill-rule:nonzero;fill:rgb(100%,49.803922%,5.490196%);fill-opacity:1;stroke-width:1;stroke-linecap:butt;stroke-linejoin:miter;stroke:rgb(0%,0%,0%);stroke-opacity:1;stroke-miterlimit:10;\" d=\"M 566.511719 371.605469 C 566.511719 377.128906 562.035156 381.605469 556.511719 381.605469 C 550.988281 381.605469 546.511719 377.128906 546.511719 371.605469 C 546.511719 366.082031 550.988281 361.605469 556.511719 361.605469 C 562.035156 361.605469 566.511719 366.082031 566.511719 371.605469 \"/>\n",
       "<path style=\"fill-rule:nonzero;fill:rgb(49.803922%,49.803922%,49.803922%);fill-opacity:1;stroke-width:1;stroke-linecap:butt;stroke-linejoin:miter;stroke:rgb(0%,0%,0%);stroke-opacity:1;stroke-miterlimit:10;\" d=\"M 250.222656 173.285156 C 250.222656 178.808594 245.746094 183.285156 240.222656 183.285156 C 234.699219 183.285156 230.222656 178.808594 230.222656 173.285156 C 230.222656 167.765625 234.699219 163.285156 240.222656 163.285156 C 245.746094 163.285156 250.222656 167.765625 250.222656 173.285156 \"/>\n",
       "<path style=\"fill-rule:nonzero;fill:rgb(49.803922%,49.803922%,49.803922%);fill-opacity:1;stroke-width:1;stroke-linecap:butt;stroke-linejoin:miter;stroke:rgb(0%,0%,0%);stroke-opacity:1;stroke-miterlimit:10;\" d=\"M 251.523438 143.945312 C 251.523438 149.46875 247.046875 153.945312 241.523438 153.945312 C 236 153.945312 231.523438 149.46875 231.523438 143.945312 C 231.523438 138.421875 236 133.945312 241.523438 133.945312 C 247.046875 133.945312 251.523438 138.421875 251.523438 143.945312 \"/>\n",
       "<path style=\"fill-rule:nonzero;fill:rgb(58.039216%,40.392157%,74.117647%);fill-opacity:1;stroke-width:1;stroke-linecap:butt;stroke-linejoin:miter;stroke:rgb(0%,0%,0%);stroke-opacity:1;stroke-miterlimit:10;\" d=\"M 316.667969 444.355469 C 316.667969 449.878906 312.191406 454.355469 306.667969 454.355469 C 301.144531 454.355469 296.667969 449.878906 296.667969 444.355469 C 296.667969 438.832031 301.144531 434.355469 306.667969 434.355469 C 312.191406 434.355469 316.667969 438.832031 316.667969 444.355469 \"/>\n",
       "<path style=\"fill-rule:nonzero;fill:rgb(54.901961%,33.72549%,29.411765%);fill-opacity:1;stroke-width:1;stroke-linecap:butt;stroke-linejoin:miter;stroke:rgb(0%,0%,0%);stroke-opacity:1;stroke-miterlimit:10;\" d=\"M 151.132812 222.253906 C 151.132812 227.777344 146.65625 232.253906 141.132812 232.253906 C 135.609375 232.253906 131.132812 227.777344 131.132812 222.253906 C 131.132812 216.730469 135.609375 212.253906 141.132812 212.253906 C 146.65625 212.253906 151.132812 216.730469 151.132812 222.253906 \"/>\n",
       "<path style=\"fill-rule:nonzero;fill:rgb(100%,49.803922%,5.490196%);fill-opacity:1;stroke-width:1;stroke-linecap:butt;stroke-linejoin:miter;stroke:rgb(0%,0%,0%);stroke-opacity:1;stroke-miterlimit:10;\" d=\"M 465.925781 104.761719 C 465.925781 110.285156 461.449219 114.761719 455.925781 114.761719 C 450.402344 114.761719 445.925781 110.285156 445.925781 104.761719 C 445.925781 99.242188 450.402344 94.761719 455.925781 94.761719 C 461.449219 94.761719 465.925781 99.242188 465.925781 104.761719 \"/>\n",
       "<path style=\"fill-rule:nonzero;fill:rgb(100%,49.803922%,5.490196%);fill-opacity:1;stroke-width:1;stroke-linecap:butt;stroke-linejoin:miter;stroke:rgb(0%,0%,0%);stroke-opacity:1;stroke-miterlimit:10;\" d=\"M 434.453125 107.910156 C 434.453125 113.433594 429.976562 117.910156 424.453125 117.910156 C 418.929688 117.910156 414.453125 113.433594 414.453125 107.910156 C 414.453125 102.386719 418.929688 97.910156 424.453125 97.910156 C 429.976562 97.910156 434.453125 102.386719 434.453125 107.910156 \"/>\n",
       "<path style=\"fill-rule:nonzero;fill:rgb(100%,49.803922%,5.490196%);fill-opacity:1;stroke-width:1;stroke-linecap:butt;stroke-linejoin:miter;stroke:rgb(0%,0%,0%);stroke-opacity:1;stroke-miterlimit:10;\" d=\"M 390.789062 111.238281 C 390.789062 116.761719 386.3125 121.238281 380.789062 121.238281 C 375.265625 121.238281 370.789062 116.761719 370.789062 111.238281 C 370.789062 105.714844 375.265625 101.238281 380.789062 101.238281 C 386.3125 101.238281 390.789062 105.714844 390.789062 111.238281 \"/>\n",
       "<path style=\"fill-rule:nonzero;fill:rgb(49.803922%,49.803922%,49.803922%);fill-opacity:1;stroke-width:1;stroke-linecap:butt;stroke-linejoin:miter;stroke:rgb(0%,0%,0%);stroke-opacity:1;stroke-miterlimit:10;\" d=\"M 112.316406 501.894531 C 112.316406 507.417969 107.839844 511.894531 102.316406 511.894531 C 96.792969 511.894531 92.316406 507.417969 92.316406 501.894531 C 92.316406 496.371094 96.792969 491.894531 102.316406 491.894531 C 107.839844 491.894531 112.316406 496.371094 112.316406 501.894531 \"/>\n",
       "<path style=\"fill-rule:nonzero;fill:rgb(12.156863%,46.666667%,70.588235%);fill-opacity:1;stroke-width:1;stroke-linecap:butt;stroke-linejoin:miter;stroke:rgb(0%,0%,0%);stroke-opacity:1;stroke-miterlimit:10;\" d=\"M 590 341.570312 C 590 347.09375 585.523438 351.570312 580 351.570312 C 574.476562 351.570312 570 347.09375 570 341.570312 C 570 336.046875 574.476562 331.570312 580 331.570312 C 585.523438 331.570312 590 336.046875 590 341.570312 \"/>\n",
       "<path style=\"fill-rule:nonzero;fill:rgb(58.039216%,40.392157%,74.117647%);fill-opacity:1;stroke-width:1;stroke-linecap:butt;stroke-linejoin:miter;stroke:rgb(0%,0%,0%);stroke-opacity:1;stroke-miterlimit:10;\" d=\"M 410.472656 526.105469 C 410.472656 531.628906 405.996094 536.105469 400.472656 536.105469 C 394.949219 536.105469 390.472656 531.628906 390.472656 526.105469 C 390.472656 520.582031 394.949219 516.105469 400.472656 516.105469 C 405.996094 516.105469 410.472656 520.582031 410.472656 526.105469 \"/>\n",
       "<path style=\"fill-rule:nonzero;fill:rgb(58.039216%,40.392157%,74.117647%);fill-opacity:1;stroke-width:1;stroke-linecap:butt;stroke-linejoin:miter;stroke:rgb(0%,0%,0%);stroke-opacity:1;stroke-miterlimit:10;\" d=\"M 476.472656 525.746094 C 476.472656 531.269531 471.996094 535.746094 466.472656 535.746094 C 460.949219 535.746094 456.472656 531.269531 456.472656 525.746094 C 456.472656 520.222656 460.949219 515.746094 466.472656 515.746094 C 471.996094 515.746094 476.472656 520.222656 476.472656 525.746094 \"/>\n",
       "<path style=\"fill-rule:nonzero;fill:rgb(58.039216%,40.392157%,74.117647%);fill-opacity:1;stroke-width:1;stroke-linecap:butt;stroke-linejoin:miter;stroke:rgb(0%,0%,0%);stroke-opacity:1;stroke-miterlimit:10;\" d=\"M 435.0625 569.628906 C 435.0625 575.152344 430.582031 579.628906 425.0625 579.628906 C 419.539062 579.628906 415.0625 575.152344 415.0625 569.628906 C 415.0625 564.105469 419.539062 559.628906 425.0625 559.628906 C 430.582031 559.628906 435.0625 564.105469 435.0625 569.628906 \"/>\n",
       "<path style=\"fill-rule:nonzero;fill:rgb(58.039216%,40.392157%,74.117647%);fill-opacity:1;stroke-width:1;stroke-linecap:butt;stroke-linejoin:miter;stroke:rgb(0%,0%,0%);stroke-opacity:1;stroke-miterlimit:10;\" d=\"M 370.640625 579.691406 C 370.640625 585.214844 366.164062 589.691406 360.640625 589.691406 C 355.121094 589.691406 350.640625 585.214844 350.640625 579.691406 C 350.640625 574.167969 355.121094 569.691406 360.640625 569.691406 C 366.164062 569.691406 370.640625 574.167969 370.640625 579.691406 \"/>\n",
       "<path style=\"fill-rule:nonzero;fill:rgb(58.039216%,40.392157%,74.117647%);fill-opacity:1;stroke-width:1;stroke-linecap:butt;stroke-linejoin:miter;stroke:rgb(0%,0%,0%);stroke-opacity:1;stroke-miterlimit:10;\" d=\"M 460.066406 549.273438 C 460.066406 554.792969 455.589844 559.273438 450.066406 559.273438 C 444.542969 559.273438 440.066406 554.792969 440.066406 549.273438 C 440.066406 543.75 444.542969 539.273438 450.066406 539.273438 C 455.589844 539.273438 460.066406 543.75 460.066406 549.273438 \"/>\n",
       "<path style=\"fill-rule:nonzero;fill:rgb(58.039216%,40.392157%,74.117647%);fill-opacity:1;stroke-width:1;stroke-linecap:butt;stroke-linejoin:miter;stroke:rgb(0%,0%,0%);stroke-opacity:1;stroke-miterlimit:10;\" d=\"M 404.160156 580 C 404.160156 585.523438 399.683594 590 394.160156 590 C 388.636719 590 384.160156 585.523438 384.160156 580 C 384.160156 574.476562 388.636719 570 394.160156 570 C 399.683594 570 404.160156 574.476562 404.160156 580 \"/>\n",
       "<path style=\"fill-rule:nonzero;fill:rgb(58.039216%,40.392157%,74.117647%);fill-opacity:1;stroke-width:1;stroke-linecap:butt;stroke-linejoin:miter;stroke:rgb(0%,0%,0%);stroke-opacity:1;stroke-miterlimit:10;\" d=\"M 455.179688 497.242188 C 455.179688 502.765625 450.703125 507.242188 445.179688 507.242188 C 439.65625 507.242188 435.179688 502.765625 435.179688 497.242188 C 435.179688 491.71875 439.65625 487.242188 445.179688 487.242188 C 450.703125 487.242188 455.179688 491.71875 455.179688 497.242188 \"/>\n",
       "<path style=\"fill-rule:nonzero;fill:rgb(49.803922%,49.803922%,49.803922%);fill-opacity:1;stroke-width:1;stroke-linecap:butt;stroke-linejoin:miter;stroke:rgb(0%,0%,0%);stroke-opacity:1;stroke-miterlimit:10;\" d=\"M 205.082031 53.5 C 205.082031 59.023438 200.605469 63.5 195.082031 63.5 C 189.558594 63.5 185.082031 59.023438 185.082031 53.5 C 185.082031 47.976562 189.558594 43.5 195.082031 43.5 C 200.605469 43.5 205.082031 47.976562 205.082031 53.5 \"/>\n",
       "<g style=\"fill:rgb(0%,0%,0%);fill-opacity:1;\">\n",
       "  <use xlink:href=\"#glyph0-1\" x=\"448.460938\" y=\"273.21875\"/>\n",
       "  <use xlink:href=\"#glyph0-2\" x=\"457.798828\" y=\"273.21875\"/>\n",
       "  <use xlink:href=\"#glyph0-3\" x=\"466.350586\" y=\"273.21875\"/>\n",
       "</g>\n",
       "<g style=\"fill:rgb(0%,0%,0%);fill-opacity:1;\">\n",
       "  <use xlink:href=\"#glyph0-1\" x=\"463.476562\" y=\"200.800781\"/>\n",
       "  <use xlink:href=\"#glyph0-4\" x=\"472.814453\" y=\"200.800781\"/>\n",
       "  <use xlink:href=\"#glyph0-5\" x=\"482.924805\" y=\"200.800781\"/>\n",
       "</g>\n",
       "<g style=\"fill:rgb(0%,0%,0%);fill-opacity:1;\">\n",
       "  <use xlink:href=\"#glyph0-6\" x=\"416.269531\" y=\"259.945312\"/>\n",
       "  <use xlink:href=\"#glyph0-7\" x=\"426.379883\" y=\"259.945312\"/>\n",
       "  <use xlink:href=\"#glyph0-4\" x=\"435.717773\" y=\"259.945312\"/>\n",
       "</g>\n",
       "<g style=\"fill:rgb(0%,0%,0%);fill-opacity:1;\">\n",
       "  <use xlink:href=\"#glyph0-2\" x=\"512.980469\" y=\"296.347656\"/>\n",
       "  <use xlink:href=\"#glyph0-8\" x=\"521.532227\" y=\"296.347656\"/>\n",
       "  <use xlink:href=\"#glyph0-1\" x=\"531.642578\" y=\"296.347656\"/>\n",
       "</g>\n",
       "<g style=\"fill:rgb(0%,0%,0%);fill-opacity:1;\">\n",
       "  <use xlink:href=\"#glyph0-3\" x=\"429.746094\" y=\"208.605469\"/>\n",
       "  <use xlink:href=\"#glyph0-8\" x=\"440.635742\" y=\"208.605469\"/>\n",
       "  <use xlink:href=\"#glyph0-9\" x=\"450.746094\" y=\"208.605469\"/>\n",
       "</g>\n",
       "<g style=\"fill:rgb(0%,0%,0%);fill-opacity:1;\">\n",
       "  <use xlink:href=\"#glyph0-10\" x=\"425.601562\" y=\"247.003906\"/>\n",
       "  <use xlink:href=\"#glyph0-4\" x=\"435.711914\" y=\"247.003906\"/>\n",
       "  <use xlink:href=\"#glyph0-11\" x=\"445.822266\" y=\"247.003906\"/>\n",
       "</g>\n",
       "<g style=\"fill:rgb(0%,0%,0%);fill-opacity:1;\">\n",
       "  <use xlink:href=\"#glyph0-12\" x=\"489.5\" y=\"236.753906\"/>\n",
       "  <use xlink:href=\"#glyph0-8\" x=\"493.389648\" y=\"236.753906\"/>\n",
       "  <use xlink:href=\"#glyph0-11\" x=\"503.5\" y=\"236.753906\"/>\n",
       "</g>\n",
       "<g style=\"fill:rgb(0%,0%,0%);fill-opacity:1;\">\n",
       "  <use xlink:href=\"#glyph0-13\" x=\"397.917969\" y=\"300.640625\"/>\n",
       "  <use xlink:href=\"#glyph0-1\" x=\"407.255859\" y=\"300.640625\"/>\n",
       "  <use xlink:href=\"#glyph0-14\" x=\"416.59375\" y=\"300.640625\"/>\n",
       "</g>\n",
       "<g style=\"fill:rgb(0%,0%,0%);fill-opacity:1;\">\n",
       "  <use xlink:href=\"#glyph0-15\" x=\"405.359375\" y=\"223.953125\"/>\n",
       "  <use xlink:href=\"#glyph0-16\" x=\"414.697266\" y=\"223.953125\"/>\n",
       "  <use xlink:href=\"#glyph0-7\" x=\"427.911133\" y=\"223.953125\"/>\n",
       "</g>\n",
       "<g style=\"fill:rgb(0%,0%,0%);fill-opacity:1;\">\n",
       "  <use xlink:href=\"#glyph0-5\" x=\"477.671875\" y=\"341.320312\"/>\n",
       "  <use xlink:href=\"#glyph0-17\" x=\"486.223633\" y=\"341.320312\"/>\n",
       "  <use xlink:href=\"#glyph0-14\" x=\"493.223633\" y=\"341.320312\"/>\n",
       "</g>\n",
       "<g style=\"fill:rgb(0%,0%,0%);fill-opacity:1;\">\n",
       "  <use xlink:href=\"#glyph0-5\" x=\"448.949219\" y=\"223.636719\"/>\n",
       "  <use xlink:href=\"#glyph0-4\" x=\"457.500977\" y=\"223.636719\"/>\n",
       "  <use xlink:href=\"#glyph0-8\" x=\"467.611328\" y=\"223.636719\"/>\n",
       "</g>\n",
       "<g style=\"fill:rgb(0%,0%,0%);fill-opacity:1;\">\n",
       "  <use xlink:href=\"#glyph0-4\" x=\"441.734375\" y=\"340.746094\"/>\n",
       "  <use xlink:href=\"#glyph0-18\" x=\"451.844727\" y=\"340.746094\"/>\n",
       "  <use xlink:href=\"#glyph0-19\" x=\"460.396484\" y=\"340.746094\"/>\n",
       "</g>\n",
       "<g style=\"fill:rgb(0%,0%,0%);fill-opacity:1;\">\n",
       "  <use xlink:href=\"#glyph0-1\" x=\"117.738281\" y=\"176.75\"/>\n",
       "  <use xlink:href=\"#glyph0-3\" x=\"127.076172\" y=\"176.75\"/>\n",
       "  <use xlink:href=\"#glyph0-20\" x=\"137.96582\" y=\"176.75\"/>\n",
       "</g>\n",
       "<g style=\"fill:rgb(0%,0%,0%);fill-opacity:1;\">\n",
       "  <use xlink:href=\"#glyph0-9\" x=\"167.074219\" y=\"164.574219\"/>\n",
       "  <use xlink:href=\"#glyph0-20\" x=\"177.18457\" y=\"164.574219\"/>\n",
       "  <use xlink:href=\"#glyph0-6\" x=\"188.074219\" y=\"164.574219\"/>\n",
       "</g>\n",
       "<g style=\"fill:rgb(0%,0%,0%);fill-opacity:1;\">\n",
       "  <use xlink:href=\"#glyph0-18\" x=\"91.644531\" y=\"177.433594\"/>\n",
       "  <use xlink:href=\"#glyph0-21\" x=\"100.196289\" y=\"177.433594\"/>\n",
       "  <use xlink:href=\"#glyph0-19\" x=\"111.858398\" y=\"177.433594\"/>\n",
       "</g>\n",
       "<g style=\"fill:rgb(0%,0%,0%);fill-opacity:1;\">\n",
       "  <use xlink:href=\"#glyph0-1\" x=\"475.503906\" y=\"302.535156\"/>\n",
       "  <use xlink:href=\"#glyph0-22\" x=\"484.841797\" y=\"302.535156\"/>\n",
       "  <use xlink:href=\"#glyph0-19\" x=\"492.62793\" y=\"302.535156\"/>\n",
       "</g>\n",
       "<g style=\"fill:rgb(0%,0%,0%);fill-opacity:1;\">\n",
       "  <use xlink:href=\"#glyph0-1\" x=\"12.109375\" y=\"251.601562\"/>\n",
       "  <use xlink:href=\"#glyph0-18\" x=\"21.447266\" y=\"251.601562\"/>\n",
       "  <use xlink:href=\"#glyph0-7\" x=\"29.999023\" y=\"251.601562\"/>\n",
       "</g>\n",
       "<g style=\"fill:rgb(0%,0%,0%);fill-opacity:1;\">\n",
       "  <use xlink:href=\"#glyph0-1\" x=\"9.71875\" y=\"281.585938\"/>\n",
       "  <use xlink:href=\"#glyph0-8\" x=\"19.056641\" y=\"281.585938\"/>\n",
       "  <use xlink:href=\"#glyph0-21\" x=\"29.166992\" y=\"281.585938\"/>\n",
       "</g>\n",
       "<g style=\"fill:rgb(0%,0%,0%);fill-opacity:1;\">\n",
       "  <use xlink:href=\"#glyph0-19\" x=\"144.511719\" y=\"140.386719\"/>\n",
       "  <use xlink:href=\"#glyph0-6\" x=\"153.849609\" y=\"140.386719\"/>\n",
       "  <use xlink:href=\"#glyph0-12\" x=\"163.959961\" y=\"140.386719\"/>\n",
       "</g>\n",
       "<g style=\"fill:rgb(0%,0%,0%);fill-opacity:1;\">\n",
       "  <use xlink:href=\"#glyph0-8\" x=\"142.214844\" y=\"119.652344\"/>\n",
       "  <use xlink:href=\"#glyph0-16\" x=\"152.325195\" y=\"119.652344\"/>\n",
       "  <use xlink:href=\"#glyph0-1\" x=\"165.539062\" y=\"119.652344\"/>\n",
       "</g>\n",
       "<g style=\"fill:rgb(0%,0%,0%);fill-opacity:1;\">\n",
       "  <use xlink:href=\"#glyph0-5\" x=\"112.488281\" y=\"130.972656\"/>\n",
       "  <use xlink:href=\"#glyph0-18\" x=\"121.040039\" y=\"130.972656\"/>\n",
       "  <use xlink:href=\"#glyph0-1\" x=\"129.591797\" y=\"130.972656\"/>\n",
       "</g>\n",
       "<g style=\"fill:rgb(0%,0%,0%);fill-opacity:1;\">\n",
       "  <use xlink:href=\"#glyph0-4\" x=\"191.355469\" y=\"145.59375\"/>\n",
       "  <use xlink:href=\"#glyph0-3\" x=\"201.46582\" y=\"145.59375\"/>\n",
       "  <use xlink:href=\"#glyph0-1\" x=\"212.355469\" y=\"145.59375\"/>\n",
       "</g>\n",
       "<g style=\"fill:rgb(0%,0%,0%);fill-opacity:1;\">\n",
       "  <use xlink:href=\"#glyph0-19\" x=\"256.648438\" y=\"396.53125\"/>\n",
       "  <use xlink:href=\"#glyph0-3\" x=\"265.986328\" y=\"396.53125\"/>\n",
       "  <use xlink:href=\"#glyph0-6\" x=\"276.875977\" y=\"396.53125\"/>\n",
       "</g>\n",
       "<g style=\"fill:rgb(0%,0%,0%);fill-opacity:1;\">\n",
       "  <use xlink:href=\"#glyph0-12\" x=\"325.160156\" y=\"345.46875\"/>\n",
       "  <use xlink:href=\"#glyph0-5\" x=\"329.049805\" y=\"345.46875\"/>\n",
       "  <use xlink:href=\"#glyph0-1\" x=\"337.601562\" y=\"345.46875\"/>\n",
       "</g>\n",
       "<g style=\"fill:rgb(0%,0%,0%);fill-opacity:1;\">\n",
       "  <use xlink:href=\"#glyph0-9\" x=\"207.207031\" y=\"212.390625\"/>\n",
       "  <use xlink:href=\"#glyph0-1\" x=\"217.317383\" y=\"212.390625\"/>\n",
       "  <use xlink:href=\"#glyph0-2\" x=\"226.655273\" y=\"212.390625\"/>\n",
       "</g>\n",
       "<g style=\"fill:rgb(0%,0%,0%);fill-opacity:1;\">\n",
       "  <use xlink:href=\"#glyph0-9\" x=\"253.128906\" y=\"264.324219\"/>\n",
       "  <use xlink:href=\"#glyph0-21\" x=\"263.239258\" y=\"264.324219\"/>\n",
       "  <use xlink:href=\"#glyph0-8\" x=\"274.901367\" y=\"264.324219\"/>\n",
       "</g>\n",
       "<g style=\"fill:rgb(0%,0%,0%);fill-opacity:1;\">\n",
       "  <use xlink:href=\"#glyph0-9\" x=\"153.894531\" y=\"216.136719\"/>\n",
       "  <use xlink:href=\"#glyph0-20\" x=\"164.004883\" y=\"216.136719\"/>\n",
       "  <use xlink:href=\"#glyph0-3\" x=\"174.894531\" y=\"216.136719\"/>\n",
       "</g>\n",
       "<g style=\"fill:rgb(0%,0%,0%);fill-opacity:1;\">\n",
       "  <use xlink:href=\"#glyph0-15\" x=\"269.332031\" y=\"177.488281\"/>\n",
       "  <use xlink:href=\"#glyph0-6\" x=\"278.669922\" y=\"177.488281\"/>\n",
       "  <use xlink:href=\"#glyph0-11\" x=\"288.780273\" y=\"177.488281\"/>\n",
       "</g>\n",
       "<g style=\"fill:rgb(0%,0%,0%);fill-opacity:1;\">\n",
       "  <use xlink:href=\"#glyph0-5\" x=\"249.621094\" y=\"224.992188\"/>\n",
       "  <use xlink:href=\"#glyph0-9\" x=\"258.172852\" y=\"224.992188\"/>\n",
       "  <use xlink:href=\"#glyph0-6\" x=\"268.283203\" y=\"224.992188\"/>\n",
       "</g>\n",
       "<g style=\"fill:rgb(0%,0%,0%);fill-opacity:1;\">\n",
       "  <use xlink:href=\"#glyph0-9\" x=\"253.449219\" y=\"533.0625\"/>\n",
       "  <use xlink:href=\"#glyph0-10\" x=\"263.55957\" y=\"533.0625\"/>\n",
       "  <use xlink:href=\"#glyph0-11\" x=\"273.669922\" y=\"533.0625\"/>\n",
       "</g>\n",
       "<g style=\"fill:rgb(0%,0%,0%);fill-opacity:1;\">\n",
       "  <use xlink:href=\"#glyph0-12\" x=\"230.835938\" y=\"507.203125\"/>\n",
       "  <use xlink:href=\"#glyph0-11\" x=\"234.725586\" y=\"507.203125\"/>\n",
       "  <use xlink:href=\"#glyph0-6\" x=\"244.835938\" y=\"507.203125\"/>\n",
       "</g>\n",
       "<g style=\"fill:rgb(0%,0%,0%);fill-opacity:1;\">\n",
       "  <use xlink:href=\"#glyph0-4\" x=\"305.125\" y=\"501.046875\"/>\n",
       "  <use xlink:href=\"#glyph0-15\" x=\"315.235352\" y=\"501.046875\"/>\n",
       "  <use xlink:href=\"#glyph0-1\" x=\"324.573242\" y=\"501.046875\"/>\n",
       "</g>\n",
       "<g style=\"fill:rgb(0%,0%,0%);fill-opacity:1;\">\n",
       "  <use xlink:href=\"#glyph0-9\" x=\"46.9375\" y=\"429.894531\"/>\n",
       "  <use xlink:href=\"#glyph0-12\" x=\"57.047852\" y=\"429.894531\"/>\n",
       "  <use xlink:href=\"#glyph0-23\" x=\"60.9375\" y=\"429.894531\"/>\n",
       "</g>\n",
       "<g style=\"fill:rgb(0%,0%,0%);fill-opacity:1;\">\n",
       "  <use xlink:href=\"#glyph0-3\" x=\"38.851562\" y=\"463.214844\"/>\n",
       "  <use xlink:href=\"#glyph0-10\" x=\"49.741211\" y=\"463.214844\"/>\n",
       "  <use xlink:href=\"#glyph0-1\" x=\"59.851562\" y=\"463.214844\"/>\n",
       "</g>\n",
       "<g style=\"fill:rgb(0%,0%,0%);fill-opacity:1;\">\n",
       "  <use xlink:href=\"#glyph0-22\" x=\"32.445312\" y=\"394.832031\"/>\n",
       "  <use xlink:href=\"#glyph0-19\" x=\"40.231445\" y=\"394.832031\"/>\n",
       "  <use xlink:href=\"#glyph0-8\" x=\"49.569336\" y=\"394.832031\"/>\n",
       "</g>\n",
       "<g style=\"fill:rgb(0%,0%,0%);fill-opacity:1;\">\n",
       "  <use xlink:href=\"#glyph0-5\" x=\"66.675781\" y=\"472.828125\"/>\n",
       "  <use xlink:href=\"#glyph0-3\" x=\"75.227539\" y=\"472.828125\"/>\n",
       "  <use xlink:href=\"#glyph0-20\" x=\"86.117188\" y=\"472.828125\"/>\n",
       "</g>\n",
       "<g style=\"fill:rgb(0%,0%,0%);fill-opacity:1;\">\n",
       "  <use xlink:href=\"#glyph0-11\" x=\"302.238281\" y=\"296.421875\"/>\n",
       "  <use xlink:href=\"#glyph0-3\" x=\"312.348633\" y=\"296.421875\"/>\n",
       "  <use xlink:href=\"#glyph0-1\" x=\"323.238281\" y=\"296.421875\"/>\n",
       "</g>\n",
       "<g style=\"fill:rgb(0%,0%,0%);fill-opacity:1;\">\n",
       "  <use xlink:href=\"#glyph0-18\" x=\"209.136719\" y=\"103.605469\"/>\n",
       "  <use xlink:href=\"#glyph0-1\" x=\"217.688477\" y=\"103.605469\"/>\n",
       "  <use xlink:href=\"#glyph0-2\" x=\"227.026367\" y=\"103.605469\"/>\n",
       "</g>\n",
       "<g style=\"fill:rgb(0%,0%,0%);fill-opacity:1;\">\n",
       "  <use xlink:href=\"#glyph0-9\" x=\"331.085938\" y=\"535.222656\"/>\n",
       "  <use xlink:href=\"#glyph0-20\" x=\"341.196289\" y=\"535.222656\"/>\n",
       "  <use xlink:href=\"#glyph0-22\" x=\"352.085938\" y=\"535.222656\"/>\n",
       "</g>\n",
       "<g style=\"fill:rgb(0%,0%,0%);fill-opacity:1;\">\n",
       "  <use xlink:href=\"#glyph0-7\" x=\"358.632812\" y=\"551.683594\"/>\n",
       "  <use xlink:href=\"#glyph0-9\" x=\"367.970703\" y=\"551.683594\"/>\n",
       "  <use xlink:href=\"#glyph0-4\" x=\"378.081055\" y=\"551.683594\"/>\n",
       "</g>\n",
       "<g style=\"fill:rgb(0%,0%,0%);fill-opacity:1;\">\n",
       "  <use xlink:href=\"#glyph0-7\" x=\"324.578125\" y=\"562.648438\"/>\n",
       "  <use xlink:href=\"#glyph0-15\" x=\"333.916016\" y=\"562.648438\"/>\n",
       "  <use xlink:href=\"#glyph0-13\" x=\"343.253906\" y=\"562.648438\"/>\n",
       "</g>\n",
       "<g style=\"fill:rgb(0%,0%,0%);fill-opacity:1;\">\n",
       "  <use xlink:href=\"#glyph0-7\" x=\"333.441406\" y=\"210.207031\"/>\n",
       "  <use xlink:href=\"#glyph0-8\" x=\"342.779297\" y=\"210.207031\"/>\n",
       "  <use xlink:href=\"#glyph0-12\" x=\"352.889648\" y=\"210.207031\"/>\n",
       "</g>\n",
       "<g style=\"fill:rgb(0%,0%,0%);fill-opacity:1;\">\n",
       "  <use xlink:href=\"#glyph0-7\" x=\"249.140625\" y=\"163.980469\"/>\n",
       "  <use xlink:href=\"#glyph0-5\" x=\"258.478516\" y=\"163.980469\"/>\n",
       "  <use xlink:href=\"#glyph0-10\" x=\"267.030273\" y=\"163.980469\"/>\n",
       "</g>\n",
       "<g style=\"fill:rgb(0%,0%,0%);fill-opacity:1;\">\n",
       "  <use xlink:href=\"#glyph0-12\" x=\"326.949219\" y=\"237.15625\"/>\n",
       "  <use xlink:href=\"#glyph0-15\" x=\"330.838867\" y=\"237.15625\"/>\n",
       "  <use xlink:href=\"#glyph0-8\" x=\"340.176758\" y=\"237.15625\"/>\n",
       "</g>\n",
       "<g style=\"fill:rgb(0%,0%,0%);fill-opacity:1;\">\n",
       "  <use xlink:href=\"#glyph0-15\" x=\"190.285156\" y=\"186.535156\"/>\n",
       "  <use xlink:href=\"#glyph0-20\" x=\"199.623047\" y=\"186.535156\"/>\n",
       "  <use xlink:href=\"#glyph0-21\" x=\"210.512695\" y=\"186.535156\"/>\n",
       "</g>\n",
       "<g style=\"fill:rgb(0%,0%,0%);fill-opacity:1;\">\n",
       "  <use xlink:href=\"#glyph0-3\" x=\"260.949219\" y=\"483.3125\"/>\n",
       "  <use xlink:href=\"#glyph0-5\" x=\"271.838867\" y=\"483.3125\"/>\n",
       "  <use xlink:href=\"#glyph0-21\" x=\"280.390625\" y=\"483.3125\"/>\n",
       "</g>\n",
       "<g style=\"fill:rgb(0%,0%,0%);fill-opacity:1;\">\n",
       "  <use xlink:href=\"#glyph0-10\" x=\"326.230469\" y=\"464.070312\"/>\n",
       "  <use xlink:href=\"#glyph0-11\" x=\"336.34082\" y=\"464.070312\"/>\n",
       "  <use xlink:href=\"#glyph0-6\" x=\"346.451172\" y=\"464.070312\"/>\n",
       "</g>\n",
       "<g style=\"fill:rgb(0%,0%,0%);fill-opacity:1;\">\n",
       "  <use xlink:href=\"#glyph0-21\" x=\"347.261719\" y=\"496.125\"/>\n",
       "  <use xlink:href=\"#glyph0-7\" x=\"358.923828\" y=\"496.125\"/>\n",
       "  <use xlink:href=\"#glyph0-24\" x=\"368.261719\" y=\"496.125\"/>\n",
       "</g>\n",
       "<g style=\"fill:rgb(0%,0%,0%);fill-opacity:1;\">\n",
       "  <use xlink:href=\"#glyph0-10\" x=\"363.496094\" y=\"470.117188\"/>\n",
       "  <use xlink:href=\"#glyph0-5\" x=\"373.606445\" y=\"470.117188\"/>\n",
       "  <use xlink:href=\"#glyph0-12\" x=\"382.158203\" y=\"470.117188\"/>\n",
       "</g>\n",
       "<g style=\"fill:rgb(0%,0%,0%);fill-opacity:1;\">\n",
       "  <use xlink:href=\"#glyph0-19\" x=\"400.5625\" y=\"479.820312\"/>\n",
       "  <use xlink:href=\"#glyph0-8\" x=\"409.900391\" y=\"479.820312\"/>\n",
       "  <use xlink:href=\"#glyph0-1\" x=\"420.010742\" y=\"479.820312\"/>\n",
       "</g>\n",
       "<g style=\"fill:rgb(0%,0%,0%);fill-opacity:1;\">\n",
       "  <use xlink:href=\"#glyph0-12\" x=\"119.972656\" y=\"437.21875\"/>\n",
       "  <use xlink:href=\"#glyph0-6\" x=\"123.862305\" y=\"437.21875\"/>\n",
       "  <use xlink:href=\"#glyph0-11\" x=\"133.972656\" y=\"437.21875\"/>\n",
       "</g>\n",
       "<g style=\"fill:rgb(0%,0%,0%);fill-opacity:1;\">\n",
       "  <use xlink:href=\"#glyph0-21\" x=\"154.484375\" y=\"442.390625\"/>\n",
       "  <use xlink:href=\"#glyph0-25\" x=\"166.146484\" y=\"442.390625\"/>\n",
       "  <use xlink:href=\"#glyph0-15\" x=\"175.484375\" y=\"442.390625\"/>\n",
       "</g>\n",
       "<g style=\"fill:rgb(0%,0%,0%);fill-opacity:1;\">\n",
       "  <use xlink:href=\"#glyph0-3\" x=\"510.085938\" y=\"191.925781\"/>\n",
       "  <use xlink:href=\"#glyph0-19\" x=\"520.975586\" y=\"191.925781\"/>\n",
       "  <use xlink:href=\"#glyph0-8\" x=\"530.313477\" y=\"191.925781\"/>\n",
       "</g>\n",
       "<g style=\"fill:rgb(0%,0%,0%);fill-opacity:1;\">\n",
       "  <use xlink:href=\"#glyph0-12\" x=\"439.582031\" y=\"183.464844\"/>\n",
       "  <use xlink:href=\"#glyph0-8\" x=\"443.47168\" y=\"183.464844\"/>\n",
       "  <use xlink:href=\"#glyph0-26\" x=\"453.582031\" y=\"183.464844\"/>\n",
       "</g>\n",
       "<g style=\"fill:rgb(0%,0%,0%);fill-opacity:1;\">\n",
       "  <use xlink:href=\"#glyph0-7\" x=\"353.636719\" y=\"161.867188\"/>\n",
       "  <use xlink:href=\"#glyph0-3\" x=\"362.974609\" y=\"161.867188\"/>\n",
       "  <use xlink:href=\"#glyph0-25\" x=\"373.864258\" y=\"161.867188\"/>\n",
       "</g>\n",
       "<g style=\"fill:rgb(0%,0%,0%);fill-opacity:1;\">\n",
       "  <use xlink:href=\"#glyph0-2\" x=\"503.453125\" y=\"144.113281\"/>\n",
       "  <use xlink:href=\"#glyph0-12\" x=\"512.004883\" y=\"144.113281\"/>\n",
       "  <use xlink:href=\"#glyph0-11\" x=\"515.894531\" y=\"144.113281\"/>\n",
       "</g>\n",
       "<g style=\"fill:rgb(0%,0%,0%);fill-opacity:1;\">\n",
       "  <use xlink:href=\"#glyph0-17\" x=\"449.28125\" y=\"143.421875\"/>\n",
       "  <use xlink:href=\"#glyph0-20\" x=\"456.28125\" y=\"143.421875\"/>\n",
       "  <use xlink:href=\"#glyph0-8\" x=\"467.170898\" y=\"143.421875\"/>\n",
       "</g>\n",
       "<g style=\"fill:rgb(0%,0%,0%);fill-opacity:1;\">\n",
       "  <use xlink:href=\"#glyph0-15\" x=\"398.359375\" y=\"174.285156\"/>\n",
       "  <use xlink:href=\"#glyph0-25\" x=\"407.697266\" y=\"174.285156\"/>\n",
       "  <use xlink:href=\"#glyph0-8\" x=\"417.035156\" y=\"174.285156\"/>\n",
       "</g>\n",
       "<g style=\"fill:rgb(0%,0%,0%);fill-opacity:1;\">\n",
       "  <use xlink:href=\"#glyph0-22\" x=\"353.925781\" y=\"194.976562\"/>\n",
       "  <use xlink:href=\"#glyph0-19\" x=\"361.711914\" y=\"194.976562\"/>\n",
       "  <use xlink:href=\"#glyph0-11\" x=\"371.049805\" y=\"194.976562\"/>\n",
       "</g>\n",
       "<g style=\"fill:rgb(0%,0%,0%);fill-opacity:1;\">\n",
       "  <use xlink:href=\"#glyph0-3\" x=\"7.753906\" y=\"370.121094\"/>\n",
       "  <use xlink:href=\"#glyph0-12\" x=\"18.643555\" y=\"370.121094\"/>\n",
       "  <use xlink:href=\"#glyph0-11\" x=\"22.533203\" y=\"370.121094\"/>\n",
       "</g>\n",
       "<g style=\"fill:rgb(0%,0%,0%);fill-opacity:1;\">\n",
       "  <use xlink:href=\"#glyph0-15\" x=\"31.175781\" y=\"355.113281\"/>\n",
       "  <use xlink:href=\"#glyph0-22\" x=\"40.513672\" y=\"355.113281\"/>\n",
       "  <use xlink:href=\"#glyph0-7\" x=\"48.299805\" y=\"355.113281\"/>\n",
       "</g>\n",
       "<g style=\"fill:rgb(0%,0%,0%);fill-opacity:1;\">\n",
       "  <use xlink:href=\"#glyph0-22\" x=\"388.683594\" y=\"90.386719\"/>\n",
       "  <use xlink:href=\"#glyph0-19\" x=\"396.469727\" y=\"90.386719\"/>\n",
       "  <use xlink:href=\"#glyph0-25\" x=\"405.807617\" y=\"90.386719\"/>\n",
       "</g>\n",
       "<g style=\"fill:rgb(0%,0%,0%);fill-opacity:1;\">\n",
       "  <use xlink:href=\"#glyph0-5\" x=\"378.886719\" y=\"43.304688\"/>\n",
       "  <use xlink:href=\"#glyph0-4\" x=\"387.438477\" y=\"43.304688\"/>\n",
       "  <use xlink:href=\"#glyph0-11\" x=\"397.548828\" y=\"43.304688\"/>\n",
       "</g>\n",
       "<g style=\"fill:rgb(0%,0%,0%);fill-opacity:1;\">\n",
       "  <use xlink:href=\"#glyph0-22\" x=\"189.699219\" y=\"542.480469\"/>\n",
       "  <use xlink:href=\"#glyph0-14\" x=\"197.485352\" y=\"542.480469\"/>\n",
       "  <use xlink:href=\"#glyph0-1\" x=\"206.823242\" y=\"542.480469\"/>\n",
       "</g>\n",
       "<g style=\"fill:rgb(0%,0%,0%);fill-opacity:1;\">\n",
       "  <use xlink:href=\"#glyph0-21\" x=\"548.894531\" y=\"258.988281\"/>\n",
       "  <use xlink:href=\"#glyph0-14\" x=\"560.556641\" y=\"258.988281\"/>\n",
       "  <use xlink:href=\"#glyph0-6\" x=\"569.894531\" y=\"258.988281\"/>\n",
       "</g>\n",
       "<g style=\"fill:rgb(0%,0%,0%);fill-opacity:1;\">\n",
       "  <use xlink:href=\"#glyph0-15\" x=\"475.226562\" y=\"256.238281\"/>\n",
       "  <use xlink:href=\"#glyph0-8\" x=\"484.564453\" y=\"256.238281\"/>\n",
       "  <use xlink:href=\"#glyph0-19\" x=\"494.674805\" y=\"256.238281\"/>\n",
       "</g>\n",
       "<g style=\"fill:rgb(0%,0%,0%);fill-opacity:1;\">\n",
       "  <use xlink:href=\"#glyph0-21\" x=\"167.167969\" y=\"337.175781\"/>\n",
       "  <use xlink:href=\"#glyph0-22\" x=\"178.830078\" y=\"337.175781\"/>\n",
       "  <use xlink:href=\"#glyph0-12\" x=\"186.616211\" y=\"337.175781\"/>\n",
       "</g>\n",
       "<g style=\"fill:rgb(0%,0%,0%);fill-opacity:1;\">\n",
       "  <use xlink:href=\"#glyph0-19\" x=\"113.355469\" y=\"324.8125\"/>\n",
       "  <use xlink:href=\"#glyph0-2\" x=\"122.693359\" y=\"324.8125\"/>\n",
       "  <use xlink:href=\"#glyph0-1\" x=\"131.245117\" y=\"324.8125\"/>\n",
       "</g>\n",
       "<g style=\"fill:rgb(0%,0%,0%);fill-opacity:1;\">\n",
       "  <use xlink:href=\"#glyph0-21\" x=\"123.101562\" y=\"360.445312\"/>\n",
       "  <use xlink:href=\"#glyph0-8\" x=\"134.763672\" y=\"360.445312\"/>\n",
       "  <use xlink:href=\"#glyph0-5\" x=\"144.874023\" y=\"360.445312\"/>\n",
       "</g>\n",
       "<g style=\"fill:rgb(0%,0%,0%);fill-opacity:1;\">\n",
       "  <use xlink:href=\"#glyph0-11\" x=\"218.214844\" y=\"326.863281\"/>\n",
       "  <use xlink:href=\"#glyph0-7\" x=\"228.325195\" y=\"326.863281\"/>\n",
       "  <use xlink:href=\"#glyph0-8\" x=\"237.663086\" y=\"326.863281\"/>\n",
       "</g>\n",
       "<g style=\"fill:rgb(0%,0%,0%);fill-opacity:1;\">\n",
       "  <use xlink:href=\"#glyph0-21\" x=\"202.074219\" y=\"451.476562\"/>\n",
       "  <use xlink:href=\"#glyph0-21\" x=\"213.736328\" y=\"451.476562\"/>\n",
       "  <use xlink:href=\"#glyph0-8\" x=\"225.398438\" y=\"451.476562\"/>\n",
       "</g>\n",
       "<g style=\"fill:rgb(0%,0%,0%);fill-opacity:1;\">\n",
       "  <use xlink:href=\"#glyph0-5\" x=\"167.402344\" y=\"484.503906\"/>\n",
       "  <use xlink:href=\"#glyph0-10\" x=\"175.954102\" y=\"484.503906\"/>\n",
       "  <use xlink:href=\"#glyph0-1\" x=\"186.064453\" y=\"484.503906\"/>\n",
       "</g>\n",
       "<g style=\"fill:rgb(0%,0%,0%);fill-opacity:1;\">\n",
       "  <use xlink:href=\"#glyph0-21\" x=\"259.285156\" y=\"26.765625\"/>\n",
       "  <use xlink:href=\"#glyph0-20\" x=\"270.947266\" y=\"26.765625\"/>\n",
       "  <use xlink:href=\"#glyph0-18\" x=\"281.836914\" y=\"26.765625\"/>\n",
       "</g>\n",
       "<g style=\"fill:rgb(0%,0%,0%);fill-opacity:1;\">\n",
       "  <use xlink:href=\"#glyph0-21\" x=\"232.941406\" y=\"54.203125\"/>\n",
       "  <use xlink:href=\"#glyph0-16\" x=\"244.603516\" y=\"54.203125\"/>\n",
       "  <use xlink:href=\"#glyph0-12\" x=\"257.817383\" y=\"54.203125\"/>\n",
       "</g>\n",
       "<g style=\"fill:rgb(0%,0%,0%);fill-opacity:1;\">\n",
       "  <use xlink:href=\"#glyph0-11\" x=\"514.796875\" y=\"474.691406\"/>\n",
       "  <use xlink:href=\"#glyph0-12\" x=\"524.907227\" y=\"474.691406\"/>\n",
       "  <use xlink:href=\"#glyph0-9\" x=\"528.796875\" y=\"474.691406\"/>\n",
       "</g>\n",
       "<g style=\"fill:rgb(0%,0%,0%);fill-opacity:1;\">\n",
       "  <use xlink:href=\"#glyph0-9\" x=\"466.699219\" y=\"495.589844\"/>\n",
       "  <use xlink:href=\"#glyph0-8\" x=\"476.80957\" y=\"495.589844\"/>\n",
       "  <use xlink:href=\"#glyph0-12\" x=\"486.919922\" y=\"495.589844\"/>\n",
       "</g>\n",
       "<g style=\"fill:rgb(0%,0%,0%);fill-opacity:1;\">\n",
       "  <use xlink:href=\"#glyph0-8\" x=\"506.632812\" y=\"329.3125\"/>\n",
       "  <use xlink:href=\"#glyph0-4\" x=\"516.743164\" y=\"329.3125\"/>\n",
       "  <use xlink:href=\"#glyph0-15\" x=\"526.853516\" y=\"329.3125\"/>\n",
       "</g>\n",
       "<g style=\"fill:rgb(0%,0%,0%);fill-opacity:1;\">\n",
       "  <use xlink:href=\"#glyph0-13\" x=\"542.042969\" y=\"378.375\"/>\n",
       "  <use xlink:href=\"#glyph0-20\" x=\"551.380859\" y=\"378.375\"/>\n",
       "  <use xlink:href=\"#glyph0-22\" x=\"562.270508\" y=\"378.375\"/>\n",
       "</g>\n",
       "<g style=\"fill:rgb(0%,0%,0%);fill-opacity:1;\">\n",
       "  <use xlink:href=\"#glyph0-14\" x=\"225.832031\" y=\"179.917969\"/>\n",
       "  <use xlink:href=\"#glyph0-7\" x=\"235.169922\" y=\"179.917969\"/>\n",
       "  <use xlink:href=\"#glyph0-11\" x=\"244.507812\" y=\"179.917969\"/>\n",
       "</g>\n",
       "<g style=\"fill:rgb(0%,0%,0%);fill-opacity:1;\">\n",
       "  <use xlink:href=\"#glyph0-15\" x=\"227.144531\" y=\"150.710938\"/>\n",
       "  <use xlink:href=\"#glyph0-15\" x=\"236.482422\" y=\"150.710938\"/>\n",
       "  <use xlink:href=\"#glyph0-6\" x=\"245.820312\" y=\"150.710938\"/>\n",
       "</g>\n",
       "<g style=\"fill:rgb(0%,0%,0%);fill-opacity:1;\">\n",
       "  <use xlink:href=\"#glyph0-15\" x=\"293.21875\" y=\"451.125\"/>\n",
       "  <use xlink:href=\"#glyph0-22\" x=\"302.556641\" y=\"451.125\"/>\n",
       "  <use xlink:href=\"#glyph0-23\" x=\"310.342773\" y=\"451.125\"/>\n",
       "</g>\n",
       "<g style=\"fill:rgb(0%,0%,0%);fill-opacity:1;\">\n",
       "  <use xlink:href=\"#glyph0-25\" x=\"126.324219\" y=\"228.886719\"/>\n",
       "  <use xlink:href=\"#glyph0-7\" x=\"135.662109\" y=\"228.886719\"/>\n",
       "  <use xlink:href=\"#glyph0-21\" x=\"145\" y=\"228.886719\"/>\n",
       "</g>\n",
       "<g style=\"fill:rgb(0%,0%,0%);fill-opacity:1;\">\n",
       "  <use xlink:href=\"#glyph0-19\" x=\"442.316406\" y=\"111.394531\"/>\n",
       "  <use xlink:href=\"#glyph0-7\" x=\"451.654297\" y=\"111.394531\"/>\n",
       "  <use xlink:href=\"#glyph0-22\" x=\"460.992188\" y=\"111.394531\"/>\n",
       "</g>\n",
       "<g style=\"fill:rgb(0%,0%,0%);fill-opacity:1;\">\n",
       "  <use xlink:href=\"#glyph0-11\" x=\"410.257812\" y=\"114.539062\"/>\n",
       "  <use xlink:href=\"#glyph0-22\" x=\"420.368164\" y=\"114.539062\"/>\n",
       "  <use xlink:href=\"#glyph0-6\" x=\"428.154297\" y=\"114.539062\"/>\n",
       "</g>\n",
       "<g style=\"fill:rgb(0%,0%,0%);fill-opacity:1;\">\n",
       "  <use xlink:href=\"#glyph0-11\" x=\"364.972656\" y=\"118.003906\"/>\n",
       "  <use xlink:href=\"#glyph0-20\" x=\"375.083008\" y=\"118.003906\"/>\n",
       "  <use xlink:href=\"#glyph0-8\" x=\"385.972656\" y=\"118.003906\"/>\n",
       "</g>\n",
       "<g style=\"fill:rgb(0%,0%,0%);fill-opacity:1;\">\n",
       "  <use xlink:href=\"#glyph0-19\" x=\"87.945312\" y=\"508.527344\"/>\n",
       "  <use xlink:href=\"#glyph0-7\" x=\"97.283203\" y=\"508.527344\"/>\n",
       "  <use xlink:href=\"#glyph0-11\" x=\"106.621094\" y=\"508.527344\"/>\n",
       "</g>\n",
       "<g style=\"fill:rgb(0%,0%,0%);fill-opacity:1;\">\n",
       "  <use xlink:href=\"#glyph0-4\" x=\"564.910156\" y=\"348.199219\"/>\n",
       "  <use xlink:href=\"#glyph0-14\" x=\"575.020508\" y=\"348.199219\"/>\n",
       "  <use xlink:href=\"#glyph0-8\" x=\"584.358398\" y=\"348.199219\"/>\n",
       "</g>\n",
       "<g style=\"fill:rgb(0%,0%,0%);fill-opacity:1;\">\n",
       "  <use xlink:href=\"#glyph0-23\" x=\"386.4375\" y=\"532.734375\"/>\n",
       "  <use xlink:href=\"#glyph0-7\" x=\"395.775391\" y=\"532.734375\"/>\n",
       "  <use xlink:href=\"#glyph0-11\" x=\"405.113281\" y=\"532.734375\"/>\n",
       "</g>\n",
       "<g style=\"fill:rgb(0%,0%,0%);fill-opacity:1;\">\n",
       "  <use xlink:href=\"#glyph0-1\" x=\"451.722656\" y=\"532.511719\"/>\n",
       "  <use xlink:href=\"#glyph0-8\" x=\"461.060547\" y=\"532.511719\"/>\n",
       "  <use xlink:href=\"#glyph0-3\" x=\"471.170898\" y=\"532.511719\"/>\n",
       "</g>\n",
       "<g style=\"fill:rgb(0%,0%,0%);fill-opacity:1;\">\n",
       "  <use xlink:href=\"#glyph0-9\" x=\"410.886719\" y=\"576.394531\"/>\n",
       "  <use xlink:href=\"#glyph0-10\" x=\"420.99707\" y=\"576.394531\"/>\n",
       "  <use xlink:href=\"#glyph0-22\" x=\"431.107422\" y=\"576.394531\"/>\n",
       "</g>\n",
       "<g style=\"fill:rgb(0%,0%,0%);fill-opacity:1;\">\n",
       "  <use xlink:href=\"#glyph0-6\" x=\"344.25\" y=\"586.460938\"/>\n",
       "  <use xlink:href=\"#glyph0-20\" x=\"354.360352\" y=\"586.460938\"/>\n",
       "  <use xlink:href=\"#glyph0-21\" x=\"365.25\" y=\"586.460938\"/>\n",
       "</g>\n",
       "<g style=\"fill:rgb(0%,0%,0%);fill-opacity:1;\">\n",
       "  <use xlink:href=\"#glyph0-3\" x=\"434.609375\" y=\"556.039062\"/>\n",
       "  <use xlink:href=\"#glyph0-4\" x=\"445.499023\" y=\"556.039062\"/>\n",
       "  <use xlink:href=\"#glyph0-25\" x=\"455.609375\" y=\"556.039062\"/>\n",
       "</g>\n",
       "<g style=\"fill:rgb(0%,0%,0%);fill-opacity:1;\">\n",
       "  <use xlink:href=\"#glyph0-13\" x=\"379.707031\" y=\"586.632812\"/>\n",
       "  <use xlink:href=\"#glyph0-1\" x=\"389.044922\" y=\"586.632812\"/>\n",
       "  <use xlink:href=\"#glyph0-11\" x=\"398.382812\" y=\"586.632812\"/>\n",
       "</g>\n",
       "<g style=\"fill:rgb(0%,0%,0%);fill-opacity:1;\">\n",
       "  <use xlink:href=\"#glyph0-13\" x=\"430.460938\" y=\"503.875\"/>\n",
       "  <use xlink:href=\"#glyph0-7\" x=\"439.798828\" y=\"503.875\"/>\n",
       "  <use xlink:href=\"#glyph0-8\" x=\"449.136719\" y=\"503.875\"/>\n",
       "</g>\n",
       "<g style=\"fill:rgb(0%,0%,0%);fill-opacity:1;\">\n",
       "  <use xlink:href=\"#glyph0-18\" x=\"179.726562\" y=\"60.128906\"/>\n",
       "  <use xlink:href=\"#glyph0-16\" x=\"188.27832\" y=\"60.128906\"/>\n",
       "  <use xlink:href=\"#glyph0-7\" x=\"201.492188\" y=\"60.128906\"/>\n",
       "</g>\n",
       "</g>\n",
       "</svg>\n"
      ],
      "text/plain": [
       "<igraph.drawing.cairo.plot.CairoPlot at 0x123d51450>"
      ]
     },
     "execution_count": 44,
     "metadata": {
      "image/svg+xml": {
       "isolated": true
      }
     },
     "output_type": "execute_result"
    }
   ],
   "source": [
    "\n",
    "# graph_df = df[df.contig.astype(bool) & (df.newarrival > 500)].sort_values(by='newarrival', ascending=False).drop_duplicates(subset=['iso_o', 'iso_d'])\n",
    "graph_df = df[(df.newarrival > 10000)].groupby(['iso_o','iso_d'], as_index=False).agg({'newarrival':'max','dist':'first','pop_o':'first'})\n",
    "\n",
    "graph = ig.Graph.TupleList(graph_df[['iso_o','iso_d','dist']].itertuples(index=False), directed=True, edge_attrs=['dist'])\n",
    "\n",
    "graph.vs['color'] = assign_colors(pd.Series(graph.vs()['name']).to_frame().merge(df, how='left', left_on=0, right_on='iso_o').drop_duplicates('iso_o')['Region_o'])\n",
    "graph.vs['label'] = graph.vs['name']\n",
    "\n",
    "vs_size = np.emath.logn(1.2, pd.Series(graph.vs()['name']).to_frame().merge(df, how='left', left_on=0, right_on='iso_o').drop_duplicates('iso_o')['pop_o'])\n",
    "\n",
    "layout = graph.layout(\"kk\")\n",
    "ig.plot(graph)"
   ]
  },
  {
   "cell_type": "code",
   "execution_count": 18,
   "metadata": {},
   "outputs": [
    {
     "data": {
      "image/svg+xml": [
       "<?xml version=\"1.0\" encoding=\"UTF-8\"?>\n",
       "<svg xmlns=\"http://www.w3.org/2000/svg\" xmlns:xlink=\"http://www.w3.org/1999/xlink\" width=\"600pt\" height=\"600pt\" viewBox=\"0 0 600 600\" version=\"1.1\">\n",
       "<defs>\n",
       "<g>\n",
       "<symbol overflow=\"visible\" id=\"glyph0-0\">\n",
       "<path style=\"stroke:none;\" d=\"M 0.453125 0 L 0.453125 -10.042969 L 8.421875 -10.042969 L 8.421875 0 Z M 7.164062 -1.257812 L 7.164062 -8.785156 L 1.710938 -8.785156 L 1.710938 -1.257812 Z M 7.164062 -1.257812 \"/>\n",
       "</symbol>\n",
       "<symbol overflow=\"visible\" id=\"glyph0-1\">\n",
       "<path style=\"stroke:none;\" d=\"M 1.859375 -10.042969 L 4.742188 -1.492188 L 7.59375 -10.042969 L 9.117188 -10.042969 L 5.453125 0 L 4.011719 0 L 0.355469 -10.042969 Z M 1.859375 -10.042969 \"/>\n",
       "</symbol>\n",
       "<symbol overflow=\"visible\" id=\"glyph0-2\">\n",
       "<path style=\"stroke:none;\" d=\"M 1.195312 -10.042969 L 8.515625 -10.042969 L 8.515625 -8.8125 L 2.523438 -8.8125 L 2.523438 -5.761719 L 8.066406 -5.761719 L 8.066406 -4.601562 L 2.523438 -4.601562 L 2.523438 -1.195312 L 8.621094 -1.195312 L 8.621094 0 L 1.195312 0 Z M 1.195312 -10.042969 \"/>\n",
       "</symbol>\n",
       "<symbol overflow=\"visible\" id=\"glyph0-3\">\n",
       "<path style=\"stroke:none;\" d=\"M 1.066406 -10.042969 L 2.671875 -10.042969 L 7.746094 -1.90625 L 7.746094 -10.042969 L 9.039062 -10.042969 L 9.039062 0 L 7.511719 0 L 2.367188 -8.128906 L 2.367188 0 L 1.066406 0 Z M 1.066406 -10.042969 \"/>\n",
       "</symbol>\n",
       "<symbol overflow=\"visible\" id=\"glyph0-4\">\n",
       "<path style=\"stroke:none;\" d=\"M 5.296875 -10.316406 C 6.570312 -10.316406 7.554688 -9.980469 8.257812 -9.3125 C 8.960938 -8.640625 9.347656 -7.878906 9.425781 -7.027344 L 8.101562 -7.027344 C 7.949219 -7.675781 7.652344 -8.1875 7.203125 -8.566406 C 6.753906 -8.945312 6.121094 -9.132812 5.3125 -9.132812 C 4.324219 -9.132812 3.523438 -8.785156 2.914062 -8.089844 C 2.304688 -7.394531 2.003906 -6.328125 2.003906 -4.894531 C 2.003906 -3.71875 2.277344 -2.765625 2.828125 -2.035156 C 3.375 -1.304688 4.195312 -0.9375 5.285156 -0.9375 C 6.289062 -0.9375 7.050781 -1.320312 7.574219 -2.09375 C 7.851562 -2.5 8.058594 -3.03125 8.195312 -3.691406 L 9.523438 -3.691406 C 9.40625 -2.632812 9.011719 -1.746094 8.347656 -1.03125 C 7.550781 -0.171875 6.472656 0.257812 5.121094 0.257812 C 3.953125 0.257812 2.972656 -0.09375 2.179688 -0.800781 C 1.136719 -1.734375 0.617188 -3.175781 0.617188 -5.125 C 0.617188 -6.609375 1.007812 -7.824219 1.789062 -8.769531 C 2.636719 -9.800781 3.808594 -10.316406 5.296875 -10.316406 Z M 5.296875 -10.316406 \"/>\n",
       "</symbol>\n",
       "<symbol overflow=\"visible\" id=\"glyph0-5\">\n",
       "<path style=\"stroke:none;\" d=\"M 5.398438 -10.316406 C 7.171875 -10.316406 8.484375 -9.746094 9.335938 -8.605469 C 10.003906 -7.71875 10.335938 -6.582031 10.335938 -5.195312 C 10.335938 -3.695312 9.957031 -2.449219 9.195312 -1.457031 C 8.300781 -0.289062 7.027344 0.292969 5.375 0.292969 C 3.828125 0.292969 2.613281 -0.214844 1.730469 -1.238281 C 0.941406 -2.222656 0.546875 -3.464844 0.546875 -4.96875 C 0.546875 -6.328125 0.882812 -7.488281 1.558594 -8.457031 C 2.425781 -9.695312 3.703125 -10.316406 5.398438 -10.316406 Z M 5.539062 -0.921875 C 6.734375 -0.921875 7.601562 -1.351562 8.136719 -2.210938 C 8.671875 -3.070312 8.941406 -4.058594 8.941406 -5.175781 C 8.941406 -6.355469 8.632812 -7.304688 8.015625 -8.023438 C 7.398438 -8.746094 6.554688 -9.105469 5.484375 -9.105469 C 4.445312 -9.105469 3.59375 -8.75 2.9375 -8.035156 C 2.28125 -7.320312 1.953125 -6.269531 1.953125 -4.882812 C 1.953125 -3.769531 2.238281 -2.832031 2.800781 -2.066406 C 3.363281 -1.304688 4.273438 -0.921875 5.539062 -0.921875 Z M 5.539062 -0.921875 \"/>\n",
       "</symbol>\n",
       "<symbol overflow=\"visible\" id=\"glyph0-6\">\n",
       "<path style=\"stroke:none;\" d=\"M 1.066406 -10.042969 L 2.425781 -10.042969 L 2.425781 -1.195312 L 7.511719 -1.195312 L 7.511719 0 L 1.066406 0 Z M 1.066406 -10.042969 \"/>\n",
       "</symbol>\n",
       "<symbol overflow=\"visible\" id=\"glyph0-7\">\n",
       "<path style=\"stroke:none;\" d=\"M 1.953125 -3.242188 C 1.984375 -2.671875 2.121094 -2.207031 2.359375 -1.851562 C 2.808594 -1.1875 3.605469 -0.855469 4.742188 -0.855469 C 5.253906 -0.855469 5.71875 -0.925781 6.140625 -1.074219 C 6.949219 -1.355469 7.355469 -1.863281 7.355469 -2.589844 C 7.355469 -3.136719 7.183594 -3.527344 6.84375 -3.757812 C 6.496094 -3.988281 5.953125 -4.1875 5.214844 -4.355469 L 3.855469 -4.664062 C 2.96875 -4.863281 2.335938 -5.082031 1.96875 -5.324219 C 1.332031 -5.742188 1.011719 -6.371094 1.011719 -7.203125 C 1.011719 -8.105469 1.324219 -8.847656 1.949219 -9.425781 C 2.574219 -10.003906 3.457031 -10.296875 4.601562 -10.296875 C 5.652344 -10.296875 6.546875 -10.039062 7.285156 -9.53125 C 8.019531 -9.023438 8.386719 -8.210938 8.386719 -7.09375 L 7.109375 -7.09375 C 7.039062 -7.632812 6.894531 -8.046875 6.671875 -8.332031 C 6.257812 -8.855469 5.554688 -9.117188 4.558594 -9.117188 C 3.757812 -9.117188 3.179688 -8.949219 2.828125 -8.613281 C 2.476562 -8.277344 2.304688 -7.882812 2.304688 -7.4375 C 2.304688 -6.945312 2.507812 -6.585938 2.917969 -6.359375 C 3.1875 -6.210938 3.796875 -6.03125 4.742188 -5.8125 L 6.152344 -5.488281 C 6.832031 -5.335938 7.355469 -5.121094 7.726562 -4.851562 C 8.363281 -4.382812 8.679688 -3.703125 8.679688 -2.808594 C 8.679688 -1.695312 8.277344 -0.902344 7.46875 -0.421875 C 6.660156 0.0546875 5.71875 0.292969 4.648438 0.292969 C 3.398438 0.292969 2.421875 -0.0234375 1.714844 -0.664062 C 1.007812 -1.296875 0.664062 -2.15625 0.675781 -3.242188 Z M 1.953125 -3.242188 \"/>\n",
       "</symbol>\n",
       "<symbol overflow=\"visible\" id=\"glyph0-8\">\n",
       "<path style=\"stroke:none;\" d=\"M 0.289062 -10.042969 L 1.875 -10.042969 L 4.757812 -5.214844 L 7.640625 -10.042969 L 9.234375 -10.042969 L 5.441406 -4.046875 L 5.441406 0 L 4.082031 0 L 4.082031 -4.046875 Z M 0.289062 -10.042969 \"/>\n",
       "</symbol>\n",
       "<symbol overflow=\"visible\" id=\"glyph0-9\">\n",
       "<path style=\"stroke:none;\" d=\"M 5.734375 -5.441406 C 6.375 -5.441406 6.878906 -5.570312 7.25 -5.824219 C 7.621094 -6.078125 7.804688 -6.539062 7.804688 -7.203125 C 7.804688 -7.921875 7.546875 -8.40625 7.027344 -8.667969 C 6.75 -8.804688 6.378906 -8.875 5.914062 -8.875 L 2.589844 -8.875 L 2.589844 -5.441406 Z M 1.230469 -10.042969 L 5.878906 -10.042969 C 6.644531 -10.042969 7.277344 -9.929688 7.773438 -9.707031 C 8.714844 -9.277344 9.1875 -8.488281 9.1875 -7.335938 C 9.1875 -6.734375 9.0625 -6.242188 8.816406 -5.859375 C 8.566406 -5.476562 8.21875 -5.167969 7.773438 -4.9375 C 8.164062 -4.777344 8.460938 -4.566406 8.65625 -4.304688 C 8.855469 -4.046875 8.964844 -3.625 8.988281 -3.042969 L 9.039062 -1.695312 C 9.050781 -1.3125 9.082031 -1.027344 9.132812 -0.839844 C 9.214844 -0.523438 9.359375 -0.316406 9.570312 -0.226562 L 9.570312 0 L 7.902344 0 C 7.855469 -0.0859375 7.820312 -0.199219 7.792969 -0.335938 C 7.765625 -0.472656 7.742188 -0.734375 7.726562 -1.128906 L 7.640625 -2.804688 C 7.609375 -3.460938 7.367188 -3.898438 6.910156 -4.121094 C 6.652344 -4.246094 6.242188 -4.304688 5.6875 -4.304688 L 2.589844 -4.304688 L 2.589844 0 L 1.230469 0 Z M 1.230469 -10.042969 \"/>\n",
       "</symbol>\n",
       "<symbol overflow=\"visible\" id=\"glyph0-10\">\n",
       "<path style=\"stroke:none;\" d=\"M 8.375 -10.042969 L 8.375 -8.84375 L 4.992188 -8.84375 L 4.992188 0 L 3.609375 0 L 3.609375 -8.84375 L 0.226562 -8.84375 L 0.226562 -10.042969 Z M 8.375 -10.042969 \"/>\n",
       "</symbol>\n",
       "<symbol overflow=\"visible\" id=\"glyph0-11\">\n",
       "<path style=\"stroke:none;\" d=\"M 2.542969 -10.042969 L 2.542969 -3.835938 C 2.542969 -3.105469 2.679688 -2.5 2.953125 -2.015625 C 3.359375 -1.289062 4.042969 -0.921875 5.003906 -0.921875 C 6.15625 -0.921875 6.941406 -1.316406 7.355469 -2.105469 C 7.578125 -2.535156 7.691406 -3.109375 7.691406 -3.835938 L 7.691406 -10.042969 L 9.070312 -10.042969 L 9.070312 -4.402344 C 9.070312 -3.167969 8.90625 -2.21875 8.570312 -1.550781 C 7.960938 -0.339844 6.808594 0.265625 5.113281 0.265625 C 3.417969 0.265625 2.265625 -0.339844 1.660156 -1.550781 C 1.328125 -2.21875 1.164062 -3.167969 1.164062 -4.402344 L 1.164062 -10.042969 Z M 2.542969 -10.042969 \"/>\n",
       "</symbol>\n",
       "<symbol overflow=\"visible\" id=\"glyph0-12\">\n",
       "<path style=\"stroke:none;\" d=\"M 4.839844 -5.796875 C 5.414062 -5.796875 5.859375 -5.875 6.179688 -6.035156 C 6.679688 -6.285156 6.929688 -6.738281 6.929688 -7.390625 C 6.929688 -8.046875 6.664062 -8.488281 6.132812 -8.714844 C 5.832031 -8.84375 5.382812 -8.90625 4.792969 -8.90625 L 2.367188 -8.90625 L 2.367188 -5.796875 Z M 5.296875 -1.164062 C 6.132812 -1.164062 6.726562 -1.402344 7.082031 -1.886719 C 7.304688 -2.191406 7.417969 -2.5625 7.417969 -2.992188 C 7.417969 -3.722656 7.089844 -4.21875 6.4375 -4.484375 C 6.09375 -4.625 5.636719 -4.695312 5.066406 -4.695312 L 2.367188 -4.695312 L 2.367188 -1.164062 Z M 1.03125 -10.042969 L 5.34375 -10.042969 C 6.519531 -10.042969 7.359375 -9.691406 7.855469 -8.988281 C 8.148438 -8.574219 8.292969 -8.097656 8.292969 -7.554688 C 8.292969 -6.921875 8.113281 -6.402344 7.75 -5.996094 C 7.5625 -5.78125 7.296875 -5.585938 6.945312 -5.40625 C 7.460938 -5.210938 7.84375 -4.992188 8.101562 -4.742188 C 8.550781 -4.304688 8.777344 -3.703125 8.777344 -2.933594 C 8.777344 -2.285156 8.574219 -1.699219 8.167969 -1.175781 C 7.5625 -0.390625 6.597656 0 5.277344 0 L 1.03125 0 Z M 1.03125 -10.042969 \"/>\n",
       "</symbol>\n",
       "<symbol overflow=\"visible\" id=\"glyph0-13\">\n",
       "<path style=\"stroke:none;\" d=\"M 5.996094 -2.992188 C 5.996094 -2.144531 5.871094 -1.488281 5.617188 -1.019531 C 5.152344 -0.164062 4.269531 0.265625 2.96875 0.265625 C 2.214844 0.265625 1.570312 0.0625 1.039062 -0.34375 C 0.507812 -0.753906 0.238281 -1.480469 0.238281 -2.523438 L 0.238281 -3.242188 L 1.515625 -3.242188 L 1.515625 -2.523438 C 1.515625 -1.976562 1.640625 -1.5625 1.882812 -1.289062 C 2.125 -1.011719 2.507812 -0.875 3.023438 -0.875 C 3.746094 -0.875 4.21875 -1.125 4.445312 -1.621094 C 4.582031 -1.925781 4.648438 -2.5 4.648438 -3.351562 L 4.648438 -10.042969 L 5.996094 -10.042969 Z M 5.996094 -2.992188 \"/>\n",
       "</symbol>\n",
       "<symbol overflow=\"visible\" id=\"glyph0-14\">\n",
       "<path style=\"stroke:none;\" d=\"M 1.03125 -10.042969 L 2.980469 -10.042969 L 5.867188 -1.550781 L 8.730469 -10.042969 L 10.65625 -10.042969 L 10.65625 0 L 9.367188 0 L 9.367188 -5.925781 C 9.367188 -6.132812 9.371094 -6.472656 9.378906 -6.945312 C 9.386719 -7.417969 9.390625 -7.925781 9.390625 -8.46875 L 6.527344 0 L 5.179688 0 L 2.296875 -8.46875 L 2.296875 -8.164062 C 2.296875 -7.917969 2.300781 -7.542969 2.3125 -7.039062 C 2.324219 -6.535156 2.332031 -6.164062 2.332031 -5.925781 L 2.332031 0 L 1.03125 0 Z M 1.03125 -10.042969 \"/>\n",
       "</symbol>\n",
       "<symbol overflow=\"visible\" id=\"glyph0-15\">\n",
       "<path style=\"stroke:none;\" d=\"M 5.40625 -10.300781 C 6.351562 -10.300781 7.167969 -10.121094 7.855469 -9.753906 C 8.851562 -9.230469 9.464844 -8.3125 9.6875 -7 L 8.339844 -7 C 8.175781 -7.734375 7.835938 -8.269531 7.320312 -8.601562 C 6.804688 -8.9375 6.15625 -9.105469 5.375 -9.105469 C 4.445312 -9.105469 3.660156 -8.757812 3.023438 -8.058594 C 2.390625 -7.363281 2.070312 -6.324219 2.070312 -4.941406 C 2.070312 -3.75 2.332031 -2.777344 2.859375 -2.027344 C 3.382812 -1.277344 4.234375 -0.902344 5.421875 -0.902344 C 6.328125 -0.902344 7.078125 -1.164062 7.671875 -1.691406 C 8.265625 -2.21875 8.570312 -3.070312 8.585938 -4.246094 L 5.441406 -4.246094 L 5.441406 -5.375 L 9.851562 -5.375 L 9.851562 0 L 8.976562 0 L 8.648438 -1.292969 C 8.1875 -0.785156 7.78125 -0.433594 7.421875 -0.238281 C 6.828125 0.0976562 6.066406 0.265625 5.148438 0.265625 C 3.957031 0.265625 2.933594 -0.117188 2.078125 -0.890625 C 1.144531 -1.855469 0.675781 -3.179688 0.675781 -4.867188 C 0.675781 -6.546875 1.132812 -7.886719 2.042969 -8.878906 C 2.910156 -9.828125 4.03125 -10.300781 5.40625 -10.300781 Z M 5.40625 -10.300781 \"/>\n",
       "</symbol>\n",
       "<symbol overflow=\"visible\" id=\"glyph0-16\">\n",
       "<path style=\"stroke:none;\" d=\"M 4.921875 -1.164062 C 5.382812 -1.164062 5.761719 -1.210938 6.054688 -1.304688 C 6.585938 -1.484375 7.019531 -1.824219 7.355469 -2.332031 C 7.625 -2.738281 7.816406 -3.257812 7.9375 -3.890625 C 8.003906 -4.269531 8.039062 -4.617188 8.039062 -4.941406 C 8.039062 -6.1875 7.792969 -7.152344 7.296875 -7.839844 C 6.804688 -8.527344 6.007812 -8.875 4.90625 -8.875 L 2.496094 -8.875 L 2.496094 -1.164062 Z M 1.128906 -10.042969 L 5.195312 -10.042969 C 6.578125 -10.042969 7.648438 -9.550781 8.40625 -8.570312 C 9.085938 -7.6875 9.425781 -6.554688 9.425781 -5.175781 C 9.425781 -4.109375 9.226562 -3.144531 8.824219 -2.28125 C 8.117188 -0.761719 6.90625 0 5.179688 0 L 1.128906 0 Z M 1.128906 -10.042969 \"/>\n",
       "</symbol>\n",
       "<symbol overflow=\"visible\" id=\"glyph0-17\">\n",
       "<path style=\"stroke:none;\" d=\"M 6.21875 -4.117188 L 4.695312 -8.550781 L 3.078125 -4.117188 Z M 3.984375 -10.042969 L 5.523438 -10.042969 L 9.167969 0 L 7.675781 0 L 6.65625 -3.007812 L 2.6875 -3.007812 L 1.601562 0 L 0.203125 0 Z M 3.984375 -10.042969 \"/>\n",
       "</symbol>\n",
       "<symbol overflow=\"visible\" id=\"glyph0-18\">\n",
       "<path style=\"stroke:none;\" d=\"M 1.195312 -10.042969 L 8.164062 -10.042969 L 8.164062 -8.8125 L 2.554688 -8.8125 L 2.554688 -5.761719 L 7.484375 -5.761719 L 7.484375 -4.566406 L 2.554688 -4.566406 L 2.554688 0 L 1.195312 0 Z M 1.195312 -10.042969 \"/>\n",
       "</symbol>\n",
       "<symbol overflow=\"visible\" id=\"glyph0-19\">\n",
       "<path style=\"stroke:none;\" d=\"M 1.375 -10.042969 L 2.75 -10.042969 L 2.75 0 L 1.375 0 Z M 1.375 -10.042969 \"/>\n",
       "</symbol>\n",
       "<symbol overflow=\"visible\" id=\"glyph0-20\">\n",
       "<path style=\"stroke:none;\" d=\"M 1.195312 -10.042969 L 5.714844 -10.042969 C 6.609375 -10.042969 7.328125 -9.789062 7.875 -9.285156 C 8.421875 -8.78125 8.695312 -8.074219 8.695312 -7.164062 C 8.695312 -6.378906 8.453125 -5.699219 7.964844 -5.117188 C 7.476562 -4.535156 6.726562 -4.246094 5.714844 -4.246094 L 2.554688 -4.246094 L 2.554688 0 L 1.195312 0 Z M 7.320312 -7.15625 C 7.320312 -7.894531 7.046875 -8.398438 6.5 -8.660156 C 6.199219 -8.800781 5.789062 -8.875 5.265625 -8.875 L 2.554688 -8.875 L 2.554688 -5.394531 L 5.265625 -5.394531 C 5.875 -5.394531 6.371094 -5.523438 6.75 -5.78125 C 7.132812 -6.042969 7.320312 -6.5 7.320312 -7.15625 Z M 7.320312 -7.15625 \"/>\n",
       "</symbol>\n",
       "<symbol overflow=\"visible\" id=\"glyph0-21\">\n",
       "<path style=\"stroke:none;\" d=\"M 1.066406 -10.042969 L 2.390625 -10.042969 L 2.390625 -5.148438 L 7.289062 -10.042969 L 9.167969 -10.042969 L 4.992188 -5.996094 L 9.28125 0 L 7.511719 0 L 4 -5.039062 L 2.390625 -3.5 L 2.390625 0 L 1.066406 0 Z M 1.066406 -10.042969 \"/>\n",
       "</symbol>\n",
       "<symbol overflow=\"visible\" id=\"glyph0-22\">\n",
       "<path style=\"stroke:none;\" d=\"M 10.253906 -0.0273438 L 9.570312 0.800781 L 8.019531 -0.382812 C 7.644531 -0.179688 7.242188 -0.015625 6.804688 0.109375 C 6.371094 0.234375 5.894531 0.292969 5.378906 0.292969 C 3.820312 0.292969 2.601562 -0.214844 1.714844 -1.238281 C 0.9375 -2.230469 0.546875 -3.476562 0.546875 -4.96875 C 0.546875 -6.328125 0.882812 -7.488281 1.558594 -8.457031 C 2.425781 -9.695312 3.703125 -10.316406 5.398438 -10.316406 C 7.171875 -10.316406 8.484375 -9.746094 9.335938 -8.605469 C 10.003906 -7.71875 10.335938 -6.582031 10.335938 -5.195312 C 10.335938 -4.546875 10.257812 -3.925781 10.097656 -3.328125 C 9.855469 -2.417969 9.445312 -1.675781 8.875 -1.101562 Z M 5.542969 -0.921875 C 5.828125 -0.921875 6.089844 -0.941406 6.335938 -0.980469 C 6.582031 -1.019531 6.796875 -1.097656 6.980469 -1.210938 L 5.878906 -2.070312 L 6.5625 -2.914062 L 7.875 -1.894531 C 8.289062 -2.367188 8.570312 -2.898438 8.71875 -3.484375 C 8.867188 -4.074219 8.941406 -4.636719 8.941406 -5.175781 C 8.941406 -6.355469 8.632812 -7.304688 8.015625 -8.023438 C 7.398438 -8.746094 6.554688 -9.105469 5.484375 -9.105469 C 4.398438 -9.105469 3.539062 -8.761719 2.90625 -8.070312 C 2.273438 -7.378906 1.953125 -6.316406 1.953125 -4.882812 C 1.953125 -3.671875 2.257812 -2.710938 2.867188 -1.996094 C 3.476562 -1.28125 4.367188 -0.921875 5.542969 -0.921875 Z M 5.542969 -0.921875 \"/>\n",
       "</symbol>\n",
       "<symbol overflow=\"visible\" id=\"glyph0-23\">\n",
       "<path style=\"stroke:none;\" d=\"M 0.320312 -1.128906 L 6.480469 -8.84375 L 0.773438 -8.84375 L 0.773438 -10.042969 L 8.230469 -10.042969 L 8.230469 -8.875 L 2.039062 -1.195312 L 8.230469 -1.195312 L 8.230469 0 L 0.320312 0 Z M 0.320312 -1.128906 \"/>\n",
       "</symbol>\n",
       "<symbol overflow=\"visible\" id=\"glyph0-24\">\n",
       "<path style=\"stroke:none;\" d=\"M 1.730469 -10.042969 L 3.625 -1.875 L 5.890625 -10.042969 L 7.367188 -10.042969 L 9.640625 -1.875 L 11.53125 -10.042969 L 13.023438 -10.042969 L 10.382812 0 L 8.953125 0 L 6.636719 -8.328125 L 4.304688 0 L 2.878906 0 L 0.253906 -10.042969 Z M 1.730469 -10.042969 \"/>\n",
       "</symbol>\n",
       "<symbol overflow=\"visible\" id=\"glyph0-25\">\n",
       "<path style=\"stroke:none;\" d=\"M 1.101562 -10.042969 L 2.476562 -10.042969 L 2.476562 -5.890625 L 7.695312 -5.890625 L 7.695312 -10.042969 L 9.070312 -10.042969 L 9.070312 0 L 7.695312 0 L 7.695312 -4.695312 L 2.476562 -4.695312 L 2.476562 0 L 1.101562 0 Z M 1.101562 -10.042969 \"/>\n",
       "</symbol>\n",
       "<symbol overflow=\"visible\" id=\"glyph0-26\">\n",
       "<path style=\"stroke:none;\" d=\"M 1.929688 0 L 0.289062 0 L 3.882812 -5.148438 L 0.511719 -10.042969 L 2.214844 -10.042969 L 4.777344 -6.199219 L 7.320312 -10.042969 L 8.941406 -10.042969 L 5.570312 -5.148438 L 9.105469 0 L 7.417969 0 L 4.710938 -4.128906 Z M 1.929688 0 \"/>\n",
       "</symbol>\n",
       "</g>\n",
       "</defs>\n",
       "<g id=\"surface8\">\n",
       "<rect x=\"0\" y=\"0\" width=\"600\" height=\"600\" style=\"fill:rgb(100%,100%,100%);fill-opacity:1;stroke:none;\"/>\n",
       "<path style=\"fill:none;stroke-width:1;stroke-linecap:butt;stroke-linejoin:miter;stroke:rgb(26.666667%,26.666667%,26.666667%);stroke-opacity:1;stroke-miterlimit:10;\" d=\"M 413.398438 529.628906 C 409.082031 529.828125 407.773438 535.207031 405.394531 536.226562 \"/>\n",
       "<path style=\" stroke:none;fill-rule:nonzero;fill:rgb(26.666667%,26.666667%,26.666667%);fill-opacity:1;\" d=\"M 392.28125 541.84375 L 403.566406 531.96875 L 407.21875 540.488281 L 392.28125 541.84375 \"/>\n",
       "<path style=\"fill:none;stroke-width:1;stroke-linecap:butt;stroke-linejoin:miter;stroke:rgb(26.666667%,26.666667%,26.666667%);stroke-opacity:1;stroke-miterlimit:10;\" d=\"M 505.890625 397.058594 L 496.777344 383.0625 \"/>\n",
       "<path style=\" stroke:none;fill-rule:nonzero;fill:rgb(26.666667%,26.666667%,26.666667%);fill-opacity:1;\" d=\"M 488.992188 371.109375 L 500.660156 380.535156 L 492.894531 385.59375 L 488.992188 371.109375 \"/>\n",
       "<path style=\"fill:none;stroke-width:1;stroke-linecap:butt;stroke-linejoin:miter;stroke:rgb(26.666667%,26.666667%,26.666667%);stroke-opacity:1;stroke-miterlimit:10;\" d=\"M 505.890625 397.058594 L 507.390625 425.617188 \"/>\n",
       "<path style=\" stroke:none;fill-rule:nonzero;fill:rgb(26.666667%,26.666667%,26.666667%);fill-opacity:1;\" d=\"M 508.140625 439.863281 L 502.761719 425.859375 L 512.019531 425.375 L 508.140625 439.863281 \"/>\n",
       "<path style=\"fill:none;stroke-width:1;stroke-linecap:butt;stroke-linejoin:miter;stroke:rgb(26.666667%,26.666667%,26.666667%);stroke-opacity:1;stroke-miterlimit:10;\" d=\"M 505.890625 397.058594 L 518.246094 395.75 \"/>\n",
       "<path style=\" stroke:none;fill-rule:nonzero;fill:rgb(26.666667%,26.666667%,26.666667%);fill-opacity:1;\" d=\"M 532.433594 394.25 L 518.734375 400.359375 L 517.757812 391.140625 L 532.433594 394.25 \"/>\n",
       "<path style=\"fill:none;stroke-width:1;stroke-linecap:butt;stroke-linejoin:miter;stroke:rgb(26.666667%,26.666667%,26.666667%);stroke-opacity:1;stroke-miterlimit:10;\" d=\"M 450.957031 189.734375 L 445.695312 192.3125 \"/>\n",
       "<path style=\" stroke:none;fill-rule:nonzero;fill:rgb(26.666667%,26.666667%,26.666667%);fill-opacity:1;\" d=\"M 432.882812 198.585938 L 443.65625 188.148438 L 447.734375 196.476562 L 432.882812 198.585938 \"/>\n",
       "<path style=\"fill:none;stroke-width:1;stroke-linecap:butt;stroke-linejoin:miter;stroke:rgb(26.666667%,26.666667%,26.666667%);stroke-opacity:1;stroke-miterlimit:10;\" d=\"M 523.605469 265.628906 L 513.609375 298.820312 \"/>\n",
       "<path style=\" stroke:none;fill-rule:nonzero;fill:rgb(26.666667%,26.666667%,26.666667%);fill-opacity:1;\" d=\"M 509.5 312.480469 L 509.171875 297.484375 L 518.050781 300.15625 L 509.5 312.480469 \"/>\n",
       "<path style=\"fill:none;stroke-width:1;stroke-linecap:butt;stroke-linejoin:miter;stroke:rgb(26.666667%,26.666667%,26.666667%);stroke-opacity:1;stroke-miterlimit:10;\" d=\"M 551.480469 269.300781 C 538.367188 283.976562 513.0625 273.046875 505.167969 278.597656 \"/>\n",
       "<path style=\" stroke:none;fill-rule:nonzero;fill:rgb(26.666667%,26.666667%,26.666667%);fill-opacity:1;\" d=\"M 516.835938 270.390625 L 507.835938 282.390625 L 502.5 274.804688 L 516.835938 270.390625 \"/>\n",
       "<path style=\"fill:none;stroke-width:1;stroke-linecap:butt;stroke-linejoin:miter;stroke:rgb(26.666667%,26.666667%,26.666667%);stroke-opacity:1;stroke-miterlimit:10;\" d=\"M 352.292969 39.007812 L 352.320312 55.972656 \"/>\n",
       "<path style=\" stroke:none;fill-rule:nonzero;fill:rgb(26.666667%,26.666667%,26.666667%);fill-opacity:1;\" d=\"M 352.339844 70.238281 L 347.683594 55.980469 L 356.953125 55.964844 L 352.339844 70.238281 \"/>\n",
       "<path style=\"fill:none;stroke-width:1;stroke-linecap:butt;stroke-linejoin:miter;stroke:rgb(26.666667%,26.666667%,26.666667%);stroke-opacity:1;stroke-miterlimit:10;\" d=\"M 523.605469 265.628906 C 529.328125 270.765625 532.703125 280.460938 527.199219 283.730469 \"/>\n",
       "<path style=\" stroke:none;fill-rule:nonzero;fill:rgb(26.666667%,26.666667%,26.666667%);fill-opacity:1;\" d=\"M 539.460938 276.441406 L 529.570312 287.714844 L 524.832031 279.746094 L 539.460938 276.441406 \"/>\n",
       "<path style=\"fill:none;stroke-width:1;stroke-linecap:butt;stroke-linejoin:miter;stroke:rgb(26.666667%,26.666667%,26.666667%);stroke-opacity:1;stroke-miterlimit:10;\" d=\"M 301.550781 416.078125 C 316.773438 431.378906 332.582031 427.792969 352.8125 423.539062 \"/>\n",
       "<path style=\" stroke:none;fill-rule:nonzero;fill:rgb(26.666667%,26.666667%,26.666667%);fill-opacity:1;\" d=\"M 338.851562 426.476562 L 351.859375 419.003906 L 353.769531 428.074219 L 338.851562 426.476562 \"/>\n",
       "<path style=\"fill:none;stroke-width:1;stroke-linecap:butt;stroke-linejoin:miter;stroke:rgb(26.666667%,26.666667%,26.666667%);stroke-opacity:1;stroke-miterlimit:10;\" d=\"M 505.890625 397.058594 C 506.40625 386.230469 496.648438 371.878906 491.289062 375.53125 \"/>\n",
       "<path style=\" stroke:none;fill-rule:nonzero;fill:rgb(26.666667%,26.666667%,26.666667%);fill-opacity:1;\" d=\"M 503.078125 367.496094 L 493.898438 379.359375 L 488.675781 371.699219 L 503.078125 367.496094 \"/>\n",
       "<path style=\"fill:none;stroke-width:1;stroke-linecap:butt;stroke-linejoin:miter;stroke:rgb(26.666667%,26.666667%,26.666667%);stroke-opacity:1;stroke-miterlimit:10;\" d=\"M 313.917969 237.109375 L 289.070312 242.863281 \"/>\n",
       "<path style=\" stroke:none;fill-rule:nonzero;fill:rgb(26.666667%,26.666667%,26.666667%);fill-opacity:1;\" d=\"M 275.175781 246.082031 L 288.027344 238.347656 L 290.117188 247.378906 L 275.175781 246.082031 \"/>\n",
       "<path style=\"fill:none;stroke-width:1;stroke-linecap:butt;stroke-linejoin:miter;stroke:rgb(26.666667%,26.666667%,26.666667%);stroke-opacity:1;stroke-miterlimit:10;\" d=\"M 209.097656 189.136719 L 204.261719 159.832031 \"/>\n",
       "<path style=\" stroke:none;fill-rule:nonzero;fill:rgb(26.666667%,26.666667%,26.666667%);fill-opacity:1;\" d=\"M 201.941406 145.757812 L 208.835938 159.078125 L 199.6875 160.589844 L 201.941406 145.757812 \"/>\n",
       "<path style=\"fill:none;stroke-width:1;stroke-linecap:butt;stroke-linejoin:miter;stroke:rgb(26.666667%,26.666667%,26.666667%);stroke-opacity:1;stroke-miterlimit:10;\" d=\"M 181.578125 502.414062 L 179.066406 511.007812 \"/>\n",
       "<path style=\" stroke:none;fill-rule:nonzero;fill:rgb(26.666667%,26.666667%,26.666667%);fill-opacity:1;\" d=\"M 175.066406 524.699219 L 174.617188 509.707031 L 183.515625 512.304688 L 175.066406 524.699219 \"/>\n",
       "<path style=\"fill:none;stroke-width:1;stroke-linecap:butt;stroke-linejoin:miter;stroke:rgb(26.666667%,26.666667%,26.666667%);stroke-opacity:1;stroke-miterlimit:10;\" d=\"M 413.398438 529.628906 L 414.078125 524.125 \"/>\n",
       "<path style=\" stroke:none;fill-rule:nonzero;fill:rgb(26.666667%,26.666667%,26.666667%);fill-opacity:1;\" d=\"M 415.824219 509.96875 L 418.679688 524.695312 L 409.476562 523.558594 L 415.824219 509.96875 \"/>\n",
       "<path style=\"fill:none;stroke-width:1;stroke-linecap:butt;stroke-linejoin:miter;stroke:rgb(26.666667%,26.666667%,26.666667%);stroke-opacity:1;stroke-miterlimit:10;\" d=\"M 239.40625 228.3125 C 230.035156 225.484375 223.359375 228.703125 217.339844 236.371094 \"/>\n",
       "<path style=\" stroke:none;fill-rule:nonzero;fill:rgb(26.666667%,26.666667%,26.666667%);fill-opacity:1;\" d=\"M 208.535156 247.597656 L 213.691406 233.511719 L 220.988281 239.234375 L 208.535156 247.597656 \"/>\n",
       "<path style=\"fill:none;stroke-width:1;stroke-linecap:butt;stroke-linejoin:miter;stroke:rgb(26.666667%,26.666667%,26.666667%);stroke-opacity:1;stroke-miterlimit:10;\" d=\"M 189.898438 222.527344 L 183.777344 245.332031 \"/>\n",
       "<path style=\" stroke:none;fill-rule:nonzero;fill:rgb(26.666667%,26.666667%,26.666667%);fill-opacity:1;\" d=\"M 180.082031 259.109375 L 179.300781 244.128906 L 188.253906 246.535156 L 180.082031 259.109375 \"/>\n",
       "<path style=\"fill:none;stroke-width:1;stroke-linecap:butt;stroke-linejoin:miter;stroke:rgb(26.666667%,26.666667%,26.666667%);stroke-opacity:1;stroke-miterlimit:10;\" d=\"M 111.078125 303.351562 L 108.375 298.929688 \"/>\n",
       "<path style=\" stroke:none;fill-rule:nonzero;fill:rgb(26.666667%,26.666667%,26.666667%);fill-opacity:1;\" d=\"M 100.933594 286.757812 L 112.328125 296.511719 L 104.417969 301.347656 L 100.933594 286.757812 \"/>\n",
       "<path style=\"fill:none;stroke-width:1;stroke-linecap:butt;stroke-linejoin:miter;stroke:rgb(26.666667%,26.666667%,26.666667%);stroke-opacity:1;stroke-miterlimit:10;\" d=\"M 510.402344 362.507812 C 492.867188 367.488281 484.257812 397.320312 483.910156 397.324219 \"/>\n",
       "<path style=\" stroke:none;fill-rule:nonzero;fill:rgb(26.666667%,26.666667%,26.666667%);fill-opacity:1;\" d=\"M 498.175781 397.152344 L 483.964844 401.960938 L 483.855469 392.6875 L 498.175781 397.152344 \"/>\n",
       "<path style=\"fill:none;stroke-width:1;stroke-linecap:butt;stroke-linejoin:miter;stroke:rgb(26.666667%,26.666667%,26.666667%);stroke-opacity:1;stroke-miterlimit:10;\" d=\"M 20 312.007812 L 20.492188 323.554688 \"/>\n",
       "<path style=\" stroke:none;fill-rule:nonzero;fill:rgb(26.666667%,26.666667%,26.666667%);fill-opacity:1;\" d=\"M 21.101562 337.808594 L 15.863281 323.75 L 25.125 323.355469 L 21.101562 337.808594 \"/>\n",
       "<path style=\"fill:none;stroke-width:1;stroke-linecap:butt;stroke-linejoin:miter;stroke:rgb(26.666667%,26.666667%,26.666667%);stroke-opacity:1;stroke-miterlimit:10;\" d=\"M 313.917969 237.109375 C 307.097656 235.34375 296.5625 240.492188 298.28125 243.542969 \"/>\n",
       "<path style=\" stroke:none;fill-rule:nonzero;fill:rgb(26.666667%,26.666667%,26.666667%);fill-opacity:1;\" d=\"M 291.269531 231.117188 L 302.316406 241.265625 L 294.246094 245.820312 L 291.269531 231.117188 \"/>\n",
       "<path style=\"fill:none;stroke-width:1;stroke-linecap:butt;stroke-linejoin:miter;stroke:rgb(26.666667%,26.666667%,26.666667%);stroke-opacity:1;stroke-miterlimit:10;\" d=\"M 264.695312 197.242188 C 262.996094 223.890625 238 229.832031 223.058594 245.957031 \"/>\n",
       "<path style=\" stroke:none;fill-rule:nonzero;fill:rgb(26.666667%,26.666667%,26.666667%);fill-opacity:1;\" d=\"M 232.753906 235.492188 L 226.460938 249.109375 L 219.660156 242.808594 L 232.753906 235.492188 \"/>\n",
       "<path style=\"fill:none;stroke-width:1;stroke-linecap:butt;stroke-linejoin:miter;stroke:rgb(26.666667%,26.666667%,26.666667%);stroke-opacity:1;stroke-miterlimit:10;\" d=\"M 409.957031 73.789062 L 435.445312 78.222656 \"/>\n",
       "<path style=\" stroke:none;fill-rule:nonzero;fill:rgb(26.666667%,26.666667%,26.666667%);fill-opacity:1;\" d=\"M 449.5 80.664062 L 434.648438 82.789062 L 436.238281 73.65625 L 449.5 80.664062 \"/>\n",
       "<path style=\"fill:none;stroke-width:1;stroke-linecap:butt;stroke-linejoin:miter;stroke:rgb(26.666667%,26.666667%,26.666667%);stroke-opacity:1;stroke-miterlimit:10;\" d=\"M 111.078125 303.351562 C 132.601562 310.453125 149.292969 286.347656 162.625 285.992188 \"/>\n",
       "<path style=\" stroke:none;fill-rule:nonzero;fill:rgb(26.666667%,26.666667%,26.666667%);fill-opacity:1;\" d=\"M 148.367188 286.371094 L 162.503906 281.355469 L 162.75 290.625 L 148.367188 286.371094 \"/>\n",
       "<path style=\"fill:none;stroke-width:1;stroke-linecap:butt;stroke-linejoin:miter;stroke:rgb(26.666667%,26.666667%,26.666667%);stroke-opacity:1;stroke-miterlimit:10;\" d=\"M 264.695312 197.242188 C 272.714844 209.535156 274.5 226.519531 262.390625 232.394531 \"/>\n",
       "<path style=\" stroke:none;fill-rule:nonzero;fill:rgb(26.666667%,26.666667%,26.666667%);fill-opacity:1;\" d=\"M 275.222656 226.167969 L 264.414062 236.566406 L 260.367188 228.226562 L 275.222656 226.167969 \"/>\n",
       "<path style=\"fill:none;stroke-width:1;stroke-linecap:butt;stroke-linejoin:miter;stroke:rgb(26.666667%,26.666667%,26.666667%);stroke-opacity:1;stroke-miterlimit:10;\" d=\"M 285.628906 221.121094 C 279.503906 241.316406 245.953125 256.015625 244.785156 251.078125 \"/>\n",
       "<path style=\" stroke:none;fill-rule:nonzero;fill:rgb(26.666667%,26.666667%,26.666667%);fill-opacity:1;\" d=\"M 241.503906 237.195312 L 249.296875 250.011719 L 240.273438 252.144531 L 241.503906 237.195312 \"/>\n",
       "<path style=\"fill:none;stroke-width:1;stroke-linecap:butt;stroke-linejoin:miter;stroke:rgb(26.666667%,26.666667%,26.666667%);stroke-opacity:1;stroke-miterlimit:10;\" d=\"M 510.402344 362.507812 C 498.148438 379.632812 471.0625 370.753906 462.214844 377.742188 \"/>\n",
       "<path style=\" stroke:none;fill-rule:nonzero;fill:rgb(26.666667%,26.666667%,26.666667%);fill-opacity:1;\" d=\"M 473.410156 368.902344 L 465.085938 381.382812 L 459.339844 374.105469 L 473.410156 368.902344 \"/>\n",
       "<path style=\"fill:none;stroke-width:1;stroke-linecap:butt;stroke-linejoin:miter;stroke:rgb(26.666667%,26.666667%,26.666667%);stroke-opacity:1;stroke-miterlimit:10;\" d=\"M 250.222656 375.007812 C 242.609375 378.894531 242.933594 392.679688 241.199219 393.4375 \"/>\n",
       "<path style=\" stroke:none;fill-rule:nonzero;fill:rgb(26.666667%,26.666667%,26.666667%);fill-opacity:1;\" d=\"M 228.125 399.140625 L 239.34375 389.1875 L 243.054688 397.683594 L 228.125 399.140625 \"/>\n",
       "<path style=\"fill:none;stroke-width:1;stroke-linecap:butt;stroke-linejoin:miter;stroke:rgb(26.666667%,26.666667%,26.666667%);stroke-opacity:1;stroke-miterlimit:10;\" d=\"M 336.035156 427.070312 L 354.9375 427.535156 \"/>\n",
       "<path style=\" stroke:none;fill-rule:nonzero;fill:rgb(26.666667%,26.666667%,26.666667%);fill-opacity:1;\" d=\"M 369.199219 427.886719 L 354.824219 432.167969 L 355.054688 422.902344 L 369.199219 427.886719 \"/>\n",
       "<path style=\"fill:none;stroke-width:1;stroke-linecap:butt;stroke-linejoin:miter;stroke:rgb(26.666667%,26.666667%,26.666667%);stroke-opacity:1;stroke-miterlimit:10;\" d=\"M 250.222656 375.007812 C 260.113281 356.769531 256.855469 324.992188 242.953125 325.75 \"/>\n",
       "<path style=\" stroke:none;fill-rule:nonzero;fill:rgb(26.666667%,26.666667%,26.666667%);fill-opacity:1;\" d=\"M 228.707031 326.523438 L 242.699219 321.121094 L 243.203125 330.378906 L 228.707031 326.523438 \"/>\n",
       "<path style=\"fill:none;stroke-width:1;stroke-linecap:butt;stroke-linejoin:miter;stroke:rgb(26.666667%,26.666667%,26.666667%);stroke-opacity:1;stroke-miterlimit:10;\" d=\"M 194.730469 300.25 C 212.195312 293.695312 239.03125 311.601562 237.699219 312.816406 \"/>\n",
       "<path style=\" stroke:none;fill-rule:nonzero;fill:rgb(26.666667%,26.666667%,26.666667%);fill-opacity:1;\" d=\"M 227.160156 322.433594 L 234.574219 309.394531 L 240.824219 316.242188 L 227.160156 322.433594 \"/>\n",
       "<path style=\"fill:none;stroke-width:1;stroke-linecap:butt;stroke-linejoin:miter;stroke:rgb(26.666667%,26.666667%,26.666667%);stroke-opacity:1;stroke-miterlimit:10;\" d=\"M 450.957031 189.734375 L 450.09375 209.828125 \"/>\n",
       "<path style=\" stroke:none;fill-rule:nonzero;fill:rgb(26.666667%,26.666667%,26.666667%);fill-opacity:1;\" d=\"M 449.480469 224.078125 L 445.460938 209.628906 L 454.722656 210.027344 L 449.480469 224.078125 \"/>\n",
       "<path style=\"fill:none;stroke-width:1;stroke-linecap:butt;stroke-linejoin:miter;stroke:rgb(26.666667%,26.666667%,26.666667%);stroke-opacity:1;stroke-miterlimit:10;\" d=\"M 336.035156 427.070312 C 335.746094 418.261719 330.269531 408.644531 322.804688 410.578125 \"/>\n",
       "<path style=\" stroke:none;fill-rule:nonzero;fill:rgb(26.666667%,26.666667%,26.666667%);fill-opacity:1;\" d=\"M 308.992188 414.152344 L 321.640625 406.089844 L 323.964844 415.0625 L 308.992188 414.152344 \"/>\n",
       "<path style=\"fill:none;stroke-width:1;stroke-linecap:butt;stroke-linejoin:miter;stroke:rgb(26.666667%,26.666667%,26.666667%);stroke-opacity:1;stroke-miterlimit:10;\" d=\"M 250.222656 375.007812 C 263.121094 389.109375 277.96875 391.570312 295.289062 383.507812 \"/>\n",
       "<path style=\" stroke:none;fill-rule:nonzero;fill:rgb(26.666667%,26.666667%,26.666667%);fill-opacity:1;\" d=\"M 282.355469 389.527344 L 293.332031 379.304688 L 297.242188 387.710938 L 282.355469 389.527344 \"/>\n",
       "<path style=\"fill:none;stroke-width:1;stroke-linecap:butt;stroke-linejoin:miter;stroke:rgb(26.666667%,26.666667%,26.666667%);stroke-opacity:1;stroke-miterlimit:10;\" d=\"M 178.132812 266.371094 C 185.171875 246.730469 209.003906 248.589844 219.933594 238.796875 \"/>\n",
       "<path style=\" stroke:none;fill-rule:nonzero;fill:rgb(26.666667%,26.666667%,26.666667%);fill-opacity:1;\" d=\"M 209.308594 248.316406 L 216.84375 235.34375 L 223.027344 242.25 L 209.308594 248.316406 \"/>\n",
       "<path style=\"fill:none;stroke-width:1;stroke-linecap:butt;stroke-linejoin:miter;stroke:rgb(26.666667%,26.666667%,26.666667%);stroke-opacity:1;stroke-miterlimit:10;\" d=\"M 113.125 404.308594 L 102.203125 393.679688 \"/>\n",
       "<path style=\" stroke:none;fill-rule:nonzero;fill:rgb(26.666667%,26.666667%,26.666667%);fill-opacity:1;\" d=\"M 91.980469 383.730469 L 105.4375 390.355469 L 98.972656 397 L 91.980469 383.730469 \"/>\n",
       "<path style=\"fill:none;stroke-width:1;stroke-linecap:butt;stroke-linejoin:miter;stroke:rgb(26.666667%,26.666667%,26.666667%);stroke-opacity:1;stroke-miterlimit:10;\" d=\"M 50.230469 438.507812 L 54.140625 444.328125 \"/>\n",
       "<path style=\" stroke:none;fill-rule:nonzero;fill:rgb(26.666667%,26.666667%,26.666667%);fill-opacity:1;\" d=\"M 62.09375 456.171875 L 50.292969 446.914062 L 57.988281 441.746094 L 62.09375 456.171875 \"/>\n",
       "<path style=\"fill:none;stroke-width:1;stroke-linecap:butt;stroke-linejoin:miter;stroke:rgb(26.666667%,26.666667%,26.666667%);stroke-opacity:1;stroke-miterlimit:10;\" d=\"M 336.035156 427.070312 C 351.453125 428.046875 362.746094 406.46875 367.046875 406.746094 \"/>\n",
       "<path style=\" stroke:none;fill-rule:nonzero;fill:rgb(26.666667%,26.666667%,26.666667%);fill-opacity:1;\" d=\"M 352.8125 405.828125 L 367.347656 402.121094 L 366.75 411.375 L 352.8125 405.828125 \"/>\n",
       "<path style=\"fill:none;stroke-width:1;stroke-linecap:butt;stroke-linejoin:miter;stroke:rgb(26.666667%,26.666667%,26.666667%);stroke-opacity:1;stroke-miterlimit:10;\" d=\"M 178.132812 266.371094 C 184.796875 275.65625 201.734375 281.46875 204.296875 274.605469 \"/>\n",
       "<path style=\" stroke:none;fill-rule:nonzero;fill:rgb(26.666667%,26.666667%,26.666667%);fill-opacity:1;\" d=\"M 199.308594 287.972656 L 199.953125 272.984375 L 208.636719 276.226562 L 199.308594 287.972656 \"/>\n",
       "<path style=\"fill:none;stroke-width:1;stroke-linecap:butt;stroke-linejoin:miter;stroke:rgb(26.666667%,26.666667%,26.666667%);stroke-opacity:1;stroke-miterlimit:10;\" d=\"M 194.730469 300.25 C 205.234375 289.738281 206.023438 264.523438 199.765625 264.941406 \"/>\n",
       "<path style=\" stroke:none;fill-rule:nonzero;fill:rgb(26.666667%,26.666667%,26.666667%);fill-opacity:1;\" d=\"M 185.53125 265.882812 L 199.457031 260.3125 L 200.070312 269.566406 L 185.53125 265.882812 \"/>\n",
       "<path style=\"fill:none;stroke-width:1;stroke-linecap:butt;stroke-linejoin:miter;stroke:rgb(26.666667%,26.666667%,26.666667%);stroke-opacity:1;stroke-miterlimit:10;\" d=\"M 382.953125 545.839844 L 363.246094 553.25 \"/>\n",
       "<path style=\" stroke:none;fill-rule:nonzero;fill:rgb(26.666667%,26.666667%,26.666667%);fill-opacity:1;\" d=\"M 349.894531 558.269531 L 361.617188 548.910156 L 364.878906 557.585938 L 349.894531 558.269531 \"/>\n",
       "<path style=\"fill:none;stroke-width:1;stroke-linecap:butt;stroke-linejoin:miter;stroke:rgb(26.666667%,26.666667%,26.666667%);stroke-opacity:1;stroke-miterlimit:10;\" d=\"M 288.765625 498.859375 C 306.371094 494.621094 314.21875 465.542969 316.46875 465.367188 \"/>\n",
       "<path style=\" stroke:none;fill-rule:nonzero;fill:rgb(26.666667%,26.666667%,26.666667%);fill-opacity:1;\" d=\"M 302.246094 466.472656 L 316.109375 460.746094 L 316.828125 469.988281 L 302.246094 466.472656 \"/>\n",
       "<path style=\"fill:none;stroke-width:1;stroke-linecap:butt;stroke-linejoin:miter;stroke:rgb(26.666667%,26.666667%,26.666667%);stroke-opacity:1;stroke-miterlimit:10;\" d=\"M 288.765625 498.859375 L 280.886719 511.75 \"/>\n",
       "<path style=\" stroke:none;fill-rule:nonzero;fill:rgb(26.666667%,26.666667%,26.666667%);fill-opacity:1;\" d=\"M 273.445312 523.921875 L 276.929688 509.335938 L 284.839844 514.167969 L 273.445312 523.921875 \"/>\n",
       "<path style=\"fill:none;stroke-width:1;stroke-linecap:butt;stroke-linejoin:miter;stroke:rgb(26.666667%,26.666667%,26.666667%);stroke-opacity:1;stroke-miterlimit:10;\" d=\"M 189.898438 222.527344 C 202.144531 220.433594 219.871094 231.34375 216.425781 236.144531 \"/>\n",
       "<path style=\" stroke:none;fill-rule:nonzero;fill:rgb(26.666667%,26.666667%,26.666667%);fill-opacity:1;\" d=\"M 208.113281 247.738281 L 212.660156 233.445312 L 220.191406 238.847656 L 208.113281 247.738281 \"/>\n",
       "<path style=\"fill:none;stroke-width:1;stroke-linecap:butt;stroke-linejoin:miter;stroke:rgb(26.666667%,26.666667%,26.666667%);stroke-opacity:1;stroke-miterlimit:10;\" d=\"M 404.589844 120.238281 L 415.757812 128.257812 \"/>\n",
       "<path style=\" stroke:none;fill-rule:nonzero;fill:rgb(26.666667%,26.666667%,26.666667%);fill-opacity:1;\" d=\"M 427.347656 136.574219 L 413.054688 132.019531 L 418.460938 124.492188 L 427.347656 136.574219 \"/>\n",
       "<path style=\"fill:none;stroke-width:1;stroke-linecap:butt;stroke-linejoin:miter;stroke:rgb(26.666667%,26.666667%,26.666667%);stroke-opacity:1;stroke-miterlimit:10;\" d=\"M 510.402344 362.507812 L 524.773438 379.472656 \"/>\n",
       "<path style=\" stroke:none;fill-rule:nonzero;fill:rgb(26.666667%,26.666667%,26.666667%);fill-opacity:1;\" d=\"M 533.992188 390.359375 L 521.234375 382.46875 L 528.308594 376.480469 L 533.992188 390.359375 \"/>\n",
       "<path style=\"fill:none;stroke-width:1;stroke-linecap:butt;stroke-linejoin:miter;stroke:rgb(26.666667%,26.666667%,26.666667%);stroke-opacity:1;stroke-miterlimit:10;\" d=\"M 413.398438 529.628906 L 467.121094 528.933594 \"/>\n",
       "<path style=\" stroke:none;fill-rule:nonzero;fill:rgb(26.666667%,26.666667%,26.666667%);fill-opacity:1;\" d=\"M 452.859375 529.117188 L 467.0625 524.296875 L 467.183594 533.566406 L 452.859375 529.117188 \"/>\n",
       "<path style=\"fill:none;stroke-width:1;stroke-linecap:butt;stroke-linejoin:miter;stroke:rgb(26.666667%,26.666667%,26.666667%);stroke-opacity:1;stroke-miterlimit:10;\" d=\"M 204.808594 252.34375 C 214.722656 259.046875 231.035156 260.339844 233.496094 250.9375 \"/>\n",
       "<path style=\" stroke:none;fill-rule:nonzero;fill:rgb(26.666667%,26.666667%,26.666667%);fill-opacity:1;\" d=\"M 237.101562 237.132812 L 237.980469 252.109375 L 229.011719 249.765625 L 237.101562 237.132812 \"/>\n",
       "<path style=\"fill:none;stroke-width:1;stroke-linecap:butt;stroke-linejoin:miter;stroke:rgb(26.666667%,26.666667%,26.666667%);stroke-opacity:1;stroke-miterlimit:10;\" d=\"M 239.40625 228.3125 C 247.226562 223.253906 257.453125 231.414062 261.707031 229.859375 \"/>\n",
       "<path style=\" stroke:none;fill-rule:nonzero;fill:rgb(26.666667%,26.666667%,26.666667%);fill-opacity:1;\" d=\"M 275.109375 224.964844 L 263.300781 234.214844 L 260.117188 225.507812 L 275.109375 224.964844 \"/>\n",
       "<path style=\"fill:none;stroke-width:1;stroke-linecap:butt;stroke-linejoin:miter;stroke:rgb(26.666667%,26.666667%,26.666667%);stroke-opacity:1;stroke-miterlimit:10;\" d=\"M 189.898438 222.527344 C 199.355469 216.894531 207.292969 224.195312 216.160156 225.332031 \"/>\n",
       "<path style=\" stroke:none;fill-rule:nonzero;fill:rgb(26.666667%,26.666667%,26.666667%);fill-opacity:1;\" d=\"M 230.308594 227.148438 L 215.570312 229.929688 L 216.75 220.734375 L 230.308594 227.148438 \"/>\n",
       "<path style=\"fill:none;stroke-width:1;stroke-linecap:butt;stroke-linejoin:miter;stroke:rgb(26.666667%,26.666667%,26.666667%);stroke-opacity:1;stroke-miterlimit:10;\" d=\"M 450.957031 189.734375 L 449.171875 180.46875 \"/>\n",
       "<path style=\" stroke:none;fill-rule:nonzero;fill:rgb(26.666667%,26.666667%,26.666667%);fill-opacity:1;\" d=\"M 446.472656 166.460938 L 453.722656 179.59375 L 444.617188 181.347656 L 446.472656 166.460938 \"/>\n",
       "<path style=\"fill:none;stroke-width:1;stroke-linecap:butt;stroke-linejoin:miter;stroke:rgb(26.666667%,26.666667%,26.666667%);stroke-opacity:1;stroke-miterlimit:10;\" d=\"M 301.550781 416.078125 L 297.34375 445.007812 \"/>\n",
       "<path style=\" stroke:none;fill-rule:nonzero;fill:rgb(26.666667%,26.666667%,26.666667%);fill-opacity:1;\" d=\"M 295.289062 459.125 L 292.757812 444.339844 L 301.929688 445.671875 L 295.289062 459.125 \"/>\n",
       "<path style=\"fill:none;stroke-width:1;stroke-linecap:butt;stroke-linejoin:miter;stroke:rgb(26.666667%,26.666667%,26.666667%);stroke-opacity:1;stroke-miterlimit:10;\" d=\"M 239.40625 228.3125 L 247.234375 234.132812 \"/>\n",
       "<path style=\" stroke:none;fill-rule:nonzero;fill:rgb(26.666667%,26.666667%,26.666667%);fill-opacity:1;\" d=\"M 258.683594 242.640625 L 244.46875 237.851562 L 250 230.410156 L 258.683594 242.640625 \"/>\n",
       "<path style=\"fill:none;stroke-width:1;stroke-linecap:butt;stroke-linejoin:miter;stroke:rgb(26.666667%,26.666667%,26.666667%);stroke-opacity:1;stroke-miterlimit:10;\" d=\"M 142.550781 286.527344 L 119.433594 282.597656 \"/>\n",
       "<path style=\" stroke:none;fill-rule:nonzero;fill:rgb(26.666667%,26.666667%,26.666667%);fill-opacity:1;\" d=\"M 105.367188 280.207031 L 120.210938 278.027344 L 118.65625 287.167969 L 105.367188 280.207031 \"/>\n",
       "<path style=\"fill:none;stroke-width:1;stroke-linecap:butt;stroke-linejoin:miter;stroke:rgb(26.666667%,26.666667%,26.666667%);stroke-opacity:1;stroke-miterlimit:10;\" d=\"M 222.292969 326.875 C 226.644531 344.753906 255.039062 359.347656 256.394531 354.941406 \"/>\n",
       "<path style=\" stroke:none;fill-rule:nonzero;fill:rgb(26.666667%,26.666667%,26.666667%);fill-opacity:1;\" d=\"M 252.199219 368.578125 L 251.960938 353.578125 L 260.824219 356.304688 L 252.199219 368.578125 \"/>\n",
       "<path style=\"fill:none;stroke-width:1;stroke-linecap:butt;stroke-linejoin:miter;stroke:rgb(26.666667%,26.666667%,26.666667%);stroke-opacity:1;stroke-miterlimit:10;\" d=\"M 285.628906 221.121094 C 283.402344 229.902344 287.410156 242.539062 293.996094 241.1875 \"/>\n",
       "<path style=\" stroke:none;fill-rule:nonzero;fill:rgb(26.666667%,26.666667%,26.666667%);fill-opacity:1;\" d=\"M 307.972656 238.324219 L 294.925781 245.730469 L 293.066406 236.648438 L 307.972656 238.324219 \"/>\n",
       "<path style=\"fill:none;stroke-width:1;stroke-linecap:butt;stroke-linejoin:miter;stroke:rgb(26.666667%,26.666667%,26.666667%);stroke-opacity:1;stroke-miterlimit:10;\" d=\"M 373.375 427.992188 L 362.4375 418.617188 \"/>\n",
       "<path style=\" stroke:none;fill-rule:nonzero;fill:rgb(26.666667%,26.666667%,26.666667%);fill-opacity:1;\" d=\"M 351.605469 409.332031 L 365.453125 415.097656 L 359.421875 422.132812 L 351.605469 409.332031 \"/>\n",
       "<path style=\"fill:none;stroke-width:1;stroke-linecap:butt;stroke-linejoin:miter;stroke:rgb(26.666667%,26.666667%,26.666667%);stroke-opacity:1;stroke-miterlimit:10;\" d=\"M 239.40625 228.3125 L 230.917969 247.554688 \"/>\n",
       "<path style=\" stroke:none;fill-rule:nonzero;fill:rgb(26.666667%,26.666667%,26.666667%);fill-opacity:1;\" d=\"M 225.160156 260.605469 L 226.679688 245.683594 L 235.160156 249.425781 L 225.160156 260.605469 \"/>\n",
       "<path style=\"fill:none;stroke-width:1;stroke-linecap:butt;stroke-linejoin:miter;stroke:rgb(26.666667%,26.666667%,26.666667%);stroke-opacity:1;stroke-miterlimit:10;\" d=\"M 523.605469 265.628906 L 518.992188 244.1875 \"/>\n",
       "<path style=\" stroke:none;fill-rule:nonzero;fill:rgb(26.666667%,26.666667%,26.666667%);fill-opacity:1;\" d=\"M 515.992188 230.242188 L 523.523438 243.214844 L 514.460938 245.164062 L 515.992188 230.242188 \"/>\n",
       "<path style=\"fill:none;stroke-width:1;stroke-linecap:butt;stroke-linejoin:miter;stroke:rgb(26.666667%,26.666667%,26.666667%);stroke-opacity:1;stroke-miterlimit:10;\" d=\"M 239.40625 228.3125 L 265.859375 256.980469 \"/>\n",
       "<path style=\" stroke:none;fill-rule:nonzero;fill:rgb(26.666667%,26.666667%,26.666667%);fill-opacity:1;\" d=\"M 275.53125 267.464844 L 262.453125 260.125 L 269.265625 253.835938 L 275.53125 267.464844 \"/>\n",
       "<path style=\"fill:none;stroke-width:1;stroke-linecap:butt;stroke-linejoin:miter;stroke:rgb(26.666667%,26.666667%,26.666667%);stroke-opacity:1;stroke-miterlimit:10;\" d=\"M 506.214844 323.382812 L 496.21875 339.632812 \"/>\n",
       "<path style=\" stroke:none;fill-rule:nonzero;fill:rgb(26.666667%,26.666667%,26.666667%);fill-opacity:1;\" d=\"M 488.742188 351.785156 L 492.269531 337.207031 L 500.167969 342.0625 L 488.742188 351.785156 \"/>\n",
       "<path style=\"fill:none;stroke-width:1;stroke-linecap:butt;stroke-linejoin:miter;stroke:rgb(26.666667%,26.666667%,26.666667%);stroke-opacity:1;stroke-miterlimit:10;\" d=\"M 508.332031 443.550781 L 507.121094 459.269531 \"/>\n",
       "<path style=\" stroke:none;fill-rule:nonzero;fill:rgb(26.666667%,26.666667%,26.666667%);fill-opacity:1;\" d=\"M 506.027344 473.492188 L 502.5 458.910156 L 511.746094 459.625 L 506.027344 473.492188 \"/>\n",
       "<path style=\"fill:none;stroke-width:1;stroke-linecap:butt;stroke-linejoin:miter;stroke:rgb(26.666667%,26.666667%,26.666667%);stroke-opacity:1;stroke-miterlimit:10;\" d=\"M 352.363281 83.910156 L 342.234375 68.851562 \"/>\n",
       "<path style=\" stroke:none;fill-rule:nonzero;fill:rgb(26.666667%,26.666667%,26.666667%);fill-opacity:1;\" d=\"M 334.273438 57.015625 L 346.082031 66.265625 L 338.386719 71.4375 L 334.273438 57.015625 \"/>\n",
       "<path style=\"fill:none;stroke-width:1;stroke-linecap:butt;stroke-linejoin:miter;stroke:rgb(26.666667%,26.666667%,26.666667%);stroke-opacity:1;stroke-miterlimit:10;\" d=\"M 189.898438 222.527344 L 157.648438 196.703125 \"/>\n",
       "<path style=\" stroke:none;fill-rule:nonzero;fill:rgb(26.666667%,26.666667%,26.666667%);fill-opacity:1;\" d=\"M 146.511719 187.785156 L 160.546875 193.085938 L 154.75 200.320312 L 146.511719 187.785156 \"/>\n",
       "<path style=\"fill:none;stroke-width:1;stroke-linecap:butt;stroke-linejoin:miter;stroke:rgb(26.666667%,26.666667%,26.666667%);stroke-opacity:1;stroke-miterlimit:10;\" d=\"M 21.726562 252.0625 L 24.753906 246.046875 \"/>\n",
       "<path style=\" stroke:none;fill-rule:nonzero;fill:rgb(26.666667%,26.666667%,26.666667%);fill-opacity:1;\" d=\"M 31.171875 233.304688 L 28.894531 248.132812 L 20.617188 243.960938 L 31.171875 233.304688 \"/>\n",
       "<path style=\"fill:none;stroke-width:1;stroke-linecap:butt;stroke-linejoin:miter;stroke:rgb(26.666667%,26.666667%,26.666667%);stroke-opacity:1;stroke-miterlimit:10;\" d=\"M 523.605469 265.628906 L 537.003906 240.042969 \"/>\n",
       "<path style=\" stroke:none;fill-rule:nonzero;fill:rgb(26.666667%,26.666667%,26.666667%);fill-opacity:1;\" d=\"M 543.621094 227.40625 L 541.109375 242.191406 L 532.898438 237.894531 L 543.621094 227.40625 \"/>\n",
       "<path style=\"fill:none;stroke-width:1;stroke-linecap:butt;stroke-linejoin:miter;stroke:rgb(26.666667%,26.666667%,26.666667%);stroke-opacity:1;stroke-miterlimit:10;\" d=\"M 142.550781 286.527344 L 199.605469 273.425781 \"/>\n",
       "<path style=\" stroke:none;fill-rule:nonzero;fill:rgb(26.666667%,26.666667%,26.666667%);fill-opacity:1;\" d=\"M 213.507812 270.234375 L 200.640625 277.945312 L 198.566406 268.90625 L 213.507812 270.234375 \"/>\n",
       "<path style=\"fill:none;stroke-width:1;stroke-linecap:butt;stroke-linejoin:miter;stroke:rgb(26.666667%,26.666667%,26.666667%);stroke-opacity:1;stroke-miterlimit:10;\" d=\"M 142.550781 286.527344 C 135.578125 286.527344 133.078125 295.097656 129.164062 296.566406 \"/>\n",
       "<path style=\" stroke:none;fill-rule:nonzero;fill:rgb(26.666667%,26.666667%,26.666667%);fill-opacity:1;\" d=\"M 115.808594 301.578125 L 127.539062 292.226562 L 130.792969 300.90625 L 115.808594 301.578125 \"/>\n",
       "<path style=\"fill:none;stroke-width:1;stroke-linecap:butt;stroke-linejoin:miter;stroke:rgb(26.666667%,26.666667%,26.666667%);stroke-opacity:1;stroke-miterlimit:10;\" d=\"M 204.808594 252.34375 C 203.257812 255.609375 199.683594 255.03125 197.128906 256.375 \"/>\n",
       "<path style=\" stroke:none;fill-rule:nonzero;fill:rgb(26.666667%,26.666667%,26.666667%);fill-opacity:1;\" d=\"M 184.503906 263.019531 L 194.96875 252.273438 L 199.285156 260.476562 L 184.503906 263.019531 \"/>\n",
       "<path style=\"fill:none;stroke-width:1;stroke-linecap:butt;stroke-linejoin:miter;stroke:rgb(26.666667%,26.666667%,26.666667%);stroke-opacity:1;stroke-miterlimit:10;\" d=\"M 205.148438 537.085938 L 215.539062 551.65625 \"/>\n",
       "<path style=\" stroke:none;fill-rule:nonzero;fill:rgb(26.666667%,26.666667%,26.666667%);fill-opacity:1;\" d=\"M 223.824219 563.269531 L 211.765625 554.347656 L 219.3125 548.964844 L 223.824219 563.269531 \"/>\n",
       "<path style=\"fill:none;stroke-width:1;stroke-linecap:butt;stroke-linejoin:miter;stroke:rgb(26.666667%,26.666667%,26.666667%);stroke-opacity:1;stroke-miterlimit:10;\" d=\"M 294.128906 467.101562 C 292 478.238281 299.359375 494.382812 306.074219 491.546875 \"/>\n",
       "<path style=\" stroke:none;fill-rule:nonzero;fill:rgb(26.666667%,26.666667%,26.666667%);fill-opacity:1;\" d=\"M 292.933594 497.101562 L 304.269531 487.277344 L 307.878906 495.816406 L 292.933594 497.101562 \"/>\n",
       "<path style=\"fill:none;stroke-width:1;stroke-linecap:butt;stroke-linejoin:miter;stroke:rgb(26.666667%,26.666667%,26.666667%);stroke-opacity:1;stroke-miterlimit:10;\" d=\"M 113.125 404.308594 L 127.808594 422.046875 \"/>\n",
       "<path style=\" stroke:none;fill-rule:nonzero;fill:rgb(26.666667%,26.666667%,26.666667%);fill-opacity:1;\" d=\"M 136.90625 433.039062 L 124.238281 425.003906 L 131.378906 419.09375 L 136.90625 433.039062 \"/>\n",
       "<path style=\"fill:none;stroke-width:1;stroke-linecap:butt;stroke-linejoin:miter;stroke:rgb(26.666667%,26.666667%,26.666667%);stroke-opacity:1;stroke-miterlimit:10;\" d=\"M 285.628906 221.121094 C 283.871094 244.75 263.71875 250.304688 248.230469 263.957031 \"/>\n",
       "<path style=\" stroke:none;fill-rule:nonzero;fill:rgb(26.666667%,26.666667%,26.666667%);fill-opacity:1;\" d=\"M 258.933594 254.523438 L 251.296875 267.433594 L 245.164062 260.476562 L 258.933594 254.523438 \"/>\n",
       "<path style=\"fill:none;stroke-width:1;stroke-linecap:butt;stroke-linejoin:miter;stroke:rgb(26.666667%,26.666667%,26.666667%);stroke-opacity:1;stroke-miterlimit:10;\" d=\"M 276.164062 392.410156 C 279.804688 383.957031 276.710938 369.824219 270.984375 370.945312 \"/>\n",
       "<path style=\" stroke:none;fill-rule:nonzero;fill:rgb(26.666667%,26.666667%,26.666667%);fill-opacity:1;\" d=\"M 256.984375 373.683594 L 270.09375 366.394531 L 271.875 375.492188 L 256.984375 373.683594 \"/>\n",
       "<path style=\"fill:none;stroke-width:1;stroke-linecap:butt;stroke-linejoin:miter;stroke:rgb(26.666667%,26.666667%,26.666667%);stroke-opacity:1;stroke-miterlimit:10;\" d=\"M 160.519531 71.539062 L 177.722656 63.949219 \"/>\n",
       "<path style=\" stroke:none;fill-rule:nonzero;fill:rgb(26.666667%,26.666667%,26.666667%);fill-opacity:1;\" d=\"M 190.777344 58.191406 L 179.59375 68.191406 L 175.851562 59.707031 L 190.777344 58.191406 \"/>\n",
       "<path style=\"fill:none;stroke-width:1;stroke-linecap:butt;stroke-linejoin:miter;stroke:rgb(26.666667%,26.666667%,26.666667%);stroke-opacity:1;stroke-miterlimit:10;\" d=\"M 301.550781 416.078125 L 327.40625 410.050781 \"/>\n",
       "<path style=\" stroke:none;fill-rule:nonzero;fill:rgb(26.666667%,26.666667%,26.666667%);fill-opacity:1;\" d=\"M 341.296875 406.8125 L 328.457031 414.5625 L 326.351562 405.535156 L 341.296875 406.8125 \"/>\n",
       "<path style=\"fill:none;stroke-width:1;stroke-linecap:butt;stroke-linejoin:miter;stroke:rgb(26.666667%,26.666667%,26.666667%);stroke-opacity:1;stroke-miterlimit:10;\" d=\"M 239.40625 228.3125 L 220.585938 203.988281 \"/>\n",
       "<path style=\" stroke:none;fill-rule:nonzero;fill:rgb(26.666667%,26.666667%,26.666667%);fill-opacity:1;\" d=\"M 211.855469 192.707031 L 224.25 201.152344 L 216.917969 206.824219 L 211.855469 192.707031 \"/>\n",
       "<path style=\"fill:none;stroke-width:1;stroke-linecap:butt;stroke-linejoin:miter;stroke:rgb(26.666667%,26.666667%,26.666667%);stroke-opacity:1;stroke-miterlimit:10;\" d=\"M 160.519531 71.539062 L 143.6875 79.457031 \"/>\n",
       "<path style=\" stroke:none;fill-rule:nonzero;fill:rgb(26.666667%,26.666667%,26.666667%);fill-opacity:1;\" d=\"M 130.78125 85.53125 L 141.714844 75.261719 L 145.664062 83.652344 L 130.78125 85.53125 \"/>\n",
       "<path style=\"fill:none;stroke-width:1;stroke-linecap:butt;stroke-linejoin:miter;stroke:rgb(26.666667%,26.666667%,26.666667%);stroke-opacity:1;stroke-miterlimit:10;\" d=\"M 313.917969 237.109375 L 348.121094 206.097656 \"/>\n",
       "<path style=\" stroke:none;fill-rule:nonzero;fill:rgb(26.666667%,26.666667%,26.666667%);fill-opacity:1;\" d=\"M 337.554688 215.679688 L 345.007812 202.660156 L 351.234375 209.53125 L 337.554688 215.679688 \"/>\n",
       "<path style=\"fill:none;stroke-width:1;stroke-linecap:butt;stroke-linejoin:miter;stroke:rgb(26.666667%,26.666667%,26.666667%);stroke-opacity:1;stroke-miterlimit:10;\" d=\"M 144.265625 185.984375 L 128.609375 167.390625 \"/>\n",
       "<path style=\" stroke:none;fill-rule:nonzero;fill:rgb(26.666667%,26.666667%,26.666667%);fill-opacity:1;\" d=\"M 119.417969 156.476562 L 132.152344 164.402344 L 125.0625 170.375 L 119.417969 156.476562 \"/>\n",
       "<path style=\"fill:none;stroke-width:1;stroke-linecap:butt;stroke-linejoin:miter;stroke:rgb(26.666667%,26.666667%,26.666667%);stroke-opacity:1;stroke-miterlimit:10;\" d=\"M 352.363281 83.910156 L 317.007812 72.941406 \"/>\n",
       "<path style=\" stroke:none;fill-rule:nonzero;fill:rgb(26.666667%,26.666667%,26.666667%);fill-opacity:1;\" d=\"M 303.382812 68.710938 L 318.382812 68.511719 L 315.636719 77.367188 L 303.382812 68.710938 \"/>\n",
       "<path style=\"fill:none;stroke-width:1;stroke-linecap:butt;stroke-linejoin:miter;stroke:rgb(26.666667%,26.666667%,26.666667%);stroke-opacity:1;stroke-miterlimit:10;\" d=\"M 285.628906 221.121094 L 351.988281 214.863281 \"/>\n",
       "<path style=\" stroke:none;fill-rule:nonzero;fill:rgb(26.666667%,26.666667%,26.666667%);fill-opacity:1;\" d=\"M 337.785156 216.203125 L 351.550781 210.25 L 352.421875 219.476562 L 337.785156 216.203125 \"/>\n",
       "<path style=\"fill:none;stroke-width:1;stroke-linecap:butt;stroke-linejoin:miter;stroke:rgb(26.666667%,26.666667%,26.666667%);stroke-opacity:1;stroke-miterlimit:10;\" d=\"M 382.953125 545.839844 L 386.496094 560.71875 \"/>\n",
       "<path style=\" stroke:none;fill-rule:nonzero;fill:rgb(26.666667%,26.666667%,26.666667%);fill-opacity:1;\" d=\"M 389.796875 574.597656 L 381.984375 561.792969 L 391.003906 559.644531 L 389.796875 574.597656 \"/>\n",
       "<path style=\"fill:none;stroke-width:1;stroke-linecap:butt;stroke-linejoin:miter;stroke:rgb(26.666667%,26.666667%,26.666667%);stroke-opacity:1;stroke-miterlimit:10;\" d=\"M 482.75 361.527344 L 463.96875 371.757812 \"/>\n",
       "<path style=\" stroke:none;fill-rule:nonzero;fill:rgb(26.666667%,26.666667%,26.666667%);fill-opacity:1;\" d=\"M 451.445312 378.585938 L 461.753906 367.6875 L 466.1875 375.828125 L 451.445312 378.585938 \"/>\n",
       "<path style=\"fill:none;stroke-width:1;stroke-linecap:butt;stroke-linejoin:miter;stroke:rgb(26.666667%,26.666667%,26.666667%);stroke-opacity:1;stroke-miterlimit:10;\" d=\"M 194.730469 300.25 L 200.671875 272.003906 \"/>\n",
       "<path style=\" stroke:none;fill-rule:nonzero;fill:rgb(26.666667%,26.666667%,26.666667%);fill-opacity:1;\" d=\"M 203.609375 258.042969 L 205.210938 272.957031 L 196.136719 271.046875 L 203.609375 258.042969 \"/>\n",
       "<path style=\"fill:none;stroke-width:1;stroke-linecap:butt;stroke-linejoin:miter;stroke:rgb(26.666667%,26.666667%,26.666667%);stroke-opacity:1;stroke-miterlimit:10;\" d=\"M 33.191406 408.386719 L 37.003906 415.128906 \"/>\n",
       "<path style=\" stroke:none;fill-rule:nonzero;fill:rgb(26.666667%,26.666667%,26.666667%);fill-opacity:1;\" d=\"M 44.027344 427.546875 L 32.96875 417.410156 L 41.039062 412.847656 L 44.027344 427.546875 \"/>\n",
       "<path style=\"fill:none;stroke-width:1;stroke-linecap:butt;stroke-linejoin:miter;stroke:rgb(26.666667%,26.666667%,26.666667%);stroke-opacity:1;stroke-miterlimit:10;\" d=\"M 205.148438 537.085938 L 196.777344 536.484375 \"/>\n",
       "<path style=\" stroke:none;fill-rule:nonzero;fill:rgb(26.666667%,26.666667%,26.666667%);fill-opacity:1;\" d=\"M 182.546875 535.460938 L 197.109375 531.863281 L 196.445312 541.109375 L 182.546875 535.460938 \"/>\n",
       "<path style=\"fill:none;stroke-width:1;stroke-linecap:butt;stroke-linejoin:miter;stroke:rgb(26.666667%,26.666667%,26.666667%);stroke-opacity:1;stroke-miterlimit:10;\" d=\"M 510.402344 362.507812 C 496.003906 360.675781 480.117188 342.023438 485.394531 338.257812 \"/>\n",
       "<path style=\" stroke:none;fill-rule:nonzero;fill:rgb(26.666667%,26.666667%,26.666667%);fill-opacity:1;\" d=\"M 497.003906 329.964844 L 488.089844 342.027344 L 482.699219 334.484375 L 497.003906 329.964844 \"/>\n",
       "<path style=\"fill:none;stroke-width:1;stroke-linecap:butt;stroke-linejoin:miter;stroke:rgb(26.666667%,26.666667%,26.666667%);stroke-opacity:1;stroke-miterlimit:10;\" d=\"M 514.144531 221.667969 L 523.101562 204.839844 \"/>\n",
       "<path style=\" stroke:none;fill-rule:nonzero;fill:rgb(26.666667%,26.666667%,26.666667%);fill-opacity:1;\" d=\"M 529.804688 192.246094 L 527.191406 207.019531 L 519.007812 202.664062 L 529.804688 192.246094 \"/>\n",
       "<path style=\"fill:none;stroke-width:1;stroke-linecap:butt;stroke-linejoin:miter;stroke:rgb(26.666667%,26.666667%,26.666667%);stroke-opacity:1;stroke-miterlimit:10;\" d=\"M 382.953125 545.839844 C 405.003906 553.730469 422.585938 529.472656 436.648438 529.238281 \"/>\n",
       "<path style=\" stroke:none;fill-rule:nonzero;fill:rgb(26.666667%,26.666667%,26.666667%);fill-opacity:1;\" d=\"M 422.382812 529.476562 L 436.570312 524.601562 L 436.726562 533.871094 L 422.382812 529.476562 \"/>\n",
       "<path style=\"fill:none;stroke-width:1;stroke-linecap:butt;stroke-linejoin:miter;stroke:rgb(26.666667%,26.666667%,26.666667%);stroke-opacity:1;stroke-miterlimit:10;\" d=\"M 372.503906 103.523438 C 357.269531 113.167969 332.792969 97.691406 329.367188 100.105469 \"/>\n",
       "<path style=\" stroke:none;fill-rule:nonzero;fill:rgb(26.666667%,26.666667%,26.666667%);fill-opacity:1;\" d=\"M 341.03125 91.890625 L 332.035156 103.894531 L 326.699219 96.3125 L 341.03125 91.890625 \"/>\n",
       "<path style=\"fill:none;stroke-width:1;stroke-linecap:butt;stroke-linejoin:miter;stroke:rgb(26.666667%,26.666667%,26.666667%);stroke-opacity:1;stroke-miterlimit:10;\" d=\"M 506.214844 323.382812 C 513.738281 344.175781 509.660156 362.945312 490.710938 374.140625 \"/>\n",
       "<path style=\" stroke:none;fill-rule:nonzero;fill:rgb(26.666667%,26.666667%,26.666667%);fill-opacity:1;\" d=\"M 502.992188 366.882812 L 493.070312 378.128906 L 488.355469 370.148438 L 502.992188 366.882812 \"/>\n",
       "<path style=\"fill:none;stroke-width:1;stroke-linecap:butt;stroke-linejoin:miter;stroke:rgb(26.666667%,26.666667%,26.666667%);stroke-opacity:1;stroke-miterlimit:10;\" d=\"M 149.679688 557.714844 L 154.882812 552.386719 \"/>\n",
       "<path style=\" stroke:none;fill-rule:nonzero;fill:rgb(26.666667%,26.666667%,26.666667%);fill-opacity:1;\" d=\"M 164.851562 542.179688 L 158.199219 555.625 L 151.566406 549.148438 L 164.851562 542.179688 \"/>\n",
       "<path style=\"fill:none;stroke-width:1;stroke-linecap:butt;stroke-linejoin:miter;stroke:rgb(26.666667%,26.666667%,26.666667%);stroke-opacity:1;stroke-miterlimit:10;\" d=\"M 239.40625 228.3125 C 226.613281 233.363281 214.019531 218.519531 207.570312 219.589844 \"/>\n",
       "<path style=\" stroke:none;fill-rule:nonzero;fill:rgb(26.666667%,26.666667%,26.666667%);fill-opacity:1;\" d=\"M 193.5 221.929688 L 206.8125 215.019531 L 208.332031 224.164062 L 193.5 221.929688 \"/>\n",
       "<path style=\"fill:none;stroke-width:1;stroke-linecap:butt;stroke-linejoin:miter;stroke:rgb(26.666667%,26.666667%,26.666667%);stroke-opacity:1;stroke-miterlimit:10;\" d=\"M 312.835938 580 L 325.476562 572.019531 \"/>\n",
       "<path style=\" stroke:none;fill-rule:nonzero;fill:rgb(26.666667%,26.666667%,26.666667%);fill-opacity:1;\" d=\"M 337.539062 564.40625 L 327.949219 575.941406 L 323 568.101562 L 337.539062 564.40625 \"/>\n",
       "<path style=\"fill:none;stroke-width:1;stroke-linecap:butt;stroke-linejoin:miter;stroke:rgb(26.666667%,26.666667%,26.666667%);stroke-opacity:1;stroke-miterlimit:10;\" d=\"M 438.25 417.734375 L 441.5 402.054688 \"/>\n",
       "<path style=\" stroke:none;fill-rule:nonzero;fill:rgb(26.666667%,26.666667%,26.666667%);fill-opacity:1;\" d=\"M 444.394531 388.085938 L 446.039062 402.996094 L 436.960938 401.117188 L 444.394531 388.085938 \"/>\n",
       "<path style=\"fill:none;stroke-width:1;stroke-linecap:butt;stroke-linejoin:miter;stroke:rgb(26.666667%,26.666667%,26.666667%);stroke-opacity:1;stroke-miterlimit:10;\" d=\"M 204.808594 252.34375 C 196.105469 239.753906 193.78125 220.886719 206.230469 215.636719 \"/>\n",
       "<path style=\" stroke:none;fill-rule:nonzero;fill:rgb(26.666667%,26.666667%,26.666667%);fill-opacity:1;\" d=\"M 193.085938 221.179688 L 204.429688 211.363281 L 208.03125 219.90625 L 193.085938 221.179688 \"/>\n",
       "<path style=\"fill:none;stroke-width:1;stroke-linecap:butt;stroke-linejoin:miter;stroke:rgb(26.666667%,26.666667%,26.666667%);stroke-opacity:1;stroke-miterlimit:10;\" d=\"M 352.363281 83.910156 L 390.277344 77.25 \"/>\n",
       "<path style=\" stroke:none;fill-rule:nonzero;fill:rgb(26.666667%,26.666667%,26.666667%);fill-opacity:1;\" d=\"M 404.328125 74.78125 L 391.082031 81.8125 L 389.476562 72.683594 L 404.328125 74.78125 \"/>\n",
       "<path style=\"fill:none;stroke-width:1;stroke-linecap:butt;stroke-linejoin:miter;stroke:rgb(26.666667%,26.666667%,26.666667%);stroke-opacity:1;stroke-miterlimit:10;\" d=\"M 266.132812 248.179688 C 255.5 242.46875 246.007812 243.96875 237.492188 252.523438 \"/>\n",
       "<path style=\" stroke:none;fill-rule:nonzero;fill:rgb(26.666667%,26.666667%,26.666667%);fill-opacity:1;\" d=\"M 227.429688 262.632812 L 234.207031 249.253906 L 240.777344 255.792969 L 227.429688 262.632812 \"/>\n",
       "<path style=\"fill:none;stroke-width:1;stroke-linecap:butt;stroke-linejoin:miter;stroke:rgb(26.666667%,26.666667%,26.666667%);stroke-opacity:1;stroke-miterlimit:10;\" d=\"M 482.75 361.527344 C 488.371094 363.546875 493.4375 371.933594 490.628906 373.496094 \"/>\n",
       "<path style=\" stroke:none;fill-rule:nonzero;fill:rgb(26.666667%,26.666667%,26.666667%);fill-opacity:1;\" d=\"M 503.097656 366.566406 L 492.878906 377.546875 L 488.375 369.445312 L 503.097656 366.566406 \"/>\n",
       "<path style=\"fill:none;stroke-width:1;stroke-linecap:butt;stroke-linejoin:miter;stroke:rgb(26.666667%,26.666667%,26.666667%);stroke-opacity:1;stroke-miterlimit:10;\" d=\"M 266.132812 248.179688 C 261.738281 244.121094 259.222656 236.59375 263.542969 234.066406 \"/>\n",
       "<path style=\" stroke:none;fill-rule:nonzero;fill:rgb(26.666667%,26.666667%,26.666667%);fill-opacity:1;\" d=\"M 275.847656 226.851562 L 265.886719 238.0625 L 261.199219 230.066406 L 275.847656 226.851562 \"/>\n",
       "<path style=\"fill:none;stroke-width:1;stroke-linecap:butt;stroke-linejoin:miter;stroke:rgb(26.666667%,26.666667%,26.666667%);stroke-opacity:1;stroke-miterlimit:10;\" d=\"M 352.363281 83.910156 C 361.066406 92.433594 365.757812 107.511719 356.796875 112.808594 \"/>\n",
       "<path style=\" stroke:none;fill-rule:nonzero;fill:rgb(26.666667%,26.666667%,26.666667%);fill-opacity:1;\" d=\"M 369.078125 105.550781 L 359.15625 116.796875 L 354.4375 108.816406 L 369.078125 105.550781 \"/>\n",
       "<path style=\"fill:none;stroke-width:1;stroke-linecap:butt;stroke-linejoin:miter;stroke:rgb(26.666667%,26.666667%,26.666667%);stroke-opacity:1;stroke-miterlimit:10;\" d=\"M 221.75 268.339844 C 232.410156 276.207031 246.914062 278.589844 253.550781 268.089844 \"/>\n",
       "<path style=\" stroke:none;fill-rule:nonzero;fill:rgb(26.666667%,26.666667%,26.666667%);fill-opacity:1;\" d=\"M 261.171875 256.03125 L 257.46875 270.566406 L 249.628906 265.613281 L 261.171875 256.03125 \"/>\n",
       "<path style=\"fill:none;stroke-width:1;stroke-linecap:butt;stroke-linejoin:miter;stroke:rgb(26.666667%,26.666667%,26.666667%);stroke-opacity:1;stroke-miterlimit:10;\" d=\"M 225.675781 400.210938 C 247.160156 403.265625 262.496094 375.082031 271.324219 375.136719 \"/>\n",
       "<path style=\" stroke:none;fill-rule:nonzero;fill:rgb(26.666667%,26.666667%,26.666667%);fill-opacity:1;\" d=\"M 257.058594 375.050781 L 271.351562 370.503906 L 271.296875 379.773438 L 257.058594 375.050781 \"/>\n",
       "<path style=\"fill:none;stroke-width:1;stroke-linecap:butt;stroke-linejoin:miter;stroke:rgb(26.666667%,26.666667%,26.666667%);stroke-opacity:1;stroke-miterlimit:10;\" d=\"M 316.1875 20 L 319.007812 26.476562 \"/>\n",
       "<path style=\" stroke:none;fill-rule:nonzero;fill:rgb(26.666667%,26.666667%,26.666667%);fill-opacity:1;\" d=\"M 324.703125 39.558594 L 314.757812 28.328125 L 323.257812 24.628906 L 324.703125 39.558594 \"/>\n",
       "<path style=\"fill:none;stroke-width:1;stroke-linecap:butt;stroke-linejoin:miter;stroke:rgb(26.666667%,26.666667%,26.666667%);stroke-opacity:1;stroke-miterlimit:10;\" d=\"M 276.164062 392.410156 L 285.539062 401.148438 \"/>\n",
       "<path style=\" stroke:none;fill-rule:nonzero;fill:rgb(26.666667%,26.666667%,26.666667%);fill-opacity:1;\" d=\"M 295.972656 410.875 L 282.378906 404.539062 L 288.699219 397.757812 L 295.972656 410.875 \"/>\n",
       "<path style=\"fill:none;stroke-width:1;stroke-linecap:butt;stroke-linejoin:miter;stroke:rgb(26.666667%,26.666667%,26.666667%);stroke-opacity:1;stroke-miterlimit:10;\" d=\"M 352.292969 39.007812 L 351.128906 39.484375 \"/>\n",
       "<path style=\" stroke:none;fill-rule:nonzero;fill:rgb(26.666667%,26.666667%,26.666667%);fill-opacity:1;\" d=\"M 337.9375 44.917969 L 349.363281 35.199219 L 352.894531 43.773438 L 337.9375 44.917969 \"/>\n",
       "<path style=\"fill:none;stroke-width:1;stroke-linecap:butt;stroke-linejoin:miter;stroke:rgb(26.666667%,26.666667%,26.666667%);stroke-opacity:1;stroke-miterlimit:10;\" d=\"M 70.722656 469.019531 L 76.679688 477.371094 \"/>\n",
       "<path style=\" stroke:none;fill-rule:nonzero;fill:rgb(26.666667%,26.666667%,26.666667%);fill-opacity:1;\" d=\"M 84.96875 488.984375 L 72.910156 480.0625 L 80.453125 474.675781 L 84.96875 488.984375 \"/>\n",
       "<path style=\"fill:none;stroke-width:1;stroke-linecap:butt;stroke-linejoin:miter;stroke:rgb(26.666667%,26.666667%,26.666667%);stroke-opacity:1;stroke-miterlimit:10;\" d=\"M 352.363281 83.910156 L 319.105469 91.78125 \"/>\n",
       "<path style=\" stroke:none;fill-rule:nonzero;fill:rgb(26.666667%,26.666667%,26.666667%);fill-opacity:1;\" d=\"M 305.222656 95.066406 L 318.039062 87.269531 L 320.175781 96.292969 L 305.222656 95.066406 \"/>\n",
       "<path style=\"fill:none;stroke-width:1;stroke-linecap:butt;stroke-linejoin:miter;stroke:rgb(26.666667%,26.666667%,26.666667%);stroke-opacity:1;stroke-miterlimit:10;\" d=\"M 301.550781 416.078125 L 266.484375 388.019531 \"/>\n",
       "<path style=\" stroke:none;fill-rule:nonzero;fill:rgb(26.666667%,26.666667%,26.666667%);fill-opacity:1;\" d=\"M 255.347656 379.109375 L 269.382812 384.402344 L 263.589844 391.640625 L 255.347656 379.109375 \"/>\n",
       "<path style=\"fill:none;stroke-width:1;stroke-linecap:butt;stroke-linejoin:miter;stroke:rgb(26.666667%,26.666667%,26.666667%);stroke-opacity:1;stroke-miterlimit:10;\" d=\"M 545.945312 222.964844 L 538.875 205.644531 \"/>\n",
       "<path style=\" stroke:none;fill-rule:nonzero;fill:rgb(26.666667%,26.666667%,26.666667%);fill-opacity:1;\" d=\"M 533.484375 192.433594 L 543.167969 203.890625 L 534.585938 207.394531 L 533.484375 192.433594 \"/>\n",
       "<path style=\"fill:none;stroke-width:1;stroke-linecap:butt;stroke-linejoin:miter;stroke:rgb(26.666667%,26.666667%,26.666667%);stroke-opacity:1;stroke-miterlimit:10;\" d=\"M 137.960938 434.3125 L 151.722656 454.125 \"/>\n",
       "<path style=\" stroke:none;fill-rule:nonzero;fill:rgb(26.666667%,26.666667%,26.666667%);fill-opacity:1;\" d=\"M 159.863281 465.839844 L 147.917969 456.769531 L 155.53125 451.480469 L 159.863281 465.839844 \"/>\n",
       "<path style=\"fill:none;stroke-width:1;stroke-linecap:butt;stroke-linejoin:miter;stroke:rgb(26.666667%,26.666667%,26.666667%);stroke-opacity:1;stroke-miterlimit:10;\" d=\"M 204.808594 252.34375 L 217.515625 306.503906 \"/>\n",
       "<path style=\" stroke:none;fill-rule:nonzero;fill:rgb(26.666667%,26.666667%,26.666667%);fill-opacity:1;\" d=\"M 220.773438 320.390625 L 213 307.5625 L 222.027344 305.445312 L 220.773438 320.390625 \"/>\n",
       "<path style=\"fill:none;stroke-width:1;stroke-linecap:butt;stroke-linejoin:miter;stroke:rgb(26.666667%,26.666667%,26.666667%);stroke-opacity:1;stroke-miterlimit:10;\" d=\"M 222.292969 326.875 C 211.429688 314.734375 206.484375 294.257812 218.914062 287.925781 \"/>\n",
       "<path style=\" stroke:none;fill-rule:nonzero;fill:rgb(26.666667%,26.666667%,26.666667%);fill-opacity:1;\" d=\"M 206.203125 294.402344 L 216.808594 283.796875 L 221.015625 292.054688 L 206.203125 294.402344 \"/>\n",
       "<path style=\"fill:none;stroke-width:1;stroke-linecap:butt;stroke-linejoin:miter;stroke:rgb(26.666667%,26.666667%,26.666667%);stroke-opacity:1;stroke-miterlimit:10;\" d=\"M 285.628906 221.121094 C 271.738281 225.183594 250.875 211.160156 253.105469 208.910156 \"/>\n",
       "<path style=\" stroke:none;fill-rule:nonzero;fill:rgb(26.666667%,26.666667%,26.666667%);fill-opacity:1;\" d=\"M 263.160156 198.789062 L 256.394531 212.179688 L 249.816406 205.644531 L 263.160156 198.789062 \"/>\n",
       "<path style=\"fill:none;stroke-width:1;stroke-linecap:butt;stroke-linejoin:miter;stroke:rgb(26.666667%,26.666667%,26.666667%);stroke-opacity:1;stroke-miterlimit:10;\" d=\"M 65.78125 140.789062 L 61.808594 150.394531 \"/>\n",
       "<path style=\" stroke:none;fill-rule:nonzero;fill:rgb(26.666667%,26.666667%,26.666667%);fill-opacity:1;\" d=\"M 56.351562 163.574219 L 57.523438 148.621094 L 66.089844 152.167969 L 56.351562 163.574219 \"/>\n",
       "<path style=\"fill:none;stroke-width:1;stroke-linecap:butt;stroke-linejoin:miter;stroke:rgb(26.666667%,26.666667%,26.666667%);stroke-opacity:1;stroke-miterlimit:10;\" d=\"M 579.933594 350.859375 L 579.957031 340.65625 \"/>\n",
       "<path style=\" stroke:none;fill-rule:nonzero;fill:rgb(26.666667%,26.666667%,26.666667%);fill-opacity:1;\" d=\"M 579.984375 326.390625 L 584.589844 340.664062 L 575.320312 340.644531 L 579.984375 326.390625 \"/>\n",
       "<path style=\"fill:none;stroke-width:1;stroke-linecap:butt;stroke-linejoin:miter;stroke:rgb(26.666667%,26.666667%,26.666667%);stroke-opacity:1;stroke-miterlimit:10;\" d=\"M 352.292969 39.007812 L 334.398438 29.585938 \"/>\n",
       "<path style=\" stroke:none;fill-rule:nonzero;fill:rgb(26.666667%,26.666667%,26.666667%);fill-opacity:1;\" d=\"M 321.773438 22.941406 L 336.554688 25.484375 L 332.238281 33.6875 L 321.773438 22.941406 \"/>\n",
       "<path style=\"fill:none;stroke-width:1;stroke-linecap:butt;stroke-linejoin:miter;stroke:rgb(26.666667%,26.666667%,26.666667%);stroke-opacity:1;stroke-miterlimit:10;\" d=\"M 404.589844 120.238281 L 375.296875 99.863281 \"/>\n",
       "<path style=\" stroke:none;fill-rule:nonzero;fill:rgb(26.666667%,26.666667%,26.666667%);fill-opacity:1;\" d=\"M 363.585938 91.71875 L 377.945312 96.058594 L 372.652344 103.671875 L 363.585938 91.71875 \"/>\n",
       "<path style=\"fill:none;stroke-width:1;stroke-linecap:butt;stroke-linejoin:miter;stroke:rgb(26.666667%,26.666667%,26.666667%);stroke-opacity:1;stroke-miterlimit:10;\" d=\"M 181.578125 502.414062 L 168.585938 480.414062 \"/>\n",
       "<path style=\" stroke:none;fill-rule:nonzero;fill:rgb(26.666667%,26.666667%,26.666667%);fill-opacity:1;\" d=\"M 161.332031 468.132812 L 172.578125 478.058594 L 164.59375 482.773438 L 161.332031 468.132812 \"/>\n",
       "<path style=\"fill:none;stroke-width:1;stroke-linecap:butt;stroke-linejoin:miter;stroke:rgb(26.666667%,26.666667%,26.666667%);stroke-opacity:1;stroke-miterlimit:10;\" d=\"M 239.40625 228.3125 C 237.058594 217.863281 240.433594 209.78125 249.945312 204.867188 \"/>\n",
       "<path style=\" stroke:none;fill-rule:nonzero;fill:rgb(26.666667%,26.666667%,26.666667%);fill-opacity:1;\" d=\"M 262.617188 198.316406 L 252.070312 208.984375 L 247.816406 200.746094 L 262.617188 198.316406 \"/>\n",
       "<path style=\"fill:none;stroke-width:1;stroke-linecap:butt;stroke-linejoin:miter;stroke:rgb(26.666667%,26.666667%,26.666667%);stroke-opacity:1;stroke-miterlimit:10;\" d=\"M 205.148438 537.085938 L 193.390625 519.789062 \"/>\n",
       "<path style=\" stroke:none;fill-rule:nonzero;fill:rgb(26.666667%,26.666667%,26.666667%);fill-opacity:1;\" d=\"M 185.371094 507.992188 L 197.222656 517.183594 L 189.554688 522.394531 L 185.371094 507.992188 \"/>\n",
       "<path style=\"fill:none;stroke-width:1;stroke-linecap:butt;stroke-linejoin:miter;stroke:rgb(26.666667%,26.666667%,26.666667%);stroke-opacity:1;stroke-miterlimit:10;\" d=\"M 352.363281 83.910156 L 339.78125 103.683594 \"/>\n",
       "<path style=\" stroke:none;fill-rule:nonzero;fill:rgb(26.666667%,26.666667%,26.666667%);fill-opacity:1;\" d=\"M 332.125 115.71875 L 335.871094 101.195312 L 343.695312 106.171875 L 332.125 115.71875 \"/>\n",
       "<path style=\"fill:none;stroke-width:1;stroke-linecap:butt;stroke-linejoin:miter;stroke:rgb(26.666667%,26.666667%,26.666667%);stroke-opacity:1;stroke-miterlimit:10;\" d=\"M 438.554688 273.265625 L 442.175781 260.132812 \"/>\n",
       "<path style=\" stroke:none;fill-rule:nonzero;fill:rgb(26.666667%,26.666667%,26.666667%);fill-opacity:1;\" d=\"M 445.972656 246.378906 L 446.644531 261.367188 L 437.710938 258.898438 L 445.972656 246.378906 \"/>\n",
       "<path style=\"fill:none;stroke-width:1;stroke-linecap:butt;stroke-linejoin:miter;stroke:rgb(26.666667%,26.666667%,26.666667%);stroke-opacity:1;stroke-miterlimit:10;\" d=\"M 347.089844 405.460938 C 345.117188 410.488281 348.964844 418.945312 350.542969 417.953125 \"/>\n",
       "<path style=\" stroke:none;fill-rule:nonzero;fill:rgb(26.666667%,26.666667%,26.666667%);fill-opacity:1;\" d=\"M 338.460938 425.542969 L 348.078125 414.03125 L 353.007812 421.878906 L 338.460938 425.542969 \"/>\n",
       "<path style=\"fill:none;stroke-width:1;stroke-linecap:butt;stroke-linejoin:miter;stroke:rgb(26.666667%,26.666667%,26.666667%);stroke-opacity:1;stroke-miterlimit:10;\" d=\"M 209.097656 189.136719 L 206.167969 232.304688 \"/>\n",
       "<path style=\" stroke:none;fill-rule:nonzero;fill:rgb(26.666667%,26.666667%,26.666667%);fill-opacity:1;\" d=\"M 205.203125 246.535156 L 201.542969 231.988281 L 210.792969 232.617188 L 205.203125 246.535156 \"/>\n",
       "<path style=\"fill-rule:nonzero;fill:rgb(73.72549%,74.117647%,13.333333%);fill-opacity:1;stroke-width:1;stroke-linecap:butt;stroke-linejoin:miter;stroke:rgb(0%,0%,0%);stroke-opacity:1;stroke-miterlimit:10;\" d=\"M 422.15625 529.628906 C 422.15625 534.46875 418.234375 538.390625 413.398438 538.390625 C 408.558594 538.390625 404.636719 534.46875 404.636719 529.628906 C 404.636719 524.789062 408.558594 520.867188 413.398438 520.867188 C 418.234375 520.867188 422.15625 524.789062 422.15625 529.628906 \"/>\n",
       "<path style=\"fill-rule:nonzero;fill:rgb(73.72549%,74.117647%,13.333333%);fill-opacity:1;stroke-width:1;stroke-linecap:butt;stroke-linejoin:miter;stroke:rgb(0%,0%,0%);stroke-opacity:1;stroke-miterlimit:10;\" d=\"M 393.011719 545.839844 C 393.011719 551.394531 388.507812 555.898438 382.953125 555.898438 C 377.398438 555.898438 372.898438 551.394531 372.898438 545.839844 C 372.898438 540.285156 377.398438 535.78125 382.953125 535.78125 C 388.507812 535.78125 393.011719 540.285156 393.011719 545.839844 \"/>\n",
       "<path style=\"fill-rule:nonzero;fill:rgb(100%,49.803922%,5.490196%);fill-opacity:1;stroke-width:1;stroke-linecap:butt;stroke-linejoin:miter;stroke:rgb(0%,0%,0%);stroke-opacity:1;stroke-miterlimit:10;\" d=\"M 513.578125 397.058594 C 513.578125 401.304688 510.136719 404.746094 505.890625 404.746094 C 501.644531 404.746094 498.199219 401.304688 498.199219 397.058594 C 498.199219 392.8125 501.644531 389.367188 505.890625 389.367188 C 510.136719 389.367188 513.578125 392.8125 513.578125 397.058594 \"/>\n",
       "<path style=\"fill-rule:nonzero;fill:rgb(100%,49.803922%,5.490196%);fill-opacity:1;stroke-width:1;stroke-linecap:butt;stroke-linejoin:miter;stroke:rgb(0%,0%,0%);stroke-opacity:1;stroke-miterlimit:10;\" d=\"M 494.1875 361.527344 C 494.1875 367.84375 489.066406 372.960938 482.75 372.960938 C 476.4375 372.960938 471.316406 367.84375 471.316406 361.527344 C 471.316406 355.210938 476.4375 350.089844 482.75 350.089844 C 489.066406 350.089844 494.1875 355.210938 494.1875 361.527344 \"/>\n",
       "<path style=\"fill-rule:nonzero;fill:rgb(100%,49.803922%,5.490196%);fill-opacity:1;stroke-width:1;stroke-linecap:butt;stroke-linejoin:miter;stroke:rgb(0%,0%,0%);stroke-opacity:1;stroke-miterlimit:10;\" d=\"M 512.027344 443.550781 C 512.027344 448.472656 504.640625 448.472656 504.640625 443.550781 C 504.640625 438.628906 512.027344 438.628906 512.027344 443.550781 \"/>\n",
       "<path style=\"fill-rule:nonzero;fill:rgb(100%,49.803922%,5.490196%);fill-opacity:1;stroke-width:1;stroke-linecap:butt;stroke-linejoin:miter;stroke:rgb(0%,0%,0%);stroke-opacity:1;stroke-miterlimit:10;\" d=\"M 541.367188 393.777344 C 541.367188 399.753906 532.40625 399.753906 532.40625 393.777344 C 532.40625 387.804688 541.367188 387.804688 541.367188 393.777344 \"/>\n",
       "<path style=\"fill-rule:nonzero;fill:rgb(54.901961%,33.72549%,29.411765%);fill-opacity:1;stroke-width:1;stroke-linecap:butt;stroke-linejoin:miter;stroke:rgb(0%,0%,0%);stroke-opacity:1;stroke-miterlimit:10;\" d=\"M 461.429688 189.734375 C 461.429688 195.519531 456.742188 200.210938 450.957031 200.210938 C 445.171875 200.210938 440.480469 195.519531 440.480469 189.734375 C 440.480469 183.953125 445.171875 179.261719 450.957031 179.261719 C 456.742188 179.261719 461.429688 183.953125 461.429688 189.734375 \"/>\n",
       "<path style=\"fill-rule:nonzero;fill:rgb(12.156863%,46.666667%,70.588235%);fill-opacity:1;stroke-width:1;stroke-linecap:butt;stroke-linejoin:miter;stroke:rgb(0%,0%,0%);stroke-opacity:1;stroke-miterlimit:10;\" d=\"M 434.238281 204.4375 C 434.238281 211.78125 428.285156 217.734375 420.9375 217.734375 C 413.59375 217.734375 407.640625 211.78125 407.640625 204.4375 C 407.640625 197.09375 413.59375 191.136719 420.9375 191.136719 C 428.285156 191.136719 434.238281 197.09375 434.238281 204.4375 \"/>\n",
       "<path style=\"fill-rule:nonzero;fill:rgb(12.156863%,46.666667%,70.588235%);fill-opacity:1;stroke-width:1;stroke-linecap:butt;stroke-linejoin:miter;stroke:rgb(0%,0%,0%);stroke-opacity:1;stroke-miterlimit:10;\" d=\"M 531.75 265.628906 C 531.75 270.128906 528.105469 273.773438 523.605469 273.773438 C 519.105469 273.773438 515.460938 270.128906 515.460938 265.628906 C 515.460938 261.128906 519.105469 257.484375 523.605469 257.484375 C 528.105469 257.484375 531.75 261.128906 531.75 265.628906 \"/>\n",
       "<path style=\"fill-rule:nonzero;fill:rgb(100%,49.803922%,5.490196%);fill-opacity:1;stroke-width:1;stroke-linecap:butt;stroke-linejoin:miter;stroke:rgb(0%,0%,0%);stroke-opacity:1;stroke-miterlimit:10;\" d=\"M 517.601562 323.382812 C 517.601562 329.667969 512.503906 334.765625 506.214844 334.765625 C 499.929688 334.765625 494.832031 329.667969 494.832031 323.382812 C 494.832031 317.09375 499.929688 311.996094 506.214844 311.996094 C 512.503906 311.996094 517.601562 317.09375 517.601562 323.382812 \"/>\n",
       "<path style=\"fill-rule:nonzero;fill:rgb(12.156863%,46.666667%,70.588235%);fill-opacity:1;stroke-width:1;stroke-linecap:butt;stroke-linejoin:miter;stroke:rgb(0%,0%,0%);stroke-opacity:1;stroke-miterlimit:10;\" d=\"M 565.074219 269.300781 C 565.074219 276.808594 558.988281 282.894531 551.480469 282.894531 C 543.96875 282.894531 537.882812 276.808594 537.882812 269.300781 C 537.882812 261.789062 543.96875 255.703125 551.480469 255.703125 C 558.988281 255.703125 565.074219 261.789062 565.074219 269.300781 \"/>\n",
       "<path style=\"fill-rule:nonzero;fill:rgb(49.803922%,49.803922%,49.803922%);fill-opacity:1;stroke-width:1;stroke-linecap:butt;stroke-linejoin:miter;stroke:rgb(0%,0%,0%);stroke-opacity:1;stroke-miterlimit:10;\" d=\"M 362.949219 39.007812 C 362.949219 44.890625 358.175781 49.660156 352.292969 49.660156 C 346.410156 49.660156 341.640625 44.890625 341.640625 39.007812 C 341.640625 33.121094 346.410156 28.351562 352.292969 28.351562 C 358.175781 28.351562 362.949219 33.121094 362.949219 39.007812 \"/>\n",
       "<path style=\"fill-rule:nonzero;fill:rgb(49.803922%,49.803922%,49.803922%);fill-opacity:1;stroke-width:1;stroke-linecap:butt;stroke-linejoin:miter;stroke:rgb(0%,0%,0%);stroke-opacity:1;stroke-miterlimit:10;\" d=\"M 366.035156 83.910156 C 366.035156 91.460938 359.914062 97.585938 352.363281 97.585938 C 344.8125 97.585938 338.691406 91.460938 338.691406 83.910156 C 338.691406 76.359375 344.8125 70.238281 352.363281 70.238281 C 359.914062 70.238281 366.035156 76.359375 366.035156 83.910156 \"/>\n",
       "<path style=\"fill-rule:nonzero;fill:rgb(17.254902%,62.745098%,17.254902%);fill-opacity:1;stroke-width:1;stroke-linecap:butt;stroke-linejoin:miter;stroke:rgb(0%,0%,0%);stroke-opacity:1;stroke-miterlimit:10;\" d=\"M 309.179688 416.078125 C 309.179688 420.289062 305.761719 423.703125 301.550781 423.703125 C 297.339844 423.703125 293.925781 420.289062 293.925781 416.078125 C 293.925781 411.867188 297.339844 408.449219 301.550781 408.449219 C 305.761719 408.449219 309.179688 411.867188 309.179688 416.078125 \"/>\n",
       "<path style=\"fill-rule:nonzero;fill:rgb(17.254902%,62.745098%,17.254902%);fill-opacity:1;stroke-width:1;stroke-linecap:butt;stroke-linejoin:miter;stroke:rgb(0%,0%,0%);stroke-opacity:1;stroke-miterlimit:10;\" d=\"M 338.90625 427.070312 C 338.90625 430.894531 333.164062 430.894531 333.164062 427.070312 C 333.164062 423.242188 338.90625 423.242188 338.90625 427.070312 \"/>\n",
       "<path style=\"fill-rule:nonzero;fill:rgb(100%,49.803922%,5.490196%);fill-opacity:1;stroke-width:1;stroke-linecap:butt;stroke-linejoin:miter;stroke:rgb(0%,0%,0%);stroke-opacity:1;stroke-miterlimit:10;\" d=\"M 519.058594 362.507812 C 519.058594 367.289062 515.183594 371.164062 510.402344 371.164062 C 505.621094 371.164062 501.742188 367.289062 501.742188 362.507812 C 501.742188 357.726562 505.621094 353.847656 510.402344 353.847656 C 515.183594 353.847656 519.058594 357.726562 519.058594 362.507812 \"/>\n",
       "<path style=\"fill-rule:nonzero;fill:rgb(17.254902%,62.745098%,17.254902%);fill-opacity:1;stroke-width:1;stroke-linecap:butt;stroke-linejoin:miter;stroke:rgb(0%,0%,0%);stroke-opacity:1;stroke-miterlimit:10;\" d=\"M 319.902344 237.109375 C 319.902344 240.414062 317.222656 243.09375 313.917969 243.09375 C 310.609375 243.09375 307.929688 240.414062 307.929688 237.109375 C 307.929688 233.800781 310.609375 231.121094 313.917969 231.121094 C 317.222656 231.121094 319.902344 233.800781 319.902344 237.109375 \"/>\n",
       "<path style=\"fill-rule:nonzero;fill:rgb(17.254902%,62.745098%,17.254902%);fill-opacity:1;stroke-width:1;stroke-linecap:butt;stroke-linejoin:miter;stroke:rgb(0%,0%,0%);stroke-opacity:1;stroke-miterlimit:10;\" d=\"M 275.414062 248.179688 C 275.414062 253.304688 271.257812 257.460938 266.132812 257.460938 C 261.007812 257.460938 256.851562 253.304688 256.851562 248.179688 C 256.851562 243.050781 261.007812 238.898438 266.132812 238.898438 C 271.257812 238.898438 275.414062 243.050781 275.414062 248.179688 \"/>\n",
       "<path style=\"fill-rule:nonzero;fill:rgb(17.254902%,62.745098%,17.254902%);fill-opacity:1;stroke-width:1;stroke-linecap:butt;stroke-linejoin:miter;stroke:rgb(0%,0%,0%);stroke-opacity:1;stroke-miterlimit:10;\" d=\"M 213.605469 189.136719 C 213.605469 195.152344 204.585938 195.152344 204.585938 189.136719 C 204.585938 183.125 213.605469 183.125 213.605469 189.136719 \"/>\n",
       "<path style=\"fill-rule:nonzero;fill:rgb(17.254902%,62.745098%,17.254902%);fill-opacity:1;stroke-width:1;stroke-linecap:butt;stroke-linejoin:miter;stroke:rgb(0%,0%,0%);stroke-opacity:1;stroke-miterlimit:10;\" d=\"M 207.15625 139.609375 C 207.15625 143.050781 204.367188 145.839844 200.925781 145.839844 C 197.484375 145.839844 194.695312 143.050781 194.695312 139.609375 C 194.695312 136.167969 197.484375 133.378906 200.925781 133.378906 C 204.367188 133.378906 207.15625 136.167969 207.15625 139.609375 \"/>\n",
       "<path style=\"fill-rule:nonzero;fill:rgb(17.254902%,62.745098%,17.254902%);fill-opacity:1;stroke-width:1;stroke-linecap:butt;stroke-linejoin:miter;stroke:rgb(0%,0%,0%);stroke-opacity:1;stroke-miterlimit:10;\" d=\"M 188.320312 502.414062 C 188.320312 506.136719 185.304688 509.15625 181.578125 509.15625 C 177.855469 509.15625 174.835938 506.136719 174.835938 502.414062 C 174.835938 498.6875 177.855469 495.671875 181.578125 495.671875 C 185.304688 495.671875 188.320312 498.6875 188.320312 502.414062 \"/>\n",
       "<path style=\"fill-rule:nonzero;fill:rgb(17.254902%,62.745098%,17.254902%);fill-opacity:1;stroke-width:1;stroke-linecap:butt;stroke-linejoin:miter;stroke:rgb(0%,0%,0%);stroke-opacity:1;stroke-miterlimit:10;\" d=\"M 182.574219 534.714844 C 182.574219 540.476562 177.902344 545.148438 172.140625 545.148438 C 166.378906 545.148438 161.707031 540.476562 161.707031 534.714844 C 161.707031 528.953125 166.378906 524.28125 172.140625 524.28125 C 177.902344 524.28125 182.574219 528.953125 182.574219 534.714844 \"/>\n",
       "<path style=\"fill-rule:nonzero;fill:rgb(73.72549%,74.117647%,13.333333%);fill-opacity:1;stroke-width:1;stroke-linecap:butt;stroke-linejoin:miter;stroke:rgb(0%,0%,0%);stroke-opacity:1;stroke-miterlimit:10;\" d=\"M 431.703125 495.929688 C 431.703125 503.742188 425.371094 510.074219 417.558594 510.074219 C 409.746094 510.074219 403.414062 503.742188 403.414062 495.929688 C 403.414062 488.117188 409.746094 481.785156 417.558594 481.785156 C 425.371094 481.785156 431.703125 488.117188 431.703125 495.929688 \"/>\n",
       "<path style=\"fill-rule:nonzero;fill:rgb(17.254902%,62.745098%,17.254902%);fill-opacity:1;stroke-width:1;stroke-linecap:butt;stroke-linejoin:miter;stroke:rgb(0%,0%,0%);stroke-opacity:1;stroke-miterlimit:10;\" d=\"M 248.832031 228.3125 C 248.832031 233.519531 244.613281 237.738281 239.40625 237.738281 C 234.199219 237.738281 229.980469 233.519531 229.980469 228.3125 C 229.980469 223.109375 234.199219 218.886719 239.40625 218.886719 C 244.613281 218.886719 248.832031 223.109375 248.832031 228.3125 \"/>\n",
       "<path style=\"fill-rule:nonzero;fill:rgb(17.254902%,62.745098%,17.254902%);fill-opacity:1;stroke-width:1;stroke-linecap:butt;stroke-linejoin:miter;stroke:rgb(0%,0%,0%);stroke-opacity:1;stroke-miterlimit:10;\" d=\"M 210.632812 252.34375 C 210.632812 255.558594 208.027344 258.167969 204.808594 258.167969 C 201.59375 258.167969 198.988281 255.558594 198.988281 252.34375 C 198.988281 249.128906 201.59375 246.523438 204.808594 246.523438 C 208.027344 246.523438 210.632812 249.128906 210.632812 252.34375 \"/>\n",
       "<path style=\"fill-rule:nonzero;fill:rgb(17.254902%,62.745098%,17.254902%);fill-opacity:1;stroke-width:1;stroke-linecap:butt;stroke-linejoin:miter;stroke:rgb(0%,0%,0%);stroke-opacity:1;stroke-miterlimit:10;\" d=\"M 193.441406 222.527344 C 193.441406 227.25 186.355469 227.25 186.355469 222.527344 C 186.355469 217.804688 193.441406 217.804688 193.441406 222.527344 \"/>\n",
       "<path style=\"fill-rule:nonzero;fill:rgb(17.254902%,62.745098%,17.254902%);fill-opacity:1;stroke-width:1;stroke-linecap:butt;stroke-linejoin:miter;stroke:rgb(0%,0%,0%);stroke-opacity:1;stroke-miterlimit:10;\" d=\"M 185.652344 266.371094 C 185.652344 270.523438 182.285156 273.890625 178.132812 273.890625 C 173.980469 273.890625 170.613281 270.523438 170.613281 266.371094 C 170.613281 262.21875 173.980469 258.855469 178.132812 258.855469 C 182.285156 258.855469 185.652344 262.21875 185.652344 266.371094 \"/>\n",
       "<path style=\"fill-rule:nonzero;fill:rgb(17.254902%,62.745098%,17.254902%);fill-opacity:1;stroke-width:1;stroke-linecap:butt;stroke-linejoin:miter;stroke:rgb(0%,0%,0%);stroke-opacity:1;stroke-miterlimit:10;\" d=\"M 116.289062 303.351562 C 116.289062 310.296875 105.867188 310.296875 105.867188 303.351562 C 105.867188 296.40625 116.289062 296.40625 116.289062 303.351562 \"/>\n",
       "<path style=\"fill-rule:nonzero;fill:rgb(17.254902%,62.745098%,17.254902%);fill-opacity:1;stroke-width:1;stroke-linecap:butt;stroke-linejoin:miter;stroke:rgb(0%,0%,0%);stroke-opacity:1;stroke-miterlimit:10;\" d=\"M 105.503906 278.609375 C 105.503906 283.882812 101.226562 288.160156 95.953125 288.160156 C 90.679688 288.160156 86.402344 283.882812 86.402344 278.609375 C 86.402344 273.332031 90.679688 269.058594 95.953125 269.058594 C 101.226562 269.058594 105.503906 273.332031 105.503906 278.609375 \"/>\n",
       "<path style=\"fill-rule:nonzero;fill:rgb(73.72549%,74.117647%,13.333333%);fill-opacity:1;stroke-width:1;stroke-linecap:butt;stroke-linejoin:miter;stroke:rgb(0%,0%,0%);stroke-opacity:1;stroke-miterlimit:10;\" d=\"M 24.390625 312.007812 C 24.390625 317.863281 15.609375 317.863281 15.609375 312.007812 C 15.609375 306.15625 24.390625 306.15625 24.390625 312.007812 \"/>\n",
       "<path style=\"fill-rule:nonzero;fill:rgb(73.72549%,74.117647%,13.333333%);fill-opacity:1;stroke-width:1;stroke-linecap:butt;stroke-linejoin:miter;stroke:rgb(0%,0%,0%);stroke-opacity:1;stroke-miterlimit:10;\" d=\"M 24.925781 341.472656 C 24.925781 346.363281 17.589844 346.363281 17.589844 341.472656 C 17.589844 336.582031 24.925781 336.582031 24.925781 341.472656 \"/>\n",
       "<path style=\"fill-rule:nonzero;fill:rgb(17.254902%,62.745098%,17.254902%);fill-opacity:1;stroke-width:1;stroke-linecap:butt;stroke-linejoin:miter;stroke:rgb(0%,0%,0%);stroke-opacity:1;stroke-miterlimit:10;\" d=\"M 297.015625 221.121094 C 297.015625 227.40625 291.917969 232.503906 285.628906 232.503906 C 279.34375 232.503906 274.246094 227.40625 274.246094 221.121094 C 274.246094 214.832031 279.34375 209.738281 285.628906 209.738281 C 291.917969 209.738281 297.015625 214.832031 297.015625 221.121094 \"/>\n",
       "<path style=\"fill-rule:nonzero;fill:rgb(17.254902%,62.745098%,17.254902%);fill-opacity:1;stroke-width:1;stroke-linecap:butt;stroke-linejoin:miter;stroke:rgb(0%,0%,0%);stroke-opacity:1;stroke-miterlimit:10;\" d=\"M 266.96875 197.242188 C 266.96875 200.273438 262.421875 200.273438 262.421875 197.242188 C 262.421875 194.210938 266.96875 194.210938 266.96875 197.242188 \"/>\n",
       "<path style=\"fill-rule:nonzero;fill:rgb(49.803922%,49.803922%,49.803922%);fill-opacity:1;stroke-width:1;stroke-linecap:butt;stroke-linejoin:miter;stroke:rgb(0%,0%,0%);stroke-opacity:1;stroke-miterlimit:10;\" d=\"M 415.671875 73.789062 C 415.671875 76.945312 413.113281 79.503906 409.957031 79.503906 C 406.800781 79.503906 404.242188 76.945312 404.242188 73.789062 C 404.242188 70.636719 406.800781 68.078125 409.957031 68.078125 C 413.113281 68.078125 415.671875 70.636719 415.671875 73.789062 \"/>\n",
       "<path style=\"fill-rule:nonzero;fill:rgb(49.803922%,49.803922%,49.803922%);fill-opacity:1;stroke-width:1;stroke-linecap:butt;stroke-linejoin:miter;stroke:rgb(0%,0%,0%);stroke-opacity:1;stroke-miterlimit:10;\" d=\"M 455.625 81.195312 C 455.625 85.308594 449.453125 85.308594 449.453125 81.195312 C 449.453125 77.082031 455.625 77.082031 455.625 81.195312 \"/>\n",
       "<path style=\"fill-rule:nonzero;fill:rgb(17.254902%,62.745098%,17.254902%);fill-opacity:1;stroke-width:1;stroke-linecap:butt;stroke-linejoin:miter;stroke:rgb(0%,0%,0%);stroke-opacity:1;stroke-miterlimit:10;\" d=\"M 148.148438 286.527344 C 148.148438 289.621094 145.640625 292.125 142.550781 292.125 C 139.457031 292.125 136.953125 289.621094 136.953125 286.527344 C 136.953125 283.4375 139.457031 280.929688 142.550781 280.929688 C 145.640625 280.929688 148.148438 283.4375 148.148438 286.527344 \"/>\n",
       "<path style=\"fill-rule:nonzero;fill:rgb(17.254902%,62.745098%,17.254902%);fill-opacity:1;stroke-width:1;stroke-linecap:butt;stroke-linejoin:miter;stroke:rgb(0%,0%,0%);stroke-opacity:1;stroke-miterlimit:10;\" d=\"M 256.785156 375.007812 C 256.785156 378.632812 253.847656 381.570312 250.222656 381.570312 C 246.597656 381.570312 243.660156 378.632812 243.660156 375.007812 C 243.660156 371.382812 246.597656 368.445312 250.222656 368.445312 C 253.847656 368.445312 256.785156 371.382812 256.785156 375.007812 \"/>\n",
       "<path style=\"fill-rule:nonzero;fill:rgb(17.254902%,62.745098%,17.254902%);fill-opacity:1;stroke-width:1;stroke-linecap:butt;stroke-linejoin:miter;stroke:rgb(0%,0%,0%);stroke-opacity:1;stroke-miterlimit:10;\" d=\"M 228.339844 400.210938 C 228.339844 403.765625 223.007812 403.765625 223.007812 400.210938 C 223.007812 396.65625 228.339844 396.65625 228.339844 400.210938 \"/>\n",
       "<path style=\"fill-rule:nonzero;fill:rgb(17.254902%,62.745098%,17.254902%);fill-opacity:1;stroke-width:1;stroke-linecap:butt;stroke-linejoin:miter;stroke:rgb(0%,0%,0%);stroke-opacity:1;stroke-miterlimit:10;\" d=\"M 377.550781 427.992188 C 377.550781 433.558594 369.199219 433.558594 369.199219 427.992188 C 369.199219 422.421875 377.550781 422.421875 377.550781 427.992188 \"/>\n",
       "<path style=\"fill-rule:nonzero;fill:rgb(17.254902%,62.745098%,17.254902%);fill-opacity:1;stroke-width:1;stroke-linecap:butt;stroke-linejoin:miter;stroke:rgb(0%,0%,0%);stroke-opacity:1;stroke-miterlimit:10;\" d=\"M 228.949219 326.875 C 228.949219 330.550781 225.96875 333.53125 222.292969 333.53125 C 218.617188 333.53125 215.636719 330.550781 215.636719 326.875 C 215.636719 323.195312 218.617188 320.214844 222.292969 320.214844 C 225.96875 320.214844 228.949219 323.195312 228.949219 326.875 \"/>\n",
       "<path style=\"fill-rule:nonzero;fill:rgb(17.254902%,62.745098%,17.254902%);fill-opacity:1;stroke-width:1;stroke-linecap:butt;stroke-linejoin:miter;stroke:rgb(0%,0%,0%);stroke-opacity:1;stroke-miterlimit:10;\" d=\"M 207.910156 300.25 C 207.910156 307.527344 202.007812 313.429688 194.730469 313.429688 C 187.449219 313.429688 181.546875 307.527344 181.546875 300.25 C 181.546875 292.96875 187.449219 287.066406 194.730469 287.066406 C 202.007812 287.066406 207.910156 292.96875 207.910156 300.25 \"/>\n",
       "<path style=\"fill-rule:nonzero;fill:rgb(54.901961%,33.72549%,29.411765%);fill-opacity:1;stroke-width:1;stroke-linecap:butt;stroke-linejoin:miter;stroke:rgb(0%,0%,0%);stroke-opacity:1;stroke-miterlimit:10;\" d=\"M 460.351562 235.429688 C 460.351562 241.703125 455.265625 246.789062 448.992188 246.789062 C 442.71875 246.789062 437.632812 241.703125 437.632812 235.429688 C 437.632812 229.15625 442.71875 224.070312 448.992188 224.070312 C 455.265625 224.070312 460.351562 229.15625 460.351562 235.429688 \"/>\n",
       "<path style=\"fill-rule:nonzero;fill:rgb(17.254902%,62.745098%,17.254902%);fill-opacity:1;stroke-width:1;stroke-linecap:butt;stroke-linejoin:miter;stroke:rgb(0%,0%,0%);stroke-opacity:1;stroke-miterlimit:10;\" d=\"M 282.890625 392.410156 C 282.890625 396.121094 279.878906 399.132812 276.164062 399.132812 C 272.453125 399.132812 269.441406 396.121094 269.441406 392.410156 C 269.441406 388.695312 272.453125 385.683594 276.164062 385.683594 C 279.878906 385.683594 282.890625 388.695312 282.890625 392.410156 \"/>\n",
       "<path style=\"fill-rule:nonzero;fill:rgb(17.254902%,62.745098%,17.254902%);fill-opacity:1;stroke-width:1;stroke-linecap:butt;stroke-linejoin:miter;stroke:rgb(0%,0%,0%);stroke-opacity:1;stroke-miterlimit:10;\" d=\"M 120.914062 404.308594 C 120.914062 408.609375 117.429688 412.097656 113.125 412.097656 C 108.824219 412.097656 105.335938 408.609375 105.335938 404.308594 C 105.335938 400.003906 108.824219 396.515625 113.125 396.515625 C 117.429688 396.515625 120.914062 400.003906 120.914062 404.308594 \"/>\n",
       "<path style=\"fill-rule:nonzero;fill:rgb(17.254902%,62.745098%,17.254902%);fill-opacity:1;stroke-width:1;stroke-linecap:butt;stroke-linejoin:miter;stroke:rgb(0%,0%,0%);stroke-opacity:1;stroke-miterlimit:10;\" d=\"M 93.8125 379.214844 C 93.8125 382.789062 90.917969 385.6875 87.34375 385.6875 C 83.769531 385.6875 80.875 382.789062 80.875 379.214844 C 80.875 375.644531 83.769531 372.746094 87.34375 372.746094 C 90.917969 372.746094 93.8125 375.644531 93.8125 379.214844 \"/>\n",
       "<path style=\"fill-rule:nonzero;fill:rgb(9.019608%,74.509804%,81.176471%);fill-opacity:1;stroke-width:1;stroke-linecap:butt;stroke-linejoin:miter;stroke:rgb(0%,0%,0%);stroke-opacity:1;stroke-miterlimit:10;\" d=\"M 62.828125 438.507812 C 62.828125 445.464844 57.1875 451.105469 50.230469 451.105469 C 43.273438 451.105469 37.636719 445.464844 37.636719 438.507812 C 37.636719 431.554688 43.273438 425.914062 50.230469 425.914062 C 57.1875 425.914062 62.828125 431.554688 62.828125 438.507812 \"/>\n",
       "<path style=\"fill-rule:nonzero;fill:rgb(9.019608%,74.509804%,81.176471%);fill-opacity:1;stroke-width:1;stroke-linecap:butt;stroke-linejoin:miter;stroke:rgb(0%,0%,0%);stroke-opacity:1;stroke-miterlimit:10;\" d=\"M 86.199219 469.019531 C 86.199219 477.566406 79.269531 484.492188 70.722656 484.492188 C 62.175781 484.492188 55.246094 477.566406 55.246094 469.019531 C 55.246094 460.472656 62.175781 453.542969 70.722656 453.542969 C 79.269531 453.542969 86.199219 460.472656 86.199219 469.019531 \"/>\n",
       "<path style=\"fill-rule:nonzero;fill:rgb(17.254902%,62.745098%,17.254902%);fill-opacity:1;stroke-width:1;stroke-linecap:butt;stroke-linejoin:miter;stroke:rgb(0%,0%,0%);stroke-opacity:1;stroke-miterlimit:10;\" d=\"M 353.039062 405.460938 C 353.039062 408.746094 350.375 411.40625 347.089844 411.40625 C 343.804688 411.40625 341.144531 408.746094 341.144531 405.460938 C 341.144531 402.175781 343.804688 399.511719 347.089844 399.511719 C 350.375 399.511719 353.039062 402.175781 353.039062 405.460938 \"/>\n",
       "<path style=\"fill-rule:nonzero;fill:rgb(73.72549%,74.117647%,13.333333%);fill-opacity:1;stroke-width:1;stroke-linecap:butt;stroke-linejoin:miter;stroke:rgb(0%,0%,0%);stroke-opacity:1;stroke-miterlimit:10;\" d=\"M 350.335938 560.707031 C 350.335938 564.535156 347.234375 567.640625 343.402344 567.640625 C 339.574219 567.640625 336.46875 564.535156 336.46875 560.707031 C 336.46875 556.878906 339.574219 553.773438 343.402344 553.773438 C 347.234375 553.773438 350.335938 556.878906 350.335938 560.707031 \"/>\n",
       "<path style=\"fill-rule:nonzero;fill:rgb(17.254902%,62.745098%,17.254902%);fill-opacity:1;stroke-width:1;stroke-linecap:butt;stroke-linejoin:miter;stroke:rgb(0%,0%,0%);stroke-opacity:1;stroke-miterlimit:10;\" d=\"M 293.136719 498.859375 C 293.136719 504.691406 284.394531 504.691406 284.394531 498.859375 C 284.394531 493.03125 293.136719 493.03125 293.136719 498.859375 \"/>\n",
       "<path style=\"fill-rule:nonzero;fill:rgb(17.254902%,62.745098%,17.254902%);fill-opacity:1;stroke-width:1;stroke-linecap:butt;stroke-linejoin:miter;stroke:rgb(0%,0%,0%);stroke-opacity:1;stroke-miterlimit:10;\" d=\"M 302.191406 467.101562 C 302.191406 471.554688 298.582031 475.164062 294.128906 475.164062 C 289.675781 475.164062 286.066406 471.554688 286.066406 467.101562 C 286.066406 462.648438 289.675781 459.039062 294.128906 459.039062 C 298.582031 459.039062 302.191406 462.648438 302.191406 467.101562 \"/>\n",
       "<path style=\"fill-rule:nonzero;fill:rgb(17.254902%,62.745098%,17.254902%);fill-opacity:1;stroke-width:1;stroke-linecap:butt;stroke-linejoin:miter;stroke:rgb(0%,0%,0%);stroke-opacity:1;stroke-miterlimit:10;\" d=\"M 275.972656 528.433594 C 275.972656 535.476562 265.40625 535.476562 265.40625 528.433594 C 265.40625 521.386719 275.972656 521.386719 275.972656 528.433594 \"/>\n",
       "<path style=\"fill-rule:nonzero;fill:rgb(58.039216%,40.392157%,74.117647%);fill-opacity:1;stroke-width:1;stroke-linecap:butt;stroke-linejoin:miter;stroke:rgb(0%,0%,0%);stroke-opacity:1;stroke-miterlimit:10;\" d=\"M 424.183594 120.238281 C 424.183594 131.058594 415.410156 139.832031 404.589844 139.832031 C 393.765625 139.832031 384.996094 131.058594 384.996094 120.238281 C 384.996094 109.414062 393.765625 100.644531 404.589844 100.644531 C 415.410156 100.644531 424.183594 109.414062 424.183594 120.238281 \"/>\n",
       "<path style=\"fill-rule:nonzero;fill:rgb(12.156863%,46.666667%,70.588235%);fill-opacity:1;stroke-width:1;stroke-linecap:butt;stroke-linejoin:miter;stroke:rgb(0%,0%,0%);stroke-opacity:1;stroke-miterlimit:10;\" d=\"M 461.953125 147.710938 C 461.953125 158.257812 453.40625 166.804688 442.859375 166.804688 C 432.3125 166.804688 423.765625 158.257812 423.765625 147.710938 C 423.765625 137.164062 432.3125 128.617188 442.859375 128.617188 C 453.40625 128.617188 461.953125 137.164062 461.953125 147.710938 \"/>\n",
       "<path style=\"fill:none;stroke-width:1;stroke-linecap:butt;stroke-linejoin:miter;stroke:rgb(0%,0%,0%);stroke-opacity:1;stroke-miterlimit:10;\" d=\"M 452.039062 529.128906 L 452.039062 529.128906 \"/>\n",
       "<path style=\"fill-rule:nonzero;fill:rgb(17.254902%,62.745098%,17.254902%);fill-opacity:1;stroke-width:1;stroke-linecap:butt;stroke-linejoin:miter;stroke:rgb(0%,0%,0%);stroke-opacity:1;stroke-miterlimit:10;\" d=\"M 230.203125 268.339844 C 230.203125 273.011719 226.417969 276.796875 221.75 276.796875 C 217.078125 276.796875 213.292969 273.011719 213.292969 268.339844 C 213.292969 263.671875 217.078125 259.886719 221.75 259.886719 C 226.417969 259.886719 230.203125 263.671875 230.203125 268.339844 \"/>\n",
       "<path style=\"fill-rule:nonzero;fill:rgb(49.803922%,49.803922%,49.803922%);fill-opacity:1;stroke-width:1;stroke-linecap:butt;stroke-linejoin:miter;stroke:rgb(0%,0%,0%);stroke-opacity:1;stroke-miterlimit:10;\" d=\"M 522.917969 221.667969 C 522.917969 226.511719 518.992188 230.4375 514.144531 230.4375 C 509.300781 230.4375 505.375 226.511719 505.375 221.667969 C 505.375 216.824219 509.300781 212.894531 514.144531 212.894531 C 518.992188 212.894531 522.917969 216.824219 522.917969 221.667969 \"/>\n",
       "<path style=\"fill-rule:nonzero;fill:rgb(17.254902%,62.745098%,17.254902%);fill-opacity:1;stroke-width:1;stroke-linecap:butt;stroke-linejoin:miter;stroke:rgb(0%,0%,0%);stroke-opacity:1;stroke-miterlimit:10;\" d=\"M 294.671875 275.847656 C 294.671875 282.144531 289.566406 287.25 283.265625 287.25 C 276.96875 287.25 271.863281 282.144531 271.863281 275.847656 C 271.863281 269.546875 276.96875 264.441406 283.265625 264.441406 C 289.566406 264.441406 294.671875 269.546875 294.671875 275.847656 \"/>\n",
       "<path style=\"fill-rule:nonzero;fill:rgb(100%,49.803922%,5.490196%);fill-opacity:1;stroke-width:1;stroke-linecap:butt;stroke-linejoin:miter;stroke:rgb(0%,0%,0%);stroke-opacity:1;stroke-miterlimit:10;\" d=\"M 510.679688 478.519531 C 510.679688 485.238281 500.597656 485.238281 500.597656 478.519531 C 500.597656 471.796875 510.679688 471.796875 510.679688 478.519531 \"/>\n",
       "<path style=\"fill-rule:nonzero;fill:rgb(83.921569%,15.294118%,15.686275%);fill-opacity:1;stroke-width:1;stroke-linecap:butt;stroke-linejoin:miter;stroke:rgb(0%,0%,0%);stroke-opacity:1;stroke-miterlimit:10;\" d=\"M 338.6875 48.722656 C 338.6875 54.242188 334.214844 58.714844 328.695312 58.714844 C 323.175781 58.714844 318.699219 54.242188 318.699219 48.722656 C 318.699219 43.199219 323.175781 38.726562 328.695312 38.726562 C 334.214844 38.726562 338.6875 43.199219 338.6875 48.722656 \"/>\n",
       "<path style=\"fill-rule:nonzero;fill:rgb(17.254902%,62.745098%,17.254902%);fill-opacity:1;stroke-width:1;stroke-linecap:butt;stroke-linejoin:miter;stroke:rgb(0%,0%,0%);stroke-opacity:1;stroke-miterlimit:10;\" d=\"M 147.144531 185.984375 C 147.144531 189.824219 141.386719 189.824219 141.386719 185.984375 C 141.386719 182.148438 147.144531 182.148438 147.144531 185.984375 \"/>\n",
       "<path style=\"fill-rule:nonzero;fill:rgb(54.901961%,33.72549%,29.411765%);fill-opacity:1;stroke-width:1;stroke-linecap:butt;stroke-linejoin:miter;stroke:rgb(0%,0%,0%);stroke-opacity:1;stroke-miterlimit:10;\" d=\"M 36.339844 252.0625 C 36.339844 260.132812 29.796875 266.679688 21.726562 266.679688 C 13.652344 266.679688 7.109375 260.132812 7.109375 252.0625 C 7.109375 243.992188 13.652344 237.449219 21.726562 237.449219 C 29.796875 237.449219 36.339844 243.992188 36.339844 252.0625 \"/>\n",
       "<path style=\"fill-rule:nonzero;fill:rgb(54.901961%,33.72549%,29.411765%);fill-opacity:1;stroke-width:1;stroke-linecap:butt;stroke-linejoin:miter;stroke:rgb(0%,0%,0%);stroke-opacity:1;stroke-miterlimit:10;\" d=\"M 43.722656 225.574219 C 43.722656 230.355469 39.847656 234.230469 35.066406 234.230469 C 30.285156 234.230469 26.410156 230.355469 26.410156 225.574219 C 26.410156 220.792969 30.285156 216.917969 35.066406 216.917969 C 39.847656 216.917969 43.722656 220.792969 43.722656 225.574219 \"/>\n",
       "<path style=\"fill-rule:nonzero;fill:rgb(49.803922%,49.803922%,49.803922%);fill-opacity:1;stroke-width:1;stroke-linecap:butt;stroke-linejoin:miter;stroke:rgb(0%,0%,0%);stroke-opacity:1;stroke-miterlimit:10;\" d=\"M 550.957031 222.964844 C 550.957031 229.648438 540.933594 229.648438 540.933594 222.964844 C 540.933594 216.285156 550.957031 216.285156 550.957031 222.964844 \"/>\n",
       "<path style=\"fill-rule:nonzero;fill:rgb(17.254902%,62.745098%,17.254902%);fill-opacity:1;stroke-width:1;stroke-linecap:butt;stroke-linejoin:miter;stroke:rgb(0%,0%,0%);stroke-opacity:1;stroke-miterlimit:10;\" d=\"M 213.03125 537.085938 C 213.03125 541.441406 209.5 544.96875 205.148438 544.96875 C 200.792969 544.96875 197.265625 541.441406 197.265625 537.085938 C 197.265625 532.734375 200.792969 529.203125 205.148438 529.203125 C 209.5 529.203125 213.03125 532.734375 213.03125 537.085938 \"/>\n",
       "<path style=\"fill-rule:nonzero;fill:rgb(17.254902%,62.745098%,17.254902%);fill-opacity:1;stroke-width:1;stroke-linecap:butt;stroke-linejoin:miter;stroke:rgb(0%,0%,0%);stroke-opacity:1;stroke-miterlimit:10;\" d=\"M 234.621094 568.832031 C 234.621094 572.605469 231.5625 575.664062 227.789062 575.664062 C 224.019531 575.664062 220.960938 572.605469 220.960938 568.832031 C 220.960938 565.058594 224.019531 562 227.789062 562 C 231.5625 562 234.621094 565.058594 234.621094 568.832031 \"/>\n",
       "<path style=\"fill-rule:nonzero;fill:rgb(17.254902%,62.745098%,17.254902%);fill-opacity:1;stroke-width:1;stroke-linecap:butt;stroke-linejoin:miter;stroke:rgb(0%,0%,0%);stroke-opacity:1;stroke-miterlimit:10;\" d=\"M 139.617188 434.3125 C 139.617188 436.519531 136.308594 436.519531 136.308594 434.3125 C 136.308594 432.105469 139.617188 432.105469 139.617188 434.3125 \"/>\n",
       "<path style=\"fill-rule:nonzero;fill:rgb(17.254902%,62.745098%,17.254902%);fill-opacity:1;stroke-width:1;stroke-linecap:butt;stroke-linejoin:miter;stroke:rgb(0%,0%,0%);stroke-opacity:1;stroke-miterlimit:10;\" d=\"M 166.78125 71.539062 C 166.78125 74.992188 163.976562 77.796875 160.519531 77.796875 C 157.0625 77.796875 154.261719 74.992188 154.261719 71.539062 C 154.261719 68.082031 157.0625 65.277344 160.519531 65.277344 C 163.976562 65.277344 166.78125 68.082031 166.78125 71.539062 \"/>\n",
       "<path style=\"fill-rule:nonzero;fill:rgb(17.254902%,62.745098%,17.254902%);fill-opacity:1;stroke-width:1;stroke-linecap:butt;stroke-linejoin:miter;stroke:rgb(0%,0%,0%);stroke-opacity:1;stroke-miterlimit:10;\" d=\"M 191.707031 57.996094 C 191.707031 58.644531 190.734375 58.644531 190.734375 57.996094 C 190.734375 57.347656 191.707031 57.347656 191.707031 57.996094 \"/>\n",
       "<path style=\"fill-rule:nonzero;fill:rgb(17.254902%,62.745098%,17.254902%);fill-opacity:1;stroke-width:1;stroke-linecap:butt;stroke-linejoin:miter;stroke:rgb(0%,0%,0%);stroke-opacity:1;stroke-miterlimit:10;\" d=\"M 130.851562 85.851562 C 130.851562 86.863281 129.339844 86.863281 129.339844 85.851562 C 129.339844 84.84375 130.851562 84.84375 130.851562 85.851562 \"/>\n",
       "<path style=\"fill:none;stroke-width:1;stroke-linecap:butt;stroke-linejoin:miter;stroke:rgb(0%,0%,0%);stroke-opacity:1;stroke-miterlimit:10;\" d=\"M 336.878906 216.289062 L 336.878906 216.289062 \"/>\n",
       "<path style=\"fill-rule:nonzero;fill:rgb(17.254902%,62.745098%,17.254902%);fill-opacity:1;stroke-width:1;stroke-linecap:butt;stroke-linejoin:miter;stroke:rgb(0%,0%,0%);stroke-opacity:1;stroke-miterlimit:10;\" d=\"M 119.601562 156.085938 C 119.601562 156.765625 118.578125 156.765625 118.578125 156.085938 C 118.578125 155.402344 119.601562 155.402344 119.601562 156.085938 \"/>\n",
       "<path style=\"fill-rule:nonzero;fill:rgb(49.803922%,49.803922%,49.803922%);fill-opacity:1;stroke-width:1;stroke-linecap:butt;stroke-linejoin:miter;stroke:rgb(0%,0%,0%);stroke-opacity:1;stroke-miterlimit:10;\" d=\"M 303.71875 66.519531 C 303.71875 70.605469 300.402344 73.921875 296.316406 73.921875 C 292.226562 73.921875 288.914062 70.605469 288.914062 66.519531 C 288.914062 62.429688 292.226562 59.117188 296.316406 59.117188 C 300.402344 59.117188 303.71875 62.429688 303.71875 66.519531 \"/>\n",
       "<path style=\"fill-rule:nonzero;fill:rgb(73.72549%,74.117647%,13.333333%);fill-opacity:1;stroke-width:1;stroke-linecap:butt;stroke-linejoin:miter;stroke:rgb(0%,0%,0%);stroke-opacity:1;stroke-miterlimit:10;\" d=\"M 393.554688 577.5625 C 393.554688 581.632812 387.453125 581.632812 387.453125 577.5625 C 387.453125 573.496094 393.554688 573.496094 393.554688 577.5625 \"/>\n",
       "<path style=\"fill-rule:nonzero;fill:rgb(83.921569%,15.294118%,15.686275%);fill-opacity:1;stroke-width:1;stroke-linecap:butt;stroke-linejoin:miter;stroke:rgb(0%,0%,0%);stroke-opacity:1;stroke-miterlimit:10;\" d=\"M 452.238281 381.703125 C 452.238281 385.304688 449.320312 388.222656 445.71875 388.222656 C 442.117188 388.222656 439.199219 385.304688 439.199219 381.703125 C 439.199219 378.101562 442.117188 375.183594 445.71875 375.183594 C 449.320312 375.183594 452.238281 378.101562 452.238281 381.703125 \"/>\n",
       "<path style=\"fill-rule:nonzero;fill:rgb(73.72549%,74.117647%,13.333333%);fill-opacity:1;stroke-width:1;stroke-linecap:butt;stroke-linejoin:miter;stroke:rgb(0%,0%,0%);stroke-opacity:1;stroke-miterlimit:10;\" d=\"M 39.921875 408.386719 C 39.921875 412.105469 36.910156 415.117188 33.191406 415.117188 C 29.46875 415.117188 26.457031 412.105469 26.457031 408.386719 C 26.457031 404.667969 29.46875 401.652344 33.191406 401.652344 C 36.910156 401.652344 39.921875 404.667969 39.921875 408.386719 \"/>\n",
       "<path style=\"fill-rule:nonzero;fill:rgb(49.803922%,49.803922%,49.803922%);fill-opacity:1;stroke-width:1;stroke-linecap:butt;stroke-linejoin:miter;stroke:rgb(0%,0%,0%);stroke-opacity:1;stroke-miterlimit:10;\" d=\"M 536.1875 188.414062 C 536.1875 194.207031 527.5 194.207031 527.5 188.414062 C 527.5 182.621094 536.1875 182.621094 536.1875 188.414062 \"/>\n",
       "<path style=\"fill-rule:nonzero;fill:rgb(49.803922%,49.803922%,49.803922%);fill-opacity:1;stroke-width:1;stroke-linecap:butt;stroke-linejoin:miter;stroke:rgb(0%,0%,0%);stroke-opacity:1;stroke-miterlimit:10;\" d=\"M 376.386719 103.523438 C 376.386719 108.699219 368.625 108.699219 368.625 103.523438 C 368.625 98.351562 376.386719 98.351562 376.386719 103.523438 \"/>\n",
       "<path style=\"fill-rule:nonzero;fill:rgb(17.254902%,62.745098%,17.254902%);fill-opacity:1;stroke-width:1;stroke-linecap:butt;stroke-linejoin:miter;stroke:rgb(0%,0%,0%);stroke-opacity:1;stroke-miterlimit:10;\" d=\"M 151.394531 557.714844 C 151.394531 560 147.96875 560 147.96875 557.714844 C 147.96875 555.429688 151.394531 555.429688 151.394531 557.714844 \"/>\n",
       "<path style=\"fill-rule:nonzero;fill:rgb(73.72549%,74.117647%,13.333333%);fill-opacity:1;stroke-width:1;stroke-linecap:butt;stroke-linejoin:miter;stroke:rgb(0%,0%,0%);stroke-opacity:1;stroke-miterlimit:10;\" d=\"M 321.765625 580 C 321.765625 584.933594 317.769531 588.933594 312.835938 588.933594 C 307.898438 588.933594 303.902344 584.933594 303.902344 580 C 303.902344 575.066406 307.898438 571.066406 312.835938 571.066406 C 317.769531 571.066406 321.765625 575.066406 321.765625 580 \"/>\n",
       "<path style=\"fill-rule:nonzero;fill:rgb(83.921569%,15.294118%,15.686275%);fill-opacity:1;stroke-width:1;stroke-linecap:butt;stroke-linejoin:miter;stroke:rgb(0%,0%,0%);stroke-opacity:1;stroke-miterlimit:10;\" d=\"M 441.34375 417.734375 C 441.34375 421.859375 435.15625 421.859375 435.15625 417.734375 C 435.15625 413.609375 441.34375 413.609375 441.34375 417.734375 \"/>\n",
       "<path style=\"fill-rule:nonzero;fill:rgb(49.803922%,49.803922%,49.803922%);fill-opacity:1;stroke-width:1;stroke-linecap:butt;stroke-linejoin:miter;stroke:rgb(0%,0%,0%);stroke-opacity:1;stroke-miterlimit:10;\" d=\"M 322.5 20 C 322.5 23.484375 319.675781 26.3125 316.1875 26.3125 C 312.703125 26.3125 309.875 23.484375 309.875 20 C 309.875 16.515625 312.703125 13.6875 316.1875 13.6875 C 319.675781 13.6875 322.5 16.515625 322.5 20 \"/>\n",
       "<path style=\"fill-rule:nonzero;fill:rgb(9.019608%,74.509804%,81.176471%);fill-opacity:1;stroke-width:1;stroke-linecap:butt;stroke-linejoin:miter;stroke:rgb(0%,0%,0%);stroke-opacity:1;stroke-miterlimit:10;\" d=\"M 99.804688 496.621094 C 99.804688 501.808594 95.601562 506.007812 90.417969 506.007812 C 85.234375 506.007812 81.035156 501.808594 81.035156 496.621094 C 81.035156 491.4375 85.234375 487.238281 90.417969 487.238281 C 95.601562 487.238281 99.804688 491.4375 99.804688 496.621094 \"/>\n",
       "<path style=\"fill-rule:nonzero;fill:rgb(83.921569%,15.294118%,15.686275%);fill-opacity:1;stroke-width:1;stroke-linecap:butt;stroke-linejoin:miter;stroke:rgb(0%,0%,0%);stroke-opacity:1;stroke-miterlimit:10;\" d=\"M 305.335938 96.019531 C 305.335938 101.519531 297.085938 101.519531 297.085938 96.019531 C 297.085938 90.515625 305.335938 90.515625 305.335938 96.019531 \"/>\n",
       "<path style=\"fill-rule:nonzero;fill:rgb(17.254902%,62.745098%,17.254902%);fill-opacity:1;stroke-width:1;stroke-linecap:butt;stroke-linejoin:miter;stroke:rgb(0%,0%,0%);stroke-opacity:1;stroke-miterlimit:10;\" d=\"M 162 466.957031 C 162 468.773438 159.277344 468.773438 159.277344 466.957031 C 159.277344 465.144531 162 465.144531 162 466.957031 \"/>\n",
       "<path style=\"fill-rule:nonzero;fill:rgb(83.921569%,15.294118%,15.686275%);fill-opacity:1;stroke-width:1;stroke-linecap:butt;stroke-linejoin:miter;stroke:rgb(0%,0%,0%);stroke-opacity:1;stroke-miterlimit:10;\" d=\"M 70.40625 140.789062 C 70.40625 146.953125 61.160156 146.953125 61.160156 140.789062 C 61.160156 134.621094 70.40625 134.621094 70.40625 140.789062 \"/>\n",
       "<path style=\"fill-rule:nonzero;fill:rgb(83.921569%,15.294118%,15.686275%);fill-opacity:1;stroke-width:1;stroke-linecap:butt;stroke-linejoin:miter;stroke:rgb(0%,0%,0%);stroke-opacity:1;stroke-miterlimit:10;\" d=\"M 60.296875 169.480469 C 60.296875 173.007812 57.4375 175.867188 53.90625 175.867188 C 50.378906 175.867188 47.519531 173.007812 47.519531 169.480469 C 47.519531 165.949219 50.378906 163.089844 53.90625 163.089844 C 57.4375 163.089844 60.296875 165.949219 60.296875 169.480469 \"/>\n",
       "<path style=\"fill-rule:nonzero;fill:rgb(54.901961%,33.72549%,29.411765%);fill-opacity:1;stroke-width:1;stroke-linecap:butt;stroke-linejoin:miter;stroke:rgb(0%,0%,0%);stroke-opacity:1;stroke-miterlimit:10;\" d=\"M 591.933594 350.859375 C 591.933594 357.484375 586.5625 362.855469 579.933594 362.855469 C 573.308594 362.855469 567.9375 357.484375 567.9375 350.859375 C 567.9375 344.234375 573.308594 338.863281 579.933594 338.863281 C 586.5625 338.863281 591.933594 344.234375 591.933594 350.859375 \"/>\n",
       "<path style=\"fill-rule:nonzero;fill:rgb(54.901961%,33.72549%,29.411765%);fill-opacity:1;stroke-width:1;stroke-linecap:butt;stroke-linejoin:miter;stroke:rgb(0%,0%,0%);stroke-opacity:1;stroke-miterlimit:10;\" d=\"M 586.863281 319.523438 C 586.863281 323.316406 583.792969 326.390625 580 326.390625 C 576.207031 326.390625 573.136719 323.316406 573.136719 319.523438 C 573.136719 315.734375 576.207031 312.660156 580 312.660156 C 583.792969 312.660156 586.863281 315.734375 586.863281 319.523438 \"/>\n",
       "<path style=\"fill-rule:nonzero;fill:rgb(83.921569%,15.294118%,15.686275%);fill-opacity:1;stroke-width:1;stroke-linecap:butt;stroke-linejoin:miter;stroke:rgb(0%,0%,0%);stroke-opacity:1;stroke-miterlimit:10;\" d=\"M 334.210938 119.519531 C 334.210938 125.527344 325.199219 125.527344 325.199219 119.519531 C 325.199219 113.511719 334.210938 113.511719 334.210938 119.519531 \"/>\n",
       "<path style=\"fill-rule:nonzero;fill:rgb(54.901961%,33.72549%,29.411765%);fill-opacity:1;stroke-width:1;stroke-linecap:butt;stroke-linejoin:miter;stroke:rgb(0%,0%,0%);stroke-opacity:1;stroke-miterlimit:10;\" d=\"M 443.140625 273.265625 C 443.140625 279.378906 433.96875 279.378906 433.96875 273.265625 C 433.96875 267.148438 443.140625 267.148438 443.140625 273.265625 \"/>\n",
       "<g style=\"fill:rgb(0%,0%,0%);fill-opacity:1;\">\n",
       "  <use xlink:href=\"#glyph0-1\" x=\"399.363281\" y=\"536.261719\"/>\n",
       "  <use xlink:href=\"#glyph0-2\" x=\"408.701172\" y=\"536.261719\"/>\n",
       "  <use xlink:href=\"#glyph0-3\" x=\"418.039062\" y=\"536.261719\"/>\n",
       "</g>\n",
       "<g style=\"fill:rgb(0%,0%,0%);fill-opacity:1;\">\n",
       "  <use xlink:href=\"#glyph0-4\" x=\"368.390625\" y=\"552.609375\"/>\n",
       "  <use xlink:href=\"#glyph0-5\" x=\"378.500977\" y=\"552.609375\"/>\n",
       "  <use xlink:href=\"#glyph0-6\" x=\"389.390625\" y=\"552.609375\"/>\n",
       "</g>\n",
       "<g style=\"fill:rgb(0%,0%,0%);fill-opacity:1;\">\n",
       "  <use xlink:href=\"#glyph0-7\" x=\"491.4375\" y=\"403.824219\"/>\n",
       "  <use xlink:href=\"#glyph0-8\" x=\"500.775391\" y=\"403.824219\"/>\n",
       "  <use xlink:href=\"#glyph0-9\" x=\"510.113281\" y=\"403.824219\"/>\n",
       "</g>\n",
       "<g style=\"fill:rgb(0%,0%,0%);fill-opacity:1;\">\n",
       "  <use xlink:href=\"#glyph0-10\" x=\"468.523438\" y=\"368.15625\"/>\n",
       "  <use xlink:href=\"#glyph0-11\" x=\"477.075195\" y=\"368.15625\"/>\n",
       "  <use xlink:href=\"#glyph0-9\" x=\"487.185547\" y=\"368.15625\"/>\n",
       "</g>\n",
       "<g style=\"fill:rgb(0%,0%,0%);fill-opacity:1;\">\n",
       "  <use xlink:href=\"#glyph0-6\" x=\"494.71875\" y=\"450.179688\"/>\n",
       "  <use xlink:href=\"#glyph0-12\" x=\"502.504883\" y=\"450.179688\"/>\n",
       "  <use xlink:href=\"#glyph0-3\" x=\"511.842773\" y=\"450.179688\"/>\n",
       "</g>\n",
       "<g style=\"fill:rgb(0%,0%,0%);fill-opacity:1;\">\n",
       "  <use xlink:href=\"#glyph0-13\" x=\"523.039062\" y=\"400.546875\"/>\n",
       "  <use xlink:href=\"#glyph0-5\" x=\"530.039062\" y=\"400.546875\"/>\n",
       "  <use xlink:href=\"#glyph0-9\" x=\"540.928711\" y=\"400.546875\"/>\n",
       "</g>\n",
       "<g style=\"fill:rgb(0%,0%,0%);fill-opacity:1;\">\n",
       "  <use xlink:href=\"#glyph0-14\" x=\"433.992188\" y=\"196.367188\"/>\n",
       "  <use xlink:href=\"#glyph0-14\" x=\"445.654297\" y=\"196.367188\"/>\n",
       "  <use xlink:href=\"#glyph0-9\" x=\"457.316406\" y=\"196.367188\"/>\n",
       "</g>\n",
       "<g style=\"fill:rgb(0%,0%,0%);fill-opacity:1;\">\n",
       "  <use xlink:href=\"#glyph0-12\" x=\"405.597656\" y=\"211.203125\"/>\n",
       "  <use xlink:href=\"#glyph0-15\" x=\"414.935547\" y=\"211.203125\"/>\n",
       "  <use xlink:href=\"#glyph0-16\" x=\"425.825195\" y=\"211.203125\"/>\n",
       "</g>\n",
       "<g style=\"fill:rgb(0%,0%,0%);fill-opacity:1;\">\n",
       "  <use xlink:href=\"#glyph0-17\" x=\"509.632812\" y=\"272.394531\"/>\n",
       "  <use xlink:href=\"#glyph0-18\" x=\"518.970703\" y=\"272.394531\"/>\n",
       "  <use xlink:href=\"#glyph0-15\" x=\"527.522461\" y=\"272.394531\"/>\n",
       "</g>\n",
       "<g style=\"fill:rgb(0%,0%,0%);fill-opacity:1;\">\n",
       "  <use xlink:href=\"#glyph0-19\" x=\"494.011719\" y=\"330.011719\"/>\n",
       "  <use xlink:href=\"#glyph0-9\" x=\"497.901367\" y=\"330.011719\"/>\n",
       "  <use xlink:href=\"#glyph0-3\" x=\"508.011719\" y=\"330.011719\"/>\n",
       "</g>\n",
       "<g style=\"fill:rgb(0%,0%,0%);fill-opacity:1;\">\n",
       "  <use xlink:href=\"#glyph0-20\" x=\"536.902344\" y=\"275.929688\"/>\n",
       "  <use xlink:href=\"#glyph0-17\" x=\"546.240234\" y=\"275.929688\"/>\n",
       "  <use xlink:href=\"#glyph0-21\" x=\"555.578125\" y=\"275.929688\"/>\n",
       "</g>\n",
       "<g style=\"fill:rgb(0%,0%,0%);fill-opacity:1;\">\n",
       "  <use xlink:href=\"#glyph0-11\" x=\"337.203125\" y=\"45.636719\"/>\n",
       "  <use xlink:href=\"#glyph0-21\" x=\"347.313477\" y=\"45.636719\"/>\n",
       "  <use xlink:href=\"#glyph0-9\" x=\"356.651367\" y=\"45.636719\"/>\n",
       "</g>\n",
       "<g style=\"fill:rgb(0%,0%,0%);fill-opacity:1;\">\n",
       "  <use xlink:href=\"#glyph0-9\" x=\"337.296875\" y=\"90.679688\"/>\n",
       "  <use xlink:href=\"#glyph0-11\" x=\"347.407227\" y=\"90.679688\"/>\n",
       "  <use xlink:href=\"#glyph0-7\" x=\"357.517578\" y=\"90.679688\"/>\n",
       "</g>\n",
       "<g style=\"fill:rgb(0%,0%,0%);fill-opacity:1;\">\n",
       "  <use xlink:href=\"#glyph0-4\" x=\"289.683594\" y=\"422.84375\"/>\n",
       "  <use xlink:href=\"#glyph0-19\" x=\"299.793945\" y=\"422.84375\"/>\n",
       "  <use xlink:href=\"#glyph0-1\" x=\"303.683594\" y=\"422.84375\"/>\n",
       "</g>\n",
       "<g style=\"fill:rgb(0%,0%,0%);fill-opacity:1;\">\n",
       "  <use xlink:href=\"#glyph0-6\" x=\"322.152344\" y=\"433.699219\"/>\n",
       "  <use xlink:href=\"#glyph0-12\" x=\"329.938477\" y=\"433.699219\"/>\n",
       "  <use xlink:href=\"#glyph0-9\" x=\"339.276367\" y=\"433.699219\"/>\n",
       "</g>\n",
       "<g style=\"fill:rgb(0%,0%,0%);fill-opacity:1;\">\n",
       "  <use xlink:href=\"#glyph0-19\" x=\"497.546875\" y=\"369.273438\"/>\n",
       "  <use xlink:href=\"#glyph0-9\" x=\"501.436523\" y=\"369.273438\"/>\n",
       "  <use xlink:href=\"#glyph0-22\" x=\"511.546875\" y=\"369.273438\"/>\n",
       "</g>\n",
       "<g style=\"fill:rgb(0%,0%,0%);fill-opacity:1;\">\n",
       "  <use xlink:href=\"#glyph0-7\" x=\"298.144531\" y=\"243.875\"/>\n",
       "  <use xlink:href=\"#glyph0-5\" x=\"307.482422\" y=\"243.875\"/>\n",
       "  <use xlink:href=\"#glyph0-14\" x=\"318.37207\" y=\"243.875\"/>\n",
       "</g>\n",
       "<g style=\"fill:rgb(0%,0%,0%);fill-opacity:1;\">\n",
       "  <use xlink:href=\"#glyph0-21\" x=\"251.742188\" y=\"254.808594\"/>\n",
       "  <use xlink:href=\"#glyph0-2\" x=\"261.080078\" y=\"254.808594\"/>\n",
       "  <use xlink:href=\"#glyph0-3\" x=\"270.417969\" y=\"254.808594\"/>\n",
       "</g>\n",
       "<g style=\"fill:rgb(0%,0%,0%);fill-opacity:1;\">\n",
       "  <use xlink:href=\"#glyph0-6\" x=\"195.382812\" y=\"195.769531\"/>\n",
       "  <use xlink:href=\"#glyph0-12\" x=\"203.168945\" y=\"195.769531\"/>\n",
       "  <use xlink:href=\"#glyph0-8\" x=\"212.506836\" y=\"195.769531\"/>\n",
       "</g>\n",
       "<g style=\"fill:rgb(0%,0%,0%);fill-opacity:1;\">\n",
       "  <use xlink:href=\"#glyph0-10\" x=\"186.964844\" y=\"146.242188\"/>\n",
       "  <use xlink:href=\"#glyph0-11\" x=\"195.516602\" y=\"146.242188\"/>\n",
       "  <use xlink:href=\"#glyph0-3\" x=\"205.626953\" y=\"146.242188\"/>\n",
       "</g>\n",
       "<g style=\"fill:rgb(0%,0%,0%);fill-opacity:1;\">\n",
       "  <use xlink:href=\"#glyph0-23\" x=\"166.226562\" y=\"509.042969\"/>\n",
       "  <use xlink:href=\"#glyph0-24\" x=\"174.77832\" y=\"509.042969\"/>\n",
       "  <use xlink:href=\"#glyph0-2\" x=\"187.992188\" y=\"509.042969\"/>\n",
       "</g>\n",
       "<g style=\"fill:rgb(0%,0%,0%);fill-opacity:1;\">\n",
       "  <use xlink:href=\"#glyph0-23\" x=\"158.953125\" y=\"541.34375\"/>\n",
       "  <use xlink:href=\"#glyph0-17\" x=\"167.504883\" y=\"541.34375\"/>\n",
       "  <use xlink:href=\"#glyph0-18\" x=\"176.842773\" y=\"541.34375\"/>\n",
       "</g>\n",
       "<g style=\"fill:rgb(0%,0%,0%);fill-opacity:1;\">\n",
       "  <use xlink:href=\"#glyph0-12\" x=\"402.734375\" y=\"502.558594\"/>\n",
       "  <use xlink:href=\"#glyph0-9\" x=\"412.072266\" y=\"502.558594\"/>\n",
       "  <use xlink:href=\"#glyph0-17\" x=\"422.182617\" y=\"502.558594\"/>\n",
       "</g>\n",
       "<g style=\"fill:rgb(0%,0%,0%);fill-opacity:1;\">\n",
       "  <use xlink:href=\"#glyph0-7\" x=\"224.835938\" y=\"235.082031\"/>\n",
       "  <use xlink:href=\"#glyph0-16\" x=\"234.173828\" y=\"235.082031\"/>\n",
       "  <use xlink:href=\"#glyph0-3\" x=\"244.28418\" y=\"235.082031\"/>\n",
       "</g>\n",
       "<g style=\"fill:rgb(0%,0%,0%);fill-opacity:1;\">\n",
       "  <use xlink:href=\"#glyph0-10\" x=\"190.652344\" y=\"259.113281\"/>\n",
       "  <use xlink:href=\"#glyph0-4\" x=\"199.204102\" y=\"259.113281\"/>\n",
       "  <use xlink:href=\"#glyph0-16\" x=\"209.314453\" y=\"259.113281\"/>\n",
       "</g>\n",
       "<g style=\"fill:rgb(0%,0%,0%);fill-opacity:1;\">\n",
       "  <use xlink:href=\"#glyph0-4\" x=\"175.785156\" y=\"229.292969\"/>\n",
       "  <use xlink:href=\"#glyph0-17\" x=\"185.895508\" y=\"229.292969\"/>\n",
       "  <use xlink:href=\"#glyph0-18\" x=\"195.233398\" y=\"229.292969\"/>\n",
       "</g>\n",
       "<g style=\"fill:rgb(0%,0%,0%);fill-opacity:1;\">\n",
       "  <use xlink:href=\"#glyph0-4\" x=\"162.152344\" y=\"273.140625\"/>\n",
       "  <use xlink:href=\"#glyph0-14\" x=\"172.262695\" y=\"273.140625\"/>\n",
       "  <use xlink:href=\"#glyph0-9\" x=\"183.924805\" y=\"273.140625\"/>\n",
       "</g>\n",
       "<g style=\"fill:rgb(0%,0%,0%);fill-opacity:1;\">\n",
       "  <use xlink:href=\"#glyph0-12\" x=\"99.464844\" y=\"309.984375\"/>\n",
       "  <use xlink:href=\"#glyph0-16\" x=\"108.802734\" y=\"309.984375\"/>\n",
       "  <use xlink:href=\"#glyph0-19\" x=\"118.913086\" y=\"309.984375\"/>\n",
       "</g>\n",
       "<g style=\"fill:rgb(0%,0%,0%);fill-opacity:1;\">\n",
       "  <use xlink:href=\"#glyph0-10\" x=\"82.707031\" y=\"285.238281\"/>\n",
       "  <use xlink:href=\"#glyph0-23\" x=\"91.258789\" y=\"285.238281\"/>\n",
       "  <use xlink:href=\"#glyph0-17\" x=\"99.810547\" y=\"285.238281\"/>\n",
       "</g>\n",
       "<g style=\"fill:rgb(0%,0%,0%);fill-opacity:1;\">\n",
       "  <use xlink:href=\"#glyph0-3\" x=\"7.707031\" y=\"318.777344\"/>\n",
       "  <use xlink:href=\"#glyph0-19\" x=\"17.817383\" y=\"318.777344\"/>\n",
       "  <use xlink:href=\"#glyph0-4\" x=\"21.707031\" y=\"318.777344\"/>\n",
       "</g>\n",
       "<g style=\"fill:rgb(0%,0%,0%);fill-opacity:1;\">\n",
       "  <use xlink:href=\"#glyph0-4\" x=\"9.464844\" y=\"348.238281\"/>\n",
       "  <use xlink:href=\"#glyph0-9\" x=\"19.575195\" y=\"348.238281\"/>\n",
       "  <use xlink:href=\"#glyph0-19\" x=\"29.685547\" y=\"348.238281\"/>\n",
       "</g>\n",
       "<g style=\"fill:rgb(0%,0%,0%);fill-opacity:1;\">\n",
       "  <use xlink:href=\"#glyph0-2\" x=\"271.550781\" y=\"227.75\"/>\n",
       "  <use xlink:href=\"#glyph0-10\" x=\"280.888672\" y=\"227.75\"/>\n",
       "  <use xlink:href=\"#glyph0-25\" x=\"289.44043\" y=\"227.75\"/>\n",
       "</g>\n",
       "<g style=\"fill:rgb(0%,0%,0%);fill-opacity:1;\">\n",
       "  <use xlink:href=\"#glyph0-2\" x=\"253\" y=\"203.875\"/>\n",
       "  <use xlink:href=\"#glyph0-9\" x=\"262.337891\" y=\"203.875\"/>\n",
       "  <use xlink:href=\"#glyph0-19\" x=\"272.448242\" y=\"203.875\"/>\n",
       "</g>\n",
       "<g style=\"fill:rgb(0%,0%,0%);fill-opacity:1;\">\n",
       "  <use xlink:href=\"#glyph0-17\" x=\"396.597656\" y=\"80.421875\"/>\n",
       "  <use xlink:href=\"#glyph0-23\" x=\"405.935547\" y=\"80.421875\"/>\n",
       "  <use xlink:href=\"#glyph0-2\" x=\"414.487305\" y=\"80.421875\"/>\n",
       "</g>\n",
       "<g style=\"fill:rgb(0%,0%,0%);fill-opacity:1;\">\n",
       "  <use xlink:href=\"#glyph0-17\" x=\"437.382812\" y=\"87.824219\"/>\n",
       "  <use xlink:href=\"#glyph0-9\" x=\"446.720703\" y=\"87.824219\"/>\n",
       "  <use xlink:href=\"#glyph0-14\" x=\"456.831055\" y=\"87.824219\"/>\n",
       "</g>\n",
       "<g style=\"fill:rgb(0%,0%,0%);fill-opacity:1;\">\n",
       "  <use xlink:href=\"#glyph0-9\" x=\"125.6875\" y=\"293.160156\"/>\n",
       "  <use xlink:href=\"#glyph0-24\" x=\"135.797852\" y=\"293.160156\"/>\n",
       "  <use xlink:href=\"#glyph0-17\" x=\"149.011719\" y=\"293.160156\"/>\n",
       "</g>\n",
       "<g style=\"fill:rgb(0%,0%,0%);fill-opacity:1;\">\n",
       "  <use xlink:href=\"#glyph0-14\" x=\"238.609375\" y=\"381.640625\"/>\n",
       "  <use xlink:href=\"#glyph0-6\" x=\"250.271484\" y=\"381.640625\"/>\n",
       "  <use xlink:href=\"#glyph0-19\" x=\"258.057617\" y=\"381.640625\"/>\n",
       "</g>\n",
       "<g style=\"fill:rgb(0%,0%,0%);fill-opacity:1;\">\n",
       "  <use xlink:href=\"#glyph0-14\" x=\"210.085938\" y=\"406.84375\"/>\n",
       "  <use xlink:href=\"#glyph0-9\" x=\"221.748047\" y=\"406.84375\"/>\n",
       "  <use xlink:href=\"#glyph0-10\" x=\"231.858398\" y=\"406.84375\"/>\n",
       "</g>\n",
       "<g style=\"fill:rgb(0%,0%,0%);fill-opacity:1;\">\n",
       "  <use xlink:href=\"#glyph0-7\" x=\"360.175781\" y=\"434.757812\"/>\n",
       "  <use xlink:href=\"#glyph0-6\" x=\"369.513672\" y=\"434.757812\"/>\n",
       "  <use xlink:href=\"#glyph0-2\" x=\"377.299805\" y=\"434.757812\"/>\n",
       "</g>\n",
       "<g style=\"fill:rgb(0%,0%,0%);fill-opacity:1;\">\n",
       "  <use xlink:href=\"#glyph0-3\" x=\"207.25\" y=\"333.503906\"/>\n",
       "  <use xlink:href=\"#glyph0-2\" x=\"217.360352\" y=\"333.503906\"/>\n",
       "  <use xlink:href=\"#glyph0-9\" x=\"226.698242\" y=\"333.503906\"/>\n",
       "</g>\n",
       "<g style=\"fill:rgb(0%,0%,0%);fill-opacity:1;\">\n",
       "  <use xlink:href=\"#glyph0-3\" x=\"179.113281\" y=\"307.015625\"/>\n",
       "  <use xlink:href=\"#glyph0-15\" x=\"189.223633\" y=\"307.015625\"/>\n",
       "  <use xlink:href=\"#glyph0-17\" x=\"200.113281\" y=\"307.015625\"/>\n",
       "</g>\n",
       "<g style=\"fill:rgb(0%,0%,0%);fill-opacity:1;\">\n",
       "  <use xlink:href=\"#glyph0-10\" x=\"434.964844\" y=\"242.058594\"/>\n",
       "  <use xlink:href=\"#glyph0-25\" x=\"443.516602\" y=\"242.058594\"/>\n",
       "  <use xlink:href=\"#glyph0-17\" x=\"453.626953\" y=\"242.058594\"/>\n",
       "</g>\n",
       "<g style=\"fill:rgb(0%,0%,0%);fill-opacity:1;\">\n",
       "  <use xlink:href=\"#glyph0-12\" x=\"262.121094\" y=\"399.039062\"/>\n",
       "  <use xlink:href=\"#glyph0-18\" x=\"271.458984\" y=\"399.039062\"/>\n",
       "  <use xlink:href=\"#glyph0-17\" x=\"280.010742\" y=\"399.039062\"/>\n",
       "</g>\n",
       "<g style=\"fill:rgb(0%,0%,0%);fill-opacity:1;\">\n",
       "  <use xlink:href=\"#glyph0-17\" x=\"97.742188\" y=\"411.074219\"/>\n",
       "  <use xlink:href=\"#glyph0-15\" x=\"107.080078\" y=\"411.074219\"/>\n",
       "  <use xlink:href=\"#glyph0-5\" x=\"117.969727\" y=\"411.074219\"/>\n",
       "</g>\n",
       "<g style=\"fill:rgb(0%,0%,0%);fill-opacity:1;\">\n",
       "  <use xlink:href=\"#glyph0-23\" x=\"72.6875\" y=\"385.847656\"/>\n",
       "  <use xlink:href=\"#glyph0-14\" x=\"81.239258\" y=\"385.847656\"/>\n",
       "  <use xlink:href=\"#glyph0-12\" x=\"92.901367\" y=\"385.847656\"/>\n",
       "</g>\n",
       "<g style=\"fill:rgb(0%,0%,0%);fill-opacity:1;\">\n",
       "  <use xlink:href=\"#glyph0-14\" x=\"34.660156\" y=\"445.140625\"/>\n",
       "  <use xlink:href=\"#glyph0-2\" x=\"46.322266\" y=\"445.140625\"/>\n",
       "  <use xlink:href=\"#glyph0-26\" x=\"55.660156\" y=\"445.140625\"/>\n",
       "</g>\n",
       "<g style=\"fill:rgb(0%,0%,0%);fill-opacity:1;\">\n",
       "  <use xlink:href=\"#glyph0-11\" x=\"55.832031\" y=\"475.785156\"/>\n",
       "  <use xlink:href=\"#glyph0-7\" x=\"65.942383\" y=\"475.785156\"/>\n",
       "  <use xlink:href=\"#glyph0-17\" x=\"75.280273\" y=\"475.785156\"/>\n",
       "</g>\n",
       "<g style=\"fill:rgb(0%,0%,0%);fill-opacity:1;\">\n",
       "  <use xlink:href=\"#glyph0-15\" x=\"334.84375\" y=\"412.226562\"/>\n",
       "  <use xlink:href=\"#glyph0-19\" x=\"345.733398\" y=\"412.226562\"/>\n",
       "  <use xlink:href=\"#glyph0-3\" x=\"349.623047\" y=\"412.226562\"/>\n",
       "</g>\n",
       "<g style=\"fill:rgb(0%,0%,0%);fill-opacity:1;\">\n",
       "  <use xlink:href=\"#glyph0-2\" x=\"328.546875\" y=\"567.476562\"/>\n",
       "  <use xlink:href=\"#glyph0-4\" x=\"337.884766\" y=\"567.476562\"/>\n",
       "  <use xlink:href=\"#glyph0-11\" x=\"347.995117\" y=\"567.476562\"/>\n",
       "</g>\n",
       "<g style=\"fill:rgb(0%,0%,0%);fill-opacity:1;\">\n",
       "  <use xlink:href=\"#glyph0-10\" x=\"273.761719\" y=\"505.628906\"/>\n",
       "  <use xlink:href=\"#glyph0-15\" x=\"282.313477\" y=\"505.628906\"/>\n",
       "  <use xlink:href=\"#glyph0-5\" x=\"293.203125\" y=\"505.628906\"/>\n",
       "</g>\n",
       "<g style=\"fill:rgb(0%,0%,0%);fill-opacity:1;\">\n",
       "  <use xlink:href=\"#glyph0-15\" x=\"278.707031\" y=\"473.871094\"/>\n",
       "  <use xlink:href=\"#glyph0-25\" x=\"289.59668\" y=\"473.871094\"/>\n",
       "  <use xlink:href=\"#glyph0-17\" x=\"299.707031\" y=\"473.871094\"/>\n",
       "</g>\n",
       "<g style=\"fill:rgb(0%,0%,0%);fill-opacity:1;\">\n",
       "  <use xlink:href=\"#glyph0-12\" x=\"256.316406\" y=\"535.0625\"/>\n",
       "  <use xlink:href=\"#glyph0-2\" x=\"265.654297\" y=\"535.0625\"/>\n",
       "  <use xlink:href=\"#glyph0-3\" x=\"274.992188\" y=\"535.0625\"/>\n",
       "</g>\n",
       "<g style=\"fill:rgb(0%,0%,0%);fill-opacity:1;\">\n",
       "  <use xlink:href=\"#glyph0-4\" x=\"389.652344\" y=\"127.003906\"/>\n",
       "  <use xlink:href=\"#glyph0-25\" x=\"399.762695\" y=\"127.003906\"/>\n",
       "  <use xlink:href=\"#glyph0-3\" x=\"409.873047\" y=\"127.003906\"/>\n",
       "</g>\n",
       "<g style=\"fill:rgb(0%,0%,0%);fill-opacity:1;\">\n",
       "  <use xlink:href=\"#glyph0-19\" x=\"430.457031\" y=\"154.34375\"/>\n",
       "  <use xlink:href=\"#glyph0-3\" x=\"434.34668\" y=\"154.34375\"/>\n",
       "  <use xlink:href=\"#glyph0-16\" x=\"444.457031\" y=\"154.34375\"/>\n",
       "</g>\n",
       "<g style=\"fill:rgb(0%,0%,0%);fill-opacity:1;\">\n",
       "  <use xlink:href=\"#glyph0-15\" x=\"436.582031\" y=\"535.894531\"/>\n",
       "  <use xlink:href=\"#glyph0-11\" x=\"447.47168\" y=\"535.894531\"/>\n",
       "  <use xlink:href=\"#glyph0-8\" x=\"457.582031\" y=\"535.894531\"/>\n",
       "</g>\n",
       "<g style=\"fill:rgb(0%,0%,0%);fill-opacity:1;\">\n",
       "  <use xlink:href=\"#glyph0-11\" x=\"206.085938\" y=\"275.109375\"/>\n",
       "  <use xlink:href=\"#glyph0-15\" x=\"216.196289\" y=\"275.109375\"/>\n",
       "  <use xlink:href=\"#glyph0-17\" x=\"227.085938\" y=\"275.109375\"/>\n",
       "</g>\n",
       "<g style=\"fill:rgb(0%,0%,0%);fill-opacity:1;\">\n",
       "  <use xlink:href=\"#glyph0-11\" x=\"499.84375\" y=\"228.296875\"/>\n",
       "  <use xlink:href=\"#glyph0-23\" x=\"509.954102\" y=\"228.296875\"/>\n",
       "  <use xlink:href=\"#glyph0-12\" x=\"518.505859\" y=\"228.296875\"/>\n",
       "</g>\n",
       "<g style=\"fill:rgb(0%,0%,0%);fill-opacity:1;\">\n",
       "  <use xlink:href=\"#glyph0-2\" x=\"267.9375\" y=\"282.613281\"/>\n",
       "  <use xlink:href=\"#glyph0-15\" x=\"277.275391\" y=\"282.613281\"/>\n",
       "  <use xlink:href=\"#glyph0-8\" x=\"288.165039\" y=\"282.613281\"/>\n",
       "</g>\n",
       "<g style=\"fill:rgb(0%,0%,0%);fill-opacity:1;\">\n",
       "  <use xlink:href=\"#glyph0-19\" x=\"493.554688\" y=\"485.285156\"/>\n",
       "  <use xlink:href=\"#glyph0-7\" x=\"497.444336\" y=\"485.285156\"/>\n",
       "  <use xlink:href=\"#glyph0-9\" x=\"506.782227\" y=\"485.285156\"/>\n",
       "</g>\n",
       "<g style=\"fill:rgb(0%,0%,0%);fill-opacity:1;\">\n",
       "  <use xlink:href=\"#glyph0-20\" x=\"314.226562\" y=\"55.488281\"/>\n",
       "  <use xlink:href=\"#glyph0-5\" x=\"323.564453\" y=\"55.488281\"/>\n",
       "  <use xlink:href=\"#glyph0-6\" x=\"334.454102\" y=\"55.488281\"/>\n",
       "</g>\n",
       "<g style=\"fill:rgb(0%,0%,0%);fill-opacity:1;\">\n",
       "  <use xlink:href=\"#glyph0-4\" x=\"128.53125\" y=\"192.753906\"/>\n",
       "  <use xlink:href=\"#glyph0-5\" x=\"138.641602\" y=\"192.753906\"/>\n",
       "  <use xlink:href=\"#glyph0-15\" x=\"149.53125\" y=\"192.753906\"/>\n",
       "</g>\n",
       "<g style=\"fill:rgb(0%,0%,0%);fill-opacity:1;\">\n",
       "  <use xlink:href=\"#glyph0-19\" x=\"9.519531\" y=\"258.695312\"/>\n",
       "  <use xlink:href=\"#glyph0-16\" x=\"13.40918\" y=\"258.695312\"/>\n",
       "  <use xlink:href=\"#glyph0-3\" x=\"23.519531\" y=\"258.695312\"/>\n",
       "</g>\n",
       "<g style=\"fill:rgb(0%,0%,0%);fill-opacity:1;\">\n",
       "  <use xlink:href=\"#glyph0-14\" x=\"19.710938\" y=\"232.339844\"/>\n",
       "  <use xlink:href=\"#glyph0-8\" x=\"31.373047\" y=\"232.339844\"/>\n",
       "  <use xlink:href=\"#glyph0-7\" x=\"40.710938\" y=\"232.339844\"/>\n",
       "</g>\n",
       "<g style=\"fill:rgb(0%,0%,0%);fill-opacity:1;\">\n",
       "  <use xlink:href=\"#glyph0-10\" x=\"533.414062\" y=\"229.597656\"/>\n",
       "  <use xlink:href=\"#glyph0-13\" x=\"541.96582\" y=\"229.597656\"/>\n",
       "  <use xlink:href=\"#glyph0-21\" x=\"548.96582\" y=\"229.597656\"/>\n",
       "</g>\n",
       "<g style=\"fill:rgb(0%,0%,0%);fill-opacity:1;\">\n",
       "  <use xlink:href=\"#glyph0-14\" x=\"189.238281\" y=\"543.855469\"/>\n",
       "  <use xlink:href=\"#glyph0-5\" x=\"200.900391\" y=\"543.855469\"/>\n",
       "  <use xlink:href=\"#glyph0-23\" x=\"211.790039\" y=\"543.855469\"/>\n",
       "</g>\n",
       "<g style=\"fill:rgb(0%,0%,0%);fill-opacity:1;\">\n",
       "  <use xlink:href=\"#glyph0-14\" x=\"213.460938\" y=\"575.460938\"/>\n",
       "  <use xlink:href=\"#glyph0-24\" x=\"225.123047\" y=\"575.460938\"/>\n",
       "  <use xlink:href=\"#glyph0-19\" x=\"238.336914\" y=\"575.460938\"/>\n",
       "</g>\n",
       "<g style=\"fill:rgb(0%,0%,0%);fill-opacity:1;\">\n",
       "  <use xlink:href=\"#glyph0-3\" x=\"122.375\" y=\"440.945312\"/>\n",
       "  <use xlink:href=\"#glyph0-17\" x=\"132.485352\" y=\"440.945312\"/>\n",
       "  <use xlink:href=\"#glyph0-14\" x=\"141.823242\" y=\"440.945312\"/>\n",
       "</g>\n",
       "<g style=\"fill:rgb(0%,0%,0%);fill-opacity:1;\">\n",
       "  <use xlink:href=\"#glyph0-7\" x=\"146.335938\" y=\"78.304688\"/>\n",
       "  <use xlink:href=\"#glyph0-2\" x=\"155.673828\" y=\"78.304688\"/>\n",
       "  <use xlink:href=\"#glyph0-3\" x=\"165.011719\" y=\"78.304688\"/>\n",
       "</g>\n",
       "<g style=\"fill:rgb(0%,0%,0%);fill-opacity:1;\">\n",
       "  <use xlink:href=\"#glyph0-15\" x=\"175.992188\" y=\"64.765625\"/>\n",
       "  <use xlink:href=\"#glyph0-3\" x=\"186.881836\" y=\"64.765625\"/>\n",
       "  <use xlink:href=\"#glyph0-12\" x=\"196.992188\" y=\"64.765625\"/>\n",
       "</g>\n",
       "<g style=\"fill:rgb(0%,0%,0%);fill-opacity:1;\">\n",
       "  <use xlink:href=\"#glyph0-15\" x=\"114.09375\" y=\"92.621094\"/>\n",
       "  <use xlink:href=\"#glyph0-14\" x=\"124.983398\" y=\"92.621094\"/>\n",
       "  <use xlink:href=\"#glyph0-12\" x=\"136.645508\" y=\"92.621094\"/>\n",
       "</g>\n",
       "<g style=\"fill:rgb(0%,0%,0%);fill-opacity:1;\">\n",
       "  <use xlink:href=\"#glyph0-16\" x=\"326.386719\" y=\"222.917969\"/>\n",
       "  <use xlink:href=\"#glyph0-13\" x=\"336.49707\" y=\"222.917969\"/>\n",
       "  <use xlink:href=\"#glyph0-19\" x=\"343.49707\" y=\"222.917969\"/>\n",
       "</g>\n",
       "<g style=\"fill:rgb(0%,0%,0%);fill-opacity:1;\">\n",
       "  <use xlink:href=\"#glyph0-15\" x=\"104.25\" y=\"162.851562\"/>\n",
       "  <use xlink:href=\"#glyph0-17\" x=\"115.139648\" y=\"162.851562\"/>\n",
       "  <use xlink:href=\"#glyph0-12\" x=\"124.477539\" y=\"162.851562\"/>\n",
       "</g>\n",
       "<g style=\"fill:rgb(0%,0%,0%);fill-opacity:1;\">\n",
       "  <use xlink:href=\"#glyph0-21\" x=\"282.328125\" y=\"73.148438\"/>\n",
       "  <use xlink:href=\"#glyph0-17\" x=\"291.666016\" y=\"73.148438\"/>\n",
       "  <use xlink:href=\"#glyph0-23\" x=\"301.003906\" y=\"73.148438\"/>\n",
       "</g>\n",
       "<g style=\"fill:rgb(0%,0%,0%);fill-opacity:1;\">\n",
       "  <use xlink:href=\"#glyph0-20\" x=\"376.050781\" y=\"584.195312\"/>\n",
       "  <use xlink:href=\"#glyph0-17\" x=\"385.388672\" y=\"584.195312\"/>\n",
       "  <use xlink:href=\"#glyph0-3\" x=\"394.726562\" y=\"584.195312\"/>\n",
       "</g>\n",
       "<g style=\"fill:rgb(0%,0%,0%);fill-opacity:1;\">\n",
       "  <use xlink:href=\"#glyph0-15\" x=\"430.117188\" y=\"388.472656\"/>\n",
       "  <use xlink:href=\"#glyph0-9\" x=\"441.006836\" y=\"388.472656\"/>\n",
       "  <use xlink:href=\"#glyph0-4\" x=\"451.117188\" y=\"388.472656\"/>\n",
       "</g>\n",
       "<g style=\"fill:rgb(0%,0%,0%);fill-opacity:1;\">\n",
       "  <use xlink:href=\"#glyph0-15\" x=\"17.800781\" y=\"415.152344\"/>\n",
       "  <use xlink:href=\"#glyph0-10\" x=\"28.69043\" y=\"415.152344\"/>\n",
       "  <use xlink:href=\"#glyph0-14\" x=\"37.242188\" y=\"415.152344\"/>\n",
       "</g>\n",
       "<g style=\"fill:rgb(0%,0%,0%);fill-opacity:1;\">\n",
       "  <use xlink:href=\"#glyph0-21\" x=\"517.082031\" y=\"195.179688\"/>\n",
       "  <use xlink:href=\"#glyph0-15\" x=\"526.419922\" y=\"195.179688\"/>\n",
       "  <use xlink:href=\"#glyph0-23\" x=\"537.30957\" y=\"195.179688\"/>\n",
       "</g>\n",
       "<g style=\"fill:rgb(0%,0%,0%);fill-opacity:1;\">\n",
       "  <use xlink:href=\"#glyph0-15\" x=\"356.886719\" y=\"110.292969\"/>\n",
       "  <use xlink:href=\"#glyph0-2\" x=\"367.776367\" y=\"110.292969\"/>\n",
       "  <use xlink:href=\"#glyph0-5\" x=\"377.114258\" y=\"110.292969\"/>\n",
       "</g>\n",
       "<g style=\"fill:rgb(0%,0%,0%);fill-opacity:1;\">\n",
       "  <use xlink:href=\"#glyph0-6\" x=\"135.417969\" y=\"564.480469\"/>\n",
       "  <use xlink:href=\"#glyph0-7\" x=\"143.204102\" y=\"564.480469\"/>\n",
       "  <use xlink:href=\"#glyph0-5\" x=\"152.541992\" y=\"564.480469\"/>\n",
       "</g>\n",
       "<g style=\"fill:rgb(0%,0%,0%);fill-opacity:1;\">\n",
       "  <use xlink:href=\"#glyph0-20\" x=\"298.113281\" y=\"586.632812\"/>\n",
       "  <use xlink:href=\"#glyph0-2\" x=\"307.451172\" y=\"586.632812\"/>\n",
       "  <use xlink:href=\"#glyph0-9\" x=\"316.789062\" y=\"586.632812\"/>\n",
       "</g>\n",
       "<g style=\"fill:rgb(0%,0%,0%);fill-opacity:1;\">\n",
       "  <use xlink:href=\"#glyph0-17\" x=\"425.195312\" y=\"424.363281\"/>\n",
       "  <use xlink:href=\"#glyph0-6\" x=\"434.533203\" y=\"424.363281\"/>\n",
       "  <use xlink:href=\"#glyph0-12\" x=\"442.319336\" y=\"424.363281\"/>\n",
       "</g>\n",
       "<g style=\"fill:rgb(0%,0%,0%);fill-opacity:1;\">\n",
       "  <use xlink:href=\"#glyph0-12\" x=\"302.324219\" y=\"26.632812\"/>\n",
       "  <use xlink:href=\"#glyph0-6\" x=\"311.662109\" y=\"26.632812\"/>\n",
       "  <use xlink:href=\"#glyph0-9\" x=\"319.448242\" y=\"26.632812\"/>\n",
       "</g>\n",
       "<g style=\"fill:rgb(0%,0%,0%);fill-opacity:1;\">\n",
       "  <use xlink:href=\"#glyph0-4\" x=\"75.871094\" y=\"503.390625\"/>\n",
       "  <use xlink:href=\"#glyph0-17\" x=\"85.981445\" y=\"503.390625\"/>\n",
       "  <use xlink:href=\"#glyph0-3\" x=\"95.319336\" y=\"503.390625\"/>\n",
       "</g>\n",
       "<g style=\"fill:rgb(0%,0%,0%);fill-opacity:1;\">\n",
       "  <use xlink:href=\"#glyph0-3\" x=\"285.390625\" y=\"102.785156\"/>\n",
       "  <use xlink:href=\"#glyph0-5\" x=\"295.500977\" y=\"102.785156\"/>\n",
       "  <use xlink:href=\"#glyph0-9\" x=\"306.390625\" y=\"102.785156\"/>\n",
       "</g>\n",
       "<g style=\"fill:rgb(0%,0%,0%);fill-opacity:1;\">\n",
       "  <use xlink:href=\"#glyph0-12\" x=\"144.265625\" y=\"473.589844\"/>\n",
       "  <use xlink:href=\"#glyph0-24\" x=\"153.603516\" y=\"473.589844\"/>\n",
       "  <use xlink:href=\"#glyph0-17\" x=\"166.817383\" y=\"473.589844\"/>\n",
       "</g>\n",
       "<g style=\"fill:rgb(0%,0%,0%);fill-opacity:1;\">\n",
       "  <use xlink:href=\"#glyph0-7\" x=\"51.476562\" y=\"147.554688\"/>\n",
       "  <use xlink:href=\"#glyph0-1\" x=\"60.814453\" y=\"147.554688\"/>\n",
       "  <use xlink:href=\"#glyph0-21\" x=\"70.152344\" y=\"147.554688\"/>\n",
       "</g>\n",
       "<g style=\"fill:rgb(0%,0%,0%);fill-opacity:1;\">\n",
       "  <use xlink:href=\"#glyph0-4\" x=\"39.957031\" y=\"176.246094\"/>\n",
       "  <use xlink:href=\"#glyph0-23\" x=\"50.067383\" y=\"176.246094\"/>\n",
       "  <use xlink:href=\"#glyph0-2\" x=\"58.619141\" y=\"176.246094\"/>\n",
       "</g>\n",
       "<g style=\"fill:rgb(0%,0%,0%);fill-opacity:1;\">\n",
       "  <use xlink:href=\"#glyph0-1\" x=\"564.703125\" y=\"357.488281\"/>\n",
       "  <use xlink:href=\"#glyph0-3\" x=\"574.041016\" y=\"357.488281\"/>\n",
       "  <use xlink:href=\"#glyph0-14\" x=\"584.151367\" y=\"357.488281\"/>\n",
       "</g>\n",
       "<g style=\"fill:rgb(0%,0%,0%);fill-opacity:1;\">\n",
       "  <use xlink:href=\"#glyph0-21\" x=\"564.414062\" y=\"326.15625\"/>\n",
       "  <use xlink:href=\"#glyph0-25\" x=\"573.751953\" y=\"326.15625\"/>\n",
       "  <use xlink:href=\"#glyph0-14\" x=\"583.862305\" y=\"326.15625\"/>\n",
       "</g>\n",
       "<g style=\"fill:rgb(0%,0%,0%);fill-opacity:1;\">\n",
       "  <use xlink:href=\"#glyph0-18\" x=\"318.367188\" y=\"126.152344\"/>\n",
       "  <use xlink:href=\"#glyph0-19\" x=\"326.918945\" y=\"126.152344\"/>\n",
       "  <use xlink:href=\"#glyph0-3\" x=\"330.808594\" y=\"126.152344\"/>\n",
       "</g>\n",
       "<g style=\"fill:rgb(0%,0%,0%);fill-opacity:1;\">\n",
       "  <use xlink:href=\"#glyph0-6\" x=\"424.292969\" y=\"280.03125\"/>\n",
       "  <use xlink:href=\"#glyph0-17\" x=\"432.079102\" y=\"280.03125\"/>\n",
       "  <use xlink:href=\"#glyph0-5\" x=\"441.416992\" y=\"280.03125\"/>\n",
       "</g>\n",
       "</g>\n",
       "</svg>\n"
      ],
      "text/plain": [
       "<igraph.drawing.cairo.plot.CairoPlot at 0x11cb28710>"
      ]
     },
     "execution_count": 18,
     "metadata": {
      "image/svg+xml": {
       "isolated": true
      }
     },
     "output_type": "execute_result"
    }
   ],
   "source": [
    "# why does this print of weird labels that make no sense?\n",
    "import igraph as ig\n",
    "graph_df = df[df.contig.astype(bool) & (df.newarrival > 500)].sort_values(by='newarrival', ascending=False).drop_duplicates(subset=['iso_o', 'iso_d'])\n",
    "#graph_df = df[(df.newarrival > 50000) & (df.contig.astype(bool))].groupby(['iso_o','iso_d'], as_index=False).agg({'newarrival':'max','dist':'first','pop_o':'first'})\n",
    "\n",
    "graph = ig.Graph.TupleList(graph_df[['iso_o','iso_d']].itertuples(index=False), directed=True)\n",
    "\n",
    "graph.vs['color'] = assign_colors(pd.Series(graph.vs()['name']).to_frame().merge(df, how='left', left_on=0, right_on='iso_o').drop_duplicates('iso_o')['Region_o'])\n",
    "graph.vs['label'] = graph.vs['name']\n",
    "\n",
    "vs_size = np.emath.logn(1.2, pd.Series(graph.vs()['name']).to_frame().merge(df, how='left', left_on=0, right_on='iso_o').drop_duplicates('iso_o')['pop_o'])\n",
    "\n",
    "layout = graph.layout(\"kk\")\n",
    "ig.plot(graph, vertex_size = vs_size )"
   ]
  },
  {
   "attachments": {},
   "cell_type": "markdown",
   "metadata": {},
   "source": [
    "Plotting country coordinate data:\n",
    "\n",
    "Still have yet to do this."
   ]
  },
  {
   "cell_type": "code",
   "execution_count": 19,
   "metadata": {},
   "outputs": [],
   "source": [
    "country_coordinate_url = \"https://gist.githubusercontent.com/tadast/8827699/raw/f5cac3d42d16b78348610fc4ec301e9234f82821/countries_codes_and_coordinates.csv\"\n",
    "country_coordinate = pd.read_csv(country_coordinate_url).apply(lambda x: x.str.replace('\"',''))\n",
    "country_coordinate[['Latitude (average)', 'Longitude (average)']] = country_coordinate[['Latitude (average)', 'Longitude (average)']].apply(lambda x: x.astype(float))"
   ]
  },
  {
   "cell_type": "code",
   "execution_count": 83,
   "metadata": {},
   "outputs": [
    {
     "data": {
      "text/html": [
       "<div>\n",
       "<style scoped>\n",
       "    .dataframe tbody tr th:only-of-type {\n",
       "        vertical-align: middle;\n",
       "    }\n",
       "\n",
       "    .dataframe tbody tr th {\n",
       "        vertical-align: top;\n",
       "    }\n",
       "\n",
       "    .dataframe thead th {\n",
       "        text-align: right;\n",
       "    }\n",
       "</style>\n",
       "<table border=\"1\" class=\"dataframe\">\n",
       "  <thead>\n",
       "    <tr style=\"text-align: right;\">\n",
       "      <th></th>\n",
       "      <th>iso</th>\n",
       "      <th>newarrival</th>\n",
       "      <th>location</th>\n",
       "    </tr>\n",
       "  </thead>\n",
       "  <tbody>\n",
       "    <tr>\n",
       "      <th>0</th>\n",
       "      <td>ARG</td>\n",
       "      <td>71414.0</td>\n",
       "      <td>destination</td>\n",
       "    </tr>\n",
       "    <tr>\n",
       "      <th>1</th>\n",
       "      <td>BRA</td>\n",
       "      <td>92922.0</td>\n",
       "      <td>destination</td>\n",
       "    </tr>\n",
       "    <tr>\n",
       "      <th>2</th>\n",
       "      <td>CAN</td>\n",
       "      <td>1254.0</td>\n",
       "      <td>destination</td>\n",
       "    </tr>\n",
       "    <tr>\n",
       "      <th>3</th>\n",
       "      <td>CHL</td>\n",
       "      <td>286788.0</td>\n",
       "      <td>destination</td>\n",
       "    </tr>\n",
       "    <tr>\n",
       "      <th>4</th>\n",
       "      <td>COL</td>\n",
       "      <td>1105410.0</td>\n",
       "      <td>destination</td>\n",
       "    </tr>\n",
       "    <tr>\n",
       "      <th>5</th>\n",
       "      <td>CRI</td>\n",
       "      <td>2884.0</td>\n",
       "      <td>destination</td>\n",
       "    </tr>\n",
       "    <tr>\n",
       "      <th>6</th>\n",
       "      <td>ECU</td>\n",
       "      <td>226614.5</td>\n",
       "      <td>destination</td>\n",
       "    </tr>\n",
       "    <tr>\n",
       "      <th>7</th>\n",
       "      <td>ESP</td>\n",
       "      <td>20015.0</td>\n",
       "      <td>destination</td>\n",
       "    </tr>\n",
       "    <tr>\n",
       "      <th>8</th>\n",
       "      <td>GUY</td>\n",
       "      <td>21400.0</td>\n",
       "      <td>destination</td>\n",
       "    </tr>\n",
       "    <tr>\n",
       "      <th>9</th>\n",
       "      <td>MEX</td>\n",
       "      <td>23469.0</td>\n",
       "      <td>destination</td>\n",
       "    </tr>\n",
       "    <tr>\n",
       "      <th>10</th>\n",
       "      <td>PAN</td>\n",
       "      <td>50049.0</td>\n",
       "      <td>destination</td>\n",
       "    </tr>\n",
       "    <tr>\n",
       "      <th>11</th>\n",
       "      <td>PER</td>\n",
       "      <td>548114.0</td>\n",
       "      <td>destination</td>\n",
       "    </tr>\n",
       "    <tr>\n",
       "      <th>12</th>\n",
       "      <td>TTO</td>\n",
       "      <td>7073.0</td>\n",
       "      <td>destination</td>\n",
       "    </tr>\n",
       "    <tr>\n",
       "      <th>13</th>\n",
       "      <td>URY</td>\n",
       "      <td>5488.0</td>\n",
       "      <td>destination</td>\n",
       "    </tr>\n",
       "    <tr>\n",
       "      <th>14</th>\n",
       "      <td>USA</td>\n",
       "      <td>40710.0</td>\n",
       "      <td>destination</td>\n",
       "    </tr>\n",
       "    <tr>\n",
       "      <th>15</th>\n",
       "      <td>VEN</td>\n",
       "      <td>2508056.5</td>\n",
       "      <td>origin</td>\n",
       "    </tr>\n",
       "  </tbody>\n",
       "</table>\n",
       "</div>"
      ],
      "text/plain": [
       "    iso  newarrival     location\n",
       "0   ARG     71414.0  destination\n",
       "1   BRA     92922.0  destination\n",
       "2   CAN      1254.0  destination\n",
       "3   CHL    286788.0  destination\n",
       "4   COL   1105410.0  destination\n",
       "5   CRI      2884.0  destination\n",
       "6   ECU    226614.5  destination\n",
       "7   ESP     20015.0  destination\n",
       "8   GUY     21400.0  destination\n",
       "9   MEX     23469.0  destination\n",
       "10  PAN     50049.0  destination\n",
       "11  PER    548114.0  destination\n",
       "12  TTO      7073.0  destination\n",
       "13  URY      5488.0  destination\n",
       "14  USA     40710.0  destination\n",
       "15  VEN   2508056.5       origin"
      ]
     },
     "execution_count": 83,
     "metadata": {},
     "output_type": "execute_result"
    }
   ],
   "source": [
    "def plot_country_data(df, country, year, min_size = 0):\n",
    "    iso_o = df[df.Country_o == country].iso_o.iloc[0]\n",
    "\n",
    "\n",
    "    o_obs = df[(df.Country_o == country) & (df.year == year)].agg({'newarrival':'sum'}).rename('newarrival')\n",
    "    o_obs.index = [iso_o]\n",
    "    o_obs = o_obs.to_frame()\n",
    "\n",
    "    df1 = df[(df.Country_o == country) & (df.year== year)].groupby('iso_d').agg({'newarrival':'sum'})\n",
    "    df1 = df1[df1.newarrival > min_size]\n",
    "    df1 = pd.concat([df1, o_obs], axis=0) \n",
    "    df1['location'] = ['origin' if country == iso_o else 'destination' for country in df1.index]\n",
    "    df1 = df1.rename_axis('iso').reset_index()\n",
    "\n",
    "    return df1  \n",
    "\n",
    "plot_country_data(df, 'Venezuela', 2018, 1000) "
   ]
  },
  {
   "cell_type": "code",
   "execution_count": 111,
   "metadata": {},
   "outputs": [
    {
     "ename": "ModuleNotFoundError",
     "evalue": "No module named 'basemap'",
     "output_type": "error",
     "traceback": [
      "\u001b[0;31m---------------------------------------------------------------------------\u001b[0m",
      "\u001b[0;31mModuleNotFoundError\u001b[0m                       Traceback (most recent call last)",
      "Cell \u001b[0;32mIn[111], line 2\u001b[0m\n\u001b[1;32m      1\u001b[0m \u001b[39mimport\u001b[39;00m \u001b[39mmpl_toolkits\u001b[39;00m\n\u001b[0;32m----> 2\u001b[0m \u001b[39mimport\u001b[39;00m \u001b[39mbasemap\u001b[39;00m\n",
      "\u001b[0;31mModuleNotFoundError\u001b[0m: No module named 'basemap'"
     ]
    }
   ],
   "source": [
    "import mpl_toolkits\n",
    "import basemap"
   ]
  },
  {
   "cell_type": "code",
   "execution_count": 114,
   "metadata": {},
   "outputs": [
    {
     "name": "stdout",
     "output_type": "stream",
     "text": [
      "Collecting basemap\n",
      "  Using cached basemap-1.3.6.zip (156 kB)\n",
      "  Installing build dependencies ... \u001b[?25l|^C\n",
      "\u001b[?25canceled\n",
      "\u001b[31mERROR: Operation cancelled by user\u001b[0m\u001b[31m\n",
      "\u001b[0m"
     ]
    }
   ],
   "source": [
    "!pip install basemap"
   ]
  },
  {
   "cell_type": "code",
   "execution_count": null,
   "metadata": {},
   "outputs": [],
   "source": [
    "from mpl_toolkits.basemap import Basemap as Basemap\n",
    "import matplotlib.pyplot as plt\n",
    "\n",
    "plt.figure(figsize = (10,9))\n",
    "\n",
    "basemap = Basemap(\n",
    "    projection = 'merc',\n",
    "    llcrnrlon = -180, \n",
    "    urcrnrlon = -50,     \n",
    "    llcrnrlat = -10,  \n",
    "    urcrnrlat = 70,    \n",
    "    lat_ts = 0,\n",
    "    resolution = 'l',\n",
    "    suppress_ticks = True)"
   ]
  },
  {
   "cell_type": "code",
   "execution_count": 93,
   "metadata": {},
   "outputs": [
    {
     "data": {
      "application/vnd.plotly.v1+json": {
       "config": {
        "plotlyServerURL": "https://plot.ly"
       },
       "data": [
        {
         "geo": "geo",
         "hovertemplate": "location=destination<br>newarrival=%{marker.size}<br>iso=%{location}<extra></extra>",
         "legendgroup": "destination",
         "locations": [
          "ARG",
          "BRA",
          "CAN",
          "CHL",
          "COL",
          "CRI",
          "ECU",
          "ESP",
          "GUY",
          "MEX",
          "PAN",
          "PER",
          "TTO",
          "URY",
          "USA"
         ],
         "marker": {
          "color": "#636efa",
          "size": [
           71414,
           92922,
           1254,
           286788,
           1105410,
           2884,
           226614.5,
           20015,
           21400,
           23469,
           50049,
           548114,
           7073,
           5488,
           40710
          ],
          "sizemode": "area",
          "sizeref": 6270.14125,
          "symbol": "circle"
         },
         "mode": "markers",
         "name": "destination",
         "showlegend": true,
         "type": "scattergeo"
        },
        {
         "geo": "geo",
         "hovertemplate": "location=origin<br>newarrival=%{marker.size}<br>iso=%{location}<extra></extra>",
         "legendgroup": "origin",
         "locations": [
          "VEN"
         ],
         "marker": {
          "color": "#EF553B",
          "size": [
           2508056.5
          ],
          "sizemode": "area",
          "sizeref": 6270.14125,
          "symbol": "circle"
         },
         "mode": "markers",
         "name": "origin",
         "showlegend": true,
         "type": "scattergeo"
        }
       ],
       "layout": {
        "geo": {
         "center": {},
         "countrycolor": "RebeccaPurple",
         "domain": {
          "x": [
           0,
           1
          ],
          "y": [
           0,
           1
          ]
         },
         "resolution": 50,
         "showcountries": true,
         "visible": true
        },
        "legend": {
         "itemsizing": "constant",
         "title": {
          "text": "location"
         },
         "tracegroupgap": 0
        },
        "template": {
         "data": {
          "bar": [
           {
            "error_x": {
             "color": "#2a3f5f"
            },
            "error_y": {
             "color": "#2a3f5f"
            },
            "marker": {
             "line": {
              "color": "#E5ECF6",
              "width": 0.5
             },
             "pattern": {
              "fillmode": "overlay",
              "size": 10,
              "solidity": 0.2
             }
            },
            "type": "bar"
           }
          ],
          "barpolar": [
           {
            "marker": {
             "line": {
              "color": "#E5ECF6",
              "width": 0.5
             },
             "pattern": {
              "fillmode": "overlay",
              "size": 10,
              "solidity": 0.2
             }
            },
            "type": "barpolar"
           }
          ],
          "carpet": [
           {
            "aaxis": {
             "endlinecolor": "#2a3f5f",
             "gridcolor": "white",
             "linecolor": "white",
             "minorgridcolor": "white",
             "startlinecolor": "#2a3f5f"
            },
            "baxis": {
             "endlinecolor": "#2a3f5f",
             "gridcolor": "white",
             "linecolor": "white",
             "minorgridcolor": "white",
             "startlinecolor": "#2a3f5f"
            },
            "type": "carpet"
           }
          ],
          "choropleth": [
           {
            "colorbar": {
             "outlinewidth": 0,
             "ticks": ""
            },
            "type": "choropleth"
           }
          ],
          "contour": [
           {
            "colorbar": {
             "outlinewidth": 0,
             "ticks": ""
            },
            "colorscale": [
             [
              0,
              "#0d0887"
             ],
             [
              0.1111111111111111,
              "#46039f"
             ],
             [
              0.2222222222222222,
              "#7201a8"
             ],
             [
              0.3333333333333333,
              "#9c179e"
             ],
             [
              0.4444444444444444,
              "#bd3786"
             ],
             [
              0.5555555555555556,
              "#d8576b"
             ],
             [
              0.6666666666666666,
              "#ed7953"
             ],
             [
              0.7777777777777778,
              "#fb9f3a"
             ],
             [
              0.8888888888888888,
              "#fdca26"
             ],
             [
              1,
              "#f0f921"
             ]
            ],
            "type": "contour"
           }
          ],
          "contourcarpet": [
           {
            "colorbar": {
             "outlinewidth": 0,
             "ticks": ""
            },
            "type": "contourcarpet"
           }
          ],
          "heatmap": [
           {
            "colorbar": {
             "outlinewidth": 0,
             "ticks": ""
            },
            "colorscale": [
             [
              0,
              "#0d0887"
             ],
             [
              0.1111111111111111,
              "#46039f"
             ],
             [
              0.2222222222222222,
              "#7201a8"
             ],
             [
              0.3333333333333333,
              "#9c179e"
             ],
             [
              0.4444444444444444,
              "#bd3786"
             ],
             [
              0.5555555555555556,
              "#d8576b"
             ],
             [
              0.6666666666666666,
              "#ed7953"
             ],
             [
              0.7777777777777778,
              "#fb9f3a"
             ],
             [
              0.8888888888888888,
              "#fdca26"
             ],
             [
              1,
              "#f0f921"
             ]
            ],
            "type": "heatmap"
           }
          ],
          "heatmapgl": [
           {
            "colorbar": {
             "outlinewidth": 0,
             "ticks": ""
            },
            "colorscale": [
             [
              0,
              "#0d0887"
             ],
             [
              0.1111111111111111,
              "#46039f"
             ],
             [
              0.2222222222222222,
              "#7201a8"
             ],
             [
              0.3333333333333333,
              "#9c179e"
             ],
             [
              0.4444444444444444,
              "#bd3786"
             ],
             [
              0.5555555555555556,
              "#d8576b"
             ],
             [
              0.6666666666666666,
              "#ed7953"
             ],
             [
              0.7777777777777778,
              "#fb9f3a"
             ],
             [
              0.8888888888888888,
              "#fdca26"
             ],
             [
              1,
              "#f0f921"
             ]
            ],
            "type": "heatmapgl"
           }
          ],
          "histogram": [
           {
            "marker": {
             "pattern": {
              "fillmode": "overlay",
              "size": 10,
              "solidity": 0.2
             }
            },
            "type": "histogram"
           }
          ],
          "histogram2d": [
           {
            "colorbar": {
             "outlinewidth": 0,
             "ticks": ""
            },
            "colorscale": [
             [
              0,
              "#0d0887"
             ],
             [
              0.1111111111111111,
              "#46039f"
             ],
             [
              0.2222222222222222,
              "#7201a8"
             ],
             [
              0.3333333333333333,
              "#9c179e"
             ],
             [
              0.4444444444444444,
              "#bd3786"
             ],
             [
              0.5555555555555556,
              "#d8576b"
             ],
             [
              0.6666666666666666,
              "#ed7953"
             ],
             [
              0.7777777777777778,
              "#fb9f3a"
             ],
             [
              0.8888888888888888,
              "#fdca26"
             ],
             [
              1,
              "#f0f921"
             ]
            ],
            "type": "histogram2d"
           }
          ],
          "histogram2dcontour": [
           {
            "colorbar": {
             "outlinewidth": 0,
             "ticks": ""
            },
            "colorscale": [
             [
              0,
              "#0d0887"
             ],
             [
              0.1111111111111111,
              "#46039f"
             ],
             [
              0.2222222222222222,
              "#7201a8"
             ],
             [
              0.3333333333333333,
              "#9c179e"
             ],
             [
              0.4444444444444444,
              "#bd3786"
             ],
             [
              0.5555555555555556,
              "#d8576b"
             ],
             [
              0.6666666666666666,
              "#ed7953"
             ],
             [
              0.7777777777777778,
              "#fb9f3a"
             ],
             [
              0.8888888888888888,
              "#fdca26"
             ],
             [
              1,
              "#f0f921"
             ]
            ],
            "type": "histogram2dcontour"
           }
          ],
          "mesh3d": [
           {
            "colorbar": {
             "outlinewidth": 0,
             "ticks": ""
            },
            "type": "mesh3d"
           }
          ],
          "parcoords": [
           {
            "line": {
             "colorbar": {
              "outlinewidth": 0,
              "ticks": ""
             }
            },
            "type": "parcoords"
           }
          ],
          "pie": [
           {
            "automargin": true,
            "type": "pie"
           }
          ],
          "scatter": [
           {
            "fillpattern": {
             "fillmode": "overlay",
             "size": 10,
             "solidity": 0.2
            },
            "type": "scatter"
           }
          ],
          "scatter3d": [
           {
            "line": {
             "colorbar": {
              "outlinewidth": 0,
              "ticks": ""
             }
            },
            "marker": {
             "colorbar": {
              "outlinewidth": 0,
              "ticks": ""
             }
            },
            "type": "scatter3d"
           }
          ],
          "scattercarpet": [
           {
            "marker": {
             "colorbar": {
              "outlinewidth": 0,
              "ticks": ""
             }
            },
            "type": "scattercarpet"
           }
          ],
          "scattergeo": [
           {
            "marker": {
             "colorbar": {
              "outlinewidth": 0,
              "ticks": ""
             }
            },
            "type": "scattergeo"
           }
          ],
          "scattergl": [
           {
            "marker": {
             "colorbar": {
              "outlinewidth": 0,
              "ticks": ""
             }
            },
            "type": "scattergl"
           }
          ],
          "scattermapbox": [
           {
            "marker": {
             "colorbar": {
              "outlinewidth": 0,
              "ticks": ""
             }
            },
            "type": "scattermapbox"
           }
          ],
          "scatterpolar": [
           {
            "marker": {
             "colorbar": {
              "outlinewidth": 0,
              "ticks": ""
             }
            },
            "type": "scatterpolar"
           }
          ],
          "scatterpolargl": [
           {
            "marker": {
             "colorbar": {
              "outlinewidth": 0,
              "ticks": ""
             }
            },
            "type": "scatterpolargl"
           }
          ],
          "scatterternary": [
           {
            "marker": {
             "colorbar": {
              "outlinewidth": 0,
              "ticks": ""
             }
            },
            "type": "scatterternary"
           }
          ],
          "surface": [
           {
            "colorbar": {
             "outlinewidth": 0,
             "ticks": ""
            },
            "colorscale": [
             [
              0,
              "#0d0887"
             ],
             [
              0.1111111111111111,
              "#46039f"
             ],
             [
              0.2222222222222222,
              "#7201a8"
             ],
             [
              0.3333333333333333,
              "#9c179e"
             ],
             [
              0.4444444444444444,
              "#bd3786"
             ],
             [
              0.5555555555555556,
              "#d8576b"
             ],
             [
              0.6666666666666666,
              "#ed7953"
             ],
             [
              0.7777777777777778,
              "#fb9f3a"
             ],
             [
              0.8888888888888888,
              "#fdca26"
             ],
             [
              1,
              "#f0f921"
             ]
            ],
            "type": "surface"
           }
          ],
          "table": [
           {
            "cells": {
             "fill": {
              "color": "#EBF0F8"
             },
             "line": {
              "color": "white"
             }
            },
            "header": {
             "fill": {
              "color": "#C8D4E3"
             },
             "line": {
              "color": "white"
             }
            },
            "type": "table"
           }
          ]
         },
         "layout": {
          "annotationdefaults": {
           "arrowcolor": "#2a3f5f",
           "arrowhead": 0,
           "arrowwidth": 1
          },
          "autotypenumbers": "strict",
          "coloraxis": {
           "colorbar": {
            "outlinewidth": 0,
            "ticks": ""
           }
          },
          "colorscale": {
           "diverging": [
            [
             0,
             "#8e0152"
            ],
            [
             0.1,
             "#c51b7d"
            ],
            [
             0.2,
             "#de77ae"
            ],
            [
             0.3,
             "#f1b6da"
            ],
            [
             0.4,
             "#fde0ef"
            ],
            [
             0.5,
             "#f7f7f7"
            ],
            [
             0.6,
             "#e6f5d0"
            ],
            [
             0.7,
             "#b8e186"
            ],
            [
             0.8,
             "#7fbc41"
            ],
            [
             0.9,
             "#4d9221"
            ],
            [
             1,
             "#276419"
            ]
           ],
           "sequential": [
            [
             0,
             "#0d0887"
            ],
            [
             0.1111111111111111,
             "#46039f"
            ],
            [
             0.2222222222222222,
             "#7201a8"
            ],
            [
             0.3333333333333333,
             "#9c179e"
            ],
            [
             0.4444444444444444,
             "#bd3786"
            ],
            [
             0.5555555555555556,
             "#d8576b"
            ],
            [
             0.6666666666666666,
             "#ed7953"
            ],
            [
             0.7777777777777778,
             "#fb9f3a"
            ],
            [
             0.8888888888888888,
             "#fdca26"
            ],
            [
             1,
             "#f0f921"
            ]
           ],
           "sequentialminus": [
            [
             0,
             "#0d0887"
            ],
            [
             0.1111111111111111,
             "#46039f"
            ],
            [
             0.2222222222222222,
             "#7201a8"
            ],
            [
             0.3333333333333333,
             "#9c179e"
            ],
            [
             0.4444444444444444,
             "#bd3786"
            ],
            [
             0.5555555555555556,
             "#d8576b"
            ],
            [
             0.6666666666666666,
             "#ed7953"
            ],
            [
             0.7777777777777778,
             "#fb9f3a"
            ],
            [
             0.8888888888888888,
             "#fdca26"
            ],
            [
             1,
             "#f0f921"
            ]
           ]
          },
          "colorway": [
           "#636efa",
           "#EF553B",
           "#00cc96",
           "#ab63fa",
           "#FFA15A",
           "#19d3f3",
           "#FF6692",
           "#B6E880",
           "#FF97FF",
           "#FECB52"
          ],
          "font": {
           "color": "#2a3f5f"
          },
          "geo": {
           "bgcolor": "white",
           "lakecolor": "white",
           "landcolor": "#E5ECF6",
           "showlakes": true,
           "showland": true,
           "subunitcolor": "white"
          },
          "hoverlabel": {
           "align": "left"
          },
          "hovermode": "closest",
          "mapbox": {
           "style": "light"
          },
          "paper_bgcolor": "white",
          "plot_bgcolor": "#E5ECF6",
          "polar": {
           "angularaxis": {
            "gridcolor": "white",
            "linecolor": "white",
            "ticks": ""
           },
           "bgcolor": "#E5ECF6",
           "radialaxis": {
            "gridcolor": "white",
            "linecolor": "white",
            "ticks": ""
           }
          },
          "scene": {
           "xaxis": {
            "backgroundcolor": "#E5ECF6",
            "gridcolor": "white",
            "gridwidth": 2,
            "linecolor": "white",
            "showbackground": true,
            "ticks": "",
            "zerolinecolor": "white"
           },
           "yaxis": {
            "backgroundcolor": "#E5ECF6",
            "gridcolor": "white",
            "gridwidth": 2,
            "linecolor": "white",
            "showbackground": true,
            "ticks": "",
            "zerolinecolor": "white"
           },
           "zaxis": {
            "backgroundcolor": "#E5ECF6",
            "gridcolor": "white",
            "gridwidth": 2,
            "linecolor": "white",
            "showbackground": true,
            "ticks": "",
            "zerolinecolor": "white"
           }
          },
          "shapedefaults": {
           "line": {
            "color": "#2a3f5f"
           }
          },
          "ternary": {
           "aaxis": {
            "gridcolor": "white",
            "linecolor": "white",
            "ticks": ""
           },
           "baxis": {
            "gridcolor": "white",
            "linecolor": "white",
            "ticks": ""
           },
           "bgcolor": "#E5ECF6",
           "caxis": {
            "gridcolor": "white",
            "linecolor": "white",
            "ticks": ""
           }
          },
          "title": {
           "x": 0.05
          },
          "xaxis": {
           "automargin": true,
           "gridcolor": "white",
           "linecolor": "white",
           "ticks": "",
           "title": {
            "standoff": 15
           },
           "zerolinecolor": "white",
           "zerolinewidth": 2
          },
          "yaxis": {
           "automargin": true,
           "gridcolor": "white",
           "linecolor": "white",
           "ticks": "",
           "title": {
            "standoff": 15
           },
           "zerolinecolor": "white",
           "zerolinewidth": 2
          }
         }
        },
        "title": {
         "text": "Venezuela in 2018"
        }
       }
      }
     },
     "metadata": {},
     "output_type": "display_data"
    }
   ],
   "source": [
    "import plotly.express as px\n",
    "\n",
    "fig = px.scatter_geo(plot_country_data(df, 'Venezuela', 2018, 1000), locations=\"iso\",\n",
    "                     size=\"newarrival\",\n",
    "                     # projection=\"natural earth\",\n",
    "                     color = 'location',\n",
    "                     title = 'Venezuela in 2018'\n",
    "                     )\n",
    "\n",
    "fig.update_geos(\n",
    "    visible=True, resolution=50,\n",
    "    showcountries=True, countrycolor=\"RebeccaPurple\"\n",
    ")\n",
    "fig.show()"
   ]
  },
  {
   "cell_type": "code",
   "execution_count": 89,
   "metadata": {},
   "outputs": [
    {
     "data": {
      "application/vnd.plotly.v1+json": {
       "config": {
        "plotlyServerURL": "https://plot.ly"
       },
       "data": [
        {
         "geo": "geo",
         "hovertemplate": "location=destination<br>newarrival=%{marker.size}<br>iso=%{location}<extra></extra>",
         "legendgroup": "destination",
         "locations": [
          "CAN",
          "CHL",
          "ECU",
          "ESP",
          "USA"
         ],
         "marker": {
          "color": "#636efa",
          "size": [
           2571,
           1157,
           5264,
           8811,
           3844
          ],
          "sizemode": "area",
          "sizeref": 66.6075,
          "symbol": "circle"
         },
         "mode": "markers",
         "name": "destination",
         "showlegend": true,
         "type": "scattergeo"
        },
        {
         "geo": "geo",
         "hovertemplate": "location=origin<br>newarrival=%{marker.size}<br>iso=%{location}<extra></extra>",
         "legendgroup": "origin",
         "locations": [
          "COL"
         ],
         "marker": {
          "color": "#EF553B",
          "size": [
           26643
          ],
          "sizemode": "area",
          "sizeref": 66.6075,
          "symbol": "circle"
         },
         "mode": "markers",
         "name": "origin",
         "showlegend": true,
         "type": "scattergeo"
        }
       ],
       "layout": {
        "geo": {
         "center": {},
         "countrycolor": "RebeccaPurple",
         "domain": {
          "x": [
           0,
           1
          ],
          "y": [
           0,
           1
          ]
         },
         "resolution": 50,
         "showcountries": true,
         "visible": true
        },
        "legend": {
         "itemsizing": "constant",
         "title": {
          "text": "location"
         },
         "tracegroupgap": 0
        },
        "margin": {
         "t": 60
        },
        "template": {
         "data": {
          "bar": [
           {
            "error_x": {
             "color": "#2a3f5f"
            },
            "error_y": {
             "color": "#2a3f5f"
            },
            "marker": {
             "line": {
              "color": "#E5ECF6",
              "width": 0.5
             },
             "pattern": {
              "fillmode": "overlay",
              "size": 10,
              "solidity": 0.2
             }
            },
            "type": "bar"
           }
          ],
          "barpolar": [
           {
            "marker": {
             "line": {
              "color": "#E5ECF6",
              "width": 0.5
             },
             "pattern": {
              "fillmode": "overlay",
              "size": 10,
              "solidity": 0.2
             }
            },
            "type": "barpolar"
           }
          ],
          "carpet": [
           {
            "aaxis": {
             "endlinecolor": "#2a3f5f",
             "gridcolor": "white",
             "linecolor": "white",
             "minorgridcolor": "white",
             "startlinecolor": "#2a3f5f"
            },
            "baxis": {
             "endlinecolor": "#2a3f5f",
             "gridcolor": "white",
             "linecolor": "white",
             "minorgridcolor": "white",
             "startlinecolor": "#2a3f5f"
            },
            "type": "carpet"
           }
          ],
          "choropleth": [
           {
            "colorbar": {
             "outlinewidth": 0,
             "ticks": ""
            },
            "type": "choropleth"
           }
          ],
          "contour": [
           {
            "colorbar": {
             "outlinewidth": 0,
             "ticks": ""
            },
            "colorscale": [
             [
              0,
              "#0d0887"
             ],
             [
              0.1111111111111111,
              "#46039f"
             ],
             [
              0.2222222222222222,
              "#7201a8"
             ],
             [
              0.3333333333333333,
              "#9c179e"
             ],
             [
              0.4444444444444444,
              "#bd3786"
             ],
             [
              0.5555555555555556,
              "#d8576b"
             ],
             [
              0.6666666666666666,
              "#ed7953"
             ],
             [
              0.7777777777777778,
              "#fb9f3a"
             ],
             [
              0.8888888888888888,
              "#fdca26"
             ],
             [
              1,
              "#f0f921"
             ]
            ],
            "type": "contour"
           }
          ],
          "contourcarpet": [
           {
            "colorbar": {
             "outlinewidth": 0,
             "ticks": ""
            },
            "type": "contourcarpet"
           }
          ],
          "heatmap": [
           {
            "colorbar": {
             "outlinewidth": 0,
             "ticks": ""
            },
            "colorscale": [
             [
              0,
              "#0d0887"
             ],
             [
              0.1111111111111111,
              "#46039f"
             ],
             [
              0.2222222222222222,
              "#7201a8"
             ],
             [
              0.3333333333333333,
              "#9c179e"
             ],
             [
              0.4444444444444444,
              "#bd3786"
             ],
             [
              0.5555555555555556,
              "#d8576b"
             ],
             [
              0.6666666666666666,
              "#ed7953"
             ],
             [
              0.7777777777777778,
              "#fb9f3a"
             ],
             [
              0.8888888888888888,
              "#fdca26"
             ],
             [
              1,
              "#f0f921"
             ]
            ],
            "type": "heatmap"
           }
          ],
          "heatmapgl": [
           {
            "colorbar": {
             "outlinewidth": 0,
             "ticks": ""
            },
            "colorscale": [
             [
              0,
              "#0d0887"
             ],
             [
              0.1111111111111111,
              "#46039f"
             ],
             [
              0.2222222222222222,
              "#7201a8"
             ],
             [
              0.3333333333333333,
              "#9c179e"
             ],
             [
              0.4444444444444444,
              "#bd3786"
             ],
             [
              0.5555555555555556,
              "#d8576b"
             ],
             [
              0.6666666666666666,
              "#ed7953"
             ],
             [
              0.7777777777777778,
              "#fb9f3a"
             ],
             [
              0.8888888888888888,
              "#fdca26"
             ],
             [
              1,
              "#f0f921"
             ]
            ],
            "type": "heatmapgl"
           }
          ],
          "histogram": [
           {
            "marker": {
             "pattern": {
              "fillmode": "overlay",
              "size": 10,
              "solidity": 0.2
             }
            },
            "type": "histogram"
           }
          ],
          "histogram2d": [
           {
            "colorbar": {
             "outlinewidth": 0,
             "ticks": ""
            },
            "colorscale": [
             [
              0,
              "#0d0887"
             ],
             [
              0.1111111111111111,
              "#46039f"
             ],
             [
              0.2222222222222222,
              "#7201a8"
             ],
             [
              0.3333333333333333,
              "#9c179e"
             ],
             [
              0.4444444444444444,
              "#bd3786"
             ],
             [
              0.5555555555555556,
              "#d8576b"
             ],
             [
              0.6666666666666666,
              "#ed7953"
             ],
             [
              0.7777777777777778,
              "#fb9f3a"
             ],
             [
              0.8888888888888888,
              "#fdca26"
             ],
             [
              1,
              "#f0f921"
             ]
            ],
            "type": "histogram2d"
           }
          ],
          "histogram2dcontour": [
           {
            "colorbar": {
             "outlinewidth": 0,
             "ticks": ""
            },
            "colorscale": [
             [
              0,
              "#0d0887"
             ],
             [
              0.1111111111111111,
              "#46039f"
             ],
             [
              0.2222222222222222,
              "#7201a8"
             ],
             [
              0.3333333333333333,
              "#9c179e"
             ],
             [
              0.4444444444444444,
              "#bd3786"
             ],
             [
              0.5555555555555556,
              "#d8576b"
             ],
             [
              0.6666666666666666,
              "#ed7953"
             ],
             [
              0.7777777777777778,
              "#fb9f3a"
             ],
             [
              0.8888888888888888,
              "#fdca26"
             ],
             [
              1,
              "#f0f921"
             ]
            ],
            "type": "histogram2dcontour"
           }
          ],
          "mesh3d": [
           {
            "colorbar": {
             "outlinewidth": 0,
             "ticks": ""
            },
            "type": "mesh3d"
           }
          ],
          "parcoords": [
           {
            "line": {
             "colorbar": {
              "outlinewidth": 0,
              "ticks": ""
             }
            },
            "type": "parcoords"
           }
          ],
          "pie": [
           {
            "automargin": true,
            "type": "pie"
           }
          ],
          "scatter": [
           {
            "fillpattern": {
             "fillmode": "overlay",
             "size": 10,
             "solidity": 0.2
            },
            "type": "scatter"
           }
          ],
          "scatter3d": [
           {
            "line": {
             "colorbar": {
              "outlinewidth": 0,
              "ticks": ""
             }
            },
            "marker": {
             "colorbar": {
              "outlinewidth": 0,
              "ticks": ""
             }
            },
            "type": "scatter3d"
           }
          ],
          "scattercarpet": [
           {
            "marker": {
             "colorbar": {
              "outlinewidth": 0,
              "ticks": ""
             }
            },
            "type": "scattercarpet"
           }
          ],
          "scattergeo": [
           {
            "marker": {
             "colorbar": {
              "outlinewidth": 0,
              "ticks": ""
             }
            },
            "type": "scattergeo"
           }
          ],
          "scattergl": [
           {
            "marker": {
             "colorbar": {
              "outlinewidth": 0,
              "ticks": ""
             }
            },
            "type": "scattergl"
           }
          ],
          "scattermapbox": [
           {
            "marker": {
             "colorbar": {
              "outlinewidth": 0,
              "ticks": ""
             }
            },
            "type": "scattermapbox"
           }
          ],
          "scatterpolar": [
           {
            "marker": {
             "colorbar": {
              "outlinewidth": 0,
              "ticks": ""
             }
            },
            "type": "scatterpolar"
           }
          ],
          "scatterpolargl": [
           {
            "marker": {
             "colorbar": {
              "outlinewidth": 0,
              "ticks": ""
             }
            },
            "type": "scatterpolargl"
           }
          ],
          "scatterternary": [
           {
            "marker": {
             "colorbar": {
              "outlinewidth": 0,
              "ticks": ""
             }
            },
            "type": "scatterternary"
           }
          ],
          "surface": [
           {
            "colorbar": {
             "outlinewidth": 0,
             "ticks": ""
            },
            "colorscale": [
             [
              0,
              "#0d0887"
             ],
             [
              0.1111111111111111,
              "#46039f"
             ],
             [
              0.2222222222222222,
              "#7201a8"
             ],
             [
              0.3333333333333333,
              "#9c179e"
             ],
             [
              0.4444444444444444,
              "#bd3786"
             ],
             [
              0.5555555555555556,
              "#d8576b"
             ],
             [
              0.6666666666666666,
              "#ed7953"
             ],
             [
              0.7777777777777778,
              "#fb9f3a"
             ],
             [
              0.8888888888888888,
              "#fdca26"
             ],
             [
              1,
              "#f0f921"
             ]
            ],
            "type": "surface"
           }
          ],
          "table": [
           {
            "cells": {
             "fill": {
              "color": "#EBF0F8"
             },
             "line": {
              "color": "white"
             }
            },
            "header": {
             "fill": {
              "color": "#C8D4E3"
             },
             "line": {
              "color": "white"
             }
            },
            "type": "table"
           }
          ]
         },
         "layout": {
          "annotationdefaults": {
           "arrowcolor": "#2a3f5f",
           "arrowhead": 0,
           "arrowwidth": 1
          },
          "autotypenumbers": "strict",
          "coloraxis": {
           "colorbar": {
            "outlinewidth": 0,
            "ticks": ""
           }
          },
          "colorscale": {
           "diverging": [
            [
             0,
             "#8e0152"
            ],
            [
             0.1,
             "#c51b7d"
            ],
            [
             0.2,
             "#de77ae"
            ],
            [
             0.3,
             "#f1b6da"
            ],
            [
             0.4,
             "#fde0ef"
            ],
            [
             0.5,
             "#f7f7f7"
            ],
            [
             0.6,
             "#e6f5d0"
            ],
            [
             0.7,
             "#b8e186"
            ],
            [
             0.8,
             "#7fbc41"
            ],
            [
             0.9,
             "#4d9221"
            ],
            [
             1,
             "#276419"
            ]
           ],
           "sequential": [
            [
             0,
             "#0d0887"
            ],
            [
             0.1111111111111111,
             "#46039f"
            ],
            [
             0.2222222222222222,
             "#7201a8"
            ],
            [
             0.3333333333333333,
             "#9c179e"
            ],
            [
             0.4444444444444444,
             "#bd3786"
            ],
            [
             0.5555555555555556,
             "#d8576b"
            ],
            [
             0.6666666666666666,
             "#ed7953"
            ],
            [
             0.7777777777777778,
             "#fb9f3a"
            ],
            [
             0.8888888888888888,
             "#fdca26"
            ],
            [
             1,
             "#f0f921"
            ]
           ],
           "sequentialminus": [
            [
             0,
             "#0d0887"
            ],
            [
             0.1111111111111111,
             "#46039f"
            ],
            [
             0.2222222222222222,
             "#7201a8"
            ],
            [
             0.3333333333333333,
             "#9c179e"
            ],
            [
             0.4444444444444444,
             "#bd3786"
            ],
            [
             0.5555555555555556,
             "#d8576b"
            ],
            [
             0.6666666666666666,
             "#ed7953"
            ],
            [
             0.7777777777777778,
             "#fb9f3a"
            ],
            [
             0.8888888888888888,
             "#fdca26"
            ],
            [
             1,
             "#f0f921"
            ]
           ]
          },
          "colorway": [
           "#636efa",
           "#EF553B",
           "#00cc96",
           "#ab63fa",
           "#FFA15A",
           "#19d3f3",
           "#FF6692",
           "#B6E880",
           "#FF97FF",
           "#FECB52"
          ],
          "font": {
           "color": "#2a3f5f"
          },
          "geo": {
           "bgcolor": "white",
           "lakecolor": "white",
           "landcolor": "#E5ECF6",
           "showlakes": true,
           "showland": true,
           "subunitcolor": "white"
          },
          "hoverlabel": {
           "align": "left"
          },
          "hovermode": "closest",
          "mapbox": {
           "style": "light"
          },
          "paper_bgcolor": "white",
          "plot_bgcolor": "#E5ECF6",
          "polar": {
           "angularaxis": {
            "gridcolor": "white",
            "linecolor": "white",
            "ticks": ""
           },
           "bgcolor": "#E5ECF6",
           "radialaxis": {
            "gridcolor": "white",
            "linecolor": "white",
            "ticks": ""
           }
          },
          "scene": {
           "xaxis": {
            "backgroundcolor": "#E5ECF6",
            "gridcolor": "white",
            "gridwidth": 2,
            "linecolor": "white",
            "showbackground": true,
            "ticks": "",
            "zerolinecolor": "white"
           },
           "yaxis": {
            "backgroundcolor": "#E5ECF6",
            "gridcolor": "white",
            "gridwidth": 2,
            "linecolor": "white",
            "showbackground": true,
            "ticks": "",
            "zerolinecolor": "white"
           },
           "zaxis": {
            "backgroundcolor": "#E5ECF6",
            "gridcolor": "white",
            "gridwidth": 2,
            "linecolor": "white",
            "showbackground": true,
            "ticks": "",
            "zerolinecolor": "white"
           }
          },
          "shapedefaults": {
           "line": {
            "color": "#2a3f5f"
           }
          },
          "ternary": {
           "aaxis": {
            "gridcolor": "white",
            "linecolor": "white",
            "ticks": ""
           },
           "baxis": {
            "gridcolor": "white",
            "linecolor": "white",
            "ticks": ""
           },
           "bgcolor": "#E5ECF6",
           "caxis": {
            "gridcolor": "white",
            "linecolor": "white",
            "ticks": ""
           }
          },
          "title": {
           "x": 0.05
          },
          "xaxis": {
           "automargin": true,
           "gridcolor": "white",
           "linecolor": "white",
           "ticks": "",
           "title": {
            "standoff": 15
           },
           "zerolinecolor": "white",
           "zerolinewidth": 2
          },
          "yaxis": {
           "automargin": true,
           "gridcolor": "white",
           "linecolor": "white",
           "ticks": "",
           "title": {
            "standoff": 15
           },
           "zerolinecolor": "white",
           "zerolinewidth": 2
          }
         }
        }
       }
      }
     },
     "metadata": {},
     "output_type": "display_data"
    }
   ],
   "source": [
    "fig = px.scatter_geo(plot_country_data(df, 'Colombia', 2018, 1000), locations=\"iso\",\n",
    "                     size=\"newarrival\",\n",
    "                     #projection=\"natural earth\",\n",
    "                     color = 'location'\n",
    "                     )\n",
    "\n",
    "fig.update_geos(\n",
    "    visible=True, resolution=50,\n",
    "    showcountries=True, countrycolor=\"RebeccaPurple\")\n",
    "fig.show()"
   ]
  },
  {
   "cell_type": "code",
   "execution_count": 99,
   "metadata": {},
   "outputs": [
    {
     "data": {
      "application/vnd.plotly.v1+json": {
       "config": {
        "plotlyServerURL": "https://plot.ly"
       },
       "data": [
        {
         "geo": "geo",
         "hovertemplate": "location=destination<br>newarrival=%{marker.size}<br>iso=%{location}<extra></extra>",
         "legendgroup": "destination",
         "locations": [
          "CRI",
          "ESP",
          "MEX",
          "USA"
         ],
         "marker": {
          "color": "#636efa",
          "size": [
           101962,
           1260,
           2919,
           4724
          ],
          "sizemode": "area",
          "sizeref": 278.905,
          "symbol": "circle"
         },
         "mode": "markers",
         "name": "destination",
         "showlegend": true,
         "type": "scattergeo"
        },
        {
         "geo": "geo",
         "hovertemplate": "location=origin<br>newarrival=%{marker.size}<br>iso=%{location}<extra></extra>",
         "legendgroup": "origin",
         "locations": [
          "NIC"
         ],
         "marker": {
          "color": "#EF553B",
          "size": [
           111562
          ],
          "sizemode": "area",
          "sizeref": 278.905,
          "symbol": "circle"
         },
         "mode": "markers",
         "name": "origin",
         "showlegend": true,
         "type": "scattergeo"
        }
       ],
       "layout": {
        "geo": {
         "center": {},
         "countrycolor": "RebeccaPurple",
         "domain": {
          "x": [
           0,
           1
          ],
          "y": [
           0,
           1
          ]
         },
         "resolution": 50,
         "showcountries": true,
         "visible": true
        },
        "legend": {
         "itemsizing": "constant",
         "title": {
          "text": "location"
         },
         "tracegroupgap": 0
        },
        "margin": {
         "t": 60
        },
        "template": {
         "data": {
          "bar": [
           {
            "error_x": {
             "color": "#2a3f5f"
            },
            "error_y": {
             "color": "#2a3f5f"
            },
            "marker": {
             "line": {
              "color": "#E5ECF6",
              "width": 0.5
             },
             "pattern": {
              "fillmode": "overlay",
              "size": 10,
              "solidity": 0.2
             }
            },
            "type": "bar"
           }
          ],
          "barpolar": [
           {
            "marker": {
             "line": {
              "color": "#E5ECF6",
              "width": 0.5
             },
             "pattern": {
              "fillmode": "overlay",
              "size": 10,
              "solidity": 0.2
             }
            },
            "type": "barpolar"
           }
          ],
          "carpet": [
           {
            "aaxis": {
             "endlinecolor": "#2a3f5f",
             "gridcolor": "white",
             "linecolor": "white",
             "minorgridcolor": "white",
             "startlinecolor": "#2a3f5f"
            },
            "baxis": {
             "endlinecolor": "#2a3f5f",
             "gridcolor": "white",
             "linecolor": "white",
             "minorgridcolor": "white",
             "startlinecolor": "#2a3f5f"
            },
            "type": "carpet"
           }
          ],
          "choropleth": [
           {
            "colorbar": {
             "outlinewidth": 0,
             "ticks": ""
            },
            "type": "choropleth"
           }
          ],
          "contour": [
           {
            "colorbar": {
             "outlinewidth": 0,
             "ticks": ""
            },
            "colorscale": [
             [
              0,
              "#0d0887"
             ],
             [
              0.1111111111111111,
              "#46039f"
             ],
             [
              0.2222222222222222,
              "#7201a8"
             ],
             [
              0.3333333333333333,
              "#9c179e"
             ],
             [
              0.4444444444444444,
              "#bd3786"
             ],
             [
              0.5555555555555556,
              "#d8576b"
             ],
             [
              0.6666666666666666,
              "#ed7953"
             ],
             [
              0.7777777777777778,
              "#fb9f3a"
             ],
             [
              0.8888888888888888,
              "#fdca26"
             ],
             [
              1,
              "#f0f921"
             ]
            ],
            "type": "contour"
           }
          ],
          "contourcarpet": [
           {
            "colorbar": {
             "outlinewidth": 0,
             "ticks": ""
            },
            "type": "contourcarpet"
           }
          ],
          "heatmap": [
           {
            "colorbar": {
             "outlinewidth": 0,
             "ticks": ""
            },
            "colorscale": [
             [
              0,
              "#0d0887"
             ],
             [
              0.1111111111111111,
              "#46039f"
             ],
             [
              0.2222222222222222,
              "#7201a8"
             ],
             [
              0.3333333333333333,
              "#9c179e"
             ],
             [
              0.4444444444444444,
              "#bd3786"
             ],
             [
              0.5555555555555556,
              "#d8576b"
             ],
             [
              0.6666666666666666,
              "#ed7953"
             ],
             [
              0.7777777777777778,
              "#fb9f3a"
             ],
             [
              0.8888888888888888,
              "#fdca26"
             ],
             [
              1,
              "#f0f921"
             ]
            ],
            "type": "heatmap"
           }
          ],
          "heatmapgl": [
           {
            "colorbar": {
             "outlinewidth": 0,
             "ticks": ""
            },
            "colorscale": [
             [
              0,
              "#0d0887"
             ],
             [
              0.1111111111111111,
              "#46039f"
             ],
             [
              0.2222222222222222,
              "#7201a8"
             ],
             [
              0.3333333333333333,
              "#9c179e"
             ],
             [
              0.4444444444444444,
              "#bd3786"
             ],
             [
              0.5555555555555556,
              "#d8576b"
             ],
             [
              0.6666666666666666,
              "#ed7953"
             ],
             [
              0.7777777777777778,
              "#fb9f3a"
             ],
             [
              0.8888888888888888,
              "#fdca26"
             ],
             [
              1,
              "#f0f921"
             ]
            ],
            "type": "heatmapgl"
           }
          ],
          "histogram": [
           {
            "marker": {
             "pattern": {
              "fillmode": "overlay",
              "size": 10,
              "solidity": 0.2
             }
            },
            "type": "histogram"
           }
          ],
          "histogram2d": [
           {
            "colorbar": {
             "outlinewidth": 0,
             "ticks": ""
            },
            "colorscale": [
             [
              0,
              "#0d0887"
             ],
             [
              0.1111111111111111,
              "#46039f"
             ],
             [
              0.2222222222222222,
              "#7201a8"
             ],
             [
              0.3333333333333333,
              "#9c179e"
             ],
             [
              0.4444444444444444,
              "#bd3786"
             ],
             [
              0.5555555555555556,
              "#d8576b"
             ],
             [
              0.6666666666666666,
              "#ed7953"
             ],
             [
              0.7777777777777778,
              "#fb9f3a"
             ],
             [
              0.8888888888888888,
              "#fdca26"
             ],
             [
              1,
              "#f0f921"
             ]
            ],
            "type": "histogram2d"
           }
          ],
          "histogram2dcontour": [
           {
            "colorbar": {
             "outlinewidth": 0,
             "ticks": ""
            },
            "colorscale": [
             [
              0,
              "#0d0887"
             ],
             [
              0.1111111111111111,
              "#46039f"
             ],
             [
              0.2222222222222222,
              "#7201a8"
             ],
             [
              0.3333333333333333,
              "#9c179e"
             ],
             [
              0.4444444444444444,
              "#bd3786"
             ],
             [
              0.5555555555555556,
              "#d8576b"
             ],
             [
              0.6666666666666666,
              "#ed7953"
             ],
             [
              0.7777777777777778,
              "#fb9f3a"
             ],
             [
              0.8888888888888888,
              "#fdca26"
             ],
             [
              1,
              "#f0f921"
             ]
            ],
            "type": "histogram2dcontour"
           }
          ],
          "mesh3d": [
           {
            "colorbar": {
             "outlinewidth": 0,
             "ticks": ""
            },
            "type": "mesh3d"
           }
          ],
          "parcoords": [
           {
            "line": {
             "colorbar": {
              "outlinewidth": 0,
              "ticks": ""
             }
            },
            "type": "parcoords"
           }
          ],
          "pie": [
           {
            "automargin": true,
            "type": "pie"
           }
          ],
          "scatter": [
           {
            "fillpattern": {
             "fillmode": "overlay",
             "size": 10,
             "solidity": 0.2
            },
            "type": "scatter"
           }
          ],
          "scatter3d": [
           {
            "line": {
             "colorbar": {
              "outlinewidth": 0,
              "ticks": ""
             }
            },
            "marker": {
             "colorbar": {
              "outlinewidth": 0,
              "ticks": ""
             }
            },
            "type": "scatter3d"
           }
          ],
          "scattercarpet": [
           {
            "marker": {
             "colorbar": {
              "outlinewidth": 0,
              "ticks": ""
             }
            },
            "type": "scattercarpet"
           }
          ],
          "scattergeo": [
           {
            "marker": {
             "colorbar": {
              "outlinewidth": 0,
              "ticks": ""
             }
            },
            "type": "scattergeo"
           }
          ],
          "scattergl": [
           {
            "marker": {
             "colorbar": {
              "outlinewidth": 0,
              "ticks": ""
             }
            },
            "type": "scattergl"
           }
          ],
          "scattermapbox": [
           {
            "marker": {
             "colorbar": {
              "outlinewidth": 0,
              "ticks": ""
             }
            },
            "type": "scattermapbox"
           }
          ],
          "scatterpolar": [
           {
            "marker": {
             "colorbar": {
              "outlinewidth": 0,
              "ticks": ""
             }
            },
            "type": "scatterpolar"
           }
          ],
          "scatterpolargl": [
           {
            "marker": {
             "colorbar": {
              "outlinewidth": 0,
              "ticks": ""
             }
            },
            "type": "scatterpolargl"
           }
          ],
          "scatterternary": [
           {
            "marker": {
             "colorbar": {
              "outlinewidth": 0,
              "ticks": ""
             }
            },
            "type": "scatterternary"
           }
          ],
          "surface": [
           {
            "colorbar": {
             "outlinewidth": 0,
             "ticks": ""
            },
            "colorscale": [
             [
              0,
              "#0d0887"
             ],
             [
              0.1111111111111111,
              "#46039f"
             ],
             [
              0.2222222222222222,
              "#7201a8"
             ],
             [
              0.3333333333333333,
              "#9c179e"
             ],
             [
              0.4444444444444444,
              "#bd3786"
             ],
             [
              0.5555555555555556,
              "#d8576b"
             ],
             [
              0.6666666666666666,
              "#ed7953"
             ],
             [
              0.7777777777777778,
              "#fb9f3a"
             ],
             [
              0.8888888888888888,
              "#fdca26"
             ],
             [
              1,
              "#f0f921"
             ]
            ],
            "type": "surface"
           }
          ],
          "table": [
           {
            "cells": {
             "fill": {
              "color": "#EBF0F8"
             },
             "line": {
              "color": "white"
             }
            },
            "header": {
             "fill": {
              "color": "#C8D4E3"
             },
             "line": {
              "color": "white"
             }
            },
            "type": "table"
           }
          ]
         },
         "layout": {
          "annotationdefaults": {
           "arrowcolor": "#2a3f5f",
           "arrowhead": 0,
           "arrowwidth": 1
          },
          "autotypenumbers": "strict",
          "coloraxis": {
           "colorbar": {
            "outlinewidth": 0,
            "ticks": ""
           }
          },
          "colorscale": {
           "diverging": [
            [
             0,
             "#8e0152"
            ],
            [
             0.1,
             "#c51b7d"
            ],
            [
             0.2,
             "#de77ae"
            ],
            [
             0.3,
             "#f1b6da"
            ],
            [
             0.4,
             "#fde0ef"
            ],
            [
             0.5,
             "#f7f7f7"
            ],
            [
             0.6,
             "#e6f5d0"
            ],
            [
             0.7,
             "#b8e186"
            ],
            [
             0.8,
             "#7fbc41"
            ],
            [
             0.9,
             "#4d9221"
            ],
            [
             1,
             "#276419"
            ]
           ],
           "sequential": [
            [
             0,
             "#0d0887"
            ],
            [
             0.1111111111111111,
             "#46039f"
            ],
            [
             0.2222222222222222,
             "#7201a8"
            ],
            [
             0.3333333333333333,
             "#9c179e"
            ],
            [
             0.4444444444444444,
             "#bd3786"
            ],
            [
             0.5555555555555556,
             "#d8576b"
            ],
            [
             0.6666666666666666,
             "#ed7953"
            ],
            [
             0.7777777777777778,
             "#fb9f3a"
            ],
            [
             0.8888888888888888,
             "#fdca26"
            ],
            [
             1,
             "#f0f921"
            ]
           ],
           "sequentialminus": [
            [
             0,
             "#0d0887"
            ],
            [
             0.1111111111111111,
             "#46039f"
            ],
            [
             0.2222222222222222,
             "#7201a8"
            ],
            [
             0.3333333333333333,
             "#9c179e"
            ],
            [
             0.4444444444444444,
             "#bd3786"
            ],
            [
             0.5555555555555556,
             "#d8576b"
            ],
            [
             0.6666666666666666,
             "#ed7953"
            ],
            [
             0.7777777777777778,
             "#fb9f3a"
            ],
            [
             0.8888888888888888,
             "#fdca26"
            ],
            [
             1,
             "#f0f921"
            ]
           ]
          },
          "colorway": [
           "#636efa",
           "#EF553B",
           "#00cc96",
           "#ab63fa",
           "#FFA15A",
           "#19d3f3",
           "#FF6692",
           "#B6E880",
           "#FF97FF",
           "#FECB52"
          ],
          "font": {
           "color": "#2a3f5f"
          },
          "geo": {
           "bgcolor": "white",
           "lakecolor": "white",
           "landcolor": "#E5ECF6",
           "showlakes": true,
           "showland": true,
           "subunitcolor": "white"
          },
          "hoverlabel": {
           "align": "left"
          },
          "hovermode": "closest",
          "mapbox": {
           "style": "light"
          },
          "paper_bgcolor": "white",
          "plot_bgcolor": "#E5ECF6",
          "polar": {
           "angularaxis": {
            "gridcolor": "white",
            "linecolor": "white",
            "ticks": ""
           },
           "bgcolor": "#E5ECF6",
           "radialaxis": {
            "gridcolor": "white",
            "linecolor": "white",
            "ticks": ""
           }
          },
          "scene": {
           "xaxis": {
            "backgroundcolor": "#E5ECF6",
            "gridcolor": "white",
            "gridwidth": 2,
            "linecolor": "white",
            "showbackground": true,
            "ticks": "",
            "zerolinecolor": "white"
           },
           "yaxis": {
            "backgroundcolor": "#E5ECF6",
            "gridcolor": "white",
            "gridwidth": 2,
            "linecolor": "white",
            "showbackground": true,
            "ticks": "",
            "zerolinecolor": "white"
           },
           "zaxis": {
            "backgroundcolor": "#E5ECF6",
            "gridcolor": "white",
            "gridwidth": 2,
            "linecolor": "white",
            "showbackground": true,
            "ticks": "",
            "zerolinecolor": "white"
           }
          },
          "shapedefaults": {
           "line": {
            "color": "#2a3f5f"
           }
          },
          "ternary": {
           "aaxis": {
            "gridcolor": "white",
            "linecolor": "white",
            "ticks": ""
           },
           "baxis": {
            "gridcolor": "white",
            "linecolor": "white",
            "ticks": ""
           },
           "bgcolor": "#E5ECF6",
           "caxis": {
            "gridcolor": "white",
            "linecolor": "white",
            "ticks": ""
           }
          },
          "title": {
           "x": 0.05
          },
          "xaxis": {
           "automargin": true,
           "gridcolor": "white",
           "linecolor": "white",
           "ticks": "",
           "title": {
            "standoff": 15
           },
           "zerolinecolor": "white",
           "zerolinewidth": 2
          },
          "yaxis": {
           "automargin": true,
           "gridcolor": "white",
           "linecolor": "white",
           "ticks": "",
           "title": {
            "standoff": 15
           },
           "zerolinecolor": "white",
           "zerolinewidth": 2
          }
         }
        }
       }
      }
     },
     "metadata": {},
     "output_type": "display_data"
    }
   ],
   "source": [
    "fig = px.scatter_geo(plot_country_data(df, 'Nicaragua', 2021, 1000), locations=\"iso\",\n",
    "                     size=\"newarrival\",\n",
    "                     #projection=\"natural earth\",\n",
    "                     color = 'location'\n",
    "                     )\n",
    "\n",
    "fig.update_geos(\n",
    "    visible=True, resolution=50,\n",
    "    showcountries=True, countrycolor=\"RebeccaPurple\")\n",
    "fig.show()"
   ]
  }
 ],
 "metadata": {
  "kernelspec": {
   "display_name": "base",
   "language": "python",
   "name": "python3"
  },
  "language_info": {
   "codemirror_mode": {
    "name": "ipython",
    "version": 3
   },
   "file_extension": ".py",
   "mimetype": "text/x-python",
   "name": "python",
   "nbconvert_exporter": "python",
   "pygments_lexer": "ipython3",
   "version": "3.11.3"
  },
  "orig_nbformat": 4
 },
 "nbformat": 4,
 "nbformat_minor": 2
}
